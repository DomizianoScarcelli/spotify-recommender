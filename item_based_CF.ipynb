{
  "cells": [
    {
      "attachments": {},
      "cell_type": "markdown",
      "metadata": {
        "colab_type": "text",
        "id": "view-in-github"
      },
      "source": [
        "<a href=\"https://colab.research.google.com/github/DomizianoScarcelli/big-data-project/blob/item-based-cf/item_based_CF.ipynb\" target=\"_parent\"><img src=\"https://colab.research.google.com/assets/colab-badge.svg\" alt=\"Open In Colab\"/></a>"
      ]
    },
    {
      "attachments": {},
      "cell_type": "markdown",
      "metadata": {
        "id": "KOojFseRjVnN"
      },
      "source": [
        "# Configuration"
      ]
    },
    {
      "cell_type": "code",
      "execution_count": 1,
      "metadata": {},
      "outputs": [],
      "source": [
        "import os\n",
        "def is_running_on_colab():\n",
        "    return \"COLAB_GPU\" in os.environ\n",
        "\n",
        "LOCAL = not is_running_on_colab()"
      ]
    },
    {
      "cell_type": "code",
      "execution_count": 2,
      "metadata": {
        "colab": {
          "base_uri": "https://localhost:8080/"
        },
        "id": "N3wVgRfHYoOs",
        "outputId": "5968f690-8fb9-4811-f6dc-e301c0022db0"
      },
      "outputs": [],
      "source": [
        "#@title Download necessary libraries\n",
        "if not LOCAL:\n",
        "    !pip install pyspark -qq\n",
        "    !pip install -U -q PyDrive -qq\n",
        "    !apt install openjdk-8-jdk-headless -qq"
      ]
    },
    {
      "cell_type": "code",
      "execution_count": 3,
      "metadata": {
        "cellView": "form",
        "id": "CGHPv9OqY9MI"
      },
      "outputs": [],
      "source": [
        "#@title Imports\n",
        "import numpy as np\n",
        "import json\n",
        "\n",
        "import pyspark\n",
        "import pyspark.sql.functions as F\n",
        "from pyspark.sql import SparkSession, DataFrame\n",
        "from pyspark.sql.types import StructType, StructField, StringType, IntegerType, ArrayType, FloatType, LongType\n",
        "from pyspark import SparkContext, SparkConf\n",
        "from pyspark.ml.linalg import SparseVector, VectorUDT\n",
        "\n",
        "from tqdm.notebook import tqdm\n",
        "import time\n",
        "import gc\n",
        "\n",
        "if not LOCAL:\n",
        "    from google.colab import drive\n",
        "\n",
        "from typing import Tuple, Dict, List\n",
        "from functools import reduce"
      ]
    },
    {
      "cell_type": "code",
      "execution_count": 4,
      "metadata": {
        "id": "JF8LUBZeYiWP"
      },
      "outputs": [],
      "source": [
        "#@title Set up variables\n",
        "if not LOCAL:\n",
        "    JAVA_HOME = \"/usr/lib/jvm/java-8-openjdk-amd64\"\n",
        "    GDRIVE_DIR = \"/content/drive\"\n",
        "    GDRIVE_HOME_DIR = GDRIVE_DIR + \"/MyDrive\"\n",
        "    GDRIVE_DATA_DIR = GDRIVE_HOME_DIR + \"/Big Data/datasets\"\n",
        "    DATASET_FILE = os.path.join(GDRIVE_DATA_DIR, \"pyspark_friendly_spotify_playlist_dataset\")\n",
        "    AUDIO_FEATURES_FILE = os.path.join(GDRIVE_DATA_DIR, \"pyspark_track_features\")\n",
        "    LITTLE_SLICE_FILE = os.path.join(GDRIVE_DATA_DIR, \"little_slice\")\n",
        "    SMALL_SLICE_FLIE = os.path.join(GDRIVE_DATA_DIR, \"small_slice\")\n",
        "    LITTLE_SLICE_AUDIO_FEATURES = os.path.join(GDRIVE_DATA_DIR, \"little_slice_audio_features\")\n",
        "    MICRO_SLICE_AUDIO_FEATURES = os.path.join(GDRIVE_DATA_DIR, \"micro_slice_audio_features\")\n",
        "    SPLITTED_SLICE_AUDIO_FEATURES = os.path.join(GDRIVE_DATA_DIR, \"splitted_pyspark_track_features\")\n",
        "    SAVED_DFS_PATH = os.path.join(GDRIVE_DATA_DIR, \"saved_dfs\")\n",
        "    SAVED_MODELS = os.path.join(GDRIVE_DATA_DIR, \"saved_models\")\n",
        "else:\n",
        "    GDRIVE_DATA_DIR = os.path.abspath(\"./data\")\n",
        "    SAVED_DFS_PATH = os.path.join(GDRIVE_DATA_DIR, \"saved_dfs\")\n",
        "    SAVED_MODELS = os.path.join(GDRIVE_DATA_DIR, \"saved_models\")\n",
        "    DATASET_FILE = os.path.join(GDRIVE_DATA_DIR, \"full_dataset\")\n",
        "    SMALL_SLICE_FLIE = os.path.join(GDRIVE_DATA_DIR, \"small_slice\")\n",
        "    JAVA_HOME = \"/opt/homebrew/opt/openjdk\"\n",
        "RANDOM_SEED = 42 # for reproducibility\n",
        "os.environ[\"JAVA_HOME\"] = JAVA_HOME\n",
        "os.environ[\"PYSPARK_PYTHON\"]=\"python\""
      ]
    },
    {
      "cell_type": "code",
      "execution_count": 5,
      "metadata": {
        "id": "4m7VztzdZgm6"
      },
      "outputs": [
        {
          "name": "stderr",
          "output_type": "stream",
          "text": [
            "23/06/28 00:12:55 WARN Utils: Your hostname, MacBook-Air-di-Domiziano.local resolves to a loopback address: 127.0.0.1; using 192.168.1.175 instead (on interface en0)\n",
            "23/06/28 00:12:55 WARN Utils: Set SPARK_LOCAL_IP if you need to bind to another address\n",
            "Setting default log level to \"WARN\".\n",
            "To adjust logging level use sc.setLogLevel(newLevel). For SparkR, use setLogLevel(newLevel).\n",
            "23/06/28 00:12:55 WARN NativeCodeLoader: Unable to load native-hadoop library for your platform... using builtin-java classes where applicable\n"
          ]
        }
      ],
      "source": [
        "#@title Create the session\n",
        "conf = SparkConf().\\\n",
        "                set('spark.ui.port', \"4050\").\\\n",
        "                set('spark.executor.memory', '12G').\\\n",
        "                set('spark.driver.memory', '12G').\\\n",
        "                set('spark.driver.maxResultSize', '100G').\\\n",
        "                set(\"spark.executor.extraJavaOptions\", \"-XX:+UseG1GC\").\\\n",
        "                setAppName(\"PySparkTutorial\").\\\n",
        "                setMaster(\"local[*]\")\n",
        "\n",
        "# Create the context\n",
        "sc = pyspark.SparkContext(conf=conf)\n",
        "spark = SparkSession.builder.getOrCreate()"
      ]
    },
    {
      "cell_type": "code",
      "execution_count": 6,
      "metadata": {
        "colab": {
          "base_uri": "https://localhost:8080/"
        },
        "id": "vsX5d-YXZ2Ul",
        "outputId": "c30f0d6f-6673-49ea-88ab-39166ef7cbf0"
      },
      "outputs": [],
      "source": [
        "if not LOCAL:\n",
        "    drive.mount(GDRIVE_DIR, force_remount=True)"
      ]
    },
    {
      "cell_type": "code",
      "execution_count": 7,
      "metadata": {
        "cellView": "form",
        "colab": {
          "base_uri": "https://localhost:8080/"
        },
        "id": "jlxfJiBSZ6ju",
        "outputId": "f19702e4-4511-449b-fa52-afd7e4aadd4d"
      },
      "outputs": [
        {
          "data": {
            "text/plain": [
              "(<pyspark.sql.session.SparkSession at 0x1539b9480>,\n",
              " [('spark.executor.extraJavaOptions',\n",
              "   '-Djava.net.preferIPv6Addresses=false -XX:+IgnoreUnrecognizedVMOptions --add-opens=java.base/java.lang=ALL-UNNAMED --add-opens=java.base/java.lang.invoke=ALL-UNNAMED --add-opens=java.base/java.lang.reflect=ALL-UNNAMED --add-opens=java.base/java.io=ALL-UNNAMED --add-opens=java.base/java.net=ALL-UNNAMED --add-opens=java.base/java.nio=ALL-UNNAMED --add-opens=java.base/java.util=ALL-UNNAMED --add-opens=java.base/java.util.concurrent=ALL-UNNAMED --add-opens=java.base/java.util.concurrent.atomic=ALL-UNNAMED --add-opens=java.base/sun.nio.ch=ALL-UNNAMED --add-opens=java.base/sun.nio.cs=ALL-UNNAMED --add-opens=java.base/sun.security.action=ALL-UNNAMED --add-opens=java.base/sun.util.calendar=ALL-UNNAMED --add-opens=java.security.jgss/sun.security.krb5=ALL-UNNAMED -Djdk.reflect.useDirectMethodHandle=false -XX:+UseG1GC'),\n",
              "  ('spark.app.startTime', '1687903975567'),\n",
              "  ('spark.app.name', 'PySparkTutorial'),\n",
              "  ('spark.driver.host', '192.168.1.175'),\n",
              "  ('spark.driver.port', '49487'),\n",
              "  ('spark.executor.id', 'driver'),\n",
              "  ('spark.app.submitTime', '1687903975442'),\n",
              "  ('spark.driver.extraJavaOptions',\n",
              "   '-Djava.net.preferIPv6Addresses=false -XX:+IgnoreUnrecognizedVMOptions --add-opens=java.base/java.lang=ALL-UNNAMED --add-opens=java.base/java.lang.invoke=ALL-UNNAMED --add-opens=java.base/java.lang.reflect=ALL-UNNAMED --add-opens=java.base/java.io=ALL-UNNAMED --add-opens=java.base/java.net=ALL-UNNAMED --add-opens=java.base/java.nio=ALL-UNNAMED --add-opens=java.base/java.util=ALL-UNNAMED --add-opens=java.base/java.util.concurrent=ALL-UNNAMED --add-opens=java.base/java.util.concurrent.atomic=ALL-UNNAMED --add-opens=java.base/sun.nio.ch=ALL-UNNAMED --add-opens=java.base/sun.nio.cs=ALL-UNNAMED --add-opens=java.base/sun.security.action=ALL-UNNAMED --add-opens=java.base/sun.util.calendar=ALL-UNNAMED --add-opens=java.security.jgss/sun.security.krb5=ALL-UNNAMED -Djdk.reflect.useDirectMethodHandle=false'),\n",
              "  ('spark.ui.port', '4050'),\n",
              "  ('spark.app.id', 'local-1687903976025'),\n",
              "  ('spark.rdd.compress', 'True'),\n",
              "  ('spark.driver.memory', '12G'),\n",
              "  ('spark.serializer.objectStreamReset', '100'),\n",
              "  ('spark.master', 'local[*]'),\n",
              "  ('spark.submit.pyFiles', ''),\n",
              "  ('spark.driver.maxResultSize', '100G'),\n",
              "  ('spark.submit.deployMode', 'client'),\n",
              "  ('spark.executor.memory', '12G'),\n",
              "  ('spark.ui.showConsoleProgress', 'true')])"
            ]
          },
          "execution_count": 7,
          "metadata": {},
          "output_type": "execute_result"
        }
      ],
      "source": [
        "#@title Check if everything is ok\n",
        "spark, sc._conf.getAll()\n"
      ]
    },
    {
      "attachments": {},
      "cell_type": "markdown",
      "metadata": {
        "id": "VJeY9PpvaHUJ"
      },
      "source": [
        "# Data acquisition"
      ]
    },
    {
      "cell_type": "code",
      "execution_count": 8,
      "metadata": {
        "id": "icd2lj-RRvhU"
      },
      "outputs": [],
      "source": [
        "song_schema = StructType([\n",
        "    StructField(\"pos\", IntegerType(), True),\n",
        "    StructField(\"artist_name\", StringType(), True),\n",
        "    StructField(\"track_uri\", StringType(), True),\n",
        "    StructField(\"artist_uri\", StringType(), True),\n",
        "    StructField(\"track_name\", StringType(), True),\n",
        "    StructField(\"album_uri\", StringType(), True),\n",
        "    StructField(\"duration_ms\", LongType(), True),\n",
        "    StructField(\"album_name\", StringType(), True)\n",
        "])\n",
        "\n",
        "playlist_schema = StructType([\n",
        "    StructField(\"name\", StringType(), True),\n",
        "    StructField(\"collaborative\", StringType(), True),\n",
        "    StructField(\"pid\", IntegerType(), True),\n",
        "    StructField(\"modified_at\", IntegerType(), True),\n",
        "    StructField(\"num_tracks\", IntegerType(), True),\n",
        "    StructField(\"num_albums\", IntegerType(), True),\n",
        "    StructField(\"num_followers\", IntegerType(), True),\n",
        "    StructField(\"tracks\", ArrayType(song_schema), True),\n",
        "    StructField(\"num_edits\", IntegerType(), True),\n",
        "    StructField(\"duration_ms\", IntegerType(), True),\n",
        "    StructField(\"num_artists\", IntegerType(), True),\n",
        "])\n",
        "\n",
        "playlist_schema_mapped = StructType([\n",
        "    StructField(\"name\", StringType(), True),\n",
        "    StructField(\"collaborative\", StringType(), True),\n",
        "    StructField(\"pid\", IntegerType(), True),\n",
        "    StructField(\"modified_at\", IntegerType(), True),\n",
        "    StructField(\"num_tracks\", IntegerType(), True),\n",
        "    StructField(\"num_albums\", IntegerType(), True),\n",
        "    StructField(\"num_followers\", IntegerType(), True),\n",
        "    StructField(\"tracks\", VectorUDT(), True),\n",
        "    StructField(\"num_edits\", IntegerType(), True),\n",
        "    StructField(\"duration_ms\", IntegerType(), True),\n",
        "    StructField(\"num_artists\", IntegerType(), True),\n",
        "])\n",
        "\n",
        "audio_features_schema = StructType([\n",
        "    StructField(\"danceability\", FloatType(), True),\n",
        "    StructField(\"energy\", FloatType(), True),\n",
        "    StructField(\"key\", IntegerType(), True),\n",
        "    StructField(\"loudness\", FloatType(), True),\n",
        "    StructField(\"mode\", IntegerType(), True),\n",
        "    StructField(\"speechiness\", FloatType(), True),\n",
        "    StructField(\"acousticness\", FloatType(), True),\n",
        "    StructField(\"instrumentalness\", FloatType(), True),\n",
        "    StructField(\"liveness\", FloatType(), True),\n",
        "    StructField(\"valence\", FloatType(), True),\n",
        "    StructField(\"tempo\", FloatType(), True),\n",
        "    StructField(\"type\", StringType(), True),\n",
        "    StructField(\"id\", StringType(), True),\n",
        "    StructField(\"uri\", StringType(), True),\n",
        "    StructField(\"track_href\", StringType(), True),\n",
        "    StructField(\"analysis_url\", StringType(), True),\n",
        "    StructField(\"duration_ms\", LongType(), True),\n",
        "    StructField(\"time_signature\", IntegerType(), True)\n",
        "])\n",
        "\n",
        "\n"
      ]
    },
    {
      "cell_type": "code",
      "execution_count": 9,
      "metadata": {
        "id": "BY_szFyLTps4"
      },
      "outputs": [],
      "source": [
        "# playlist_df = spark.read.schema(playlist_schema).json(DATASET_FILE, multiLine=True)\n",
        "slice_df = spark.read.schema(playlist_schema).json(SMALL_SLICE_FLIE, multiLine=True)\n",
        "# slice_df = spark.read.schema(playlist_schema).json(LITTLE_SLICE_FILE, multiLine=True)\n",
        "# audio_df = spark.read.schema(audio_features_schema).json(SPLITTED_SLICE_AUDIO_FEATURES, multiLine=True) #has less songs than expected"
      ]
    },
    {
      "attachments": {},
      "cell_type": "markdown",
      "metadata": {
        "id": "p211b9samoI9"
      },
      "source": [
        "# Item-Based Collaborative Filtering"
      ]
    },
    {
      "attachments": {},
      "cell_type": "markdown",
      "metadata": {
        "id": "1pR8c5Ro5_DI"
      },
      "source": [
        "Item-Based Collaboartive Filtering is the \"transpose\" approach to user-based CF. This time we won't consider the users' feature vectors, but the items'.\n",
        "An item's rating vector $\\mathbf{r}_i$ is the vector of ratings given to the item $i$ for all the users.\n",
        "\n",
        "Let $m$ be the number of users, $n$ the number of playlists, then $\\mathbf{r}_i \\in \\mathbb{R}^m$ and $\\mathbf{R} \\in \\mathbb{R}^{m \\times n}$.\n",
        "\n",
        "In order to make a prediction, we take the set of items $I_u$ rated by the user $u$, and we compute the set $I^k_u$ of the top-$k$ most similar items to $i$ rated by $u$, for each item $i \\in I_u$. Once done that, we average the $k$ rating vectors weighting them by their respective similarity."
      ]
    },
    {
      "cell_type": "code",
      "execution_count": 10,
      "metadata": {
        "id": "wSg4hiaeewgY"
      },
      "outputs": [],
      "source": [
        "DEBUG = False"
      ]
    },
    {
      "cell_type": "code",
      "execution_count": 11,
      "metadata": {
        "id": "dXUCLE9XSKsi"
      },
      "outputs": [
        {
          "name": "stderr",
          "output_type": "stream",
          "text": [
            "                                                                                \r"
          ]
        }
      ],
      "source": [
        "NUM_PLAYLISTS = 100_000\n",
        "SONGS_EMBEDDINGS_PATH = os.path.join(SAVED_DFS_PATH, f\"songs_embeddings-train-{NUM_PLAYLISTS}.json\")\n",
        "SONGS_INFO_DF = os.path.join(SAVED_DFS_PATH, f\"songs_info_df-train-{NUM_PLAYLISTS}.json\") #TODO: Little bug this is songs_df, meaning it hasn't got any info, but we don't actually care.\n",
        "RATING_VECTOR_LENGTH_PATH = os.path.join(SAVED_DFS_PATH, f\"songs_vector_length-{NUM_PLAYLISTS}.txt\")\n",
        "with open(RATING_VECTOR_LENGTH_PATH, \"r\") as f:\n",
        "  RATING_VECTOR_LENGTH = int(f.read())\n",
        "\n",
        "songs_embeddings = spark.read.schema(playlist_schema_mapped).json(SONGS_EMBEDDINGS_PATH)\n",
        "songs_df = spark.read.json(SONGS_INFO_DF)\n",
        "\n",
        "playlist_map_schema = StructType([\n",
        "    StructField(\"track_uri\", StringType(), True),\n",
        "    StructField(\"embedding\", VectorUDT(), True)\n",
        "])\n",
        "PLAYLIST_MAP_PATH = os.path.join(SAVED_DFS_PATH, f\"playlist_map-{NUM_PLAYLISTS}.json\")\n",
        "playlist_map = spark.read.schema(playlist_map_schema).json(PLAYLIST_MAP_PATH)"
      ]
    },
    {
      "cell_type": "code",
      "execution_count": 12,
      "metadata": {
        "id": "HnchIh93YdaU"
      },
      "outputs": [],
      "source": [
        "TRAIN_DF_PATH = os.path.join(SAVED_DFS_PATH, f\"train_df-{NUM_PLAYLISTS}.json\")\n",
        "TEST_DF_PATH = os.path.join(SAVED_DFS_PATH, f\"test_df-{NUM_PLAYLISTS}.json\")\n",
        "\n",
        "train_df = spark.read.schema(playlist_schema).json(TRAIN_DF_PATH)\n",
        "test_df = spark.read.schema(playlist_schema).json(TEST_DF_PATH)"
      ]
    },
    {
      "cell_type": "code",
      "execution_count": 13,
      "metadata": {
        "id": "eaPyxrxMZClT"
      },
      "outputs": [],
      "source": [
        "def jaccard_similarity(vector_1: SparseVector, vector_2: SparseVector) -> float:\n",
        "  \"\"\"\n",
        "  Computes the Jaccard Similarity between two sparse binary vectors\n",
        "  \"\"\"\n",
        "  # Convert SparseVectors to sets\n",
        "  set1 = set(vector_1.indices)\n",
        "  set2 = set(vector_2.indices)\n",
        "\n",
        "  # Calculate the intersection and union of the sets\n",
        "  intersection = len(set1.intersection(set2))\n",
        "  union = len(set1.union(set2))\n",
        "\n",
        "  # Calculate the similarity\n",
        "  similarity = intersection / union\n",
        "\n",
        "  return similarity"
      ]
    },
    {
      "attachments": {},
      "cell_type": "markdown",
      "metadata": {
        "id": "Z2QVHgY4WRJX"
      },
      "source": [
        "The similarity between each couple is intractable, we can cluster the similar tracks in buckets using Locally Sensitive Hashing."
      ]
    },
    {
      "cell_type": "code",
      "execution_count": 14,
      "metadata": {
        "colab": {
          "base_uri": "https://localhost:8080/"
        },
        "id": "roOL0ckQgNKP",
        "outputId": "1b290c0c-07b4-4bfa-ede4-da4347b89895"
      },
      "outputs": [
        {
          "name": "stdout",
          "output_type": "stream",
          "text": [
            "+------------------------------------+---------------------------------------------------------------------------------+---------------------------------------------------------------------------------------------------------------------------------------------------------------------+\n",
            "|track_uri                           |embedding                                                                        |hashes                                                                                                                                                               |\n",
            "+------------------------------------+---------------------------------------------------------------------------------+---------------------------------------------------------------------------------------------------------------------------------------------------------------------+\n",
            "|spotify:track:001BVhvaZTf2icV88rU3DA|(100001,[7109,25065,41600,60248,61080,65885,70937],[1.0,1.0,1.0,1.0,1.0,1.0,1.0])|[[4.00933355E8], [4.2872879E7], [1.7747882E7], [6.5529407E7], [2.06200881E8], [9.0598778E7], [2.94620014E8], [1.30281495E8], [1.82888734E8], [1.79461294E8]]         |\n",
            "|spotify:track:001FDA7MOimDoqBXGacavu|(100001,[80892],[1.0])                                                           |[[2.28862656E8], [1.39707995E9], [1.541290713E9], [1.706772564E9], [1.778831741E9], [7.10558364E8], [6.53675556E8], [1.834078889E9], [4.95048196E8], [7.31685626E8]] |\n",
            "|spotify:track:001PiA7wBB842OidKuKCV2|(100001,[50317,63461],[1.0,1.0])                                                 |[[9.52539516E8], [8.6186697E7], [1.9593101E8], [8.53174899E8], [1.008077391E9], [1.91506357E8], [3.30202126E8], [2.33746647E8], [9.32353072E8], [9.5608732E8]]       |\n",
            "|spotify:track:0039z1iKWagN3YYLw1Qqi9|(100001,[7021],[1.0])                                                            |[[7.94067528E8], [4.10674645E8], [1.853799798E9], [1.919475029E9], [1.098160612E9], [1.86712026E8], [5.19395916E8], [1.813054792E9], [2.40302232E8], [2.86275201E8]] |\n",
            "|spotify:track:003CT3fPlZFHo500jSJthh|(100001,[52415],[1.0])                                                           |[[1.97797242E9], [1.327125066E9], [1.701352963E9], [1.480675008E9], [1.90252502E9], [7.7253403E7], [1.708559539E9], [1.17816421E8], [1.219705753E9], [1.323249096E9]]|\n",
            "|spotify:track:0046NsE3QgADqnrV1NDhzJ|(100001,[44691,88308],[1.0,1.0])                                                 |[[9.8794673E8], [9.634187E7], [7.70818516E8], [3.14822389E8], [5.4462769E8], [4.86147892E8], [2.66526803E8], [1.88785869E8], [1.151349353E9], [9.99959825E8]]        |\n",
            "|spotify:track:004CeZtRE4wBNmL0eKk56R|(100001,[78197],[1.0])                                                           |[[1.796434206E9], [3.7131485E8], [4.1941953E8], [1.803178018E9], [7.49349774E8], [7.6792563E8], [1.84500857E9], [1.547483144E9], [1.069192667E9], [1.172568778E9]]   |\n",
            "|spotify:track:004NPTN9NrUPXnAOBQWW9W|(100001,[4159],[1.0])                                                            |[[1.551284628E9], [4.89741718E8], [7.017347E8], [1.170324843E9], [5.3274272E8], [1.836500579E9], [1.613640886E9], [1.361232307E9], [4.27284679E8], [1.444171953E9]]  |\n",
            "|spotify:track:005PhwLfFyij1gNvlxeHds|(100001,[85373],[1.0])                                                           |[[1.02924638E8], [7.24244457E8], [2.021954875E9], [9.6760645E7], [1.286868436E9], [4.9503586E7], [1.476984614E9], [1.898451727E9], [6.68727655E8], [6.40675627E8]]   |\n",
            "|spotify:track:005c2319jh47WwCfezqhms|(100001,[5737,26524],[1.0,1.0])                                                  |[[5.6275443E7], [2.28239722E8], [4.86674421E8], [4.23221783E8], [7.97493419E8], [3.97054756E8], [1.33503974E9], [2.13179629E8], [8.02731194E8], [8.55760733E8]]      |\n",
            "|spotify:track:006irtbNebXAoxDseOQjq1|(100001,[40014],[1.0])                                                           |[[1.96900804E9], [1.065135309E9], [4.502271E7], [4938584.0], [1.739893572E9], [7.40524249E8], [1.516368782E9], [1.956364925E9], [8.20013348E8], [1.503708204E9]]     |\n",
            "|spotify:track:006yqigW4M16IRInOWX3sr|(100001,[53178],[1.0])                                                           |[[3.96020813E8], [6.11733364E8], [1.18535109E8], [5.11102284E8], [2.003415523E9], [5.26857417E8], [7.73084878E8], [7.01858075E8], [5.96603805E8], [1.574280377E9]]   |\n",
            "|spotify:track:007HyZl1LXuX1mR1JlRB3r|(100001,[5765],[1.0])                                                            |[[1.18019604E8], [1.641727689E9], [8.21245964E8], [9.29864269E8], [9.88175157E8], [8.62304388E8], [1.095033127E9], [5.33779285E8], [8.92052668E8], [1.74882222E8]]   |\n",
            "|spotify:track:007SutdC0rVG2CSkuQMtJw|(100001,[28490,29954,77877,81664,90888,98739],[1.0,1.0,1.0,1.0,1.0,1.0])         |[[2.96658045E8], [2.30611065E8], [6.0556718E7], [3.67831334E8], [4.8514827E7], [1.09243534E8], [2.1261802E7], [1.1789573E8], [1.7266551E8], [1.05678978E8]]          |\n",
            "|spotify:track:007ZqpuFhPQkSQDIQu0jTl|(100001,[24445],[1.0])                                                           |[[6.83237855E8], [4.29215452E8], [1.586960558E9], [1.48207463E8], [9.2579377E7], [5.89451625E8], [1.984240294E9], [1.295162377E9], [1.960375559E9], [1.312332007E9]] |\n",
            "|spotify:track:0087fDVeNhuyMtST91RMjv|(100001,[3054,15126,22409,51900,76553,77840],[1.0,1.0,1.0,1.0,1.0,1.0])          |[[4.42444855E8], [9.9408714E7], [4.24448075E8], [1.035892514E9], [3.26288513E8], [5.5777859E7], [3.19424714E8], [1.10656029E8], [1.3558944E7], [4.9343729E7]]        |\n",
            "|spotify:track:009aJqwtazpcpmOW3YbwDx|(100001,[12483,24103,58938,86619],[1.0,1.0,1.0,1.0])                             |[[6.7941117E8], [1.106326751E9], [2.32446905E8], [3.6451711E8], [3.83919961E8], [1.54686687E8], [3.1408975E8], [5.90263585E8], [5.67383762E8], [2.09209614E8]]       |\n",
            "|spotify:track:009n0zqtbcRTL7T4TiGf41|(100001,[63483],[1.0])                                                           |[[1.937983704E9], [4.61632015E8], [8.95538953E8], [1.503709458E9], [4.11758862E8], [8.48213174E8], [5.88812264E8], [1.94492842E8], [1.006477169E9], [5.19917308E8]]  |\n",
            "|spotify:track:00AJHbqsncKqA6FSnz5o5p|(100001,[75865],[1.0])                                                           |[[1.281162171E9], [2.020909117E9], [1.669743063E9], [5.8888535E8], [5.90575898E8], [4.5154429E8], [1.453383337E9], [1.632236988E9], [6.17674737E8], [5.30870961E8]]  |\n",
            "|spotify:track:00BsdsY1DUzykUTs9yyu4S|(100001,[65347],[1.0])                                                           |[[1.500358671E9], [5.16953534E8], [1.623082961E9], [1.544417008E9], [3805501.0], [1.831731743E9], [9.15827114E8], [5.74215442E8], [1.129664601E9], [6.20326164E8]]   |\n",
            "+------------------------------------+---------------------------------------------------------------------------------+---------------------------------------------------------------------------------------------------------------------------------------------------------------------+\n",
            "only showing top 20 rows\n",
            "\n"
          ]
        }
      ],
      "source": [
        "from pyspark.ml.feature import MinHashLSH, MinHashLSHModel\n",
        "\n",
        "NUM_HASH_TABLES = 10\n",
        "LSH_MODEL_PATH = os.path.join(SAVED_DFS_PATH, f\"lsh_model-{NUM_HASH_TABLES}-{NUM_PLAYLISTS}.pickle\")\n",
        "if os.path.exists(LSH_MODEL_PATH):\n",
        "  model = MinHashLSHModel.load(LSH_MODEL_PATH)\n",
        "else:\n",
        "  mh = MinHashLSH(inputCol=\"embedding\", outputCol=\"hashes\", numHashTables=NUM_HASH_TABLES)\n",
        "  model = mh.fit(playlist_map)\n",
        "  model.save(LSH_MODEL_PATH)\n",
        "\n",
        "model.transform(playlist_map).show(truncate=False)"
      ]
    },
    {
      "attachments": {},
      "cell_type": "markdown",
      "metadata": {
        "id": "Co6K7luPdWoO"
      },
      "source": [
        "Since the MinHasLSH model is not so fast, let's try with another type of LSH model"
      ]
    },
    {
      "cell_type": "code",
      "execution_count": 15,
      "metadata": {
        "id": "gv3f7k0vdbaO"
      },
      "outputs": [],
      "source": [
        "# from pyspark.ml.feature import BucketedRandomProjectionLSH, BucketedRandomProjectionLSHModel\n",
        "\n",
        "# BRP_LSH_MODEL_PATH = os.path.join(SAVED_DFS_PATH, f\"brp_lsh_model-{NUM_PLAYLISTS}.pickle\")\n",
        "# if os.path.exists(BRP_LSH_MODEL_PATH):\n",
        "#   model = BucketedRandomProjectionLSHModel.load(BRP_LSH_MODEL_PATH)\n",
        "# else:\n",
        "#   brp = BucketedRandomProjectionLSH(inputCol=\"embedding\", outputCol=\"hashes\", numHashTables=5, bucketLength=1.0)\n",
        "#   model = brp.fit(playlist_map)\n",
        "#   model.save(BRP_LSH_MODEL_PATH)\n",
        "\n",
        "# model.transform(playlist_map).show()"
      ]
    },
    {
      "cell_type": "code",
      "execution_count": 16,
      "metadata": {
        "id": "rPFF6Xwj8wed"
      },
      "outputs": [],
      "source": [
        "# #TODO: Remove this once tested\n",
        "# def transform_to_aggregate(df: DataFrame) -> DataFrame:\n",
        "#   \"\"\"\n",
        "#   Transforms the dataframe in order to be compatible for the union with an aggregate df.\n",
        "#   \"\"\"\n",
        "#   return df.withColumn(\"sum\", F.col(\"distCol\")).withColumnRenamed(\"distCol\", \"squared_sum\")\n",
        "\n",
        "# def merge_aggregate_df(aggregate_df: DataFrame, other_df: DataFrame) -> DataFrame:\n",
        "#   \"\"\"\n",
        "#   Sums an aggregate df (track_uri, embedding, hashes, squared_sum, sum)\n",
        "#   with a simple df (track_uri, embedding, hashes, distCol).\n",
        "#   \"\"\"\n",
        "#   other_df = transform_to_aggregate(other_df)\n",
        "#   merged_df = aggregate_df.unionAll(other_df)\n",
        "#   return merged_df.groupBy(\"track_uri\", \"embedding\", \"hashes\").agg(\n",
        "#     F.sum(F.pow(\"squared_sum\", 2)).alias(\"squared_sum\"),\n",
        "#     F.sum(\"sum\").alias(\"sum\"))\n",
        "\n",
        "# if DEBUG:\n",
        "#   key = playlist_map.first()[1]\n",
        "#   neigh = model.approxNearestNeighbors(playlist_map, key, 10)\n",
        "#   merged_df_2 = merge_aggregate_df(transform_to_aggregate(neigh), neigh)\n",
        "#   merged_df_2.show() "
      ]
    },
    {
      "cell_type": "code",
      "execution_count": 17,
      "metadata": {
        "id": "XmUp55bUg8f9"
      },
      "outputs": [],
      "source": [
        "def df_to_dict(df: DataFrame) -> DataFrame:\n",
        "  return df.select(\"track_uri\", \"distCol\").rdd.collectAsMap()\n",
        "\n",
        "def merge_dicts(d1: Dict[str, float], d2: Dict[str, float]) -> Dict[str, float]:\n",
        "  for key, value in d2.items():\n",
        "    if key in d1:\n",
        "      if type(d1[key]) is float:\n",
        "        d1[key] = [d1[key]]\n",
        "      d1[key] += [value]\n",
        "    else:\n",
        "      d1[key] = [value]\n",
        "  return d1\n",
        "\n",
        "if DEBUG:\n",
        "  key = playlist_map.first()[1]\n",
        "  neigh = model.approxNearestNeighbors(playlist_map, key, 10).cache()\n",
        "  merged_df_2 = merge_dicts(df_to_dict(neigh), df_to_dict(neigh))\n",
        "  print(merged_df_2)"
      ]
    },
    {
      "cell_type": "code",
      "execution_count": 18,
      "metadata": {
        "id": "p6sFCM6RG5Y1"
      },
      "outputs": [],
      "source": [
        "def extract_similar_songs(playlist_tracks: DataFrame, playlist_map, model, k=10, disable_pbar=False) -> DataFrame:\n",
        "  aggregate_df = None\n",
        "  tracks_embedding = playlist_map.join(F.broadcast(playlist_tracks), \"track_uri\").select(\"track_uri\", \"embedding\")\n",
        "  transformed_tracks_embeddings = model.transform(tracks_embedding).cache()\n",
        "  k_neighs = []\n",
        "\n",
        "  for row in tqdm(tracks_embedding.collect(), desc='Extracting k-neighbors', disable=disable_pbar):\n",
        "    k_neigh = model.approxNearestNeighbors(playlist_map, row[\"embedding\"], k).cache()\n",
        "    k_neighs.append(df_to_dict(k_neigh))\n",
        "\n",
        "  aggregate_df = reduce(merge_dicts, k_neighs)\n",
        "\n",
        "  transformed_tracks_embeddings.unpersist()\n",
        "  return aggregate_df\n",
        "\n",
        "if DEBUG:\n",
        "  # first_playlist = train_df.limit(1).select(F.explode(\"tracks\")).select(\"col.*\").distinct()\n",
        "  first_playlist = train_df.filter(\"pid == 1005\").select(F.explode(\"tracks\")).select(\"col.*\").distinct()\n",
        "  recommendations = extract_similar_songs(first_playlist, playlist_map, model, k=10)"
      ]
    },
    {
      "attachments": {},
      "cell_type": "markdown",
      "metadata": {
        "id": "L-zF2NSClWaV"
      },
      "source": [
        "We are safe by using python dictionaries since the data will be very small, and so dictionaries will be faster than pyspark dataframes."
      ]
    },
    {
      "cell_type": "code",
      "execution_count": 19,
      "metadata": {
        "id": "FRs9DULWlMvl"
      },
      "outputs": [],
      "source": [
        "if DEBUG:\n",
        "  import sys\n",
        "  print(f\"The reccomendation dictionary is {sys.getsizeof(recommendations) / 1_000} KB\")"
      ]
    },
    {
      "cell_type": "code",
      "execution_count": 20,
      "metadata": {
        "id": "QbBeYNhKqJgM"
      },
      "outputs": [],
      "source": [
        "def aggregate_recommendations(recommendations: Dict[str, float | List[float]]) -> DataFrame:\n",
        "  aggregated = {}\n",
        "  for key, value in recommendations.items():\n",
        "    if type(value) is list:\n",
        "      aggregated[key] = sum(x for x in value) / len(value)\n",
        "    else:\n",
        "      aggregated[key] = value\n",
        "  # return {k: v for k, v in aggregated.items() if v != 0}\n",
        "  # aggregated = sorted(aggregated.items(), key=lambda x: x[1])\n",
        "\n",
        "  recommendations_schema = StructType([\n",
        "      StructField(\"track_uri\", StringType(), True),\n",
        "      StructField(\"distance\", FloatType(), True)\n",
        "  ])\n",
        "\n",
        "\n",
        "  recommendations_df = spark.createDataFrame(data=aggregated.items(), schema=recommendations_schema)\n",
        "\n",
        "  return recommendations_df\n",
        "\n",
        "if DEBUG:\n",
        "  k = 40\n",
        "  recommendations_df = aggregate_recommendations(recommendations)\n",
        "  recommendations_df.show(truncate=False)\n",
        "  first_playlist.show(truncate=False)\n",
        "  print(recommendations_df.count(), first_playlist.count())"
      ]
    },
    {
      "attachments": {},
      "cell_type": "markdown",
      "metadata": {
        "id": "vpbn30aDl0h7"
      },
      "source": [
        "Now that we have a prediction, we can put the result in a pyspark dataframe in order to be used later"
      ]
    },
    {
      "cell_type": "code",
      "execution_count": 21,
      "metadata": {
        "id": "hzSjUb0k5WvD"
      },
      "outputs": [],
      "source": [
        "def remove_existing_tracks(playlist_tracks: DataFrame, recommendations_df: DataFrame) -> DataFrame:\n",
        "  playlist_tracks = playlist_tracks.select(\"track_uri\").cache()\n",
        "  playlist_tracks_compatible = playlist_tracks.join(F.broadcast(recommendations_df), on=\"track_uri\")\n",
        "  playlist_tracks.unpersist()\n",
        "  return recommendations_df.exceptAll(playlist_tracks_compatible)\n",
        "\n",
        "if DEBUG:\n",
        "  clean_df = remove_existing_tracks(first_playlist, recommendations_df)\n",
        "  clean_df.show()"
      ]
    },
    {
      "attachments": {},
      "cell_type": "markdown",
      "metadata": {
        "id": "fVBZMo5ym4wY"
      },
      "source": [
        "Putting all togheter:"
      ]
    },
    {
      "cell_type": "code",
      "execution_count": 22,
      "metadata": {
        "id": "PnHTtod7m7jB"
      },
      "outputs": [],
      "source": [
        "def item_based_recommendation(playlist: DataFrame,playlist_map: DataFrame, model: MinHashLSHModel, k=50):\n",
        "  playlist_songs = playlist.select(F.explode(\"tracks\")).select(\"col.*\")\n",
        "  recommendations = extract_similar_songs(playlist_songs, playlist_map, model, 20, disable_pbar=True)\n",
        "  recommendations_df = aggregate_recommendations(recommendations)\n",
        "  recommendations_df = remove_existing_tracks(playlist_songs, recommendations_df)\n",
        "  return recommendations_df.orderBy(F.col(\"distance\").asc()).limit(k).cache()\n",
        "\n",
        "if DEBUG:\n",
        "  playlist = train_df.filter(\"pid == 2005\")\n",
        "  result = item_based_recommendation(playlist, playlist_map, model)\n",
        "  result.show()"
      ]
    },
    {
      "attachments": {},
      "cell_type": "markdown",
      "metadata": {
        "id": "92e4Ipd-m2TF"
      },
      "source": [
        "# Performance Evaluation"
      ]
    },
    {
      "cell_type": "code",
      "execution_count": 23,
      "metadata": {
        "id": "R3bMn2m6nGdC"
      },
      "outputs": [],
      "source": [
        "def precision_at_k(recommendations, ground_truth, num_of_recommendations) -> float:\n",
        "    \"\"\"\n",
        "    Calculates precision at k for the recommendations.\n",
        "    \"\"\"\n",
        "    recommended_relevant_tracks = recommendations.join(ground_truth, \"track_uri\").cache()\n",
        "    reccomended_relevant_tracks_count = recommended_relevant_tracks.count() #this can be top_n_results.join in order to be more performant\n",
        "    recommended_relevant_tracks.unpersist()\n",
        "    precision = reccomended_relevant_tracks_count / float(num_of_recommendations)\n",
        "\n",
        "    return precision\n",
        "\n",
        "\n",
        "import math\n",
        "#TODO: make it more efficient somehow\n",
        "def normalized_discounted_cumulative_gain(recommendations: DataFrame, ground_truth: DataFrame, num_of_recommendations: int) -> float:\n",
        "  recommendations = recommendations.orderBy(F.col(\"distance\").asc())\n",
        "  recommendations_list = recommendations.collect()\n",
        "  cumulative_gain = 0\n",
        "\n",
        "  intersection = recommendations.join(ground_truth, \"track_uri\").count()\n",
        "  if intersection == 0: return 0\n",
        "\n",
        "  ideal_cumulative_gain = 1 + sum((1 / math.log(i, 2)) for i in range(2, 2+intersection))\n",
        "  for index, row in enumerate(recommendations_list):\n",
        "    i = index + 1\n",
        "    is_rel = ground_truth.filter(F.col(\"track_uri\").isin(row.track_uri)).count() > 0\n",
        "    rel = 1 if is_rel else 0\n",
        "    if i == 1:\n",
        "      cumulative_gain += rel\n",
        "    else:\n",
        "      cumulative_gain += (rel / math.log(i, 2))\n",
        "  return cumulative_gain / ideal_cumulative_gain"
      ]
    },
    {
      "attachments": {},
      "cell_type": "markdown",
      "metadata": {
        "id": "c8SUpL2Boghc"
      },
      "source": [
        "Executing performance evaluation on a random sample of the test set"
      ]
    },
    {
      "cell_type": "code",
      "execution_count": 24,
      "metadata": {
        "id": "Y8ZIqjdSogHJ"
      },
      "outputs": [],
      "source": [
        "def evaluate(pid: int, playlist_map) -> Tuple[DataFrame, float]:\n",
        "    t1 = time.time()\n",
        "\n",
        "    playlist_train = train_df.filter(f\"pid == {pid}\").cache()\n",
        "    playlist_test = test_df.filter(f\"pid == {pid}\").cache()\n",
        "    ground_truth = playlist_test.select(F.explode(\"tracks\")).select(\"col.*\").cache()\n",
        "    num_of_recommendations = ground_truth.count()\n",
        "    recommendations = item_based_recommendation(playlist_train, playlist_map, model, k=num_of_recommendations).cache()\n",
        "\n",
        "    precision = precision_at_k(recommendations, ground_truth, num_of_recommendations)\n",
        "    gain = normalized_discounted_cumulative_gain(recommendations, ground_truth, num_of_recommendations)\n",
        "\n",
        "    t2 = time.time()\n",
        "    print(f\"Total time: {t2-t1}\")\n",
        "\n",
        "    playlist_train.unpersist()\n",
        "    playlist_test.unpersist()\n",
        "    ground_truth.unpersist()\n",
        "    recommendations.unpersist()\n",
        "\n",
        "    return playlist_train, playlist_test, ground_truth, recommendations, precision, gain\n",
        "\n",
        "\n",
        "if DEBUG:\n",
        "  train, test, gt, rec, prec, gain  = evaluate(1005, playlist_map)\n",
        "  train.show(), test.show(), gt.show(), rec.show(truncate=False)\n",
        "  print(f\"Precision: {prec}, Gain: {gain}\")"
      ]
    },
    {
      "cell_type": "code",
      "execution_count": 25,
      "metadata": {
        "colab": {
          "base_uri": "https://localhost:8080/",
          "height": 639,
          "referenced_widgets": [
            "85704d667a8a40ba9066fa7106a91dad",
            "3897952d6cce457e8f64b8f73e4645bb",
            "f17ccdb7487a4568a54e91611252368a",
            "60b629c1cd8d426f8fcb3d566a538527",
            "3af1bd7b53e74dc18e5a0abe61241d60",
            "83e8ffee77c340cfbb0608c13efe3fb8",
            "457c735850e54fa6a5835ab33db3d5fe",
            "255dd6ca245f431685dbe5a29a179c67",
            "4b5bcf7168db46dd8d6e1832bdcc2fd4",
            "b4f2dd48632a4f6eb37e1aad8cc68858",
            "59e37f5b02a145aaa240e628eb54dbef"
          ]
        },
        "id": "DokoAdIipxHi",
        "outputId": "fb70f96b-1eec-4b17-c73b-770645d70b7b"
      },
      "outputs": [
        {
          "name": "stderr",
          "output_type": "stream",
          "text": [
            "                                                                                \r"
          ]
        },
        {
          "data": {
            "application/vnd.jupyter.widget-view+json": {
              "model_id": "becfa75f71a44e2fa8dc3ac131562403",
              "version_major": 2,
              "version_minor": 0
            },
            "text/plain": [
              "Performing evaluation:   0%|          | 0/1024 [00:00<?, ?it/s]"
            ]
          },
          "metadata": {},
          "output_type": "display_data"
        },
        {
          "name": "stderr",
          "output_type": "stream",
          "text": [
            "23/06/28 00:13:10 WARN GarbageCollectionMetrics: To enable non-built-in garbage collector(s) List(G1 Concurrent GC), users should configure it(them) to spark.eventLog.gcMetrics.youngGenerationGarbageCollectors or spark.eventLog.gcMetrics.oldGenerationGarbageCollectors\n",
            "23/06/28 00:15:46 WARN CacheManager: Asked to cache already cached data.        \n",
            "                                                                                \r"
          ]
        },
        {
          "name": "stdout",
          "output_type": "stream",
          "text": [
            "Total time: 166.28023505210876\n",
            "(0.07142857142857142, 0.43824088773922626)\n"
          ]
        },
        {
          "name": "stderr",
          "output_type": "stream",
          "text": [
            "23/06/28 00:16:50 WARN CacheManager: Asked to cache already cached data.        \n",
            "                                                                                \r"
          ]
        },
        {
          "name": "stdout",
          "output_type": "stream",
          "text": [
            "Total time: 60.61270499229431\n",
            "(0.0, 0)\n"
          ]
        },
        {
          "name": "stderr",
          "output_type": "stream",
          "text": [
            "23/06/28 00:17:16 WARN CacheManager: Asked to cache already cached data.        \n"
          ]
        },
        {
          "name": "stdout",
          "output_type": "stream",
          "text": [
            "Total time: 25.129234790802002\n",
            "(0.0, 0)\n"
          ]
        },
        {
          "name": "stderr",
          "output_type": "stream",
          "text": [
            "23/06/28 00:18:21 WARN CacheManager: Asked to cache already cached data.        \n"
          ]
        },
        {
          "name": "stdout",
          "output_type": "stream",
          "text": [
            "Total time: 66.68508100509644\n",
            "(0.043478260869565216, 0.5)\n"
          ]
        },
        {
          "name": "stderr",
          "output_type": "stream",
          "text": [
            "23/06/28 00:18:57 WARN CacheManager: Asked to cache already cached data.        \n"
          ]
        },
        {
          "name": "stdout",
          "output_type": "stream",
          "text": [
            "Total time: 35.208430767059326\n",
            "(0.18181818181818182, 0.5)\n"
          ]
        },
        {
          "name": "stderr",
          "output_type": "stream",
          "text": [
            "23/06/28 00:19:52 WARN CacheManager: Asked to cache already cached data.        \n"
          ]
        },
        {
          "name": "stdout",
          "output_type": "stream",
          "text": [
            "Total time: 55.13455009460449\n",
            "(0.07142857142857142, 0.5)\n"
          ]
        },
        {
          "name": "stderr",
          "output_type": "stream",
          "text": [
            "23/06/28 00:20:37 WARN CacheManager: Asked to cache already cached data.        \n"
          ]
        },
        {
          "name": "stdout",
          "output_type": "stream",
          "text": [
            "Total time: 44.2373309135437\n",
            "(0.5454545454545454, 0.9172509175420708)\n"
          ]
        },
        {
          "name": "stderr",
          "output_type": "stream",
          "text": [
            "23/06/28 00:21:49 WARN CacheManager: Asked to cache already cached data.        \n",
            "                                                                                \r"
          ]
        },
        {
          "name": "stdout",
          "output_type": "stream",
          "text": [
            "Total time: 72.62215685844421\n",
            "(0.0, 0)\n"
          ]
        },
        {
          "name": "stderr",
          "output_type": "stream",
          "text": [
            "23/06/28 00:22:07 WARN CacheManager: Asked to cache already cached data.        \n"
          ]
        },
        {
          "name": "stdout",
          "output_type": "stream",
          "text": [
            "Total time: 17.815007209777832\n",
            "(0.0, 0)\n"
          ]
        },
        {
          "name": "stderr",
          "output_type": "stream",
          "text": [
            "23/06/28 00:23:19 WARN CacheManager: Asked to cache already cached data.        \n"
          ]
        },
        {
          "name": "stdout",
          "output_type": "stream",
          "text": [
            "Total time: 71.9221727848053\n",
            "(0.0, 0)\n"
          ]
        },
        {
          "name": "stderr",
          "output_type": "stream",
          "text": [
            "23/06/28 00:24:11 WARN CacheManager: Asked to cache already cached data.        \n",
            "                                                                                \r"
          ]
        },
        {
          "name": "stdout",
          "output_type": "stream",
          "text": [
            "Total time: 51.81638288497925\n",
            "(0.0, 0)\n"
          ]
        },
        {
          "name": "stderr",
          "output_type": "stream",
          "text": [
            "23/06/28 00:25:13 WARN CacheManager: Asked to cache already cached data.        \n",
            "                                                                                \r"
          ]
        },
        {
          "name": "stdout",
          "output_type": "stream",
          "text": [
            "Total time: 62.43082594871521\n",
            "(0.07692307692307693, 0.5)\n"
          ]
        },
        {
          "name": "stderr",
          "output_type": "stream",
          "text": [
            "23/06/28 00:26:34 WARN CacheManager: Asked to cache already cached data.        \n"
          ]
        },
        {
          "name": "stdout",
          "output_type": "stream",
          "text": [
            "Total time: 80.32905912399292\n",
            "(0.0, 0)\n"
          ]
        },
        {
          "name": "stderr",
          "output_type": "stream",
          "text": [
            "23/06/28 00:26:43 WARN CacheManager: Asked to cache already cached data.        \n"
          ]
        },
        {
          "name": "stdout",
          "output_type": "stream",
          "text": [
            "Total time: 9.143480777740479\n",
            "(0.0, 0)\n"
          ]
        },
        {
          "name": "stderr",
          "output_type": "stream",
          "text": [
            "23/06/28 00:27:30 WARN CacheManager: Asked to cache already cached data.        \n",
            "                                                                                \r"
          ]
        },
        {
          "name": "stdout",
          "output_type": "stream",
          "text": [
            "Total time: 47.61032700538635\n",
            "(0.2, 0.6199062332840657)\n"
          ]
        },
        {
          "name": "stderr",
          "output_type": "stream",
          "text": [
            "23/06/28 00:28:54 WARN CacheManager: Asked to cache already cached data.        \n"
          ]
        },
        {
          "name": "stdout",
          "output_type": "stream",
          "text": [
            "Total time: 83.94354820251465\n",
            "(0.1875, 0.3234341281154783)\n"
          ]
        },
        {
          "name": "stderr",
          "output_type": "stream",
          "text": [
            "23/06/28 00:30:31 WARN CacheManager: Asked to cache already cached data.        \n"
          ]
        },
        {
          "name": "stdout",
          "output_type": "stream",
          "text": [
            "Total time: 96.60664796829224\n",
            "(0.0, 0)\n"
          ]
        },
        {
          "name": "stderr",
          "output_type": "stream",
          "text": [
            "23/06/28 00:31:22 WARN CacheManager: Asked to cache already cached data.        \n",
            "                                                                                \r"
          ]
        },
        {
          "name": "stdout",
          "output_type": "stream",
          "text": [
            "Total time: 51.07554268836975\n",
            "(0.3, 0.8403030283801005)\n"
          ]
        },
        {
          "name": "stderr",
          "output_type": "stream",
          "text": [
            "23/06/28 00:35:08 WARN CacheManager: Asked to cache already cached data.        \n"
          ]
        },
        {
          "name": "stdout",
          "output_type": "stream",
          "text": [
            "Total time: 227.65121221542358\n",
            "(0.02040816326530612, 0.1138351243484765)\n"
          ]
        },
        {
          "name": "stderr",
          "output_type": "stream",
          "text": [
            "23/06/28 00:35:45 WARN CacheManager: Asked to cache already cached data.        \n",
            "                                                                                \r"
          ]
        },
        {
          "name": "stdout",
          "output_type": "stream",
          "text": [
            "Total time: 36.121447801589966\n",
            "(0.25, 0.51548589819511)\n"
          ]
        },
        {
          "name": "stderr",
          "output_type": "stream",
          "text": [
            "23/06/28 00:36:28 WARN CacheManager: Asked to cache already cached data.        \n"
          ]
        },
        {
          "name": "stdout",
          "output_type": "stream",
          "text": [
            "Total time: 42.149003982543945\n",
            "(0.1111111111111111, 0.15773243839286435)\n"
          ]
        },
        {
          "name": "stderr",
          "output_type": "stream",
          "text": [
            "23/06/28 00:37:15 WARN CacheManager: Asked to cache already cached data.        \n"
          ]
        },
        {
          "name": "stdout",
          "output_type": "stream",
          "text": [
            "Total time: 47.08761715888977\n",
            "(0.1, 0.16666666666666666)\n"
          ]
        },
        {
          "name": "stderr",
          "output_type": "stream",
          "text": [
            "23/06/28 00:37:36 WARN CacheManager: Asked to cache already cached data.        \n",
            "                                                                                \r"
          ]
        },
        {
          "name": "stdout",
          "output_type": "stream",
          "text": [
            "Total time: 20.849192142486572\n",
            "(0.0, 0)\n"
          ]
        },
        {
          "name": "stderr",
          "output_type": "stream",
          "text": [
            "23/06/28 00:37:56 WARN CacheManager: Asked to cache already cached data.        \n",
            "                                                                                \r"
          ]
        },
        {
          "name": "stdout",
          "output_type": "stream",
          "text": [
            "Total time: 20.390300989151\n",
            "(0.0, 0)\n"
          ]
        },
        {
          "name": "stderr",
          "output_type": "stream",
          "text": [
            "23/06/28 00:40:32 WARN CacheManager: Asked to cache already cached data.        \n",
            "                                                                                \r"
          ]
        },
        {
          "name": "stdout",
          "output_type": "stream",
          "text": [
            "Total time: 156.51709580421448\n",
            "(0.11764705882352941, 0.6810545536611025)\n"
          ]
        },
        {
          "name": "stderr",
          "output_type": "stream",
          "text": [
            "23/06/28 00:40:53 WARN CacheManager: Asked to cache already cached data.        \n"
          ]
        },
        {
          "name": "stdout",
          "output_type": "stream",
          "text": [
            "Total time: 19.32751202583313\n",
            "(0.0, 0)\n"
          ]
        },
        {
          "name": "stderr",
          "output_type": "stream",
          "text": [
            "23/06/28 00:41:52 WARN CacheManager: Asked to cache already cached data.        \n"
          ]
        },
        {
          "name": "stdout",
          "output_type": "stream",
          "text": [
            "Total time: 59.911332845687866\n",
            "(0.0, 0)\n"
          ]
        },
        {
          "name": "stderr",
          "output_type": "stream",
          "text": [
            "23/06/28 00:46:24 WARN CacheManager: Asked to cache already cached data.        \n",
            "                                                                                \r"
          ]
        },
        {
          "name": "stdout",
          "output_type": "stream",
          "text": [
            "Total time: 275.2344629764557\n",
            "(0.1016949152542373, 0.6556918845507538)\n"
          ]
        },
        {
          "name": "stderr",
          "output_type": "stream",
          "text": [
            "23/06/28 00:47:44 WARN CacheManager: Asked to cache already cached data.        \n",
            "                                                                                \r"
          ]
        },
        {
          "name": "stdout",
          "output_type": "stream",
          "text": [
            "Total time: 77.21423983573914\n",
            "(0.0, 0)\n"
          ]
        },
        {
          "name": "stderr",
          "output_type": "stream",
          "text": [
            "23/06/28 00:50:15 WARN CacheManager: Asked to cache already cached data.        \n",
            "                                                                                \r"
          ]
        },
        {
          "name": "stdout",
          "output_type": "stream",
          "text": [
            "Total time: 150.31648588180542\n",
            "(0.0, 0)\n"
          ]
        },
        {
          "name": "stderr",
          "output_type": "stream",
          "text": [
            "23/06/28 00:52:00 WARN CacheManager: Asked to cache already cached data.        \n",
            "                                                                                \r"
          ]
        },
        {
          "name": "stdout",
          "output_type": "stream",
          "text": [
            "Total time: 105.57203602790833\n",
            "(0.0, 0)\n"
          ]
        },
        {
          "name": "stderr",
          "output_type": "stream",
          "text": [
            "23/06/28 00:52:40 WARN CacheManager: Asked to cache already cached data.        \n",
            "                                                                                \r"
          ]
        },
        {
          "name": "stdout",
          "output_type": "stream",
          "text": [
            "Total time: 39.21270489692688\n",
            "(0.0, 0)\n"
          ]
        },
        {
          "name": "stderr",
          "output_type": "stream",
          "text": [
            "23/06/28 00:53:43 WARN CacheManager: Asked to cache already cached data.        \n",
            "                                                                                \r"
          ]
        },
        {
          "name": "stdout",
          "output_type": "stream",
          "text": [
            "Total time: 63.90632891654968\n",
            "(0.25, 0.7763433706236034)\n"
          ]
        },
        {
          "name": "stderr",
          "output_type": "stream",
          "text": [
            "23/06/28 00:53:57 WARN CacheManager: Asked to cache already cached data.        \n"
          ]
        },
        {
          "name": "stdout",
          "output_type": "stream",
          "text": [
            "Total time: 12.78768801689148\n",
            "(0.0, 0)\n"
          ]
        },
        {
          "name": "stderr",
          "output_type": "stream",
          "text": [
            "23/06/28 00:57:43 WARN CacheManager: Asked to cache already cached data.        \n"
          ]
        },
        {
          "name": "stdout",
          "output_type": "stream",
          "text": [
            "Total time: 226.67837595939636\n",
            "(0.0, 0)\n"
          ]
        },
        {
          "name": "stderr",
          "output_type": "stream",
          "text": [
            "23/06/28 01:00:16 WARN CacheManager: Asked to cache already cached data.        \n"
          ]
        },
        {
          "name": "stdout",
          "output_type": "stream",
          "text": [
            "Total time: 153.50589799880981\n",
            "(0.2, 0.8973137597068191)\n"
          ]
        },
        {
          "name": "stderr",
          "output_type": "stream",
          "text": [
            "23/06/28 01:00:59 WARN CacheManager: Asked to cache already cached data.        \n",
            "                                                                                \r"
          ]
        },
        {
          "name": "stdout",
          "output_type": "stream",
          "text": [
            "Total time: 43.057714223861694\n",
            "(0.125, 0.5)\n"
          ]
        },
        {
          "name": "stderr",
          "output_type": "stream",
          "text": [
            "23/06/28 01:02:20 WARN CacheManager: Asked to cache already cached data.        \n",
            "                                                                                \r"
          ]
        },
        {
          "name": "stdout",
          "output_type": "stream",
          "text": [
            "Total time: 81.06283402442932\n",
            "(0.07142857142857142, 0.5)\n"
          ]
        },
        {
          "name": "stderr",
          "output_type": "stream",
          "text": [
            "23/06/28 01:06:27 WARN CacheManager: Asked to cache already cached data.        \n",
            "                                                                                \r"
          ]
        },
        {
          "name": "stdout",
          "output_type": "stream",
          "text": [
            "Total time: 248.6142599582672\n",
            "(0.043478260869565216, 0.16036169968633512)\n"
          ]
        },
        {
          "name": "stderr",
          "output_type": "stream",
          "text": [
            "23/06/28 01:07:26 WARN CacheManager: Asked to cache already cached data.        \n",
            "                                                                                \r"
          ]
        },
        {
          "name": "stdout",
          "output_type": "stream",
          "text": [
            "Total time: 56.88060116767883\n",
            "(0.0, 0)\n"
          ]
        },
        {
          "name": "stderr",
          "output_type": "stream",
          "text": [
            "23/06/28 01:07:53 WARN CacheManager: Asked to cache already cached data.        \n"
          ]
        },
        {
          "name": "stdout",
          "output_type": "stream",
          "text": [
            "Total time: 26.313436269760132\n",
            "(0.0, 0)\n"
          ]
        },
        {
          "name": "stderr",
          "output_type": "stream",
          "text": [
            "23/06/28 01:10:07 WARN CacheManager: Asked to cache already cached data.        \n"
          ]
        },
        {
          "name": "stdout",
          "output_type": "stream",
          "text": [
            "Total time: 134.94450092315674\n",
            "(0.12, 0.34742635745641887)\n"
          ]
        },
        {
          "name": "stderr",
          "output_type": "stream",
          "text": [
            "23/06/28 01:11:40 WARN CacheManager: Asked to cache already cached data.        \n",
            "                                                                                \r"
          ]
        },
        {
          "name": "stdout",
          "output_type": "stream",
          "text": [
            "Total time: 93.43439531326294\n",
            "(0.10526315789473684, 0.18801358776179544)\n"
          ]
        },
        {
          "name": "stderr",
          "output_type": "stream",
          "text": [
            "23/06/28 01:12:26 WARN CacheManager: Asked to cache already cached data.        \n",
            "                                                                                \r"
          ]
        },
        {
          "name": "stdout",
          "output_type": "stream",
          "text": [
            "Total time: 44.76323080062866\n",
            "(0.5555555555555556, 0.8402086144048717)\n"
          ]
        },
        {
          "name": "stderr",
          "output_type": "stream",
          "text": [
            "23/06/28 01:13:25 WARN CacheManager: Asked to cache already cached data.        \n",
            "                                                                                \r"
          ]
        },
        {
          "name": "stdout",
          "output_type": "stream",
          "text": [
            "Total time: 59.843425035476685\n",
            "(0.36363636363636365, 0.8790780000963963)\n"
          ]
        },
        {
          "name": "stderr",
          "output_type": "stream",
          "text": [
            "23/06/28 01:13:48 WARN CacheManager: Asked to cache already cached data.        \n"
          ]
        },
        {
          "name": "stdout",
          "output_type": "stream",
          "text": [
            "Total time: 21.262808799743652\n",
            "(0.0, 0)\n"
          ]
        },
        {
          "name": "stderr",
          "output_type": "stream",
          "text": [
            "23/06/28 01:15:53 WARN CacheManager: Asked to cache already cached data.        \n",
            "                                                                                \r"
          ]
        },
        {
          "name": "stdout",
          "output_type": "stream",
          "text": [
            "Total time: 127.29711890220642\n",
            "(0.8260869565217391, 0.9693043898484651)\n"
          ]
        },
        {
          "name": "stderr",
          "output_type": "stream",
          "text": [
            "23/06/28 01:17:57 WARN CacheManager: Asked to cache already cached data.        \n",
            "                                                                                \r"
          ]
        },
        {
          "name": "stdout",
          "output_type": "stream",
          "text": [
            "Total time: 122.36150407791138\n",
            "(0.0, 0)\n"
          ]
        },
        {
          "name": "stderr",
          "output_type": "stream",
          "text": [
            "23/06/28 01:18:07 WARN CacheManager: Asked to cache already cached data.        \n"
          ]
        },
        {
          "name": "stdout",
          "output_type": "stream",
          "text": [
            "Total time: 9.186784029006958\n",
            "(0.5, 0.5)\n"
          ]
        },
        {
          "name": "stderr",
          "output_type": "stream",
          "text": [
            "23/06/28 01:19:44 WARN CacheManager: Asked to cache already cached data.        \n",
            "                                                                                \r"
          ]
        },
        {
          "name": "stdout",
          "output_type": "stream",
          "text": [
            "Total time: 98.5406551361084\n",
            "(0.16666666666666666, 0.3253370851534058)\n"
          ]
        },
        {
          "name": "stderr",
          "output_type": "stream",
          "text": [
            "23/06/28 01:21:00 WARN CacheManager: Asked to cache already cached data.        \n"
          ]
        },
        {
          "name": "stdout",
          "output_type": "stream",
          "text": [
            "Total time: 74.35496878623962\n",
            "(0.0, 0)\n"
          ]
        },
        {
          "name": "stderr",
          "output_type": "stream",
          "text": [
            "23/06/28 01:23:41 WARN CacheManager: Asked to cache already cached data.        \n"
          ]
        },
        {
          "name": "stdout",
          "output_type": "stream",
          "text": [
            "Total time: 162.42646384239197\n",
            "(0.05555555555555555, 0.21289637936687755)\n"
          ]
        },
        {
          "name": "stderr",
          "output_type": "stream",
          "text": [
            "23/06/28 01:25:20 WARN CacheManager: Asked to cache already cached data.        \n",
            "                                                                                \r"
          ]
        },
        {
          "name": "stdout",
          "output_type": "stream",
          "text": [
            "Total time: 100.24402093887329\n",
            "(0.045454545454545456, 0.11990623328406573)\n"
          ]
        },
        {
          "name": "stderr",
          "output_type": "stream",
          "text": [
            "23/06/28 01:26:02 WARN CacheManager: Asked to cache already cached data.        \n"
          ]
        },
        {
          "name": "stdout",
          "output_type": "stream",
          "text": [
            "Total time: 38.71658182144165\n",
            "(0.0, 0)\n"
          ]
        },
        {
          "name": "stderr",
          "output_type": "stream",
          "text": [
            "23/06/28 01:26:29 WARN CacheManager: Asked to cache already cached data.        \n",
            "                                                                                \r"
          ]
        },
        {
          "name": "stdout",
          "output_type": "stream",
          "text": [
            "Total time: 28.11151099205017\n",
            "(0.0, 0)\n"
          ]
        },
        {
          "name": "stderr",
          "output_type": "stream",
          "text": [
            "23/06/28 01:31:24 WARN CacheManager: Asked to cache already cached data.        \n"
          ]
        },
        {
          "name": "stdout",
          "output_type": "stream",
          "text": [
            "Total time: 298.12261486053467\n",
            "(0.06451612903225806, 0.4322268653347911)\n"
          ]
        },
        {
          "name": "stderr",
          "output_type": "stream",
          "text": [
            "23/06/28 01:31:48 WARN CacheManager: Asked to cache already cached data.        \n",
            "                                                                                \r"
          ]
        },
        {
          "name": "stdout",
          "output_type": "stream",
          "text": [
            "Total time: 20.232535123825073\n",
            "(0.0, 0)\n"
          ]
        },
        {
          "name": "stderr",
          "output_type": "stream",
          "text": [
            "23/06/28 01:32:57 WARN CacheManager: Asked to cache already cached data.        \n"
          ]
        },
        {
          "name": "stdout",
          "output_type": "stream",
          "text": [
            "Total time: 69.42236089706421\n",
            "(0.07142857142857142, 0.19342640361727081)\n"
          ]
        },
        {
          "name": "stderr",
          "output_type": "stream",
          "text": [
            "23/06/28 01:33:57 WARN CacheManager: Asked to cache already cached data.        \n",
            "                                                                                \r"
          ]
        },
        {
          "name": "stdout",
          "output_type": "stream",
          "text": [
            "Total time: 60.388681411743164\n",
            "(0.0, 0)\n"
          ]
        },
        {
          "name": "stderr",
          "output_type": "stream",
          "text": [
            "23/06/28 01:34:29 WARN CacheManager: Asked to cache already cached data.        \n",
            "                                                                                \r"
          ]
        },
        {
          "name": "stdout",
          "output_type": "stream",
          "text": [
            "Total time: 31.45834517478943\n",
            "(0.4, 0.7601875334318686)\n"
          ]
        },
        {
          "name": "stderr",
          "output_type": "stream",
          "text": [
            "23/06/28 01:35:28 WARN CacheManager: Asked to cache already cached data.        \n",
            "                                                                                \r"
          ]
        },
        {
          "name": "stdout",
          "output_type": "stream",
          "text": [
            "Total time: 59.632400035858154\n",
            "(0.0, 0)\n"
          ]
        },
        {
          "name": "stderr",
          "output_type": "stream",
          "text": [
            "23/06/28 01:36:27 WARN CacheManager: Asked to cache already cached data.        \n",
            "                                                                                \r"
          ]
        },
        {
          "name": "stdout",
          "output_type": "stream",
          "text": [
            "Total time: 60.0825400352478\n",
            "(0.0, 0)\n"
          ]
        },
        {
          "name": "stderr",
          "output_type": "stream",
          "text": [
            "23/06/28 01:37:00 WARN CacheManager: Asked to cache already cached data.        \n",
            "                                                                                \r"
          ]
        },
        {
          "name": "stdout",
          "output_type": "stream",
          "text": [
            "Total time: 32.414767026901245\n",
            "(0.0, 0)\n"
          ]
        },
        {
          "name": "stderr",
          "output_type": "stream",
          "text": [
            "23/06/28 01:39:44 WARN CacheManager: Asked to cache already cached data.        \n",
            "                                                                                \r"
          ]
        },
        {
          "name": "stdout",
          "output_type": "stream",
          "text": [
            "Total time: 164.13388323783875\n",
            "(0.0, 0)\n"
          ]
        },
        {
          "name": "stderr",
          "output_type": "stream",
          "text": [
            "23/06/28 01:42:43 WARN CacheManager: Asked to cache already cached data.        \n",
            "                                                                                \r"
          ]
        },
        {
          "name": "stdout",
          "output_type": "stream",
          "text": [
            "Total time: 180.5708348751068\n",
            "(0.125, 0.5567228048966132)\n"
          ]
        },
        {
          "name": "stderr",
          "output_type": "stream",
          "text": [
            "23/06/28 01:44:03 WARN CacheManager: Asked to cache already cached data.        \n",
            "                                                                                \r"
          ]
        },
        {
          "name": "stdout",
          "output_type": "stream",
          "text": [
            "Total time: 77.00923490524292\n",
            "(0.0, 0)\n"
          ]
        },
        {
          "name": "stderr",
          "output_type": "stream",
          "text": [
            "23/06/28 01:50:50 WARN CacheManager: Asked to cache already cached data.        \n",
            "                                                                                \r"
          ]
        },
        {
          "name": "stdout",
          "output_type": "stream",
          "text": [
            "Total time: 411.64359283447266\n",
            "(0.10344827586206896, 0.9172509175420708)\n"
          ]
        },
        {
          "name": "stderr",
          "output_type": "stream",
          "text": [
            "23/06/28 01:51:59 WARN CacheManager: Asked to cache already cached data.        \n",
            "                                                                                \r"
          ]
        },
        {
          "name": "stdout",
          "output_type": "stream",
          "text": [
            "Total time: 64.3678388595581\n",
            "(0.0, 0)\n"
          ]
        },
        {
          "name": "stderr",
          "output_type": "stream",
          "text": [
            "23/06/28 01:53:08 WARN CacheManager: Asked to cache already cached data.        \n",
            "                                                                                \r"
          ]
        },
        {
          "name": "stdout",
          "output_type": "stream",
          "text": [
            "Total time: 69.73306918144226\n",
            "(0.25, 0.5701406500739015)\n"
          ]
        },
        {
          "name": "stderr",
          "output_type": "stream",
          "text": [
            "23/06/28 01:55:53 WARN CacheManager: Asked to cache already cached data.        \n",
            "                                                                                \r"
          ]
        },
        {
          "name": "stdout",
          "output_type": "stream",
          "text": [
            "Total time: 165.54900908470154\n",
            "(0.1111111111111111, 0.24975617869305247)\n"
          ]
        },
        {
          "name": "stderr",
          "output_type": "stream",
          "text": [
            "23/06/28 01:56:26 WARN CacheManager: Asked to cache already cached data.        \n",
            "                                                                                \r"
          ]
        },
        {
          "name": "stdout",
          "output_type": "stream",
          "text": [
            "Total time: 32.47269296646118\n",
            "(0.25, 0.3154648767857287)\n"
          ]
        },
        {
          "name": "stderr",
          "output_type": "stream",
          "text": [
            "23/06/28 01:57:19 WARN CacheManager: Asked to cache already cached data.        \n",
            "                                                                                \r"
          ]
        },
        {
          "name": "stdout",
          "output_type": "stream",
          "text": [
            "Total time: 52.37894415855408\n",
            "(0.16666666666666666, 0.5)\n"
          ]
        },
        {
          "name": "stderr",
          "output_type": "stream",
          "text": [
            "23/06/28 01:58:07 WARN CacheManager: Asked to cache already cached data.        \n",
            "                                                                                \r"
          ]
        },
        {
          "name": "stdout",
          "output_type": "stream",
          "text": [
            "Total time: 48.594274044036865\n",
            "(0.7142857142857143, 0.9020243604942442)\n"
          ]
        },
        {
          "name": "stderr",
          "output_type": "stream",
          "text": [
            "23/06/28 02:01:50 WARN CacheManager: Asked to cache already cached data.        \n",
            "                                                                                \r"
          ]
        },
        {
          "name": "stdout",
          "output_type": "stream",
          "text": [
            "Total time: 221.4721908569336\n",
            "(0.0, 0)\n"
          ]
        },
        {
          "name": "stderr",
          "output_type": "stream",
          "text": [
            "23/06/28 02:02:13 WARN CacheManager: Asked to cache already cached data.        \n",
            "                                                                                \r"
          ]
        },
        {
          "name": "stdout",
          "output_type": "stream",
          "text": [
            "Total time: 23.257052183151245\n",
            "(0.0, 0)\n"
          ]
        },
        {
          "name": "stderr",
          "output_type": "stream",
          "text": [
            "23/06/28 02:03:04 WARN CacheManager: Asked to cache already cached data.        \n",
            "                                                                                \r"
          ]
        },
        {
          "name": "stdout",
          "output_type": "stream",
          "text": [
            "Total time: 50.943865060806274\n",
            "(0.8888888888888888, 0.9363142956288518)\n"
          ]
        },
        {
          "name": "stderr",
          "output_type": "stream",
          "text": [
            "23/06/28 02:07:54 WARN CacheManager: Asked to cache already cached data.        \n",
            "                                                                                \r"
          ]
        },
        {
          "name": "stdout",
          "output_type": "stream",
          "text": [
            "Total time: 292.5912928581238\n",
            "(0.11764705882352941, 0.282959729853564)\n"
          ]
        },
        {
          "name": "stderr",
          "output_type": "stream",
          "text": [
            "23/06/28 02:08:27 WARN CacheManager: Asked to cache already cached data.        \n",
            "                                                                                \r"
          ]
        },
        {
          "name": "stdout",
          "output_type": "stream",
          "text": [
            "Total time: 30.175249814987183\n",
            "(0.0, 0)\n"
          ]
        },
        {
          "name": "stderr",
          "output_type": "stream",
          "text": [
            "23/06/28 02:09:19 WARN CacheManager: Asked to cache already cached data.        \n",
            "                                                                                \r"
          ]
        },
        {
          "name": "stdout",
          "output_type": "stream",
          "text": [
            "Total time: 52.54137182235718\n",
            "(0.3333333333333333, 0.8403030283801005)\n"
          ]
        },
        {
          "name": "stderr",
          "output_type": "stream",
          "text": [
            "23/06/28 02:10:47 WARN CacheManager: Asked to cache already cached data.        \n",
            "                                                                                \r"
          ]
        },
        {
          "name": "stdout",
          "output_type": "stream",
          "text": [
            "Total time: 87.4296019077301\n",
            "(0.14285714285714285, 0.7601875334318686)\n"
          ]
        },
        {
          "name": "stderr",
          "output_type": "stream",
          "text": [
            "23/06/28 02:11:30 WARN CacheManager: Asked to cache already cached data.        \n",
            "                                                                                \r"
          ]
        },
        {
          "name": "stdout",
          "output_type": "stream",
          "text": [
            "Total time: 42.59211230278015\n",
            "(0.0, 0)\n"
          ]
        },
        {
          "name": "stderr",
          "output_type": "stream",
          "text": [
            "23/06/28 02:14:59 WARN CacheManager: Asked to cache already cached data.        \n"
          ]
        },
        {
          "name": "stdout",
          "output_type": "stream",
          "text": [
            "Total time: 209.66817593574524\n",
            "(0.21212121212121213, 0.9281299354774957)\n"
          ]
        },
        {
          "name": "stderr",
          "output_type": "stream",
          "text": [
            "23/06/28 02:16:31 WARN CacheManager: Asked to cache already cached data.        \n"
          ]
        },
        {
          "name": "stdout",
          "output_type": "stream",
          "text": [
            "Total time: 91.41181421279907\n",
            "(0.10526315789473684, 0.1990146209941879)\n"
          ]
        },
        {
          "name": "stderr",
          "output_type": "stream",
          "text": [
            "23/06/28 02:17:07 WARN CacheManager: Asked to cache already cached data.        \n"
          ]
        },
        {
          "name": "stdout",
          "output_type": "stream",
          "text": [
            "Total time: 34.59010410308838\n",
            "(0.0, 0)\n"
          ]
        },
        {
          "name": "stderr",
          "output_type": "stream",
          "text": [
            "23/06/28 02:17:59 WARN CacheManager: Asked to cache already cached data.        \n"
          ]
        },
        {
          "name": "stdout",
          "output_type": "stream",
          "text": [
            "Total time: 51.91606283187866\n",
            "(0.0, 0)\n"
          ]
        },
        {
          "name": "stderr",
          "output_type": "stream",
          "text": [
            "23/06/28 02:18:30 WARN CacheManager: Asked to cache already cached data.        \n"
          ]
        },
        {
          "name": "stdout",
          "output_type": "stream",
          "text": [
            "Total time: 31.334712982177734\n",
            "(0.0, 0)\n"
          ]
        },
        {
          "name": "stderr",
          "output_type": "stream",
          "text": [
            "23/06/28 02:20:02 WARN CacheManager: Asked to cache already cached data.        \n"
          ]
        },
        {
          "name": "stdout",
          "output_type": "stream",
          "text": [
            "Total time: 93.18619680404663\n",
            "(0.3684210526315789, 0.9281299354774957)\n"
          ]
        },
        {
          "name": "stderr",
          "output_type": "stream",
          "text": [
            "23/06/28 02:21:43 WARN CacheManager: Asked to cache already cached data.        \n"
          ]
        },
        {
          "name": "stdout",
          "output_type": "stream",
          "text": [
            "Total time: 100.41287088394165\n",
            "(0.3181818181818182, 0.8328237618997592)\n"
          ]
        },
        {
          "name": "stderr",
          "output_type": "stream",
          "text": [
            "23/06/28 02:22:09 WARN CacheManager: Asked to cache already cached data.        \n"
          ]
        },
        {
          "name": "stdout",
          "output_type": "stream",
          "text": [
            "Total time: 25.303627967834473\n",
            "(0.3333333333333333, 0.7601875334318686)\n"
          ]
        },
        {
          "name": "stderr",
          "output_type": "stream",
          "text": [
            "23/06/28 02:23:25 WARN CacheManager: Asked to cache already cached data.        \n",
            "                                                                                \r"
          ]
        },
        {
          "name": "stdout",
          "output_type": "stream",
          "text": [
            "Total time: 76.14114379882812\n",
            "(0.2222222222222222, 0.5437912419103041)\n"
          ]
        },
        {
          "name": "stderr",
          "output_type": "stream",
          "text": [
            "23/06/28 02:23:51 WARN CacheManager: Asked to cache already cached data.        \n",
            "                                                                                \r"
          ]
        },
        {
          "name": "stdout",
          "output_type": "stream",
          "text": [
            "Total time: 25.845245838165283\n",
            "(0.0, 0)\n"
          ]
        },
        {
          "name": "stderr",
          "output_type": "stream",
          "text": [
            "23/06/28 02:24:57 WARN CacheManager: Asked to cache already cached data.        \n",
            "                                                                                \r"
          ]
        },
        {
          "name": "stdout",
          "output_type": "stream",
          "text": [
            "Total time: 66.76117300987244\n",
            "(0.0, 0)\n"
          ]
        },
        {
          "name": "stderr",
          "output_type": "stream",
          "text": [
            "23/06/28 02:26:13 WARN CacheManager: Asked to cache already cached data.        \n",
            "                                                                                \r"
          ]
        },
        {
          "name": "stdout",
          "output_type": "stream",
          "text": [
            "Total time: 74.60828399658203\n",
            "(0.0, 0)\n"
          ]
        },
        {
          "name": "stderr",
          "output_type": "stream",
          "text": [
            "23/06/28 02:28:17 WARN CacheManager: Asked to cache already cached data.        \n",
            "                                                                                \r"
          ]
        },
        {
          "name": "stdout",
          "output_type": "stream",
          "text": [
            "Total time: 124.86062908172607\n",
            "(0.0, 0)\n"
          ]
        },
        {
          "name": "stderr",
          "output_type": "stream",
          "text": [
            "23/06/28 02:29:50 WARN CacheManager: Asked to cache already cached data.        \n",
            "                                                                                \r"
          ]
        },
        {
          "name": "stdout",
          "output_type": "stream",
          "text": [
            "Total time: 94.11295509338379\n",
            "(0.25, 0.7311134412091959)\n"
          ]
        },
        {
          "name": "stderr",
          "output_type": "stream",
          "text": [
            "23/06/28 02:33:07 WARN CacheManager: Asked to cache already cached data.        \n",
            "                                                                                \r"
          ]
        },
        {
          "name": "stdout",
          "output_type": "stream",
          "text": [
            "Total time: 197.74849605560303\n",
            "(0.3103448275862069, 0.9427099990323233)\n"
          ]
        },
        {
          "name": "stderr",
          "output_type": "stream",
          "text": [
            "23/06/28 02:34:09 WARN CacheManager: Asked to cache already cached data.        \n",
            "                                                                                \r"
          ]
        },
        {
          "name": "stdout",
          "output_type": "stream",
          "text": [
            "Total time: 59.92197823524475\n",
            "(0.1111111111111111, 0.5)\n"
          ]
        },
        {
          "name": "stderr",
          "output_type": "stream",
          "text": [
            "23/06/28 02:35:43 WARN CacheManager: Asked to cache already cached data.        \n",
            "                                                                                \r"
          ]
        },
        {
          "name": "stdout",
          "output_type": "stream",
          "text": [
            "Total time: 94.79417204856873\n",
            "(0.4, 0.8228524720689648)\n"
          ]
        },
        {
          "name": "stderr",
          "output_type": "stream",
          "text": [
            "23/06/28 02:44:07 WARN CacheManager: Asked to cache already cached data.        \n",
            "                                                                                \r"
          ]
        },
        {
          "name": "stdout",
          "output_type": "stream",
          "text": [
            "Total time: 508.80761671066284\n",
            "(0.04, 0.15952449735520666)\n"
          ]
        },
        {
          "name": "stderr",
          "output_type": "stream",
          "text": [
            "23/06/28 02:44:41 WARN CacheManager: Asked to cache already cached data.        \n",
            "                                                                                \r"
          ]
        },
        {
          "name": "stdout",
          "output_type": "stream",
          "text": [
            "Total time: 28.050450325012207\n",
            "(0.0, 0)\n"
          ]
        },
        {
          "name": "stderr",
          "output_type": "stream",
          "text": [
            "23/06/28 02:46:03 WARN CacheManager: Asked to cache already cached data.        \n",
            "                                                                                \r"
          ]
        },
        {
          "name": "stdout",
          "output_type": "stream",
          "text": [
            "Total time: 83.94357299804688\n",
            "(0.0, 0)\n"
          ]
        },
        {
          "name": "stderr",
          "output_type": "stream",
          "text": [
            "23/06/28 02:47:41 WARN CacheManager: Asked to cache already cached data.        \n",
            "                                                                                \r"
          ]
        },
        {
          "name": "stdout",
          "output_type": "stream",
          "text": [
            "Total time: 95.03130006790161\n",
            "(0.0, 0)\n"
          ]
        },
        {
          "name": "stderr",
          "output_type": "stream",
          "text": [
            "23/06/28 02:49:34 WARN CacheManager: Asked to cache already cached data.        \n",
            "                                                                                \r"
          ]
        },
        {
          "name": "stdout",
          "output_type": "stream",
          "text": [
            "Total time: 113.72772002220154\n",
            "(0.0, 0)\n"
          ]
        },
        {
          "name": "stderr",
          "output_type": "stream",
          "text": [
            "23/06/28 02:50:18 WARN CacheManager: Asked to cache already cached data.        \n",
            "                                                                                \r"
          ]
        },
        {
          "name": "stdout",
          "output_type": "stream",
          "text": [
            "Total time: 43.672131061553955\n",
            "(0.0, 0)\n"
          ]
        },
        {
          "name": "stderr",
          "output_type": "stream",
          "text": [
            "23/06/28 02:53:03 WARN CacheManager: Asked to cache already cached data.        \n",
            "                                                                                \r"
          ]
        },
        {
          "name": "stdout",
          "output_type": "stream",
          "text": [
            "Total time: 167.15458798408508\n",
            "(0.10526315789473684, 0.3665103888067762)\n"
          ]
        },
        {
          "name": "stderr",
          "output_type": "stream",
          "text": [
            "23/06/28 02:58:16 WARN CacheManager: Asked to cache already cached data.        \n",
            "                                                                                \r"
          ]
        },
        {
          "name": "stdout",
          "output_type": "stream",
          "text": [
            "Total time: 312.85099601745605\n",
            "(0.09375, 0.61705624248888)\n"
          ]
        },
        {
          "name": "stderr",
          "output_type": "stream",
          "text": [
            "23/06/28 02:59:53 WARN CacheManager: Asked to cache already cached data.        \n",
            "                                                                                \r"
          ]
        },
        {
          "name": "stdout",
          "output_type": "stream",
          "text": [
            "Total time: 94.26945614814758\n",
            "(0.0, 0)\n"
          ]
        },
        {
          "name": "stderr",
          "output_type": "stream",
          "text": [
            "23/06/28 03:00:52 WARN CacheManager: Asked to cache already cached data.        \n",
            "                                                                                \r"
          ]
        },
        {
          "name": "stdout",
          "output_type": "stream",
          "text": [
            "Total time: 58.88099718093872\n",
            "(0.14285714285714285, 0.1781035935540111)\n"
          ]
        },
        {
          "name": "stderr",
          "output_type": "stream",
          "text": [
            "23/06/28 03:02:09 WARN CacheManager: Asked to cache already cached data.        \n",
            "                                                                                \r"
          ]
        },
        {
          "name": "stdout",
          "output_type": "stream",
          "text": [
            "Total time: 78.44011116027832\n",
            "(0.125, 0.21533827903669653)\n"
          ]
        },
        {
          "name": "stderr",
          "output_type": "stream",
          "text": [
            "23/06/28 03:08:11 WARN CacheManager: Asked to cache already cached data.        \n",
            "                                                                                \r"
          ]
        },
        {
          "name": "stdout",
          "output_type": "stream",
          "text": [
            "Total time: 361.1336832046509\n",
            "(0.0, 0)\n"
          ]
        },
        {
          "name": "stderr",
          "output_type": "stream",
          "text": [
            "23/06/28 03:11:16 WARN CacheManager: Asked to cache already cached data.        \n",
            "                                                                                \r"
          ]
        },
        {
          "name": "stdout",
          "output_type": "stream",
          "text": [
            "Total time: 184.07871294021606\n",
            "(0.0, 0)\n"
          ]
        },
        {
          "name": "stderr",
          "output_type": "stream",
          "text": [
            "23/06/28 03:13:04 WARN CacheManager: Asked to cache already cached data.        \n",
            "                                                                                \r"
          ]
        },
        {
          "name": "stdout",
          "output_type": "stream",
          "text": [
            "Total time: 109.16848993301392\n",
            "(0.2222222222222222, 0.3597186998521972)\n"
          ]
        },
        {
          "name": "stderr",
          "output_type": "stream",
          "text": [
            "23/06/28 03:15:36 WARN CacheManager: Asked to cache already cached data.        \n",
            "                                                                                \r"
          ]
        },
        {
          "name": "stdout",
          "output_type": "stream",
          "text": [
            "Total time: 150.03797507286072\n",
            "(0.0, 0)\n"
          ]
        },
        {
          "name": "stderr",
          "output_type": "stream",
          "text": [
            "23/06/28 03:16:45 WARN CacheManager: Asked to cache already cached data.        \n",
            "                                                                                \r"
          ]
        },
        {
          "name": "stdout",
          "output_type": "stream",
          "text": [
            "Total time: 71.2573709487915\n",
            "(0.2857142857142857, 0.7601875334318686)\n"
          ]
        },
        {
          "name": "stderr",
          "output_type": "stream",
          "text": [
            "23/06/28 03:22:31 WARN CacheManager: Asked to cache already cached data.        \n",
            "                                                                                \r"
          ]
        },
        {
          "name": "stdout",
          "output_type": "stream",
          "text": [
            "Total time: 347.4159059524536\n",
            "(0.11428571428571428, 0.31156941874755695)\n"
          ]
        },
        {
          "name": "stderr",
          "output_type": "stream",
          "text": [
            "23/06/28 03:23:21 WARN CacheManager: Asked to cache already cached data.        \n",
            "                                                                                \r"
          ]
        },
        {
          "name": "stdout",
          "output_type": "stream",
          "text": [
            "Total time: 46.58049464225769\n",
            "(0.2, 0.5)\n"
          ]
        },
        {
          "name": "stderr",
          "output_type": "stream",
          "text": [
            "23/06/28 03:30:12 WARN CacheManager: Asked to cache already cached data.        \n",
            "                                                                                \r"
          ]
        },
        {
          "name": "stdout",
          "output_type": "stream",
          "text": [
            "Total time: 413.03266406059265\n",
            "(0.14285714285714285, 0.7467366458934469)\n"
          ]
        },
        {
          "name": "stderr",
          "output_type": "stream",
          "text": [
            "23/06/28 03:32:32 WARN CacheManager: Asked to cache already cached data.        \n",
            "                                                                                \r"
          ]
        },
        {
          "name": "stdout",
          "output_type": "stream",
          "text": [
            "Total time: 138.5628161430359\n",
            "(0.0, 0)\n"
          ]
        },
        {
          "name": "stderr",
          "output_type": "stream",
          "text": [
            "23/06/28 03:35:39 WARN CacheManager: Asked to cache already cached data.        \n",
            "                                                                                \r"
          ]
        },
        {
          "name": "stdout",
          "output_type": "stream",
          "text": [
            "Total time: 185.4626750946045\n",
            "(0.0, 0)\n"
          ]
        },
        {
          "name": "stderr",
          "output_type": "stream",
          "text": [
            "23/06/28 03:40:05 WARN CacheManager: Asked to cache already cached data.        \n",
            "                                                                                \r"
          ]
        },
        {
          "name": "stdout",
          "output_type": "stream",
          "text": [
            "Total time: 267.67408895492554\n",
            "(0.07407407407407407, 0.16474881947487754)\n"
          ]
        },
        {
          "name": "stderr",
          "output_type": "stream",
          "text": [
            "23/06/28 03:40:38 WARN CacheManager: Asked to cache already cached data.        \n",
            "                                                                                \r"
          ]
        },
        {
          "name": "stdout",
          "output_type": "stream",
          "text": [
            "Total time: 31.23347282409668\n",
            "(0.0, 0)\n"
          ]
        },
        {
          "name": "stderr",
          "output_type": "stream",
          "text": [
            "23/06/28 03:41:31 WARN CacheManager: Asked to cache already cached data.        \n",
            "                                                                                \r"
          ]
        },
        {
          "name": "stdout",
          "output_type": "stream",
          "text": [
            "Total time: 54.66666007041931\n",
            "(0.16666666666666666, 0.5)\n"
          ]
        },
        {
          "name": "stderr",
          "output_type": "stream",
          "text": [
            "23/06/28 03:51:05 WARN CacheManager: Asked to cache already cached data.        \n",
            "                                                                                \r"
          ]
        },
        {
          "name": "stdout",
          "output_type": "stream",
          "text": [
            "Total time: 574.0354490280151\n",
            "(0.20408163265306123, 0.8550641229331334)\n"
          ]
        },
        {
          "name": "stderr",
          "output_type": "stream",
          "text": [
            "23/06/28 03:52:38 WARN CacheManager: Asked to cache already cached data.        \n",
            "                                                                                \r"
          ]
        },
        {
          "name": "stdout",
          "output_type": "stream",
          "text": [
            "Total time: 89.49758577346802\n",
            "(0.0, 0)\n"
          ]
        },
        {
          "name": "stderr",
          "output_type": "stream",
          "text": [
            "23/06/28 03:55:47 WARN CacheManager: Asked to cache already cached data.        \n",
            "                                                                                \r"
          ]
        },
        {
          "name": "stdout",
          "output_type": "stream",
          "text": [
            "Total time: 193.36891293525696\n",
            "(0.05555555555555555, 0.5)\n"
          ]
        },
        {
          "name": "stderr",
          "output_type": "stream",
          "text": [
            "23/06/28 03:57:51 WARN CacheManager: Asked to cache already cached data.        \n",
            "                                                                                \r"
          ]
        },
        {
          "name": "stdout",
          "output_type": "stream",
          "text": [
            "Total time: 120.38778591156006\n",
            "(0.0, 0)\n"
          ]
        },
        {
          "name": "stderr",
          "output_type": "stream",
          "text": [
            "23/06/28 03:58:47 WARN CacheManager: Asked to cache already cached data.        \n",
            "                                                                                \r"
          ]
        },
        {
          "name": "stdout",
          "output_type": "stream",
          "text": [
            "Total time: 56.2765691280365\n",
            "(0.0, 0)\n"
          ]
        },
        {
          "name": "stderr",
          "output_type": "stream",
          "text": [
            "23/06/28 04:00:48 WARN CacheManager: Asked to cache already cached data.        \n",
            "                                                                                \r"
          ]
        },
        {
          "name": "stdout",
          "output_type": "stream",
          "text": [
            "Total time: 122.78586626052856\n",
            "(0.23076923076923078, 0.45735927086898054)\n"
          ]
        },
        {
          "name": "stderr",
          "output_type": "stream",
          "text": [
            "23/06/28 04:02:32 WARN CacheManager: Asked to cache already cached data.        \n",
            "                                                                                \r"
          ]
        },
        {
          "name": "stdout",
          "output_type": "stream",
          "text": [
            "Total time: 100.41884779930115\n",
            "(0.0, 0)\n"
          ]
        },
        {
          "name": "stderr",
          "output_type": "stream",
          "text": [
            "23/06/28 04:04:13 WARN CacheManager: Asked to cache already cached data.        \n",
            "                                                                                \r"
          ]
        },
        {
          "name": "stdout",
          "output_type": "stream",
          "text": [
            "Total time: 101.85077285766602\n",
            "(0.0, 0)\n"
          ]
        },
        {
          "name": "stderr",
          "output_type": "stream",
          "text": [
            "23/06/28 04:12:22 WARN CacheManager: Asked to cache already cached data.        \n",
            "                                                                                \r"
          ]
        },
        {
          "name": "stdout",
          "output_type": "stream",
          "text": [
            "Total time: 493.63243317604065\n",
            "(0.02127659574468085, 0.09460017975843502)\n"
          ]
        },
        {
          "name": "stderr",
          "output_type": "stream",
          "text": [
            "23/06/28 04:14:11 WARN CacheManager: Asked to cache already cached data.        \n",
            "                                                                                \r"
          ]
        },
        {
          "name": "stdout",
          "output_type": "stream",
          "text": [
            "Total time: 104.74612283706665\n",
            "(0.1, 0.5)\n"
          ]
        },
        {
          "name": "stderr",
          "output_type": "stream",
          "text": [
            "23/06/28 04:14:43 WARN CacheManager: Asked to cache already cached data.        \n",
            "                                                                                \r"
          ]
        },
        {
          "name": "stdout",
          "output_type": "stream",
          "text": [
            "Total time: 34.52532410621643\n",
            "(0.3333333333333333, 0.5)\n"
          ]
        },
        {
          "name": "stderr",
          "output_type": "stream",
          "text": [
            "23/06/28 04:15:11 WARN CacheManager: Asked to cache already cached data.        \n",
            "                                                                                \r"
          ]
        },
        {
          "name": "stdout",
          "output_type": "stream",
          "text": [
            "Total time: 22.548325777053833\n",
            "(0.0, 0)\n"
          ]
        },
        {
          "name": "stderr",
          "output_type": "stream",
          "text": [
            "23/06/28 04:16:37 WARN CacheManager: Asked to cache already cached data.        \n",
            "                                                                                \r"
          ]
        },
        {
          "name": "stdout",
          "output_type": "stream",
          "text": [
            "Total time: 86.1660168170929\n",
            "(0.0, 0)\n"
          ]
        },
        {
          "name": "stderr",
          "output_type": "stream",
          "text": [
            "23/06/28 04:24:48 WARN CacheManager: Asked to cache already cached data.        \n",
            "                                                                                \r"
          ]
        },
        {
          "name": "stdout",
          "output_type": "stream",
          "text": [
            "Total time: 496.07083797454834\n",
            "(0.046511627906976744, 0.1850895268741402)\n"
          ]
        },
        {
          "name": "stderr",
          "output_type": "stream",
          "text": [
            "23/06/28 04:25:28 WARN CacheManager: Asked to cache already cached data.        \n",
            "                                                                                \r"
          ]
        },
        {
          "name": "stdout",
          "output_type": "stream",
          "text": [
            "Total time: 34.469213008880615\n",
            "(0.0, 0)\n"
          ]
        },
        {
          "name": "stderr",
          "output_type": "stream",
          "text": [
            "23/06/28 04:33:35 WARN CacheManager: Asked to cache already cached data.        \n",
            "                                                                                \r"
          ]
        },
        {
          "name": "stdout",
          "output_type": "stream",
          "text": [
            "Total time: 491.17076897621155\n",
            "(0.02, 0.125)\n"
          ]
        },
        {
          "name": "stderr",
          "output_type": "stream",
          "text": [
            "23/06/28 04:39:16 WARN CacheManager: Asked to cache already cached data.        \n",
            "                                                                                \r"
          ]
        },
        {
          "name": "stdout",
          "output_type": "stream",
          "text": [
            "Total time: 339.1798629760742\n",
            "(0.15789473684210525, 0.870952707472587)\n"
          ]
        },
        {
          "name": "stderr",
          "output_type": "stream",
          "text": [
            "23/06/28 04:40:04 WARN CacheManager: Asked to cache already cached data.        \n"
          ]
        },
        {
          "name": "stdout",
          "output_type": "stream",
          "text": [
            "Total time: 44.27051401138306\n",
            "(0.0, 0)\n"
          ]
        },
        {
          "name": "stderr",
          "output_type": "stream",
          "text": [
            "23/06/28 04:43:58 WARN CacheManager: Asked to cache already cached data.        \n",
            "                                                                                \r"
          ]
        },
        {
          "name": "stdout",
          "output_type": "stream",
          "text": [
            "Total time: 236.2952790260315\n",
            "(0.038461538461538464, 0.11568910657987957)\n"
          ]
        },
        {
          "name": "stderr",
          "output_type": "stream",
          "text": [
            "23/06/28 04:44:54 WARN CacheManager: Asked to cache already cached data.        \n",
            "                                                                                \r"
          ]
        },
        {
          "name": "stdout",
          "output_type": "stream",
          "text": [
            "Total time: 55.17411422729492\n",
            "(0.0, 0)\n"
          ]
        },
        {
          "name": "stderr",
          "output_type": "stream",
          "text": [
            "23/06/28 04:46:47 WARN CacheManager: Asked to cache already cached data.        \n",
            "                                                                                \r"
          ]
        },
        {
          "name": "stdout",
          "output_type": "stream",
          "text": [
            "Total time: 113.96370506286621\n",
            "(0.09090909090909091, 0.5)\n"
          ]
        },
        {
          "name": "stderr",
          "output_type": "stream",
          "text": [
            "23/06/28 04:48:07 WARN CacheManager: Asked to cache already cached data.        \n",
            "                                                                                \r"
          ]
        },
        {
          "name": "stdout",
          "output_type": "stream",
          "text": [
            "Total time: 78.33534693717957\n",
            "(0.0, 0)\n"
          ]
        },
        {
          "name": "stderr",
          "output_type": "stream",
          "text": [
            "23/06/28 04:56:23 WARN CacheManager: Asked to cache already cached data.        \n",
            "                                                                                \r"
          ]
        },
        {
          "name": "stdout",
          "output_type": "stream",
          "text": [
            "Total time: 499.69999289512634\n",
            "(0.0392156862745098, 0.1376781277314468)\n"
          ]
        },
        {
          "name": "stderr",
          "output_type": "stream",
          "text": [
            "23/06/28 04:57:50 WARN CacheManager: Asked to cache already cached data.        \n",
            "                                                                                \r"
          ]
        },
        {
          "name": "stdout",
          "output_type": "stream",
          "text": [
            "Total time: 83.65773892402649\n",
            "(0.1111111111111111, 0.5)\n"
          ]
        },
        {
          "name": "stderr",
          "output_type": "stream",
          "text": [
            "23/06/28 05:01:29 WARN CacheManager: Asked to cache already cached data.        \n",
            "                                                                                \r"
          ]
        },
        {
          "name": "stdout",
          "output_type": "stream",
          "text": [
            "Total time: 217.5201563835144\n",
            "(0.09090909090909091, 0.7601875334318686)\n"
          ]
        },
        {
          "name": "stderr",
          "output_type": "stream",
          "text": [
            "23/06/28 05:06:39 WARN CacheManager: Asked to cache already cached data.        \n",
            "                                                                                \r"
          ]
        },
        {
          "name": "stdout",
          "output_type": "stream",
          "text": [
            "Total time: 311.0316250324249\n",
            "(0.17647058823529413, 0.9172509175420708)\n"
          ]
        },
        {
          "name": "stderr",
          "output_type": "stream",
          "text": [
            "23/06/28 05:15:10 WARN CacheManager: Asked to cache already cached data.        \n",
            "                                                                                \r"
          ]
        },
        {
          "name": "stdout",
          "output_type": "stream",
          "text": [
            "Total time: 511.7637598514557\n",
            "(0.05128205128205128, 0.4583348646323646)\n"
          ]
        },
        {
          "name": "stderr",
          "output_type": "stream",
          "text": [
            "23/06/28 05:16:51 WARN CacheManager: Asked to cache already cached data.        \n",
            "                                                                                \r"
          ]
        },
        {
          "name": "stdout",
          "output_type": "stream",
          "text": [
            "Total time: 98.2095959186554\n",
            "(0.0, 0)\n"
          ]
        },
        {
          "name": "stderr",
          "output_type": "stream",
          "text": [
            "23/06/28 05:20:35 WARN CacheManager: Asked to cache already cached data.        \n",
            "                                                                                \r"
          ]
        },
        {
          "name": "stdout",
          "output_type": "stream",
          "text": [
            "Total time: 223.80551719665527\n",
            "(0.0, 0)\n"
          ]
        },
        {
          "name": "stderr",
          "output_type": "stream",
          "text": [
            "23/06/28 05:28:14 WARN CacheManager: Asked to cache already cached data.        \n",
            "                                                                                \r"
          ]
        },
        {
          "name": "stdout",
          "output_type": "stream",
          "text": [
            "Total time: 461.6952431201935\n",
            "(0.06976744186046512, 0.6273737328869011)\n"
          ]
        },
        {
          "name": "stderr",
          "output_type": "stream",
          "text": [
            "23/06/28 05:29:51 WARN CacheManager: Asked to cache already cached data.        \n",
            "                                                                                \r"
          ]
        },
        {
          "name": "stdout",
          "output_type": "stream",
          "text": [
            "Total time: 95.52360987663269\n",
            "(0.1, 0.5)\n"
          ]
        },
        {
          "name": "stderr",
          "output_type": "stream",
          "text": [
            "23/06/28 05:31:36 WARN CacheManager: Asked to cache already cached data.        \n",
            "                                                                                \r"
          ]
        },
        {
          "name": "stdout",
          "output_type": "stream",
          "text": [
            "Total time: 102.86590003967285\n",
            "(0.09090909090909091, 0.15051499783199057)\n"
          ]
        },
        {
          "name": "stderr",
          "output_type": "stream",
          "text": [
            "23/06/28 05:32:12 WARN CacheManager: Asked to cache already cached data.        \n",
            "                                                                                \r"
          ]
        },
        {
          "name": "stdout",
          "output_type": "stream",
          "text": [
            "Total time: 34.31742787361145\n",
            "(0.25, 0.5)\n"
          ]
        },
        {
          "name": "stderr",
          "output_type": "stream",
          "text": [
            "23/06/28 05:32:51 WARN CacheManager: Asked to cache already cached data.        \n",
            "                                                                                \r"
          ]
        },
        {
          "name": "stdout",
          "output_type": "stream",
          "text": [
            "Total time: 38.56311798095703\n",
            "(0.0, 0)\n"
          ]
        },
        {
          "name": "stderr",
          "output_type": "stream",
          "text": [
            "23/06/28 05:37:27 WARN CacheManager: Asked to cache already cached data.        \n",
            "                                                                                \r"
          ]
        },
        {
          "name": "stdout",
          "output_type": "stream",
          "text": [
            "Total time: 275.5330798625946\n",
            "(0.0, 0)\n"
          ]
        },
        {
          "name": "stderr",
          "output_type": "stream",
          "text": [
            "23/06/28 05:39:18 WARN CacheManager: Asked to cache already cached data.        \n",
            "                                                                                \r"
          ]
        },
        {
          "name": "stdout",
          "output_type": "stream",
          "text": [
            "Total time: 112.20960688591003\n",
            "(0.0, 0)\n"
          ]
        },
        {
          "name": "stderr",
          "output_type": "stream",
          "text": [
            "23/06/28 05:40:15 WARN CacheManager: Asked to cache already cached data.        \n",
            "                                                                                \r"
          ]
        },
        {
          "name": "stdout",
          "output_type": "stream",
          "text": [
            "Total time: 56.42176103591919\n",
            "(0.0, 0)\n"
          ]
        },
        {
          "name": "stderr",
          "output_type": "stream",
          "text": [
            "23/06/28 05:41:47 WARN CacheManager: Asked to cache already cached data.        \n",
            "                                                                                \r"
          ]
        },
        {
          "name": "stdout",
          "output_type": "stream",
          "text": [
            "Total time: 93.366464138031\n",
            "(0.16666666666666666, 0.7601875334318686)\n"
          ]
        },
        {
          "name": "stderr",
          "output_type": "stream",
          "text": [
            "23/06/28 05:42:44 WARN CacheManager: Asked to cache already cached data.        \n",
            "                                                                                \r"
          ]
        },
        {
          "name": "stdout",
          "output_type": "stream",
          "text": [
            "Total time: 55.047648906707764\n",
            "(0.0, 0)\n"
          ]
        },
        {
          "name": "stderr",
          "output_type": "stream",
          "text": [
            "23/06/28 05:47:59 WARN CacheManager: Asked to cache already cached data.        \n",
            "                                                                                \r"
          ]
        },
        {
          "name": "stdout",
          "output_type": "stream",
          "text": [
            "Total time: 318.1907961368561\n",
            "(0.07692307692307693, 0.23522358257765139)\n"
          ]
        },
        {
          "name": "stderr",
          "output_type": "stream",
          "text": [
            "23/06/28 05:49:44 WARN CacheManager: Asked to cache already cached data.        \n",
            "                                                                                \r"
          ]
        },
        {
          "name": "stdout",
          "output_type": "stream",
          "text": [
            "Total time: 100.9776520729065\n",
            "(0.0, 0)\n"
          ]
        },
        {
          "name": "stderr",
          "output_type": "stream",
          "text": [
            "23/06/28 05:52:46 WARN CacheManager: Asked to cache already cached data.        \n",
            "                                                                                \r"
          ]
        },
        {
          "name": "stdout",
          "output_type": "stream",
          "text": [
            "Total time: 181.27169513702393\n",
            "(0.0, 0)\n"
          ]
        },
        {
          "name": "stderr",
          "output_type": "stream",
          "text": [
            "23/06/28 05:59:50 WARN CacheManager: Asked to cache already cached data.        \n",
            "                                                                                \r"
          ]
        },
        {
          "name": "stdout",
          "output_type": "stream",
          "text": [
            "Total time: 430.0145070552826\n",
            "(0.0975609756097561, 0.29085226091446886)\n"
          ]
        },
        {
          "name": "stderr",
          "output_type": "stream",
          "text": [
            "23/06/28 06:00:35 WARN CacheManager: Asked to cache already cached data.        \n",
            "                                                                                \r"
          ]
        },
        {
          "name": "stdout",
          "output_type": "stream",
          "text": [
            "Total time: 39.16806221008301\n",
            "(0.4, 0.7601875334318686)\n"
          ]
        },
        {
          "name": "stderr",
          "output_type": "stream",
          "text": [
            "23/06/28 06:02:25 WARN CacheManager: Asked to cache already cached data.        \n",
            "                                                                                \r"
          ]
        },
        {
          "name": "stdout",
          "output_type": "stream",
          "text": [
            "Total time: 108.32715487480164\n",
            "(0.0, 0)\n"
          ]
        },
        {
          "name": "stderr",
          "output_type": "stream",
          "text": [
            "23/06/28 06:09:50 WARN CacheManager: Asked to cache already cached data.        \n",
            "                                                                                \r"
          ]
        },
        {
          "name": "stdout",
          "output_type": "stream",
          "text": [
            "Total time: 451.3234179019928\n",
            "(0.04, 0.15252157240399175)\n"
          ]
        },
        {
          "name": "stderr",
          "output_type": "stream",
          "text": [
            "23/06/28 06:11:17 WARN CacheManager: Asked to cache already cached data.        \n"
          ]
        },
        {
          "name": "stdout",
          "output_type": "stream",
          "text": [
            "Total time: 79.4340558052063\n",
            "(0.0, 0)\n"
          ]
        },
        {
          "name": "stderr",
          "output_type": "stream",
          "text": [
            "23/06/28 06:21:00 WARN CacheManager: Asked to cache already cached data.        \n",
            "                                                                                \r"
          ]
        },
        {
          "name": "stdout",
          "output_type": "stream",
          "text": [
            "Total time: 590.9228079319\n",
            "(0.018867924528301886, 0.1018975235452531)\n"
          ]
        },
        {
          "name": "stderr",
          "output_type": "stream",
          "text": [
            "23/06/28 06:22:17 WARN CacheManager: Asked to cache already cached data.        \n",
            "                                                                                \r"
          ]
        },
        {
          "name": "stdout",
          "output_type": "stream",
          "text": [
            "Total time: 70.4018440246582\n",
            "(0.14285714285714285, 0.5)\n"
          ]
        },
        {
          "name": "stderr",
          "output_type": "stream",
          "text": [
            "23/06/28 06:22:45 WARN CacheManager: Asked to cache already cached data.        \n",
            "                                                                                \r"
          ]
        },
        {
          "name": "stdout",
          "output_type": "stream",
          "text": [
            "Total time: 26.647300004959106\n",
            "(0.0, 0)\n"
          ]
        },
        {
          "name": "stderr",
          "output_type": "stream",
          "text": [
            "23/06/28 06:24:48 WARN CacheManager: Asked to cache already cached data.        \n",
            "                                                                                \r"
          ]
        },
        {
          "name": "stdout",
          "output_type": "stream",
          "text": [
            "Total time: 121.59755086898804\n",
            "(0.0, 0)\n"
          ]
        },
        {
          "name": "stderr",
          "output_type": "stream",
          "text": [
            "23/06/28 06:30:03 WARN CacheManager: Asked to cache already cached data.        \n",
            "                                                                                \r"
          ]
        },
        {
          "name": "stdout",
          "output_type": "stream",
          "text": [
            "Total time: 320.11688709259033\n",
            "(0.05405405405405406, 0.18397444764711685)\n"
          ]
        },
        {
          "name": "stderr",
          "output_type": "stream",
          "text": [
            "23/06/28 06:34:32 WARN CacheManager: Asked to cache already cached data.        \n",
            "                                                                                \r"
          ]
        },
        {
          "name": "stdout",
          "output_type": "stream",
          "text": [
            "Total time: 269.26064801216125\n",
            "(0.21875, 0.8975970025822605)\n"
          ]
        },
        {
          "name": "stderr",
          "output_type": "stream",
          "text": [
            "23/06/28 06:39:07 WARN CacheManager: Asked to cache already cached data.        \n",
            "                                                                                \r"
          ]
        },
        {
          "name": "stdout",
          "output_type": "stream",
          "text": [
            "Total time: 272.6100528240204\n",
            "(0.37142857142857144, 0.9354907330215558)\n"
          ]
        },
        {
          "name": "stderr",
          "output_type": "stream",
          "text": [
            "23/06/28 06:40:40 WARN CacheManager: Asked to cache already cached data.        \n",
            "                                                                                \r"
          ]
        },
        {
          "name": "stdout",
          "output_type": "stream",
          "text": [
            "Total time: 88.51502704620361\n",
            "(0.0, 0)\n"
          ]
        },
        {
          "name": "stderr",
          "output_type": "stream",
          "text": [
            "23/06/28 06:42:08 WARN CacheManager: Asked to cache already cached data.        \n"
          ]
        },
        {
          "name": "stdout",
          "output_type": "stream",
          "text": [
            "Total time: 88.73325896263123\n",
            "(0.18181818181818182, 0.5)\n"
          ]
        },
        {
          "name": "stderr",
          "output_type": "stream",
          "text": [
            "23/06/28 06:44:45 WARN CacheManager: Asked to cache already cached data.        \n",
            "                                                                                \r"
          ]
        },
        {
          "name": "stdout",
          "output_type": "stream",
          "text": [
            "Total time: 158.92044115066528\n",
            "(0.06666666666666667, 0.5)\n"
          ]
        },
        {
          "name": "stderr",
          "output_type": "stream",
          "text": [
            "23/06/28 06:48:44 WARN CacheManager: Asked to cache already cached data.        \n",
            "                                                                                \r"
          ]
        },
        {
          "name": "stdout",
          "output_type": "stream",
          "text": [
            "Total time: 237.3295600414276\n",
            "(0.038461538461538464, 0.5)\n"
          ]
        },
        {
          "name": "stderr",
          "output_type": "stream",
          "text": [
            "23/06/28 06:49:12 WARN CacheManager: Asked to cache already cached data.        \n",
            "                                                                                \r"
          ]
        },
        {
          "name": "stdout",
          "output_type": "stream",
          "text": [
            "Total time: 26.268951892852783\n",
            "(0.0, 0)\n"
          ]
        },
        {
          "name": "stderr",
          "output_type": "stream",
          "text": [
            "23/06/28 06:49:52 WARN CacheManager: Asked to cache already cached data.        \n",
            "                                                                                \r"
          ]
        },
        {
          "name": "stdout",
          "output_type": "stream",
          "text": [
            "Total time: 39.43571400642395\n",
            "(0.0, 0)\n"
          ]
        },
        {
          "name": "stderr",
          "output_type": "stream",
          "text": [
            "23/06/28 06:51:03 WARN CacheManager: Asked to cache already cached data.        \n",
            "                                                                                \r"
          ]
        },
        {
          "name": "stdout",
          "output_type": "stream",
          "text": [
            "Total time: 70.65811014175415\n",
            "(0.0, 0)\n"
          ]
        },
        {
          "name": "stderr",
          "output_type": "stream",
          "text": [
            "23/06/28 06:51:50 WARN CacheManager: Asked to cache already cached data.        \n"
          ]
        },
        {
          "name": "stdout",
          "output_type": "stream",
          "text": [
            "Total time: 46.55666399002075\n",
            "(0.0, 0)\n"
          ]
        },
        {
          "name": "stderr",
          "output_type": "stream",
          "text": [
            "23/06/28 06:52:54 WARN CacheManager: Asked to cache already cached data.        \n",
            "                                                                                \r"
          ]
        },
        {
          "name": "stdout",
          "output_type": "stream",
          "text": [
            "Total time: 64.56098508834839\n",
            "(0.125, 0.19342640361727081)\n"
          ]
        },
        {
          "name": "stderr",
          "output_type": "stream",
          "text": [
            "23/06/28 06:54:29 WARN CacheManager: Asked to cache already cached data.        \n",
            "                                                                                \r"
          ]
        },
        {
          "name": "stdout",
          "output_type": "stream",
          "text": [
            "Total time: 95.8157639503479\n",
            "(0.0, 0)\n"
          ]
        },
        {
          "name": "stderr",
          "output_type": "stream",
          "text": [
            "23/06/28 07:02:04 WARN CacheManager: Asked to cache already cached data.        \n",
            "                                                                                \r"
          ]
        },
        {
          "name": "stdout",
          "output_type": "stream",
          "text": [
            "Total time: 460.49396109580994\n",
            "(0.12962962962962962, 0.4846208832310832)\n"
          ]
        },
        {
          "name": "stderr",
          "output_type": "stream",
          "text": [
            "23/06/28 07:05:03 WARN CacheManager: Asked to cache already cached data.        \n",
            "                                                                                \r"
          ]
        },
        {
          "name": "stdout",
          "output_type": "stream",
          "text": [
            "Total time: 171.67520999908447\n",
            "(0.0, 0)\n"
          ]
        },
        {
          "name": "stderr",
          "output_type": "stream",
          "text": [
            "23/06/28 07:05:53 WARN CacheManager: Asked to cache already cached data.        \n",
            "                                                                                \r"
          ]
        },
        {
          "name": "stdout",
          "output_type": "stream",
          "text": [
            "Total time: 50.36468291282654\n",
            "(0.16666666666666666, 0.19342640361727081)\n"
          ]
        },
        {
          "name": "stderr",
          "output_type": "stream",
          "text": [
            "23/06/28 07:07:05 WARN CacheManager: Asked to cache already cached data.        \n",
            "                                                                                \r"
          ]
        },
        {
          "name": "stdout",
          "output_type": "stream",
          "text": [
            "Total time: 70.47910475730896\n",
            "(0.0, 0)\n"
          ]
        },
        {
          "name": "stderr",
          "output_type": "stream",
          "text": [
            "23/06/28 07:10:06 WARN CacheManager: Asked to cache already cached data.        \n",
            "                                                                                \r"
          ]
        },
        {
          "name": "stdout",
          "output_type": "stream",
          "text": [
            "Total time: 181.0778729915619\n",
            "(0.0, 0)\n"
          ]
        },
        {
          "name": "stderr",
          "output_type": "stream",
          "text": [
            "23/06/28 07:11:16 WARN CacheManager: Asked to cache already cached data.        \n",
            "                                                                                \r"
          ]
        },
        {
          "name": "stdout",
          "output_type": "stream",
          "text": [
            "Total time: 70.68099522590637\n",
            "(0.0, 0)\n"
          ]
        },
        {
          "name": "stderr",
          "output_type": "stream",
          "text": [
            "23/06/28 07:14:27 WARN CacheManager: Asked to cache already cached data.        \n",
            "                                                                                \r"
          ]
        },
        {
          "name": "stdout",
          "output_type": "stream",
          "text": [
            "Total time: 194.17311716079712\n",
            "(0.15789473684210525, 0.4980319277257843)\n"
          ]
        },
        {
          "name": "stderr",
          "output_type": "stream",
          "text": [
            "23/06/28 07:15:37 WARN CacheManager: Asked to cache already cached data.        \n",
            "                                                                                \r"
          ]
        },
        {
          "name": "stdout",
          "output_type": "stream",
          "text": [
            "Total time: 66.12962102890015\n",
            "(0.0, 0)\n"
          ]
        },
        {
          "name": "stderr",
          "output_type": "stream",
          "text": [
            "23/06/28 07:16:47 WARN CacheManager: Asked to cache already cached data.        \n",
            "                                                                                \r"
          ]
        },
        {
          "name": "stdout",
          "output_type": "stream",
          "text": [
            "Total time: 70.23906517028809\n",
            "(0.0, 0)\n"
          ]
        },
        {
          "name": "stderr",
          "output_type": "stream",
          "text": [
            "23/06/28 07:20:18 WARN CacheManager: Asked to cache already cached data.        \n",
            "                                                                                \r"
          ]
        },
        {
          "name": "stdout",
          "output_type": "stream",
          "text": [
            "Total time: 210.78876972198486\n",
            "(0.0, 0)\n"
          ]
        },
        {
          "name": "stderr",
          "output_type": "stream",
          "text": [
            "23/06/28 07:22:06 WARN CacheManager: Asked to cache already cached data.        \n",
            "                                                                                \r"
          ]
        },
        {
          "name": "stdout",
          "output_type": "stream",
          "text": [
            "Total time: 108.7765839099884\n",
            "(0.23076923076923078, 0.8403030283801005)\n"
          ]
        },
        {
          "name": "stderr",
          "output_type": "stream",
          "text": [
            "23/06/28 07:26:29 WARN CacheManager: Asked to cache already cached data.        \n",
            "                                                                                \r"
          ]
        },
        {
          "name": "stdout",
          "output_type": "stream",
          "text": [
            "Total time: 264.756933927536\n",
            "(0.34375, 0.944464215882949)\n"
          ]
        },
        {
          "name": "stderr",
          "output_type": "stream",
          "text": [
            "23/06/28 07:29:39 WARN CacheManager: Asked to cache already cached data.        \n",
            "                                                                                \r"
          ]
        },
        {
          "name": "stdout",
          "output_type": "stream",
          "text": [
            "Total time: 186.11249995231628\n",
            "(0.18181818181818182, 0.5254134376959458)\n"
          ]
        },
        {
          "name": "stderr",
          "output_type": "stream",
          "text": [
            "23/06/28 07:30:39 WARN CacheManager: Asked to cache already cached data.        \n",
            "                                                                                \r"
          ]
        },
        {
          "name": "stdout",
          "output_type": "stream",
          "text": [
            "Total time: 60.125935077667236\n",
            "(0.25, 0.6199062332840657)\n"
          ]
        },
        {
          "name": "stderr",
          "output_type": "stream",
          "text": [
            "23/06/28 07:35:59 WARN CacheManager: Asked to cache already cached data.        \n",
            "                                                                                \r"
          ]
        },
        {
          "name": "stdout",
          "output_type": "stream",
          "text": [
            "Total time: 323.72880482673645\n",
            "(0.045454545454545456, 0.1495589793823429)\n"
          ]
        },
        {
          "name": "stderr",
          "output_type": "stream",
          "text": [
            "23/06/28 07:37:05 WARN CacheManager: Asked to cache already cached data.        \n",
            "                                                                                \r"
          ]
        },
        {
          "name": "stdout",
          "output_type": "stream",
          "text": [
            "Total time: 61.972930908203125\n",
            "(0.0, 0)\n"
          ]
        },
        {
          "name": "stderr",
          "output_type": "stream",
          "text": [
            "23/06/28 07:44:36 WARN CacheManager: Asked to cache already cached data.        \n",
            "                                                                                \r"
          ]
        },
        {
          "name": "stdout",
          "output_type": "stream",
          "text": [
            "Total time: 456.02159118652344\n",
            "(0.25925925925925924, 0.936437085275775)\n"
          ]
        },
        {
          "name": "stderr",
          "output_type": "stream",
          "text": [
            "23/06/28 07:53:27 WARN CacheManager: Asked to cache already cached data.        \n",
            "                                                                                \r"
          ]
        },
        {
          "name": "stdout",
          "output_type": "stream",
          "text": [
            "Total time: 531.4307820796967\n",
            "(0.21052631578947367, 0.9059597116485523)\n"
          ]
        },
        {
          "name": "stderr",
          "output_type": "stream",
          "text": [
            "23/06/28 07:54:15 WARN CacheManager: Asked to cache already cached data.        \n",
            "                                                                                \r"
          ]
        },
        {
          "name": "stdout",
          "output_type": "stream",
          "text": [
            "Total time: 41.49522805213928\n",
            "(0.0, 0)\n"
          ]
        },
        {
          "name": "stderr",
          "output_type": "stream",
          "text": [
            "23/06/28 07:55:53 WARN CacheManager: Asked to cache already cached data.        \n",
            "                                                                                \r"
          ]
        },
        {
          "name": "stdout",
          "output_type": "stream",
          "text": [
            "Total time: 97.24690008163452\n",
            "(0.0, 0)\n"
          ]
        },
        {
          "name": "stderr",
          "output_type": "stream",
          "text": [
            "23/06/28 07:57:34 WARN CacheManager: Asked to cache already cached data.        \n",
            "                                                                                \r"
          ]
        },
        {
          "name": "stdout",
          "output_type": "stream",
          "text": [
            "Total time: 99.69596886634827\n",
            "(0.5, 0.9020243604942442)\n"
          ]
        },
        {
          "name": "stderr",
          "output_type": "stream",
          "text": [
            "23/06/28 07:59:02 WARN CacheManager: Asked to cache already cached data.        \n",
            "                                                                                \r"
          ]
        },
        {
          "name": "stdout",
          "output_type": "stream",
          "text": [
            "Total time: 87.08800005912781\n",
            "(0.0, 0)\n"
          ]
        },
        {
          "name": "stderr",
          "output_type": "stream",
          "text": [
            "23/06/28 08:02:05 WARN CacheManager: Asked to cache already cached data.        \n",
            "                                                                                \r"
          ]
        },
        {
          "name": "stdout",
          "output_type": "stream",
          "text": [
            "Total time: 183.09682893753052\n",
            "(0.0, 0)\n"
          ]
        },
        {
          "name": "stderr",
          "output_type": "stream",
          "text": [
            "23/06/28 08:02:38 WARN CacheManager: Asked to cache already cached data.        \n",
            "                                                                                \r"
          ]
        },
        {
          "name": "stdout",
          "output_type": "stream",
          "text": [
            "Total time: 32.37287616729736\n",
            "(0.0, 0)\n"
          ]
        },
        {
          "name": "stderr",
          "output_type": "stream",
          "text": [
            "23/06/28 08:05:43 WARN CacheManager: Asked to cache already cached data.        \n",
            "                                                                                \r"
          ]
        },
        {
          "name": "stdout",
          "output_type": "stream",
          "text": [
            "Total time: 184.7155840396881\n",
            "(0.0, 0)\n"
          ]
        },
        {
          "name": "stderr",
          "output_type": "stream",
          "text": [
            "23/06/28 08:07:08 WARN CacheManager: Asked to cache already cached data.        \n",
            "                                                                                \r"
          ]
        },
        {
          "name": "stdout",
          "output_type": "stream",
          "text": [
            "Total time: 84.73137927055359\n",
            "(0.0, 0)\n"
          ]
        },
        {
          "name": "stderr",
          "output_type": "stream",
          "text": [
            "23/06/28 08:08:54 WARN CacheManager: Asked to cache already cached data.        \n",
            "                                                                                \r"
          ]
        },
        {
          "name": "stdout",
          "output_type": "stream",
          "text": [
            "Total time: 106.26601505279541\n",
            "(0.2222222222222222, 0.25529836476324147)\n"
          ]
        },
        {
          "name": "stderr",
          "output_type": "stream",
          "text": [
            "23/06/28 08:10:17 WARN CacheManager: Asked to cache already cached data.        \n",
            "                                                                                \r"
          ]
        },
        {
          "name": "stdout",
          "output_type": "stream",
          "text": [
            "Total time: 83.6022081375122\n",
            "(0.0, 0)\n"
          ]
        },
        {
          "name": "stderr",
          "output_type": "stream",
          "text": [
            "23/06/28 08:17:32 WARN CacheManager: Asked to cache already cached data.        \n",
            "                                                                                \r"
          ]
        },
        {
          "name": "stdout",
          "output_type": "stream",
          "text": [
            "Total time: 441.8962700366974\n",
            "(0.09375, 0.7278805738300373)\n"
          ]
        },
        {
          "name": "stderr",
          "output_type": "stream",
          "text": [
            "23/06/28 08:19:05 WARN CacheManager: Asked to cache already cached data.        \n",
            "                                                                                \r"
          ]
        },
        {
          "name": "stdout",
          "output_type": "stream",
          "text": [
            "Total time: 83.84768009185791\n",
            "(0.0, 0)\n"
          ]
        },
        {
          "name": "stderr",
          "output_type": "stream",
          "text": [
            "23/06/28 08:21:51 WARN CacheManager: Asked to cache already cached data.        \n",
            "                                                                                \r"
          ]
        },
        {
          "name": "stdout",
          "output_type": "stream",
          "text": [
            "Total time: 166.71985411643982\n",
            "(0.09090909090909091, 0.5)\n"
          ]
        },
        {
          "name": "stderr",
          "output_type": "stream",
          "text": [
            "23/06/28 08:23:07 WARN CacheManager: Asked to cache already cached data.        \n",
            "                                                                                \r"
          ]
        },
        {
          "name": "stdout",
          "output_type": "stream",
          "text": [
            "Total time: 74.56708908081055\n",
            "(0.0, 0)\n"
          ]
        },
        {
          "name": "stderr",
          "output_type": "stream",
          "text": [
            "23/06/28 08:25:52 WARN CacheManager: Asked to cache already cached data.        \n",
            "                                                                                \r"
          ]
        },
        {
          "name": "stdout",
          "output_type": "stream",
          "text": [
            "Total time: 164.9668869972229\n",
            "(0.0, 0)\n"
          ]
        },
        {
          "name": "stderr",
          "output_type": "stream",
          "text": [
            "23/06/28 08:31:31 WARN CacheManager: Asked to cache already cached data.        \n",
            "                                                                                \r"
          ]
        },
        {
          "name": "stdout",
          "output_type": "stream",
          "text": [
            "Total time: 343.8171169757843\n",
            "(0.037037037037037035, 0.21533827903669653)\n"
          ]
        },
        {
          "name": "stderr",
          "output_type": "stream",
          "text": [
            "23/06/28 08:34:52 WARN CacheManager: Asked to cache already cached data.        \n",
            "                                                                                \r"
          ]
        },
        {
          "name": "stdout",
          "output_type": "stream",
          "text": [
            "Total time: 196.98661088943481\n",
            "(0.125, 0.506791688954579)\n"
          ]
        },
        {
          "name": "stderr",
          "output_type": "stream",
          "text": [
            "23/06/28 08:45:40 WARN CacheManager: Asked to cache already cached data.        \n",
            "                                                                                \r"
          ]
        },
        {
          "name": "stdout",
          "output_type": "stream",
          "text": [
            "Total time: 650.9115550518036\n",
            "(0.0196078431372549, 0.1138351243484765)\n"
          ]
        },
        {
          "name": "stderr",
          "output_type": "stream",
          "text": [
            "23/06/28 08:46:09 WARN CacheManager: Asked to cache already cached data.        \n",
            "                                                                                \r"
          ]
        },
        {
          "name": "stdout",
          "output_type": "stream",
          "text": [
            "Total time: 22.204910039901733\n",
            "(0.0, 0)\n"
          ]
        },
        {
          "name": "stderr",
          "output_type": "stream",
          "text": [
            "23/06/28 08:51:24 WARN CacheManager: Asked to cache already cached data.        \n",
            "                                                                                \r"
          ]
        },
        {
          "name": "stdout",
          "output_type": "stream",
          "text": [
            "Total time: 319.38340616226196\n",
            "(0.07692307692307693, 0.1744814589722736)\n"
          ]
        },
        {
          "name": "stderr",
          "output_type": "stream",
          "text": [
            "23/06/28 08:53:08 WARN CacheManager: Asked to cache already cached data.        \n",
            "                                                                                \r"
          ]
        },
        {
          "name": "stdout",
          "output_type": "stream",
          "text": [
            "Total time: 98.99675512313843\n",
            "(0.0, 0)\n"
          ]
        },
        {
          "name": "stderr",
          "output_type": "stream",
          "text": [
            "23/06/28 08:56:51 WARN CacheManager: Asked to cache already cached data.        \n",
            "                                                                                \r"
          ]
        },
        {
          "name": "stdout",
          "output_type": "stream",
          "text": [
            "Total time: 223.08667302131653\n",
            "(0.058823529411764705, 0.16666666666666666)\n"
          ]
        },
        {
          "name": "stderr",
          "output_type": "stream",
          "text": [
            "23/06/28 08:57:37 WARN CacheManager: Asked to cache already cached data.        \n",
            "                                                                                \r"
          ]
        },
        {
          "name": "stdout",
          "output_type": "stream",
          "text": [
            "Total time: 43.774588108062744\n",
            "(0.0, 0)\n"
          ]
        },
        {
          "name": "stderr",
          "output_type": "stream",
          "text": [
            "23/06/28 08:58:33 WARN CacheManager: Asked to cache already cached data.        \n",
            "                                                                                \r"
          ]
        },
        {
          "name": "stdout",
          "output_type": "stream",
          "text": [
            "Total time: 56.881685972213745\n",
            "(0.5, 0.6806060567602009)\n"
          ]
        },
        {
          "name": "stderr",
          "output_type": "stream",
          "text": [
            "23/06/28 08:59:43 WARN CacheManager: Asked to cache already cached data.        \n",
            "                                                                                \r"
          ]
        },
        {
          "name": "stdout",
          "output_type": "stream",
          "text": [
            "Total time: 69.44867205619812\n",
            "(0.0, 0)\n"
          ]
        },
        {
          "name": "stderr",
          "output_type": "stream",
          "text": [
            "23/06/28 09:10:11 WARN CacheManager: Asked to cache already cached data.        \n",
            "                                                                                \r"
          ]
        },
        {
          "name": "stdout",
          "output_type": "stream",
          "text": [
            "Total time: 636.2241098880768\n",
            "(0.06666666666666667, 0.5021836816544296)\n"
          ]
        },
        {
          "name": "stderr",
          "output_type": "stream",
          "text": [
            "23/06/28 09:11:08 WARN CacheManager: Asked to cache already cached data.        \n",
            "                                                                                \r"
          ]
        },
        {
          "name": "stdout",
          "output_type": "stream",
          "text": [
            "Total time: 48.18517088890076\n",
            "(0.0, 0)\n"
          ]
        },
        {
          "name": "stderr",
          "output_type": "stream",
          "text": [
            "23/06/28 09:19:41 WARN CacheManager: Asked to cache already cached data.        \n",
            "                                                                                \r"
          ]
        },
        {
          "name": "stdout",
          "output_type": "stream",
          "text": [
            "Total time: 514.0753619670868\n",
            "(0.029411764705882353, 0.5)\n"
          ]
        },
        {
          "name": "stderr",
          "output_type": "stream",
          "text": [
            "23/06/28 09:26:39 WARN CacheManager: Asked to cache already cached data.        \n",
            "                                                                                \r"
          ]
        },
        {
          "name": "stdout",
          "output_type": "stream",
          "text": [
            "Total time: 417.19845604896545\n",
            "(0.0625, 0.16271218644623256)\n"
          ]
        },
        {
          "name": "stderr",
          "output_type": "stream",
          "text": [
            "23/06/28 09:28:28 WARN CacheManager: Asked to cache already cached data. 1) / 1]\n",
            "                                                                                \r"
          ]
        },
        {
          "name": "stdout",
          "output_type": "stream",
          "text": [
            "Total time: 106.78793811798096\n",
            "(0.0, 0)\n"
          ]
        },
        {
          "name": "stderr",
          "output_type": "stream",
          "text": [
            "23/06/28 09:29:39 WARN CacheManager: Asked to cache already cached data.        \n",
            "                                                                                \r"
          ]
        },
        {
          "name": "stdout",
          "output_type": "stream",
          "text": [
            "Total time: 68.4764232635498\n",
            "(0.16666666666666666, 0.25)\n"
          ]
        },
        {
          "name": "stderr",
          "output_type": "stream",
          "text": [
            "23/06/28 09:30:59 WARN CacheManager: Asked to cache already cached data.        \n",
            "                                                                                \r"
          ]
        },
        {
          "name": "stdout",
          "output_type": "stream",
          "text": [
            "Total time: 79.87698006629944\n",
            "(0.14285714285714285, 0.5)\n"
          ]
        },
        {
          "name": "stderr",
          "output_type": "stream",
          "text": [
            "23/06/28 09:34:06 WARN CacheManager: Asked to cache already cached data.        \n",
            "                                                                                \r"
          ]
        },
        {
          "name": "stdout",
          "output_type": "stream",
          "text": [
            "Total time: 187.3381950855255\n",
            "(0.0, 0)\n"
          ]
        },
        {
          "name": "stderr",
          "output_type": "stream",
          "text": [
            "23/06/28 09:37:13 WARN CacheManager: Asked to cache already cached data.        \n",
            "                                                                                \r"
          ]
        },
        {
          "name": "stdout",
          "output_type": "stream",
          "text": [
            "Total time: 185.25148797035217\n",
            "(0.0, 0)\n"
          ]
        },
        {
          "name": "stderr",
          "output_type": "stream",
          "text": [
            "23/06/28 09:41:21 WARN CacheManager: Asked to cache already cached data.        \n",
            "                                                                                \r"
          ]
        },
        {
          "name": "stdout",
          "output_type": "stream",
          "text": [
            "Total time: 249.25686287879944\n",
            "(0.0, 0)\n"
          ]
        },
        {
          "name": "stderr",
          "output_type": "stream",
          "text": [
            "23/06/28 09:47:44 WARN CacheManager: Asked to cache already cached data.        \n",
            "                                                                                \r"
          ]
        },
        {
          "name": "stdout",
          "output_type": "stream",
          "text": [
            "Total time: 388.57246112823486\n",
            "(0.2, 0.9020243604942442)\n"
          ]
        },
        {
          "name": "stderr",
          "output_type": "stream",
          "text": [
            "23/06/28 09:50:36 WARN CacheManager: Asked to cache already cached data.        \n",
            "                                                                                \r"
          ]
        },
        {
          "name": "stdout",
          "output_type": "stream",
          "text": [
            "Total time: 169.05308175086975\n",
            "(0.0, 0)\n"
          ]
        },
        {
          "name": "stderr",
          "output_type": "stream",
          "text": [
            "ERROR:root:KeyboardInterrupt while sending command.                 (0 + 8) / 9]\n",
            "Traceback (most recent call last):\n",
            "  File \"/Users/dov/miniconda3/envs/dl/lib/python3.10/site-packages/py4j/java_gateway.py\", line 1038, in send_command\n",
            "    response = connection.send_command(command)\n",
            "  File \"/Users/dov/miniconda3/envs/dl/lib/python3.10/site-packages/py4j/clientserver.py\", line 511, in send_command\n",
            "    answer = smart_decode(self.stream.readline()[:-1])\n",
            "  File \"/Users/dov/miniconda3/envs/dl/lib/python3.10/socket.py\", line 705, in readinto\n",
            "    return self._sock.recv_into(b)\n",
            "KeyboardInterrupt\n",
            "                                                                                \r"
          ]
        },
        {
          "ename": "KeyboardInterrupt",
          "evalue": "",
          "output_type": "error",
          "traceback": [
            "\u001b[0;31m---------------------------------------------------------------------------\u001b[0m",
            "\u001b[0;31mKeyboardInterrupt\u001b[0m                         Traceback (most recent call last)",
            "Cell \u001b[0;32mIn[25], line 24\u001b[0m\n\u001b[1;32m     21\u001b[0m     json\u001b[39m.\u001b[39mdump(results, f)\n\u001b[1;32m     22\u001b[0m   \u001b[39mreturn\u001b[39;00m results\n\u001b[0;32m---> 24\u001b[0m results \u001b[39m=\u001b[39m perform_evaluation()\n",
            "Cell \u001b[0;32mIn[25], line 12\u001b[0m, in \u001b[0;36mperform_evaluation\u001b[0;34m()\u001b[0m\n\u001b[1;32m     10\u001b[0m CHECKPOINT_RESULTS \u001b[39m=\u001b[39m os\u001b[39m.\u001b[39mpath\u001b[39m.\u001b[39mjoin(GDRIVE_DATA_DIR, \u001b[39m\"\u001b[39m\u001b[39mitem_base_evaluation\u001b[39m\u001b[39m\"\u001b[39m, \u001b[39mf\u001b[39m\u001b[39m\"\u001b[39m\u001b[39mIB_evaluation_results_check_\u001b[39m\u001b[39m{\u001b[39;00mindex\u001b[39m}\u001b[39;00m\u001b[39m\"\u001b[39m)\n\u001b[1;32m     11\u001b[0m pid \u001b[39m=\u001b[39m row[\u001b[39m'\u001b[39m\u001b[39mpid\u001b[39m\u001b[39m'\u001b[39m]\n\u001b[0;32m---> 12\u001b[0m train, test, gt, rec, prec, gain \u001b[39m=\u001b[39m evaluate(pid,transformed_playlist_map)\n\u001b[1;32m     13\u001b[0m \u001b[39mprint\u001b[39m((prec, gain))\n\u001b[1;32m     14\u001b[0m results\u001b[39m.\u001b[39mappend((prec, gain))\n",
            "Cell \u001b[0;32mIn[24], line 8\u001b[0m, in \u001b[0;36mevaluate\u001b[0;34m(pid, playlist_map)\u001b[0m\n\u001b[1;32m      6\u001b[0m ground_truth \u001b[39m=\u001b[39m playlist_test\u001b[39m.\u001b[39mselect(F\u001b[39m.\u001b[39mexplode(\u001b[39m\"\u001b[39m\u001b[39mtracks\u001b[39m\u001b[39m\"\u001b[39m))\u001b[39m.\u001b[39mselect(\u001b[39m\"\u001b[39m\u001b[39mcol.*\u001b[39m\u001b[39m\"\u001b[39m)\u001b[39m.\u001b[39mcache()\n\u001b[1;32m      7\u001b[0m num_of_recommendations \u001b[39m=\u001b[39m ground_truth\u001b[39m.\u001b[39mcount()\n\u001b[0;32m----> 8\u001b[0m recommendations \u001b[39m=\u001b[39m item_based_recommendation(playlist_train, playlist_map, model, k\u001b[39m=\u001b[39;49mnum_of_recommendations)\u001b[39m.\u001b[39mcache()\n\u001b[1;32m     10\u001b[0m precision \u001b[39m=\u001b[39m precision_at_k(recommendations, ground_truth, num_of_recommendations)\n\u001b[1;32m     11\u001b[0m gain \u001b[39m=\u001b[39m normalized_discounted_cumulative_gain(recommendations, ground_truth, num_of_recommendations)\n",
            "Cell \u001b[0;32mIn[22], line 3\u001b[0m, in \u001b[0;36mitem_based_recommendation\u001b[0;34m(playlist, playlist_map, model, k)\u001b[0m\n\u001b[1;32m      1\u001b[0m \u001b[39mdef\u001b[39;00m \u001b[39mitem_based_recommendation\u001b[39m(playlist: DataFrame,playlist_map: DataFrame, model: MinHashLSHModel, k\u001b[39m=\u001b[39m\u001b[39m50\u001b[39m):\n\u001b[1;32m      2\u001b[0m   playlist_songs \u001b[39m=\u001b[39m playlist\u001b[39m.\u001b[39mselect(F\u001b[39m.\u001b[39mexplode(\u001b[39m\"\u001b[39m\u001b[39mtracks\u001b[39m\u001b[39m\"\u001b[39m))\u001b[39m.\u001b[39mselect(\u001b[39m\"\u001b[39m\u001b[39mcol.*\u001b[39m\u001b[39m\"\u001b[39m)\n\u001b[0;32m----> 3\u001b[0m   recommendations \u001b[39m=\u001b[39m extract_similar_songs(playlist_songs, playlist_map, model, \u001b[39m20\u001b[39;49m, disable_pbar\u001b[39m=\u001b[39;49m\u001b[39mTrue\u001b[39;49;00m)\n\u001b[1;32m      4\u001b[0m   recommendations_df \u001b[39m=\u001b[39m aggregate_recommendations(recommendations)\n\u001b[1;32m      5\u001b[0m   recommendations_df \u001b[39m=\u001b[39m remove_existing_tracks(playlist_songs, recommendations_df)\n",
            "Cell \u001b[0;32mIn[18], line 9\u001b[0m, in \u001b[0;36mextract_similar_songs\u001b[0;34m(playlist_tracks, playlist_map, model, k, disable_pbar)\u001b[0m\n\u001b[1;32m      7\u001b[0m \u001b[39mfor\u001b[39;00m row \u001b[39min\u001b[39;00m tqdm(tracks_embedding\u001b[39m.\u001b[39mcollect(), desc\u001b[39m=\u001b[39m\u001b[39m'\u001b[39m\u001b[39mExtracting k-neighbors\u001b[39m\u001b[39m'\u001b[39m, disable\u001b[39m=\u001b[39mdisable_pbar):\n\u001b[1;32m      8\u001b[0m   k_neigh \u001b[39m=\u001b[39m model\u001b[39m.\u001b[39mapproxNearestNeighbors(playlist_map, row[\u001b[39m\"\u001b[39m\u001b[39membedding\u001b[39m\u001b[39m\"\u001b[39m], k)\u001b[39m.\u001b[39mcache()\n\u001b[0;32m----> 9\u001b[0m   k_neighs\u001b[39m.\u001b[39mappend(df_to_dict(k_neigh))\n\u001b[1;32m     11\u001b[0m aggregate_df \u001b[39m=\u001b[39m reduce(merge_dicts, k_neighs)\n\u001b[1;32m     13\u001b[0m transformed_tracks_embeddings\u001b[39m.\u001b[39munpersist()\n",
            "Cell \u001b[0;32mIn[17], line 2\u001b[0m, in \u001b[0;36mdf_to_dict\u001b[0;34m(df)\u001b[0m\n\u001b[1;32m      1\u001b[0m \u001b[39mdef\u001b[39;00m \u001b[39mdf_to_dict\u001b[39m(df: DataFrame) \u001b[39m-\u001b[39m\u001b[39m>\u001b[39m DataFrame:\n\u001b[0;32m----> 2\u001b[0m   \u001b[39mreturn\u001b[39;00m df\u001b[39m.\u001b[39;49mselect(\u001b[39m\"\u001b[39;49m\u001b[39mtrack_uri\u001b[39;49m\u001b[39m\"\u001b[39;49m, \u001b[39m\"\u001b[39;49m\u001b[39mdistCol\u001b[39;49m\u001b[39m\"\u001b[39;49m)\u001b[39m.\u001b[39;49mrdd\u001b[39m.\u001b[39;49mcollectAsMap()\n",
            "File \u001b[0;32m~/miniconda3/envs/dl/lib/python3.10/site-packages/pyspark/rdd.py:3438\u001b[0m, in \u001b[0;36mRDD.collectAsMap\u001b[0;34m(self)\u001b[0m\n\u001b[1;32m   3410\u001b[0m \u001b[39mdef\u001b[39;00m \u001b[39mcollectAsMap\u001b[39m(\u001b[39mself\u001b[39m: \u001b[39m\"\u001b[39m\u001b[39mRDD[Tuple[K, V]]\u001b[39m\u001b[39m\"\u001b[39m) \u001b[39m-\u001b[39m\u001b[39m>\u001b[39m Dict[K, V]:\n\u001b[1;32m   3411\u001b[0m \u001b[39m    \u001b[39m\u001b[39m\"\"\"\u001b[39;00m\n\u001b[1;32m   3412\u001b[0m \u001b[39m    Return the key-value pairs in this RDD to the master as a dictionary.\u001b[39;00m\n\u001b[1;32m   3413\u001b[0m \n\u001b[0;32m   (...)\u001b[0m\n\u001b[1;32m   3436\u001b[0m \u001b[39m    4\u001b[39;00m\n\u001b[1;32m   3437\u001b[0m \u001b[39m    \"\"\"\u001b[39;00m\n\u001b[0;32m-> 3438\u001b[0m     \u001b[39mreturn\u001b[39;00m \u001b[39mdict\u001b[39m(\u001b[39mself\u001b[39;49m\u001b[39m.\u001b[39;49mcollect())\n",
            "File \u001b[0;32m~/miniconda3/envs/dl/lib/python3.10/site-packages/pyspark/rdd.py:1814\u001b[0m, in \u001b[0;36mRDD.collect\u001b[0;34m(self)\u001b[0m\n\u001b[1;32m   1812\u001b[0m \u001b[39mwith\u001b[39;00m SCCallSiteSync(\u001b[39mself\u001b[39m\u001b[39m.\u001b[39mcontext):\n\u001b[1;32m   1813\u001b[0m     \u001b[39massert\u001b[39;00m \u001b[39mself\u001b[39m\u001b[39m.\u001b[39mctx\u001b[39m.\u001b[39m_jvm \u001b[39mis\u001b[39;00m \u001b[39mnot\u001b[39;00m \u001b[39mNone\u001b[39;00m\n\u001b[0;32m-> 1814\u001b[0m     sock_info \u001b[39m=\u001b[39m \u001b[39mself\u001b[39;49m\u001b[39m.\u001b[39;49mctx\u001b[39m.\u001b[39;49m_jvm\u001b[39m.\u001b[39;49mPythonRDD\u001b[39m.\u001b[39;49mcollectAndServe(\u001b[39mself\u001b[39;49m\u001b[39m.\u001b[39;49m_jrdd\u001b[39m.\u001b[39;49mrdd())\n\u001b[1;32m   1815\u001b[0m \u001b[39mreturn\u001b[39;00m \u001b[39mlist\u001b[39m(_load_from_socket(sock_info, \u001b[39mself\u001b[39m\u001b[39m.\u001b[39m_jrdd_deserializer))\n",
            "File \u001b[0;32m~/miniconda3/envs/dl/lib/python3.10/site-packages/py4j/java_gateway.py:1321\u001b[0m, in \u001b[0;36mJavaMember.__call__\u001b[0;34m(self, *args)\u001b[0m\n\u001b[1;32m   1314\u001b[0m args_command, temp_args \u001b[39m=\u001b[39m \u001b[39mself\u001b[39m\u001b[39m.\u001b[39m_build_args(\u001b[39m*\u001b[39margs)\n\u001b[1;32m   1316\u001b[0m command \u001b[39m=\u001b[39m proto\u001b[39m.\u001b[39mCALL_COMMAND_NAME \u001b[39m+\u001b[39m\\\n\u001b[1;32m   1317\u001b[0m     \u001b[39mself\u001b[39m\u001b[39m.\u001b[39mcommand_header \u001b[39m+\u001b[39m\\\n\u001b[1;32m   1318\u001b[0m     args_command \u001b[39m+\u001b[39m\\\n\u001b[1;32m   1319\u001b[0m     proto\u001b[39m.\u001b[39mEND_COMMAND_PART\n\u001b[0;32m-> 1321\u001b[0m answer \u001b[39m=\u001b[39m \u001b[39mself\u001b[39;49m\u001b[39m.\u001b[39;49mgateway_client\u001b[39m.\u001b[39;49msend_command(command)\n\u001b[1;32m   1322\u001b[0m return_value \u001b[39m=\u001b[39m get_return_value(\n\u001b[1;32m   1323\u001b[0m     answer, \u001b[39mself\u001b[39m\u001b[39m.\u001b[39mgateway_client, \u001b[39mself\u001b[39m\u001b[39m.\u001b[39mtarget_id, \u001b[39mself\u001b[39m\u001b[39m.\u001b[39mname)\n\u001b[1;32m   1325\u001b[0m \u001b[39mfor\u001b[39;00m temp_arg \u001b[39min\u001b[39;00m temp_args:\n",
            "File \u001b[0;32m~/miniconda3/envs/dl/lib/python3.10/site-packages/py4j/java_gateway.py:1038\u001b[0m, in \u001b[0;36mGatewayClient.send_command\u001b[0;34m(self, command, retry, binary)\u001b[0m\n\u001b[1;32m   1036\u001b[0m connection \u001b[39m=\u001b[39m \u001b[39mself\u001b[39m\u001b[39m.\u001b[39m_get_connection()\n\u001b[1;32m   1037\u001b[0m \u001b[39mtry\u001b[39;00m:\n\u001b[0;32m-> 1038\u001b[0m     response \u001b[39m=\u001b[39m connection\u001b[39m.\u001b[39;49msend_command(command)\n\u001b[1;32m   1039\u001b[0m     \u001b[39mif\u001b[39;00m binary:\n\u001b[1;32m   1040\u001b[0m         \u001b[39mreturn\u001b[39;00m response, \u001b[39mself\u001b[39m\u001b[39m.\u001b[39m_create_connection_guard(connection)\n",
            "File \u001b[0;32m~/miniconda3/envs/dl/lib/python3.10/site-packages/py4j/clientserver.py:511\u001b[0m, in \u001b[0;36mClientServerConnection.send_command\u001b[0;34m(self, command)\u001b[0m\n\u001b[1;32m    509\u001b[0m \u001b[39mtry\u001b[39;00m:\n\u001b[1;32m    510\u001b[0m     \u001b[39mwhile\u001b[39;00m \u001b[39mTrue\u001b[39;00m:\n\u001b[0;32m--> 511\u001b[0m         answer \u001b[39m=\u001b[39m smart_decode(\u001b[39mself\u001b[39;49m\u001b[39m.\u001b[39;49mstream\u001b[39m.\u001b[39;49mreadline()[:\u001b[39m-\u001b[39m\u001b[39m1\u001b[39m])\n\u001b[1;32m    512\u001b[0m         logger\u001b[39m.\u001b[39mdebug(\u001b[39m\"\u001b[39m\u001b[39mAnswer received: \u001b[39m\u001b[39m{0}\u001b[39;00m\u001b[39m\"\u001b[39m\u001b[39m.\u001b[39mformat(answer))\n\u001b[1;32m    513\u001b[0m         \u001b[39m# Happens when a the other end is dead. There might be an empty\u001b[39;00m\n\u001b[1;32m    514\u001b[0m         \u001b[39m# answer before the socket raises an error.\u001b[39;00m\n",
            "File \u001b[0;32m~/miniconda3/envs/dl/lib/python3.10/socket.py:705\u001b[0m, in \u001b[0;36mSocketIO.readinto\u001b[0;34m(self, b)\u001b[0m\n\u001b[1;32m    703\u001b[0m \u001b[39mwhile\u001b[39;00m \u001b[39mTrue\u001b[39;00m:\n\u001b[1;32m    704\u001b[0m     \u001b[39mtry\u001b[39;00m:\n\u001b[0;32m--> 705\u001b[0m         \u001b[39mreturn\u001b[39;00m \u001b[39mself\u001b[39;49m\u001b[39m.\u001b[39;49m_sock\u001b[39m.\u001b[39;49mrecv_into(b)\n\u001b[1;32m    706\u001b[0m     \u001b[39mexcept\u001b[39;00m timeout:\n\u001b[1;32m    707\u001b[0m         \u001b[39mself\u001b[39m\u001b[39m.\u001b[39m_timeout_occurred \u001b[39m=\u001b[39m \u001b[39mTrue\u001b[39;00m\n",
            "\u001b[0;31mKeyboardInterrupt\u001b[0m: "
          ]
        }
      ],
      "source": [
        "LAST_CHECKPOINT_INDEX = 240\n",
        "EVALUATION_RESULTS_PATH = os.path.join(GDRIVE_DATA_DIR, \"item_base_evaluation\", \"IB_evaluation_results_FINAL\")\n",
        "\n",
        "def perform_evaluation():\n",
        "  SAMPLING_FRACTION = 0.01\n",
        "  sampled_playlists = train_df.sample(False, SAMPLING_FRACTION, seed=42).cache()\n",
        "\n",
        "  transformed_playlist_map = model.transform(playlist_map).cache()\n",
        "  results = []\n",
        "  for index, row in enumerate(tqdm(sampled_playlists.collect(), desc=\"Performing evaluation\")):\n",
        "      if index <= LAST_CHECKPOINT_INDEX: continue \n",
        "\n",
        "      CHECKPOINT_RESULTS = os.path.join(GDRIVE_DATA_DIR, \"item_base_evaluation\", f\"IB_evaluation_results_check_{index}\")\n",
        "      pid = row['pid']\n",
        "      train, test, gt, rec, prec, gain = evaluate(pid,transformed_playlist_map)\n",
        "      print((prec, gain))\n",
        "      results.append((prec, gain))\n",
        "      if index % 10 == 0:\n",
        "         with open(CHECKPOINT_RESULTS, \"w\") as f:\n",
        "            json.dump(results, f)\n",
        "  \n",
        "  sampled_playlists.unpersist() \n",
        "  with open(EVALUATION_RESULTS_PATH, \"w\") as f:\n",
        "    json.dump(results, f)\n",
        "  return results\n",
        "\n",
        "results = perform_evaluation()"
      ]
    },
    {
      "cell_type": "code",
      "execution_count": 29,
      "metadata": {
        "colab": {
          "base_uri": "https://localhost:8080/"
        },
        "id": "lMVlUMTB5MLB",
        "outputId": "6e77ec98-1295-4a23-f5d3-7940aa9cf1dd"
      },
      "outputs": [
        {
          "data": {
            "text/plain": [
              "(0.09350849349560382, 0.26496025670885603)"
            ]
          },
          "execution_count": 29,
          "metadata": {},
          "output_type": "execute_result"
        }
      ],
      "source": [
        "LAST_CHECKPOINT_RESULTS = os.path.join(GDRIVE_DATA_DIR, \"item_base_evaluation\", f\"IB_evaluation_results_check_240\")\n",
        "with open(LAST_CHECKPOINT_RESULTS, \"r\") as f:\n",
        "    results = json.load(f)\n",
        "\n",
        "avg_prec = np.array(results).mean()\n",
        "avg_prec, avg_gain = 0, 0\n",
        "for prec, gain in results:\n",
        "  avg_prec += prec\n",
        "  avg_gain += gain \n",
        "tot = len(results)\n",
        "avg_prec /= tot\n",
        "avg_gain /= tot\n",
        "avg_prec, avg_gain"
      ]
    },
    {
      "cell_type": "code",
      "execution_count": 35,
      "metadata": {
        "colab": {
          "base_uri": "https://localhost:8080/"
        },
        "id": "T3G5cFFW8CyV",
        "outputId": "6860d8e1-eb03-4aee-acd0-2f757b767498"
      },
      "outputs": [
        {
          "data": {
            "text/plain": [
              "[(0.23076923076923078, 0.8403030283801005),\n",
              " (0.16666666666666666, 0.25),\n",
              " (0.045454545454545456, 0.7601875334318686),\n",
              " (0.42857142857142855, 0.37488434580081953),\n",
              " (0.5, 0.5),\n",
              " (0.0, 0),\n",
              " (0.16071428571428573, 0.7963065271236838),\n",
              " (0.1, 0.16666666666666666)]"
            ]
          },
          "execution_count": 35,
          "metadata": {},
          "output_type": "execute_result"
        }
      ],
      "source": [
        "results"
      ]
    },
    {
      "attachments": {},
      "cell_type": "markdown",
      "metadata": {
        "id": "x9gbMKT_lw9S"
      },
      "source": [
        "# All against all tries"
      ]
    },
    {
      "attachments": {},
      "cell_type": "markdown",
      "metadata": {
        "id": "GI8ZtkTmv2qa"
      },
      "source": [
        "Since computing the k nearest neighbors is super slow, I can pre-compute them offline and store them. This will require like 100 years lol."
      ]
    },
    {
      "cell_type": "code",
      "execution_count": 36,
      "metadata": {
        "id": "uzj7kXRNi6ex"
      },
      "outputs": [],
      "source": [
        "mh = MinHashLSH(inputCol=\"embedding\", outputCol=\"hashes\", numHashTables=5)\n",
        "model = mh.fit(playlist_map)"
      ]
    },
    {
      "attachments": {},
      "cell_type": "markdown",
      "metadata": {
        "id": "8ZldxXdXlylr"
      },
      "source": []
    },
    {
      "cell_type": "code",
      "execution_count": null,
      "metadata": {
        "colab": {
          "base_uri": "https://localhost:8080/",
          "height": 535,
          "referenced_widgets": [
            "49a1c7a01352423f94bb60dfe0b3e1f5",
            "2b64f1c614f349ee8218492095bbdc47",
            "f5cb21f6d1224cdd8d120989dda14a0e",
            "b2c37498584a4e249553c1c1741bc797",
            "33c7e9f49ff34a8da278e68ea7c13b13",
            "af437c2a0a37403eabdc5cff537fd1e9",
            "d8e0d48bb9104056a692a8ae4ec045b7",
            "54da270bcbba4831950913a0e323aef5",
            "89453331f508408295254b5649df8e39",
            "410393d13be2441ca1b54bfc5d873f42",
            "deedaef94d554aae908082c916be49f2"
          ]
        },
        "id": "tqV8qF-iv-RA",
        "outputId": "672b4bfa-ea21-4938-a6fb-f55bccbf277b"
      },
      "outputs": [
        {
          "name": "stderr",
          "output_type": "stream",
          "text": [
            "Exception in thread \"serve-DataFrame\" java.net.SocketTimeoutException: Read timed out\n",
            "\tat java.base/sun.nio.ch.NioSocketImpl.timedRead(NioSocketImpl.java:273)\n",
            "\tat java.base/sun.nio.ch.NioSocketImpl.implRead(NioSocketImpl.java:299)\n",
            "\tat java.base/sun.nio.ch.NioSocketImpl.read(NioSocketImpl.java:340)\n",
            "\tat java.base/sun.nio.ch.NioSocketImpl$1.read(NioSocketImpl.java:789)\n",
            "\tat java.base/java.net.Socket$SocketInputStream.read(Socket.java:1025)\n",
            "\tat java.base/java.net.Socket$SocketInputStream.read(Socket.java:1019)\n",
            "\tat java.base/java.io.DataInputStream.readInt(DataInputStream.java:381)\n",
            "\tat org.apache.spark.security.SocketAuthHelper.readUtf8(SocketAuthHelper.scala:103)\n",
            "\tat org.apache.spark.security.SocketAuthHelper.authClient(SocketAuthHelper.scala:57)\n",
            "\tat org.apache.spark.security.SocketAuthServer$$anon$1.run(SocketAuthServer.scala:67)\n"
          ]
        }
      ],
      "source": [
        "def compute_all_k_neighbors(playlist_map: DataFrame, model) -> DataFrame:\n",
        "    result = []\n",
        "    transformed_playlist_map = model.transform(playlist_map).cache()\n",
        "    for index, row in enumerate(tqdm(playlist_map.collect(), desc=\"Computing k-neighbors\")):\n",
        "        k_neighs = model.approxNearestNeighbors(transformed_playlist_map, row.embedding, 10).select(\"track_uri\", F.col(\"distCol\").alias(\"similarity\"))\n",
        "        result.append((row.track_uri, k_neighs.collect()))\n",
        "\n",
        "    k_neighs_schema = StructType([\n",
        "        StructField(\"track_uri\", StringType(), nullable=True),\n",
        "        StructField(\"distCol\", FloatType(), nullable=True)\n",
        "    ])\n",
        "\n",
        "    schema = StructType([\n",
        "        StructField(\"track_uri\", StringType(), nullable=True),\n",
        "        StructField(\"k_neighs\", ArrayType(k_neighs_schema), nullable=True)\n",
        "    ])\n",
        "\n",
        "    result_df = spark.createDataFrame(result, schema)\n",
        "    transformed_playlist_map.unpersist()\n",
        "\n",
        "    return result_df\n",
        "\n",
        "result_df = compute_all_k_neighbors(playlist_map, model)"
      ]
    },
    {
      "cell_type": "code",
      "execution_count": null,
      "metadata": {
        "id": "VVFic9gIM7L_"
      },
      "outputs": [],
      "source": [
        "K_NEIGHBOURS_PATH = os.path.join(GDRIVE_DATA_DIR,\"saved_models\", f\"k_neighbours-{NUM_PLAYLISTS}.parquet\")\n",
        "result_df.write.parquet(K_NEIGHBOURS_PATH)"
      ]
    },
    {
      "attachments": {},
      "cell_type": "markdown",
      "metadata": {
        "id": "aoVjgtwlI9qe"
      },
      "source": [
        "# Old stuff"
      ]
    },
    {
      "cell_type": "code",
      "execution_count": null,
      "metadata": {
        "id": "6VCjq5dxQvr_"
      },
      "outputs": [],
      "source": [
        "def transform_to_aggregate(df: DataFrame) -> DataFrame:\n",
        "  \"\"\"\n",
        "  Transforms the dataframe in order to be compatible for the union with an aggregate df.\n",
        "  \"\"\"\n",
        "  return df.withColumn(\"sum\", F.col(\"similarity\")).withColumnRenamed(\"similarity\", \"squared_sum\")\n",
        "\n",
        "def merge_aggregate_df(aggregate_df: DataFrame, other_df: DataFrame) -> DataFrame:\n",
        "  \"\"\"\n",
        "  Sums an aggregate df (track_uri, embedding, hashes, squared_sum, sum)\n",
        "  with a simple df (track_uri, embedding, hashes, distCol).\n",
        "  \"\"\"\n",
        "  other_df = transform_to_aggregate(other_df)\n",
        "  merged_df = aggregate_df.unionAll(other_df)\n",
        "  return merged_df.groupBy(\"track_uri\", \"embedding\").agg(\n",
        "    F.sum(F.pow(\"squared_sum\", 2)).alias(\"squared_sum\"),\n",
        "    F.sum(\"sum\").alias(\"sum\"))"
      ]
    },
    {
      "cell_type": "code",
      "execution_count": null,
      "metadata": {
        "id": "QmBLSpdtcylv"
      },
      "outputs": [],
      "source": [
        "def create_similarity_df(input_vector: SparseVector, playlist_map: DataFrame, similarity_function: Callable) -> DataFrame:\n",
        "  \"\"\"\n",
        "  Returns the similarity df for a single song\n",
        "  \"\"\"\n",
        "  \n",
        "  @F.udf(returnType=FloatType())\n",
        "  def compute_similarity(vector1):\n",
        "    return similarity_function(vector1, input_vector)\n",
        "\n",
        "  result_df = playlist_map.withColumn(\"similarity\", compute_similarity(playlist_map.embedding))\n",
        "  \n",
        "  return result_df\n",
        "\n",
        "def get_top_k_results(track_uri: str, similarity_df: DataFrame, k: int = 20) -> DataFrame:\n",
        "  return similarity_df.filter((F.col(\"similarity\") > 0) & (F.col(\"track_uri\") != track_uri)).orderBy(F.col(\"similarity\").desc()).limit(k)\n",
        "\n",
        "if DEBUG:\n",
        "  first_song_vector = playlist_map.select(\"embedding\").limit(1).first()[0]\n",
        "  first_track_uri = playlist_map.select(\"track_uri\").limit(1).first()[0]\n",
        "  similarity_df = create_similarity_df(first_song_vector, playlist_map, jaccard_similarity)\n",
        "  top_k_results = get_top_k_results(first_track_uri, similarity_df).cache()\n",
        "  top_k_results.show()"
      ]
    },
    {
      "cell_type": "code",
      "execution_count": null,
      "metadata": {
        "id": "yydgn5XD3SZH"
      },
      "outputs": [],
      "source": [
        "def extract_similar_songs(playlist_tracks: DataFrame, k=10) -> DataFrame:\n",
        "  aggregate_df = None\n",
        "  tracks_embedding = playlist_tracks.join(playlist_map, \"track_uri\")\n",
        "  for row in tqdm(tracks_embedding.collect(), desc='Extracting k-neighbors'):\n",
        "    k_neigh = get_top_k_results(\n",
        "        track_uri=row.track_uri,\n",
        "        similarity_df= create_similarity_df(input_vector=row.embedding,\n",
        "                                            playlist_map=playlist_map,\n",
        "                                            similarity_function=jaccard_similarity),\n",
        "        k = 10)\n",
        "    \n",
        "    k_neigh.show()\n",
        "    if aggregate_df == None:\n",
        "      aggregate_df = transform_to_aggregate(k_neigh).cache()\n",
        "    else:\n",
        "      aggregate_df = merge_aggregate_df(aggregate_df, k_neigh).cache()\n",
        "    \n",
        "    aggregate_df.show()\n",
        "  return aggregate_df\n",
        "\n",
        "if DEBUG:\n",
        "  first_playlist = train_df.limit(1).select(F.explode(\"tracks\")).select(\"col.*\")\n",
        "  recommendations = extract_similar_songs(first_playlist, model)"
      ]
    },
    {
      "cell_type": "code",
      "execution_count": null,
      "metadata": {
        "id": "8scK_YReSrYo"
      },
      "outputs": [],
      "source": [
        "recommendations.show()"
      ]
    },
    {
      "cell_type": "code",
      "execution_count": null,
      "metadata": {
        "id": "K9UmYW-9eGuz"
      },
      "outputs": [],
      "source": [
        "# def extract_similar_songs(playlist: DataFrame, playlist_map: DataFrame) -> Dict[str, float]:\n",
        "#   \"\"\"\n",
        "#   For each track in the playlist, it extracts the top-k most similar results.\n",
        "#   \"\"\"\n",
        "#   weighted_dict = {}\n",
        "  \n",
        "#   # F.udf(returnType=IntegerType())\n",
        "#   def update_weighted_dict(track_uri: str, similarity: float):\n",
        "#     nonlocal weighted_dict\n",
        "#     if track_uri not in weighted_dict:\n",
        "#       weighted_dict[track_uri] = (similarity, 1)\n",
        "#     else:\n",
        "#       curr_similarity = weighted_dict[track_uri][0]\n",
        "#       count = weighted_dict[track_uri][1]\n",
        "#       weighted_dict[track_uri] = (curr_similarity + similarity, count+1)\n",
        "  \n",
        "#   tracks = playlist.select(F.explode(\"tracks.track_uri\")).withColumnRenamed(\"col\", \"track_uri\")\n",
        "#   tracks_mapped = tracks.join(playlist_map, \"track_uri\")\n",
        "\n",
        "#   for track_row in tqdm(tracks_mapped.collect(), desc=f\"Analyzing tracks\"):\n",
        "#     similarity_df = create_similarity_df(track_row.embedding, playlist_map, jaccard_similarity)\n",
        "#     top_k_results = get_top_k_results(first_track_uri, similarity_df).cache()\n",
        "#     top_k_results.foreach(lambda row: update_weighted_dict(row.track_uri, row.similarity))\n",
        "#     top_k_results.unpersist()\n",
        "  \n",
        "#   return weighted_dict\n",
        "\n",
        "# if DEBUG:\n",
        "#   first_playlist = train_df.limit(1).cache()\n",
        "#   weighted_dict = extract_similar_songs(first_playlist, playlist_map)"
      ]
    },
    {
      "cell_type": "code",
      "execution_count": null,
      "metadata": {
        "id": "hs0TGZxlWnLb"
      },
      "outputs": [],
      "source": [
        "def create_similarity_df(playlist: DataFrame, playlist_map: DataFrame, similarityFunction: Callable):\n",
        "  # Get the current playlist's tracks\n",
        "  playlist_tracks = playlist.select(F.explode(\"tracks.track_uri\")).withColumnRenamed(\"col\", \"track_uri\")\n",
        "  playlist_tracks.show()\n",
        "  # Let's extract the rating vector for each single track\n",
        "  playlist_tracks_mapped = playlist_tracks.join(playlist_map, \"track_uri\")\n",
        "  playlist_tracks_mapped.show()\n",
        "\n",
        "\n",
        "  @F.udf(returnType=FloatType())\n",
        "  def compute_similarity(input_vector: SparseVector, other_vector: SparseVector):\n",
        "    return jaccard_similarity(input_vector, other_vector)\n",
        "\n",
        "  # for row in playlist_tracks_mapped.collect():\n",
        "  similarity_df = playlist_map.withColumn(\"similarity\", compute_similarity(playlist_tracks_mapped.limit(2).embedding, playlist_map.embedding))\n",
        "  # break\n",
        "  \n",
        "  similarity_df.show()\n",
        "  return\n",
        "\n",
        "first_playlsit = train_df.limit(1).cache()\n",
        "create_similarity_df(first_playlsit, playlist_map, jaccard_similarity)"
      ]
    },
    {
      "cell_type": "code",
      "execution_count": null,
      "metadata": {
        "id": "WbCUU0GzYswY"
      },
      "outputs": [],
      "source": [
        "first_playlsit.show()"
      ]
    }
  ],
  "metadata": {
    "colab": {
      "authorship_tag": "ABX9TyMh7VZXJzSwk7g3Ej19HkgS",
      "collapsed_sections": [
        "VJeY9PpvaHUJ",
        "x9gbMKT_lw9S",
        "aoVjgtwlI9qe"
      ],
      "include_colab_link": true,
      "provenance": []
    },
    "kernelspec": {
      "display_name": "Python 3",
      "name": "python3"
    },
    "language_info": {
      "codemirror_mode": {
        "name": "ipython",
        "version": 3
      },
      "file_extension": ".py",
      "mimetype": "text/x-python",
      "name": "python",
      "nbconvert_exporter": "python",
      "pygments_lexer": "ipython3",
      "version": "3.10.9"
    },
    "widgets": {
      "application/vnd.jupyter.widget-state+json": {
        "255dd6ca245f431685dbe5a29a179c67": {
          "model_module": "@jupyter-widgets/base",
          "model_module_version": "1.2.0",
          "model_name": "LayoutModel",
          "state": {
            "_model_module": "@jupyter-widgets/base",
            "_model_module_version": "1.2.0",
            "_model_name": "LayoutModel",
            "_view_count": null,
            "_view_module": "@jupyter-widgets/base",
            "_view_module_version": "1.2.0",
            "_view_name": "LayoutView",
            "align_content": null,
            "align_items": null,
            "align_self": null,
            "border": null,
            "bottom": null,
            "display": null,
            "flex": null,
            "flex_flow": null,
            "grid_area": null,
            "grid_auto_columns": null,
            "grid_auto_flow": null,
            "grid_auto_rows": null,
            "grid_column": null,
            "grid_gap": null,
            "grid_row": null,
            "grid_template_areas": null,
            "grid_template_columns": null,
            "grid_template_rows": null,
            "height": null,
            "justify_content": null,
            "justify_items": null,
            "left": null,
            "margin": null,
            "max_height": null,
            "max_width": null,
            "min_height": null,
            "min_width": null,
            "object_fit": null,
            "object_position": null,
            "order": null,
            "overflow": null,
            "overflow_x": null,
            "overflow_y": null,
            "padding": null,
            "right": null,
            "top": null,
            "visibility": null,
            "width": null
          }
        },
        "2b64f1c614f349ee8218492095bbdc47": {
          "model_module": "@jupyter-widgets/controls",
          "model_module_version": "1.5.0",
          "model_name": "HTMLModel",
          "state": {
            "_dom_classes": [],
            "_model_module": "@jupyter-widgets/controls",
            "_model_module_version": "1.5.0",
            "_model_name": "HTMLModel",
            "_view_count": null,
            "_view_module": "@jupyter-widgets/controls",
            "_view_module_version": "1.5.0",
            "_view_name": "HTMLView",
            "description": "",
            "description_tooltip": null,
            "layout": "IPY_MODEL_af437c2a0a37403eabdc5cff537fd1e9",
            "placeholder": "​",
            "style": "IPY_MODEL_d8e0d48bb9104056a692a8ae4ec045b7",
            "value": "Computing k-neighbors:   0%"
          }
        },
        "33c7e9f49ff34a8da278e68ea7c13b13": {
          "model_module": "@jupyter-widgets/base",
          "model_module_version": "1.2.0",
          "model_name": "LayoutModel",
          "state": {
            "_model_module": "@jupyter-widgets/base",
            "_model_module_version": "1.2.0",
            "_model_name": "LayoutModel",
            "_view_count": null,
            "_view_module": "@jupyter-widgets/base",
            "_view_module_version": "1.2.0",
            "_view_name": "LayoutView",
            "align_content": null,
            "align_items": null,
            "align_self": null,
            "border": null,
            "bottom": null,
            "display": null,
            "flex": null,
            "flex_flow": null,
            "grid_area": null,
            "grid_auto_columns": null,
            "grid_auto_flow": null,
            "grid_auto_rows": null,
            "grid_column": null,
            "grid_gap": null,
            "grid_row": null,
            "grid_template_areas": null,
            "grid_template_columns": null,
            "grid_template_rows": null,
            "height": null,
            "justify_content": null,
            "justify_items": null,
            "left": null,
            "margin": null,
            "max_height": null,
            "max_width": null,
            "min_height": null,
            "min_width": null,
            "object_fit": null,
            "object_position": null,
            "order": null,
            "overflow": null,
            "overflow_x": null,
            "overflow_y": null,
            "padding": null,
            "right": null,
            "top": null,
            "visibility": null,
            "width": null
          }
        },
        "3897952d6cce457e8f64b8f73e4645bb": {
          "model_module": "@jupyter-widgets/controls",
          "model_module_version": "1.5.0",
          "model_name": "HTMLModel",
          "state": {
            "_dom_classes": [],
            "_model_module": "@jupyter-widgets/controls",
            "_model_module_version": "1.5.0",
            "_model_name": "HTMLModel",
            "_view_count": null,
            "_view_module": "@jupyter-widgets/controls",
            "_view_module_version": "1.5.0",
            "_view_name": "HTMLView",
            "description": "",
            "description_tooltip": null,
            "layout": "IPY_MODEL_83e8ffee77c340cfbb0608c13efe3fb8",
            "placeholder": "​",
            "style": "IPY_MODEL_457c735850e54fa6a5835ab33db3d5fe",
            "value": "Performing evaluation: 100%"
          }
        },
        "3af1bd7b53e74dc18e5a0abe61241d60": {
          "model_module": "@jupyter-widgets/base",
          "model_module_version": "1.2.0",
          "model_name": "LayoutModel",
          "state": {
            "_model_module": "@jupyter-widgets/base",
            "_model_module_version": "1.2.0",
            "_model_name": "LayoutModel",
            "_view_count": null,
            "_view_module": "@jupyter-widgets/base",
            "_view_module_version": "1.2.0",
            "_view_name": "LayoutView",
            "align_content": null,
            "align_items": null,
            "align_self": null,
            "border": null,
            "bottom": null,
            "display": null,
            "flex": null,
            "flex_flow": null,
            "grid_area": null,
            "grid_auto_columns": null,
            "grid_auto_flow": null,
            "grid_auto_rows": null,
            "grid_column": null,
            "grid_gap": null,
            "grid_row": null,
            "grid_template_areas": null,
            "grid_template_columns": null,
            "grid_template_rows": null,
            "height": null,
            "justify_content": null,
            "justify_items": null,
            "left": null,
            "margin": null,
            "max_height": null,
            "max_width": null,
            "min_height": null,
            "min_width": null,
            "object_fit": null,
            "object_position": null,
            "order": null,
            "overflow": null,
            "overflow_x": null,
            "overflow_y": null,
            "padding": null,
            "right": null,
            "top": null,
            "visibility": null,
            "width": null
          }
        },
        "410393d13be2441ca1b54bfc5d873f42": {
          "model_module": "@jupyter-widgets/base",
          "model_module_version": "1.2.0",
          "model_name": "LayoutModel",
          "state": {
            "_model_module": "@jupyter-widgets/base",
            "_model_module_version": "1.2.0",
            "_model_name": "LayoutModel",
            "_view_count": null,
            "_view_module": "@jupyter-widgets/base",
            "_view_module_version": "1.2.0",
            "_view_name": "LayoutView",
            "align_content": null,
            "align_items": null,
            "align_self": null,
            "border": null,
            "bottom": null,
            "display": null,
            "flex": null,
            "flex_flow": null,
            "grid_area": null,
            "grid_auto_columns": null,
            "grid_auto_flow": null,
            "grid_auto_rows": null,
            "grid_column": null,
            "grid_gap": null,
            "grid_row": null,
            "grid_template_areas": null,
            "grid_template_columns": null,
            "grid_template_rows": null,
            "height": null,
            "justify_content": null,
            "justify_items": null,
            "left": null,
            "margin": null,
            "max_height": null,
            "max_width": null,
            "min_height": null,
            "min_width": null,
            "object_fit": null,
            "object_position": null,
            "order": null,
            "overflow": null,
            "overflow_x": null,
            "overflow_y": null,
            "padding": null,
            "right": null,
            "top": null,
            "visibility": null,
            "width": null
          }
        },
        "457c735850e54fa6a5835ab33db3d5fe": {
          "model_module": "@jupyter-widgets/controls",
          "model_module_version": "1.5.0",
          "model_name": "DescriptionStyleModel",
          "state": {
            "_model_module": "@jupyter-widgets/controls",
            "_model_module_version": "1.5.0",
            "_model_name": "DescriptionStyleModel",
            "_view_count": null,
            "_view_module": "@jupyter-widgets/base",
            "_view_module_version": "1.2.0",
            "_view_name": "StyleView",
            "description_width": ""
          }
        },
        "49a1c7a01352423f94bb60dfe0b3e1f5": {
          "model_module": "@jupyter-widgets/controls",
          "model_module_version": "1.5.0",
          "model_name": "HBoxModel",
          "state": {
            "_dom_classes": [],
            "_model_module": "@jupyter-widgets/controls",
            "_model_module_version": "1.5.0",
            "_model_name": "HBoxModel",
            "_view_count": null,
            "_view_module": "@jupyter-widgets/controls",
            "_view_module_version": "1.5.0",
            "_view_name": "HBoxView",
            "box_style": "",
            "children": [
              "IPY_MODEL_2b64f1c614f349ee8218492095bbdc47",
              "IPY_MODEL_f5cb21f6d1224cdd8d120989dda14a0e",
              "IPY_MODEL_b2c37498584a4e249553c1c1741bc797"
            ],
            "layout": "IPY_MODEL_33c7e9f49ff34a8da278e68ea7c13b13"
          }
        },
        "4b5bcf7168db46dd8d6e1832bdcc2fd4": {
          "model_module": "@jupyter-widgets/controls",
          "model_module_version": "1.5.0",
          "model_name": "ProgressStyleModel",
          "state": {
            "_model_module": "@jupyter-widgets/controls",
            "_model_module_version": "1.5.0",
            "_model_name": "ProgressStyleModel",
            "_view_count": null,
            "_view_module": "@jupyter-widgets/base",
            "_view_module_version": "1.2.0",
            "_view_name": "StyleView",
            "bar_color": null,
            "description_width": ""
          }
        },
        "54da270bcbba4831950913a0e323aef5": {
          "model_module": "@jupyter-widgets/base",
          "model_module_version": "1.2.0",
          "model_name": "LayoutModel",
          "state": {
            "_model_module": "@jupyter-widgets/base",
            "_model_module_version": "1.2.0",
            "_model_name": "LayoutModel",
            "_view_count": null,
            "_view_module": "@jupyter-widgets/base",
            "_view_module_version": "1.2.0",
            "_view_name": "LayoutView",
            "align_content": null,
            "align_items": null,
            "align_self": null,
            "border": null,
            "bottom": null,
            "display": null,
            "flex": null,
            "flex_flow": null,
            "grid_area": null,
            "grid_auto_columns": null,
            "grid_auto_flow": null,
            "grid_auto_rows": null,
            "grid_column": null,
            "grid_gap": null,
            "grid_row": null,
            "grid_template_areas": null,
            "grid_template_columns": null,
            "grid_template_rows": null,
            "height": null,
            "justify_content": null,
            "justify_items": null,
            "left": null,
            "margin": null,
            "max_height": null,
            "max_width": null,
            "min_height": null,
            "min_width": null,
            "object_fit": null,
            "object_position": null,
            "order": null,
            "overflow": null,
            "overflow_x": null,
            "overflow_y": null,
            "padding": null,
            "right": null,
            "top": null,
            "visibility": null,
            "width": null
          }
        },
        "59e37f5b02a145aaa240e628eb54dbef": {
          "model_module": "@jupyter-widgets/controls",
          "model_module_version": "1.5.0",
          "model_name": "DescriptionStyleModel",
          "state": {
            "_model_module": "@jupyter-widgets/controls",
            "_model_module_version": "1.5.0",
            "_model_name": "DescriptionStyleModel",
            "_view_count": null,
            "_view_module": "@jupyter-widgets/base",
            "_view_module_version": "1.2.0",
            "_view_name": "StyleView",
            "description_width": ""
          }
        },
        "60b629c1cd8d426f8fcb3d566a538527": {
          "model_module": "@jupyter-widgets/controls",
          "model_module_version": "1.5.0",
          "model_name": "HTMLModel",
          "state": {
            "_dom_classes": [],
            "_model_module": "@jupyter-widgets/controls",
            "_model_module_version": "1.5.0",
            "_model_name": "HTMLModel",
            "_view_count": null,
            "_view_module": "@jupyter-widgets/controls",
            "_view_module_version": "1.5.0",
            "_view_name": "HTMLView",
            "description": "",
            "description_tooltip": null,
            "layout": "IPY_MODEL_b4f2dd48632a4f6eb37e1aad8cc68858",
            "placeholder": "​",
            "style": "IPY_MODEL_59e37f5b02a145aaa240e628eb54dbef",
            "value": " 17/17 [27:42&lt;00:00, 111.24s/it]"
          }
        },
        "83e8ffee77c340cfbb0608c13efe3fb8": {
          "model_module": "@jupyter-widgets/base",
          "model_module_version": "1.2.0",
          "model_name": "LayoutModel",
          "state": {
            "_model_module": "@jupyter-widgets/base",
            "_model_module_version": "1.2.0",
            "_model_name": "LayoutModel",
            "_view_count": null,
            "_view_module": "@jupyter-widgets/base",
            "_view_module_version": "1.2.0",
            "_view_name": "LayoutView",
            "align_content": null,
            "align_items": null,
            "align_self": null,
            "border": null,
            "bottom": null,
            "display": null,
            "flex": null,
            "flex_flow": null,
            "grid_area": null,
            "grid_auto_columns": null,
            "grid_auto_flow": null,
            "grid_auto_rows": null,
            "grid_column": null,
            "grid_gap": null,
            "grid_row": null,
            "grid_template_areas": null,
            "grid_template_columns": null,
            "grid_template_rows": null,
            "height": null,
            "justify_content": null,
            "justify_items": null,
            "left": null,
            "margin": null,
            "max_height": null,
            "max_width": null,
            "min_height": null,
            "min_width": null,
            "object_fit": null,
            "object_position": null,
            "order": null,
            "overflow": null,
            "overflow_x": null,
            "overflow_y": null,
            "padding": null,
            "right": null,
            "top": null,
            "visibility": null,
            "width": null
          }
        },
        "85704d667a8a40ba9066fa7106a91dad": {
          "model_module": "@jupyter-widgets/controls",
          "model_module_version": "1.5.0",
          "model_name": "HBoxModel",
          "state": {
            "_dom_classes": [],
            "_model_module": "@jupyter-widgets/controls",
            "_model_module_version": "1.5.0",
            "_model_name": "HBoxModel",
            "_view_count": null,
            "_view_module": "@jupyter-widgets/controls",
            "_view_module_version": "1.5.0",
            "_view_name": "HBoxView",
            "box_style": "",
            "children": [
              "IPY_MODEL_3897952d6cce457e8f64b8f73e4645bb",
              "IPY_MODEL_f17ccdb7487a4568a54e91611252368a",
              "IPY_MODEL_60b629c1cd8d426f8fcb3d566a538527"
            ],
            "layout": "IPY_MODEL_3af1bd7b53e74dc18e5a0abe61241d60"
          }
        },
        "89453331f508408295254b5649df8e39": {
          "model_module": "@jupyter-widgets/controls",
          "model_module_version": "1.5.0",
          "model_name": "ProgressStyleModel",
          "state": {
            "_model_module": "@jupyter-widgets/controls",
            "_model_module_version": "1.5.0",
            "_model_name": "ProgressStyleModel",
            "_view_count": null,
            "_view_module": "@jupyter-widgets/base",
            "_view_module_version": "1.2.0",
            "_view_name": "StyleView",
            "bar_color": null,
            "description_width": ""
          }
        },
        "af437c2a0a37403eabdc5cff537fd1e9": {
          "model_module": "@jupyter-widgets/base",
          "model_module_version": "1.2.0",
          "model_name": "LayoutModel",
          "state": {
            "_model_module": "@jupyter-widgets/base",
            "_model_module_version": "1.2.0",
            "_model_name": "LayoutModel",
            "_view_count": null,
            "_view_module": "@jupyter-widgets/base",
            "_view_module_version": "1.2.0",
            "_view_name": "LayoutView",
            "align_content": null,
            "align_items": null,
            "align_self": null,
            "border": null,
            "bottom": null,
            "display": null,
            "flex": null,
            "flex_flow": null,
            "grid_area": null,
            "grid_auto_columns": null,
            "grid_auto_flow": null,
            "grid_auto_rows": null,
            "grid_column": null,
            "grid_gap": null,
            "grid_row": null,
            "grid_template_areas": null,
            "grid_template_columns": null,
            "grid_template_rows": null,
            "height": null,
            "justify_content": null,
            "justify_items": null,
            "left": null,
            "margin": null,
            "max_height": null,
            "max_width": null,
            "min_height": null,
            "min_width": null,
            "object_fit": null,
            "object_position": null,
            "order": null,
            "overflow": null,
            "overflow_x": null,
            "overflow_y": null,
            "padding": null,
            "right": null,
            "top": null,
            "visibility": null,
            "width": null
          }
        },
        "b2c37498584a4e249553c1c1741bc797": {
          "model_module": "@jupyter-widgets/controls",
          "model_module_version": "1.5.0",
          "model_name": "HTMLModel",
          "state": {
            "_dom_classes": [],
            "_model_module": "@jupyter-widgets/controls",
            "_model_module_version": "1.5.0",
            "_model_name": "HTMLModel",
            "_view_count": null,
            "_view_module": "@jupyter-widgets/controls",
            "_view_module_version": "1.5.0",
            "_view_name": "HTMLView",
            "description": "",
            "description_tooltip": null,
            "layout": "IPY_MODEL_410393d13be2441ca1b54bfc5d873f42",
            "placeholder": "​",
            "style": "IPY_MODEL_deedaef94d554aae908082c916be49f2",
            "value": " 62/681805 [01:02&lt;203:27:44,  1.07s/it]"
          }
        },
        "b4f2dd48632a4f6eb37e1aad8cc68858": {
          "model_module": "@jupyter-widgets/base",
          "model_module_version": "1.2.0",
          "model_name": "LayoutModel",
          "state": {
            "_model_module": "@jupyter-widgets/base",
            "_model_module_version": "1.2.0",
            "_model_name": "LayoutModel",
            "_view_count": null,
            "_view_module": "@jupyter-widgets/base",
            "_view_module_version": "1.2.0",
            "_view_name": "LayoutView",
            "align_content": null,
            "align_items": null,
            "align_self": null,
            "border": null,
            "bottom": null,
            "display": null,
            "flex": null,
            "flex_flow": null,
            "grid_area": null,
            "grid_auto_columns": null,
            "grid_auto_flow": null,
            "grid_auto_rows": null,
            "grid_column": null,
            "grid_gap": null,
            "grid_row": null,
            "grid_template_areas": null,
            "grid_template_columns": null,
            "grid_template_rows": null,
            "height": null,
            "justify_content": null,
            "justify_items": null,
            "left": null,
            "margin": null,
            "max_height": null,
            "max_width": null,
            "min_height": null,
            "min_width": null,
            "object_fit": null,
            "object_position": null,
            "order": null,
            "overflow": null,
            "overflow_x": null,
            "overflow_y": null,
            "padding": null,
            "right": null,
            "top": null,
            "visibility": null,
            "width": null
          }
        },
        "d8e0d48bb9104056a692a8ae4ec045b7": {
          "model_module": "@jupyter-widgets/controls",
          "model_module_version": "1.5.0",
          "model_name": "DescriptionStyleModel",
          "state": {
            "_model_module": "@jupyter-widgets/controls",
            "_model_module_version": "1.5.0",
            "_model_name": "DescriptionStyleModel",
            "_view_count": null,
            "_view_module": "@jupyter-widgets/base",
            "_view_module_version": "1.2.0",
            "_view_name": "StyleView",
            "description_width": ""
          }
        },
        "deedaef94d554aae908082c916be49f2": {
          "model_module": "@jupyter-widgets/controls",
          "model_module_version": "1.5.0",
          "model_name": "DescriptionStyleModel",
          "state": {
            "_model_module": "@jupyter-widgets/controls",
            "_model_module_version": "1.5.0",
            "_model_name": "DescriptionStyleModel",
            "_view_count": null,
            "_view_module": "@jupyter-widgets/base",
            "_view_module_version": "1.2.0",
            "_view_name": "StyleView",
            "description_width": ""
          }
        },
        "f17ccdb7487a4568a54e91611252368a": {
          "model_module": "@jupyter-widgets/controls",
          "model_module_version": "1.5.0",
          "model_name": "FloatProgressModel",
          "state": {
            "_dom_classes": [],
            "_model_module": "@jupyter-widgets/controls",
            "_model_module_version": "1.5.0",
            "_model_name": "FloatProgressModel",
            "_view_count": null,
            "_view_module": "@jupyter-widgets/controls",
            "_view_module_version": "1.5.0",
            "_view_name": "ProgressView",
            "bar_style": "success",
            "description": "",
            "description_tooltip": null,
            "layout": "IPY_MODEL_255dd6ca245f431685dbe5a29a179c67",
            "max": 17,
            "min": 0,
            "orientation": "horizontal",
            "style": "IPY_MODEL_4b5bcf7168db46dd8d6e1832bdcc2fd4",
            "value": 17
          }
        },
        "f5cb21f6d1224cdd8d120989dda14a0e": {
          "model_module": "@jupyter-widgets/controls",
          "model_module_version": "1.5.0",
          "model_name": "FloatProgressModel",
          "state": {
            "_dom_classes": [],
            "_model_module": "@jupyter-widgets/controls",
            "_model_module_version": "1.5.0",
            "_model_name": "FloatProgressModel",
            "_view_count": null,
            "_view_module": "@jupyter-widgets/controls",
            "_view_module_version": "1.5.0",
            "_view_name": "ProgressView",
            "bar_style": "danger",
            "description": "",
            "description_tooltip": null,
            "layout": "IPY_MODEL_54da270bcbba4831950913a0e323aef5",
            "max": 681805,
            "min": 0,
            "orientation": "horizontal",
            "style": "IPY_MODEL_89453331f508408295254b5649df8e39",
            "value": 62
          }
        }
      }
    }
  },
  "nbformat": 4,
  "nbformat_minor": 0
}
