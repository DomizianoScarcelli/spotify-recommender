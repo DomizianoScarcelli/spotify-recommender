{
  "cells": [
    {
      "attachments": {},
      "cell_type": "markdown",
      "metadata": {
        "colab_type": "text",
        "id": "view-in-github"
      },
      "source": [
        "<a href=\"https://colab.research.google.com/github/DomizianoScarcelli/big-data-project/blob/item-based-cf/item_based_CF.ipynb\" target=\"_parent\"><img src=\"https://colab.research.google.com/assets/colab-badge.svg\" alt=\"Open In Colab\"/></a>"
      ]
    },
    {
      "attachments": {},
      "cell_type": "markdown",
      "metadata": {
        "id": "KOojFseRjVnN"
      },
      "source": [
        "# Configuration"
      ]
    },
    {
      "attachments": {},
      "cell_type": "markdown",
      "metadata": {},
      "source": [
        "Here we configure the environment. Since I alternated from Google Colab to Local development, I define a LOCAL variable that allows me to know in which environment I am. "
      ]
    },
    {
      "cell_type": "code",
      "execution_count": 1,
      "metadata": {},
      "outputs": [],
      "source": [
        "import os\n",
        "def is_running_on_colab():\n",
        "    return \"COLAB_GPU\" in os.environ\n",
        "\n",
        "LOCAL = not is_running_on_colab()"
      ]
    },
    {
      "cell_type": "code",
      "execution_count": 2,
      "metadata": {
        "colab": {
          "base_uri": "https://localhost:8080/"
        },
        "id": "N3wVgRfHYoOs",
        "outputId": "5968f690-8fb9-4811-f6dc-e301c0022db0"
      },
      "outputs": [],
      "source": [
        "#@title Download necessary libraries\n",
        "if not LOCAL:\n",
        "    !pip install pyspark -qq\n",
        "    !pip install -U -q PyDrive -qq\n",
        "    !apt install openjdk-8-jdk-headless -qq"
      ]
    },
    {
      "cell_type": "code",
      "execution_count": 2,
      "metadata": {
        "cellView": "form",
        "id": "CGHPv9OqY9MI"
      },
      "outputs": [],
      "source": [
        "#@title Imports\n",
        "import numpy as np\n",
        "import json\n",
        "import sys\n",
        "import math\n",
        "\n",
        "import pyspark\n",
        "import pyspark.sql.functions as F\n",
        "from pyspark.sql import SparkSession, DataFrame\n",
        "from pyspark.sql.types import StructType, StructField, StringType, IntegerType, ArrayType, FloatType, LongType\n",
        "from pyspark import SparkConf\n",
        "from pyspark.ml.linalg import SparseVector, VectorUDT\n",
        "from pyspark.ml.feature import MinHashLSH, MinHashLSHModel\n",
        "\n",
        "from tqdm.notebook import tqdm\n",
        "import time\n",
        "\n",
        "if not LOCAL:\n",
        "    from google.colab import drive\n",
        "\n",
        "from typing import Tuple, Dict, List\n",
        "from functools import reduce"
      ]
    },
    {
      "cell_type": "code",
      "execution_count": 3,
      "metadata": {
        "id": "JF8LUBZeYiWP"
      },
      "outputs": [],
      "source": [
        "#@title Set up variables\n",
        "if not LOCAL:\n",
        "    JAVA_HOME = \"/usr/lib/jvm/java-8-openjdk-amd64\"\n",
        "    GDRIVE_DIR = \"/content/drive\"\n",
        "    GDRIVE_HOME_DIR = GDRIVE_DIR + \"/MyDrive\"\n",
        "    GDRIVE_DATA_DIR = GDRIVE_HOME_DIR + \"/Big Data/datasets\"\n",
        "    DATASET_FILE = os.path.join(GDRIVE_DATA_DIR, \"pyspark_friendly_spotify_playlist_dataset\")\n",
        "    AUDIO_FEATURES_FILE = os.path.join(GDRIVE_DATA_DIR, \"pyspark_track_features\")\n",
        "    LITTLE_SLICE_FILE = os.path.join(GDRIVE_DATA_DIR, \"little_slice\")\n",
        "    SMALL_SLICE_FLIE = os.path.join(GDRIVE_DATA_DIR, \"small_slice\")\n",
        "    LITTLE_SLICE_AUDIO_FEATURES = os.path.join(GDRIVE_DATA_DIR, \"little_slice_audio_features\")\n",
        "    MICRO_SLICE_AUDIO_FEATURES = os.path.join(GDRIVE_DATA_DIR, \"micro_slice_audio_features\")\n",
        "    SPLITTED_SLICE_AUDIO_FEATURES = os.path.join(GDRIVE_DATA_DIR, \"splitted_pyspark_track_features\")\n",
        "    SAVED_DFS_PATH = os.path.join(GDRIVE_DATA_DIR, \"saved_dfs\")\n",
        "    SAVED_MODELS = os.path.join(GDRIVE_DATA_DIR, \"saved_models\")\n",
        "    EVALUATION_FOLDER = os.path.join(GDRIVE_DATA_DIR, \"evaluation\", \"item_base_evaluation\")\n",
        "else:\n",
        "    GDRIVE_DATA_DIR = os.path.abspath(\"./data\")\n",
        "    SAVED_DFS_PATH = os.path.join(GDRIVE_DATA_DIR, \"saved_dfs\")\n",
        "    SAVED_MODELS = os.path.join(GDRIVE_DATA_DIR, \"saved_models\")\n",
        "    DATASET_FILE = os.path.join(GDRIVE_DATA_DIR, \"full_dataset\")\n",
        "    SMALL_SLICE_FLIE = os.path.join(GDRIVE_DATA_DIR, \"small_slice\")\n",
        "    EVALUATION_FOLDER = os.path.join(os.path.abspath(\"./evaluation\"), \"item_base_evaluation\")\n",
        "    \n",
        "    JAVA_HOME = \"/opt/homebrew/opt/openjdk\"\n",
        "RANDOM_SEED = 42 # for reproducibility\n",
        "os.environ[\"JAVA_HOME\"] = JAVA_HOME\n",
        "os.environ[\"PYSPARK_PYTHON\"]=\"python\""
      ]
    },
    {
      "cell_type": "code",
      "execution_count": 5,
      "metadata": {
        "id": "4m7VztzdZgm6"
      },
      "outputs": [
        {
          "name": "stderr",
          "output_type": "stream",
          "text": [
            "23/06/28 00:12:55 WARN Utils: Your hostname, MacBook-Air-di-Domiziano.local resolves to a loopback address: 127.0.0.1; using 192.168.1.175 instead (on interface en0)\n",
            "23/06/28 00:12:55 WARN Utils: Set SPARK_LOCAL_IP if you need to bind to another address\n",
            "Setting default log level to \"WARN\".\n",
            "To adjust logging level use sc.setLogLevel(newLevel). For SparkR, use setLogLevel(newLevel).\n",
            "23/06/28 00:12:55 WARN NativeCodeLoader: Unable to load native-hadoop library for your platform... using builtin-java classes where applicable\n"
          ]
        }
      ],
      "source": [
        "#@title Create the session\n",
        "conf = SparkConf().\\\n",
        "                set('spark.ui.port', \"4050\").\\\n",
        "                set('spark.executor.memory', '12G').\\\n",
        "                set('spark.driver.memory', '12G').\\\n",
        "                set('spark.driver.maxResultSize', '100G').\\\n",
        "                set(\"spark.executor.extraJavaOptions\", \"-XX:+UseG1GC\").\\\n",
        "                setAppName(\"PySparkTutorial\").\\\n",
        "                setMaster(\"local[*]\")\n",
        "\n",
        "# Create the context\n",
        "sc = pyspark.SparkContext(conf=conf)\n",
        "spark = SparkSession.builder.getOrCreate()"
      ]
    },
    {
      "cell_type": "code",
      "execution_count": 6,
      "metadata": {
        "colab": {
          "base_uri": "https://localhost:8080/"
        },
        "id": "vsX5d-YXZ2Ul",
        "outputId": "c30f0d6f-6673-49ea-88ab-39166ef7cbf0"
      },
      "outputs": [],
      "source": [
        "if not LOCAL:\n",
        "    drive.mount(GDRIVE_DIR, force_remount=True)"
      ]
    },
    {
      "cell_type": "code",
      "execution_count": 7,
      "metadata": {
        "cellView": "form",
        "colab": {
          "base_uri": "https://localhost:8080/"
        },
        "id": "jlxfJiBSZ6ju",
        "outputId": "f19702e4-4511-449b-fa52-afd7e4aadd4d"
      },
      "outputs": [
        {
          "data": {
            "text/plain": [
              "(<pyspark.sql.session.SparkSession at 0x1539b9480>,\n",
              " [('spark.executor.extraJavaOptions',\n",
              "   '-Djava.net.preferIPv6Addresses=false -XX:+IgnoreUnrecognizedVMOptions --add-opens=java.base/java.lang=ALL-UNNAMED --add-opens=java.base/java.lang.invoke=ALL-UNNAMED --add-opens=java.base/java.lang.reflect=ALL-UNNAMED --add-opens=java.base/java.io=ALL-UNNAMED --add-opens=java.base/java.net=ALL-UNNAMED --add-opens=java.base/java.nio=ALL-UNNAMED --add-opens=java.base/java.util=ALL-UNNAMED --add-opens=java.base/java.util.concurrent=ALL-UNNAMED --add-opens=java.base/java.util.concurrent.atomic=ALL-UNNAMED --add-opens=java.base/sun.nio.ch=ALL-UNNAMED --add-opens=java.base/sun.nio.cs=ALL-UNNAMED --add-opens=java.base/sun.security.action=ALL-UNNAMED --add-opens=java.base/sun.util.calendar=ALL-UNNAMED --add-opens=java.security.jgss/sun.security.krb5=ALL-UNNAMED -Djdk.reflect.useDirectMethodHandle=false -XX:+UseG1GC'),\n",
              "  ('spark.app.startTime', '1687903975567'),\n",
              "  ('spark.app.name', 'PySparkTutorial'),\n",
              "  ('spark.driver.host', '192.168.1.175'),\n",
              "  ('spark.driver.port', '49487'),\n",
              "  ('spark.executor.id', 'driver'),\n",
              "  ('spark.app.submitTime', '1687903975442'),\n",
              "  ('spark.driver.extraJavaOptions',\n",
              "   '-Djava.net.preferIPv6Addresses=false -XX:+IgnoreUnrecognizedVMOptions --add-opens=java.base/java.lang=ALL-UNNAMED --add-opens=java.base/java.lang.invoke=ALL-UNNAMED --add-opens=java.base/java.lang.reflect=ALL-UNNAMED --add-opens=java.base/java.io=ALL-UNNAMED --add-opens=java.base/java.net=ALL-UNNAMED --add-opens=java.base/java.nio=ALL-UNNAMED --add-opens=java.base/java.util=ALL-UNNAMED --add-opens=java.base/java.util.concurrent=ALL-UNNAMED --add-opens=java.base/java.util.concurrent.atomic=ALL-UNNAMED --add-opens=java.base/sun.nio.ch=ALL-UNNAMED --add-opens=java.base/sun.nio.cs=ALL-UNNAMED --add-opens=java.base/sun.security.action=ALL-UNNAMED --add-opens=java.base/sun.util.calendar=ALL-UNNAMED --add-opens=java.security.jgss/sun.security.krb5=ALL-UNNAMED -Djdk.reflect.useDirectMethodHandle=false'),\n",
              "  ('spark.ui.port', '4050'),\n",
              "  ('spark.app.id', 'local-1687903976025'),\n",
              "  ('spark.rdd.compress', 'True'),\n",
              "  ('spark.driver.memory', '12G'),\n",
              "  ('spark.serializer.objectStreamReset', '100'),\n",
              "  ('spark.master', 'local[*]'),\n",
              "  ('spark.submit.pyFiles', ''),\n",
              "  ('spark.driver.maxResultSize', '100G'),\n",
              "  ('spark.submit.deployMode', 'client'),\n",
              "  ('spark.executor.memory', '12G'),\n",
              "  ('spark.ui.showConsoleProgress', 'true')])"
            ]
          },
          "execution_count": 7,
          "metadata": {},
          "output_type": "execute_result"
        }
      ],
      "source": [
        "#@title Check if everything is ok\n",
        "spark, sc._conf.getAll()"
      ]
    },
    {
      "attachments": {},
      "cell_type": "markdown",
      "metadata": {
        "id": "VJeY9PpvaHUJ"
      },
      "source": [
        "# Load DataFrame"
      ]
    },
    {
      "attachments": {},
      "cell_type": "markdown",
      "metadata": {},
      "source": [
        "Define the `DataFrame` schemas and load the primary `DataFrame` containing the 100K playlists. "
      ]
    },
    {
      "cell_type": "code",
      "execution_count": 8,
      "metadata": {
        "id": "icd2lj-RRvhU"
      },
      "outputs": [],
      "source": [
        "song_schema = StructType([\n",
        "    StructField(\"pos\", IntegerType(), True),\n",
        "    StructField(\"artist_name\", StringType(), True),\n",
        "    StructField(\"track_uri\", StringType(), True),\n",
        "    StructField(\"artist_uri\", StringType(), True),\n",
        "    StructField(\"track_name\", StringType(), True),\n",
        "    StructField(\"album_uri\", StringType(), True),\n",
        "    StructField(\"duration_ms\", LongType(), True),\n",
        "    StructField(\"album_name\", StringType(), True)\n",
        "])\n",
        "\n",
        "playlist_schema = StructType([\n",
        "    StructField(\"name\", StringType(), True),\n",
        "    StructField(\"collaborative\", StringType(), True),\n",
        "    StructField(\"pid\", IntegerType(), True),\n",
        "    StructField(\"modified_at\", IntegerType(), True),\n",
        "    StructField(\"num_tracks\", IntegerType(), True),\n",
        "    StructField(\"num_albums\", IntegerType(), True),\n",
        "    StructField(\"num_followers\", IntegerType(), True),\n",
        "    StructField(\"tracks\", ArrayType(song_schema), True),\n",
        "    StructField(\"num_edits\", IntegerType(), True),\n",
        "    StructField(\"duration_ms\", IntegerType(), True),\n",
        "    StructField(\"num_artists\", IntegerType(), True),\n",
        "])\n",
        "\n",
        "playlist_schema_mapped = StructType([\n",
        "    StructField(\"name\", StringType(), True),\n",
        "    StructField(\"collaborative\", StringType(), True),\n",
        "    StructField(\"pid\", IntegerType(), True),\n",
        "    StructField(\"modified_at\", IntegerType(), True),\n",
        "    StructField(\"num_tracks\", IntegerType(), True),\n",
        "    StructField(\"num_albums\", IntegerType(), True),\n",
        "    StructField(\"num_followers\", IntegerType(), True),\n",
        "    StructField(\"tracks\", VectorUDT(), True),\n",
        "    StructField(\"num_edits\", IntegerType(), True),\n",
        "    StructField(\"duration_ms\", IntegerType(), True),\n",
        "    StructField(\"num_artists\", IntegerType(), True),\n",
        "])"
      ]
    },
    {
      "cell_type": "code",
      "execution_count": 9,
      "metadata": {
        "id": "BY_szFyLTps4"
      },
      "outputs": [],
      "source": [
        "slice_df = spark.read.schema(playlist_schema).json(SMALL_SLICE_FLIE, multiLine=True)"
      ]
    },
    {
      "attachments": {},
      "cell_type": "markdown",
      "metadata": {
        "id": "p211b9samoI9"
      },
      "source": [
        "# Item-Based Collaborative Filtering"
      ]
    },
    {
      "attachments": {},
      "cell_type": "markdown",
      "metadata": {
        "id": "1pR8c5Ro5_DI"
      },
      "source": [
        "Item-Based Collaboartive Filtering is the \"transpose\" approach to user-based CF. This time we won't consider the users' feature vectors, but the items'.\n",
        "An item's vector representation $\\mathbf{r}_i$ is the vector that embeds the information about where the item apperas in the user preferences. Since we are dealing with songs and playlists, it will model in which playlist each song appears.\n",
        "\n",
        "Let $m$ be the number of users, $n$ the number of playlists, then $\\mathbf{r}_i \\in \\mathbb{R}^m$ and $\\mathbf{R} \\in \\mathbb{R}^{m \\times n}$.\n",
        "\n",
        "In order to make a prediction, we take the set of items $I_u$ rated by the user $u$, and we compute the set $I^k_u$ of the top-$k$ most similar items to $i$ rated by $u$, for each item $i \\in I_u$. Once done that, we average the $k$ rating vectors weighting them by their respective similarity."
      ]
    },
    {
      "cell_type": "code",
      "execution_count": 10,
      "metadata": {
        "id": "wSg4hiaeewgY"
      },
      "outputs": [],
      "source": [
        "DEBUG = False #If True, execute code that helps to debug the code"
      ]
    },
    {
      "attachments": {},
      "cell_type": "markdown",
      "metadata": {},
      "source": [
        "Let's load the playlist embedding encodings, and the `DataFrame` that maps each playlist to a position."
      ]
    },
    {
      "cell_type": "code",
      "execution_count": 11,
      "metadata": {
        "id": "dXUCLE9XSKsi"
      },
      "outputs": [
        {
          "name": "stderr",
          "output_type": "stream",
          "text": [
            "                                                                                \r"
          ]
        }
      ],
      "source": [
        "NUM_PLAYLISTS = 100_000\n",
        "SONGS_INFO_DF = os.path.join(SAVED_DFS_PATH, f\"songs_info_df-{NUM_PLAYLISTS}.json\")\n",
        "songs_df = spark.read.json(SONGS_INFO_DF)\n",
        "\n",
        "playlist_map_schema = StructType([\n",
        "    StructField(\"track_uri\", StringType(), True),\n",
        "    StructField(\"embedding\", VectorUDT(), True)\n",
        "])\n",
        "PLAYLIST_MAP_PATH = os.path.join(SAVED_DFS_PATH, f\"playlist_map-{NUM_PLAYLISTS}.json\")\n",
        "playlist_map = spark.read.schema(playlist_map_schema).json(PLAYLIST_MAP_PATH)"
      ]
    },
    {
      "cell_type": "code",
      "execution_count": null,
      "metadata": {},
      "outputs": [],
      "source": [
        "songs_df.show()"
      ]
    },
    {
      "cell_type": "code",
      "execution_count": null,
      "metadata": {},
      "outputs": [],
      "source": [
        "playlist_map.show()"
      ]
    },
    {
      "attachments": {},
      "cell_type": "markdown",
      "metadata": {},
      "source": [
        "For simplicity, I will load the training and testing set here."
      ]
    },
    {
      "cell_type": "code",
      "execution_count": 12,
      "metadata": {
        "id": "HnchIh93YdaU"
      },
      "outputs": [],
      "source": [
        "TRAIN_DF_PATH = os.path.join(SAVED_DFS_PATH, f\"train_df-{NUM_PLAYLISTS}.json\")\n",
        "TEST_DF_PATH = os.path.join(SAVED_DFS_PATH, f\"test_df-{NUM_PLAYLISTS}.json\")\n",
        "\n",
        "train_df = spark.read.schema(playlist_schema).json(TRAIN_DF_PATH)\n",
        "test_df = spark.read.schema(playlist_schema).json(TEST_DF_PATH)"
      ]
    },
    {
      "attachments": {},
      "cell_type": "markdown",
      "metadata": {
        "id": "Z2QVHgY4WRJX"
      },
      "source": [
        "The full similarity computation between the songs in the playlist and each other song is intractable, we can approximate the nearest neighbour search by clustering the similar tracks in buckets using a Locally Sensitive Hashing algorithm, implemented using pyspark's `MinHashLSHModel`, which uses Jaccard Similarity as similarity function under the hood.\n",
        "\n",
        "I decided to use Jaccard Similarity since I don't need the information about the single values in the vector, but just which indexes are in each vector.\n",
        "\n",
        "The number of hash tables is an hyperparameter, and it was chosen experimentally. A lower `NUM_HASH_TABLES` makes the algorithm faster, but less accurate. On the other hand, a higher value will improve the accuracy, compromising the speed performances."
      ]
    },
    {
      "cell_type": "code",
      "execution_count": 14,
      "metadata": {
        "colab": {
          "base_uri": "https://localhost:8080/"
        },
        "id": "roOL0ckQgNKP",
        "outputId": "1b290c0c-07b4-4bfa-ede4-da4347b89895"
      },
      "outputs": [
        {
          "name": "stdout",
          "output_type": "stream",
          "text": [
            "+------------------------------------+---------------------------------------------------------------------------------+---------------------------------------------------------------------------------------------------------------------------------------------------------------------+\n",
            "|track_uri                           |embedding                                                                        |hashes                                                                                                                                                               |\n",
            "+------------------------------------+---------------------------------------------------------------------------------+---------------------------------------------------------------------------------------------------------------------------------------------------------------------+\n",
            "|spotify:track:001BVhvaZTf2icV88rU3DA|(100001,[7109,25065,41600,60248,61080,65885,70937],[1.0,1.0,1.0,1.0,1.0,1.0,1.0])|[[4.00933355E8], [4.2872879E7], [1.7747882E7], [6.5529407E7], [2.06200881E8], [9.0598778E7], [2.94620014E8], [1.30281495E8], [1.82888734E8], [1.79461294E8]]         |\n",
            "|spotify:track:001FDA7MOimDoqBXGacavu|(100001,[80892],[1.0])                                                           |[[2.28862656E8], [1.39707995E9], [1.541290713E9], [1.706772564E9], [1.778831741E9], [7.10558364E8], [6.53675556E8], [1.834078889E9], [4.95048196E8], [7.31685626E8]] |\n",
            "|spotify:track:001PiA7wBB842OidKuKCV2|(100001,[50317,63461],[1.0,1.0])                                                 |[[9.52539516E8], [8.6186697E7], [1.9593101E8], [8.53174899E8], [1.008077391E9], [1.91506357E8], [3.30202126E8], [2.33746647E8], [9.32353072E8], [9.5608732E8]]       |\n",
            "|spotify:track:0039z1iKWagN3YYLw1Qqi9|(100001,[7021],[1.0])                                                            |[[7.94067528E8], [4.10674645E8], [1.853799798E9], [1.919475029E9], [1.098160612E9], [1.86712026E8], [5.19395916E8], [1.813054792E9], [2.40302232E8], [2.86275201E8]] |\n",
            "|spotify:track:003CT3fPlZFHo500jSJthh|(100001,[52415],[1.0])                                                           |[[1.97797242E9], [1.327125066E9], [1.701352963E9], [1.480675008E9], [1.90252502E9], [7.7253403E7], [1.708559539E9], [1.17816421E8], [1.219705753E9], [1.323249096E9]]|\n",
            "|spotify:track:0046NsE3QgADqnrV1NDhzJ|(100001,[44691,88308],[1.0,1.0])                                                 |[[9.8794673E8], [9.634187E7], [7.70818516E8], [3.14822389E8], [5.4462769E8], [4.86147892E8], [2.66526803E8], [1.88785869E8], [1.151349353E9], [9.99959825E8]]        |\n",
            "|spotify:track:004CeZtRE4wBNmL0eKk56R|(100001,[78197],[1.0])                                                           |[[1.796434206E9], [3.7131485E8], [4.1941953E8], [1.803178018E9], [7.49349774E8], [7.6792563E8], [1.84500857E9], [1.547483144E9], [1.069192667E9], [1.172568778E9]]   |\n",
            "|spotify:track:004NPTN9NrUPXnAOBQWW9W|(100001,[4159],[1.0])                                                            |[[1.551284628E9], [4.89741718E8], [7.017347E8], [1.170324843E9], [5.3274272E8], [1.836500579E9], [1.613640886E9], [1.361232307E9], [4.27284679E8], [1.444171953E9]]  |\n",
            "|spotify:track:005PhwLfFyij1gNvlxeHds|(100001,[85373],[1.0])                                                           |[[1.02924638E8], [7.24244457E8], [2.021954875E9], [9.6760645E7], [1.286868436E9], [4.9503586E7], [1.476984614E9], [1.898451727E9], [6.68727655E8], [6.40675627E8]]   |\n",
            "|spotify:track:005c2319jh47WwCfezqhms|(100001,[5737,26524],[1.0,1.0])                                                  |[[5.6275443E7], [2.28239722E8], [4.86674421E8], [4.23221783E8], [7.97493419E8], [3.97054756E8], [1.33503974E9], [2.13179629E8], [8.02731194E8], [8.55760733E8]]      |\n",
            "|spotify:track:006irtbNebXAoxDseOQjq1|(100001,[40014],[1.0])                                                           |[[1.96900804E9], [1.065135309E9], [4.502271E7], [4938584.0], [1.739893572E9], [7.40524249E8], [1.516368782E9], [1.956364925E9], [8.20013348E8], [1.503708204E9]]     |\n",
            "|spotify:track:006yqigW4M16IRInOWX3sr|(100001,[53178],[1.0])                                                           |[[3.96020813E8], [6.11733364E8], [1.18535109E8], [5.11102284E8], [2.003415523E9], [5.26857417E8], [7.73084878E8], [7.01858075E8], [5.96603805E8], [1.574280377E9]]   |\n",
            "|spotify:track:007HyZl1LXuX1mR1JlRB3r|(100001,[5765],[1.0])                                                            |[[1.18019604E8], [1.641727689E9], [8.21245964E8], [9.29864269E8], [9.88175157E8], [8.62304388E8], [1.095033127E9], [5.33779285E8], [8.92052668E8], [1.74882222E8]]   |\n",
            "|spotify:track:007SutdC0rVG2CSkuQMtJw|(100001,[28490,29954,77877,81664,90888,98739],[1.0,1.0,1.0,1.0,1.0,1.0])         |[[2.96658045E8], [2.30611065E8], [6.0556718E7], [3.67831334E8], [4.8514827E7], [1.09243534E8], [2.1261802E7], [1.1789573E8], [1.7266551E8], [1.05678978E8]]          |\n",
            "|spotify:track:007ZqpuFhPQkSQDIQu0jTl|(100001,[24445],[1.0])                                                           |[[6.83237855E8], [4.29215452E8], [1.586960558E9], [1.48207463E8], [9.2579377E7], [5.89451625E8], [1.984240294E9], [1.295162377E9], [1.960375559E9], [1.312332007E9]] |\n",
            "|spotify:track:0087fDVeNhuyMtST91RMjv|(100001,[3054,15126,22409,51900,76553,77840],[1.0,1.0,1.0,1.0,1.0,1.0])          |[[4.42444855E8], [9.9408714E7], [4.24448075E8], [1.035892514E9], [3.26288513E8], [5.5777859E7], [3.19424714E8], [1.10656029E8], [1.3558944E7], [4.9343729E7]]        |\n",
            "|spotify:track:009aJqwtazpcpmOW3YbwDx|(100001,[12483,24103,58938,86619],[1.0,1.0,1.0,1.0])                             |[[6.7941117E8], [1.106326751E9], [2.32446905E8], [3.6451711E8], [3.83919961E8], [1.54686687E8], [3.1408975E8], [5.90263585E8], [5.67383762E8], [2.09209614E8]]       |\n",
            "|spotify:track:009n0zqtbcRTL7T4TiGf41|(100001,[63483],[1.0])                                                           |[[1.937983704E9], [4.61632015E8], [8.95538953E8], [1.503709458E9], [4.11758862E8], [8.48213174E8], [5.88812264E8], [1.94492842E8], [1.006477169E9], [5.19917308E8]]  |\n",
            "|spotify:track:00AJHbqsncKqA6FSnz5o5p|(100001,[75865],[1.0])                                                           |[[1.281162171E9], [2.020909117E9], [1.669743063E9], [5.8888535E8], [5.90575898E8], [4.5154429E8], [1.453383337E9], [1.632236988E9], [6.17674737E8], [5.30870961E8]]  |\n",
            "|spotify:track:00BsdsY1DUzykUTs9yyu4S|(100001,[65347],[1.0])                                                           |[[1.500358671E9], [5.16953534E8], [1.623082961E9], [1.544417008E9], [3805501.0], [1.831731743E9], [9.15827114E8], [5.74215442E8], [1.129664601E9], [6.20326164E8]]   |\n",
            "+------------------------------------+---------------------------------------------------------------------------------+---------------------------------------------------------------------------------------------------------------------------------------------------------------------+\n",
            "only showing top 20 rows\n",
            "\n"
          ]
        }
      ],
      "source": [
        "NUM_HASH_TABLES = 10\n",
        "LSH_MODEL_PATH = os.path.join(SAVED_DFS_PATH, f\"lsh_model-{NUM_HASH_TABLES}-{NUM_PLAYLISTS}.pickle\")\n",
        "if os.path.exists(LSH_MODEL_PATH):\n",
        "  model = MinHashLSHModel.load(LSH_MODEL_PATH)\n",
        "else:\n",
        "  mh = MinHashLSH(inputCol=\"embedding\", outputCol=\"hashes\", numHashTables=NUM_HASH_TABLES)\n",
        "  model = mh.fit(playlist_map)\n",
        "  model.save(LSH_MODEL_PATH)\n",
        "\n",
        "model.transform(playlist_map).show(truncate=False)"
      ]
    },
    {
      "attachments": {},
      "cell_type": "markdown",
      "metadata": {},
      "source": [
        "Once we extract, for each song $s \\in S$ (where $S$ is the collection of songs in the input playlist), the list of $k$ nearest neighbours of $s$, we will have a collection of $|S|$ DataFrames. Since $k$ will be a small value, we know for a fact that these DataFrames will be small, and so we can convert them to python dictionaries in order to further improve the performances when aggregating them into a single DataFrame. \n",
        "\n",
        "The aggreagation works in this way:\n",
        "- Given a collection of dictionaries $D$ of the type `{track_uri: str: distance: int}`\n",
        "- Create a new dictionary $d_{\\text{agg}}$, and put as keys each `track_uri` that appears in $D$, then as value:\n",
        "  - if: `track_uri` appears only once, the list `[distance]` of the distance associated\n",
        "  - else: the list `[distance1, distance2, ...]` of distances associated with the `track_uri` in each place where `track_uri` appears in $D$.\n",
        "- Map to each `track_uri` in $d_{\\text{agg}}$ the mean of the values inside of associated value.\n"
      ]
    },
    {
      "cell_type": "code",
      "execution_count": 17,
      "metadata": {
        "id": "XmUp55bUg8f9"
      },
      "outputs": [],
      "source": [
        "def df_to_dict(df: DataFrame) -> DataFrame:\n",
        "  \"\"\"\n",
        "  Given a DataFrame that includes the track_uri and the distance to the input track, it converts\n",
        "  it to a python dictionary.\n",
        "  \"\"\"\n",
        "  return df.select(\"track_uri\", \"distCol\").rdd.collectAsMap()\n",
        "\n",
        "def merge_dicts(d1: Dict[str, float], d2: Dict[str, float]) -> Dict[str, float]:\n",
        "  \"\"\"\n",
        "  Aggregates the values of the d2 dataframe into the d1 dataframe, which is treated like an accumulator.\n",
        "  The function has to be used inside of a reduce().\n",
        "  \"\"\"\n",
        "  for key, value in d2.items():\n",
        "    if key in d1:\n",
        "      if type(d1[key]) is float:\n",
        "        d1[key] = [d1[key]]\n",
        "      d1[key] += [value]\n",
        "    else:\n",
        "      d1[key] = [value]\n",
        "  return d1\n",
        "\n",
        "if DEBUG:\n",
        "  key = playlist_map.first()[1]\n",
        "  neigh = model.approxNearestNeighbors(playlist_map, key, 10).cache()\n",
        "  merged_df_2 = merge_dicts(df_to_dict(neigh), df_to_dict(neigh))\n",
        "  print(merged_df_2)"
      ]
    },
    {
      "attachments": {},
      "cell_type": "markdown",
      "metadata": {},
      "source": [
        "Let's define the function that actually extracts the nearest neighbours for each song, and creates the accumulated python dictionary."
      ]
    },
    {
      "cell_type": "code",
      "execution_count": 18,
      "metadata": {
        "id": "p6sFCM6RG5Y1"
      },
      "outputs": [],
      "source": [
        "def extract_similar_songs(playlist_tracks: DataFrame, playlist_map, model, k=10, disable_pbar=False) -> Dict[str, float]:\n",
        "  \"\"\"\n",
        "  Given the a DataFrame containing the input playlist's tracks, the LSH model and the DataFrame that maps\n",
        "  each playlist to a position, gets the approximate k-nearest-neighbours for each track, and aggregates the \n",
        "  results into a python dictionary.\n",
        "  \"\"\"\n",
        "  aggregate_df = None\n",
        "  tracks_embedding = playlist_map.join(F.broadcast(playlist_tracks), \"track_uri\").select(\"track_uri\", \"embedding\")\n",
        "  transformed_tracks_embeddings = model.transform(tracks_embedding).cache()\n",
        "  k_neighs = []\n",
        "\n",
        "  for row in tqdm(tracks_embedding.collect(), desc='Extracting k-neighbors', disable=disable_pbar):\n",
        "    k_neigh = model.approxNearestNeighbors(playlist_map, row[\"embedding\"], k).cache()\n",
        "    k_neighs.append(df_to_dict(k_neigh))\n",
        "\n",
        "  aggregate_df = reduce(merge_dicts, k_neighs)\n",
        "\n",
        "  transformed_tracks_embeddings.unpersist()\n",
        "  return aggregate_df\n",
        "\n",
        "if DEBUG:\n",
        "  # first_playlist = train_df.limit(1).select(F.explode(\"tracks\")).select(\"col.*\").distinct()\n",
        "  first_playlist = train_df.filter(\"pid == 1005\").select(F.explode(\"tracks\")).select(\"col.*\").distinct()\n",
        "  recommendations = extract_similar_songs(first_playlist, playlist_map, model, k=10)"
      ]
    },
    {
      "attachments": {},
      "cell_type": "markdown",
      "metadata": {
        "id": "L-zF2NSClWaV"
      },
      "source": [
        "We can see that the `reccomendations` python dictionary obtained from converting the DataFrame is actually very small, and occupies only few KB of memory. "
      ]
    },
    {
      "cell_type": "code",
      "execution_count": 19,
      "metadata": {
        "id": "FRs9DULWlMvl"
      },
      "outputs": [],
      "source": [
        "if DEBUG:\n",
        "  print(f\"The reccomendation dictionary is {sys.getsizeof(recommendations) / 1_000} KB\")"
      ]
    },
    {
      "attachments": {},
      "cell_type": "markdown",
      "metadata": {},
      "source": [
        "Once we have computed the aggreageted python dictionary, we can average the similarity values inside of the dictionary's values, and obtain a pyspark DataFrame back."
      ]
    },
    {
      "cell_type": "code",
      "execution_count": 20,
      "metadata": {
        "id": "QbBeYNhKqJgM"
      },
      "outputs": [],
      "source": [
        "def aggregate_recommendations(recommendations: Dict[str, float | List[float]]) -> DataFrame:\n",
        "  \"\"\"\n",
        "  Given the python dictionary of aggreagated recommendations, it converts it into a pyspark DataFrame.\n",
        "  \"\"\"\n",
        "  aggregated = {}\n",
        "  for key, value in recommendations.items():\n",
        "    if type(value) is list:\n",
        "      aggregated[key] = sum(x for x in value) / len(value)\n",
        "    else:\n",
        "      aggregated[key] = value\n",
        "      \n",
        "  recommendations_schema = StructType([\n",
        "      StructField(\"track_uri\", StringType(), True),\n",
        "      StructField(\"distance\", FloatType(), True)\n",
        "  ])\n",
        "\n",
        "  recommendations_df = spark.createDataFrame(data=aggregated.items(), schema=recommendations_schema)\n",
        "\n",
        "  return recommendations_df\n",
        "\n",
        "if DEBUG:\n",
        "  k = 40\n",
        "  recommendations_df = aggregate_recommendations(recommendations)\n",
        "  recommendations_df.show(truncate=False)\n",
        "  first_playlist.show(truncate=False)\n",
        "  print(recommendations_df.count(), first_playlist.count())"
      ]
    },
    {
      "attachments": {},
      "cell_type": "markdown",
      "metadata": {
        "id": "vpbn30aDl0h7"
      },
      "source": [
        "Here I define a function that, given the input playlist tracks DataFrame and the DataFrame of recommended tracks, removes from the latter the songs that are already in the playlist, in order to not recommend them."
      ]
    },
    {
      "cell_type": "code",
      "execution_count": 21,
      "metadata": {
        "id": "hzSjUb0k5WvD"
      },
      "outputs": [],
      "source": [
        "def remove_existing_tracks(playlist_tracks: DataFrame, recommendations_df: DataFrame) -> DataFrame:\n",
        "  \"\"\"\n",
        "  Given a DataFrame of input playlist's tracks, and a DataFrame of recommendations, removes from the\n",
        "  recommendations the tracks that already appear in the input playlist's tracks.\n",
        "  \"\"\"\n",
        "  playlist_tracks = playlist_tracks.select(\"track_uri\").cache()\n",
        "  playlist_tracks_compatible = playlist_tracks.join(F.broadcast(recommendations_df), on=\"track_uri\")\n",
        "  playlist_tracks.unpersist()\n",
        "  return recommendations_df.exceptAll(playlist_tracks_compatible)\n",
        "\n",
        "if DEBUG:\n",
        "  clean_df = remove_existing_tracks(first_playlist, recommendations_df)\n",
        "  clean_df.show()"
      ]
    },
    {
      "attachments": {},
      "cell_type": "markdown",
      "metadata": {
        "id": "fVBZMo5ym4wY"
      },
      "source": [
        "Putting all togheter:"
      ]
    },
    {
      "cell_type": "code",
      "execution_count": 22,
      "metadata": {
        "id": "PnHTtod7m7jB"
      },
      "outputs": [],
      "source": [
        "def item_based_recommendation(playlist: DataFrame,playlist_map: DataFrame, model: MinHashLSHModel, n=50):\n",
        "  \"\"\"\n",
        "  Given a DataFrame with a single element in it that includes the details of the playlist and the vector\n",
        "  representation, it performs the recommendation pipeline and return the DataFrame containing the n\n",
        "  recommended songs that continuate the playlist.\n",
        "  \"\"\"\n",
        "  playlist_songs = playlist.select(F.explode(\"tracks\")).select(\"col.*\")\n",
        "  recommendations = extract_similar_songs(playlist_songs, playlist_map, model, k=20, disable_pbar=True)\n",
        "  recommendations_df = aggregate_recommendations(recommendations)\n",
        "  recommendations_df = remove_existing_tracks(playlist_songs, recommendations_df)\n",
        "  return recommendations_df.orderBy(F.col(\"distance\").asc()).limit(n).cache()\n",
        "\n",
        "if DEBUG:\n",
        "  playlist = train_df.filter(\"pid == 2005\")\n",
        "  result = item_based_recommendation(playlist, playlist_map, model)\n",
        "  result.show()"
      ]
    },
    {
      "attachments": {},
      "cell_type": "markdown",
      "metadata": {
        "id": "92e4Ipd-m2TF"
      },
      "source": [
        "# Performance Evaluation"
      ]
    },
    {
      "cell_type": "code",
      "execution_count": 23,
      "metadata": {
        "id": "R3bMn2m6nGdC"
      },
      "outputs": [],
      "source": [
        "def precision_at_k(recommendations, ground_truth, num_of_recommendations) -> float:\n",
        "    \"\"\"\n",
        "    Calculates precision at k for the recommendations.\n",
        "    \"\"\" \n",
        "    recommended_relevant_tracks = recommendations.join(ground_truth, \"track_uri\").cache()\n",
        "    reccomended_relevant_tracks_count = recommended_relevant_tracks.count() #this can be top_n_results.join in order to be more performant\n",
        "    recommended_relevant_tracks.unpersist()\n",
        "    precision = reccomended_relevant_tracks_count / float(num_of_recommendations)\n",
        "\n",
        "    return precision\n",
        "\n",
        "def normalized_discounted_cumulative_gain(recommendations: DataFrame, ground_truth: DataFrame, num_of_recommendations: int) -> float:\n",
        "  \"\"\"\n",
        "  Calculates the Normalized Discounted Cumulative Gain between the DataFrame of recommendations and the DataFrame of ground truth.\n",
        "  \"\"\"\n",
        "  recommendations = recommendations.orderBy(F.col(\"distance\").asc())\n",
        "  recommendations_list = recommendations.collect()\n",
        "  cumulative_gain = 0\n",
        "\n",
        "  intersection = recommendations.join(ground_truth, \"track_uri\").count()\n",
        "  if intersection == 0: return 0\n",
        "\n",
        "  ideal_cumulative_gain = 1 + sum((1 / math.log(i, 2)) for i in range(2, 2+intersection))\n",
        "  for index, row in enumerate(recommendations_list):\n",
        "    i = index + 1\n",
        "    is_rel = ground_truth.filter(F.col(\"track_uri\").isin(row.track_uri)).count() > 0\n",
        "    rel = 1 if is_rel else 0\n",
        "    if i == 1:\n",
        "      cumulative_gain += rel\n",
        "    else:\n",
        "      cumulative_gain += (rel / math.log(i, 2))\n",
        "  return cumulative_gain / ideal_cumulative_gain"
      ]
    },
    {
      "attachments": {},
      "cell_type": "markdown",
      "metadata": {
        "id": "c8SUpL2Boghc"
      },
      "source": [
        "Executing performance evaluation on a random sample of the test set"
      ]
    },
    {
      "cell_type": "code",
      "execution_count": 24,
      "metadata": {
        "id": "Y8ZIqjdSogHJ"
      },
      "outputs": [],
      "source": [
        "def evaluate(pid: int, playlist_map) -> Tuple[DataFrame, float]:\n",
        "    t1 = time.time()\n",
        "\n",
        "    playlist_train = train_df.filter(f\"pid == {pid}\").cache()\n",
        "    playlist_test = test_df.filter(f\"pid == {pid}\").cache()\n",
        "    ground_truth = playlist_test.select(F.explode(\"tracks\")).select(\"col.*\").cache()\n",
        "    num_of_recommendations = ground_truth.count()\n",
        "    recommendations = item_based_recommendation(playlist_train, playlist_map, model, n=num_of_recommendations).cache()\n",
        "\n",
        "    precision = precision_at_k(recommendations, ground_truth, num_of_recommendations)\n",
        "    gain = normalized_discounted_cumulative_gain(recommendations, ground_truth, num_of_recommendations)\n",
        "\n",
        "    t2 = time.time()\n",
        "    print(f\"Total time: {t2-t1}\")\n",
        "\n",
        "    playlist_train.unpersist()\n",
        "    playlist_test.unpersist()\n",
        "    ground_truth.unpersist()\n",
        "    recommendations.unpersist()\n",
        "\n",
        "    return playlist_train, playlist_test, ground_truth, recommendations, precision, gain\n",
        "\n",
        "\n",
        "if DEBUG:\n",
        "  train, test, gt, rec, prec, gain  = evaluate(1005, playlist_map)\n",
        "  train.show(), test.show(), gt.show(), rec.show(truncate=False)\n",
        "  print(f\"Precision: {prec}, Gain: {gain}\")"
      ]
    },
    {
      "cell_type": "code",
      "execution_count": null,
      "metadata": {
        "colab": {
          "base_uri": "https://localhost:8080/",
          "height": 639,
          "referenced_widgets": [
            "85704d667a8a40ba9066fa7106a91dad",
            "3897952d6cce457e8f64b8f73e4645bb",
            "f17ccdb7487a4568a54e91611252368a",
            "60b629c1cd8d426f8fcb3d566a538527",
            "3af1bd7b53e74dc18e5a0abe61241d60",
            "83e8ffee77c340cfbb0608c13efe3fb8",
            "457c735850e54fa6a5835ab33db3d5fe",
            "255dd6ca245f431685dbe5a29a179c67",
            "4b5bcf7168db46dd8d6e1832bdcc2fd4",
            "b4f2dd48632a4f6eb37e1aad8cc68858",
            "59e37f5b02a145aaa240e628eb54dbef"
          ]
        },
        "id": "DokoAdIipxHi",
        "outputId": "fb70f96b-1eec-4b17-c73b-770645d70b7b"
      },
      "outputs": [],
      "source": [
        "LAST_CHECKPOINT_INDEX = 240\n",
        "EVALUATION_RESULTS_PATH = os.path.join(EVALUATION_FOLDER, f'{NUM_HASH_TABLES}_hash_tables', \"IB_evaluation_results_FINAL\")\n",
        "\n",
        "def perform_evaluation():\n",
        "  SAMPLING_FRACTION = 0.01\n",
        "  sampled_playlists = train_df.sample(False, SAMPLING_FRACTION, seed=42).cache()\n",
        "\n",
        "  transformed_playlist_map = model.transform(playlist_map).cache()\n",
        "  results = []\n",
        "  for index, row in enumerate(tqdm(sampled_playlists.collect(), desc=\"Performing evaluation\")):\n",
        "      if index <= LAST_CHECKPOINT_INDEX: continue \n",
        "\n",
        "      CHECKPOINT_RESULTS = os.path.join(EVALUATION_FOLDER, f'{NUM_HASH_TABLES}_hash_tables', f\"IB_evaluation_results_check_{index}\")\n",
        "      pid = row['pid']\n",
        "      train, test, gt, rec, prec, gain = evaluate(pid,transformed_playlist_map)\n",
        "      print((prec, gain))\n",
        "      results.append((prec, gain))\n",
        "      if index % 10 == 0:\n",
        "         with open(CHECKPOINT_RESULTS, \"w\") as f:\n",
        "            json.dump(results, f)\n",
        "  \n",
        "  sampled_playlists.unpersist() \n",
        "  with open(EVALUATION_RESULTS_PATH, \"w\") as f:\n",
        "    json.dump(results, f)\n",
        "  return results\n",
        "\n",
        "results = perform_evaluation()"
      ]
    },
    {
      "cell_type": "code",
      "execution_count": 6,
      "metadata": {
        "colab": {
          "base_uri": "https://localhost:8080/"
        },
        "id": "lMVlUMTB5MLB",
        "outputId": "6e77ec98-1295-4a23-f5d3-7940aa9cf1dd"
      },
      "outputs": [
        {
          "data": {
            "text/plain": [
              "(0.08687498379017798, 0.2582336251484499)"
            ]
          },
          "execution_count": 6,
          "metadata": {},
          "output_type": "execute_result"
        }
      ],
      "source": [
        "EVALUATION_FOLDER = os.path.join(EVALUATION_FOLDER, f'{NUM_HASH_TABLES}_hash_tables')\n",
        "results = []\n",
        "for file in os.listdir(EVALUATION_FOLDER):\n",
        "    if file == \".DS_Store\": continue\n",
        "    with open(os.path.join(EVALUATION_FOLDER, file), \"r\") as f:\n",
        "        file_results = json.load(f)\n",
        "        results.extend(file_results)\n",
        "\n",
        "avg_prec, avg_gain = 0, 0\n",
        "for prec, gain in results:\n",
        "  avg_prec += prec\n",
        "  avg_gain += gain \n",
        "tot = len(results)\n",
        "avg_prec /= tot\n",
        "avg_gain /= tot\n",
        "avg_prec, avg_gain"
      ]
    },
    {
      "attachments": {},
      "cell_type": "markdown",
      "metadata": {
        "id": "x9gbMKT_lw9S"
      },
      "source": [
        "# All against all full computation (Not used)"
      ]
    },
    {
      "attachments": {},
      "cell_type": "markdown",
      "metadata": {
        "id": "GI8ZtkTmv2qa"
      },
      "source": [
        "Since computing the k nearest neighbors is super slow, I can pre-compute them offline and store them. This will require like a week.\n",
        "\n",
        "NOTE: I didn't use this piece of code inside of the project because it required too much time, but I put it here to demonstrate how it would work. Once the DataFrame that maps each song to its $k$ nearest neighbours, the neighbours of a given song can be efficiently gotten with a lookup."
      ]
    },
    {
      "cell_type": "code",
      "execution_count": 36,
      "metadata": {
        "id": "uzj7kXRNi6ex"
      },
      "outputs": [],
      "source": [
        "mh = MinHashLSH(inputCol=\"embedding\", outputCol=\"hashes\", numHashTables=NUM_HASH_TABLES)\n",
        "model = mh.fit(playlist_map)"
      ]
    },
    {
      "cell_type": "code",
      "execution_count": null,
      "metadata": {
        "colab": {
          "base_uri": "https://localhost:8080/",
          "height": 535,
          "referenced_widgets": [
            "49a1c7a01352423f94bb60dfe0b3e1f5",
            "2b64f1c614f349ee8218492095bbdc47",
            "f5cb21f6d1224cdd8d120989dda14a0e",
            "b2c37498584a4e249553c1c1741bc797",
            "33c7e9f49ff34a8da278e68ea7c13b13",
            "af437c2a0a37403eabdc5cff537fd1e9",
            "d8e0d48bb9104056a692a8ae4ec045b7",
            "54da270bcbba4831950913a0e323aef5",
            "89453331f508408295254b5649df8e39",
            "410393d13be2441ca1b54bfc5d873f42",
            "deedaef94d554aae908082c916be49f2"
          ]
        },
        "id": "tqV8qF-iv-RA",
        "outputId": "672b4bfa-ea21-4938-a6fb-f55bccbf277b"
      },
      "outputs": [],
      "source": [
        "def compute_all_k_neighbors(playlist_map: DataFrame, model) -> DataFrame:\n",
        "    result = []\n",
        "    transformed_playlist_map = model.transform(playlist_map).cache()\n",
        "    for index, row in enumerate(tqdm(playlist_map.collect(), desc=\"Computing k-neighbors\")):\n",
        "        k_neighs = model.approxNearestNeighbors(transformed_playlist_map, row.embedding, 10).select(\"track_uri\", F.col(\"distCol\").alias(\"similarity\"))\n",
        "        result.append((row.track_uri, k_neighs.collect()))\n",
        "\n",
        "    k_neighs_schema = StructType([\n",
        "        StructField(\"track_uri\", StringType(), nullable=True),\n",
        "        StructField(\"distCol\", FloatType(), nullable=True)\n",
        "    ])\n",
        "\n",
        "    schema = StructType([\n",
        "        StructField(\"track_uri\", StringType(), nullable=True),\n",
        "        StructField(\"k_neighs\", ArrayType(k_neighs_schema), nullable=True)\n",
        "    ])\n",
        "\n",
        "    result_df = spark.createDataFrame(result, schema)\n",
        "    transformed_playlist_map.unpersist()\n",
        "\n",
        "    return result_df\n",
        "\n",
        "result_df = compute_all_k_neighbors(playlist_map, model)"
      ]
    },
    {
      "cell_type": "code",
      "execution_count": null,
      "metadata": {
        "id": "VVFic9gIM7L_"
      },
      "outputs": [],
      "source": [
        "K_NEIGHBOURS_PATH = os.path.join(GDRIVE_DATA_DIR,\"saved_models\", f\"k_neighbours-{NUM_PLAYLISTS}.parquet\")\n",
        "result_df.write.parquet(K_NEIGHBOURS_PATH)"
      ]
    }
  ],
  "metadata": {
    "colab": {
      "authorship_tag": "ABX9TyMh7VZXJzSwk7g3Ej19HkgS",
      "collapsed_sections": [
        "VJeY9PpvaHUJ",
        "x9gbMKT_lw9S",
        "aoVjgtwlI9qe"
      ],
      "include_colab_link": true,
      "provenance": []
    },
    "kernelspec": {
      "display_name": "Python 3",
      "name": "python3"
    },
    "language_info": {
      "codemirror_mode": {
        "name": "ipython",
        "version": 3
      },
      "file_extension": ".py",
      "mimetype": "text/x-python",
      "name": "python",
      "nbconvert_exporter": "python",
      "pygments_lexer": "ipython3",
      "version": "3.10.9"
    },
    "widgets": {
      "application/vnd.jupyter.widget-state+json": {
        "255dd6ca245f431685dbe5a29a179c67": {
          "model_module": "@jupyter-widgets/base",
          "model_module_version": "1.2.0",
          "model_name": "LayoutModel",
          "state": {
            "_model_module": "@jupyter-widgets/base",
            "_model_module_version": "1.2.0",
            "_model_name": "LayoutModel",
            "_view_count": null,
            "_view_module": "@jupyter-widgets/base",
            "_view_module_version": "1.2.0",
            "_view_name": "LayoutView",
            "align_content": null,
            "align_items": null,
            "align_self": null,
            "border": null,
            "bottom": null,
            "display": null,
            "flex": null,
            "flex_flow": null,
            "grid_area": null,
            "grid_auto_columns": null,
            "grid_auto_flow": null,
            "grid_auto_rows": null,
            "grid_column": null,
            "grid_gap": null,
            "grid_row": null,
            "grid_template_areas": null,
            "grid_template_columns": null,
            "grid_template_rows": null,
            "height": null,
            "justify_content": null,
            "justify_items": null,
            "left": null,
            "margin": null,
            "max_height": null,
            "max_width": null,
            "min_height": null,
            "min_width": null,
            "object_fit": null,
            "object_position": null,
            "order": null,
            "overflow": null,
            "overflow_x": null,
            "overflow_y": null,
            "padding": null,
            "right": null,
            "top": null,
            "visibility": null,
            "width": null
          }
        },
        "2b64f1c614f349ee8218492095bbdc47": {
          "model_module": "@jupyter-widgets/controls",
          "model_module_version": "1.5.0",
          "model_name": "HTMLModel",
          "state": {
            "_dom_classes": [],
            "_model_module": "@jupyter-widgets/controls",
            "_model_module_version": "1.5.0",
            "_model_name": "HTMLModel",
            "_view_count": null,
            "_view_module": "@jupyter-widgets/controls",
            "_view_module_version": "1.5.0",
            "_view_name": "HTMLView",
            "description": "",
            "description_tooltip": null,
            "layout": "IPY_MODEL_af437c2a0a37403eabdc5cff537fd1e9",
            "placeholder": "​",
            "style": "IPY_MODEL_d8e0d48bb9104056a692a8ae4ec045b7",
            "value": "Computing k-neighbors:   0%"
          }
        },
        "33c7e9f49ff34a8da278e68ea7c13b13": {
          "model_module": "@jupyter-widgets/base",
          "model_module_version": "1.2.0",
          "model_name": "LayoutModel",
          "state": {
            "_model_module": "@jupyter-widgets/base",
            "_model_module_version": "1.2.0",
            "_model_name": "LayoutModel",
            "_view_count": null,
            "_view_module": "@jupyter-widgets/base",
            "_view_module_version": "1.2.0",
            "_view_name": "LayoutView",
            "align_content": null,
            "align_items": null,
            "align_self": null,
            "border": null,
            "bottom": null,
            "display": null,
            "flex": null,
            "flex_flow": null,
            "grid_area": null,
            "grid_auto_columns": null,
            "grid_auto_flow": null,
            "grid_auto_rows": null,
            "grid_column": null,
            "grid_gap": null,
            "grid_row": null,
            "grid_template_areas": null,
            "grid_template_columns": null,
            "grid_template_rows": null,
            "height": null,
            "justify_content": null,
            "justify_items": null,
            "left": null,
            "margin": null,
            "max_height": null,
            "max_width": null,
            "min_height": null,
            "min_width": null,
            "object_fit": null,
            "object_position": null,
            "order": null,
            "overflow": null,
            "overflow_x": null,
            "overflow_y": null,
            "padding": null,
            "right": null,
            "top": null,
            "visibility": null,
            "width": null
          }
        },
        "3897952d6cce457e8f64b8f73e4645bb": {
          "model_module": "@jupyter-widgets/controls",
          "model_module_version": "1.5.0",
          "model_name": "HTMLModel",
          "state": {
            "_dom_classes": [],
            "_model_module": "@jupyter-widgets/controls",
            "_model_module_version": "1.5.0",
            "_model_name": "HTMLModel",
            "_view_count": null,
            "_view_module": "@jupyter-widgets/controls",
            "_view_module_version": "1.5.0",
            "_view_name": "HTMLView",
            "description": "",
            "description_tooltip": null,
            "layout": "IPY_MODEL_83e8ffee77c340cfbb0608c13efe3fb8",
            "placeholder": "​",
            "style": "IPY_MODEL_457c735850e54fa6a5835ab33db3d5fe",
            "value": "Performing evaluation: 100%"
          }
        },
        "3af1bd7b53e74dc18e5a0abe61241d60": {
          "model_module": "@jupyter-widgets/base",
          "model_module_version": "1.2.0",
          "model_name": "LayoutModel",
          "state": {
            "_model_module": "@jupyter-widgets/base",
            "_model_module_version": "1.2.0",
            "_model_name": "LayoutModel",
            "_view_count": null,
            "_view_module": "@jupyter-widgets/base",
            "_view_module_version": "1.2.0",
            "_view_name": "LayoutView",
            "align_content": null,
            "align_items": null,
            "align_self": null,
            "border": null,
            "bottom": null,
            "display": null,
            "flex": null,
            "flex_flow": null,
            "grid_area": null,
            "grid_auto_columns": null,
            "grid_auto_flow": null,
            "grid_auto_rows": null,
            "grid_column": null,
            "grid_gap": null,
            "grid_row": null,
            "grid_template_areas": null,
            "grid_template_columns": null,
            "grid_template_rows": null,
            "height": null,
            "justify_content": null,
            "justify_items": null,
            "left": null,
            "margin": null,
            "max_height": null,
            "max_width": null,
            "min_height": null,
            "min_width": null,
            "object_fit": null,
            "object_position": null,
            "order": null,
            "overflow": null,
            "overflow_x": null,
            "overflow_y": null,
            "padding": null,
            "right": null,
            "top": null,
            "visibility": null,
            "width": null
          }
        },
        "410393d13be2441ca1b54bfc5d873f42": {
          "model_module": "@jupyter-widgets/base",
          "model_module_version": "1.2.0",
          "model_name": "LayoutModel",
          "state": {
            "_model_module": "@jupyter-widgets/base",
            "_model_module_version": "1.2.0",
            "_model_name": "LayoutModel",
            "_view_count": null,
            "_view_module": "@jupyter-widgets/base",
            "_view_module_version": "1.2.0",
            "_view_name": "LayoutView",
            "align_content": null,
            "align_items": null,
            "align_self": null,
            "border": null,
            "bottom": null,
            "display": null,
            "flex": null,
            "flex_flow": null,
            "grid_area": null,
            "grid_auto_columns": null,
            "grid_auto_flow": null,
            "grid_auto_rows": null,
            "grid_column": null,
            "grid_gap": null,
            "grid_row": null,
            "grid_template_areas": null,
            "grid_template_columns": null,
            "grid_template_rows": null,
            "height": null,
            "justify_content": null,
            "justify_items": null,
            "left": null,
            "margin": null,
            "max_height": null,
            "max_width": null,
            "min_height": null,
            "min_width": null,
            "object_fit": null,
            "object_position": null,
            "order": null,
            "overflow": null,
            "overflow_x": null,
            "overflow_y": null,
            "padding": null,
            "right": null,
            "top": null,
            "visibility": null,
            "width": null
          }
        },
        "457c735850e54fa6a5835ab33db3d5fe": {
          "model_module": "@jupyter-widgets/controls",
          "model_module_version": "1.5.0",
          "model_name": "DescriptionStyleModel",
          "state": {
            "_model_module": "@jupyter-widgets/controls",
            "_model_module_version": "1.5.0",
            "_model_name": "DescriptionStyleModel",
            "_view_count": null,
            "_view_module": "@jupyter-widgets/base",
            "_view_module_version": "1.2.0",
            "_view_name": "StyleView",
            "description_width": ""
          }
        },
        "49a1c7a01352423f94bb60dfe0b3e1f5": {
          "model_module": "@jupyter-widgets/controls",
          "model_module_version": "1.5.0",
          "model_name": "HBoxModel",
          "state": {
            "_dom_classes": [],
            "_model_module": "@jupyter-widgets/controls",
            "_model_module_version": "1.5.0",
            "_model_name": "HBoxModel",
            "_view_count": null,
            "_view_module": "@jupyter-widgets/controls",
            "_view_module_version": "1.5.0",
            "_view_name": "HBoxView",
            "box_style": "",
            "children": [
              "IPY_MODEL_2b64f1c614f349ee8218492095bbdc47",
              "IPY_MODEL_f5cb21f6d1224cdd8d120989dda14a0e",
              "IPY_MODEL_b2c37498584a4e249553c1c1741bc797"
            ],
            "layout": "IPY_MODEL_33c7e9f49ff34a8da278e68ea7c13b13"
          }
        },
        "4b5bcf7168db46dd8d6e1832bdcc2fd4": {
          "model_module": "@jupyter-widgets/controls",
          "model_module_version": "1.5.0",
          "model_name": "ProgressStyleModel",
          "state": {
            "_model_module": "@jupyter-widgets/controls",
            "_model_module_version": "1.5.0",
            "_model_name": "ProgressStyleModel",
            "_view_count": null,
            "_view_module": "@jupyter-widgets/base",
            "_view_module_version": "1.2.0",
            "_view_name": "StyleView",
            "bar_color": null,
            "description_width": ""
          }
        },
        "54da270bcbba4831950913a0e323aef5": {
          "model_module": "@jupyter-widgets/base",
          "model_module_version": "1.2.0",
          "model_name": "LayoutModel",
          "state": {
            "_model_module": "@jupyter-widgets/base",
            "_model_module_version": "1.2.0",
            "_model_name": "LayoutModel",
            "_view_count": null,
            "_view_module": "@jupyter-widgets/base",
            "_view_module_version": "1.2.0",
            "_view_name": "LayoutView",
            "align_content": null,
            "align_items": null,
            "align_self": null,
            "border": null,
            "bottom": null,
            "display": null,
            "flex": null,
            "flex_flow": null,
            "grid_area": null,
            "grid_auto_columns": null,
            "grid_auto_flow": null,
            "grid_auto_rows": null,
            "grid_column": null,
            "grid_gap": null,
            "grid_row": null,
            "grid_template_areas": null,
            "grid_template_columns": null,
            "grid_template_rows": null,
            "height": null,
            "justify_content": null,
            "justify_items": null,
            "left": null,
            "margin": null,
            "max_height": null,
            "max_width": null,
            "min_height": null,
            "min_width": null,
            "object_fit": null,
            "object_position": null,
            "order": null,
            "overflow": null,
            "overflow_x": null,
            "overflow_y": null,
            "padding": null,
            "right": null,
            "top": null,
            "visibility": null,
            "width": null
          }
        },
        "59e37f5b02a145aaa240e628eb54dbef": {
          "model_module": "@jupyter-widgets/controls",
          "model_module_version": "1.5.0",
          "model_name": "DescriptionStyleModel",
          "state": {
            "_model_module": "@jupyter-widgets/controls",
            "_model_module_version": "1.5.0",
            "_model_name": "DescriptionStyleModel",
            "_view_count": null,
            "_view_module": "@jupyter-widgets/base",
            "_view_module_version": "1.2.0",
            "_view_name": "StyleView",
            "description_width": ""
          }
        },
        "60b629c1cd8d426f8fcb3d566a538527": {
          "model_module": "@jupyter-widgets/controls",
          "model_module_version": "1.5.0",
          "model_name": "HTMLModel",
          "state": {
            "_dom_classes": [],
            "_model_module": "@jupyter-widgets/controls",
            "_model_module_version": "1.5.0",
            "_model_name": "HTMLModel",
            "_view_count": null,
            "_view_module": "@jupyter-widgets/controls",
            "_view_module_version": "1.5.0",
            "_view_name": "HTMLView",
            "description": "",
            "description_tooltip": null,
            "layout": "IPY_MODEL_b4f2dd48632a4f6eb37e1aad8cc68858",
            "placeholder": "​",
            "style": "IPY_MODEL_59e37f5b02a145aaa240e628eb54dbef",
            "value": " 17/17 [27:42&lt;00:00, 111.24s/it]"
          }
        },
        "83e8ffee77c340cfbb0608c13efe3fb8": {
          "model_module": "@jupyter-widgets/base",
          "model_module_version": "1.2.0",
          "model_name": "LayoutModel",
          "state": {
            "_model_module": "@jupyter-widgets/base",
            "_model_module_version": "1.2.0",
            "_model_name": "LayoutModel",
            "_view_count": null,
            "_view_module": "@jupyter-widgets/base",
            "_view_module_version": "1.2.0",
            "_view_name": "LayoutView",
            "align_content": null,
            "align_items": null,
            "align_self": null,
            "border": null,
            "bottom": null,
            "display": null,
            "flex": null,
            "flex_flow": null,
            "grid_area": null,
            "grid_auto_columns": null,
            "grid_auto_flow": null,
            "grid_auto_rows": null,
            "grid_column": null,
            "grid_gap": null,
            "grid_row": null,
            "grid_template_areas": null,
            "grid_template_columns": null,
            "grid_template_rows": null,
            "height": null,
            "justify_content": null,
            "justify_items": null,
            "left": null,
            "margin": null,
            "max_height": null,
            "max_width": null,
            "min_height": null,
            "min_width": null,
            "object_fit": null,
            "object_position": null,
            "order": null,
            "overflow": null,
            "overflow_x": null,
            "overflow_y": null,
            "padding": null,
            "right": null,
            "top": null,
            "visibility": null,
            "width": null
          }
        },
        "85704d667a8a40ba9066fa7106a91dad": {
          "model_module": "@jupyter-widgets/controls",
          "model_module_version": "1.5.0",
          "model_name": "HBoxModel",
          "state": {
            "_dom_classes": [],
            "_model_module": "@jupyter-widgets/controls",
            "_model_module_version": "1.5.0",
            "_model_name": "HBoxModel",
            "_view_count": null,
            "_view_module": "@jupyter-widgets/controls",
            "_view_module_version": "1.5.0",
            "_view_name": "HBoxView",
            "box_style": "",
            "children": [
              "IPY_MODEL_3897952d6cce457e8f64b8f73e4645bb",
              "IPY_MODEL_f17ccdb7487a4568a54e91611252368a",
              "IPY_MODEL_60b629c1cd8d426f8fcb3d566a538527"
            ],
            "layout": "IPY_MODEL_3af1bd7b53e74dc18e5a0abe61241d60"
          }
        },
        "89453331f508408295254b5649df8e39": {
          "model_module": "@jupyter-widgets/controls",
          "model_module_version": "1.5.0",
          "model_name": "ProgressStyleModel",
          "state": {
            "_model_module": "@jupyter-widgets/controls",
            "_model_module_version": "1.5.0",
            "_model_name": "ProgressStyleModel",
            "_view_count": null,
            "_view_module": "@jupyter-widgets/base",
            "_view_module_version": "1.2.0",
            "_view_name": "StyleView",
            "bar_color": null,
            "description_width": ""
          }
        },
        "af437c2a0a37403eabdc5cff537fd1e9": {
          "model_module": "@jupyter-widgets/base",
          "model_module_version": "1.2.0",
          "model_name": "LayoutModel",
          "state": {
            "_model_module": "@jupyter-widgets/base",
            "_model_module_version": "1.2.0",
            "_model_name": "LayoutModel",
            "_view_count": null,
            "_view_module": "@jupyter-widgets/base",
            "_view_module_version": "1.2.0",
            "_view_name": "LayoutView",
            "align_content": null,
            "align_items": null,
            "align_self": null,
            "border": null,
            "bottom": null,
            "display": null,
            "flex": null,
            "flex_flow": null,
            "grid_area": null,
            "grid_auto_columns": null,
            "grid_auto_flow": null,
            "grid_auto_rows": null,
            "grid_column": null,
            "grid_gap": null,
            "grid_row": null,
            "grid_template_areas": null,
            "grid_template_columns": null,
            "grid_template_rows": null,
            "height": null,
            "justify_content": null,
            "justify_items": null,
            "left": null,
            "margin": null,
            "max_height": null,
            "max_width": null,
            "min_height": null,
            "min_width": null,
            "object_fit": null,
            "object_position": null,
            "order": null,
            "overflow": null,
            "overflow_x": null,
            "overflow_y": null,
            "padding": null,
            "right": null,
            "top": null,
            "visibility": null,
            "width": null
          }
        },
        "b2c37498584a4e249553c1c1741bc797": {
          "model_module": "@jupyter-widgets/controls",
          "model_module_version": "1.5.0",
          "model_name": "HTMLModel",
          "state": {
            "_dom_classes": [],
            "_model_module": "@jupyter-widgets/controls",
            "_model_module_version": "1.5.0",
            "_model_name": "HTMLModel",
            "_view_count": null,
            "_view_module": "@jupyter-widgets/controls",
            "_view_module_version": "1.5.0",
            "_view_name": "HTMLView",
            "description": "",
            "description_tooltip": null,
            "layout": "IPY_MODEL_410393d13be2441ca1b54bfc5d873f42",
            "placeholder": "​",
            "style": "IPY_MODEL_deedaef94d554aae908082c916be49f2",
            "value": " 62/681805 [01:02&lt;203:27:44,  1.07s/it]"
          }
        },
        "b4f2dd48632a4f6eb37e1aad8cc68858": {
          "model_module": "@jupyter-widgets/base",
          "model_module_version": "1.2.0",
          "model_name": "LayoutModel",
          "state": {
            "_model_module": "@jupyter-widgets/base",
            "_model_module_version": "1.2.0",
            "_model_name": "LayoutModel",
            "_view_count": null,
            "_view_module": "@jupyter-widgets/base",
            "_view_module_version": "1.2.0",
            "_view_name": "LayoutView",
            "align_content": null,
            "align_items": null,
            "align_self": null,
            "border": null,
            "bottom": null,
            "display": null,
            "flex": null,
            "flex_flow": null,
            "grid_area": null,
            "grid_auto_columns": null,
            "grid_auto_flow": null,
            "grid_auto_rows": null,
            "grid_column": null,
            "grid_gap": null,
            "grid_row": null,
            "grid_template_areas": null,
            "grid_template_columns": null,
            "grid_template_rows": null,
            "height": null,
            "justify_content": null,
            "justify_items": null,
            "left": null,
            "margin": null,
            "max_height": null,
            "max_width": null,
            "min_height": null,
            "min_width": null,
            "object_fit": null,
            "object_position": null,
            "order": null,
            "overflow": null,
            "overflow_x": null,
            "overflow_y": null,
            "padding": null,
            "right": null,
            "top": null,
            "visibility": null,
            "width": null
          }
        },
        "d8e0d48bb9104056a692a8ae4ec045b7": {
          "model_module": "@jupyter-widgets/controls",
          "model_module_version": "1.5.0",
          "model_name": "DescriptionStyleModel",
          "state": {
            "_model_module": "@jupyter-widgets/controls",
            "_model_module_version": "1.5.0",
            "_model_name": "DescriptionStyleModel",
            "_view_count": null,
            "_view_module": "@jupyter-widgets/base",
            "_view_module_version": "1.2.0",
            "_view_name": "StyleView",
            "description_width": ""
          }
        },
        "deedaef94d554aae908082c916be49f2": {
          "model_module": "@jupyter-widgets/controls",
          "model_module_version": "1.5.0",
          "model_name": "DescriptionStyleModel",
          "state": {
            "_model_module": "@jupyter-widgets/controls",
            "_model_module_version": "1.5.0",
            "_model_name": "DescriptionStyleModel",
            "_view_count": null,
            "_view_module": "@jupyter-widgets/base",
            "_view_module_version": "1.2.0",
            "_view_name": "StyleView",
            "description_width": ""
          }
        },
        "f17ccdb7487a4568a54e91611252368a": {
          "model_module": "@jupyter-widgets/controls",
          "model_module_version": "1.5.0",
          "model_name": "FloatProgressModel",
          "state": {
            "_dom_classes": [],
            "_model_module": "@jupyter-widgets/controls",
            "_model_module_version": "1.5.0",
            "_model_name": "FloatProgressModel",
            "_view_count": null,
            "_view_module": "@jupyter-widgets/controls",
            "_view_module_version": "1.5.0",
            "_view_name": "ProgressView",
            "bar_style": "success",
            "description": "",
            "description_tooltip": null,
            "layout": "IPY_MODEL_255dd6ca245f431685dbe5a29a179c67",
            "max": 17,
            "min": 0,
            "orientation": "horizontal",
            "style": "IPY_MODEL_4b5bcf7168db46dd8d6e1832bdcc2fd4",
            "value": 17
          }
        },
        "f5cb21f6d1224cdd8d120989dda14a0e": {
          "model_module": "@jupyter-widgets/controls",
          "model_module_version": "1.5.0",
          "model_name": "FloatProgressModel",
          "state": {
            "_dom_classes": [],
            "_model_module": "@jupyter-widgets/controls",
            "_model_module_version": "1.5.0",
            "_model_name": "FloatProgressModel",
            "_view_count": null,
            "_view_module": "@jupyter-widgets/controls",
            "_view_module_version": "1.5.0",
            "_view_name": "ProgressView",
            "bar_style": "danger",
            "description": "",
            "description_tooltip": null,
            "layout": "IPY_MODEL_54da270bcbba4831950913a0e323aef5",
            "max": 681805,
            "min": 0,
            "orientation": "horizontal",
            "style": "IPY_MODEL_89453331f508408295254b5649df8e39",
            "value": 62
          }
        }
      }
    }
  },
  "nbformat": 4,
  "nbformat_minor": 0
}
