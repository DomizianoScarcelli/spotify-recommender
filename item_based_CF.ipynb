{
  "nbformat": 4,
  "nbformat_minor": 0,
  "metadata": {
    "colab": {
      "provenance": [],
      "collapsed_sections": [
        "VJeY9PpvaHUJ",
        "x9gbMKT_lw9S",
        "aoVjgtwlI9qe"
      ],
      "authorship_tag": "ABX9TyMh7VZXJzSwk7g3Ej19HkgS",
      "include_colab_link": true
    },
    "kernelspec": {
      "name": "python3",
      "display_name": "Python 3"
    },
    "language_info": {
      "name": "python"
    },
    "widgets": {
      "application/vnd.jupyter.widget-state+json": {
        "85704d667a8a40ba9066fa7106a91dad": {
          "model_module": "@jupyter-widgets/controls",
          "model_name": "HBoxModel",
          "model_module_version": "1.5.0",
          "state": {
            "_dom_classes": [],
            "_model_module": "@jupyter-widgets/controls",
            "_model_module_version": "1.5.0",
            "_model_name": "HBoxModel",
            "_view_count": null,
            "_view_module": "@jupyter-widgets/controls",
            "_view_module_version": "1.5.0",
            "_view_name": "HBoxView",
            "box_style": "",
            "children": [
              "IPY_MODEL_3897952d6cce457e8f64b8f73e4645bb",
              "IPY_MODEL_f17ccdb7487a4568a54e91611252368a",
              "IPY_MODEL_60b629c1cd8d426f8fcb3d566a538527"
            ],
            "layout": "IPY_MODEL_3af1bd7b53e74dc18e5a0abe61241d60"
          }
        },
        "3897952d6cce457e8f64b8f73e4645bb": {
          "model_module": "@jupyter-widgets/controls",
          "model_name": "HTMLModel",
          "model_module_version": "1.5.0",
          "state": {
            "_dom_classes": [],
            "_model_module": "@jupyter-widgets/controls",
            "_model_module_version": "1.5.0",
            "_model_name": "HTMLModel",
            "_view_count": null,
            "_view_module": "@jupyter-widgets/controls",
            "_view_module_version": "1.5.0",
            "_view_name": "HTMLView",
            "description": "",
            "description_tooltip": null,
            "layout": "IPY_MODEL_83e8ffee77c340cfbb0608c13efe3fb8",
            "placeholder": "​",
            "style": "IPY_MODEL_457c735850e54fa6a5835ab33db3d5fe",
            "value": "Performing evaluation: 100%"
          }
        },
        "f17ccdb7487a4568a54e91611252368a": {
          "model_module": "@jupyter-widgets/controls",
          "model_name": "FloatProgressModel",
          "model_module_version": "1.5.0",
          "state": {
            "_dom_classes": [],
            "_model_module": "@jupyter-widgets/controls",
            "_model_module_version": "1.5.0",
            "_model_name": "FloatProgressModel",
            "_view_count": null,
            "_view_module": "@jupyter-widgets/controls",
            "_view_module_version": "1.5.0",
            "_view_name": "ProgressView",
            "bar_style": "success",
            "description": "",
            "description_tooltip": null,
            "layout": "IPY_MODEL_255dd6ca245f431685dbe5a29a179c67",
            "max": 17,
            "min": 0,
            "orientation": "horizontal",
            "style": "IPY_MODEL_4b5bcf7168db46dd8d6e1832bdcc2fd4",
            "value": 17
          }
        },
        "60b629c1cd8d426f8fcb3d566a538527": {
          "model_module": "@jupyter-widgets/controls",
          "model_name": "HTMLModel",
          "model_module_version": "1.5.0",
          "state": {
            "_dom_classes": [],
            "_model_module": "@jupyter-widgets/controls",
            "_model_module_version": "1.5.0",
            "_model_name": "HTMLModel",
            "_view_count": null,
            "_view_module": "@jupyter-widgets/controls",
            "_view_module_version": "1.5.0",
            "_view_name": "HTMLView",
            "description": "",
            "description_tooltip": null,
            "layout": "IPY_MODEL_b4f2dd48632a4f6eb37e1aad8cc68858",
            "placeholder": "​",
            "style": "IPY_MODEL_59e37f5b02a145aaa240e628eb54dbef",
            "value": " 17/17 [27:42&lt;00:00, 111.24s/it]"
          }
        },
        "3af1bd7b53e74dc18e5a0abe61241d60": {
          "model_module": "@jupyter-widgets/base",
          "model_name": "LayoutModel",
          "model_module_version": "1.2.0",
          "state": {
            "_model_module": "@jupyter-widgets/base",
            "_model_module_version": "1.2.0",
            "_model_name": "LayoutModel",
            "_view_count": null,
            "_view_module": "@jupyter-widgets/base",
            "_view_module_version": "1.2.0",
            "_view_name": "LayoutView",
            "align_content": null,
            "align_items": null,
            "align_self": null,
            "border": null,
            "bottom": null,
            "display": null,
            "flex": null,
            "flex_flow": null,
            "grid_area": null,
            "grid_auto_columns": null,
            "grid_auto_flow": null,
            "grid_auto_rows": null,
            "grid_column": null,
            "grid_gap": null,
            "grid_row": null,
            "grid_template_areas": null,
            "grid_template_columns": null,
            "grid_template_rows": null,
            "height": null,
            "justify_content": null,
            "justify_items": null,
            "left": null,
            "margin": null,
            "max_height": null,
            "max_width": null,
            "min_height": null,
            "min_width": null,
            "object_fit": null,
            "object_position": null,
            "order": null,
            "overflow": null,
            "overflow_x": null,
            "overflow_y": null,
            "padding": null,
            "right": null,
            "top": null,
            "visibility": null,
            "width": null
          }
        },
        "83e8ffee77c340cfbb0608c13efe3fb8": {
          "model_module": "@jupyter-widgets/base",
          "model_name": "LayoutModel",
          "model_module_version": "1.2.0",
          "state": {
            "_model_module": "@jupyter-widgets/base",
            "_model_module_version": "1.2.0",
            "_model_name": "LayoutModel",
            "_view_count": null,
            "_view_module": "@jupyter-widgets/base",
            "_view_module_version": "1.2.0",
            "_view_name": "LayoutView",
            "align_content": null,
            "align_items": null,
            "align_self": null,
            "border": null,
            "bottom": null,
            "display": null,
            "flex": null,
            "flex_flow": null,
            "grid_area": null,
            "grid_auto_columns": null,
            "grid_auto_flow": null,
            "grid_auto_rows": null,
            "grid_column": null,
            "grid_gap": null,
            "grid_row": null,
            "grid_template_areas": null,
            "grid_template_columns": null,
            "grid_template_rows": null,
            "height": null,
            "justify_content": null,
            "justify_items": null,
            "left": null,
            "margin": null,
            "max_height": null,
            "max_width": null,
            "min_height": null,
            "min_width": null,
            "object_fit": null,
            "object_position": null,
            "order": null,
            "overflow": null,
            "overflow_x": null,
            "overflow_y": null,
            "padding": null,
            "right": null,
            "top": null,
            "visibility": null,
            "width": null
          }
        },
        "457c735850e54fa6a5835ab33db3d5fe": {
          "model_module": "@jupyter-widgets/controls",
          "model_name": "DescriptionStyleModel",
          "model_module_version": "1.5.0",
          "state": {
            "_model_module": "@jupyter-widgets/controls",
            "_model_module_version": "1.5.0",
            "_model_name": "DescriptionStyleModel",
            "_view_count": null,
            "_view_module": "@jupyter-widgets/base",
            "_view_module_version": "1.2.0",
            "_view_name": "StyleView",
            "description_width": ""
          }
        },
        "255dd6ca245f431685dbe5a29a179c67": {
          "model_module": "@jupyter-widgets/base",
          "model_name": "LayoutModel",
          "model_module_version": "1.2.0",
          "state": {
            "_model_module": "@jupyter-widgets/base",
            "_model_module_version": "1.2.0",
            "_model_name": "LayoutModel",
            "_view_count": null,
            "_view_module": "@jupyter-widgets/base",
            "_view_module_version": "1.2.0",
            "_view_name": "LayoutView",
            "align_content": null,
            "align_items": null,
            "align_self": null,
            "border": null,
            "bottom": null,
            "display": null,
            "flex": null,
            "flex_flow": null,
            "grid_area": null,
            "grid_auto_columns": null,
            "grid_auto_flow": null,
            "grid_auto_rows": null,
            "grid_column": null,
            "grid_gap": null,
            "grid_row": null,
            "grid_template_areas": null,
            "grid_template_columns": null,
            "grid_template_rows": null,
            "height": null,
            "justify_content": null,
            "justify_items": null,
            "left": null,
            "margin": null,
            "max_height": null,
            "max_width": null,
            "min_height": null,
            "min_width": null,
            "object_fit": null,
            "object_position": null,
            "order": null,
            "overflow": null,
            "overflow_x": null,
            "overflow_y": null,
            "padding": null,
            "right": null,
            "top": null,
            "visibility": null,
            "width": null
          }
        },
        "4b5bcf7168db46dd8d6e1832bdcc2fd4": {
          "model_module": "@jupyter-widgets/controls",
          "model_name": "ProgressStyleModel",
          "model_module_version": "1.5.0",
          "state": {
            "_model_module": "@jupyter-widgets/controls",
            "_model_module_version": "1.5.0",
            "_model_name": "ProgressStyleModel",
            "_view_count": null,
            "_view_module": "@jupyter-widgets/base",
            "_view_module_version": "1.2.0",
            "_view_name": "StyleView",
            "bar_color": null,
            "description_width": ""
          }
        },
        "b4f2dd48632a4f6eb37e1aad8cc68858": {
          "model_module": "@jupyter-widgets/base",
          "model_name": "LayoutModel",
          "model_module_version": "1.2.0",
          "state": {
            "_model_module": "@jupyter-widgets/base",
            "_model_module_version": "1.2.0",
            "_model_name": "LayoutModel",
            "_view_count": null,
            "_view_module": "@jupyter-widgets/base",
            "_view_module_version": "1.2.0",
            "_view_name": "LayoutView",
            "align_content": null,
            "align_items": null,
            "align_self": null,
            "border": null,
            "bottom": null,
            "display": null,
            "flex": null,
            "flex_flow": null,
            "grid_area": null,
            "grid_auto_columns": null,
            "grid_auto_flow": null,
            "grid_auto_rows": null,
            "grid_column": null,
            "grid_gap": null,
            "grid_row": null,
            "grid_template_areas": null,
            "grid_template_columns": null,
            "grid_template_rows": null,
            "height": null,
            "justify_content": null,
            "justify_items": null,
            "left": null,
            "margin": null,
            "max_height": null,
            "max_width": null,
            "min_height": null,
            "min_width": null,
            "object_fit": null,
            "object_position": null,
            "order": null,
            "overflow": null,
            "overflow_x": null,
            "overflow_y": null,
            "padding": null,
            "right": null,
            "top": null,
            "visibility": null,
            "width": null
          }
        },
        "59e37f5b02a145aaa240e628eb54dbef": {
          "model_module": "@jupyter-widgets/controls",
          "model_name": "DescriptionStyleModel",
          "model_module_version": "1.5.0",
          "state": {
            "_model_module": "@jupyter-widgets/controls",
            "_model_module_version": "1.5.0",
            "_model_name": "DescriptionStyleModel",
            "_view_count": null,
            "_view_module": "@jupyter-widgets/base",
            "_view_module_version": "1.2.0",
            "_view_name": "StyleView",
            "description_width": ""
          }
        },
        "49a1c7a01352423f94bb60dfe0b3e1f5": {
          "model_module": "@jupyter-widgets/controls",
          "model_name": "HBoxModel",
          "model_module_version": "1.5.0",
          "state": {
            "_dom_classes": [],
            "_model_module": "@jupyter-widgets/controls",
            "_model_module_version": "1.5.0",
            "_model_name": "HBoxModel",
            "_view_count": null,
            "_view_module": "@jupyter-widgets/controls",
            "_view_module_version": "1.5.0",
            "_view_name": "HBoxView",
            "box_style": "",
            "children": [
              "IPY_MODEL_2b64f1c614f349ee8218492095bbdc47",
              "IPY_MODEL_f5cb21f6d1224cdd8d120989dda14a0e",
              "IPY_MODEL_b2c37498584a4e249553c1c1741bc797"
            ],
            "layout": "IPY_MODEL_33c7e9f49ff34a8da278e68ea7c13b13"
          }
        },
        "2b64f1c614f349ee8218492095bbdc47": {
          "model_module": "@jupyter-widgets/controls",
          "model_name": "HTMLModel",
          "model_module_version": "1.5.0",
          "state": {
            "_dom_classes": [],
            "_model_module": "@jupyter-widgets/controls",
            "_model_module_version": "1.5.0",
            "_model_name": "HTMLModel",
            "_view_count": null,
            "_view_module": "@jupyter-widgets/controls",
            "_view_module_version": "1.5.0",
            "_view_name": "HTMLView",
            "description": "",
            "description_tooltip": null,
            "layout": "IPY_MODEL_af437c2a0a37403eabdc5cff537fd1e9",
            "placeholder": "​",
            "style": "IPY_MODEL_d8e0d48bb9104056a692a8ae4ec045b7",
            "value": "Computing k-neighbors:   0%"
          }
        },
        "f5cb21f6d1224cdd8d120989dda14a0e": {
          "model_module": "@jupyter-widgets/controls",
          "model_name": "FloatProgressModel",
          "model_module_version": "1.5.0",
          "state": {
            "_dom_classes": [],
            "_model_module": "@jupyter-widgets/controls",
            "_model_module_version": "1.5.0",
            "_model_name": "FloatProgressModel",
            "_view_count": null,
            "_view_module": "@jupyter-widgets/controls",
            "_view_module_version": "1.5.0",
            "_view_name": "ProgressView",
            "bar_style": "danger",
            "description": "",
            "description_tooltip": null,
            "layout": "IPY_MODEL_54da270bcbba4831950913a0e323aef5",
            "max": 681805,
            "min": 0,
            "orientation": "horizontal",
            "style": "IPY_MODEL_89453331f508408295254b5649df8e39",
            "value": 62
          }
        },
        "b2c37498584a4e249553c1c1741bc797": {
          "model_module": "@jupyter-widgets/controls",
          "model_name": "HTMLModel",
          "model_module_version": "1.5.0",
          "state": {
            "_dom_classes": [],
            "_model_module": "@jupyter-widgets/controls",
            "_model_module_version": "1.5.0",
            "_model_name": "HTMLModel",
            "_view_count": null,
            "_view_module": "@jupyter-widgets/controls",
            "_view_module_version": "1.5.0",
            "_view_name": "HTMLView",
            "description": "",
            "description_tooltip": null,
            "layout": "IPY_MODEL_410393d13be2441ca1b54bfc5d873f42",
            "placeholder": "​",
            "style": "IPY_MODEL_deedaef94d554aae908082c916be49f2",
            "value": " 62/681805 [01:02&lt;203:27:44,  1.07s/it]"
          }
        },
        "33c7e9f49ff34a8da278e68ea7c13b13": {
          "model_module": "@jupyter-widgets/base",
          "model_name": "LayoutModel",
          "model_module_version": "1.2.0",
          "state": {
            "_model_module": "@jupyter-widgets/base",
            "_model_module_version": "1.2.0",
            "_model_name": "LayoutModel",
            "_view_count": null,
            "_view_module": "@jupyter-widgets/base",
            "_view_module_version": "1.2.0",
            "_view_name": "LayoutView",
            "align_content": null,
            "align_items": null,
            "align_self": null,
            "border": null,
            "bottom": null,
            "display": null,
            "flex": null,
            "flex_flow": null,
            "grid_area": null,
            "grid_auto_columns": null,
            "grid_auto_flow": null,
            "grid_auto_rows": null,
            "grid_column": null,
            "grid_gap": null,
            "grid_row": null,
            "grid_template_areas": null,
            "grid_template_columns": null,
            "grid_template_rows": null,
            "height": null,
            "justify_content": null,
            "justify_items": null,
            "left": null,
            "margin": null,
            "max_height": null,
            "max_width": null,
            "min_height": null,
            "min_width": null,
            "object_fit": null,
            "object_position": null,
            "order": null,
            "overflow": null,
            "overflow_x": null,
            "overflow_y": null,
            "padding": null,
            "right": null,
            "top": null,
            "visibility": null,
            "width": null
          }
        },
        "af437c2a0a37403eabdc5cff537fd1e9": {
          "model_module": "@jupyter-widgets/base",
          "model_name": "LayoutModel",
          "model_module_version": "1.2.0",
          "state": {
            "_model_module": "@jupyter-widgets/base",
            "_model_module_version": "1.2.0",
            "_model_name": "LayoutModel",
            "_view_count": null,
            "_view_module": "@jupyter-widgets/base",
            "_view_module_version": "1.2.0",
            "_view_name": "LayoutView",
            "align_content": null,
            "align_items": null,
            "align_self": null,
            "border": null,
            "bottom": null,
            "display": null,
            "flex": null,
            "flex_flow": null,
            "grid_area": null,
            "grid_auto_columns": null,
            "grid_auto_flow": null,
            "grid_auto_rows": null,
            "grid_column": null,
            "grid_gap": null,
            "grid_row": null,
            "grid_template_areas": null,
            "grid_template_columns": null,
            "grid_template_rows": null,
            "height": null,
            "justify_content": null,
            "justify_items": null,
            "left": null,
            "margin": null,
            "max_height": null,
            "max_width": null,
            "min_height": null,
            "min_width": null,
            "object_fit": null,
            "object_position": null,
            "order": null,
            "overflow": null,
            "overflow_x": null,
            "overflow_y": null,
            "padding": null,
            "right": null,
            "top": null,
            "visibility": null,
            "width": null
          }
        },
        "d8e0d48bb9104056a692a8ae4ec045b7": {
          "model_module": "@jupyter-widgets/controls",
          "model_name": "DescriptionStyleModel",
          "model_module_version": "1.5.0",
          "state": {
            "_model_module": "@jupyter-widgets/controls",
            "_model_module_version": "1.5.0",
            "_model_name": "DescriptionStyleModel",
            "_view_count": null,
            "_view_module": "@jupyter-widgets/base",
            "_view_module_version": "1.2.0",
            "_view_name": "StyleView",
            "description_width": ""
          }
        },
        "54da270bcbba4831950913a0e323aef5": {
          "model_module": "@jupyter-widgets/base",
          "model_name": "LayoutModel",
          "model_module_version": "1.2.0",
          "state": {
            "_model_module": "@jupyter-widgets/base",
            "_model_module_version": "1.2.0",
            "_model_name": "LayoutModel",
            "_view_count": null,
            "_view_module": "@jupyter-widgets/base",
            "_view_module_version": "1.2.0",
            "_view_name": "LayoutView",
            "align_content": null,
            "align_items": null,
            "align_self": null,
            "border": null,
            "bottom": null,
            "display": null,
            "flex": null,
            "flex_flow": null,
            "grid_area": null,
            "grid_auto_columns": null,
            "grid_auto_flow": null,
            "grid_auto_rows": null,
            "grid_column": null,
            "grid_gap": null,
            "grid_row": null,
            "grid_template_areas": null,
            "grid_template_columns": null,
            "grid_template_rows": null,
            "height": null,
            "justify_content": null,
            "justify_items": null,
            "left": null,
            "margin": null,
            "max_height": null,
            "max_width": null,
            "min_height": null,
            "min_width": null,
            "object_fit": null,
            "object_position": null,
            "order": null,
            "overflow": null,
            "overflow_x": null,
            "overflow_y": null,
            "padding": null,
            "right": null,
            "top": null,
            "visibility": null,
            "width": null
          }
        },
        "89453331f508408295254b5649df8e39": {
          "model_module": "@jupyter-widgets/controls",
          "model_name": "ProgressStyleModel",
          "model_module_version": "1.5.0",
          "state": {
            "_model_module": "@jupyter-widgets/controls",
            "_model_module_version": "1.5.0",
            "_model_name": "ProgressStyleModel",
            "_view_count": null,
            "_view_module": "@jupyter-widgets/base",
            "_view_module_version": "1.2.0",
            "_view_name": "StyleView",
            "bar_color": null,
            "description_width": ""
          }
        },
        "410393d13be2441ca1b54bfc5d873f42": {
          "model_module": "@jupyter-widgets/base",
          "model_name": "LayoutModel",
          "model_module_version": "1.2.0",
          "state": {
            "_model_module": "@jupyter-widgets/base",
            "_model_module_version": "1.2.0",
            "_model_name": "LayoutModel",
            "_view_count": null,
            "_view_module": "@jupyter-widgets/base",
            "_view_module_version": "1.2.0",
            "_view_name": "LayoutView",
            "align_content": null,
            "align_items": null,
            "align_self": null,
            "border": null,
            "bottom": null,
            "display": null,
            "flex": null,
            "flex_flow": null,
            "grid_area": null,
            "grid_auto_columns": null,
            "grid_auto_flow": null,
            "grid_auto_rows": null,
            "grid_column": null,
            "grid_gap": null,
            "grid_row": null,
            "grid_template_areas": null,
            "grid_template_columns": null,
            "grid_template_rows": null,
            "height": null,
            "justify_content": null,
            "justify_items": null,
            "left": null,
            "margin": null,
            "max_height": null,
            "max_width": null,
            "min_height": null,
            "min_width": null,
            "object_fit": null,
            "object_position": null,
            "order": null,
            "overflow": null,
            "overflow_x": null,
            "overflow_y": null,
            "padding": null,
            "right": null,
            "top": null,
            "visibility": null,
            "width": null
          }
        },
        "deedaef94d554aae908082c916be49f2": {
          "model_module": "@jupyter-widgets/controls",
          "model_name": "DescriptionStyleModel",
          "model_module_version": "1.5.0",
          "state": {
            "_model_module": "@jupyter-widgets/controls",
            "_model_module_version": "1.5.0",
            "_model_name": "DescriptionStyleModel",
            "_view_count": null,
            "_view_module": "@jupyter-widgets/base",
            "_view_module_version": "1.2.0",
            "_view_name": "StyleView",
            "description_width": ""
          }
        }
      }
    }
  },
  "cells": [
    {
      "cell_type": "markdown",
      "metadata": {
        "id": "view-in-github",
        "colab_type": "text"
      },
      "source": [
        "<a href=\"https://colab.research.google.com/github/DomizianoScarcelli/big-data-project/blob/item-based-cf/item_based_CF.ipynb\" target=\"_parent\"><img src=\"https://colab.research.google.com/assets/colab-badge.svg\" alt=\"Open In Colab\"/></a>"
      ]
    },
    {
      "cell_type": "markdown",
      "metadata": {
        "id": "KOojFseRjVnN"
      },
      "source": [
        "# Configuration"
      ]
    },
    {
      "cell_type": "code",
      "execution_count": 1,
      "metadata": {
        "id": "N3wVgRfHYoOs",
        "colab": {
          "base_uri": "https://localhost:8080/"
        },
        "outputId": "5968f690-8fb9-4811-f6dc-e301c0022db0"
      },
      "outputs": [
        {
          "output_type": "stream",
          "name": "stdout",
          "text": [
            "openjdk-8-jdk-headless is already the newest version (8u372-ga~us1-0ubuntu1~20.04).\n",
            "0 upgraded, 0 newly installed, 0 to remove and 34 not upgraded.\n"
          ]
        }
      ],
      "source": [
        "#@title Download necessary libraries\n",
        "!pip install pyspark -qq\n",
        "!pip install -U -q PyDrive -qq\n",
        "!apt install openjdk-8-jdk-headless -qq"
      ]
    },
    {
      "cell_type": "code",
      "execution_count": 2,
      "metadata": {
        "id": "CGHPv9OqY9MI",
        "cellView": "form"
      },
      "outputs": [],
      "source": [
        "#@title Imports\n",
        "import os\n",
        "import requests\n",
        "import pandas as pd\n",
        "import numpy as np\n",
        "import matplotlib.pyplot as plt\n",
        "import seaborn as sns\n",
        "%matplotlib inline\n",
        "import plotly\n",
        "\n",
        "import pyspark\n",
        "import pyspark.sql.functions as F\n",
        "from pyspark.sql import SparkSession, DataFrame, Row\n",
        "from pyspark.sql.types import StructType, StructField, StringType, IntegerType, ArrayType, FloatType, LongType\n",
        "from pyspark import SparkContext, SparkConf\n",
        "from pyspark.ml.linalg import SparseVector, DenseVector, VectorUDT\n",
        "\n",
        "from tqdm.notebook import tqdm\n",
        "import time\n",
        "import gc\n",
        "\n",
        "from google.colab import drive\n",
        "\n",
        "from typing import Tuple, Callable, Dict\n",
        "from functools import reduce\n",
        "import pickle"
      ]
    },
    {
      "cell_type": "code",
      "execution_count": 3,
      "metadata": {
        "id": "JF8LUBZeYiWP"
      },
      "outputs": [],
      "source": [
        "#@title Set up variables\n",
        "JAVA_HOME = \"/usr/lib/jvm/java-8-openjdk-amd64\"\n",
        "GDRIVE_DIR = \"/content/drive\"\n",
        "GDRIVE_HOME_DIR = GDRIVE_DIR + \"/MyDrive\"\n",
        "GDRIVE_DATA_DIR = GDRIVE_HOME_DIR + \"/Big Data/datasets\"\n",
        "DATASET_FILE = os.path.join(GDRIVE_DATA_DIR, \"pyspark_friendly_spotify_playlist_dataset\")\n",
        "AUDIO_FEATURES_FILE = os.path.join(GDRIVE_DATA_DIR, \"pyspark_track_features\")\n",
        "LITTLE_SLICE_FILE = os.path.join(GDRIVE_DATA_DIR, \"little_slice\")\n",
        "SMALL_SLICE_FLIE = os.path.join(GDRIVE_DATA_DIR, \"small_slice\")\n",
        "LITTLE_SLICE_AUDIO_FEATURES = os.path.join(GDRIVE_DATA_DIR, \"little_slice_audio_features\")\n",
        "MICRO_SLICE_AUDIO_FEATURES = os.path.join(GDRIVE_DATA_DIR, \"micro_slice_audio_features\")\n",
        "SPLITTED_SLICE_AUDIO_FEATURES = os.path.join(GDRIVE_DATA_DIR, \"splitted_pyspark_track_features\")\n",
        "SAVED_DFS_PATH = os.path.join(GDRIVE_DATA_DIR, \"saved_dfs\")\n",
        "RANDOM_SEED = 42 # for reproducibility\n",
        "os.environ[\"JAVA_HOME\"] = JAVA_HOME\n",
        "os.environ[\"PYSPARK_PYTHON\"]=\"python\""
      ]
    },
    {
      "cell_type": "code",
      "execution_count": 4,
      "metadata": {
        "id": "4m7VztzdZgm6"
      },
      "outputs": [],
      "source": [
        "#@title Create the session\n",
        "conf = SparkConf().\\\n",
        "                set('spark.ui.port', \"4050\").\\\n",
        "                set('spark.executor.memory', '12G').\\\n",
        "                set('spark.driver.memory', '12G').\\\n",
        "                set('spark.driver.maxResultSize', '100G').\\\n",
        "                set(\"spark.executor.extraJavaOptions\", \"-XX:+UseG1GC\").\\\n",
        "                setAppName(\"PySparkTutorial\").\\\n",
        "                setMaster(\"local[*]\")\n",
        "\n",
        "# Create the context\n",
        "sc = pyspark.SparkContext(conf=conf)\n",
        "spark = SparkSession.builder.getOrCreate()"
      ]
    },
    {
      "cell_type": "code",
      "execution_count": 5,
      "metadata": {
        "id": "vsX5d-YXZ2Ul",
        "colab": {
          "base_uri": "https://localhost:8080/"
        },
        "outputId": "c30f0d6f-6673-49ea-88ab-39166ef7cbf0"
      },
      "outputs": [
        {
          "output_type": "stream",
          "name": "stdout",
          "text": [
            "Mounted at /content/drive\n"
          ]
        }
      ],
      "source": [
        "drive.mount(GDRIVE_DIR, force_remount=True)"
      ]
    },
    {
      "cell_type": "markdown",
      "metadata": {
        "id": "X-s_eNiVaxhn"
      },
      "source": [
        "## Setup ngrok"
      ]
    },
    {
      "cell_type": "code",
      "execution_count": 6,
      "metadata": {
        "id": "LrnLYquoarPa",
        "colab": {
          "base_uri": "https://localhost:8080/"
        },
        "outputId": "43730c1c-277a-4234-a229-ead12a35d32a"
      },
      "outputs": [
        {
          "output_type": "stream",
          "name": "stdout",
          "text": [
            "Looking in indexes: https://pypi.org/simple, https://us-python.pkg.dev/colab-wheels/public/simple/\n",
            "Requirement already satisfied: pyngrok in /usr/local/lib/python3.10/dist-packages (6.0.0)\n",
            "Requirement already satisfied: PyYAML in /usr/local/lib/python3.10/dist-packages (from pyngrok) (6.0)\n"
          ]
        }
      ],
      "source": [
        "!pip install pyngrok"
      ]
    },
    {
      "cell_type": "code",
      "execution_count": 7,
      "metadata": {
        "id": "K3IEuiyDawo3",
        "colab": {
          "base_uri": "https://localhost:8080/"
        },
        "outputId": "1af4cbe4-9d9b-4b19-b443-bfec6d4588d2"
      },
      "outputs": [
        {
          "output_type": "stream",
          "name": "stdout",
          "text": [
            "Authtoken saved to configuration file: /root/.ngrok2/ngrok.yml\n"
          ]
        }
      ],
      "source": [
        "!ngrok authtoken 2NVN8kdoOnMVtlDGGWtwsbT5M3Q_2EJv2HE77FEXkz978Qtnq"
      ]
    },
    {
      "cell_type": "code",
      "execution_count": 8,
      "metadata": {
        "id": "0qJN-lfta1ok",
        "colab": {
          "base_uri": "https://localhost:8080/"
        },
        "outputId": "16f42c38-5ec8-4252-9129-f4700ac9d707"
      },
      "outputs": [
        {
          "output_type": "stream",
          "name": "stderr",
          "text": [
            "WARNING:pyngrok.process.ngrok:t=2023-06-04T11:35:17+0000 lvl=warn msg=\"ngrok config file found at legacy location, move to XDG location\" xdg_path=/root/.config/ngrok/ngrok.yml legacy_path=/root/.ngrok2/ngrok.yml\n"
          ]
        }
      ],
      "source": [
        "from pyngrok import ngrok\n",
        "\n",
        "# Open a ngrok tunnel on the port 4050 where Spark is running\n",
        "port = '4050'\n",
        "public_url = ngrok.connect(port).public_url"
      ]
    },
    {
      "cell_type": "code",
      "execution_count": 9,
      "metadata": {
        "id": "x15LhY-5a3Yi",
        "colab": {
          "base_uri": "https://localhost:8080/"
        },
        "outputId": "55fba601-f844-415c-ccb6-756cb56c23e5"
      },
      "outputs": [
        {
          "output_type": "stream",
          "name": "stdout",
          "text": [
            "To access the Spark Web UI console, please click on the following link to the ngrok tunnel \"https://91bb-35-221-60-129.ngrok-free.app\" -> \"http://127.0.0.1:4050\"\n"
          ]
        }
      ],
      "source": [
        "print(\"To access the Spark Web UI console, please click on the following link to the ngrok tunnel \\\"{}\\\" -> \\\"http://127.0.0.1:{}\\\"\".format(public_url, port))"
      ]
    },
    {
      "cell_type": "code",
      "execution_count": 10,
      "metadata": {
        "cellView": "form",
        "id": "jlxfJiBSZ6ju",
        "colab": {
          "base_uri": "https://localhost:8080/"
        },
        "outputId": "f19702e4-4511-449b-fa52-afd7e4aadd4d"
      },
      "outputs": [
        {
          "output_type": "execute_result",
          "data": {
            "text/plain": [
              "(<pyspark.sql.session.SparkSession at 0x7f4e00200eb0>,\n",
              " [('spark.executor.extraJavaOptions',\n",
              "   '-Djava.net.preferIPv6Addresses=false -XX:+IgnoreUnrecognizedVMOptions --add-opens=java.base/java.lang=ALL-UNNAMED --add-opens=java.base/java.lang.invoke=ALL-UNNAMED --add-opens=java.base/java.lang.reflect=ALL-UNNAMED --add-opens=java.base/java.io=ALL-UNNAMED --add-opens=java.base/java.net=ALL-UNNAMED --add-opens=java.base/java.nio=ALL-UNNAMED --add-opens=java.base/java.util=ALL-UNNAMED --add-opens=java.base/java.util.concurrent=ALL-UNNAMED --add-opens=java.base/java.util.concurrent.atomic=ALL-UNNAMED --add-opens=java.base/sun.nio.ch=ALL-UNNAMED --add-opens=java.base/sun.nio.cs=ALL-UNNAMED --add-opens=java.base/sun.security.action=ALL-UNNAMED --add-opens=java.base/sun.util.calendar=ALL-UNNAMED --add-opens=java.security.jgss/sun.security.krb5=ALL-UNNAMED -Djdk.reflect.useDirectMethodHandle=false -XX:+UseG1GC'),\n",
              "  ('spark.app.name', 'PySparkTutorial'),\n",
              "  ('spark.executor.id', 'driver'),\n",
              "  ('spark.driver.port', '33127'),\n",
              "  ('spark.driver.host', '241196d52877'),\n",
              "  ('spark.driver.extraJavaOptions',\n",
              "   '-Djava.net.preferIPv6Addresses=false -XX:+IgnoreUnrecognizedVMOptions --add-opens=java.base/java.lang=ALL-UNNAMED --add-opens=java.base/java.lang.invoke=ALL-UNNAMED --add-opens=java.base/java.lang.reflect=ALL-UNNAMED --add-opens=java.base/java.io=ALL-UNNAMED --add-opens=java.base/java.net=ALL-UNNAMED --add-opens=java.base/java.nio=ALL-UNNAMED --add-opens=java.base/java.util=ALL-UNNAMED --add-opens=java.base/java.util.concurrent=ALL-UNNAMED --add-opens=java.base/java.util.concurrent.atomic=ALL-UNNAMED --add-opens=java.base/sun.nio.ch=ALL-UNNAMED --add-opens=java.base/sun.nio.cs=ALL-UNNAMED --add-opens=java.base/sun.security.action=ALL-UNNAMED --add-opens=java.base/sun.util.calendar=ALL-UNNAMED --add-opens=java.security.jgss/sun.security.krb5=ALL-UNNAMED -Djdk.reflect.useDirectMethodHandle=false'),\n",
              "  ('spark.ui.port', '4050'),\n",
              "  ('spark.app.submitTime', '1685878497518'),\n",
              "  ('spark.app.startTime', '1685878498020'),\n",
              "  ('spark.rdd.compress', 'True'),\n",
              "  ('spark.driver.memory', '12G'),\n",
              "  ('spark.serializer.objectStreamReset', '100'),\n",
              "  ('spark.master', 'local[*]'),\n",
              "  ('spark.submit.pyFiles', ''),\n",
              "  ('spark.driver.maxResultSize', '100G'),\n",
              "  ('spark.submit.deployMode', 'client'),\n",
              "  ('spark.executor.memory', '12G'),\n",
              "  ('spark.ui.showConsoleProgress', 'true'),\n",
              "  ('spark.app.id', 'local-1685878504801')])"
            ]
          },
          "metadata": {},
          "execution_count": 10
        }
      ],
      "source": [
        "#@title Check if everything is ok\n",
        "spark, sc._conf.getAll()\n"
      ]
    },
    {
      "cell_type": "markdown",
      "metadata": {
        "id": "VJeY9PpvaHUJ"
      },
      "source": [
        "# Data acquisition"
      ]
    },
    {
      "cell_type": "code",
      "execution_count": 11,
      "metadata": {
        "id": "icd2lj-RRvhU"
      },
      "outputs": [],
      "source": [
        "song_schema = StructType([\n",
        "    StructField(\"pos\", IntegerType(), True),\n",
        "    StructField(\"artist_name\", StringType(), True),\n",
        "    StructField(\"track_uri\", StringType(), True),\n",
        "    StructField(\"artist_uri\", StringType(), True),\n",
        "    StructField(\"track_name\", StringType(), True),\n",
        "    StructField(\"album_uri\", StringType(), True),\n",
        "    StructField(\"duration_ms\", LongType(), True),\n",
        "    StructField(\"album_name\", StringType(), True)\n",
        "])\n",
        "\n",
        "playlist_schema = StructType([\n",
        "    StructField(\"name\", StringType(), True),\n",
        "    StructField(\"collaborative\", StringType(), True),\n",
        "    StructField(\"pid\", IntegerType(), True),\n",
        "    StructField(\"modified_at\", IntegerType(), True),\n",
        "    StructField(\"num_tracks\", IntegerType(), True),\n",
        "    StructField(\"num_albums\", IntegerType(), True),\n",
        "    StructField(\"num_followers\", IntegerType(), True),\n",
        "    StructField(\"tracks\", ArrayType(song_schema), True),\n",
        "    StructField(\"num_edits\", IntegerType(), True),\n",
        "    StructField(\"duration_ms\", IntegerType(), True),\n",
        "    StructField(\"num_artists\", IntegerType(), True),\n",
        "])\n",
        "\n",
        "playlist_schema_mapped = StructType([\n",
        "    StructField(\"name\", StringType(), True),\n",
        "    StructField(\"collaborative\", StringType(), True),\n",
        "    StructField(\"pid\", IntegerType(), True),\n",
        "    StructField(\"modified_at\", IntegerType(), True),\n",
        "    StructField(\"num_tracks\", IntegerType(), True),\n",
        "    StructField(\"num_albums\", IntegerType(), True),\n",
        "    StructField(\"num_followers\", IntegerType(), True),\n",
        "    StructField(\"tracks\", VectorUDT(), True),\n",
        "    StructField(\"num_edits\", IntegerType(), True),\n",
        "    StructField(\"duration_ms\", IntegerType(), True),\n",
        "    StructField(\"num_artists\", IntegerType(), True),\n",
        "])\n",
        "\n",
        "audio_features_schema = StructType([\n",
        "    StructField(\"danceability\", FloatType(), True),\n",
        "    StructField(\"energy\", FloatType(), True),\n",
        "    StructField(\"key\", IntegerType(), True),\n",
        "    StructField(\"loudness\", FloatType(), True),\n",
        "    StructField(\"mode\", IntegerType(), True),\n",
        "    StructField(\"speechiness\", FloatType(), True),\n",
        "    StructField(\"acousticness\", FloatType(), True),\n",
        "    StructField(\"instrumentalness\", FloatType(), True),\n",
        "    StructField(\"liveness\", FloatType(), True),\n",
        "    StructField(\"valence\", FloatType(), True),\n",
        "    StructField(\"tempo\", FloatType(), True),\n",
        "    StructField(\"type\", StringType(), True),\n",
        "    StructField(\"id\", StringType(), True),\n",
        "    StructField(\"uri\", StringType(), True),\n",
        "    StructField(\"track_href\", StringType(), True),\n",
        "    StructField(\"analysis_url\", StringType(), True),\n",
        "    StructField(\"duration_ms\", LongType(), True),\n",
        "    StructField(\"time_signature\", IntegerType(), True)\n",
        "])\n",
        "\n",
        "\n"
      ]
    },
    {
      "cell_type": "code",
      "execution_count": 12,
      "metadata": {
        "id": "BY_szFyLTps4"
      },
      "outputs": [],
      "source": [
        "playlist_df = spark.read.schema(playlist_schema).json(DATASET_FILE, multiLine=True)\n",
        "slice_df = spark.read.schema(playlist_schema).json(SMALL_SLICE_FLIE, multiLine=True)\n",
        "# slice_df = spark.read.schema(playlist_schema).json(LITTLE_SLICE_FILE, multiLine=True)\n",
        "audio_df = spark.read.schema(audio_features_schema).json(SPLITTED_SLICE_AUDIO_FEATURES, multiLine=True) #has less songs than expected"
      ]
    },
    {
      "cell_type": "code",
      "execution_count": 13,
      "metadata": {
        "id": "PEI_1vcSPxOG"
      },
      "outputs": [],
      "source": [
        "# slice_df.select(\"tracks\").first()"
      ]
    },
    {
      "cell_type": "code",
      "execution_count": 14,
      "metadata": {
        "id": "gnNiOotq3p3f"
      },
      "outputs": [],
      "source": [
        "# slice_df.show()"
      ]
    },
    {
      "cell_type": "markdown",
      "source": [
        "# Item-Based Collaborative Filtering"
      ],
      "metadata": {
        "id": "p211b9samoI9"
      }
    },
    {
      "cell_type": "markdown",
      "source": [
        "Item-Based Collaboartive Filtering is the \"transpose\" approach to user-based CF. This time we won't consider the users' feature vectors, but the items'.\n",
        "An item's rating vector $\\mathbf{r}_i$ is the vector of ratings given to the item $i$ for all the users.\n",
        "\n",
        "Let $m$ be the number of users, $n$ the number of playlists, then $\\mathbf{r}_i \\in \\mathbb{R}^m$ and $\\mathbf{R} \\in \\mathbb{R}^{m \\times n}$.\n",
        "\n",
        "In order to make a prediction, we take the set of items $I_u$ rated by the user $u$, and we compute the set $I^k_u$ of the top-$k$ most similar items to $i$ rated by $u$, for each item $i \\in I_u$. Once done that, we average the $k$ rating vectors weighting them by their respective similarity."
      ],
      "metadata": {
        "id": "1pR8c5Ro5_DI"
      }
    },
    {
      "cell_type": "code",
      "source": [
        "# slice_df = slice_df.cache()"
      ],
      "metadata": {
        "id": "8n4nUj_wSJeJ"
      },
      "execution_count": 15,
      "outputs": []
    },
    {
      "cell_type": "code",
      "source": [
        "DEBUG = False"
      ],
      "metadata": {
        "id": "wSg4hiaeewgY"
      },
      "execution_count": 16,
      "outputs": []
    },
    {
      "cell_type": "code",
      "source": [
        "NUM_PLAYLISTS = 100_000\n",
        "SONGS_EMBEDDINGS_PATH = os.path.join(SAVED_DFS_PATH, f\"songs_embeddings-train-{NUM_PLAYLISTS}.json\")\n",
        "SONGS_INFO_DF = os.path.join(SAVED_DFS_PATH, f\"songs_info_df-train-{NUM_PLAYLISTS}.json\") #TODO: Little bug this is songs_df, meaning it hasn't got any info, but we don't actually care.\n",
        "RATING_VECTOR_LENGTH_PATH = os.path.join(SAVED_DFS_PATH, f\"songs_vector_length-train-{NUM_PLAYLISTS}.txt\")\n",
        "with open(RATING_VECTOR_LENGTH_PATH, \"r\") as f:\n",
        "  RATING_VECTOR_LENGTH = int(f.read()) + 1\n",
        "\n",
        "songs_embeddings = spark.read.schema(playlist_schema_mapped).json(SONGS_EMBEDDINGS_PATH)\n",
        "songs_df = spark.read.json(SONGS_INFO_DF)\n",
        "\n",
        "playlist_map_schema = StructType([\n",
        "    StructField(\"track_uri\", StringType(), True),\n",
        "    StructField(\"embedding\", VectorUDT(), True)\n",
        "])\n",
        "PLAYLIST_MAP_PATH = os.path.join(SAVED_DFS_PATH, f\"playlist_map-{NUM_PLAYLISTS}.json\")\n",
        "playlist_map = spark.read.schema(playlist_map_schema).json(PLAYLIST_MAP_PATH)"
      ],
      "metadata": {
        "id": "dXUCLE9XSKsi"
      },
      "execution_count": 17,
      "outputs": []
    },
    {
      "cell_type": "code",
      "source": [
        "TRAIN_DF_PATH = os.path.join(SAVED_DFS_PATH, f\"train_df-{NUM_PLAYLISTS}.json\")\n",
        "TEST_DF_PATH = os.path.join(SAVED_DFS_PATH, f\"test_df-{NUM_PLAYLISTS}.json\")\n",
        "\n",
        "train_df = spark.read.schema(playlist_schema).json(TRAIN_DF_PATH)\n",
        "test_df = spark.read.schema(playlist_schema).json(TEST_DF_PATH)"
      ],
      "metadata": {
        "id": "HnchIh93YdaU"
      },
      "execution_count": 18,
      "outputs": []
    },
    {
      "cell_type": "code",
      "source": [
        "def jaccard_similarity(vector_1: SparseVector, vector_2: SparseVector) -> float:\n",
        "  \"\"\"\n",
        "  Computes the Jaccard Similarity between two sparse binary vectors\n",
        "  \"\"\"\n",
        "  # Convert SparseVectors to sets\n",
        "  set1 = set(vector_1.indices)\n",
        "  set2 = set(vector_2.indices)\n",
        "\n",
        "  # Calculate the intersection and union of the sets\n",
        "  intersection = len(set1.intersection(set2))\n",
        "  union = len(set1.union(set2))\n",
        "\n",
        "  # Calculate the similarity\n",
        "  similarity = intersection / union\n",
        "\n",
        "  return similarity"
      ],
      "metadata": {
        "id": "eaPyxrxMZClT"
      },
      "execution_count": 19,
      "outputs": []
    },
    {
      "cell_type": "markdown",
      "source": [
        "The similarity between each couple is intractable, we can cluster the similar tracks in buckets using Locally Sensitive Hashing."
      ],
      "metadata": {
        "id": "Z2QVHgY4WRJX"
      }
    },
    {
      "cell_type": "code",
      "source": [
        "from pyspark.ml.feature import MinHashLSH, MinHashLSHModel\n",
        "\n",
        "NUM_HASH_TABLES = 10\n",
        "LSH_MODEL_PATH = os.path.join(SAVED_DFS_PATH, f\"lsh_model-{NUM_HASH_TABLES}-{NUM_PLAYLISTS}.pickle\")\n",
        "if os.path.exists(LSH_MODEL_PATH):\n",
        "  model = MinHashLSHModel.load(LSH_MODEL_PATH)\n",
        "else:\n",
        "  mh = MinHashLSH(inputCol=\"embedding\", outputCol=\"hashes\", numHashTables=NUM_HASH_TABLES)\n",
        "  model = mh.fit(playlist_map)\n",
        "  model.save(LSH_MODEL_PATH)\n",
        "\n",
        "model.transform(playlist_map).show(truncate=False)"
      ],
      "metadata": {
        "colab": {
          "base_uri": "https://localhost:8080/"
        },
        "id": "roOL0ckQgNKP",
        "outputId": "1b290c0c-07b4-4bfa-ede4-da4347b89895"
      },
      "execution_count": 20,
      "outputs": [
        {
          "output_type": "stream",
          "name": "stdout",
          "text": [
            "+------------------------------------+-----------------------------------------------------------------------------------------------------------------------------------------------------------------------------------------------------------------------------------------------------------+-----------------------------------------------------------------------------------------------------------------------------------------------------------------------+\n",
            "|track_uri                           |embedding                                                                                                                                                                                                                                                  |hashes                                                                                                                                                                 |\n",
            "+------------------------------------+-----------------------------------------------------------------------------------------------------------------------------------------------------------------------------------------------------------------------------------------------------------+-----------------------------------------------------------------------------------------------------------------------------------------------------------------------+\n",
            "|spotify:track:0007AYhg2UQbEm88mxu7js|(100001,[28824,60767],[1.0,1.0])                                                                                                                                                                                                                           |[[1.267947329E9], [2.84739149E8], [1.20944548E8], [1.103258264E9], [2.58302963E8], [5.56643216E8], [6.24747042E8], [1.356250607E9], [4.94593163E8], [6.36026474E8]]    |\n",
            "|spotify:track:000CTwOSsvRs0bgXlwB64e|(100001,[60352],[1.0])                                                                                                                                                                                                                                     |[[1.206838719E9], [1.35815708E8], [1.842749254E9], [6.98388795E8], [1.362699922E9], [1.23097093E9], [1.441241623E9], [1.612233752E9], [1.936679896E9], [5.26200479E8]] |\n",
            "|spotify:track:000GjfnQc7ggBayDiy1sLW|(100001,[76926],[1.0])                                                                                                                                                                                                                                     |[[1.56016965E9], [4.81200279E8], [2.99456696E8], [7.49823187E8], [9.7394369E8], [9.03123583E8], [1.020664695E9], [3.87611356E8], [1.527515546E9], [2.46887311E8]]      |\n",
            "|spotify:track:000U7VJzLWjyk6J8lFqnMZ|(100001,[79686],[1.0])                                                                                                                                                                                                                                     |[[1.24944915E8], [9.30492396E8], [1.542916365E9], [2.50283793E8], [5.53581716E8], [4.70032432E8], [1.819766901E9], [8.36149233E8], [4.3284066E8], [1.296512864E9]]     |\n",
            "|spotify:track:000VZqvXwT0YNqKk7iG2GS|(100001,[14092,21094,76245],[1.0,1.0,1.0])                                                                                                                                                                                                                 |[[1.40966793E8], [5.32059133E8], [9.69593236E8], [1.524376901E9], [2.66864138E8], [5.1936544E8], [2.34225475E8], [9.61774665E8], [8.2973533E7], [1.68586863E8]]        |\n",
            "|spotify:track:000mA0etY38nKdvf1N04af|(100001,[74372],[1.0])                                                                                                                                                                                                                                     |[[1.847082181E9], [1.842111788E9], [7.89603828E8], [1.853037857E9], [4.67950173E8], [1.556433859E9], [1.512911665E9], [1.424310344E9], [6.58959464E8], [1.412628124E9]]|\n",
            "|spotify:track:000vBQK1sQ1ppKAEUBmYuG|(100001,[8758],[1.0])                                                                                                                                                                                                                                      |[[4.1140714E8], [1.843175653E9], [1.17573891E8], [1.963969376E9], [2.6205967E8], [8.06912401E8], [4.06456132E8], [1.029782487E9], [1.850850954E9], [1.237058882E9]]    |\n",
            "|spotify:track:000xYdQfIZ4pDmBGzQalKU|(100001,[70399],[1.0])                                                                                                                                                                                                                                     |[[1.753161619E9], [1.082378811E9], [2.011720354E9], [1.409827845E9], [6.34429059E8], [1.63268667E9], [4.113464E8], [1.93576764E9], [6.50059074E8], [1.40213566E8]]     |\n",
            "|spotify:track:0010mZpCCwlPwoBiBsjoac|(100001,[9796,16941,18373,20472,24780,29986,31771,39000,40905,41335,43877,45161,46861,48681,53355,67079,72244,80685,82103,85761,87334,89464,90671,95657],[1.0,1.0,1.0,1.0,1.0,1.0,1.0,1.0,1.0,1.0,1.0,1.0,1.0,1.0,1.0,1.0,1.0,1.0,1.0,1.0,1.0,1.0,1.0,1.0])|[[5.039631E7], [1.91490064E8], [436633.0], [6193256.0], [9.8924847E7], [2.1922119E7], [8.6922456E7], [1.04114207E8], [8.0729969E7], [3.9917449E7]]                     |\n",
            "|spotify:track:0012gIWzFurw8rjIdNptaS|(100001,[3698,70246,89848],[1.0,1.0,1.0])                                                                                                                                                                                                                  |[[1.375744813E9], [436067.0], [2.15651698E8], [9.1710892E7], [1.032723289E9], [5.81875473E8], [9.79510164E8], [1.602971104E9], [3.07557787E8], [3.94384909E8]]         |\n",
            "|spotify:track:0012kFta5wCFogveUeJN2z|(100001,[92210],[1.0])                                                                                                                                                                                                                                     |[[1.011450112E9], [1.95682881E8], [1.830224647E9], [1.433491702E9], [8.25966962E8], [9.77076151E8], [4.48124208E8], [1.279409822E9], [7.88179238E8], [1.27138018E9]]   |\n",
            "|spotify:track:001BVhvaZTf2icV88rU3DA|(100001,[7110,25066,41601,60249,61081,65886,70938],[1.0,1.0,1.0,1.0,1.0,1.0,1.0])                                                                                                                                                                          |[[1.186844361E9], [7.22106554E8], [2.90396257E8], [3.96551157E8], [9.990167E7], [3.293002E7], [2.66036439E8], [3.29055067E8], [3.31655554E8], [1.24534585E8]]          |\n",
            "|spotify:track:001FDA7MOimDoqBXGacavu|(100001,[80893],[1.0])                                                                                                                                                                                                                                     |[[1.014773662E9], [7.9246621E8], [1.480451313E9], [7.59920622E8], [1.348911501E9], [1.018327957E9], [1.154622577E9], [1.554375342E9], [6.43815016E8], [2.008816371E9]] |\n",
            "|spotify:track:001PiA7wBB842OidKuKCV2|(100001,[50318,63462],[1.0,1.0])                                                                                                                                                                                                                           |[[6.86985182E8], [9.30072097E8], [1.3509161E8], [1.00685281E9], [5.78157151E8], [4.9927595E8], [2.59298538E8], [1.728703239E9], [1.081119892E9], [1.95143322E8]]       |\n",
            "|spotify:track:001Y8th0ItldCRfN3XrwRI|(100001,[2270,19179],[1.0,1.0])                                                                                                                                                                                                                            |[[6.83807198E8], [8.52421726E8], [1.495175692E9], [3.44018927E8], [1.498328366E9], [1.44195572E8], [9.91398969E8], [6.8600169E8], [6.61076233E8], [1.588480737E9]]     |\n",
            "|spotify:track:001wUOgo8t9VElHl45bxzr|(100001,[10656,31650,47148,49046,49808,53416,73524,84024,86691],[1.0,1.0,1.0,1.0,1.0,1.0,1.0,1.0,1.0])                                                                                                                                                     |[[1.99784652E8], [8.5294164E7], [1.26663369E8], [3.82832043E8], [2.24934696E8], [2.6148674E7], [1.07511312E8], [5.1883461E7], [2.85566125E8], [1.94522E7]]             |\n",
            "|spotify:track:0024tEymsoc9FyKUauQngQ|(100001,[93642],[1.0])                                                                                                                                                                                                                                     |[[1.418752568E9], [5.70572976E8], [3.07343053E8], [8.61214853E8], [6.78755668E8], [1.478988839E9], [4.01948744E8], [2.06580146E8], [1.862492206E9], [1.969562549E9]]   |\n",
            "|spotify:track:0029bXZHiFj1UUF28N3MSS|(100001,[12674],[1.0])                                                                                                                                                                                                                                     |[[5.46044706E8], [3.80546436E8], [3.25228422E8], [1.349722021E9], [1.44137548E8], [1.530465476E9], [1.487087602E9], [1.56829426E8], [1.532341576E9], [1.04563698E9]]   |\n",
            "|spotify:track:002M0MSUUUKvzhSXHjXteZ|(100001,[43238,87067],[1.0,1.0])                                                                                                                                                                                                                           |[[3.81111092E8], [1.89891857E8], [8.63748425E8], [9.4393638E7], [5.94665127E8], [4.4729224E8], [2.04070357E8], [9.13983485E8], [1.496676423E9], [2.4174481E7]]         |\n",
            "|spotify:track:002PgfoyfrOGiKch4EW8Wm|(100001,[1,5324,14421,25072,68325,69500,85811,88039,96605],[1.0,1.0,1.0,1.0,1.0,1.0,1.0,1.0,1.0])                                                                                                                                                          |[[3972268.0], [4.1830267E8], [1.8683258E7], [7.799592E7], [4.84679672E8], [3396746.0], [2.4711192E7], [1.0607662E8], [3.96360635E8], [3.19239758E8]]                   |\n",
            "+------------------------------------+-----------------------------------------------------------------------------------------------------------------------------------------------------------------------------------------------------------------------------------------------------------+-----------------------------------------------------------------------------------------------------------------------------------------------------------------------+\n",
            "only showing top 20 rows\n",
            "\n"
          ]
        }
      ]
    },
    {
      "cell_type": "markdown",
      "source": [
        "Since the MinHasLSH model is not so fast, let's try with another type of LSH model"
      ],
      "metadata": {
        "id": "Co6K7luPdWoO"
      }
    },
    {
      "cell_type": "code",
      "source": [
        "# from pyspark.ml.feature import BucketedRandomProjectionLSH, BucketedRandomProjectionLSHModel\n",
        "\n",
        "# BRP_LSH_MODEL_PATH = os.path.join(SAVED_DFS_PATH, f\"brp_lsh_model-{NUM_PLAYLISTS}.pickle\")\n",
        "# if os.path.exists(BRP_LSH_MODEL_PATH):\n",
        "#   model = BucketedRandomProjectionLSHModel.load(BRP_LSH_MODEL_PATH)\n",
        "# else:\n",
        "#   brp = BucketedRandomProjectionLSH(inputCol=\"embedding\", outputCol=\"hashes\", numHashTables=5, bucketLength=1.0)\n",
        "#   model = brp.fit(playlist_map)\n",
        "#   model.save(BRP_LSH_MODEL_PATH)\n",
        "\n",
        "# model.transform(playlist_map).show()"
      ],
      "metadata": {
        "id": "gv3f7k0vdbaO"
      },
      "execution_count": 21,
      "outputs": []
    },
    {
      "cell_type": "code",
      "source": [
        "#TODO: Remove this once tested\n",
        "def transform_to_aggregate(df: DataFrame) -> DataFrame:\n",
        "  \"\"\"\n",
        "  Transforms the dataframe in order to be compatible for the union with an aggregate df.\n",
        "  \"\"\"\n",
        "  return df.withColumn(\"sum\", F.col(\"distCol\")).withColumnRenamed(\"distCol\", \"squared_sum\")\n",
        "\n",
        "def merge_aggregate_df(aggregate_df: DataFrame, other_df: DataFrame) -> DataFrame:\n",
        "  \"\"\"\n",
        "  Sums an aggregate df (track_uri, embedding, hashes, squared_sum, sum)\n",
        "  with a simple df (track_uri, embedding, hashes, distCol).\n",
        "  \"\"\"\n",
        "  other_df = transform_to_aggregate(other_df)\n",
        "  merged_df = aggregate_df.unionAll(other_df)\n",
        "  return merged_df.groupBy(\"track_uri\", \"embedding\", \"hashes\").agg(\n",
        "    F.sum(F.pow(\"squared_sum\", 2)).alias(\"squared_sum\"),\n",
        "    F.sum(\"sum\").alias(\"sum\"))\n",
        "\n",
        "if DEBUG:\n",
        "  key = playlist_map.first()[1]\n",
        "  neigh = model.approxNearestNeighbors(playlist_map, key, 10)\n",
        "  merged_df_2 = merge_aggregate_df(transform_to_aggregate(neigh), neigh)\n",
        "  merged_df_2.show() "
      ],
      "metadata": {
        "id": "rPFF6Xwj8wed"
      },
      "execution_count": 22,
      "outputs": []
    },
    {
      "cell_type": "code",
      "source": [
        "def df_to_dict(df: DataFrame) -> DataFrame:\n",
        "  return df.select(\"track_uri\", \"distCol\").rdd.collectAsMap()\n",
        "\n",
        "def merge_dicts(d1: Dict[str, float], d2: Dict[str, float]) -> Dict[str, float]:\n",
        "  for key, value in d2.items():\n",
        "    if key in d1:\n",
        "      if type(d1[key]) is float:\n",
        "        d1[key] = [d1[key]]\n",
        "      d1[key] += [value]\n",
        "    else:\n",
        "      d1[key] = [value]\n",
        "  return d1\n",
        "\n",
        "if DEBUG:\n",
        "  key = playlist_map.first()[1]\n",
        "  neigh = F.broadcast(model.approxNearestNeighbors(playlist_map, key, 10)).cache()\n",
        "  merged_df_2 = merge_dicts(df_to_dict(neigh), df_to_dict(neigh))\n",
        "  print(merged_df_2)"
      ],
      "metadata": {
        "id": "XmUp55bUg8f9"
      },
      "execution_count": 23,
      "outputs": []
    },
    {
      "cell_type": "code",
      "source": [
        "def extract_similar_songs(playlist_tracks: DataFrame, playlist_map, model, k=10, disable_pbar=False) -> DataFrame:\n",
        "  aggregate_df = None\n",
        "  tracks_embedding = F.broadcast(playlist_map.join(F.broadcast(playlist_tracks), \"track_uri\").select(\"track_uri\", \"embedding\"))\n",
        "  transformed_tracks_embeddings = model.transform(tracks_embedding).cache()\n",
        "  k_neighs = []\n",
        "\n",
        "  for row in tqdm(tracks_embedding.collect(), desc='Extracting k-neighbors', disable=disable_pbar):\n",
        "    k_neigh = F.broadcast(model.approxNearestNeighbors(playlist_map, row[\"embedding\"], k)).cache()\n",
        "    k_neighs.append(df_to_dict(k_neigh))\n",
        "\n",
        "  aggregate_df = reduce(merge_dicts, k_neighs)\n",
        "\n",
        "  transformed_tracks_embeddings.unpersist()\n",
        "  return aggregate_df\n",
        "\n",
        "if DEBUG:\n",
        "  # first_playlist = train_df.limit(1).select(F.explode(\"tracks\")).select(\"col.*\").distinct()\n",
        "  first_playlist = train_df.filter(\"pid == 1005\").select(F.explode(\"tracks\")).select(\"col.*\").distinct()\n",
        "  recommendations = extract_similar_songs(first_playlist, playlist_map, model, k=10)"
      ],
      "metadata": {
        "id": "p6sFCM6RG5Y1"
      },
      "execution_count": 24,
      "outputs": []
    },
    {
      "cell_type": "markdown",
      "source": [
        "We are safe by using python dictionaries since the data will be very small, and so dictionaries will be faster than pyspark dataframes."
      ],
      "metadata": {
        "id": "L-zF2NSClWaV"
      }
    },
    {
      "cell_type": "code",
      "source": [
        "if DEBUG:\n",
        "  import sys\n",
        "  print(f\"The reccomendation dictionary is {sys.getsizeof(recommendations)} bytes\")"
      ],
      "metadata": {
        "id": "FRs9DULWlMvl"
      },
      "execution_count": 25,
      "outputs": []
    },
    {
      "cell_type": "code",
      "source": [
        "from typing import List\n",
        "def aggregate_recommendations(recommendations: Dict[str, float | List[float]]) -> DataFrame:\n",
        "  aggregated = {}\n",
        "  for key, value in recommendations.items():\n",
        "    if type(value) is list:\n",
        "      aggregated[key] = sum(x for x in value) / len(value)\n",
        "    else:\n",
        "      aggregated[key] = value\n",
        "  # return {k: v for k, v in aggregated.items() if v != 0}\n",
        "  # aggregated = sorted(aggregated.items(), key=lambda x: x[1])\n",
        "\n",
        "  recommendations_schema = StructType([\n",
        "      StructField(\"track_uri\", StringType(), True),\n",
        "      StructField(\"distance\", FloatType(), True)\n",
        "  ])\n",
        "\n",
        "\n",
        "  recommendations_df = spark.createDataFrame(data=aggregated.items(), schema=recommendations_schema)\n",
        "\n",
        "  return recommendations_df\n",
        "\n",
        "if DEBUG:\n",
        "  k = 40\n",
        "  recommendations_df = aggregate_recommendations(recommendations)\n",
        "  recommendations_df.show(truncate=False)\n",
        "  first_playlist.show(truncate=False)\n",
        "  print(recommendations_df.count(), first_playlist.count())"
      ],
      "metadata": {
        "id": "QbBeYNhKqJgM"
      },
      "execution_count": 26,
      "outputs": []
    },
    {
      "cell_type": "markdown",
      "source": [
        "Now that we have a prediction, we can put the result in a pyspark dataframe in order to be used later"
      ],
      "metadata": {
        "id": "vpbn30aDl0h7"
      }
    },
    {
      "cell_type": "code",
      "source": [
        "def remove_existing_tracks(playlist_tracks: DataFrame, recommendations_df: DataFrame) -> DataFrame:\n",
        "  playlist_tracks = playlist_tracks.select(\"track_uri\").cache()\n",
        "  playlist_tracks_compatible = playlist_tracks.join(F.broadcast(recommendations_df), on=\"track_uri\")\n",
        "  playlist_tracks.unpersist()\n",
        "  return recommendations_df.exceptAll(F.broadcast(playlist_tracks_compatible))\n",
        "\n",
        "if DEBUG:\n",
        "  clean_df = remove_existing_tracks(first_playlist, recommendations_df)\n",
        "  clean_df.show()"
      ],
      "metadata": {
        "id": "hzSjUb0k5WvD"
      },
      "execution_count": 27,
      "outputs": []
    },
    {
      "cell_type": "markdown",
      "source": [
        "Putting all togheter:"
      ],
      "metadata": {
        "id": "fVBZMo5ym4wY"
      }
    },
    {
      "cell_type": "code",
      "source": [
        "def item_based_recommendation(playlist: DataFrame,playlist_map: DataFrame, model: MinHashLSHModel, k=50):\n",
        "  playlist_songs = playlist.select(F.explode(\"tracks\")).select(\"col.*\")\n",
        "  recommendations = extract_similar_songs(playlist_songs, playlist_map, model, 20, disable_pbar=True)\n",
        "  recommendations_df = aggregate_recommendations(recommendations)\n",
        "  recommendations_df = remove_existing_tracks(playlist_songs, recommendations_df)\n",
        "  return recommendations_df.orderBy(F.col(\"distance\").asc()).limit(k).cache()\n",
        "\n",
        "if DEBUG:\n",
        "  playlist = train_df.filter(\"pid == 2005\")\n",
        "  result = item_based_recommendation(playlist, playlist_map, model)\n",
        "  result.show()"
      ],
      "metadata": {
        "id": "PnHTtod7m7jB"
      },
      "execution_count": 28,
      "outputs": []
    },
    {
      "cell_type": "code",
      "source": [
        "playlist_map.show()"
      ],
      "metadata": {
        "colab": {
          "base_uri": "https://localhost:8080/"
        },
        "id": "pMwAvFHu880I",
        "outputId": "9fc02b9e-7a51-4ca0-814f-21f142ea82ee"
      },
      "execution_count": 29,
      "outputs": [
        {
          "output_type": "stream",
          "name": "stdout",
          "text": [
            "+--------------------+--------------------+\n",
            "|           track_uri|           embedding|\n",
            "+--------------------+--------------------+\n",
            "|spotify:track:000...|(100001,[28824,60...|\n",
            "|spotify:track:000...|(100001,[60352],[...|\n",
            "|spotify:track:000...|(100001,[76926],[...|\n",
            "|spotify:track:000...|(100001,[79686],[...|\n",
            "|spotify:track:000...|(100001,[14092,21...|\n",
            "|spotify:track:000...|(100001,[74372],[...|\n",
            "|spotify:track:000...|(100001,[8758],[1...|\n",
            "|spotify:track:000...|(100001,[70399],[...|\n",
            "|spotify:track:001...|(100001,[9796,169...|\n",
            "|spotify:track:001...|(100001,[3698,702...|\n",
            "|spotify:track:001...|(100001,[92210],[...|\n",
            "|spotify:track:001...|(100001,[7110,250...|\n",
            "|spotify:track:001...|(100001,[80893],[...|\n",
            "|spotify:track:001...|(100001,[50318,63...|\n",
            "|spotify:track:001...|(100001,[2270,191...|\n",
            "|spotify:track:001...|(100001,[10656,31...|\n",
            "|spotify:track:002...|(100001,[93642],[...|\n",
            "|spotify:track:002...|(100001,[12674],[...|\n",
            "|spotify:track:002...|(100001,[43238,87...|\n",
            "|spotify:track:002...|(100001,[1,5324,1...|\n",
            "+--------------------+--------------------+\n",
            "only showing top 20 rows\n",
            "\n"
          ]
        }
      ]
    },
    {
      "cell_type": "markdown",
      "source": [
        "# Performance Evaluation"
      ],
      "metadata": {
        "id": "92e4Ipd-m2TF"
      }
    },
    {
      "cell_type": "code",
      "source": [
        "def precision_at_k(recommendations, ground_truth, num_of_recommendations) -> float:\n",
        "    \"\"\"\n",
        "    Calculates precision at k for the recommendations.\n",
        "    \"\"\"\n",
        "    recommended_relevant_tracks = recommendations.join(ground_truth, \"track_uri\").cache()\n",
        "    reccomended_relevant_tracks_count = recommended_relevant_tracks.count() #this can be top_n_results.join in order to be more performant\n",
        "    recommended_relevant_tracks.unpersist()\n",
        "    precision = reccomended_relevant_tracks_count / float(num_of_recommendations)\n",
        "\n",
        "    return precision\n",
        "\n",
        "\n",
        "import math\n",
        "#TODO: make it more efficient somehow\n",
        "def normalized_discounted_cumulative_gain(recommendations: DataFrame, ground_truth: DataFrame, num_of_recommendations: int) -> float:\n",
        "  recommendations = recommendations.orderBy(F.col(\"distance\").asc())\n",
        "  recommendations_list = recommendations.collect()\n",
        "  cumulative_gain = 0\n",
        "\n",
        "  intersection = recommendations.join(ground_truth, \"track_uri\").count()\n",
        "  if intersection == 0: return 0\n",
        "\n",
        "  ideal_cumulative_gain = 1 + sum((1 / math.log(i, 2)) for i in range(2, 2+intersection))\n",
        "  for index, row in enumerate(recommendations_list):\n",
        "    i = index + 1\n",
        "    is_rel = ground_truth.filter(F.col(\"track_uri\").isin(row.track_uri)).count() > 0\n",
        "    rel = 1 if is_rel else 0\n",
        "    if i == 1:\n",
        "      cumulative_gain += rel\n",
        "    else:\n",
        "      cumulative_gain += (rel / math.log(i, 2))\n",
        "  return cumulative_gain / ideal_cumulative_gain"
      ],
      "metadata": {
        "id": "R3bMn2m6nGdC"
      },
      "execution_count": 30,
      "outputs": []
    },
    {
      "cell_type": "markdown",
      "source": [
        "Executing performance evaluation on a random sample of the test set"
      ],
      "metadata": {
        "id": "c8SUpL2Boghc"
      }
    },
    {
      "cell_type": "code",
      "source": [
        "def evaluate(pid: int, playlist_map) -> Tuple[DataFrame, float]:\n",
        "    t1 = time.time()\n",
        "\n",
        "    playlist_train = train_df.filter(f\"pid == {pid}\").cache()\n",
        "    playlist_test = test_df.filter(f\"pid == {pid}\").cache()\n",
        "    ground_truth = playlist_test.select(F.explode(\"tracks\")).select(\"col.*\").cache()\n",
        "    num_of_recommendations = ground_truth.count()\n",
        "    recommendations = item_based_recommendation(playlist_train, playlist_map, model, k=num_of_recommendations).cache()\n",
        "\n",
        "    precision = precision_at_k(recommendations, ground_truth, num_of_recommendations)\n",
        "    gain = normalized_discounted_cumulative_gain(recommendations, ground_truth, num_of_recommendations)\n",
        "\n",
        "    t2 = time.time()\n",
        "    print(f\"Total time: {t2-t1}\")\n",
        "\n",
        "    playlist_train.unpersist()\n",
        "    playlist_test.unpersist()\n",
        "    ground_truth.unpersist()\n",
        "    recommendations.unpersist()\n",
        "\n",
        "    return playlist_train, playlist_test, ground_truth, recommendations, precision, gain\n",
        "\n",
        "\n",
        "if DEBUG:\n",
        "  train, test, gt, rec, prec, gain  = evaluate(1005)\n",
        "  train.show(), test.show(), gt.show(), rec.show(truncate=False)\n",
        "  print(f\"Precision: {prec}, Gain: {gain}\")"
      ],
      "metadata": {
        "id": "Y8ZIqjdSogHJ"
      },
      "execution_count": 31,
      "outputs": []
    },
    {
      "cell_type": "code",
      "source": [
        "import json\n",
        "EVALUATION_RESULTS_PATH = os.path.join(GDRIVE_DATA_DIR, \"item_based_evaluation_results\")\n",
        "def perform_evaluation():\n",
        "  # SAMPLING_FRACTION = 0.01\n",
        "  SAMPLING_FRACTION = 0.0002\n",
        "  sampled_playlists = train_df.sample(False, SAMPLING_FRACTION, seed=42).cache()\n",
        "\n",
        "  transformed_playlist_map = model.transform(playlist_map).cache()\n",
        "  results = []\n",
        "  for row in tqdm(sampled_playlists.collect(), desc=\"Performing evaluation\"):\n",
        "      pid = row['pid']\n",
        "      train, test, gt, rec, prec, gain = evaluate(pid,transformed_playlist_map)\n",
        "      print((prec, gain))\n",
        "      results.append((prec, gain))\n",
        "  \n",
        "  sampled_playlists.unpersist() \n",
        "  with open(EVALUATION_RESULTS_PATH, \"w\") as f:\n",
        "    json.dump(results, f)\n",
        "  return results\n",
        "\n",
        "results = perform_evaluation()"
      ],
      "metadata": {
        "colab": {
          "base_uri": "https://localhost:8080/",
          "height": 639,
          "referenced_widgets": [
            "85704d667a8a40ba9066fa7106a91dad",
            "3897952d6cce457e8f64b8f73e4645bb",
            "f17ccdb7487a4568a54e91611252368a",
            "60b629c1cd8d426f8fcb3d566a538527",
            "3af1bd7b53e74dc18e5a0abe61241d60",
            "83e8ffee77c340cfbb0608c13efe3fb8",
            "457c735850e54fa6a5835ab33db3d5fe",
            "255dd6ca245f431685dbe5a29a179c67",
            "4b5bcf7168db46dd8d6e1832bdcc2fd4",
            "b4f2dd48632a4f6eb37e1aad8cc68858",
            "59e37f5b02a145aaa240e628eb54dbef"
          ]
        },
        "id": "DokoAdIipxHi",
        "outputId": "fb70f96b-1eec-4b17-c73b-770645d70b7b"
      },
      "execution_count": 32,
      "outputs": [
        {
          "output_type": "display_data",
          "data": {
            "text/plain": [
              "Performing evaluation:   0%|          | 0/17 [00:00<?, ?it/s]"
            ],
            "application/vnd.jupyter.widget-view+json": {
              "version_major": 2,
              "version_minor": 0,
              "model_id": "85704d667a8a40ba9066fa7106a91dad"
            }
          },
          "metadata": {}
        },
        {
          "output_type": "stream",
          "name": "stdout",
          "text": [
            "Total time: 108.97407984733582\n",
            "(0.2222222222222222, 0.25529836476324147)\n",
            "Total time: 69.5220148563385\n",
            "(0.09090909090909091, 0.5)\n",
            "Total time: 166.39259839057922\n",
            "(0.14705882352941177, 0.9020243604942442)\n",
            "Total time: 69.63892722129822\n",
            "(0.23076923076923078, 0.6584645692843067)\n",
            "Total time: 42.06967735290527\n",
            "(0.16666666666666666, 0.3154648767857287)\n",
            "Total time: 186.8860251903534\n",
            "(0.045454545454545456, 0.7601875334318686)\n",
            "Total time: 123.29424452781677\n",
            "(0.10344827586206896, 0.464916862384697)\n",
            "Total time: 72.95470380783081\n",
            "(0.0, 0)\n",
            "Total time: 31.807098150253296\n",
            "(0.0, 0)\n",
            "Total time: 41.83390808105469\n",
            "(0.14285714285714285, 0.1781035935540111)\n",
            "Total time: 16.51538109779358\n",
            "(0.5, 0.5)\n",
            "Total time: 218.13514041900635\n",
            "(0.15384615384615385, 0.5256041567708291)\n",
            "Total time: 48.00537109375\n",
            "(0.1111111111111111, 0.5)\n",
            "Total time: 31.079197645187378\n",
            "(0.0, 0)\n",
            "Total time: 142.39784383773804\n",
            "(0.029411764705882353, 0.09828081611641129)\n",
            "Total time: 238.790433883667\n",
            "(0.14285714285714285, 0.7852695899733373)\n",
            "Total time: 53.58619236946106\n",
            "(0.1, 0.1781035935540111)\n"
          ]
        }
      ]
    },
    {
      "cell_type": "code",
      "source": [
        "avg_prec = np.array(results).mean()\n",
        "avg_prec, avg_gain = 0, 0\n",
        "for prec, gain in results:\n",
        "  avg_prec += prec\n",
        "  avg_gain += gain \n",
        "tot = len(results)\n",
        "avg_prec /= tot\n",
        "avg_gain /= tot\n",
        "avg_prec, avg_gain"
      ],
      "metadata": {
        "colab": {
          "base_uri": "https://localhost:8080/"
        },
        "id": "lMVlUMTB5MLB",
        "outputId": "6e77ec98-1295-4a23-f5d3-7940aa9cf1dd"
      },
      "execution_count": 37,
      "outputs": [
        {
          "output_type": "execute_result",
          "data": {
            "text/plain": [
              "(0.12862424534062764, 0.38951284218309923)"
            ]
          },
          "metadata": {},
          "execution_count": 37
        }
      ]
    },
    {
      "cell_type": "code",
      "source": [
        "results"
      ],
      "metadata": {
        "colab": {
          "base_uri": "https://localhost:8080/"
        },
        "id": "T3G5cFFW8CyV",
        "outputId": "6860d8e1-eb03-4aee-acd0-2f757b767498"
      },
      "execution_count": 34,
      "outputs": [
        {
          "output_type": "execute_result",
          "data": {
            "text/plain": [
              "[(0.2222222222222222, 0.25529836476324147),\n",
              " (0.09090909090909091, 0.5),\n",
              " (0.14705882352941177, 0.9020243604942442),\n",
              " (0.23076923076923078, 0.6584645692843067),\n",
              " (0.16666666666666666, 0.3154648767857287),\n",
              " (0.045454545454545456, 0.7601875334318686),\n",
              " (0.10344827586206896, 0.464916862384697),\n",
              " (0.0, 0),\n",
              " (0.0, 0),\n",
              " (0.14285714285714285, 0.1781035935540111),\n",
              " (0.5, 0.5),\n",
              " (0.15384615384615385, 0.5256041567708291),\n",
              " (0.1111111111111111, 0.5),\n",
              " (0.0, 0),\n",
              " (0.029411764705882353, 0.09828081611641129),\n",
              " (0.14285714285714285, 0.7852695899733373),\n",
              " (0.1, 0.1781035935540111)]"
            ]
          },
          "metadata": {},
          "execution_count": 34
        }
      ]
    },
    {
      "cell_type": "markdown",
      "source": [
        "# All against all tries"
      ],
      "metadata": {
        "id": "x9gbMKT_lw9S"
      }
    },
    {
      "cell_type": "markdown",
      "source": [
        "Since computing the k nearest neighbors is super slow, I can pre-compute them offline and store them. This will require like 100 years lol."
      ],
      "metadata": {
        "id": "GI8ZtkTmv2qa"
      }
    },
    {
      "cell_type": "code",
      "source": [
        "mh = MinHashLSH(inputCol=\"embedding\", outputCol=\"hashes\", numHashTables=5)\n",
        "model = mh.fit(playlist_map)"
      ],
      "metadata": {
        "id": "uzj7kXRNi6ex"
      },
      "execution_count": 35,
      "outputs": []
    },
    {
      "cell_type": "markdown",
      "source": [],
      "metadata": {
        "id": "8ZldxXdXlylr"
      }
    },
    {
      "cell_type": "code",
      "source": [
        "def compute_all_k_neighbors(playlist_map: DataFrame, model) -> DataFrame:\n",
        "    result = []\n",
        "    transformed_playlist_map = model.transform(playlist_map).cache()\n",
        "    for index, row in enumerate(tqdm(playlist_map.collect(), desc=\"Computing k-neighbors\")):\n",
        "        k_neighs = model.approxNearestNeighbors(transformed_playlist_map, row.embedding, 10).select(\"track_uri\", F.col(\"distCol\").alias(\"similarity\"))\n",
        "        result.append((row.track_uri, k_neighs.collect()))\n",
        "\n",
        "    k_neighs_schema = StructType([\n",
        "        StructField(\"track_uri\", StringType(), nullable=True),\n",
        "        StructField(\"distCol\", FloatType(), nullable=True)\n",
        "    ])\n",
        "\n",
        "    schema = StructType([\n",
        "        StructField(\"track_uri\", StringType(), nullable=True),\n",
        "        StructField(\"k_neighs\", ArrayType(k_neighs_schema), nullable=True)\n",
        "    ])\n",
        "\n",
        "    result_df = spark.createDataFrame(result, schema)\n",
        "    transformed_playlist_map.unpersist()\n",
        "\n",
        "    return result_df\n",
        "\n",
        "result_df = compute_all_k_neighbors(playlist_map, model)"
      ],
      "metadata": {
        "colab": {
          "base_uri": "https://localhost:8080/",
          "height": 535,
          "referenced_widgets": [
            "49a1c7a01352423f94bb60dfe0b3e1f5",
            "2b64f1c614f349ee8218492095bbdc47",
            "f5cb21f6d1224cdd8d120989dda14a0e",
            "b2c37498584a4e249553c1c1741bc797",
            "33c7e9f49ff34a8da278e68ea7c13b13",
            "af437c2a0a37403eabdc5cff537fd1e9",
            "d8e0d48bb9104056a692a8ae4ec045b7",
            "54da270bcbba4831950913a0e323aef5",
            "89453331f508408295254b5649df8e39",
            "410393d13be2441ca1b54bfc5d873f42",
            "deedaef94d554aae908082c916be49f2"
          ]
        },
        "id": "tqV8qF-iv-RA",
        "outputId": "672b4bfa-ea21-4938-a6fb-f55bccbf277b"
      },
      "execution_count": 36,
      "outputs": [
        {
          "output_type": "display_data",
          "data": {
            "text/plain": [
              "Computing k-neighbors:   0%|          | 0/681805 [00:00<?, ?it/s]"
            ],
            "application/vnd.jupyter.widget-view+json": {
              "version_major": 2,
              "version_minor": 0,
              "model_id": "49a1c7a01352423f94bb60dfe0b3e1f5"
            }
          },
          "metadata": {}
        },
        {
          "output_type": "stream",
          "name": "stderr",
          "text": [
            "ERROR:root:KeyboardInterrupt while sending command.\n",
            "Traceback (most recent call last):\n",
            "  File \"/usr/local/lib/python3.10/dist-packages/py4j/java_gateway.py\", line 1038, in send_command\n",
            "    response = connection.send_command(command)\n",
            "  File \"/usr/local/lib/python3.10/dist-packages/py4j/clientserver.py\", line 511, in send_command\n",
            "    answer = smart_decode(self.stream.readline()[:-1])\n",
            "  File \"/usr/lib/python3.10/socket.py\", line 705, in readinto\n",
            "    return self._sock.recv_into(b)\n",
            "KeyboardInterrupt\n"
          ]
        },
        {
          "output_type": "error",
          "ename": "KeyboardInterrupt",
          "evalue": "ignored",
          "traceback": [
            "\u001b[0;31m---------------------------------------------------------------------------\u001b[0m",
            "\u001b[0;31mKeyboardInterrupt\u001b[0m                         Traceback (most recent call last)",
            "\u001b[0;32m<ipython-input-36-55a8d6909401>\u001b[0m in \u001b[0;36m<cell line: 23>\u001b[0;34m()\u001b[0m\n\u001b[1;32m     21\u001b[0m     \u001b[0;32mreturn\u001b[0m \u001b[0mresult_df\u001b[0m\u001b[0;34m\u001b[0m\u001b[0;34m\u001b[0m\u001b[0m\n\u001b[1;32m     22\u001b[0m \u001b[0;34m\u001b[0m\u001b[0m\n\u001b[0;32m---> 23\u001b[0;31m \u001b[0mresult_df\u001b[0m \u001b[0;34m=\u001b[0m \u001b[0mcompute_all_k_neighbors\u001b[0m\u001b[0;34m(\u001b[0m\u001b[0mplaylist_map\u001b[0m\u001b[0;34m,\u001b[0m \u001b[0mmodel\u001b[0m\u001b[0;34m)\u001b[0m\u001b[0;34m\u001b[0m\u001b[0;34m\u001b[0m\u001b[0m\n\u001b[0m",
            "\u001b[0;32m<ipython-input-36-55a8d6909401>\u001b[0m in \u001b[0;36mcompute_all_k_neighbors\u001b[0;34m(playlist_map, model)\u001b[0m\n\u001b[1;32m      4\u001b[0m     \u001b[0;32mfor\u001b[0m \u001b[0mindex\u001b[0m\u001b[0;34m,\u001b[0m \u001b[0mrow\u001b[0m \u001b[0;32min\u001b[0m \u001b[0menumerate\u001b[0m\u001b[0;34m(\u001b[0m\u001b[0mtqdm\u001b[0m\u001b[0;34m(\u001b[0m\u001b[0mplaylist_map\u001b[0m\u001b[0;34m.\u001b[0m\u001b[0mcollect\u001b[0m\u001b[0;34m(\u001b[0m\u001b[0;34m)\u001b[0m\u001b[0;34m,\u001b[0m \u001b[0mdesc\u001b[0m\u001b[0;34m=\u001b[0m\u001b[0;34m\"Computing k-neighbors\"\u001b[0m\u001b[0;34m)\u001b[0m\u001b[0;34m)\u001b[0m\u001b[0;34m:\u001b[0m\u001b[0;34m\u001b[0m\u001b[0;34m\u001b[0m\u001b[0m\n\u001b[1;32m      5\u001b[0m         \u001b[0mk_neighs\u001b[0m \u001b[0;34m=\u001b[0m \u001b[0mmodel\u001b[0m\u001b[0;34m.\u001b[0m\u001b[0mapproxNearestNeighbors\u001b[0m\u001b[0;34m(\u001b[0m\u001b[0mtransformed_playlist_map\u001b[0m\u001b[0;34m,\u001b[0m \u001b[0mrow\u001b[0m\u001b[0;34m.\u001b[0m\u001b[0membedding\u001b[0m\u001b[0;34m,\u001b[0m \u001b[0;36m10\u001b[0m\u001b[0;34m)\u001b[0m\u001b[0;34m.\u001b[0m\u001b[0mselect\u001b[0m\u001b[0;34m(\u001b[0m\u001b[0;34m\"track_uri\"\u001b[0m\u001b[0;34m,\u001b[0m \u001b[0mF\u001b[0m\u001b[0;34m.\u001b[0m\u001b[0mcol\u001b[0m\u001b[0;34m(\u001b[0m\u001b[0;34m\"distCol\"\u001b[0m\u001b[0;34m)\u001b[0m\u001b[0;34m.\u001b[0m\u001b[0malias\u001b[0m\u001b[0;34m(\u001b[0m\u001b[0;34m\"similarity\"\u001b[0m\u001b[0;34m)\u001b[0m\u001b[0;34m)\u001b[0m\u001b[0;34m\u001b[0m\u001b[0;34m\u001b[0m\u001b[0m\n\u001b[0;32m----> 6\u001b[0;31m         \u001b[0mresult\u001b[0m\u001b[0;34m.\u001b[0m\u001b[0mappend\u001b[0m\u001b[0;34m(\u001b[0m\u001b[0;34m(\u001b[0m\u001b[0mrow\u001b[0m\u001b[0;34m.\u001b[0m\u001b[0mtrack_uri\u001b[0m\u001b[0;34m,\u001b[0m \u001b[0mk_neighs\u001b[0m\u001b[0;34m.\u001b[0m\u001b[0mcollect\u001b[0m\u001b[0;34m(\u001b[0m\u001b[0;34m)\u001b[0m\u001b[0;34m)\u001b[0m\u001b[0;34m)\u001b[0m\u001b[0;34m\u001b[0m\u001b[0;34m\u001b[0m\u001b[0m\n\u001b[0m\u001b[1;32m      7\u001b[0m \u001b[0;34m\u001b[0m\u001b[0m\n\u001b[1;32m      8\u001b[0m     k_neighs_schema = StructType([\n",
            "\u001b[0;32m/usr/local/lib/python3.10/dist-packages/pyspark/sql/dataframe.py\u001b[0m in \u001b[0;36mcollect\u001b[0;34m(self)\u001b[0m\n\u001b[1;32m   1214\u001b[0m         \"\"\"\n\u001b[1;32m   1215\u001b[0m         \u001b[0;32mwith\u001b[0m \u001b[0mSCCallSiteSync\u001b[0m\u001b[0;34m(\u001b[0m\u001b[0mself\u001b[0m\u001b[0;34m.\u001b[0m\u001b[0m_sc\u001b[0m\u001b[0;34m)\u001b[0m\u001b[0;34m:\u001b[0m\u001b[0;34m\u001b[0m\u001b[0;34m\u001b[0m\u001b[0m\n\u001b[0;32m-> 1216\u001b[0;31m             \u001b[0msock_info\u001b[0m \u001b[0;34m=\u001b[0m \u001b[0mself\u001b[0m\u001b[0;34m.\u001b[0m\u001b[0m_jdf\u001b[0m\u001b[0;34m.\u001b[0m\u001b[0mcollectToPython\u001b[0m\u001b[0;34m(\u001b[0m\u001b[0;34m)\u001b[0m\u001b[0;34m\u001b[0m\u001b[0;34m\u001b[0m\u001b[0m\n\u001b[0m\u001b[1;32m   1217\u001b[0m         \u001b[0;32mreturn\u001b[0m \u001b[0mlist\u001b[0m\u001b[0;34m(\u001b[0m\u001b[0m_load_from_socket\u001b[0m\u001b[0;34m(\u001b[0m\u001b[0msock_info\u001b[0m\u001b[0;34m,\u001b[0m \u001b[0mBatchedSerializer\u001b[0m\u001b[0;34m(\u001b[0m\u001b[0mCPickleSerializer\u001b[0m\u001b[0;34m(\u001b[0m\u001b[0;34m)\u001b[0m\u001b[0;34m)\u001b[0m\u001b[0;34m)\u001b[0m\u001b[0;34m)\u001b[0m\u001b[0;34m\u001b[0m\u001b[0;34m\u001b[0m\u001b[0m\n\u001b[1;32m   1218\u001b[0m \u001b[0;34m\u001b[0m\u001b[0m\n",
            "\u001b[0;32m/usr/local/lib/python3.10/dist-packages/py4j/java_gateway.py\u001b[0m in \u001b[0;36m__call__\u001b[0;34m(self, *args)\u001b[0m\n\u001b[1;32m   1319\u001b[0m             \u001b[0mproto\u001b[0m\u001b[0;34m.\u001b[0m\u001b[0mEND_COMMAND_PART\u001b[0m\u001b[0;34m\u001b[0m\u001b[0;34m\u001b[0m\u001b[0m\n\u001b[1;32m   1320\u001b[0m \u001b[0;34m\u001b[0m\u001b[0m\n\u001b[0;32m-> 1321\u001b[0;31m         \u001b[0manswer\u001b[0m \u001b[0;34m=\u001b[0m \u001b[0mself\u001b[0m\u001b[0;34m.\u001b[0m\u001b[0mgateway_client\u001b[0m\u001b[0;34m.\u001b[0m\u001b[0msend_command\u001b[0m\u001b[0;34m(\u001b[0m\u001b[0mcommand\u001b[0m\u001b[0;34m)\u001b[0m\u001b[0;34m\u001b[0m\u001b[0;34m\u001b[0m\u001b[0m\n\u001b[0m\u001b[1;32m   1322\u001b[0m         return_value = get_return_value(\n\u001b[1;32m   1323\u001b[0m             answer, self.gateway_client, self.target_id, self.name)\n",
            "\u001b[0;32m/usr/local/lib/python3.10/dist-packages/py4j/java_gateway.py\u001b[0m in \u001b[0;36msend_command\u001b[0;34m(self, command, retry, binary)\u001b[0m\n\u001b[1;32m   1036\u001b[0m         \u001b[0mconnection\u001b[0m \u001b[0;34m=\u001b[0m \u001b[0mself\u001b[0m\u001b[0;34m.\u001b[0m\u001b[0m_get_connection\u001b[0m\u001b[0;34m(\u001b[0m\u001b[0;34m)\u001b[0m\u001b[0;34m\u001b[0m\u001b[0;34m\u001b[0m\u001b[0m\n\u001b[1;32m   1037\u001b[0m         \u001b[0;32mtry\u001b[0m\u001b[0;34m:\u001b[0m\u001b[0;34m\u001b[0m\u001b[0;34m\u001b[0m\u001b[0m\n\u001b[0;32m-> 1038\u001b[0;31m             \u001b[0mresponse\u001b[0m \u001b[0;34m=\u001b[0m \u001b[0mconnection\u001b[0m\u001b[0;34m.\u001b[0m\u001b[0msend_command\u001b[0m\u001b[0;34m(\u001b[0m\u001b[0mcommand\u001b[0m\u001b[0;34m)\u001b[0m\u001b[0;34m\u001b[0m\u001b[0;34m\u001b[0m\u001b[0m\n\u001b[0m\u001b[1;32m   1039\u001b[0m             \u001b[0;32mif\u001b[0m \u001b[0mbinary\u001b[0m\u001b[0;34m:\u001b[0m\u001b[0;34m\u001b[0m\u001b[0;34m\u001b[0m\u001b[0m\n\u001b[1;32m   1040\u001b[0m                 \u001b[0;32mreturn\u001b[0m \u001b[0mresponse\u001b[0m\u001b[0;34m,\u001b[0m \u001b[0mself\u001b[0m\u001b[0;34m.\u001b[0m\u001b[0m_create_connection_guard\u001b[0m\u001b[0;34m(\u001b[0m\u001b[0mconnection\u001b[0m\u001b[0;34m)\u001b[0m\u001b[0;34m\u001b[0m\u001b[0;34m\u001b[0m\u001b[0m\n",
            "\u001b[0;32m/usr/local/lib/python3.10/dist-packages/py4j/clientserver.py\u001b[0m in \u001b[0;36msend_command\u001b[0;34m(self, command)\u001b[0m\n\u001b[1;32m    509\u001b[0m         \u001b[0;32mtry\u001b[0m\u001b[0;34m:\u001b[0m\u001b[0;34m\u001b[0m\u001b[0;34m\u001b[0m\u001b[0m\n\u001b[1;32m    510\u001b[0m             \u001b[0;32mwhile\u001b[0m \u001b[0;32mTrue\u001b[0m\u001b[0;34m:\u001b[0m\u001b[0;34m\u001b[0m\u001b[0;34m\u001b[0m\u001b[0m\n\u001b[0;32m--> 511\u001b[0;31m                 \u001b[0manswer\u001b[0m \u001b[0;34m=\u001b[0m \u001b[0msmart_decode\u001b[0m\u001b[0;34m(\u001b[0m\u001b[0mself\u001b[0m\u001b[0;34m.\u001b[0m\u001b[0mstream\u001b[0m\u001b[0;34m.\u001b[0m\u001b[0mreadline\u001b[0m\u001b[0;34m(\u001b[0m\u001b[0;34m)\u001b[0m\u001b[0;34m[\u001b[0m\u001b[0;34m:\u001b[0m\u001b[0;34m-\u001b[0m\u001b[0;36m1\u001b[0m\u001b[0;34m]\u001b[0m\u001b[0;34m)\u001b[0m\u001b[0;34m\u001b[0m\u001b[0;34m\u001b[0m\u001b[0m\n\u001b[0m\u001b[1;32m    512\u001b[0m                 \u001b[0mlogger\u001b[0m\u001b[0;34m.\u001b[0m\u001b[0mdebug\u001b[0m\u001b[0;34m(\u001b[0m\u001b[0;34m\"Answer received: {0}\"\u001b[0m\u001b[0;34m.\u001b[0m\u001b[0mformat\u001b[0m\u001b[0;34m(\u001b[0m\u001b[0manswer\u001b[0m\u001b[0;34m)\u001b[0m\u001b[0;34m)\u001b[0m\u001b[0;34m\u001b[0m\u001b[0;34m\u001b[0m\u001b[0m\n\u001b[1;32m    513\u001b[0m                 \u001b[0;31m# Happens when a the other end is dead. There might be an empty\u001b[0m\u001b[0;34m\u001b[0m\u001b[0;34m\u001b[0m\u001b[0m\n",
            "\u001b[0;32m/usr/lib/python3.10/socket.py\u001b[0m in \u001b[0;36mreadinto\u001b[0;34m(self, b)\u001b[0m\n\u001b[1;32m    703\u001b[0m         \u001b[0;32mwhile\u001b[0m \u001b[0;32mTrue\u001b[0m\u001b[0;34m:\u001b[0m\u001b[0;34m\u001b[0m\u001b[0;34m\u001b[0m\u001b[0m\n\u001b[1;32m    704\u001b[0m             \u001b[0;32mtry\u001b[0m\u001b[0;34m:\u001b[0m\u001b[0;34m\u001b[0m\u001b[0;34m\u001b[0m\u001b[0m\n\u001b[0;32m--> 705\u001b[0;31m                 \u001b[0;32mreturn\u001b[0m \u001b[0mself\u001b[0m\u001b[0;34m.\u001b[0m\u001b[0m_sock\u001b[0m\u001b[0;34m.\u001b[0m\u001b[0mrecv_into\u001b[0m\u001b[0;34m(\u001b[0m\u001b[0mb\u001b[0m\u001b[0;34m)\u001b[0m\u001b[0;34m\u001b[0m\u001b[0;34m\u001b[0m\u001b[0m\n\u001b[0m\u001b[1;32m    706\u001b[0m             \u001b[0;32mexcept\u001b[0m \u001b[0mtimeout\u001b[0m\u001b[0;34m:\u001b[0m\u001b[0;34m\u001b[0m\u001b[0;34m\u001b[0m\u001b[0m\n\u001b[1;32m    707\u001b[0m                 \u001b[0mself\u001b[0m\u001b[0;34m.\u001b[0m\u001b[0m_timeout_occurred\u001b[0m \u001b[0;34m=\u001b[0m \u001b[0;32mTrue\u001b[0m\u001b[0;34m\u001b[0m\u001b[0;34m\u001b[0m\u001b[0m\n",
            "\u001b[0;31mKeyboardInterrupt\u001b[0m: "
          ]
        }
      ]
    },
    {
      "cell_type": "code",
      "source": [
        "K_NEIGHBOURS_PATH = os.path.join(GDRIVE_DATA_DIR,\"saved_models\", f\"k_neighbours-{NUM_PLAYLISTS}.parquet\")\n",
        "result_df.write.parquet(K_NEIGHBOURS_PATH)"
      ],
      "metadata": {
        "id": "VVFic9gIM7L_"
      },
      "execution_count": null,
      "outputs": []
    },
    {
      "cell_type": "markdown",
      "source": [
        "# Old stuff"
      ],
      "metadata": {
        "id": "aoVjgtwlI9qe"
      }
    },
    {
      "cell_type": "code",
      "source": [
        "def transform_to_aggregate(df: DataFrame) -> DataFrame:\n",
        "  \"\"\"\n",
        "  Transforms the dataframe in order to be compatible for the union with an aggregate df.\n",
        "  \"\"\"\n",
        "  return df.withColumn(\"sum\", F.col(\"similarity\")).withColumnRenamed(\"similarity\", \"squared_sum\")\n",
        "\n",
        "def merge_aggregate_df(aggregate_df: DataFrame, other_df: DataFrame) -> DataFrame:\n",
        "  \"\"\"\n",
        "  Sums an aggregate df (track_uri, embedding, hashes, squared_sum, sum)\n",
        "  with a simple df (track_uri, embedding, hashes, distCol).\n",
        "  \"\"\"\n",
        "  other_df = transform_to_aggregate(other_df)\n",
        "  merged_df = aggregate_df.unionAll(other_df)\n",
        "  return merged_df.groupBy(\"track_uri\", \"embedding\").agg(\n",
        "    F.sum(F.pow(\"squared_sum\", 2)).alias(\"squared_sum\"),\n",
        "    F.sum(\"sum\").alias(\"sum\"))"
      ],
      "metadata": {
        "id": "6VCjq5dxQvr_"
      },
      "execution_count": null,
      "outputs": []
    },
    {
      "cell_type": "code",
      "source": [
        "def create_similarity_df(input_vector: SparseVector, playlist_map: DataFrame, similarity_function: Callable) -> DataFrame:\n",
        "  \"\"\"\n",
        "  Returns the similarity df for a single song\n",
        "  \"\"\"\n",
        "  \n",
        "  @F.udf(returnType=FloatType())\n",
        "  def compute_similarity(vector1):\n",
        "    return similarity_function(vector1, input_vector)\n",
        "\n",
        "  result_df = playlist_map.withColumn(\"similarity\", compute_similarity(playlist_map.embedding))\n",
        "  \n",
        "  return result_df\n",
        "\n",
        "def get_top_k_results(track_uri: str, similarity_df: DataFrame, k: int = 20) -> DataFrame:\n",
        "  return similarity_df.filter((F.col(\"similarity\") > 0) & (F.col(\"track_uri\") != track_uri)).orderBy(F.col(\"similarity\").desc()).limit(k)\n",
        "\n",
        "if DEBUG:\n",
        "  first_song_vector = playlist_map.select(\"embedding\").limit(1).first()[0]\n",
        "  first_track_uri = playlist_map.select(\"track_uri\").limit(1).first()[0]\n",
        "  similarity_df = create_similarity_df(first_song_vector, playlist_map, jaccard_similarity)\n",
        "  top_k_results = get_top_k_results(first_track_uri, similarity_df).cache()\n",
        "  top_k_results.show()"
      ],
      "metadata": {
        "id": "QmBLSpdtcylv"
      },
      "execution_count": null,
      "outputs": []
    },
    {
      "cell_type": "code",
      "source": [
        "def extract_similar_songs(playlist_tracks: DataFrame, k=10) -> DataFrame:\n",
        "  aggregate_df = None\n",
        "  tracks_embedding = playlist_tracks.join(playlist_map, \"track_uri\")\n",
        "  for row in tqdm(tracks_embedding.collect(), desc='Extracting k-neighbors'):\n",
        "    k_neigh = get_top_k_results(\n",
        "        track_uri=row.track_uri,\n",
        "        similarity_df= create_similarity_df(input_vector=row.embedding,\n",
        "                                            playlist_map=playlist_map,\n",
        "                                            similarity_function=jaccard_similarity),\n",
        "        k = 10)\n",
        "    \n",
        "    k_neigh.show()\n",
        "    if aggregate_df == None:\n",
        "      aggregate_df = transform_to_aggregate(k_neigh).cache()\n",
        "    else:\n",
        "      aggregate_df = merge_aggregate_df(aggregate_df, k_neigh).cache()\n",
        "    \n",
        "    aggregate_df.show()\n",
        "  return aggregate_df\n",
        "\n",
        "if DEBUG:\n",
        "  first_playlist = train_df.limit(1).select(F.explode(\"tracks\")).select(\"col.*\")\n",
        "  recommendations = extract_similar_songs(first_playlist, model)"
      ],
      "metadata": {
        "id": "yydgn5XD3SZH"
      },
      "execution_count": null,
      "outputs": []
    },
    {
      "cell_type": "code",
      "source": [
        "recommendations.show()"
      ],
      "metadata": {
        "id": "8scK_YReSrYo"
      },
      "execution_count": null,
      "outputs": []
    },
    {
      "cell_type": "code",
      "source": [
        "# def extract_similar_songs(playlist: DataFrame, playlist_map: DataFrame) -> Dict[str, float]:\n",
        "#   \"\"\"\n",
        "#   For each track in the playlist, it extracts the top-k most similar results.\n",
        "#   \"\"\"\n",
        "#   weighted_dict = {}\n",
        "  \n",
        "#   # F.udf(returnType=IntegerType())\n",
        "#   def update_weighted_dict(track_uri: str, similarity: float):\n",
        "#     nonlocal weighted_dict\n",
        "#     if track_uri not in weighted_dict:\n",
        "#       weighted_dict[track_uri] = (similarity, 1)\n",
        "#     else:\n",
        "#       curr_similarity = weighted_dict[track_uri][0]\n",
        "#       count = weighted_dict[track_uri][1]\n",
        "#       weighted_dict[track_uri] = (curr_similarity + similarity, count+1)\n",
        "  \n",
        "#   tracks = playlist.select(F.explode(\"tracks.track_uri\")).withColumnRenamed(\"col\", \"track_uri\")\n",
        "#   tracks_mapped = tracks.join(playlist_map, \"track_uri\")\n",
        "\n",
        "#   for track_row in tqdm(tracks_mapped.collect(), desc=f\"Analyzing tracks\"):\n",
        "#     similarity_df = create_similarity_df(track_row.embedding, playlist_map, jaccard_similarity)\n",
        "#     top_k_results = get_top_k_results(first_track_uri, similarity_df).cache()\n",
        "#     top_k_results.foreach(lambda row: update_weighted_dict(row.track_uri, row.similarity))\n",
        "#     top_k_results.unpersist()\n",
        "  \n",
        "#   return weighted_dict\n",
        "\n",
        "# if DEBUG:\n",
        "#   first_playlist = train_df.limit(1).cache()\n",
        "#   weighted_dict = extract_similar_songs(first_playlist, playlist_map)"
      ],
      "metadata": {
        "id": "K9UmYW-9eGuz"
      },
      "execution_count": null,
      "outputs": []
    },
    {
      "cell_type": "code",
      "source": [
        "def create_similarity_df(playlist: DataFrame, playlist_map: DataFrame, similarityFunction: Callable):\n",
        "  # Get the current playlist's tracks\n",
        "  playlist_tracks = playlist.select(F.explode(\"tracks.track_uri\")).withColumnRenamed(\"col\", \"track_uri\")\n",
        "  playlist_tracks.show()\n",
        "  # Let's extract the rating vector for each single track\n",
        "  playlist_tracks_mapped = playlist_tracks.join(playlist_map, \"track_uri\")\n",
        "  playlist_tracks_mapped.show()\n",
        "\n",
        "\n",
        "  @F.udf(returnType=FloatType())\n",
        "  def compute_similarity(input_vector: SparseVector, other_vector: SparseVector):\n",
        "    return jaccard_similarity(input_vector, other_vector)\n",
        "\n",
        "  # for row in playlist_tracks_mapped.collect():\n",
        "  similarity_df = playlist_map.withColumn(\"similarity\", compute_similarity(playlist_tracks_mapped.limit(2).embedding, playlist_map.embedding))\n",
        "  # break\n",
        "  \n",
        "  similarity_df.show()\n",
        "  return\n",
        "\n",
        "first_playlsit = train_df.limit(1).cache()\n",
        "create_similarity_df(first_playlsit, playlist_map, jaccard_similarity)"
      ],
      "metadata": {
        "id": "hs0TGZxlWnLb"
      },
      "execution_count": null,
      "outputs": []
    },
    {
      "cell_type": "code",
      "source": [
        "first_playlsit.show()"
      ],
      "metadata": {
        "id": "WbCUU0GzYswY"
      },
      "execution_count": null,
      "outputs": []
    }
  ]
}