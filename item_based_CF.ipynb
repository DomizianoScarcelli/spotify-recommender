{
  "cells": [
    {
      "attachments": {},
      "cell_type": "markdown",
      "metadata": {
        "colab_type": "text",
        "id": "view-in-github"
      },
      "source": [
        "<a href=\"https://colab.research.google.com/github/DomizianoScarcelli/big-data-project/blob/item-based-cf/item_based_CF.ipynb\" target=\"_parent\"><img src=\"https://colab.research.google.com/assets/colab-badge.svg\" alt=\"Open In Colab\"/></a>"
      ]
    },
    {
      "attachments": {},
      "cell_type": "markdown",
      "metadata": {
        "id": "KOojFseRjVnN"
      },
      "source": [
        "# Configuration"
      ]
    },
    {
      "cell_type": "code",
      "execution_count": 1,
      "metadata": {},
      "outputs": [],
      "source": [
        "import os\n",
        "def is_running_on_colab():\n",
        "    return \"COLAB_GPU\" in os.environ\n",
        "\n",
        "LOCAL = not is_running_on_colab()"
      ]
    },
    {
      "cell_type": "code",
      "execution_count": 2,
      "metadata": {
        "colab": {
          "base_uri": "https://localhost:8080/"
        },
        "id": "N3wVgRfHYoOs",
        "outputId": "5968f690-8fb9-4811-f6dc-e301c0022db0"
      },
      "outputs": [],
      "source": [
        "#@title Download necessary libraries\n",
        "if not LOCAL:\n",
        "    !pip install pyspark -qq\n",
        "    !pip install -U -q PyDrive -qq\n",
        "    !apt install openjdk-8-jdk-headless -qq"
      ]
    },
    {
      "cell_type": "code",
      "execution_count": 18,
      "metadata": {
        "cellView": "form",
        "id": "CGHPv9OqY9MI"
      },
      "outputs": [],
      "source": [
        "#@title Imports\n",
        "import requests\n",
        "import pandas as pd\n",
        "import numpy as np\n",
        "import matplotlib.pyplot as plt\n",
        "%matplotlib inline\n",
        "import plotly\n",
        "\n",
        "import pyspark\n",
        "import pyspark.sql.functions as F\n",
        "from pyspark.sql import SparkSession, DataFrame, Row\n",
        "from pyspark.sql.types import StructType, StructField, StringType, IntegerType, ArrayType, FloatType, LongType\n",
        "from pyspark import SparkContext, SparkConf\n",
        "from pyspark.ml.linalg import SparseVector, DenseVector, VectorUDT\n",
        "\n",
        "from tqdm.notebook import tqdm\n",
        "import time\n",
        "import gc\n",
        "\n",
        "if not LOCAL:\n",
        "    from google.colab import drive\n",
        "\n",
        "from typing import Tuple, Dict, List\n",
        "from functools import reduce\n",
        "import pickle"
      ]
    },
    {
      "cell_type": "code",
      "execution_count": 4,
      "metadata": {
        "id": "JF8LUBZeYiWP"
      },
      "outputs": [],
      "source": [
        "#@title Set up variables\n",
        "if not LOCAL:\n",
        "    JAVA_HOME = \"/usr/lib/jvm/java-8-openjdk-amd64\"\n",
        "    GDRIVE_DIR = \"/content/drive\"\n",
        "    GDRIVE_HOME_DIR = GDRIVE_DIR + \"/MyDrive\"\n",
        "    GDRIVE_DATA_DIR = GDRIVE_HOME_DIR + \"/Big Data/datasets\"\n",
        "    DATASET_FILE = os.path.join(GDRIVE_DATA_DIR, \"pyspark_friendly_spotify_playlist_dataset\")\n",
        "    AUDIO_FEATURES_FILE = os.path.join(GDRIVE_DATA_DIR, \"pyspark_track_features\")\n",
        "    LITTLE_SLICE_FILE = os.path.join(GDRIVE_DATA_DIR, \"little_slice\")\n",
        "    SMALL_SLICE_FLIE = os.path.join(GDRIVE_DATA_DIR, \"small_slice\")\n",
        "    LITTLE_SLICE_AUDIO_FEATURES = os.path.join(GDRIVE_DATA_DIR, \"little_slice_audio_features\")\n",
        "    MICRO_SLICE_AUDIO_FEATURES = os.path.join(GDRIVE_DATA_DIR, \"micro_slice_audio_features\")\n",
        "    SPLITTED_SLICE_AUDIO_FEATURES = os.path.join(GDRIVE_DATA_DIR, \"splitted_pyspark_track_features\")\n",
        "    SAVED_DFS_PATH = os.path.join(GDRIVE_DATA_DIR, \"saved_dfs\")\n",
        "    SAVED_MODELS = os.path.join(GDRIVE_DATA_DIR, \"saved_models\")\n",
        "else:\n",
        "    GDRIVE_DATA_DIR = os.path.abspath(\"./data\")\n",
        "    SAVED_DFS_PATH = os.path.join(GDRIVE_DATA_DIR, \"saved_dfs\")\n",
        "    SAVED_MODELS = os.path.join(GDRIVE_DATA_DIR, \"saved_models\")\n",
        "    DATASET_FILE = os.path.join(GDRIVE_DATA_DIR, \"full_dataset\")\n",
        "    SMALL_SLICE_FLIE = os.path.join(GDRIVE_DATA_DIR, \"small_slice\")\n",
        "    JAVA_HOME = \"/opt/homebrew/opt/openjdk\"\n",
        "RANDOM_SEED = 42 # for reproducibility\n",
        "os.environ[\"JAVA_HOME\"] = JAVA_HOME\n",
        "os.environ[\"PYSPARK_PYTHON\"]=\"python\""
      ]
    },
    {
      "cell_type": "code",
      "execution_count": 5,
      "metadata": {
        "id": "4m7VztzdZgm6"
      },
      "outputs": [
        {
          "name": "stderr",
          "output_type": "stream",
          "text": [
            "23/06/22 19:52:57 WARN Utils: Your hostname, MacBook-Air-di-Domiziano.local resolves to a loopback address: 127.0.0.1; using 192.168.1.175 instead (on interface en0)\n",
            "23/06/22 19:52:57 WARN Utils: Set SPARK_LOCAL_IP if you need to bind to another address\n",
            "Setting default log level to \"WARN\".\n",
            "To adjust logging level use sc.setLogLevel(newLevel). For SparkR, use setLogLevel(newLevel).\n",
            "23/06/22 19:52:58 WARN NativeCodeLoader: Unable to load native-hadoop library for your platform... using builtin-java classes where applicable\n",
            "23/06/22 19:52:58 WARN Utils: Service 'SparkUI' could not bind on port 4050. Attempting port 4051.\n"
          ]
        }
      ],
      "source": [
        "#@title Create the session\n",
        "conf = SparkConf().\\\n",
        "                set('spark.ui.port', \"4050\").\\\n",
        "                set('spark.executor.memory', '12G').\\\n",
        "                set('spark.driver.memory', '12G').\\\n",
        "                set('spark.driver.maxResultSize', '100G').\\\n",
        "                set(\"spark.executor.extraJavaOptions\", \"-XX:+UseG1GC\").\\\n",
        "                setAppName(\"PySparkTutorial\").\\\n",
        "                setMaster(\"local[*]\")\n",
        "\n",
        "# Create the context\n",
        "sc = pyspark.SparkContext(conf=conf)\n",
        "spark = SparkSession.builder.getOrCreate()"
      ]
    },
    {
      "cell_type": "code",
      "execution_count": 6,
      "metadata": {
        "colab": {
          "base_uri": "https://localhost:8080/"
        },
        "id": "vsX5d-YXZ2Ul",
        "outputId": "c30f0d6f-6673-49ea-88ab-39166ef7cbf0"
      },
      "outputs": [],
      "source": [
        "if not LOCAL:\n",
        "    drive.mount(GDRIVE_DIR, force_remount=True)"
      ]
    },
    {
      "cell_type": "code",
      "execution_count": 7,
      "metadata": {
        "cellView": "form",
        "colab": {
          "base_uri": "https://localhost:8080/"
        },
        "id": "jlxfJiBSZ6ju",
        "outputId": "f19702e4-4511-449b-fa52-afd7e4aadd4d"
      },
      "outputs": [
        {
          "data": {
            "text/plain": [
              "(<pyspark.sql.session.SparkSession at 0x161835480>,\n",
              " [('spark.executor.extraJavaOptions',\n",
              "   '-Djava.net.preferIPv6Addresses=false -XX:+IgnoreUnrecognizedVMOptions --add-opens=java.base/java.lang=ALL-UNNAMED --add-opens=java.base/java.lang.invoke=ALL-UNNAMED --add-opens=java.base/java.lang.reflect=ALL-UNNAMED --add-opens=java.base/java.io=ALL-UNNAMED --add-opens=java.base/java.net=ALL-UNNAMED --add-opens=java.base/java.nio=ALL-UNNAMED --add-opens=java.base/java.util=ALL-UNNAMED --add-opens=java.base/java.util.concurrent=ALL-UNNAMED --add-opens=java.base/java.util.concurrent.atomic=ALL-UNNAMED --add-opens=java.base/sun.nio.ch=ALL-UNNAMED --add-opens=java.base/sun.nio.cs=ALL-UNNAMED --add-opens=java.base/sun.security.action=ALL-UNNAMED --add-opens=java.base/sun.util.calendar=ALL-UNNAMED --add-opens=java.security.jgss/sun.security.krb5=ALL-UNNAMED -Djdk.reflect.useDirectMethodHandle=false -XX:+UseG1GC'),\n",
              "  ('spark.driver.port', '59874'),\n",
              "  ('spark.app.startTime', '1687456378005'),\n",
              "  ('spark.app.name', 'PySparkTutorial'),\n",
              "  ('spark.app.submitTime', '1687456377892'),\n",
              "  ('spark.app.id', 'local-1687456378495'),\n",
              "  ('spark.driver.host', '192.168.1.175'),\n",
              "  ('spark.executor.id', 'driver'),\n",
              "  ('spark.driver.extraJavaOptions',\n",
              "   '-Djava.net.preferIPv6Addresses=false -XX:+IgnoreUnrecognizedVMOptions --add-opens=java.base/java.lang=ALL-UNNAMED --add-opens=java.base/java.lang.invoke=ALL-UNNAMED --add-opens=java.base/java.lang.reflect=ALL-UNNAMED --add-opens=java.base/java.io=ALL-UNNAMED --add-opens=java.base/java.net=ALL-UNNAMED --add-opens=java.base/java.nio=ALL-UNNAMED --add-opens=java.base/java.util=ALL-UNNAMED --add-opens=java.base/java.util.concurrent=ALL-UNNAMED --add-opens=java.base/java.util.concurrent.atomic=ALL-UNNAMED --add-opens=java.base/sun.nio.ch=ALL-UNNAMED --add-opens=java.base/sun.nio.cs=ALL-UNNAMED --add-opens=java.base/sun.security.action=ALL-UNNAMED --add-opens=java.base/sun.util.calendar=ALL-UNNAMED --add-opens=java.security.jgss/sun.security.krb5=ALL-UNNAMED -Djdk.reflect.useDirectMethodHandle=false'),\n",
              "  ('spark.ui.port', '4050'),\n",
              "  ('spark.rdd.compress', 'True'),\n",
              "  ('spark.driver.memory', '12G'),\n",
              "  ('spark.serializer.objectStreamReset', '100'),\n",
              "  ('spark.master', 'local[*]'),\n",
              "  ('spark.submit.pyFiles', ''),\n",
              "  ('spark.driver.maxResultSize', '100G'),\n",
              "  ('spark.submit.deployMode', 'client'),\n",
              "  ('spark.executor.memory', '12G'),\n",
              "  ('spark.ui.showConsoleProgress', 'true')])"
            ]
          },
          "execution_count": 7,
          "metadata": {},
          "output_type": "execute_result"
        }
      ],
      "source": [
        "#@title Check if everything is ok\n",
        "spark, sc._conf.getAll()\n"
      ]
    },
    {
      "attachments": {},
      "cell_type": "markdown",
      "metadata": {
        "id": "VJeY9PpvaHUJ"
      },
      "source": [
        "# Data acquisition"
      ]
    },
    {
      "cell_type": "code",
      "execution_count": 8,
      "metadata": {
        "id": "icd2lj-RRvhU"
      },
      "outputs": [],
      "source": [
        "song_schema = StructType([\n",
        "    StructField(\"pos\", IntegerType(), True),\n",
        "    StructField(\"artist_name\", StringType(), True),\n",
        "    StructField(\"track_uri\", StringType(), True),\n",
        "    StructField(\"artist_uri\", StringType(), True),\n",
        "    StructField(\"track_name\", StringType(), True),\n",
        "    StructField(\"album_uri\", StringType(), True),\n",
        "    StructField(\"duration_ms\", LongType(), True),\n",
        "    StructField(\"album_name\", StringType(), True)\n",
        "])\n",
        "\n",
        "playlist_schema = StructType([\n",
        "    StructField(\"name\", StringType(), True),\n",
        "    StructField(\"collaborative\", StringType(), True),\n",
        "    StructField(\"pid\", IntegerType(), True),\n",
        "    StructField(\"modified_at\", IntegerType(), True),\n",
        "    StructField(\"num_tracks\", IntegerType(), True),\n",
        "    StructField(\"num_albums\", IntegerType(), True),\n",
        "    StructField(\"num_followers\", IntegerType(), True),\n",
        "    StructField(\"tracks\", ArrayType(song_schema), True),\n",
        "    StructField(\"num_edits\", IntegerType(), True),\n",
        "    StructField(\"duration_ms\", IntegerType(), True),\n",
        "    StructField(\"num_artists\", IntegerType(), True),\n",
        "])\n",
        "\n",
        "playlist_schema_mapped = StructType([\n",
        "    StructField(\"name\", StringType(), True),\n",
        "    StructField(\"collaborative\", StringType(), True),\n",
        "    StructField(\"pid\", IntegerType(), True),\n",
        "    StructField(\"modified_at\", IntegerType(), True),\n",
        "    StructField(\"num_tracks\", IntegerType(), True),\n",
        "    StructField(\"num_albums\", IntegerType(), True),\n",
        "    StructField(\"num_followers\", IntegerType(), True),\n",
        "    StructField(\"tracks\", VectorUDT(), True),\n",
        "    StructField(\"num_edits\", IntegerType(), True),\n",
        "    StructField(\"duration_ms\", IntegerType(), True),\n",
        "    StructField(\"num_artists\", IntegerType(), True),\n",
        "])\n",
        "\n",
        "audio_features_schema = StructType([\n",
        "    StructField(\"danceability\", FloatType(), True),\n",
        "    StructField(\"energy\", FloatType(), True),\n",
        "    StructField(\"key\", IntegerType(), True),\n",
        "    StructField(\"loudness\", FloatType(), True),\n",
        "    StructField(\"mode\", IntegerType(), True),\n",
        "    StructField(\"speechiness\", FloatType(), True),\n",
        "    StructField(\"acousticness\", FloatType(), True),\n",
        "    StructField(\"instrumentalness\", FloatType(), True),\n",
        "    StructField(\"liveness\", FloatType(), True),\n",
        "    StructField(\"valence\", FloatType(), True),\n",
        "    StructField(\"tempo\", FloatType(), True),\n",
        "    StructField(\"type\", StringType(), True),\n",
        "    StructField(\"id\", StringType(), True),\n",
        "    StructField(\"uri\", StringType(), True),\n",
        "    StructField(\"track_href\", StringType(), True),\n",
        "    StructField(\"analysis_url\", StringType(), True),\n",
        "    StructField(\"duration_ms\", LongType(), True),\n",
        "    StructField(\"time_signature\", IntegerType(), True)\n",
        "])\n",
        "\n",
        "\n"
      ]
    },
    {
      "cell_type": "code",
      "execution_count": 9,
      "metadata": {
        "id": "BY_szFyLTps4"
      },
      "outputs": [
        {
          "name": "stderr",
          "output_type": "stream",
          "text": [
            "23/06/22 19:53:15 WARN GarbageCollectionMetrics: To enable non-built-in garbage collector(s) List(G1 Concurrent GC), users should configure it(them) to spark.eventLog.gcMetrics.youngGenerationGarbageCollectors or spark.eventLog.gcMetrics.oldGenerationGarbageCollectors\n"
          ]
        }
      ],
      "source": [
        "# playlist_df = spark.read.schema(playlist_schema).json(DATASET_FILE, multiLine=True)\n",
        "slice_df = spark.read.schema(playlist_schema).json(SMALL_SLICE_FLIE, multiLine=True)\n",
        "# slice_df = spark.read.schema(playlist_schema).json(LITTLE_SLICE_FILE, multiLine=True)\n",
        "# audio_df = spark.read.schema(audio_features_schema).json(SPLITTED_SLICE_AUDIO_FEATURES, multiLine=True) #has less songs than expected"
      ]
    },
    {
      "attachments": {},
      "cell_type": "markdown",
      "metadata": {
        "id": "p211b9samoI9"
      },
      "source": [
        "# Item-Based Collaborative Filtering"
      ]
    },
    {
      "attachments": {},
      "cell_type": "markdown",
      "metadata": {
        "id": "1pR8c5Ro5_DI"
      },
      "source": [
        "Item-Based Collaboartive Filtering is the \"transpose\" approach to user-based CF. This time we won't consider the users' feature vectors, but the items'.\n",
        "An item's rating vector $\\mathbf{r}_i$ is the vector of ratings given to the item $i$ for all the users.\n",
        "\n",
        "Let $m$ be the number of users, $n$ the number of playlists, then $\\mathbf{r}_i \\in \\mathbb{R}^m$ and $\\mathbf{R} \\in \\mathbb{R}^{m \\times n}$.\n",
        "\n",
        "In order to make a prediction, we take the set of items $I_u$ rated by the user $u$, and we compute the set $I^k_u$ of the top-$k$ most similar items to $i$ rated by $u$, for each item $i \\in I_u$. Once done that, we average the $k$ rating vectors weighting them by their respective similarity."
      ]
    },
    {
      "cell_type": "code",
      "execution_count": 10,
      "metadata": {
        "id": "wSg4hiaeewgY"
      },
      "outputs": [],
      "source": [
        "DEBUG = True"
      ]
    },
    {
      "cell_type": "code",
      "execution_count": 12,
      "metadata": {
        "id": "dXUCLE9XSKsi"
      },
      "outputs": [
        {
          "name": "stderr",
          "output_type": "stream",
          "text": [
            "                                                                                \r"
          ]
        }
      ],
      "source": [
        "NUM_PLAYLISTS = 100_000\n",
        "SONGS_EMBEDDINGS_PATH = os.path.join(SAVED_DFS_PATH, f\"songs_embeddings-train-{NUM_PLAYLISTS}.json\")\n",
        "SONGS_INFO_DF = os.path.join(SAVED_DFS_PATH, f\"songs_info_df-train-{NUM_PLAYLISTS}.json\") #TODO: Little bug this is songs_df, meaning it hasn't got any info, but we don't actually care.\n",
        "RATING_VECTOR_LENGTH_PATH = os.path.join(SAVED_DFS_PATH, f\"songs_vector_length-{NUM_PLAYLISTS}.txt\")\n",
        "with open(RATING_VECTOR_LENGTH_PATH, \"r\") as f:\n",
        "  RATING_VECTOR_LENGTH = int(f.read())\n",
        "\n",
        "songs_embeddings = spark.read.schema(playlist_schema_mapped).json(SONGS_EMBEDDINGS_PATH)\n",
        "songs_df = spark.read.json(SONGS_INFO_DF)\n",
        "\n",
        "playlist_map_schema = StructType([\n",
        "    StructField(\"track_uri\", StringType(), True),\n",
        "    StructField(\"embedding\", VectorUDT(), True)\n",
        "])\n",
        "PLAYLIST_MAP_PATH = os.path.join(SAVED_DFS_PATH, f\"playlist_map-{NUM_PLAYLISTS}.json\")\n",
        "playlist_map = spark.read.schema(playlist_map_schema).json(PLAYLIST_MAP_PATH)"
      ]
    },
    {
      "cell_type": "code",
      "execution_count": 13,
      "metadata": {
        "id": "HnchIh93YdaU"
      },
      "outputs": [],
      "source": [
        "TRAIN_DF_PATH = os.path.join(SAVED_DFS_PATH, f\"train_df-{NUM_PLAYLISTS}.json\")\n",
        "TEST_DF_PATH = os.path.join(SAVED_DFS_PATH, f\"test_df-{NUM_PLAYLISTS}.json\")\n",
        "\n",
        "train_df = spark.read.schema(playlist_schema).json(TRAIN_DF_PATH)\n",
        "test_df = spark.read.schema(playlist_schema).json(TEST_DF_PATH)"
      ]
    },
    {
      "cell_type": "code",
      "execution_count": 14,
      "metadata": {
        "id": "eaPyxrxMZClT"
      },
      "outputs": [],
      "source": [
        "def jaccard_similarity(vector_1: SparseVector, vector_2: SparseVector) -> float:\n",
        "  \"\"\"\n",
        "  Computes the Jaccard Similarity between two sparse binary vectors\n",
        "  \"\"\"\n",
        "  # Convert SparseVectors to sets\n",
        "  set1 = set(vector_1.indices)\n",
        "  set2 = set(vector_2.indices)\n",
        "\n",
        "  # Calculate the intersection and union of the sets\n",
        "  intersection = len(set1.intersection(set2))\n",
        "  union = len(set1.union(set2))\n",
        "\n",
        "  # Calculate the similarity\n",
        "  similarity = intersection / union\n",
        "\n",
        "  return similarity"
      ]
    },
    {
      "attachments": {},
      "cell_type": "markdown",
      "metadata": {
        "id": "Z2QVHgY4WRJX"
      },
      "source": [
        "The similarity between each couple is intractable, we can cluster the similar tracks in buckets using Locally Sensitive Hashing."
      ]
    },
    {
      "cell_type": "code",
      "execution_count": 15,
      "metadata": {
        "colab": {
          "base_uri": "https://localhost:8080/"
        },
        "id": "roOL0ckQgNKP",
        "outputId": "1b290c0c-07b4-4bfa-ede4-da4347b89895"
      },
      "outputs": [
        {
          "name": "stdout",
          "output_type": "stream",
          "text": [
            "+------------------------------------+---------------------------------------------------------------------------------+---------------------------------------------------------------------------------------------------------------------------------------------------------------------+\n",
            "|track_uri                           |embedding                                                                        |hashes                                                                                                                                                               |\n",
            "+------------------------------------+---------------------------------------------------------------------------------+---------------------------------------------------------------------------------------------------------------------------------------------------------------------+\n",
            "|spotify:track:001BVhvaZTf2icV88rU3DA|(100001,[7109,25065,41600,60248,61080,65885,70937],[1.0,1.0,1.0,1.0,1.0,1.0,1.0])|[[4.00933355E8], [4.2872879E7], [1.7747882E7], [6.5529407E7], [2.06200881E8], [9.0598778E7], [2.94620014E8], [1.30281495E8], [1.82888734E8], [1.79461294E8]]         |\n",
            "|spotify:track:001FDA7MOimDoqBXGacavu|(100001,[80892],[1.0])                                                           |[[2.28862656E8], [1.39707995E9], [1.541290713E9], [1.706772564E9], [1.778831741E9], [7.10558364E8], [6.53675556E8], [1.834078889E9], [4.95048196E8], [7.31685626E8]] |\n",
            "|spotify:track:001PiA7wBB842OidKuKCV2|(100001,[50317,63461],[1.0,1.0])                                                 |[[9.52539516E8], [8.6186697E7], [1.9593101E8], [8.53174899E8], [1.008077391E9], [1.91506357E8], [3.30202126E8], [2.33746647E8], [9.32353072E8], [9.5608732E8]]       |\n",
            "|spotify:track:0039z1iKWagN3YYLw1Qqi9|(100001,[7021],[1.0])                                                            |[[7.94067528E8], [4.10674645E8], [1.853799798E9], [1.919475029E9], [1.098160612E9], [1.86712026E8], [5.19395916E8], [1.813054792E9], [2.40302232E8], [2.86275201E8]] |\n",
            "|spotify:track:003CT3fPlZFHo500jSJthh|(100001,[52415],[1.0])                                                           |[[1.97797242E9], [1.327125066E9], [1.701352963E9], [1.480675008E9], [1.90252502E9], [7.7253403E7], [1.708559539E9], [1.17816421E8], [1.219705753E9], [1.323249096E9]]|\n",
            "|spotify:track:0046NsE3QgADqnrV1NDhzJ|(100001,[44691,88308],[1.0,1.0])                                                 |[[9.8794673E8], [9.634187E7], [7.70818516E8], [3.14822389E8], [5.4462769E8], [4.86147892E8], [2.66526803E8], [1.88785869E8], [1.151349353E9], [9.99959825E8]]        |\n",
            "|spotify:track:004CeZtRE4wBNmL0eKk56R|(100001,[78197],[1.0])                                                           |[[1.796434206E9], [3.7131485E8], [4.1941953E8], [1.803178018E9], [7.49349774E8], [7.6792563E8], [1.84500857E9], [1.547483144E9], [1.069192667E9], [1.172568778E9]]   |\n",
            "|spotify:track:004NPTN9NrUPXnAOBQWW9W|(100001,[4159],[1.0])                                                            |[[1.551284628E9], [4.89741718E8], [7.017347E8], [1.170324843E9], [5.3274272E8], [1.836500579E9], [1.613640886E9], [1.361232307E9], [4.27284679E8], [1.444171953E9]]  |\n",
            "|spotify:track:005PhwLfFyij1gNvlxeHds|(100001,[85373],[1.0])                                                           |[[1.02924638E8], [7.24244457E8], [2.021954875E9], [9.6760645E7], [1.286868436E9], [4.9503586E7], [1.476984614E9], [1.898451727E9], [6.68727655E8], [6.40675627E8]]   |\n",
            "|spotify:track:005c2319jh47WwCfezqhms|(100001,[5737,26524],[1.0,1.0])                                                  |[[5.6275443E7], [2.28239722E8], [4.86674421E8], [4.23221783E8], [7.97493419E8], [3.97054756E8], [1.33503974E9], [2.13179629E8], [8.02731194E8], [8.55760733E8]]      |\n",
            "|spotify:track:006irtbNebXAoxDseOQjq1|(100001,[40014],[1.0])                                                           |[[1.96900804E9], [1.065135309E9], [4.502271E7], [4938584.0], [1.739893572E9], [7.40524249E8], [1.516368782E9], [1.956364925E9], [8.20013348E8], [1.503708204E9]]     |\n",
            "|spotify:track:006yqigW4M16IRInOWX3sr|(100001,[53178],[1.0])                                                           |[[3.96020813E8], [6.11733364E8], [1.18535109E8], [5.11102284E8], [2.003415523E9], [5.26857417E8], [7.73084878E8], [7.01858075E8], [5.96603805E8], [1.574280377E9]]   |\n",
            "|spotify:track:007HyZl1LXuX1mR1JlRB3r|(100001,[5765],[1.0])                                                            |[[1.18019604E8], [1.641727689E9], [8.21245964E8], [9.29864269E8], [9.88175157E8], [8.62304388E8], [1.095033127E9], [5.33779285E8], [8.92052668E8], [1.74882222E8]]   |\n",
            "|spotify:track:007SutdC0rVG2CSkuQMtJw|(100001,[28490,29954,77877,81664,90888,98739],[1.0,1.0,1.0,1.0,1.0,1.0])         |[[2.96658045E8], [2.30611065E8], [6.0556718E7], [3.67831334E8], [4.8514827E7], [1.09243534E8], [2.1261802E7], [1.1789573E8], [1.7266551E8], [1.05678978E8]]          |\n",
            "|spotify:track:007ZqpuFhPQkSQDIQu0jTl|(100001,[24445],[1.0])                                                           |[[6.83237855E8], [4.29215452E8], [1.586960558E9], [1.48207463E8], [9.2579377E7], [5.89451625E8], [1.984240294E9], [1.295162377E9], [1.960375559E9], [1.312332007E9]] |\n",
            "|spotify:track:0087fDVeNhuyMtST91RMjv|(100001,[3054,15126,22409,51900,76553,77840],[1.0,1.0,1.0,1.0,1.0,1.0])          |[[4.42444855E8], [9.9408714E7], [4.24448075E8], [1.035892514E9], [3.26288513E8], [5.5777859E7], [3.19424714E8], [1.10656029E8], [1.3558944E7], [4.9343729E7]]        |\n",
            "|spotify:track:009aJqwtazpcpmOW3YbwDx|(100001,[12483,24103,58938,86619],[1.0,1.0,1.0,1.0])                             |[[6.7941117E8], [1.106326751E9], [2.32446905E8], [3.6451711E8], [3.83919961E8], [1.54686687E8], [3.1408975E8], [5.90263585E8], [5.67383762E8], [2.09209614E8]]       |\n",
            "|spotify:track:009n0zqtbcRTL7T4TiGf41|(100001,[63483],[1.0])                                                           |[[1.937983704E9], [4.61632015E8], [8.95538953E8], [1.503709458E9], [4.11758862E8], [8.48213174E8], [5.88812264E8], [1.94492842E8], [1.006477169E9], [5.19917308E8]]  |\n",
            "|spotify:track:00AJHbqsncKqA6FSnz5o5p|(100001,[75865],[1.0])                                                           |[[1.281162171E9], [2.020909117E9], [1.669743063E9], [5.8888535E8], [5.90575898E8], [4.5154429E8], [1.453383337E9], [1.632236988E9], [6.17674737E8], [5.30870961E8]]  |\n",
            "|spotify:track:00BsdsY1DUzykUTs9yyu4S|(100001,[65347],[1.0])                                                           |[[1.500358671E9], [5.16953534E8], [1.623082961E9], [1.544417008E9], [3805501.0], [1.831731743E9], [9.15827114E8], [5.74215442E8], [1.129664601E9], [6.20326164E8]]   |\n",
            "+------------------------------------+---------------------------------------------------------------------------------+---------------------------------------------------------------------------------------------------------------------------------------------------------------------+\n",
            "only showing top 20 rows\n",
            "\n"
          ]
        }
      ],
      "source": [
        "from pyspark.ml.feature import MinHashLSH, MinHashLSHModel\n",
        "\n",
        "NUM_HASH_TABLES = 10\n",
        "LSH_MODEL_PATH = os.path.join(SAVED_DFS_PATH, f\"lsh_model-{NUM_HASH_TABLES}-{NUM_PLAYLISTS}.pickle\")\n",
        "if os.path.exists(LSH_MODEL_PATH):\n",
        "  model = MinHashLSHModel.load(LSH_MODEL_PATH)\n",
        "else:\n",
        "  mh = MinHashLSH(inputCol=\"embedding\", outputCol=\"hashes\", numHashTables=NUM_HASH_TABLES)\n",
        "  model = mh.fit(playlist_map)\n",
        "  model.save(LSH_MODEL_PATH)\n",
        "\n",
        "model.transform(playlist_map).show(truncate=False)"
      ]
    },
    {
      "attachments": {},
      "cell_type": "markdown",
      "metadata": {
        "id": "Co6K7luPdWoO"
      },
      "source": [
        "Since the MinHasLSH model is not so fast, let's try with another type of LSH model"
      ]
    },
    {
      "cell_type": "code",
      "execution_count": 21,
      "metadata": {
        "id": "gv3f7k0vdbaO"
      },
      "outputs": [],
      "source": [
        "# from pyspark.ml.feature import BucketedRandomProjectionLSH, BucketedRandomProjectionLSHModel\n",
        "\n",
        "# BRP_LSH_MODEL_PATH = os.path.join(SAVED_DFS_PATH, f\"brp_lsh_model-{NUM_PLAYLISTS}.pickle\")\n",
        "# if os.path.exists(BRP_LSH_MODEL_PATH):\n",
        "#   model = BucketedRandomProjectionLSHModel.load(BRP_LSH_MODEL_PATH)\n",
        "# else:\n",
        "#   brp = BucketedRandomProjectionLSH(inputCol=\"embedding\", outputCol=\"hashes\", numHashTables=5, bucketLength=1.0)\n",
        "#   model = brp.fit(playlist_map)\n",
        "#   model.save(BRP_LSH_MODEL_PATH)\n",
        "\n",
        "# model.transform(playlist_map).show()"
      ]
    },
    {
      "cell_type": "code",
      "execution_count": 16,
      "metadata": {
        "id": "rPFF6Xwj8wed"
      },
      "outputs": [
        {
          "name": "stderr",
          "output_type": "stream",
          "text": [
            "[Stage 7:==========================>                                (4 + 5) / 9]\r"
          ]
        },
        {
          "name": "stdout",
          "output_type": "stream",
          "text": [
            "+--------------------+--------------------+--------------------+------------------+------------------+\n",
            "|           track_uri|           embedding|              hashes|       squared_sum|               sum|\n",
            "+--------------------+--------------------+--------------------+------------------+------------------+\n",
            "|spotify:track:4OE...|(100001,[70937],[...|[[6.53736303E8], ...|1.4693877551020411|1.7142857142857144|\n",
            "|spotify:track:558...|(100001,[65885],[...|[[4.00933355E8], ...|1.4693877551020411|1.7142857142857144|\n",
            "|spotify:track:50r...|(100001,[70937],[...|[[6.53736303E8], ...|1.4693877551020411|1.7142857142857144|\n",
            "|spotify:track:2Eh...|(100001,[70937],[...|[[6.53736303E8], ...|1.4693877551020411|1.7142857142857144|\n",
            "|spotify:track:3lk...|(100001,[70937],[...|[[6.53736303E8], ...|1.4693877551020411|1.7142857142857144|\n",
            "|spotify:track:3Ff...|(100001,[65885],[...|[[4.00933355E8], ...|1.4693877551020411|1.7142857142857144|\n",
            "|spotify:track:3De...|(100001,[70937],[...|[[6.53736303E8], ...|1.4693877551020411|1.7142857142857144|\n",
            "|spotify:track:001...|(100001,[7109,250...|[[4.00933355E8], ...|               0.0|               0.0|\n",
            "|spotify:track:1iO...|(100001,[65885],[...|[[4.00933355E8], ...|1.4693877551020411|1.7142857142857144|\n",
            "|spotify:track:6ku...|(100001,[61080],[...|[[6.51048304E8], ...|1.4693877551020411|1.7142857142857144|\n",
            "+--------------------+--------------------+--------------------+------------------+------------------+\n",
            "\n"
          ]
        },
        {
          "name": "stderr",
          "output_type": "stream",
          "text": [
            "                                                                                \r"
          ]
        }
      ],
      "source": [
        "#TODO: Remove this once tested\n",
        "def transform_to_aggregate(df: DataFrame) -> DataFrame:\n",
        "  \"\"\"\n",
        "  Transforms the dataframe in order to be compatible for the union with an aggregate df.\n",
        "  \"\"\"\n",
        "  return df.withColumn(\"sum\", F.col(\"distCol\")).withColumnRenamed(\"distCol\", \"squared_sum\")\n",
        "\n",
        "def merge_aggregate_df(aggregate_df: DataFrame, other_df: DataFrame) -> DataFrame:\n",
        "  \"\"\"\n",
        "  Sums an aggregate df (track_uri, embedding, hashes, squared_sum, sum)\n",
        "  with a simple df (track_uri, embedding, hashes, distCol).\n",
        "  \"\"\"\n",
        "  other_df = transform_to_aggregate(other_df)\n",
        "  merged_df = aggregate_df.unionAll(other_df)\n",
        "  return merged_df.groupBy(\"track_uri\", \"embedding\", \"hashes\").agg(\n",
        "    F.sum(F.pow(\"squared_sum\", 2)).alias(\"squared_sum\"),\n",
        "    F.sum(\"sum\").alias(\"sum\"))\n",
        "\n",
        "if DEBUG:\n",
        "  key = playlist_map.first()[1]\n",
        "  neigh = model.approxNearestNeighbors(playlist_map, key, 10)\n",
        "  merged_df_2 = merge_aggregate_df(transform_to_aggregate(neigh), neigh)\n",
        "  merged_df_2.show() "
      ]
    },
    {
      "cell_type": "code",
      "execution_count": 20,
      "metadata": {
        "id": "XmUp55bUg8f9"
      },
      "outputs": [
        {
          "name": "stderr",
          "output_type": "stream",
          "text": [
            "[Stage 19:>                                                         (0 + 8) / 9]\r"
          ]
        },
        {
          "name": "stdout",
          "output_type": "stream",
          "text": [
            "{'spotify:track:001BVhvaZTf2icV88rU3DA': [0.0, 0.0], 'spotify:track:1iO2inxYIzmPnMuDFfU1Rl': [0.8571428571428572, 0.8571428571428572], 'spotify:track:3Ff2kaO1uxXjd9HkHfMw4h': [0.8571428571428572, 0.8571428571428572], 'spotify:track:2EhgEpfn3U0lmpryqDujwt': [0.8571428571428572, 0.8571428571428572], 'spotify:track:3lkFKOOQRp1AqWk2PPAW6B': [0.8571428571428572, 0.8571428571428572], 'spotify:track:4OEHuq3q8kjkPS1jKI96JP': [0.8571428571428572, 0.8571428571428572], 'spotify:track:6kucDoXP5pBdFA7GxwgFP2': [0.8571428571428572, 0.8571428571428572], 'spotify:track:3DeMqzJj9477nCcyTXl3Ye': [0.8571428571428572, 0.8571428571428572], 'spotify:track:558Km9MuklF6yKJDVVjIli': [0.8571428571428572, 0.8571428571428572], 'spotify:track:50r5hQgwJ61tCwEL1maGsG': [0.8571428571428572, 0.8571428571428572]}\n"
          ]
        },
        {
          "name": "stderr",
          "output_type": "stream",
          "text": [
            "                                                                                \r"
          ]
        }
      ],
      "source": [
        "def df_to_dict(df: DataFrame) -> DataFrame:\n",
        "  return df.select(\"track_uri\", \"distCol\").rdd.collectAsMap()\n",
        "\n",
        "def merge_dicts(d1: Dict[str, float], d2: Dict[str, float]) -> Dict[str, float]:\n",
        "  for key, value in d2.items():\n",
        "    if key in d1:\n",
        "      if type(d1[key]) is float:\n",
        "        d1[key] = [d1[key]]\n",
        "      d1[key] += [value]\n",
        "    else:\n",
        "      d1[key] = [value]\n",
        "  return d1\n",
        "\n",
        "if DEBUG:\n",
        "  key = playlist_map.first()[1]\n",
        "  neigh = model.approxNearestNeighbors(playlist_map, key, 10).cache()\n",
        "  merged_df_2 = merge_dicts(df_to_dict(neigh), df_to_dict(neigh))\n",
        "  print(merged_df_2)"
      ]
    },
    {
      "cell_type": "code",
      "execution_count": 23,
      "metadata": {
        "id": "p6sFCM6RG5Y1"
      },
      "outputs": [
        {
          "data": {
            "application/vnd.jupyter.widget-view+json": {
              "model_id": "07ce2f2b267d4274b5462df8a86fe056",
              "version_major": 2,
              "version_minor": 0
            },
            "text/plain": [
              "Extracting k-neighbors:   0%|          | 0/21 [00:00<?, ?it/s]"
            ]
          },
          "metadata": {},
          "output_type": "display_data"
        },
        {
          "name": "stderr",
          "output_type": "stream",
          "text": [
            "Exception in thread \"serve RDD 112\" java.net.SocketTimeoutException: Accept timed out\n",
            "\tat java.base/sun.nio.ch.NioSocketImpl.timedAccept(NioSocketImpl.java:694)\n",
            "\tat java.base/sun.nio.ch.NioSocketImpl.accept(NioSocketImpl.java:738)\n",
            "\tat java.base/java.net.ServerSocket.implAccept(ServerSocket.java:690)\n",
            "\tat java.base/java.net.ServerSocket.platformImplAccept(ServerSocket.java:655)\n",
            "\tat java.base/java.net.ServerSocket.implAccept(ServerSocket.java:631)\n",
            "\tat java.base/java.net.ServerSocket.implAccept(ServerSocket.java:588)\n",
            "\tat java.base/java.net.ServerSocket.accept(ServerSocket.java:546)\n",
            "\tat org.apache.spark.security.SocketAuthServer$$anon$1.run(SocketAuthServer.scala:65)\n",
            "Exception in thread \"serve RDD 138\" java.net.SocketTimeoutException: Accept timed out\n",
            "\tat java.base/sun.nio.ch.NioSocketImpl.timedAccept(NioSocketImpl.java:694)\n",
            "\tat java.base/sun.nio.ch.NioSocketImpl.accept(NioSocketImpl.java:738)\n",
            "\tat java.base/java.net.ServerSocket.implAccept(ServerSocket.java:690)\n",
            "\tat java.base/java.net.ServerSocket.platformImplAccept(ServerSocket.java:655)\n",
            "\tat java.base/java.net.ServerSocket.implAccept(ServerSocket.java:631)\n",
            "\tat java.base/java.net.ServerSocket.implAccept(ServerSocket.java:588)\n",
            "\tat java.base/java.net.ServerSocket.accept(ServerSocket.java:546)\n",
            "\tat org.apache.spark.security.SocketAuthServer$$anon$1.run(SocketAuthServer.scala:65)\n",
            "                                                                                \r"
          ]
        }
      ],
      "source": [
        "def extract_similar_songs(playlist_tracks: DataFrame, playlist_map, model, k=10, disable_pbar=False) -> DataFrame:\n",
        "  aggregate_df = None\n",
        "  tracks_embedding = playlist_map.join(F.broadcast(playlist_tracks), \"track_uri\").select(\"track_uri\", \"embedding\")\n",
        "  transformed_tracks_embeddings = model.transform(tracks_embedding).cache()\n",
        "  k_neighs = []\n",
        "\n",
        "  for row in tqdm(tracks_embedding.collect(), desc='Extracting k-neighbors', disable=disable_pbar):\n",
        "    k_neigh = model.approxNearestNeighbors(playlist_map, row[\"embedding\"], k).cache()\n",
        "    k_neighs.append(df_to_dict(k_neigh))\n",
        "\n",
        "  aggregate_df = reduce(merge_dicts, k_neighs)\n",
        "\n",
        "  transformed_tracks_embeddings.unpersist()\n",
        "  return aggregate_df\n",
        "\n",
        "if DEBUG:\n",
        "  # first_playlist = train_df.limit(1).select(F.explode(\"tracks\")).select(\"col.*\").distinct()\n",
        "  first_playlist = train_df.filter(\"pid == 1005\").select(F.explode(\"tracks\")).select(\"col.*\").distinct()\n",
        "  recommendations = extract_similar_songs(first_playlist, playlist_map, model, k=10)"
      ]
    },
    {
      "attachments": {},
      "cell_type": "markdown",
      "metadata": {
        "id": "L-zF2NSClWaV"
      },
      "source": [
        "We are safe by using python dictionaries since the data will be very small, and so dictionaries will be faster than pyspark dataframes."
      ]
    },
    {
      "cell_type": "code",
      "execution_count": 25,
      "metadata": {
        "id": "FRs9DULWlMvl"
      },
      "outputs": [
        {
          "name": "stdout",
          "output_type": "stream",
          "text": [
            "The reccomendation dictionary is 4.696 KB\n"
          ]
        }
      ],
      "source": [
        "if DEBUG:\n",
        "  import sys\n",
        "  print(f\"The reccomendation dictionary is {sys.getsizeof(recommendations) / 1_000} KB\")"
      ]
    },
    {
      "cell_type": "code",
      "execution_count": 26,
      "metadata": {
        "id": "QbBeYNhKqJgM"
      },
      "outputs": [
        {
          "name": "stderr",
          "output_type": "stream",
          "text": [
            "                                                                                \r"
          ]
        },
        {
          "name": "stdout",
          "output_type": "stream",
          "text": [
            "+------------------------------------+----------+\n",
            "|track_uri                           |distance  |\n",
            "+------------------------------------+----------+\n",
            "|spotify:track:4Hj5yNHgu2dyrnzRQN7Gld|0.0       |\n",
            "|spotify:track:1jNyxG5S2P9gztbfAnrq85|0.84      |\n",
            "|spotify:track:34yAAS72vZUXvsQPHGZexE|0.85714287|\n",
            "|spotify:track:7yQ2NWAIeDcIEauyVG5lck|0.884058  |\n",
            "|spotify:track:0GS2K1xle0UpcAWa3u4BnG|0.88461536|\n",
            "|spotify:track:366DLDHAnvMnHP5ECYt4N7|0.8901099 |\n",
            "|spotify:track:7sdqtgsO9zxvKdrrVDpaNu|0.9027778 |\n",
            "|spotify:track:45oGS3iHeT2cvkihSP7KzK|0.9041096 |\n",
            "|spotify:track:2TLlFL6dpycifLqKtTE7UZ|0.91463417|\n",
            "|spotify:track:4wlR30YY9mb1CsQkf9eoTP|0.9411765 |\n",
            "|spotify:track:53mrVsi49rLHIaKBiSvElG|0.0       |\n",
            "|spotify:track:2ekn2ttSfGqwhhate0LSR0|0.89898324|\n",
            "|spotify:track:2771LMNxwf62FTAdpJMQfM|0.8064928 |\n",
            "|spotify:track:7nZmah2llfvLDiUjm0kiyz|0.9093615 |\n",
            "|spotify:track:4xBjsLUSjcx2h7PcRikpQp|0.93406594|\n",
            "|spotify:track:3ojTJaonfkL96iIWa47SU3|0.93568146|\n",
            "|spotify:track:7wGoVu4Dady5GV0Sv4UIsx|0.8632018 |\n",
            "|spotify:track:4knL4iPxPOZjQzTUlELGSY|0.46948642|\n",
            "|spotify:track:3hBBKuWJfxlIlnd9QFoC8k|0.8950644 |\n",
            "|spotify:track:7vGuf3Y35N4wmASOKLUVVU|0.89541465|\n",
            "+------------------------------------+----------+\n",
            "only showing top 20 rows\n",
            "\n"
          ]
        },
        {
          "name": "stderr",
          "output_type": "stream",
          "text": [
            "                                                                                \r"
          ]
        },
        {
          "name": "stdout",
          "output_type": "stream",
          "text": [
            "+---+---------------+------------------------------------+-------------------------------------+-----------------------------------------------------+------------------------------------+-----------+-----------------------------------------------------+\n",
            "|pos|artist_name    |track_uri                           |artist_uri                           |track_name                                           |album_uri                           |duration_ms|album_name                                           |\n",
            "+---+---------------+------------------------------------+-------------------------------------+-----------------------------------------------------+------------------------------------+-----------+-----------------------------------------------------+\n",
            "|18 |Aminé          |spotify:track:4Hj5yNHgu2dyrnzRQN7Gld|spotify:artist:3Gm5F95VdRxW3mqCn8RPBJ|Yellow                                               |spotify:album:3lajefIuUk4SfzqVBSJy8p|180000     |Good For You                                         |\n",
            "|10 |Macklemore     |spotify:track:7bsnTsbiwOymZWjPF9v6Di|spotify:artist:3JhNCzhSMTxs9WLGJJxWOY|Marmalade (feat. Lil Yachty)                         |spotify:album:72qA6s4fjF8Y2VX1UDMfp2|261614     |GEMINI                                               |\n",
            "|24 |Yo Gotti       |spotify:track:4knL4iPxPOZjQzTUlELGSY|spotify:artist:6Ha4aES39QiVjR0L2lwuwq|Rake It Up                                           |spotify:album:1tSsb3t0pqVVONvBJivoT9|276333     |I Still Am                                           |\n",
            "|20 |Post Malone    |spotify:track:75ZvA4QfFiZvzhj2xkaWAh|spotify:artist:246dkjvS1zLTtiykXe5h60|I Fall Apart                                         |spotify:album:5s0rmjP8XOPhP6HhqOhuyC|223346     |Stoney                                               |\n",
            "|6  |Liam Payne     |spotify:track:6EpRaXYhGOB3fj4V2uDkMJ|spotify:artist:5pUo3fmmHT8bhCyHE52hA6|Strip That Down                                      |spotify:album:2mnDyPSNM02LMvniaMWnLl|204502     |Strip That Down                                      |\n",
            "|1  |Louis Tomlinson|spotify:track:7F9vK8hNFMml4GtHsaXui6|spotify:artist:57WHJIHrjOE3iAxpihhMnp|Back to You (feat. Bebe Rexha & Digital Farm Animals)|spotify:album:4sBgGazGb7S9ZUQJu2Y0qa|190427     |Back to You (feat. Bebe Rexha & Digital Farm Animals)|\n",
            "|4  |Macklemore     |spotify:track:0CokSRCu5hZgPxcZBaEzVE|spotify:artist:3JhNCzhSMTxs9WLGJJxWOY|Glorious (feat. Skylar Grey)                         |spotify:album:72qA6s4fjF8Y2VX1UDMfp2|220454     |GEMINI                                               |\n",
            "|22 |Kid Ink        |spotify:track:6xE3hDdo29VhAfsL7LrxcY|spotify:artist:6KZDXtSj0SzGOV705nNeh3|No Strings                                           |spotify:album:5TeAtFCYpc0WELiph7eiAg|211626     |7 Series                                             |\n",
            "|19 |Big Sean       |spotify:track:0Fv5N0cHBsl4bzCbollCAS|spotify:artist:0c173mlxpT3dSFRgMO8XPh|Moves                                                |spotify:album:0XAIjjN5qxViVS0Y5fYkar|142906     |I Decided.                                           |\n",
            "|11 |Selena Gomez   |spotify:track:0XLOf9LhyazPX9Ld8jPiUq|spotify:artist:0C8ZW7ezQVs4URX5aX7Kqx|Fetish (feat. Gucci Mane)                            |spotify:album:5EyHUMTzKoo7in8U4EfYjY|186112     |Fetish (feat. Gucci Mane)                            |\n",
            "|23 |Kodak Black    |spotify:track:0bXFIF7iL17TYLyx8JHziM|spotify:artist:46SHBwWsqBkxI7EeeBEQG7|Patty Cake                                           |spotify:album:5mG8oNkNKM2my7t9ywra96|198109     |Painting Pictures                                    |\n",
            "|7  |blackbear      |spotify:track:53mrVsi49rLHIaKBiSvElG|spotify:artist:2cFrymmkijnjDg9SS92EPM|do re mi (feat. Gucci Mane)                          |spotify:album:7v20RlVibTDdhbbtSBjS9b|233705     |do re mi (feat. Gucci Mane)                          |\n",
            "|5  |Logic          |spotify:track:5tz69p7tJuGPeMGwNTxYuV|spotify:artist:4xRYI6VqpkE3UwrDrAZL8L|1-800-273-8255                                       |spotify:album:1HiN2YXZcc3EjmVZ4WjfBk|250173     |Everybody                                            |\n",
            "|27 |Bebe Rexha     |spotify:track:6Pw3Gvw4wNMZfTYZa6IQal|spotify:artist:64M6ah0SkkRsnPGtGiRAbb|The Way I Are (Dance With Somebody) [feat. Lil Wayne]|spotify:album:4eDxmXSdCErBVeu2cRZ5hP|187787     |The Way I Are (Dance With Somebody) [feat. Lil Wayne]|\n",
            "|15 |Lil Uzi Vert   |spotify:track:2eAZfqOm4EnOF9VvN50Tyc|spotify:artist:4O15NlyKLIASxsJ0PrXPfz|The Way Life Goes (feat. Oh Wonder)                  |spotify:album:733e1ZfktLSwj96X5rsMeE|221746     |Luv Is Rage 2                                        |\n",
            "|13 |Jonas Blue     |spotify:track:0NiXXAI876aGImAd6rTj8w|spotify:artist:1HBjj22wzbscIZ9sEb5dyf|Mama                                                 |spotify:album:0zMLyv1kNV2B0LDGEK2RbB|181614     |Jonas Blue: Electronic Nature - The Mix 2017         |\n",
            "|16 |Rachel Platten |spotify:track:5fiXA27viyX9WkPSHNr4HZ|spotify:artist:3QLIkT4rD2FMusaqmkepbq|Broken Glass                                         |spotify:album:1mH4ntQRUk1akxx6WNST8q|179680     |Waves                                                |\n",
            "|2  |Khalid         |spotify:track:5Z3GHaZ6ec9bsiI5BenrbY|spotify:artist:6LuN9FCkKOj5PcnpouEgny|Young Dumb & Broke                                   |spotify:album:6kf46HbnYCZzP6rjvQHYzg|202546     |American Teen                                        |\n",
            "|26 |Lil Uzi Vert   |spotify:track:1uL78kFWxhz3umTMWJu8n5|spotify:artist:4O15NlyKLIASxsJ0PrXPfz|Sauce It Up                                          |spotify:album:733e1ZfktLSwj96X5rsMeE|207038     |Luv Is Rage 2                                        |\n",
            "|3  |P!nk           |spotify:track:0Qh38w01QRXK6KHIv0e3hb|spotify:artist:1KCSPY1glIKqW2TotWuXOR|What About Us                                        |spotify:album:7hwhuEQT4Fp5bzwLlYZtiz|269600     |Beautiful Trauma                                     |\n",
            "+---+---------------+------------------------------------+-------------------------------------+-----------------------------------------------------+------------------------------------+-----------+-----------------------------------------------------+\n",
            "only showing top 20 rows\n",
            "\n"
          ]
        },
        {
          "name": "stderr",
          "output_type": "stream",
          "text": [
            "[Stage 89:=========================================>              (11 + 4) / 15]\r"
          ]
        },
        {
          "name": "stdout",
          "output_type": "stream",
          "text": [
            "136 21\n"
          ]
        },
        {
          "name": "stderr",
          "output_type": "stream",
          "text": [
            "                                                                                \r"
          ]
        }
      ],
      "source": [
        "def aggregate_recommendations(recommendations: Dict[str, float | List[float]]) -> DataFrame:\n",
        "  aggregated = {}\n",
        "  for key, value in recommendations.items():\n",
        "    if type(value) is list:\n",
        "      aggregated[key] = sum(x for x in value) / len(value)\n",
        "    else:\n",
        "      aggregated[key] = value\n",
        "  # return {k: v for k, v in aggregated.items() if v != 0}\n",
        "  # aggregated = sorted(aggregated.items(), key=lambda x: x[1])\n",
        "\n",
        "  recommendations_schema = StructType([\n",
        "      StructField(\"track_uri\", StringType(), True),\n",
        "      StructField(\"distance\", FloatType(), True)\n",
        "  ])\n",
        "\n",
        "\n",
        "  recommendations_df = spark.createDataFrame(data=aggregated.items(), schema=recommendations_schema)\n",
        "\n",
        "  return recommendations_df\n",
        "\n",
        "if DEBUG:\n",
        "  k = 40\n",
        "  recommendations_df = aggregate_recommendations(recommendations)\n",
        "  recommendations_df.show(truncate=False)\n",
        "  first_playlist.show(truncate=False)\n",
        "  print(recommendations_df.count(), first_playlist.count())"
      ]
    },
    {
      "attachments": {},
      "cell_type": "markdown",
      "metadata": {
        "id": "vpbn30aDl0h7"
      },
      "source": [
        "Now that we have a prediction, we can put the result in a pyspark dataframe in order to be used later"
      ]
    },
    {
      "cell_type": "code",
      "execution_count": 32,
      "metadata": {
        "id": "hzSjUb0k5WvD"
      },
      "outputs": [
        {
          "name": "stderr",
          "output_type": "stream",
          "text": [
            "[Stage 251:=============================>                          (8 + 7) / 15]\r"
          ]
        },
        {
          "name": "stdout",
          "output_type": "stream",
          "text": [
            "+--------------------+----------+\n",
            "|           track_uri|  distance|\n",
            "+--------------------+----------+\n",
            "|spotify:track:7wG...| 0.8632018|\n",
            "|spotify:track:34y...|0.85714287|\n",
            "|spotify:track:1jN...|      0.84|\n",
            "|spotify:track:4xB...|0.93406594|\n",
            "|spotify:track:45o...| 0.9041096|\n",
            "|spotify:track:7yQ...|  0.884058|\n",
            "|spotify:track:4wl...| 0.9411765|\n",
            "|spotify:track:0GS...|0.88461536|\n",
            "|spotify:track:7sd...| 0.9027778|\n",
            "|spotify:track:7nZ...| 0.9093615|\n",
            "|spotify:track:366...| 0.8901099|\n",
            "|spotify:track:2TL...|0.91463417|\n",
            "|spotify:track:3oj...|0.93568146|\n",
            "|spotify:track:2ek...|0.89898324|\n",
            "|spotify:track:277...| 0.8064928|\n",
            "|spotify:track:59J...|0.81729203|\n",
            "|spotify:track:1sC...|0.86996084|\n",
            "|spotify:track:3A7...| 0.8826916|\n",
            "|spotify:track:7hC...| 0.9221902|\n",
            "|spotify:track:1WI...|0.81096107|\n",
            "+--------------------+----------+\n",
            "only showing top 20 rows\n",
            "\n"
          ]
        },
        {
          "name": "stderr",
          "output_type": "stream",
          "text": [
            "                                                                                \r"
          ]
        }
      ],
      "source": [
        "def remove_existing_tracks(playlist_tracks: DataFrame, recommendations_df: DataFrame) -> DataFrame:\n",
        "  playlist_tracks = playlist_tracks.select(\"track_uri\").cache()\n",
        "  playlist_tracks_compatible = playlist_tracks.join(F.broadcast(recommendations_df), on=\"track_uri\")\n",
        "  playlist_tracks.unpersist()\n",
        "  return recommendations_df.exceptAll(playlist_tracks_compatible)\n",
        "\n",
        "if DEBUG:\n",
        "  clean_df = remove_existing_tracks(first_playlist, recommendations_df)\n",
        "  clean_df.show()"
      ]
    },
    {
      "attachments": {},
      "cell_type": "markdown",
      "metadata": {
        "id": "fVBZMo5ym4wY"
      },
      "source": [
        "Putting all togheter:"
      ]
    },
    {
      "cell_type": "code",
      "execution_count": 28,
      "metadata": {
        "id": "PnHTtod7m7jB"
      },
      "outputs": [
        {
          "name": "stderr",
          "output_type": "stream",
          "text": [
            "23/06/22 20:09:29 WARN HintErrorLogger: A join hint (strategy=broadcast) is specified but it is not part of a join relation.\n",
            "[Stage 173:==================================================>    (21 + 2) / 23]\r"
          ]
        },
        {
          "name": "stdout",
          "output_type": "stream",
          "text": [
            "+--------------------+----------+\n",
            "|           track_uri|  distance|\n",
            "+--------------------+----------+\n",
            "|spotify:track:2t1...|0.64285713|\n",
            "|spotify:track:2AO...| 0.6969697|\n",
            "|spotify:track:2gh...|       0.7|\n",
            "|spotify:track:5IF...|0.71900827|\n",
            "|spotify:track:2ru...|0.77286583|\n",
            "|spotify:track:5Qf...| 0.7910448|\n",
            "|spotify:track:1Vu...| 0.8076923|\n",
            "|spotify:track:6jL...|0.81005585|\n",
            "|spotify:track:1ak...|0.81595093|\n",
            "|spotify:track:4ej...| 0.8244275|\n",
            "|spotify:track:2wm...|0.82828283|\n",
            "|spotify:track:2BZ...|0.83035713|\n",
            "|spotify:track:7qi...| 0.8330721|\n",
            "|spotify:track:4I3...| 0.8359133|\n",
            "|spotify:track:0b0...|0.83709276|\n",
            "|spotify:track:54t...| 0.8402256|\n",
            "|spotify:track:0Su...| 0.8404702|\n",
            "|spotify:track:7nY...| 0.8422051|\n",
            "|spotify:track:5Vw...| 0.8450494|\n",
            "|spotify:track:72j...| 0.8450756|\n",
            "+--------------------+----------+\n",
            "only showing top 20 rows\n",
            "\n"
          ]
        },
        {
          "name": "stderr",
          "output_type": "stream",
          "text": [
            "                                                                                \r"
          ]
        }
      ],
      "source": [
        "def item_based_recommendation(playlist: DataFrame,playlist_map: DataFrame, model: MinHashLSHModel, k=50):\n",
        "  playlist_songs = playlist.select(F.explode(\"tracks\")).select(\"col.*\")\n",
        "  recommendations = extract_similar_songs(playlist_songs, playlist_map, model, 20, disable_pbar=True)\n",
        "  recommendations_df = aggregate_recommendations(recommendations)\n",
        "  recommendations_df = remove_existing_tracks(playlist_songs, recommendations_df)\n",
        "  return recommendations_df.orderBy(F.col(\"distance\").asc()).limit(k).cache()\n",
        "\n",
        "if DEBUG:\n",
        "  playlist = train_df.filter(\"pid == 2005\")\n",
        "  result = item_based_recommendation(playlist, playlist_map, model)\n",
        "  result.show()"
      ]
    },
    {
      "attachments": {},
      "cell_type": "markdown",
      "metadata": {
        "id": "92e4Ipd-m2TF"
      },
      "source": [
        "# Performance Evaluation"
      ]
    },
    {
      "cell_type": "code",
      "execution_count": 29,
      "metadata": {
        "id": "R3bMn2m6nGdC"
      },
      "outputs": [],
      "source": [
        "def precision_at_k(recommendations, ground_truth, num_of_recommendations) -> float:\n",
        "    \"\"\"\n",
        "    Calculates precision at k for the recommendations.\n",
        "    \"\"\"\n",
        "    recommended_relevant_tracks = recommendations.join(ground_truth, \"track_uri\").cache()\n",
        "    reccomended_relevant_tracks_count = recommended_relevant_tracks.count() #this can be top_n_results.join in order to be more performant\n",
        "    recommended_relevant_tracks.unpersist()\n",
        "    precision = reccomended_relevant_tracks_count / float(num_of_recommendations)\n",
        "\n",
        "    return precision\n",
        "\n",
        "\n",
        "import math\n",
        "#TODO: make it more efficient somehow\n",
        "def normalized_discounted_cumulative_gain(recommendations: DataFrame, ground_truth: DataFrame, num_of_recommendations: int) -> float:\n",
        "  recommendations = recommendations.orderBy(F.col(\"distance\").asc())\n",
        "  recommendations_list = recommendations.collect()\n",
        "  cumulative_gain = 0\n",
        "\n",
        "  intersection = recommendations.join(ground_truth, \"track_uri\").count()\n",
        "  if intersection == 0: return 0\n",
        "\n",
        "  ideal_cumulative_gain = 1 + sum((1 / math.log(i, 2)) for i in range(2, 2+intersection))\n",
        "  for index, row in enumerate(recommendations_list):\n",
        "    i = index + 1\n",
        "    is_rel = ground_truth.filter(F.col(\"track_uri\").isin(row.track_uri)).count() > 0\n",
        "    rel = 1 if is_rel else 0\n",
        "    if i == 1:\n",
        "      cumulative_gain += rel\n",
        "    else:\n",
        "      cumulative_gain += (rel / math.log(i, 2))\n",
        "  return cumulative_gain / ideal_cumulative_gain"
      ]
    },
    {
      "attachments": {},
      "cell_type": "markdown",
      "metadata": {
        "id": "c8SUpL2Boghc"
      },
      "source": [
        "Executing performance evaluation on a random sample of the test set"
      ]
    },
    {
      "cell_type": "code",
      "execution_count": 31,
      "metadata": {
        "id": "Y8ZIqjdSogHJ"
      },
      "outputs": [
        {
          "name": "stderr",
          "output_type": "stream",
          "text": [
            "23/06/22 20:12:27 WARN HintErrorLogger: A join hint (strategy=broadcast) is specified but it is not part of a join relation.\n",
            "23/06/22 20:12:27 WARN CacheManager: Asked to cache already cached data.\n"
          ]
        },
        {
          "name": "stdout",
          "output_type": "stream",
          "text": [
            "Total time: 114.25674796104431\n"
          ]
        },
        {
          "name": "stderr",
          "output_type": "stream",
          "text": [
            "23/06/22 20:12:28 WARN HintErrorLogger: A join hint (strategy=broadcast) is specified but it is not part of a join relation.\n",
            "23/06/22 20:12:28 WARN HintErrorLogger: A join hint (strategy=broadcast) is specified but it is not part of a join relation.\n"
          ]
        },
        {
          "name": "stdout",
          "output_type": "stream",
          "text": [
            "+-------+-------------+----+-----------+----------+----------+-------------+--------------------+---------+-----------+-----------+\n",
            "|   name|collaborative| pid|modified_at|num_tracks|num_albums|num_followers|              tracks|num_edits|duration_ms|num_artists|\n",
            "+-------+-------------+----+-----------+----------+----------+-------------+--------------------+---------+-----------+-----------+\n",
            "|college|        false|1005| 1504310400|        28|        26|            1|[{22, Kid Ink, sp...|        2|    5870710|         25|\n",
            "+-------+-------------+----+-----------+----------+----------+-------------+--------------------+---------+-----------+-----------+\n",
            "\n",
            "+-------+-------------+----+-----------+----------+----------+-------------+--------------------+---------+-----------+-----------+\n",
            "|   name|collaborative| pid|modified_at|num_tracks|num_albums|num_followers|              tracks|num_edits|duration_ms|num_artists|\n",
            "+-------+-------------+----+-----------+----------+----------+-------------+--------------------+---------+-----------+-----------+\n",
            "|college|        false|1005| 1504310400|        28|        26|            1|[{9, Kesha, spoti...|        2|    5870710|         25|\n",
            "+-------+-------------+----+-----------+----------+----------+-------------+--------------------+---------+-----------+-----------+\n",
            "\n",
            "+---+-----------+--------------------+--------------------+--------------------+--------------------+-----------+--------------------+\n",
            "|pos|artist_name|           track_uri|          artist_uri|          track_name|           album_uri|duration_ms|          album_name|\n",
            "+---+-----------+--------------------+--------------------+--------------------+--------------------+-----------+--------------------+\n",
            "|  9|      Kesha|spotify:track:0jd...|spotify:artist:6L...|             Praying|spotify:album:1IY...|     230266|             Rainbow|\n",
            "| 25| Young Thug|spotify:track:25o...|spotify:artist:50...|Relationship (fea...|spotify:album:51K...|     215306|Beautiful Thugger...|\n",
            "|  8|  21 Savage|spotify:track:2fQ...|spotify:artist:1U...|        Bank Account|spotify:album:4QU...|     220306|          Issa Album|\n",
            "| 21|   2 Chainz|spotify:track:6H0...|spotify:artist:17...|         It's A Vibe|spotify:album:5vv...|     210200|Pretty Girls Like...|\n",
            "|  0|Demi Lovato|spotify:track:3m6...|spotify:artist:6S...|     Sorry Not Sorry|spotify:album:3pg...|     203760| Tell Me You Love Me|\n",
            "| 12|  DJ Khaled|spotify:track:1OA...|spotify:artist:0Q...|       Wild Thoughts|spotify:album:4JB...|     204173|            Grateful|\n",
            "| 17|       Kygo|spotify:track:2Gl...|spotify:artist:23...|          First Time|spotify:album:6wu...|     193511|          First Time|\n",
            "+---+-----------+--------------------+--------------------+--------------------+--------------------+-----------+--------------------+\n",
            "\n"
          ]
        },
        {
          "name": "stderr",
          "output_type": "stream",
          "text": [
            "23/06/22 20:12:30 WARN HintErrorLogger: A join hint (strategy=broadcast) is specified but it is not part of a join relation.\n",
            "[Stage 247:======================================>                (16 + 7) / 23]\r"
          ]
        },
        {
          "name": "stdout",
          "output_type": "stream",
          "text": [
            "+------------------------------------+----------+\n",
            "|track_uri                           |distance  |\n",
            "+------------------------------------+----------+\n",
            "|spotify:track:5tRmoZRoupvMYPV1oezFrH|0.69382393|\n",
            "|spotify:track:0SGkqnVQo9KPytSri1H6cF|0.7495854 |\n",
            "|spotify:track:7KOlJ92bu51cltsD9KU5I7|0.7688978 |\n",
            "|spotify:track:1QgTBfRN5m81a5K01qens6|0.7697702 |\n",
            "|spotify:track:5bgwqaRSS3M8WHWruHgSL5|0.79055595|\n",
            "|spotify:track:0UioblV1x795s55Ur58c6c|0.79651016|\n",
            "|spotify:track:1MJErNPIQUoEMu4YUUmecm|0.8027972 |\n",
            "+------------------------------------+----------+\n",
            "\n",
            "Precision: 0.0, Gain: 0\n"
          ]
        },
        {
          "name": "stderr",
          "output_type": "stream",
          "text": [
            "                                                                                \r"
          ]
        }
      ],
      "source": [
        "def evaluate(pid: int, playlist_map) -> Tuple[DataFrame, float]:\n",
        "    t1 = time.time()\n",
        "\n",
        "    playlist_train = train_df.filter(f\"pid == {pid}\").cache()\n",
        "    playlist_test = test_df.filter(f\"pid == {pid}\").cache()\n",
        "    ground_truth = playlist_test.select(F.explode(\"tracks\")).select(\"col.*\").cache()\n",
        "    num_of_recommendations = ground_truth.count()\n",
        "    recommendations = item_based_recommendation(playlist_train, playlist_map, model, k=num_of_recommendations).cache()\n",
        "\n",
        "    precision = precision_at_k(recommendations, ground_truth, num_of_recommendations)\n",
        "    gain = normalized_discounted_cumulative_gain(recommendations, ground_truth, num_of_recommendations)\n",
        "\n",
        "    t2 = time.time()\n",
        "    print(f\"Total time: {t2-t1}\")\n",
        "\n",
        "    playlist_train.unpersist()\n",
        "    playlist_test.unpersist()\n",
        "    ground_truth.unpersist()\n",
        "    recommendations.unpersist()\n",
        "\n",
        "    return playlist_train, playlist_test, ground_truth, recommendations, precision, gain\n",
        "\n",
        "\n",
        "if DEBUG:\n",
        "  train, test, gt, rec, prec, gain  = evaluate(1005, playlist_map)\n",
        "  train.show(), test.show(), gt.show(), rec.show(truncate=False)\n",
        "  print(f\"Precision: {prec}, Gain: {gain}\")"
      ]
    },
    {
      "cell_type": "code",
      "execution_count": 33,
      "metadata": {
        "colab": {
          "base_uri": "https://localhost:8080/",
          "height": 639,
          "referenced_widgets": [
            "85704d667a8a40ba9066fa7106a91dad",
            "3897952d6cce457e8f64b8f73e4645bb",
            "f17ccdb7487a4568a54e91611252368a",
            "60b629c1cd8d426f8fcb3d566a538527",
            "3af1bd7b53e74dc18e5a0abe61241d60",
            "83e8ffee77c340cfbb0608c13efe3fb8",
            "457c735850e54fa6a5835ab33db3d5fe",
            "255dd6ca245f431685dbe5a29a179c67",
            "4b5bcf7168db46dd8d6e1832bdcc2fd4",
            "b4f2dd48632a4f6eb37e1aad8cc68858",
            "59e37f5b02a145aaa240e628eb54dbef"
          ]
        },
        "id": "DokoAdIipxHi",
        "outputId": "fb70f96b-1eec-4b17-c73b-770645d70b7b"
      },
      "outputs": [
        {
          "name": "stderr",
          "output_type": "stream",
          "text": [
            "                                                                                \r"
          ]
        },
        {
          "data": {
            "application/vnd.jupyter.widget-view+json": {
              "model_id": "d48f4f6454a54090828436ab36945340",
              "version_major": 2,
              "version_minor": 0
            },
            "text/plain": [
              "Performing evaluation:   0%|          | 0/8 [00:00<?, ?it/s]"
            ]
          },
          "metadata": {},
          "output_type": "display_data"
        },
        {
          "name": "stderr",
          "output_type": "stream",
          "text": [
            "23/06/22 20:14:20 WARN CacheManager: Asked to cache already cached data.        \n",
            "                                                                                \r"
          ]
        },
        {
          "name": "stdout",
          "output_type": "stream",
          "text": [
            "Total time: 70.87952995300293\n",
            "(0.23076923076923078, 0.8403030283801005)\n"
          ]
        },
        {
          "name": "stderr",
          "output_type": "stream",
          "text": [
            "23/06/22 20:15:12 WARN CacheManager: Asked to cache already cached data.        \n"
          ]
        },
        {
          "name": "stdout",
          "output_type": "stream",
          "text": [
            "Total time: 47.532137870788574\n",
            "(0.16666666666666666, 0.25)\n"
          ]
        },
        {
          "name": "stderr",
          "output_type": "stream",
          "text": [
            "23/06/22 20:18:19 WARN CacheManager: Asked to cache already cached data.        \n"
          ]
        },
        {
          "name": "stdout",
          "output_type": "stream",
          "text": [
            "Total time: 188.7962601184845\n",
            "(0.045454545454545456, 0.7601875334318686)\n"
          ]
        },
        {
          "name": "stderr",
          "output_type": "stream",
          "text": [
            "23/06/22 20:18:52 WARN CacheManager: Asked to cache already cached data.        \n"
          ]
        },
        {
          "name": "stdout",
          "output_type": "stream",
          "text": [
            "Total time: 30.161776065826416\n",
            "(0.42857142857142855, 0.37488434580081953)\n"
          ]
        },
        {
          "name": "stderr",
          "output_type": "stream",
          "text": [
            "23/06/22 20:18:59 WARN CacheManager: Asked to cache already cached data.        \n"
          ]
        },
        {
          "name": "stdout",
          "output_type": "stream",
          "text": [
            "Total time: 6.99065899848938\n",
            "(0.5, 0.5)\n"
          ]
        },
        {
          "name": "stderr",
          "output_type": "stream",
          "text": [
            "23/06/22 20:19:21 WARN CacheManager: Asked to cache already cached data.        \n"
          ]
        },
        {
          "name": "stdout",
          "output_type": "stream",
          "text": [
            "Total time: 21.297004222869873\n",
            "(0.0, 0)\n"
          ]
        },
        {
          "name": "stderr",
          "output_type": "stream",
          "text": [
            "23/06/22 20:22:54 WARN CacheManager: Asked to cache already cached data.        \n"
          ]
        },
        {
          "name": "stdout",
          "output_type": "stream",
          "text": [
            "Total time: 215.87304282188416\n",
            "(0.16071428571428573, 0.7963065271236838)\n"
          ]
        },
        {
          "name": "stderr",
          "output_type": "stream",
          "text": [
            "23/06/22 20:23:38 WARN CacheManager: Asked to cache already cached data.        \n"
          ]
        },
        {
          "name": "stdout",
          "output_type": "stream",
          "text": [
            "Total time: 42.10801410675049\n",
            "(0.1, 0.16666666666666666)\n"
          ]
        }
      ],
      "source": [
        "import json\n",
        "EVALUATION_RESULTS_PATH = os.path.join(GDRIVE_DATA_DIR, \"item_based_evaluation_results\")\n",
        "def perform_evaluation():\n",
        "  # SAMPLING_FRACTION = 0.01\n",
        "  SAMPLING_FRACTION = 0.0001\n",
        "  sampled_playlists = train_df.sample(False, SAMPLING_FRACTION, seed=42).cache()\n",
        "\n",
        "  transformed_playlist_map = model.transform(playlist_map).cache()\n",
        "  results = []\n",
        "  for row in tqdm(sampled_playlists.collect(), desc=\"Performing evaluation\"):\n",
        "      pid = row['pid']\n",
        "      train, test, gt, rec, prec, gain = evaluate(pid,transformed_playlist_map)\n",
        "      print((prec, gain))\n",
        "      results.append((prec, gain))\n",
        "  \n",
        "  sampled_playlists.unpersist() \n",
        "  with open(EVALUATION_RESULTS_PATH, \"w\") as f:\n",
        "    json.dump(results, f)\n",
        "  return results\n",
        "\n",
        "results = perform_evaluation()"
      ]
    },
    {
      "cell_type": "code",
      "execution_count": 34,
      "metadata": {
        "colab": {
          "base_uri": "https://localhost:8080/"
        },
        "id": "lMVlUMTB5MLB",
        "outputId": "6e77ec98-1295-4a23-f5d3-7940aa9cf1dd"
      },
      "outputs": [
        {
          "data": {
            "text/plain": [
              "(0.2040220196470197, 0.4610435126753924)"
            ]
          },
          "execution_count": 34,
          "metadata": {},
          "output_type": "execute_result"
        }
      ],
      "source": [
        "avg_prec = np.array(results).mean()\n",
        "avg_prec, avg_gain = 0, 0\n",
        "for prec, gain in results:\n",
        "  avg_prec += prec\n",
        "  avg_gain += gain \n",
        "tot = len(results)\n",
        "avg_prec /= tot\n",
        "avg_gain /= tot\n",
        "avg_prec, avg_gain"
      ]
    },
    {
      "cell_type": "code",
      "execution_count": 35,
      "metadata": {
        "colab": {
          "base_uri": "https://localhost:8080/"
        },
        "id": "T3G5cFFW8CyV",
        "outputId": "6860d8e1-eb03-4aee-acd0-2f757b767498"
      },
      "outputs": [
        {
          "data": {
            "text/plain": [
              "[(0.23076923076923078, 0.8403030283801005),\n",
              " (0.16666666666666666, 0.25),\n",
              " (0.045454545454545456, 0.7601875334318686),\n",
              " (0.42857142857142855, 0.37488434580081953),\n",
              " (0.5, 0.5),\n",
              " (0.0, 0),\n",
              " (0.16071428571428573, 0.7963065271236838),\n",
              " (0.1, 0.16666666666666666)]"
            ]
          },
          "execution_count": 35,
          "metadata": {},
          "output_type": "execute_result"
        }
      ],
      "source": [
        "results"
      ]
    },
    {
      "attachments": {},
      "cell_type": "markdown",
      "metadata": {
        "id": "x9gbMKT_lw9S"
      },
      "source": [
        "# All against all tries"
      ]
    },
    {
      "attachments": {},
      "cell_type": "markdown",
      "metadata": {
        "id": "GI8ZtkTmv2qa"
      },
      "source": [
        "Since computing the k nearest neighbors is super slow, I can pre-compute them offline and store them. This will require like 100 years lol."
      ]
    },
    {
      "cell_type": "code",
      "execution_count": 36,
      "metadata": {
        "id": "uzj7kXRNi6ex"
      },
      "outputs": [],
      "source": [
        "mh = MinHashLSH(inputCol=\"embedding\", outputCol=\"hashes\", numHashTables=5)\n",
        "model = mh.fit(playlist_map)"
      ]
    },
    {
      "attachments": {},
      "cell_type": "markdown",
      "metadata": {
        "id": "8ZldxXdXlylr"
      },
      "source": []
    },
    {
      "cell_type": "code",
      "execution_count": null,
      "metadata": {
        "colab": {
          "base_uri": "https://localhost:8080/",
          "height": 535,
          "referenced_widgets": [
            "49a1c7a01352423f94bb60dfe0b3e1f5",
            "2b64f1c614f349ee8218492095bbdc47",
            "f5cb21f6d1224cdd8d120989dda14a0e",
            "b2c37498584a4e249553c1c1741bc797",
            "33c7e9f49ff34a8da278e68ea7c13b13",
            "af437c2a0a37403eabdc5cff537fd1e9",
            "d8e0d48bb9104056a692a8ae4ec045b7",
            "54da270bcbba4831950913a0e323aef5",
            "89453331f508408295254b5649df8e39",
            "410393d13be2441ca1b54bfc5d873f42",
            "deedaef94d554aae908082c916be49f2"
          ]
        },
        "id": "tqV8qF-iv-RA",
        "outputId": "672b4bfa-ea21-4938-a6fb-f55bccbf277b"
      },
      "outputs": [
        {
          "name": "stderr",
          "output_type": "stream",
          "text": [
            "Exception in thread \"serve-DataFrame\" java.net.SocketTimeoutException: Read timed out\n",
            "\tat java.base/sun.nio.ch.NioSocketImpl.timedRead(NioSocketImpl.java:273)\n",
            "\tat java.base/sun.nio.ch.NioSocketImpl.implRead(NioSocketImpl.java:299)\n",
            "\tat java.base/sun.nio.ch.NioSocketImpl.read(NioSocketImpl.java:340)\n",
            "\tat java.base/sun.nio.ch.NioSocketImpl$1.read(NioSocketImpl.java:789)\n",
            "\tat java.base/java.net.Socket$SocketInputStream.read(Socket.java:1025)\n",
            "\tat java.base/java.net.Socket$SocketInputStream.read(Socket.java:1019)\n",
            "\tat java.base/java.io.DataInputStream.readInt(DataInputStream.java:381)\n",
            "\tat org.apache.spark.security.SocketAuthHelper.readUtf8(SocketAuthHelper.scala:103)\n",
            "\tat org.apache.spark.security.SocketAuthHelper.authClient(SocketAuthHelper.scala:57)\n",
            "\tat org.apache.spark.security.SocketAuthServer$$anon$1.run(SocketAuthServer.scala:67)\n"
          ]
        }
      ],
      "source": [
        "def compute_all_k_neighbors(playlist_map: DataFrame, model) -> DataFrame:\n",
        "    result = []\n",
        "    transformed_playlist_map = model.transform(playlist_map).cache()\n",
        "    for index, row in enumerate(tqdm(playlist_map.collect(), desc=\"Computing k-neighbors\")):\n",
        "        k_neighs = model.approxNearestNeighbors(transformed_playlist_map, row.embedding, 10).select(\"track_uri\", F.col(\"distCol\").alias(\"similarity\"))\n",
        "        result.append((row.track_uri, k_neighs.collect()))\n",
        "\n",
        "    k_neighs_schema = StructType([\n",
        "        StructField(\"track_uri\", StringType(), nullable=True),\n",
        "        StructField(\"distCol\", FloatType(), nullable=True)\n",
        "    ])\n",
        "\n",
        "    schema = StructType([\n",
        "        StructField(\"track_uri\", StringType(), nullable=True),\n",
        "        StructField(\"k_neighs\", ArrayType(k_neighs_schema), nullable=True)\n",
        "    ])\n",
        "\n",
        "    result_df = spark.createDataFrame(result, schema)\n",
        "    transformed_playlist_map.unpersist()\n",
        "\n",
        "    return result_df\n",
        "\n",
        "result_df = compute_all_k_neighbors(playlist_map, model)"
      ]
    },
    {
      "cell_type": "code",
      "execution_count": null,
      "metadata": {
        "id": "VVFic9gIM7L_"
      },
      "outputs": [],
      "source": [
        "K_NEIGHBOURS_PATH = os.path.join(GDRIVE_DATA_DIR,\"saved_models\", f\"k_neighbours-{NUM_PLAYLISTS}.parquet\")\n",
        "result_df.write.parquet(K_NEIGHBOURS_PATH)"
      ]
    },
    {
      "attachments": {},
      "cell_type": "markdown",
      "metadata": {
        "id": "aoVjgtwlI9qe"
      },
      "source": [
        "# Old stuff"
      ]
    },
    {
      "cell_type": "code",
      "execution_count": null,
      "metadata": {
        "id": "6VCjq5dxQvr_"
      },
      "outputs": [],
      "source": [
        "def transform_to_aggregate(df: DataFrame) -> DataFrame:\n",
        "  \"\"\"\n",
        "  Transforms the dataframe in order to be compatible for the union with an aggregate df.\n",
        "  \"\"\"\n",
        "  return df.withColumn(\"sum\", F.col(\"similarity\")).withColumnRenamed(\"similarity\", \"squared_sum\")\n",
        "\n",
        "def merge_aggregate_df(aggregate_df: DataFrame, other_df: DataFrame) -> DataFrame:\n",
        "  \"\"\"\n",
        "  Sums an aggregate df (track_uri, embedding, hashes, squared_sum, sum)\n",
        "  with a simple df (track_uri, embedding, hashes, distCol).\n",
        "  \"\"\"\n",
        "  other_df = transform_to_aggregate(other_df)\n",
        "  merged_df = aggregate_df.unionAll(other_df)\n",
        "  return merged_df.groupBy(\"track_uri\", \"embedding\").agg(\n",
        "    F.sum(F.pow(\"squared_sum\", 2)).alias(\"squared_sum\"),\n",
        "    F.sum(\"sum\").alias(\"sum\"))"
      ]
    },
    {
      "cell_type": "code",
      "execution_count": null,
      "metadata": {
        "id": "QmBLSpdtcylv"
      },
      "outputs": [],
      "source": [
        "def create_similarity_df(input_vector: SparseVector, playlist_map: DataFrame, similarity_function: Callable) -> DataFrame:\n",
        "  \"\"\"\n",
        "  Returns the similarity df for a single song\n",
        "  \"\"\"\n",
        "  \n",
        "  @F.udf(returnType=FloatType())\n",
        "  def compute_similarity(vector1):\n",
        "    return similarity_function(vector1, input_vector)\n",
        "\n",
        "  result_df = playlist_map.withColumn(\"similarity\", compute_similarity(playlist_map.embedding))\n",
        "  \n",
        "  return result_df\n",
        "\n",
        "def get_top_k_results(track_uri: str, similarity_df: DataFrame, k: int = 20) -> DataFrame:\n",
        "  return similarity_df.filter((F.col(\"similarity\") > 0) & (F.col(\"track_uri\") != track_uri)).orderBy(F.col(\"similarity\").desc()).limit(k)\n",
        "\n",
        "if DEBUG:\n",
        "  first_song_vector = playlist_map.select(\"embedding\").limit(1).first()[0]\n",
        "  first_track_uri = playlist_map.select(\"track_uri\").limit(1).first()[0]\n",
        "  similarity_df = create_similarity_df(first_song_vector, playlist_map, jaccard_similarity)\n",
        "  top_k_results = get_top_k_results(first_track_uri, similarity_df).cache()\n",
        "  top_k_results.show()"
      ]
    },
    {
      "cell_type": "code",
      "execution_count": null,
      "metadata": {
        "id": "yydgn5XD3SZH"
      },
      "outputs": [],
      "source": [
        "def extract_similar_songs(playlist_tracks: DataFrame, k=10) -> DataFrame:\n",
        "  aggregate_df = None\n",
        "  tracks_embedding = playlist_tracks.join(playlist_map, \"track_uri\")\n",
        "  for row in tqdm(tracks_embedding.collect(), desc='Extracting k-neighbors'):\n",
        "    k_neigh = get_top_k_results(\n",
        "        track_uri=row.track_uri,\n",
        "        similarity_df= create_similarity_df(input_vector=row.embedding,\n",
        "                                            playlist_map=playlist_map,\n",
        "                                            similarity_function=jaccard_similarity),\n",
        "        k = 10)\n",
        "    \n",
        "    k_neigh.show()\n",
        "    if aggregate_df == None:\n",
        "      aggregate_df = transform_to_aggregate(k_neigh).cache()\n",
        "    else:\n",
        "      aggregate_df = merge_aggregate_df(aggregate_df, k_neigh).cache()\n",
        "    \n",
        "    aggregate_df.show()\n",
        "  return aggregate_df\n",
        "\n",
        "if DEBUG:\n",
        "  first_playlist = train_df.limit(1).select(F.explode(\"tracks\")).select(\"col.*\")\n",
        "  recommendations = extract_similar_songs(first_playlist, model)"
      ]
    },
    {
      "cell_type": "code",
      "execution_count": null,
      "metadata": {
        "id": "8scK_YReSrYo"
      },
      "outputs": [],
      "source": [
        "recommendations.show()"
      ]
    },
    {
      "cell_type": "code",
      "execution_count": null,
      "metadata": {
        "id": "K9UmYW-9eGuz"
      },
      "outputs": [],
      "source": [
        "# def extract_similar_songs(playlist: DataFrame, playlist_map: DataFrame) -> Dict[str, float]:\n",
        "#   \"\"\"\n",
        "#   For each track in the playlist, it extracts the top-k most similar results.\n",
        "#   \"\"\"\n",
        "#   weighted_dict = {}\n",
        "  \n",
        "#   # F.udf(returnType=IntegerType())\n",
        "#   def update_weighted_dict(track_uri: str, similarity: float):\n",
        "#     nonlocal weighted_dict\n",
        "#     if track_uri not in weighted_dict:\n",
        "#       weighted_dict[track_uri] = (similarity, 1)\n",
        "#     else:\n",
        "#       curr_similarity = weighted_dict[track_uri][0]\n",
        "#       count = weighted_dict[track_uri][1]\n",
        "#       weighted_dict[track_uri] = (curr_similarity + similarity, count+1)\n",
        "  \n",
        "#   tracks = playlist.select(F.explode(\"tracks.track_uri\")).withColumnRenamed(\"col\", \"track_uri\")\n",
        "#   tracks_mapped = tracks.join(playlist_map, \"track_uri\")\n",
        "\n",
        "#   for track_row in tqdm(tracks_mapped.collect(), desc=f\"Analyzing tracks\"):\n",
        "#     similarity_df = create_similarity_df(track_row.embedding, playlist_map, jaccard_similarity)\n",
        "#     top_k_results = get_top_k_results(first_track_uri, similarity_df).cache()\n",
        "#     top_k_results.foreach(lambda row: update_weighted_dict(row.track_uri, row.similarity))\n",
        "#     top_k_results.unpersist()\n",
        "  \n",
        "#   return weighted_dict\n",
        "\n",
        "# if DEBUG:\n",
        "#   first_playlist = train_df.limit(1).cache()\n",
        "#   weighted_dict = extract_similar_songs(first_playlist, playlist_map)"
      ]
    },
    {
      "cell_type": "code",
      "execution_count": null,
      "metadata": {
        "id": "hs0TGZxlWnLb"
      },
      "outputs": [],
      "source": [
        "def create_similarity_df(playlist: DataFrame, playlist_map: DataFrame, similarityFunction: Callable):\n",
        "  # Get the current playlist's tracks\n",
        "  playlist_tracks = playlist.select(F.explode(\"tracks.track_uri\")).withColumnRenamed(\"col\", \"track_uri\")\n",
        "  playlist_tracks.show()\n",
        "  # Let's extract the rating vector for each single track\n",
        "  playlist_tracks_mapped = playlist_tracks.join(playlist_map, \"track_uri\")\n",
        "  playlist_tracks_mapped.show()\n",
        "\n",
        "\n",
        "  @F.udf(returnType=FloatType())\n",
        "  def compute_similarity(input_vector: SparseVector, other_vector: SparseVector):\n",
        "    return jaccard_similarity(input_vector, other_vector)\n",
        "\n",
        "  # for row in playlist_tracks_mapped.collect():\n",
        "  similarity_df = playlist_map.withColumn(\"similarity\", compute_similarity(playlist_tracks_mapped.limit(2).embedding, playlist_map.embedding))\n",
        "  # break\n",
        "  \n",
        "  similarity_df.show()\n",
        "  return\n",
        "\n",
        "first_playlsit = train_df.limit(1).cache()\n",
        "create_similarity_df(first_playlsit, playlist_map, jaccard_similarity)"
      ]
    },
    {
      "cell_type": "code",
      "execution_count": null,
      "metadata": {
        "id": "WbCUU0GzYswY"
      },
      "outputs": [],
      "source": [
        "first_playlsit.show()"
      ]
    }
  ],
  "metadata": {
    "colab": {
      "authorship_tag": "ABX9TyMh7VZXJzSwk7g3Ej19HkgS",
      "collapsed_sections": [
        "VJeY9PpvaHUJ",
        "x9gbMKT_lw9S",
        "aoVjgtwlI9qe"
      ],
      "include_colab_link": true,
      "provenance": []
    },
    "kernelspec": {
      "display_name": "Python 3",
      "name": "python3"
    },
    "language_info": {
      "codemirror_mode": {
        "name": "ipython",
        "version": 3
      },
      "file_extension": ".py",
      "mimetype": "text/x-python",
      "name": "python",
      "nbconvert_exporter": "python",
      "pygments_lexer": "ipython3",
      "version": "3.10.9"
    },
    "widgets": {
      "application/vnd.jupyter.widget-state+json": {
        "255dd6ca245f431685dbe5a29a179c67": {
          "model_module": "@jupyter-widgets/base",
          "model_module_version": "1.2.0",
          "model_name": "LayoutModel",
          "state": {
            "_model_module": "@jupyter-widgets/base",
            "_model_module_version": "1.2.0",
            "_model_name": "LayoutModel",
            "_view_count": null,
            "_view_module": "@jupyter-widgets/base",
            "_view_module_version": "1.2.0",
            "_view_name": "LayoutView",
            "align_content": null,
            "align_items": null,
            "align_self": null,
            "border": null,
            "bottom": null,
            "display": null,
            "flex": null,
            "flex_flow": null,
            "grid_area": null,
            "grid_auto_columns": null,
            "grid_auto_flow": null,
            "grid_auto_rows": null,
            "grid_column": null,
            "grid_gap": null,
            "grid_row": null,
            "grid_template_areas": null,
            "grid_template_columns": null,
            "grid_template_rows": null,
            "height": null,
            "justify_content": null,
            "justify_items": null,
            "left": null,
            "margin": null,
            "max_height": null,
            "max_width": null,
            "min_height": null,
            "min_width": null,
            "object_fit": null,
            "object_position": null,
            "order": null,
            "overflow": null,
            "overflow_x": null,
            "overflow_y": null,
            "padding": null,
            "right": null,
            "top": null,
            "visibility": null,
            "width": null
          }
        },
        "2b64f1c614f349ee8218492095bbdc47": {
          "model_module": "@jupyter-widgets/controls",
          "model_module_version": "1.5.0",
          "model_name": "HTMLModel",
          "state": {
            "_dom_classes": [],
            "_model_module": "@jupyter-widgets/controls",
            "_model_module_version": "1.5.0",
            "_model_name": "HTMLModel",
            "_view_count": null,
            "_view_module": "@jupyter-widgets/controls",
            "_view_module_version": "1.5.0",
            "_view_name": "HTMLView",
            "description": "",
            "description_tooltip": null,
            "layout": "IPY_MODEL_af437c2a0a37403eabdc5cff537fd1e9",
            "placeholder": "​",
            "style": "IPY_MODEL_d8e0d48bb9104056a692a8ae4ec045b7",
            "value": "Computing k-neighbors:   0%"
          }
        },
        "33c7e9f49ff34a8da278e68ea7c13b13": {
          "model_module": "@jupyter-widgets/base",
          "model_module_version": "1.2.0",
          "model_name": "LayoutModel",
          "state": {
            "_model_module": "@jupyter-widgets/base",
            "_model_module_version": "1.2.0",
            "_model_name": "LayoutModel",
            "_view_count": null,
            "_view_module": "@jupyter-widgets/base",
            "_view_module_version": "1.2.0",
            "_view_name": "LayoutView",
            "align_content": null,
            "align_items": null,
            "align_self": null,
            "border": null,
            "bottom": null,
            "display": null,
            "flex": null,
            "flex_flow": null,
            "grid_area": null,
            "grid_auto_columns": null,
            "grid_auto_flow": null,
            "grid_auto_rows": null,
            "grid_column": null,
            "grid_gap": null,
            "grid_row": null,
            "grid_template_areas": null,
            "grid_template_columns": null,
            "grid_template_rows": null,
            "height": null,
            "justify_content": null,
            "justify_items": null,
            "left": null,
            "margin": null,
            "max_height": null,
            "max_width": null,
            "min_height": null,
            "min_width": null,
            "object_fit": null,
            "object_position": null,
            "order": null,
            "overflow": null,
            "overflow_x": null,
            "overflow_y": null,
            "padding": null,
            "right": null,
            "top": null,
            "visibility": null,
            "width": null
          }
        },
        "3897952d6cce457e8f64b8f73e4645bb": {
          "model_module": "@jupyter-widgets/controls",
          "model_module_version": "1.5.0",
          "model_name": "HTMLModel",
          "state": {
            "_dom_classes": [],
            "_model_module": "@jupyter-widgets/controls",
            "_model_module_version": "1.5.0",
            "_model_name": "HTMLModel",
            "_view_count": null,
            "_view_module": "@jupyter-widgets/controls",
            "_view_module_version": "1.5.0",
            "_view_name": "HTMLView",
            "description": "",
            "description_tooltip": null,
            "layout": "IPY_MODEL_83e8ffee77c340cfbb0608c13efe3fb8",
            "placeholder": "​",
            "style": "IPY_MODEL_457c735850e54fa6a5835ab33db3d5fe",
            "value": "Performing evaluation: 100%"
          }
        },
        "3af1bd7b53e74dc18e5a0abe61241d60": {
          "model_module": "@jupyter-widgets/base",
          "model_module_version": "1.2.0",
          "model_name": "LayoutModel",
          "state": {
            "_model_module": "@jupyter-widgets/base",
            "_model_module_version": "1.2.0",
            "_model_name": "LayoutModel",
            "_view_count": null,
            "_view_module": "@jupyter-widgets/base",
            "_view_module_version": "1.2.0",
            "_view_name": "LayoutView",
            "align_content": null,
            "align_items": null,
            "align_self": null,
            "border": null,
            "bottom": null,
            "display": null,
            "flex": null,
            "flex_flow": null,
            "grid_area": null,
            "grid_auto_columns": null,
            "grid_auto_flow": null,
            "grid_auto_rows": null,
            "grid_column": null,
            "grid_gap": null,
            "grid_row": null,
            "grid_template_areas": null,
            "grid_template_columns": null,
            "grid_template_rows": null,
            "height": null,
            "justify_content": null,
            "justify_items": null,
            "left": null,
            "margin": null,
            "max_height": null,
            "max_width": null,
            "min_height": null,
            "min_width": null,
            "object_fit": null,
            "object_position": null,
            "order": null,
            "overflow": null,
            "overflow_x": null,
            "overflow_y": null,
            "padding": null,
            "right": null,
            "top": null,
            "visibility": null,
            "width": null
          }
        },
        "410393d13be2441ca1b54bfc5d873f42": {
          "model_module": "@jupyter-widgets/base",
          "model_module_version": "1.2.0",
          "model_name": "LayoutModel",
          "state": {
            "_model_module": "@jupyter-widgets/base",
            "_model_module_version": "1.2.0",
            "_model_name": "LayoutModel",
            "_view_count": null,
            "_view_module": "@jupyter-widgets/base",
            "_view_module_version": "1.2.0",
            "_view_name": "LayoutView",
            "align_content": null,
            "align_items": null,
            "align_self": null,
            "border": null,
            "bottom": null,
            "display": null,
            "flex": null,
            "flex_flow": null,
            "grid_area": null,
            "grid_auto_columns": null,
            "grid_auto_flow": null,
            "grid_auto_rows": null,
            "grid_column": null,
            "grid_gap": null,
            "grid_row": null,
            "grid_template_areas": null,
            "grid_template_columns": null,
            "grid_template_rows": null,
            "height": null,
            "justify_content": null,
            "justify_items": null,
            "left": null,
            "margin": null,
            "max_height": null,
            "max_width": null,
            "min_height": null,
            "min_width": null,
            "object_fit": null,
            "object_position": null,
            "order": null,
            "overflow": null,
            "overflow_x": null,
            "overflow_y": null,
            "padding": null,
            "right": null,
            "top": null,
            "visibility": null,
            "width": null
          }
        },
        "457c735850e54fa6a5835ab33db3d5fe": {
          "model_module": "@jupyter-widgets/controls",
          "model_module_version": "1.5.0",
          "model_name": "DescriptionStyleModel",
          "state": {
            "_model_module": "@jupyter-widgets/controls",
            "_model_module_version": "1.5.0",
            "_model_name": "DescriptionStyleModel",
            "_view_count": null,
            "_view_module": "@jupyter-widgets/base",
            "_view_module_version": "1.2.0",
            "_view_name": "StyleView",
            "description_width": ""
          }
        },
        "49a1c7a01352423f94bb60dfe0b3e1f5": {
          "model_module": "@jupyter-widgets/controls",
          "model_module_version": "1.5.0",
          "model_name": "HBoxModel",
          "state": {
            "_dom_classes": [],
            "_model_module": "@jupyter-widgets/controls",
            "_model_module_version": "1.5.0",
            "_model_name": "HBoxModel",
            "_view_count": null,
            "_view_module": "@jupyter-widgets/controls",
            "_view_module_version": "1.5.0",
            "_view_name": "HBoxView",
            "box_style": "",
            "children": [
              "IPY_MODEL_2b64f1c614f349ee8218492095bbdc47",
              "IPY_MODEL_f5cb21f6d1224cdd8d120989dda14a0e",
              "IPY_MODEL_b2c37498584a4e249553c1c1741bc797"
            ],
            "layout": "IPY_MODEL_33c7e9f49ff34a8da278e68ea7c13b13"
          }
        },
        "4b5bcf7168db46dd8d6e1832bdcc2fd4": {
          "model_module": "@jupyter-widgets/controls",
          "model_module_version": "1.5.0",
          "model_name": "ProgressStyleModel",
          "state": {
            "_model_module": "@jupyter-widgets/controls",
            "_model_module_version": "1.5.0",
            "_model_name": "ProgressStyleModel",
            "_view_count": null,
            "_view_module": "@jupyter-widgets/base",
            "_view_module_version": "1.2.0",
            "_view_name": "StyleView",
            "bar_color": null,
            "description_width": ""
          }
        },
        "54da270bcbba4831950913a0e323aef5": {
          "model_module": "@jupyter-widgets/base",
          "model_module_version": "1.2.0",
          "model_name": "LayoutModel",
          "state": {
            "_model_module": "@jupyter-widgets/base",
            "_model_module_version": "1.2.0",
            "_model_name": "LayoutModel",
            "_view_count": null,
            "_view_module": "@jupyter-widgets/base",
            "_view_module_version": "1.2.0",
            "_view_name": "LayoutView",
            "align_content": null,
            "align_items": null,
            "align_self": null,
            "border": null,
            "bottom": null,
            "display": null,
            "flex": null,
            "flex_flow": null,
            "grid_area": null,
            "grid_auto_columns": null,
            "grid_auto_flow": null,
            "grid_auto_rows": null,
            "grid_column": null,
            "grid_gap": null,
            "grid_row": null,
            "grid_template_areas": null,
            "grid_template_columns": null,
            "grid_template_rows": null,
            "height": null,
            "justify_content": null,
            "justify_items": null,
            "left": null,
            "margin": null,
            "max_height": null,
            "max_width": null,
            "min_height": null,
            "min_width": null,
            "object_fit": null,
            "object_position": null,
            "order": null,
            "overflow": null,
            "overflow_x": null,
            "overflow_y": null,
            "padding": null,
            "right": null,
            "top": null,
            "visibility": null,
            "width": null
          }
        },
        "59e37f5b02a145aaa240e628eb54dbef": {
          "model_module": "@jupyter-widgets/controls",
          "model_module_version": "1.5.0",
          "model_name": "DescriptionStyleModel",
          "state": {
            "_model_module": "@jupyter-widgets/controls",
            "_model_module_version": "1.5.0",
            "_model_name": "DescriptionStyleModel",
            "_view_count": null,
            "_view_module": "@jupyter-widgets/base",
            "_view_module_version": "1.2.0",
            "_view_name": "StyleView",
            "description_width": ""
          }
        },
        "60b629c1cd8d426f8fcb3d566a538527": {
          "model_module": "@jupyter-widgets/controls",
          "model_module_version": "1.5.0",
          "model_name": "HTMLModel",
          "state": {
            "_dom_classes": [],
            "_model_module": "@jupyter-widgets/controls",
            "_model_module_version": "1.5.0",
            "_model_name": "HTMLModel",
            "_view_count": null,
            "_view_module": "@jupyter-widgets/controls",
            "_view_module_version": "1.5.0",
            "_view_name": "HTMLView",
            "description": "",
            "description_tooltip": null,
            "layout": "IPY_MODEL_b4f2dd48632a4f6eb37e1aad8cc68858",
            "placeholder": "​",
            "style": "IPY_MODEL_59e37f5b02a145aaa240e628eb54dbef",
            "value": " 17/17 [27:42&lt;00:00, 111.24s/it]"
          }
        },
        "83e8ffee77c340cfbb0608c13efe3fb8": {
          "model_module": "@jupyter-widgets/base",
          "model_module_version": "1.2.0",
          "model_name": "LayoutModel",
          "state": {
            "_model_module": "@jupyter-widgets/base",
            "_model_module_version": "1.2.0",
            "_model_name": "LayoutModel",
            "_view_count": null,
            "_view_module": "@jupyter-widgets/base",
            "_view_module_version": "1.2.0",
            "_view_name": "LayoutView",
            "align_content": null,
            "align_items": null,
            "align_self": null,
            "border": null,
            "bottom": null,
            "display": null,
            "flex": null,
            "flex_flow": null,
            "grid_area": null,
            "grid_auto_columns": null,
            "grid_auto_flow": null,
            "grid_auto_rows": null,
            "grid_column": null,
            "grid_gap": null,
            "grid_row": null,
            "grid_template_areas": null,
            "grid_template_columns": null,
            "grid_template_rows": null,
            "height": null,
            "justify_content": null,
            "justify_items": null,
            "left": null,
            "margin": null,
            "max_height": null,
            "max_width": null,
            "min_height": null,
            "min_width": null,
            "object_fit": null,
            "object_position": null,
            "order": null,
            "overflow": null,
            "overflow_x": null,
            "overflow_y": null,
            "padding": null,
            "right": null,
            "top": null,
            "visibility": null,
            "width": null
          }
        },
        "85704d667a8a40ba9066fa7106a91dad": {
          "model_module": "@jupyter-widgets/controls",
          "model_module_version": "1.5.0",
          "model_name": "HBoxModel",
          "state": {
            "_dom_classes": [],
            "_model_module": "@jupyter-widgets/controls",
            "_model_module_version": "1.5.0",
            "_model_name": "HBoxModel",
            "_view_count": null,
            "_view_module": "@jupyter-widgets/controls",
            "_view_module_version": "1.5.0",
            "_view_name": "HBoxView",
            "box_style": "",
            "children": [
              "IPY_MODEL_3897952d6cce457e8f64b8f73e4645bb",
              "IPY_MODEL_f17ccdb7487a4568a54e91611252368a",
              "IPY_MODEL_60b629c1cd8d426f8fcb3d566a538527"
            ],
            "layout": "IPY_MODEL_3af1bd7b53e74dc18e5a0abe61241d60"
          }
        },
        "89453331f508408295254b5649df8e39": {
          "model_module": "@jupyter-widgets/controls",
          "model_module_version": "1.5.0",
          "model_name": "ProgressStyleModel",
          "state": {
            "_model_module": "@jupyter-widgets/controls",
            "_model_module_version": "1.5.0",
            "_model_name": "ProgressStyleModel",
            "_view_count": null,
            "_view_module": "@jupyter-widgets/base",
            "_view_module_version": "1.2.0",
            "_view_name": "StyleView",
            "bar_color": null,
            "description_width": ""
          }
        },
        "af437c2a0a37403eabdc5cff537fd1e9": {
          "model_module": "@jupyter-widgets/base",
          "model_module_version": "1.2.0",
          "model_name": "LayoutModel",
          "state": {
            "_model_module": "@jupyter-widgets/base",
            "_model_module_version": "1.2.0",
            "_model_name": "LayoutModel",
            "_view_count": null,
            "_view_module": "@jupyter-widgets/base",
            "_view_module_version": "1.2.0",
            "_view_name": "LayoutView",
            "align_content": null,
            "align_items": null,
            "align_self": null,
            "border": null,
            "bottom": null,
            "display": null,
            "flex": null,
            "flex_flow": null,
            "grid_area": null,
            "grid_auto_columns": null,
            "grid_auto_flow": null,
            "grid_auto_rows": null,
            "grid_column": null,
            "grid_gap": null,
            "grid_row": null,
            "grid_template_areas": null,
            "grid_template_columns": null,
            "grid_template_rows": null,
            "height": null,
            "justify_content": null,
            "justify_items": null,
            "left": null,
            "margin": null,
            "max_height": null,
            "max_width": null,
            "min_height": null,
            "min_width": null,
            "object_fit": null,
            "object_position": null,
            "order": null,
            "overflow": null,
            "overflow_x": null,
            "overflow_y": null,
            "padding": null,
            "right": null,
            "top": null,
            "visibility": null,
            "width": null
          }
        },
        "b2c37498584a4e249553c1c1741bc797": {
          "model_module": "@jupyter-widgets/controls",
          "model_module_version": "1.5.0",
          "model_name": "HTMLModel",
          "state": {
            "_dom_classes": [],
            "_model_module": "@jupyter-widgets/controls",
            "_model_module_version": "1.5.0",
            "_model_name": "HTMLModel",
            "_view_count": null,
            "_view_module": "@jupyter-widgets/controls",
            "_view_module_version": "1.5.0",
            "_view_name": "HTMLView",
            "description": "",
            "description_tooltip": null,
            "layout": "IPY_MODEL_410393d13be2441ca1b54bfc5d873f42",
            "placeholder": "​",
            "style": "IPY_MODEL_deedaef94d554aae908082c916be49f2",
            "value": " 62/681805 [01:02&lt;203:27:44,  1.07s/it]"
          }
        },
        "b4f2dd48632a4f6eb37e1aad8cc68858": {
          "model_module": "@jupyter-widgets/base",
          "model_module_version": "1.2.0",
          "model_name": "LayoutModel",
          "state": {
            "_model_module": "@jupyter-widgets/base",
            "_model_module_version": "1.2.0",
            "_model_name": "LayoutModel",
            "_view_count": null,
            "_view_module": "@jupyter-widgets/base",
            "_view_module_version": "1.2.0",
            "_view_name": "LayoutView",
            "align_content": null,
            "align_items": null,
            "align_self": null,
            "border": null,
            "bottom": null,
            "display": null,
            "flex": null,
            "flex_flow": null,
            "grid_area": null,
            "grid_auto_columns": null,
            "grid_auto_flow": null,
            "grid_auto_rows": null,
            "grid_column": null,
            "grid_gap": null,
            "grid_row": null,
            "grid_template_areas": null,
            "grid_template_columns": null,
            "grid_template_rows": null,
            "height": null,
            "justify_content": null,
            "justify_items": null,
            "left": null,
            "margin": null,
            "max_height": null,
            "max_width": null,
            "min_height": null,
            "min_width": null,
            "object_fit": null,
            "object_position": null,
            "order": null,
            "overflow": null,
            "overflow_x": null,
            "overflow_y": null,
            "padding": null,
            "right": null,
            "top": null,
            "visibility": null,
            "width": null
          }
        },
        "d8e0d48bb9104056a692a8ae4ec045b7": {
          "model_module": "@jupyter-widgets/controls",
          "model_module_version": "1.5.0",
          "model_name": "DescriptionStyleModel",
          "state": {
            "_model_module": "@jupyter-widgets/controls",
            "_model_module_version": "1.5.0",
            "_model_name": "DescriptionStyleModel",
            "_view_count": null,
            "_view_module": "@jupyter-widgets/base",
            "_view_module_version": "1.2.0",
            "_view_name": "StyleView",
            "description_width": ""
          }
        },
        "deedaef94d554aae908082c916be49f2": {
          "model_module": "@jupyter-widgets/controls",
          "model_module_version": "1.5.0",
          "model_name": "DescriptionStyleModel",
          "state": {
            "_model_module": "@jupyter-widgets/controls",
            "_model_module_version": "1.5.0",
            "_model_name": "DescriptionStyleModel",
            "_view_count": null,
            "_view_module": "@jupyter-widgets/base",
            "_view_module_version": "1.2.0",
            "_view_name": "StyleView",
            "description_width": ""
          }
        },
        "f17ccdb7487a4568a54e91611252368a": {
          "model_module": "@jupyter-widgets/controls",
          "model_module_version": "1.5.0",
          "model_name": "FloatProgressModel",
          "state": {
            "_dom_classes": [],
            "_model_module": "@jupyter-widgets/controls",
            "_model_module_version": "1.5.0",
            "_model_name": "FloatProgressModel",
            "_view_count": null,
            "_view_module": "@jupyter-widgets/controls",
            "_view_module_version": "1.5.0",
            "_view_name": "ProgressView",
            "bar_style": "success",
            "description": "",
            "description_tooltip": null,
            "layout": "IPY_MODEL_255dd6ca245f431685dbe5a29a179c67",
            "max": 17,
            "min": 0,
            "orientation": "horizontal",
            "style": "IPY_MODEL_4b5bcf7168db46dd8d6e1832bdcc2fd4",
            "value": 17
          }
        },
        "f5cb21f6d1224cdd8d120989dda14a0e": {
          "model_module": "@jupyter-widgets/controls",
          "model_module_version": "1.5.0",
          "model_name": "FloatProgressModel",
          "state": {
            "_dom_classes": [],
            "_model_module": "@jupyter-widgets/controls",
            "_model_module_version": "1.5.0",
            "_model_name": "FloatProgressModel",
            "_view_count": null,
            "_view_module": "@jupyter-widgets/controls",
            "_view_module_version": "1.5.0",
            "_view_name": "ProgressView",
            "bar_style": "danger",
            "description": "",
            "description_tooltip": null,
            "layout": "IPY_MODEL_54da270bcbba4831950913a0e323aef5",
            "max": 681805,
            "min": 0,
            "orientation": "horizontal",
            "style": "IPY_MODEL_89453331f508408295254b5649df8e39",
            "value": 62
          }
        }
      }
    }
  },
  "nbformat": 4,
  "nbformat_minor": 0
}
