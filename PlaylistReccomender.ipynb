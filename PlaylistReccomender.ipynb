{
  "cells": [
    {
      "cell_type": "markdown",
      "metadata": {
        "id": "view-in-github",
        "colab_type": "text"
      },
      "source": [
        "<a href=\"https://colab.research.google.com/github/DomizianoScarcelli/big-data-project/blob/main/PlaylistReccomender.ipynb\" target=\"_parent\"><img src=\"https://colab.research.google.com/assets/colab-badge.svg\" alt=\"Open In Colab\"/></a>"
      ]
    },
    {
      "cell_type": "markdown",
      "metadata": {
        "id": "ySOgYrVKaDjm"
      },
      "source": [
        "# Config"
      ]
    },
    {
      "cell_type": "markdown",
      "metadata": {
        "id": "KOojFseRjVnN"
      },
      "source": [
        "# Configuration"
      ]
    },
    {
      "cell_type": "code",
      "execution_count": 2,
      "metadata": {
        "colab": {
          "base_uri": "https://localhost:8080/"
        },
        "id": "N3wVgRfHYoOs",
        "outputId": "ee008007-79f7-4057-dfbc-194a800b5196",
        "cellView": "form"
      },
      "outputs": [
        {
          "output_type": "stream",
          "name": "stdout",
          "text": [
            "Looking in indexes: https://pypi.org/simple, https://us-python.pkg.dev/colab-wheels/public/simple/\n",
            "Requirement already satisfied: pyspark in /usr/local/lib/python3.10/dist-packages (3.4.0)\n",
            "Requirement already satisfied: py4j==0.10.9.7 in /usr/local/lib/python3.10/dist-packages (from pyspark) (0.10.9.7)\n",
            "openjdk-8-jdk-headless is already the newest version (8u362-ga-0ubuntu1~20.04.1).\n",
            "0 upgraded, 0 newly installed, 0 to remove and 24 not upgraded.\n"
          ]
        }
      ],
      "source": [
        "#@title Download necessary libraries\n",
        "!pip install pyspark\n",
        "!pip install -U -q PyDrive \n",
        "!apt install openjdk-8-jdk-headless -qq"
      ]
    },
    {
      "cell_type": "code",
      "execution_count": 25,
      "metadata": {
        "id": "CGHPv9OqY9MI",
        "colab": {
          "base_uri": "https://localhost:8080/",
          "height": 409
        },
        "cellView": "form",
        "outputId": "f1a1accc-c531-43a6-bce2-00e8cd034399"
      },
      "outputs": [
        {
          "output_type": "error",
          "ename": "ImportError",
          "evalue": "ignored",
          "traceback": [
            "\u001b[0;31m---------------------------------------------------------------------------\u001b[0m",
            "\u001b[0;31mImportError\u001b[0m                               Traceback (most recent call last)",
            "\u001b[0;32m<ipython-input-25-5910722f1e39>\u001b[0m in \u001b[0;36m<cell line: 13>\u001b[0;34m()\u001b[0m\n\u001b[1;32m     11\u001b[0m \u001b[0;32mimport\u001b[0m \u001b[0mpyspark\u001b[0m\u001b[0;34m\u001b[0m\u001b[0;34m\u001b[0m\u001b[0m\n\u001b[1;32m     12\u001b[0m \u001b[0;32mfrom\u001b[0m \u001b[0mpyspark\u001b[0m\u001b[0;34m.\u001b[0m\u001b[0msql\u001b[0m \u001b[0;32mimport\u001b[0m \u001b[0;34m*\u001b[0m\u001b[0;34m\u001b[0m\u001b[0;34m\u001b[0m\u001b[0m\n\u001b[0;32m---> 13\u001b[0;31m \u001b[0;32mfrom\u001b[0m \u001b[0mpyspark\u001b[0m\u001b[0;34m.\u001b[0m\u001b[0msql\u001b[0m\u001b[0;34m.\u001b[0m\u001b[0mtypes\u001b[0m \u001b[0;32mimport\u001b[0m \u001b[0mStructType\u001b[0m\u001b[0;34m,\u001b[0m \u001b[0mStructField\u001b[0m\u001b[0;34m,\u001b[0m \u001b[0mStringType\u001b[0m\u001b[0;34m,\u001b[0m \u001b[0mIntegerType\u001b[0m\u001b[0;34m,\u001b[0m \u001b[0mArrayType\u001b[0m\u001b[0;34m,\u001b[0m \u001b[0mFloatType\u001b[0m\u001b[0;34m,\u001b[0m \u001b[0mLongType\u001b[0m\u001b[0;34m,\u001b[0m \u001b[0mVectorUDT\u001b[0m\u001b[0;34m\u001b[0m\u001b[0;34m\u001b[0m\u001b[0m\n\u001b[0m\u001b[1;32m     14\u001b[0m \u001b[0;32mfrom\u001b[0m \u001b[0mpyspark\u001b[0m\u001b[0;34m.\u001b[0m\u001b[0msql\u001b[0m\u001b[0;34m.\u001b[0m\u001b[0mfunctions\u001b[0m \u001b[0;32mimport\u001b[0m \u001b[0;34m*\u001b[0m\u001b[0;34m\u001b[0m\u001b[0;34m\u001b[0m\u001b[0m\n\u001b[1;32m     15\u001b[0m \u001b[0;32mfrom\u001b[0m \u001b[0mpyspark\u001b[0m \u001b[0;32mimport\u001b[0m \u001b[0mSparkContext\u001b[0m\u001b[0;34m,\u001b[0m \u001b[0mSparkConf\u001b[0m\u001b[0;34m\u001b[0m\u001b[0;34m\u001b[0m\u001b[0m\n",
            "\u001b[0;31mImportError\u001b[0m: cannot import name 'VectorUDT' from 'pyspark.sql.types' (/usr/local/lib/python3.10/dist-packages/pyspark/sql/types.py)",
            "",
            "\u001b[0;31m---------------------------------------------------------------------------\u001b[0;32m\nNOTE: If your import is failing due to a missing package, you can\nmanually install dependencies using either !pip or !apt.\n\nTo view examples of installing some common dependencies, click the\n\"Open Examples\" button below.\n\u001b[0;31m---------------------------------------------------------------------------\u001b[0m\n"
          ],
          "errorDetails": {
            "actions": [
              {
                "action": "open_url",
                "actionText": "Open Examples",
                "url": "/notebooks/snippets/importing_libraries.ipynb"
              }
            ]
          }
        }
      ],
      "source": [
        "#@title Imports\n",
        "import os\n",
        "import requests\n",
        "import pandas as pd\n",
        "import numpy as np\n",
        "import matplotlib.pyplot as plt\n",
        "import seaborn as sns\n",
        "%matplotlib inline\n",
        "import plotly\n",
        "\n",
        "import pyspark\n",
        "from pyspark.sql import *\n",
        "from pyspark.sql.types import StructType, StructField, StringType, IntegerType, ArrayType, FloatType, LongType\n",
        "from pyspark.sql.functions import *\n",
        "from pyspark import SparkContext, SparkConf\n",
        "\n",
        "from google.colab import drive"
      ]
    },
    {
      "cell_type": "code",
      "execution_count": 4,
      "metadata": {
        "id": "JF8LUBZeYiWP",
        "cellView": "form"
      },
      "outputs": [],
      "source": [
        "#@title Set up variables\n",
        "JAVA_HOME = \"/usr/lib/jvm/java-8-openjdk-amd64\"\n",
        "GDRIVE_DIR = \"/content/drive\"\n",
        "GDRIVE_HOME_DIR = GDRIVE_DIR + \"/MyDrive\"\n",
        "GDRIVE_DATA_DIR = GDRIVE_HOME_DIR + \"/Big Data/datasets\"\n",
        "DATASET_FILE = os.path.join(GDRIVE_DATA_DIR, \"pyspark_friendly_spotify_playlist_dataset\")\n",
        "AUDIO_FEATURES_FILE = os.path.join(GDRIVE_DATA_DIR, \"pyspark_track_features\")\n",
        "LITTLE_SLICE_FILE = os.path.join(GDRIVE_DATA_DIR, \"little_slice\")\n",
        "LITTLE_SLICE_AUDIO_FEATURES = os.path.join(GDRIVE_DATA_DIR, \"little_slice_audio_features\")\n",
        "MICRO_SLICE_AUDIO_FEATURES = os.path.join(GDRIVE_DATA_DIR, \"micro_slice_audio_features\")\n",
        "SPLITTED_SLICE_AUDIO_FEATURES = os.path.join(GDRIVE_DATA_DIR, \"splitted_pyspark_track_features\")\n",
        "SAVED_DFS_PATH = os.path.join(GDRIVE_DATA_DIR, \"saved_dfs\")\n",
        "RANDOM_SEED = 42 # for reproducibility\n",
        "os.environ[\"JAVA_HOME\"] = JAVA_HOME"
      ]
    },
    {
      "cell_type": "code",
      "execution_count": 5,
      "metadata": {
        "id": "4m7VztzdZgm6",
        "cellView": "form"
      },
      "outputs": [],
      "source": [
        "#@title Create the session\n",
        "conf = SparkConf().\\\n",
        "                set('spark.ui.port', \"4050\").\\\n",
        "                set('spark.executor.memory', '12G').\\\n",
        "                set('spark.driver.memory', '12G').\\\n",
        "                set('spark.driver.maxResultSize', '100G').\\\n",
        "                set(\"spark.executor.extraJavaOptions\", \"-XX:+UseG1GC\").\\\n",
        "                setAppName(\"PySparkTutorial\").\\\n",
        "                setMaster(\"local[*]\")\n",
        "\n",
        "# Create the context\n",
        "sc = pyspark.SparkContext(conf=conf)\n",
        "spark = SparkSession.builder.getOrCreate()"
      ]
    },
    {
      "cell_type": "code",
      "execution_count": 6,
      "metadata": {
        "id": "vsX5d-YXZ2Ul",
        "colab": {
          "base_uri": "https://localhost:8080/"
        },
        "outputId": "765f6bbd-f2d7-411c-a7dd-fe5a8a5ac923"
      },
      "outputs": [
        {
          "output_type": "stream",
          "name": "stdout",
          "text": [
            "Mounted at /content/drive\n"
          ]
        }
      ],
      "source": [
        "drive.mount(GDRIVE_DIR, force_remount=True)"
      ]
    },
    {
      "cell_type": "markdown",
      "metadata": {
        "id": "X-s_eNiVaxhn"
      },
      "source": [
        "## Setup ngrok"
      ]
    },
    {
      "cell_type": "code",
      "execution_count": 7,
      "metadata": {
        "id": "LrnLYquoarPa",
        "colab": {
          "base_uri": "https://localhost:8080/"
        },
        "outputId": "3aa72ad2-2511-495a-b5a8-713118543ba1"
      },
      "outputs": [
        {
          "output_type": "stream",
          "name": "stdout",
          "text": [
            "Looking in indexes: https://pypi.org/simple, https://us-python.pkg.dev/colab-wheels/public/simple/\n",
            "Collecting pyngrok\n",
            "  Downloading pyngrok-6.0.0.tar.gz (681 kB)\n",
            "\u001b[2K     \u001b[90m━━━━━━━━━━━━━━━━━━━━━━━━━━━━━━━━━━━━━━\u001b[0m \u001b[32m681.2/681.2 kB\u001b[0m \u001b[31m10.7 MB/s\u001b[0m eta \u001b[36m0:00:00\u001b[0m\n",
            "\u001b[?25h  Preparing metadata (setup.py) ... \u001b[?25l\u001b[?25hdone\n",
            "Requirement already satisfied: PyYAML in /usr/local/lib/python3.10/dist-packages (from pyngrok) (6.0)\n",
            "Building wheels for collected packages: pyngrok\n",
            "  Building wheel for pyngrok (setup.py) ... \u001b[?25l\u001b[?25hdone\n",
            "  Created wheel for pyngrok: filename=pyngrok-6.0.0-py3-none-any.whl size=19867 sha256=8075d7e08e473c6ad76acdd31b0f915b304b5d46f8be80c837fbdce95113838e\n",
            "  Stored in directory: /root/.cache/pip/wheels/5c/42/78/0c3d438d7f5730451a25f7ac6cbf4391759d22a67576ed7c2c\n",
            "Successfully built pyngrok\n",
            "Installing collected packages: pyngrok\n",
            "Successfully installed pyngrok-6.0.0\n"
          ]
        }
      ],
      "source": [
        "!pip install pyngrok"
      ]
    },
    {
      "cell_type": "code",
      "execution_count": 8,
      "metadata": {
        "id": "K3IEuiyDawo3",
        "colab": {
          "base_uri": "https://localhost:8080/"
        },
        "outputId": "058546c8-a4b9-4bf4-9f8c-0cc5cff89a18"
      },
      "outputs": [
        {
          "output_type": "stream",
          "name": "stdout",
          "text": [
            "Authtoken saved to configuration file: /root/.ngrok2/ngrok.yml\n"
          ]
        }
      ],
      "source": [
        "!ngrok authtoken 2NVN8kdoOnMVtlDGGWtwsbT5M3Q_2EJv2HE77FEXkz978Qtnq"
      ]
    },
    {
      "cell_type": "code",
      "execution_count": 9,
      "metadata": {
        "id": "0qJN-lfta1ok",
        "colab": {
          "base_uri": "https://localhost:8080/"
        },
        "outputId": "4ba1e692-88e9-4b59-b043-560a12e09e6a"
      },
      "outputs": [
        {
          "output_type": "stream",
          "name": "stderr",
          "text": [
            "WARNING:pyngrok.process.ngrok:t=2023-05-11T08:38:43+0000 lvl=warn msg=\"ngrok config file found at legacy location, move to XDG location\" xdg_path=/root/.config/ngrok/ngrok.yml legacy_path=/root/.ngrok2/ngrok.yml\n"
          ]
        }
      ],
      "source": [
        "from pyngrok import ngrok\n",
        "\n",
        "# Open a ngrok tunnel on the port 4050 where Spark is running\n",
        "port = '4050'\n",
        "public_url = ngrok.connect(port).public_url"
      ]
    },
    {
      "cell_type": "code",
      "execution_count": 10,
      "metadata": {
        "id": "x15LhY-5a3Yi",
        "colab": {
          "base_uri": "https://localhost:8080/"
        },
        "outputId": "a4735e76-f6f5-48fb-f806-b82eb397beee"
      },
      "outputs": [
        {
          "output_type": "stream",
          "name": "stdout",
          "text": [
            "To access the Spark Web UI console, please click on the following link to the ngrok tunnel \"https://e6af-35-185-57-204.ngrok-free.app\" -> \"http://127.0.0.1:4050\"\n"
          ]
        }
      ],
      "source": [
        "print(\"To access the Spark Web UI console, please click on the following link to the ngrok tunnel \\\"{}\\\" -> \\\"http://127.0.0.1:{}\\\"\".format(public_url, port))"
      ]
    },
    {
      "cell_type": "code",
      "execution_count": 11,
      "metadata": {
        "cellView": "form",
        "id": "jlxfJiBSZ6ju",
        "colab": {
          "base_uri": "https://localhost:8080/"
        },
        "outputId": "f5efd5a5-2a8e-4dd0-baad-eb2ee99940a2"
      },
      "outputs": [
        {
          "output_type": "execute_result",
          "data": {
            "text/plain": [
              "(<pyspark.sql.session.SparkSession at 0x7f54ec76e3e0>,\n",
              " [('spark.executor.extraJavaOptions',\n",
              "   '-Djava.net.preferIPv6Addresses=false -XX:+IgnoreUnrecognizedVMOptions --add-opens=java.base/java.lang=ALL-UNNAMED --add-opens=java.base/java.lang.invoke=ALL-UNNAMED --add-opens=java.base/java.lang.reflect=ALL-UNNAMED --add-opens=java.base/java.io=ALL-UNNAMED --add-opens=java.base/java.net=ALL-UNNAMED --add-opens=java.base/java.nio=ALL-UNNAMED --add-opens=java.base/java.util=ALL-UNNAMED --add-opens=java.base/java.util.concurrent=ALL-UNNAMED --add-opens=java.base/java.util.concurrent.atomic=ALL-UNNAMED --add-opens=java.base/sun.nio.ch=ALL-UNNAMED --add-opens=java.base/sun.nio.cs=ALL-UNNAMED --add-opens=java.base/sun.security.action=ALL-UNNAMED --add-opens=java.base/sun.util.calendar=ALL-UNNAMED --add-opens=java.security.jgss/sun.security.krb5=ALL-UNNAMED -Djdk.reflect.useDirectMethodHandle=false -XX:+UseG1GC'),\n",
              "  ('spark.app.name', 'PySparkTutorial'),\n",
              "  ('spark.app.startTime', '1683794269002'),\n",
              "  ('spark.executor.id', 'driver'),\n",
              "  ('spark.driver.port', '38551'),\n",
              "  ('spark.app.submitTime', '1683794268371'),\n",
              "  ('spark.driver.extraJavaOptions',\n",
              "   '-Djava.net.preferIPv6Addresses=false -XX:+IgnoreUnrecognizedVMOptions --add-opens=java.base/java.lang=ALL-UNNAMED --add-opens=java.base/java.lang.invoke=ALL-UNNAMED --add-opens=java.base/java.lang.reflect=ALL-UNNAMED --add-opens=java.base/java.io=ALL-UNNAMED --add-opens=java.base/java.net=ALL-UNNAMED --add-opens=java.base/java.nio=ALL-UNNAMED --add-opens=java.base/java.util=ALL-UNNAMED --add-opens=java.base/java.util.concurrent=ALL-UNNAMED --add-opens=java.base/java.util.concurrent.atomic=ALL-UNNAMED --add-opens=java.base/sun.nio.ch=ALL-UNNAMED --add-opens=java.base/sun.nio.cs=ALL-UNNAMED --add-opens=java.base/sun.security.action=ALL-UNNAMED --add-opens=java.base/sun.util.calendar=ALL-UNNAMED --add-opens=java.security.jgss/sun.security.krb5=ALL-UNNAMED -Djdk.reflect.useDirectMethodHandle=false'),\n",
              "  ('spark.ui.port', '4050'),\n",
              "  ('spark.rdd.compress', 'True'),\n",
              "  ('spark.driver.memory', '12G'),\n",
              "  ('spark.driver.host', '1481ec42a32e'),\n",
              "  ('spark.serializer.objectStreamReset', '100'),\n",
              "  ('spark.master', 'local[*]'),\n",
              "  ('spark.submit.pyFiles', ''),\n",
              "  ('spark.driver.maxResultSize', '100G'),\n",
              "  ('spark.submit.deployMode', 'client'),\n",
              "  ('spark.app.id', 'local-1683794272480'),\n",
              "  ('spark.executor.memory', '12G'),\n",
              "  ('spark.ui.showConsoleProgress', 'true')])"
            ]
          },
          "metadata": {},
          "execution_count": 11
        }
      ],
      "source": [
        "#@title Check if everything is ok\n",
        "spark, sc._conf.getAll()\n"
      ]
    },
    {
      "cell_type": "markdown",
      "metadata": {
        "id": "VJeY9PpvaHUJ"
      },
      "source": [
        "# Data acquisition"
      ]
    },
    {
      "cell_type": "code",
      "execution_count": 12,
      "metadata": {
        "id": "icd2lj-RRvhU"
      },
      "outputs": [],
      "source": [
        "\n",
        "song_schema = StructType([\n",
        "    StructField(\"pos\", IntegerType(), True),\n",
        "    StructField(\"artist_name\", StringType(), True),\n",
        "    StructField(\"track_uri\", StringType(), True),\n",
        "    StructField(\"artist_uri\", StringType(), True),\n",
        "    StructField(\"track_name\", StringType(), True),\n",
        "    StructField(\"album_uri\", StringType(), True),\n",
        "    StructField(\"duration_ms\", LongType(), True),\n",
        "    StructField(\"album_name\", StringType(), True)\n",
        "])\n",
        "\n",
        "playlist_schema = StructType([\n",
        "    StructField(\"name\", StringType(), True),\n",
        "    StructField(\"collaborative\", StringType(), True),\n",
        "    StructField(\"pid\", IntegerType(), True),\n",
        "    StructField(\"modified_at\", IntegerType(), True),\n",
        "    StructField(\"num_tracks\", IntegerType(), True),\n",
        "    StructField(\"num_albums\", IntegerType(), True),\n",
        "    StructField(\"num_followers\", IntegerType(), True),\n",
        "    StructField(\"tracks\", ArrayType(song_schema), True),\n",
        "    StructField(\"num_edits\", IntegerType(), True),\n",
        "    StructField(\"duration_ms\", IntegerType(), True),\n",
        "    StructField(\"num_artists\", IntegerType(), True),\n",
        "])\n",
        "\n",
        "audio_features_schema = StructType([\n",
        "    StructField(\"danceability\", FloatType(), True),\n",
        "    StructField(\"energy\", FloatType(), True),\n",
        "    StructField(\"key\", IntegerType(), True),\n",
        "    StructField(\"loudness\", FloatType(), True),\n",
        "    StructField(\"mode\", IntegerType(), True),\n",
        "    StructField(\"speechiness\", FloatType(), True),\n",
        "    StructField(\"acousticness\", FloatType(), True),\n",
        "    StructField(\"instrumentalness\", FloatType(), True),\n",
        "    StructField(\"liveness\", FloatType(), True),\n",
        "    StructField(\"valence\", FloatType(), True),\n",
        "    StructField(\"tempo\", FloatType(), True),\n",
        "    StructField(\"type\", StringType(), True),\n",
        "    StructField(\"id\", StringType(), True),\n",
        "    StructField(\"uri\", StringType(), True),\n",
        "    StructField(\"track_href\", StringType(), True),\n",
        "    StructField(\"analysis_url\", StringType(), True),\n",
        "    StructField(\"duration_ms\", LongType(), True),\n",
        "    StructField(\"time_signature\", IntegerType(), True)\n",
        "])\n"
      ]
    },
    {
      "cell_type": "code",
      "execution_count": 13,
      "metadata": {
        "id": "BY_szFyLTps4"
      },
      "outputs": [],
      "source": [
        "playlist_df = spark.read.schema(playlist_schema).json(DATASET_FILE, multiLine=True)\n",
        "sampled_df = playlist_df.limit(100000)\n",
        "small_df = playlist_df.limit(1000)\n",
        "micro_df = playlist_df.limit(100)\n",
        "slice_df = spark.read.schema(playlist_schema).json(LITTLE_SLICE_FILE, multiLine=True)\n",
        "audio_df = spark.read.schema(audio_features_schema).json(SPLITTED_SLICE_AUDIO_FEATURES, multiLine=True) #has less songs than expected"
      ]
    },
    {
      "cell_type": "code",
      "execution_count": 14,
      "metadata": {
        "id": "PEI_1vcSPxOG"
      },
      "outputs": [],
      "source": [
        "# slice_df.select(\"tracks\").first()"
      ]
    },
    {
      "cell_type": "code",
      "execution_count": 15,
      "metadata": {
        "id": "gnNiOotq3p3f",
        "colab": {
          "base_uri": "https://localhost:8080/"
        },
        "outputId": "3f25c155-c8b1-4818-947a-c6e953baa95e"
      },
      "outputs": [
        {
          "output_type": "stream",
          "name": "stdout",
          "text": [
            "+-------------+-------------+----+-----------+----------+----------+-------------+--------------------+---------+-----------+-----------+\n",
            "|         name|collaborative| pid|modified_at|num_tracks|num_albums|num_followers|              tracks|num_edits|duration_ms|num_artists|\n",
            "+-------------+-------------+----+-----------+----------+----------+-------------+--------------------+---------+-----------+-----------+\n",
            "|       disney|        false|1000| 1457827200|       189|        16|            1|[{0, Original Bro...|        4|   31428282|         65|\n",
            "|Indie Electro|        false|1001| 1417824000|       165|        18|            2|[{0, The Octopus ...|        2|   38241566|          8|\n",
            "|  jack & jack|        false|1002| 1465430400|        17|        14|            1|[{0, Jack & Jack,...|        3|    3549358|          3|\n",
            "|        vibes|        false|1003| 1498435200|       225|       195|            2|[{0, LANY, spotif...|       91|   51242585|        157|\n",
            "|        Indie|        false|1004| 1498608000|       165|       118|            1|[{0, Youth Lagoon...|       74|   42601098|         92|\n",
            "|      college|        false|1005| 1504310400|        28|        26|            1|[{0, Demi Lovato,...|        2|    5870710|         25|\n",
            "|    Summer 15|        false|1006| 1471996800|        80|        74|            2|[{0, Slaptop, spo...|       40|   19652753|         67|\n",
            "|    New music|        false|1007| 1509148800|        58|        48|            1|[{0, Post Malone,...|       20|   13158862|         38|\n",
            "|          Now|        false|1008| 1505692800|        84|        82|            3|[{0, Cyrus, spoti...|       36|   18432208|         79|\n",
            "|         Jams|        false|1009| 1507680000|        41|        36|            1|[{0, Justin Timbe...|       25|    9413467|         31|\n",
            "|    Party Mix|        false|1010| 1464393600|        74|        72|            2|[{0, Christina Ag...|       11|   17853470|         63|\n",
            "|         LOCO|        false|1011| 1491868800|        97|        90|           18|[{0, The Chainsmo...|       27|   20635206|         82|\n",
            "|   Bruno Mars|        false|1012| 1506211200|        18|         7|            1|[{0, Bruno Mars, ...|        3|    3974946|          3|\n",
            "|       Breezy|        false|1013| 1490140800|        67|        55|            1|[{0, Alessia Cara...|       42|   14724585|         45|\n",
            "|      Fall 16|        false|1014| 1496793600|        83|        64|            3|[{0, Sylvan Esso,...|       27|   21004989|         49|\n",
            "|          SLO|        false|1015| 1498262400|        53|        32|            1|[{0, The Band, sp...|        3|   12136870|         19|\n",
            "|       BANGAZ|        false|1016| 1508716800|       198|       141|            1|[{0, MadeinTYO, s...|      104|   43843897|         89|\n",
            "|  Piano Music|        false|1017| 1401148800|        29|        21|            1|[{0, The Piano Gu...|        5|    6992643|         12|\n",
            "|  Beach Music|        false|1018| 1492387200|       130|       106|           14|[{0, SOJA, spotif...|       27|   30811124|         70|\n",
            "|    Slow jamz|        false|1019| 1505779200|        43|        42|            1|[{0, K-Ci & JoJo,...|       15|   11198025|         32|\n",
            "+-------------+-------------+----+-----------+----------+----------+-------------+--------------------+---------+-----------+-----------+\n",
            "only showing top 20 rows\n",
            "\n"
          ]
        }
      ],
      "source": [
        "slice_df.show()"
      ]
    },
    {
      "cell_type": "markdown",
      "metadata": {
        "id": "WaSyTUepySNu"
      },
      "source": [
        "# User-Based Collaborative Filtering\n",
        "Note: The users are the playlists, the items are the songs and the ratings are 0 if the song is not in the playlist, 1 otherwise.\n",
        "\n",
        "We have to define a function $sim(u,v)$ that defines the similarity between two users based on their ratings.\n",
        "\n",
        "We represent the ratings $r_u \\in \\mathbb{R}^n$ as the $n$ dimensional vector that represents the ratings of the user $u$, where $n$ is the number of total songs in the dataset.\n",
        "\n",
        "As the similarity function we can use Jaccard similarity.\n",
        "\\begin{equation}\n",
        "sim(u,v) = J(r_u, r_v) = \\frac{|r_u \\cap r_v|}{|r_u \\cup r_v|}\n",
        "\\end{equation}\n",
        "\n",
        "Jaccard similarity ignores rating values, but we don't care here since the ratings are binary. In case of discrete value ratings we can use cosine similarity, or better pearson's correlation.\n",
        "\n",
        "Done that, and defined as ${U^k}$ the neighborhood of $u$ ($k$ most similar users to $u$), we define the set of items rated by $u$'s neighborhood as\n",
        "\n",
        "\\begin{equation}\n",
        "I^k = \\{i \\in I : \\mathbf{r_{u,i}} \\downarrow \\land u \\in U^k\\}\n",
        "\\end{equation}\n",
        "\n",
        "The rating for the item $i$ to the user $u$ will just be $\\mathbf{r_u[i]}$."
      ]
    },
    {
      "cell_type": "code",
      "execution_count": 57,
      "metadata": {
        "id": "-XqhUqgS1Qp0"
      },
      "outputs": [],
      "source": [
        "from pyspark.mllib.linalg import SparseVector, DenseVector\n",
        "\n",
        "def dense_to_sparse(dense: DenseVector) -> SparseVector:\n",
        "  nonzero_indices = np.nonzero(np.array(dense))[0]\n",
        "  nonzero_values = np.array(dense)[nonzero_indices]\n",
        "  sparse_vector = SparseVector(len(dense), nonzero_indices.tolist(), nonzero_values.tolist())\n",
        "  return sparse_vector"
      ]
    },
    {
      "cell_type": "code",
      "execution_count": null,
      "metadata": {
        "id": "6tvZAyYD4NXA",
        "colab": {
          "base_uri": "https://localhost:8080/"
        },
        "outputId": "8419e1ef-c4c1-433d-f01b-8ebe91fb565a"
      },
      "outputs": [
        {
          "output_type": "stream",
          "name": "stdout",
          "text": [
            "+--------------------+---+\n",
            "|                 uri|pos|\n",
            "+--------------------+---+\n",
            "|spotify:track:2Y6...|  0|\n",
            "|spotify:track:5v7...|  1|\n",
            "|spotify:track:5C5...|  2|\n",
            "|spotify:track:5WK...|  3|\n",
            "|spotify:track:0Ry...|  4|\n",
            "|spotify:track:5N5...|  5|\n",
            "|spotify:track:4wq...|  6|\n",
            "|spotify:track:2cI...|  7|\n",
            "|spotify:track:6EZ...|  8|\n",
            "|spotify:track:1Oc...|  9|\n",
            "|spotify:track:27A...| 10|\n",
            "|spotify:track:2Og...| 11|\n",
            "|spotify:track:4hY...| 12|\n",
            "|spotify:track:27P...| 13|\n",
            "|spotify:track:3sZ...| 14|\n",
            "|spotify:track:2x7...| 15|\n",
            "|spotify:track:5ud...| 16|\n",
            "|spotify:track:3Ms...| 17|\n",
            "|spotify:track:1jj...| 18|\n",
            "|spotify:track:1mr...| 19|\n",
            "+--------------------+---+\n",
            "only showing top 20 rows\n",
            "\n"
          ]
        }
      ],
      "source": [
        "def get_all_songs(playlist_df: DataFrame, set_in_playlist: bool = False) -> DataFrame:\n",
        "   all_songs = playlist_df.select(explode(\"tracks.track_uri\").alias(\"uri\")).distinct()\n",
        "   if set_in_playlist:\n",
        "     all_songs = all_songs.withColumn(\"in_playlist\", lit(1))\n",
        "   return all_songs\n",
        "  \n",
        "songs_df = get_all_songs(slice_df)\n",
        "songs_df = songs_df.withColumn(\"pos\", monotonically_increasing_id())\n",
        "songs_df.show()\n",
        "\n",
        "RATING_VECTOR_LENGTH = songs_df.count()"
      ]
    },
    {
      "cell_type": "code",
      "execution_count": null,
      "metadata": {
        "id": "GDOER74y5WEJ",
        "colab": {
          "base_uri": "https://localhost:8080/"
        },
        "outputId": "4ec8a13d-6760-4390-846a-b9fd549ecdd5"
      },
      "outputs": [
        {
          "output_type": "execute_result",
          "data": {
            "text/plain": [
              "(2.432114839553833,\n",
              " SparseVector(36175, {0: 1.0, 153: 1.0, 545: 1.0, 727: 1.0, 910: 1.0, 1095: 1.0, 1414: 1.0, 1763: 1.0, 1764: 1.0, 2129: 1.0, 2677: 1.0, 2678: 1.0, 2880: 1.0, 3389: 1.0, 3559: 1.0, 3726: 1.0, 3913: 1.0, 3914: 1.0, 4102: 1.0, 4283: 1.0, 4646: 1.0, 4647: 1.0, 4824: 1.0, 4993: 1.0, 5512: 1.0, 5684: 1.0, 5685: 1.0, 5864: 1.0, 6048: 1.0, 6248: 1.0, 6249: 1.0, 6423: 1.0, 6424: 1.0, 6770: 1.0, 6927: 1.0, 7128: 1.0, 7282: 1.0, 7460: 1.0, 7461: 1.0, 7462: 1.0, 7463: 1.0, 7638: 1.0, 7789: 1.0, 7790: 1.0, 7965: 1.0, 7966: 1.0, 7967: 1.0, 8125: 1.0, 8126: 1.0, 8309: 1.0, 8686: 1.0, 8687: 1.0, 8852: 1.0, 9050: 1.0, 9051: 1.0, 9215: 1.0, 9385: 1.0, 9386: 1.0, 9738: 1.0, 9924: 1.0, 9925: 1.0, 9926: 1.0, 10287: 1.0, 10510: 1.0, 10691: 1.0, 10692: 1.0, 10885: 1.0, 11072: 1.0, 11073: 1.0, 11448: 1.0, 11649: 1.0, 11650: 1.0, 12217: 1.0, 13494: 1.0, 13674: 1.0, 13675: 1.0, 13676: 1.0, 13677: 1.0, 13857: 1.0, 14223: 1.0, 14224: 1.0, 14419: 1.0, 14795: 1.0, 14796: 1.0, 14797: 1.0, 14798: 1.0, 14982: 1.0, 14983: 1.0, 14984: 1.0, 15678: 1.0, 15679: 1.0, 15851: 1.0, 15852: 1.0, 15853: 1.0, 15854: 1.0, 15855: 1.0, 15856: 1.0, 16204: 1.0, 16205: 1.0, 16206: 1.0, 16207: 1.0, 16406: 1.0, 16733: 1.0, 16907: 1.0, 17082: 1.0, 17407: 1.0, 17759: 1.0, 18295: 1.0, 18296: 1.0, 18652: 1.0, 19756: 1.0, 19951: 1.0, 20136: 1.0, 20321: 1.0, 20322: 1.0, 20488: 1.0, 20841: 1.0, 21001: 1.0, 21002: 1.0, 21706: 1.0, 21889: 1.0, 22231: 1.0, 22428: 1.0, 22429: 1.0, 22793: 1.0, 22978: 1.0, 23144: 1.0, 23145: 1.0, 23738: 1.0, 24091: 1.0, 24092: 1.0, 24792: 1.0, 25574: 1.0, 25775: 1.0, 25776: 1.0, 26137: 1.0, 26138: 1.0, 26321: 1.0, 26838: 1.0, 27026: 1.0, 27424: 1.0, 27600: 1.0, 27964: 1.0, 28156: 1.0, 28157: 1.0, 28340: 1.0, 28508: 1.0, 28671: 1.0, 28850: 1.0, 29048: 1.0, 29049: 1.0, 29435: 1.0, 29436: 1.0, 29620: 1.0, 29795: 1.0, 29796: 1.0, 30380: 1.0, 30563: 1.0, 31268: 1.0, 31456: 1.0, 31651: 1.0, 31833: 1.0, 31834: 1.0, 32406: 1.0, 32772: 1.0, 32773: 1.0, 32774: 1.0, 32948: 1.0, 33126: 1.0, 33311: 1.0, 33494: 1.0, 33662: 1.0, 33663: 1.0, 34013: 1.0, 34014: 1.0, 34015: 1.0, 34382: 1.0, 34954: 1.0, 35143: 1.0, 35318: 1.0, 35821: 1.0, 35989: 1.0, 35990: 1.0, 35991: 1.0, 35992: 1.0}))"
            ]
          },
          "metadata": {},
          "execution_count": 42
        }
      ],
      "source": [
        "def _create_rating_df(playlist_row: Row, songs_df: DataFrame) -> DataFrame:\n",
        "  \"\"\"\n",
        "  Creates a dataframe that represents the \"ratings\" for a playlist in the dataframe\n",
        "  \"\"\"\n",
        "  playlist_row = spark.createDataFrame([playlist_row], playlist_schema)\n",
        "  playlist_uris = get_all_songs(playlist_row)\n",
        "\n",
        "  joined = songs_df.join(playlist_uris, on=\"uri\", how=\"right\")\n",
        "  return joined\n",
        "\n",
        "\n",
        "def _check_songs_ordering(playlist_row: DataFrame, songs_df: DataFrame) -> bool:\n",
        "  \"\"\"\n",
        "  Returns a boolean that indicates if the ordering in the songs_df and rating_df is the same\n",
        "  \"\"\"\n",
        "  playlist_row = spark.createDataFrame([playlist_row], playlist_schema)\n",
        "  playlist_uris = get_all_songs(playlist_row, True).withColumnRenamed(\"in_playlist\", \"isin\")\n",
        "\n",
        "  joined = songs_df.join(playlist_uris, on=\"uri\", how=\"right\")\n",
        "  joined_left = songs_df.join(playlist_uris, on=\"uri\", how=\"left\").filter(\"isin == 1\")\n",
        "  assert joined.collect() == joined_left.collect(), f\"The order of songs_df is different from the order of rating_df!\"\n",
        "\n",
        "# def _extract_rating_vector(rating_df: DataFrame) -> SparseVector:\n",
        "#   \"\"\"\n",
        "#   Extracts the rating vectors for each playlist \n",
        "#   \"\"\"\n",
        "#   dense_vector = DenseVector([row.isin for row in rating_df.select(\"isin\").collect()])\n",
        "#   return dense_to_sparse(dense_vector)\n",
        "\n",
        "def _extrac_sparse_rating_vector(rating_df: DataFrame) -> SparseVector:\n",
        "  indices = np.sort([row.pos for row in rating_df.collect()])\n",
        "  return SparseVector(RATING_VECTOR_LENGTH, indices, np.ones(indices.shape[0]) )\n",
        "\n",
        "def rating_vector_from_row(playlist_row: Row, songs_df: DataFrame):\n",
        "  \"\"\"\n",
        "  Pipelines togheter create_rating_df and extract_rating_vector.\n",
        "  \"\"\"\n",
        "  rating_df_1 = _create_rating_df(playlist_row, songs_df)\n",
        "  rating_vector_1 = _extrac_sparse_rating_vector(rating_df_1)\n",
        "  return rating_vector_1\n",
        "\n",
        "import time\n",
        "t1 = time.time() \n",
        "rating_vector_1 = rating_vector_from_row(slice_df.first(), songs_df)\n",
        "\n",
        "t2 = time.time()\n",
        "\n",
        "t2 - t1, rating_vector_1"
      ]
    },
    {
      "cell_type": "code",
      "execution_count": 58,
      "metadata": {
        "id": "5Nhc0hwgDQ6X"
      },
      "outputs": [],
      "source": [
        "from tqdm.notebook import tqdm\n",
        "import gc\n",
        "\n",
        "\n",
        "def jaccard_similarity(vector_1: SparseVector, vector_2: SparseVector) -> float:\n",
        "  # Convert SparseVectors to sets\n",
        "  set1 = set(vector_1.indices)\n",
        "  set2 = set(vector_2.indices)\n",
        "\n",
        "  # Calculate the intersection and union of the sets\n",
        "  intersection = len(set1.intersection(set2))\n",
        "  union = len(set1.union(set2))\n",
        "\n",
        "  # Calculate the similarity\n",
        "  similarity = intersection / union\n",
        "\n",
        "  return similarity\n",
        "\n",
        "def dot_product()\n",
        "\n",
        "# def create_similarity_df(main_playlist_row: Row, playlists_df: DataFrame, songs_df: DataFrame) -> DataFrame:\n",
        "#   result = []\n",
        "#   main_vector = rating_vector_from_row(main_playlist_row, songs_df)\n",
        "#   for playlist_row in tqdm(playlists_df.collect(), desc=\"Creating similarity dataframe\"):\n",
        "#     other_vector = rating_vector_from_row(playlist_row, songs_df)\n",
        "#     similarity = jaccard_similarity(main_vector, other_vector).item()\n",
        "    \n",
        "#     del other_vector\n",
        "#     gc.collect()\n",
        "\n",
        "#     result.append(Row(other_pid=playlist_row.pid, similarity=similarity))\n",
        "\n",
        "#   schema = StructType([ StructField(\"other_pid\", IntegerType(), True), StructField(\"similarity\", FloatType(), True) ])\n",
        "#   return spark.createDataFrame(result, schema)\n",
        "\n",
        "# simil_df = create_similarity_df(slice_df.first(), slice_df, songs_df)"
      ]
    },
    {
      "cell_type": "code",
      "execution_count": null,
      "metadata": {
        "colab": {
          "base_uri": "https://localhost:8080/",
          "height": 49,
          "referenced_widgets": [
            "41791a323b3a4809b284ec4b49a5f43b",
            "a353dfa8f1fe4b0896c85daa4fb6ae1f",
            "52838ad8ebff4910bb68a8b5b787f76b",
            "3492fcf885524d0eadbba32f0db3d7fd",
            "162bddf4e1aa4f31830883476a838f48",
            "ef50cc8fc55d4af58f8e93130dc71b5d",
            "8c3cd9521aff4db8a2eb27eac172c876",
            "7a3e7128e2514b189db5a45669ef4ad7",
            "64cbcb41bbf3417f853eb65ac653ff68",
            "f015ce62732746a48bcf6d72d084ee22",
            "345fb032dd7a4707addcea0e53b3a7a7"
          ]
        },
        "id": "yuDooTJ4_7Pz",
        "outputId": "be5329a7-bc58-4a62-d854-c90ff64d5309"
      },
      "outputs": [
        {
          "output_type": "display_data",
          "data": {
            "text/plain": [
              "Creating rating vectors:   0%|          | 0/1000 [00:00<?, ?it/s]"
            ],
            "application/vnd.jupyter.widget-view+json": {
              "version_major": 2,
              "version_minor": 0,
              "model_id": "41791a323b3a4809b284ec4b49a5f43b"
            }
          },
          "metadata": {}
        }
      ],
      "source": [
        "from tqdm.notebook import tqdm\n",
        "import gc\n",
        "def create_rating_vectors_df(playlists_df: DataFrame) -> DataFrame:\n",
        "  rating_vectors = []\n",
        "\n",
        "  for playlist_row in tqdm(playlists_df.collect(), desc=\"Creating rating vectors\"):\n",
        "    rating_vector = rating_vector_from_row(playlist_row, songs_df)\n",
        "    new_row = Row(playlist_id=playlist_row.pid, rating_vector=rating_vector)\n",
        "    rating_vectors.append([new_row])\n",
        "    # del rating_vector\n",
        "    # gc.collect()\n",
        "  return spark.createDataFrame(rating_vectors)\n",
        "\n",
        "rating_vectors_df = create_rating_vectors_df(slice_df)"
      ]
    },
    {
      "cell_type": "code",
      "source": [
        "rating_vectors_df.write.parquet(os.path.join(SAVED_DFS_PATH, \"playlist_rating_df.parquet\"))"
      ],
      "metadata": {
        "id": "IKqGt1QEXZUi"
      },
      "execution_count": null,
      "outputs": []
    },
    {
      "cell_type": "code",
      "source": [
        "from pyspark.ml.linalg import VectorUDT\n",
        "rating_vectors_df = spark.read.parquet(os.path.join(SAVED_DFS_PATH, \"playlist_rating_df.parquet\"))\n",
        "rv_df = rating_vectors_df.select(col(\"_1.playlist_id\").alias(\"playlist_id\"), col(\"_1.rating_vector\").alias(\"rating_vector\"))"
      ],
      "metadata": {
        "id": "7dqkgwPddWIO"
      },
      "execution_count": 45,
      "outputs": []
    },
    {
      "cell_type": "code",
      "source": [
        "first_playlist_array = rv_df.limit(1).select(\"rating_vector\").withColumnRenamed(\"rating_vector\",\"input_vector\")\n",
        "rv_df_input = rv_df.crossJoin(first_playlist_array)"
      ],
      "metadata": {
        "id": "w0hQRGX0_6j6"
      },
      "execution_count": null,
      "outputs": []
    },
    {
      "cell_type": "code",
      "source": [
        "similarity_udf = udf(jaccard_similarity, returnType='double')\n",
        "result_df = rv_df_input.withColumn(\"similarity\", similarity_udf(rv_df_input[\"input_vector\"], rv_df_input[\"rating_vector\"]))"
      ],
      "metadata": {
        "id": "SGjEbkYTAI3h"
      },
      "execution_count": 107,
      "outputs": []
    },
    {
      "cell_type": "markdown",
      "source": [
        "Curse of dimensionality! We can see that each playlist is very dissimilar from each other playlist."
      ],
      "metadata": {
        "id": "12CY_fuNFXKr"
      }
    },
    {
      "cell_type": "code",
      "source": [
        "result_df.filter(\"similarity > 0\").show()"
      ],
      "metadata": {
        "colab": {
          "base_uri": "https://localhost:8080/"
        },
        "id": "wNoSOnIqCLm8",
        "outputId": "f49de647-a52b-400b-a221-14f0abca47f2"
      },
      "execution_count": 109,
      "outputs": [
        {
          "output_type": "stream",
          "name": "stdout",
          "text": [
            "+-----------+--------------------+--------------------+--------------------+\n",
            "|playlist_id|       rating_vector|        input_vector|          similarity|\n",
            "+-----------+--------------------+--------------------+--------------------+\n",
            "|       1000|(36175,[0,153,545...|(36175,[0,153,545...|                 1.0|\n",
            "|       1048|(36175,[2129,4119...|(36175,[0,153,545...| 0.03286384976525822|\n",
            "|       1056|(36175,[176,177,7...|(36175,[0,153,545...|0.009836065573770493|\n",
            "|       1190|(36175,[917,3578,...|(36175,[0,153,545...|0.004761904761904762|\n",
            "|       1219|(36175,[217,392,5...|(36175,[0,153,545...|0.005917159763313609|\n",
            "|       1259|(36175,[601,3726,...|(36175,[0,153,545...|0.024752475247524754|\n",
            "|       1260|(36175,[1476,2380...|(36175,[0,153,545...|0.004784688995215311|\n",
            "|       1301|(36175,[60,61,983...|(36175,[0,153,545...|            0.078125|\n",
            "|       1323|(36175,[59,214,37...|(36175,[0,153,545...|0.003095975232198...|\n",
            "|       1364|(36175,[570,3464,...|(36175,[0,153,545...|0.017699115044247787|\n",
            "|       1365|(36175,[2129,3726...|(36175,[0,153,545...| 0.07211538461538461|\n",
            "|       1389|(36175,[624,625,8...|(36175,[0,153,545...|0.003460207612456...|\n",
            "|       1458|(36175,[3818,1620...|(36175,[0,153,545...|0.020833333333333332|\n",
            "|       1459|(36175,[1109,2245...|(36175,[0,153,545...|0.005181347150259...|\n",
            "|       1491|(36175,[448,833,9...|(36175,[0,153,545...|             0.03125|\n",
            "|       1571|(36175,[19,200,47...|(36175,[0,153,545...|0.005602240896358...|\n",
            "|       1731|(36175,[2384,3270...|(36175,[0,153,545...| 0.02564102564102564|\n",
            "|       1766|(36175,[116,502,8...|(36175,[0,153,545...|0.010416666666666666|\n",
            "|       1806|(36175,[60,693,19...|(36175,[0,153,545...|  0.1018867924528302|\n",
            "|       1923|(36175,[59,214,23...|(36175,[0,153,545...|0.002631578947368421|\n",
            "+-----------+--------------------+--------------------+--------------------+\n",
            "\n"
          ]
        }
      ]
    },
    {
      "cell_type": "markdown",
      "metadata": {
        "id": "x-UNeSG31Hjw"
      },
      "source": [
        "#Item-Based Collaborative Filtering\n"
      ]
    },
    {
      "cell_type": "markdown",
      "source": [],
      "metadata": {
        "id": "oqfickiR9jDW"
      }
    },
    {
      "cell_type": "markdown",
      "metadata": {
        "id": "el7BsOEsjSgN"
      },
      "source": [
        "# Matrix Factorization\n",
        "Generate a matrix Y where each column represent a playlist and each row represent a song, the (i,j) entry will be 1 if the playlist contains the song, 0 otherwise."
      ]
    },
    {
      "cell_type": "code",
      "execution_count": null,
      "metadata": {
        "id": "B1PEWA1Xjbb2"
      },
      "outputs": [],
      "source": [
        "import torch\n",
        "import pyspark.sql.functions as f\n",
        "from pyspark.sql.functions import explode\n",
        "spark.conf.set(\"spark.sql.pivotMaxValues\", 1000000)\n",
        "\n",
        "from pyspark.ml.evaluation import RegressionEvaluator\n",
        "from pyspark.ml.recommendation import ALS\n",
        "from pyspark.sql import Row\n",
        "# Get a DataFrame of only the relevant columns from the playlist schema\n",
        "# playlists = slice_df.select(\"pid\", \"tracks.track_uri\")\n",
        "# playlists = playlists.select(\"pid\", explode(\"track_uri\").alias(\"song_uri\"))\n",
        "# playlists = playlists.withColumn(\"song_id\", dense_rank().over(Window.orderBy(\"song_uri\")))\n",
        "# plaulists = playlists.withColumn(\"rating\", lit(1))\n",
        "# playlists.count()\n",
        "\n",
        "from pyspark.sql.functions import expr\n"
      ]
    },
    {
      "cell_type": "code",
      "execution_count": null,
      "metadata": {
        "id": "tCEit6ZXgClg"
      },
      "outputs": [],
      "source": [
        "from pyspark.sql.functions import explode\n",
        "import random\n",
        "tracks_df = slice_df.select(\"pid\", explode(\"tracks\").alias(\"track\")).select(\"pid\", \"track.track_uri\")\n",
        "tracks_df = tracks_df.withColumn(\"rating\", lit(1))\n",
        "# tracks_df = tracks_df.withColumn(\"rating\", (rand() * 10 + 1).cast(\"integer\"))"
      ]
    },
    {
      "cell_type": "code",
      "execution_count": null,
      "metadata": {
        "id": "xzl4_KPigJyN"
      },
      "outputs": [],
      "source": [
        "tracks_df.show()"
      ]
    },
    {
      "cell_type": "code",
      "execution_count": null,
      "metadata": {
        "id": "CrNo-NacpGXC"
      },
      "outputs": [],
      "source": [
        "\n",
        "\n",
        "# Explode the tracks array column into multiple rows\n",
        "# tracks_df = slice_df.select(\"pid\", explode(\"tracks\").alias(\"track\"))\n",
        "# tracks_df = slice_df.select(\"pid\", \"tracks\", \"tracks\")\n",
        "tracks_df = slice_df.select(\"pid\", explode(\"tracks\").alias(\"track\")).select(\"pid\", \"track.track_uri\", \"track.pos\")\n",
        "\n",
        "# Select relevant columns and add a rating column with value 1\n",
        "playlist_track_df = tracks_df.withColumn(\"rating\", lit(1))\n",
        "\n",
        "# Get distinct track_uri values and join with playlist_track_df\n",
        "all_tracks_df = slice_df.select(explode(\"tracks\").alias(\"track\")).select(\"track.track_uri\").distinct()\n",
        "all_playlists_df = slice_df.select(\"pid\").distinct()\n",
        "\n",
        "all_against_all = all_tracks_df.join(all_playlists_df).distinct()\n",
        "\n",
        "from pyspark.sql.functions import when, col\n",
        "\n",
        "# playlist_track_rating_df = playlist_track_df.join(all_against_all, [\"pid\", \"track_uri\"], \"left_outer\") \\\n",
        "#     .withColumn(\"rating\", when(col(\"pos\").isNull(), 0).otherwise(1))\n",
        "\n",
        "playlist_track_rating_df = all_against_all.join(playlist_track_df, [\"pid\", \"track_uri\"], \"left_outer\") \\\n",
        "    .withColumn(\"rating\", when(col(\"pos\").isNull(), 0).otherwise(1)) \\\n",
        "    .drop(\"pos\")\n"
      ]
    },
    {
      "cell_type": "code",
      "execution_count": null,
      "metadata": {
        "id": "d_g71QpbzP9G"
      },
      "outputs": [],
      "source": [
        "playlist_track_rating_df = tracks_df.withColumn(\"song_id\", dense_rank().over(Window.orderBy(\"track_uri\")))"
      ]
    },
    {
      "cell_type": "code",
      "execution_count": null,
      "metadata": {
        "id": "DFR59iIwsuAv"
      },
      "outputs": [],
      "source": [
        "playlist_track_rating_df.show()"
      ]
    },
    {
      "cell_type": "code",
      "execution_count": null,
      "metadata": {
        "id": "UdsewFtBnmoE"
      },
      "outputs": [],
      "source": [
        "playlist_track_rating_df.groupBy(\"rating\").count().show()"
      ]
    },
    {
      "cell_type": "code",
      "execution_count": null,
      "metadata": {
        "id": "0E86sNXYxTJP"
      },
      "outputs": [],
      "source": [
        "als = ALS(userCol=\"pid\", itemCol=\"song_id\", ratingCol=\"rating\", nonnegative=True)"
      ]
    },
    {
      "cell_type": "code",
      "execution_count": null,
      "metadata": {
        "id": "Pf82Hstmxb7i"
      },
      "outputs": [],
      "source": [
        "training, test = playlist_track_rating_df.randomSplit([0.8, 0.2])\n",
        "model = als.fit(training)"
      ]
    },
    {
      "cell_type": "code",
      "execution_count": null,
      "metadata": {
        "id": "w_FWXza9ycMU"
      },
      "outputs": [],
      "source": [
        "predictions = model.transform(test)\n",
        "evaluator = RegressionEvaluator(metricName=\"rmse\", labelCol=\"rating\",\n",
        "                                predictionCol=\"prediction\")\n",
        "rmse = evaluator.evaluate(predictions)"
      ]
    },
    {
      "cell_type": "code",
      "execution_count": null,
      "metadata": {
        "id": "QwciStIaibF-"
      },
      "outputs": [],
      "source": [
        "predictions.show()"
      ]
    },
    {
      "cell_type": "code",
      "execution_count": null,
      "metadata": {
        "id": "FJfWDUMSh8Nd"
      },
      "outputs": [],
      "source": [
        "predictions.filter(col(\"prediction\") != \"NaN\").count(), predictions.filter(col(\"prediction\") == \"NaN\").count()"
      ]
    },
    {
      "cell_type": "code",
      "execution_count": null,
      "metadata": {
        "id": "47oQcRQdm-qy"
      },
      "outputs": [],
      "source": [
        "rmse"
      ]
    },
    {
      "cell_type": "code",
      "execution_count": null,
      "metadata": {
        "id": "vMvzQsXnykMX"
      },
      "outputs": [],
      "source": [
        "userRecs = model.recommendForAllUsers(10).orderBy(\"recommendations\")\n",
        "userRecs.first()"
      ]
    },
    {
      "cell_type": "code",
      "execution_count": null,
      "metadata": {
        "id": "kKrGgg35mjmS"
      },
      "outputs": [],
      "source": [
        "slice_df.filter(col(\"pid\") == 1710).select(explode(\"tracks.track_name\")).show()"
      ]
    },
    {
      "cell_type": "code",
      "execution_count": null,
      "metadata": {
        "id": "5mF1ERfgmyFU"
      },
      "outputs": [],
      "source": [
        "track_uris = playlist_track_rating_df.filter(col(\"song_id\") == 588).select(\"track_uri\")\n",
        "track_uris.first()"
      ]
    }
  ],
  "metadata": {
    "colab": {
      "provenance": [],
      "collapsed_sections": [
        "X-s_eNiVaxhn",
        "VJeY9PpvaHUJ",
        "el7BsOEsjSgN"
      ],
      "authorship_tag": "ABX9TyN+mSYAHT6mLI8T1xIJJDgv",
      "include_colab_link": true
    },
    "kernelspec": {
      "display_name": "Python 3",
      "name": "python3"
    },
    "language_info": {
      "name": "python"
    },
    "widgets": {
      "application/vnd.jupyter.widget-state+json": {
        "41791a323b3a4809b284ec4b49a5f43b": {
          "model_module": "@jupyter-widgets/controls",
          "model_name": "HBoxModel",
          "model_module_version": "1.5.0",
          "state": {
            "_dom_classes": [],
            "_model_module": "@jupyter-widgets/controls",
            "_model_module_version": "1.5.0",
            "_model_name": "HBoxModel",
            "_view_count": null,
            "_view_module": "@jupyter-widgets/controls",
            "_view_module_version": "1.5.0",
            "_view_name": "HBoxView",
            "box_style": "",
            "children": [
              "IPY_MODEL_a353dfa8f1fe4b0896c85daa4fb6ae1f",
              "IPY_MODEL_52838ad8ebff4910bb68a8b5b787f76b",
              "IPY_MODEL_3492fcf885524d0eadbba32f0db3d7fd"
            ],
            "layout": "IPY_MODEL_162bddf4e1aa4f31830883476a838f48"
          }
        },
        "a353dfa8f1fe4b0896c85daa4fb6ae1f": {
          "model_module": "@jupyter-widgets/controls",
          "model_name": "HTMLModel",
          "model_module_version": "1.5.0",
          "state": {
            "_dom_classes": [],
            "_model_module": "@jupyter-widgets/controls",
            "_model_module_version": "1.5.0",
            "_model_name": "HTMLModel",
            "_view_count": null,
            "_view_module": "@jupyter-widgets/controls",
            "_view_module_version": "1.5.0",
            "_view_name": "HTMLView",
            "description": "",
            "description_tooltip": null,
            "layout": "IPY_MODEL_ef50cc8fc55d4af58f8e93130dc71b5d",
            "placeholder": "​",
            "style": "IPY_MODEL_8c3cd9521aff4db8a2eb27eac172c876",
            "value": "Creating rating vectors: 100%"
          }
        },
        "52838ad8ebff4910bb68a8b5b787f76b": {
          "model_module": "@jupyter-widgets/controls",
          "model_name": "FloatProgressModel",
          "model_module_version": "1.5.0",
          "state": {
            "_dom_classes": [],
            "_model_module": "@jupyter-widgets/controls",
            "_model_module_version": "1.5.0",
            "_model_name": "FloatProgressModel",
            "_view_count": null,
            "_view_module": "@jupyter-widgets/controls",
            "_view_module_version": "1.5.0",
            "_view_name": "ProgressView",
            "bar_style": "success",
            "description": "",
            "description_tooltip": null,
            "layout": "IPY_MODEL_7a3e7128e2514b189db5a45669ef4ad7",
            "max": 1000,
            "min": 0,
            "orientation": "horizontal",
            "style": "IPY_MODEL_64cbcb41bbf3417f853eb65ac653ff68",
            "value": 1000
          }
        },
        "3492fcf885524d0eadbba32f0db3d7fd": {
          "model_module": "@jupyter-widgets/controls",
          "model_name": "HTMLModel",
          "model_module_version": "1.5.0",
          "state": {
            "_dom_classes": [],
            "_model_module": "@jupyter-widgets/controls",
            "_model_module_version": "1.5.0",
            "_model_name": "HTMLModel",
            "_view_count": null,
            "_view_module": "@jupyter-widgets/controls",
            "_view_module_version": "1.5.0",
            "_view_name": "HTMLView",
            "description": "",
            "description_tooltip": null,
            "layout": "IPY_MODEL_f015ce62732746a48bcf6d72d084ee22",
            "placeholder": "​",
            "style": "IPY_MODEL_345fb032dd7a4707addcea0e53b3a7a7",
            "value": " 1000/1000 [17:01&lt;00:00,  1.02s/it]"
          }
        },
        "162bddf4e1aa4f31830883476a838f48": {
          "model_module": "@jupyter-widgets/base",
          "model_name": "LayoutModel",
          "model_module_version": "1.2.0",
          "state": {
            "_model_module": "@jupyter-widgets/base",
            "_model_module_version": "1.2.0",
            "_model_name": "LayoutModel",
            "_view_count": null,
            "_view_module": "@jupyter-widgets/base",
            "_view_module_version": "1.2.0",
            "_view_name": "LayoutView",
            "align_content": null,
            "align_items": null,
            "align_self": null,
            "border": null,
            "bottom": null,
            "display": null,
            "flex": null,
            "flex_flow": null,
            "grid_area": null,
            "grid_auto_columns": null,
            "grid_auto_flow": null,
            "grid_auto_rows": null,
            "grid_column": null,
            "grid_gap": null,
            "grid_row": null,
            "grid_template_areas": null,
            "grid_template_columns": null,
            "grid_template_rows": null,
            "height": null,
            "justify_content": null,
            "justify_items": null,
            "left": null,
            "margin": null,
            "max_height": null,
            "max_width": null,
            "min_height": null,
            "min_width": null,
            "object_fit": null,
            "object_position": null,
            "order": null,
            "overflow": null,
            "overflow_x": null,
            "overflow_y": null,
            "padding": null,
            "right": null,
            "top": null,
            "visibility": null,
            "width": null
          }
        },
        "ef50cc8fc55d4af58f8e93130dc71b5d": {
          "model_module": "@jupyter-widgets/base",
          "model_name": "LayoutModel",
          "model_module_version": "1.2.0",
          "state": {
            "_model_module": "@jupyter-widgets/base",
            "_model_module_version": "1.2.0",
            "_model_name": "LayoutModel",
            "_view_count": null,
            "_view_module": "@jupyter-widgets/base",
            "_view_module_version": "1.2.0",
            "_view_name": "LayoutView",
            "align_content": null,
            "align_items": null,
            "align_self": null,
            "border": null,
            "bottom": null,
            "display": null,
            "flex": null,
            "flex_flow": null,
            "grid_area": null,
            "grid_auto_columns": null,
            "grid_auto_flow": null,
            "grid_auto_rows": null,
            "grid_column": null,
            "grid_gap": null,
            "grid_row": null,
            "grid_template_areas": null,
            "grid_template_columns": null,
            "grid_template_rows": null,
            "height": null,
            "justify_content": null,
            "justify_items": null,
            "left": null,
            "margin": null,
            "max_height": null,
            "max_width": null,
            "min_height": null,
            "min_width": null,
            "object_fit": null,
            "object_position": null,
            "order": null,
            "overflow": null,
            "overflow_x": null,
            "overflow_y": null,
            "padding": null,
            "right": null,
            "top": null,
            "visibility": null,
            "width": null
          }
        },
        "8c3cd9521aff4db8a2eb27eac172c876": {
          "model_module": "@jupyter-widgets/controls",
          "model_name": "DescriptionStyleModel",
          "model_module_version": "1.5.0",
          "state": {
            "_model_module": "@jupyter-widgets/controls",
            "_model_module_version": "1.5.0",
            "_model_name": "DescriptionStyleModel",
            "_view_count": null,
            "_view_module": "@jupyter-widgets/base",
            "_view_module_version": "1.2.0",
            "_view_name": "StyleView",
            "description_width": ""
          }
        },
        "7a3e7128e2514b189db5a45669ef4ad7": {
          "model_module": "@jupyter-widgets/base",
          "model_name": "LayoutModel",
          "model_module_version": "1.2.0",
          "state": {
            "_model_module": "@jupyter-widgets/base",
            "_model_module_version": "1.2.0",
            "_model_name": "LayoutModel",
            "_view_count": null,
            "_view_module": "@jupyter-widgets/base",
            "_view_module_version": "1.2.0",
            "_view_name": "LayoutView",
            "align_content": null,
            "align_items": null,
            "align_self": null,
            "border": null,
            "bottom": null,
            "display": null,
            "flex": null,
            "flex_flow": null,
            "grid_area": null,
            "grid_auto_columns": null,
            "grid_auto_flow": null,
            "grid_auto_rows": null,
            "grid_column": null,
            "grid_gap": null,
            "grid_row": null,
            "grid_template_areas": null,
            "grid_template_columns": null,
            "grid_template_rows": null,
            "height": null,
            "justify_content": null,
            "justify_items": null,
            "left": null,
            "margin": null,
            "max_height": null,
            "max_width": null,
            "min_height": null,
            "min_width": null,
            "object_fit": null,
            "object_position": null,
            "order": null,
            "overflow": null,
            "overflow_x": null,
            "overflow_y": null,
            "padding": null,
            "right": null,
            "top": null,
            "visibility": null,
            "width": null
          }
        },
        "64cbcb41bbf3417f853eb65ac653ff68": {
          "model_module": "@jupyter-widgets/controls",
          "model_name": "ProgressStyleModel",
          "model_module_version": "1.5.0",
          "state": {
            "_model_module": "@jupyter-widgets/controls",
            "_model_module_version": "1.5.0",
            "_model_name": "ProgressStyleModel",
            "_view_count": null,
            "_view_module": "@jupyter-widgets/base",
            "_view_module_version": "1.2.0",
            "_view_name": "StyleView",
            "bar_color": null,
            "description_width": ""
          }
        },
        "f015ce62732746a48bcf6d72d084ee22": {
          "model_module": "@jupyter-widgets/base",
          "model_name": "LayoutModel",
          "model_module_version": "1.2.0",
          "state": {
            "_model_module": "@jupyter-widgets/base",
            "_model_module_version": "1.2.0",
            "_model_name": "LayoutModel",
            "_view_count": null,
            "_view_module": "@jupyter-widgets/base",
            "_view_module_version": "1.2.0",
            "_view_name": "LayoutView",
            "align_content": null,
            "align_items": null,
            "align_self": null,
            "border": null,
            "bottom": null,
            "display": null,
            "flex": null,
            "flex_flow": null,
            "grid_area": null,
            "grid_auto_columns": null,
            "grid_auto_flow": null,
            "grid_auto_rows": null,
            "grid_column": null,
            "grid_gap": null,
            "grid_row": null,
            "grid_template_areas": null,
            "grid_template_columns": null,
            "grid_template_rows": null,
            "height": null,
            "justify_content": null,
            "justify_items": null,
            "left": null,
            "margin": null,
            "max_height": null,
            "max_width": null,
            "min_height": null,
            "min_width": null,
            "object_fit": null,
            "object_position": null,
            "order": null,
            "overflow": null,
            "overflow_x": null,
            "overflow_y": null,
            "padding": null,
            "right": null,
            "top": null,
            "visibility": null,
            "width": null
          }
        },
        "345fb032dd7a4707addcea0e53b3a7a7": {
          "model_module": "@jupyter-widgets/controls",
          "model_name": "DescriptionStyleModel",
          "model_module_version": "1.5.0",
          "state": {
            "_model_module": "@jupyter-widgets/controls",
            "_model_module_version": "1.5.0",
            "_model_name": "DescriptionStyleModel",
            "_view_count": null,
            "_view_module": "@jupyter-widgets/base",
            "_view_module_version": "1.2.0",
            "_view_name": "StyleView",
            "description_width": ""
          }
        }
      }
    }
  },
  "nbformat": 4,
  "nbformat_minor": 0
}