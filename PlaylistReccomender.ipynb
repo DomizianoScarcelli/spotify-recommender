{
  "cells": [
    {
      "cell_type": "markdown",
      "metadata": {
        "id": "view-in-github",
        "colab_type": "text"
      },
      "source": [
        "<a href=\"https://colab.research.google.com/github/DomizianoScarcelli/big-data-project/blob/main/PlaylistReccomender.ipynb\" target=\"_parent\"><img src=\"https://colab.research.google.com/assets/colab-badge.svg\" alt=\"Open In Colab\"/></a>"
      ]
    },
    {
      "cell_type": "markdown",
      "metadata": {
        "id": "ySOgYrVKaDjm"
      },
      "source": [
        "# Config"
      ]
    },
    {
      "cell_type": "markdown",
      "metadata": {
        "id": "KOojFseRjVnN"
      },
      "source": [
        "# Configuration"
      ]
    },
    {
      "cell_type": "code",
      "execution_count": 1,
      "metadata": {
        "cellView": "form",
        "id": "N3wVgRfHYoOs",
        "colab": {
          "base_uri": "https://localhost:8080/"
        },
        "outputId": "c8b70aa6-7bef-452e-e87a-4fc69c239988"
      },
      "outputs": [
        {
          "output_type": "stream",
          "name": "stdout",
          "text": [
            "Looking in indexes: https://pypi.org/simple, https://us-python.pkg.dev/colab-wheels/public/simple/\n",
            "Collecting pyspark\n",
            "  Downloading pyspark-3.4.0.tar.gz (310.8 MB)\n",
            "\u001b[2K     \u001b[90m━━━━━━━━━━━━━━━━━━━━━━━━━━━━━━━━━━━━━━━\u001b[0m \u001b[32m310.8/310.8 MB\u001b[0m \u001b[31m2.1 MB/s\u001b[0m eta \u001b[36m0:00:00\u001b[0m\n",
            "\u001b[?25h  Preparing metadata (setup.py) ... \u001b[?25l\u001b[?25hdone\n",
            "Requirement already satisfied: py4j==0.10.9.7 in /usr/local/lib/python3.10/dist-packages (from pyspark) (0.10.9.7)\n",
            "Building wheels for collected packages: pyspark\n",
            "  Building wheel for pyspark (setup.py) ... \u001b[?25l\u001b[?25hdone\n",
            "  Created wheel for pyspark: filename=pyspark-3.4.0-py2.py3-none-any.whl size=311317130 sha256=5a473ee8f12ff70f03f5e58f0a87afd7a6f6f14400912e85baed3cf2c2e5023d\n",
            "  Stored in directory: /root/.cache/pip/wheels/7b/1b/4b/3363a1d04368e7ff0d408e57ff57966fcdf00583774e761327\n",
            "Successfully built pyspark\n",
            "Installing collected packages: pyspark\n",
            "Successfully installed pyspark-3.4.0\n",
            "The following additional packages will be installed:\n",
            "  libxtst6 openjdk-8-jre-headless\n",
            "Suggested packages:\n",
            "  openjdk-8-demo openjdk-8-source libnss-mdns fonts-dejavu-extra\n",
            "  fonts-ipafont-gothic fonts-ipafont-mincho fonts-wqy-microhei\n",
            "  fonts-wqy-zenhei fonts-indic\n",
            "The following NEW packages will be installed:\n",
            "  libxtst6 openjdk-8-jdk-headless openjdk-8-jre-headless\n",
            "0 upgraded, 3 newly installed, 0 to remove and 24 not upgraded.\n",
            "Need to get 36.5 MB of archives.\n",
            "After this operation, 144 MB of additional disk space will be used.\n",
            "Selecting previously unselected package libxtst6:amd64.\n",
            "(Reading database ... 122519 files and directories currently installed.)\n",
            "Preparing to unpack .../libxtst6_2%3a1.2.3-1_amd64.deb ...\n",
            "Unpacking libxtst6:amd64 (2:1.2.3-1) ...\n",
            "Selecting previously unselected package openjdk-8-jre-headless:amd64.\n",
            "Preparing to unpack .../openjdk-8-jre-headless_8u362-ga-0ubuntu1~20.04.1_amd64.deb ...\n",
            "Unpacking openjdk-8-jre-headless:amd64 (8u362-ga-0ubuntu1~20.04.1) ...\n",
            "Selecting previously unselected package openjdk-8-jdk-headless:amd64.\n",
            "Preparing to unpack .../openjdk-8-jdk-headless_8u362-ga-0ubuntu1~20.04.1_amd64.deb ...\n",
            "Unpacking openjdk-8-jdk-headless:amd64 (8u362-ga-0ubuntu1~20.04.1) ...\n",
            "Setting up libxtst6:amd64 (2:1.2.3-1) ...\n",
            "Setting up openjdk-8-jre-headless:amd64 (8u362-ga-0ubuntu1~20.04.1) ...\n",
            "update-alternatives: using /usr/lib/jvm/java-8-openjdk-amd64/jre/bin/orbd to provide /usr/bin/orbd (orbd) in auto mode\n",
            "update-alternatives: using /usr/lib/jvm/java-8-openjdk-amd64/jre/bin/servertool to provide /usr/bin/servertool (servertool) in auto mode\n",
            "update-alternatives: using /usr/lib/jvm/java-8-openjdk-amd64/jre/bin/tnameserv to provide /usr/bin/tnameserv (tnameserv) in auto mode\n",
            "Setting up openjdk-8-jdk-headless:amd64 (8u362-ga-0ubuntu1~20.04.1) ...\n",
            "update-alternatives: using /usr/lib/jvm/java-8-openjdk-amd64/bin/idlj to provide /usr/bin/idlj (idlj) in auto mode\n",
            "update-alternatives: using /usr/lib/jvm/java-8-openjdk-amd64/bin/wsimport to provide /usr/bin/wsimport (wsimport) in auto mode\n",
            "update-alternatives: using /usr/lib/jvm/java-8-openjdk-amd64/bin/jsadebugd to provide /usr/bin/jsadebugd (jsadebugd) in auto mode\n",
            "update-alternatives: using /usr/lib/jvm/java-8-openjdk-amd64/bin/native2ascii to provide /usr/bin/native2ascii (native2ascii) in auto mode\n",
            "update-alternatives: using /usr/lib/jvm/java-8-openjdk-amd64/bin/javah to provide /usr/bin/javah (javah) in auto mode\n",
            "update-alternatives: using /usr/lib/jvm/java-8-openjdk-amd64/bin/hsdb to provide /usr/bin/hsdb (hsdb) in auto mode\n",
            "update-alternatives: using /usr/lib/jvm/java-8-openjdk-amd64/bin/clhsdb to provide /usr/bin/clhsdb (clhsdb) in auto mode\n",
            "update-alternatives: using /usr/lib/jvm/java-8-openjdk-amd64/bin/xjc to provide /usr/bin/xjc (xjc) in auto mode\n",
            "update-alternatives: using /usr/lib/jvm/java-8-openjdk-amd64/bin/schemagen to provide /usr/bin/schemagen (schemagen) in auto mode\n",
            "update-alternatives: using /usr/lib/jvm/java-8-openjdk-amd64/bin/extcheck to provide /usr/bin/extcheck (extcheck) in auto mode\n",
            "update-alternatives: using /usr/lib/jvm/java-8-openjdk-amd64/bin/jhat to provide /usr/bin/jhat (jhat) in auto mode\n",
            "update-alternatives: using /usr/lib/jvm/java-8-openjdk-amd64/bin/wsgen to provide /usr/bin/wsgen (wsgen) in auto mode\n",
            "Processing triggers for libc-bin (2.31-0ubuntu9.9) ...\n"
          ]
        }
      ],
      "source": [
        "#@title Download necessary libraries\n",
        "!pip install pyspark\n",
        "!pip install -U -q PyDrive \n",
        "!apt install openjdk-8-jdk-headless -qq"
      ]
    },
    {
      "cell_type": "code",
      "execution_count": 2,
      "metadata": {
        "cellView": "form",
        "id": "CGHPv9OqY9MI"
      },
      "outputs": [],
      "source": [
        "#@title Imports\n",
        "import os\n",
        "import requests\n",
        "import pandas as pd\n",
        "import numpy as np\n",
        "import matplotlib.pyplot as plt\n",
        "import seaborn as sns\n",
        "%matplotlib inline\n",
        "import plotly\n",
        "\n",
        "import pyspark\n",
        "from pyspark.sql import *\n",
        "from pyspark.sql.types import StructType, StructField, StringType, IntegerType, ArrayType, FloatType, LongType\n",
        "from pyspark.sql.functions import *\n",
        "from pyspark import SparkContext, SparkConf\n",
        "from pyspark.ml.linalg import SparseVector, DenseVector\n",
        "\n",
        "from tqdm.notebook import tqdm\n",
        "import time\n",
        "import gc\n",
        "\n",
        "from google.colab import drive"
      ]
    },
    {
      "cell_type": "code",
      "execution_count": 3,
      "metadata": {
        "id": "JF8LUBZeYiWP",
        "cellView": "form"
      },
      "outputs": [],
      "source": [
        "#@title Set up variables\n",
        "JAVA_HOME = \"/usr/lib/jvm/java-8-openjdk-amd64\"\n",
        "GDRIVE_DIR = \"/content/drive\"\n",
        "GDRIVE_HOME_DIR = GDRIVE_DIR + \"/MyDrive\"\n",
        "GDRIVE_DATA_DIR = GDRIVE_HOME_DIR + \"/Big Data/datasets\"\n",
        "DATASET_FILE = os.path.join(GDRIVE_DATA_DIR, \"pyspark_friendly_spotify_playlist_dataset\")\n",
        "AUDIO_FEATURES_FILE = os.path.join(GDRIVE_DATA_DIR, \"pyspark_track_features\")\n",
        "LITTLE_SLICE_FILE = os.path.join(GDRIVE_DATA_DIR, \"little_slice\")\n",
        "SMALL_SLICE_FLIE = os.path.join(GDRIVE_DATA_DIR, \"small_slice\")\n",
        "LITTLE_SLICE_AUDIO_FEATURES = os.path.join(GDRIVE_DATA_DIR, \"little_slice_audio_features\")\n",
        "MICRO_SLICE_AUDIO_FEATURES = os.path.join(GDRIVE_DATA_DIR, \"micro_slice_audio_features\")\n",
        "SPLITTED_SLICE_AUDIO_FEATURES = os.path.join(GDRIVE_DATA_DIR, \"splitted_pyspark_track_features\")\n",
        "SAVED_DFS_PATH = os.path.join(GDRIVE_DATA_DIR, \"saved_dfs\")\n",
        "RANDOM_SEED = 42 # for reproducibility\n",
        "os.environ[\"JAVA_HOME\"] = JAVA_HOME\n",
        "os.environ[\"PYSPARK_PYTHON\"]=\"python\""
      ]
    },
    {
      "cell_type": "code",
      "execution_count": 11,
      "metadata": {
        "cellView": "form",
        "id": "4m7VztzdZgm6"
      },
      "outputs": [],
      "source": [
        "#@title Create the session\n",
        "conf = SparkConf().\\\n",
        "                set('spark.ui.port', \"4050\").\\\n",
        "                set('spark.executor.memory', '12G').\\\n",
        "                set('spark.driver.memory', '12G').\\\n",
        "                set('spark.driver.maxResultSize', '100G').\\\n",
        "                set(\"spark.executor.extraJavaOptions\", \"-XX:+UseG1GC\").\\\n",
        "                setAppName(\"PySparkTutorial\").\\\n",
        "                setMaster(\"local[*]\")\n",
        "\n",
        "# Create the context\n",
        "sc = pyspark.SparkContext(conf=conf)\n",
        "spark = SparkSession.builder.getOrCreate()"
      ]
    },
    {
      "cell_type": "code",
      "execution_count": 4,
      "metadata": {
        "id": "vsX5d-YXZ2Ul",
        "colab": {
          "base_uri": "https://localhost:8080/"
        },
        "outputId": "d2ae0616-0300-479d-e4d5-f3f057b72bea"
      },
      "outputs": [
        {
          "output_type": "stream",
          "name": "stdout",
          "text": [
            "Mounted at /content/drive\n"
          ]
        }
      ],
      "source": [
        "drive.mount(GDRIVE_DIR, force_remount=True)"
      ]
    },
    {
      "cell_type": "markdown",
      "metadata": {
        "id": "X-s_eNiVaxhn"
      },
      "source": [
        "## Setup ngrok"
      ]
    },
    {
      "cell_type": "code",
      "execution_count": 5,
      "metadata": {
        "id": "LrnLYquoarPa",
        "colab": {
          "base_uri": "https://localhost:8080/"
        },
        "outputId": "e569cd62-f489-4b06-bc70-b725dd131a63"
      },
      "outputs": [
        {
          "output_type": "stream",
          "name": "stdout",
          "text": [
            "Looking in indexes: https://pypi.org/simple, https://us-python.pkg.dev/colab-wheels/public/simple/\n",
            "Collecting pyngrok\n",
            "  Downloading pyngrok-6.0.0.tar.gz (681 kB)\n",
            "\u001b[2K     \u001b[90m━━━━━━━━━━━━━━━━━━━━━━━━━━━━━━━━━━━━━━\u001b[0m \u001b[32m681.2/681.2 kB\u001b[0m \u001b[31m11.9 MB/s\u001b[0m eta \u001b[36m0:00:00\u001b[0m\n",
            "\u001b[?25h  Preparing metadata (setup.py) ... \u001b[?25l\u001b[?25hdone\n",
            "Requirement already satisfied: PyYAML in /usr/local/lib/python3.10/dist-packages (from pyngrok) (6.0)\n",
            "Building wheels for collected packages: pyngrok\n",
            "  Building wheel for pyngrok (setup.py) ... \u001b[?25l\u001b[?25hdone\n",
            "  Created wheel for pyngrok: filename=pyngrok-6.0.0-py3-none-any.whl size=19867 sha256=4eb2f29c3d74c936ab8ba94385734544f4e733ea5872cb18629f0b6633730725\n",
            "  Stored in directory: /root/.cache/pip/wheels/5c/42/78/0c3d438d7f5730451a25f7ac6cbf4391759d22a67576ed7c2c\n",
            "Successfully built pyngrok\n",
            "Installing collected packages: pyngrok\n",
            "Successfully installed pyngrok-6.0.0\n"
          ]
        }
      ],
      "source": [
        "!pip install pyngrok"
      ]
    },
    {
      "cell_type": "code",
      "execution_count": null,
      "metadata": {
        "id": "K3IEuiyDawo3",
        "colab": {
          "base_uri": "https://localhost:8080/"
        },
        "outputId": "53a42f90-9e61-4964-cc9f-db1c684c3ef8"
      },
      "outputs": [
        {
          "output_type": "stream",
          "name": "stdout",
          "text": [
            "Authtoken saved to configuration file: /root/.ngrok2/ngrok.yml\n"
          ]
        }
      ],
      "source": [
        "!ngrok authtoken 2NVN8kdoOnMVtlDGGWtwsbT5M3Q_2EJv2HE77FEXkz978Qtnq"
      ]
    },
    {
      "cell_type": "code",
      "execution_count": null,
      "metadata": {
        "id": "0qJN-lfta1ok",
        "colab": {
          "base_uri": "https://localhost:8080/"
        },
        "outputId": "f1d72291-2bac-428f-b730-4552741ed44a"
      },
      "outputs": [
        {
          "output_type": "stream",
          "name": "stderr",
          "text": [
            "WARNING:pyngrok.process.ngrok:t=2023-05-12T10:57:52+0000 lvl=warn msg=\"ngrok config file found at legacy location, move to XDG location\" xdg_path=/root/.config/ngrok/ngrok.yml legacy_path=/root/.ngrok2/ngrok.yml\n"
          ]
        }
      ],
      "source": [
        "from pyngrok import ngrok\n",
        "\n",
        "# Open a ngrok tunnel on the port 4050 where Spark is running\n",
        "port = '4050'\n",
        "public_url = ngrok.connect(port).public_url"
      ]
    },
    {
      "cell_type": "code",
      "execution_count": null,
      "metadata": {
        "id": "x15LhY-5a3Yi",
        "colab": {
          "base_uri": "https://localhost:8080/"
        },
        "outputId": "b7f584c4-0381-4e1d-d90f-0ddfd17e7e64"
      },
      "outputs": [
        {
          "output_type": "stream",
          "name": "stdout",
          "text": [
            "To access the Spark Web UI console, please click on the following link to the ngrok tunnel \"https://994d-34-75-37-68.ngrok-free.app\" -> \"http://127.0.0.1:4050\"\n"
          ]
        }
      ],
      "source": [
        "print(\"To access the Spark Web UI console, please click on the following link to the ngrok tunnel \\\"{}\\\" -> \\\"http://127.0.0.1:{}\\\"\".format(public_url, port))"
      ]
    },
    {
      "cell_type": "code",
      "execution_count": null,
      "metadata": {
        "cellView": "form",
        "id": "jlxfJiBSZ6ju",
        "colab": {
          "base_uri": "https://localhost:8080/"
        },
        "outputId": "4d1cb008-74a4-4322-bd7d-a00e82565de4"
      },
      "outputs": [
        {
          "output_type": "execute_result",
          "data": {
            "text/plain": [
              "(<pyspark.sql.session.SparkSession at 0x7fd3fc189570>,\n",
              " [('spark.executor.extraJavaOptions',\n",
              "   '-Djava.net.preferIPv6Addresses=false -XX:+IgnoreUnrecognizedVMOptions --add-opens=java.base/java.lang=ALL-UNNAMED --add-opens=java.base/java.lang.invoke=ALL-UNNAMED --add-opens=java.base/java.lang.reflect=ALL-UNNAMED --add-opens=java.base/java.io=ALL-UNNAMED --add-opens=java.base/java.net=ALL-UNNAMED --add-opens=java.base/java.nio=ALL-UNNAMED --add-opens=java.base/java.util=ALL-UNNAMED --add-opens=java.base/java.util.concurrent=ALL-UNNAMED --add-opens=java.base/java.util.concurrent.atomic=ALL-UNNAMED --add-opens=java.base/sun.nio.ch=ALL-UNNAMED --add-opens=java.base/sun.nio.cs=ALL-UNNAMED --add-opens=java.base/sun.security.action=ALL-UNNAMED --add-opens=java.base/sun.util.calendar=ALL-UNNAMED --add-opens=java.security.jgss/sun.security.krb5=ALL-UNNAMED -Djdk.reflect.useDirectMethodHandle=false -XX:+UseG1GC'),\n",
              "  ('spark.app.name', 'PySparkTutorial'),\n",
              "  ('spark.executor.id', 'driver'),\n",
              "  ('spark.app.submitTime', '1683889041100'),\n",
              "  ('spark.driver.extraJavaOptions',\n",
              "   '-Djava.net.preferIPv6Addresses=false -XX:+IgnoreUnrecognizedVMOptions --add-opens=java.base/java.lang=ALL-UNNAMED --add-opens=java.base/java.lang.invoke=ALL-UNNAMED --add-opens=java.base/java.lang.reflect=ALL-UNNAMED --add-opens=java.base/java.io=ALL-UNNAMED --add-opens=java.base/java.net=ALL-UNNAMED --add-opens=java.base/java.nio=ALL-UNNAMED --add-opens=java.base/java.util=ALL-UNNAMED --add-opens=java.base/java.util.concurrent=ALL-UNNAMED --add-opens=java.base/java.util.concurrent.atomic=ALL-UNNAMED --add-opens=java.base/sun.nio.ch=ALL-UNNAMED --add-opens=java.base/sun.nio.cs=ALL-UNNAMED --add-opens=java.base/sun.security.action=ALL-UNNAMED --add-opens=java.base/sun.util.calendar=ALL-UNNAMED --add-opens=java.security.jgss/sun.security.krb5=ALL-UNNAMED -Djdk.reflect.useDirectMethodHandle=false'),\n",
              "  ('spark.ui.port', '4050'),\n",
              "  ('spark.app.id', 'local-1683889044008'),\n",
              "  ('spark.rdd.compress', 'True'),\n",
              "  ('spark.driver.memory', '12G'),\n",
              "  ('spark.serializer.objectStreamReset', '100'),\n",
              "  ('spark.master', 'local[*]'),\n",
              "  ('spark.submit.pyFiles', ''),\n",
              "  ('spark.driver.maxResultSize', '100G'),\n",
              "  ('spark.submit.deployMode', 'client'),\n",
              "  ('spark.executor.memory', '12G'),\n",
              "  ('spark.ui.showConsoleProgress', 'true'),\n",
              "  ('spark.app.startTime', '1683889041396'),\n",
              "  ('spark.driver.host', '6a4d4d002667'),\n",
              "  ('spark.driver.port', '40439')])"
            ]
          },
          "metadata": {},
          "execution_count": 10
        }
      ],
      "source": [
        "#@title Check if everything is ok\n",
        "spark, sc._conf.getAll()\n"
      ]
    },
    {
      "cell_type": "markdown",
      "metadata": {
        "id": "VJeY9PpvaHUJ"
      },
      "source": [
        "# Data acquisition"
      ]
    },
    {
      "cell_type": "code",
      "execution_count": 6,
      "metadata": {
        "id": "icd2lj-RRvhU"
      },
      "outputs": [],
      "source": [
        "\n",
        "song_schema = StructType([\n",
        "    StructField(\"pos\", IntegerType(), True),\n",
        "    StructField(\"artist_name\", StringType(), True),\n",
        "    StructField(\"track_uri\", StringType(), True),\n",
        "    StructField(\"artist_uri\", StringType(), True),\n",
        "    StructField(\"track_name\", StringType(), True),\n",
        "    StructField(\"album_uri\", StringType(), True),\n",
        "    StructField(\"duration_ms\", LongType(), True),\n",
        "    StructField(\"album_name\", StringType(), True)\n",
        "])\n",
        "\n",
        "playlist_schema = StructType([\n",
        "    StructField(\"name\", StringType(), True),\n",
        "    StructField(\"collaborative\", StringType(), True),\n",
        "    StructField(\"pid\", IntegerType(), True),\n",
        "    StructField(\"modified_at\", IntegerType(), True),\n",
        "    StructField(\"num_tracks\", IntegerType(), True),\n",
        "    StructField(\"num_albums\", IntegerType(), True),\n",
        "    StructField(\"num_followers\", IntegerType(), True),\n",
        "    StructField(\"tracks\", ArrayType(song_schema), True),\n",
        "    StructField(\"num_edits\", IntegerType(), True),\n",
        "    StructField(\"duration_ms\", IntegerType(), True),\n",
        "    StructField(\"num_artists\", IntegerType(), True),\n",
        "])\n",
        "\n",
        "audio_features_schema = StructType([\n",
        "    StructField(\"danceability\", FloatType(), True),\n",
        "    StructField(\"energy\", FloatType(), True),\n",
        "    StructField(\"key\", IntegerType(), True),\n",
        "    StructField(\"loudness\", FloatType(), True),\n",
        "    StructField(\"mode\", IntegerType(), True),\n",
        "    StructField(\"speechiness\", FloatType(), True),\n",
        "    StructField(\"acousticness\", FloatType(), True),\n",
        "    StructField(\"instrumentalness\", FloatType(), True),\n",
        "    StructField(\"liveness\", FloatType(), True),\n",
        "    StructField(\"valence\", FloatType(), True),\n",
        "    StructField(\"tempo\", FloatType(), True),\n",
        "    StructField(\"type\", StringType(), True),\n",
        "    StructField(\"id\", StringType(), True),\n",
        "    StructField(\"uri\", StringType(), True),\n",
        "    StructField(\"track_href\", StringType(), True),\n",
        "    StructField(\"analysis_url\", StringType(), True),\n",
        "    StructField(\"duration_ms\", LongType(), True),\n",
        "    StructField(\"time_signature\", IntegerType(), True)\n",
        "])\n"
      ]
    },
    {
      "cell_type": "code",
      "execution_count": 12,
      "metadata": {
        "id": "BY_szFyLTps4"
      },
      "outputs": [],
      "source": [
        "playlist_df = spark.read.schema(playlist_schema).json(DATASET_FILE, multiLine=True)\n",
        "slice_df = spark.read.schema(playlist_schema).json(SMALL_SLICE_FLIE, multiLine=True)\n",
        "# slice_df = spark.read.schema(playlist_schema).json(LITTLE_SLICE_FILE, multiLine=True)\n",
        "audio_df = spark.read.schema(audio_features_schema).json(SPLITTED_SLICE_AUDIO_FEATURES, multiLine=True) #has less songs than expected"
      ]
    },
    {
      "cell_type": "code",
      "execution_count": null,
      "metadata": {
        "id": "PEI_1vcSPxOG"
      },
      "outputs": [],
      "source": [
        "# slice_df.select(\"tracks\").first()"
      ]
    },
    {
      "cell_type": "code",
      "execution_count": null,
      "metadata": {
        "id": "gnNiOotq3p3f",
        "colab": {
          "base_uri": "https://localhost:8080/"
        },
        "outputId": "0a001fb6-76ee-4adc-e52b-a0c0880927b6"
      },
      "outputs": [
        {
          "output_type": "stream",
          "name": "stdout",
          "text": [
            "+--------------+-------------+-----+-----------+----------+----------+-------------+--------------------+---------+-----------+-----------+\n",
            "|          name|collaborative|  pid|modified_at|num_tracks|num_albums|num_followers|              tracks|num_edits|duration_ms|num_artists|\n",
            "+--------------+-------------+-----+-----------+----------+----------+-------------+--------------------+---------+-----------+-----------+\n",
            "|         Ratch|        false|45000| 1508976000|        88|        70|            1|[{0, Beyoncé, spo...|       50|   20047039|         48|\n",
            "|  slow it down|        false|45001| 1505952000|        80|        77|            1|[{0, Twinbed, spo...|       20|   20365984|         65|\n",
            "|    Phat Beats|        false|45002| 1466640000|        24|        15|            5|[{0, Baths, spoti...|       16|    5127143|         14|\n",
            "|           ✌🏽|        false|45003| 1509148800|        77|        63|            3|[{0, Owl City, sp...|       50|   17201663|         54|\n",
            "|          💘💘|        false|45004| 1479081600|       102|        78|            1|[{0, Rihanna, spo...|       35|   23364932|         56|\n",
            "|   Summer 2015|         true|45005| 1459555200|       126|       114|            7|[{0, Tiësto, spot...|       22|   30131677|         99|\n",
            "|Summer Country|        false|45006| 1492560000|       246|       166|            1|[{0, Kenny Chesne...|       13|   52836874|         91|\n",
            "|          Jazz|        false|45007| 1478044800|        15|        14|            1|[{0, Freddie Hubb...|        3|    6792929|         13|\n",
            "|       Hip Hop|        false|45008| 1503619200|       160|       113|            1|[{0, Fugees, spot...|       39|   37111155|         64|\n",
            "|    dance jams|        false|45009| 1469750400|        19|        16|            1|[{0, Justin Biebe...|        5|    4201172|         16|\n",
            "|   Inspiration|        false|45010| 1496188800|        30|        30|            3|[{0, The Staves, ...|        7|    7466099|         27|\n",
            "|           <33|        false|45011| 1504396800|        18|        16|            5|[{0, KYLE, spotif...|       10|    4106160|         15|\n",
            "|    Christmas |        false|45012| 1387756800|        42|        20|            1|[{0, Louis Armstr...|        2|    9704283|         26|\n",
            "|   Summer 2k17|        false|45013| 1500249600|        52|        51|            3|[{0, Drake, spoti...|       30|   11619016|         50|\n",
            "|         sleep|        false|45014| 1487030400|       164|       111|            1|[{0, TK N Cash, s...|       37|   38449124|         84|\n",
            "|           SKA|        false|45015| 1507593600|        50|        44|            1|[{0, The Slackers...|       15|    9435544|         34|\n",
            "|       Groovin|        false|45016| 1505347200|        88|        80|            1|[{0, of Montreal,...|       36|   23097679|         68|\n",
            "|     Play ME!!|        false|45017| 1477353600|        42|        40|            1|[{0, Jessie J, sp...|       15|    9737901|         35|\n",
            "|   Alternative|        false|45018| 1509408000|        47|        43|            1|[{0, All Time Low...|       36|   10622933|         35|\n",
            "|Rap En Español|        false|45019| 1503100800|       138|        25|            1|[{0, Cartel De Sa...|        4|   32636526|         11|\n",
            "+--------------+-------------+-----+-----------+----------+----------+-------------+--------------------+---------+-----------+-----------+\n",
            "only showing top 20 rows\n",
            "\n"
          ]
        }
      ],
      "source": [
        "# slice_df.show()"
      ]
    },
    {
      "cell_type": "markdown",
      "metadata": {
        "id": "WaSyTUepySNu"
      },
      "source": [
        "# User-Based Collaborative Filtering\n",
        "Note: The users are the playlists, the items are the songs and the ratings are 0 if the song is not in the playlist, 1 otherwise.\n",
        "\n",
        "We have to define a function $sim(u,v)$ that defines the similarity between two users based on their ratings.\n",
        "\n",
        "We represent the ratings $r_u \\in \\mathbb{R}^n$ as the $n$ dimensional vector that represents the ratings of the user $u$, where $n$ is the number of total songs in the dataset.\n",
        "\n",
        "As the similarity function we can use Jaccard similarity.\n",
        "\\begin{equation}\n",
        "sim(u,v) = J(r_u, r_v) = \\frac{|r_u \\cap r_v|}{|r_u \\cup r_v|}\n",
        "\\end{equation}\n",
        "\n",
        "Jaccard similarity ignores rating values, but we don't care here since the ratings are binary. In case of discrete value ratings we can use cosine similarity, or better pearson's correlation.\n",
        "\n",
        "Done that, and defined as ${U^k}$ the neighborhood of $u$ ($k$ most similar users to $u$), we define the set of items rated by $u$'s neighborhood as\n",
        "\n",
        "\\begin{equation}\n",
        "I^k = \\{i \\in I : \\mathbf{r_{u,i}} \\downarrow \\land u \\in U^k\\}\n",
        "\\end{equation}\n",
        "\n",
        "The rating for the item $i$ to the user $u$ will just be $\\mathbf{r_u[i]}$."
      ]
    },
    {
      "cell_type": "code",
      "execution_count": 7,
      "metadata": {
        "id": "Ym9TWjvkGGOa"
      },
      "outputs": [],
      "source": [
        "RATING_VECTOR_FILE_PATH = os.path.join(SAVED_DFS_PATH, \"playlist_rating_df.parquet\")\n",
        "PLAYLIST_EMBEDDINGS = os.path.join(SAVED_DFS_PATH, \"playlist_embeddings.parquet\")\n",
        "FULL_PLAYLIST_EMBEDDINGS = os.path.join(SAVED_DFS_PATH, \"full_playlist_embeddings.parquet\")"
      ]
    },
    {
      "cell_type": "code",
      "execution_count": 8,
      "metadata": {
        "id": "-XqhUqgS1Qp0"
      },
      "outputs": [],
      "source": [
        "def dense_to_sparse(dense: DenseVector) -> SparseVector:\n",
        "  nonzero_indices = np.nonzero(np.array(dense))[0]\n",
        "  nonzero_values = np.array(dense)[nonzero_indices]\n",
        "  sparse_vector = SparseVector(len(dense), nonzero_indices.tolist(), nonzero_values.tolist())\n",
        "  return sparse_vector"
      ]
    },
    {
      "cell_type": "code",
      "execution_count": 13,
      "metadata": {
        "id": "6tvZAyYD4NXA"
      },
      "outputs": [],
      "source": [
        "def get_all_songs(playlist_df: DataFrame, set_in_playlist: bool = False) -> DataFrame:\n",
        "   all_songs = playlist_df.select(explode(\"tracks.track_uri\").alias(\"track_uri\")).distinct()\n",
        "   if set_in_playlist:\n",
        "     all_songs = all_songs.withColumn(\"in_playlist\", lit(1))\n",
        "   return all_songs\n",
        "  \n",
        "def get_songs_info(playlist_df: DataFrame, set_in_playlist: bool = False) -> DataFrame:\n",
        "   all_songs = playlist_df.select(explode(\"tracks\")).select(\"col.*\").drop(\"pos\").distinct()\n",
        "   if set_in_playlist:\n",
        "     all_songs = all_songs.withColumn(\"in_playlist\", lit(1))\n",
        "   return all_songs\n",
        "\n",
        "# songs_df = get_all_songs(slice_df)\n",
        "# songs_df.createOrReplaceTempView(\"SONGS\")\n",
        "\n",
        "# songs_df = spark.sql(\"\"\"\n",
        "# SELECT \n",
        "#     row_number() OVER (\n",
        "#         PARTITION BY '' \n",
        "#         ORDER BY '' \n",
        "#     ) as pos,\n",
        "#     *\n",
        "# FROM \n",
        "#     SONGS\n",
        "# \"\"\")\n",
        "\n",
        "# songs_df = songs_df.sort(\"track_uri\")\n",
        "\n",
        "# songs_info_df = get_songs_info(slice_df)\n",
        "\n",
        "# songs_info_df = songs_info_df.join(songs_df, \"track_uri\", \"left\")\n",
        "\n",
        "# RATING_VECTOR_LENGTH = songs_df.count()"
      ]
    },
    {
      "cell_type": "code",
      "source": [
        "songs_info_df = get_songs_info(slice_df)\n",
        "songs_info_df.createOrReplaceTempView(\"SONGS_INFO\")\n",
        "\n",
        "songs_info_df = spark.sql(\"\"\"\n",
        "SELECT \n",
        "    row_number() OVER (\n",
        "        PARTITION BY '' \n",
        "        ORDER BY '' \n",
        "    ) as pos,\n",
        "    *\n",
        "FROM \n",
        "    SONGS_INFO\n",
        "\"\"\")\n",
        "\n",
        "songs_info_df = songs_info_df.sort(\"track_uri\")\n",
        "\n",
        "songs_df = songs_info_df.select(\"pos\", \"track_uri\")\n",
        "\n",
        "RATING_VECTOR_LENGTH = songs_df.count()"
      ],
      "metadata": {
        "id": "OEE3KZZfypSY"
      },
      "execution_count": 48,
      "outputs": []
    },
    {
      "cell_type": "code",
      "source": [
        "songs_info_df.show()\n",
        "songs_df.show()"
      ],
      "metadata": {
        "colab": {
          "base_uri": "https://localhost:8080/"
        },
        "id": "oVf4OZFDeq3J",
        "outputId": "eb2b3969-e006-4e2e-b628-f34e820d518f"
      },
      "execution_count": 50,
      "outputs": [
        {
          "output_type": "stream",
          "name": "stdout",
          "text": [
            "+------+--------------------+--------------------+--------------------+--------------------+--------------------+-----------+--------------------+\n",
            "|   pos|         artist_name|           track_uri|          artist_uri|          track_name|           album_uri|duration_ms|          album_name|\n",
            "+------+--------------------+--------------------+--------------------+--------------------+--------------------+-----------+--------------------+\n",
            "|154210| Two Steps from Hell|spotify:track:000...|spotify:artist:2q...|           Nightwood|spotify:album:1BD...|     189638|Colin Frake On Fi...|\n",
            "|354525|         Little Simz|spotify:track:000...|spotify:artist:6e...|Mandarin Oranges ...|spotify:album:32R...|     198000|             E.D.G.E|\n",
            "|459225|           Celly Cel|spotify:track:000...|spotify:artist:6k...|         Shady World|spotify:album:6LO...|     155238|      The Lost Tapes|\n",
            "|659120|El Poder De Zacat...|spotify:track:000...|spotify:artist:3n...|         Abeja Miope|spotify:album:18X...|     140360|     Y las Mariposas|\n",
            "|308103|            Joe Pass|spotify:track:000...|spotify:artist:4D...|        Li'l Darlin'|spotify:album:2zm...|     227626|            Portrait|\n",
            "|522914|         Jens Lekman|spotify:track:000...|spotify:artist:7t...|The Cold Swedish ...|spotify:album:2fP...|     229880|When I Said I Wan...|\n",
            "|480371|          Gucci Mane|spotify:track:000...|spotify:artist:13...|Interlude: Toilet...|spotify:album:0Ve...|      74040|The State vs. Rad...|\n",
            "|500594|         Arms Akimbo|spotify:track:000...|spotify:artist:5v...|              Simmer|spotify:album:23s...|     251000|           Vignettes|\n",
            "|372178|    The Ghost Inside|spotify:track:000...|spotify:artist:6k...|               Mercy|spotify:album:75k...|     256478|          Dear Youth|\n",
            "|265342|         The Coronas|spotify:track:000...|spotify:artist:2t...|If I Gave Myself ...|spotify:album:662...|     214506|        The Long Way|\n",
            "|609938|           Nick Lowe|spotify:track:000...|spotify:artist:3B...|   All Men Are Liars|spotify:album:2F8...|     204253|Quiet Please... T...|\n",
            "|650328|               Heart|spotify:track:000...|spotify:artist:34...|(Love Me Like Mus...|spotify:album:2N0...|     200626|     Dreamboat Annie|\n",
            "|536620|                ZAYN|spotify:track:000...|spotify:artist:5Z...|      Still Got Time|spotify:album:2kG...|     188490|      Still Got Time|\n",
            "|471589|        Luan Santana|spotify:track:000...|spotify:artist:3q...|Eu, Você, O Mar e...|spotify:album:4Qi...|     187118|                1977|\n",
            "|222220| Bombay Bicycle Club|spotify:track:001...|spotify:artist:3p...|    It's Alright Now|spotify:album:5oK...|     249946|So Long, See You ...|\n",
            "|656028|              iceage|spotify:track:001...|spotify:artist:03...|       On My Fingers|spotify:album:2zF...|     314000|Plowing Into the ...|\n",
            "|570987|             Stupead|spotify:track:001...|spotify:artist:3j...|          By The Sun|spotify:album:38c...|     210732|          By The Sun|\n",
            "|282613|         Deaf Havana|spotify:track:001...|spotify:artist:0e...|Subterranean Bull...|spotify:album:4Vf...|     203733|           Old Souls|\n",
            "|142241|     Amindi K. Fro$t|spotify:track:001...|spotify:artist:3z...|           Wet Jeans|spotify:album:7pZ...|     205255|           Wet Jeans|\n",
            "|198521|           Taj Mahal|spotify:track:001...|spotify:artist:1a...|She Knows How To ...|spotify:album:3NF...|     160106|               TajMo|\n",
            "+------+--------------------+--------------------+--------------------+--------------------+--------------------+-----------+--------------------+\n",
            "only showing top 20 rows\n",
            "\n",
            "+------+--------------------+\n",
            "|   pos|           track_uri|\n",
            "+------+--------------------+\n",
            "|155486|spotify:track:000...|\n",
            "|454975|spotify:track:000...|\n",
            "|453940|spotify:track:000...|\n",
            "|515021|spotify:track:000...|\n",
            "|308906|spotify:track:000...|\n",
            "|319146|spotify:track:000...|\n",
            "|531224|spotify:track:000...|\n",
            "|250304|spotify:track:000...|\n",
            "|517032|spotify:track:000...|\n",
            "|514732|spotify:track:000...|\n",
            "|605778|spotify:track:000...|\n",
            "|118055|spotify:track:000...|\n",
            "| 25239|spotify:track:000...|\n",
            "|494224|spotify:track:000...|\n",
            "|377633|spotify:track:001...|\n",
            "|502366|spotify:track:001...|\n",
            "|138889|spotify:track:001...|\n",
            "|569139|spotify:track:001...|\n",
            "|461993|spotify:track:001...|\n",
            "|296268|spotify:track:001...|\n",
            "+------+--------------------+\n",
            "only showing top 20 rows\n",
            "\n"
          ]
        }
      ]
    },
    {
      "cell_type": "markdown",
      "source": [
        "Preprocessing the dataframe in order to associate to each track_uri an integer, that will represent the position of the track in the rating_vector. This is useful in order to avoid doing a lot of joins when generating the rating_vectors."
      ],
      "metadata": {
        "id": "X5iG9Mus6VWy"
      }
    },
    {
      "cell_type": "code",
      "source": [
        "# def map_track_df_to_pos(playlist_df: DataFrame, mapping: DataFrame) -> List[DataFrame]:\n",
        "#   songs_df_list = [get_all_songs(spark.createDataFrame([row])) for row in tqdm(slice_df.collect(), desc=\"Creating list of dataframes\")]\n",
        "#   track_uri_to_id = songs_df.select('track_uri', 'pos').rdd.collectAsMap()\n",
        "#   track_uri_to_id_udf = udf(lambda x: track_uri_to_id.get(x), IntegerType())\n",
        "#   songs_df_mapped_list = []\n",
        "\n",
        "#   for df in tqdm(songs_df_list, desc=\"Mapping uris to pos\"):\n",
        "#       df = df.withColumn('pos', track_uri_to_id_udf(col('track_uri')))\n",
        "#       songs_df_mapped_list.append(df)\n",
        "  \n",
        "#   return songs_df_mapped_list\n",
        "\n",
        "# songs_df_mapped_list = map_track_df_to_pos(slice_df, songs_df)"
      ],
      "metadata": {
        "id": "Zu7sLSmn_QW9"
      },
      "execution_count": null,
      "outputs": []
    },
    {
      "cell_type": "code",
      "source": [
        "from pyspark.ml.linalg import VectorUDT\n",
        "from pyspark.sql.functions import col, udf\n",
        "from pyspark.sql.types import IntegerType, ArrayType\n",
        "\n",
        "def map_track_df_to_pos_2(playlist_df: DataFrame, mapping: DataFrame) -> DataFrame:\n",
        "    track_uri_to_id = songs_df.select('track_uri', 'pos').rdd.collectAsMap()\n",
        "\n",
        "    track_uri_to_id_udf = udf(lambda x: track_uri_to_id.get(x), IntegerType())\n",
        "\n",
        "    # Define a UDF to map track URIs to integer IDs within each element of the list\n",
        "    \n",
        "    def extract_vector(tracks):\n",
        "      pos_list = set()\n",
        "      for row in tracks:\n",
        "        uri = track_uri_to_id.get(row.track_uri)\n",
        "        pos_list.add(uri)\n",
        "\n",
        "      return SparseVector(RATING_VECTOR_LENGTH + 1, sorted(list(pos_list)), [1 for _ in pos_list])\n",
        "\n",
        "    map_track_uri_udf = udf(lambda tracks: extract_vector(tracks), returnType=VectorUDT())\n",
        "\n",
        "    # Apply the mapping UDF on the \"tracks\" column of the slice_df dataframe\n",
        "    mapped_df = playlist_df.withColumn('tracks', map_track_uri_udf(col('tracks')))\n",
        "\n",
        "    return mapped_df\n",
        "\n",
        "if not os.path.exists(PLAYLIST_EMBEDDINGS):\n",
        "  mapped_slice_df = map_track_df_to_pos_2(slice_df, songs_df)\n",
        "  mapped_slice_df.write.parquet(PLAYLIST_EMBEDDINGS)\n",
        "else:\n",
        "  mapped_slice_df = spark.read.parquet(PLAYLIST_EMBEDDINGS)\n"
      ],
      "metadata": {
        "id": "MFwQWIZ1Bddv"
      },
      "execution_count": 14,
      "outputs": []
    },
    {
      "cell_type": "code",
      "execution_count": null,
      "metadata": {
        "id": "GDOER74y5WEJ",
        "cellView": "form"
      },
      "outputs": [],
      "source": [
        "#@title Old way of creating the rating vector dataframe\n",
        "# def _create_rating_df(playlist_row: Row, songs_df: DataFrame) -> DataFrame:\n",
        "#   \"\"\"\n",
        "#   Creates a dataframe that represents the \"ratings\" for a playlist in the dataframe\n",
        "#   \"\"\"\n",
        "#   playlist_row = spark.createDataFrame([playlist_row], playlist_schema)\n",
        "#   playlist_uris = get_all_songs(playlist_row)\n",
        "\n",
        "#   joined = songs_df.join(playlist_uris, on=\"track_uri\", how=\"right\")\n",
        "#   return joined\n",
        "\n",
        "\n",
        "# def _check_songs_ordering(playlist_row: DataFrame, songs_df: DataFrame) -> bool:\n",
        "#   \"\"\"\n",
        "#   Returns a boolean that indicates if the ordering in the songs_df and rating_df is the same\n",
        "#   \"\"\"\n",
        "#   playlist_row = spark.createDataFrame([playlist_row], playlist_schema)\n",
        "#   playlist_uris = get_all_songs(playlist_row, True).withColumnRenamed(\"in_playlist\", \"isin\")\n",
        "\n",
        "#   joined = songs_df.join(playlist_uris, on=\"track_uri\", how=\"right\")\n",
        "#   joined_left = songs_df.join(playlist_uris, on=\"track_uri\", how=\"left\").filter(\"isin == 1\")\n",
        "#   assert joined.collect() == joined_left.collect(), f\"The order of songs_df is different from the order of rating_df!\"\n",
        "\n",
        "# # def _extract_rating_vector(rating_df: DataFrame) -> SparseVector:\n",
        "# #   \"\"\"\n",
        "# #   Extracts the rating vectors for each playlist \n",
        "# #   \"\"\"\n",
        "# #   dense_vector = DenseVector([row.isin for row in rating_df.select(\"isin\").collect()])\n",
        "# #   return dense_to_sparse(dense_vector)\n",
        "\n",
        "# def _extrac_sparse_rating_vector(rating_df: DataFrame) -> SparseVector:\n",
        "#   indices = np.sort([row.pos for row in rating_df.collect()])\n",
        "#   return SparseVector(RATING_VECTOR_LENGTH, indices, np.ones(indices.shape[0]) )\n",
        "\n",
        "# def rating_vector_from_row(playlist_row: Row, songs_df: DataFrame):\n",
        "#   \"\"\"\n",
        "#   Pipelines togheter create_rating_df and extract_rating_vector.\n",
        "#   \"\"\"\n",
        "#   rating_df_1 = _create_rating_df(playlist_row, songs_df)\n",
        "#   rating_vector_1 = _extrac_sparse_rating_vector(rating_df_1)\n",
        "#   return rating_vector_1\n",
        "\n",
        "# # t1 = time.time() \n",
        "\n",
        "# # rating_vector_1 = rating_vector_from_row(slice_df.first(), songs_df)\n",
        "\n",
        "# # t2 = time.time()\n",
        "\n",
        "# # t2 - t1, rating_vector_1, type(rating_vector_1)"
      ]
    },
    {
      "cell_type": "code",
      "execution_count": 20,
      "metadata": {
        "id": "5Nhc0hwgDQ6X"
      },
      "outputs": [],
      "source": [
        "def jaccard_similarity(vector_1: SparseVector, vector_2: SparseVector) -> float:\n",
        "  # Convert SparseVectors to sets\n",
        "  set1 = set(vector_1.indices)\n",
        "  set2 = set(vector_2.indices)\n",
        "\n",
        "  # Calculate the intersection and union of the sets\n",
        "  intersection = len(set1.intersection(set2))\n",
        "  union = len(set1.union(set2))\n",
        "\n",
        "  # Calculate the similarity\n",
        "  similarity = intersection / union\n",
        "\n",
        "  return similarity"
      ]
    },
    {
      "cell_type": "code",
      "execution_count": null,
      "metadata": {
        "id": "yuDooTJ4_7Pz",
        "cellView": "form"
      },
      "outputs": [],
      "source": [
        "#@title Old way of creating the ratinf vector dataframe pt.2\n",
        "# def create_rating_vectors_df(playlists_df: DataFrame) -> DataFrame:\n",
        "#   rating_vectors = []\n",
        "\n",
        "#   for playlist_row in tqdm(playlists_df.collect(), desc=\"Creating rating vectors\"):\n",
        "#     rating_vector = rating_vector_from_row(playlist_row, songs_df)\n",
        "#     new_row = Row(playlist_id=playlist_row.pid, rating_vector=rating_vector)\n",
        "#     rating_vectors.append([new_row])\n",
        "#   return spark.createDataFrame(rating_vectors)\n",
        "\n",
        "# if os.path.exists(RATING_VECTOR_FILE_PATH):\n",
        "#   # rv_schema = StructType([StructField('playlist_id', LongType(), True), StructField('rating_vector', pyspark.ml.linalg.VectorUDT(), True)])\n",
        "#   rating_vectors_df = spark.read.parquet(RATING_VECTOR_FILE_PATH)\n",
        "#   rv_df = rating_vectors_df.select(col(\"_1.playlist_id\").alias(\"playlist_id\"), col(\"_1.rating_vector\").alias(\"rating_vector\"))\n",
        "# else:\n",
        "#   rating_vectors_df = create_rating_vectors_df(slice_df)\n",
        "#   rating_vectors_df.write.parquet(RATING_VECTOR_FILE_PATH)"
      ]
    },
    {
      "cell_type": "markdown",
      "source": [
        "Creating a function that gets in input the playlist to continue, and returns a Dataframe that indicates its similarity with each other playlist in the dataset."
      ],
      "metadata": {
        "id": "dWMpoMHrpxxf"
      }
    },
    {
      "cell_type": "code",
      "source": [
        "mapped_slice_df.first()"
      ],
      "metadata": {
        "colab": {
          "base_uri": "https://localhost:8080/"
        },
        "id": "PQYLZnm3pxGj",
        "outputId": "e8ef0dc0-0f8b-4c14-f42c-3c78c89add15"
      },
      "execution_count": 18,
      "outputs": [
        {
          "output_type": "execute_result",
          "data": {
            "text/plain": [
              "Row(name='disney', collaborative='false', pid=1000, modified_at=1457827200, num_tracks=189, num_albums=16, num_followers=1, tracks=SparseVector(681806, {127: 1.0, 1904: 1.0, 2439: 1.0, 3437: 1.0, 4136: 1.0, 4941: 1.0, 6237: 1.0, 6362: 1.0, 8263: 1.0, 8606: 1.0, 9079: 1.0, 9696: 1.0, 9998: 1.0, 10676: 1.0, 10958: 1.0, 12712: 1.0, 13117: 1.0, 14708: 1.0, 15578: 1.0, 16236: 1.0, 16384: 1.0, 17407: 1.0, 17587: 1.0, 17970: 1.0, 18322: 1.0, 18395: 1.0, 19986: 1.0, 21024: 1.0, 21275: 1.0, 21652: 1.0, 22516: 1.0, 22918: 1.0, 22988: 1.0, 23837: 1.0, 24693: 1.0, 24803: 1.0, 24964: 1.0, 25323: 1.0, 26812: 1.0, 27807: 1.0, 31090: 1.0, 31091: 1.0, 31371: 1.0, 32346: 1.0, 32580: 1.0, 33508: 1.0, 33621: 1.0, 33761: 1.0, 35472: 1.0, 35787: 1.0, 35947: 1.0, 36552: 1.0, 36602: 1.0, 36745: 1.0, 36746: 1.0, 37777: 1.0, 39611: 1.0, 51029: 1.0, 54561: 1.0, 59119: 1.0, 61879: 1.0, 83930: 1.0, 89372: 1.0, 95237: 1.0, 97166: 1.0, 99267: 1.0, 99594: 1.0, 100077: 1.0, 102061: 1.0, 102527: 1.0, 103131: 1.0, 105560: 1.0, 105843: 1.0, 106768: 1.0, 106922: 1.0, 110568: 1.0, 124977: 1.0, 125862: 1.0, 126262: 1.0, 126858: 1.0, 131580: 1.0, 152241: 1.0, 153620: 1.0, 155209: 1.0, 155325: 1.0, 155787: 1.0, 160630: 1.0, 194555: 1.0, 196169: 1.0, 198926: 1.0, 199375: 1.0, 203383: 1.0, 212675: 1.0, 213538: 1.0, 213828: 1.0, 214448: 1.0, 216192: 1.0, 216805: 1.0, 217265: 1.0, 245488: 1.0, 245669: 1.0, 246679: 1.0, 248042: 1.0, 248542: 1.0, 248639: 1.0, 250022: 1.0, 337849: 1.0, 338847: 1.0, 342483: 1.0, 343285: 1.0, 343633: 1.0, 344569: 1.0, 344876: 1.0, 345054: 1.0, 346990: 1.0, 348198: 1.0, 348199: 1.0, 349213: 1.0, 349351: 1.0, 349674: 1.0, 351764: 1.0, 355232: 1.0, 355671: 1.0, 356989: 1.0, 357971: 1.0, 359540: 1.0, 361095: 1.0, 364071: 1.0, 366178: 1.0, 367616: 1.0, 368759: 1.0, 368875: 1.0, 370081: 1.0, 371555: 1.0, 371988: 1.0, 373006: 1.0, 373510: 1.0, 374413: 1.0, 377535: 1.0, 392560: 1.0, 393187: 1.0, 419888: 1.0, 430688: 1.0, 438122: 1.0, 439074: 1.0, 440368: 1.0, 441577: 1.0, 442769: 1.0, 443237: 1.0, 445270: 1.0, 446016: 1.0, 446338: 1.0, 446903: 1.0, 447329: 1.0, 447656: 1.0, 448675: 1.0, 450722: 1.0, 450804: 1.0, 451262: 1.0, 452532: 1.0, 490462: 1.0, 495910: 1.0, 497186: 1.0, 502299: 1.0, 502300: 1.0, 506287: 1.0, 508558: 1.0, 508979: 1.0, 511905: 1.0, 513628: 1.0, 516790: 1.0, 528209: 1.0, 540280: 1.0, 553058: 1.0, 556467: 1.0, 556703: 1.0, 584895: 1.0, 585637: 1.0, 587966: 1.0, 591810: 1.0, 591928: 1.0, 592525: 1.0, 592526: 1.0, 593183: 1.0, 593184: 1.0}), num_edits=4, duration_ms=31428282, num_artists=65)"
            ]
          },
          "metadata": {},
          "execution_count": 18
        }
      ]
    },
    {
      "cell_type": "code",
      "execution_count": 22,
      "metadata": {
        "id": "SGjEbkYTAI3h"
      },
      "outputs": [],
      "source": [
        "def create_similarity_df(input_vector: DataFrame, rating_vectors_df: DataFrame, similarityFunction: Callable) -> DataFrame:\n",
        "  rv_df_input = rating_vectors_df.crossJoin(input_vector)\n",
        "  similarity_udf = udf(similarityFunction, returnType='double')\n",
        "  result_df = rv_df_input.withColumn(\"similarity\", similarity_udf(rv_df_input[\"input_vector\"], rv_df_input[\"rating_vector\"]))\n",
        "  return result_df\n",
        "\n",
        "rv_df = mapped_slice_df.withColumnRenamed(\"tracks\", \"rating_vector\")\n",
        "#TODO: Just for test, we take the first playlist as the playlist to be continued\n",
        "first_playlist_vector = rv_df.limit(1).select(\"rating_vector\").withColumnRenamed(\"rating_vector\",\"input_vector\")\n",
        "result_df = create_similarity_df(first_playlist_vector, rv_df, jaccard_similarity)"
      ]
    },
    {
      "cell_type": "markdown",
      "metadata": {
        "id": "12CY_fuNFXKr"
      },
      "source": [
        "Curse of dimensionality! We can see that each playlist is very dissimilar from each other playlist.\n",
        "\n",
        "If we filter the playlists that have a strictly positive similarity with the input playlist, and order them by descending similarity, we can see that the name (that we assume is very informative for the content of the playlist) is very similar, meaning that the algorithm seems to work!"
      ]
    },
    {
      "cell_type": "code",
      "execution_count": 28,
      "metadata": {
        "id": "NrPRMP-rINkc",
        "colab": {
          "base_uri": "https://localhost:8080/"
        },
        "outputId": "8e2c1dd8-8bfe-4fbf-c741-60b6b55b030b"
      },
      "outputs": [
        {
          "output_type": "stream",
          "name": "stdout",
          "text": [
            "+---------------+-------------+-----+-----------+----------+----------+-------------+--------------------+---------+-----------+-----------+--------------------+-------------------+\n",
            "|           name|collaborative|  pid|modified_at|num_tracks|num_albums|num_followers|       rating_vector|num_edits|duration_ms|num_artists|        input_vector|         similarity|\n",
            "+---------------+-------------+-----+-----------+----------+----------+-------------+--------------------+---------+-----------+-----------+--------------------+-------------------+\n",
            "|         disney|        false| 1000| 1457827200|       189|        16|            1|(681806,[127,1904...|        4|   31428282|         65|(681806,[127,1904...|                1.0|\n",
            "|         Disney|        false|34420| 1430784000|       179|        15|            1|(681806,[255,1904...|        3|   25533248|         54|(681806,[127,1904...|0.22635135135135134|\n",
            "|        Disney✨|        false|12990| 1450915200|       113|        32|            1|(681806,[1791,190...|        3|   20665774|         64|(681806,[127,1904...|0.18775510204081633|\n",
            "|         Disney|        false| 3323| 1391817600|       133|        20|            1|(681806,[4133,494...|        6|   23208277|         64|(681806,[127,1904...|0.16911764705882354|\n",
            "|         DISNEY|        false|44565| 1506470400|       179|        23|            1|(681806,[84,4443,...|        5|   26129019|         70|(681806,[127,1904...|0.16666666666666666|\n",
            "|  Disney Movies|        false|23038| 1399852800|       170|        16|            6|(681806,[1904,349...|        2|   25356294|         50|(681806,[127,1904...|0.16393442622950818|\n",
            "|Disney Princess|        false|65458| 1496793600|       159|        25|            1|(681806,[84,127,2...|        3|   26615932|         71|(681806,[127,1904...|0.16271186440677965|\n",
            "|         Disney|        false|50071| 1486080000|       154|        55|            1|(681806,[917,1791...|       16|   28494250|         95|(681806,[127,1904...|0.15862068965517243|\n",
            "|         disney|        false| 9718| 1467849600|        74|        28|            1|(681806,[127,4287...|        6|   14431883|         53|(681806,[127,1904...|            0.15625|\n",
            "|        Disney |        false|45621| 1469404800|       191|        60|            1|(681806,[126,127,...|       12|   35313420|        100|(681806,[127,1904...| 0.1518987341772152|\n",
            "|         DISNEY|        false|84889| 1410480000|       241|        23|            1|(681806,[255,1904...|        2|   38597440|         79|(681806,[127,1904...|0.14516129032258066|\n",
            "|         Disney|        false|22490| 1396396800|       245|        20|            1|(681806,[255,1904...|        3|   37871643|         66|(681806,[127,1904...|0.14506172839506173|\n",
            "|         DISNEY|        false|36245| 1479772800|        58|        24|            1|(681806,[4941,494...|        4|   10831497|         39|(681806,[127,1904...|0.14285714285714285|\n",
            "|         Disney|        false|33505| 1453680000|        95|        34|            1|(681806,[4941,668...|        8|   16193877|         69|(681806,[127,1904...|0.13360323886639677|\n",
            "|      disney!!!|        false|57499| 1423526400|       228|        35|            1|(681806,[255,1791...|        2|   40446966|         82|(681806,[127,1904...| 0.1278409090909091|\n",
            "|         Disney|        false|10604| 1419811200|       124|        13|            1|(681806,[3437,349...|        2|   20226973|         39|(681806,[127,1904...|0.12773722627737227|\n",
            "|        Disney |        false|21144| 1488153600|       112|        38|            1|(681806,[84,4443,...|        5|   17514563|         87|(681806,[127,1904...|0.12643678160919541|\n",
            "|         Disney|        false|27458| 1411084800|        56|        13|            1|(681806,[4941,860...|        5|    8923982|         41|(681806,[127,1904...| 0.1261682242990654|\n",
            "|         Disney|         true|69884| 1490918400|        49|        15|            3|(681806,[2439,860...|        9|    9143547|         34|(681806,[127,1904...|              0.125|\n",
            "|      Disney <3|        false|18810| 1404864000|       215|        25|            1|(681806,[255,1550...|        4|   36929082|         59|(681806,[127,1904...|0.12112676056338029|\n",
            "+---------------+-------------+-----+-----------+----------+----------+-------------+--------------------+---------+-----------+-----------+--------------------+-------------------+\n",
            "only showing top 20 rows\n",
            "\n"
          ]
        }
      ],
      "source": [
        "result_df.filter(\"similarity > 0\").orderBy(col(\"similarity\").desc()).show()"
      ]
    },
    {
      "cell_type": "markdown",
      "source": [
        "Now, in order to suggest some songs to continuate the input playlist, let's thake the. $K$ top most similar playlists"
      ],
      "metadata": {
        "id": "Ppy5-Y19swvG"
      }
    },
    {
      "cell_type": "code",
      "execution_count": 129,
      "metadata": {
        "id": "wNoSOnIqCLm8"
      },
      "outputs": [],
      "source": [
        "def get_top_k_results(playlist_pid: int, similarity_df: DataFrame, k: int = 20) -> DataFrame:\n",
        "  return similarity_df.filter( (col('pid') != playlist_pid)).orderBy(col(\"similarity\").desc()).limit(k)\n",
        "\n",
        "first_playlist_pid = rv_df.limit(1).select(\"pid\").pid\n",
        "top_k_results = get_top_k_results(first_playlist_pid, result_df)"
      ]
    },
    {
      "cell_type": "code",
      "source": [
        "top_k_results.show()"
      ],
      "metadata": {
        "id": "aajFVyNEs73j"
      },
      "execution_count": null,
      "outputs": []
    },
    {
      "cell_type": "markdown",
      "metadata": {
        "id": "0_eZCcOo7HCW"
      },
      "source": [
        "Making a prediction"
      ]
    },
    {
      "cell_type": "code",
      "source": [
        "# from pyspark.ml.linalg import VectorUDT\n",
        "\n",
        "# def add_sparse_vectors(accumulator: SparseVector, vector: SparseVector, weight: float) -> SparseVector:\n",
        "#     accumulator_vec = accumulator.toArray() \n",
        "#     array_2 = vector.toArray() * weight\n",
        "\n",
        "#     summed_array = accumulator_vec + array_2\n",
        "\n",
        "#     values = [value for value in summed_array if value != 0]\n",
        "#     sorted_indices = [index for index, value in enumerate(summed_array) if value != 0]\n",
        "#     return SparseVector(accumulator_vec.size, sorted_indices, values)\n",
        "\n",
        "# @udf(returnType=VectorUDT())\n",
        "# def accumulate_sparse_vectors(accumulator, rating_vector, similarity):\n",
        "#     summed_vector = add_sparse_vectors(accumulator, rating_vector, similarity)\n",
        "#     return summed_vector\n",
        "\n",
        "# df = top_k_results.withColumn('accumulated_vector', accumulate_sparse_vectors(top_k_results[\"rating_vector\"], top_k_results[\"rating_vector\"], top_k_results['similarity']))"
      ],
      "metadata": {
        "id": "ePbkSVa3ONgo"
      },
      "execution_count": null,
      "outputs": []
    },
    {
      "cell_type": "markdown",
      "source": [
        "We want to obtain a single embedding for all the $K$ top most similar playlists, that will be the rating vector. We can then pick the indices of the $n$ top greatest values form this vector, and those will be the $n$ songs that we will reccomend.\n",
        "\n",
        "In order to aggregate the $k$ embeddings into a single one, I decided to take an average, weighted by the similarity value."
      ],
      "metadata": {
        "id": "nGUtRgGutIgZ"
      }
    },
    {
      "cell_type": "code",
      "source": [
        "def accumulate_top_k_results(top_k_results: DataFrame):\n",
        "  accumulator = np.zeros(RATING_VECTOR_LENGTH + 1)\n",
        "  top_k = top_k_results.collect()\n",
        "  for row in top_k:\n",
        "    accumulator += row.rating_vector.toArray() * row.similarity\n",
        "\n",
        "  values = [value for value in accumulator if value != 0]\n",
        "  sorted_indices = [index for index, value in enumerate(accumulator) if value != 0]\n",
        "  return SparseVector(accumulator.size, sorted_indices, values)\n",
        "\n",
        "accumulated_vector = accumulate_top_k_results(top_k_results)"
      ],
      "metadata": {
        "id": "nDEnlGrCcOHp"
      },
      "execution_count": 32,
      "outputs": []
    },
    {
      "cell_type": "code",
      "source": [
        "# @udf(returnType=\"int\")\n",
        "# def compute_vector_len(rating_vector):\n",
        "#     return len(rating_vector.indices)\n",
        "# final_df = df.withColumn('accumulated_vector_len', compute_vector_len(df[\"rating_vector\"]))"
      ],
      "metadata": {
        "id": "d6U00q3oR_6t"
      },
      "execution_count": null,
      "outputs": []
    },
    {
      "cell_type": "code",
      "source": [
        "accumulated_vector[:10]"
      ],
      "metadata": {
        "colab": {
          "base_uri": "https://localhost:8080/"
        },
        "id": "qisHKF0-uW_z",
        "outputId": "530971cf-2315-4e1a-ad75-9c128f1e1096"
      },
      "execution_count": 34,
      "outputs": [
        {
          "output_type": "execute_result",
          "data": {
            "text/plain": [
              "SparseVector(681806, {84: 0.4558, 126: 0.1519, 127: 0.4709, 255: 0.7655, 917: 0.3105, 1360: 0.1519, 1550: 0.239, 1791: 0.7439, 1904: 0.8683, 1905: 0.1451, 2202: 0.1519, 2439: 0.125, 2572: 0.1627, 2596: 0.1519, 2965: 0.2797, 3124: 0.249, 3437: 0.4433, 3491: 0.8082, 3734: 0.1586, 4133: 0.7544, 4134: 0.1519, 4135: 0.1519, 4136: 1.0202, 4287: 0.1562, 4443: 0.4558, 4941: 2.0483, 4942: 0.1429, 5940: 0.8082, 6237: 1.1781, 6362: 1.5516, 6363: 1.385, 6364: 0.8082, 6622: 0.1519, 6685: 1.305, 7447: 0.2697, 7844: 0.6112, 8263: 0.4709, 8384: 0.8082, 8606: 2.145, 8628: 1.9292, 8669: 0.1519, 9003: 0.8901, 9048: 0.2514, 9079: 1.3047, 9257: 0.8747, 9431: 0.1586, 9448: 0.1627, 9482: 0.2697, 9593: 0.8909, 9696: 0.125, 9998: 1.5516, 9999: 0.8082, 10641: 1.2346, 10674: 1.1117, 10675: 0.3105, 10676: 0.4709, 10724: 0.2514, 10780: 0.971, 10895: 0.2729, 10958: 2.3786, 10998: 1.2518, 11027: 0.2697, 11369: 1.6691, 11429: 0.6261, 11430: 0.1519, 11497: 0.3149, 11538: 0.7655, 12246: 0.3105, 12712: 0.4709, 13117: 0.4709, 13357: 0.2586, 13500: 0.1627, 13652: 0.971, 14071: 0.8082, 14072: 0.8082, 14317: 2.0417, 14367: 0.9088, 14708: 1.3343, 14754: 0.7404, 14755: 0.1519, 15287: 0.8082, 15520: 2.1428, 15578: 0.4709, 15710: 1.3408, 15939: 1.543, 16384: 0.5712, 16409: 0.1627, 16801: 0.1519, 16920: 1.2092, 16921: 0.8082, 16976: 0.2765, 17407: 0.125, 17586: 0.1519, 17587: 0.4709, 17699: 1.5028, 17705: 1.5355, 17970: 1.2351, 18060: 0.3003, 18218: 0.125, 18322: 2.5305, 18395: 0.4709, 18811: 0.1519, 18812: 0.1519, 18922: 0.8082, 18923: 0.971, 19783: 0.8834, 19784: 0.7655, 19845: 0.1211, 19986: 2.2361, 20210: 0.5538, 20241: 0.2443, 20656: 1.0013, 20657: 0.547, 20845: 0.1627, 20873: 1.0671, 21024: 0.8683, 21025: 0.8082, 21026: 0.8082, 21275: 1.86, 21298: 0.6112, 21417: 0.5019, 21535: 0.1264, 21652: 2.4143, 21709: 0.8666, 21710: 0.1519, 22205: 1.385, 22206: 0.8082, 22465: 0.1627, 22516: 0.4709, 22918: 1.3229, 22988: 1.7079, 23254: 2.1838, 23446: 0.4593, 23697: 1.5529, 23837: 1.1861, 24693: 0.9861, 24964: 0.4709, 25323: 1.5242, 25467: 0.1451, 25878: 0.4593, 26264: 0.4558, 26569: 0.1519, 26688: 0.8909, 27007: 0.1667, 27363: 2.3504, 27377: 0.2697, 27786: 1.0693, 27806: 0.7439, 27807: 0.4709, 28566: 0.4675, 28567: 0.1519, 28568: 0.1519, 28591: 0.4558, 28679: 0.8082, 28975: 0.2855, 28998: 0.1336, 29003: 0.1878, 29324: 0.1178, 30179: 0.6859, 30180: 0.1519, 30181: 0.1519, 30338: 0.1586, 30557: 0.1519, 30558: 1.7485, 30966: 0.1519, 31090: 1.9623, 31091: 0.8683, 31340: 0.1627, 31371: 0.4709, 31798: 0.1519, 31916: 0.8909, 31917: 0.4593, 31918: 0.1451, 32214: 0.1519, 32337: 0.4593, 32346: 1.4902, 32579: 1.2092, 32580: 1.5644, 32983: 1.3411, 32991: 0.1178, 33242: 0.3015, 33391: 0.1519, 33392: 0.1519, 33508: 0.8683, 33621: 0.1336, 33761: 1.3215, 33798: 0.6261, 34101: 0.4558, 34147: 1.1532, 34151: 0.1519, 34364: 0.4269, 34586: 0.4955, 34617: 0.1519, 34618: 0.1519, 34619: 0.1519, 34986: 0.1336, 35144: 0.8082, 35249: 0.125, 35472: 0.9706, 35558: 0.7655, 35787: 2.2524, 35846: 0.1519, 35947: 1.329, 35948: 0.8082, 36193: 0.2855, 36552: 2.2361, 36602: 2.1436, 36745: 1.9623, 36746: 0.8683, 36962: 2.4589, 37001: 0.4101, 37029: 1.0431, 37142: 0.8909, 37143: 0.8082, 37387: 1.2147, 37777: 0.8596, 37807: 0.4558, 37839: 1.1528, 38078: 0.3991, 38622: 0.1519, 38740: 0.8082, 38990: 0.1627, 39132: 0.7958, 39395: 0.2855, 39500: 0.8082, 39799: 0.2899, 40085: 0.1667, 41047: 0.1667, 41350: 0.1211, 42223: 0.249, 42455: 0.1178, 42914: 0.1211, 43152: 0.1211, 43153: 0.1211, 43686: 0.1178, 43846: 0.1211, 44314: 0.1211, 44538: 0.1586, 44953: 0.2729, 45102: 0.3027, 45685: 0.1178, 45789: 0.1264, 46105: 0.1667, 46332: 0.1667, 47085: 0.1178, 47298: 0.1264, 47315: 0.249, 47673: 0.1667, 47674: 0.1667, 47755: 0.2797, 47914: 0.1667, 48241: 0.249, 48466: 0.1211, 48581: 0.1667, 48615: 0.249, 49057: 0.1667, 49466: 0.1586, 50252: 0.1178, 50854: 0.1667, 50855: 0.1667, 51029: 0.4544, 51141: 0.1211, 51947: 0.1178, 52771: 0.4148, 53070: 0.1211, 53218: 0.1667, 53444: 0.1667, 54267: 0.1586, 54403: 0.4029, 54492: 1.4153, 54561: 0.4269, 54636: 0.1667, 54753: 0.1211, 54963: 0.1211, 55096: 0.1667, 55125: 0.1178, 55549: 0.4148, 55739: 0.1667, 55836: 0.1211, 56408: 0.1264, 57198: 0.1667, 57556: 0.1211, 58033: 0.2805, 58867: 0.1667, 59119: 1.6569, 59190: 0.1211, 59236: 0.1178, 59993: 0.1667, 60160: 0.1178, 60461: 0.1667, 60766: 0.1336, 61154: 0.1264, 61387: 0.1667, 61750: 0.1211, 61812: 0.1178, 61879: 0.4544, 61961: 0.249, 62119: 0.2457, 62196: 0.249, 62446: 0.1211, 65871: 0.1264, 67890: 0.1178, 70385: 0.2729, 71171: 0.2729, 74279: 0.2729, 75455: 1.4091, 79021: 0.6083, 81096: 0.1627, 81487: 0.1586, 83930: 0.3294, 86554: 0.1691, 86785: 0.3294, 89372: 0.4544, 90019: 0.3294, 90271: 0.3027, 95237: 0.3294, 96776: 0.3294, 97166: 0.4544, 98893: 0.1691, 99267: 0.3294, 99594: 0.3294, 100077: 0.3294, 101416: 0.1691, 101469: 0.3294, 102061: 0.3294, 102527: 0.3294, 103131: 0.3294, 104592: 0.1178, 104655: 0.1264, 105560: 0.3294, 105843: 0.3294, 106768: 0.3294, 106922: 0.3294, 108752: 1.0939, 110098: 1.4091, 110568: 0.125, 112449: 0.9511, 119899: 0.1627, 123872: 0.249, 124977: 0.1264, 125862: 0.1264, 126262: 0.1264, 126858: 0.1264, 131580: 0.4269, 134292: 0.4269, 150844: 0.4316, 150962: 0.4316, 151474: 0.7844, 151607: 0.1586, 152241: 1.0947, 152301: 0.249, 153332: 0.4316, 153448: 0.249, 153555: 0.249, 153574: 0.1178, 153620: 1.0947, 154006: 0.249, 154090: 0.7844, 154649: 0.1178, 155209: 1.0947, 155325: 1.0947, 155503: 0.249, 155787: 0.9669, 156141: 0.7844, 156291: 0.249, 157512: 0.1178, 158518: 0.4316, 159224: 0.249, 160327: 0.249, 160328: 0.249, 160450: 0.249, 160564: 0.4316, 160630: 1.0947, 161768: 0.2457, 161893: 0.4316, 161894: 0.1278, 164738: 0.1586, 165052: 0.1211, 170891: 0.1211, 171093: 0.1211, 179958: 0.1627, 184230: 0.1627, 187986: 0.1562, 199031: 0.264, 201288: 0.1211, 203685: 0.1211, 205083: 0.1211, 209113: 0.1211, 215451: 0.1429, 216192: 0.1264, 220058: 0.1336, 286662: 0.1562, 294310: 0.1429, 295684: 0.1586, 296105: 0.1586, 335028: 0.1562, 337748: 1.2158, 338334: 0.6999, 338847: 2.2685, 338866: 0.1627, 338896: 0.1519, 339024: 1.0828, 339136: 1.2567, 339314: 0.1519, 339315: 0.1519, 339427: 0.8082, 339697: 0.6112, 340068: 0.1178, 340238: 1.136, 340511: 0.7715, 340634: 0.8082, 340698: 0.2891, 340889: 1.2092, 340893: 0.1519, 341004: 0.8313, 341423: 0.8082, 341424: 0.8082, 341690: 0.1519, 341758: 0.125, 342067: 0.1627, 342482: 0.1519, 342483: 2.1436, 342484: 0.6112, 342605: 0.971, 342882: 0.1519, 342998: 0.3328, 342999: 0.8082, 343284: 0.1519, 343285: 0.4709, 343411: 0.8909, 343633: 2.5305, 343884: 0.2765, 344041: 2.5203, 344068: 0.1562, 344124: 0.1519, 344125: 0.1519, 344251: 1.3123, 344569: 2.3786, 344876: 2.3601, 344939: 0.1519, 345054: 1.5516, 345456: 0.5019, 345457: 0.971, 346167: 0.1519, 346546: 0.1627, 346990: 0.4709, 347232: 0.249, 347327: 0.1451, 347395: 0.1519, 347523: 0.5495, 347765: 0.1627, 347921: 0.8082, 348198: 1.0202, 348199: 0.4709, 348311: 0.971, 348579: 0.1519, 348711: 1.723, 349107: 0.7655, 349108: 0.8082, 349351: 1.985, 349382: 0.4009, 349674: 2.0483, 350562: 0.7824, 350691: 0.4593, 350934: 0.7266, 351074: 0.3328, 351075: 0.971, 351454: 0.1586, 351764: 2.1215, 351968: 0.3976, 352312: 1.8394, 352558: 0.4558, 352597: 0.1519, 352927: 1.3337, 352997: 0.1519, 353039: 1.1268, 353105: 1.2158, 353106: 0.8082, 353349: 0.8575, 353819: 0.1178, 353997: 0.9242, 353998: 0.1451, 354268: 0.1519, 354414: 0.4593, 354415: 0.8082, 354665: 0.4558, 354701: 0.437, 354702: 1.3724, 354703: 0.1519, 355111: 0.2783, 355112: 0.1519, 355136: 0.4558, 355232: 0.8683, 355533: 1.4747, 355670: 0.8909, 355671: 1.667, 355672: 0.7958, 355673: 0.3328, 356056: 0.5019, 356882: 0.8082, 357216: 1.0449, 357289: 1.8394, 357291: 0.3027, 357364: 0.1178, 357971: 0.6045, 358475: 0.8082, 359539: 0.1519, 359540: 0.3146, 359717: 0.2514, 361095: 0.4709, 361222: 0.7655, 361491: 0.1336, 361530: 1.3448, 361899: 0.1519, 362437: 0.8082, 362750: 0.9406, 362791: 0.2877, 362870: 0.8834, 362871: 0.1451, 362872: 0.971, 363155: 0.1519, 363245: 0.4558, 363269: 0.8082, 363381: 0.4558, 363675: 0.9066, 364071: 0.8683, 364637: 0.9113, 364737: 2.5843, 364761: 1.6176, 364774: 0.3962, 364795: 0.5939, 364914: 0.5495, 364997: 0.3294, 365190: 0.1627, 365224: 0.1519, 365240: 0.4558, 365781: 0.971, 366057: 0.1519, 366178: 1.5516, 366179: 1.2092, 366830: 0.1627, 367187: 2.0012, 367472: 0.1264, 367585: 0.1627, 367616: 1.0202, 367949: 1.3045, 368095: 0.8082, 368735: 2.1211, 368759: 1.7422, 368874: 0.8834, 368875: 0.8683, 369169: 0.3962, 369170: 0.1519, 369692: 0.4593, 370081: 1.5516, 370326: 0.4029, 370356: 0.1519, 370357: 0.1519, 370489: 0.8082, 370605: 1.4091, 370908: 0.8082, 370971: 0.1264, 371167: 0.1519, 371555: 0.7106, 371678: 0.8082, 371987: 0.1519, 371988: 1.2642, 372725: 2.2389, 372884: 0.3328, 372885: 0.971, 372886: 0.8082, 373006: 0.125, 373121: 2.0725, 373149: 0.1519, 373510: 2.5305, 374411: 0.1519, 374412: 0.4284, 374413: 0.6045, 374524: 0.8082, 375397: 0.3294, 375883: 2.3003, 376303: 1.5744, 376304: 0.7439, 376341: 2.087, 376468: 0.5921, 376861: 0.1451, 376862: 0.8082, 377147: 0.1519, 377314: 0.1586, 377535: 0.4709, 377671: 1.6458, 377909: 2.418, 378201: 0.125, 378269: 0.1667, 378537: 0.4148, 378972: 0.1667, 378973: 0.1667, 379186: 0.1586, 379507: 0.1211, 379764: 0.249, 380147: 0.1667, 380148: 0.1667, 380656: 0.1211, 381000: 0.1667, 381106: 0.3156, 381107: 0.1211, 381590: 0.1211, 382209: 0.4148, 382407: 0.1667, 382514: 0.1211, 382515: 0.1211, 382683: 0.5412, 383220: 0.4148, 383353: 0.1667, 383354: 0.1667, 383720: 0.1178, 383877: 0.1211, 384776: 0.1211, 384913: 0.1667, 385370: 0.1586, 385385: 0.1667, 385548: 0.2741, 385845: 0.1667, 386185: 0.1211, 386869: 0.1211, 387215: 0.4742, 387810: 0.249, 388198: 0.2729, 388199: 0.1667, 388534: 0.1211, 390171: 0.4497, 390576: 0.1667, 391175: 0.1211, 391840: 0.249, 391856: 0.1211, 392470: 0.2797, 392560: 0.3475, 392735: 0.297, 393187: 0.3294, 393328: 0.1178, 393491: 1.6691, 393655: 0.1667, 393900: 0.1586, 394240: 0.1211, 394471: 0.1211, 394635: 0.297, 394756: 0.1178, 395147: 0.249, 395311: 0.4148, 395363: 0.1211, 395805: 0.249, 395941: 0.1667, 396419: 0.1667, 396633: 0.1667, 396678: 0.1278, 396740: 0.5734, 396751: 0.249, 396962: 0.1178, 397213: 0.1211, 397820: 0.1667, 397937: 0.249, 399231: 0.1667, 400659: 0.1211, 400821: 0.5412, 401032: 0.1667, 401033: 0.1667, 401271: 0.1667, 401371: 0.249, 401372: 0.1211, 402543: 0.2729, 402927: 0.4269, 403337: 1.812, 404243: 0.2729, 405832: 0.1336, 406270: 0.2729, 407177: 0.2729, 408175: 0.1336, 408904: 0.4497, 409630: 0.7844, 411276: 0.2729, 415666: 0.2729, 416067: 0.2729, 416514: 0.4316, 417856: 0.4029, 419055: 0.1178, 419888: 0.5605, 420723: 0.1627, 423414: 0.1667, 424245: 0.1667, 426858: 1.6855, 428062: 0.1667, 428625: 0.5581, 429197: 0.2528, 430688: 0.2586, 433017: 0.1691, 436785: 0.1691, 438024: 0.4316, 438122: 0.4544, 438515: 0.4316, 438766: 0.1211, 439074: 0.3294, 440368: 0.125, 441577: 0.3294, 441871: 0.1586, 442769: 0.3294, 443141: 0.1586, 443237: 0.3294, 445270: 0.3294, 446016: 0.3294, 446337: 0.9511, 446338: 0.3294, 446903: 0.2586, 447329: 0.125, 447656: 1.2614, 448675: 0.3294, 450722: 1.0947, 450804: 0.125, 451262: 1.3878, 451732: 0.1178, 452532: 0.3294, 453300: 0.1586, 457077: 0.1178, 460476: 0.6759, 461156: 0.2443, 461833: 0.1211, 461902: 0.1211, 463310: 0.1178, 463808: 0.1211, 469659: 0.4269, 469770: 0.4269, 475843: 0.1586, 480606: 0.1562, 490741: 0.249, 491051: 0.1336, 491154: 0.7844, 491314: 0.1178, 491511: 0.7844, 491555: 0.249, 491886: 0.7844, 491887: 0.7844, 492953: 0.249, 494525: 0.1278, 494639: 0.4316, 495787: 0.7844, 495910: 1.0947, 496299: 0.249, 496713: 0.7844, 497186: 1.0947, 497945: 0.5412, 498174: 0.1178, 498286: 0.4316, 499468: 0.4316, 499600: 0.249, 499715: 0.249, 499829: 0.4316, 499952: 0.249, 500803: 0.4316, 501004: 0.7844, 501044: 0.249, 501520: 0.249, 501633: 0.249, 501718: 0.7844, 502004: 0.249, 502112: 0.4316, 502299: 1.0947, 502300: 1.0947, 502669: 0.1211, 503035: 0.1211, 503619: 0.1586, 507126: 0.1211, 508408: 0.1211, 510984: 0.1211, 518587: 0.1586, 525158: 0.1627, 528209: 0.319, 529887: 0.1627, 530780: 0.1627, 534078: 0.1586, 540280: 0.1336, 556703: 0.1264, 562860: 0.1336, 565777: 0.1336, 585637: 0.1264, 592526: 0.1264, 593183: 0.1264, 640144: 0.1586, 646019: 0.1586})"
            ]
          },
          "metadata": {},
          "execution_count": 34
        }
      ]
    },
    {
      "cell_type": "code",
      "source": [
        "# accumulated_vector = final_df.orderBy(col(\"accumulated_vector_len\").desc()).first().accumulated_vector"
      ],
      "metadata": {
        "id": "IsaCrFnuSori"
      },
      "execution_count": null,
      "outputs": []
    },
    {
      "cell_type": "code",
      "source": [
        "def get_top_n_values(vector: SparseVector, n:int = 10) -> List[Tuple[int, float]]:\n",
        "  elements = list(enumerate(vector.toArray()))\n",
        "  sorted_elements = sorted(elements, key=lambda x: x[1], reverse=True)\n",
        "  top_n_indices = [(index, confidence) for index, confidence in sorted_elements[:n]]\n",
        "  return top_n_indices\n",
        "\n",
        "top_n_reccomendations = get_top_n_values(accumulated_vector)"
      ],
      "metadata": {
        "id": "keTpUBIXTdHg"
      },
      "execution_count": 35,
      "outputs": []
    },
    {
      "cell_type": "code",
      "source": [
        "top_n_reccomendations[0]"
      ],
      "metadata": {
        "id": "iE9TIsj5UGyM",
        "colab": {
          "base_uri": "https://localhost:8080/"
        },
        "outputId": "c686124b-fb5a-4e78-f64c-2607f86cbdda"
      },
      "execution_count": 76,
      "outputs": [
        {
          "output_type": "execute_result",
          "data": {
            "text/plain": [
              "(364737, 2.5843352240994624)"
            ]
          },
          "metadata": {},
          "execution_count": 76
        }
      ]
    },
    {
      "cell_type": "code",
      "source": [
        "def convert_df_to_map(df: DataFrame) -> DataFrame:\n",
        "  return df\\\n",
        "  .withColumn('aggregated', \\\n",
        "              to_json(\n",
        "                  struct(\n",
        "                      \"artist_name\", \n",
        "                      \"track_uri\", \n",
        "                      \"artist_uri\", \n",
        "                      \"track_name\", \n",
        "                      \"album_uri\", \n",
        "                      \"duration_ms\", \n",
        "                      \"album_name\")\n",
        "                  )\n",
        "              ).select(\"pos\", \"aggregated\")\n",
        "              \n",
        "songs_info_map = convert_df_to_map(songs_info_df)"
      ],
      "metadata": {
        "id": "D3N3qOtAu8Pp"
      },
      "execution_count": 58,
      "outputs": []
    },
    {
      "cell_type": "code",
      "source": [
        "import json\n",
        "#TODO: For now this works, but it's very slow, and since this has to be executed online,\n",
        "# consider to directly embed the song information inside the dataframe when computing the songs\n",
        "# to recommend.\n",
        "def recommendation_song_info(recommendation: List[Tuple[int, float]], songs_info_map) -> Row:\n",
        "  result = []\n",
        "  for index, confidence in tqdm(recommendation, desc=\"Extracting song info from recommendations...\"):\n",
        "    song_info_dict = json.loads(songs_info_map.lookup(index)[0])\n",
        "    # song_info_dict.update({\"confidence\":confidence})\n",
        "    result.append(Row(**song_info_dict))\n",
        "  return spark.createDataFrame(songs_info).show()\n",
        "\n",
        "songs_info = recommendation_song_info(top_n_reccomendations, songs_info_map.rdd)"
      ],
      "metadata": {
        "id": "ZJOyep5RUMGV",
        "colab": {
          "base_uri": "https://localhost:8080/",
          "height": 49,
          "referenced_widgets": [
            "1d2928204f4342228a8fcd0f87885bf8",
            "167b3c17f64441f59a006cae57c0e63c",
            "9197ef01f7414ff2b4c1ccea48d45ea8",
            "c24ed86f9ace4251a803557ae7907f58",
            "971596a576af46488ef9f590e74dfdfa",
            "d060765f2d284ccea5045a7388d137e0",
            "6bc04895de37442eb61609a9a339224d",
            "970d6a6e59084ad9bca2683ed91e193c",
            "f308557023ce4939ab8330f4e7a9296c",
            "ae4298059f654469bf32fb2f009a675b",
            "5d888db0df7a4413a3646dda1bb26b1c"
          ]
        },
        "outputId": "212f3b2d-805c-4439-9e75-9d66b7b655d6"
      },
      "execution_count": 125,
      "outputs": [
        {
          "output_type": "display_data",
          "data": {
            "text/plain": [
              "Extracting song info from reccomendations...:   0%|          | 0/2 [00:00<?, ?it/s]"
            ],
            "application/vnd.jupyter.widget-view+json": {
              "version_major": 2,
              "version_minor": 0,
              "model_id": "1d2928204f4342228a8fcd0f87885bf8"
            }
          },
          "metadata": {}
        }
      ]
    },
    {
      "cell_type": "code",
      "source": [
        "spark.createDataFrame(songs_info).show()"
      ],
      "metadata": {
        "id": "D1a5Nhl8d6Wp",
        "colab": {
          "base_uri": "https://localhost:8080/"
        },
        "outputId": "0ce88add-561a-4d7c-8338-ea558a2401d5"
      },
      "execution_count": 126,
      "outputs": [
        {
          "output_type": "stream",
          "name": "stdout",
          "text": [
            "+----------------+--------------------+--------------------+--------------------+--------------------+-----------+--------------------+\n",
            "|     artist_name|           track_uri|          artist_uri|          track_name|           album_uri|duration_ms|          album_name|\n",
            "+----------------+--------------------+--------------------+--------------------+--------------------+-----------+--------------------+\n",
            "|Theodore Shapiro|spotify:track:7mR...|spotify:artist:6N...|St. Vincent of Sh...|spotify:album:69L...|     240773|St. Vincent (Orig...|\n",
            "|    John De Sohn|spotify:track:3jy...|spotify:artist:3T...|Dance Our Tears A...|spotify:album:4t3...|     297933|Dance Our Tears Away|\n",
            "+----------------+--------------------+--------------------+--------------------+--------------------+-----------+--------------------+\n",
            "\n"
          ]
        }
      ]
    },
    {
      "cell_type": "markdown",
      "source": [
        "### Putting it all togheter\n",
        "We now define a single function that will get a playlist in input and will reccomend $n$ songs."
      ],
      "metadata": {
        "id": "CFmlqOAttu32"
      }
    },
    {
      "cell_type": "code",
      "source": [
        "#TODO: this now takes a playlist and extracts its PID, if a playlist is built from scratch the PID shouldn't be defined\n",
        "def user_based_recommendation(playlist: DataFrame, rating_vector_df: DataFrame, similarity_function: Callable, n:int = 50) -> DataFrame:\n",
        "  with tqdm(total=5, desc=\"Generating recommendations...\") as pbar:\n",
        "    similarity_df = create_similarity_df(first_playlist_vector, rv_df, jaccard_similarity)\n",
        "    pbar.update(1)\n",
        "\n",
        "    top_k_results = get_top_k_results(playlist.pid, similarity_df)\n",
        "    pbar.update(1)\n",
        "\n",
        "    accumulated_vector = accumulate_top_k_results(top_k_results)\n",
        "    pbar.update(1)\n",
        "\n",
        "    top_n_indices = get_top_n_values(accumulated_vector, n=n)\n",
        "    pbar.update(1)\n",
        "\n",
        "    recommended_songs_info = recommendation_song_info(top_n_indices, songs_info_map.rdd)\n",
        "    pbar.update(1)\n",
        "\n",
        "  return recommended_songs_info\n",
        "\n",
        "playlist = slice_df.filter(\"pid == 1010\").first()\n",
        "user_based_recommendation(playlist, mapped_slice_df, jaccard_similarity)\n"
      ],
      "metadata": {
        "colab": {
          "base_uri": "https://localhost:8080/",
          "height": 361,
          "referenced_widgets": [
            "036cb82f2ff9482d8e9fb211c4a427d0",
            "e49838141caf4a9f8e364f55ffac17a6",
            "e61fc9b5ae544e6f894aed61a3acc9a4",
            "9a712fb7decc4dc8ae35977a02457c88",
            "3fce650e1b244ab4ac55b7e79edaa99b",
            "97e1853c8cbc43c99116eba639b7baaf",
            "00c7e389cdd6495081de37fd083105ba",
            "8d560ef93f7241329f7024712c1c4082",
            "d28652310fd34196a1023655634c5a48",
            "5db6c73320cf4900b69876720c6adb59",
            "c974f65329b64884a01b0296558c3bf4"
          ]
        },
        "id": "jfiQn5_rt827",
        "outputId": "e221b8fd-4d58-4e18-e7fd-bb13138cf1e6"
      },
      "execution_count": 133,
      "outputs": [
        {
          "output_type": "display_data",
          "data": {
            "text/plain": [
              "Generating recommendations...:   0%|          | 0/5 [00:00<?, ?it/s]"
            ],
            "application/vnd.jupyter.widget-view+json": {
              "version_major": 2,
              "version_minor": 0,
              "model_id": "036cb82f2ff9482d8e9fb211c4a427d0"
            }
          },
          "metadata": {}
        },
        {
          "output_type": "error",
          "ename": "NameError",
          "evalue": "ignored",
          "traceback": [
            "\u001b[0;31m---------------------------------------------------------------------------\u001b[0m",
            "\u001b[0;31mNameError\u001b[0m                                 Traceback (most recent call last)",
            "\u001b[0;32m<ipython-input-133-14ad51ae718f>\u001b[0m in \u001b[0;36m<cell line: 21>\u001b[0;34m()\u001b[0m\n\u001b[1;32m     19\u001b[0m \u001b[0;34m\u001b[0m\u001b[0m\n\u001b[1;32m     20\u001b[0m \u001b[0mplaylist\u001b[0m \u001b[0;34m=\u001b[0m \u001b[0mslice_df\u001b[0m\u001b[0;34m.\u001b[0m\u001b[0mfilter\u001b[0m\u001b[0;34m(\u001b[0m\u001b[0;34m\"pid == 1010\"\u001b[0m\u001b[0;34m)\u001b[0m\u001b[0;34m.\u001b[0m\u001b[0mfirst\u001b[0m\u001b[0;34m(\u001b[0m\u001b[0;34m)\u001b[0m\u001b[0;34m\u001b[0m\u001b[0;34m\u001b[0m\u001b[0m\n\u001b[0;32m---> 21\u001b[0;31m \u001b[0muser_based_recommendation\u001b[0m\u001b[0;34m(\u001b[0m\u001b[0mplaylist\u001b[0m\u001b[0;34m,\u001b[0m \u001b[0mmapped_slice_df\u001b[0m\u001b[0;34m,\u001b[0m \u001b[0mjaccard_similarity\u001b[0m\u001b[0;34m)\u001b[0m\u001b[0;34m\u001b[0m\u001b[0;34m\u001b[0m\u001b[0m\n\u001b[0m",
            "\u001b[0;32m<ipython-input-133-14ad51ae718f>\u001b[0m in \u001b[0;36muser_based_recommendation\u001b[0;34m(playlist, rating_vector_df, similarity_function, n)\u001b[0m\n\u001b[1;32m     13\u001b[0m     \u001b[0mpbar\u001b[0m\u001b[0;34m.\u001b[0m\u001b[0mupdate\u001b[0m\u001b[0;34m(\u001b[0m\u001b[0;36m1\u001b[0m\u001b[0;34m)\u001b[0m\u001b[0;34m\u001b[0m\u001b[0;34m\u001b[0m\u001b[0m\n\u001b[1;32m     14\u001b[0m \u001b[0;34m\u001b[0m\u001b[0m\n\u001b[0;32m---> 15\u001b[0;31m     \u001b[0mrecommended_songs_info\u001b[0m \u001b[0;34m=\u001b[0m \u001b[0mrecommendation_song_info\u001b[0m\u001b[0;34m(\u001b[0m\u001b[0mtop_n_indices\u001b[0m\u001b[0;34m,\u001b[0m \u001b[0msongs_info_map\u001b[0m\u001b[0;34m.\u001b[0m\u001b[0mrdd\u001b[0m\u001b[0;34m)\u001b[0m\u001b[0;34m\u001b[0m\u001b[0;34m\u001b[0m\u001b[0m\n\u001b[0m\u001b[1;32m     16\u001b[0m     \u001b[0mpbar\u001b[0m\u001b[0;34m.\u001b[0m\u001b[0mupdate\u001b[0m\u001b[0;34m(\u001b[0m\u001b[0;36m1\u001b[0m\u001b[0;34m)\u001b[0m\u001b[0;34m\u001b[0m\u001b[0;34m\u001b[0m\u001b[0m\n\u001b[1;32m     17\u001b[0m \u001b[0;34m\u001b[0m\u001b[0m\n",
            "\u001b[0;31mNameError\u001b[0m: name 'recommendation_song_info' is not defined"
          ]
        }
      ]
    },
    {
      "cell_type": "markdown",
      "source": [
        "## Performance Evaluation"
      ],
      "metadata": {
        "id": "eM7ErDxxt69B"
      }
    },
    {
      "cell_type": "markdown",
      "metadata": {
        "id": "x-UNeSG31Hjw"
      },
      "source": [
        "#Item-Based Collaborative Filtering\n"
      ]
    },
    {
      "cell_type": "markdown",
      "metadata": {
        "id": "oqfickiR9jDW"
      },
      "source": []
    },
    {
      "cell_type": "markdown",
      "metadata": {
        "id": "SqlejJ_MFrB9"
      },
      "source": [
        "# Fighting against the curse of dimensionality: Matrix Factorization"
      ]
    },
    {
      "cell_type": "markdown",
      "metadata": {
        "id": "gnioMF6_KGfr"
      },
      "source": [
        "We want to define $\\mathbf{x}_u \\in \\mathbb{R}^d$ $d$-dimensional vector that represents the user $u$, and $\\mathbf{w}_i \\in \\mathbb{R}^d$ vector that represent the item $i$.\n",
        "\n",
        "We then can estimate the rating of user $u$ for the item $i$ by computing\n",
        "\\begin{equation}\n",
        "\\hat{r}_{u, i}=\\mathbf{x}_u^T \\cdot \\mathbf{w}_i=\\sum_{j=1}^d x_{u, j} w_{j, i}\n",
        "\\end{equation}\n",
        "Or, in matrix notation,\n",
        "\n",
        "\\begin{equation}\n",
        "\\underbrace{R}_{m \\times n} =\n",
        "\\underbrace{X}_{m \\times d}\n",
        "\\underbrace{W^T}_{d \\times n}\n",
        "\\end{equation}\n",
        "\n",
        "### How to learn $X$ and $W$\n",
        "The matrix $R$ is partially known and filled with the observations inside the dataset $\\mathcal{D}$. In order to learn the latent factor representations $X$ and $W$, we minimize the following loss function:\n",
        "\\begin{equation}\n",
        "L(X, W)=\\sum_{(u, i) \\in \\mathcal{D}}\\underbrace{\\left(r_{u, i}-\\mathbf{x}_u^T \\cdot \\mathbf{w}_i\\right)^2}_{\\text{squared error term}}+\\underbrace{\\lambda\\left(\\sum_{u \\in \\mathcal{D}}\\left\\|\\mathbf{x}_u\\right\\|^2+\\sum_{i \\in \\mathcal{D}}\\left\\|\\mathbf{w}_i\\right\\|^2\\right)}_{\\text{regularization term}}\n",
        "\\end{equation}\n",
        "\n",
        "We can then minimize the loss using Stochastic Gradient Descent or Alternating Least Squares."
      ]
    },
    {
      "cell_type": "markdown",
      "metadata": {
        "id": "el7BsOEsjSgN"
      },
      "source": [
        "# Matrix Factorization\n",
        "Generate a matrix Y where each column represent a playlist and each row represent a song, the (i,j) entry will be 1 if the playlist contains the song, 0 otherwise."
      ]
    },
    {
      "cell_type": "code",
      "execution_count": null,
      "metadata": {
        "id": "-KsENF4IfRks"
      },
      "outputs": [],
      "source": [
        "# Throw error in order to not execute the following code\n",
        "raise ValueError()"
      ]
    },
    {
      "cell_type": "code",
      "execution_count": null,
      "metadata": {
        "id": "B1PEWA1Xjbb2"
      },
      "outputs": [],
      "source": [
        "import pyspark.sql.functions as f\n",
        "from pyspark.sql.functions import explode\n",
        "spark.conf.set(\"spark.sql.pivotMaxValues\", 1000000)\n",
        "\n",
        "from pyspark.ml.evaluation import RegressionEvaluator\n",
        "from pyspark.ml.recommendation import ALS\n",
        "from pyspark.sql import Row\n",
        "# Get a DataFrame of only the relevant columns from the playlist schema\n",
        "# playlists = slice_df.select(\"pid\", \"tracks.track_uri\")\n",
        "# playlists = playlists.select(\"pid\", explode(\"track_uri\").alias(\"song_uri\"))\n",
        "# playlists = playlists.withColumn(\"song_id\", dense_rank().over(Window.orderBy(\"song_uri\")))\n",
        "# plaulists = playlists.withColumn(\"rating\", lit(1))\n",
        "# playlists.count()\n",
        "\n",
        "from pyspark.sql.functions import expr\n"
      ]
    },
    {
      "cell_type": "code",
      "execution_count": null,
      "metadata": {
        "id": "tCEit6ZXgClg"
      },
      "outputs": [],
      "source": [
        "from pyspark.sql.functions import explode\n",
        "import random\n",
        "tracks_df = slice_df.select(\"pid\", explode(\"tracks\").alias(\"track\")).select(\"pid\", \"track.track_uri\")\n",
        "tracks_df = tracks_df.withColumn(\"rating\", lit(1))\n",
        "# tracks_df = tracks_df.withColumn(\"rating\", (rand() * 10 + 1).cast(\"integer\"))"
      ]
    },
    {
      "cell_type": "code",
      "execution_count": null,
      "metadata": {
        "id": "xzl4_KPigJyN"
      },
      "outputs": [],
      "source": [
        "tracks_df.show()"
      ]
    },
    {
      "cell_type": "code",
      "execution_count": null,
      "metadata": {
        "id": "CrNo-NacpGXC"
      },
      "outputs": [],
      "source": [
        "# # Explode the tracks array column into multiple rows\n",
        "# # tracks_df = slice_df.select(\"pid\", explode(\"tracks\").alias(\"track\"))\n",
        "# # tracks_df = slice_df.select(\"pid\", \"tracks\", \"tracks\")\n",
        "# tracks_df = slice_df.select(\"pid\", explode(\"tracks\").alias(\"track\")).select(\"pid\", \"track.track_uri\", \"track.pos\")\n",
        "\n",
        "# # Select relevant columns and add a rating column with value 1\n",
        "# playlist_track_df = tracks_df.withColumn(\"rating\", lit(1))\n",
        "\n",
        "# # Get distinct track_uri values and join with playlist_track_df\n",
        "# all_tracks_df = slice_df.select(explode(\"tracks\").alias(\"track\")).select(\"track.track_uri\").distinct()\n",
        "# all_playlists_df = slice_df.select(\"pid\").distinct()\n",
        "\n",
        "# all_against_all = all_tracks_df.join(all_playlists_df).distinct()\n",
        "\n",
        "# from pyspark.sql.functions import when, col\n",
        "\n",
        "# # playlist_track_rating_df = playlist_track_df.join(all_against_all, [\"pid\", \"track_uri\"], \"left_outer\") \\\n",
        "# #     .withColumn(\"rating\", when(col(\"pos\").isNull(), 0).otherwise(1))\n",
        "\n",
        "# playlist_track_rating_df = all_against_all.join(playlist_track_df, [\"pid\", \"track_uri\"], \"left_outer\") \\\n",
        "#     .withColumn(\"rating\", when(col(\"pos\").isNull(), 0).otherwise(1)) \\\n",
        "#     .drop(\"pos\")\n"
      ]
    },
    {
      "cell_type": "code",
      "execution_count": null,
      "metadata": {
        "id": "d_g71QpbzP9G"
      },
      "outputs": [],
      "source": [
        "playlist_track_rating_df = tracks_df.withColumn(\"song_id\", dense_rank().over(Window.orderBy(\"track_uri\")))"
      ]
    },
    {
      "cell_type": "code",
      "execution_count": null,
      "metadata": {
        "id": "DFR59iIwsuAv"
      },
      "outputs": [],
      "source": [
        "playlist_track_rating_df.show(truncate=False)"
      ]
    },
    {
      "cell_type": "code",
      "execution_count": null,
      "metadata": {
        "id": "0E86sNXYxTJP"
      },
      "outputs": [],
      "source": [
        "als = ALS(userCol=\"pid\", itemCol=\"song_id\", ratingCol=\"rating\", nonnegative=True, coldStartStrategy=\"drop\")"
      ]
    },
    {
      "cell_type": "code",
      "execution_count": null,
      "metadata": {
        "id": "hKxgkuM0GsVf"
      },
      "outputs": [],
      "source": [
        "from typing import Tuple\n",
        "import random\n",
        "\n",
        "def train_test_split(df: DataFrame, split_ratio: float, seed: Optional[int] = None) -> Tuple[DataFrame, DataFrame]:\n",
        "  random.seed(seed)\n",
        "  distinct_pids = df.select(\"pid\").distinct().rdd.map(lambda x: x[0]).collect()\n",
        "  random.shuffle(distinct_pids)\n",
        "  split_index = int(len(distinct_pids) * split_ratio)\n",
        "  train_pids = distinct_pids[:split_index]\n",
        "  test_pids = distinct_pids[split_index:]\n",
        "  train_df = df.filter(col(\"pid\").isin(train_pids))\n",
        "  test_df = df.filter(col(\"pid\").isin(test_pids))\n",
        "  return train_df, test_df\n",
        "\n"
      ]
    },
    {
      "cell_type": "code",
      "execution_count": null,
      "metadata": {
        "id": "Pf82Hstmxb7i"
      },
      "outputs": [],
      "source": [
        "training, test = playlist_track_rating_df.randomSplit([0.8, 0.2], seed=42)"
      ]
    },
    {
      "cell_type": "code",
      "execution_count": null,
      "metadata": {
        "id": "5r0g7uPzH19c"
      },
      "outputs": [],
      "source": [
        "model = als.fit(training)"
      ]
    },
    {
      "cell_type": "code",
      "execution_count": null,
      "metadata": {
        "id": "_S3oNC7AIFXY"
      },
      "outputs": [],
      "source": [
        "predictions = model.transform(test)"
      ]
    },
    {
      "cell_type": "code",
      "execution_count": null,
      "metadata": {
        "id": "QwciStIaibF-"
      },
      "outputs": [],
      "source": [
        "predictions.show()"
      ]
    },
    {
      "cell_type": "code",
      "execution_count": null,
      "metadata": {
        "id": "w_FWXza9ycMU"
      },
      "outputs": [],
      "source": [
        "evaluator = RegressionEvaluator(metricName=\"rmse\", labelCol=\"rating\",\n",
        "                                predictionCol=\"prediction\")\n",
        "rmse = evaluator.evaluate(predictions)"
      ]
    },
    {
      "cell_type": "code",
      "execution_count": null,
      "metadata": {
        "id": "FJfWDUMSh8Nd"
      },
      "outputs": [],
      "source": [
        "predictions.filter(col(\"prediction\") != \"NaN\").count(), predictions.filter(col(\"prediction\") == \"NaN\").count()"
      ]
    },
    {
      "cell_type": "code",
      "execution_count": null,
      "metadata": {
        "id": "47oQcRQdm-qy"
      },
      "outputs": [],
      "source": [
        "rmse"
      ]
    },
    {
      "cell_type": "code",
      "source": [
        "subset = playlist_track_rating_df.select(\"pid\").distinct().limit(1)\n",
        "subUserRecs = model.recommendForUserSubset(subset, 10)"
      ],
      "metadata": {
        "id": "q2eoCHXqLNU8"
      },
      "execution_count": null,
      "outputs": []
    },
    {
      "cell_type": "code",
      "source": [
        "subset.show()"
      ],
      "metadata": {
        "id": "Tya3FyOxLn0S"
      },
      "execution_count": null,
      "outputs": []
    },
    {
      "cell_type": "code",
      "source": [
        "subUserRecs.show(truncate=False)"
      ],
      "metadata": {
        "id": "u5lfCDhiLZjo"
      },
      "execution_count": null,
      "outputs": []
    },
    {
      "cell_type": "code",
      "source": [
        "def song_name_from_id(song_id: int, reverse_lookup: DataFrame) -> str:\n",
        "  return \n",
        "  \n",
        "def interpretRecommendation(recommended_result: DataFrame) -> str:\n",
        "  return"
      ],
      "metadata": {
        "id": "uyvBEVF8MP30"
      },
      "execution_count": null,
      "outputs": []
    },
    {
      "cell_type": "code",
      "execution_count": null,
      "metadata": {
        "id": "vMvzQsXnykMX"
      },
      "outputs": [],
      "source": [
        "userRecs = model.recommendForAllUsers(1).orderBy(\"recommendations\")\n",
        "userRecs.show(truncate=False)\n",
        "userRecs.count()"
      ]
    },
    {
      "cell_type": "code",
      "execution_count": null,
      "metadata": {
        "id": "kKrGgg35mjmS"
      },
      "outputs": [],
      "source": [
        "slice_df.filter(col(\"pid\") == 1710).select(explode(\"tracks.track_name\")).show()"
      ]
    },
    {
      "cell_type": "code",
      "execution_count": null,
      "metadata": {
        "id": "5mF1ERfgmyFU"
      },
      "outputs": [],
      "source": [
        "track_uris = playlist_track_rating_df.filter(col(\"song_id\") == 588).select(\"track_uri\")\n",
        "track_uris.first()"
      ]
    }
  ],
  "metadata": {
    "colab": {
      "provenance": [],
      "toc_visible": true,
      "collapsed_sections": [
        "X-s_eNiVaxhn",
        "VJeY9PpvaHUJ"
      ],
      "include_colab_link": true
    },
    "kernelspec": {
      "display_name": "Python 3",
      "name": "python3"
    },
    "language_info": {
      "name": "python"
    },
    "widgets": {
      "application/vnd.jupyter.widget-state+json": {
        "1d2928204f4342228a8fcd0f87885bf8": {
          "model_module": "@jupyter-widgets/controls",
          "model_name": "HBoxModel",
          "model_module_version": "1.5.0",
          "state": {
            "_dom_classes": [],
            "_model_module": "@jupyter-widgets/controls",
            "_model_module_version": "1.5.0",
            "_model_name": "HBoxModel",
            "_view_count": null,
            "_view_module": "@jupyter-widgets/controls",
            "_view_module_version": "1.5.0",
            "_view_name": "HBoxView",
            "box_style": "",
            "children": [
              "IPY_MODEL_167b3c17f64441f59a006cae57c0e63c",
              "IPY_MODEL_9197ef01f7414ff2b4c1ccea48d45ea8",
              "IPY_MODEL_c24ed86f9ace4251a803557ae7907f58"
            ],
            "layout": "IPY_MODEL_971596a576af46488ef9f590e74dfdfa"
          }
        },
        "167b3c17f64441f59a006cae57c0e63c": {
          "model_module": "@jupyter-widgets/controls",
          "model_name": "HTMLModel",
          "model_module_version": "1.5.0",
          "state": {
            "_dom_classes": [],
            "_model_module": "@jupyter-widgets/controls",
            "_model_module_version": "1.5.0",
            "_model_name": "HTMLModel",
            "_view_count": null,
            "_view_module": "@jupyter-widgets/controls",
            "_view_module_version": "1.5.0",
            "_view_name": "HTMLView",
            "description": "",
            "description_tooltip": null,
            "layout": "IPY_MODEL_d060765f2d284ccea5045a7388d137e0",
            "placeholder": "​",
            "style": "IPY_MODEL_6bc04895de37442eb61609a9a339224d",
            "value": "Extracting song info from reccomendations...: 100%"
          }
        },
        "9197ef01f7414ff2b4c1ccea48d45ea8": {
          "model_module": "@jupyter-widgets/controls",
          "model_name": "FloatProgressModel",
          "model_module_version": "1.5.0",
          "state": {
            "_dom_classes": [],
            "_model_module": "@jupyter-widgets/controls",
            "_model_module_version": "1.5.0",
            "_model_name": "FloatProgressModel",
            "_view_count": null,
            "_view_module": "@jupyter-widgets/controls",
            "_view_module_version": "1.5.0",
            "_view_name": "ProgressView",
            "bar_style": "success",
            "description": "",
            "description_tooltip": null,
            "layout": "IPY_MODEL_970d6a6e59084ad9bca2683ed91e193c",
            "max": 2,
            "min": 0,
            "orientation": "horizontal",
            "style": "IPY_MODEL_f308557023ce4939ab8330f4e7a9296c",
            "value": 2
          }
        },
        "c24ed86f9ace4251a803557ae7907f58": {
          "model_module": "@jupyter-widgets/controls",
          "model_name": "HTMLModel",
          "model_module_version": "1.5.0",
          "state": {
            "_dom_classes": [],
            "_model_module": "@jupyter-widgets/controls",
            "_model_module_version": "1.5.0",
            "_model_name": "HTMLModel",
            "_view_count": null,
            "_view_module": "@jupyter-widgets/controls",
            "_view_module_version": "1.5.0",
            "_view_name": "HTMLView",
            "description": "",
            "description_tooltip": null,
            "layout": "IPY_MODEL_ae4298059f654469bf32fb2f009a675b",
            "placeholder": "​",
            "style": "IPY_MODEL_5d888db0df7a4413a3646dda1bb26b1c",
            "value": " 2/2 [00:17&lt;00:00,  8.61s/it]"
          }
        },
        "971596a576af46488ef9f590e74dfdfa": {
          "model_module": "@jupyter-widgets/base",
          "model_name": "LayoutModel",
          "model_module_version": "1.2.0",
          "state": {
            "_model_module": "@jupyter-widgets/base",
            "_model_module_version": "1.2.0",
            "_model_name": "LayoutModel",
            "_view_count": null,
            "_view_module": "@jupyter-widgets/base",
            "_view_module_version": "1.2.0",
            "_view_name": "LayoutView",
            "align_content": null,
            "align_items": null,
            "align_self": null,
            "border": null,
            "bottom": null,
            "display": null,
            "flex": null,
            "flex_flow": null,
            "grid_area": null,
            "grid_auto_columns": null,
            "grid_auto_flow": null,
            "grid_auto_rows": null,
            "grid_column": null,
            "grid_gap": null,
            "grid_row": null,
            "grid_template_areas": null,
            "grid_template_columns": null,
            "grid_template_rows": null,
            "height": null,
            "justify_content": null,
            "justify_items": null,
            "left": null,
            "margin": null,
            "max_height": null,
            "max_width": null,
            "min_height": null,
            "min_width": null,
            "object_fit": null,
            "object_position": null,
            "order": null,
            "overflow": null,
            "overflow_x": null,
            "overflow_y": null,
            "padding": null,
            "right": null,
            "top": null,
            "visibility": null,
            "width": null
          }
        },
        "d060765f2d284ccea5045a7388d137e0": {
          "model_module": "@jupyter-widgets/base",
          "model_name": "LayoutModel",
          "model_module_version": "1.2.0",
          "state": {
            "_model_module": "@jupyter-widgets/base",
            "_model_module_version": "1.2.0",
            "_model_name": "LayoutModel",
            "_view_count": null,
            "_view_module": "@jupyter-widgets/base",
            "_view_module_version": "1.2.0",
            "_view_name": "LayoutView",
            "align_content": null,
            "align_items": null,
            "align_self": null,
            "border": null,
            "bottom": null,
            "display": null,
            "flex": null,
            "flex_flow": null,
            "grid_area": null,
            "grid_auto_columns": null,
            "grid_auto_flow": null,
            "grid_auto_rows": null,
            "grid_column": null,
            "grid_gap": null,
            "grid_row": null,
            "grid_template_areas": null,
            "grid_template_columns": null,
            "grid_template_rows": null,
            "height": null,
            "justify_content": null,
            "justify_items": null,
            "left": null,
            "margin": null,
            "max_height": null,
            "max_width": null,
            "min_height": null,
            "min_width": null,
            "object_fit": null,
            "object_position": null,
            "order": null,
            "overflow": null,
            "overflow_x": null,
            "overflow_y": null,
            "padding": null,
            "right": null,
            "top": null,
            "visibility": null,
            "width": null
          }
        },
        "6bc04895de37442eb61609a9a339224d": {
          "model_module": "@jupyter-widgets/controls",
          "model_name": "DescriptionStyleModel",
          "model_module_version": "1.5.0",
          "state": {
            "_model_module": "@jupyter-widgets/controls",
            "_model_module_version": "1.5.0",
            "_model_name": "DescriptionStyleModel",
            "_view_count": null,
            "_view_module": "@jupyter-widgets/base",
            "_view_module_version": "1.2.0",
            "_view_name": "StyleView",
            "description_width": ""
          }
        },
        "970d6a6e59084ad9bca2683ed91e193c": {
          "model_module": "@jupyter-widgets/base",
          "model_name": "LayoutModel",
          "model_module_version": "1.2.0",
          "state": {
            "_model_module": "@jupyter-widgets/base",
            "_model_module_version": "1.2.0",
            "_model_name": "LayoutModel",
            "_view_count": null,
            "_view_module": "@jupyter-widgets/base",
            "_view_module_version": "1.2.0",
            "_view_name": "LayoutView",
            "align_content": null,
            "align_items": null,
            "align_self": null,
            "border": null,
            "bottom": null,
            "display": null,
            "flex": null,
            "flex_flow": null,
            "grid_area": null,
            "grid_auto_columns": null,
            "grid_auto_flow": null,
            "grid_auto_rows": null,
            "grid_column": null,
            "grid_gap": null,
            "grid_row": null,
            "grid_template_areas": null,
            "grid_template_columns": null,
            "grid_template_rows": null,
            "height": null,
            "justify_content": null,
            "justify_items": null,
            "left": null,
            "margin": null,
            "max_height": null,
            "max_width": null,
            "min_height": null,
            "min_width": null,
            "object_fit": null,
            "object_position": null,
            "order": null,
            "overflow": null,
            "overflow_x": null,
            "overflow_y": null,
            "padding": null,
            "right": null,
            "top": null,
            "visibility": null,
            "width": null
          }
        },
        "f308557023ce4939ab8330f4e7a9296c": {
          "model_module": "@jupyter-widgets/controls",
          "model_name": "ProgressStyleModel",
          "model_module_version": "1.5.0",
          "state": {
            "_model_module": "@jupyter-widgets/controls",
            "_model_module_version": "1.5.0",
            "_model_name": "ProgressStyleModel",
            "_view_count": null,
            "_view_module": "@jupyter-widgets/base",
            "_view_module_version": "1.2.0",
            "_view_name": "StyleView",
            "bar_color": null,
            "description_width": ""
          }
        },
        "ae4298059f654469bf32fb2f009a675b": {
          "model_module": "@jupyter-widgets/base",
          "model_name": "LayoutModel",
          "model_module_version": "1.2.0",
          "state": {
            "_model_module": "@jupyter-widgets/base",
            "_model_module_version": "1.2.0",
            "_model_name": "LayoutModel",
            "_view_count": null,
            "_view_module": "@jupyter-widgets/base",
            "_view_module_version": "1.2.0",
            "_view_name": "LayoutView",
            "align_content": null,
            "align_items": null,
            "align_self": null,
            "border": null,
            "bottom": null,
            "display": null,
            "flex": null,
            "flex_flow": null,
            "grid_area": null,
            "grid_auto_columns": null,
            "grid_auto_flow": null,
            "grid_auto_rows": null,
            "grid_column": null,
            "grid_gap": null,
            "grid_row": null,
            "grid_template_areas": null,
            "grid_template_columns": null,
            "grid_template_rows": null,
            "height": null,
            "justify_content": null,
            "justify_items": null,
            "left": null,
            "margin": null,
            "max_height": null,
            "max_width": null,
            "min_height": null,
            "min_width": null,
            "object_fit": null,
            "object_position": null,
            "order": null,
            "overflow": null,
            "overflow_x": null,
            "overflow_y": null,
            "padding": null,
            "right": null,
            "top": null,
            "visibility": null,
            "width": null
          }
        },
        "5d888db0df7a4413a3646dda1bb26b1c": {
          "model_module": "@jupyter-widgets/controls",
          "model_name": "DescriptionStyleModel",
          "model_module_version": "1.5.0",
          "state": {
            "_model_module": "@jupyter-widgets/controls",
            "_model_module_version": "1.5.0",
            "_model_name": "DescriptionStyleModel",
            "_view_count": null,
            "_view_module": "@jupyter-widgets/base",
            "_view_module_version": "1.2.0",
            "_view_name": "StyleView",
            "description_width": ""
          }
        },
        "036cb82f2ff9482d8e9fb211c4a427d0": {
          "model_module": "@jupyter-widgets/controls",
          "model_name": "HBoxModel",
          "model_module_version": "1.5.0",
          "state": {
            "_dom_classes": [],
            "_model_module": "@jupyter-widgets/controls",
            "_model_module_version": "1.5.0",
            "_model_name": "HBoxModel",
            "_view_count": null,
            "_view_module": "@jupyter-widgets/controls",
            "_view_module_version": "1.5.0",
            "_view_name": "HBoxView",
            "box_style": "",
            "children": [
              "IPY_MODEL_e49838141caf4a9f8e364f55ffac17a6",
              "IPY_MODEL_e61fc9b5ae544e6f894aed61a3acc9a4",
              "IPY_MODEL_9a712fb7decc4dc8ae35977a02457c88"
            ],
            "layout": "IPY_MODEL_3fce650e1b244ab4ac55b7e79edaa99b"
          }
        },
        "e49838141caf4a9f8e364f55ffac17a6": {
          "model_module": "@jupyter-widgets/controls",
          "model_name": "HTMLModel",
          "model_module_version": "1.5.0",
          "state": {
            "_dom_classes": [],
            "_model_module": "@jupyter-widgets/controls",
            "_model_module_version": "1.5.0",
            "_model_name": "HTMLModel",
            "_view_count": null,
            "_view_module": "@jupyter-widgets/controls",
            "_view_module_version": "1.5.0",
            "_view_name": "HTMLView",
            "description": "",
            "description_tooltip": null,
            "layout": "IPY_MODEL_97e1853c8cbc43c99116eba639b7baaf",
            "placeholder": "​",
            "style": "IPY_MODEL_00c7e389cdd6495081de37fd083105ba",
            "value": "Generating recommendations...:  80%"
          }
        },
        "e61fc9b5ae544e6f894aed61a3acc9a4": {
          "model_module": "@jupyter-widgets/controls",
          "model_name": "FloatProgressModel",
          "model_module_version": "1.5.0",
          "state": {
            "_dom_classes": [],
            "_model_module": "@jupyter-widgets/controls",
            "_model_module_version": "1.5.0",
            "_model_name": "FloatProgressModel",
            "_view_count": null,
            "_view_module": "@jupyter-widgets/controls",
            "_view_module_version": "1.5.0",
            "_view_name": "ProgressView",
            "bar_style": "danger",
            "description": "",
            "description_tooltip": null,
            "layout": "IPY_MODEL_8d560ef93f7241329f7024712c1c4082",
            "max": 5,
            "min": 0,
            "orientation": "horizontal",
            "style": "IPY_MODEL_d28652310fd34196a1023655634c5a48",
            "value": 4
          }
        },
        "9a712fb7decc4dc8ae35977a02457c88": {
          "model_module": "@jupyter-widgets/controls",
          "model_name": "HTMLModel",
          "model_module_version": "1.5.0",
          "state": {
            "_dom_classes": [],
            "_model_module": "@jupyter-widgets/controls",
            "_model_module_version": "1.5.0",
            "_model_name": "HTMLModel",
            "_view_count": null,
            "_view_module": "@jupyter-widgets/controls",
            "_view_module_version": "1.5.0",
            "_view_name": "HTMLView",
            "description": "",
            "description_tooltip": null,
            "layout": "IPY_MODEL_5db6c73320cf4900b69876720c6adb59",
            "placeholder": "​",
            "style": "IPY_MODEL_c974f65329b64884a01b0296558c3bf4",
            "value": " 4/5 [00:38&lt;00:09,  9.46s/it]"
          }
        },
        "3fce650e1b244ab4ac55b7e79edaa99b": {
          "model_module": "@jupyter-widgets/base",
          "model_name": "LayoutModel",
          "model_module_version": "1.2.0",
          "state": {
            "_model_module": "@jupyter-widgets/base",
            "_model_module_version": "1.2.0",
            "_model_name": "LayoutModel",
            "_view_count": null,
            "_view_module": "@jupyter-widgets/base",
            "_view_module_version": "1.2.0",
            "_view_name": "LayoutView",
            "align_content": null,
            "align_items": null,
            "align_self": null,
            "border": null,
            "bottom": null,
            "display": null,
            "flex": null,
            "flex_flow": null,
            "grid_area": null,
            "grid_auto_columns": null,
            "grid_auto_flow": null,
            "grid_auto_rows": null,
            "grid_column": null,
            "grid_gap": null,
            "grid_row": null,
            "grid_template_areas": null,
            "grid_template_columns": null,
            "grid_template_rows": null,
            "height": null,
            "justify_content": null,
            "justify_items": null,
            "left": null,
            "margin": null,
            "max_height": null,
            "max_width": null,
            "min_height": null,
            "min_width": null,
            "object_fit": null,
            "object_position": null,
            "order": null,
            "overflow": null,
            "overflow_x": null,
            "overflow_y": null,
            "padding": null,
            "right": null,
            "top": null,
            "visibility": null,
            "width": null
          }
        },
        "97e1853c8cbc43c99116eba639b7baaf": {
          "model_module": "@jupyter-widgets/base",
          "model_name": "LayoutModel",
          "model_module_version": "1.2.0",
          "state": {
            "_model_module": "@jupyter-widgets/base",
            "_model_module_version": "1.2.0",
            "_model_name": "LayoutModel",
            "_view_count": null,
            "_view_module": "@jupyter-widgets/base",
            "_view_module_version": "1.2.0",
            "_view_name": "LayoutView",
            "align_content": null,
            "align_items": null,
            "align_self": null,
            "border": null,
            "bottom": null,
            "display": null,
            "flex": null,
            "flex_flow": null,
            "grid_area": null,
            "grid_auto_columns": null,
            "grid_auto_flow": null,
            "grid_auto_rows": null,
            "grid_column": null,
            "grid_gap": null,
            "grid_row": null,
            "grid_template_areas": null,
            "grid_template_columns": null,
            "grid_template_rows": null,
            "height": null,
            "justify_content": null,
            "justify_items": null,
            "left": null,
            "margin": null,
            "max_height": null,
            "max_width": null,
            "min_height": null,
            "min_width": null,
            "object_fit": null,
            "object_position": null,
            "order": null,
            "overflow": null,
            "overflow_x": null,
            "overflow_y": null,
            "padding": null,
            "right": null,
            "top": null,
            "visibility": null,
            "width": null
          }
        },
        "00c7e389cdd6495081de37fd083105ba": {
          "model_module": "@jupyter-widgets/controls",
          "model_name": "DescriptionStyleModel",
          "model_module_version": "1.5.0",
          "state": {
            "_model_module": "@jupyter-widgets/controls",
            "_model_module_version": "1.5.0",
            "_model_name": "DescriptionStyleModel",
            "_view_count": null,
            "_view_module": "@jupyter-widgets/base",
            "_view_module_version": "1.2.0",
            "_view_name": "StyleView",
            "description_width": ""
          }
        },
        "8d560ef93f7241329f7024712c1c4082": {
          "model_module": "@jupyter-widgets/base",
          "model_name": "LayoutModel",
          "model_module_version": "1.2.0",
          "state": {
            "_model_module": "@jupyter-widgets/base",
            "_model_module_version": "1.2.0",
            "_model_name": "LayoutModel",
            "_view_count": null,
            "_view_module": "@jupyter-widgets/base",
            "_view_module_version": "1.2.0",
            "_view_name": "LayoutView",
            "align_content": null,
            "align_items": null,
            "align_self": null,
            "border": null,
            "bottom": null,
            "display": null,
            "flex": null,
            "flex_flow": null,
            "grid_area": null,
            "grid_auto_columns": null,
            "grid_auto_flow": null,
            "grid_auto_rows": null,
            "grid_column": null,
            "grid_gap": null,
            "grid_row": null,
            "grid_template_areas": null,
            "grid_template_columns": null,
            "grid_template_rows": null,
            "height": null,
            "justify_content": null,
            "justify_items": null,
            "left": null,
            "margin": null,
            "max_height": null,
            "max_width": null,
            "min_height": null,
            "min_width": null,
            "object_fit": null,
            "object_position": null,
            "order": null,
            "overflow": null,
            "overflow_x": null,
            "overflow_y": null,
            "padding": null,
            "right": null,
            "top": null,
            "visibility": null,
            "width": null
          }
        },
        "d28652310fd34196a1023655634c5a48": {
          "model_module": "@jupyter-widgets/controls",
          "model_name": "ProgressStyleModel",
          "model_module_version": "1.5.0",
          "state": {
            "_model_module": "@jupyter-widgets/controls",
            "_model_module_version": "1.5.0",
            "_model_name": "ProgressStyleModel",
            "_view_count": null,
            "_view_module": "@jupyter-widgets/base",
            "_view_module_version": "1.2.0",
            "_view_name": "StyleView",
            "bar_color": null,
            "description_width": ""
          }
        },
        "5db6c73320cf4900b69876720c6adb59": {
          "model_module": "@jupyter-widgets/base",
          "model_name": "LayoutModel",
          "model_module_version": "1.2.0",
          "state": {
            "_model_module": "@jupyter-widgets/base",
            "_model_module_version": "1.2.0",
            "_model_name": "LayoutModel",
            "_view_count": null,
            "_view_module": "@jupyter-widgets/base",
            "_view_module_version": "1.2.0",
            "_view_name": "LayoutView",
            "align_content": null,
            "align_items": null,
            "align_self": null,
            "border": null,
            "bottom": null,
            "display": null,
            "flex": null,
            "flex_flow": null,
            "grid_area": null,
            "grid_auto_columns": null,
            "grid_auto_flow": null,
            "grid_auto_rows": null,
            "grid_column": null,
            "grid_gap": null,
            "grid_row": null,
            "grid_template_areas": null,
            "grid_template_columns": null,
            "grid_template_rows": null,
            "height": null,
            "justify_content": null,
            "justify_items": null,
            "left": null,
            "margin": null,
            "max_height": null,
            "max_width": null,
            "min_height": null,
            "min_width": null,
            "object_fit": null,
            "object_position": null,
            "order": null,
            "overflow": null,
            "overflow_x": null,
            "overflow_y": null,
            "padding": null,
            "right": null,
            "top": null,
            "visibility": null,
            "width": null
          }
        },
        "c974f65329b64884a01b0296558c3bf4": {
          "model_module": "@jupyter-widgets/controls",
          "model_name": "DescriptionStyleModel",
          "model_module_version": "1.5.0",
          "state": {
            "_model_module": "@jupyter-widgets/controls",
            "_model_module_version": "1.5.0",
            "_model_name": "DescriptionStyleModel",
            "_view_count": null,
            "_view_module": "@jupyter-widgets/base",
            "_view_module_version": "1.2.0",
            "_view_name": "StyleView",
            "description_width": ""
          }
        }
      }
    }
  },
  "nbformat": 4,
  "nbformat_minor": 0
}