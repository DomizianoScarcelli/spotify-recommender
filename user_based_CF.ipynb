{
  "cells": [
    {
      "cell_type": "markdown",
      "metadata": {
        "id": "view-in-github",
        "colab_type": "text"
      },
      "source": [
        "<a href=\"https://colab.research.google.com/github/DomizianoScarcelli/big-data-project/blob/nn-model/user_based_CF.ipynb\" target=\"_parent\"><img src=\"https://colab.research.google.com/assets/colab-badge.svg\" alt=\"Open In Colab\"/></a>"
      ]
    },
    {
      "cell_type": "markdown",
      "metadata": {
        "id": "ySOgYrVKaDjm"
      },
      "source": [
        "# Config"
      ]
    },
    {
      "cell_type": "markdown",
      "metadata": {
        "id": "KOojFseRjVnN"
      },
      "source": [
        "# Configuration"
      ]
    },
    {
      "cell_type": "code",
      "execution_count": 1,
      "metadata": {
        "id": "N3wVgRfHYoOs",
        "colab": {
          "base_uri": "https://localhost:8080/"
        },
        "outputId": "dcb30a00-e042-4c4e-e4f0-95951f55460e",
        "cellView": "form"
      },
      "outputs": [
        {
          "output_type": "stream",
          "name": "stdout",
          "text": [
            "\u001b[2K     \u001b[90m━━━━━━━━━━━━━━━━━━━━━━━━━━━━━━━━━━━━━━━\u001b[0m \u001b[32m310.8/310.8 MB\u001b[0m \u001b[31m2.1 MB/s\u001b[0m eta \u001b[36m0:00:00\u001b[0m\n",
            "\u001b[?25h  Preparing metadata (setup.py) ... \u001b[?25l\u001b[?25hdone\n",
            "  Building wheel for pyspark (setup.py) ... \u001b[?25l\u001b[?25hdone\n",
            "The following additional packages will be installed:\n",
            "  libxtst6 openjdk-8-jre-headless\n",
            "Suggested packages:\n",
            "  openjdk-8-demo openjdk-8-source libnss-mdns fonts-dejavu-extra\n",
            "  fonts-ipafont-gothic fonts-ipafont-mincho fonts-wqy-microhei\n",
            "  fonts-wqy-zenhei fonts-indic\n",
            "The following NEW packages will be installed:\n",
            "  libxtst6 openjdk-8-jdk-headless openjdk-8-jre-headless\n",
            "0 upgraded, 3 newly installed, 0 to remove and 34 not upgraded.\n",
            "Need to get 36.5 MB of archives.\n",
            "After this operation, 144 MB of additional disk space will be used.\n",
            "Selecting previously unselected package libxtst6:amd64.\n",
            "(Reading database ... 122545 files and directories currently installed.)\n",
            "Preparing to unpack .../libxtst6_2%3a1.2.3-1_amd64.deb ...\n",
            "Unpacking libxtst6:amd64 (2:1.2.3-1) ...\n",
            "Selecting previously unselected package openjdk-8-jre-headless:amd64.\n",
            "Preparing to unpack .../openjdk-8-jre-headless_8u372-ga~us1-0ubuntu1~20.04_amd64.deb ...\n",
            "Unpacking openjdk-8-jre-headless:amd64 (8u372-ga~us1-0ubuntu1~20.04) ...\n",
            "Selecting previously unselected package openjdk-8-jdk-headless:amd64.\n",
            "Preparing to unpack .../openjdk-8-jdk-headless_8u372-ga~us1-0ubuntu1~20.04_amd64.deb ...\n",
            "Unpacking openjdk-8-jdk-headless:amd64 (8u372-ga~us1-0ubuntu1~20.04) ...\n",
            "Setting up libxtst6:amd64 (2:1.2.3-1) ...\n",
            "Setting up openjdk-8-jre-headless:amd64 (8u372-ga~us1-0ubuntu1~20.04) ...\n",
            "update-alternatives: using /usr/lib/jvm/java-8-openjdk-amd64/jre/bin/orbd to provide /usr/bin/orbd (orbd) in auto mode\n",
            "update-alternatives: using /usr/lib/jvm/java-8-openjdk-amd64/jre/bin/servertool to provide /usr/bin/servertool (servertool) in auto mode\n",
            "update-alternatives: using /usr/lib/jvm/java-8-openjdk-amd64/jre/bin/tnameserv to provide /usr/bin/tnameserv (tnameserv) in auto mode\n",
            "Setting up openjdk-8-jdk-headless:amd64 (8u372-ga~us1-0ubuntu1~20.04) ...\n",
            "update-alternatives: using /usr/lib/jvm/java-8-openjdk-amd64/bin/idlj to provide /usr/bin/idlj (idlj) in auto mode\n",
            "update-alternatives: using /usr/lib/jvm/java-8-openjdk-amd64/bin/wsimport to provide /usr/bin/wsimport (wsimport) in auto mode\n",
            "update-alternatives: using /usr/lib/jvm/java-8-openjdk-amd64/bin/jsadebugd to provide /usr/bin/jsadebugd (jsadebugd) in auto mode\n",
            "update-alternatives: using /usr/lib/jvm/java-8-openjdk-amd64/bin/native2ascii to provide /usr/bin/native2ascii (native2ascii) in auto mode\n",
            "update-alternatives: using /usr/lib/jvm/java-8-openjdk-amd64/bin/javah to provide /usr/bin/javah (javah) in auto mode\n",
            "update-alternatives: using /usr/lib/jvm/java-8-openjdk-amd64/bin/clhsdb to provide /usr/bin/clhsdb (clhsdb) in auto mode\n",
            "update-alternatives: using /usr/lib/jvm/java-8-openjdk-amd64/bin/jhat to provide /usr/bin/jhat (jhat) in auto mode\n",
            "update-alternatives: using /usr/lib/jvm/java-8-openjdk-amd64/bin/extcheck to provide /usr/bin/extcheck (extcheck) in auto mode\n",
            "update-alternatives: using /usr/lib/jvm/java-8-openjdk-amd64/bin/hsdb to provide /usr/bin/hsdb (hsdb) in auto mode\n",
            "update-alternatives: using /usr/lib/jvm/java-8-openjdk-amd64/bin/schemagen to provide /usr/bin/schemagen (schemagen) in auto mode\n",
            "update-alternatives: using /usr/lib/jvm/java-8-openjdk-amd64/bin/xjc to provide /usr/bin/xjc (xjc) in auto mode\n",
            "update-alternatives: using /usr/lib/jvm/java-8-openjdk-amd64/bin/wsgen to provide /usr/bin/wsgen (wsgen) in auto mode\n",
            "Processing triggers for libc-bin (2.31-0ubuntu9.9) ...\n"
          ]
        }
      ],
      "source": [
        "#@title Download necessary libraries\n",
        "!pip install pyspark -qq\n",
        "!pip install -U -q PyDrive -qq\n",
        "!apt install openjdk-8-jdk-headless -qq"
      ]
    },
    {
      "cell_type": "code",
      "execution_count": 2,
      "metadata": {
        "id": "CGHPv9OqY9MI"
      },
      "outputs": [],
      "source": [
        "#@title Imports\n",
        "import os\n",
        "import requests\n",
        "import pandas as pd\n",
        "import numpy as np\n",
        "import matplotlib.pyplot as plt\n",
        "import seaborn as sns\n",
        "%matplotlib inline\n",
        "import plotly\n",
        "\n",
        "import pyspark\n",
        "from pyspark.sql import *\n",
        "from pyspark.sql.types import StructType, StructField, StringType, IntegerType, ArrayType, FloatType, LongType\n",
        "from pyspark.sql.functions import *\n",
        "from pyspark import SparkContext, SparkConf\n",
        "from pyspark.ml.linalg import SparseVector, DenseVector\n",
        "\n",
        "from tqdm.notebook import tqdm\n",
        "import time\n",
        "import gc\n",
        "\n",
        "from google.colab import drive"
      ]
    },
    {
      "cell_type": "code",
      "execution_count": 3,
      "metadata": {
        "id": "JF8LUBZeYiWP"
      },
      "outputs": [],
      "source": [
        "#@title Set up variables\n",
        "JAVA_HOME = \"/usr/lib/jvm/java-8-openjdk-amd64\"\n",
        "GDRIVE_DIR = \"/content/drive\"\n",
        "GDRIVE_HOME_DIR = GDRIVE_DIR + \"/MyDrive\"\n",
        "GDRIVE_DATA_DIR = GDRIVE_HOME_DIR + \"/Big Data/datasets\"\n",
        "DATASET_FILE = os.path.join(GDRIVE_DATA_DIR, \"pyspark_friendly_spotify_playlist_dataset\")\n",
        "AUDIO_FEATURES_FILE = os.path.join(GDRIVE_DATA_DIR, \"pyspark_track_features\")\n",
        "LITTLE_SLICE_FILE = os.path.join(GDRIVE_DATA_DIR, \"little_slice\")\n",
        "SMALL_SLICE_FLIE = os.path.join(GDRIVE_DATA_DIR, \"small_slice\")\n",
        "LITTLE_SLICE_AUDIO_FEATURES = os.path.join(GDRIVE_DATA_DIR, \"little_slice_audio_features\")\n",
        "MICRO_SLICE_AUDIO_FEATURES = os.path.join(GDRIVE_DATA_DIR, \"micro_slice_audio_features\")\n",
        "SPLITTED_SLICE_AUDIO_FEATURES = os.path.join(GDRIVE_DATA_DIR, \"splitted_pyspark_track_features\")\n",
        "SAVED_DFS_PATH = os.path.join(GDRIVE_DATA_DIR, \"saved_dfs\")\n",
        "RANDOM_SEED = 42 # for reproducibility\n",
        "os.environ[\"JAVA_HOME\"] = JAVA_HOME\n",
        "os.environ[\"PYSPARK_PYTHON\"]=\"python\""
      ]
    },
    {
      "cell_type": "code",
      "execution_count": 4,
      "metadata": {
        "cellView": "form",
        "id": "4m7VztzdZgm6"
      },
      "outputs": [],
      "source": [
        "#@title Create the session\n",
        "conf = SparkConf().\\\n",
        "                set('spark.ui.port', \"4050\").\\\n",
        "                set('spark.executor.memory', '12G').\\\n",
        "                set('spark.driver.memory', '12G').\\\n",
        "                set('spark.driver.maxResultSize', '100G').\\\n",
        "                set(\"spark.executor.extraJavaOptions\", \"-XX:+UseG1GC\").\\\n",
        "                setAppName(\"PySparkTutorial\").\\\n",
        "                setMaster(\"local[*]\")\n",
        "\n",
        "# Create the context\n",
        "sc = pyspark.SparkContext(conf=conf)\n",
        "spark = SparkSession.builder.getOrCreate()"
      ]
    },
    {
      "cell_type": "code",
      "execution_count": 5,
      "metadata": {
        "id": "vsX5d-YXZ2Ul",
        "colab": {
          "base_uri": "https://localhost:8080/"
        },
        "outputId": "5a5dd440-edea-47ea-f469-9a4f043335c5"
      },
      "outputs": [
        {
          "output_type": "stream",
          "name": "stdout",
          "text": [
            "Mounted at /content/drive\n"
          ]
        }
      ],
      "source": [
        "drive.mount(GDRIVE_DIR, force_remount=True)"
      ]
    },
    {
      "cell_type": "markdown",
      "metadata": {
        "id": "X-s_eNiVaxhn"
      },
      "source": [
        "## Setup ngrok"
      ]
    },
    {
      "cell_type": "code",
      "execution_count": 6,
      "metadata": {
        "id": "LrnLYquoarPa",
        "colab": {
          "base_uri": "https://localhost:8080/"
        },
        "outputId": "c481c92f-6c45-4272-81f8-47d3f5183359"
      },
      "outputs": [
        {
          "output_type": "stream",
          "name": "stdout",
          "text": [
            "Looking in indexes: https://pypi.org/simple, https://us-python.pkg.dev/colab-wheels/public/simple/\n",
            "Collecting pyngrok\n",
            "  Downloading pyngrok-6.0.0.tar.gz (681 kB)\n",
            "\u001b[2K     \u001b[90m━━━━━━━━━━━━━━━━━━━━━━━━━━━━━━━━━━━━━━\u001b[0m \u001b[32m681.2/681.2 kB\u001b[0m \u001b[31m12.0 MB/s\u001b[0m eta \u001b[36m0:00:00\u001b[0m\n",
            "\u001b[?25h  Preparing metadata (setup.py) ... \u001b[?25l\u001b[?25hdone\n",
            "Requirement already satisfied: PyYAML in /usr/local/lib/python3.10/dist-packages (from pyngrok) (6.0)\n",
            "Building wheels for collected packages: pyngrok\n",
            "  Building wheel for pyngrok (setup.py) ... \u001b[?25l\u001b[?25hdone\n",
            "  Created wheel for pyngrok: filename=pyngrok-6.0.0-py3-none-any.whl size=19867 sha256=30b9278916cef5b18e2aa6df674b7d84c929159f6f01be3076e55ed2ee184ee8\n",
            "  Stored in directory: /root/.cache/pip/wheels/5c/42/78/0c3d438d7f5730451a25f7ac6cbf4391759d22a67576ed7c2c\n",
            "Successfully built pyngrok\n",
            "Installing collected packages: pyngrok\n",
            "Successfully installed pyngrok-6.0.0\n"
          ]
        }
      ],
      "source": [
        "!pip install pyngrok"
      ]
    },
    {
      "cell_type": "code",
      "execution_count": 7,
      "metadata": {
        "id": "K3IEuiyDawo3",
        "colab": {
          "base_uri": "https://localhost:8080/"
        },
        "outputId": "dbc8ee47-5b14-444f-f409-5368d2a8adfc"
      },
      "outputs": [
        {
          "output_type": "stream",
          "name": "stdout",
          "text": [
            "Authtoken saved to configuration file: /root/.ngrok2/ngrok.yml\n"
          ]
        }
      ],
      "source": [
        "!ngrok authtoken 2NVN8kdoOnMVtlDGGWtwsbT5M3Q_2EJv2HE77FEXkz978Qtnq"
      ]
    },
    {
      "cell_type": "code",
      "execution_count": 8,
      "metadata": {
        "id": "0qJN-lfta1ok",
        "colab": {
          "base_uri": "https://localhost:8080/"
        },
        "outputId": "5c676454-3045-47d0-e8e2-15c1cf414a8b"
      },
      "outputs": [
        {
          "output_type": "stream",
          "name": "stderr",
          "text": [
            "WARNING:pyngrok.process.ngrok:t=2023-05-26T19:26:34+0000 lvl=warn msg=\"ngrok config file found at legacy location, move to XDG location\" xdg_path=/root/.config/ngrok/ngrok.yml legacy_path=/root/.ngrok2/ngrok.yml\n"
          ]
        }
      ],
      "source": [
        "from pyngrok import ngrok\n",
        "\n",
        "# Open a ngrok tunnel on the port 4050 where Spark is running\n",
        "port = '4050'\n",
        "public_url = ngrok.connect(port).public_url"
      ]
    },
    {
      "cell_type": "code",
      "execution_count": 9,
      "metadata": {
        "id": "x15LhY-5a3Yi",
        "colab": {
          "base_uri": "https://localhost:8080/"
        },
        "outputId": "545f2eae-ba5c-4605-d7cf-137b229a42aa"
      },
      "outputs": [
        {
          "output_type": "stream",
          "name": "stdout",
          "text": [
            "To access the Spark Web UI console, please click on the following link to the ngrok tunnel \"https://dfff-34-67-61-175.ngrok-free.app\" -> \"http://127.0.0.1:4050\"\n"
          ]
        }
      ],
      "source": [
        "print(\"To access the Spark Web UI console, please click on the following link to the ngrok tunnel \\\"{}\\\" -> \\\"http://127.0.0.1:{}\\\"\".format(public_url, port))"
      ]
    },
    {
      "cell_type": "code",
      "execution_count": 10,
      "metadata": {
        "cellView": "form",
        "id": "jlxfJiBSZ6ju",
        "colab": {
          "base_uri": "https://localhost:8080/"
        },
        "outputId": "bc4c8bba-256b-4b45-d45d-166d9a5460ca"
      },
      "outputs": [
        {
          "output_type": "execute_result",
          "data": {
            "text/plain": [
              "(<pyspark.sql.session.SparkSession at 0x7facd20a0cd0>,\n",
              " [('spark.app.startTime', '1685129163556'),\n",
              "  ('spark.executor.extraJavaOptions',\n",
              "   '-Djava.net.preferIPv6Addresses=false -XX:+IgnoreUnrecognizedVMOptions --add-opens=java.base/java.lang=ALL-UNNAMED --add-opens=java.base/java.lang.invoke=ALL-UNNAMED --add-opens=java.base/java.lang.reflect=ALL-UNNAMED --add-opens=java.base/java.io=ALL-UNNAMED --add-opens=java.base/java.net=ALL-UNNAMED --add-opens=java.base/java.nio=ALL-UNNAMED --add-opens=java.base/java.util=ALL-UNNAMED --add-opens=java.base/java.util.concurrent=ALL-UNNAMED --add-opens=java.base/java.util.concurrent.atomic=ALL-UNNAMED --add-opens=java.base/sun.nio.ch=ALL-UNNAMED --add-opens=java.base/sun.nio.cs=ALL-UNNAMED --add-opens=java.base/sun.security.action=ALL-UNNAMED --add-opens=java.base/sun.util.calendar=ALL-UNNAMED --add-opens=java.security.jgss/sun.security.krb5=ALL-UNNAMED -Djdk.reflect.useDirectMethodHandle=false -XX:+UseG1GC'),\n",
              "  ('spark.app.name', 'PySparkTutorial'),\n",
              "  ('spark.executor.id', 'driver'),\n",
              "  ('spark.app.submitTime', '1685129163323'),\n",
              "  ('spark.driver.host', '8b1c521465e2'),\n",
              "  ('spark.driver.extraJavaOptions',\n",
              "   '-Djava.net.preferIPv6Addresses=false -XX:+IgnoreUnrecognizedVMOptions --add-opens=java.base/java.lang=ALL-UNNAMED --add-opens=java.base/java.lang.invoke=ALL-UNNAMED --add-opens=java.base/java.lang.reflect=ALL-UNNAMED --add-opens=java.base/java.io=ALL-UNNAMED --add-opens=java.base/java.net=ALL-UNNAMED --add-opens=java.base/java.nio=ALL-UNNAMED --add-opens=java.base/java.util=ALL-UNNAMED --add-opens=java.base/java.util.concurrent=ALL-UNNAMED --add-opens=java.base/java.util.concurrent.atomic=ALL-UNNAMED --add-opens=java.base/sun.nio.ch=ALL-UNNAMED --add-opens=java.base/sun.nio.cs=ALL-UNNAMED --add-opens=java.base/sun.security.action=ALL-UNNAMED --add-opens=java.base/sun.util.calendar=ALL-UNNAMED --add-opens=java.security.jgss/sun.security.krb5=ALL-UNNAMED -Djdk.reflect.useDirectMethodHandle=false'),\n",
              "  ('spark.ui.port', '4050'),\n",
              "  ('spark.rdd.compress', 'True'),\n",
              "  ('spark.driver.memory', '12G'),\n",
              "  ('spark.serializer.objectStreamReset', '100'),\n",
              "  ('spark.master', 'local[*]'),\n",
              "  ('spark.driver.port', '42889'),\n",
              "  ('spark.submit.pyFiles', ''),\n",
              "  ('spark.driver.maxResultSize', '100G'),\n",
              "  ('spark.submit.deployMode', 'client'),\n",
              "  ('spark.app.id', 'local-1685129167296'),\n",
              "  ('spark.executor.memory', '12G'),\n",
              "  ('spark.ui.showConsoleProgress', 'true')])"
            ]
          },
          "metadata": {},
          "execution_count": 10
        }
      ],
      "source": [
        "#@title Check if everything is ok\n",
        "spark, sc._conf.getAll()\n"
      ]
    },
    {
      "cell_type": "markdown",
      "metadata": {
        "id": "VJeY9PpvaHUJ"
      },
      "source": [
        "# Data acquisition"
      ]
    },
    {
      "cell_type": "code",
      "execution_count": 11,
      "metadata": {
        "id": "icd2lj-RRvhU"
      },
      "outputs": [],
      "source": [
        "from pyspark.ml.linalg import VectorUDT\n",
        "song_schema = StructType([\n",
        "    StructField(\"pos\", IntegerType(), True),\n",
        "    StructField(\"artist_name\", StringType(), True),\n",
        "    StructField(\"track_uri\", StringType(), True),\n",
        "    StructField(\"artist_uri\", StringType(), True),\n",
        "    StructField(\"track_name\", StringType(), True),\n",
        "    StructField(\"album_uri\", StringType(), True),\n",
        "    StructField(\"duration_ms\", LongType(), True),\n",
        "    StructField(\"album_name\", StringType(), True)\n",
        "])\n",
        "\n",
        "playlist_schema = StructType([\n",
        "    StructField(\"name\", StringType(), True),\n",
        "    StructField(\"collaborative\", StringType(), True),\n",
        "    StructField(\"pid\", IntegerType(), True),\n",
        "    StructField(\"modified_at\", IntegerType(), True),\n",
        "    StructField(\"num_tracks\", IntegerType(), True),\n",
        "    StructField(\"num_albums\", IntegerType(), True),\n",
        "    StructField(\"num_followers\", IntegerType(), True),\n",
        "    StructField(\"tracks\", ArrayType(song_schema), True),\n",
        "    StructField(\"num_edits\", IntegerType(), True),\n",
        "    StructField(\"duration_ms\", IntegerType(), True),\n",
        "    StructField(\"num_artists\", IntegerType(), True),\n",
        "])\n",
        "\n",
        "playlist_schema_mapped = StructType([\n",
        "    StructField(\"name\", StringType(), True),\n",
        "    StructField(\"collaborative\", StringType(), True),\n",
        "    StructField(\"pid\", IntegerType(), True),\n",
        "    StructField(\"modified_at\", IntegerType(), True),\n",
        "    StructField(\"num_tracks\", IntegerType(), True),\n",
        "    StructField(\"num_albums\", IntegerType(), True),\n",
        "    StructField(\"num_followers\", IntegerType(), True),\n",
        "    StructField(\"tracks\", VectorUDT(), True),\n",
        "    StructField(\"num_edits\", IntegerType(), True),\n",
        "    StructField(\"duration_ms\", IntegerType(), True),\n",
        "    StructField(\"num_artists\", IntegerType(), True),\n",
        "])\n",
        "\n",
        "audio_features_schema = StructType([\n",
        "    StructField(\"danceability\", FloatType(), True),\n",
        "    StructField(\"energy\", FloatType(), True),\n",
        "    StructField(\"key\", IntegerType(), True),\n",
        "    StructField(\"loudness\", FloatType(), True),\n",
        "    StructField(\"mode\", IntegerType(), True),\n",
        "    StructField(\"speechiness\", FloatType(), True),\n",
        "    StructField(\"acousticness\", FloatType(), True),\n",
        "    StructField(\"instrumentalness\", FloatType(), True),\n",
        "    StructField(\"liveness\", FloatType(), True),\n",
        "    StructField(\"valence\", FloatType(), True),\n",
        "    StructField(\"tempo\", FloatType(), True),\n",
        "    StructField(\"type\", StringType(), True),\n",
        "    StructField(\"id\", StringType(), True),\n",
        "    StructField(\"uri\", StringType(), True),\n",
        "    StructField(\"track_href\", StringType(), True),\n",
        "    StructField(\"analysis_url\", StringType(), True),\n",
        "    StructField(\"duration_ms\", LongType(), True),\n",
        "    StructField(\"time_signature\", IntegerType(), True)\n",
        "])\n",
        "\n",
        "\n"
      ]
    },
    {
      "cell_type": "code",
      "execution_count": 12,
      "metadata": {
        "id": "BY_szFyLTps4"
      },
      "outputs": [],
      "source": [
        "playlist_df = spark.read.schema(playlist_schema).json(DATASET_FILE, multiLine=True)\n",
        "slice_df = spark.read.schema(playlist_schema).json(SMALL_SLICE_FLIE, multiLine=True)\n",
        "# slice_df = spark.read.schema(playlist_schema).json(LITTLE_SLICE_FILE, multiLine=True)\n",
        "audio_df = spark.read.schema(audio_features_schema).json(SPLITTED_SLICE_AUDIO_FEATURES, multiLine=True) #has less songs than expected"
      ]
    },
    {
      "cell_type": "code",
      "execution_count": 13,
      "metadata": {
        "id": "PEI_1vcSPxOG"
      },
      "outputs": [],
      "source": [
        "# slice_df.select(\"tracks\").first()"
      ]
    },
    {
      "cell_type": "code",
      "execution_count": 14,
      "metadata": {
        "id": "gnNiOotq3p3f"
      },
      "outputs": [],
      "source": [
        "# slice_df.show()"
      ]
    },
    {
      "cell_type": "markdown",
      "metadata": {
        "id": "WaSyTUepySNu"
      },
      "source": [
        "# User-Based Collaborative Filtering\n",
        "Note: The users are the playlists, the items are the songs and the ratings are 0 if the song is not in the playlist, 1 otherwise.\n",
        "\n",
        "We have to define a function $sim(u,v)$ that defines the similarity between two users based on their ratings.\n",
        "\n",
        "We represent the ratings $r_u \\in \\mathbb{R}^n$ as the $n$ dimensional vector that represents the ratings of the user $u$, where $n$ is the number of total songs in the dataset.\n",
        "\n",
        "As the similarity function we can use Jaccard similarity.\n",
        "\\begin{equation}\n",
        "sim(u,v) = J(r_u, r_v) = \\frac{|r_u \\cap r_v|}{|r_u \\cup r_v|}\n",
        "\\end{equation}\n",
        "\n",
        "Jaccard similarity ignores rating values, but we don't care here since the ratings are binary. In case of discrete value ratings we can use cosine similarity, or better pearson's correlation.\n",
        "\n",
        "Done that, and defined as ${U^k}$ the neighborhood of $u$ ($k$ most similar users to $u$), we define the set of items rated by $u$'s neighborhood as\n",
        "\n",
        "\\begin{equation}\n",
        "I^k = \\{i \\in I : \\mathbf{r_{u,i}} \\downarrow \\land u \\in U^k\\}\n",
        "\\end{equation}\n",
        "\n",
        "The rating for the item $i$ to the user $u$ will just be $\\mathbf{r_u[i]}$."
      ]
    },
    {
      "cell_type": "code",
      "source": [
        "slice_df = slice_df.cache()"
      ],
      "metadata": {
        "id": "P_TBdh_XUiAi"
      },
      "execution_count": 15,
      "outputs": []
    },
    {
      "cell_type": "code",
      "source": [
        "from functools import wraps\n",
        "import time\n",
        "\n",
        "DEBUG = False\n",
        "IGNORE_TIMING = True\n",
        "def timeit(func):\n",
        "    @wraps(func)\n",
        "    def timeit_wrapper(*args, **kwargs):\n",
        "        start_time = time.perf_counter()\n",
        "        result = func(*args, **kwargs)\n",
        "        end_time = time.perf_counter()\n",
        "        total_time = end_time - start_time\n",
        "        if not IGNORE_TIMING:\n",
        "          print(f'Function {func.__name__} Took {total_time:.4f} seconds')\n",
        "        return result\n",
        "    return timeit_wrapper"
      ],
      "metadata": {
        "id": "dawV4e6yOCo4"
      },
      "execution_count": 16,
      "outputs": []
    },
    {
      "cell_type": "code",
      "execution_count": 46,
      "metadata": {
        "id": "Ym9TWjvkGGOa"
      },
      "outputs": [],
      "source": [
        "NUM_PLAYLISTS = 100_000\n",
        "SONGS_EMBEDDINGS_PATH = os.path.join(SAVED_DFS_PATH, f\"songs_embeddings-{NUM_PLAYLISTS}.json\")\n",
        "SONGS_INFO_DF = os.path.join(SAVED_DFS_PATH, f\"songs_info_df-{NUM_PLAYLISTS}.json\")\n",
        "RATING_VECTOR_LENGTH_PATH = os.path.join(SAVED_DFS_PATH, f\"songs_vector_length-{NUM_PLAYLISTS}.txt\")\n",
        "with open(RATING_VECTOR_LENGTH_PATH, \"r\") as f:\n",
        "  RATING_VECTOR_LENGTH = int(f.read())\n",
        "\n",
        "songs_embeddings = spark.read.schema(playlist_schema_mapped).json(SONGS_EMBEDDINGS_PATH)\n",
        "songs_info_df = spark.read.json(SONGS_INFO_DF)\n",
        "songs_df = songs_info_df.select(\"pos\", \"track_uri\").cache()"
      ]
    },
    {
      "cell_type": "markdown",
      "source": [
        "Preprocessing the dataframe in order to associate to each track_uri an integer, that will represent the position of the track in the rating_vector. This is useful in order to avoid doing a lot of joins when generating the rating_vectors."
      ],
      "metadata": {
        "id": "X5iG9Mus6VWy"
      }
    },
    {
      "cell_type": "code",
      "source": [
        "from pyspark.ml.linalg import VectorUDT\n",
        "from pyspark.sql.functions import col, udf\n",
        "from pyspark.sql.types import IntegerType, ArrayType\n",
        "from functools import reduce\n",
        "\n",
        "track_uri_to_id = songs_df.select('track_uri', 'pos').rdd.collectAsMap() # TODO: Pass it as a parameter maybe?\n",
        "def map_track_df_to_pos(playlist_df: DataFrame, mapping: DataFrame) -> DataFrame:\n",
        "    \"\"\"\n",
        "    Returns a DataFrames containing the playlists, but the tracks are represented as a binary sparse vector.\n",
        "    \"\"\"\n",
        "\n",
        "    @udf(returnType=VectorUDT())\n",
        "    def extract_vector(tracks):\n",
        "      pos_list = set()\n",
        "\n",
        "      def reduce_fn(pos_list, row):\n",
        "          pos_list.add(track_uri_to_id.get(row.track_uri))\n",
        "          return pos_list\n",
        "      \n",
        "      pos_list = reduce(reduce_fn, tracks, pos_list)\n",
        "      \n",
        "      return SparseVector(RATING_VECTOR_LENGTH + 1, sorted(list(pos_list)), [1 for _ in pos_list])\n",
        "\n",
        "    # Apply the mapping UDF on the \"tracks\" column of the slice_df dataframe\n",
        "    mapped_df = playlist_df.withColumn('tracks', extract_vector(col('tracks')))\n",
        "\n",
        "    return mapped_df"
      ],
      "metadata": {
        "id": "MFwQWIZ1Bddv"
      },
      "execution_count": 48,
      "outputs": []
    },
    {
      "cell_type": "code",
      "source": [
        "# print(\"The size of the track_uri -> position mapping dictionary is {} bytes\".format(sys.getsizeof(track_uri_to_id)))"
      ],
      "metadata": {
        "id": "hWyQZJ5JrDjR"
      },
      "execution_count": 50,
      "outputs": []
    },
    {
      "cell_type": "code",
      "source": [
        "# def row_to_sparse_vector(item: dict) -> SparseVector:\n",
        "#     \"\"\"\n",
        "#     Because of json serialization, the SparseVector is converted into a Row(indices=..., values=...),\n",
        "#     this function converts it back to a pyspark.SparseVector with length RATING_VECTOR_LENGHT+1 as default.\n",
        "#     \"\"\"\n",
        "#     return SparseVector(RATING_VECTOR_LENGTH+1, item.indices, item.values)\n",
        "\n",
        "# @udf(returnType=VectorUDT())\n",
        "# def parse_sparse_vector(row):\n",
        "#   return row_to_sparse_vector(row)\n",
        "\n",
        "# #TODO: Uncomment this and remove the other calls to row_to_spare_vector\n",
        "# # mapped_slice_df = mapped_slice_df.withColumnRenamed(\"rating_vector\", \"temp\")\\\n",
        "#   # .withColumn(\"rating_vector\", parse_sparse_vector(col(\"temp\")))\\\n",
        "#   # .drop(\"temp\").cache()"
      ],
      "metadata": {
        "id": "rB2LIcCJ0t-K"
      },
      "execution_count": 51,
      "outputs": []
    },
    {
      "cell_type": "code",
      "execution_count": 52,
      "metadata": {
        "id": "5Nhc0hwgDQ6X"
      },
      "outputs": [],
      "source": [
        "def jaccard_similarity(vector_1: SparseVector, vector_2: SparseVector) -> float:\n",
        "  \"\"\"\n",
        "  Computes the Jaccard Similarity between two sparse binary vectors\n",
        "  \"\"\"\n",
        "  # Convert SparseVectors to sets\n",
        "  set1 = set(vector_1.indices)\n",
        "  set2 = set(vector_2.indices)\n",
        "\n",
        "  # Calculate the intersection and union of the sets\n",
        "  intersection = len(set1.intersection(set2))\n",
        "  union = len(set1.union(set2))\n",
        "\n",
        "  # Calculate the similarity\n",
        "  similarity = intersection / union\n",
        "\n",
        "  return similarity"
      ]
    },
    {
      "cell_type": "code",
      "execution_count": 53,
      "metadata": {
        "id": "yuDooTJ4_7Pz",
        "cellView": "form"
      },
      "outputs": [],
      "source": [
        "#@title Old way of creating the ratinf vector dataframe pt.2\n",
        "# def create_rating_vectors_df(playlists_df: DataFrame) -> DataFrame:\n",
        "#   rating_vectors = []\n",
        "\n",
        "#   for playlist_row in tqdm(playlists_df.collect(), desc=\"Creating rating vectors\"):\n",
        "#     rating_vector = rating_vector_from_row(playlist_row, songs_df)\n",
        "#     new_row = Row(playlist_id=playlist_row.pid, rating_vector=rating_vector)\n",
        "#     rating_vectors.append([new_row])\n",
        "#   return spark.createDataFrame(rating_vectors)\n",
        "\n",
        "# if os.path.exists(RATING_VECTOR_FILE_PATH):\n",
        "#   # rv_schema = StructType([StructField('playlist_id', LongType(), True), StructField('rating_vector', pyspark.ml.linalg.VectorUDT(), True)])\n",
        "#   rating_vectors_df = spark.read.parquet(RATING_VECTOR_FILE_PATH)\n",
        "#   rv_df = rating_vectors_df.select(col(\"_1.playlist_id\").alias(\"playlist_id\"), col(\"_1.rating_vector\").alias(\"rating_vector\"))\n",
        "# else:\n",
        "#   rating_vectors_df = create_rating_vectors_df(slice_df)\n",
        "#   rating_vectors_df.write.parquet(RATING_VECTOR_FILE_PATH)"
      ]
    },
    {
      "cell_type": "markdown",
      "source": [
        "Creating a function that gets in input the playlist to continue, and returns a Dataframe that indicates its similarity with each other playlist in the dataset."
      ],
      "metadata": {
        "id": "dWMpoMHrpxxf"
      }
    },
    {
      "cell_type": "code",
      "execution_count": 54,
      "metadata": {
        "id": "SGjEbkYTAI3h"
      },
      "outputs": [],
      "source": [
        "@timeit\n",
        "def create_similarity_df(input_vector: DataFrame, rating_vectors_df: DataFrame, similarityFunction: Callable) -> DataFrame:\n",
        "  # rv_df_input = rating_vectors_df.crossJoin(input_vector)\n",
        "  # rv_df_input = rating_vectors_df.withColumn(\"\")\n",
        "  \n",
        "  input_vector_cached = input_vector.cache()\n",
        "  input_vector = input_vector.first()[0]\n",
        "  \n",
        "  @udf(returnType=FloatType())\n",
        "  def compute_similarity(vector1):\n",
        "    return jaccard_similarity(vector1, input_vector)\n",
        "\n",
        "  rv_df_input = rating_vectors_df\n",
        "  result_df = rv_df_input.withColumn(\"similarity\", compute_similarity(rv_df_input.rating_vector))\n",
        "\n",
        "  input_vector_cached.unpersist()\n",
        "  \n",
        "  return result_df\n",
        "\n",
        "if DEBUG:\n",
        "  import time\n",
        "  t1 = time.time()\n",
        "  rv_df = songs_embeddings.withColumnRenamed(\"tracks\", \"rating_vector\")\n",
        "  # TODO: Just for test, we take the first playlist as the playlist to be continued \n",
        "  first_playlist_vector = rv_df.limit(1).select(\"rating_vector\").withColumnRenamed(\"rating_vector\",\"input_vector\")\n",
        "  result_df = create_similarity_df(first_playlist_vector, rv_df, jaccard_similarity)\n",
        "  result_df.cache()\n",
        "  result_df.show()\n",
        "  t2 = time.time()\n",
        "  print(t2-t1)"
      ]
    },
    {
      "cell_type": "markdown",
      "metadata": {
        "id": "12CY_fuNFXKr"
      },
      "source": [
        "Curse of dimensionality! We can see that each playlist is very dissimilar from each other playlist.\n",
        "\n",
        "If we filter the playlists that have a strictly positive similarity with the input playlist, and order them by descending similarity, we can see that the name (that we assume is very informative for the content of the playlist) is very similar, meaning that the algorithm seems to work!"
      ]
    },
    {
      "cell_type": "code",
      "execution_count": 55,
      "metadata": {
        "id": "NrPRMP-rINkc"
      },
      "outputs": [],
      "source": [
        "# result_df.filter(\"similarity > 0\").orderBy(col(\"similarity\").desc()).show()"
      ]
    },
    {
      "cell_type": "markdown",
      "source": [
        "Now, in order to suggest some songs to continuate the input playlist, let's take the $k$ top most similar playlists"
      ],
      "metadata": {
        "id": "Ppy5-Y19swvG"
      }
    },
    {
      "cell_type": "code",
      "execution_count": 56,
      "metadata": {
        "id": "wNoSOnIqCLm8"
      },
      "outputs": [],
      "source": [
        "@timeit\n",
        "def get_top_k_results(playlist_pid: int, similarity_df: DataFrame, k: int = 20) -> DataFrame:\n",
        "  return similarity_df.filter((col(\"similarity\") > 0) & (col(\"pid\") != playlist_pid)).orderBy(col(\"similarity\").desc()).limit(k)\n",
        "\n",
        "if DEBUG:\n",
        "  first_playlist_pid = rv_df.limit(1).select(\"pid\").first().pid\n",
        "  import time\n",
        "  t1 = time.time()\n",
        "  top_k_results = get_top_k_results(first_playlist_pid, result_df)\n",
        "  top_k_results.cache()\n",
        "  t2 = time.time()\n",
        "  print(t2-t1)"
      ]
    },
    {
      "cell_type": "markdown",
      "source": [
        "We want to obtain a single embedding for all the $K$ top most similar playlists, that will be the rating vector. We can then pick the indices of the $n$ top greatest values form this vector, and those will be the $n$ songs that we will reccomend.\n",
        "\n",
        "In order to aggregate the $k$ embeddings into a single one, I decided to take an average, weighted by the similarity value."
      ],
      "metadata": {
        "id": "nGUtRgGutIgZ"
      }
    },
    {
      "cell_type": "code",
      "source": [
        "@timeit\n",
        "def get_input_rating_vector(similarity_df: DataFrame) -> SparseVector:\n",
        "  return similarity_df.limit(1).select(\"input_vector\").collect()[0].input_vector\n",
        "\n",
        "@timeit\n",
        "def accumulate_top_k_results(top_k_results: DataFrame, input_vector: np.ndarray) -> DataFrame:\n",
        "\n",
        "  @udf(returnType=VectorUDT())\n",
        "  def sum_vector(sparse_vectors, similarities):\n",
        "    similarities = np.array(similarities)\n",
        "    sparse_vectors = np.array(sparse_vectors)\n",
        "    acc = np.dot(sparse_vectors.T, similarities) #Compute the sum(vector * similarity) for each vector and similarity\n",
        "    acc /= similarities.sum() #Normalize the vector\n",
        "    acc -= (input_vector * acc) #If a song is present in the input playlist, don't consider it\n",
        "    return SparseVector(acc.size, np.nonzero(acc)[0], acc[np.nonzero(acc)])\n",
        "\n",
        "  return top_k_results.agg(sum_vector(collect_list('rating_vector'), collect_list(\"similarity\")).alias('summed'))\n",
        "\n",
        "if DEBUG:\n",
        "  t1 = time.time()\n",
        "  input_vector = first_playlist_vector.first()[0]\n",
        "  accumulated_vector_df = accumulate_top_k_results(top_k_results, input_vector)\n",
        "  accumulated_vector_df.cache()\n",
        "  accumulated_vector_df.show()\n",
        "  t2 = time.time()\n",
        "  print(t2-t1)"
      ],
      "metadata": {
        "id": "nDEnlGrCcOHp"
      },
      "execution_count": 57,
      "outputs": []
    },
    {
      "cell_type": "code",
      "source": [
        "@udf(returnType=ArrayType(\n",
        "    StructType([\n",
        "      StructField(\"pos\", IntegerType(), False),\n",
        "      StructField(\"confidence\", FloatType(), False)\n",
        "])))\n",
        "# def get_top_n_values(vector: SparseVector, n=10):\n",
        "#   sorted_indices = sorted(range(len(vector.indices)), key=lambda i: vector.values[i], reverse=True)[:n]\n",
        "#   return [(vector.indices[index], vector.values[index]) for index in sorted_indices]\n",
        "def get_top_n_values(vector: SparseVector, n: int=10):\n",
        "  sorted_elements = vector.toArray().tolist()\n",
        "  top_n_indices = sorted(range(len(sorted_elements)), key=lambda i: sorted_elements[i], reverse=True)[:n]\n",
        "  return [(index, sorted_elements[index]) for index in top_n_indices]\n",
        "\n",
        "if DEBUG:\n",
        "  t1 = time.time()\n",
        "  top_n_reccomendations = accumulated_vector_df.withColumn(\"top_n_recommendations\", get_top_n_values(col(\"summed\"))).select(explode(\"top_n_recommendations\")).select(\"col.*\")\n",
        "  top_n_reccomendations.show()\n",
        "  t2 = time.time()\n",
        "  print(t2-t1)"
      ],
      "metadata": {
        "id": "keTpUBIXTdHg"
      },
      "execution_count": 58,
      "outputs": []
    },
    {
      "cell_type": "code",
      "source": [
        "import json\n",
        "#TODO: For now this works, but it's very slow, and since this has to be executed online,\n",
        "# consider to directly embed the song information inside the dataframe when computing the songs\n",
        "# to recommend.\n",
        "@timeit\n",
        "def recommendation_song_info(recommendation: DataFrame, songs_info_df: DataFrame) -> DataFrame:\n",
        "  return recommendation.join(songs_info_df, \"pos\")\n",
        "\n",
        "if DEBUG:\n",
        "  t1 = time.time()\n",
        "  songs_info = recommendation_song_info(top_n_reccomendations, songs_info_df)\n",
        "  songs_info.show()\n",
        "  t2 = time.time()\n",
        "  print(t2-t1)"
      ],
      "metadata": {
        "id": "ZJOyep5RUMGV"
      },
      "execution_count": 61,
      "outputs": []
    },
    {
      "cell_type": "markdown",
      "source": [
        "### Putting it all togheter\n",
        "We now define a single function that will get a playlist in input and will reccomend $n$ songs."
      ],
      "metadata": {
        "id": "CFmlqOAttu32"
      }
    },
    {
      "cell_type": "code",
      "source": [
        "#TODO: this now takes a playlist and extracts its PID, if a playlist is built from scratch the PID shouldn't be defined\n",
        "# A solution would be to pass the playlist row with the PID = Nan and then have a condition when extracting the PID. If Nan, ignore it\n",
        "@timeit\n",
        "def user_based_recommendation(playlist: DataFrame, \n",
        "                              mapped_slice_df: DataFrame, \n",
        "                              similarity_function: Callable, \n",
        "                              n:int = 50,\n",
        "                              k: int = 20) -> DataFrame:\n",
        "                              \n",
        "  rv_df = mapped_slice_df.withColumnRenamed(\"tracks\", \"rating_vector\").cache() #TODO: Parse the rv_df before and then remove this\n",
        "  \n",
        "  #TODO: define the songs_df as input to the function\n",
        "  t1 = time.time()\n",
        "  #TODO: Try not to use this map_track_df_to_pos\n",
        "  playlist_vector = map_track_df_to_pos(playlist, songs_df).select(\"tracks\").withColumnRenamed(\"tracks\", \"input_vector\").cache()\n",
        "  t2 = time.time()\n",
        "  print(f\"Creating rating vectors: {t2-t1}\")\n",
        "  similarity_df = create_similarity_df(playlist_vector, rv_df, jaccard_similarity).cache()\n",
        "  t3 = time.time()\n",
        "  print(f\"Computing similarity_df: {t3-t2}\")\n",
        "  top_k_results = get_top_k_results(playlist.first().pid, similarity_df, k=k).cache()\n",
        "  t4 = time.time()\n",
        "  print(f\"Getting top_k_results: {t4-t2}\")\n",
        "  input_vector = playlist_vector.select(\"input_vector\").first()[0].toArray()\n",
        "  t5 = time.time()\n",
        "  print(f\"Getting the playlist's input vector: {t5-t4}\")\n",
        "  accumulated_vector_df = accumulate_top_k_results(top_k_results, input_vector).cache()\n",
        "  t6 = time.time()\n",
        "  top_n_indices = accumulated_vector_df\\\n",
        "                  .withColumn(\"top_n_recommendations\", get_top_n_values(col(\"summed\")))\\\n",
        "                  .select(explode(\"top_n_recommendations\"))\\\n",
        "                  .select(\"col.*\").cache()\n",
        "  print(f\"Getting the top n indices: {t6-t5}\")\n",
        "  t7 = time.time()\n",
        "  recommended_songs_info = recommendation_song_info(top_n_indices, songs_info_df).cache()\n",
        "  print(f\"Getting the reccomended_songs_info: {t7-t6}\")\n",
        "\n",
        "  playlist_vector.unpersist()\n",
        "  similarity_df.unpersist()\n",
        "  top_k_results.unpersist()\n",
        "  accumulated_vector_df.unpersist()\n",
        "  top_n_indices.unpersist()\n",
        "  return recommended_songs_info\n",
        "  \n",
        "\n",
        "if DEBUG:\n",
        "  #Collect and createDataFrame because operations on limit(1) take as long as the entire slice_df, don't know why\n",
        "  playlist = spark.createDataFrame(slice_df.filter(\"pid == 1010\").limit(1).collect())\n",
        "  final_recommendation = user_based_recommendation(playlist, songs_embeddings, jaccard_similarity, n=5)"
      ],
      "metadata": {
        "id": "jfiQn5_rt827"
      },
      "execution_count": 62,
      "outputs": []
    },
    {
      "cell_type": "markdown",
      "source": [
        "## Performance Evaluation"
      ],
      "metadata": {
        "id": "eM7ErDxxt69B"
      }
    },
    {
      "cell_type": "code",
      "source": [
        "TRAIN_DF_PATH = os.path.join(SAVED_DFS_PATH, f\"train_df-{NUM_PLAYLISTS}.json\")\n",
        "TEST_DF_PATH = os.path.join(SAVED_DFS_PATH, f\"test_df-{NUM_PLAYLISTS}.json\")\n",
        "train_df = spark.read.schema(playlist_schema).json(TRAIN_DF_PATH)\n",
        "test_df = spark.read.schema(playlist_schema).json(TEST_DF_PATH)"
      ],
      "metadata": {
        "id": "GaY6U3hajPVM"
      },
      "execution_count": 66,
      "outputs": []
    },
    {
      "cell_type": "code",
      "source": [
        "train_df.count(), test_df.count()"
      ],
      "metadata": {
        "colab": {
          "base_uri": "https://localhost:8080/"
        },
        "id": "g8ISUytekZvo",
        "outputId": "6e632731-a846-49ab-97a6-860f11aae64b"
      },
      "execution_count": 72,
      "outputs": [
        {
          "output_type": "execute_result",
          "data": {
            "text/plain": [
              "(100000, 100000)"
            ]
          },
          "metadata": {},
          "execution_count": 72
        }
      ]
    },
    {
      "cell_type": "code",
      "source": [
        "train_df.show(), test_df.show()"
      ],
      "metadata": {
        "colab": {
          "base_uri": "https://localhost:8080/"
        },
        "id": "T-vEt0SPkqu_",
        "outputId": "413c6285-201b-4edd-ef87-2e3ed37104b9"
      },
      "execution_count": 74,
      "outputs": [
        {
          "output_type": "stream",
          "name": "stdout",
          "text": [
            "+-------------+-------------+----+-----------+----------+----------+-------------+--------------------+---------+-----------+-----------+\n",
            "|         name|collaborative| pid|modified_at|num_tracks|num_albums|num_followers|              tracks|num_edits|duration_ms|num_artists|\n",
            "+-------------+-------------+----+-----------+----------+----------+-------------+--------------------+---------+-----------+-----------+\n",
            "|       disney|        false|1000| 1457827200|       189|        16|            1|[{31, Daughters o...|        4|   31428282|         65|\n",
            "|Indie Electro|        false|1001| 1417824000|       165|        18|            2|[{117, Boards of ...|        2|   38241566|          8|\n",
            "|  jack & jack|        false|1002| 1465430400|        17|        14|            1|[{14, Jack & Jack...|        3|    3549358|          3|\n",
            "|        vibes|        false|1003| 1498435200|       225|       195|            2|[{119, PREP, spot...|       91|   51242585|        157|\n",
            "|        Indie|        false|1004| 1498608000|       165|       118|            1|[{117, LCD Sounds...|       74|   42601098|         92|\n",
            "|      college|        false|1005| 1504310400|        28|        26|            1|[{22, Kid Ink, sp...|        2|    5870710|         25|\n",
            "|    Summer 15|        false|1006| 1471996800|        80|        74|            2|[{9, Kygo, spotif...|       40|   19652753|         67|\n",
            "|    New music|        false|1007| 1509148800|        58|        48|            1|[{17, Kodak Black...|       20|   13158862|         38|\n",
            "|          Now|        false|1008| 1505692800|        84|        82|            3|[{30, Mullally, s...|       36|   18432208|         79|\n",
            "|         Jams|        false|1009| 1507680000|        41|        36|            1|[{12, Alabama Sha...|       25|    9413467|         31|\n",
            "|    Party Mix|        false|1010| 1464393600|        74|        72|            2|[{39, Stevie Wond...|       11|   17853470|         63|\n",
            "|         LOCO|        false|1011| 1491868800|        97|        90|           18|[{33, Fat Joe, sp...|       27|   20635206|         82|\n",
            "|   Bruno Mars|        false|1012| 1506211200|        18|         7|            1|[{13, Bruno Mars,...|        3|    3974946|          3|\n",
            "|       Breezy|        false|1013| 1490140800|        67|        55|            1|[{7, Jon Bellion,...|       42|   14724585|         45|\n",
            "|      Fall 16|        false|1014| 1496793600|        83|        64|            3|[{61, Kings of Le...|       27|   21004989|         49|\n",
            "|          SLO|        false|1015| 1498262400|        53|        32|            1|[{34, Todd Snider...|        3|   12136870|         19|\n",
            "|       BANGAZ|        false|1016| 1508716800|       198|       141|            1|[{185, Russ, spot...|      104|   43843897|         89|\n",
            "|  Piano Music|        false|1017| 1401148800|        29|        21|            1|[{26, Jennifer Th...|        5|    6992643|         12|\n",
            "|  Beach Music|        false|1018| 1492387200|       130|       106|           14|[{24, Zion & Lenn...|       27|   30811124|         70|\n",
            "|    Slow jamz|        false|1019| 1505779200|        43|        42|            1|[{27, Bone Thugs-...|       15|   11198025|         32|\n",
            "+-------------+-------------+----+-----------+----------+----------+-------------+--------------------+---------+-----------+-----------+\n",
            "only showing top 20 rows\n",
            "\n",
            "+-------------+-------------+----+-----------+----------+----------+-------------+--------------------+---------+-----------+-----------+\n",
            "|         name|collaborative| pid|modified_at|num_tracks|num_albums|num_followers|              tracks|num_edits|duration_ms|num_artists|\n",
            "+-------------+-------------+----+-----------+----------+----------+-------------+--------------------+---------+-----------+-----------+\n",
            "|       disney|        false|1000| 1457827200|       189|        16|            1|[{184, Various Ar...|        4|   31428282|         65|\n",
            "|Indie Electro|        false|1001| 1417824000|       165|        18|            2|[{135, Boards of ...|        2|   38241566|          8|\n",
            "|  jack & jack|        false|1002| 1465430400|        17|        14|            1|[{0, Jack & Jack,...|        3|    3549358|          3|\n",
            "|        vibes|        false|1003| 1498435200|       225|       195|            2|[{9, Marc E. Bass...|       91|   51242585|        157|\n",
            "|        Indie|        false|1004| 1498608000|       165|       118|            1|[{135, Fleet Foxe...|       74|   42601098|         92|\n",
            "|      college|        false|1005| 1504310400|        28|        26|            1|[{9, Kesha, spoti...|        2|    5870710|         25|\n",
            "|    Summer 15|        false|1006| 1471996800|        80|        74|            2|[{30, Jeremih, sp...|       40|   19652753|         67|\n",
            "|    New music|        false|1007| 1509148800|        58|        48|            1|[{0, Post Malone,...|       20|   13158862|         38|\n",
            "|          Now|        false|1008| 1505692800|        84|        82|            3|[{73, PredZ, spot...|       36|   18432208|         79|\n",
            "|         Jams|        false|1009| 1507680000|        41|        36|            1|[{24, Foster The ...|       25|    9413467|         31|\n",
            "|    Party Mix|        false|1010| 1464393600|        74|        72|            2|[{4, The Killers,...|       11|   17853470|         63|\n",
            "|         LOCO|        false|1011| 1491868800|        97|        90|           18|[{62, Boostee, sp...|       27|   20635206|         82|\n",
            "|   Bruno Mars|        false|1012| 1506211200|        18|         7|            1|[{0, Bruno Mars, ...|        3|    3974946|          3|\n",
            "|       Breezy|        false|1013| 1490140800|        67|        55|            1|[{36, Troye Sivan...|       42|   14724585|         45|\n",
            "|      Fall 16|        false|1014| 1496793600|        83|        64|            3|[{30, The Arcs, s...|       27|   21004989|         49|\n",
            "|          SLO|        false|1015| 1498262400|        53|        32|            1|[{19, Bruce Sprin...|        3|   12136870|         19|\n",
            "|       BANGAZ|        false|1016| 1508716800|       198|       141|            1|[{65, Young Thug,...|      104|   43843897|         89|\n",
            "|  Piano Music|        false|1017| 1401148800|        29|        21|            1|[{27, Jennifer Th...|        5|    6992643|         12|\n",
            "|  Beach Music|        false|1018| 1492387200|       130|       106|           14|[{55, Héctor \"El ...|       27|   30811124|         70|\n",
            "|    Slow jamz|        false|1019| 1505779200|        43|        42|            1|[{37, R. Kelly, s...|       15|   11198025|         32|\n",
            "+-------------+-------------+----+-----------+----------+----------+-------------+--------------------+---------+-----------+-----------+\n",
            "only showing top 20 rows\n",
            "\n"
          ]
        },
        {
          "output_type": "execute_result",
          "data": {
            "text/plain": [
              "(None, None)"
            ]
          },
          "metadata": {},
          "execution_count": 74
        }
      ]
    },
    {
      "cell_type": "code",
      "source": [
        "from pyspark.sql import functions as F\n",
        "\n",
        "@timeit\n",
        "def precision_at_k(recommendations, ground_truth, num_of_recommendations):\n",
        "    \"\"\"\n",
        "    Calculates precision at k for the recommendations.\n",
        "    \"\"\"\n",
        "    recommended_relevant_tracks = recommendations.join(ground_truth, \"track_uri\").cache()\n",
        "    reccomended_relevant_tracks_count = recommended_relevant_tracks.count() #this can be top_n_results.join in order to be more performant\n",
        "    recommended_relevant_tracks.unpersist()\n",
        "    precision = reccomended_relevant_tracks_count / float(num_of_recommendations)\n",
        "\n",
        "    return precision"
      ],
      "metadata": {
        "id": "86dFBXK20uqu"
      },
      "execution_count": 67,
      "outputs": []
    },
    {
      "cell_type": "code",
      "source": [
        "@timeit\n",
        "def evaluate(pid: int) -> Tuple[DataFrame, float]:\n",
        "    t1 = time.time()\n",
        "    playlist_train = train_df.filter(f\"pid == {pid}\").cache()\n",
        "    playlist_test = test_df.filter(f\"pid == {pid}\").cache()\n",
        "    t2 = time.time()\n",
        "    print(f\"First section: {t2-t1}\")\n",
        "    t3 = time.time()\n",
        "    ground_truth = playlist_test.select(explode(\"tracks\")).select(\"col.*\").cache()\n",
        "    #TODO: This can be remove by inserting the number of songs when creating the train and test df\n",
        "    num_of_recommendations = ground_truth.count()\n",
        "    t4 = time.time()\n",
        "    print(f\"Second section: {t4-t3}\")\n",
        "    recommendations = user_based_recommendation(playlist_train, \n",
        "                                                songs_embeddings, \n",
        "                                                jaccard_similarity, \n",
        "                                                n=num_of_recommendations,\n",
        "                                                k = 10).cache()\n",
        "    t5 = time.time()\n",
        "    print(f\"Third section: {t5-t4}\")\n",
        "    precision = precision_at_k(recommendations, ground_truth, num_of_recommendations)\n",
        "    t6 = time.time()\n",
        "    print(f\"Computing precision time: {t6-t5}\")\n",
        "    print(f\"Total time: {t6-t1}\")\n",
        "\n",
        "    playlist_train.unpersist()\n",
        "    playlist_test.unpersist()\n",
        "    ground_truth.unpersist()\n",
        "    t7 = time.time()\n",
        "    print(f\"Unpersisting time: {t7-t6}\")\n",
        "    return playlist_train, playlist_test, recommendations, precision"
      ],
      "metadata": {
        "id": "J8kbN-2Emdmz"
      },
      "execution_count": 68,
      "outputs": []
    },
    {
      "cell_type": "code",
      "source": [
        "train, test, rec, prec = evaluate(2007)\n",
        "print(f\"Precision: {prec}\")"
      ],
      "metadata": {
        "id": "XLluNZXYIFk7",
        "colab": {
          "base_uri": "https://localhost:8080/"
        },
        "outputId": "3fb27c48-2e64-478a-a344-89e065cef3cd"
      },
      "execution_count": 73,
      "outputs": [
        {
          "output_type": "stream",
          "name": "stdout",
          "text": [
            "First section: 0.04784274101257324\n",
            "Second section: 1.0554397106170654\n",
            "Creating rating vectors: 0.8035686016082764\n",
            "Computing similarity_df: 4.220136404037476\n",
            "Getting top_k_results: 4.513352394104004\n",
            "Getting the playlist's input vector: 2.094712972640991\n",
            "Getting the top n indices: 0.11084890365600586\n",
            "Getting the reccomended_songs_info: 0.05842185020446777\n",
            "Third section: 8.121519565582275\n",
            "Computing precision time: 48.53673052787781\n",
            "Total time: 57.761659145355225\n",
            "Unpersisting time: 0.10069680213928223\n",
            "Precision: 0.0\n"
          ]
        }
      ]
    },
    {
      "cell_type": "code",
      "source": [
        "EVALUATION_RESULTS_PATH = os.path.join(GDRIVE_DATA_DIR, \"evaluation_results\")\n",
        "def perform_evaluation():\n",
        "  SAMPLING_FRACTION = 0.0005\n",
        "  sampled_playlists = train_df.sample(False, SAMPLING_FRACTION, seed=42).cache()\n",
        "  results = []\n",
        "  for row in tqdm(sampled_playlists.collect(), desc=\"Performing evaluation\"):\n",
        "      pid = row['pid']\n",
        "      train, test, rec, prec = evaluate(pid)\n",
        "      results.append(prec)\n",
        "  with open(EVALUATION_RESULTS_PATH, \"w\") as f:\n",
        "    json.dump(results, f)\n",
        "  return results\n",
        "\n",
        "results = perform_evaluation()"
      ],
      "metadata": {
        "id": "CEJCTq-eqJyk"
      },
      "execution_count": null,
      "outputs": []
    },
    {
      "cell_type": "code",
      "source": [
        "avg_prec = np.array(results).mean()\n",
        "avg_prec"
      ],
      "metadata": {
        "id": "jYvIrTvqfrzZ"
      },
      "execution_count": null,
      "outputs": []
    },
    {
      "cell_type": "code",
      "source": [
        "pl_train, pl_test, reccomendations, precision = evaluate(3001)"
      ],
      "metadata": {
        "id": "oFeeuj3l7ro3"
      },
      "execution_count": null,
      "outputs": []
    },
    {
      "cell_type": "code",
      "source": [
        "pl_train.show(), pl_test.show()"
      ],
      "metadata": {
        "id": "O-REosqXd_GZ"
      },
      "execution_count": null,
      "outputs": []
    },
    {
      "cell_type": "code",
      "source": [
        "pl_train.select(explode(\"tracks\")).select(\"col.*\").show(),\\\n",
        "pl_test.select(explode(\"tracks\")).select(\"col.*\").show()"
      ],
      "metadata": {
        "id": "_QKAcSRZKTyN"
      },
      "execution_count": null,
      "outputs": []
    },
    {
      "cell_type": "code",
      "source": [
        "reccomendations.orderBy(col(\"confidence\").desc()).show() #TODO: Confidence has some strange values, check them out to see if they are correct"
      ],
      "metadata": {
        "id": "bPO3bbSERwkZ"
      },
      "execution_count": null,
      "outputs": []
    },
    {
      "cell_type": "code",
      "source": [
        "precision"
      ],
      "metadata": {
        "id": "MmoD37iEBxfT"
      },
      "execution_count": null,
      "outputs": []
    },
    {
      "cell_type": "markdown",
      "metadata": {
        "id": "SqlejJ_MFrB9"
      },
      "source": [
        "# Fighting against the curse of dimensionality: Matrix Factorization"
      ]
    },
    {
      "cell_type": "markdown",
      "metadata": {
        "id": "gnioMF6_KGfr"
      },
      "source": [
        "We want to define $\\mathbf{x}_u \\in \\mathbb{R}^d$ $d$-dimensional vector that represents the user $u$, and $\\mathbf{w}_i \\in \\mathbb{R}^d$ vector that represent the item $i$.\n",
        "\n",
        "We then can estimate the rating of user $u$ for the item $i$ by computing\n",
        "\\begin{equation}\n",
        "\\hat{r}_{u, i}=\\mathbf{x}_u^T \\cdot \\mathbf{w}_i=\\sum_{j=1}^d x_{u, j} w_{j, i}\n",
        "\\end{equation}\n",
        "Or, in matrix notation,\n",
        "\n",
        "\\begin{equation}\n",
        "\\underbrace{R}_{m \\times n} =\n",
        "\\underbrace{X}_{m \\times d}\n",
        "\\underbrace{W^T}_{d \\times n}\n",
        "\\end{equation}\n",
        "\n",
        "### How to learn $X$ and $W$\n",
        "The matrix $R$ is partially known and filled with the observations inside the dataset $\\mathcal{D}$. In order to learn the latent factor representations $X$ and $W$, we minimize the following loss function:\n",
        "\\begin{equation}\n",
        "L(X, W)=\\sum_{(u, i) \\in \\mathcal{D}}\\underbrace{\\left(r_{u, i}-\\mathbf{x}_u^T \\cdot \\mathbf{w}_i\\right)^2}_{\\text{squared error term}}+\\underbrace{\\lambda\\left(\\sum_{u \\in \\mathcal{D}}\\left\\|\\mathbf{x}_u\\right\\|^2+\\sum_{i \\in \\mathcal{D}}\\left\\|\\mathbf{w}_i\\right\\|^2\\right)}_{\\text{regularization term}}\n",
        "\\end{equation}\n",
        "\n",
        "We can then minimize the loss using Stochastic Gradient Descent or Alternating Least Squares."
      ]
    },
    {
      "cell_type": "markdown",
      "metadata": {
        "id": "el7BsOEsjSgN"
      },
      "source": [
        "# Matrix Factorization\n",
        "Generate a matrix Y where each column represent a playlist and each row represent a song, the (i,j) entry will be 1 if the playlist contains the song, 0 otherwise."
      ]
    },
    {
      "cell_type": "code",
      "execution_count": null,
      "metadata": {
        "id": "-KsENF4IfRks"
      },
      "outputs": [],
      "source": [
        "# Throw error in order to not execute the following code\n",
        "raise ValueError()"
      ]
    },
    {
      "cell_type": "code",
      "execution_count": null,
      "metadata": {
        "id": "B1PEWA1Xjbb2"
      },
      "outputs": [],
      "source": [
        "import pyspark.sql.functions as f\n",
        "from pyspark.sql.functions import explode\n",
        "spark.conf.set(\"spark.sql.pivotMaxValues\", 1000000)\n",
        "\n",
        "from pyspark.ml.evaluation import RegressionEvaluator\n",
        "from pyspark.ml.recommendation import ALS\n",
        "from pyspark.sql import Row\n",
        "from pyspark.sql.functions import expr\n"
      ]
    },
    {
      "cell_type": "code",
      "execution_count": null,
      "metadata": {
        "id": "tCEit6ZXgClg"
      },
      "outputs": [],
      "source": [
        "from pyspark.sql.functions import explode\n",
        "import random\n",
        "tracks_df = slice_df.select(\"pid\", explode(\"tracks\").alias(\"track\")).select(\"pid\", \"track.track_uri\")\n",
        "tracks_df = tracks_df.withColumn(\"rating\", lit(1))\n",
        "# tracks_df = tracks_df.withColumn(\"rating\", (rand() * 10 + 1).cast(\"integer\"))"
      ]
    },
    {
      "cell_type": "code",
      "execution_count": null,
      "metadata": {
        "id": "xzl4_KPigJyN"
      },
      "outputs": [],
      "source": [
        "tracks_df.show()"
      ]
    },
    {
      "cell_type": "code",
      "execution_count": null,
      "metadata": {
        "id": "CrNo-NacpGXC"
      },
      "outputs": [],
      "source": [
        "# # Explode the tracks array column into multiple rows\n",
        "# # tracks_df = slice_df.select(\"pid\", explode(\"tracks\").alias(\"track\"))\n",
        "# # tracks_df = slice_df.select(\"pid\", \"tracks\", \"tracks\")\n",
        "# tracks_df = slice_df.select(\"pid\", explode(\"tracks\").alias(\"track\")).select(\"pid\", \"track.track_uri\", \"track.pos\")\n",
        "\n",
        "# # Select relevant columns and add a rating column with value 1\n",
        "# playlist_track_df = tracks_df.withColumn(\"rating\", lit(1))\n",
        "\n",
        "# # Get distinct track_uri values and join with playlist_track_df\n",
        "# all_tracks_df = slice_df.select(explode(\"tracks\").alias(\"track\")).select(\"track.track_uri\").distinct()\n",
        "# all_playlists_df = slice_df.select(\"pid\").distinct()\n",
        "\n",
        "# all_against_all = all_tracks_df.join(all_playlists_df).distinct()\n",
        "\n",
        "# from pyspark.sql.functions import when, col\n",
        "\n",
        "# # playlist_track_rating_df = playlist_track_df.join(all_against_all, [\"pid\", \"track_uri\"], \"left_outer\") \\\n",
        "# #     .withColumn(\"rating\", when(col(\"pos\").isNull(), 0).otherwise(1))\n",
        "\n",
        "# playlist_track_rating_df = all_against_all.join(playlist_track_df, [\"pid\", \"track_uri\"], \"left_outer\") \\\n",
        "#     .withColumn(\"rating\", when(col(\"pos\").isNull(), 0).otherwise(1)) \\\n",
        "#     .drop(\"pos\")\n"
      ]
    },
    {
      "cell_type": "code",
      "execution_count": null,
      "metadata": {
        "id": "d_g71QpbzP9G"
      },
      "outputs": [],
      "source": [
        "playlist_track_rating_df = tracks_df.withColumn(\"song_id\", dense_rank().over(Window.orderBy(\"track_uri\")))"
      ]
    },
    {
      "cell_type": "code",
      "execution_count": null,
      "metadata": {
        "id": "DFR59iIwsuAv"
      },
      "outputs": [],
      "source": [
        "playlist_track_rating_df.show(truncate=False)"
      ]
    },
    {
      "cell_type": "code",
      "execution_count": null,
      "metadata": {
        "id": "0E86sNXYxTJP"
      },
      "outputs": [],
      "source": [
        "als = ALS(userCol=\"pid\", itemCol=\"song_id\", ratingCol=\"rating\", nonnegative=True, coldStartStrategy=\"drop\")"
      ]
    },
    {
      "cell_type": "code",
      "execution_count": null,
      "metadata": {
        "id": "hKxgkuM0GsVf"
      },
      "outputs": [],
      "source": [
        "from typing import Tuple\n",
        "import random\n",
        "\n",
        "def train_test_split(df: DataFrame, split_ratio: float, seed: Optional[int] = None) -> Tuple[DataFrame, DataFrame]:\n",
        "  random.seed(seed)\n",
        "  distinct_pids = df.select(\"pid\").distinct().rdd.map(lambda x: x[0]).collect()\n",
        "  random.shuffle(distinct_pids)\n",
        "  split_index = int(len(distinct_pids) * split_ratio)\n",
        "  train_pids = distinct_pids[:split_index]\n",
        "  test_pids = distinct_pids[split_index:]\n",
        "  train_df = df.filter(col(\"pid\").isin(train_pids))\n",
        "  test_df = df.filter(col(\"pid\").isin(test_pids))\n",
        "  return train_df, test_df\n",
        "\n"
      ]
    },
    {
      "cell_type": "code",
      "execution_count": null,
      "metadata": {
        "id": "Pf82Hstmxb7i"
      },
      "outputs": [],
      "source": [
        "training, test = playlist_track_rating_df.randomSplit([0.8, 0.2], seed=42)"
      ]
    },
    {
      "cell_type": "code",
      "execution_count": null,
      "metadata": {
        "id": "5r0g7uPzH19c"
      },
      "outputs": [],
      "source": [
        "model = als.fit(training)"
      ]
    },
    {
      "cell_type": "code",
      "execution_count": null,
      "metadata": {
        "id": "_S3oNC7AIFXY"
      },
      "outputs": [],
      "source": [
        "predictions = model.transform(test)"
      ]
    },
    {
      "cell_type": "code",
      "execution_count": null,
      "metadata": {
        "id": "QwciStIaibF-"
      },
      "outputs": [],
      "source": [
        "predictions.show()"
      ]
    },
    {
      "cell_type": "code",
      "execution_count": null,
      "metadata": {
        "id": "w_FWXza9ycMU"
      },
      "outputs": [],
      "source": [
        "evaluator = RegressionEvaluator(metricName=\"rmse\", labelCol=\"rating\",\n",
        "                                predictionCol=\"prediction\")\n",
        "rmse = evaluator.evaluate(predictions)"
      ]
    },
    {
      "cell_type": "code",
      "execution_count": null,
      "metadata": {
        "id": "FJfWDUMSh8Nd"
      },
      "outputs": [],
      "source": [
        "predictions.filter(col(\"prediction\") != \"NaN\").count(), predictions.filter(col(\"prediction\") == \"NaN\").count()"
      ]
    },
    {
      "cell_type": "code",
      "execution_count": null,
      "metadata": {
        "id": "47oQcRQdm-qy"
      },
      "outputs": [],
      "source": [
        "rmse"
      ]
    },
    {
      "cell_type": "code",
      "source": [
        "subset = playlist_track_rating_df.select(\"pid\").distinct().limit(1)\n",
        "subUserRecs = model.recommendForUserSubset(subset, 10)"
      ],
      "metadata": {
        "id": "q2eoCHXqLNU8"
      },
      "execution_count": null,
      "outputs": []
    },
    {
      "cell_type": "code",
      "source": [
        "subset.show()"
      ],
      "metadata": {
        "id": "Tya3FyOxLn0S"
      },
      "execution_count": null,
      "outputs": []
    },
    {
      "cell_type": "code",
      "source": [
        "subUserRecs.show(truncate=False)"
      ],
      "metadata": {
        "id": "u5lfCDhiLZjo"
      },
      "execution_count": null,
      "outputs": []
    },
    {
      "cell_type": "code",
      "source": [
        "def song_name_from_id(song_id: int, reverse_lookup: DataFrame) -> str:\n",
        "  return \n",
        "  \n",
        "def interpretRecommendation(recommended_result: DataFrame) -> str:\n",
        "  return"
      ],
      "metadata": {
        "id": "uyvBEVF8MP30"
      },
      "execution_count": null,
      "outputs": []
    },
    {
      "cell_type": "code",
      "execution_count": null,
      "metadata": {
        "id": "vMvzQsXnykMX"
      },
      "outputs": [],
      "source": [
        "userRecs = model.recommendForAllUsers(1).orderBy(\"recommendations\")\n",
        "userRecs.show(truncate=False)\n",
        "userRecs.count()"
      ]
    },
    {
      "cell_type": "code",
      "execution_count": null,
      "metadata": {
        "id": "kKrGgg35mjmS"
      },
      "outputs": [],
      "source": [
        "slice_df.filter(col(\"pid\") == 1710).select(explode(\"tracks.track_name\")).show()"
      ]
    },
    {
      "cell_type": "code",
      "execution_count": null,
      "metadata": {
        "id": "5mF1ERfgmyFU"
      },
      "outputs": [],
      "source": [
        "track_uris = playlist_track_rating_df.filter(col(\"song_id\") == 588).select(\"track_uri\")\n",
        "track_uris.first()"
      ]
    }
  ],
  "metadata": {
    "colab": {
      "provenance": [],
      "collapsed_sections": [
        "KOojFseRjVnN",
        "VJeY9PpvaHUJ",
        "SqlejJ_MFrB9",
        "el7BsOEsjSgN"
      ],
      "include_colab_link": true
    },
    "kernelspec": {
      "display_name": "Python 3",
      "name": "python3"
    },
    "language_info": {
      "name": "python"
    }
  },
  "nbformat": 4,
  "nbformat_minor": 0
}