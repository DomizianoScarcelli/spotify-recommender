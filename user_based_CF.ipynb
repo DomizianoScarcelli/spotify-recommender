{
  "cells": [
    {
      "cell_type": "markdown",
      "metadata": {
        "id": "view-in-github",
        "colab_type": "text"
      },
      "source": [
        "<a href=\"https://colab.research.google.com/github/DomizianoScarcelli/big-data-project/blob/main/user_based_CF.ipynb\" target=\"_parent\"><img src=\"https://colab.research.google.com/assets/colab-badge.svg\" alt=\"Open In Colab\"/></a>"
      ]
    },
    {
      "cell_type": "markdown",
      "metadata": {
        "id": "ySOgYrVKaDjm"
      },
      "source": [
        "# Config"
      ]
    },
    {
      "cell_type": "markdown",
      "metadata": {
        "id": "KOojFseRjVnN"
      },
      "source": [
        "# Configuration"
      ]
    },
    {
      "cell_type": "code",
      "execution_count": 1,
      "metadata": {
        "id": "N3wVgRfHYoOs",
        "colab": {
          "base_uri": "https://localhost:8080/"
        },
        "outputId": "d2d9b1a0-974c-48a8-9a6c-876a2e44405b",
        "cellView": "form"
      },
      "outputs": [
        {
          "output_type": "stream",
          "name": "stdout",
          "text": [
            "Looking in indexes: https://pypi.org/simple, https://us-python.pkg.dev/colab-wheels/public/simple/\n",
            "Collecting pyspark\n",
            "  Downloading pyspark-3.4.0.tar.gz (310.8 MB)\n",
            "\u001b[2K     \u001b[90m━━━━━━━━━━━━━━━━━━━━━━━━━━━━━━━━━━━━━━━\u001b[0m \u001b[32m310.8/310.8 MB\u001b[0m \u001b[31m3.1 MB/s\u001b[0m eta \u001b[36m0:00:00\u001b[0m\n",
            "\u001b[?25h  Preparing metadata (setup.py) ... \u001b[?25l\u001b[?25hdone\n",
            "Requirement already satisfied: py4j==0.10.9.7 in /usr/local/lib/python3.10/dist-packages (from pyspark) (0.10.9.7)\n",
            "Building wheels for collected packages: pyspark\n",
            "  Building wheel for pyspark (setup.py) ... \u001b[?25l\u001b[?25hdone\n",
            "  Created wheel for pyspark: filename=pyspark-3.4.0-py2.py3-none-any.whl size=311317130 sha256=eb69251f9172f5cef910b4cf1e6280bc9ef17184c3ba890ffa91112bf8d50cb5\n",
            "  Stored in directory: /root/.cache/pip/wheels/7b/1b/4b/3363a1d04368e7ff0d408e57ff57966fcdf00583774e761327\n",
            "Successfully built pyspark\n",
            "Installing collected packages: pyspark\n",
            "Successfully installed pyspark-3.4.0\n",
            "The following additional packages will be installed:\n",
            "  libxtst6 openjdk-8-jre-headless\n",
            "Suggested packages:\n",
            "  openjdk-8-demo openjdk-8-source libnss-mdns fonts-dejavu-extra\n",
            "  fonts-ipafont-gothic fonts-ipafont-mincho fonts-wqy-microhei\n",
            "  fonts-wqy-zenhei fonts-indic\n",
            "The following NEW packages will be installed:\n",
            "  libxtst6 openjdk-8-jdk-headless openjdk-8-jre-headless\n",
            "0 upgraded, 3 newly installed, 0 to remove and 24 not upgraded.\n",
            "Need to get 36.5 MB of archives.\n",
            "After this operation, 144 MB of additional disk space will be used.\n",
            "Selecting previously unselected package libxtst6:amd64.\n",
            "(Reading database ... 122519 files and directories currently installed.)\n",
            "Preparing to unpack .../libxtst6_2%3a1.2.3-1_amd64.deb ...\n",
            "Unpacking libxtst6:amd64 (2:1.2.3-1) ...\n",
            "Selecting previously unselected package openjdk-8-jre-headless:amd64.\n",
            "Preparing to unpack .../openjdk-8-jre-headless_8u362-ga-0ubuntu1~20.04.1_amd64.deb ...\n",
            "Unpacking openjdk-8-jre-headless:amd64 (8u362-ga-0ubuntu1~20.04.1) ...\n",
            "Selecting previously unselected package openjdk-8-jdk-headless:amd64.\n",
            "Preparing to unpack .../openjdk-8-jdk-headless_8u362-ga-0ubuntu1~20.04.1_amd64.deb ...\n",
            "Unpacking openjdk-8-jdk-headless:amd64 (8u362-ga-0ubuntu1~20.04.1) ...\n",
            "Setting up libxtst6:amd64 (2:1.2.3-1) ...\n",
            "Setting up openjdk-8-jre-headless:amd64 (8u362-ga-0ubuntu1~20.04.1) ...\n",
            "update-alternatives: using /usr/lib/jvm/java-8-openjdk-amd64/jre/bin/orbd to provide /usr/bin/orbd (orbd) in auto mode\n",
            "update-alternatives: using /usr/lib/jvm/java-8-openjdk-amd64/jre/bin/servertool to provide /usr/bin/servertool (servertool) in auto mode\n",
            "update-alternatives: using /usr/lib/jvm/java-8-openjdk-amd64/jre/bin/tnameserv to provide /usr/bin/tnameserv (tnameserv) in auto mode\n",
            "Setting up openjdk-8-jdk-headless:amd64 (8u362-ga-0ubuntu1~20.04.1) ...\n",
            "update-alternatives: using /usr/lib/jvm/java-8-openjdk-amd64/bin/idlj to provide /usr/bin/idlj (idlj) in auto mode\n",
            "update-alternatives: using /usr/lib/jvm/java-8-openjdk-amd64/bin/wsimport to provide /usr/bin/wsimport (wsimport) in auto mode\n",
            "update-alternatives: using /usr/lib/jvm/java-8-openjdk-amd64/bin/jsadebugd to provide /usr/bin/jsadebugd (jsadebugd) in auto mode\n",
            "update-alternatives: using /usr/lib/jvm/java-8-openjdk-amd64/bin/native2ascii to provide /usr/bin/native2ascii (native2ascii) in auto mode\n",
            "update-alternatives: using /usr/lib/jvm/java-8-openjdk-amd64/bin/javah to provide /usr/bin/javah (javah) in auto mode\n",
            "update-alternatives: using /usr/lib/jvm/java-8-openjdk-amd64/bin/hsdb to provide /usr/bin/hsdb (hsdb) in auto mode\n",
            "update-alternatives: using /usr/lib/jvm/java-8-openjdk-amd64/bin/clhsdb to provide /usr/bin/clhsdb (clhsdb) in auto mode\n",
            "update-alternatives: using /usr/lib/jvm/java-8-openjdk-amd64/bin/xjc to provide /usr/bin/xjc (xjc) in auto mode\n",
            "update-alternatives: using /usr/lib/jvm/java-8-openjdk-amd64/bin/schemagen to provide /usr/bin/schemagen (schemagen) in auto mode\n",
            "update-alternatives: using /usr/lib/jvm/java-8-openjdk-amd64/bin/extcheck to provide /usr/bin/extcheck (extcheck) in auto mode\n",
            "update-alternatives: using /usr/lib/jvm/java-8-openjdk-amd64/bin/jhat to provide /usr/bin/jhat (jhat) in auto mode\n",
            "update-alternatives: using /usr/lib/jvm/java-8-openjdk-amd64/bin/wsgen to provide /usr/bin/wsgen (wsgen) in auto mode\n",
            "Processing triggers for libc-bin (2.31-0ubuntu9.9) ...\n"
          ]
        }
      ],
      "source": [
        "#@title Download necessary libraries\n",
        "!pip install pyspark\n",
        "!pip install -U -q PyDrive \n",
        "!apt install openjdk-8-jdk-headless -qq"
      ]
    },
    {
      "cell_type": "code",
      "execution_count": 2,
      "metadata": {
        "cellView": "form",
        "id": "CGHPv9OqY9MI"
      },
      "outputs": [],
      "source": [
        "#@title Imports\n",
        "import os\n",
        "import requests\n",
        "import pandas as pd\n",
        "import numpy as np\n",
        "import matplotlib.pyplot as plt\n",
        "import seaborn as sns\n",
        "%matplotlib inline\n",
        "import plotly\n",
        "\n",
        "import pyspark\n",
        "from pyspark.sql import *\n",
        "from pyspark.sql.types import StructType, StructField, StringType, IntegerType, ArrayType, FloatType, LongType\n",
        "from pyspark.sql.functions import *\n",
        "from pyspark import SparkContext, SparkConf\n",
        "from pyspark.ml.linalg import SparseVector, DenseVector\n",
        "\n",
        "from tqdm.notebook import tqdm\n",
        "import time\n",
        "import gc\n",
        "\n",
        "from google.colab import drive"
      ]
    },
    {
      "cell_type": "code",
      "execution_count": 3,
      "metadata": {
        "id": "JF8LUBZeYiWP"
      },
      "outputs": [],
      "source": [
        "#@title Set up variables\n",
        "JAVA_HOME = \"/usr/lib/jvm/java-8-openjdk-amd64\"\n",
        "GDRIVE_DIR = \"/content/drive\"\n",
        "GDRIVE_HOME_DIR = GDRIVE_DIR + \"/MyDrive\"\n",
        "GDRIVE_DATA_DIR = GDRIVE_HOME_DIR + \"/Big Data/datasets\"\n",
        "DATASET_FILE = os.path.join(GDRIVE_DATA_DIR, \"pyspark_friendly_spotify_playlist_dataset\")\n",
        "AUDIO_FEATURES_FILE = os.path.join(GDRIVE_DATA_DIR, \"pyspark_track_features\")\n",
        "LITTLE_SLICE_FILE = os.path.join(GDRIVE_DATA_DIR, \"little_slice\")\n",
        "SMALL_SLICE_FLIE = os.path.join(GDRIVE_DATA_DIR, \"small_slice\")\n",
        "LITTLE_SLICE_AUDIO_FEATURES = os.path.join(GDRIVE_DATA_DIR, \"little_slice_audio_features\")\n",
        "MICRO_SLICE_AUDIO_FEATURES = os.path.join(GDRIVE_DATA_DIR, \"micro_slice_audio_features\")\n",
        "SPLITTED_SLICE_AUDIO_FEATURES = os.path.join(GDRIVE_DATA_DIR, \"splitted_pyspark_track_features\")\n",
        "SAVED_DFS_PATH = os.path.join(GDRIVE_DATA_DIR, \"saved_dfs\")\n",
        "RANDOM_SEED = 42 # for reproducibility\n",
        "os.environ[\"JAVA_HOME\"] = JAVA_HOME\n",
        "os.environ[\"PYSPARK_PYTHON\"]=\"python\""
      ]
    },
    {
      "cell_type": "code",
      "execution_count": 4,
      "metadata": {
        "cellView": "form",
        "id": "4m7VztzdZgm6"
      },
      "outputs": [],
      "source": [
        "#@title Create the session\n",
        "conf = SparkConf().\\\n",
        "                set('spark.ui.port', \"4050\").\\\n",
        "                set('spark.executor.memory', '12G').\\\n",
        "                set('spark.driver.memory', '12G').\\\n",
        "                set('spark.driver.maxResultSize', '100G').\\\n",
        "                set(\"spark.executor.extraJavaOptions\", \"-XX:+UseG1GC\").\\\n",
        "                setAppName(\"PySparkTutorial\").\\\n",
        "                setMaster(\"local[*]\")\n",
        "\n",
        "# Create the context\n",
        "sc = pyspark.SparkContext(conf=conf)\n",
        "spark = SparkSession.builder.getOrCreate()"
      ]
    },
    {
      "cell_type": "code",
      "execution_count": 253,
      "metadata": {
        "id": "vsX5d-YXZ2Ul",
        "colab": {
          "base_uri": "https://localhost:8080/"
        },
        "outputId": "7dfdde28-c095-4027-bd76-fae48e75a44d"
      },
      "outputs": [
        {
          "output_type": "stream",
          "name": "stdout",
          "text": [
            "Mounted at /content/drive\n"
          ]
        }
      ],
      "source": [
        "drive.mount(GDRIVE_DIR, force_remount=True)"
      ]
    },
    {
      "cell_type": "markdown",
      "metadata": {
        "id": "X-s_eNiVaxhn"
      },
      "source": [
        "## Setup ngrok"
      ]
    },
    {
      "cell_type": "code",
      "execution_count": 6,
      "metadata": {
        "id": "LrnLYquoarPa",
        "colab": {
          "base_uri": "https://localhost:8080/"
        },
        "outputId": "098a8ee2-f1e5-486c-95b7-40bb23519aee"
      },
      "outputs": [
        {
          "output_type": "stream",
          "name": "stdout",
          "text": [
            "Looking in indexes: https://pypi.org/simple, https://us-python.pkg.dev/colab-wheels/public/simple/\n",
            "Collecting pyngrok\n",
            "  Downloading pyngrok-6.0.0.tar.gz (681 kB)\n",
            "\u001b[2K     \u001b[90m━━━━━━━━━━━━━━━━━━━━━━━━━━━━━━━━━━━━━━\u001b[0m \u001b[32m681.2/681.2 kB\u001b[0m \u001b[31m28.6 MB/s\u001b[0m eta \u001b[36m0:00:00\u001b[0m\n",
            "\u001b[?25h  Preparing metadata (setup.py) ... \u001b[?25l\u001b[?25hdone\n",
            "Requirement already satisfied: PyYAML in /usr/local/lib/python3.10/dist-packages (from pyngrok) (6.0)\n",
            "Building wheels for collected packages: pyngrok\n",
            "  Building wheel for pyngrok (setup.py) ... \u001b[?25l\u001b[?25hdone\n",
            "  Created wheel for pyngrok: filename=pyngrok-6.0.0-py3-none-any.whl size=19867 sha256=6163541fb8457ad398d0ddd35b1b40deff378d6a0cfbb9488b3d0e09f5591bd2\n",
            "  Stored in directory: /root/.cache/pip/wheels/5c/42/78/0c3d438d7f5730451a25f7ac6cbf4391759d22a67576ed7c2c\n",
            "Successfully built pyngrok\n",
            "Installing collected packages: pyngrok\n",
            "Successfully installed pyngrok-6.0.0\n"
          ]
        }
      ],
      "source": [
        "!pip install pyngrok"
      ]
    },
    {
      "cell_type": "code",
      "execution_count": 7,
      "metadata": {
        "id": "K3IEuiyDawo3",
        "colab": {
          "base_uri": "https://localhost:8080/"
        },
        "outputId": "48f940d8-71dc-4e53-c3dd-97ec8b71e52d"
      },
      "outputs": [
        {
          "output_type": "stream",
          "name": "stdout",
          "text": [
            "Downloading ngrok ...\rDownloading ngrok: 0%\rDownloading ngrok: 1%\rDownloading ngrok: 2%\rDownloading ngrok: 3%\rDownloading ngrok: 4%\rDownloading ngrok: 5%\rDownloading ngrok: 6%\rDownloading ngrok: 7%\rDownloading ngrok: 8%\rDownloading ngrok: 9%\rDownloading ngrok: 10%\rDownloading ngrok: 11%\rDownloading ngrok: 12%\rDownloading ngrok: 13%\rDownloading ngrok: 14%\rDownloading ngrok: 15%\rDownloading ngrok: 16%\rDownloading ngrok: 17%\rDownloading ngrok: 18%\rDownloading ngrok: 19%\rDownloading ngrok: 20%\rDownloading ngrok: 21%\rDownloading ngrok: 22%\rDownloading ngrok: 23%\rDownloading ngrok: 24%\rDownloading ngrok: 25%\rDownloading ngrok: 26%\rDownloading ngrok: 27%\rDownloading ngrok: 28%\rDownloading ngrok: 29%\rDownloading ngrok: 30%\rDownloading ngrok: 31%\rDownloading ngrok: 32%\rDownloading ngrok: 33%\rDownloading ngrok: 34%\rDownloading ngrok: 35%\rDownloading ngrok: 36%\rDownloading ngrok: 37%\rDownloading ngrok: 38%\rDownloading ngrok: 39%\rDownloading ngrok: 40%\rDownloading ngrok: 41%\rDownloading ngrok: 42%\rDownloading ngrok: 43%\rDownloading ngrok: 44%\rDownloading ngrok: 45%\rDownloading ngrok: 46%\rDownloading ngrok: 47%\rDownloading ngrok: 48%\rDownloading ngrok: 49%\rDownloading ngrok: 50%\rDownloading ngrok: 51%\rDownloading ngrok: 52%\rDownloading ngrok: 53%\rDownloading ngrok: 54%\rDownloading ngrok: 55%\rDownloading ngrok: 56%\rDownloading ngrok: 57%\rDownloading ngrok: 58%\rDownloading ngrok: 59%\rDownloading ngrok: 60%\rDownloading ngrok: 61%\rDownloading ngrok: 62%\rDownloading ngrok: 63%\rDownloading ngrok: 64%\rDownloading ngrok: 65%\rDownloading ngrok: 66%\rDownloading ngrok: 67%\rDownloading ngrok: 68%\rDownloading ngrok: 69%\rDownloading ngrok: 70%\rDownloading ngrok: 71%\rDownloading ngrok: 72%\rDownloading ngrok: 73%\rDownloading ngrok: 74%\rDownloading ngrok: 75%\rDownloading ngrok: 76%\rDownloading ngrok: 77%\rDownloading ngrok: 78%\rDownloading ngrok: 79%\rDownloading ngrok: 80%\rDownloading ngrok: 81%\rDownloading ngrok: 82%\rDownloading ngrok: 83%\rDownloading ngrok: 84%\rDownloading ngrok: 85%\rDownloading ngrok: 86%\rDownloading ngrok: 87%\rDownloading ngrok: 88%\rDownloading ngrok: 89%\rDownloading ngrok: 90%\rDownloading ngrok: 91%\rDownloading ngrok: 92%\rDownloading ngrok: 93%\rDownloading ngrok: 94%\rDownloading ngrok: 95%\rDownloading ngrok: 96%\rDownloading ngrok: 97%\rDownloading ngrok: 98%\rDownloading ngrok: 99%\rDownloading ngrok: 100%\r                                                                                                    \rInstalling ngrok ... \r                                                                                                    \rAuthtoken saved to configuration file: /root/.ngrok2/ngrok.yml\n"
          ]
        }
      ],
      "source": [
        "!ngrok authtoken 2NVN8kdoOnMVtlDGGWtwsbT5M3Q_2EJv2HE77FEXkz978Qtnq"
      ]
    },
    {
      "cell_type": "code",
      "execution_count": 8,
      "metadata": {
        "id": "0qJN-lfta1ok",
        "colab": {
          "base_uri": "https://localhost:8080/"
        },
        "outputId": "fa1df2ad-6d40-40aa-8a6e-bd65e0c3e87b"
      },
      "outputs": [
        {
          "output_type": "stream",
          "name": "stderr",
          "text": [
            "WARNING:pyngrok.process.ngrok:t=2023-05-16T08:13:17+0000 lvl=warn msg=\"ngrok config file found at legacy location, move to XDG location\" xdg_path=/root/.config/ngrok/ngrok.yml legacy_path=/root/.ngrok2/ngrok.yml\n"
          ]
        }
      ],
      "source": [
        "from pyngrok import ngrok\n",
        "\n",
        "# Open a ngrok tunnel on the port 4050 where Spark is running\n",
        "port = '4050'\n",
        "public_url = ngrok.connect(port).public_url"
      ]
    },
    {
      "cell_type": "code",
      "execution_count": 9,
      "metadata": {
        "id": "x15LhY-5a3Yi",
        "colab": {
          "base_uri": "https://localhost:8080/"
        },
        "outputId": "f255c573-64e8-4aa1-dcb2-6a2446491a72"
      },
      "outputs": [
        {
          "output_type": "stream",
          "name": "stdout",
          "text": [
            "To access the Spark Web UI console, please click on the following link to the ngrok tunnel \"https://d1a4-34-86-240-214.ngrok-free.app\" -> \"http://127.0.0.1:4050\"\n"
          ]
        }
      ],
      "source": [
        "print(\"To access the Spark Web UI console, please click on the following link to the ngrok tunnel \\\"{}\\\" -> \\\"http://127.0.0.1:{}\\\"\".format(public_url, port))"
      ]
    },
    {
      "cell_type": "code",
      "execution_count": 10,
      "metadata": {
        "cellView": "form",
        "id": "jlxfJiBSZ6ju",
        "colab": {
          "base_uri": "https://localhost:8080/"
        },
        "outputId": "6d231e47-95bb-4969-ae82-d904d6cabf72"
      },
      "outputs": [
        {
          "output_type": "execute_result",
          "data": {
            "text/plain": [
              "(<pyspark.sql.session.SparkSession at 0x7f0eab2a14e0>,\n",
              " [('spark.app.id', 'local-1684224759796'),\n",
              "  ('spark.executor.extraJavaOptions',\n",
              "   '-Djava.net.preferIPv6Addresses=false -XX:+IgnoreUnrecognizedVMOptions --add-opens=java.base/java.lang=ALL-UNNAMED --add-opens=java.base/java.lang.invoke=ALL-UNNAMED --add-opens=java.base/java.lang.reflect=ALL-UNNAMED --add-opens=java.base/java.io=ALL-UNNAMED --add-opens=java.base/java.net=ALL-UNNAMED --add-opens=java.base/java.nio=ALL-UNNAMED --add-opens=java.base/java.util=ALL-UNNAMED --add-opens=java.base/java.util.concurrent=ALL-UNNAMED --add-opens=java.base/java.util.concurrent.atomic=ALL-UNNAMED --add-opens=java.base/sun.nio.ch=ALL-UNNAMED --add-opens=java.base/sun.nio.cs=ALL-UNNAMED --add-opens=java.base/sun.security.action=ALL-UNNAMED --add-opens=java.base/sun.util.calendar=ALL-UNNAMED --add-opens=java.security.jgss/sun.security.krb5=ALL-UNNAMED -Djdk.reflect.useDirectMethodHandle=false -XX:+UseG1GC'),\n",
              "  ('spark.app.name', 'PySparkTutorial'),\n",
              "  ('spark.driver.host', '2fdd16d5efb2'),\n",
              "  ('spark.executor.id', 'driver'),\n",
              "  ('spark.app.submitTime', '1684224755336'),\n",
              "  ('spark.driver.port', '46673'),\n",
              "  ('spark.app.startTime', '1684224755727'),\n",
              "  ('spark.driver.extraJavaOptions',\n",
              "   '-Djava.net.preferIPv6Addresses=false -XX:+IgnoreUnrecognizedVMOptions --add-opens=java.base/java.lang=ALL-UNNAMED --add-opens=java.base/java.lang.invoke=ALL-UNNAMED --add-opens=java.base/java.lang.reflect=ALL-UNNAMED --add-opens=java.base/java.io=ALL-UNNAMED --add-opens=java.base/java.net=ALL-UNNAMED --add-opens=java.base/java.nio=ALL-UNNAMED --add-opens=java.base/java.util=ALL-UNNAMED --add-opens=java.base/java.util.concurrent=ALL-UNNAMED --add-opens=java.base/java.util.concurrent.atomic=ALL-UNNAMED --add-opens=java.base/sun.nio.ch=ALL-UNNAMED --add-opens=java.base/sun.nio.cs=ALL-UNNAMED --add-opens=java.base/sun.security.action=ALL-UNNAMED --add-opens=java.base/sun.util.calendar=ALL-UNNAMED --add-opens=java.security.jgss/sun.security.krb5=ALL-UNNAMED -Djdk.reflect.useDirectMethodHandle=false'),\n",
              "  ('spark.ui.port', '4050'),\n",
              "  ('spark.rdd.compress', 'True'),\n",
              "  ('spark.driver.memory', '12G'),\n",
              "  ('spark.serializer.objectStreamReset', '100'),\n",
              "  ('spark.master', 'local[*]'),\n",
              "  ('spark.submit.pyFiles', ''),\n",
              "  ('spark.driver.maxResultSize', '100G'),\n",
              "  ('spark.submit.deployMode', 'client'),\n",
              "  ('spark.executor.memory', '12G'),\n",
              "  ('spark.ui.showConsoleProgress', 'true')])"
            ]
          },
          "metadata": {},
          "execution_count": 10
        }
      ],
      "source": [
        "#@title Check if everything is ok\n",
        "spark, sc._conf.getAll()\n"
      ]
    },
    {
      "cell_type": "markdown",
      "metadata": {
        "id": "VJeY9PpvaHUJ"
      },
      "source": [
        "# Data acquisition"
      ]
    },
    {
      "cell_type": "code",
      "execution_count": 11,
      "metadata": {
        "id": "icd2lj-RRvhU"
      },
      "outputs": [],
      "source": [
        "\n",
        "song_schema = StructType([\n",
        "    StructField(\"pos\", IntegerType(), True),\n",
        "    StructField(\"artist_name\", StringType(), True),\n",
        "    StructField(\"track_uri\", StringType(), True),\n",
        "    StructField(\"artist_uri\", StringType(), True),\n",
        "    StructField(\"track_name\", StringType(), True),\n",
        "    StructField(\"album_uri\", StringType(), True),\n",
        "    StructField(\"duration_ms\", LongType(), True),\n",
        "    StructField(\"album_name\", StringType(), True)\n",
        "])\n",
        "\n",
        "playlist_schema = StructType([\n",
        "    StructField(\"name\", StringType(), True),\n",
        "    StructField(\"collaborative\", StringType(), True),\n",
        "    StructField(\"pid\", IntegerType(), True),\n",
        "    StructField(\"modified_at\", IntegerType(), True),\n",
        "    StructField(\"num_tracks\", IntegerType(), True),\n",
        "    StructField(\"num_albums\", IntegerType(), True),\n",
        "    StructField(\"num_followers\", IntegerType(), True),\n",
        "    StructField(\"tracks\", ArrayType(song_schema), True),\n",
        "    StructField(\"num_edits\", IntegerType(), True),\n",
        "    StructField(\"duration_ms\", IntegerType(), True),\n",
        "    StructField(\"num_artists\", IntegerType(), True),\n",
        "])\n",
        "\n",
        "audio_features_schema = StructType([\n",
        "    StructField(\"danceability\", FloatType(), True),\n",
        "    StructField(\"energy\", FloatType(), True),\n",
        "    StructField(\"key\", IntegerType(), True),\n",
        "    StructField(\"loudness\", FloatType(), True),\n",
        "    StructField(\"mode\", IntegerType(), True),\n",
        "    StructField(\"speechiness\", FloatType(), True),\n",
        "    StructField(\"acousticness\", FloatType(), True),\n",
        "    StructField(\"instrumentalness\", FloatType(), True),\n",
        "    StructField(\"liveness\", FloatType(), True),\n",
        "    StructField(\"valence\", FloatType(), True),\n",
        "    StructField(\"tempo\", FloatType(), True),\n",
        "    StructField(\"type\", StringType(), True),\n",
        "    StructField(\"id\", StringType(), True),\n",
        "    StructField(\"uri\", StringType(), True),\n",
        "    StructField(\"track_href\", StringType(), True),\n",
        "    StructField(\"analysis_url\", StringType(), True),\n",
        "    StructField(\"duration_ms\", LongType(), True),\n",
        "    StructField(\"time_signature\", IntegerType(), True)\n",
        "])\n"
      ]
    },
    {
      "cell_type": "code",
      "execution_count": 12,
      "metadata": {
        "id": "BY_szFyLTps4"
      },
      "outputs": [],
      "source": [
        "playlist_df = spark.read.schema(playlist_schema).json(DATASET_FILE, multiLine=True)\n",
        "slice_df = spark.read.schema(playlist_schema).json(SMALL_SLICE_FLIE, multiLine=True)\n",
        "# slice_df = spark.read.schema(playlist_schema).json(LITTLE_SLICE_FILE, multiLine=True)\n",
        "audio_df = spark.read.schema(audio_features_schema).json(SPLITTED_SLICE_AUDIO_FEATURES, multiLine=True) #has less songs than expected"
      ]
    },
    {
      "cell_type": "code",
      "execution_count": 13,
      "metadata": {
        "id": "PEI_1vcSPxOG"
      },
      "outputs": [],
      "source": [
        "# slice_df.select(\"tracks\").first()"
      ]
    },
    {
      "cell_type": "code",
      "execution_count": 14,
      "metadata": {
        "id": "gnNiOotq3p3f"
      },
      "outputs": [],
      "source": [
        "# slice_df.show()"
      ]
    },
    {
      "cell_type": "markdown",
      "metadata": {
        "id": "WaSyTUepySNu"
      },
      "source": [
        "# User-Based Collaborative Filtering\n",
        "Note: The users are the playlists, the items are the songs and the ratings are 0 if the song is not in the playlist, 1 otherwise.\n",
        "\n",
        "We have to define a function $sim(u,v)$ that defines the similarity between two users based on their ratings.\n",
        "\n",
        "We represent the ratings $r_u \\in \\mathbb{R}^n$ as the $n$ dimensional vector that represents the ratings of the user $u$, where $n$ is the number of total songs in the dataset.\n",
        "\n",
        "As the similarity function we can use Jaccard similarity.\n",
        "\\begin{equation}\n",
        "sim(u,v) = J(r_u, r_v) = \\frac{|r_u \\cap r_v|}{|r_u \\cup r_v|}\n",
        "\\end{equation}\n",
        "\n",
        "Jaccard similarity ignores rating values, but we don't care here since the ratings are binary. In case of discrete value ratings we can use cosine similarity, or better pearson's correlation.\n",
        "\n",
        "Done that, and defined as ${U^k}$ the neighborhood of $u$ ($k$ most similar users to $u$), we define the set of items rated by $u$'s neighborhood as\n",
        "\n",
        "\\begin{equation}\n",
        "I^k = \\{i \\in I : \\mathbf{r_{u,i}} \\downarrow \\land u \\in U^k\\}\n",
        "\\end{equation}\n",
        "\n",
        "The rating for the item $i$ to the user $u$ will just be $\\mathbf{r_u[i]}$."
      ]
    },
    {
      "cell_type": "code",
      "execution_count": 15,
      "metadata": {
        "id": "Ym9TWjvkGGOa"
      },
      "outputs": [],
      "source": [
        "RATING_VECTOR_FILE_PATH = os.path.join(SAVED_DFS_PATH, \"playlist_rating_df.parquet\")\n",
        "PLAYLIST_EMBEDDINGS = os.path.join(SAVED_DFS_PATH, \"playlist_embeddings.parquet\")\n",
        "FULL_PLAYLIST_EMBEDDINGS = os.path.join(SAVED_DFS_PATH, \"full_playlist_embeddings.parquet\")"
      ]
    },
    {
      "cell_type": "code",
      "execution_count": 16,
      "metadata": {
        "id": "-XqhUqgS1Qp0"
      },
      "outputs": [],
      "source": [
        "def dense_to_sparse(dense: DenseVector) -> SparseVector:\n",
        "  nonzero_indices = np.nonzero(np.array(dense))[0]\n",
        "  nonzero_values = np.array(dense)[nonzero_indices]\n",
        "  sparse_vector = SparseVector(len(dense), nonzero_indices.tolist(), nonzero_values.tolist())\n",
        "  return sparse_vector"
      ]
    },
    {
      "cell_type": "code",
      "execution_count": 17,
      "metadata": {
        "id": "6tvZAyYD4NXA"
      },
      "outputs": [],
      "source": [
        "def get_all_songs(playlist_df: DataFrame, set_in_playlist: bool = False) -> DataFrame:\n",
        "   all_songs = playlist_df.select(explode(\"tracks.track_uri\").alias(\"track_uri\")).distinct()\n",
        "   if set_in_playlist:\n",
        "     all_songs = all_songs.withColumn(\"in_playlist\", lit(1))\n",
        "   return all_songs\n",
        "  \n",
        "def get_songs_info(playlist_df: DataFrame, set_in_playlist: bool = False) -> DataFrame:\n",
        "   all_songs = playlist_df.select(explode(\"tracks\")).select(\"col.*\").drop(\"pos\").distinct()\n",
        "   if set_in_playlist:\n",
        "     all_songs = all_songs.withColumn(\"in_playlist\", lit(1))\n",
        "   return all_songs\n",
        "\n",
        "# songs_df = get_all_songs(slice_df)\n",
        "# songs_df.createOrReplaceTempView(\"SONGS\")\n",
        "\n",
        "# songs_df = spark.sql(\"\"\"\n",
        "# SELECT \n",
        "#     row_number() OVER (\n",
        "#         PARTITION BY '' \n",
        "#         ORDER BY '' \n",
        "#     ) as pos,\n",
        "#     *\n",
        "# FROM \n",
        "#     SONGS\n",
        "# \"\"\")\n",
        "\n",
        "# songs_df = songs_df.sort(\"track_uri\")\n",
        "\n",
        "# songs_info_df = get_songs_info(slice_df)\n",
        "\n",
        "# songs_info_df = songs_info_df.join(songs_df, \"track_uri\", \"left\")\n",
        "\n",
        "# RATING_VECTOR_LENGTH = songs_df.count()"
      ]
    },
    {
      "cell_type": "code",
      "source": [
        "songs_info_df = get_songs_info(slice_df)\n",
        "songs_info_df.createOrReplaceTempView(\"SONGS_INFO\")\n",
        "\n",
        "songs_info_df = spark.sql(\"\"\"\n",
        "SELECT \n",
        "    row_number() OVER (\n",
        "        PARTITION BY '' \n",
        "        ORDER BY '' \n",
        "    ) as pos,\n",
        "    *\n",
        "FROM \n",
        "    SONGS_INFO\n",
        "\"\"\")\n",
        "\n",
        "songs_info_df = songs_info_df.sort(\"track_uri\")\n",
        "\n",
        "songs_df = songs_info_df.select(\"pos\", \"track_uri\")\n",
        "\n",
        "RATING_VECTOR_LENGTH = songs_df.count()"
      ],
      "metadata": {
        "id": "OEE3KZZfypSY"
      },
      "execution_count": 18,
      "outputs": []
    },
    {
      "cell_type": "code",
      "source": [
        "# songs_info_df.show()\n",
        "# songs_df.show()"
      ],
      "metadata": {
        "colab": {
          "base_uri": "https://localhost:8080/"
        },
        "id": "oVf4OZFDeq3J",
        "outputId": "e784a65e-b4b5-4deb-f709-bd4255b06952"
      },
      "execution_count": 19,
      "outputs": [
        {
          "output_type": "stream",
          "name": "stdout",
          "text": [
            "+------+--------------------+--------------------+--------------------+--------------------+--------------------+-----------+--------------------+\n",
            "|   pos|         artist_name|           track_uri|          artist_uri|          track_name|           album_uri|duration_ms|          album_name|\n",
            "+------+--------------------+--------------------+--------------------+--------------------+--------------------+-----------+--------------------+\n",
            "|154210| Two Steps from Hell|spotify:track:000...|spotify:artist:2q...|           Nightwood|spotify:album:1BD...|     189638|Colin Frake On Fi...|\n",
            "|354525|         Little Simz|spotify:track:000...|spotify:artist:6e...|Mandarin Oranges ...|spotify:album:32R...|     198000|             E.D.G.E|\n",
            "|459225|           Celly Cel|spotify:track:000...|spotify:artist:6k...|         Shady World|spotify:album:6LO...|     155238|      The Lost Tapes|\n",
            "|659120|El Poder De Zacat...|spotify:track:000...|spotify:artist:3n...|         Abeja Miope|spotify:album:18X...|     140360|     Y las Mariposas|\n",
            "|308103|            Joe Pass|spotify:track:000...|spotify:artist:4D...|        Li'l Darlin'|spotify:album:2zm...|     227626|            Portrait|\n",
            "|522914|         Jens Lekman|spotify:track:000...|spotify:artist:7t...|The Cold Swedish ...|spotify:album:2fP...|     229880|When I Said I Wan...|\n",
            "|480371|          Gucci Mane|spotify:track:000...|spotify:artist:13...|Interlude: Toilet...|spotify:album:0Ve...|      74040|The State vs. Rad...|\n",
            "|500594|         Arms Akimbo|spotify:track:000...|spotify:artist:5v...|              Simmer|spotify:album:23s...|     251000|           Vignettes|\n",
            "|372178|    The Ghost Inside|spotify:track:000...|spotify:artist:6k...|               Mercy|spotify:album:75k...|     256478|          Dear Youth|\n",
            "|265342|         The Coronas|spotify:track:000...|spotify:artist:2t...|If I Gave Myself ...|spotify:album:662...|     214506|        The Long Way|\n",
            "|609938|           Nick Lowe|spotify:track:000...|spotify:artist:3B...|   All Men Are Liars|spotify:album:2F8...|     204253|Quiet Please... T...|\n",
            "|650328|               Heart|spotify:track:000...|spotify:artist:34...|(Love Me Like Mus...|spotify:album:2N0...|     200626|     Dreamboat Annie|\n",
            "|536620|                ZAYN|spotify:track:000...|spotify:artist:5Z...|      Still Got Time|spotify:album:2kG...|     188490|      Still Got Time|\n",
            "|471589|        Luan Santana|spotify:track:000...|spotify:artist:3q...|Eu, Você, O Mar e...|spotify:album:4Qi...|     187118|                1977|\n",
            "|222220| Bombay Bicycle Club|spotify:track:001...|spotify:artist:3p...|    It's Alright Now|spotify:album:5oK...|     249946|So Long, See You ...|\n",
            "|656028|              iceage|spotify:track:001...|spotify:artist:03...|       On My Fingers|spotify:album:2zF...|     314000|Plowing Into the ...|\n",
            "|570987|             Stupead|spotify:track:001...|spotify:artist:3j...|          By The Sun|spotify:album:38c...|     210732|          By The Sun|\n",
            "|282613|         Deaf Havana|spotify:track:001...|spotify:artist:0e...|Subterranean Bull...|spotify:album:4Vf...|     203733|           Old Souls|\n",
            "|142241|     Amindi K. Fro$t|spotify:track:001...|spotify:artist:3z...|           Wet Jeans|spotify:album:7pZ...|     205255|           Wet Jeans|\n",
            "|198521|           Taj Mahal|spotify:track:001...|spotify:artist:1a...|She Knows How To ...|spotify:album:3NF...|     160106|               TajMo|\n",
            "+------+--------------------+--------------------+--------------------+--------------------+--------------------+-----------+--------------------+\n",
            "only showing top 20 rows\n",
            "\n",
            "+------+--------------------+\n",
            "|   pos|           track_uri|\n",
            "+------+--------------------+\n",
            "|154210|spotify:track:000...|\n",
            "|354525|spotify:track:000...|\n",
            "|459225|spotify:track:000...|\n",
            "|659120|spotify:track:000...|\n",
            "|308103|spotify:track:000...|\n",
            "|522914|spotify:track:000...|\n",
            "|480371|spotify:track:000...|\n",
            "|500594|spotify:track:000...|\n",
            "|372178|spotify:track:000...|\n",
            "|265342|spotify:track:000...|\n",
            "|609938|spotify:track:000...|\n",
            "|650328|spotify:track:000...|\n",
            "|536620|spotify:track:000...|\n",
            "|471589|spotify:track:000...|\n",
            "|222220|spotify:track:001...|\n",
            "|656028|spotify:track:001...|\n",
            "|570987|spotify:track:001...|\n",
            "|282613|spotify:track:001...|\n",
            "|142241|spotify:track:001...|\n",
            "|198521|spotify:track:001...|\n",
            "+------+--------------------+\n",
            "only showing top 20 rows\n",
            "\n"
          ]
        }
      ]
    },
    {
      "cell_type": "markdown",
      "source": [
        "Preprocessing the dataframe in order to associate to each track_uri an integer, that will represent the position of the track in the rating_vector. This is useful in order to avoid doing a lot of joins when generating the rating_vectors."
      ],
      "metadata": {
        "id": "X5iG9Mus6VWy"
      }
    },
    {
      "cell_type": "code",
      "source": [
        "# def map_track_df_to_pos(playlist_df: DataFrame, mapping: DataFrame) -> List[DataFrame]:\n",
        "#   songs_df_list = [get_all_songs(spark.createDataFrame([row])) for row in tqdm(slice_df.collect(), desc=\"Creating list of dataframes\")]\n",
        "#   track_uri_to_id = songs_df.select('track_uri', 'pos').rdd.collectAsMap()\n",
        "#   track_uri_to_id_udf = udf(lambda x: track_uri_to_id.get(x), IntegerType())\n",
        "#   songs_df_mapped_list = []\n",
        "\n",
        "#   for df in tqdm(songs_df_list, desc=\"Mapping uris to pos\"):\n",
        "#       df = df.withColumn('pos', track_uri_to_id_udf(col('track_uri')))\n",
        "#       songs_df_mapped_list.append(df)\n",
        "  \n",
        "#   return songs_df_mapped_list\n",
        "\n",
        "# songs_df_mapped_list = map_track_df_to_pos(slice_df, songs_df)"
      ],
      "metadata": {
        "id": "Zu7sLSmn_QW9"
      },
      "execution_count": 20,
      "outputs": []
    },
    {
      "cell_type": "code",
      "source": [
        "from pyspark.ml.linalg import VectorUDT\n",
        "from pyspark.sql.functions import col, udf\n",
        "from pyspark.sql.types import IntegerType, ArrayType\n",
        "\n",
        "def map_track_df_to_pos(playlist_df: DataFrame, mapping: DataFrame) -> DataFrame:\n",
        "    track_uri_to_id = songs_df.select('track_uri', 'pos').rdd.collectAsMap()\n",
        "\n",
        "    track_uri_to_id_udf = udf(lambda x: track_uri_to_id.get(x), IntegerType())\n",
        "\n",
        "    # Define a UDF to map track URIs to integer IDs within each element of the list\n",
        "    \n",
        "    def extract_vector(tracks):\n",
        "      pos_list = set()\n",
        "      for row in tracks:\n",
        "        uri = track_uri_to_id.get(row.track_uri)\n",
        "        pos_list.add(uri)\n",
        "\n",
        "      return SparseVector(RATING_VECTOR_LENGTH + 1, sorted(list(pos_list)), [1 for _ in pos_list])\n",
        "\n",
        "    map_track_uri_udf = udf(lambda tracks: extract_vector(tracks), returnType=VectorUDT())\n",
        "\n",
        "    # Apply the mapping UDF on the \"tracks\" column of the slice_df dataframe\n",
        "    mapped_df = playlist_df.withColumn('tracks', map_track_uri_udf(col('tracks')))\n",
        "\n",
        "    return mapped_df\n",
        "\n",
        "if not os.path.exists(PLAYLIST_EMBEDDINGS):\n",
        "  mapped_slice_df = map_track_df_to_pos(slice_df, songs_df)\n",
        "  mapped_slice_df.write.parquet(PLAYLIST_EMBEDDINGS)\n",
        "else:\n",
        "  mapped_slice_df = spark.read.parquet(PLAYLIST_EMBEDDINGS)\n"
      ],
      "metadata": {
        "id": "MFwQWIZ1Bddv"
      },
      "execution_count": 273,
      "outputs": []
    },
    {
      "cell_type": "code",
      "execution_count": 22,
      "metadata": {
        "id": "GDOER74y5WEJ",
        "cellView": "form"
      },
      "outputs": [],
      "source": [
        "#@title Old way of creating the rating vector dataframe\n",
        "# def _create_rating_df(playlist_row: Row, songs_df: DataFrame) -> DataFrame:\n",
        "#   \"\"\"\n",
        "#   Creates a dataframe that represents the \"ratings\" for a playlist in the dataframe\n",
        "#   \"\"\"\n",
        "#   playlist_row = spark.createDataFrame([playlist_row], playlist_schema)\n",
        "#   playlist_uris = get_all_songs(playlist_row)\n",
        "\n",
        "#   joined = songs_df.join(playlist_uris, on=\"track_uri\", how=\"right\")\n",
        "#   return joined\n",
        "\n",
        "\n",
        "# def _check_songs_ordering(playlist_row: DataFrame, songs_df: DataFrame) -> bool:\n",
        "#   \"\"\"\n",
        "#   Returns a boolean that indicates if the ordering in the songs_df and rating_df is the same\n",
        "#   \"\"\"\n",
        "#   playlist_row = spark.createDataFrame([playlist_row], playlist_schema)\n",
        "#   playlist_uris = get_all_songs(playlist_row, True).withColumnRenamed(\"in_playlist\", \"isin\")\n",
        "\n",
        "#   joined = songs_df.join(playlist_uris, on=\"track_uri\", how=\"right\")\n",
        "#   joined_left = songs_df.join(playlist_uris, on=\"track_uri\", how=\"left\").filter(\"isin == 1\")\n",
        "#   assert joined.collect() == joined_left.collect(), f\"The order of songs_df is different from the order of rating_df!\"\n",
        "\n",
        "# # def _extract_rating_vector(rating_df: DataFrame) -> SparseVector:\n",
        "# #   \"\"\"\n",
        "# #   Extracts the rating vectors for each playlist \n",
        "# #   \"\"\"\n",
        "# #   dense_vector = DenseVector([row.isin for row in rating_df.select(\"isin\").collect()])\n",
        "# #   return dense_to_sparse(dense_vector)\n",
        "\n",
        "# def _extrac_sparse_rating_vector(rating_df: DataFrame) -> SparseVector:\n",
        "#   indices = np.sort([row.pos for row in rating_df.collect()])\n",
        "#   return SparseVector(RATING_VECTOR_LENGTH, indices, np.ones(indices.shape[0]) )\n",
        "\n",
        "# def rating_vector_from_row(playlist_row: Row, songs_df: DataFrame):\n",
        "#   \"\"\"\n",
        "#   Pipelines togheter create_rating_df and extract_rating_vector.\n",
        "#   \"\"\"\n",
        "#   rating_df_1 = _create_rating_df(playlist_row, songs_df)\n",
        "#   rating_vector_1 = _extrac_sparse_rating_vector(rating_df_1)\n",
        "#   return rating_vector_1\n",
        "\n",
        "# # t1 = time.time() \n",
        "\n",
        "# # rating_vector_1 = rating_vector_from_row(slice_df.first(), songs_df)\n",
        "\n",
        "# # t2 = time.time()\n",
        "\n",
        "# # t2 - t1, rating_vector_1, type(rating_vector_1)"
      ]
    },
    {
      "cell_type": "code",
      "execution_count": 23,
      "metadata": {
        "id": "5Nhc0hwgDQ6X"
      },
      "outputs": [],
      "source": [
        "def jaccard_similarity(vector_1: SparseVector, vector_2: SparseVector) -> float:\n",
        "  # Convert SparseVectors to sets\n",
        "  set1 = set(vector_1.indices)\n",
        "  set2 = set(vector_2.indices)\n",
        "\n",
        "  # Calculate the intersection and union of the sets\n",
        "  intersection = len(set1.intersection(set2))\n",
        "  union = len(set1.union(set2))\n",
        "\n",
        "  # Calculate the similarity\n",
        "  similarity = intersection / union\n",
        "\n",
        "  return similarity"
      ]
    },
    {
      "cell_type": "code",
      "execution_count": 24,
      "metadata": {
        "id": "yuDooTJ4_7Pz",
        "cellView": "form"
      },
      "outputs": [],
      "source": [
        "#@title Old way of creating the ratinf vector dataframe pt.2\n",
        "# def create_rating_vectors_df(playlists_df: DataFrame) -> DataFrame:\n",
        "#   rating_vectors = []\n",
        "\n",
        "#   for playlist_row in tqdm(playlists_df.collect(), desc=\"Creating rating vectors\"):\n",
        "#     rating_vector = rating_vector_from_row(playlist_row, songs_df)\n",
        "#     new_row = Row(playlist_id=playlist_row.pid, rating_vector=rating_vector)\n",
        "#     rating_vectors.append([new_row])\n",
        "#   return spark.createDataFrame(rating_vectors)\n",
        "\n",
        "# if os.path.exists(RATING_VECTOR_FILE_PATH):\n",
        "#   # rv_schema = StructType([StructField('playlist_id', LongType(), True), StructField('rating_vector', pyspark.ml.linalg.VectorUDT(), True)])\n",
        "#   rating_vectors_df = spark.read.parquet(RATING_VECTOR_FILE_PATH)\n",
        "#   rv_df = rating_vectors_df.select(col(\"_1.playlist_id\").alias(\"playlist_id\"), col(\"_1.rating_vector\").alias(\"rating_vector\"))\n",
        "# else:\n",
        "#   rating_vectors_df = create_rating_vectors_df(slice_df)\n",
        "#   rating_vectors_df.write.parquet(RATING_VECTOR_FILE_PATH)"
      ]
    },
    {
      "cell_type": "markdown",
      "source": [
        "Creating a function that gets in input the playlist to continue, and returns a Dataframe that indicates its similarity with each other playlist in the dataset."
      ],
      "metadata": {
        "id": "dWMpoMHrpxxf"
      }
    },
    {
      "cell_type": "code",
      "source": [
        "mapped_slice_df.first()"
      ],
      "metadata": {
        "colab": {
          "base_uri": "https://localhost:8080/"
        },
        "id": "PQYLZnm3pxGj",
        "outputId": "d889ac93-fc43-47d9-f421-95cfad5208ea"
      },
      "execution_count": 25,
      "outputs": [
        {
          "output_type": "execute_result",
          "data": {
            "text/plain": [
              "Row(name='disney', collaborative='false', pid=1000, modified_at=1457827200, num_tracks=189, num_albums=16, num_followers=1, tracks=SparseVector(681806, {127: 1.0, 1904: 1.0, 2439: 1.0, 3437: 1.0, 4136: 1.0, 4941: 1.0, 6237: 1.0, 6362: 1.0, 8263: 1.0, 8606: 1.0, 9079: 1.0, 9696: 1.0, 9998: 1.0, 10676: 1.0, 10958: 1.0, 12712: 1.0, 13117: 1.0, 14708: 1.0, 15578: 1.0, 16236: 1.0, 16384: 1.0, 17407: 1.0, 17587: 1.0, 17970: 1.0, 18322: 1.0, 18395: 1.0, 19986: 1.0, 21024: 1.0, 21275: 1.0, 21652: 1.0, 22516: 1.0, 22918: 1.0, 22988: 1.0, 23837: 1.0, 24693: 1.0, 24803: 1.0, 24964: 1.0, 25323: 1.0, 26812: 1.0, 27807: 1.0, 31090: 1.0, 31091: 1.0, 31371: 1.0, 32346: 1.0, 32580: 1.0, 33508: 1.0, 33621: 1.0, 33761: 1.0, 35472: 1.0, 35787: 1.0, 35947: 1.0, 36552: 1.0, 36602: 1.0, 36745: 1.0, 36746: 1.0, 37777: 1.0, 39611: 1.0, 51029: 1.0, 54561: 1.0, 59119: 1.0, 61879: 1.0, 83930: 1.0, 89372: 1.0, 95237: 1.0, 97166: 1.0, 99267: 1.0, 99594: 1.0, 100077: 1.0, 102061: 1.0, 102527: 1.0, 103131: 1.0, 105560: 1.0, 105843: 1.0, 106768: 1.0, 106922: 1.0, 110568: 1.0, 124977: 1.0, 125862: 1.0, 126262: 1.0, 126858: 1.0, 131580: 1.0, 152241: 1.0, 153620: 1.0, 155209: 1.0, 155325: 1.0, 155787: 1.0, 160630: 1.0, 194555: 1.0, 196169: 1.0, 198926: 1.0, 199375: 1.0, 203383: 1.0, 212675: 1.0, 213538: 1.0, 213828: 1.0, 214448: 1.0, 216192: 1.0, 216805: 1.0, 217265: 1.0, 245488: 1.0, 245669: 1.0, 246679: 1.0, 248042: 1.0, 248542: 1.0, 248639: 1.0, 250022: 1.0, 337849: 1.0, 338847: 1.0, 342483: 1.0, 343285: 1.0, 343633: 1.0, 344569: 1.0, 344876: 1.0, 345054: 1.0, 346990: 1.0, 348198: 1.0, 348199: 1.0, 349213: 1.0, 349351: 1.0, 349674: 1.0, 351764: 1.0, 355232: 1.0, 355671: 1.0, 356989: 1.0, 357971: 1.0, 359540: 1.0, 361095: 1.0, 364071: 1.0, 366178: 1.0, 367616: 1.0, 368759: 1.0, 368875: 1.0, 370081: 1.0, 371555: 1.0, 371988: 1.0, 373006: 1.0, 373510: 1.0, 374413: 1.0, 377535: 1.0, 392560: 1.0, 393187: 1.0, 419888: 1.0, 430688: 1.0, 438122: 1.0, 439074: 1.0, 440368: 1.0, 441577: 1.0, 442769: 1.0, 443237: 1.0, 445270: 1.0, 446016: 1.0, 446338: 1.0, 446903: 1.0, 447329: 1.0, 447656: 1.0, 448675: 1.0, 450722: 1.0, 450804: 1.0, 451262: 1.0, 452532: 1.0, 490462: 1.0, 495910: 1.0, 497186: 1.0, 502299: 1.0, 502300: 1.0, 506287: 1.0, 508558: 1.0, 508979: 1.0, 511905: 1.0, 513628: 1.0, 516790: 1.0, 528209: 1.0, 540280: 1.0, 553058: 1.0, 556467: 1.0, 556703: 1.0, 584895: 1.0, 585637: 1.0, 587966: 1.0, 591810: 1.0, 591928: 1.0, 592525: 1.0, 592526: 1.0, 593183: 1.0, 593184: 1.0}), num_edits=4, duration_ms=31428282, num_artists=65)"
            ]
          },
          "metadata": {},
          "execution_count": 25
        }
      ]
    },
    {
      "cell_type": "code",
      "execution_count": 281,
      "metadata": {
        "id": "SGjEbkYTAI3h"
      },
      "outputs": [],
      "source": [
        "def create_similarity_df(input_vector: DataFrame, rating_vectors_df: DataFrame, similarityFunction: Callable) -> DataFrame:\n",
        "  rv_df_input = rating_vectors_df.crossJoin(input_vector)\n",
        "  similarity_udf = udf(similarityFunction, returnType='double')\n",
        "  result_df = rv_df_input.withColumn(\"similarity\", similarity_udf(rv_df_input[\"input_vector\"], rv_df_input[\"rating_vector\"]))\n",
        "  return result_df\n",
        "\n",
        "rv_df = mapped_slice_df.withColumnRenamed(\"tracks\", \"rating_vector\")\n",
        "#TODO: Just for test, we take the first playlist as the playlist to be continued\n",
        "first_playlist_vector = rv_df.limit(1).select(\"rating_vector\").withColumnRenamed(\"rating_vector\",\"input_vector\")\n",
        "result_df = create_similarity_df(first_playlist_vector, rv_df, jaccard_similarity)"
      ]
    },
    {
      "cell_type": "markdown",
      "metadata": {
        "id": "12CY_fuNFXKr"
      },
      "source": [
        "Curse of dimensionality! We can see that each playlist is very dissimilar from each other playlist.\n",
        "\n",
        "If we filter the playlists that have a strictly positive similarity with the input playlist, and order them by descending similarity, we can see that the name (that we assume is very informative for the content of the playlist) is very similar, meaning that the algorithm seems to work!"
      ]
    },
    {
      "cell_type": "code",
      "execution_count": 27,
      "metadata": {
        "id": "NrPRMP-rINkc",
        "colab": {
          "base_uri": "https://localhost:8080/"
        },
        "outputId": "42afedf5-9d16-426e-bbce-5f7990ea7a8a"
      },
      "outputs": [
        {
          "output_type": "stream",
          "name": "stdout",
          "text": [
            "+---------------+-------------+-----+-----------+----------+----------+-------------+--------------------+---------+-----------+-----------+--------------------+-------------------+\n",
            "|           name|collaborative|  pid|modified_at|num_tracks|num_albums|num_followers|       rating_vector|num_edits|duration_ms|num_artists|        input_vector|         similarity|\n",
            "+---------------+-------------+-----+-----------+----------+----------+-------------+--------------------+---------+-----------+-----------+--------------------+-------------------+\n",
            "|         disney|        false| 1000| 1457827200|       189|        16|            1|(681806,[127,1904...|        4|   31428282|         65|(681806,[127,1904...|                1.0|\n",
            "|         Disney|        false|34420| 1430784000|       179|        15|            1|(681806,[255,1904...|        3|   25533248|         54|(681806,[127,1904...|0.22635135135135134|\n",
            "|        Disney✨|        false|12990| 1450915200|       113|        32|            1|(681806,[1791,190...|        3|   20665774|         64|(681806,[127,1904...|0.18775510204081633|\n",
            "|         Disney|        false| 3323| 1391817600|       133|        20|            1|(681806,[4133,494...|        6|   23208277|         64|(681806,[127,1904...|0.16911764705882354|\n",
            "|         DISNEY|        false|44565| 1506470400|       179|        23|            1|(681806,[84,4443,...|        5|   26129019|         70|(681806,[127,1904...|0.16666666666666666|\n",
            "|  Disney Movies|        false|23038| 1399852800|       170|        16|            6|(681806,[1904,349...|        2|   25356294|         50|(681806,[127,1904...|0.16393442622950818|\n",
            "|Disney Princess|        false|65458| 1496793600|       159|        25|            1|(681806,[84,127,2...|        3|   26615932|         71|(681806,[127,1904...|0.16271186440677965|\n",
            "|         Disney|        false|50071| 1486080000|       154|        55|            1|(681806,[917,1791...|       16|   28494250|         95|(681806,[127,1904...|0.15862068965517243|\n",
            "|         disney|        false| 9718| 1467849600|        74|        28|            1|(681806,[127,4287...|        6|   14431883|         53|(681806,[127,1904...|            0.15625|\n",
            "|        Disney |        false|45621| 1469404800|       191|        60|            1|(681806,[126,127,...|       12|   35313420|        100|(681806,[127,1904...| 0.1518987341772152|\n",
            "|         DISNEY|        false|84889| 1410480000|       241|        23|            1|(681806,[255,1904...|        2|   38597440|         79|(681806,[127,1904...|0.14516129032258066|\n",
            "|         Disney|        false|22490| 1396396800|       245|        20|            1|(681806,[255,1904...|        3|   37871643|         66|(681806,[127,1904...|0.14506172839506173|\n",
            "|         DISNEY|        false|36245| 1479772800|        58|        24|            1|(681806,[4941,494...|        4|   10831497|         39|(681806,[127,1904...|0.14285714285714285|\n",
            "|         Disney|        false|33505| 1453680000|        95|        34|            1|(681806,[4941,668...|        8|   16193877|         69|(681806,[127,1904...|0.13360323886639677|\n",
            "|      disney!!!|        false|57499| 1423526400|       228|        35|            1|(681806,[255,1791...|        2|   40446966|         82|(681806,[127,1904...| 0.1278409090909091|\n",
            "|         Disney|        false|10604| 1419811200|       124|        13|            1|(681806,[3437,349...|        2|   20226973|         39|(681806,[127,1904...|0.12773722627737227|\n",
            "|        Disney |        false|21144| 1488153600|       112|        38|            1|(681806,[84,4443,...|        5|   17514563|         87|(681806,[127,1904...|0.12643678160919541|\n",
            "|         Disney|        false|27458| 1411084800|        56|        13|            1|(681806,[4941,860...|        5|    8923982|         41|(681806,[127,1904...| 0.1261682242990654|\n",
            "|         Disney|         true|69884| 1490918400|        49|        15|            3|(681806,[2439,860...|        9|    9143547|         34|(681806,[127,1904...|              0.125|\n",
            "|      Disney <3|        false|18810| 1404864000|       215|        25|            1|(681806,[255,1550...|        4|   36929082|         59|(681806,[127,1904...|0.12112676056338029|\n",
            "+---------------+-------------+-----+-----------+----------+----------+-------------+--------------------+---------+-----------+-----------+--------------------+-------------------+\n",
            "only showing top 20 rows\n",
            "\n"
          ]
        }
      ],
      "source": [
        "result_df.filter(\"similarity > 0\").orderBy(col(\"similarity\").desc()).show()"
      ]
    },
    {
      "cell_type": "markdown",
      "source": [
        "Now, in order to suggest some songs to continuate the input playlist, let's thake the. $K$ top most similar playlists"
      ],
      "metadata": {
        "id": "Ppy5-Y19swvG"
      }
    },
    {
      "cell_type": "code",
      "execution_count": 41,
      "metadata": {
        "id": "wNoSOnIqCLm8"
      },
      "outputs": [],
      "source": [
        "def get_top_k_results(playlist_pid: int, similarity_df: DataFrame, k: int = 20) -> DataFrame:\n",
        "  return similarity_df.filter( (col('pid') != playlist_pid)).orderBy(col(\"similarity\").desc()).limit(k)\n",
        "\n",
        "first_playlist_pid = rv_df.limit(1).select(\"pid\").first().pid\n",
        "top_k_results = get_top_k_results(first_playlist_pid, result_df)"
      ]
    },
    {
      "cell_type": "code",
      "source": [
        "top_k_results.show()"
      ],
      "metadata": {
        "id": "aajFVyNEs73j",
        "colab": {
          "base_uri": "https://localhost:8080/"
        },
        "outputId": "78740a42-3532-4160-db33-01d63cdcae58"
      },
      "execution_count": 42,
      "outputs": [
        {
          "output_type": "stream",
          "name": "stdout",
          "text": [
            "+---------------+-------------+-----+-----------+----------+----------+-------------+--------------------+---------+-----------+-----------+--------------------+-------------------+\n",
            "|           name|collaborative|  pid|modified_at|num_tracks|num_albums|num_followers|       rating_vector|num_edits|duration_ms|num_artists|        input_vector|         similarity|\n",
            "+---------------+-------------+-----+-----------+----------+----------+-------------+--------------------+---------+-----------+-----------+--------------------+-------------------+\n",
            "|         Disney|        false|34420| 1430784000|       179|        15|            1|(681806,[255,1904...|        3|   25533248|         54|(681806,[127,1904...|0.22635135135135134|\n",
            "|        Disney✨|        false|12990| 1450915200|       113|        32|            1|(681806,[1791,190...|        3|   20665774|         64|(681806,[127,1904...|0.18775510204081633|\n",
            "|         Disney|        false| 3323| 1391817600|       133|        20|            1|(681806,[4133,494...|        6|   23208277|         64|(681806,[127,1904...|0.16911764705882354|\n",
            "|         DISNEY|        false|44565| 1506470400|       179|        23|            1|(681806,[84,4443,...|        5|   26129019|         70|(681806,[127,1904...|0.16666666666666666|\n",
            "|  Disney Movies|        false|23038| 1399852800|       170|        16|            6|(681806,[1904,349...|        2|   25356294|         50|(681806,[127,1904...|0.16393442622950818|\n",
            "|Disney Princess|        false|65458| 1496793600|       159|        25|            1|(681806,[84,127,2...|        3|   26615932|         71|(681806,[127,1904...|0.16271186440677965|\n",
            "|         Disney|        false|50071| 1486080000|       154|        55|            1|(681806,[917,1791...|       16|   28494250|         95|(681806,[127,1904...|0.15862068965517243|\n",
            "|         disney|        false| 9718| 1467849600|        74|        28|            1|(681806,[127,4287...|        6|   14431883|         53|(681806,[127,1904...|            0.15625|\n",
            "|        Disney |        false|45621| 1469404800|       191|        60|            1|(681806,[126,127,...|       12|   35313420|        100|(681806,[127,1904...| 0.1518987341772152|\n",
            "|         DISNEY|        false|84889| 1410480000|       241|        23|            1|(681806,[255,1904...|        2|   38597440|         79|(681806,[127,1904...|0.14516129032258066|\n",
            "|         Disney|        false|22490| 1396396800|       245|        20|            1|(681806,[255,1904...|        3|   37871643|         66|(681806,[127,1904...|0.14506172839506173|\n",
            "|         DISNEY|        false|36245| 1479772800|        58|        24|            1|(681806,[4941,494...|        4|   10831497|         39|(681806,[127,1904...|0.14285714285714285|\n",
            "|         Disney|        false|33505| 1453680000|        95|        34|            1|(681806,[4941,668...|        8|   16193877|         69|(681806,[127,1904...|0.13360323886639677|\n",
            "|      disney!!!|        false|57499| 1423526400|       228|        35|            1|(681806,[255,1791...|        2|   40446966|         82|(681806,[127,1904...| 0.1278409090909091|\n",
            "|         Disney|        false|10604| 1419811200|       124|        13|            1|(681806,[3437,349...|        2|   20226973|         39|(681806,[127,1904...|0.12773722627737227|\n",
            "|        Disney |        false|21144| 1488153600|       112|        38|            1|(681806,[84,4443,...|        5|   17514563|         87|(681806,[127,1904...|0.12643678160919541|\n",
            "|         Disney|        false|27458| 1411084800|        56|        13|            1|(681806,[4941,860...|        5|    8923982|         41|(681806,[127,1904...| 0.1261682242990654|\n",
            "|         Disney|         true|69884| 1490918400|        49|        15|            3|(681806,[2439,860...|        9|    9143547|         34|(681806,[127,1904...|              0.125|\n",
            "|      Disney <3|        false|18810| 1404864000|       215|        25|            1|(681806,[255,1550...|        4|   36929082|         59|(681806,[127,1904...|0.12112676056338029|\n",
            "|    disney love|        false|57883| 1470700800|       167|        48|            1|(681806,[1550,179...|       10|   28566741|        112|(681806,[127,1904...| 0.1178343949044586|\n",
            "+---------------+-------------+-----+-----------+----------+----------+-------------+--------------------+---------+-----------+-----------+--------------------+-------------------+\n",
            "\n"
          ]
        }
      ]
    },
    {
      "cell_type": "markdown",
      "metadata": {
        "id": "0_eZCcOo7HCW"
      },
      "source": [
        "Making a prediction"
      ]
    },
    {
      "cell_type": "code",
      "source": [
        "# from pyspark.ml.linalg import VectorUDT\n",
        "\n",
        "# def add_sparse_vectors(accumulator: SparseVector, vector: SparseVector, weight: float) -> SparseVector:\n",
        "#     accumulator_vec = accumulator.toArray() \n",
        "#     array_2 = vector.toArray() * weight\n",
        "\n",
        "#     summed_array = accumulator_vec + array_2\n",
        "\n",
        "#     values = [value for value in summed_array if value != 0]\n",
        "#     sorted_indices = [index for index, value in enumerate(summed_array) if value != 0]\n",
        "#     return SparseVector(accumulator_vec.size, sorted_indices, values)\n",
        "\n",
        "# @udf(returnType=VectorUDT())\n",
        "# def accumulate_sparse_vectors(accumulator, rating_vector, similarity):\n",
        "#     summed_vector = add_sparse_vectors(accumulator, rating_vector, similarity)\n",
        "#     return summed_vector\n",
        "\n",
        "# df = top_k_results.withColumn('accumulated_vector', accumulate_sparse_vectors(top_k_results[\"rating_vector\"], top_k_results[\"rating_vector\"], top_k_results['similarity']))"
      ],
      "metadata": {
        "id": "ePbkSVa3ONgo"
      },
      "execution_count": 30,
      "outputs": []
    },
    {
      "cell_type": "markdown",
      "source": [
        "We want to obtain a single embedding for all the $K$ top most similar playlists, that will be the rating vector. We can then pick the indices of the $n$ top greatest values form this vector, and those will be the $n$ songs that we will reccomend.\n",
        "\n",
        "In order to aggregate the $k$ embeddings into a single one, I decided to take an average, weighted by the similarity value."
      ],
      "metadata": {
        "id": "nGUtRgGutIgZ"
      }
    },
    {
      "cell_type": "code",
      "source": [
        "#TODO: exclude the songs that already are in the playlist\n",
        "def accumulate_top_k_results(top_k_results: DataFrame):\n",
        "  accumulator = np.zeros(RATING_VECTOR_LENGTH + 1)\n",
        "  similarity_sum = 0\n",
        "  #TODO: maybe do it with a rdd.map to be more performant\n",
        "  top_k = top_k_results.collect()\n",
        "  for row in top_k:\n",
        "    accumulator += row.rating_vector.toArray() * row.similarity\n",
        "    similarity_sum += row.similarity\n",
        "  \n",
        "  accumulator /= similarity_sum\n",
        "  values = [value for value in accumulator if value != 0]\n",
        "  sorted_indices = [index for index, value in enumerate(accumulator) if value != 0]\n",
        "  return SparseVector(accumulator.size, sorted_indices, values)\n",
        "\n",
        "accumulated_vector = accumulate_top_k_results(top_k_results)"
      ],
      "metadata": {
        "id": "nDEnlGrCcOHp"
      },
      "execution_count": 103,
      "outputs": []
    },
    {
      "cell_type": "code",
      "source": [
        "# @udf(returnType=\"int\")\n",
        "# def compute_vector_len(rating_vector):\n",
        "#     return len(rating_vector.indices)\n",
        "# final_df = df.withColumn('accumulated_vector_len', compute_vector_len(df[\"rating_vector\"]))"
      ],
      "metadata": {
        "id": "d6U00q3oR_6t"
      },
      "execution_count": 32,
      "outputs": []
    },
    {
      "cell_type": "code",
      "source": [
        "# accumulated_vector = final_df.orderBy(col(\"accumulated_vector_len\").desc()).first().accumulated_vector"
      ],
      "metadata": {
        "id": "IsaCrFnuSori"
      },
      "execution_count": null,
      "outputs": []
    },
    {
      "cell_type": "code",
      "source": [
        "def get_top_n_values(vector: SparseVector, n:int = 10) -> List[Tuple[int, float]]:\n",
        "  elements = list(enumerate(vector.toArray()))\n",
        "  sorted_elements = sorted(elements, key=lambda x: x[1], reverse=True)\n",
        "  top_n_indices = [(index, confidence) for index, confidence in sorted_elements[:n]]\n",
        "  return top_n_indices\n",
        "\n",
        "top_n_reccomendations = get_top_n_values(accumulated_vector)"
      ],
      "metadata": {
        "id": "keTpUBIXTdHg"
      },
      "execution_count": 105,
      "outputs": []
    },
    {
      "cell_type": "code",
      "source": [
        "top_n_reccomendations"
      ],
      "metadata": {
        "id": "iE9TIsj5UGyM",
        "colab": {
          "base_uri": "https://localhost:8080/"
        },
        "outputId": "d16711f0-6bf6-4c51-fa73-db06c2d2e5ab"
      },
      "execution_count": 106,
      "outputs": [
        {
          "output_type": "execute_result",
          "data": {
            "text/plain": [
              "[(364737, 0.866605950361276),\n",
              " (18322, 0.8485493061139573),\n",
              " (343633, 0.8485493061139573),\n",
              " (373510, 0.8485493061139573),\n",
              " (344041, 0.84513808582077),\n",
              " (36962, 0.8245530907321501),\n",
              " (377909, 0.8108159417687045),\n",
              " (21652, 0.8095907772059491),\n",
              " (10958, 0.7976130554051545),\n",
              " (344569, 0.7976130554051545)]"
            ]
          },
          "metadata": {},
          "execution_count": 106
        }
      ]
    },
    {
      "cell_type": "code",
      "source": [
        "def convert_df_to_map(df: DataFrame) -> DataFrame:\n",
        "  return df\\\n",
        "  .withColumn('aggregated', \\\n",
        "              to_json(\n",
        "                  struct(\n",
        "                      \"artist_name\", \n",
        "                      \"track_uri\", \n",
        "                      \"artist_uri\", \n",
        "                      \"track_name\", \n",
        "                      \"album_uri\", \n",
        "                      \"duration_ms\", \n",
        "                      \"album_name\")\n",
        "                  )\n",
        "              ).select(\"pos\", \"aggregated\")\n",
        "              \n",
        "songs_info_map = convert_df_to_map(songs_info_df)"
      ],
      "metadata": {
        "id": "D3N3qOtAu8Pp"
      },
      "execution_count": 55,
      "outputs": []
    },
    {
      "cell_type": "code",
      "source": [
        "prediction_schema = StructType([\n",
        "     StructField('artist_name', StringType(), True),\n",
        "     StructField('track_uri', StringType(), True),\n",
        "     StructField('artist_uri', StringType(), True),\n",
        "     StructField('track_name', StringType(), True),\n",
        "     StructField('album_uri', StringType(), True),\n",
        "     StructField('duration_ms', LongType(), True),\n",
        "     StructField('album_name', StringType(), True),\n",
        "    StructField('confidence', FloatType(), True),\n",
        "     ])"
      ],
      "metadata": {
        "id": "F82HZEu6sZuY"
      },
      "execution_count": 70,
      "outputs": []
    },
    {
      "cell_type": "code",
      "source": [
        "import json\n",
        "#TODO: For now this works, but it's very slow, and since this has to be executed online,\n",
        "# consider to directly embed the song information inside the dataframe when computing the songs\n",
        "# to recommend.\n",
        "def recommendation_song_info(recommendation: List[Tuple[int, float]], songs_info_map) -> Row:\n",
        "  result = []\n",
        "  for index, confidence in tqdm(recommendation, desc=\"Extracting song info from recommendations...\"):\n",
        "    song_info_dict = json.loads(songs_info_map.lookup(index)[0])\n",
        "    song_info_dict.update({\"confidence\":float(confidence)})\n",
        "    result.append(Row(**song_info_dict))\n",
        "  return spark.createDataFrame(result, schema=prediction_schema)\n",
        "\n",
        "# songs_info = recommendation_song_info(top_n_reccomendations, songs_info_map.rdd)"
      ],
      "metadata": {
        "id": "ZJOyep5RUMGV"
      },
      "execution_count": 119,
      "outputs": []
    },
    {
      "cell_type": "markdown",
      "source": [
        "### Putting it all togheter\n",
        "We now define a single function that will get a playlist in input and will reccomend $n$ songs."
      ],
      "metadata": {
        "id": "CFmlqOAttu32"
      }
    },
    {
      "cell_type": "code",
      "source": [
        "#TODO: this now takes a playlist and extracts its PID, if a playlist is built from scratch the PID shouldn't be defined\n",
        "# A solution would be to pass the playlist row with the PID = Nan and then have a condition when extracting the PID. If Nan, ignore it\n",
        "def user_based_recommendation(playlist: DataFrame, mapped_slice_df: DataFrame, similarity_function: Callable, n:int = 50) -> DataFrame:\n",
        "  with tqdm(total=5, desc=\"Generating recommendations...\") as pbar:\n",
        "    rv_df = mapped_slice_df.withColumnRenamed(\"tracks\", \"rating_vector\") #TODO: Parse the rv_df before and then remove this\n",
        "    \n",
        "    #TODO: define the songs_df as input to the function\n",
        "    playlist_vector = map_track_df_to_pos(playlist, songs_df).select(\"tracks\").withColumnRenamed(\"tracks\", \"input_vector\")\n",
        "    similarity_df = create_similarity_df(playlist_vector, rv_df, jaccard_similarity)\n",
        "    pbar.update(1)\n",
        "\n",
        "    top_k_results = get_top_k_results(playlist.first().pid, similarity_df)\n",
        "    pbar.update(1)\n",
        "\n",
        "    accumulated_vector = accumulate_top_k_results(top_k_results)\n",
        "    pbar.update(1)\n",
        "\n",
        "    top_n_indices = get_top_n_values(accumulated_vector, n=n)\n",
        "    pbar.update(1)\n",
        "\n",
        "    recommended_songs_info = recommendation_song_info(top_n_indices, songs_info_map.rdd)\n",
        "    pbar.update(1)\n",
        "\n",
        "  return recommended_songs_info\n",
        "\n",
        "# playlist = slice_df.filter(\"pid == 1010\").limit(1)\n",
        "# final_recommendation = user_based_recommendation(playlist, mapped_slice_df, jaccard_similarity, n=5)"
      ],
      "metadata": {
        "id": "jfiQn5_rt827"
      },
      "execution_count": 292,
      "outputs": []
    },
    {
      "cell_type": "markdown",
      "source": [
        "## Performance Evaluation"
      ],
      "metadata": {
        "id": "eM7ErDxxt69B"
      }
    },
    {
      "cell_type": "markdown",
      "source": [
        "Let's load the test dataset, where there are playlists that have missing songs"
      ],
      "metadata": {
        "id": "a-xBFFWcPVFG"
      }
    },
    {
      "cell_type": "code",
      "source": [
        "# TEST_PLAYLISTS = os.path.join(GDRIVE_DATA_DIR, \"challenge_set.json\")\n",
        "# test_playlist_schema = StructType([\n",
        "#     StructField(\"name\", StringType(), True),\n",
        "#     StructField(\"num_holdouts\", IntegerType(), True),\n",
        "#     StructField(\"pid\", IntegerType(), True),\n",
        "#     StructField(\"num_tracks\", IntegerType(), True),\n",
        "#     StructField(\"tracks\", ArrayType(song_schema), True),\n",
        "#     StructField(\"num_samples\", IntegerType(), True)\n",
        "# ])\n",
        "# test_playlists = spark.read.schema(test_playlist_schema).json(TEST_PLAYLISTS, multiLine=True)"
      ],
      "metadata": {
        "id": "QNaN3ciYPcx1"
      },
      "execution_count": 254,
      "outputs": []
    },
    {
      "cell_type": "markdown",
      "source": [
        "Since we are not addressing the cold start problem, we will filter out all those playlists that do not contain any song"
      ],
      "metadata": {
        "id": "jbGeIExLQUx9"
      }
    },
    {
      "cell_type": "code",
      "source": [
        "# test_playlists.show()"
      ],
      "metadata": {
        "colab": {
          "base_uri": "https://localhost:8080/"
        },
        "id": "3Gb7Z3u8QUKl",
        "outputId": "ca3c5ff7-ffc6-4bf3-d9c3-e15cafb04404"
      },
      "execution_count": 255,
      "outputs": [
        {
          "output_type": "stream",
          "name": "stdout",
          "text": [
            "+--------------------+------------+----+----------+------+-----------+\n",
            "|                name|num_holdouts| pid|num_tracks|tracks|num_samples|\n",
            "+--------------------+------------+----+----------+------+-----------+\n",
            "|build/challenge/c...|        null|null|      null|  null|       null|\n",
            "+--------------------+------------+----+----------+------+-----------+\n",
            "\n"
          ]
        }
      ]
    },
    {
      "cell_type": "code",
      "source": [
        "def train_test_split(playlist: DataFrame):\n",
        "    songs = playlist.select(explode(\"tracks\")).select(\"col.*\")\n",
        "    train_df, test_df = songs.randomSplit([0.8, 0.2], seed=42)\n",
        "\n",
        "    row = playlist.collect()[0]\n",
        "\n",
        "    playlist_train = spark.createDataFrame(\n",
        "        [Row(\n",
        "            name=row.name,\n",
        "            collaborative=row.collaborative,\n",
        "            pid=row.pid,\n",
        "            modified_at=row.modified_at,\n",
        "            num_tracks=row.num_tracks,\n",
        "            num_albums=row.num_albums,\n",
        "            num_followers=row.num_followers,\n",
        "            tracks=train_df.collect(),\n",
        "            num_edits=row.num_edits,\n",
        "            duration_ms=row.duration_ms,\n",
        "            num_artists=row.num_artists,\n",
        "        )],\n",
        "        schema=playlist_schema,\n",
        "    )\n",
        "\n",
        "    playlist_test = spark.createDataFrame(\n",
        "        [Row(\n",
        "            name=row.name,\n",
        "            collaborative=row.collaborative,\n",
        "            pid=row.pid,\n",
        "            modified_at=row.modified_at,\n",
        "            num_tracks=row.num_tracks,\n",
        "            num_albums=row.num_albums,\n",
        "            num_followers=row.num_followers,\n",
        "            tracks=test_df.collect(),\n",
        "            num_edits=row.num_edits,\n",
        "            duration_ms=row.duration_ms,\n",
        "            num_artists=row.num_artists,\n",
        "        )],\n",
        "        schema=playlist_schema,\n",
        "    )\n",
        "    \n",
        "    return playlist_train, playlist_test\n"
      ],
      "metadata": {
        "id": "pyILOf4Z9DcD"
      },
      "execution_count": 265,
      "outputs": []
    },
    {
      "cell_type": "code",
      "source": [
        "playlist_to_recommend = slice_df.filter(\"pid == 1000\")\n",
        "playlist_train, playlist_test = train_test_split(playlist_to_recommend)"
      ],
      "metadata": {
        "id": "RavSMfeQwMlK"
      },
      "execution_count": 297,
      "outputs": []
    },
    {
      "cell_type": "code",
      "source": [
        "def precision_at_k(recommendations, ground_truth):\n",
        "    \"\"\"\n",
        "    Calculates precision at k for the recommendations.\n",
        "    \"\"\"\n",
        "    total_relevant = ground_truth.count()\n",
        "    recommended_relevant_tracks = recommendations.join(ground_truth, \"track_uri\").count()\n",
        "    # recommended_relevant_artist = recommendations.join(ground_truth, \"track_uri\").count()\n",
        "\n",
        "    precision = recommended_relevant_tracks / float(recommendations.count())\n",
        "    return precision"
      ],
      "metadata": {
        "id": "86dFBXK20uqu"
      },
      "execution_count": 132,
      "outputs": []
    },
    {
      "cell_type": "code",
      "source": [
        "ground_truth = playlist_test.select(explode(\"tracks\")).select(\"col.*\")"
      ],
      "metadata": {
        "id": "vtOrqZTeSVcx"
      },
      "execution_count": 298,
      "outputs": []
    },
    {
      "cell_type": "markdown",
      "source": [
        "Let's generate some recommendation for the train playlist"
      ],
      "metadata": {
        "id": "uQ0itPFuSFEN"
      }
    },
    {
      "cell_type": "code",
      "source": [
        "# playlist_train.show()"
      ],
      "metadata": {
        "id": "rS4KlgmKTSiY"
      },
      "execution_count": null,
      "outputs": []
    },
    {
      "cell_type": "code",
      "source": [
        "recommendations = user_based_recommendation(playlist_to_recommend, mapped_slice_df, jaccard_similarity, n=20)"
      ],
      "metadata": {
        "colab": {
          "base_uri": "https://localhost:8080/",
          "height": 49,
          "referenced_widgets": [
            "5c40f677b6074d68baba0eabbbc98b77",
            "fe3b7bc02bd7475494fa42f546017556",
            "dc1b25a620c542cbb92516c0d2cd7476",
            "52da3cc9d87240d0ac7ddd9a256cfc2d",
            "cd47a14b70b24afb90ba639a8ba4773f",
            "2d95a54c87584705a85d870cd4372808",
            "dc013ea143ba443fa6481b4344ded2d9",
            "571a29b7590a4ee1969bf83f37191119",
            "faa2f9268ecf4a71a2bc4758e081aa48",
            "81ac5927095c42b4810d319af9ca1837",
            "77df3dd4fe354b86903b8d622d280625"
          ]
        },
        "id": "6oMW8ltmSEVK",
        "outputId": "467b9c76-7bab-45a1-8196-c0b42984bbf2"
      },
      "execution_count": null,
      "outputs": [
        {
          "output_type": "display_data",
          "data": {
            "text/plain": [
              "Generating recommendations...:   0%|          | 0/5 [00:00<?, ?it/s]"
            ],
            "application/vnd.jupyter.widget-view+json": {
              "version_major": 2,
              "version_minor": 0,
              "model_id": "5c40f677b6074d68baba0eabbbc98b77"
            }
          },
          "metadata": {}
        }
      ]
    },
    {
      "cell_type": "code",
      "source": [
        "recommendations.show()"
      ],
      "metadata": {
        "id": "7c1MVedJcarz"
      },
      "execution_count": null,
      "outputs": []
    },
    {
      "cell_type": "code",
      "source": [
        "precision = precision_at_k(recommendations, ground_truth)"
      ],
      "metadata": {
        "id": "fQTgF3I70vd5"
      },
      "execution_count": null,
      "outputs": []
    },
    {
      "cell_type": "code",
      "source": [
        "precision"
      ],
      "metadata": {
        "id": "oFeeuj3l7ro3"
      },
      "execution_count": null,
      "outputs": []
    },
    {
      "cell_type": "markdown",
      "metadata": {
        "id": "oqfickiR9jDW"
      },
      "source": []
    },
    {
      "cell_type": "markdown",
      "metadata": {
        "id": "SqlejJ_MFrB9"
      },
      "source": [
        "# Fighting against the curse of dimensionality: Matrix Factorization"
      ]
    },
    {
      "cell_type": "markdown",
      "metadata": {
        "id": "gnioMF6_KGfr"
      },
      "source": [
        "We want to define $\\mathbf{x}_u \\in \\mathbb{R}^d$ $d$-dimensional vector that represents the user $u$, and $\\mathbf{w}_i \\in \\mathbb{R}^d$ vector that represent the item $i$.\n",
        "\n",
        "We then can estimate the rating of user $u$ for the item $i$ by computing\n",
        "\\begin{equation}\n",
        "\\hat{r}_{u, i}=\\mathbf{x}_u^T \\cdot \\mathbf{w}_i=\\sum_{j=1}^d x_{u, j} w_{j, i}\n",
        "\\end{equation}\n",
        "Or, in matrix notation,\n",
        "\n",
        "\\begin{equation}\n",
        "\\underbrace{R}_{m \\times n} =\n",
        "\\underbrace{X}_{m \\times d}\n",
        "\\underbrace{W^T}_{d \\times n}\n",
        "\\end{equation}\n",
        "\n",
        "### How to learn $X$ and $W$\n",
        "The matrix $R$ is partially known and filled with the observations inside the dataset $\\mathcal{D}$. In order to learn the latent factor representations $X$ and $W$, we minimize the following loss function:\n",
        "\\begin{equation}\n",
        "L(X, W)=\\sum_{(u, i) \\in \\mathcal{D}}\\underbrace{\\left(r_{u, i}-\\mathbf{x}_u^T \\cdot \\mathbf{w}_i\\right)^2}_{\\text{squared error term}}+\\underbrace{\\lambda\\left(\\sum_{u \\in \\mathcal{D}}\\left\\|\\mathbf{x}_u\\right\\|^2+\\sum_{i \\in \\mathcal{D}}\\left\\|\\mathbf{w}_i\\right\\|^2\\right)}_{\\text{regularization term}}\n",
        "\\end{equation}\n",
        "\n",
        "We can then minimize the loss using Stochastic Gradient Descent or Alternating Least Squares."
      ]
    },
    {
      "cell_type": "markdown",
      "metadata": {
        "id": "el7BsOEsjSgN"
      },
      "source": [
        "# Matrix Factorization\n",
        "Generate a matrix Y where each column represent a playlist and each row represent a song, the (i,j) entry will be 1 if the playlist contains the song, 0 otherwise."
      ]
    },
    {
      "cell_type": "code",
      "execution_count": null,
      "metadata": {
        "id": "-KsENF4IfRks"
      },
      "outputs": [],
      "source": [
        "# Throw error in order to not execute the following code\n",
        "raise ValueError()"
      ]
    },
    {
      "cell_type": "code",
      "execution_count": null,
      "metadata": {
        "id": "B1PEWA1Xjbb2"
      },
      "outputs": [],
      "source": [
        "import pyspark.sql.functions as f\n",
        "from pyspark.sql.functions import explode\n",
        "spark.conf.set(\"spark.sql.pivotMaxValues\", 1000000)\n",
        "\n",
        "from pyspark.ml.evaluation import RegressionEvaluator\n",
        "from pyspark.ml.recommendation import ALS\n",
        "from pyspark.sql import Row\n",
        "# Get a DataFrame of only the relevant columns from the playlist schema\n",
        "# playlists = slice_df.select(\"pid\", \"tracks.track_uri\")\n",
        "# playlists = playlists.select(\"pid\", explode(\"track_uri\").alias(\"song_uri\"))\n",
        "# playlists = playlists.withColumn(\"song_id\", dense_rank().over(Window.orderBy(\"song_uri\")))\n",
        "# plaulists = playlists.withColumn(\"rating\", lit(1))\n",
        "# playlists.count()\n",
        "\n",
        "from pyspark.sql.functions import expr\n"
      ]
    },
    {
      "cell_type": "code",
      "execution_count": null,
      "metadata": {
        "id": "tCEit6ZXgClg"
      },
      "outputs": [],
      "source": [
        "from pyspark.sql.functions import explode\n",
        "import random\n",
        "tracks_df = slice_df.select(\"pid\", explode(\"tracks\").alias(\"track\")).select(\"pid\", \"track.track_uri\")\n",
        "tracks_df = tracks_df.withColumn(\"rating\", lit(1))\n",
        "# tracks_df = tracks_df.withColumn(\"rating\", (rand() * 10 + 1).cast(\"integer\"))"
      ]
    },
    {
      "cell_type": "code",
      "execution_count": null,
      "metadata": {
        "id": "xzl4_KPigJyN"
      },
      "outputs": [],
      "source": [
        "tracks_df.show()"
      ]
    },
    {
      "cell_type": "code",
      "execution_count": null,
      "metadata": {
        "id": "CrNo-NacpGXC"
      },
      "outputs": [],
      "source": [
        "# # Explode the tracks array column into multiple rows\n",
        "# # tracks_df = slice_df.select(\"pid\", explode(\"tracks\").alias(\"track\"))\n",
        "# # tracks_df = slice_df.select(\"pid\", \"tracks\", \"tracks\")\n",
        "# tracks_df = slice_df.select(\"pid\", explode(\"tracks\").alias(\"track\")).select(\"pid\", \"track.track_uri\", \"track.pos\")\n",
        "\n",
        "# # Select relevant columns and add a rating column with value 1\n",
        "# playlist_track_df = tracks_df.withColumn(\"rating\", lit(1))\n",
        "\n",
        "# # Get distinct track_uri values and join with playlist_track_df\n",
        "# all_tracks_df = slice_df.select(explode(\"tracks\").alias(\"track\")).select(\"track.track_uri\").distinct()\n",
        "# all_playlists_df = slice_df.select(\"pid\").distinct()\n",
        "\n",
        "# all_against_all = all_tracks_df.join(all_playlists_df).distinct()\n",
        "\n",
        "# from pyspark.sql.functions import when, col\n",
        "\n",
        "# # playlist_track_rating_df = playlist_track_df.join(all_against_all, [\"pid\", \"track_uri\"], \"left_outer\") \\\n",
        "# #     .withColumn(\"rating\", when(col(\"pos\").isNull(), 0).otherwise(1))\n",
        "\n",
        "# playlist_track_rating_df = all_against_all.join(playlist_track_df, [\"pid\", \"track_uri\"], \"left_outer\") \\\n",
        "#     .withColumn(\"rating\", when(col(\"pos\").isNull(), 0).otherwise(1)) \\\n",
        "#     .drop(\"pos\")\n"
      ]
    },
    {
      "cell_type": "code",
      "execution_count": null,
      "metadata": {
        "id": "d_g71QpbzP9G"
      },
      "outputs": [],
      "source": [
        "playlist_track_rating_df = tracks_df.withColumn(\"song_id\", dense_rank().over(Window.orderBy(\"track_uri\")))"
      ]
    },
    {
      "cell_type": "code",
      "execution_count": null,
      "metadata": {
        "id": "DFR59iIwsuAv"
      },
      "outputs": [],
      "source": [
        "playlist_track_rating_df.show(truncate=False)"
      ]
    },
    {
      "cell_type": "code",
      "execution_count": null,
      "metadata": {
        "id": "0E86sNXYxTJP"
      },
      "outputs": [],
      "source": [
        "als = ALS(userCol=\"pid\", itemCol=\"song_id\", ratingCol=\"rating\", nonnegative=True, coldStartStrategy=\"drop\")"
      ]
    },
    {
      "cell_type": "code",
      "execution_count": null,
      "metadata": {
        "id": "hKxgkuM0GsVf"
      },
      "outputs": [],
      "source": [
        "from typing import Tuple\n",
        "import random\n",
        "\n",
        "def train_test_split(df: DataFrame, split_ratio: float, seed: Optional[int] = None) -> Tuple[DataFrame, DataFrame]:\n",
        "  random.seed(seed)\n",
        "  distinct_pids = df.select(\"pid\").distinct().rdd.map(lambda x: x[0]).collect()\n",
        "  random.shuffle(distinct_pids)\n",
        "  split_index = int(len(distinct_pids) * split_ratio)\n",
        "  train_pids = distinct_pids[:split_index]\n",
        "  test_pids = distinct_pids[split_index:]\n",
        "  train_df = df.filter(col(\"pid\").isin(train_pids))\n",
        "  test_df = df.filter(col(\"pid\").isin(test_pids))\n",
        "  return train_df, test_df\n",
        "\n"
      ]
    },
    {
      "cell_type": "code",
      "execution_count": null,
      "metadata": {
        "id": "Pf82Hstmxb7i"
      },
      "outputs": [],
      "source": [
        "training, test = playlist_track_rating_df.randomSplit([0.8, 0.2], seed=42)"
      ]
    },
    {
      "cell_type": "code",
      "execution_count": null,
      "metadata": {
        "id": "5r0g7uPzH19c"
      },
      "outputs": [],
      "source": [
        "model = als.fit(training)"
      ]
    },
    {
      "cell_type": "code",
      "execution_count": null,
      "metadata": {
        "id": "_S3oNC7AIFXY"
      },
      "outputs": [],
      "source": [
        "predictions = model.transform(test)"
      ]
    },
    {
      "cell_type": "code",
      "execution_count": null,
      "metadata": {
        "id": "QwciStIaibF-"
      },
      "outputs": [],
      "source": [
        "predictions.show()"
      ]
    },
    {
      "cell_type": "code",
      "execution_count": null,
      "metadata": {
        "id": "w_FWXza9ycMU"
      },
      "outputs": [],
      "source": [
        "evaluator = RegressionEvaluator(metricName=\"rmse\", labelCol=\"rating\",\n",
        "                                predictionCol=\"prediction\")\n",
        "rmse = evaluator.evaluate(predictions)"
      ]
    },
    {
      "cell_type": "code",
      "execution_count": null,
      "metadata": {
        "id": "FJfWDUMSh8Nd"
      },
      "outputs": [],
      "source": [
        "predictions.filter(col(\"prediction\") != \"NaN\").count(), predictions.filter(col(\"prediction\") == \"NaN\").count()"
      ]
    },
    {
      "cell_type": "code",
      "execution_count": null,
      "metadata": {
        "id": "47oQcRQdm-qy"
      },
      "outputs": [],
      "source": [
        "rmse"
      ]
    },
    {
      "cell_type": "code",
      "source": [
        "subset = playlist_track_rating_df.select(\"pid\").distinct().limit(1)\n",
        "subUserRecs = model.recommendForUserSubset(subset, 10)"
      ],
      "metadata": {
        "id": "q2eoCHXqLNU8"
      },
      "execution_count": null,
      "outputs": []
    },
    {
      "cell_type": "code",
      "source": [
        "subset.show()"
      ],
      "metadata": {
        "id": "Tya3FyOxLn0S"
      },
      "execution_count": null,
      "outputs": []
    },
    {
      "cell_type": "code",
      "source": [
        "subUserRecs.show(truncate=False)"
      ],
      "metadata": {
        "id": "u5lfCDhiLZjo"
      },
      "execution_count": null,
      "outputs": []
    },
    {
      "cell_type": "code",
      "source": [
        "def song_name_from_id(song_id: int, reverse_lookup: DataFrame) -> str:\n",
        "  return \n",
        "  \n",
        "def interpretRecommendation(recommended_result: DataFrame) -> str:\n",
        "  return"
      ],
      "metadata": {
        "id": "uyvBEVF8MP30"
      },
      "execution_count": null,
      "outputs": []
    },
    {
      "cell_type": "code",
      "execution_count": null,
      "metadata": {
        "id": "vMvzQsXnykMX"
      },
      "outputs": [],
      "source": [
        "userRecs = model.recommendForAllUsers(1).orderBy(\"recommendations\")\n",
        "userRecs.show(truncate=False)\n",
        "userRecs.count()"
      ]
    },
    {
      "cell_type": "code",
      "execution_count": null,
      "metadata": {
        "id": "kKrGgg35mjmS"
      },
      "outputs": [],
      "source": [
        "slice_df.filter(col(\"pid\") == 1710).select(explode(\"tracks.track_name\")).show()"
      ]
    },
    {
      "cell_type": "code",
      "execution_count": null,
      "metadata": {
        "id": "5mF1ERfgmyFU"
      },
      "outputs": [],
      "source": [
        "track_uris = playlist_track_rating_df.filter(col(\"song_id\") == 588).select(\"track_uri\")\n",
        "track_uris.first()"
      ]
    }
  ],
  "metadata": {
    "colab": {
      "provenance": [],
      "toc_visible": true,
      "collapsed_sections": [
        "X-s_eNiVaxhn",
        "SqlejJ_MFrB9",
        "el7BsOEsjSgN"
      ],
      "include_colab_link": true
    },
    "kernelspec": {
      "display_name": "Python 3",
      "name": "python3"
    },
    "language_info": {
      "name": "python"
    },
    "widgets": {
      "application/vnd.jupyter.widget-state+json": {
        "5c40f677b6074d68baba0eabbbc98b77": {
          "model_module": "@jupyter-widgets/controls",
          "model_name": "HBoxModel",
          "model_module_version": "1.5.0",
          "state": {
            "_dom_classes": [],
            "_model_module": "@jupyter-widgets/controls",
            "_model_module_version": "1.5.0",
            "_model_name": "HBoxModel",
            "_view_count": null,
            "_view_module": "@jupyter-widgets/controls",
            "_view_module_version": "1.5.0",
            "_view_name": "HBoxView",
            "box_style": "",
            "children": [
              "IPY_MODEL_fe3b7bc02bd7475494fa42f546017556",
              "IPY_MODEL_dc1b25a620c542cbb92516c0d2cd7476",
              "IPY_MODEL_52da3cc9d87240d0ac7ddd9a256cfc2d"
            ],
            "layout": "IPY_MODEL_cd47a14b70b24afb90ba639a8ba4773f"
          }
        },
        "fe3b7bc02bd7475494fa42f546017556": {
          "model_module": "@jupyter-widgets/controls",
          "model_name": "HTMLModel",
          "model_module_version": "1.5.0",
          "state": {
            "_dom_classes": [],
            "_model_module": "@jupyter-widgets/controls",
            "_model_module_version": "1.5.0",
            "_model_name": "HTMLModel",
            "_view_count": null,
            "_view_module": "@jupyter-widgets/controls",
            "_view_module_version": "1.5.0",
            "_view_name": "HTMLView",
            "description": "",
            "description_tooltip": null,
            "layout": "IPY_MODEL_2d95a54c87584705a85d870cd4372808",
            "placeholder": "​",
            "style": "IPY_MODEL_dc013ea143ba443fa6481b4344ded2d9",
            "value": "Generating recommendations...:   0%"
          }
        },
        "dc1b25a620c542cbb92516c0d2cd7476": {
          "model_module": "@jupyter-widgets/controls",
          "model_name": "FloatProgressModel",
          "model_module_version": "1.5.0",
          "state": {
            "_dom_classes": [],
            "_model_module": "@jupyter-widgets/controls",
            "_model_module_version": "1.5.0",
            "_model_name": "FloatProgressModel",
            "_view_count": null,
            "_view_module": "@jupyter-widgets/controls",
            "_view_module_version": "1.5.0",
            "_view_name": "ProgressView",
            "bar_style": "",
            "description": "",
            "description_tooltip": null,
            "layout": "IPY_MODEL_571a29b7590a4ee1969bf83f37191119",
            "max": 5,
            "min": 0,
            "orientation": "horizontal",
            "style": "IPY_MODEL_faa2f9268ecf4a71a2bc4758e081aa48",
            "value": 0
          }
        },
        "52da3cc9d87240d0ac7ddd9a256cfc2d": {
          "model_module": "@jupyter-widgets/controls",
          "model_name": "HTMLModel",
          "model_module_version": "1.5.0",
          "state": {
            "_dom_classes": [],
            "_model_module": "@jupyter-widgets/controls",
            "_model_module_version": "1.5.0",
            "_model_name": "HTMLModel",
            "_view_count": null,
            "_view_module": "@jupyter-widgets/controls",
            "_view_module_version": "1.5.0",
            "_view_name": "HTMLView",
            "description": "",
            "description_tooltip": null,
            "layout": "IPY_MODEL_81ac5927095c42b4810d319af9ca1837",
            "placeholder": "​",
            "style": "IPY_MODEL_77df3dd4fe354b86903b8d622d280625",
            "value": " 0/5 [00:00&lt;?, ?it/s]"
          }
        },
        "cd47a14b70b24afb90ba639a8ba4773f": {
          "model_module": "@jupyter-widgets/base",
          "model_name": "LayoutModel",
          "model_module_version": "1.2.0",
          "state": {
            "_model_module": "@jupyter-widgets/base",
            "_model_module_version": "1.2.0",
            "_model_name": "LayoutModel",
            "_view_count": null,
            "_view_module": "@jupyter-widgets/base",
            "_view_module_version": "1.2.0",
            "_view_name": "LayoutView",
            "align_content": null,
            "align_items": null,
            "align_self": null,
            "border": null,
            "bottom": null,
            "display": null,
            "flex": null,
            "flex_flow": null,
            "grid_area": null,
            "grid_auto_columns": null,
            "grid_auto_flow": null,
            "grid_auto_rows": null,
            "grid_column": null,
            "grid_gap": null,
            "grid_row": null,
            "grid_template_areas": null,
            "grid_template_columns": null,
            "grid_template_rows": null,
            "height": null,
            "justify_content": null,
            "justify_items": null,
            "left": null,
            "margin": null,
            "max_height": null,
            "max_width": null,
            "min_height": null,
            "min_width": null,
            "object_fit": null,
            "object_position": null,
            "order": null,
            "overflow": null,
            "overflow_x": null,
            "overflow_y": null,
            "padding": null,
            "right": null,
            "top": null,
            "visibility": null,
            "width": null
          }
        },
        "2d95a54c87584705a85d870cd4372808": {
          "model_module": "@jupyter-widgets/base",
          "model_name": "LayoutModel",
          "model_module_version": "1.2.0",
          "state": {
            "_model_module": "@jupyter-widgets/base",
            "_model_module_version": "1.2.0",
            "_model_name": "LayoutModel",
            "_view_count": null,
            "_view_module": "@jupyter-widgets/base",
            "_view_module_version": "1.2.0",
            "_view_name": "LayoutView",
            "align_content": null,
            "align_items": null,
            "align_self": null,
            "border": null,
            "bottom": null,
            "display": null,
            "flex": null,
            "flex_flow": null,
            "grid_area": null,
            "grid_auto_columns": null,
            "grid_auto_flow": null,
            "grid_auto_rows": null,
            "grid_column": null,
            "grid_gap": null,
            "grid_row": null,
            "grid_template_areas": null,
            "grid_template_columns": null,
            "grid_template_rows": null,
            "height": null,
            "justify_content": null,
            "justify_items": null,
            "left": null,
            "margin": null,
            "max_height": null,
            "max_width": null,
            "min_height": null,
            "min_width": null,
            "object_fit": null,
            "object_position": null,
            "order": null,
            "overflow": null,
            "overflow_x": null,
            "overflow_y": null,
            "padding": null,
            "right": null,
            "top": null,
            "visibility": null,
            "width": null
          }
        },
        "dc013ea143ba443fa6481b4344ded2d9": {
          "model_module": "@jupyter-widgets/controls",
          "model_name": "DescriptionStyleModel",
          "model_module_version": "1.5.0",
          "state": {
            "_model_module": "@jupyter-widgets/controls",
            "_model_module_version": "1.5.0",
            "_model_name": "DescriptionStyleModel",
            "_view_count": null,
            "_view_module": "@jupyter-widgets/base",
            "_view_module_version": "1.2.0",
            "_view_name": "StyleView",
            "description_width": ""
          }
        },
        "571a29b7590a4ee1969bf83f37191119": {
          "model_module": "@jupyter-widgets/base",
          "model_name": "LayoutModel",
          "model_module_version": "1.2.0",
          "state": {
            "_model_module": "@jupyter-widgets/base",
            "_model_module_version": "1.2.0",
            "_model_name": "LayoutModel",
            "_view_count": null,
            "_view_module": "@jupyter-widgets/base",
            "_view_module_version": "1.2.0",
            "_view_name": "LayoutView",
            "align_content": null,
            "align_items": null,
            "align_self": null,
            "border": null,
            "bottom": null,
            "display": null,
            "flex": null,
            "flex_flow": null,
            "grid_area": null,
            "grid_auto_columns": null,
            "grid_auto_flow": null,
            "grid_auto_rows": null,
            "grid_column": null,
            "grid_gap": null,
            "grid_row": null,
            "grid_template_areas": null,
            "grid_template_columns": null,
            "grid_template_rows": null,
            "height": null,
            "justify_content": null,
            "justify_items": null,
            "left": null,
            "margin": null,
            "max_height": null,
            "max_width": null,
            "min_height": null,
            "min_width": null,
            "object_fit": null,
            "object_position": null,
            "order": null,
            "overflow": null,
            "overflow_x": null,
            "overflow_y": null,
            "padding": null,
            "right": null,
            "top": null,
            "visibility": null,
            "width": null
          }
        },
        "faa2f9268ecf4a71a2bc4758e081aa48": {
          "model_module": "@jupyter-widgets/controls",
          "model_name": "ProgressStyleModel",
          "model_module_version": "1.5.0",
          "state": {
            "_model_module": "@jupyter-widgets/controls",
            "_model_module_version": "1.5.0",
            "_model_name": "ProgressStyleModel",
            "_view_count": null,
            "_view_module": "@jupyter-widgets/base",
            "_view_module_version": "1.2.0",
            "_view_name": "StyleView",
            "bar_color": null,
            "description_width": ""
          }
        },
        "81ac5927095c42b4810d319af9ca1837": {
          "model_module": "@jupyter-widgets/base",
          "model_name": "LayoutModel",
          "model_module_version": "1.2.0",
          "state": {
            "_model_module": "@jupyter-widgets/base",
            "_model_module_version": "1.2.0",
            "_model_name": "LayoutModel",
            "_view_count": null,
            "_view_module": "@jupyter-widgets/base",
            "_view_module_version": "1.2.0",
            "_view_name": "LayoutView",
            "align_content": null,
            "align_items": null,
            "align_self": null,
            "border": null,
            "bottom": null,
            "display": null,
            "flex": null,
            "flex_flow": null,
            "grid_area": null,
            "grid_auto_columns": null,
            "grid_auto_flow": null,
            "grid_auto_rows": null,
            "grid_column": null,
            "grid_gap": null,
            "grid_row": null,
            "grid_template_areas": null,
            "grid_template_columns": null,
            "grid_template_rows": null,
            "height": null,
            "justify_content": null,
            "justify_items": null,
            "left": null,
            "margin": null,
            "max_height": null,
            "max_width": null,
            "min_height": null,
            "min_width": null,
            "object_fit": null,
            "object_position": null,
            "order": null,
            "overflow": null,
            "overflow_x": null,
            "overflow_y": null,
            "padding": null,
            "right": null,
            "top": null,
            "visibility": null,
            "width": null
          }
        },
        "77df3dd4fe354b86903b8d622d280625": {
          "model_module": "@jupyter-widgets/controls",
          "model_name": "DescriptionStyleModel",
          "model_module_version": "1.5.0",
          "state": {
            "_model_module": "@jupyter-widgets/controls",
            "_model_module_version": "1.5.0",
            "_model_name": "DescriptionStyleModel",
            "_view_count": null,
            "_view_module": "@jupyter-widgets/base",
            "_view_module_version": "1.2.0",
            "_view_name": "StyleView",
            "description_width": ""
          }
        }
      }
    }
  },
  "nbformat": 4,
  "nbformat_minor": 0
}