{
  "cells": [
    {
      "cell_type": "markdown",
      "metadata": {
        "id": "view-in-github",
        "colab_type": "text"
      },
      "source": [
        "<a href=\"https://colab.research.google.com/github/DomizianoScarcelli/big-data-project/blob/main/user_based_CF.ipynb\" target=\"_parent\"><img src=\"https://colab.research.google.com/assets/colab-badge.svg\" alt=\"Open In Colab\"/></a>"
      ]
    },
    {
      "cell_type": "markdown",
      "metadata": {
        "id": "ySOgYrVKaDjm"
      },
      "source": [
        "# Config"
      ]
    },
    {
      "cell_type": "markdown",
      "metadata": {
        "id": "KOojFseRjVnN"
      },
      "source": [
        "# Configuration"
      ]
    },
    {
      "cell_type": "code",
      "execution_count": null,
      "metadata": {
        "id": "N3wVgRfHYoOs",
        "colab": {
          "base_uri": "https://localhost:8080/"
        },
        "outputId": "4cc707b7-b500-41fa-8605-b038786529ea",
        "cellView": "form"
      },
      "outputs": [
        {
          "output_type": "stream",
          "name": "stdout",
          "text": [
            "Looking in indexes: https://pypi.org/simple, https://us-python.pkg.dev/colab-wheels/public/simple/\n",
            "Requirement already satisfied: pyspark in /usr/local/lib/python3.10/dist-packages (3.4.0)\n",
            "Requirement already satisfied: py4j==0.10.9.7 in /usr/local/lib/python3.10/dist-packages (from pyspark) (0.10.9.7)\n",
            "openjdk-8-jdk-headless is already the newest version (8u372-ga~us1-0ubuntu1~20.04).\n",
            "0 upgraded, 0 newly installed, 0 to remove and 24 not upgraded.\n",
            "^C\n"
          ]
        }
      ],
      "source": [
        "#@title Download necessary libraries\n",
        "!pip install pyspark\n",
        "!pip install -U -q PyDrive \n",
        "!apt install openjdk-8-jdk-headless -qq"
      ]
    },
    {
      "cell_type": "code",
      "execution_count": null,
      "metadata": {
        "cellView": "form",
        "id": "CGHPv9OqY9MI"
      },
      "outputs": [],
      "source": [
        "#@title Imports\n",
        "import os\n",
        "import requests\n",
        "import pandas as pd\n",
        "import numpy as np\n",
        "import matplotlib.pyplot as plt\n",
        "import seaborn as sns\n",
        "%matplotlib inline\n",
        "import plotly\n",
        "\n",
        "import pyspark\n",
        "from pyspark.sql import *\n",
        "from pyspark.sql.types import StructType, StructField, StringType, IntegerType, ArrayType, FloatType, LongType\n",
        "from pyspark.sql.functions import *\n",
        "from pyspark import SparkContext, SparkConf\n",
        "from pyspark.ml.linalg import SparseVector, DenseVector\n",
        "\n",
        "from tqdm.notebook import tqdm\n",
        "import time\n",
        "import gc\n",
        "\n",
        "from google.colab import drive"
      ]
    },
    {
      "cell_type": "code",
      "execution_count": null,
      "metadata": {
        "id": "JF8LUBZeYiWP",
        "cellView": "form"
      },
      "outputs": [],
      "source": [
        "#@title Set up variables\n",
        "JAVA_HOME = \"/usr/lib/jvm/java-8-openjdk-amd64\"\n",
        "GDRIVE_DIR = \"/content/drive\"\n",
        "GDRIVE_HOME_DIR = GDRIVE_DIR + \"/MyDrive\"\n",
        "GDRIVE_DATA_DIR = GDRIVE_HOME_DIR + \"/Big Data/datasets\"\n",
        "DATASET_FILE = os.path.join(GDRIVE_DATA_DIR, \"pyspark_friendly_spotify_playlist_dataset\")\n",
        "AUDIO_FEATURES_FILE = os.path.join(GDRIVE_DATA_DIR, \"pyspark_track_features\")\n",
        "LITTLE_SLICE_FILE = os.path.join(GDRIVE_DATA_DIR, \"little_slice\")\n",
        "SMALL_SLICE_FLIE = os.path.join(GDRIVE_DATA_DIR, \"small_slice\")\n",
        "LITTLE_SLICE_AUDIO_FEATURES = os.path.join(GDRIVE_DATA_DIR, \"little_slice_audio_features\")\n",
        "MICRO_SLICE_AUDIO_FEATURES = os.path.join(GDRIVE_DATA_DIR, \"micro_slice_audio_features\")\n",
        "SPLITTED_SLICE_AUDIO_FEATURES = os.path.join(GDRIVE_DATA_DIR, \"splitted_pyspark_track_features\")\n",
        "SAVED_DFS_PATH = os.path.join(GDRIVE_DATA_DIR, \"saved_dfs\")\n",
        "RANDOM_SEED = 42 # for reproducibility\n",
        "os.environ[\"JAVA_HOME\"] = JAVA_HOME\n",
        "os.environ[\"PYSPARK_PYTHON\"]=\"python\""
      ]
    },
    {
      "cell_type": "code",
      "execution_count": null,
      "metadata": {
        "cellView": "form",
        "id": "4m7VztzdZgm6",
        "colab": {
          "base_uri": "https://localhost:8080/",
          "height": 264
        },
        "outputId": "4ac35ec8-d1d9-4178-81d2-36f90244e84f"
      },
      "outputs": [
        {
          "output_type": "error",
          "ename": "ValueError",
          "evalue": "ignored",
          "traceback": [
            "\u001b[0;31m---------------------------------------------------------------------------\u001b[0m",
            "\u001b[0;31mValueError\u001b[0m                                Traceback (most recent call last)",
            "\u001b[0;32m<ipython-input-67-378f77b53160>\u001b[0m in \u001b[0;36m<cell line: 12>\u001b[0;34m()\u001b[0m\n\u001b[1;32m     10\u001b[0m \u001b[0;34m\u001b[0m\u001b[0m\n\u001b[1;32m     11\u001b[0m \u001b[0;31m# Create the context\u001b[0m\u001b[0;34m\u001b[0m\u001b[0;34m\u001b[0m\u001b[0m\n\u001b[0;32m---> 12\u001b[0;31m \u001b[0msc\u001b[0m \u001b[0;34m=\u001b[0m \u001b[0mpyspark\u001b[0m\u001b[0;34m.\u001b[0m\u001b[0mSparkContext\u001b[0m\u001b[0;34m(\u001b[0m\u001b[0mconf\u001b[0m\u001b[0;34m=\u001b[0m\u001b[0mconf\u001b[0m\u001b[0;34m)\u001b[0m\u001b[0;34m\u001b[0m\u001b[0;34m\u001b[0m\u001b[0m\n\u001b[0m\u001b[1;32m     13\u001b[0m \u001b[0mspark\u001b[0m \u001b[0;34m=\u001b[0m \u001b[0mSparkSession\u001b[0m\u001b[0;34m.\u001b[0m\u001b[0mbuilder\u001b[0m\u001b[0;34m.\u001b[0m\u001b[0mgetOrCreate\u001b[0m\u001b[0;34m(\u001b[0m\u001b[0;34m)\u001b[0m\u001b[0;34m\u001b[0m\u001b[0;34m\u001b[0m\u001b[0m\n",
            "\u001b[0;32m/usr/local/lib/python3.10/dist-packages/pyspark/context.py\u001b[0m in \u001b[0;36m__init__\u001b[0;34m(self, master, appName, sparkHome, pyFiles, environment, batchSize, serializer, conf, gateway, jsc, profiler_cls, udf_profiler_cls, memory_profiler_cls)\u001b[0m\n\u001b[1;32m    196\u001b[0m             )\n\u001b[1;32m    197\u001b[0m \u001b[0;34m\u001b[0m\u001b[0m\n\u001b[0;32m--> 198\u001b[0;31m         \u001b[0mSparkContext\u001b[0m\u001b[0;34m.\u001b[0m\u001b[0m_ensure_initialized\u001b[0m\u001b[0;34m(\u001b[0m\u001b[0mself\u001b[0m\u001b[0;34m,\u001b[0m \u001b[0mgateway\u001b[0m\u001b[0;34m=\u001b[0m\u001b[0mgateway\u001b[0m\u001b[0;34m,\u001b[0m \u001b[0mconf\u001b[0m\u001b[0;34m=\u001b[0m\u001b[0mconf\u001b[0m\u001b[0;34m)\u001b[0m\u001b[0;34m\u001b[0m\u001b[0;34m\u001b[0m\u001b[0m\n\u001b[0m\u001b[1;32m    199\u001b[0m         \u001b[0;32mtry\u001b[0m\u001b[0;34m:\u001b[0m\u001b[0;34m\u001b[0m\u001b[0;34m\u001b[0m\u001b[0m\n\u001b[1;32m    200\u001b[0m             self._do_init(\n",
            "\u001b[0;32m/usr/local/lib/python3.10/dist-packages/pyspark/context.py\u001b[0m in \u001b[0;36m_ensure_initialized\u001b[0;34m(cls, instance, gateway, conf)\u001b[0m\n\u001b[1;32m    443\u001b[0m \u001b[0;34m\u001b[0m\u001b[0m\n\u001b[1;32m    444\u001b[0m                     \u001b[0;31m# Raise error if there is already a running Spark context\u001b[0m\u001b[0;34m\u001b[0m\u001b[0;34m\u001b[0m\u001b[0m\n\u001b[0;32m--> 445\u001b[0;31m                     raise ValueError(\n\u001b[0m\u001b[1;32m    446\u001b[0m                         \u001b[0;34m\"Cannot run multiple SparkContexts at once; \"\u001b[0m\u001b[0;34m\u001b[0m\u001b[0;34m\u001b[0m\u001b[0m\n\u001b[1;32m    447\u001b[0m                         \u001b[0;34m\"existing SparkContext(app=%s, master=%s)\"\u001b[0m\u001b[0;34m\u001b[0m\u001b[0;34m\u001b[0m\u001b[0m\n",
            "\u001b[0;31mValueError\u001b[0m: Cannot run multiple SparkContexts at once; existing SparkContext(app=PySparkTutorial, master=local[*]) created by __init__ at <ipython-input-4-378f77b53160>:12 "
          ]
        }
      ],
      "source": [
        "#@title Create the session\n",
        "conf = SparkConf().\\\n",
        "                set('spark.ui.port', \"4050\").\\\n",
        "                set('spark.executor.memory', '12G').\\\n",
        "                set('spark.driver.memory', '12G').\\\n",
        "                set('spark.driver.maxResultSize', '100G').\\\n",
        "                set(\"spark.executor.extraJavaOptions\", \"-XX:+UseG1GC\").\\\n",
        "                setAppName(\"PySparkTutorial\").\\\n",
        "                setMaster(\"local[*]\")\n",
        "\n",
        "# Create the context\n",
        "sc = pyspark.SparkContext(conf=conf)\n",
        "spark = SparkSession.builder.getOrCreate()"
      ]
    },
    {
      "cell_type": "code",
      "execution_count": null,
      "metadata": {
        "id": "vsX5d-YXZ2Ul"
      },
      "outputs": [],
      "source": [
        "drive.mount(GDRIVE_DIR, force_remount=True)"
      ]
    },
    {
      "cell_type": "markdown",
      "metadata": {
        "id": "X-s_eNiVaxhn"
      },
      "source": [
        "## Setup ngrok"
      ]
    },
    {
      "cell_type": "code",
      "execution_count": null,
      "metadata": {
        "id": "LrnLYquoarPa"
      },
      "outputs": [],
      "source": [
        "!pip install pyngrok"
      ]
    },
    {
      "cell_type": "code",
      "execution_count": null,
      "metadata": {
        "id": "K3IEuiyDawo3"
      },
      "outputs": [],
      "source": [
        "!ngrok authtoken 2NVN8kdoOnMVtlDGGWtwsbT5M3Q_2EJv2HE77FEXkz978Qtnq"
      ]
    },
    {
      "cell_type": "code",
      "execution_count": null,
      "metadata": {
        "id": "0qJN-lfta1ok"
      },
      "outputs": [],
      "source": [
        "from pyngrok import ngrok\n",
        "\n",
        "# Open a ngrok tunnel on the port 4050 where Spark is running\n",
        "port = '4050'\n",
        "public_url = ngrok.connect(port).public_url"
      ]
    },
    {
      "cell_type": "code",
      "execution_count": null,
      "metadata": {
        "id": "x15LhY-5a3Yi"
      },
      "outputs": [],
      "source": [
        "print(\"To access the Spark Web UI console, please click on the following link to the ngrok tunnel \\\"{}\\\" -> \\\"http://127.0.0.1:{}\\\"\".format(public_url, port))"
      ]
    },
    {
      "cell_type": "code",
      "execution_count": null,
      "metadata": {
        "cellView": "form",
        "id": "jlxfJiBSZ6ju"
      },
      "outputs": [],
      "source": [
        "#@title Check if everything is ok\n",
        "spark, sc._conf.getAll()\n"
      ]
    },
    {
      "cell_type": "markdown",
      "metadata": {
        "id": "VJeY9PpvaHUJ"
      },
      "source": [
        "# Data acquisition"
      ]
    },
    {
      "cell_type": "code",
      "execution_count": null,
      "metadata": {
        "id": "icd2lj-RRvhU"
      },
      "outputs": [],
      "source": [
        "\n",
        "song_schema = StructType([\n",
        "    StructField(\"pos\", IntegerType(), True),\n",
        "    StructField(\"artist_name\", StringType(), True),\n",
        "    StructField(\"track_uri\", StringType(), True),\n",
        "    StructField(\"artist_uri\", StringType(), True),\n",
        "    StructField(\"track_name\", StringType(), True),\n",
        "    StructField(\"album_uri\", StringType(), True),\n",
        "    StructField(\"duration_ms\", LongType(), True),\n",
        "    StructField(\"album_name\", StringType(), True)\n",
        "])\n",
        "\n",
        "playlist_schema = StructType([\n",
        "    StructField(\"name\", StringType(), True),\n",
        "    StructField(\"collaborative\", StringType(), True),\n",
        "    StructField(\"pid\", IntegerType(), True),\n",
        "    StructField(\"modified_at\", IntegerType(), True),\n",
        "    StructField(\"num_tracks\", IntegerType(), True),\n",
        "    StructField(\"num_albums\", IntegerType(), True),\n",
        "    StructField(\"num_followers\", IntegerType(), True),\n",
        "    StructField(\"tracks\", ArrayType(song_schema), True),\n",
        "    StructField(\"num_edits\", IntegerType(), True),\n",
        "    StructField(\"duration_ms\", IntegerType(), True),\n",
        "    StructField(\"num_artists\", IntegerType(), True),\n",
        "])\n",
        "\n",
        "audio_features_schema = StructType([\n",
        "    StructField(\"danceability\", FloatType(), True),\n",
        "    StructField(\"energy\", FloatType(), True),\n",
        "    StructField(\"key\", IntegerType(), True),\n",
        "    StructField(\"loudness\", FloatType(), True),\n",
        "    StructField(\"mode\", IntegerType(), True),\n",
        "    StructField(\"speechiness\", FloatType(), True),\n",
        "    StructField(\"acousticness\", FloatType(), True),\n",
        "    StructField(\"instrumentalness\", FloatType(), True),\n",
        "    StructField(\"liveness\", FloatType(), True),\n",
        "    StructField(\"valence\", FloatType(), True),\n",
        "    StructField(\"tempo\", FloatType(), True),\n",
        "    StructField(\"type\", StringType(), True),\n",
        "    StructField(\"id\", StringType(), True),\n",
        "    StructField(\"uri\", StringType(), True),\n",
        "    StructField(\"track_href\", StringType(), True),\n",
        "    StructField(\"analysis_url\", StringType(), True),\n",
        "    StructField(\"duration_ms\", LongType(), True),\n",
        "    StructField(\"time_signature\", IntegerType(), True)\n",
        "])\n"
      ]
    },
    {
      "cell_type": "code",
      "execution_count": null,
      "metadata": {
        "id": "BY_szFyLTps4"
      },
      "outputs": [],
      "source": [
        "playlist_df = spark.read.schema(playlist_schema).json(DATASET_FILE, multiLine=True)\n",
        "slice_df = spark.read.schema(playlist_schema).json(SMALL_SLICE_FLIE, multiLine=True)\n",
        "# slice_df = spark.read.schema(playlist_schema).json(LITTLE_SLICE_FILE, multiLine=True)\n",
        "audio_df = spark.read.schema(audio_features_schema).json(SPLITTED_SLICE_AUDIO_FEATURES, multiLine=True) #has less songs than expected"
      ]
    },
    {
      "cell_type": "code",
      "execution_count": null,
      "metadata": {
        "id": "PEI_1vcSPxOG"
      },
      "outputs": [],
      "source": [
        "# slice_df.select(\"tracks\").first()"
      ]
    },
    {
      "cell_type": "code",
      "execution_count": null,
      "metadata": {
        "id": "gnNiOotq3p3f"
      },
      "outputs": [],
      "source": [
        "# slice_df.show()"
      ]
    },
    {
      "cell_type": "markdown",
      "metadata": {
        "id": "WaSyTUepySNu"
      },
      "source": [
        "# User-Based Collaborative Filtering\n",
        "Note: The users are the playlists, the items are the songs and the ratings are 0 if the song is not in the playlist, 1 otherwise.\n",
        "\n",
        "We have to define a function $sim(u,v)$ that defines the similarity between two users based on their ratings.\n",
        "\n",
        "We represent the ratings $r_u \\in \\mathbb{R}^n$ as the $n$ dimensional vector that represents the ratings of the user $u$, where $n$ is the number of total songs in the dataset.\n",
        "\n",
        "As the similarity function we can use Jaccard similarity.\n",
        "\\begin{equation}\n",
        "sim(u,v) = J(r_u, r_v) = \\frac{|r_u \\cap r_v|}{|r_u \\cup r_v|}\n",
        "\\end{equation}\n",
        "\n",
        "Jaccard similarity ignores rating values, but we don't care here since the ratings are binary. In case of discrete value ratings we can use cosine similarity, or better pearson's correlation.\n",
        "\n",
        "Done that, and defined as ${U^k}$ the neighborhood of $u$ ($k$ most similar users to $u$), we define the set of items rated by $u$'s neighborhood as\n",
        "\n",
        "\\begin{equation}\n",
        "I^k = \\{i \\in I : \\mathbf{r_{u,i}} \\downarrow \\land u \\in U^k\\}\n",
        "\\end{equation}\n",
        "\n",
        "The rating for the item $i$ to the user $u$ will just be $\\mathbf{r_u[i]}$."
      ]
    },
    {
      "cell_type": "code",
      "source": [
        "from functools import wraps\n",
        "import time\n",
        "\n",
        "DEBUG = True\n",
        "def timeit(func):\n",
        "    @wraps(func)\n",
        "    def timeit_wrapper(*args, **kwargs):\n",
        "        start_time = time.perf_counter()\n",
        "        result = func(*args, **kwargs)\n",
        "        end_time = time.perf_counter()\n",
        "        total_time = end_time - start_time\n",
        "        print(f'Function {func.__name__} Took {total_time:.4f} seconds')\n",
        "        return result\n",
        "    return timeit_wrapper"
      ],
      "metadata": {
        "id": "dawV4e6yOCo4"
      },
      "execution_count": null,
      "outputs": []
    },
    {
      "cell_type": "code",
      "execution_count": null,
      "metadata": {
        "id": "Ym9TWjvkGGOa"
      },
      "outputs": [],
      "source": [
        "RATING_VECTOR_FILE_PATH = os.path.join(SAVED_DFS_PATH, \"playlist_rating_df.parquet\")\n",
        "PLAYLIST_EMBEDDINGS = os.path.join(SAVED_DFS_PATH, \"playlist_embeddings.parquet\")\n",
        "FULL_PLAYLIST_EMBEDDINGS = os.path.join(SAVED_DFS_PATH, \"full_playlist_embeddings.parquet\")"
      ]
    },
    {
      "cell_type": "code",
      "execution_count": null,
      "metadata": {
        "id": "-XqhUqgS1Qp0"
      },
      "outputs": [],
      "source": [
        "def dense_to_sparse(dense: DenseVector) -> SparseVector:\n",
        "  nonzero_indices = np.nonzero(np.array(dense))[0]\n",
        "  nonzero_values = np.array(dense)[nonzero_indices]\n",
        "  sparse_vector = SparseVector(len(dense), nonzero_indices.tolist(), nonzero_values.tolist())\n",
        "  return sparse_vector"
      ]
    },
    {
      "cell_type": "code",
      "execution_count": null,
      "metadata": {
        "id": "6tvZAyYD4NXA"
      },
      "outputs": [],
      "source": [
        "def get_all_songs(playlist_df: DataFrame, set_in_playlist: bool = False) -> DataFrame:\n",
        "   all_songs = playlist_df.select(explode(\"tracks.track_uri\").alias(\"track_uri\")).distinct()\n",
        "   if set_in_playlist:\n",
        "     all_songs = all_songs.withColumn(\"in_playlist\", lit(1))\n",
        "   return all_songs\n",
        "  \n",
        "def get_songs_info(playlist_df: DataFrame, set_in_playlist: bool = False) -> DataFrame:\n",
        "   all_songs = playlist_df.select(explode(\"tracks\")).select(\"col.*\").drop(\"pos\").distinct()\n",
        "   if set_in_playlist:\n",
        "     all_songs = all_songs.withColumn(\"in_playlist\", lit(1))\n",
        "   return all_songs"
      ]
    },
    {
      "cell_type": "code",
      "source": [
        "songs_info_df = get_songs_info(slice_df)\n",
        "songs_info_df.createOrReplaceTempView(\"SONGS_INFO\")\n",
        "\n",
        "songs_info_df = spark.sql(\"\"\"\n",
        "SELECT \n",
        "    row_number() OVER (\n",
        "        PARTITION BY '' \n",
        "        ORDER BY '' \n",
        "    ) as pos,\n",
        "    *\n",
        "FROM \n",
        "    SONGS_INFO\n",
        "\"\"\")\n",
        "\n",
        "songs_info_df = songs_info_df.sort(\"track_uri\")\n",
        "\n",
        "songs_df = songs_info_df.select(\"pos\", \"track_uri\")\n",
        "\n",
        "RATING_VECTOR_LENGTH = songs_df.count()"
      ],
      "metadata": {
        "id": "OEE3KZZfypSY"
      },
      "execution_count": null,
      "outputs": []
    },
    {
      "cell_type": "code",
      "source": [
        "# songs_info_df.show()\n",
        "# songs_df.show()"
      ],
      "metadata": {
        "id": "oVf4OZFDeq3J"
      },
      "execution_count": null,
      "outputs": []
    },
    {
      "cell_type": "markdown",
      "source": [
        "Preprocessing the dataframe in order to associate to each track_uri an integer, that will represent the position of the track in the rating_vector. This is useful in order to avoid doing a lot of joins when generating the rating_vectors."
      ],
      "metadata": {
        "id": "X5iG9Mus6VWy"
      }
    },
    {
      "cell_type": "code",
      "source": [
        "# def map_track_df_to_pos(playlist_df: DataFrame, mapping: DataFrame) -> List[DataFrame]:\n",
        "#   songs_df_list = [get_all_songs(spark.createDataFrame([row])) for row in tqdm(slice_df.collect(), desc=\"Creating list of dataframes\")]\n",
        "#   track_uri_to_id = songs_df.select('track_uri', 'pos').rdd.collectAsMap()\n",
        "#   track_uri_to_id_udf = udf(lambda x: track_uri_to_id.get(x), IntegerType())\n",
        "#   songs_df_mapped_list = []\n",
        "\n",
        "#   for df in tqdm(songs_df_list, desc=\"Mapping uris to pos\"):\n",
        "#       df = df.withColumn('pos', track_uri_to_id_udf(col('track_uri')))\n",
        "#       songs_df_mapped_list.append(df)\n",
        "  \n",
        "#   return songs_df_mapped_list\n",
        "\n",
        "# songs_df_mapped_list = map_track_df_to_pos(slice_df, songs_df)"
      ],
      "metadata": {
        "id": "Zu7sLSmn_QW9"
      },
      "execution_count": null,
      "outputs": []
    },
    {
      "cell_type": "code",
      "source": [
        "from pyspark.ml.linalg import VectorUDT\n",
        "from pyspark.sql.functions import col, udf\n",
        "from pyspark.sql.types import IntegerType, ArrayType\n",
        "from functools import reduce\n",
        "\n",
        "@timeit\n",
        "def map_track_df_to_pos(playlist_df: DataFrame, mapping: DataFrame) -> DataFrame:\n",
        "    \"\"\"\n",
        "    Returns a DataFrames containing the playlists, but the tracks are represented as a binary sparse vector.\n",
        "    \"\"\"\n",
        "    track_uri_to_id = songs_df.select('track_uri', 'pos').rdd.collectAsMap()\n",
        "\n",
        "    track_uri_to_id_udf = udf(lambda x: track_uri_to_id.get(x), IntegerType())\n",
        "\n",
        "    # Define a UDF to map track URIs to integer IDs within each element of the list\n",
        "    \n",
        "    # def extract_vector(tracks):\n",
        "    #   pos_list = set()\n",
        "    #   # tracks.rdd.reduce(lambda pos_list, row: track_uri_to_id.get(row.track_uri))\n",
        "    #   for row in tracks:\n",
        "    #     uri = track_uri_to_id.get(row.track_uri)\n",
        "    #     pos_list.add(uri)\n",
        "    #   return SparseVector(RATING_VECTOR_LENGTH + 1, sorted(list(pos_list)), [1 for _ in pos_list])\n",
        "\n",
        "    def extract_vector(tracks):\n",
        "      pos_list = set()\n",
        "\n",
        "      def reduce_fn(pos_list, row):\n",
        "          uri = track_uri_to_id.get(row.track_uri)\n",
        "          pos_list.add(uri)\n",
        "          return pos_list\n",
        "\n",
        "      pos_list = reduce(reduce_fn, tracks, pos_list)\n",
        "      return SparseVector(RATING_VECTOR_LENGTH + 1, sorted(list(pos_list)), [1 for _ in pos_list])\n",
        "\n",
        "    map_track_uri_udf = udf(lambda tracks: extract_vector(tracks), returnType=VectorUDT())\n",
        "\n",
        "    # Apply the mapping UDF on the \"tracks\" column of the slice_df dataframe\n",
        "    mapped_df = playlist_df.withColumn('tracks', map_track_uri_udf(col('tracks')))\n",
        "\n",
        "    return mapped_df\n",
        "\n",
        "if not os.path.exists(PLAYLIST_EMBEDDINGS):\n",
        "  mapped_slice_df = map_track_df_to_pos(slice_df, songs_df)\n",
        "  mapped_slice_df.write.parquet(PLAYLIST_EMBEDDINGS)\n",
        "else:\n",
        "  mapped_slice_df = spark.read.parquet(PLAYLIST_EMBEDDINGS)"
      ],
      "metadata": {
        "id": "MFwQWIZ1Bddv"
      },
      "execution_count": 149,
      "outputs": []
    },
    {
      "cell_type": "code",
      "source": [
        "track_uri_to_id = songs_df.select('track_uri', 'pos').rdd.collectAsMap()"
      ],
      "metadata": {
        "id": "U6JWpSjTma9e"
      },
      "execution_count": null,
      "outputs": []
    },
    {
      "cell_type": "code",
      "source": [
        "track_uri_to_id"
      ],
      "metadata": {
        "id": "KZGc_P3Vmrir",
        "outputId": "09a54fa0-4e89-4ef0-da40-3537c46204c8",
        "colab": {
          "base_uri": "https://localhost:8080/"
        }
      },
      "execution_count": null,
      "outputs": [
        {
          "output_type": "execute_result",
          "data": {
            "text/plain": [
              "{'spotify:track:0006Rv1e2Xfh6QooyKJqKS': 154210,\n",
              " 'spotify:track:0007AYhg2UQbEm88mxu7js': 354525,\n",
              " 'spotify:track:000CTwOSsvRs0bgXlwB64e': 459225,\n",
              " 'spotify:track:000GjfnQc7ggBayDiy1sLW': 659120,\n",
              " 'spotify:track:000JBgYWfJQqdFaRqu2n3f': 308103,\n",
              " 'spotify:track:000QFYFej3TzZq8HCTK36j': 522914,\n",
              " 'spotify:track:000U7VJzLWjyk6J8lFqnMZ': 480371,\n",
              " 'spotify:track:000ULyVqUhqnAyA0Um3MEH': 500594,\n",
              " 'spotify:track:000VZqvXwT0YNqKk7iG2GS': 372178,\n",
              " 'spotify:track:000mA0etY38nKdvf1N04af': 265342,\n",
              " 'spotify:track:000vBQK1sQ1ppKAEUBmYuG': 609938,\n",
              " 'spotify:track:000x2qE0ZI3hodeVrnJK8A': 650328,\n",
              " 'spotify:track:000xQL6tZNLJzIrtIgxqSl': 536620,\n",
              " 'spotify:track:000xYdQfIZ4pDmBGzQalKU': 471589,\n",
              " 'spotify:track:0010mZpCCwlPwoBiBsjoac': 222220,\n",
              " 'spotify:track:0012gIWzFurw8rjIdNptaS': 656028,\n",
              " 'spotify:track:0012gcMTLOeEr2UfflyGgh': 570987,\n",
              " 'spotify:track:0012kFta5wCFogveUeJN2z': 282613,\n",
              " 'spotify:track:001BVhvaZTf2icV88rU3DA': 142241,\n",
              " 'spotify:track:001CyR8xqmmpVZFiTZJ5BC': 198521,\n",
              " 'spotify:track:001FDA7MOimDoqBXGacavu': 167124,\n",
              " 'spotify:track:001PiA7wBB842OidKuKCV2': 130972,\n",
              " 'spotify:track:001QqiVgj63Nijq5ROZs28': 673936,\n",
              " 'spotify:track:001Y8th0ItldCRfN3XrwRI': 395643,\n",
              " 'spotify:track:001m5KK2fu67yZ5ZW46LDZ': 320610,\n",
              " 'spotify:track:001wUOgo8t9VElHl45bxzr': 18589,\n",
              " 'spotify:track:0021FKYztC1egyMW2fUPAZ': 455866,\n",
              " 'spotify:track:0024tEymsoc9FyKUauQngQ': 73057,\n",
              " 'spotify:track:0029bXZHiFj1UUF28N3MSS': 84871,\n",
              " 'spotify:track:002BcJ4Qtiu8NIoLt4b8To': 389410,\n",
              " 'spotify:track:002FTjDHjy3LUDiOeZjF3F': 262063,\n",
              " 'spotify:track:002KbOVOX22zbNDwwnA0Wi': 11814,\n",
              " 'spotify:track:002LWcLkRGSZCk5CFhtrfh': 665058,\n",
              " 'spotify:track:002M0MSUUUKvzhSXHjXteZ': 596099,\n",
              " 'spotify:track:002PgfoyfrOGiKch4EW8Wm': 154048,\n",
              " 'spotify:track:002Y43KuyegVesxqpdb7gX': 147622,\n",
              " 'spotify:track:002YxbO9BSEbtwaRQZZTOj': 303461,\n",
              " 'spotify:track:002ZkkQHz2kgnsrtcxDukd': 45025,\n",
              " 'spotify:track:002aphFDhOUsIYwSeZ8E3Y': 173238,\n",
              " 'spotify:track:002ecFL144rSBQcu6vrpka': 75399,\n",
              " 'spotify:track:002opcRBgYV5jqoh72QcqA': 325263,\n",
              " 'spotify:track:002pvX2eFdWmHAN7XG27pc': 624977,\n",
              " 'spotify:track:002qpSULhHAw6DGqFxbaO1': 456806,\n",
              " 'spotify:track:002v9wWacl0XvH822ttUsc': 260275,\n",
              " 'spotify:track:002ySbOBCJP8x65vdIkrP6': 522206,\n",
              " 'spotify:track:0032P9X3AD4AQvN7yzpmTo': 231991,\n",
              " 'spotify:track:0039tOs9Khnihi4dLWnwR9': 464589,\n",
              " 'spotify:track:0039z1iKWagN3YYLw1Qqi9': 186360,\n",
              " 'spotify:track:003AhyK90cj488jYVj92fM': 461577,\n",
              " 'spotify:track:003CT3fPlZFHo500jSJthh': 125980,\n",
              " 'spotify:track:003IXD799J9sH4vYGWeD1K': 410931,\n",
              " 'spotify:track:003IvyvD1M7gdSDK3z5Kfd': 671043,\n",
              " 'spotify:track:003M9cqV8elsMvSDodHYC3': 198387,\n",
              " 'spotify:track:003QkPlCsyk8S3UIOqGKWG': 87655,\n",
              " 'spotify:track:003R4eVgMYJqn6PaD3ShPF': 281542,\n",
              " 'spotify:track:003TeKLxu9qrcWLF0JXgf9': 529344,\n",
              " 'spotify:track:003U4oQXv82GYo1tNquN2F': 430827,\n",
              " 'spotify:track:003UJ4fCCmPXSLJHVnslxs': 113199,\n",
              " 'spotify:track:003W3sCwRJDd2VANGQLu8N': 371830,\n",
              " 'spotify:track:003Yoe59jErlQX9BzzQTNm': 569834,\n",
              " 'spotify:track:003bx55U8muGZrYP9alRiS': 195208,\n",
              " 'spotify:track:003hZS58wfgow6mFNfBSeF': 397105,\n",
              " 'spotify:track:003iRJFl5FdOZnXSdQzLGi': 396321,\n",
              " 'spotify:track:003qDTm2yx3TlIZ1xkMbPD': 290840,\n",
              " 'spotify:track:003rvfpGxFGnSGoh14bFpM': 569893,\n",
              " 'spotify:track:003tp162G8KIwWHSPAcNzS': 654541,\n",
              " 'spotify:track:003uvaKbqnoNt9FA9cU3eX': 530047,\n",
              " 'spotify:track:003xj5QO14i4q75qFblh3c': 437358,\n",
              " 'spotify:track:003ykc4d5MQSGiPEWsS02p': 677912,\n",
              " 'spotify:track:0046NsE3QgADqnrV1NDhzJ': 533904,\n",
              " 'spotify:track:004CHLDuagb2GLTYON5bQ4': 360783,\n",
              " 'spotify:track:004CeZtRE4wBNmL0eKk56R': 57180,\n",
              " 'spotify:track:004NPTN9NrUPXnAOBQWW9W': 291289,\n",
              " 'spotify:track:004PCIwGW22ZvCv9oGvxFg': 204737,\n",
              " 'spotify:track:004S7p2MZggTCqXUPJ3Nci': 610191,\n",
              " 'spotify:track:004VkEuzML0Ik0zPOhFdsc': 305071,\n",
              " 'spotify:track:004XT7kCZUEJkVIZjmBdDi': 319112,\n",
              " 'spotify:track:004kQmWNFQAT4Ha6r1kLyx': 210333,\n",
              " 'spotify:track:004nbBoVwbge8n46pPYnoo': 206149,\n",
              " 'spotify:track:004q4eDxR33ci4f8m4flwl': 514014,\n",
              " 'spotify:track:004r6DQZNkMagJyGBjyapx': 277517,\n",
              " 'spotify:track:004sSyzUXm7Tql61PIDax3': 576470,\n",
              " 'spotify:track:004skCQeDn1iLntSom0rRr': 640165,\n",
              " 'spotify:track:004y2GqsEyEXoavUEqVLsr': 250633,\n",
              " 'spotify:track:004z7UbwGrprGG1JTmNgCt': 588848,\n",
              " 'spotify:track:0051FDxvX6KqQQc16Tt65R': 142723,\n",
              " 'spotify:track:0055LRFB7zfdCXDGodyIz3': 626834,\n",
              " 'spotify:track:00565jZGllSSPna5CvarhJ': 268553,\n",
              " 'spotify:track:0057AQxQcbs4LPrxYks7lO': 673570,\n",
              " 'spotify:track:00591zbq7tnVjtUWwAv2l4': 643356,\n",
              " 'spotify:track:005AsJ7O229RNg9lbV8VTL': 451704,\n",
              " 'spotify:track:005CGalYNgMNZcvWMIFeK8': 287132,\n",
              " 'spotify:track:005EXdDQEMN0YJWIeVkdEI': 524363,\n",
              " 'spotify:track:005FAwNTLlI0FTnxiLrqII': 486321,\n",
              " 'spotify:track:005GaX6hvgeTFnR9FvejTE': 116281,\n",
              " 'spotify:track:005IPSWvjzjh0j3Hv2i2Zw': 151497,\n",
              " 'spotify:track:005JiGibD0Xe7IR1iM7zKu': 345956,\n",
              " 'spotify:track:005LMCCW2ghq50pYWx90cl': 358179,\n",
              " 'spotify:track:005LvC5vWT06Rllqkp4sb5': 635186,\n",
              " 'spotify:track:005PhwLfFyij1gNvlxeHds': 275360,\n",
              " 'spotify:track:005Pqv0PJC2XY8XSCNAkoP': 583522,\n",
              " 'spotify:track:005X0FmdtkM1kiutosXLTR': 329517,\n",
              " 'spotify:track:005XrN2mPaxQBbGm604v5K': 374305,\n",
              " 'spotify:track:005Y9rfnC9BXnJY3T0ETC2': 49413,\n",
              " 'spotify:track:005bWrBwTkugj2gi6QxN9t': 579207,\n",
              " 'spotify:track:005c2319jh47WwCfezqhms': 290372,\n",
              " 'spotify:track:005drRcJJFgFHgtxSJJO0v': 431720,\n",
              " 'spotify:track:005nX2WcSfT6ur5ltZv6ye': 255623,\n",
              " 'spotify:track:005ojEjmGPAfBptQDTYi5T': 14621,\n",
              " 'spotify:track:005pPo0mA936A3ByUbyRLL': 549615,\n",
              " 'spotify:track:005rskByuGVU9DmmEhvSd4': 377046,\n",
              " 'spotify:track:005y8oorn362WCIHyLCKD3': 367595,\n",
              " 'spotify:track:0062tddXmdVQgX1mMjVKUR': 166646,\n",
              " 'spotify:track:0066u0Nc8LLFYvln3BmBJd': 371440,\n",
              " 'spotify:track:0067jQQPclCEKzCeI3qr3v': 391666,\n",
              " 'spotify:track:0069UNfEXsA1853CA0C6es': 126136,\n",
              " 'spotify:track:006AVH7fq061voGXkUiII4': 529766,\n",
              " 'spotify:track:006Fh0Z9mGl19YKAiXD43k': 478047,\n",
              " 'spotify:track:006OOiqUx3g0CahPEexw4f': 322790,\n",
              " 'spotify:track:006OwYRiyUvo7eSuxwez0w': 384534,\n",
              " 'spotify:track:006PJvsr6CyV3JdBf7wiNF': 264965,\n",
              " 'spotify:track:006SZNdXRgV3JmAKUY9Uzl': 550053,\n",
              " 'spotify:track:006TSvuu8zWdejpsqbv1tj': 82481,\n",
              " 'spotify:track:006WRVtgmwxurJh8CvJEec': 152911,\n",
              " 'spotify:track:006f4XC6oHnIKCYvlI5gbD': 455409,\n",
              " 'spotify:track:006gYs3XDPA2bXKjLCtnYG': 461079,\n",
              " 'spotify:track:006hFuDtzMlEIewYjFiIAi': 349770,\n",
              " 'spotify:track:006irtbNebXAoxDseOQjq1': 208578,\n",
              " 'spotify:track:006pMMCuRo2TFjh8sNGSov': 643477,\n",
              " 'spotify:track:006r3Kh3rjAW6WgkSPTMzC': 160149,\n",
              " 'spotify:track:006tdRDgaS2HHCScAUcHtg': 121468,\n",
              " 'spotify:track:006wUn4zI1aMhojMlG2XNF': 580875,\n",
              " 'spotify:track:006we5ts1r1K76fEMtkLxA': 285243,\n",
              " 'spotify:track:006yqigW4M16IRInOWX3sr': 239265,\n",
              " 'spotify:track:006yrnQMCZpiUgkR612gC8': 433050,\n",
              " 'spotify:track:006yvCdaWUS79qp2Ip3Hdl': 26732,\n",
              " 'spotify:track:00762tXbSj2w2bQMVydJZn': 548103,\n",
              " 'spotify:track:007Cm8jbhOP7ofnHEwSr6s': 382196,\n",
              " 'spotify:track:007FRwrKgX9zNzP77Ffxju': 430252,\n",
              " 'spotify:track:007HyZl1LXuX1mR1JlRB3r': 290374,\n",
              " 'spotify:track:007NatCADLXKY1ckKTYbxG': 616736,\n",
              " 'spotify:track:007PUucx7EWGWji9mU5vlM': 406933,\n",
              " 'spotify:track:007SutdC0rVG2CSkuQMtJw': 480514,\n",
              " 'spotify:track:007YzRKaY8AP8kZhzjDoUM': 563585,\n",
              " 'spotify:track:007ZqpuFhPQkSQDIQu0jTl': 92670,\n",
              " 'spotify:track:007cKW8DCDI9mlWDE8EBa5': 52010,\n",
              " 'spotify:track:007cNPV16gDUE5WNfKjkQK': 380003,\n",
              " 'spotify:track:007cqCwn4W6mdyyeL7t9nF': 512516,\n",
              " 'spotify:track:007he3IQHE4z5HUXJO6Bu8': 194267,\n",
              " 'spotify:track:007iY6FDvlAwN1DVlNo8rY': 396846,\n",
              " 'spotify:track:007idky4T8VudgSVv9tEH8': 95129,\n",
              " 'spotify:track:007kVsC0xzqOBe57NbdATo': 569868,\n",
              " 'spotify:track:007mKIn7XPKaX4XtBDSOSP': 559002,\n",
              " 'spotify:track:007mLuAjJi83YbT70hThvx': 377212,\n",
              " 'spotify:track:007oGcIgb7FfILtC5T20WL': 92185,\n",
              " 'spotify:track:007ogFejDqJKzEXDUDF8Nf': 340047,\n",
              " 'spotify:track:007osgUY7rfAp7zlMkCY0p': 596998,\n",
              " 'spotify:track:007tlDza2b9DD7eFA7n6eo': 592786,\n",
              " 'spotify:track:007wnguCXaI31ixwGhNOGh': 404023,\n",
              " 'spotify:track:007xxuKYsZqd0fbLZSrPSB': 120981,\n",
              " 'spotify:track:00820n1O1wKL5EeNuqENcV': 251426,\n",
              " 'spotify:track:0086HdXHVdIY8ovzybWwHd': 78841,\n",
              " 'spotify:track:0086lb5t1L1HlStZ1ci3rf': 339375,\n",
              " 'spotify:track:0087fDVeNhuyMtST91RMjv': 20545,\n",
              " 'spotify:track:0088Tt3QK3fMYodhkIEoUh': 382748,\n",
              " 'spotify:track:008CqpcGYk9ye2VXmW5qVG': 581267,\n",
              " 'spotify:track:008JB54KbjrI7nDs0UPR08': 111175,\n",
              " 'spotify:track:008JtfxoUO6P90zzLJtnh7': 420321,\n",
              " 'spotify:track:008Lxsuwhbm5sIwdbJsPjU': 36920,\n",
              " 'spotify:track:008MrnyKZJ7a14wj6niyrX': 119646,\n",
              " 'spotify:track:008Nf4LgKqV8w8VD66fNmY': 119448,\n",
              " 'spotify:track:008OplcIkD8jFa5BSaxSrN': 408173,\n",
              " 'spotify:track:008PMqFN83j1WWbm4mwkAk': 402343,\n",
              " 'spotify:track:008UPvPEgMiUvPfj07Lmd6': 641767,\n",
              " 'spotify:track:008VaM9CusLPT0eTo7et5G': 224723,\n",
              " 'spotify:track:008d4VhnxFd7bDMgSWuBPD': 240523,\n",
              " 'spotify:track:008eLsOgs0hhrMfZHPSEgy': 424266,\n",
              " 'spotify:track:008gouEDStVhMY77AAJ3XN': 272711,\n",
              " 'spotify:track:008jVDptq6Jog6Cx092bdR': 150754,\n",
              " 'spotify:track:008k6AffGTQ9K0BfruEeUI': 665760,\n",
              " 'spotify:track:008ndXyCzkkN9fvJsfqkDS': 428214,\n",
              " 'spotify:track:008xYYjnH6DSwriOfqL3Y8': 502919,\n",
              " 'spotify:track:008xaJEzasDsMlBu5nBPQ6': 662646,\n",
              " 'spotify:track:008yihnyDpQk3qc9l6ptGk': 635549,\n",
              " 'spotify:track:009M5IYUxx7W3gdfk6qXaT': 399187,\n",
              " 'spotify:track:009NFK4GeY7xzHCJPrPKdz': 19718,\n",
              " 'spotify:track:009RCPaOaxgGhMFGXOIuYI': 660732,\n",
              " 'spotify:track:009WYz87ADbXNdscuab2Q3': 225408,\n",
              " 'spotify:track:009aJqwtazpcpmOW3YbwDx': 454356,\n",
              " 'spotify:track:009j4tQyJC53rmgTuXil9E': 333763,\n",
              " 'spotify:track:009n0zqtbcRTL7T4TiGf41': 148593,\n",
              " 'spotify:track:009rCMpDq5sOkhwmFyHOky': 43837,\n",
              " 'spotify:track:009yc0T4HqALX3YlwUuUeg': 187237,\n",
              " 'spotify:track:009z33OfaFvXqbwckeeeDv': 455208,\n",
              " 'spotify:track:00A2WISItuZYi8uHEvtH3H': 233454,\n",
              " 'spotify:track:00A8nwpeSC13Ciq95J8L3k': 78896,\n",
              " 'spotify:track:00A8u40JAfMdzJ7KnrBTkS': 151376,\n",
              " 'spotify:track:00AAOy7oM3M0SVPWp8htQb': 169233,\n",
              " 'spotify:track:00AAj1kdx0mf5agqVniktg': 463200,\n",
              " 'spotify:track:00AChohW4MNtHvOhyi8jX2': 271146,\n",
              " 'spotify:track:00AJ22EiTqG74qdgHVKVDM': 55452,\n",
              " 'spotify:track:00AJHbqsncKqA6FSnz5o5p': 159407,\n",
              " 'spotify:track:00ANFeMGneWGycL1q9A7eD': 327703,\n",
              " 'spotify:track:00ANJvLBdGv6ry4OvpjO6N': 288068,\n",
              " 'spotify:track:00ANezjn7uJm2J5VWMYcwS': 601441,\n",
              " 'spotify:track:00ANnYctEGGhcmOJ5omaj8': 539186,\n",
              " 'spotify:track:00AOJueOnewchf2DiaOq8q': 367240,\n",
              " 'spotify:track:00APieLgMOjRg0XzvtPrDM': 181960,\n",
              " 'spotify:track:00ASaHIeHqAAhPqQgcujOC': 520180,\n",
              " 'spotify:track:00AVE5t5MUtyGJf51V1GJG': 146615,\n",
              " 'spotify:track:00Ab8aDaMQiwvZOWyBI8KK': 79874,\n",
              " 'spotify:track:00AgUZTKAskWtCw6OHAbFO': 336796,\n",
              " 'spotify:track:00AgttKx4gRJghhPETFrOE': 639116,\n",
              " 'spotify:track:00AivYmu1UVmxM91uhR9lM': 211383,\n",
              " 'spotify:track:00AiyOJFuhxqwsUDS5Cxsy': 243457,\n",
              " 'spotify:track:00AlZGmIphx4uH0r90cM9g': 618053,\n",
              " 'spotify:track:00An04LOF36saBLHZpBRLH': 626520,\n",
              " 'spotify:track:00AnuyOsud6v5S6d223sMq': 556360,\n",
              " 'spotify:track:00AvOVhsUi1gOCnHxTFw7i': 247047,\n",
              " 'spotify:track:00AxNl4D4jHL2AEf1W55j5': 317658,\n",
              " 'spotify:track:00B0QqEpojNviUTjEY5Fq8': 296504,\n",
              " 'spotify:track:00B3XpxG36rY6VijZbihjP': 140488,\n",
              " 'spotify:track:00BDoLfqVnr4zkGfNhkCZj': 599764,\n",
              " 'spotify:track:00BFCXWpd2qJRAZOKDerUk': 242215,\n",
              " 'spotify:track:00BFENNxGxKbSeBxYnDHvp': 27127,\n",
              " 'spotify:track:00BHe2yBtdOzhKPmI7rpTE': 117737,\n",
              " 'spotify:track:00BJYxZVVBXEsCxMPPOGOL': 39426,\n",
              " 'spotify:track:00BNkn0PppbR5dEOTcAQJg': 332997,\n",
              " 'spotify:track:00BTDWR6xCaGdst6cPKkpF': 220437,\n",
              " 'spotify:track:00BTh4PGs8znlfB7lLwyhQ': 45426,\n",
              " 'spotify:track:00BUW4bZBkzovAjT77WYvZ': 300115,\n",
              " 'spotify:track:00BVyo99WARrSk8f8VhEXG': 522991,\n",
              " 'spotify:track:00BYAj1kUfp0qEJuwFxWgd': 8567,\n",
              " 'spotify:track:00BewNzph6p90JLNda4s7E': 634716,\n",
              " 'spotify:track:00Bf7ongLJsD5GYNsnFm0P': 111053,\n",
              " 'spotify:track:00BnfL75e8vHSGCmwUWbEk': 430573,\n",
              " 'spotify:track:00Bqnu3X3BYbmRcI7xyIfn': 258690,\n",
              " 'spotify:track:00BsdsY1DUzykUTs9yyu4S': 45235,\n",
              " 'spotify:track:00BuKLSAFkaEkaVAgIMbeA': 7293,\n",
              " 'spotify:track:00Bxugv8RqOqHRjOpQywzP': 529224,\n",
              " 'spotify:track:00C0DktT4pif6k7pVghYuI': 656190,\n",
              " 'spotify:track:00C0QqlR0vBK05aE1KSRNB': 79493,\n",
              " 'spotify:track:00C0yzquXeln1zEtXs7H2s': 30896,\n",
              " 'spotify:track:00C1tVVhpOttCrs9JgOigx': 361158,\n",
              " 'spotify:track:00C3hGF0asRJeCWxhFEf6u': 674373,\n",
              " 'spotify:track:00CCaqeqjBvDESkXikT68l': 180418,\n",
              " 'spotify:track:00CCvgdUlVfdPrRL8QARut': 280595,\n",
              " 'spotify:track:00CGMygJmpUJGUyRsYRUbe': 632030,\n",
              " 'spotify:track:00CHl1yKYTdqDhM3iR0fyB': 667128,\n",
              " 'spotify:track:00CIFNT8kOm61dupysBFp8': 674101,\n",
              " 'spotify:track:00CIj1fkWuZoSGTMqnenGB': 489725,\n",
              " 'spotify:track:00CQsyWt5NGD7kaKBvG33Y': 487329,\n",
              " 'spotify:track:00CRZlS3DrUizspEnwyw2i': 16315,\n",
              " 'spotify:track:00CRjKSGXmKEyujbfjBIFr': 96648,\n",
              " 'spotify:track:00CVKerfrPu4bTHKpmMaLD': 386785,\n",
              " 'spotify:track:00CVzMgaGaaYonudbBXTYc': 366362,\n",
              " 'spotify:track:00CWDLcUnTQS1vtKksP01L': 270077,\n",
              " 'spotify:track:00CWjQYRNrw1CcBSOG8zY4': 2567,\n",
              " 'spotify:track:00CXUMREit80f2McJsjcIz': 448803,\n",
              " 'spotify:track:00CYrT1hvbDmUZTfs69mOA': 413135,\n",
              " 'spotify:track:00CaGhQ58PqIrpLNAN0RYv': 420487,\n",
              " 'spotify:track:00CbTwaqnCGW9F8Cdv14tf': 469599,\n",
              " 'spotify:track:00CddR42A5KT8zJn5Kzdn9': 206071,\n",
              " 'spotify:track:00Ci0EXS4fNPnkTbS6wkOh': 535925,\n",
              " 'spotify:track:00CjPU9Nv69kf6YofOIazK': 514436,\n",
              " 'spotify:track:00CmjeeHvAVKvx3tcIiZTy': 544030,\n",
              " 'spotify:track:00CqEmnPLFKDhAb3cuu6Cs': 222210,\n",
              " 'spotify:track:00CrtqaRkCyFjY1yiSYJWo': 320229,\n",
              " 'spotify:track:00CujlY4ya5p2FNDu9BCZP': 433886,\n",
              " 'spotify:track:00CvgdrJON1QcyBQhcIpkA': 71378,\n",
              " 'spotify:track:00CxumCW8cLnWqa0wE2TXO': 530740,\n",
              " 'spotify:track:00D3kP7H8OfHJDrZ6iU55e': 97529,\n",
              " 'spotify:track:00D6VjWwiDtfCPJAwyeOPD': 488868,\n",
              " 'spotify:track:00D6xzSxOEniou6wp1BVzA': 175455,\n",
              " 'spotify:track:00D8OesdKZwFJa4CPRU65B': 612065,\n",
              " 'spotify:track:00DAft0t0XRxKtnQFpHhWp': 30992,\n",
              " 'spotify:track:00DBKn29OAvVfQjrEbtw1C': 309762,\n",
              " 'spotify:track:00DHGInFd22rtoRAGFfD2F': 49429,\n",
              " 'spotify:track:00DHieiDnak3hkU6Qa4yJQ': 145428,\n",
              " 'spotify:track:00DLDbWqrOhC6cEBr7zkjj': 571280,\n",
              " 'spotify:track:00DLPz4pN2L4pvS03urvYd': 220303,\n",
              " 'spotify:track:00DPVL8CCaNBAHLiVNd2iQ': 388524,\n",
              " 'spotify:track:00DTUzVWz3bjiFIwj23OAr': 475914,\n",
              " 'spotify:track:00DTW9LsrrIRazfgDmQgY9': 110814,\n",
              " 'spotify:track:00DUvMRyeOlLCqi3EwQwXJ': 158618,\n",
              " 'spotify:track:00DYRuYJQzfI6dH4Adkimo': 4451,\n",
              " 'spotify:track:00DZ0QzhDiedhzX1KZVi4O': 312767,\n",
              " 'spotify:track:00DZf4Vvt3lrlzGwy9J8fk': 42391,\n",
              " 'spotify:track:00DciAIKn9D96hlh64M8fU': 248053,\n",
              " 'spotify:track:00Dd3NjL0a6QAn0eZAOY0v': 173514,\n",
              " 'spotify:track:00DdfpIoie5he0IVzNxUrh': 476864,\n",
              " 'spotify:track:00De7REGurYkmfrKAh6CU1': 549112,\n",
              " 'spotify:track:00Dfku0uAqsx21N8yxv9yk': 163587,\n",
              " 'spotify:track:00Dj0k3r0a6HKTLanwET8L': 237786,\n",
              " 'spotify:track:00DknDhcbobSlLYSSrT4Jw': 412312,\n",
              " 'spotify:track:00DlEKhhlQNtjnJk7xqB9O': 550356,\n",
              " 'spotify:track:00Dlxv78UM5lQE7ZhH50Fp': 660845,\n",
              " 'spotify:track:00DmsHYUIK6RcWs6txwHt6': 479040,\n",
              " 'spotify:track:00DqCArdLrJ7HiTVllLUkF': 155790,\n",
              " 'spotify:track:00DqRxFvPco63Z2W7vi4ip': 274152,\n",
              " 'spotify:track:00Dy1ZWYXpJauvc0CPmHFr': 487730,\n",
              " 'spotify:track:00E0JmKi9HmBaW8eQX1shN': 147568,\n",
              " 'spotify:track:00E1TOKrz2zrbbF92fdi4Z': 81075,\n",
              " 'spotify:track:00E4esb89Dd6giQAYAoQkE': 356553,\n",
              " 'spotify:track:00E6l5w4ltE9ee3sNa9UP2': 610779,\n",
              " 'spotify:track:00EC7NcSxfHU7XOhsAxIBY': 199529,\n",
              " 'spotify:track:00EE6U2juZMvGuMUCTHuas': 23348,\n",
              " 'spotify:track:00EFftZXYkLqyTWHZsTjX9': 65246,\n",
              " 'spotify:track:00EGkDw7RN7x0MzrKldIPF': 589627,\n",
              " 'spotify:track:00EHI8TnNWjmIlDrsQqADD': 397387,\n",
              " 'spotify:track:00EIIf8ot6cMLQ43dOmox3': 176292,\n",
              " 'spotify:track:00EKBhrYuP4QsGJ5tbBPTH': 53016,\n",
              " 'spotify:track:00EM66pHcCSrXotgYuQK3e': 286288,\n",
              " 'spotify:track:00EM6Rvcs8EtttnVXq26OI': 627070,\n",
              " 'spotify:track:00EOT28dTMa0qBY9MtwgFx': 158981,\n",
              " 'spotify:track:00EPu7n4Aq1Wh6Cggzzd9J': 168486,\n",
              " 'spotify:track:00EQTISBxvGLzB36hiOYMd': 230357,\n",
              " 'spotify:track:00EVtb1UgKNsLHhzbDaLZ3': 308585,\n",
              " 'spotify:track:00EW0uAdqSnV6y47zkQAOk': 301104,\n",
              " 'spotify:track:00EZUvE6ignLQlXFe4YJID': 639750,\n",
              " 'spotify:track:00EaXDVDCSiY9iXUaQoTla': 358966,\n",
              " 'spotify:track:00EfcDboIDLWzvPypeWGDg': 353138,\n",
              " 'spotify:track:00EgfGqdOwq52LNylUhbux': 660494,\n",
              " 'spotify:track:00Egvm8OYWCL2X8wrhSjGc': 102278,\n",
              " 'spotify:track:00EhzXcoejkD5RWoS8L4IX': 161865,\n",
              " 'spotify:track:00ElDp6BOXBW252CFyIUgy': 495748,\n",
              " 'spotify:track:00EnN4XfNdQYzOh6oimHfc': 68648,\n",
              " 'spotify:track:00Eqx1s9x5lcni8t0gnONc': 118434,\n",
              " 'spotify:track:00EtxZFPtSNzHFSp8hZMIh': 202439,\n",
              " 'spotify:track:00F2J6Du0rcyvY6rP1UHKW': 378789,\n",
              " 'spotify:track:00F2Jz73687uWioTsvpbAO': 624857,\n",
              " 'spotify:track:00F5KoYzpc7xSizbTf2BPs': 461001,\n",
              " 'spotify:track:00FACc7SXgRdodfCeBG8Su': 56869,\n",
              " 'spotify:track:00FBi02iMqMEC0aPF3W6Js': 541491,\n",
              " 'spotify:track:00FD2yO7KWqKBCCA41heEM': 586706,\n",
              " 'spotify:track:00FEnmNwH45i09TCAr31bN': 447696,\n",
              " 'spotify:track:00FGK2HNwbfADTGVHk06wv': 3508,\n",
              " 'spotify:track:00FHk5TmX8fDDp1wVXFoAY': 232316,\n",
              " 'spotify:track:00FO0f1dGu7DuXE0M1eeyk': 246962,\n",
              " 'spotify:track:00FOgV1ZRgn6oBk6mIoGLm': 191133,\n",
              " 'spotify:track:00FOvBUI0jLEbbPrsTlqJ8': 47761,\n",
              " 'spotify:track:00FPi7yQWVCdIBd51t1pTF': 129506,\n",
              " 'spotify:track:00FR9VQ0uzF4NNxVKKiMz2': 645841,\n",
              " 'spotify:track:00FROhC5g4iJdax5US8jRr': 540411,\n",
              " 'spotify:track:00FTwupm8jgFDG4In1z0LG': 407460,\n",
              " 'spotify:track:00FU5uypELwgQuM9IbFC6G': 554713,\n",
              " 'spotify:track:00FWuEBvnitgpbMSk0XIoN': 123441,\n",
              " 'spotify:track:00FXvRpy7nfHjVOxNMAzVa': 397174,\n",
              " 'spotify:track:00FaBIFXUfzaaVcsQmTTJY': 501,\n",
              " 'spotify:track:00FdQksomzhJJyZ0wk7MYa': 606893,\n",
              " 'spotify:track:00Fhk36XSKx55SpkVdRkrU': 117164,\n",
              " 'spotify:track:00FhznO9m4gOIMG7o5M8kz': 630911,\n",
              " 'spotify:track:00FjPtTqy9JtPsjwVJMRxw': 553295,\n",
              " 'spotify:track:00FjRu5wKkgDfiHognphYv': 182831,\n",
              " 'spotify:track:00FldKRY0RvsKorwsMzNt3': 356242,\n",
              " 'spotify:track:00FmVtqklt5gyLyn3peupV': 255893,\n",
              " 'spotify:track:00FnhqXebMYD2uQO2BC403': 467276,\n",
              " 'spotify:track:00FpgJjFpqaRvinbnMwysy': 56626,\n",
              " 'spotify:track:00FqXw7mDKW2PdFkUxrGib': 35937,\n",
              " 'spotify:track:00Fs4pnhQhEk3NkmJGxZJR': 13812,\n",
              " 'spotify:track:00FuQgjhsdDSXbNJ3WHp1J': 12156,\n",
              " 'spotify:track:00FvwcRWOH1I3Eh5Z3wpBx': 347727,\n",
              " 'spotify:track:00G0cFfgXWwK3BH3DGxrTQ': 397475,\n",
              " 'spotify:track:00G5DadTDME3A8AY1k0z24': 482746,\n",
              " 'spotify:track:00G6GfVa1uUyXBEEaqytL5': 114769,\n",
              " 'spotify:track:00GH0IpOro4Cpyj1tjt9bI': 660831,\n",
              " 'spotify:track:00GLurBnpV601jsL8CUrZW': 442314,\n",
              " 'spotify:track:00GNc5ebF0onJaDp9Ey8bn': 45001,\n",
              " 'spotify:track:00GOMlXMTweLkyMYUGsNXA': 494357,\n",
              " 'spotify:track:00GP7A6TQUhUK4QgOJRfCz': 235766,\n",
              " 'spotify:track:00GQ69L9zYYsWxIPUHDnTk': 498009,\n",
              " 'spotify:track:00Ggmrft2Mx78qvFPtbptq': 81840,\n",
              " 'spotify:track:00Gke7mZqr5bKLuhzjR4ir': 15522,\n",
              " 'spotify:track:00GmdRTjLToJzlskPEFeBO': 325594,\n",
              " 'spotify:track:00Go3gWOIVO7blYdzztuzf': 111691,\n",
              " 'spotify:track:00GoaUxwkx1OyHv9C5dfrl': 318613,\n",
              " 'spotify:track:00GrC4W0zU18dG21ZVyZbS': 224715,\n",
              " 'spotify:track:00GtdDh3LiepZphAIlX8ow': 306215,\n",
              " 'spotify:track:00Guhx1B9TZjB12jn3AXGk': 635780,\n",
              " 'spotify:track:00GwxMge3vIOMeV43Erckc': 340431,\n",
              " 'spotify:track:00GzI6xuJwR53nsKitOr8d': 352219,\n",
              " 'spotify:track:00H2IS23doW8SdGdUh0UQU': 462905,\n",
              " 'spotify:track:00H4w1nxlzue3YNjaa3Kwg': 211703,\n",
              " 'spotify:track:00H4xgYFQjkQ9o4QcZURDh': 269560,\n",
              " 'spotify:track:00HA2WEyppiEUjuFLVmrab': 234895,\n",
              " 'spotify:track:00HAPR5U2EJxrPuxIH9mn2': 678787,\n",
              " 'spotify:track:00HIh9mVUQQAycsQiciWsh': 320762,\n",
              " 'spotify:track:00HJ96pNHxmL4iPD8alY9P': 201723,\n",
              " 'spotify:track:00HJCJ548tCG7jJeExrDuI': 654320,\n",
              " 'spotify:track:00HL5vsetpmk1GvSq3jpmO': 15698,\n",
              " 'spotify:track:00HMEiBMDkbNCHLJL6zqVk': 18859,\n",
              " 'spotify:track:00HMjsvUkW56ZKU8CFw6hj': 497425,\n",
              " 'spotify:track:00HVkgjjsJ7kj4jt9vvvCY': 383294,\n",
              " 'spotify:track:00HWHVerv16snyQSRrfVWT': 238926,\n",
              " 'spotify:track:00HWozzJE6xjxVG8zszs8F': 192315,\n",
              " 'spotify:track:00HZJG1FRNi2Q7KAkZ3UOv': 289185,\n",
              " 'spotify:track:00HbieW0v8IFt0BijPRkvf': 83963,\n",
              " 'spotify:track:00Hcx3OfMaC63YfFBenIWy': 376976,\n",
              " 'spotify:track:00HgJkw6y4kpktFGVZEl26': 142306,\n",
              " 'spotify:track:00Hi29G5h1ZHuHn78KvHnm': 642470,\n",
              " 'spotify:track:00Hi8uPOpdcZPiCaUnFa6V': 178518,\n",
              " 'spotify:track:00HiaD1oFYFw5jLYxzU0Il': 482317,\n",
              " 'spotify:track:00HmxFytgqlTLJWDjk9tL4': 599657,\n",
              " 'spotify:track:00HvRRay8gYFolPMmTihgP': 51720,\n",
              " 'spotify:track:00Hxf3pBkAasP9itOoAtWv': 71016,\n",
              " 'spotify:track:00I2tbUKvQWZdI6M9G6ap7': 612858,\n",
              " 'spotify:track:00I4OBqSSI1GSZAs8erIfn': 216393,\n",
              " 'spotify:track:00I4mwFpHD72tax9Vx2HDR': 544157,\n",
              " 'spotify:track:00I5IB3zBvvo6D3Zw2YKLS': 641288,\n",
              " 'spotify:track:00I5OwBO92C1IAWv3lET5n': 331251,\n",
              " 'spotify:track:00I5P2DjVyeWpuxPwBfhb8': 78286,\n",
              " 'spotify:track:00I94fqVKbf0DptCDh21E6': 443511,\n",
              " 'spotify:track:00IB3G9ayNJStkw5VVxykW': 662217,\n",
              " 'spotify:track:00ICE5UjcSHYH1rwmeAyZG': 263092,\n",
              " 'spotify:track:00ICqiFJafsHkpJa5N9XSF': 39146,\n",
              " 'spotify:track:00IIRIjBvLdF3iYN85baVx': 48556,\n",
              " 'spotify:track:00IJdGtfmpZdyCeZ9VU5bK': 263558,\n",
              " 'spotify:track:00IMpdorXDMjMCSeSH0NVV': 582701,\n",
              " 'spotify:track:00INMg7CLsAwugoiJUqioz': 547391,\n",
              " 'spotify:track:00IODcbrKlApORianCdA3f': 299812,\n",
              " 'spotify:track:00ITtxUozN0vifE2uYvtqn': 539215,\n",
              " 'spotify:track:00IW9LaLym7XRIwawhTV1o': 399888,\n",
              " 'spotify:track:00IWszS7J20euRTvpZf70Z': 613041,\n",
              " 'spotify:track:00Iba6P6PzaVgiBeKkcuLJ': 232980,\n",
              " 'spotify:track:00IeTDeEteH4vwv6ud909V': 258442,\n",
              " 'spotify:track:00ImpwH9YWMFit6vJWGnXB': 549653,\n",
              " 'spotify:track:00InS9NH5WxN7JNjW8sTmL': 376557,\n",
              " 'spotify:track:00IoKfUR5agGVXFrLXt2iy': 113099,\n",
              " 'spotify:track:00IqwkT0PZhJ86PJajRCqk': 448234,\n",
              " 'spotify:track:00Iqzdq2idIiTZLQwDHiX1': 209148,\n",
              " 'spotify:track:00IrSynHsun7DpDrLkRIjM': 36448,\n",
              " 'spotify:track:00IrTcP5Im0zNU0XJAYi3w': 264907,\n",
              " 'spotify:track:00IsnCEpt6FZFQtOxIrBvW': 60592,\n",
              " 'spotify:track:00It1O6tuY1W9XMsDN7NNa': 26542,\n",
              " 'spotify:track:00IuYbkpL3bQilWyhhR7aE': 122851,\n",
              " 'spotify:track:00Iv7vPMpJRh3vzrz7mgnU': 98311,\n",
              " 'spotify:track:00IyeP7sRybKkJs7Y0kBYW': 531654,\n",
              " 'spotify:track:00IzhPY8dtLz4rYKLNpGe1': 303784,\n",
              " 'spotify:track:00IzogGfoqa0rsIHQMNETG': 6009,\n",
              " 'spotify:track:00J0PLHbz7Tz3OC1GqjNNR': 157453,\n",
              " 'spotify:track:00J1hK6Bj13pLhwdKVYUaV': 575115,\n",
              " 'spotify:track:00J3tMXWETxgAfD3DSWMKm': 392440,\n",
              " 'spotify:track:00J5gs1uNqVMEfJ7U0z1o3': 212527,\n",
              " 'spotify:track:00J7yZ8JihezzKnnzj0Wt5': 283787,\n",
              " 'spotify:track:00J9vZho2XKyAkwIC2eChU': 5047,\n",
              " 'spotify:track:00JEiwt4RLRbK4HEVkTHwc': 481492,\n",
              " 'spotify:track:00JErUuTZnBA8eugXCWGuB': 15835,\n",
              " 'spotify:track:00JIcVl4eWv00SBdDY1TET': 54096,\n",
              " 'spotify:track:00JQbWhCAWAOICReCFgjto': 269516,\n",
              " 'spotify:track:00JSeHZVBL0bwKZ7GL0jYu': 165357,\n",
              " 'spotify:track:00JTQURXuCbFAzA4yVlWWc': 67654,\n",
              " 'spotify:track:00JXGMwAbhxV1QDiZdIrrO': 291594,\n",
              " 'spotify:track:00JYlU6W8LnrORYE7z72Fx': 661669,\n",
              " 'spotify:track:00JYyme0U7qzgb1Bc7RbZY': 672964,\n",
              " 'spotify:track:00JbSYK9Sr2Q7Lp73m3eCK': 603952,\n",
              " 'spotify:track:00JbznfNVCiSSqLXI7wd5B': 179245,\n",
              " 'spotify:track:00JcNtW0wfz3hjepelFMX9': 283252,\n",
              " 'spotify:track:00JdWoYMDQ0gx3SC4jQG5c': 643809,\n",
              " 'spotify:track:00JgoTENxoTZjBULOsNcNF': 615037,\n",
              " 'spotify:track:00Jiy2HCQrpELyLXSI6YpW': 360337,\n",
              " 'spotify:track:00Jn6weiHJPHb4B0ZAHmrG': 674090,\n",
              " 'spotify:track:00Jpy89XBnVzHmkm5mBAko': 424907,\n",
              " 'spotify:track:00Jsd7JqiCHtCw60pAWes9': 296545,\n",
              " 'spotify:track:00JtB9hdWM8PO2gSBP9nd3': 35028,\n",
              " 'spotify:track:00JuNdL6rmvUnIdlBN7TUN': 193214,\n",
              " 'spotify:track:00JvYAeP12RJCbq4yHljA9': 671668,\n",
              " 'spotify:track:00JvkzL9d727hk4Mzy1eyg': 450450,\n",
              " 'spotify:track:00JwWpXRCxEM9srAohdaCe': 674938,\n",
              " 'spotify:track:00JwisQzPQdUqwiLfInwGs': 76437,\n",
              " 'spotify:track:00K332iYNJHjVal1QBvRpf': 296278,\n",
              " 'spotify:track:00K5aJFurA4duBNRzEXlqg': 277114,\n",
              " 'spotify:track:00K807hlT670hyF506vTOb': 26288,\n",
              " 'spotify:track:00KC6UUY0wFeKxFtMPZjv6': 120245,\n",
              " 'spotify:track:00KIdLlAOe8zw9fAUoDTmB': 406778,\n",
              " 'spotify:track:00KNPoPmiT3hbvZNN1KkDa': 269311,\n",
              " 'spotify:track:00KSN0qtGSeYX9qFClCEcg': 21769,\n",
              " 'spotify:track:00KUIrLpr2cpINi4KGjRF6': 95575,\n",
              " 'spotify:track:00KVxFSQAYwaqGdLtL6UJ2': 281811,\n",
              " 'spotify:track:00KYp2gYHW3xzzy8MPGmJI': 114050,\n",
              " 'spotify:track:00KfCiZvKmPTcbiIOpSPYq': 21668,\n",
              " 'spotify:track:00KfIFi2TpAaQGPbRbFbKJ': 634830,\n",
              " 'spotify:track:00KiXW8FpbjvBxGfjJwnjg': 47035,\n",
              " 'spotify:track:00KobkfwcyPkxUY73Y2J8T': 586526,\n",
              " 'spotify:track:00KpSJIutKa6tc3wZyFtKw': 432339,\n",
              " 'spotify:track:00KqcAs9yDAWFla5XpZ3uz': 297570,\n",
              " 'spotify:track:00Kr3rYkPEoXnxkW7gY4ek': 238711,\n",
              " 'spotify:track:00KsnoekYhjdUu9yAPvXVh': 347389,\n",
              " 'spotify:track:00Kv5vXwtlt9Ow4YVT3nzg': 197389,\n",
              " 'spotify:track:00L23TuPwevpWKmSw9tmHW': 653285,\n",
              " 'spotify:track:00L2rNt6gkfVEwc2kGRnGJ': 153916,\n",
              " 'spotify:track:00L5zl0hO6lO069lzRWNkW': 382754,\n",
              " 'spotify:track:00LGHCs85v1wpkyRqRfEUx': 180631,\n",
              " 'spotify:track:00LS3WpNmetAkGUgJGF2x1': 649382,\n",
              " 'spotify:track:00LZerYCXhBxuXwSgzDjId': 67221,\n",
              " 'spotify:track:00LbJKCLDJkZQ1cEL8ENEO': 284348,\n",
              " 'spotify:track:00LfFm08VWeZwB0Zlm24AT': 2088,\n",
              " 'spotify:track:00LpYjkRLHB7Dy7K0YOECh': 461880,\n",
              " 'spotify:track:00LqCA5fcpiAJ0U7fNoJVu': 256372,\n",
              " 'spotify:track:00LrCrCQuJNrMsELnh9d1u': 6281,\n",
              " 'spotify:track:00LrcbUao6kFMBP9ZX3cAt': 219835,\n",
              " 'spotify:track:00LtzHyGMEKuDcs4Qx5nGp': 186045,\n",
              " 'spotify:track:00LvSu2B6CL0QTudqJncIT': 147305,\n",
              " 'spotify:track:00M1ok7a1RswZMRaaEUNcE': 567015,\n",
              " 'spotify:track:00M3OioEJkZ5n6YKcDz0iM': 654206,\n",
              " 'spotify:track:00M8dar4CQmY8BpxO9oCuk': 555032,\n",
              " 'spotify:track:00MEiCXsi9J21cJDhSrLpr': 629407,\n",
              " 'spotify:track:00MI0oGDVJYM1qWbyUOIhH': 4915,\n",
              " 'spotify:track:00MJkaABnU8oaRaYaM8cwQ': 211133,\n",
              " 'spotify:track:00MQem6OfRmdIgYh4TyZf0': 379538,\n",
              " 'spotify:track:00MRrr06QUCKrmnUg9D28A': 577104,\n",
              " 'spotify:track:00MSSzYGxpgaQntx0NTi8b': 311072,\n",
              " 'spotify:track:00MTBEtt6RMxqZbtqhDf1p': 588181,\n",
              " 'spotify:track:00MmJraiM6d7AINTYB5Xid': 428908,\n",
              " 'spotify:track:00ModHgX4cusyEMUlxtlhi': 579803,\n",
              " 'spotify:track:00Mp5jj3Uwwwqzg7B5ZJra': 144788,\n",
              " 'spotify:track:00MuZqspLgnI9bOESBZ7N9': 557117,\n",
              " 'spotify:track:00N1o3br7vOB3grVI2xu6d': 666794,\n",
              " 'spotify:track:00N4Hz9qLqMEcGcgEJo0zh': 657094,\n",
              " 'spotify:track:00N9MZfNrYXX6o4x0uKS17': 285587,\n",
              " 'spotify:track:00ND9X1OStbMhkkfHl5rdK': 440029,\n",
              " 'spotify:track:00NHwGCb6sDXU8JQp36syF': 611176,\n",
              " 'spotify:track:00NJNiTTXfeOTAm5Roon7u': 430597,\n",
              " 'spotify:track:00NKajx37SlbZYYQ0b1ZXs': 459224,\n",
              " 'spotify:track:00NM9wJeUMgNQaiYWRKsty': 14120,\n",
              " 'spotify:track:00NMZqILRRrbAF0B1TVJTW': 663106,\n",
              " 'spotify:track:00NRDlIbkWZj6tq10kR186': 298525,\n",
              " 'spotify:track:00NRQ3N24ebpfRbg4tlmDa': 145755,\n",
              " 'spotify:track:00NRoYBOp7kzK6KNNczwZu': 440458,\n",
              " 'spotify:track:00NUqFMIpCsrYPbM9YpVHQ': 211593,\n",
              " 'spotify:track:00NXtrfsj6vV8qOdGCZ8aj': 131532,\n",
              " 'spotify:track:00Njx9mNPmvCVqptQsWK1E': 566645,\n",
              " 'spotify:track:00Nl3YXzDCJ4EKdBcDRNVW': 187747,\n",
              " 'spotify:track:00NlCBSe1NWfV9NXKYW9h9': 397095,\n",
              " 'spotify:track:00NmK2seXpRFNAEsRBe7lc': 224149,\n",
              " 'spotify:track:00NnZ4CDQ7opiVRImcPc9x': 18729,\n",
              " 'spotify:track:00NxCtvQTy3wkSvpaKEyKe': 658508,\n",
              " 'spotify:track:00NzC5oDRjofhW9bJW61d4': 292429,\n",
              " 'spotify:track:00O14PokKAgP9ZsQEFGLuY': 620477,\n",
              " 'spotify:track:00O161vlwHHo9eNaiuOr7U': 88291,\n",
              " 'spotify:track:00O90kIjw6QYgjhrz3B7Ej': 550430,\n",
              " 'spotify:track:00ODCfwZix0sfqSfBYT18Z': 236044,\n",
              " 'spotify:track:00OGUK7YlgtrKMlmdHcc0i': 606703,\n",
              " 'spotify:track:00OGW2faCrQiBXW08KdsYT': 189510,\n",
              " 'spotify:track:00OH9mupYNk5wE2CM12d2Y': 419683,\n",
              " 'spotify:track:00OHXqfI4QQN25lbIipmaZ': 265104,\n",
              " 'spotify:track:00OHmw4fpyBaUW3tnKfoSQ': 565687,\n",
              " 'spotify:track:00OKDIsSQbx8rd5Al7fKNw': 72208,\n",
              " 'spotify:track:00OMaIm4VEsUcXad5Pf1Qe': 130241,\n",
              " 'spotify:track:00OOQqfRVLnuqYvjuwX4hu': 598172,\n",
              " 'spotify:track:00OPcSZQGdqzngWswDoHvw': 37220,\n",
              " 'spotify:track:00OPjxbNQggoAWBoFfgosY': 285958,\n",
              " 'spotify:track:00OQLYBeYUAIARkXwpJUQN': 255177,\n",
              " 'spotify:track:00OSmCSJO0pDvObq2oI3zP': 148414,\n",
              " 'spotify:track:00OVYXTQKySmpXID9LksUh': 62012,\n",
              " 'spotify:track:00OY7B2Tod8sXcZOaK2dIj': 331139,\n",
              " 'spotify:track:00OZDX72nrmnb4rryUrYoR': 136416,\n",
              " 'spotify:track:00ObRkC1T6YxcsiodwZJkT': 59231,\n",
              " 'spotify:track:00OcqITRoYZMBxImaVE7cY': 206393,\n",
              " 'spotify:track:00OdV01gw6oAfqVrKcHHsG': 18873,\n",
              " 'spotify:track:00OmrAKwQU9917BNnK3oKC': 517903,\n",
              " 'spotify:track:00OpO6WZ3njgKoXHeFC4ld': 261705,\n",
              " 'spotify:track:00Oqzy5Au1WB68ikBZXy4U': 518312,\n",
              " 'spotify:track:00Or1kbdEn5vWuM2r1lNJE': 259142,\n",
              " 'spotify:track:00OsHaL2pmHBHKYK1OEPW3': 665034,\n",
              " 'spotify:track:00OsUvKEmqukwQHlDuuACL': 558953,\n",
              " 'spotify:track:00OtWRSjAhhbTADcokdt3h': 172849,\n",
              " 'spotify:track:00OzUEgsPIqPK1LGaQBHMk': 38148,\n",
              " 'spotify:track:00P0ap9j7WRP34eFiCYcPC': 589944,\n",
              " 'spotify:track:00P2drhuXmKNeBkSDYYALn': 276538,\n",
              " 'spotify:track:00P550lNysHoxmQMVaIa9a': 516142,\n",
              " 'spotify:track:00PBac4gCqWGmC7reMoHwP': 604935,\n",
              " 'spotify:track:00PDioJ7wYyUHyZxIKHFUf': 672131,\n",
              " 'spotify:track:00PHoNICN9jxbowMFixNOo': 616067,\n",
              " 'spotify:track:00PHw50If2awJ3cbV9OVbD': 123346,\n",
              " 'spotify:track:00PPcu7daHleUNZ7APsMGm': 264231,\n",
              " 'spotify:track:00PXizG9xlUNINeqADlh96': 68939,\n",
              " 'spotify:track:00PYo4pityJaeHSvA1Q43f': 575761,\n",
              " 'spotify:track:00Pcl2BlI8iTeZfbcgXyV6': 243222,\n",
              " 'spotify:track:00PdVhdHN9xrfeI2oDQPz4': 123009,\n",
              " 'spotify:track:00PgSz71wq7kkcWvyhZ0vB': 149372,\n",
              " 'spotify:track:00PhRxMpNWMaIgGLrYeSEB': 146443,\n",
              " 'spotify:track:00PxUmQv1WdNhX5xNwG54f': 21679,\n",
              " 'spotify:track:00PxiM4LnGHyODilVQEOvg': 414815,\n",
              " 'spotify:track:00PxwEcE77ULYFx3VpvOfy': 516641,\n",
              " 'spotify:track:00Q0wkRk4zGZH8njf7SH9D': 141281,\n",
              " 'spotify:track:00Q4812gFneSAQvtvANLKl': 215469,\n",
              " 'spotify:track:00Q6qviIuEgjVhjh2R4HBb': 231585,\n",
              " 'spotify:track:00Q7nQYFw3vw0XB0yvGKoT': 161080,\n",
              " 'spotify:track:00Q84jQZnU3a9F8tLOVDRv': 670046,\n",
              " 'spotify:track:00QCjsQkotBhwWfn4pkIAP': 681312,\n",
              " 'spotify:track:00QGDT5WMdkDtfXOcNCb0d': 397814,\n",
              " 'spotify:track:00QO92Jpi7yj7EtlkBtGn5': 123495,\n",
              " 'spotify:track:00QPN7ndBkmmxcAVDvgMEM': 626716,\n",
              " 'spotify:track:00QQ1Cv1i7Tn4Ny6hNu00I': 37829,\n",
              " 'spotify:track:00QVLE1c8gZh3tAoxCpPPx': 330272,\n",
              " 'spotify:track:00QY5fzk5z1bBf2F57JWqp': 322679,\n",
              " 'spotify:track:00QaTu0GmLLjGSVAd2qiq1': 385233,\n",
              " 'spotify:track:00Qf4KcxnaKOSA7X4Mlktu': 310313,\n",
              " 'spotify:track:00QgToy12imsCl75IgzW4D': 118561,\n",
              " 'spotify:track:00QhKEeS9uyJX1WgrWW33p': 544290,\n",
              " 'spotify:track:00QhKtH4ZT689IfcNMyhrf': 487397,\n",
              " 'spotify:track:00QmegVzpoOrMXiknQf5ED': 487175,\n",
              " 'spotify:track:00Qo6i6DpICrMdSqUDGWZD': 507712,\n",
              " 'spotify:track:00Qum7j2nKb2wKo8floWBy': 336903,\n",
              " 'spotify:track:00Qv66BKMcYpCOxtYh7YYe': 27287,\n",
              " 'spotify:track:00QvCe9LcMqDULA9yrjGDQ': 463741,\n",
              " 'spotify:track:00QxPiv5tWA0DivDF4bFzR': 141971,\n",
              " 'spotify:track:00R02LtfsbcXXWQfAbcxf9': 611160,\n",
              " 'spotify:track:00R0bzXiO7vsXt2AT8OV9g': 275661,\n",
              " 'spotify:track:00R5obzT0EspCOUIzTxrSY': 504131,\n",
              " 'spotify:track:00R97wynyp81ffSe2TqGMB': 191790,\n",
              " 'spotify:track:00RDBtylPMV0gJDZfPAb62': 65673,\n",
              " 'spotify:track:00RKyhQcwWiPDs6uyCzDRO': 195818,\n",
              " 'spotify:track:00RNoCcjh2pUklJf6HkHpf': 24837,\n",
              " 'spotify:track:00RQr4MKP1wq1BCGuvLmiU': 582690,\n",
              " 'spotify:track:00RSNe0mCi3fU99Xqk49vq': 384630,\n",
              " 'spotify:track:00RUi6tnX8oRGuaAZNqs9Q': 417270,\n",
              " 'spotify:track:00RWo4ztKxtyTCSkj69JZH': 453263,\n",
              " 'spotify:track:00RXRO3lMRX2jzqSLPOUYG': 504520,\n",
              " 'spotify:track:00RY8ND2vmnVaxG7fi2Ndd': 64473,\n",
              " 'spotify:track:00RYiT3a2lNQ1wTKBQXWSw': 111479,\n",
              " 'spotify:track:00RYw42tKwXecTaVay3BKl': 122717,\n",
              " 'spotify:track:00RbDGfmOkvu9whN1VtLQu': 318919,\n",
              " 'spotify:track:00Rbc4B6MyZUqGNKExktkT': 298341,\n",
              " 'spotify:track:00ReeHCY0FQUyuAUyPJdnk': 556232,\n",
              " 'spotify:track:00Ref7MMoKKDTik0YT2WHA': 681037,\n",
              " 'spotify:track:00RhMZwmPZEZY3bbFV5VJK': 474471,\n",
              " 'spotify:track:00Rj8gpylFlYIomv8eiTJP': 411732,\n",
              " 'spotify:track:00Rkm8Qx6s2x6k10wlPdjD': 177373,\n",
              " 'spotify:track:00RmjHrqaU5oY6u9YHyZ9R': 163128,\n",
              " 'spotify:track:00Ro1lnV3V6i87aY4t8Q43': 8071,\n",
              " 'spotify:track:00Roxf5Opk9tpXXhIAQl8i': 4116,\n",
              " 'spotify:track:00RtAVdwxMbzkGAClFmZpo': 102754,\n",
              " 'spotify:track:00RuecMopNxEAXP0Duxh8K': 302194,\n",
              " 'spotify:track:00S0eOLwzdqcC9V8hmigD2': 441208,\n",
              " 'spotify:track:00S1bm3eXmTJ6tQXVvjZJl': 127183,\n",
              " 'spotify:track:00S35gEf40z03JTJgvQMqi': 528780,\n",
              " 'spotify:track:00S7IIk3V9ChIcfScLyb3r': 672167,\n",
              " 'spotify:track:00SCk8Lz68HpNNWHiAiVHU': 461563,\n",
              " 'spotify:track:00SECoid092XnXI3vIaWyB': 59121,\n",
              " 'spotify:track:00SHcXnP8UDPh6H1E7PRJc': 671301,\n",
              " 'spotify:track:00STIDsTL8t7VZberk6mfO': 446025,\n",
              " 'spotify:track:00SVJfuj9slAkCSLpKEm1A': 203337,\n",
              " 'spotify:track:00Sadgj3G0NqtbgQrqPCoB': 289673,\n",
              " 'spotify:track:00Sba7iew3KWnzH5CkH9bi': 253900,\n",
              " 'spotify:track:00Sd5ttMrx6FyjsI8qpP1c': 610934,\n",
              " 'spotify:track:00Sfdqr1LK5w39trORJ6mf': 468251,\n",
              " 'spotify:track:00SfxAAVH3c3ZnvEHdIjAQ': 364675,\n",
              " 'spotify:track:00Sh15F1BSspU4KE7O2zdS': 178369,\n",
              " 'spotify:track:00SkBYB75eN5k0vexSE6oW': 186705,\n",
              " 'spotify:track:00SkFuFG0cGIPnp2olKhTo': 183602,\n",
              " 'spotify:track:00SlXYapXP5KuDarLc2hUJ': 329011,\n",
              " 'spotify:track:00SoIMYmXRmDelWr3oInEU': 255704,\n",
              " 'spotify:track:00SqTgYuNQyZv11TehI6ey': 313705,\n",
              " 'spotify:track:00SyEUnf8XFHzTnT5Ieplm': 180165,\n",
              " 'spotify:track:00T2NQ25ksvAPAkAke1qZQ': 25848,\n",
              " 'spotify:track:00T4mz4MQjrjatqWKZIHax': 300069,\n",
              " 'spotify:track:00T8JtwE2gJ0dhirtOiT5u': 342724,\n",
              " 'spotify:track:00TD6nk39R6exWABp54IUD': 145834,\n",
              " 'spotify:track:00TGiIbiQMynLQ46G3P8JT': 610056,\n",
              " 'spotify:track:00TI1WBMFfTCBqkkt2tQBd': 380766,\n",
              " 'spotify:track:00TJqoVdhWlLjg8dz56l3k': 465033,\n",
              " 'spotify:track:00TKOaYH9HNYq4YJIQUDFL': 58666,\n",
              " 'spotify:track:00TKVJiwDXtibSzpe6vzFg': 442782,\n",
              " 'spotify:track:00TMxCmCRoiLitN3tboYqE': 295025,\n",
              " 'spotify:track:00TPQGJtYOOn1ys1iLbaBU': 331576,\n",
              " 'spotify:track:00TU7szqwBrxWTd9SO7ihK': 3965,\n",
              " 'spotify:track:00TUCFopQxpx0sva5PkktH': 497056,\n",
              " 'spotify:track:00TYGpRlRAvmLApTtFL93A': 150977,\n",
              " 'spotify:track:00TZSDBB76Tna39wd8OmnD': 11667,\n",
              " 'spotify:track:00Ta0ZgkyYN0YattjE4NtZ': 309317,\n",
              " 'spotify:track:00TcTA9e9wchQDGmbh1OU1': 189837,\n",
              " 'spotify:track:00Tdk7uw0KudbIrdg0niLi': 608066,\n",
              " 'spotify:track:00TlRSbJnZhoCnMJUXOThP': 538141,\n",
              " 'spotify:track:00TrtYvW70veJbSlY6P13X': 35558,\n",
              " 'spotify:track:00Ts5T7oEYIRGWECrZGWdm': 231709,\n",
              " 'spotify:track:00TsHNlW2VPV2pdR98AeaP': 374317,\n",
              " 'spotify:track:00TuAQUOAsHlpukIt3T5KX': 603018,\n",
              " 'spotify:track:00TuAlmDT4ILjpoQEIsRlP': 634826,\n",
              " 'spotify:track:00U0UHiM7CZjOhUPJUKh4L': 481680,\n",
              " 'spotify:track:00U0pedRUMEzREpyRqbVT6': 553803,\n",
              " 'spotify:track:00U1XJle7zmF0314TSSueZ': 293976,\n",
              " 'spotify:track:00U4T81OGyW5s5ShjnYnd9': 554617,\n",
              " 'spotify:track:00U4xCAgW0H2sVdUw8EkLf': 177187,\n",
              " 'spotify:track:00U6hnT7HQVuyVsHbLJMAy': 74334,\n",
              " 'spotify:track:00UD81sud4orEbapQsJoqb': 268391,\n",
              " 'spotify:track:00UDD8mjooNiezsxVRCYWX': 162600,\n",
              " 'spotify:track:00UKY6lGFrWIWUpenlFlHt': 560479,\n",
              " 'spotify:track:00UMEqXMpXAjMsnNGgOG1E': 670950,\n",
              " 'spotify:track:00UP7VEHdh8ePoMLb2cyiv': 499916,\n",
              " 'spotify:track:00UXnfEZXwM1AuwaM5H7nM': 50663,\n",
              " 'spotify:track:00UXyk9srWNa6DbczkhgCp': 168846,\n",
              " 'spotify:track:00UZ2Bg74l7yRzKmOaAQuj': 281577,\n",
              " 'spotify:track:00UZEtDyUxEZ3REIepXkG4': 436536,\n",
              " 'spotify:track:00UZySJXRYQgnOrlzluIIm': 457126,\n",
              " 'spotify:track:00UcE0P99BlTptAk1xANKo': 216922,\n",
              " 'spotify:track:00UdE8NSz5ZL4ZqUoiFvmz': 524982,\n",
              " 'spotify:track:00UhyTJRDedhlXaiBRkQFZ': 258719,\n",
              " 'spotify:track:00Uik2OOWaDYDC8n5qLQij': 528915,\n",
              " 'spotify:track:00UkXwXJXxlGro7bj7K0SI': 170075,\n",
              " 'spotify:track:00UykwbGibZUljAvgfQvIq': 458710,\n",
              " 'spotify:track:00V2jgXWvvwY5wWan8buzm': 581572,\n",
              " 'spotify:track:00V3Ewb71xvfLksHpTmRma': 560109,\n",
              " 'spotify:track:00V7hys3DAMc0odkTw2TeI': 268183,\n",
              " 'spotify:track:00V7xyNadm1Z2Bs3vS2rwY': 517267,\n",
              " 'spotify:track:00V9gVRfH1WK2bd5cDn0xD': 177616,\n",
              " 'spotify:track:00VHzOaRFSDuYAS3fTv85L': 606848,\n",
              " 'spotify:track:00VJyhUcGNB8mIPXOVXuBz': 315935,\n",
              " 'spotify:track:00VKjTegmSozg5BEKbDvoy': 258252,\n",
              " 'spotify:track:00VKwxwOqv3jFfXbF0lgby': 590154,\n",
              " 'spotify:track:00VQoJbv5BWgGe22JEe1KT': 34130,\n",
              " 'spotify:track:00VUCaPrdGEqlhUkJyDZWQ': 251430,\n",
              " 'spotify:track:00VYFpfr2X5qnXxKPb0FR2': 400181,\n",
              " 'spotify:track:00VbFhxSgbyf0AReigRWX0': 37013,\n",
              " 'spotify:track:00VhiE2X6zzmURAOuhwRdh': 122190,\n",
              " 'spotify:track:00VjjswVAMqLsRNBao6OM5': 432498,\n",
              " 'spotify:track:00VmVLv1TxN0ALiiwY767l': 582194,\n",
              " 'spotify:track:00VpL1Gsi32KfRP74C0vkM': 12245,\n",
              " 'spotify:track:00VpefDueq3OB9zkZHLDVI': 359408,\n",
              " 'spotify:track:00VsPRDxF0gKGice43gxEb': 680090,\n",
              " 'spotify:track:00Vt94yrFxtcWiSG8BVxrw': 261538,\n",
              " 'spotify:track:00Vwg2mh17OuT9iIdZwOcR': 403911,\n",
              " 'spotify:track:00VyOog15Dun5ovBt6T9Ek': 166589,\n",
              " 'spotify:track:00W0z4GR2fU8v11dhszOdw': 451569,\n",
              " 'spotify:track:00W1p1EeD140DHSrVjhhlR': 346061,\n",
              " 'spotify:track:00W5ThRIn0d1bQNOp0S0af': 477304,\n",
              " 'spotify:track:00W6fkIZpX6nJ4OvMiywV6': 366522,\n",
              " 'spotify:track:00WAVv6mwCtAQQEgjuajKm': 433097,\n",
              " 'spotify:track:00WFoR7tPga5Wj92MSR3eD': 328123,\n",
              " 'spotify:track:00WGeJ6oHgaZrLJiKwe9Nw': 125262,\n",
              " 'spotify:track:00WQhCaTvtFZTSTAWTXOyt': 258515,\n",
              " 'spotify:track:00WR032wBBPSLw6PCIJNIJ': 621336,\n",
              " 'spotify:track:00WU31DXRd2Q7GMemE0Thi': 22791,\n",
              " 'spotify:track:00WVclSOdTPuLYTott68Wl': 324087,\n",
              " 'spotify:track:00WXjbcR195RztyuAQ90ub': 573782,\n",
              " 'spotify:track:00WbLoO3bSlUdAy8al106S': 26514,\n",
              " 'spotify:track:00WdKWJap2kdgJLEuMj6ul': 248171,\n",
              " 'spotify:track:00WfgSQqzLGDlVyUvFINQ3': 62559,\n",
              " 'spotify:track:00WgnFIsY1y84p7mYAJRuF': 94977,\n",
              " 'spotify:track:00WhZJedhHaETrCFmcGZe6': 36553,\n",
              " 'spotify:track:00WlhL0LSsLLPxpE26ulrs': 245342,\n",
              " 'spotify:track:00WmO4fU9Dw4MsOsX224lv': 288739,\n",
              " 'spotify:track:00Wnp2Nv4JzD5X7JO5Wz2E': 223073,\n",
              " 'spotify:track:00Wp5TJa4GveW5KQQlWoya': 527287,\n",
              " 'spotify:track:00Wro4w66YHfc2SoqpjbFO': 260556,\n",
              " 'spotify:track:00X0ABCr4AZpT5GDfwjdcg': 649769,\n",
              " 'spotify:track:00X2yv2vrtritPt2CZnUTZ': 129499,\n",
              " 'spotify:track:00X5b3HjVzhVWtqM45Jue3': 75510,\n",
              " 'spotify:track:00X6892vqBVYLpS6Ys6Bom': 341601,\n",
              " 'spotify:track:00X70UwcYumvXkqQ5zU9UK': 52360,\n",
              " 'spotify:track:00XCPYFqZQ3AKNH6q00io4': 643918,\n",
              " 'spotify:track:00XD1fFPudtLGwuZsToWs0': 297206,\n",
              " 'spotify:track:00XMrlACPn8f93tD3Fx14S': 16547,\n",
              " 'spotify:track:00XP0o05u7lD4bGuBvurQj': 116047,\n",
              " 'spotify:track:00XT6cE0w2zVkcWmsz7Vh6': 613580,\n",
              " 'spotify:track:00XTqEBNe09BsqvmZP7H5W': 219671,\n",
              " 'spotify:track:00XU7DoUePDaxJeTkx4lPF': 52702,\n",
              " 'spotify:track:00XXUBsdOe8cLPo2p64Dd3': 504704,\n",
              " 'spotify:track:00XY5xbYdeWB4cBFkLSxBU': 493085,\n",
              " 'spotify:track:00XYBj56ohUiNuQKiVXLwD': 196852,\n",
              " 'spotify:track:00XYhSmF4bhw40iEs2C7cx': 525634,\n",
              " 'spotify:track:00XZmcMpVgbrs2Lnxjh0PW': 645515,\n",
              " 'spotify:track:00Xh1x0z7pBEhCYV4eBXtk': 13027,\n",
              " 'spotify:track:00XjfMrdE9imXviMqN8x0m': 260167,\n",
              " 'spotify:track:00XjwOz9DOU0fKnh17GXOv': 116480,\n",
              " 'spotify:track:00XpKpGl2znyDunNq2Oi8E': 366544,\n",
              " 'spotify:track:00Xqi5uPEriKGsT5CJinXM': 204433,\n",
              " 'spotify:track:00XrSeoUJusUuWvqd08lyF': 131353,\n",
              " 'spotify:track:00XseUesbErSr2XuZP3rkT': 169878,\n",
              " 'spotify:track:00XsewFGGCOglLz6WZqMDL': 288107,\n",
              " 'spotify:track:00XuZXr2f7d9KJro7jwyPG': 664100,\n",
              " 'spotify:track:00XwXVuJCWBjKgyihnAS2y': 504308,\n",
              " 'spotify:track:00XwsB20bwisKzazPgO4RY': 517022,\n",
              " 'spotify:track:00Y2wpTbjFDOnNWgAXEhYZ': 322761,\n",
              " 'spotify:track:00Y7XP3eDgo7Es5ryMVXWv': 474542,\n",
              " 'spotify:track:00Y89Ir6nXEQdKQb3GLjet': 450997,\n",
              " 'spotify:track:00Y91cFfAyl3GMlrMsc62f': 318848,\n",
              " 'spotify:track:00Y9kyKzhYvhEyujstbJwl': 312848,\n",
              " 'spotify:track:00YCRrySf0dJ6nRCKYSAkA': 379725,\n",
              " 'spotify:track:00YFVZpB91oVB7wIwEUiZ8': 585128,\n",
              " 'spotify:track:00YGqXmsnrpbyrGmadIf3r': 297620,\n",
              " 'spotify:track:00YNI6Dix0wGj5iGPswrZr': 378939,\n",
              " 'spotify:track:00YPicL0M7aAgSGkYaDGFh': 237492,\n",
              " 'spotify:track:00YRtmNTvAy3cm3qC0rcMu': 181928,\n",
              " 'spotify:track:00YUbK1ouKc3PAkyiQWvgs': 680584,\n",
              " 'spotify:track:00YZe5lEquiqyJmpQ2Z0Ez': 387217,\n",
              " 'spotify:track:00YabLOIYi52ydLaT1DLRd': 248214,\n",
              " 'spotify:track:00Yd47Inz76qXMDoE3600A': 284044,\n",
              " 'spotify:track:00YeYHw6zhoy1y7EPTgIkj': 3048,\n",
              " 'spotify:track:00Yj0UDLjdgtShW3WbXi0G': 206898,\n",
              " 'spotify:track:00YnfZzpODxlE6nNwfPCbv': 343077,\n",
              " 'spotify:track:00Yp2m07E5UxEk9NaY1OVd': 306351,\n",
              " 'spotify:track:00YtLQFXxk3QEJ3MzgsnL9': 151507,\n",
              " 'spotify:track:00YtMc7FG1nn743LKP8Ga1': 8625,\n",
              " 'spotify:track:00YvILLIzI0hlA187du3mm': 668823,\n",
              " 'spotify:track:00YwKTnP2LKlNPa8Pe1jz2': 382840,\n",
              " 'spotify:track:00YzFn2D4TmeR2ror6VQbh': 442279,\n",
              " 'spotify:track:00Z7agJM4usYHBpHKGNNX9': 78518,\n",
              " 'spotify:track:00Z8luxyBG7IH9ADZD0HIY': 177067,\n",
              " 'spotify:track:00Z95ONtE1g1TqCe4SPqx9': 587296,\n",
              " 'spotify:track:00ZCElwOKMH7xuBwfLw9Qn': 192754,\n",
              " 'spotify:track:00ZCe8nJaOU3tnHyWO0Rg8': 89230,\n",
              " 'spotify:track:00ZNj2Chjw91Br5poS8suG': 45496,\n",
              " 'spotify:track:00ZROeHf7xvMw5q8wAYf9O': 111198,\n",
              " 'spotify:track:00ZTOOskjPudvE9YkpELRE': 475537,\n",
              " 'spotify:track:00ZUdCBTvkzbEgoZbX62Ca': 96833,\n",
              " 'spotify:track:00ZVirYmp7wZcnbaz2e4TO': 562814,\n",
              " 'spotify:track:00ZXLosaJKdQo5NR1Lwwym': 386065,\n",
              " 'spotify:track:00ZbAXivAAvNZfLi1hmiBY': 196225,\n",
              " 'spotify:track:00ZgQdTz6MnvrwisZjXT9H': 118731,\n",
              " 'spotify:track:00ZjoWAmWthYANanwhYQbi': 653045,\n",
              " 'spotify:track:00ZkdrgrEn6E9sEaixxyGR': 13821,\n",
              " 'spotify:track:00Zq0A5057ABTmSVEJqAT0': 536285,\n",
              " 'spotify:track:00Zum0eGUHgcE5l8MoNuUG': 331673,\n",
              " 'spotify:track:00ZvHVUdHcZNAwxGSKTGCk': 641918,\n",
              " 'spotify:track:00ZxWxIZmxsaI3skfRebMe': 19777,\n",
              " 'spotify:track:00Zysf4JCQRkLQcxT1n8tq': 281397,\n",
              " 'spotify:track:00ZzWE6jCZMVpa4m6jpqSE': 34485,\n",
              " 'spotify:track:00a79vDmbQXk2VumENZrEX': 583815,\n",
              " 'spotify:track:00a8YXC9tCjbK0CyZukpX2': 285248,\n",
              " 'spotify:track:00a9S45l0EFz4tncJyfOZK': 369948,\n",
              " 'spotify:track:00aCygO23kKH96F4QcSZeC': 208780,\n",
              " 'spotify:track:00aDaQoYvFRzM2tqrFsKmi': 644219,\n",
              " 'spotify:track:00aPon2z69xIf1nFSOEwsy': 151354,\n",
              " 'spotify:track:00aQGSiMHrTcn7PoCrlcUH': 531997,\n",
              " 'spotify:track:00aQGaqM6SFzGfbgKOite0': 124903,\n",
              " 'spotify:track:00aZAHgZVz59MaknUavpl0': 481445,\n",
              " 'spotify:track:00ac5e2WoOmt15UojA9g9C': 171730,\n",
              " 'spotify:track:00aelKQRaoMc6PkybvkLnE': 448962,\n",
              " 'spotify:track:00ahHgmat6k1ILBGcFk3Qj': 190418,\n",
              " 'spotify:track:00ailAfAjjifgelyFD6nHP': 493011,\n",
              " 'spotify:track:00amaRS950nVV6M4SlVvVl': 51743,\n",
              " 'spotify:track:00anRhXrhX7pUzZ3BDg9na': 67156,\n",
              " 'spotify:track:00anZtLE1c5NAny7TbyLpe': 180713,\n",
              " 'spotify:track:00aoFKbZxBH8vcfVAQg0HG': 29855,\n",
              " 'spotify:track:00aphq3009BgiH0tkx7fV5': 422223,\n",
              " 'spotify:track:00aqS3JN9Q5WpSjaAbFvkd': 530100,\n",
              " 'spotify:track:00ax3JtWDHLuKIKs89LepQ': 88146,\n",
              " 'spotify:track:00axLzzNtW8M5NPFhs1bNu': 679657,\n",
              " 'spotify:track:00axTlCXkxDPO4WkafVe5J': 379614,\n",
              " 'spotify:track:00azswHQTMr0eO6LNW8drf': 314287,\n",
              " 'spotify:track:00b7i3sXa6hlR2ZIDwyNLN': 164741,\n",
              " 'spotify:track:00b8AdIXfMqTCWD4f8wXbj': 616979,\n",
              " 'spotify:track:00bBPy5EPrBuz2vMcAFgsv': 102697,\n",
              " 'spotify:track:00bF3GUPRGPUbtjehC6acA': 408655,\n",
              " 'spotify:track:00bG1RjQJbmBQqXMTnLnia': 540612,\n",
              " 'spotify:track:00bHxCcteaAJhU5WiP1mtf': 190719,\n",
              " 'spotify:track:00bLbwcwdkpb48w1scRIFh': 617912,\n",
              " 'spotify:track:00bNLVSf4r1MilJmTJbiNq': 296917,\n",
              " 'spotify:track:00bOhb4584JjyfTiXX81mO': 214425,\n",
              " 'spotify:track:00bZ3ar5VEjEfOKbhqg9lG': 293953,\n",
              " 'spotify:track:00bc4xzZEvuFDFGQVKgpJB': 181992,\n",
              " 'spotify:track:00beHO2oTWTZMfcGukiHo2': 667893,\n",
              " 'spotify:track:00besIJtq9bGLmwsJvBNBd': 671454,\n",
              " 'spotify:track:00bgRGFhPnYZsqByNioQQj': 351874,\n",
              " 'spotify:track:00bhxWbdhrQBEJWKYe9YUc': 84156,\n",
              " 'spotify:track:00bkv1Fw219Wz7liFFxaZW': 448988,\n",
              " 'spotify:track:00blYtuM22dQpn693F2BlC': 125044,\n",
              " 'spotify:track:00bloBxdtWI0PbnhVIaTEr': 644249,\n",
              " 'spotify:track:00bnP8RyknzZMkNlEAO2ih': 326590,\n",
              " 'spotify:track:00bpafawt2cqZpOJklxGpL': 598462,\n",
              " 'spotify:track:00bqUpmhoxjX4vK5wr7cZR': 563508,\n",
              " 'spotify:track:00bqyrpMRS8VT17n9OktxY': 365975,\n",
              " 'spotify:track:00btSU8rfO1VJqfxmqNOB5': 37504,\n",
              " 'spotify:track:00bvd25xEMnE9Un4W76Erf': 285308,\n",
              " 'spotify:track:00bx6daJkVcdlGw1vfixPy': 98262,\n",
              " 'spotify:track:00byHgu1ziZR8AbWC7B2Kt': 608365,\n",
              " 'spotify:track:00bzvgX6mS4FJ8lRk6kQCI': 218231,\n",
              " 'spotify:track:00c444jmeXQRi0bwIc5qEn': 228691,\n",
              " 'spotify:track:00c81raDwIJa803nmAgcU3': 647650,\n",
              " 'spotify:track:00c9D6UIq8Yu06xdLVB4S5': 290273,\n",
              " 'spotify:track:00c9VpjXk7iHdLEEzrAxbr': 119745,\n",
              " 'spotify:track:00c9quh430jCFDiD91NnWk': 48650,\n",
              " 'spotify:track:00cAz18F7uLKFwls8OrhNo': 68069,\n",
              " 'spotify:track:00cBbYhjnOBO0mO67EZHdB': 550119,\n",
              " 'spotify:track:00cEvqsbsJ8AW9akjOX7Av': 456484,\n",
              " 'spotify:track:00cGr3oLNjjESBJ3OQyyCE': 650010,\n",
              " 'spotify:track:00cGtJ8R6LLks6buoXNPpQ': 566128,\n",
              " 'spotify:track:00cI6YyD7hkYL6ByiX2TpU': 82802,\n",
              " 'spotify:track:00cJC0Q48bwNMLEo5V5gxU': 45020,\n",
              " 'spotify:track:00cP5rqzL6ZrwMaqTEeGIN': 12775,\n",
              " 'spotify:track:00cSN1TMyHZErfyJbLMB05': 323892,\n",
              " 'spotify:track:00cTL0PQtMkII9YKsRPYKD': 246581,\n",
              " 'spotify:track:00ce84GEM0gBzv5QYvsHIs': 272862,\n",
              " 'spotify:track:00ceVqQBhF9Angv9jSkNtW': 89335,\n",
              " 'spotify:track:00cfy8ZGtSgecKUxQT7zt1': 176050,\n",
              " 'spotify:track:00chQGvija63zygRg8nyL6': 257146,\n",
              " 'spotify:track:00cioPPTRj17FTWdfoMDKk': 426350,\n",
              " 'spotify:track:00cjb9ge4OJllcoUN8l1jm': 629850,\n",
              " 'spotify:track:00ckDRc2P9sA1NkOP5oRlv': 164803,\n",
              " 'spotify:track:00ckniobKTrB2ufIm2HmGc': 648459,\n",
              " 'spotify:track:00cl5qMlCQUi4R1rUmFZi5': 570843,\n",
              " 'spotify:track:00clepuJwiRgBYkiOOXklA': 563885,\n",
              " 'spotify:track:00cqd6ZsSkLZqGMlQCR0Zo': 322557,\n",
              " 'spotify:track:00cr1fLWx8gH42doAoHAvh': 186372,\n",
              " 'spotify:track:00cs7mlkTcIIoWnm8G0U0l': 547935,\n",
              " 'spotify:track:00cspzYSOi2OuM2TCjzSyM': 236724,\n",
              " 'spotify:track:00cuPJEjZ0tHT1uz7pSrpY': 213772,\n",
              " 'spotify:track:00cvECtJhzyEpp95i3Dtm5': 526832,\n",
              " 'spotify:track:00cydrmb347MDvOq1nEoGz': 281838,\n",
              " 'spotify:track:00d03eGeoWTaFLJ1AshFWE': 170027,\n",
              " 'spotify:track:00d3q5M3YI42f4sVrgcpmK': 420218,\n",
              " 'spotify:track:00d5xg90Mvl5bvK18oliSI': 21656,\n",
              " 'spotify:track:00dDPRbDsoo95QlhZAcNdL': 666744,\n",
              " 'spotify:track:00dDcSUw2uPbU4Sp2NwOxC': 455867,\n",
              " 'spotify:track:00dGNt91iEArbuBEfCgbFN': 397894,\n",
              " 'spotify:track:00dIXWWjdaRBLtPRQJXqOj': 139993,\n",
              " 'spotify:track:00dLsQB1aR3sXXEwc3easd': 221073,\n",
              " 'spotify:track:00dMqLGNZ3OJamy0a6N1CZ': 189638,\n",
              " 'spotify:track:00dXGkTkv6vSD1N6CTnj1a': 410537,\n",
              " 'spotify:track:00dZSdvBiRnSq7WwnGNdf8': 55943,\n",
              " 'spotify:track:00dapWGxyBHeaxZob8aUz1': 383323,\n",
              " 'spotify:track:00dgK4Nln0AJQvI66SLRDb': 317127,\n",
              " 'spotify:track:00dhuugTq7XaBohK71vN48': 11819,\n",
              " 'spotify:track:00dihyAbSrkiSBbXVJCBu6': 92754,\n",
              " 'spotify:track:00dsW90jcHu4TwoSgFYvWF': 406592,\n",
              " 'spotify:track:00dze00bHbpbVvpE4y4JuU': 564650,\n",
              " 'spotify:track:00e0clynzXwlnufc9bKdG5': 87746,\n",
              " 'spotify:track:00e8qdyKGWzRD5MBed6cED': 54600,\n",
              " 'spotify:track:00eJNlARSHIH32qEu2w2vJ': 157404,\n",
              " 'spotify:track:00eJUqc5XcWsONZQsw3CNe': 629260,\n",
              " 'spotify:track:00eQhZv2u4X3qNTKAPbyGU': 531300,\n",
              " 'spotify:track:00eSBjcEtF8WcKyUKE86ee': 53365,\n",
              " 'spotify:track:00eTsmafQojWLS273yR5gO': 424725,\n",
              " 'spotify:track:00eUmfHL07d9oSaZqq3Ucr': 171872,\n",
              " 'spotify:track:00eZN9qjNE1gA6UiR1XLDf': 184302,\n",
              " 'spotify:track:00eZQ0PmvMgbhdwnm98y4R': 623815,\n",
              " 'spotify:track:00edHBTFClrbFtXutHxzHb': 415240,\n",
              " 'spotify:track:00eeaUHWi4gKZ2ENZpN8ml': 117550,\n",
              " 'spotify:track:00efU9s1tVptQB3SUabGvu': 182331,\n",
              " 'spotify:track:00ekiamGK6UrV2F3QvaPvi': 161843,\n",
              " 'spotify:track:00ekizdAvPUp495k8bkfGS': 142067,\n",
              " 'spotify:track:00epXPc1zNZ3NU5nBBIrp2': 178708,\n",
              " 'spotify:track:00epdG9ONPL8KkErbmKW8o': 212598,\n",
              " 'spotify:track:00epdN0YB5dJFAy9TldnbC': 604732,\n",
              " 'spotify:track:00eqFR8ToEkH69y5QwH4kE': 431138,\n",
              " 'spotify:track:00esYnwM4XEA1wKI6aSfuD': 447124,\n",
              " 'spotify:track:00esxBl3HNtky3BOOOEq0c': 411879,\n",
              " 'spotify:track:00ewfFrmQGMSSZpOhMeXv3': 558188,\n",
              " 'spotify:track:00eyfvuWaR6At0X5zhLFFI': 118723,\n",
              " 'spotify:track:00f0l5Y0tCBG6vhiorHldu': 282725,\n",
              " 'spotify:track:00f2hKqtGBHY3q1BytzIvi': 500742,\n",
              " 'spotify:track:00f38vrgYqSytpeS2unGyw': 329531,\n",
              " 'spotify:track:00f4SWiS8M7zx4tm589CNA': 385745,\n",
              " 'spotify:track:00f5PRX5IZwqWQUYnHm39U': 234479,\n",
              " 'spotify:track:00f5cJ88kjiyCLJebRHgAY': 29988,\n",
              " 'spotify:track:00fAOQMokG3b97LEyO2Wha': 315518,\n",
              " 'spotify:track:00fIRp9UfcIU7CX8kThyKR': 40779,\n",
              " 'spotify:track:00fJ7w7yVcBSdMvzV0cS41': 273912,\n",
              " 'spotify:track:00fN6Uq9ExjaSIiFOSMlE9': 298101,\n",
              " 'spotify:track:00fNdIFKoMxxt8Hnm2kAKL': 220019,\n",
              " 'spotify:track:00fQk76VruyEcuPnopvTBB': 308140,\n",
              " 'spotify:track:00fX5xEeIYd6J5caGZkyOV': 175700,\n",
              " 'spotify:track:00fbABFSx3C0IGbBZwZ6my': 129498,\n",
              " 'spotify:track:00fiu6lCtxZC4iU4j7f7da': 549135,\n",
              " 'spotify:track:00ftBOjRC1Bxi8BiXFqXug': 224292,\n",
              " 'spotify:track:00fy70HVHqJbG6AlM57ZTR': 520408,\n",
              " 'spotify:track:00fzjqSt5fnilRIuy5iq0F': 12528,\n",
              " 'spotify:track:00gALOxGYuoEOgP8giK4fs': 497228,\n",
              " 'spotify:track:00gDdePYlhcBBgwONCi1Ol': 160700,\n",
              " 'spotify:track:00gDsXEPnkR4IiBR9kOOFF': 42577,\n",
              " 'spotify:track:00gE13iAZAFwEdrI6BxbRR': 566867,\n",
              " 'spotify:track:00gHTsBNaVRiZA3AjVQeM6': 121091,\n",
              " 'spotify:track:00gKwGc2LdttYIF4ncZQHz': 262700,\n",
              " 'spotify:track:00gTBc6D5IspHV5tXtxfGH': 128929,\n",
              " 'spotify:track:00gUqGdgDDPpjXCkS28cZd': 133486,\n",
              " 'spotify:track:00gVLA5wOtIOEUoZcXxhCq': 199881,\n",
              " 'spotify:track:00gVws8Bz8cbfLrdHu7Z2m': 297421,\n",
              " 'spotify:track:00gfHjmsGVJkUdZ0sp0srE': 238306,\n",
              " 'spotify:track:00ggjWewjwpWHNd1wRJgY3': 635787,\n",
              " 'spotify:track:00giaEoUmMmGUenzXstBBn': 506902,\n",
              " 'spotify:track:00gkwfZmc1gL64AiUtLBx2': 617699,\n",
              " 'spotify:track:00glrr73dBVQYS3UtpvBTO': 341341,\n",
              " 'spotify:track:00gql4CySzvt7Y7Ki3FnrY': 532206,\n",
              " 'spotify:track:00gt3pq4gbD95iYq5PerDv': 53934,\n",
              " 'spotify:track:00gvX9sFwh19OH88f4v4jW': 281219,\n",
              " 'spotify:track:00gwlKTiWvu6xqvsWy7ehA': 8961,\n",
              " 'spotify:track:00h0xpSdRfPeGjajzOi5mv': 155547,\n",
              " 'spotify:track:00h12tbjC9Aa5uEuq9HrgO': 134809,\n",
              " 'spotify:track:00h32OTWBwcKSogvu1G2ZB': 57444,\n",
              " 'spotify:track:00h6syYCxPKVsInPHXhdZ1': 534319,\n",
              " 'spotify:track:00hBlI8O2jJyJjaQFQyrHA': 317598,\n",
              " 'spotify:track:00hKDW6CPwrt2dMDtctFUJ': 48105,\n",
              " 'spotify:track:00hLXIe28fT2kqQNYE7uNc': 376540,\n",
              " 'spotify:track:00hO26UwCgpDmViG6crrnm': 327184,\n",
              " 'spotify:track:00hRhmMiyznNLkl5qT1MsZ': 279324,\n",
              " 'spotify:track:00hTw7P6jPUio5Qgojw38w': 649023,\n",
              " 'spotify:track:00hUjt7XHLHwUB1L2V7HeP': 127479,\n",
              " 'spotify:track:00hVU6kDP67JHurfwG2dtq': 9829,\n",
              " 'spotify:track:00hXesZ6FexsLUCqbWXFQv': 313821,\n",
              " 'spotify:track:00hY9G7oTlWd86U3FYzwoH': 2329,\n",
              " 'spotify:track:00hcvtsu0TBSPpgy11fLk4': 465493,\n",
              " 'spotify:track:00hgtJwONC7jG6X0GUMXvv': 559219,\n",
              " 'spotify:track:00hh0NPClA0PJetfwn4k5R': 6623,\n",
              " 'spotify:track:00hiYMv79g6u4HS3Bx0Q1I': 269538,\n",
              " 'spotify:track:00hlIlc6Ezzm0KABuxulgW': 215272,\n",
              " 'spotify:track:00hmrOxqXyFXQNG0jLmN9h': 128086,\n",
              " 'spotify:track:00hnw1PZPgU9dBqzwpOQzc': 304211,\n",
              " 'spotify:track:00hoUlUgiKSWgS6Qi88f4R': 524464,\n",
              " 'spotify:track:00hxtI7BGMtpkOOKfV93Or': 260730,\n",
              " ...}"
            ]
          },
          "metadata": {},
          "execution_count": 148
        }
      ]
    },
    {
      "cell_type": "code",
      "execution_count": null,
      "metadata": {
        "id": "GDOER74y5WEJ",
        "cellView": "form"
      },
      "outputs": [],
      "source": [
        "#@title Old way of creating the rating vector dataframe\n",
        "# def _create_rating_df(playlist_row: Row, songs_df: DataFrame) -> DataFrame:\n",
        "#   \"\"\"\n",
        "#   Creates a dataframe that represents the \"ratings\" for a playlist in the dataframe\n",
        "#   \"\"\"\n",
        "#   playlist_row = spark.createDataFrame([playlist_row], playlist_schema)\n",
        "#   playlist_uris = get_all_songs(playlist_row)\n",
        "\n",
        "#   joined = songs_df.join(playlist_uris, on=\"track_uri\", how=\"right\")\n",
        "#   return joined\n",
        "\n",
        "\n",
        "# def _check_songs_ordering(playlist_row: DataFrame, songs_df: DataFrame) -> bool:\n",
        "#   \"\"\"\n",
        "#   Returns a boolean that indicates if the ordering in the songs_df and rating_df is the same\n",
        "#   \"\"\"\n",
        "#   playlist_row = spark.createDataFrame([playlist_row], playlist_schema)\n",
        "#   playlist_uris = get_all_songs(playlist_row, True).withColumnRenamed(\"in_playlist\", \"isin\")\n",
        "\n",
        "#   joined = songs_df.join(playlist_uris, on=\"track_uri\", how=\"right\")\n",
        "#   joined_left = songs_df.join(playlist_uris, on=\"track_uri\", how=\"left\").filter(\"isin == 1\")\n",
        "#   assert joined.collect() == joined_left.collect(), f\"The order of songs_df is different from the order of rating_df!\"\n",
        "\n",
        "# # def _extract_rating_vector(rating_df: DataFrame) -> SparseVector:\n",
        "# #   \"\"\"\n",
        "# #   Extracts the rating vectors for each playlist \n",
        "# #   \"\"\"\n",
        "# #   dense_vector = DenseVector([row.isin for row in rating_df.select(\"isin\").collect()])\n",
        "# #   return dense_to_sparse(dense_vector)\n",
        "\n",
        "# def _extrac_sparse_rating_vector(rating_df: DataFrame) -> SparseVector:\n",
        "#   indices = np.sort([row.pos for row in rating_df.collect()])\n",
        "#   return SparseVector(RATING_VECTOR_LENGTH, indices, np.ones(indices.shape[0]) )\n",
        "\n",
        "# def rating_vector_from_row(playlist_row: Row, songs_df: DataFrame):\n",
        "#   \"\"\"\n",
        "#   Pipelines togheter create_rating_df and extract_rating_vector.\n",
        "#   \"\"\"\n",
        "#   rating_df_1 = _create_rating_df(playlist_row, songs_df)\n",
        "#   rating_vector_1 = _extrac_sparse_rating_vector(rating_df_1)\n",
        "#   return rating_vector_1\n",
        "\n",
        "# # t1 = time.time() \n",
        "\n",
        "# # rating_vector_1 = rating_vector_from_row(slice_df.first(), songs_df)\n",
        "\n",
        "# # t2 = time.time()\n",
        "\n",
        "# # t2 - t1, rating_vector_1, type(rating_vector_1)"
      ]
    },
    {
      "cell_type": "code",
      "execution_count": null,
      "metadata": {
        "id": "5Nhc0hwgDQ6X"
      },
      "outputs": [],
      "source": [
        "def jaccard_similarity(vector_1: SparseVector, vector_2: SparseVector) -> float:\n",
        "  \"\"\"\n",
        "  Computes the Jaccard Similarity between two sparse binary vectors\n",
        "  \"\"\"\n",
        "  # Convert SparseVectors to sets\n",
        "  set1 = set(vector_1.indices)\n",
        "  set2 = set(vector_2.indices)\n",
        "\n",
        "  # Calculate the intersection and union of the sets\n",
        "  intersection = len(set1.intersection(set2))\n",
        "  union = len(set1.union(set2))\n",
        "\n",
        "  # Calculate the similarity\n",
        "  similarity = intersection / union\n",
        "\n",
        "  return similarity"
      ]
    },
    {
      "cell_type": "code",
      "execution_count": null,
      "metadata": {
        "id": "yuDooTJ4_7Pz",
        "cellView": "form"
      },
      "outputs": [],
      "source": [
        "#@title Old way of creating the ratinf vector dataframe pt.2\n",
        "# def create_rating_vectors_df(playlists_df: DataFrame) -> DataFrame:\n",
        "#   rating_vectors = []\n",
        "\n",
        "#   for playlist_row in tqdm(playlists_df.collect(), desc=\"Creating rating vectors\"):\n",
        "#     rating_vector = rating_vector_from_row(playlist_row, songs_df)\n",
        "#     new_row = Row(playlist_id=playlist_row.pid, rating_vector=rating_vector)\n",
        "#     rating_vectors.append([new_row])\n",
        "#   return spark.createDataFrame(rating_vectors)\n",
        "\n",
        "# if os.path.exists(RATING_VECTOR_FILE_PATH):\n",
        "#   # rv_schema = StructType([StructField('playlist_id', LongType(), True), StructField('rating_vector', pyspark.ml.linalg.VectorUDT(), True)])\n",
        "#   rating_vectors_df = spark.read.parquet(RATING_VECTOR_FILE_PATH)\n",
        "#   rv_df = rating_vectors_df.select(col(\"_1.playlist_id\").alias(\"playlist_id\"), col(\"_1.rating_vector\").alias(\"rating_vector\"))\n",
        "# else:\n",
        "#   rating_vectors_df = create_rating_vectors_df(slice_df)\n",
        "#   rating_vectors_df.write.parquet(RATING_VECTOR_FILE_PATH)"
      ]
    },
    {
      "cell_type": "markdown",
      "source": [
        "Creating a function that gets in input the playlist to continue, and returns a Dataframe that indicates its similarity with each other playlist in the dataset."
      ],
      "metadata": {
        "id": "dWMpoMHrpxxf"
      }
    },
    {
      "cell_type": "code",
      "source": [
        "# mapped_slice_df.first()"
      ],
      "metadata": {
        "id": "PQYLZnm3pxGj"
      },
      "execution_count": null,
      "outputs": []
    },
    {
      "cell_type": "code",
      "execution_count": null,
      "metadata": {
        "id": "SGjEbkYTAI3h",
        "colab": {
          "base_uri": "https://localhost:8080/"
        },
        "outputId": "436a9e9f-1745-4768-9c6b-1bc92ede9888"
      },
      "outputs": [
        {
          "output_type": "stream",
          "name": "stdout",
          "text": [
            "Function create_similarity_df Took 0.1042 seconds\n"
          ]
        }
      ],
      "source": [
        "@timeit\n",
        "def create_similarity_df(input_vector: DataFrame, rating_vectors_df: DataFrame, similarityFunction: Callable) -> DataFrame:\n",
        "  rv_df_input = rating_vectors_df.crossJoin(input_vector)\n",
        "  similarity_udf = udf(similarityFunction, returnType='double')\n",
        "  result_df = rv_df_input.withColumn(\"similarity\", similarity_udf(rv_df_input[\"input_vector\"], rv_df_input[\"rating_vector\"]))\n",
        "  return result_df\n",
        "\n",
        "if DEBUG:\n",
        "  rv_df = mapped_slice_df.withColumnRenamed(\"tracks\", \"rating_vector\")\n",
        "  # TODO: Just for test, we take the first playlist as the playlist to be continued \n",
        "  first_playlist_vector = rv_df.limit(1).select(\"rating_vector\").withColumnRenamed(\"rating_vector\",\"input_vector\")\n",
        "  result_df = create_similarity_df(first_playlist_vector, rv_df, jaccard_similarity)"
      ]
    },
    {
      "cell_type": "markdown",
      "metadata": {
        "id": "12CY_fuNFXKr"
      },
      "source": [
        "Curse of dimensionality! We can see that each playlist is very dissimilar from each other playlist.\n",
        "\n",
        "If we filter the playlists that have a strictly positive similarity with the input playlist, and order them by descending similarity, we can see that the name (that we assume is very informative for the content of the playlist) is very similar, meaning that the algorithm seems to work!"
      ]
    },
    {
      "cell_type": "code",
      "execution_count": null,
      "metadata": {
        "id": "NrPRMP-rINkc"
      },
      "outputs": [],
      "source": [
        "# result_df.filter(\"similarity > 0\").orderBy(col(\"similarity\").desc()).show()"
      ]
    },
    {
      "cell_type": "markdown",
      "source": [
        "Now, in order to suggest some songs to continuate the input playlist, let's take the $k$ top most similar playlists"
      ],
      "metadata": {
        "id": "Ppy5-Y19swvG"
      }
    },
    {
      "cell_type": "code",
      "execution_count": null,
      "metadata": {
        "id": "wNoSOnIqCLm8",
        "colab": {
          "base_uri": "https://localhost:8080/"
        },
        "outputId": "18076a86-4974-4a5e-96bb-3639bf99c0ac"
      },
      "outputs": [
        {
          "output_type": "stream",
          "name": "stdout",
          "text": [
            "Function get_top_k_results Took 0.0403 seconds\n"
          ]
        }
      ],
      "source": [
        "@timeit\n",
        "def get_top_k_results(playlist_pid: int, similarity_df: DataFrame, k: int = 20) -> DataFrame:\n",
        "  return similarity_df.filter( (col('pid') != playlist_pid)).orderBy(col(\"similarity\").desc()).limit(k)\n",
        "\n",
        "if DEBUG:\n",
        "  first_playlist_pid = rv_df.limit(1).select(\"pid\").first().pid\n",
        "  top_k_results = get_top_k_results(first_playlist_pid, result_df)"
      ]
    },
    {
      "cell_type": "code",
      "source": [
        "# top_k_results.show()"
      ],
      "metadata": {
        "id": "aajFVyNEs73j"
      },
      "execution_count": null,
      "outputs": []
    },
    {
      "cell_type": "code",
      "source": [
        "# from pyspark.ml.linalg import VectorUDT\n",
        "\n",
        "# def add_sparse_vectors(accumulator: SparseVector, vector: SparseVector, weight: float) -> SparseVector:\n",
        "#     accumulator_vec = accumulator.toArray() \n",
        "#     array_2 = vector.toArray() * weight\n",
        "\n",
        "#     summed_array = accumulator_vec + array_2\n",
        "\n",
        "#     values = [value for value in summed_array if value != 0]\n",
        "#     sorted_indices = [index for index, value in enumerate(summed_array) if value != 0]\n",
        "#     return SparseVector(accumulator_vec.size, sorted_indices, values)\n",
        "\n",
        "# @udf(returnType=VectorUDT())\n",
        "# def accumulate_sparse_vectors(accumulator, rating_vector, similarity):\n",
        "#     summed_vector = add_sparse_vectors(accumulator, rating_vector, similarity)\n",
        "#     return summed_vector\n",
        "\n",
        "# df = top_k_results.withColumn('accumulated_vector', accumulate_sparse_vectors(top_k_results[\"rating_vector\"], top_k_results[\"rating_vector\"], top_k_results['similarity']))"
      ],
      "metadata": {
        "id": "ePbkSVa3ONgo"
      },
      "execution_count": null,
      "outputs": []
    },
    {
      "cell_type": "markdown",
      "source": [
        "We want to obtain a single embedding for all the $K$ top most similar playlists, that will be the rating vector. We can then pick the indices of the $n$ top greatest values form this vector, and those will be the $n$ songs that we will reccomend.\n",
        "\n",
        "In order to aggregate the $k$ embeddings into a single one, I decided to take an average, weighted by the similarity value."
      ],
      "metadata": {
        "id": "nGUtRgGutIgZ"
      }
    },
    {
      "cell_type": "code",
      "source": [
        "## @timeit\n",
        "# def accumulate_top_k_results_2(top_k_results: DataFrame):\n",
        "#   accumulator = np.zeros(RATING_VECTOR_LENGTH + 1)\n",
        "#   similarity_sum = 0\n",
        "#   #TODO: maybe do it with a rdd.map to be more performant\n",
        "#   top_k = top_k_results.collect()\n",
        "#   for row in top_k:\n",
        "#     accumulator += row.rating_vector.toArray() * row.similarity\n",
        "#     similarity_sum += row.similarity\n",
        "  \n",
        "#   accumulator /= similarity_sum\n",
        "#   values = [value for value in accumulator if value != 0]\n",
        "#   sorted_indices = [index for index, value in enumerate(accumulator) if value != 0]\n",
        "#   return SparseVector(accumulator.size, sorted_indices, values)\n",
        "\n",
        "@timeit\n",
        "def get_input_rating_vector(similarity_df: DataFrame) -> SparseVector:\n",
        "  return similarity_df.limit(1).select(\"input_vector\").collect()[0].input_vector\n",
        "\n",
        "from pyspark.accumulators import AccumulatorParam\n",
        "class NumpyArrayAccumulator(AccumulatorParam):\n",
        "    def zero(self, initialValue):\n",
        "        return np.zeros(initialValue.size)\n",
        "\n",
        "    def addInPlace(self, v1, v2):\n",
        "        v1 += v2\n",
        "        return v1\n",
        "\n",
        "@timeit\n",
        "def accumulate_top_k_results(top_k_results: DataFrame, similarity_df: DataFrame) -> SparseVector:\n",
        "\n",
        "    similarity_accumulator = sc.accumulator(0)\n",
        "    array_accumulator = sc.accumulator(np.zeros(RATING_VECTOR_LENGTH + 1), NumpyArrayAccumulator())\n",
        "\n",
        "    def accumulate(row):\n",
        "      array_accumulator.add(row.rating_vector.toArray() * row.similarity)\n",
        "      similarity_accumulator.add(row.similarity)\n",
        "      \n",
        "    top_k_results.foreach(accumulate)\n",
        "\n",
        "    similarity_sum: int = similarity_accumulator.value\n",
        "    accumulator: np.ndarray = array_accumulator.value\n",
        "\n",
        "    # accumulator: np.ndarray = top_k_results.foreach(lambda row: (row.rating_vector.toArray() * row.similarity)).reduce(lambda x, y: (x+y))\n",
        "    # similarity_sum: float = top_k_results.foreach(lambda row: (row.similarity)).reduce(lambda x, y: x + y)\n",
        "    # rdd = top_k_results.rdd\n",
        "    # accumulator = rdd.aggregate(0, lambda acc, row: acc + row.rating_vector.toArray() * row.similarity, lambda acc1, acc2: acc1 + acc2)\n",
        "    # similarity_sum = rdd.aggregate(0, lambda acc, row: acc + row.similarity, lambda acc1, acc2: acc1 + acc2)\n",
        "\n",
        "    accumulator /= similarity_sum\n",
        "\n",
        "    #If a song is present in the input playlist, don't consider it\n",
        "    input_indexes: SparseVector = get_input_rating_vector(similarity_df).indices\n",
        "\n",
        "    values: List[float] = []\n",
        "    sorted_indices: List[int] = []\n",
        "    for index, value in enumerate(accumulator):\n",
        "      if value != 0 and index not in input_indexes:\n",
        "        values.append(value)\n",
        "        sorted_indices.append(index)\n",
        "    \n",
        "    return SparseVector(len(accumulator), sorted_indices, values)\n",
        "\n",
        "if DEBUG:\n",
        "  accumulated_vector = accumulate_top_k_results(top_k_results, result_df)"
      ],
      "metadata": {
        "id": "nDEnlGrCcOHp",
        "colab": {
          "base_uri": "https://localhost:8080/"
        },
        "outputId": "1fc75782-e4d3-4117-cadb-8c8a389b0b2c"
      },
      "execution_count": null,
      "outputs": [
        {
          "output_type": "stream",
          "name": "stdout",
          "text": [
            "Function get_input_rating_vector Took 0.3451 seconds\n",
            "Function accumulate_top_k_results Took 0.8561 seconds\n"
          ]
        }
      ]
    },
    {
      "cell_type": "code",
      "source": [
        "# @udf(returnType=\"int\")\n",
        "# def compute_vector_len(rating_vector):\n",
        "#     return len(rating_vector.indices)\n",
        "# final_df = df.withColumn('accumulated_vector_len', compute_vector_len(df[\"rating_vector\"]))"
      ],
      "metadata": {
        "id": "d6U00q3oR_6t"
      },
      "execution_count": null,
      "outputs": []
    },
    {
      "cell_type": "code",
      "source": [
        "# accumulated_vector = final_df.orderBy(col(\"accumulated_vector_len\").desc()).first().accumulated_vector"
      ],
      "metadata": {
        "id": "IsaCrFnuSori"
      },
      "execution_count": null,
      "outputs": []
    },
    {
      "cell_type": "code",
      "source": [
        "reccomendations_schema = StructType([\n",
        "     StructField('pos', IntegerType(), True),\n",
        "     StructField('confidence', FloatType(), True),\n",
        "     ])\n",
        "\n",
        "@timeit\n",
        "def get_top_n_values(vector: SparseVector, n:int = 10) -> DataFrame:\n",
        "  elements = list(enumerate(vector.toArray()))\n",
        "  sorted_elements = sorted(elements, key=lambda x: x[1], reverse=True)\n",
        "  top_n_indices = [(index, confidence.item()) for index, confidence in sorted_elements[:n]]\n",
        "  return spark.createDataFrame(top_n_indices, schema=reccomendations_schema)\n",
        "\n",
        "if DEBUG:\n",
        "  top_n_reccomendations = get_top_n_values(accumulated_vector)"
      ],
      "metadata": {
        "id": "keTpUBIXTdHg"
      },
      "execution_count": null,
      "outputs": []
    },
    {
      "cell_type": "code",
      "source": [
        "# top_n_reccomendations"
      ],
      "metadata": {
        "id": "iE9TIsj5UGyM"
      },
      "execution_count": null,
      "outputs": []
    },
    {
      "cell_type": "code",
      "source": [
        "## @timeit\n",
        "# def convert_df_to_map(df: DataFrame) -> DataFrame:\n",
        "#   return df\\\n",
        "#   .withColumn('aggregated', \\\n",
        "#               to_json(\n",
        "#                   struct(\n",
        "#                       \"artist_name\", \n",
        "#                       \"track_uri\", \n",
        "#                       \"artist_uri\", \n",
        "#                       \"track_name\", \n",
        "#                       \"album_uri\", \n",
        "#                       \"duration_ms\", \n",
        "#                       \"album_name\")\n",
        "#                   )\n",
        "#               ).select(\"pos\", \"aggregated\")\n",
        "# if DEBUG:\n",
        "#   songs_info_map = convert_df_to_map(songs_info_df)"
      ],
      "metadata": {
        "id": "D3N3qOtAu8Pp"
      },
      "execution_count": null,
      "outputs": []
    },
    {
      "cell_type": "code",
      "source": [
        "prediction_schema = StructType([\n",
        "     StructField('artist_name', StringType(), True),\n",
        "     StructField('track_uri', StringType(), True),\n",
        "     StructField('artist_uri', StringType(), True),\n",
        "     StructField('track_name', StringType(), True),\n",
        "     StructField('album_uri', StringType(), True),\n",
        "     StructField('duration_ms', LongType(), True),\n",
        "     StructField('album_name', StringType(), True),\n",
        "    StructField('confidence', FloatType(), True),\n",
        "     ])"
      ],
      "metadata": {
        "id": "F82HZEu6sZuY"
      },
      "execution_count": null,
      "outputs": []
    },
    {
      "cell_type": "code",
      "source": [
        "import json\n",
        "#TODO: For now this works, but it's very slow, and since this has to be executed online,\n",
        "# consider to directly embed the song information inside the dataframe when computing the songs\n",
        "# to recommend.\n",
        "@timeit\n",
        "def recommendation_song_info(recommendation: DataFrame, songs_info_df: DataFrame) -> DataFrame:\n",
        "  # result = []\n",
        "  # for index, confidence in tqdm(recommendation, desc=\"Extracting song info from recommendations...\"):\n",
        "  #   song_info_dict = json.loads(songs_info_map.lookup(index)[0])\n",
        "  #   song_info_dict.update({\"confidence\":float(confidence)})\n",
        "  #   result.append(Row(**song_info_dict))\n",
        "  # return spark.createDataFrame(result, schema=prediction_schema)\n",
        "  return recommendation.join(songs_info_df, \"pos\")\n",
        "\n",
        "if DEBUG:\n",
        "  songs_info = recommendation_song_info(top_n_reccomendations, songs_info_df)"
      ],
      "metadata": {
        "id": "ZJOyep5RUMGV"
      },
      "execution_count": null,
      "outputs": []
    },
    {
      "cell_type": "markdown",
      "source": [
        "### Putting it all togheter\n",
        "We now define a single function that will get a playlist in input and will reccomend $n$ songs."
      ],
      "metadata": {
        "id": "CFmlqOAttu32"
      }
    },
    {
      "cell_type": "code",
      "source": [
        "#TODO: this now takes a playlist and extracts its PID, if a playlist is built from scratch the PID shouldn't be defined\n",
        "# A solution would be to pass the playlist row with the PID = Nan and then have a condition when extracting the PID. If Nan, ignore it\n",
        "@timeit\n",
        "def user_based_recommendation(playlist: DataFrame, \n",
        "                              mapped_slice_df: DataFrame, \n",
        "                              similarity_function: Callable, \n",
        "                              n:int = 50,\n",
        "                              k: int = 20) -> DataFrame:\n",
        "                              \n",
        "  rv_df = mapped_slice_df.withColumnRenamed(\"tracks\", \"rating_vector\") #TODO: Parse the rv_df before and then remove this\n",
        "  \n",
        "  #TODO: define the songs_df as input to the function\n",
        "  playlist_vector = map_track_df_to_pos(playlist, songs_df).select(\"tracks\").withColumnRenamed(\"tracks\", \"input_vector\")\n",
        "  similarity_df = create_similarity_df(playlist_vector, rv_df, jaccard_similarity)\n",
        "\n",
        "  top_k_results = get_top_k_results(playlist.first().pid, similarity_df, k=k)\n",
        "\n",
        "  accumulated_vector = accumulate_top_k_results(top_k_results, similarity_df)\n",
        "\n",
        "  top_n_indices = get_top_n_values(accumulated_vector, n=n)\n",
        "\n",
        "  recommended_songs_info = recommendation_song_info(top_n_indices, songs_info_df)\n",
        "\n",
        "  return recommended_songs_info\n",
        "\n",
        "if DEBUG:\n",
        "  #Collect and createDataFrame because operations on limit(1) take as long as the entire slice_df, don't know why\n",
        "  playlist = spark.createDataFrame(slice_df.filter(\"pid == 1010\").limit(1).collect())\n",
        "  final_recommendation = user_based_recommendation(playlist, mapped_slice_df, jaccard_similarity, n=5)"
      ],
      "metadata": {
        "id": "jfiQn5_rt827"
      },
      "execution_count": null,
      "outputs": []
    },
    {
      "cell_type": "markdown",
      "source": [
        "## Performance Evaluation"
      ],
      "metadata": {
        "id": "eM7ErDxxt69B"
      }
    },
    {
      "cell_type": "code",
      "source": [
        "from sklearn.model_selection import train_test_split as sklearn_split\n",
        "\n",
        "def train_test_split(playlist: Row) -> Tuple[Row, Row]:\n",
        "    train_rows, test_rows = sklearn_split(playlist.tracks, random_state=42)\n",
        "\n",
        "    playlist_train =  Row(\n",
        "            name=playlist.name,\n",
        "            collaborative=playlist.collaborative,\n",
        "            pid=playlist.pid,\n",
        "            modified_at=playlist.modified_at,\n",
        "            num_tracks=playlist.num_tracks,\n",
        "            num_albums=playlist.num_albums,\n",
        "            num_followers=playlist.num_followers,\n",
        "            tracks=train_rows,\n",
        "            num_edits=playlist.num_edits,\n",
        "            duration_ms=playlist.duration_ms,\n",
        "            num_artists=playlist.num_artists,\n",
        "        )\n",
        "\n",
        "    playlist_test = Row(\n",
        "            name=playlist.name,\n",
        "            collaborative=playlist.collaborative,\n",
        "            pid=playlist.pid,\n",
        "            modified_at=playlist.modified_at,\n",
        "            num_tracks=playlist.num_tracks,\n",
        "            num_albums=playlist.num_albums,\n",
        "            num_followers=playlist.num_followers,\n",
        "            tracks=test_rows,\n",
        "            num_edits=playlist.num_edits,\n",
        "            duration_ms=playlist.duration_ms,\n",
        "            num_artists=playlist.num_artists,\n",
        "        )\n",
        "    \n",
        "    return playlist_train, playlist_test"
      ],
      "metadata": {
        "id": "pyILOf4Z9DcD"
      },
      "execution_count": null,
      "outputs": []
    },
    {
      "cell_type": "markdown",
      "source": [
        "Let's divide the whole playlist dataset into train and test splits"
      ],
      "metadata": {
        "id": "vW8S9RYTogWb"
      }
    },
    {
      "cell_type": "code",
      "source": [
        "from pyspark.sql.functions import udf, struct\n",
        "import shutil\n",
        "\n",
        "def divide_whole_dataset(playlist_df: DataFrame) -> Tuple[DataFrame, DataFrame]:\n",
        "  # Create a UDF to apply the divide_row function to each row\n",
        "  train_test_split_udf = udf(train_test_split, returnType=ArrayType(StructType(playlist_df.schema.fields)))\n",
        "\n",
        "  # Apply the divide_row UDF to each row of the DataFrame\n",
        "  divided_df = playlist_df.withColumn(\"divided\", train_test_split_udf(struct(*playlist_df.columns)))\n",
        "\n",
        "\n",
        "  # Split the divided column into two separate columns: train and test\n",
        "  train_test_df = divided_df.select(col('divided').getItem(0).alias('train'), col('divided').getItem(1).alias('test'))\n",
        "\n",
        "  # Split the train and test columns into separate DataFrames\n",
        "  train_df = train_test_df.select(\"train.*\")\n",
        "  test_df = train_test_df.select(\"test.*\")\n",
        "  return train_df, test_df\n",
        "\n",
        "TRAIN_DF_PATH = os.path.join(SAVED_DFS_PATH, \"train_df.parquet\")\n",
        "TEST_DF_PATH = os.path.join(SAVED_DFS_PATH, \"test_df.parquet\")\n",
        "\n",
        "if os.path.exists(TRAIN_DF_PATH) and os.path.exists(TEST_DF_PATH):\n",
        "  train_df = spark.read.parquet(TRAIN_DF_PATH)\n",
        "  test_df = spark.read.parquet(TEST_DF_PATH)\n",
        "else:\n",
        "  # In order to avoid [PATH_ALREADY_EXISTS] errors. \n",
        "  if os.path.exists(TRAIN_DF_PATH):\n",
        "    shutil.rmtree(TRAIN_DF_PATH)\n",
        "  if os.path.exists(TEST_DF_PATH):\n",
        "    shutil.rmtree(TEST_DF_PATH)\n",
        "\n",
        "  train_df, test_df = divide_whole_dataset(slice_df)\n",
        "  train_df.write.parquet(TRAIN_DF_PATH)\n",
        "  test_df.write.parquet(TEST_DF_PATH)"
      ],
      "metadata": {
        "id": "jy32R6JFwPB1"
      },
      "execution_count": null,
      "outputs": []
    },
    {
      "cell_type": "code",
      "source": [
        "# TODO: Super bug! Sometimes there there are duplicate playlists in the training set!!\n",
        "#TODO: Doing this, there are 97,000 playlists in the train_df, and not 100,000 WHAT\n",
        "# Fixed this somehow rerunning the code and overwriting the parquet files, IDK what happened kekw\n",
        "# # train_df, test_df = divide_whole_dataset(slice_df)\n",
        "# train_df.write.mode(\"overwrite\").parquet(TRAIN_DF_PATH)\n",
        "# test_df.write.mode(\"overwrite\").parquet(TEST_DF_PATH)"
      ],
      "metadata": {
        "id": "IkddwozuMdYu"
      },
      "execution_count": null,
      "outputs": []
    },
    {
      "cell_type": "code",
      "source": [
        "from pyspark.sql import functions as F\n",
        "\n",
        "@timeit\n",
        "def precision_at_k(recommendations, ground_truth):\n",
        "    \"\"\"\n",
        "    Calculates precision at k for the recommendations.\n",
        "    \"\"\"\n",
        "    recommended_relevant_tracks = recommendations.join(ground_truth, \"track_uri\").count() #this can be top_n_results.join in order to be more performant\n",
        "    precision = recommended_relevant_tracks / float(recommendations.count())\n",
        "    return precision\n",
        "\n",
        "# TODO: Implemented in 1 sec, Test it\n",
        "@timeit\n",
        "def normalized_discounted_gain(recommendations: DataFrame, ground_truth: DataFrame) -> float:\n",
        "    sorted_recs = recommendations.orderBy(F.desc(\"confidence\")).select(\"track_uri\").collect()\n",
        "\n",
        "    def dcg(scores: List[int]) -> float:\n",
        "        return sum([score / (F.log2(rank + 2)) for rank, score in enumerate(scores)])\n",
        "\n",
        "    rec_scores = [1 if row in sorted_recs else 0 for row in ground_truth]\n",
        "    max_dcg = dcg([1] * len(ground_truth))\n",
        "    ndcg = dcg(rec_scores) / max_dcg if max_dcg != 0 else 0.0\n",
        "\n",
        "    return ndcg"
      ],
      "metadata": {
        "id": "86dFBXK20uqu"
      },
      "execution_count": null,
      "outputs": []
    },
    {
      "cell_type": "code",
      "source": [
        "@timeit\n",
        "def evaluate(pid: int) -> Tuple[DataFrame, float]:\n",
        "    # playlist_train = train_df.filter(f\"pid == {pid}\")\n",
        "    # playlist_test = test_df.filter(f\"pid == {pid}\")\n",
        "    playlist_train = train_df.where(train_df[\"pid\"] == pid)\n",
        "    playlist_test = test_df.where(test_df[\"pid\"] == pid)\n",
        "    ground_truth = playlist_test.select(explode(\"tracks\")).select(\"col.*\")\n",
        "    recommendations = user_based_recommendation(playlist_train, \n",
        "                                                mapped_slice_df, \n",
        "                                                jaccard_similarity, \n",
        "                                                n=ground_truth.count(),\n",
        "                                                k = 10)\n",
        "    precision = precision_at_k(recommendations, ground_truth)\n",
        "    return playlist_train, playlist_test, recommendations, precision"
      ],
      "metadata": {
        "id": "J8kbN-2Emdmz"
      },
      "execution_count": null,
      "outputs": []
    },
    {
      "cell_type": "code",
      "source": [
        "pl_train, pl_test, reccomendations, precision = evaluate(3001)"
      ],
      "metadata": {
        "id": "oFeeuj3l7ro3"
      },
      "execution_count": null,
      "outputs": []
    },
    {
      "cell_type": "code",
      "source": [
        "pl_train.show(), pl_test.show()"
      ],
      "metadata": {
        "id": "O-REosqXd_GZ"
      },
      "execution_count": null,
      "outputs": []
    },
    {
      "cell_type": "code",
      "source": [
        "pl_train.select(explode(\"tracks\")).select(\"col.*\").show(),\\\n",
        "pl_test.select(explode(\"tracks\")).select(\"col.*\").show()"
      ],
      "metadata": {
        "id": "_QKAcSRZKTyN"
      },
      "execution_count": null,
      "outputs": []
    },
    {
      "cell_type": "code",
      "source": [
        "reccomendations.orderBy(col(\"confidence\").desc()).show() #TODO: Confidence has some strange values, check them out to see if they are correct"
      ],
      "metadata": {
        "id": "bPO3bbSERwkZ"
      },
      "execution_count": null,
      "outputs": []
    },
    {
      "cell_type": "code",
      "source": [
        "precision, ndgg"
      ],
      "metadata": {
        "id": "MmoD37iEBxfT"
      },
      "execution_count": null,
      "outputs": []
    },
    {
      "cell_type": "markdown",
      "metadata": {
        "id": "SqlejJ_MFrB9"
      },
      "source": [
        "# Fighting against the curse of dimensionality: Matrix Factorization"
      ]
    },
    {
      "cell_type": "markdown",
      "metadata": {
        "id": "gnioMF6_KGfr"
      },
      "source": [
        "We want to define $\\mathbf{x}_u \\in \\mathbb{R}^d$ $d$-dimensional vector that represents the user $u$, and $\\mathbf{w}_i \\in \\mathbb{R}^d$ vector that represent the item $i$.\n",
        "\n",
        "We then can estimate the rating of user $u$ for the item $i$ by computing\n",
        "\\begin{equation}\n",
        "\\hat{r}_{u, i}=\\mathbf{x}_u^T \\cdot \\mathbf{w}_i=\\sum_{j=1}^d x_{u, j} w_{j, i}\n",
        "\\end{equation}\n",
        "Or, in matrix notation,\n",
        "\n",
        "\\begin{equation}\n",
        "\\underbrace{R}_{m \\times n} =\n",
        "\\underbrace{X}_{m \\times d}\n",
        "\\underbrace{W^T}_{d \\times n}\n",
        "\\end{equation}\n",
        "\n",
        "### How to learn $X$ and $W$\n",
        "The matrix $R$ is partially known and filled with the observations inside the dataset $\\mathcal{D}$. In order to learn the latent factor representations $X$ and $W$, we minimize the following loss function:\n",
        "\\begin{equation}\n",
        "L(X, W)=\\sum_{(u, i) \\in \\mathcal{D}}\\underbrace{\\left(r_{u, i}-\\mathbf{x}_u^T \\cdot \\mathbf{w}_i\\right)^2}_{\\text{squared error term}}+\\underbrace{\\lambda\\left(\\sum_{u \\in \\mathcal{D}}\\left\\|\\mathbf{x}_u\\right\\|^2+\\sum_{i \\in \\mathcal{D}}\\left\\|\\mathbf{w}_i\\right\\|^2\\right)}_{\\text{regularization term}}\n",
        "\\end{equation}\n",
        "\n",
        "We can then minimize the loss using Stochastic Gradient Descent or Alternating Least Squares."
      ]
    },
    {
      "cell_type": "markdown",
      "metadata": {
        "id": "el7BsOEsjSgN"
      },
      "source": [
        "# Matrix Factorization\n",
        "Generate a matrix Y where each column represent a playlist and each row represent a song, the (i,j) entry will be 1 if the playlist contains the song, 0 otherwise."
      ]
    },
    {
      "cell_type": "code",
      "execution_count": null,
      "metadata": {
        "id": "-KsENF4IfRks"
      },
      "outputs": [],
      "source": [
        "# Throw error in order to not execute the following code\n",
        "raise ValueError()"
      ]
    },
    {
      "cell_type": "code",
      "execution_count": null,
      "metadata": {
        "id": "B1PEWA1Xjbb2"
      },
      "outputs": [],
      "source": [
        "import pyspark.sql.functions as f\n",
        "from pyspark.sql.functions import explode\n",
        "spark.conf.set(\"spark.sql.pivotMaxValues\", 1000000)\n",
        "\n",
        "from pyspark.ml.evaluation import RegressionEvaluator\n",
        "from pyspark.ml.recommendation import ALS\n",
        "from pyspark.sql import Row\n",
        "from pyspark.sql.functions import expr\n"
      ]
    },
    {
      "cell_type": "code",
      "execution_count": null,
      "metadata": {
        "id": "tCEit6ZXgClg"
      },
      "outputs": [],
      "source": [
        "from pyspark.sql.functions import explode\n",
        "import random\n",
        "tracks_df = slice_df.select(\"pid\", explode(\"tracks\").alias(\"track\")).select(\"pid\", \"track.track_uri\")\n",
        "tracks_df = tracks_df.withColumn(\"rating\", lit(1))\n",
        "# tracks_df = tracks_df.withColumn(\"rating\", (rand() * 10 + 1).cast(\"integer\"))"
      ]
    },
    {
      "cell_type": "code",
      "execution_count": null,
      "metadata": {
        "id": "xzl4_KPigJyN"
      },
      "outputs": [],
      "source": [
        "tracks_df.show()"
      ]
    },
    {
      "cell_type": "code",
      "execution_count": null,
      "metadata": {
        "id": "CrNo-NacpGXC"
      },
      "outputs": [],
      "source": [
        "# # Explode the tracks array column into multiple rows\n",
        "# # tracks_df = slice_df.select(\"pid\", explode(\"tracks\").alias(\"track\"))\n",
        "# # tracks_df = slice_df.select(\"pid\", \"tracks\", \"tracks\")\n",
        "# tracks_df = slice_df.select(\"pid\", explode(\"tracks\").alias(\"track\")).select(\"pid\", \"track.track_uri\", \"track.pos\")\n",
        "\n",
        "# # Select relevant columns and add a rating column with value 1\n",
        "# playlist_track_df = tracks_df.withColumn(\"rating\", lit(1))\n",
        "\n",
        "# # Get distinct track_uri values and join with playlist_track_df\n",
        "# all_tracks_df = slice_df.select(explode(\"tracks\").alias(\"track\")).select(\"track.track_uri\").distinct()\n",
        "# all_playlists_df = slice_df.select(\"pid\").distinct()\n",
        "\n",
        "# all_against_all = all_tracks_df.join(all_playlists_df).distinct()\n",
        "\n",
        "# from pyspark.sql.functions import when, col\n",
        "\n",
        "# # playlist_track_rating_df = playlist_track_df.join(all_against_all, [\"pid\", \"track_uri\"], \"left_outer\") \\\n",
        "# #     .withColumn(\"rating\", when(col(\"pos\").isNull(), 0).otherwise(1))\n",
        "\n",
        "# playlist_track_rating_df = all_against_all.join(playlist_track_df, [\"pid\", \"track_uri\"], \"left_outer\") \\\n",
        "#     .withColumn(\"rating\", when(col(\"pos\").isNull(), 0).otherwise(1)) \\\n",
        "#     .drop(\"pos\")\n"
      ]
    },
    {
      "cell_type": "code",
      "execution_count": null,
      "metadata": {
        "id": "d_g71QpbzP9G"
      },
      "outputs": [],
      "source": [
        "playlist_track_rating_df = tracks_df.withColumn(\"song_id\", dense_rank().over(Window.orderBy(\"track_uri\")))"
      ]
    },
    {
      "cell_type": "code",
      "execution_count": null,
      "metadata": {
        "id": "DFR59iIwsuAv"
      },
      "outputs": [],
      "source": [
        "playlist_track_rating_df.show(truncate=False)"
      ]
    },
    {
      "cell_type": "code",
      "execution_count": null,
      "metadata": {
        "id": "0E86sNXYxTJP"
      },
      "outputs": [],
      "source": [
        "als = ALS(userCol=\"pid\", itemCol=\"song_id\", ratingCol=\"rating\", nonnegative=True, coldStartStrategy=\"drop\")"
      ]
    },
    {
      "cell_type": "code",
      "execution_count": null,
      "metadata": {
        "id": "hKxgkuM0GsVf"
      },
      "outputs": [],
      "source": [
        "from typing import Tuple\n",
        "import random\n",
        "\n",
        "def train_test_split(df: DataFrame, split_ratio: float, seed: Optional[int] = None) -> Tuple[DataFrame, DataFrame]:\n",
        "  random.seed(seed)\n",
        "  distinct_pids = df.select(\"pid\").distinct().rdd.map(lambda x: x[0]).collect()\n",
        "  random.shuffle(distinct_pids)\n",
        "  split_index = int(len(distinct_pids) * split_ratio)\n",
        "  train_pids = distinct_pids[:split_index]\n",
        "  test_pids = distinct_pids[split_index:]\n",
        "  train_df = df.filter(col(\"pid\").isin(train_pids))\n",
        "  test_df = df.filter(col(\"pid\").isin(test_pids))\n",
        "  return train_df, test_df\n",
        "\n"
      ]
    },
    {
      "cell_type": "code",
      "execution_count": null,
      "metadata": {
        "id": "Pf82Hstmxb7i"
      },
      "outputs": [],
      "source": [
        "training, test = playlist_track_rating_df.randomSplit([0.8, 0.2], seed=42)"
      ]
    },
    {
      "cell_type": "code",
      "execution_count": null,
      "metadata": {
        "id": "5r0g7uPzH19c"
      },
      "outputs": [],
      "source": [
        "model = als.fit(training)"
      ]
    },
    {
      "cell_type": "code",
      "execution_count": null,
      "metadata": {
        "id": "_S3oNC7AIFXY"
      },
      "outputs": [],
      "source": [
        "predictions = model.transform(test)"
      ]
    },
    {
      "cell_type": "code",
      "execution_count": null,
      "metadata": {
        "id": "QwciStIaibF-"
      },
      "outputs": [],
      "source": [
        "predictions.show()"
      ]
    },
    {
      "cell_type": "code",
      "execution_count": null,
      "metadata": {
        "id": "w_FWXza9ycMU"
      },
      "outputs": [],
      "source": [
        "evaluator = RegressionEvaluator(metricName=\"rmse\", labelCol=\"rating\",\n",
        "                                predictionCol=\"prediction\")\n",
        "rmse = evaluator.evaluate(predictions)"
      ]
    },
    {
      "cell_type": "code",
      "execution_count": null,
      "metadata": {
        "id": "FJfWDUMSh8Nd"
      },
      "outputs": [],
      "source": [
        "predictions.filter(col(\"prediction\") != \"NaN\").count(), predictions.filter(col(\"prediction\") == \"NaN\").count()"
      ]
    },
    {
      "cell_type": "code",
      "execution_count": null,
      "metadata": {
        "id": "47oQcRQdm-qy"
      },
      "outputs": [],
      "source": [
        "rmse"
      ]
    },
    {
      "cell_type": "code",
      "source": [
        "subset = playlist_track_rating_df.select(\"pid\").distinct().limit(1)\n",
        "subUserRecs = model.recommendForUserSubset(subset, 10)"
      ],
      "metadata": {
        "id": "q2eoCHXqLNU8"
      },
      "execution_count": null,
      "outputs": []
    },
    {
      "cell_type": "code",
      "source": [
        "subset.show()"
      ],
      "metadata": {
        "id": "Tya3FyOxLn0S"
      },
      "execution_count": null,
      "outputs": []
    },
    {
      "cell_type": "code",
      "source": [
        "subUserRecs.show(truncate=False)"
      ],
      "metadata": {
        "id": "u5lfCDhiLZjo"
      },
      "execution_count": null,
      "outputs": []
    },
    {
      "cell_type": "code",
      "source": [
        "def song_name_from_id(song_id: int, reverse_lookup: DataFrame) -> str:\n",
        "  return \n",
        "  \n",
        "def interpretRecommendation(recommended_result: DataFrame) -> str:\n",
        "  return"
      ],
      "metadata": {
        "id": "uyvBEVF8MP30"
      },
      "execution_count": null,
      "outputs": []
    },
    {
      "cell_type": "code",
      "execution_count": null,
      "metadata": {
        "id": "vMvzQsXnykMX"
      },
      "outputs": [],
      "source": [
        "userRecs = model.recommendForAllUsers(1).orderBy(\"recommendations\")\n",
        "userRecs.show(truncate=False)\n",
        "userRecs.count()"
      ]
    },
    {
      "cell_type": "code",
      "execution_count": null,
      "metadata": {
        "id": "kKrGgg35mjmS"
      },
      "outputs": [],
      "source": [
        "slice_df.filter(col(\"pid\") == 1710).select(explode(\"tracks.track_name\")).show()"
      ]
    },
    {
      "cell_type": "code",
      "execution_count": null,
      "metadata": {
        "id": "5mF1ERfgmyFU"
      },
      "outputs": [],
      "source": [
        "track_uris = playlist_track_rating_df.filter(col(\"song_id\") == 588).select(\"track_uri\")\n",
        "track_uris.first()"
      ]
    }
  ],
  "metadata": {
    "colab": {
      "provenance": [],
      "toc_visible": true,
      "collapsed_sections": [
        "SqlejJ_MFrB9"
      ],
      "include_colab_link": true
    },
    "kernelspec": {
      "display_name": "Python 3",
      "name": "python3"
    },
    "language_info": {
      "name": "python"
    }
  },
  "nbformat": 4,
  "nbformat_minor": 0
}