{
  "cells": [
    {
      "attachments": {},
      "cell_type": "markdown",
      "metadata": {
        "colab_type": "text",
        "id": "view-in-github"
      },
      "source": [
        "<a href=\"https://colab.research.google.com/github/DomizianoScarcelli/big-data-project/blob/item-based-cf/item_based_CF.ipynb\" target=\"_parent\"><img src=\"https://colab.research.google.com/assets/colab-badge.svg\" alt=\"Open In Colab\"/></a>"
      ]
    },
    {
      "attachments": {},
      "cell_type": "markdown",
      "metadata": {
        "id": "KOojFseRjVnN"
      },
      "source": [
        "# Configuration"
      ]
    },
    {
      "attachments": {},
      "cell_type": "markdown",
      "metadata": {},
      "source": [
        "Here we configure the environment. Since I alternated from Google Colab to Local development, I define a LOCAL variable that allows me to know in which environment I am. "
      ]
    },
    {
      "cell_type": "code",
      "execution_count": 8,
      "metadata": {},
      "outputs": [],
      "source": [
        "import os\n",
        "def is_running_on_colab():\n",
        "    return \"COLAB_GPU\" in os.environ\n",
        "\n",
        "LOCAL = not is_running_on_colab()"
      ]
    },
    {
      "cell_type": "code",
      "execution_count": 9,
      "metadata": {
        "colab": {
          "base_uri": "https://localhost:8080/"
        },
        "id": "N3wVgRfHYoOs",
        "outputId": "5968f690-8fb9-4811-f6dc-e301c0022db0"
      },
      "outputs": [],
      "source": [
        "#@title Download necessary libraries\n",
        "if not LOCAL:\n",
        "    !pip install pyspark -qq\n",
        "    !pip install -U -q PyDrive -qq\n",
        "    !apt install openjdk-8-jdk-headless -qq"
      ]
    },
    {
      "cell_type": "code",
      "execution_count": 10,
      "metadata": {
        "cellView": "form",
        "id": "CGHPv9OqY9MI"
      },
      "outputs": [],
      "source": [
        "#@title Imports\n",
        "import numpy as np\n",
        "import json\n",
        "import sys\n",
        "import math\n",
        "\n",
        "import pyspark\n",
        "import pyspark.sql.functions as F\n",
        "from pyspark.sql import SparkSession, DataFrame\n",
        "from pyspark.sql.types import StructType, StructField, StringType, IntegerType, ArrayType, FloatType, LongType\n",
        "from pyspark import SparkConf\n",
        "from pyspark.ml.linalg import SparseVector, VectorUDT\n",
        "from pyspark.ml.feature import MinHashLSH, MinHashLSHModel\n",
        "\n",
        "from tqdm.notebook import tqdm\n",
        "import time\n",
        "\n",
        "if not LOCAL:\n",
        "    from google.colab import drive\n",
        "\n",
        "from typing import Tuple, Dict, List\n",
        "from functools import reduce\n",
        "from pprint import pprint"
      ]
    },
    {
      "cell_type": "code",
      "execution_count": 11,
      "metadata": {
        "id": "JF8LUBZeYiWP"
      },
      "outputs": [],
      "source": [
        "#@title Set up variables\n",
        "if not LOCAL:\n",
        "    JAVA_HOME = \"/usr/lib/jvm/java-8-openjdk-amd64\"\n",
        "    GDRIVE_DIR = \"/content/drive\"\n",
        "    GDRIVE_HOME_DIR = GDRIVE_DIR + \"/MyDrive\"\n",
        "    GDRIVE_DATA_DIR = GDRIVE_HOME_DIR + \"/Big Data/datasets\"\n",
        "    DATASET_FILE = os.path.join(GDRIVE_DATA_DIR, \"pyspark_friendly_spotify_playlist_dataset\")\n",
        "    AUDIO_FEATURES_FILE = os.path.join(GDRIVE_DATA_DIR, \"pyspark_track_features\")\n",
        "    LITTLE_SLICE_FILE = os.path.join(GDRIVE_DATA_DIR, \"little_slice\")\n",
        "    SMALL_SLICE_FLIE = os.path.join(GDRIVE_DATA_DIR, \"small_slice\")\n",
        "    LITTLE_SLICE_AUDIO_FEATURES = os.path.join(GDRIVE_DATA_DIR, \"little_slice_audio_features\")\n",
        "    MICRO_SLICE_AUDIO_FEATURES = os.path.join(GDRIVE_DATA_DIR, \"micro_slice_audio_features\")\n",
        "    SPLITTED_SLICE_AUDIO_FEATURES = os.path.join(GDRIVE_DATA_DIR, \"splitted_pyspark_track_features\")\n",
        "    SAVED_DFS_PATH = os.path.join(GDRIVE_DATA_DIR, \"saved_dfs\")\n",
        "    SAVED_MODELS = os.path.join(GDRIVE_DATA_DIR, \"saved_models\")\n",
        "    EVALUATION_FOLDER = os.path.join(GDRIVE_DATA_DIR, \"evaluation\", \"item_base_evaluation\")\n",
        "else:\n",
        "    GDRIVE_DATA_DIR = os.path.abspath(\"./data\")\n",
        "    SAVED_DFS_PATH = os.path.join(GDRIVE_DATA_DIR, \"saved_dfs\")\n",
        "    SAVED_MODELS = os.path.join(GDRIVE_DATA_DIR, \"saved_models\")\n",
        "    DATASET_FILE = os.path.join(GDRIVE_DATA_DIR, \"full_dataset\")\n",
        "    SMALL_SLICE_FLIE = os.path.join(GDRIVE_DATA_DIR, \"small_slice\")\n",
        "    EVALUATION_FOLDER = os.path.join(os.path.abspath(\"./evaluation\"), \"item_base_evaluation\")\n",
        "    \n",
        "    JAVA_HOME = \"/opt/homebrew/opt/openjdk\"\n",
        "RANDOM_SEED = 42 # for reproducibility\n",
        "os.environ[\"JAVA_HOME\"] = JAVA_HOME\n",
        "os.environ[\"PYSPARK_PYTHON\"]=\"python\""
      ]
    },
    {
      "cell_type": "code",
      "execution_count": 12,
      "metadata": {
        "id": "4m7VztzdZgm6"
      },
      "outputs": [
        {
          "name": "stderr",
          "output_type": "stream",
          "text": [
            "23/06/30 19:12:49 WARN Utils: Your hostname, MacBook-Air-di-Domiziano.local resolves to a loopback address: 127.0.0.1; using 192.168.1.175 instead (on interface en0)\n",
            "23/06/30 19:12:49 WARN Utils: Set SPARK_LOCAL_IP if you need to bind to another address\n",
            "Setting default log level to \"WARN\".\n",
            "To adjust logging level use sc.setLogLevel(newLevel). For SparkR, use setLogLevel(newLevel).\n",
            "23/06/30 19:12:49 WARN NativeCodeLoader: Unable to load native-hadoop library for your platform... using builtin-java classes where applicable\n",
            "23/06/30 19:12:49 WARN Utils: Service 'SparkUI' could not bind on port 4050. Attempting port 4051.\n",
            "23/06/30 19:12:49 WARN Utils: Service 'SparkUI' could not bind on port 4051. Attempting port 4052.\n"
          ]
        }
      ],
      "source": [
        "#@title Create the session\n",
        "conf = SparkConf().\\\n",
        "                set('spark.ui.port', \"4050\").\\\n",
        "                set('spark.executor.memory', '12G').\\\n",
        "                set('spark.driver.memory', '12G').\\\n",
        "                set('spark.driver.maxResultSize', '100G').\\\n",
        "                set(\"spark.executor.extraJavaOptions\", \"-XX:+UseG1GC\").\\\n",
        "                setAppName(\"PySparkTutorial\").\\\n",
        "                setMaster(\"local[*]\")\n",
        "\n",
        "# Create the context\n",
        "sc = pyspark.SparkContext(conf=conf)\n",
        "spark = SparkSession.builder.getOrCreate()"
      ]
    },
    {
      "cell_type": "code",
      "execution_count": 13,
      "metadata": {
        "colab": {
          "base_uri": "https://localhost:8080/"
        },
        "id": "vsX5d-YXZ2Ul",
        "outputId": "c30f0d6f-6673-49ea-88ab-39166ef7cbf0"
      },
      "outputs": [],
      "source": [
        "if not LOCAL:\n",
        "    drive.mount(GDRIVE_DIR, force_remount=True)"
      ]
    },
    {
      "cell_type": "code",
      "execution_count": 14,
      "metadata": {
        "cellView": "form",
        "colab": {
          "base_uri": "https://localhost:8080/"
        },
        "id": "jlxfJiBSZ6ju",
        "outputId": "f19702e4-4511-449b-fa52-afd7e4aadd4d"
      },
      "outputs": [
        {
          "data": {
            "text/plain": [
              "(<pyspark.sql.session.SparkSession at 0x14481beb0>,\n",
              " [('spark.executor.extraJavaOptions',\n",
              "   '-Djava.net.preferIPv6Addresses=false -XX:+IgnoreUnrecognizedVMOptions --add-opens=java.base/java.lang=ALL-UNNAMED --add-opens=java.base/java.lang.invoke=ALL-UNNAMED --add-opens=java.base/java.lang.reflect=ALL-UNNAMED --add-opens=java.base/java.io=ALL-UNNAMED --add-opens=java.base/java.net=ALL-UNNAMED --add-opens=java.base/java.nio=ALL-UNNAMED --add-opens=java.base/java.util=ALL-UNNAMED --add-opens=java.base/java.util.concurrent=ALL-UNNAMED --add-opens=java.base/java.util.concurrent.atomic=ALL-UNNAMED --add-opens=java.base/sun.nio.ch=ALL-UNNAMED --add-opens=java.base/sun.nio.cs=ALL-UNNAMED --add-opens=java.base/sun.security.action=ALL-UNNAMED --add-opens=java.base/sun.util.calendar=ALL-UNNAMED --add-opens=java.security.jgss/sun.security.krb5=ALL-UNNAMED -Djdk.reflect.useDirectMethodHandle=false -XX:+UseG1GC'),\n",
              "  ('spark.app.name', 'PySparkTutorial'),\n",
              "  ('spark.driver.host', '192.168.1.175'),\n",
              "  ('spark.driver.port', '50701'),\n",
              "  ('spark.executor.id', 'driver'),\n",
              "  ('spark.app.startTime', '1688145169570'),\n",
              "  ('spark.app.submitTime', '1688145169418'),\n",
              "  ('spark.driver.extraJavaOptions',\n",
              "   '-Djava.net.preferIPv6Addresses=false -XX:+IgnoreUnrecognizedVMOptions --add-opens=java.base/java.lang=ALL-UNNAMED --add-opens=java.base/java.lang.invoke=ALL-UNNAMED --add-opens=java.base/java.lang.reflect=ALL-UNNAMED --add-opens=java.base/java.io=ALL-UNNAMED --add-opens=java.base/java.net=ALL-UNNAMED --add-opens=java.base/java.nio=ALL-UNNAMED --add-opens=java.base/java.util=ALL-UNNAMED --add-opens=java.base/java.util.concurrent=ALL-UNNAMED --add-opens=java.base/java.util.concurrent.atomic=ALL-UNNAMED --add-opens=java.base/sun.nio.ch=ALL-UNNAMED --add-opens=java.base/sun.nio.cs=ALL-UNNAMED --add-opens=java.base/sun.security.action=ALL-UNNAMED --add-opens=java.base/sun.util.calendar=ALL-UNNAMED --add-opens=java.security.jgss/sun.security.krb5=ALL-UNNAMED -Djdk.reflect.useDirectMethodHandle=false'),\n",
              "  ('spark.ui.port', '4050'),\n",
              "  ('spark.rdd.compress', 'True'),\n",
              "  ('spark.app.id', 'local-1688145169991'),\n",
              "  ('spark.driver.memory', '12G'),\n",
              "  ('spark.serializer.objectStreamReset', '100'),\n",
              "  ('spark.master', 'local[*]'),\n",
              "  ('spark.submit.pyFiles', ''),\n",
              "  ('spark.driver.maxResultSize', '100G'),\n",
              "  ('spark.submit.deployMode', 'client'),\n",
              "  ('spark.executor.memory', '12G'),\n",
              "  ('spark.ui.showConsoleProgress', 'true')])"
            ]
          },
          "execution_count": 14,
          "metadata": {},
          "output_type": "execute_result"
        }
      ],
      "source": [
        "#@title Check if everything is ok\n",
        "spark, sc._conf.getAll()"
      ]
    },
    {
      "attachments": {},
      "cell_type": "markdown",
      "metadata": {
        "id": "VJeY9PpvaHUJ"
      },
      "source": [
        "# Load DataFrame"
      ]
    },
    {
      "attachments": {},
      "cell_type": "markdown",
      "metadata": {},
      "source": [
        "Define the `DataFrame` schemas and load the primary `DataFrame` containing the 100K playlists. "
      ]
    },
    {
      "cell_type": "code",
      "execution_count": 15,
      "metadata": {
        "id": "icd2lj-RRvhU"
      },
      "outputs": [],
      "source": [
        "song_schema = StructType([\n",
        "    StructField(\"pos\", IntegerType(), True),\n",
        "    StructField(\"artist_name\", StringType(), True),\n",
        "    StructField(\"track_uri\", StringType(), True),\n",
        "    StructField(\"artist_uri\", StringType(), True),\n",
        "    StructField(\"track_name\", StringType(), True),\n",
        "    StructField(\"album_uri\", StringType(), True),\n",
        "    StructField(\"duration_ms\", LongType(), True),\n",
        "    StructField(\"album_name\", StringType(), True)\n",
        "])\n",
        "\n",
        "playlist_schema = StructType([\n",
        "    StructField(\"name\", StringType(), True),\n",
        "    StructField(\"collaborative\", StringType(), True),\n",
        "    StructField(\"pid\", IntegerType(), True),\n",
        "    StructField(\"modified_at\", IntegerType(), True),\n",
        "    StructField(\"num_tracks\", IntegerType(), True),\n",
        "    StructField(\"num_albums\", IntegerType(), True),\n",
        "    StructField(\"num_followers\", IntegerType(), True),\n",
        "    StructField(\"tracks\", ArrayType(song_schema), True),\n",
        "    StructField(\"num_edits\", IntegerType(), True),\n",
        "    StructField(\"duration_ms\", IntegerType(), True),\n",
        "    StructField(\"num_artists\", IntegerType(), True),\n",
        "])\n",
        "\n",
        "playlist_schema_mapped = StructType([\n",
        "    StructField(\"name\", StringType(), True),\n",
        "    StructField(\"collaborative\", StringType(), True),\n",
        "    StructField(\"pid\", IntegerType(), True),\n",
        "    StructField(\"modified_at\", IntegerType(), True),\n",
        "    StructField(\"num_tracks\", IntegerType(), True),\n",
        "    StructField(\"num_albums\", IntegerType(), True),\n",
        "    StructField(\"num_followers\", IntegerType(), True),\n",
        "    StructField(\"tracks\", VectorUDT(), True),\n",
        "    StructField(\"num_edits\", IntegerType(), True),\n",
        "    StructField(\"duration_ms\", IntegerType(), True),\n",
        "    StructField(\"num_artists\", IntegerType(), True),\n",
        "])"
      ]
    },
    {
      "cell_type": "code",
      "execution_count": 16,
      "metadata": {
        "id": "BY_szFyLTps4"
      },
      "outputs": [],
      "source": [
        "slice_df = spark.read.schema(playlist_schema).json(SMALL_SLICE_FLIE, multiLine=True)"
      ]
    },
    {
      "attachments": {},
      "cell_type": "markdown",
      "metadata": {
        "id": "p211b9samoI9"
      },
      "source": [
        "# Item-Based Collaborative Filtering"
      ]
    },
    {
      "attachments": {},
      "cell_type": "markdown",
      "metadata": {
        "id": "1pR8c5Ro5_DI"
      },
      "source": [
        "Item-Based Collaboartive Filtering is the \"transpose\" approach to user-based CF. This time we won't consider the users' feature vectors, but the items'.\n",
        "An item's vector representation $\\mathbf{r}_i$ is the vector that embeds the information about where the item apperas in the user preferences. Since we are dealing with songs and playlists, it will model in which playlist each song appears.\n",
        "\n",
        "Let $m$ be the number of users, $n$ the number of playlists, then $\\mathbf{r}_i \\in \\mathbb{R}^m$ and $\\mathbf{R} \\in \\mathbb{R}^{m \\times n}$.\n",
        "\n",
        "In order to make a prediction, we take the set of items $I_u$ rated by the user $u$, and we compute the set $I^k_u$ of the top-$k$ most similar items to $i$ rated by $u$, for each item $i \\in I_u$. Once done that, we average the $k$ rating vectors weighting them by their respective similarity."
      ]
    },
    {
      "cell_type": "code",
      "execution_count": 21,
      "metadata": {
        "id": "wSg4hiaeewgY"
      },
      "outputs": [],
      "source": [
        "DEBUG = True #If True, execute code that helps to debug the code"
      ]
    },
    {
      "attachments": {},
      "cell_type": "markdown",
      "metadata": {},
      "source": [
        "Let's load the playlist embedding encodings, and the `DataFrame` that maps each playlist to a position."
      ]
    },
    {
      "cell_type": "code",
      "execution_count": 18,
      "metadata": {
        "id": "dXUCLE9XSKsi"
      },
      "outputs": [
        {
          "name": "stderr",
          "output_type": "stream",
          "text": [
            "                                                                                \r"
          ]
        }
      ],
      "source": [
        "NUM_PLAYLISTS = 100_000\n",
        "SONGS_INFO_DF = os.path.join(SAVED_DFS_PATH, f\"songs_info_df-{NUM_PLAYLISTS}.json\")\n",
        "songs_df = spark.read.json(SONGS_INFO_DF)\n",
        "\n",
        "playlist_map_schema = StructType([\n",
        "    StructField(\"track_uri\", StringType(), True),\n",
        "    StructField(\"embedding\", VectorUDT(), True)\n",
        "])\n",
        "PLAYLIST_MAP_PATH = os.path.join(SAVED_DFS_PATH, f\"playlist_map-{NUM_PLAYLISTS}.json\")\n",
        "playlist_map = spark.read.schema(playlist_map_schema).json(PLAYLIST_MAP_PATH)"
      ]
    },
    {
      "cell_type": "code",
      "execution_count": 19,
      "metadata": {},
      "outputs": [
        {
          "name": "stdout",
          "output_type": "stream",
          "text": [
            "+---+--------------------+\n",
            "|pos|           track_uri|\n",
            "+---+--------------------+\n",
            "|  0|spotify:track:1mr...|\n",
            "|  1|spotify:track:1Uv...|\n",
            "|  2|spotify:track:4WR...|\n",
            "|  3|spotify:track:7B6...|\n",
            "|  4|spotify:track:2Gy...|\n",
            "|  5|spotify:track:7AO...|\n",
            "|  6|spotify:track:48Z...|\n",
            "|  7|spotify:track:1Um...|\n",
            "|  8|spotify:track:7MO...|\n",
            "|  9|spotify:track:27P...|\n",
            "| 10|spotify:track:6lt...|\n",
            "| 11|spotify:track:1yz...|\n",
            "| 12|spotify:track:5Mz...|\n",
            "| 13|spotify:track:3BU...|\n",
            "| 14|spotify:track:4Cl...|\n",
            "| 15|spotify:track:2dN...|\n",
            "| 16|spotify:track:341...|\n",
            "| 17|spotify:track:7ja...|\n",
            "| 18|spotify:track:4eQ...|\n",
            "| 19|spotify:track:6fy...|\n",
            "+---+--------------------+\n",
            "only showing top 20 rows\n",
            "\n"
          ]
        }
      ],
      "source": [
        "songs_df.show()"
      ]
    },
    {
      "cell_type": "code",
      "execution_count": 20,
      "metadata": {},
      "outputs": [
        {
          "name": "stdout",
          "output_type": "stream",
          "text": [
            "+--------------------+--------------------+\n",
            "|           track_uri|           embedding|\n",
            "+--------------------+--------------------+\n",
            "|spotify:track:001...|(100001,[7109,250...|\n",
            "|spotify:track:001...|(100001,[80892],[...|\n",
            "|spotify:track:001...|(100001,[50317,63...|\n",
            "|spotify:track:003...|(100001,[7021],[1...|\n",
            "|spotify:track:003...|(100001,[52415],[...|\n",
            "|spotify:track:004...|(100001,[44691,88...|\n",
            "|spotify:track:004...|(100001,[78197],[...|\n",
            "|spotify:track:004...|(100001,[4159],[1...|\n",
            "|spotify:track:005...|(100001,[85373],[...|\n",
            "|spotify:track:005...|(100001,[5737,265...|\n",
            "|spotify:track:006...|(100001,[40014],[...|\n",
            "|spotify:track:006...|(100001,[53178],[...|\n",
            "|spotify:track:007...|(100001,[5765],[1...|\n",
            "|spotify:track:007...|(100001,[28490,29...|\n",
            "|spotify:track:007...|(100001,[24445],[...|\n",
            "|spotify:track:008...|(100001,[3054,151...|\n",
            "|spotify:track:009...|(100001,[12483,24...|\n",
            "|spotify:track:009...|(100001,[63483],[...|\n",
            "|spotify:track:00A...|(100001,[75865],[...|\n",
            "|spotify:track:00B...|(100001,[65347],[...|\n",
            "+--------------------+--------------------+\n",
            "only showing top 20 rows\n",
            "\n"
          ]
        },
        {
          "name": "stderr",
          "output_type": "stream",
          "text": [
            "23/06/30 19:13:03 WARN GarbageCollectionMetrics: To enable non-built-in garbage collector(s) List(G1 Concurrent GC), users should configure it(them) to spark.eventLog.gcMetrics.youngGenerationGarbageCollectors or spark.eventLog.gcMetrics.oldGenerationGarbageCollectors\n"
          ]
        }
      ],
      "source": [
        "playlist_map.show()"
      ]
    },
    {
      "attachments": {},
      "cell_type": "markdown",
      "metadata": {},
      "source": [
        "For simplicity, I will load the training and testing set here."
      ]
    },
    {
      "cell_type": "code",
      "execution_count": 22,
      "metadata": {
        "id": "HnchIh93YdaU"
      },
      "outputs": [],
      "source": [
        "TRAIN_DF_PATH = os.path.join(SAVED_DFS_PATH, f\"train_df-{NUM_PLAYLISTS}.json\")\n",
        "TEST_DF_PATH = os.path.join(SAVED_DFS_PATH, f\"test_df-{NUM_PLAYLISTS}.json\")\n",
        "\n",
        "train_df = spark.read.schema(playlist_schema).json(TRAIN_DF_PATH)\n",
        "test_df = spark.read.schema(playlist_schema).json(TEST_DF_PATH)"
      ]
    },
    {
      "attachments": {},
      "cell_type": "markdown",
      "metadata": {
        "id": "Z2QVHgY4WRJX"
      },
      "source": [
        "The full similarity computation between the songs in the playlist and each other song is intractable, we can approximate the nearest neighbour search by clustering the similar tracks in buckets using a Locally Sensitive Hashing algorithm, implemented using pyspark's `MinHashLSHModel`, which uses Jaccard Similarity as similarity function under the hood.\n",
        "\n",
        "I decided to use Jaccard Similarity since I don't need the information about the single values in the vector, but just which indexes are in each vector.\n",
        "\n",
        "The number of hash tables is an hyperparameter, and it was chosen experimentally. A lower `NUM_HASH_TABLES` makes the algorithm faster, but less accurate. On the other hand, a higher value will improve the accuracy, compromising the speed performances."
      ]
    },
    {
      "cell_type": "code",
      "execution_count": 23,
      "metadata": {
        "colab": {
          "base_uri": "https://localhost:8080/"
        },
        "id": "roOL0ckQgNKP",
        "outputId": "1b290c0c-07b4-4bfa-ede4-da4347b89895"
      },
      "outputs": [
        {
          "name": "stdout",
          "output_type": "stream",
          "text": [
            "+------------------------------------+---------------------------------------------------------------------------------+------------------------------------------------------------------------------------------------------------------------------------------------------------------------------------------------------------------------------------------------------------------------------------------------------------------------------------------+\n",
            "|track_uri                           |embedding                                                                        |hashes                                                                                                                                                                                                                                                                                                                                    |\n",
            "+------------------------------------+---------------------------------------------------------------------------------+------------------------------------------------------------------------------------------------------------------------------------------------------------------------------------------------------------------------------------------------------------------------------------------------------------------------------------------+\n",
            "|spotify:track:001BVhvaZTf2icV88rU3DA|(100001,[7109,25065,41600,60248,61080,65885,70937],[1.0,1.0,1.0,1.0,1.0,1.0,1.0])|[[4.00933355E8], [4.2872879E7], [1.7747882E7], [6.5529407E7], [2.06200881E8], [9.0598778E7], [2.94620014E8], [1.30281495E8], [1.82888734E8], [1.79461294E8], [2.96527599E8], [2.9143446E7], [5.8485704E7], [1.57486262E8], [3.9356974E7], [3.64899673E8], [4.24012952E8], [2.8225847E8], [1.25149817E8], [1.64226673E8]]                  |\n",
            "|spotify:track:001FDA7MOimDoqBXGacavu|(100001,[80892],[1.0])                                                           |[[2.28862656E8], [1.39707995E9], [1.541290713E9], [1.706772564E9], [1.778831741E9], [7.10558364E8], [6.53675556E8], [1.834078889E9], [4.95048196E8], [7.31685626E8], [1.931245726E9], [1.427141981E9], [6.71425086E8], [1.981862977E9], [6.71524692E8], [1.064255176E9], [8.82694213E8], [1.182039233E9], [7.3919241E8], [1.813500959E9]] |\n",
            "|spotify:track:001PiA7wBB842OidKuKCV2|(100001,[50317,63461],[1.0,1.0])                                                 |[[9.52539516E8], [8.6186697E7], [1.9593101E8], [8.53174899E8], [1.008077391E9], [1.91506357E8], [3.30202126E8], [2.33746647E8], [9.32353072E8], [9.5608732E8], [7.6875445E7], [6.03221008E8], [7.31551811E8], [1.606104263E9], [8.09567587E8], [8.34404595E8], [5.2928926E7], [6.70986714E8], [7.9911375E8], [8.66112796E8]]              |\n",
            "|spotify:track:0039z1iKWagN3YYLw1Qqi9|(100001,[7021],[1.0])                                                            |[[7.94067528E8], [4.10674645E8], [1.853799798E9], [1.919475029E9], [1.098160612E9], [1.86712026E8], [5.19395916E8], [1.813054792E9], [2.40302232E8], [2.86275201E8], [2.68428428E8], [9.14155116E8], [1.912360413E9], [1.726125062E9], [5.8201253E8], [2477405.0], [6.54667171E8], [3.88095703E8], [1.238904556E9], [3.30186498E8]]       |\n",
            "|spotify:track:003CT3fPlZFHo500jSJthh|(100001,[52415],[1.0])                                                           |[[1.97797242E9], [1.327125066E9], [1.701352963E9], [1.480675008E9], [1.90252502E9], [7.7253403E7], [1.708559539E9], [1.17816421E8], [1.219705753E9], [1.323249096E9], [3.17811082E8], [6.14386623E8], [8.62841202E8], [6.95073661E8], [3.56045126E8], [1.070968006E9], [4.79440969E8], [7.99857076E8], [5.75647282E8], [2.16678136E8]]    |\n",
            "|spotify:track:0046NsE3QgADqnrV1NDhzJ|(100001,[44691,88308],[1.0,1.0])                                                 |[[9.8794673E8], [9.634187E7], [7.70818516E8], [3.14822389E8], [5.4462769E8], [4.86147892E8], [2.66526803E8], [1.88785869E8], [1.151349353E9], [9.99959825E8], [5.98098983E8], [1.43219722E8], [7.5145893E7], [1.4200586E8], [6.38197876E8], [8.97683259E8], [1.403164706E9], [3.09515151E8], [5.97990334E8], [2.58117506E8]]              |\n",
            "|spotify:track:004CeZtRE4wBNmL0eKk56R|(100001,[78197],[1.0])                                                           |[[1.796434206E9], [3.7131485E8], [4.1941953E8], [1.803178018E9], [7.49349774E8], [7.6792563E8], [1.84500857E9], [1.547483144E9], [1.069192667E9], [1.172568778E9], [1.156975771E9], [2.35177231E8], [6.35004588E8], [1.667777784E9], [2.7461944E7], [1.30149808E9], [1.734565197E9], [6.91692524E8], [1.983976061E9], [8.09777887E8]]     |\n",
            "|spotify:track:004NPTN9NrUPXnAOBQWW9W|(100001,[4159],[1.0])                                                            |[[1.551284628E9], [4.89741718E8], [7.017347E8], [1.170324843E9], [5.3274272E8], [1.836500579E9], [1.613640886E9], [1.361232307E9], [4.27284679E8], [1.444171953E9], [1.321662102E9], [3.85665231E8], [8.31580279E8], [9.32781364E8], [1.967876347E9], [1.822869319E9], [1.33051509E8], [1.823008135E9], [1.378059254E9], [1.202516789E9]] |\n",
            "|spotify:track:005PhwLfFyij1gNvlxeHds|(100001,[85373],[1.0])                                                           |[[1.02924638E8], [7.24244457E8], [2.021954875E9], [9.6760645E7], [1.286868436E9], [4.9503586E7], [1.476984614E9], [1.898451727E9], [6.68727655E8], [6.40675627E8], [6.73873614E8], [1.39364471E9], [1.759715931E9], [3.7986915E7], [1.32950479E9], [7.8407346E7], [5.38633399E8], [1.57403891E8], [6.52348787E8], [4.1280994E8]]          |\n",
            "|spotify:track:005c2319jh47WwCfezqhms|(100001,[5737,26524],[1.0,1.0])                                                  |[[5.6275443E7], [2.28239722E8], [4.86674421E8], [4.23221783E8], [7.97493419E8], [3.97054756E8], [1.33503974E9], [2.13179629E8], [8.02731194E8], [8.55760733E8], [2.5651079E8], [1.30460208E9], [4.45642031E8], [4.94299331E8], [6.42697915E8], [1.789074546E9], [1.236735356E9], [5.7676875E7], [5.36522431E8], [5.06355174E8]]           |\n",
            "|spotify:track:006irtbNebXAoxDseOQjq1|(100001,[40014],[1.0])                                                           |[[1.96900804E9], [1.065135309E9], [4.502271E7], [4938584.0], [1.739893572E9], [7.40524249E8], [1.516368782E9], [1.956364925E9], [8.20013348E8], [1.503708204E9], [1.31644854E8], [1.761830271E9], [1.539219984E9], [1.840703936E9], [1.007998079E9], [1.838965506E9], [6.23390832E8], [7.57813777E8], [1.034755008E9], [1.121660736E9]]   |\n",
            "|spotify:track:006yqigW4M16IRInOWX3sr|(100001,[53178],[1.0])                                                           |[[3.96020813E8], [6.11733364E8], [1.18535109E8], [5.11102284E8], [2.003415523E9], [5.26857417E8], [7.73084878E8], [7.01858075E8], [5.96603805E8], [1.574280377E9], [9.86984532E8], [4.75418911E8], [1.301942211E9], [1.212786233E9], [6.49557877E8], [3.7914386E8], [1.360526445E9], [1.669213195E9], [1.59703607E8], [1.51464842E8]]     |\n",
            "|spotify:track:007HyZl1LXuX1mR1JlRB3r|(100001,[5765],[1.0])                                                            |[[1.18019604E8], [1.641727689E9], [8.21245964E8], [9.29864269E8], [9.88175157E8], [8.62304388E8], [1.095033127E9], [5.33779285E8], [8.92052668E8], [1.74882222E8], [3.68889478E8], [2.011032885E9], [1.136118785E9], [1.111631827E9], [1.594685978E9], [7.91393966E8], [1.979590238E9], [5.2183985E7], [1.942301383E9], [6.85951699E8]]   |\n",
            "|spotify:track:007SutdC0rVG2CSkuQMtJw|(100001,[28490,29954,77877,81664,90888,98739],[1.0,1.0,1.0,1.0,1.0,1.0])         |[[2.96658045E8], [2.30611065E8], [6.0556718E7], [3.67831334E8], [4.8514827E7], [1.09243534E8], [2.1261802E7], [1.1789573E8], [1.7266551E8], [1.05678978E8], [1.31080152E8], [7.74263891E8], [2.06769476E8], [1.94401251E8], [4.31738651E8], [1.346996058E9], [5.20712146E8], [1.55715427E8], [2.36382236E8], [1.9997786E8]]               |\n",
            "|spotify:track:007ZqpuFhPQkSQDIQu0jTl|(100001,[24445],[1.0])                                                           |[[6.83237855E8], [4.29215452E8], [1.586960558E9], [1.48207463E8], [9.2579377E7], [5.89451625E8], [1.984240294E9], [1.295162377E9], [1.960375559E9], [1.312332007E9], [1.406138033E9], [9.3932881E7], [1.698621771E9], [1.851805999E9], [5.53464458E8], [4.81748131E8], [2.79681366E8], [1.919558816E9], [8.27538478E8], [1.97900174E8]]   |\n",
            "|spotify:track:0087fDVeNhuyMtST91RMjv|(100001,[3054,15126,22409,51900,76553,77840],[1.0,1.0,1.0,1.0,1.0,1.0])          |[[4.42444855E8], [9.9408714E7], [4.24448075E8], [1.035892514E9], [3.26288513E8], [5.5777859E7], [3.19424714E8], [1.10656029E8], [1.3558944E7], [4.9343729E7], [2.90851131E8], [4.57141518E8], [4.01375156E8], [1.53631673E8], [3.27436507E8], [1.42972385E8], [6.3703076E7], [4.64156715E8], [5.4554498E7], [3.6279392E7]]                |\n",
            "|spotify:track:009aJqwtazpcpmOW3YbwDx|(100001,[12483,24103,58938,86619],[1.0,1.0,1.0,1.0])                             |[[6.7941117E8], [1.106326751E9], [2.32446905E8], [3.6451711E8], [3.83919961E8], [1.54686687E8], [3.1408975E8], [5.90263585E8], [5.67383762E8], [2.09209614E8], [1.62575715E8], [1.19678003E8], [5.69590755E8], [1.56725915E8], [1.82098983E8], [1.48101794E8], [8.61123471E8], [8.22036405E8], [2.9195118E7], [8.825391E8]]               |\n",
            "|spotify:track:009n0zqtbcRTL7T4TiGf41|(100001,[63483],[1.0])                                                           |[[1.937983704E9], [4.61632015E8], [8.95538953E8], [1.503709458E9], [4.11758862E8], [8.48213174E8], [5.88812264E8], [1.94492842E8], [1.006477169E9], [5.19917308E8], [8.73469896E8], [8.20918143E8], [1.796639191E9], [1.313435273E9], [1.921208674E9], [1.797433919E9], [6.36600619E8], [1.540131476E9], [1.030193751E9], [1.618626971E9]]|\n",
            "|spotify:track:00AJHbqsncKqA6FSnz5o5p|(100001,[75865],[1.0])                                                           |[[1.281162171E9], [2.020909117E9], [1.669743063E9], [5.8888535E8], [5.90575898E8], [4.5154429E8], [1.453383337E9], [1.632236988E9], [6.17674737E8], [5.30870961E8], [2.79028428E8], [1.616177837E9], [1.867927916E9], [4.0054339E7], [4.01841816E8], [1.124126886E9], [1.007608029E9], [2.75711187E8], [1.946392871E9], [1.671534031E9]]  |\n",
            "|spotify:track:00BsdsY1DUzykUTs9yyu4S|(100001,[65347],[1.0])                                                           |[[1.500358671E9], [5.16953534E8], [1.623082961E9], [1.544417008E9], [3805501.0], [1.831731743E9], [9.15827114E8], [5.74215442E8], [1.129664601E9], [6.20326164E8], [1.295558202E9], [7.37850463E8], [1.066342768E9], [1.93980011E9], [1.32733784E8], [1.6497157E7], [1.175717503E9], [8.83308407E8], [1.154622198E9], [1.181513795E9]]    |\n",
            "+------------------------------------+---------------------------------------------------------------------------------+------------------------------------------------------------------------------------------------------------------------------------------------------------------------------------------------------------------------------------------------------------------------------------------------------------------------------------------+\n",
            "only showing top 20 rows\n",
            "\n"
          ]
        }
      ],
      "source": [
        "NUM_HASH_TABLES = 20\n",
        "LSH_MODEL_PATH = os.path.join(SAVED_DFS_PATH, f\"lsh_model-{NUM_HASH_TABLES}-{NUM_PLAYLISTS}.pickle\")\n",
        "if os.path.exists(LSH_MODEL_PATH):\n",
        "  model = MinHashLSHModel.load(LSH_MODEL_PATH)\n",
        "else:\n",
        "  mh = MinHashLSH(inputCol=\"embedding\", outputCol=\"hashes\", numHashTables=NUM_HASH_TABLES)\n",
        "  model = mh.fit(playlist_map)\n",
        "  model.save(LSH_MODEL_PATH)\n",
        "\n",
        "model.transform(playlist_map).show(truncate=False)"
      ]
    },
    {
      "attachments": {},
      "cell_type": "markdown",
      "metadata": {},
      "source": [
        "Once we extract, for each song $s \\in S$ (where $S$ is the collection of songs in the input playlist), the list of $k$ nearest neighbours of $s$, we will have a collection of $|S|$ DataFrames. Since $k$ will be a small value, we know for a fact that these DataFrames will be small, and so we can convert them to python dictionaries in order to further improve the performances when aggregating them into a single DataFrame. \n",
        "\n",
        "The aggreagation works in this way:\n",
        "- Given a collection of dictionaries $D$ of the type `{track_uri: str: distance: int}`\n",
        "- Create a new dictionary $d_{\\text{agg}}$, and put as keys each `track_uri` that appears in $D$, then as value:\n",
        "  - if: `track_uri` appears only once, the list `[distance]` of the distance associated\n",
        "  - else: the list `[distance1, distance2, ...]` of distances associated with the `track_uri` in each place where `track_uri` appears in $D$.\n",
        "- Map to each `track_uri` in $d_{\\text{agg}}$ the mean of the values inside of associated value.\n"
      ]
    },
    {
      "cell_type": "code",
      "execution_count": 31,
      "metadata": {
        "id": "XmUp55bUg8f9"
      },
      "outputs": [
        {
          "name": "stderr",
          "output_type": "stream",
          "text": [
            "[Stage 113:=========================>                               (4 + 5) / 9]\r"
          ]
        },
        {
          "name": "stdout",
          "output_type": "stream",
          "text": [
            "{'spotify:track:001BVhvaZTf2icV88rU3DA': [0.0, 0.0],\n",
            " 'spotify:track:1iO2inxYIzmPnMuDFfU1Rl': [0.8571428571428572,\n",
            "                                          0.8571428571428572],\n",
            " 'spotify:track:2EhgEpfn3U0lmpryqDujwt': [0.8571428571428572,\n",
            "                                          0.8571428571428572],\n",
            " 'spotify:track:3DeMqzJj9477nCcyTXl3Ye': [0.8571428571428572,\n",
            "                                          0.8571428571428572],\n",
            " 'spotify:track:3Ff2kaO1uxXjd9HkHfMw4h': [0.8571428571428572,\n",
            "                                          0.8571428571428572],\n",
            " 'spotify:track:3lkFKOOQRp1AqWk2PPAW6B': [0.8571428571428572,\n",
            "                                          0.8571428571428572],\n",
            " 'spotify:track:4OEHuq3q8kjkPS1jKI96JP': [0.8571428571428572,\n",
            "                                          0.8571428571428572],\n",
            " 'spotify:track:50r5hQgwJ61tCwEL1maGsG': [0.8571428571428572,\n",
            "                                          0.8571428571428572],\n",
            " 'spotify:track:558Km9MuklF6yKJDVVjIli': [0.8571428571428572,\n",
            "                                          0.8571428571428572],\n",
            " 'spotify:track:6kucDoXP5pBdFA7GxwgFP2': [0.8571428571428572,\n",
            "                                          0.8571428571428572]}\n"
          ]
        },
        {
          "name": "stderr",
          "output_type": "stream",
          "text": [
            "                                                                                \r"
          ]
        }
      ],
      "source": [
        "def df_to_dict(df: DataFrame) -> DataFrame:\n",
        "  \"\"\"\n",
        "  Given a DataFrame that includes the track_uri and the distance to the input track, it converts\n",
        "  it to a python dictionary.\n",
        "  \"\"\"\n",
        "  return df.select(\"track_uri\", \"distCol\").rdd.collectAsMap()\n",
        "\n",
        "def merge_dicts(d1: Dict[str, float], d2: Dict[str, float]) -> Dict[str, float]:\n",
        "  \"\"\"\n",
        "  Aggregates the values of the d2 dataframe into the d1 dataframe, which is treated like an accumulator.\n",
        "  The function has to be used inside of a reduce().\n",
        "  \"\"\"\n",
        "  for key, value in d2.items():\n",
        "    if key in d1:\n",
        "      if type(d1[key]) is float:\n",
        "        d1[key] = [d1[key]]\n",
        "      d1[key] += [value]\n",
        "    else:\n",
        "      d1[key] = [value]\n",
        "  return d1\n",
        "\n",
        "if DEBUG:\n",
        "  key = playlist_map.first()[1]\n",
        "  neigh = model.approxNearestNeighbors(playlist_map, key, 10).cache()\n",
        "  merged_df_2 = merge_dicts(df_to_dict(neigh), df_to_dict(neigh))\n",
        "  pprint(merged_df_2)"
      ]
    },
    {
      "attachments": {},
      "cell_type": "markdown",
      "metadata": {},
      "source": [
        "Let's define the function that actually extracts the nearest neighbours for each song, and creates the accumulated python dictionary."
      ]
    },
    {
      "cell_type": "code",
      "execution_count": 27,
      "metadata": {
        "id": "p6sFCM6RG5Y1"
      },
      "outputs": [
        {
          "name": "stderr",
          "output_type": "stream",
          "text": [
            "                                                                                \r"
          ]
        },
        {
          "data": {
            "application/vnd.jupyter.widget-view+json": {
              "model_id": "33fa986e63fd46fbaad76eaae4552c6b",
              "version_major": 2,
              "version_minor": 0
            },
            "text/plain": [
              "Extracting k-neighbors:   0%|          | 0/21 [00:00<?, ?it/s]"
            ]
          },
          "metadata": {},
          "output_type": "display_data"
        },
        {
          "name": "stderr",
          "output_type": "stream",
          "text": [
            "[Stage 110:======>                                                  (1 + 8) / 9]\r"
          ]
        },
        {
          "name": "stdout",
          "output_type": "stream",
          "text": [
            "{'spotify:track:4Hj5yNHgu2dyrnzRQN7Gld': 0.0, 'spotify:track:1jNyxG5S2P9gztbfAnrq85': 0.84, 'spotify:track:34yAAS72vZUXvsQPHGZexE': 0.8571428571428572, 'spotify:track:3nVDOYBJpdCkRR6r1DbZum': 0.8761467889908257, 'spotify:track:7yQ2NWAIeDcIEauyVG5lck': 0.8840579710144928, 'spotify:track:0GS2K1xle0UpcAWa3u4BnG': 0.8846153846153846, 'spotify:track:366DLDHAnvMnHP5ECYt4N7': 0.8901098901098901, 'spotify:track:7sdqtgsO9zxvKdrrVDpaNu': 0.9027777777777778, 'spotify:track:45oGS3iHeT2cvkihSP7KzK': 0.904109589041096, 'spotify:track:2TLlFL6dpycifLqKtTE7UZ': 0.9146341463414634, 'spotify:track:53mrVsi49rLHIaKBiSvElG': [0.0], 'spotify:track:7F9vK8hNFMml4GtHsaXui6': [0.914187643020595, 0.9158485273492286, 0.8746543778801843, 0.8666666666666667, 0.920099875156055, 0.0], 'spotify:track:0ofbQMrRDsUaVKq2mGLEAb': [0.9173878835562549, 0.8796736913664174, 0.8557457212713937, 0.919732441471572, 0.841748304446119], 'spotify:track:0CokSRCu5hZgPxcZBaEzVE': [0.9246231155778895, 0.0, 0.8666666666666667, 0.8960817717206133], 'spotify:track:2ekn2ttSfGqwhhate0LSR0': [0.9264836138175376, 0.8714828897338402, 0.8733509234828496, 0.8529657477025898], 'spotify:track:2771LMNxwf62FTAdpJMQfM': [0.9266770670826833, 0.6863084922010398], 'spotify:track:6EpRaXYhGOB3fj4V2uDkMJ': [0.9329954954954955, 0.8809523809523809, 0.8875770020533881, 0.8894565722248026, 0.8765027322404372, 0.0], 'spotify:track:7nZmah2llfvLDiUjm0kiyz': [0.9335378323108384, 0.9426829268292682, 0.9064994298745724, 0.8851851851851852], 'spotify:track:4xBjsLUSjcx2h7PcRikpQp': [0.9340659340659341], 'spotify:track:3ojTJaonfkL96iIWa47SU3': [0.9356814701378254], 'spotify:track:6Pw3Gvw4wNMZfTYZa6IQal': [0.0], 'spotify:track:5q5gzmbBS5yQzos2BvVr1t': [0.9102564102564102], 'spotify:track:7hCcLbNDCVPNqAwuoutJ31': [0.9221902017291066], 'spotify:track:2Gl0FzuLxflY6nPifJp5Dr': [0.930718954248366], 'spotify:track:1NDxZ7cFAo481dtYWdrUnR': [0.9366906474820144, 0.8818474758324383], 'spotify:track:2mfUa8bLs2s5N4VaqJZ4lZ': [0.9401041666666666, 0.8772635814889336], 'spotify:track:08QmhAybC6VHeG8gah84qA': [0.941747572815534], 'spotify:track:1sCxVKWImDZSZKvG0U9B23': [0.9421338155515371, 0.8215586307356154], 'spotify:track:0bXFIF7iL17TYLyx8JHziM': [0.0], 'spotify:track:1WIZiOuNO3woKfdlSK2gNn': [0.8109610802223988], 'spotify:track:59J5nzL1KniFHnU120dQzt': [0.8114590273151232], 'spotify:track:1e1JKLEDKP7hEQzJfNAgPl': [0.8263229308005428, 0.7807153965785381], 'spotify:track:2fQrGHiQOvpL9UgPvtYy6G': [0.8334648776637728, 0.8028996865203761, 0.7515173152445556, 0.8502740408570005, 0.9314550042052144], 'spotify:track:1nX9KhK3Fff27SnrIor2Yb': [0.8359037631091919], 'spotify:track:1yxgsra98r3qAtxqiGZPiX': [0.8383882149046794, 0.8163115356355621], 'spotify:track:1f5cbQtDrykjarZVrShaDI': [0.840983606557377, 0.8336365999480114], 'spotify:track:6p8NuHm8uCGnn2Dtbtf7zE': [0.8443732193732194, 0.7958015267175572, 0.8105164903546982], 'spotify:track:25oOaleife6E2MIKmFkPvg': [0.8459403192227619, 0.7856650585802895, 0.932420872540633], 'spotify:track:0NiXXAI876aGImAd6rTj8w': [0.0], 'spotify:track:3A7qX2QjDlPnazUsRk5y0M': [0.8439513242662848, 0.8868520859671303, 0.8183887118798361], 'spotify:track:1louJpMmzEicAn7lzDalPW': [0.8541009463722398], 'spotify:track:3PEgB3fkiojxms35ntsTgs': [0.8597938144329897], 'spotify:track:6jA8HL9i4QGzsj6fjoxp8Y': [0.8650943396226415], 'spotify:track:4c2W3VKsOFoIg2SFaO6DY5': [0.8680555555555556], 'spotify:track:3Ytr1SUCUi6J3L9dRFx5iH': [0.8820998278829604], 'spotify:track:0XLOf9LhyazPX9Ld8jPiUq': [0.0, 0.8746543778801843], 'spotify:track:3m660poUr1chesgkkjQM7P': [0.8505817513778322, 0.8449697636063771, 0.8495114006514658, 0.822405557967868], 'spotify:track:1SJtlNRJDeYHioymcvsqev': [0.8895405669599218], 'spotify:track:7i2DJ88J7jQ8K7zqFX2fW8': [0.8897734231475811], 'spotify:track:5Z3GHaZ6ec9bsiI5BenrbY': [0.0, 0.8129568943786236], 'spotify:track:152lZdxL1OR0ZMW6KquMif': [0.7730853391684902, 0.8420636489424788], 'spotify:track:5bgwqaRSS3M8WHWruHgSL5': [0.7905559786747905], 'spotify:track:5tz69p7tJuGPeMGwNTxYuV': [0.8129568943786236, 0.0, 0.8715298287064382], 'spotify:track:312WNtMs3F28cUukaPY9bo': [0.830166270783848], 'spotify:track:248OFOZef6ShXv6DGgbnxU': [0.8409335727109515], 'spotify:track:7wGoVu4Dady5GV0Sv4UIsx': [0.8453683442742523, 0.7942516649141255, 0.8040665434380776, 0.8176873965476472, 0.9313367421475529, 0.8419316136772645], 'spotify:track:3B54sVLJ402zGa6Xm4YGNe': [0.8565493646138808, 0.8140485927351455], 'spotify:track:3a1lNhkSLSkpJE4MSHpDu9': [0.8594070482938654, 0.822920517560074, 0.8855498721227621], 'spotify:track:7vGuf3Y35N4wmASOKLUVVU': [0.8621251629726205, 0.8809152366094644], 'spotify:track:5fiXA27viyX9WkPSHNr4HZ': [0.0], 'spotify:track:3yVnBKYkQR2LFEhL1htZ2G': [0.9318181818181819], 'spotify:track:1gaK2od5J8GX6KecOaWm4d': [0.9347826086956522], 'spotify:track:5qF7WVVqP6uvQ4meLY7K7M': [0.9387755102040817], 'spotify:track:22BH6K8RlpwNzIINvWS4Jj': [0.9390243902439024], 'spotify:track:74WO7vLynAEE2paZdck6bO': [0.9390243902439024], 'spotify:track:3UmtRRyDBhjHzaMpG351F0': [0.94], 'spotify:track:7GAOQ8MtrE35VOIwf49l3k': [0.9423076923076923], 'spotify:track:3YB3dT8zhaBxDTXlggRqh6': [0.9425287356321839], 'spotify:track:0iCMHSwNGZBqns7Ko54yVZ': [0.9436619718309859], 'spotify:track:0tKcYR2II1VCQWT79i5NrW': [0.8716404077849861], 'spotify:track:3hBBKuWJfxlIlnd9QFoC8k': [0.8788098693759071, 0.9034090909090909, 0.865979381443299], 'spotify:track:5bcTCxgc7xVfSaMV3RuVke': [0.883170355120947, 0.8407669862442684], 'spotify:track:2eAZfqOm4EnOF9VvN50Tyc': [0.0, 0.734113712374582, 0.9228269699431356, 0.8878504672897196], 'spotify:track:1uL78kFWxhz3umTMWJu8n5': [0.734113712374582, 0.0], 'spotify:track:5tRmoZRoupvMYPV1oezFrH': [0.7547169811320755, 0.6938239159001314], 'spotify:track:1XRgIKC5TPwo7nWGyKqgG0': [0.7747183979974969, 0.8183161004431314, 0.7729323308270677, 0.9351032448377581], 'spotify:track:40oKW22ZNNkEdZLJTScaQI': [0.811070110701107, 0.7796771130104463], 'spotify:track:7AQim7LbvFVZJE3O8TYgf2': [0.8112781954887218], 'spotify:track:1QgTBfRN5m81a5K01qens6': [0.8122676579925651, 0.7272727272727273], 'spotify:track:4knL4iPxPOZjQzTUlELGSY': [0.0], 'spotify:track:6H0AwSQ20mo62jGlPGB8S6': [0.813135593220339], 'spotify:track:43ZyHQITOjhciSUUNPVRHc': [0.815922920892495, 0.7955418908531898, 0.9318357862122386], 'spotify:track:7GX5flRQZVHRAGd6B4TmDO': [0.8130575831305759], 'spotify:track:7KXjTSCq5nL1LoYtL7XAwS': [0.8404418011894648], 'spotify:track:0Fv5N0cHBsl4bzCbollCAS': [0.0], 'spotify:track:0SGkqnVQo9KPytSri1H6cF': [0.7495854063018241], 'spotify:track:7KOlJ92bu51cltsD9KU5I7': [0.768897768897769], 'spotify:track:6mapJIPnQ23RTAevUoE0DL': [0.7917651029362133], 'spotify:track:4Q3N4Ct4zCuIHuZ65E3BD4': [0.80514825676116], 'spotify:track:0VgkVdmE4gld66l8iyGjgx': [0.8052325581395349], 'spotify:track:5tFep7dXGd7vEJ668wTPux': [0.8130563798219584], 'spotify:track:4Km5HrUvYTaSUfiSGPJeQR': [0.8161727774987444], 'spotify:track:6gBFPUFcJLzWGx4lenP6h2': [0.821740280349114], 'spotify:track:0Qh38w01QRXK6KHIv0e3hb': [0.0], 'spotify:track:0jdny0dhgjUwoIp5GkqEaA': [0.8956692913385826], 'spotify:track:1mXVgsBdtIVeCLJnSnmtdV': [0.9014084507042254], 'spotify:track:1j4kHkkpqZRBwE0A4CN4Yv': [0.9110787172011662, 0.8866442199775533], 'spotify:track:6uFsE1JgZ20EXyU0JQZbUR': [0.9162512462612163], 'spotify:track:5AEtlRudpgdT5FtNiuly6Y': [0.9189189189189189, 0.8683812405446294], 'spotify:track:0UioblV1x795s55Ur58c6c': [0.7365648050579557], 'spotify:track:2ZdCrBA52bb4pIG3tOOZiQ': [0.7690100430416069], 'spotify:track:2nYwV62UABTH0NanrwVIdQ': [0.7952522255192879], 'spotify:track:6xE3hDdo29VhAfsL7LrxcY': [0.0], 'spotify:track:5WmiUlGNdcIPe2SYWSsz6q': [0.9310344827586207], 'spotify:track:4Tvv6RO5PJBdPnE8yr0s8P': [0.9473684210526316], 'spotify:track:6mLfR7fHVDcCKpLwGLWCWw': [0.9516129032258065], 'spotify:track:2Y3zcR4Zk0XyNtscjr7qvN': [0.9583333333333334], 'spotify:track:41acFV8AQ4hBan85BEY5ql': [0.9634146341463414], 'spotify:track:7oCFai1AxaGrmsZh55eEBK': [0.9642857142857143], 'spotify:track:2kmKC8ikUQjF5BnITFU9HA': [0.9672131147540983], 'spotify:track:1GYQH7xr9KlnqRvbVXxaAZ': [0.968421052631579], 'spotify:track:3fUbkkgPDNfKT03FJIk9m2': [0.9705882352941176], 'spotify:track:7bsnTsbiwOymZWjPF9v6Di': [0.0], 'spotify:track:4CwumbYOUtgSylJnSrZ7oY': [0.924031007751938], 'spotify:track:5de7ci7TFqbQ1PFgKAD7MR': [0.9323671497584541], 'spotify:track:38yBBH2jacvDxrznF7h08J': [0.7887381833127826], 'spotify:track:4iLqG9SeJSnt0cSPICSjxv': [0.7977720651242503], 'spotify:track:3DXncPQOG4VBw3QHh3S817': [0.8178458289334741], 'spotify:track:79cuOz3SPQTuFrp8WgftAu': [0.8229121119370354], 'spotify:track:1OAh8uOEOvTDqkKFsKksCi': [0.8278145695364238], 'spotify:track:5CtI0qwDJkDQGwXD1H1cLb': [0.8392715756136184], 'spotify:track:75ZvA4QfFiZvzhj2xkaWAh': [0.0], 'spotify:track:5yuShbu70mtHXY0yLzCQLQ': [0.821024868123587], 'spotify:track:42CeaId2XNlxugDvyqHfDf': [0.8428915662650602], 'spotify:track:6M0IsaUX4GNyto4niSegfI': [0.8695402298850574], 'spotify:track:4cxMGhkinTocPSVVKWIw0d': [0.8811410459587956], 'spotify:track:35r28RDot7nPE7y9K9H7l0': [0.8868159203980099], 'spotify:track:7iDa6hUg2VgEL1o1HjmfBn': [0.0], 'spotify:track:30MM5jWpUmOxtTNd9Ey5LZ': [0.8661504424778761], 'spotify:track:6waqLPcT6ruMhmd36OhmFO': [0.8971518987341772], 'spotify:track:2YMhrXQYKkm4kXLcXKKd5z': [0.901740020470829], 'spotify:track:4Vxu50qVrQcycjRyJQaZLC': [0.9054054054054054], 'spotify:track:2d48mamATjby7wgPjdrSOQ': [0.9066918001885014], 'spotify:track:2A69wys3S9uiPSmn6UZWJn': [0.9074074074074074], 'spotify:track:1HehGmky06OZLM9Vz2PRZL': [0.9083820662768032], 'spotify:track:3pJkBPHadRAxBBo484RipI': [0.9125475285171103]}\n"
          ]
        },
        {
          "name": "stderr",
          "output_type": "stream",
          "text": [
            "                                                                                \r"
          ]
        }
      ],
      "source": [
        "def extract_similar_songs(playlist_tracks: DataFrame, playlist_map, model, k=10, disable_pbar=False) -> Dict[str, float]:\n",
        "  \"\"\"\n",
        "  Given the a DataFrame containing the input playlist's tracks, the LSH model and the DataFrame that maps\n",
        "  each playlist to a position, gets the approximate k-nearest-neighbours for each track, and aggregates the \n",
        "  results into a python dictionary.\n",
        "  \"\"\"\n",
        "  aggregate_df = None\n",
        "  tracks_embedding = playlist_map.join(F.broadcast(playlist_tracks), \"track_uri\").select(\"track_uri\", \"embedding\")\n",
        "  transformed_tracks_embeddings = model.transform(tracks_embedding).cache()\n",
        "  k_neighs = []\n",
        "\n",
        "  for row in tqdm(tracks_embedding.collect(), desc='Extracting k-neighbors', disable=disable_pbar):\n",
        "    k_neigh = model.approxNearestNeighbors(playlist_map, row[\"embedding\"], k).cache()\n",
        "    k_neighs.append(df_to_dict(k_neigh))\n",
        "\n",
        "  aggregate_df = reduce(merge_dicts, k_neighs)\n",
        "\n",
        "  transformed_tracks_embeddings.unpersist()\n",
        "  return aggregate_df\n",
        "\n",
        "if DEBUG:\n",
        "  # first_playlist = train_df.limit(1).select(F.explode(\"tracks\")).select(\"col.*\").distinct()\n",
        "  first_playlist = train_df.filter(\"pid == 1005\").select(F.explode(\"tracks\")).select(\"col.*\").distinct()\n",
        "  recommendations = extract_similar_songs(first_playlist, playlist_map, model, k=10)\n",
        "  pprint(recommendations)"
      ]
    },
    {
      "cell_type": "code",
      "execution_count": 30,
      "metadata": {},
      "outputs": [
        {
          "name": "stdout",
          "output_type": "stream",
          "text": [
            "{'spotify:track:08QmhAybC6VHeG8gah84qA': [0.941747572815534],\n",
            " 'spotify:track:0CokSRCu5hZgPxcZBaEzVE': [0.9246231155778895,\n",
            "                                          0.0,\n",
            "                                          0.8666666666666667,\n",
            "                                          0.8960817717206133],\n",
            " 'spotify:track:0Fv5N0cHBsl4bzCbollCAS': [0.0],\n",
            " 'spotify:track:0GS2K1xle0UpcAWa3u4BnG': 0.8846153846153846,\n",
            " 'spotify:track:0NiXXAI876aGImAd6rTj8w': [0.0],\n",
            " 'spotify:track:0Qh38w01QRXK6KHIv0e3hb': [0.0],\n",
            " 'spotify:track:0SGkqnVQo9KPytSri1H6cF': [0.7495854063018241],\n",
            " 'spotify:track:0UioblV1x795s55Ur58c6c': [0.7365648050579557],\n",
            " 'spotify:track:0VgkVdmE4gld66l8iyGjgx': [0.8052325581395349],\n",
            " 'spotify:track:0XLOf9LhyazPX9Ld8jPiUq': [0.0, 0.8746543778801843],\n",
            " 'spotify:track:0bXFIF7iL17TYLyx8JHziM': [0.0],\n",
            " 'spotify:track:0iCMHSwNGZBqns7Ko54yVZ': [0.9436619718309859],\n",
            " 'spotify:track:0jdny0dhgjUwoIp5GkqEaA': [0.8956692913385826],\n",
            " 'spotify:track:0ofbQMrRDsUaVKq2mGLEAb': [0.9173878835562549,\n",
            "                                          0.8796736913664174,\n",
            "                                          0.8557457212713937,\n",
            "                                          0.919732441471572,\n",
            "                                          0.841748304446119],\n",
            " 'spotify:track:0tKcYR2II1VCQWT79i5NrW': [0.8716404077849861],\n",
            " 'spotify:track:152lZdxL1OR0ZMW6KquMif': [0.7730853391684902,\n",
            "                                          0.8420636489424788],\n",
            " 'spotify:track:1GYQH7xr9KlnqRvbVXxaAZ': [0.968421052631579],\n",
            " 'spotify:track:1HehGmky06OZLM9Vz2PRZL': [0.9083820662768032],\n",
            " 'spotify:track:1NDxZ7cFAo481dtYWdrUnR': [0.9366906474820144,\n",
            "                                          0.8818474758324383],\n",
            " 'spotify:track:1OAh8uOEOvTDqkKFsKksCi': [0.8278145695364238],\n",
            " 'spotify:track:1QgTBfRN5m81a5K01qens6': [0.8122676579925651,\n",
            "                                          0.7272727272727273],\n",
            " 'spotify:track:1SJtlNRJDeYHioymcvsqev': [0.8895405669599218],\n",
            " 'spotify:track:1WIZiOuNO3woKfdlSK2gNn': [0.8109610802223988],\n",
            " 'spotify:track:1XRgIKC5TPwo7nWGyKqgG0': [0.7747183979974969,\n",
            "                                          0.8183161004431314,\n",
            "                                          0.7729323308270677,\n",
            "                                          0.9351032448377581],\n",
            " 'spotify:track:1e1JKLEDKP7hEQzJfNAgPl': [0.8263229308005428,\n",
            "                                          0.7807153965785381],\n",
            " 'spotify:track:1f5cbQtDrykjarZVrShaDI': [0.840983606557377,\n",
            "                                          0.8336365999480114],\n",
            " 'spotify:track:1gaK2od5J8GX6KecOaWm4d': [0.9347826086956522],\n",
            " 'spotify:track:1j4kHkkpqZRBwE0A4CN4Yv': [0.9110787172011662,\n",
            "                                          0.8866442199775533],\n",
            " 'spotify:track:1jNyxG5S2P9gztbfAnrq85': 0.84,\n",
            " 'spotify:track:1louJpMmzEicAn7lzDalPW': [0.8541009463722398],\n",
            " 'spotify:track:1mXVgsBdtIVeCLJnSnmtdV': [0.9014084507042254],\n",
            " 'spotify:track:1nX9KhK3Fff27SnrIor2Yb': [0.8359037631091919],\n",
            " 'spotify:track:1sCxVKWImDZSZKvG0U9B23': [0.9421338155515371,\n",
            "                                          0.8215586307356154],\n",
            " 'spotify:track:1uL78kFWxhz3umTMWJu8n5': [0.734113712374582, 0.0],\n",
            " 'spotify:track:1yxgsra98r3qAtxqiGZPiX': [0.8383882149046794,\n",
            "                                          0.8163115356355621],\n",
            " 'spotify:track:22BH6K8RlpwNzIINvWS4Jj': [0.9390243902439024],\n",
            " 'spotify:track:248OFOZef6ShXv6DGgbnxU': [0.8409335727109515],\n",
            " 'spotify:track:25oOaleife6E2MIKmFkPvg': [0.8459403192227619,\n",
            "                                          0.7856650585802895,\n",
            "                                          0.932420872540633],\n",
            " 'spotify:track:2771LMNxwf62FTAdpJMQfM': [0.9266770670826833,\n",
            "                                          0.6863084922010398],\n",
            " 'spotify:track:2A69wys3S9uiPSmn6UZWJn': [0.9074074074074074],\n",
            " 'spotify:track:2Gl0FzuLxflY6nPifJp5Dr': [0.930718954248366],\n",
            " 'spotify:track:2TLlFL6dpycifLqKtTE7UZ': 0.9146341463414634,\n",
            " 'spotify:track:2Y3zcR4Zk0XyNtscjr7qvN': [0.9583333333333334],\n",
            " 'spotify:track:2YMhrXQYKkm4kXLcXKKd5z': [0.901740020470829],\n",
            " 'spotify:track:2ZdCrBA52bb4pIG3tOOZiQ': [0.7690100430416069],\n",
            " 'spotify:track:2d48mamATjby7wgPjdrSOQ': [0.9066918001885014],\n",
            " 'spotify:track:2eAZfqOm4EnOF9VvN50Tyc': [0.0,\n",
            "                                          0.734113712374582,\n",
            "                                          0.9228269699431356,\n",
            "                                          0.8878504672897196],\n",
            " 'spotify:track:2ekn2ttSfGqwhhate0LSR0': [0.9264836138175376,\n",
            "                                          0.8714828897338402,\n",
            "                                          0.8733509234828496,\n",
            "                                          0.8529657477025898],\n",
            " 'spotify:track:2fQrGHiQOvpL9UgPvtYy6G': [0.8334648776637728,\n",
            "                                          0.8028996865203761,\n",
            "                                          0.7515173152445556,\n",
            "                                          0.8502740408570005,\n",
            "                                          0.9314550042052144],\n",
            " 'spotify:track:2kmKC8ikUQjF5BnITFU9HA': [0.9672131147540983],\n",
            " 'spotify:track:2mfUa8bLs2s5N4VaqJZ4lZ': [0.9401041666666666,\n",
            "                                          0.8772635814889336],\n",
            " 'spotify:track:2nYwV62UABTH0NanrwVIdQ': [0.7952522255192879],\n",
            " 'spotify:track:30MM5jWpUmOxtTNd9Ey5LZ': [0.8661504424778761],\n",
            " 'spotify:track:312WNtMs3F28cUukaPY9bo': [0.830166270783848],\n",
            " 'spotify:track:34yAAS72vZUXvsQPHGZexE': 0.8571428571428572,\n",
            " 'spotify:track:35r28RDot7nPE7y9K9H7l0': [0.8868159203980099],\n",
            " 'spotify:track:366DLDHAnvMnHP5ECYt4N7': 0.8901098901098901,\n",
            " 'spotify:track:38yBBH2jacvDxrznF7h08J': [0.7887381833127826],\n",
            " 'spotify:track:3A7qX2QjDlPnazUsRk5y0M': [0.8439513242662848,\n",
            "                                          0.8868520859671303,\n",
            "                                          0.8183887118798361],\n",
            " 'spotify:track:3B54sVLJ402zGa6Xm4YGNe': [0.8565493646138808,\n",
            "                                          0.8140485927351455],\n",
            " 'spotify:track:3DXncPQOG4VBw3QHh3S817': [0.8178458289334741],\n",
            " 'spotify:track:3PEgB3fkiojxms35ntsTgs': [0.8597938144329897],\n",
            " 'spotify:track:3UmtRRyDBhjHzaMpG351F0': [0.94],\n",
            " 'spotify:track:3YB3dT8zhaBxDTXlggRqh6': [0.9425287356321839],\n",
            " 'spotify:track:3Ytr1SUCUi6J3L9dRFx5iH': [0.8820998278829604],\n",
            " 'spotify:track:3a1lNhkSLSkpJE4MSHpDu9': [0.8594070482938654,\n",
            "                                          0.822920517560074,\n",
            "                                          0.8855498721227621],\n",
            " 'spotify:track:3fUbkkgPDNfKT03FJIk9m2': [0.9705882352941176],\n",
            " 'spotify:track:3hBBKuWJfxlIlnd9QFoC8k': [0.8788098693759071,\n",
            "                                          0.9034090909090909,\n",
            "                                          0.865979381443299],\n",
            " 'spotify:track:3m660poUr1chesgkkjQM7P': [0.8505817513778322,\n",
            "                                          0.8449697636063771,\n",
            "                                          0.8495114006514658,\n",
            "                                          0.822405557967868],\n",
            " 'spotify:track:3nVDOYBJpdCkRR6r1DbZum': 0.8761467889908257,\n",
            " 'spotify:track:3ojTJaonfkL96iIWa47SU3': [0.9356814701378254],\n",
            " 'spotify:track:3pJkBPHadRAxBBo484RipI': [0.9125475285171103],\n",
            " 'spotify:track:3yVnBKYkQR2LFEhL1htZ2G': [0.9318181818181819],\n",
            " 'spotify:track:40oKW22ZNNkEdZLJTScaQI': [0.811070110701107,\n",
            "                                          0.7796771130104463],\n",
            " 'spotify:track:41acFV8AQ4hBan85BEY5ql': [0.9634146341463414],\n",
            " 'spotify:track:42CeaId2XNlxugDvyqHfDf': [0.8428915662650602],\n",
            " 'spotify:track:43ZyHQITOjhciSUUNPVRHc': [0.815922920892495,\n",
            "                                          0.7955418908531898,\n",
            "                                          0.9318357862122386],\n",
            " 'spotify:track:45oGS3iHeT2cvkihSP7KzK': 0.904109589041096,\n",
            " 'spotify:track:4CwumbYOUtgSylJnSrZ7oY': [0.924031007751938],\n",
            " 'spotify:track:4Hj5yNHgu2dyrnzRQN7Gld': 0.0,\n",
            " 'spotify:track:4Km5HrUvYTaSUfiSGPJeQR': [0.8161727774987444],\n",
            " 'spotify:track:4Q3N4Ct4zCuIHuZ65E3BD4': [0.80514825676116],\n",
            " 'spotify:track:4Tvv6RO5PJBdPnE8yr0s8P': [0.9473684210526316],\n",
            " 'spotify:track:4Vxu50qVrQcycjRyJQaZLC': [0.9054054054054054],\n",
            " 'spotify:track:4c2W3VKsOFoIg2SFaO6DY5': [0.8680555555555556],\n",
            " 'spotify:track:4cxMGhkinTocPSVVKWIw0d': [0.8811410459587956],\n",
            " 'spotify:track:4iLqG9SeJSnt0cSPICSjxv': [0.7977720651242503],\n",
            " 'spotify:track:4knL4iPxPOZjQzTUlELGSY': [0.0],\n",
            " 'spotify:track:4xBjsLUSjcx2h7PcRikpQp': [0.9340659340659341],\n",
            " 'spotify:track:53mrVsi49rLHIaKBiSvElG': [0.0],\n",
            " 'spotify:track:59J5nzL1KniFHnU120dQzt': [0.8114590273151232],\n",
            " 'spotify:track:5AEtlRudpgdT5FtNiuly6Y': [0.9189189189189189,\n",
            "                                          0.8683812405446294],\n",
            " 'spotify:track:5CtI0qwDJkDQGwXD1H1cLb': [0.8392715756136184],\n",
            " 'spotify:track:5WmiUlGNdcIPe2SYWSsz6q': [0.9310344827586207],\n",
            " 'spotify:track:5Z3GHaZ6ec9bsiI5BenrbY': [0.0, 0.8129568943786236],\n",
            " 'spotify:track:5bcTCxgc7xVfSaMV3RuVke': [0.883170355120947,\n",
            "                                          0.8407669862442684],\n",
            " 'spotify:track:5bgwqaRSS3M8WHWruHgSL5': [0.7905559786747905],\n",
            " 'spotify:track:5de7ci7TFqbQ1PFgKAD7MR': [0.9323671497584541],\n",
            " 'spotify:track:5fiXA27viyX9WkPSHNr4HZ': [0.0],\n",
            " 'spotify:track:5q5gzmbBS5yQzos2BvVr1t': [0.9102564102564102],\n",
            " 'spotify:track:5qF7WVVqP6uvQ4meLY7K7M': [0.9387755102040817],\n",
            " 'spotify:track:5tFep7dXGd7vEJ668wTPux': [0.8130563798219584],\n",
            " 'spotify:track:5tRmoZRoupvMYPV1oezFrH': [0.7547169811320755,\n",
            "                                          0.6938239159001314],\n",
            " 'spotify:track:5tz69p7tJuGPeMGwNTxYuV': [0.8129568943786236,\n",
            "                                          0.0,\n",
            "                                          0.8715298287064382],\n",
            " 'spotify:track:5yuShbu70mtHXY0yLzCQLQ': [0.821024868123587],\n",
            " 'spotify:track:6EpRaXYhGOB3fj4V2uDkMJ': [0.9329954954954955,\n",
            "                                          0.8809523809523809,\n",
            "                                          0.8875770020533881,\n",
            "                                          0.8894565722248026,\n",
            "                                          0.8765027322404372,\n",
            "                                          0.0],\n",
            " 'spotify:track:6H0AwSQ20mo62jGlPGB8S6': [0.813135593220339],\n",
            " 'spotify:track:6M0IsaUX4GNyto4niSegfI': [0.8695402298850574],\n",
            " 'spotify:track:6Pw3Gvw4wNMZfTYZa6IQal': [0.0],\n",
            " 'spotify:track:6gBFPUFcJLzWGx4lenP6h2': [0.821740280349114],\n",
            " 'spotify:track:6jA8HL9i4QGzsj6fjoxp8Y': [0.8650943396226415],\n",
            " 'spotify:track:6mLfR7fHVDcCKpLwGLWCWw': [0.9516129032258065],\n",
            " 'spotify:track:6mapJIPnQ23RTAevUoE0DL': [0.7917651029362133],\n",
            " 'spotify:track:6p8NuHm8uCGnn2Dtbtf7zE': [0.8443732193732194,\n",
            "                                          0.7958015267175572,\n",
            "                                          0.8105164903546982],\n",
            " 'spotify:track:6uFsE1JgZ20EXyU0JQZbUR': [0.9162512462612163],\n",
            " 'spotify:track:6waqLPcT6ruMhmd36OhmFO': [0.8971518987341772],\n",
            " 'spotify:track:6xE3hDdo29VhAfsL7LrxcY': [0.0],\n",
            " 'spotify:track:74WO7vLynAEE2paZdck6bO': [0.9390243902439024],\n",
            " 'spotify:track:75ZvA4QfFiZvzhj2xkaWAh': [0.0],\n",
            " 'spotify:track:79cuOz3SPQTuFrp8WgftAu': [0.8229121119370354],\n",
            " 'spotify:track:7AQim7LbvFVZJE3O8TYgf2': [0.8112781954887218],\n",
            " 'spotify:track:7F9vK8hNFMml4GtHsaXui6': [0.914187643020595,\n",
            "                                          0.9158485273492286,\n",
            "                                          0.8746543778801843,\n",
            "                                          0.8666666666666667,\n",
            "                                          0.920099875156055,\n",
            "                                          0.0],\n",
            " 'spotify:track:7GAOQ8MtrE35VOIwf49l3k': [0.9423076923076923],\n",
            " 'spotify:track:7GX5flRQZVHRAGd6B4TmDO': [0.8130575831305759],\n",
            " 'spotify:track:7KOlJ92bu51cltsD9KU5I7': [0.768897768897769],\n",
            " 'spotify:track:7KXjTSCq5nL1LoYtL7XAwS': [0.8404418011894648],\n",
            " 'spotify:track:7bsnTsbiwOymZWjPF9v6Di': [0.0],\n",
            " 'spotify:track:7hCcLbNDCVPNqAwuoutJ31': [0.9221902017291066],\n",
            " 'spotify:track:7i2DJ88J7jQ8K7zqFX2fW8': [0.8897734231475811],\n",
            " 'spotify:track:7iDa6hUg2VgEL1o1HjmfBn': [0.0],\n",
            " 'spotify:track:7nZmah2llfvLDiUjm0kiyz': [0.9335378323108384,\n",
            "                                          0.9426829268292682,\n",
            "                                          0.9064994298745724,\n",
            "                                          0.8851851851851852],\n",
            " 'spotify:track:7oCFai1AxaGrmsZh55eEBK': [0.9642857142857143],\n",
            " 'spotify:track:7sdqtgsO9zxvKdrrVDpaNu': 0.9027777777777778,\n",
            " 'spotify:track:7vGuf3Y35N4wmASOKLUVVU': [0.8621251629726205,\n",
            "                                          0.8809152366094644],\n",
            " 'spotify:track:7wGoVu4Dady5GV0Sv4UIsx': [0.8453683442742523,\n",
            "                                          0.7942516649141255,\n",
            "                                          0.8040665434380776,\n",
            "                                          0.8176873965476472,\n",
            "                                          0.9313367421475529,\n",
            "                                          0.8419316136772645],\n",
            " 'spotify:track:7yQ2NWAIeDcIEauyVG5lck': 0.8840579710144928}\n"
          ]
        }
      ],
      "source": [
        "if DEBUG:\n",
        "    pprint(recommendations)"
      ]
    },
    {
      "attachments": {},
      "cell_type": "markdown",
      "metadata": {
        "id": "L-zF2NSClWaV"
      },
      "source": [
        "We can see that the `reccomendations` python dictionary obtained from converting the DataFrame is actually very small, and occupies only few KB of memory. "
      ]
    },
    {
      "cell_type": "code",
      "execution_count": 32,
      "metadata": {
        "id": "FRs9DULWlMvl"
      },
      "outputs": [
        {
          "name": "stdout",
          "output_type": "stream",
          "text": [
            "The reccomendation dictionary is 4.696 KB\n"
          ]
        }
      ],
      "source": [
        "if DEBUG:\n",
        "  print(f\"The reccomendation dictionary is {sys.getsizeof(recommendations) / 1_000} KB\")"
      ]
    },
    {
      "attachments": {},
      "cell_type": "markdown",
      "metadata": {},
      "source": [
        "Once we have computed the aggreageted python dictionary, we can average the similarity values inside of the dictionary's values, and obtain a pyspark DataFrame back."
      ]
    },
    {
      "cell_type": "code",
      "execution_count": 33,
      "metadata": {
        "id": "QbBeYNhKqJgM"
      },
      "outputs": [
        {
          "name": "stdout",
          "output_type": "stream",
          "text": [
            "+------------------------------------+----------+\n",
            "|track_uri                           |distance  |\n",
            "+------------------------------------+----------+\n",
            "|spotify:track:4Hj5yNHgu2dyrnzRQN7Gld|0.0       |\n",
            "|spotify:track:1jNyxG5S2P9gztbfAnrq85|0.84      |\n",
            "|spotify:track:34yAAS72vZUXvsQPHGZexE|0.85714287|\n",
            "|spotify:track:3nVDOYBJpdCkRR6r1DbZum|0.8761468 |\n",
            "|spotify:track:7yQ2NWAIeDcIEauyVG5lck|0.884058  |\n",
            "|spotify:track:0GS2K1xle0UpcAWa3u4BnG|0.88461536|\n",
            "|spotify:track:366DLDHAnvMnHP5ECYt4N7|0.8901099 |\n",
            "|spotify:track:7sdqtgsO9zxvKdrrVDpaNu|0.9027778 |\n",
            "|spotify:track:45oGS3iHeT2cvkihSP7KzK|0.9041096 |\n",
            "|spotify:track:2TLlFL6dpycifLqKtTE7UZ|0.91463417|\n",
            "|spotify:track:53mrVsi49rLHIaKBiSvElG|0.0       |\n",
            "|spotify:track:7F9vK8hNFMml4GtHsaXui6|0.74857616|\n",
            "|spotify:track:0ofbQMrRDsUaVKq2mGLEAb|0.8828576 |\n",
            "|spotify:track:0CokSRCu5hZgPxcZBaEzVE|0.6718429 |\n",
            "|spotify:track:2ekn2ttSfGqwhhate0LSR0|0.8810708 |\n",
            "|spotify:track:2771LMNxwf62FTAdpJMQfM|0.8064928 |\n",
            "|spotify:track:6EpRaXYhGOB3fj4V2uDkMJ|0.7445807 |\n",
            "|spotify:track:7nZmah2llfvLDiUjm0kiyz|0.91697633|\n",
            "|spotify:track:4xBjsLUSjcx2h7PcRikpQp|0.93406594|\n",
            "|spotify:track:3ojTJaonfkL96iIWa47SU3|0.93568146|\n",
            "+------------------------------------+----------+\n",
            "only showing top 20 rows\n",
            "\n"
          ]
        },
        {
          "name": "stderr",
          "output_type": "stream",
          "text": [
            "                                                                                \r"
          ]
        },
        {
          "name": "stdout",
          "output_type": "stream",
          "text": [
            "+---+---------------+------------------------------------+-------------------------------------+-----------------------------------------------------+------------------------------------+-----------+-----------------------------------------------------+\n",
            "|pos|artist_name    |track_uri                           |artist_uri                           |track_name                                           |album_uri                           |duration_ms|album_name                                           |\n",
            "+---+---------------+------------------------------------+-------------------------------------+-----------------------------------------------------+------------------------------------+-----------+-----------------------------------------------------+\n",
            "|18 |Aminé          |spotify:track:4Hj5yNHgu2dyrnzRQN7Gld|spotify:artist:3Gm5F95VdRxW3mqCn8RPBJ|Yellow                                               |spotify:album:3lajefIuUk4SfzqVBSJy8p|180000     |Good For You                                         |\n",
            "|10 |Macklemore     |spotify:track:7bsnTsbiwOymZWjPF9v6Di|spotify:artist:3JhNCzhSMTxs9WLGJJxWOY|Marmalade (feat. Lil Yachty)                         |spotify:album:72qA6s4fjF8Y2VX1UDMfp2|261614     |GEMINI                                               |\n",
            "|24 |Yo Gotti       |spotify:track:4knL4iPxPOZjQzTUlELGSY|spotify:artist:6Ha4aES39QiVjR0L2lwuwq|Rake It Up                                           |spotify:album:1tSsb3t0pqVVONvBJivoT9|276333     |I Still Am                                           |\n",
            "|20 |Post Malone    |spotify:track:75ZvA4QfFiZvzhj2xkaWAh|spotify:artist:246dkjvS1zLTtiykXe5h60|I Fall Apart                                         |spotify:album:5s0rmjP8XOPhP6HhqOhuyC|223346     |Stoney                                               |\n",
            "|6  |Liam Payne     |spotify:track:6EpRaXYhGOB3fj4V2uDkMJ|spotify:artist:5pUo3fmmHT8bhCyHE52hA6|Strip That Down                                      |spotify:album:2mnDyPSNM02LMvniaMWnLl|204502     |Strip That Down                                      |\n",
            "|1  |Louis Tomlinson|spotify:track:7F9vK8hNFMml4GtHsaXui6|spotify:artist:57WHJIHrjOE3iAxpihhMnp|Back to You (feat. Bebe Rexha & Digital Farm Animals)|spotify:album:4sBgGazGb7S9ZUQJu2Y0qa|190427     |Back to You (feat. Bebe Rexha & Digital Farm Animals)|\n",
            "|4  |Macklemore     |spotify:track:0CokSRCu5hZgPxcZBaEzVE|spotify:artist:3JhNCzhSMTxs9WLGJJxWOY|Glorious (feat. Skylar Grey)                         |spotify:album:72qA6s4fjF8Y2VX1UDMfp2|220454     |GEMINI                                               |\n",
            "|22 |Kid Ink        |spotify:track:6xE3hDdo29VhAfsL7LrxcY|spotify:artist:6KZDXtSj0SzGOV705nNeh3|No Strings                                           |spotify:album:5TeAtFCYpc0WELiph7eiAg|211626     |7 Series                                             |\n",
            "|19 |Big Sean       |spotify:track:0Fv5N0cHBsl4bzCbollCAS|spotify:artist:0c173mlxpT3dSFRgMO8XPh|Moves                                                |spotify:album:0XAIjjN5qxViVS0Y5fYkar|142906     |I Decided.                                           |\n",
            "|11 |Selena Gomez   |spotify:track:0XLOf9LhyazPX9Ld8jPiUq|spotify:artist:0C8ZW7ezQVs4URX5aX7Kqx|Fetish (feat. Gucci Mane)                            |spotify:album:5EyHUMTzKoo7in8U4EfYjY|186112     |Fetish (feat. Gucci Mane)                            |\n",
            "|23 |Kodak Black    |spotify:track:0bXFIF7iL17TYLyx8JHziM|spotify:artist:46SHBwWsqBkxI7EeeBEQG7|Patty Cake                                           |spotify:album:5mG8oNkNKM2my7t9ywra96|198109     |Painting Pictures                                    |\n",
            "|7  |blackbear      |spotify:track:53mrVsi49rLHIaKBiSvElG|spotify:artist:2cFrymmkijnjDg9SS92EPM|do re mi (feat. Gucci Mane)                          |spotify:album:7v20RlVibTDdhbbtSBjS9b|233705     |do re mi (feat. Gucci Mane)                          |\n",
            "|5  |Logic          |spotify:track:5tz69p7tJuGPeMGwNTxYuV|spotify:artist:4xRYI6VqpkE3UwrDrAZL8L|1-800-273-8255                                       |spotify:album:1HiN2YXZcc3EjmVZ4WjfBk|250173     |Everybody                                            |\n",
            "|27 |Bebe Rexha     |spotify:track:6Pw3Gvw4wNMZfTYZa6IQal|spotify:artist:64M6ah0SkkRsnPGtGiRAbb|The Way I Are (Dance With Somebody) [feat. Lil Wayne]|spotify:album:4eDxmXSdCErBVeu2cRZ5hP|187787     |The Way I Are (Dance With Somebody) [feat. Lil Wayne]|\n",
            "|15 |Lil Uzi Vert   |spotify:track:2eAZfqOm4EnOF9VvN50Tyc|spotify:artist:4O15NlyKLIASxsJ0PrXPfz|The Way Life Goes (feat. Oh Wonder)                  |spotify:album:733e1ZfktLSwj96X5rsMeE|221746     |Luv Is Rage 2                                        |\n",
            "|13 |Jonas Blue     |spotify:track:0NiXXAI876aGImAd6rTj8w|spotify:artist:1HBjj22wzbscIZ9sEb5dyf|Mama                                                 |spotify:album:0zMLyv1kNV2B0LDGEK2RbB|181614     |Jonas Blue: Electronic Nature - The Mix 2017         |\n",
            "|16 |Rachel Platten |spotify:track:5fiXA27viyX9WkPSHNr4HZ|spotify:artist:3QLIkT4rD2FMusaqmkepbq|Broken Glass                                         |spotify:album:1mH4ntQRUk1akxx6WNST8q|179680     |Waves                                                |\n",
            "|2  |Khalid         |spotify:track:5Z3GHaZ6ec9bsiI5BenrbY|spotify:artist:6LuN9FCkKOj5PcnpouEgny|Young Dumb & Broke                                   |spotify:album:6kf46HbnYCZzP6rjvQHYzg|202546     |American Teen                                        |\n",
            "|26 |Lil Uzi Vert   |spotify:track:1uL78kFWxhz3umTMWJu8n5|spotify:artist:4O15NlyKLIASxsJ0PrXPfz|Sauce It Up                                          |spotify:album:733e1ZfktLSwj96X5rsMeE|207038     |Luv Is Rage 2                                        |\n",
            "|3  |P!nk           |spotify:track:0Qh38w01QRXK6KHIv0e3hb|spotify:artist:1KCSPY1glIKqW2TotWuXOR|What About Us                                        |spotify:album:7hwhuEQT4Fp5bzwLlYZtiz|269600     |Beautiful Trauma                                     |\n",
            "+---+---------------+------------------------------------+-------------------------------------+-----------------------------------------------------+------------------------------------+-----------+-----------------------------------------------------+\n",
            "only showing top 20 rows\n",
            "\n",
            "136 21\n"
          ]
        },
        {
          "name": "stderr",
          "output_type": "stream",
          "text": [
            "                                                                                \r"
          ]
        }
      ],
      "source": [
        "def aggregate_recommendations(recommendations: Dict[str, float | List[float]]) -> DataFrame:\n",
        "  \"\"\"\n",
        "  Given the python dictionary of aggreagated recommendations, it converts it into a pyspark DataFrame.\n",
        "  \"\"\"\n",
        "  aggregated = {}\n",
        "  for key, value in recommendations.items():\n",
        "    if type(value) is list:\n",
        "      aggregated[key] = sum(x for x in value) / len(value)\n",
        "    else:\n",
        "      aggregated[key] = value\n",
        "      \n",
        "  recommendations_schema = StructType([\n",
        "      StructField(\"track_uri\", StringType(), True),\n",
        "      StructField(\"distance\", FloatType(), True)\n",
        "  ])\n",
        "\n",
        "  recommendations_df = spark.createDataFrame(data=aggregated.items(), schema=recommendations_schema)\n",
        "\n",
        "  return recommendations_df\n",
        "\n",
        "if DEBUG:\n",
        "  k = 40\n",
        "  recommendations_df = aggregate_recommendations(recommendations)\n",
        "  recommendations_df.show(truncate=False)\n",
        "  first_playlist.show(truncate=False)\n",
        "  print(recommendations_df.count(), first_playlist.count())"
      ]
    },
    {
      "attachments": {},
      "cell_type": "markdown",
      "metadata": {
        "id": "vpbn30aDl0h7"
      },
      "source": [
        "Here I define a function that, given the input playlist tracks DataFrame and the DataFrame of recommended tracks, removes from the latter the songs that are already in the playlist, in order to not recommend them."
      ]
    },
    {
      "cell_type": "code",
      "execution_count": 34,
      "metadata": {
        "id": "hzSjUb0k5WvD"
      },
      "outputs": [
        {
          "name": "stdout",
          "output_type": "stream",
          "text": [
            "+--------------------+----------+\n",
            "|           track_uri|  distance|\n",
            "+--------------------+----------+\n",
            "|spotify:track:34y...|0.85714287|\n",
            "|spotify:track:1jN...|      0.84|\n",
            "|spotify:track:45o...| 0.9041096|\n",
            "|spotify:track:3nV...| 0.8761468|\n",
            "|spotify:track:7yQ...|  0.884058|\n",
            "|spotify:track:0GS...|0.88461536|\n",
            "|spotify:track:7sd...| 0.9027778|\n",
            "|spotify:track:366...| 0.8901099|\n",
            "|spotify:track:0of...| 0.8828576|\n",
            "|spotify:track:2TL...|0.91463417|\n",
            "|spotify:track:2ek...| 0.8810708|\n",
            "|spotify:track:277...| 0.8064928|\n",
            "|spotify:track:59J...|  0.811459|\n",
            "|spotify:track:4xB...|0.93406594|\n",
            "|spotify:track:2fQ...| 0.8339222|\n",
            "|spotify:track:7hC...| 0.9221902|\n",
            "|spotify:track:1nX...|0.83590376|\n",
            "|spotify:track:1WI...|0.81096107|\n",
            "|spotify:track:1sC...|0.88184625|\n",
            "|spotify:track:1ND...|0.90926903|\n",
            "+--------------------+----------+\n",
            "only showing top 20 rows\n",
            "\n"
          ]
        }
      ],
      "source": [
        "def remove_existing_tracks(playlist_tracks: DataFrame, recommendations_df: DataFrame) -> DataFrame:\n",
        "  \"\"\"\n",
        "  Given a DataFrame of input playlist's tracks, and a DataFrame of recommendations, removes from the\n",
        "  recommendations the tracks that already appear in the input playlist's tracks.\n",
        "  \"\"\"\n",
        "  playlist_tracks = playlist_tracks.select(\"track_uri\").cache()\n",
        "  playlist_tracks_compatible = playlist_tracks.join(F.broadcast(recommendations_df), on=\"track_uri\")\n",
        "  playlist_tracks.unpersist()\n",
        "  return recommendations_df.exceptAll(playlist_tracks_compatible)\n",
        "\n",
        "if DEBUG:\n",
        "  clean_df = remove_existing_tracks(first_playlist, recommendations_df)\n",
        "  clean_df.show()"
      ]
    },
    {
      "attachments": {},
      "cell_type": "markdown",
      "metadata": {
        "id": "fVBZMo5ym4wY"
      },
      "source": [
        "Putting all togheter:"
      ]
    },
    {
      "cell_type": "code",
      "execution_count": 35,
      "metadata": {
        "id": "PnHTtod7m7jB"
      },
      "outputs": [
        {
          "name": "stderr",
          "output_type": "stream",
          "text": [
            "[Stage 209:===========================================>           (18 + 5) / 23]\r"
          ]
        },
        {
          "name": "stdout",
          "output_type": "stream",
          "text": [
            "+--------------------+----------+\n",
            "|           track_uri|  distance|\n",
            "+--------------------+----------+\n",
            "|spotify:track:2t1...|0.64285713|\n",
            "|spotify:track:2AO...| 0.6969697|\n",
            "|spotify:track:2gh...|       0.7|\n",
            "|spotify:track:5IF...|0.71900827|\n",
            "|spotify:track:3t1...| 0.7605634|\n",
            "|spotify:track:2ru...|0.77286583|\n",
            "|spotify:track:5Qf...| 0.7910448|\n",
            "|spotify:track:1Vu...| 0.8076923|\n",
            "|spotify:track:6jL...|0.81005585|\n",
            "|spotify:track:6gR...|0.81060606|\n",
            "|spotify:track:5Cd...| 0.8152174|\n",
            "|spotify:track:1ak...|0.81595093|\n",
            "|spotify:track:4ej...| 0.8244275|\n",
            "|spotify:track:2wm...|0.82828283|\n",
            "|spotify:track:6oQ...|0.82961684|\n",
            "|spotify:track:2BZ...|0.83035713|\n",
            "|spotify:track:7qi...| 0.8330721|\n",
            "|spotify:track:4I3...| 0.8359133|\n",
            "|spotify:track:0b0...|0.83709276|\n",
            "|spotify:track:2Qv...| 0.8372093|\n",
            "+--------------------+----------+\n",
            "only showing top 20 rows\n",
            "\n"
          ]
        },
        {
          "name": "stderr",
          "output_type": "stream",
          "text": [
            "                                                                                \r"
          ]
        }
      ],
      "source": [
        "def item_based_recommendation(playlist: DataFrame,playlist_map: DataFrame, model: MinHashLSHModel, n=50):\n",
        "  \"\"\"\n",
        "  Given a DataFrame with a single element in it that includes the details of the playlist and the vector\n",
        "  representation, it performs the recommendation pipeline and return the DataFrame containing the n\n",
        "  recommended songs that continuate the playlist.\n",
        "  \"\"\"\n",
        "  playlist_songs = playlist.select(F.explode(\"tracks\")).select(\"col.*\")\n",
        "  recommendations = extract_similar_songs(playlist_songs, playlist_map, model, k=20, disable_pbar=True)\n",
        "  recommendations_df = aggregate_recommendations(recommendations)\n",
        "  recommendations_df = remove_existing_tracks(playlist_songs, recommendations_df)\n",
        "  return recommendations_df.orderBy(F.col(\"distance\").asc()).limit(n).cache()\n",
        "\n",
        "if DEBUG:\n",
        "  playlist = train_df.filter(\"pid == 2005\")\n",
        "  result = item_based_recommendation(playlist, playlist_map, model)\n",
        "  result.show()"
      ]
    },
    {
      "attachments": {},
      "cell_type": "markdown",
      "metadata": {
        "id": "92e4Ipd-m2TF"
      },
      "source": [
        "# Performance Evaluation"
      ]
    },
    {
      "attachments": {},
      "cell_type": "markdown",
      "metadata": {},
      "source": [
        "We are ready for performance evaluation. Let's define the metrics, which, as described also in the other notebooks, will be R-Precision and Normalized Discounted Cumulative Gain. "
      ]
    },
    {
      "cell_type": "code",
      "execution_count": 23,
      "metadata": {
        "id": "R3bMn2m6nGdC"
      },
      "outputs": [],
      "source": [
        "def r_prec(recommendations, ground_truth, num_of_recommendations) -> float:\n",
        "    \"\"\"\n",
        "    Calculates R-Precision for the recommendations.\n",
        "    \"\"\" \n",
        "    recommended_relevant_tracks = recommendations.join(ground_truth, \"track_uri\").cache()\n",
        "    reccomended_relevant_tracks_count = recommended_relevant_tracks.count() #this can be top_n_results.join in order to be more performant\n",
        "    recommended_relevant_tracks.unpersist()\n",
        "    precision = reccomended_relevant_tracks_count / float(num_of_recommendations)\n",
        "\n",
        "    return precision\n",
        "\n",
        "def normalized_discounted_cumulative_gain(recommendations: DataFrame, ground_truth: DataFrame, num_of_recommendations: int) -> float:\n",
        "  \"\"\"\n",
        "  Calculates the Normalized Discounted Cumulative Gain between the DataFrame of recommendations and the DataFrame of ground truth.\n",
        "  \"\"\"\n",
        "  recommendations = recommendations.orderBy(F.col(\"distance\").asc())\n",
        "  recommendations_list = recommendations.collect()\n",
        "  cumulative_gain = 0\n",
        "\n",
        "  intersection = recommendations.join(ground_truth, \"track_uri\").count()\n",
        "  if intersection == 0: return 0\n",
        "\n",
        "  ideal_cumulative_gain = 1 + sum((1 / math.log(i, 2)) for i in range(2, 2+intersection))\n",
        "  for index, row in enumerate(recommendations_list):\n",
        "    i = index + 1\n",
        "    is_rel = ground_truth.filter(F.col(\"track_uri\").isin(row.track_uri)).count() > 0\n",
        "    rel = 1 if is_rel else 0\n",
        "    if i == 1:\n",
        "      cumulative_gain += rel\n",
        "    else:\n",
        "      cumulative_gain += (rel / math.log(i, 2))\n",
        "  return cumulative_gain / ideal_cumulative_gain"
      ]
    },
    {
      "attachments": {},
      "cell_type": "markdown",
      "metadata": {
        "id": "c8SUpL2Boghc"
      },
      "source": [
        "This is a function that computes the evaluation metrics on a single playlist."
      ]
    },
    {
      "cell_type": "code",
      "execution_count": 24,
      "metadata": {
        "id": "Y8ZIqjdSogHJ"
      },
      "outputs": [],
      "source": [
        "def evaluate(pid: int, playlist_map) -> Tuple[DataFrame, float]:\n",
        "    t1 = time.time()\n",
        "\n",
        "    playlist_train = train_df.filter(f\"pid == {pid}\").cache()\n",
        "    playlist_test = test_df.filter(f\"pid == {pid}\").cache()\n",
        "    ground_truth = playlist_test.select(F.explode(\"tracks\")).select(\"col.*\").cache()\n",
        "    num_of_recommendations = ground_truth.count()\n",
        "    recommendations = item_based_recommendation(playlist_train, playlist_map, model, n=num_of_recommendations).cache()\n",
        "\n",
        "    precision = r_prec(recommendations, ground_truth, num_of_recommendations)\n",
        "    gain = normalized_discounted_cumulative_gain(recommendations, ground_truth, num_of_recommendations)\n",
        "\n",
        "    t2 = time.time()\n",
        "    print(f\"Total time: {t2-t1}\")\n",
        "\n",
        "    playlist_train.unpersist()\n",
        "    playlist_test.unpersist()\n",
        "    ground_truth.unpersist()\n",
        "    recommendations.unpersist()\n",
        "\n",
        "    return playlist_train, playlist_test, ground_truth, recommendations, precision, gain\n",
        "\n",
        "\n",
        "if DEBUG:\n",
        "  train, test, gt, rec, prec, gain  = evaluate(1005, playlist_map)\n",
        "  train.show(), test.show(), gt.show(), rec.show(truncate=False)\n",
        "  print(f\"Precision: {prec}, Gain: {gain}\")"
      ]
    },
    {
      "attachments": {},
      "cell_type": "markdown",
      "metadata": {},
      "source": [
        "Let's define a function that samples 1000 playlists from the 100K playlists in the train set, and use them to evaluate the model. Since the evaluation take a long time, I used checkpointing every 10 playlist evaluated."
      ]
    },
    {
      "cell_type": "code",
      "execution_count": null,
      "metadata": {
        "colab": {
          "base_uri": "https://localhost:8080/",
          "height": 639,
          "referenced_widgets": [
            "85704d667a8a40ba9066fa7106a91dad",
            "3897952d6cce457e8f64b8f73e4645bb",
            "f17ccdb7487a4568a54e91611252368a",
            "60b629c1cd8d426f8fcb3d566a538527",
            "3af1bd7b53e74dc18e5a0abe61241d60",
            "83e8ffee77c340cfbb0608c13efe3fb8",
            "457c735850e54fa6a5835ab33db3d5fe",
            "255dd6ca245f431685dbe5a29a179c67",
            "4b5bcf7168db46dd8d6e1832bdcc2fd4",
            "b4f2dd48632a4f6eb37e1aad8cc68858",
            "59e37f5b02a145aaa240e628eb54dbef"
          ]
        },
        "id": "DokoAdIipxHi",
        "outputId": "fb70f96b-1eec-4b17-c73b-770645d70b7b"
      },
      "outputs": [],
      "source": [
        "LAST_CHECKPOINT_INDEX = 240\n",
        "EVALUATION_RESULTS_PATH = os.path.join(EVALUATION_FOLDER, f'{NUM_HASH_TABLES}_hash_tables', \"IB_evaluation_results_FINAL\")\n",
        "\n",
        "def perform_evaluation():\n",
        "  SAMPLING_FRACTION = 0.01\n",
        "  sampled_playlists = train_df.sample(False, SAMPLING_FRACTION, seed=42).cache()\n",
        "\n",
        "  transformed_playlist_map = model.transform(playlist_map).cache()\n",
        "  results = []\n",
        "  for index, row in enumerate(tqdm(sampled_playlists.collect(), desc=\"Performing evaluation\")):\n",
        "      if index <= LAST_CHECKPOINT_INDEX: continue \n",
        "\n",
        "      CHECKPOINT_RESULTS = os.path.join(EVALUATION_FOLDER, f'{NUM_HASH_TABLES}_hash_tables', f\"IB_evaluation_results_check_{index}\")\n",
        "      pid = row['pid']\n",
        "      train, test, gt, rec, prec, gain = evaluate(pid,transformed_playlist_map)\n",
        "      print((prec, gain))\n",
        "      results.append((prec, gain))\n",
        "      if index % 10 == 0:\n",
        "         with open(CHECKPOINT_RESULTS, \"w\") as f:\n",
        "            json.dump(results, f)\n",
        "  \n",
        "  sampled_playlists.unpersist() \n",
        "  with open(EVALUATION_RESULTS_PATH, \"w\") as f:\n",
        "    json.dump(results, f)\n",
        "  return results\n",
        "\n",
        "results = perform_evaluation()"
      ]
    },
    {
      "attachments": {},
      "cell_type": "markdown",
      "metadata": {},
      "source": [
        "Let's load the `results`, average them and see how the model performed."
      ]
    },
    {
      "cell_type": "code",
      "execution_count": 12,
      "metadata": {
        "colab": {
          "base_uri": "https://localhost:8080/"
        },
        "id": "lMVlUMTB5MLB",
        "outputId": "6e77ec98-1295-4a23-f5d3-7940aa9cf1dd"
      },
      "outputs": [
        {
          "data": {
            "text/plain": [
              "(0.08970312126944059, 0.2610040737759509)"
            ]
          },
          "execution_count": 12,
          "metadata": {},
          "output_type": "execute_result"
        }
      ],
      "source": [
        "EVALUATION_FOLDER = os.path.join(EVALUATION_FOLDER, f'{NUM_HASH_TABLES}_hash_tables')\n",
        "results = []\n",
        "for file in os.listdir(EVALUATION_FOLDER):\n",
        "    if file == \".DS_Store\": continue\n",
        "    with open(os.path.join(EVALUATION_FOLDER, file), \"r\") as f:\n",
        "        file_results = json.load(f)\n",
        "        results.extend(file_results)\n",
        "\n",
        "avg_prec, avg_gain = 0, 0\n",
        "for prec, gain in results:\n",
        "  avg_prec += prec\n",
        "  avg_gain += gain \n",
        "tot = len(results)\n",
        "avg_prec /= tot\n",
        "avg_gain /= tot\n",
        "avg_prec, avg_gain"
      ]
    },
    {
      "attachments": {},
      "cell_type": "markdown",
      "metadata": {
        "id": "x9gbMKT_lw9S"
      },
      "source": [
        "# All against all full computation (Not used)"
      ]
    },
    {
      "attachments": {},
      "cell_type": "markdown",
      "metadata": {
        "id": "GI8ZtkTmv2qa"
      },
      "source": [
        "Since computing the k nearest neighbors is super slow, I can pre-compute them offline and store them. This will require like a week.\n",
        "\n",
        "NOTE: I didn't use this piece of code inside of the project because it required too much time, but I put it here to demonstrate how it would work. Once the DataFrame that maps each song to its $k$ nearest neighbours, the neighbours of a given song can be efficiently gotten with a lookup."
      ]
    },
    {
      "cell_type": "code",
      "execution_count": 36,
      "metadata": {
        "id": "uzj7kXRNi6ex"
      },
      "outputs": [],
      "source": [
        "mh = MinHashLSH(inputCol=\"embedding\", outputCol=\"hashes\", numHashTables=NUM_HASH_TABLES)\n",
        "model = mh.fit(playlist_map)"
      ]
    },
    {
      "cell_type": "code",
      "execution_count": null,
      "metadata": {
        "colab": {
          "base_uri": "https://localhost:8080/",
          "height": 535,
          "referenced_widgets": [
            "49a1c7a01352423f94bb60dfe0b3e1f5",
            "2b64f1c614f349ee8218492095bbdc47",
            "f5cb21f6d1224cdd8d120989dda14a0e",
            "b2c37498584a4e249553c1c1741bc797",
            "33c7e9f49ff34a8da278e68ea7c13b13",
            "af437c2a0a37403eabdc5cff537fd1e9",
            "d8e0d48bb9104056a692a8ae4ec045b7",
            "54da270bcbba4831950913a0e323aef5",
            "89453331f508408295254b5649df8e39",
            "410393d13be2441ca1b54bfc5d873f42",
            "deedaef94d554aae908082c916be49f2"
          ]
        },
        "id": "tqV8qF-iv-RA",
        "outputId": "672b4bfa-ea21-4938-a6fb-f55bccbf277b"
      },
      "outputs": [],
      "source": [
        "def compute_all_k_neighbors(playlist_map: DataFrame, model) -> DataFrame:\n",
        "    result = []\n",
        "    transformed_playlist_map = model.transform(playlist_map).cache()\n",
        "    for index, row in enumerate(tqdm(playlist_map.collect(), desc=\"Computing k-neighbors\")):\n",
        "        k_neighs = model.approxNearestNeighbors(transformed_playlist_map, row.embedding, 10).select(\"track_uri\", F.col(\"distCol\").alias(\"similarity\"))\n",
        "        result.append((row.track_uri, k_neighs.collect()))\n",
        "\n",
        "    k_neighs_schema = StructType([\n",
        "        StructField(\"track_uri\", StringType(), nullable=True),\n",
        "        StructField(\"distCol\", FloatType(), nullable=True)\n",
        "    ])\n",
        "\n",
        "    schema = StructType([\n",
        "        StructField(\"track_uri\", StringType(), nullable=True),\n",
        "        StructField(\"k_neighs\", ArrayType(k_neighs_schema), nullable=True)\n",
        "    ])\n",
        "\n",
        "    result_df = spark.createDataFrame(result, schema)\n",
        "    transformed_playlist_map.unpersist()\n",
        "\n",
        "    return result_df\n",
        "\n",
        "result_df = compute_all_k_neighbors(playlist_map, model)"
      ]
    },
    {
      "cell_type": "code",
      "execution_count": null,
      "metadata": {
        "id": "VVFic9gIM7L_"
      },
      "outputs": [],
      "source": [
        "K_NEIGHBOURS_PATH = os.path.join(GDRIVE_DATA_DIR,\"saved_models\", f\"k_neighbours-{NUM_PLAYLISTS}.parquet\")\n",
        "result_df.write.parquet(K_NEIGHBOURS_PATH)"
      ]
    }
  ],
  "metadata": {
    "colab": {
      "authorship_tag": "ABX9TyMh7VZXJzSwk7g3Ej19HkgS",
      "collapsed_sections": [
        "VJeY9PpvaHUJ",
        "x9gbMKT_lw9S",
        "aoVjgtwlI9qe"
      ],
      "include_colab_link": true,
      "provenance": []
    },
    "kernelspec": {
      "display_name": "Python 3",
      "name": "python3"
    },
    "language_info": {
      "codemirror_mode": {
        "name": "ipython",
        "version": 3
      },
      "file_extension": ".py",
      "mimetype": "text/x-python",
      "name": "python",
      "nbconvert_exporter": "python",
      "pygments_lexer": "ipython3",
      "version": "3.10.9"
    },
    "widgets": {
      "application/vnd.jupyter.widget-state+json": {
        "255dd6ca245f431685dbe5a29a179c67": {
          "model_module": "@jupyter-widgets/base",
          "model_module_version": "1.2.0",
          "model_name": "LayoutModel",
          "state": {
            "_model_module": "@jupyter-widgets/base",
            "_model_module_version": "1.2.0",
            "_model_name": "LayoutModel",
            "_view_count": null,
            "_view_module": "@jupyter-widgets/base",
            "_view_module_version": "1.2.0",
            "_view_name": "LayoutView",
            "align_content": null,
            "align_items": null,
            "align_self": null,
            "border": null,
            "bottom": null,
            "display": null,
            "flex": null,
            "flex_flow": null,
            "grid_area": null,
            "grid_auto_columns": null,
            "grid_auto_flow": null,
            "grid_auto_rows": null,
            "grid_column": null,
            "grid_gap": null,
            "grid_row": null,
            "grid_template_areas": null,
            "grid_template_columns": null,
            "grid_template_rows": null,
            "height": null,
            "justify_content": null,
            "justify_items": null,
            "left": null,
            "margin": null,
            "max_height": null,
            "max_width": null,
            "min_height": null,
            "min_width": null,
            "object_fit": null,
            "object_position": null,
            "order": null,
            "overflow": null,
            "overflow_x": null,
            "overflow_y": null,
            "padding": null,
            "right": null,
            "top": null,
            "visibility": null,
            "width": null
          }
        },
        "2b64f1c614f349ee8218492095bbdc47": {
          "model_module": "@jupyter-widgets/controls",
          "model_module_version": "1.5.0",
          "model_name": "HTMLModel",
          "state": {
            "_dom_classes": [],
            "_model_module": "@jupyter-widgets/controls",
            "_model_module_version": "1.5.0",
            "_model_name": "HTMLModel",
            "_view_count": null,
            "_view_module": "@jupyter-widgets/controls",
            "_view_module_version": "1.5.0",
            "_view_name": "HTMLView",
            "description": "",
            "description_tooltip": null,
            "layout": "IPY_MODEL_af437c2a0a37403eabdc5cff537fd1e9",
            "placeholder": "​",
            "style": "IPY_MODEL_d8e0d48bb9104056a692a8ae4ec045b7",
            "value": "Computing k-neighbors:   0%"
          }
        },
        "33c7e9f49ff34a8da278e68ea7c13b13": {
          "model_module": "@jupyter-widgets/base",
          "model_module_version": "1.2.0",
          "model_name": "LayoutModel",
          "state": {
            "_model_module": "@jupyter-widgets/base",
            "_model_module_version": "1.2.0",
            "_model_name": "LayoutModel",
            "_view_count": null,
            "_view_module": "@jupyter-widgets/base",
            "_view_module_version": "1.2.0",
            "_view_name": "LayoutView",
            "align_content": null,
            "align_items": null,
            "align_self": null,
            "border": null,
            "bottom": null,
            "display": null,
            "flex": null,
            "flex_flow": null,
            "grid_area": null,
            "grid_auto_columns": null,
            "grid_auto_flow": null,
            "grid_auto_rows": null,
            "grid_column": null,
            "grid_gap": null,
            "grid_row": null,
            "grid_template_areas": null,
            "grid_template_columns": null,
            "grid_template_rows": null,
            "height": null,
            "justify_content": null,
            "justify_items": null,
            "left": null,
            "margin": null,
            "max_height": null,
            "max_width": null,
            "min_height": null,
            "min_width": null,
            "object_fit": null,
            "object_position": null,
            "order": null,
            "overflow": null,
            "overflow_x": null,
            "overflow_y": null,
            "padding": null,
            "right": null,
            "top": null,
            "visibility": null,
            "width": null
          }
        },
        "3897952d6cce457e8f64b8f73e4645bb": {
          "model_module": "@jupyter-widgets/controls",
          "model_module_version": "1.5.0",
          "model_name": "HTMLModel",
          "state": {
            "_dom_classes": [],
            "_model_module": "@jupyter-widgets/controls",
            "_model_module_version": "1.5.0",
            "_model_name": "HTMLModel",
            "_view_count": null,
            "_view_module": "@jupyter-widgets/controls",
            "_view_module_version": "1.5.0",
            "_view_name": "HTMLView",
            "description": "",
            "description_tooltip": null,
            "layout": "IPY_MODEL_83e8ffee77c340cfbb0608c13efe3fb8",
            "placeholder": "​",
            "style": "IPY_MODEL_457c735850e54fa6a5835ab33db3d5fe",
            "value": "Performing evaluation: 100%"
          }
        },
        "3af1bd7b53e74dc18e5a0abe61241d60": {
          "model_module": "@jupyter-widgets/base",
          "model_module_version": "1.2.0",
          "model_name": "LayoutModel",
          "state": {
            "_model_module": "@jupyter-widgets/base",
            "_model_module_version": "1.2.0",
            "_model_name": "LayoutModel",
            "_view_count": null,
            "_view_module": "@jupyter-widgets/base",
            "_view_module_version": "1.2.0",
            "_view_name": "LayoutView",
            "align_content": null,
            "align_items": null,
            "align_self": null,
            "border": null,
            "bottom": null,
            "display": null,
            "flex": null,
            "flex_flow": null,
            "grid_area": null,
            "grid_auto_columns": null,
            "grid_auto_flow": null,
            "grid_auto_rows": null,
            "grid_column": null,
            "grid_gap": null,
            "grid_row": null,
            "grid_template_areas": null,
            "grid_template_columns": null,
            "grid_template_rows": null,
            "height": null,
            "justify_content": null,
            "justify_items": null,
            "left": null,
            "margin": null,
            "max_height": null,
            "max_width": null,
            "min_height": null,
            "min_width": null,
            "object_fit": null,
            "object_position": null,
            "order": null,
            "overflow": null,
            "overflow_x": null,
            "overflow_y": null,
            "padding": null,
            "right": null,
            "top": null,
            "visibility": null,
            "width": null
          }
        },
        "410393d13be2441ca1b54bfc5d873f42": {
          "model_module": "@jupyter-widgets/base",
          "model_module_version": "1.2.0",
          "model_name": "LayoutModel",
          "state": {
            "_model_module": "@jupyter-widgets/base",
            "_model_module_version": "1.2.0",
            "_model_name": "LayoutModel",
            "_view_count": null,
            "_view_module": "@jupyter-widgets/base",
            "_view_module_version": "1.2.0",
            "_view_name": "LayoutView",
            "align_content": null,
            "align_items": null,
            "align_self": null,
            "border": null,
            "bottom": null,
            "display": null,
            "flex": null,
            "flex_flow": null,
            "grid_area": null,
            "grid_auto_columns": null,
            "grid_auto_flow": null,
            "grid_auto_rows": null,
            "grid_column": null,
            "grid_gap": null,
            "grid_row": null,
            "grid_template_areas": null,
            "grid_template_columns": null,
            "grid_template_rows": null,
            "height": null,
            "justify_content": null,
            "justify_items": null,
            "left": null,
            "margin": null,
            "max_height": null,
            "max_width": null,
            "min_height": null,
            "min_width": null,
            "object_fit": null,
            "object_position": null,
            "order": null,
            "overflow": null,
            "overflow_x": null,
            "overflow_y": null,
            "padding": null,
            "right": null,
            "top": null,
            "visibility": null,
            "width": null
          }
        },
        "457c735850e54fa6a5835ab33db3d5fe": {
          "model_module": "@jupyter-widgets/controls",
          "model_module_version": "1.5.0",
          "model_name": "DescriptionStyleModel",
          "state": {
            "_model_module": "@jupyter-widgets/controls",
            "_model_module_version": "1.5.0",
            "_model_name": "DescriptionStyleModel",
            "_view_count": null,
            "_view_module": "@jupyter-widgets/base",
            "_view_module_version": "1.2.0",
            "_view_name": "StyleView",
            "description_width": ""
          }
        },
        "49a1c7a01352423f94bb60dfe0b3e1f5": {
          "model_module": "@jupyter-widgets/controls",
          "model_module_version": "1.5.0",
          "model_name": "HBoxModel",
          "state": {
            "_dom_classes": [],
            "_model_module": "@jupyter-widgets/controls",
            "_model_module_version": "1.5.0",
            "_model_name": "HBoxModel",
            "_view_count": null,
            "_view_module": "@jupyter-widgets/controls",
            "_view_module_version": "1.5.0",
            "_view_name": "HBoxView",
            "box_style": "",
            "children": [
              "IPY_MODEL_2b64f1c614f349ee8218492095bbdc47",
              "IPY_MODEL_f5cb21f6d1224cdd8d120989dda14a0e",
              "IPY_MODEL_b2c37498584a4e249553c1c1741bc797"
            ],
            "layout": "IPY_MODEL_33c7e9f49ff34a8da278e68ea7c13b13"
          }
        },
        "4b5bcf7168db46dd8d6e1832bdcc2fd4": {
          "model_module": "@jupyter-widgets/controls",
          "model_module_version": "1.5.0",
          "model_name": "ProgressStyleModel",
          "state": {
            "_model_module": "@jupyter-widgets/controls",
            "_model_module_version": "1.5.0",
            "_model_name": "ProgressStyleModel",
            "_view_count": null,
            "_view_module": "@jupyter-widgets/base",
            "_view_module_version": "1.2.0",
            "_view_name": "StyleView",
            "bar_color": null,
            "description_width": ""
          }
        },
        "54da270bcbba4831950913a0e323aef5": {
          "model_module": "@jupyter-widgets/base",
          "model_module_version": "1.2.0",
          "model_name": "LayoutModel",
          "state": {
            "_model_module": "@jupyter-widgets/base",
            "_model_module_version": "1.2.0",
            "_model_name": "LayoutModel",
            "_view_count": null,
            "_view_module": "@jupyter-widgets/base",
            "_view_module_version": "1.2.0",
            "_view_name": "LayoutView",
            "align_content": null,
            "align_items": null,
            "align_self": null,
            "border": null,
            "bottom": null,
            "display": null,
            "flex": null,
            "flex_flow": null,
            "grid_area": null,
            "grid_auto_columns": null,
            "grid_auto_flow": null,
            "grid_auto_rows": null,
            "grid_column": null,
            "grid_gap": null,
            "grid_row": null,
            "grid_template_areas": null,
            "grid_template_columns": null,
            "grid_template_rows": null,
            "height": null,
            "justify_content": null,
            "justify_items": null,
            "left": null,
            "margin": null,
            "max_height": null,
            "max_width": null,
            "min_height": null,
            "min_width": null,
            "object_fit": null,
            "object_position": null,
            "order": null,
            "overflow": null,
            "overflow_x": null,
            "overflow_y": null,
            "padding": null,
            "right": null,
            "top": null,
            "visibility": null,
            "width": null
          }
        },
        "59e37f5b02a145aaa240e628eb54dbef": {
          "model_module": "@jupyter-widgets/controls",
          "model_module_version": "1.5.0",
          "model_name": "DescriptionStyleModel",
          "state": {
            "_model_module": "@jupyter-widgets/controls",
            "_model_module_version": "1.5.0",
            "_model_name": "DescriptionStyleModel",
            "_view_count": null,
            "_view_module": "@jupyter-widgets/base",
            "_view_module_version": "1.2.0",
            "_view_name": "StyleView",
            "description_width": ""
          }
        },
        "60b629c1cd8d426f8fcb3d566a538527": {
          "model_module": "@jupyter-widgets/controls",
          "model_module_version": "1.5.0",
          "model_name": "HTMLModel",
          "state": {
            "_dom_classes": [],
            "_model_module": "@jupyter-widgets/controls",
            "_model_module_version": "1.5.0",
            "_model_name": "HTMLModel",
            "_view_count": null,
            "_view_module": "@jupyter-widgets/controls",
            "_view_module_version": "1.5.0",
            "_view_name": "HTMLView",
            "description": "",
            "description_tooltip": null,
            "layout": "IPY_MODEL_b4f2dd48632a4f6eb37e1aad8cc68858",
            "placeholder": "​",
            "style": "IPY_MODEL_59e37f5b02a145aaa240e628eb54dbef",
            "value": " 17/17 [27:42&lt;00:00, 111.24s/it]"
          }
        },
        "83e8ffee77c340cfbb0608c13efe3fb8": {
          "model_module": "@jupyter-widgets/base",
          "model_module_version": "1.2.0",
          "model_name": "LayoutModel",
          "state": {
            "_model_module": "@jupyter-widgets/base",
            "_model_module_version": "1.2.0",
            "_model_name": "LayoutModel",
            "_view_count": null,
            "_view_module": "@jupyter-widgets/base",
            "_view_module_version": "1.2.0",
            "_view_name": "LayoutView",
            "align_content": null,
            "align_items": null,
            "align_self": null,
            "border": null,
            "bottom": null,
            "display": null,
            "flex": null,
            "flex_flow": null,
            "grid_area": null,
            "grid_auto_columns": null,
            "grid_auto_flow": null,
            "grid_auto_rows": null,
            "grid_column": null,
            "grid_gap": null,
            "grid_row": null,
            "grid_template_areas": null,
            "grid_template_columns": null,
            "grid_template_rows": null,
            "height": null,
            "justify_content": null,
            "justify_items": null,
            "left": null,
            "margin": null,
            "max_height": null,
            "max_width": null,
            "min_height": null,
            "min_width": null,
            "object_fit": null,
            "object_position": null,
            "order": null,
            "overflow": null,
            "overflow_x": null,
            "overflow_y": null,
            "padding": null,
            "right": null,
            "top": null,
            "visibility": null,
            "width": null
          }
        },
        "85704d667a8a40ba9066fa7106a91dad": {
          "model_module": "@jupyter-widgets/controls",
          "model_module_version": "1.5.0",
          "model_name": "HBoxModel",
          "state": {
            "_dom_classes": [],
            "_model_module": "@jupyter-widgets/controls",
            "_model_module_version": "1.5.0",
            "_model_name": "HBoxModel",
            "_view_count": null,
            "_view_module": "@jupyter-widgets/controls",
            "_view_module_version": "1.5.0",
            "_view_name": "HBoxView",
            "box_style": "",
            "children": [
              "IPY_MODEL_3897952d6cce457e8f64b8f73e4645bb",
              "IPY_MODEL_f17ccdb7487a4568a54e91611252368a",
              "IPY_MODEL_60b629c1cd8d426f8fcb3d566a538527"
            ],
            "layout": "IPY_MODEL_3af1bd7b53e74dc18e5a0abe61241d60"
          }
        },
        "89453331f508408295254b5649df8e39": {
          "model_module": "@jupyter-widgets/controls",
          "model_module_version": "1.5.0",
          "model_name": "ProgressStyleModel",
          "state": {
            "_model_module": "@jupyter-widgets/controls",
            "_model_module_version": "1.5.0",
            "_model_name": "ProgressStyleModel",
            "_view_count": null,
            "_view_module": "@jupyter-widgets/base",
            "_view_module_version": "1.2.0",
            "_view_name": "StyleView",
            "bar_color": null,
            "description_width": ""
          }
        },
        "af437c2a0a37403eabdc5cff537fd1e9": {
          "model_module": "@jupyter-widgets/base",
          "model_module_version": "1.2.0",
          "model_name": "LayoutModel",
          "state": {
            "_model_module": "@jupyter-widgets/base",
            "_model_module_version": "1.2.0",
            "_model_name": "LayoutModel",
            "_view_count": null,
            "_view_module": "@jupyter-widgets/base",
            "_view_module_version": "1.2.0",
            "_view_name": "LayoutView",
            "align_content": null,
            "align_items": null,
            "align_self": null,
            "border": null,
            "bottom": null,
            "display": null,
            "flex": null,
            "flex_flow": null,
            "grid_area": null,
            "grid_auto_columns": null,
            "grid_auto_flow": null,
            "grid_auto_rows": null,
            "grid_column": null,
            "grid_gap": null,
            "grid_row": null,
            "grid_template_areas": null,
            "grid_template_columns": null,
            "grid_template_rows": null,
            "height": null,
            "justify_content": null,
            "justify_items": null,
            "left": null,
            "margin": null,
            "max_height": null,
            "max_width": null,
            "min_height": null,
            "min_width": null,
            "object_fit": null,
            "object_position": null,
            "order": null,
            "overflow": null,
            "overflow_x": null,
            "overflow_y": null,
            "padding": null,
            "right": null,
            "top": null,
            "visibility": null,
            "width": null
          }
        },
        "b2c37498584a4e249553c1c1741bc797": {
          "model_module": "@jupyter-widgets/controls",
          "model_module_version": "1.5.0",
          "model_name": "HTMLModel",
          "state": {
            "_dom_classes": [],
            "_model_module": "@jupyter-widgets/controls",
            "_model_module_version": "1.5.0",
            "_model_name": "HTMLModel",
            "_view_count": null,
            "_view_module": "@jupyter-widgets/controls",
            "_view_module_version": "1.5.0",
            "_view_name": "HTMLView",
            "description": "",
            "description_tooltip": null,
            "layout": "IPY_MODEL_410393d13be2441ca1b54bfc5d873f42",
            "placeholder": "​",
            "style": "IPY_MODEL_deedaef94d554aae908082c916be49f2",
            "value": " 62/681805 [01:02&lt;203:27:44,  1.07s/it]"
          }
        },
        "b4f2dd48632a4f6eb37e1aad8cc68858": {
          "model_module": "@jupyter-widgets/base",
          "model_module_version": "1.2.0",
          "model_name": "LayoutModel",
          "state": {
            "_model_module": "@jupyter-widgets/base",
            "_model_module_version": "1.2.0",
            "_model_name": "LayoutModel",
            "_view_count": null,
            "_view_module": "@jupyter-widgets/base",
            "_view_module_version": "1.2.0",
            "_view_name": "LayoutView",
            "align_content": null,
            "align_items": null,
            "align_self": null,
            "border": null,
            "bottom": null,
            "display": null,
            "flex": null,
            "flex_flow": null,
            "grid_area": null,
            "grid_auto_columns": null,
            "grid_auto_flow": null,
            "grid_auto_rows": null,
            "grid_column": null,
            "grid_gap": null,
            "grid_row": null,
            "grid_template_areas": null,
            "grid_template_columns": null,
            "grid_template_rows": null,
            "height": null,
            "justify_content": null,
            "justify_items": null,
            "left": null,
            "margin": null,
            "max_height": null,
            "max_width": null,
            "min_height": null,
            "min_width": null,
            "object_fit": null,
            "object_position": null,
            "order": null,
            "overflow": null,
            "overflow_x": null,
            "overflow_y": null,
            "padding": null,
            "right": null,
            "top": null,
            "visibility": null,
            "width": null
          }
        },
        "d8e0d48bb9104056a692a8ae4ec045b7": {
          "model_module": "@jupyter-widgets/controls",
          "model_module_version": "1.5.0",
          "model_name": "DescriptionStyleModel",
          "state": {
            "_model_module": "@jupyter-widgets/controls",
            "_model_module_version": "1.5.0",
            "_model_name": "DescriptionStyleModel",
            "_view_count": null,
            "_view_module": "@jupyter-widgets/base",
            "_view_module_version": "1.2.0",
            "_view_name": "StyleView",
            "description_width": ""
          }
        },
        "deedaef94d554aae908082c916be49f2": {
          "model_module": "@jupyter-widgets/controls",
          "model_module_version": "1.5.0",
          "model_name": "DescriptionStyleModel",
          "state": {
            "_model_module": "@jupyter-widgets/controls",
            "_model_module_version": "1.5.0",
            "_model_name": "DescriptionStyleModel",
            "_view_count": null,
            "_view_module": "@jupyter-widgets/base",
            "_view_module_version": "1.2.0",
            "_view_name": "StyleView",
            "description_width": ""
          }
        },
        "f17ccdb7487a4568a54e91611252368a": {
          "model_module": "@jupyter-widgets/controls",
          "model_module_version": "1.5.0",
          "model_name": "FloatProgressModel",
          "state": {
            "_dom_classes": [],
            "_model_module": "@jupyter-widgets/controls",
            "_model_module_version": "1.5.0",
            "_model_name": "FloatProgressModel",
            "_view_count": null,
            "_view_module": "@jupyter-widgets/controls",
            "_view_module_version": "1.5.0",
            "_view_name": "ProgressView",
            "bar_style": "success",
            "description": "",
            "description_tooltip": null,
            "layout": "IPY_MODEL_255dd6ca245f431685dbe5a29a179c67",
            "max": 17,
            "min": 0,
            "orientation": "horizontal",
            "style": "IPY_MODEL_4b5bcf7168db46dd8d6e1832bdcc2fd4",
            "value": 17
          }
        },
        "f5cb21f6d1224cdd8d120989dda14a0e": {
          "model_module": "@jupyter-widgets/controls",
          "model_module_version": "1.5.0",
          "model_name": "FloatProgressModel",
          "state": {
            "_dom_classes": [],
            "_model_module": "@jupyter-widgets/controls",
            "_model_module_version": "1.5.0",
            "_model_name": "FloatProgressModel",
            "_view_count": null,
            "_view_module": "@jupyter-widgets/controls",
            "_view_module_version": "1.5.0",
            "_view_name": "ProgressView",
            "bar_style": "danger",
            "description": "",
            "description_tooltip": null,
            "layout": "IPY_MODEL_54da270bcbba4831950913a0e323aef5",
            "max": 681805,
            "min": 0,
            "orientation": "horizontal",
            "style": "IPY_MODEL_89453331f508408295254b5649df8e39",
            "value": 62
          }
        }
      }
    }
  },
  "nbformat": 4,
  "nbformat_minor": 0
}
