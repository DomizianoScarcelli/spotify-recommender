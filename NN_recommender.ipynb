{
	"cells": [
		{
			"attachments": {},
			"cell_type": "markdown",
			"metadata": {
				"id": "XvQ6e0PgCOZg"
			},
			"source": [
				"### Install dependencies"
			]
		},
		{
			"cell_type": "code",
			"execution_count": 1,
			"metadata": {
				"id": "XVvKeJoU4hq4"
			},
			"outputs": [],
			"source": [
				"import os\n",
				"def is_running_on_colab():\n",
				"    return \"COLAB_GPU\" in os.environ\n",
				"\n",
				"LOCAL = not is_running_on_colab()"
			]
		},
		{
			"cell_type": "code",
			"execution_count": 2,
			"metadata": {
				"colab": {
					"base_uri": "https://localhost:8080/"
				},
				"id": "bjPz4xH4WFYB",
				"outputId": "76dadb27-bb67-422b-a2d7-ae76bb9b256c"
			},
			"outputs": [],
			"source": [
				"if not LOCAL:\n",
				"    !pip install petastorm -qq\n",
				"    !pip install pyspark -qq\n",
				"    !pip install -U -q PyDrive -qq\n",
				"    !apt install openjdk-8-jdk-headless -qq"
			]
		},
		{
			"cell_type": "code",
			"execution_count": 3,
			"metadata": {
				"cellView": "form",
				"id": "oozTtW3om3Ab"
			},
			"outputs": [],
			"source": [
				"#@title Imports\n",
				"import requests\n",
				"import pandas as pd\n",
				"import numpy as np\n",
				"import matplotlib.pyplot as plt\n",
				"%matplotlib inline\n",
				"import plotly\n",
				"\n",
				"import pyspark\n",
				"import pyspark.sql.functions as F\n",
				"from pyspark.sql import SparkSession, DataFrame, Row\n",
				"from pyspark.sql.types import StructType, StructField, StringType, IntegerType, ArrayType, FloatType, LongType\n",
				"from pyspark import SparkContext, SparkConf\n",
				"from pyspark.ml.linalg import SparseVector, DenseVector, VectorUDT\n",
				"\n",
				"from tqdm.notebook import tqdm\n",
				"import time\n",
				"import gc\n",
				"\n",
				"if not LOCAL:\n",
				"    from google.colab import drive\n",
				"\n",
				"from typing import Tuple\n",
				"from functools import reduce\n",
				"import pickle\n",
				"import torch\n",
				"from petastorm import make_batch_reader\n",
				"from petastorm.pytorch import DataLoader"
			]
		},
		{
			"cell_type": "code",
			"execution_count": 4,
			"metadata": {
				"id": "XG5sA53iP9z0"
			},
			"outputs": [],
			"source": [
				"#@title Set up variables\n",
				"if not LOCAL:\n",
				"    JAVA_HOME = \"/usr/lib/jvm/java-8-openjdk-amd64\"\n",
				"    GDRIVE_DIR = \"/content/drive\"\n",
				"    GDRIVE_HOME_DIR = GDRIVE_DIR + \"/MyDrive\"\n",
				"    GDRIVE_DATA_DIR = GDRIVE_HOME_DIR + \"/Big Data/datasets\"\n",
				"    DATASET_FILE = os.path.join(GDRIVE_DATA_DIR, \"pyspark_friendly_spotify_playlist_dataset\")\n",
				"    AUDIO_FEATURES_FILE = os.path.join(GDRIVE_DATA_DIR, \"pyspark_track_features\")\n",
				"    LITTLE_SLICE_FILE = os.path.join(GDRIVE_DATA_DIR, \"little_slice\")\n",
				"    SMALL_SLICE_FLIE = os.path.join(GDRIVE_DATA_DIR, \"small_slice\")\n",
				"    LITTLE_SLICE_AUDIO_FEATURES = os.path.join(GDRIVE_DATA_DIR, \"little_slice_audio_features\")\n",
				"    MICRO_SLICE_AUDIO_FEATURES = os.path.join(GDRIVE_DATA_DIR, \"micro_slice_audio_features\")\n",
				"    SPLITTED_SLICE_AUDIO_FEATURES = os.path.join(GDRIVE_DATA_DIR, \"splitted_pyspark_track_features\")\n",
				"    SAVED_DFS_PATH = os.path.join(GDRIVE_DATA_DIR, \"saved_dfs\")\n",
				"    SAVED_MODELS = os.path.join(GDRIVE_DATA_DIR, \"saved_models\")\n",
				"else:\n",
				"    GDRIVE_DATA_DIR = os.path.abspath(\"./data\")\n",
				"    GDRIVE_HOME_DIR = GDRIVE_DATA_DIR\n",
				"    SAVED_DFS_PATH = os.path.join(GDRIVE_DATA_DIR, \"saved_dfs\")\n",
				"    SAVED_MODELS = os.path.join(GDRIVE_DATA_DIR, \"saved_models\")\n",
				"    JAVA_HOME = \"/opt/homebrew/opt/openjdk\"\n",
				"RANDOM_SEED = 42 # for reproducibility\n",
				"os.environ[\"JAVA_HOME\"] = JAVA_HOME\n",
				"os.environ[\"PYSPARK_PYTHON\"]=\"python\""
			]
		},
		{
			"cell_type": "code",
			"execution_count": 5,
			"metadata": {
				"colab": {
					"base_uri": "https://localhost:8080/"
				},
				"id": "G20Yir8g4hq6",
				"outputId": "98aef090-6013-46c3-cf18-ffcff79d7ec5"
			},
			"outputs": [],
			"source": [
				"if not LOCAL:\n",
				"    drive.mount(GDRIVE_DIR, force_remount=True)"
			]
		},
		{
			"cell_type": "code",
			"execution_count": 6,
			"metadata": {
				"cellView": "form",
				"id": "4m7VztzdZgm6"
			},
			"outputs": [
				{
					"name": "stderr",
					"output_type": "stream",
					"text": [
						"23/06/23 12:15:42 WARN Utils: Your hostname, MacBook-Air-di-Domiziano.local resolves to a loopback address: 127.0.0.1; using 192.168.1.175 instead (on interface en0)\n",
						"23/06/23 12:15:42 WARN Utils: Set SPARK_LOCAL_IP if you need to bind to another address\n",
						"Setting default log level to \"WARN\".\n",
						"To adjust logging level use sc.setLogLevel(newLevel). For SparkR, use setLogLevel(newLevel).\n",
						"23/06/23 12:15:42 WARN NativeCodeLoader: Unable to load native-hadoop library for your platform... using builtin-java classes where applicable\n"
					]
				}
			],
			"source": [
				"#@title Create the session\n",
				"config = SparkConf().\\\n",
				"                set('spark.ui.port', \"4050\").\\\n",
				"                set('spark.executor.memory', '12G').\\\n",
				"                set('spark.driver.memory', '12G').\\\n",
				"                set('spark.driver.maxResultSize', '100G').\\\n",
				"                set(\"spark.executor.extraJavaOptions\", \"-XX:+UseG1GC\").\\\n",
				"                setAppName(\"PySparkTutorial\").\\\n",
				"                setMaster(\"local[*]\")\n",
				"\n",
				"# Create the context\n",
				"sc = pyspark.SparkContext(conf=config)"
			]
		},
		{
			"cell_type": "code",
			"execution_count": 7,
			"metadata": {
				"id": "SyrTHVZR4hq8"
			},
			"outputs": [],
			"source": [
				"spark = SparkSession.builder.getOrCreate()"
			]
		},
		{
			"attachments": {},
			"cell_type": "markdown",
			"metadata": {
				"id": "VJeY9PpvaHUJ"
			},
			"source": [
				"# Data acquisition"
			]
		},
		{
			"cell_type": "code",
			"execution_count": 8,
			"metadata": {
				"id": "icd2lj-RRvhU"
			},
			"outputs": [],
			"source": [
				"playlist_schema_mapped = StructType([\n",
				"    StructField(\"name\", StringType(), True),\n",
				"    StructField(\"collaborative\", StringType(), True),\n",
				"    StructField(\"pid\", IntegerType(), True),\n",
				"    StructField(\"modified_at\", IntegerType(), True),\n",
				"    StructField(\"num_tracks\", IntegerType(), True),\n",
				"    StructField(\"num_albums\", IntegerType(), True),\n",
				"    StructField(\"num_followers\", IntegerType(), True),\n",
				"    StructField(\"tracks\", VectorUDT(), True),\n",
				"    StructField(\"num_edits\", IntegerType(), True),\n",
				"    StructField(\"duration_ms\", IntegerType(), True),\n",
				"    StructField(\"num_artists\", IntegerType(), True),\n",
				"])\n"
			]
		},
		{
			"cell_type": "code",
			"execution_count": 9,
			"metadata": {
				"id": "JAu9mQsxTxHj"
			},
			"outputs": [],
			"source": [
				"import warnings\n",
				"warnings.filterwarnings('ignore')"
			]
		},
		{
			"cell_type": "code",
			"execution_count": 10,
			"metadata": {
				"id": "fGgc9DHjT09S"
			},
			"outputs": [],
			"source": [
				"NUM_PLAYLISTS = 100_000"
			]
		},
		{
			"cell_type": "code",
			"execution_count": 11,
			"metadata": {
				"id": "BIalKyiH4hq9"
			},
			"outputs": [],
			"source": [
				"# The DF used for train (80% of the original) (playlist are different)\n",
				"TRAIN_DF_PATH = os.path.join(SAVED_DFS_PATH, f\"train_df-{NUM_PLAYLISTS}.json\")\n",
				"# The DF used for testing (20% of the original) (playlist are different)\n",
				"TEST_DF_PATH = os.path.join(SAVED_DFS_PATH, f\"test_df-{NUM_PLAYLISTS}.json\")\n",
				"\n",
				"# The DF used for train in the NN model (can be filtered or not)\n",
				"NN_TRAIN_DF_PATH = os.path.join(SAVED_DFS_PATH, f\"nn_train_df-{NUM_PLAYLISTS}.json\")\n",
				"# The DF used for testing in the NN model (can be filtered or not)\n",
				"NN_TEST_DF_PATH = os.path.join(SAVED_DFS_PATH, f\"nn_test_df-{NUM_PLAYLISTS}.json\")\n",
				"# The partition in train test of the NN test set. (Same playlists, different songs)\n",
				"NN_TEST_DF_TRAIN_PATH = os.path.join(SAVED_DFS_PATH, f\"nn_test_df-train-{NUM_PLAYLISTS}.json\")\n",
				"NN_TEST_DF_TEST_PATH = os.path.join(SAVED_DFS_PATH, f\"nn_test_df-test-{NUM_PLAYLISTS}.json\")\n",
				"\n",
				"NN_EVAL_PATH = os.path.join(SAVED_DFS_PATH, f\"nn_eval_df-{NUM_PLAYLISTS}.json\")\n",
				"NN_EVAL_TRAIN_PATH = os.path.join(SAVED_DFS_PATH, f\"nn_eval_df-train-{NUM_PLAYLISTS}.json\")\n",
				"NN_EVAL_TEST_PATH = os.path.join(SAVED_DFS_PATH, f\"nn_eval_df-test-{NUM_PLAYLISTS}.json\")\n",
				"# New one:\n",
				"ARTISTS_EMBEDDINGS_TRAIN = os.path.join(SAVED_DFS_PATH, f\"nn_artists_embeddings-train-{NUM_PLAYLISTS}.json\")\n",
				"ARTISTS_EMBEDDINGS_TEST_TRAIN = os.path.join(SAVED_DFS_PATH, f\"nn_artists_embeddings-test-train-{NUM_PLAYLISTS}.json\")\n",
				"ARTISTS_EMBEDDINGS_TEST_TEST = os.path.join(SAVED_DFS_PATH, f\"nn_artists_embeddings-test-test{NUM_PLAYLISTS}.json\")\n",
				"\n",
				"ARTISTS_EMBEDDINGS_EVAL = os.path.join(SAVED_DFS_PATH, f\"nn_artists_embeddings-eval-{NUM_PLAYLISTS}.json\")\n",
				"ARTISTS_EMBEDDINGS_EVAL_TRAIN = os.path.join(SAVED_DFS_PATH, f\"nn_artists_embeddings-eval-train-{NUM_PLAYLISTS}.json\")\n",
				"ARTISTS_EMBEDDINGS_EVAL_TEST = os.path.join(SAVED_DFS_PATH, f\"nn_artists_embeddings-eval-test{NUM_PLAYLISTS}.json\")\n",
				"\n",
				"# The length of the artist vector length (Artist vectors are only used in the NN model)\n",
				"ARTIST_VECTOR_LENGTH_PATH = os.path.join(SAVED_DFS_PATH, f\"nn_artist_vector_length-{NUM_PLAYLISTS}.txt\")\n",
				"\n",
				"SONGS_VECTOR_LENGTH_PATH = os.path.join(SAVED_DFS_PATH, f\"songs_vector_length-{NUM_PLAYLISTS}.txt\")\n",
				"# This may be filtered or not\n",
				"FILTERED_SONGS_VECTOR_LENGTH_PATH = os.path.join(SAVED_DFS_PATH, f\"nn_songs_vector_length-{NUM_PLAYLISTS}.txt\")\n",
				"\n",
				"SONGS_EMBEDDINGS_TRAIN = os.path.join(SAVED_DFS_PATH, f\"songs_embeddings-train-{NUM_PLAYLISTS}.json\")\n",
				"SONGS_EMBEDDINGS_TEST = os.path.join(SAVED_DFS_PATH, f\"songs_embeddings-test-{NUM_PLAYLISTS}.json\")\n",
				"\n",
				"NN_SONGS_EMBEDDINGS_TRAIN = os.path.join(SAVED_DFS_PATH, f\"nn_songs_embeddings-train-{NUM_PLAYLISTS}.json\")\n",
				"NN_SONGS_EMBEDDINGS_TEST_TRAIN = os.path.join(SAVED_DFS_PATH, f\"nn_songs_embeddings-test-train-{NUM_PLAYLISTS}.json\")\n",
				"NN_SONGS_EMBEDDINGS_TEST_TEST = os.path.join(SAVED_DFS_PATH, f\"nn_songs_embeddings-test-test-{NUM_PLAYLISTS}.json\")\n",
				"\n",
				"NN_SONGS_EMBEDDINGS_EVAL = os.path.join(SAVED_DFS_PATH, f\"nn_songs_embeddings-eval-{NUM_PLAYLISTS}.json\") #TODO: The logic to produce this still has to be coded.\n",
				"NN_SONGS_EMBEDDINGS_EVAL_TRAIN = os.path.join(SAVED_DFS_PATH, f\"nn_songs_embeddings-eval-train-{NUM_PLAYLISTS}.json\")\n",
				"NN_SONGS_EMBEDDINGS_EVAL_TEST = os.path.join(SAVED_DFS_PATH, f\"nn_songs_embeddings-eval-test-{NUM_PLAYLISTS}.json\")\n",
				"\n",
				"SONGS_INFO_DF = os.path.join(SAVED_DFS_PATH, f\"songs_info_df-{NUM_PLAYLISTS}.json\")\n",
				"FILTERED_SONGS_INFO_DF = os.path.join(SAVED_DFS_PATH, f\"nn_songs_info_df-{NUM_PLAYLISTS}.json\")"
			]
		},
		{
			"cell_type": "code",
			"execution_count": 12,
			"metadata": {
				"id": "lo8gbiN1U1XJ"
			},
			"outputs": [],
			"source": [
				"songs_embeddings = spark.read.schema(playlist_schema_mapped).json(NN_SONGS_EMBEDDINGS_TRAIN)\n",
				"artists_embeddings = spark.read.schema(playlist_schema_mapped).json(ARTISTS_EMBEDDINGS_TRAIN)\n",
				"song_mapping = spark.read.json(FILTERED_SONGS_INFO_DF)\n",
				"\n",
				"songs_embeddings_eval_train = spark.read.schema(playlist_schema_mapped).json(NN_SONGS_EMBEDDINGS_EVAL_TRAIN)\n",
				"songs_embeddings_eval_test = spark.read.schema(playlist_schema_mapped).json(NN_SONGS_EMBEDDINGS_EVAL_TEST)\n",
				"\n",
				"artists_embeddings_eval_train = spark.read.schema(playlist_schema_mapped).json(ARTISTS_EMBEDDINGS_EVAL_TRAIN)\n",
				"artists_embeddings_eval_test = spark.read.schema(playlist_schema_mapped).json(ARTISTS_EMBEDDINGS_EVAL_TEST)\n",
				"\n",
				"with open(ARTIST_VECTOR_LENGTH_PATH, \"r\") as f:\n",
				"  content = f.read()\n",
				"  ARTIST_VECTOR_LENGTH = int(content)\n",
				"with open(SONGS_VECTOR_LENGTH_PATH, \"r\") as f:\n",
				"  content = f.read()\n",
				"  SONGS_VECTOR_LENGTH = int(content)"
			]
		},
		{
			"cell_type": "code",
			"execution_count": 13,
			"metadata": {
				"colab": {
					"base_uri": "https://localhost:8080/"
				},
				"id": "BY_szFyLTps4",
				"outputId": "04eb972b-27b4-4c8d-a274-1cb8d538bdc7"
			},
			"outputs": [
				{
					"name": "stdout",
					"output_type": "stream",
					"text": [
						"+-------------------+-------------+-----+-----------+----------+----------+-------------+--------------------+---------+-----------+-----------+\n",
						"|               name|collaborative|  pid|modified_at|num_tracks|num_albums|num_followers|              tracks|num_edits|duration_ms|num_artists|\n",
						"+-------------------+-------------+-----+-----------+----------+----------+-------------+--------------------+---------+-----------+-----------+\n",
						"|              Alone|        false|20080| 1496880000|        50|        48|            1|(681805,[4874,542...|       19|   11128916|         42|\n",
						"|       Country Hits|        false|14258| 1504828800|       130|        77|            1|(681805,[3,1666,1...|       61|   28245005|         44|\n",
						"|              Peter|        false|14812| 1446595200|        65|        56|            1|(681805,[213,540,...|       15|   14212644|         47|\n",
						"|          Rock.....|        false| 1938| 1500163200|        57|        39|            1|(681805,[2908,350...|        5|   16766883|         19|\n",
						"|               punk|        false| 1180| 1504483200|        67|        45|            1|(681805,[61,3298,...|       21|   15393647|         26|\n",
						"|#CODGhosts Playlist|        false|14362| 1382918400|        50|        50|            1|(681805,[1565,301...|        2|   13601217|         50|\n",
						"|             #Dance|        false|14103| 1463961600|        33|        28|            1|(681805,[389,7336...|       12|    6901015|         24|\n",
						"|      #boostyourrun|        false|14325| 1425686400|        21|        21|            1|(681805,[497,1341...|        2|    5002212|         20|\n",
						"|      #boostyourrun|        false|20976| 1399075200|        21|        21|            1|(681805,[4481,918...|        2|    5400100|         19|\n",
						"|      #boostyourrun|        false|78200| 1402704000|        22|        22|            1|(681805,[108939,1...|        2|    5825915|         21|\n",
						"|           #college|        false|78334| 1490400000|        21|        19|            2|(681805,[23983,82...|        4|    5068086|         18|\n",
						"|               #tbt|        false| 1168| 1436832000|        29|        22|            1|(681805,[3585,463...|        2|    6829177|         15|\n",
						"|             $andy$|        false|78110| 1457395200|       117|        63|            1|(681805,[1678,325...|       14|   28982414|         40|\n",
						"|                '17|        false|20507| 1505433600|        38|        31|            2|(681805,[1122,489...|       31|    8051141|         30|\n",
						"|                '17|        false|78571| 1509235200|        34|        29|            1|(681805,[83359,87...|       16|    7500239|         26|\n",
						"|            'Merica|        false|78912| 1499126400|       241|       237|            1|(681805,[13,608,7...|        6|   57441819|        217|\n",
						"|           'merica |        false|78916| 1499990400|        67|        45|            1|(681805,[1666,206...|       21|   14868475|         35|\n",
						"|   **That New New**|        false|14379| 1432771200|        63|        52|            1|(681805,[270,2071...|       21|   14353567|         47|\n",
						"|           *HANNAH*|        false|20194| 1506211200|        84|        22|            1|(681805,[27515,58...|        5|   11964693|          6|\n",
						"|             *sigh*|        false|14217| 1509321600|       154|       101|            4|(681805,[114,632,...|       25|   38055908|         64|\n",
						"+-------------------+-------------+-----+-----------+----------+----------+-------------+--------------------+---------+-----------+-----------+\n",
						"only showing top 20 rows\n",
						"\n",
						"+---------------+-------------+-----+-----------+----------+----------+-------------+--------------------+---------+-----------+-----------+\n",
						"|           name|collaborative|  pid|modified_at|num_tracks|num_albums|num_followers|              tracks|num_edits|duration_ms|num_artists|\n",
						"+---------------+-------------+-----+-----------+----------+----------+-------------+--------------------+---------+-----------+-----------+\n",
						"|  Feliz Navidad|        false|68438| 1480809600|        18|        10|            1|(110063,[751,1562...|        6|    3475355|         15|\n",
						"|       Only One|        false|22465| 1446076800|        58|        49|            1|(110063,[1068,135...|        7|   14609825|         36|\n",
						"|            #00|        false|22310| 1509148800|       211|       128|            1|(110063,[100,101,...|       69|   50813477|         72|\n",
						"|        #JAMMIN|        false|45856| 1482537600|        86|        64|            2|(110063,[0,100,76...|       18|   19632995|         44|\n",
						"|     #ThrowBack|        false|45709| 1506643200|        80|        57|            2|(110063,[21,804,1...|       18|   16477272|         28|\n",
						"|  #boostyourrun|        false|22082| 1398988800|        21|        20|            1|(110063,[438,1701...|        2|    5741548|         18|\n",
						"|  #boostyourrun|        false|45427| 1400889600|        22|        20|            1|(110063,[14139,27...|        2|    5389714|         17|\n",
						"|  #boostyourrun|        false|45466| 1407283200|        21|        21|            1|(110063,[2318,160...|        2|    5088223|         20|\n",
						"|    #throwbacks|        false|68877| 1503878400|        38|        36|            1|(110063,[41,197,2...|       13|   10102514|         32|\n",
						"|'Tis the Season|        false|68355| 1385424000|       225|        86|            1|(110063,[329,589,...|       12|   44905550|         78|\n",
						"|        (GOODS)|        false|45390| 1507075200|        17|        17|            1|(110063,[3,27478,...|       10|    3766031|         14|\n",
						"|            -_-|        false|45933| 1496102400|        13|        13|            1|(110063,[14474,27...|        4|    3037621|         12|\n",
						"|  // WORSHIP //|        false|68582| 1429142400|       244|       131|            1|(110063,[106,202,...|       62|   73440980|         84|\n",
						"|       //chil//|        false|45329| 1436313600|       184|        37|            1|(110063,[214,2318...|       11|   37771150|         21|\n",
						"|           00's|        false|68196| 1472428800|        48|        45|            1|(110063,[1071,166...|        3|   11462810|         39|\n",
						"|            001|        false|68552| 1481846400|        15|        15|            3|(110063,[82,1953,...|        4|    6922683|         14|\n",
						"|             09|        false|68290| 1389571200|         6|         4|            1|(110063,[29228,41...|        2|    1368673|          3|\n",
						"| 1-800-273-8255|        false|22073| 1506556800|        42|        28|            2|(110063,[153,217,...|       22|    9977064|         17|\n",
						"|             10|        false|45396| 1503878400|        14|        14|            1|(110063,[1359,144...|        5|    3007976|         14|\n",
						"|            10k|        false|68178| 1454803200|       118|        93|            2|(110063,[80,312,3...|       57|   30055142|         76|\n",
						"+---------------+-------------+-----+-----------+----------+----------+-------------+--------------------+---------+-----------+-----------+\n",
						"only showing top 20 rows\n",
						"\n"
					]
				},
				{
					"data": {
						"text/plain": [
							"(None, None, 110063, 681805)"
						]
					},
					"execution_count": 13,
					"metadata": {},
					"output_type": "execute_result"
				}
			],
			"source": [
				"songs_embeddings.show(), artists_embeddings.show(), ARTIST_VECTOR_LENGTH, SONGS_VECTOR_LENGTH"
			]
		},
		{
			"attachments": {},
			"cell_type": "markdown",
			"metadata": {
				"id": "lPOD60GQQGse"
			},
			"source": [
				"# Convert PySpark DataFrame into PyTorch DataLoader"
			]
		},
		{
			"cell_type": "code",
			"execution_count": 14,
			"metadata": {
				"id": "QCKbUCcaEpQS"
			},
			"outputs": [],
			"source": [
				"def convert_sparse_to_indices(df: DataFrame, column_name: str) -> DataFrame:\n",
				"  \"\"\"\n",
				"  Given a dataframe fo columns \"pos\":int and \"tracks\":SparseVector, it returns a new dataframe where\n",
				"  the SparseVector are replaced with a list of the indices where the values are.\n",
				"  (The value information is lost, but we don't care since they are binary values so they will be all ones)\n",
				"  \"\"\"\n",
				"\n",
				"  @F.udf(returnType=ArrayType(IntegerType()))\n",
				"  def transform_array(item: SparseVector):\n",
				"    \"\"\"\n",
				"    Given a SparseVector (binary) it returns the tuple that represent it, of the type (size, indices)\n",
				"    \"\"\"\n",
				"    indices_list = item.indices.tolist()\n",
				"    padding_width = max_songs - len(indices_list)\n",
				"    return indices_list + [-1] * padding_width\n",
				"\n",
				"  max_songs = songs_embeddings.select(F.max(\"num_tracks\")).first()[0]\n",
				"  print(f\"Max number of songs: {max_songs}\")\n",
				"  df = df.withColumn(f\"{column_name}_indices\", transform_array(F.col(column_name))).drop(column_name)\n",
				"  return df"
			]
		},
		{
			"cell_type": "code",
			"execution_count": 15,
			"metadata": {
				"id": "eIIqDVeN7cU0"
			},
			"outputs": [],
			"source": [
				"def padded_tensors_to_sparse_matrix(padded_tensor: torch.Tensor, shape: tuple) -> torch.Tensor:\n",
				"  batch_size, max_songs = padded_tensor.size(0), padded_tensor.size(1)\n",
				"  rows = []\n",
				"  for row_idx in range(batch_size):\n",
				"    row = padded_tensor[row_idx]\n",
				"    indices = row[row != -1]\n",
				"    sparse_tensor = torch.sparse_coo_tensor(indices.unsqueeze(0), torch.ones(indices.shape), shape)\n",
				"    rows.append(sparse_tensor)\n",
				"  return torch.stack(rows)\n",
				"\n",
				"def padded_tensors_to_dense_matrix(padded_tensor: torch.Tensor, shape: tuple) -> torch.Tensor:\n",
				"  batch_size, max_songs = padded_tensor.size(0), padded_tensor.size(1)\n",
				"  rows = []\n",
				"  for row_idx in range(batch_size):\n",
				"    row = padded_tensor[row_idx]\n",
				"    indices = row[row != -1]\n",
				"    sparse_tensor = torch.sparse_coo_tensor(indices.unsqueeze(0), torch.ones(indices.shape), shape)\n",
				"    dense = sparse_tensor.to_dense()\n",
				"    rows.append(dense)\n",
				"  unpadded = torch.stack(rows)\n",
				"  return unpadded"
			]
		},
		{
			"attachments": {},
			"cell_type": "markdown",
			"metadata": {
				"id": "UNak5bEo4cmV"
			},
			"source": [
				"In the paper they have two matrices,l et $n$ be the number of unique songs, $m$ the number of playlists and $k$ the number of unique artists:\n",
				"\n",
				"- $P \\in \\mathbb{R}^{m \\times n}$ where $p_i = 1$ if song $i$ is in the playlist, $p_i=0$ otherwise\n",
				"- $A \\in \\mathbb{R}^{m \\times k}$ where $a_i=1$ if the artist is present in the playlist, $a_i = 0$ otherwise"
			]
		},
		{
			"cell_type": "code",
			"execution_count": 16,
			"metadata": {
				"colab": {
					"base_uri": "https://localhost:8080/"
				},
				"id": "y_pKgJx26s73",
				"outputId": "c05a4e12-3b75-48ee-a85a-698a55b3c281"
			},
			"outputs": [
				{
					"name": "stderr",
					"output_type": "stream",
					"text": [
						"                                                                                \r"
					]
				},
				{
					"name": "stdout",
					"output_type": "stream",
					"text": [
						"Max number of songs: 250\n"
					]
				},
				{
					"name": "stderr",
					"output_type": "stream",
					"text": [
						"Converting floating-point columns to float32\n"
					]
				},
				{
					"name": "stdout",
					"output_type": "stream",
					"text": [
						"Max number of songs: 250\n"
					]
				},
				{
					"name": "stderr",
					"output_type": "stream",
					"text": [
						"23/06/23 12:15:56 WARN GarbageCollectionMetrics: To enable non-built-in garbage collector(s) List(G1 Concurrent GC), users should configure it(them) to spark.eventLog.gcMetrics.youngGenerationGarbageCollectors or spark.eventLog.gcMetrics.oldGenerationGarbageCollectors\n",
						"The median size 3980660 B (< 50 MB) of the parquet files is too small. Total size: 32581873 B. Increase the median file size by calling df.repartition(n) or df.coalesce(n), which might help improve the performance. Parquet files: file:///Users/dov/Desktop/big-data-project/data/cache/20230623121548-appid-local-1687515343407-4b01b987-01e5-47e8-b161-13691b7fe4c5/part-00005-4f50ec84-9f6b-4d7c-9ef6-ccc3abb36118-c000.parquet, ...\n"
					]
				},
				{
					"name": "stdout",
					"output_type": "stream",
					"text": [
						"98465 98465 98465\n"
					]
				}
			],
			"source": [
				"from petastorm.spark import SparkDatasetConverter, make_spark_converter\n",
				"\n",
				"CACHE = os.path.join(GDRIVE_HOME_DIR, \"cache\")\n",
				"spark.conf.set(SparkDatasetConverter.PARENT_CACHE_DIR_URL_CONF, f'file://{CACHE}')\n",
				"\n",
				"pytorch_songs_df = convert_sparse_to_indices(songs_embeddings.select(\"tracks\", \"pid\"), column_name=\"tracks\")\n",
				"# songs_converter = make_spark_converter(pytorch_songs_df)\n",
				"pytorch_artists_df = convert_sparse_to_indices(artists_embeddings.withColumnRenamed(\"tracks\", \"artists\").select(\"pid\", \"artists\"), column_name=\"artists\")\n",
				"# artist_converter = make_spark_converter(pytorch_artists_df)\n",
				"songs_artists_df = pytorch_songs_df.join(pytorch_artists_df, on=\"pid\")\n",
				"pytorch_merged_dataloader = make_spark_converter(songs_artists_df)\n",
				"\n",
				"\n",
				"print(pytorch_songs_df.count(), pytorch_artists_df.count(), songs_artists_df.count()) #Everything good here, this is nice!"
			]
		},
		{
			"attachments": {},
			"cell_type": "markdown",
			"metadata": {
				"id": "RueabAy34hq_"
			},
			"source": [
				"Creating the dataloader for the evaluation set"
			]
		},
		{
			"attachments": {},
			"cell_type": "markdown",
			"metadata": {
				"id": "m0Av0W0P66lC"
			},
			"source": [
				"# PyTorch Model"
			]
		},
		{
			"cell_type": "code",
			"execution_count": 18,
			"metadata": {
				"id": "6-YbESXD66Oh"
			},
			"outputs": [],
			"source": [
				"import torch\n",
				"import torch.nn as nn\n",
				"import torch.optim as optim\n",
				"import numpy as np\n",
				"import pickle\n",
				"\n",
				"class DAE_tied(nn.Module):\n",
				"    def __init__(self, conf):\n",
				"        super(DAE_tied, self).__init__()\n",
				"        self.save_dir = conf[\"save\"]\n",
				"        if LOCAL:\n",
				"            self.device = torch.device(\"mps\")\n",
				"        else:\n",
				"            self.device = torch.device(\"cuda\" if torch.cuda.is_available() else \"cpu\")\n",
				"        self.initval_dir = conf[\"initval\"]\n",
				"\n",
				"        self.n_batch = conf[\"batch\"]\n",
				"        self.n_input = conf[\"n_input\"]\n",
				"        self.n_hidden = conf[\"hidden\"]\n",
				"        self.reg_lambda = conf[\"reg_lambda\"]\n",
				"\n",
				"        self.keep_prob = torch.tensor(conf[\"keep_prob\"], dtype=torch.float32)\n",
				"        self.input_keep_prob = torch.tensor(conf[\"input_keep_prob\"], dtype=torch.float32)\n",
				"\n",
				"        self.weights = {}\n",
				"        self.biases = {}\n",
				"        self.d_params = []\n",
				"\n",
				"        self.z = None\n",
				"\n",
				"    def init_weight(self):\n",
				"        if self.initval_dir == 'NULL':\n",
				"            self.weights['encoder_h'] = nn.Parameter(torch.FloatTensor(self.n_input, self.n_hidden).to(self.device))\n",
				"            nn.init.xavier_uniform_(self.weights['encoder_h'])\n",
				"            self.biases['encoder_b'] = nn.Parameter(torch.FloatTensor(self.n_hidden).to(self.device))\n",
				"            nn.init.zeros_(self.biases['encoder_b'])\n",
				"            self.biases['decoder_b'] = nn.Parameter(torch.FloatTensor(self.n_input).to(self.device))\n",
				"            nn.init.zeros_(self.biases['decoder_b'])\n",
				"        else:\n",
				"            with open(self.initval_dir, 'rb') as f:\n",
				"                emb = pickle.load(f)\n",
				"            self.weights['encoder_h'] = nn.Parameter(torch.FloatTensor(emb[0]).to(self.device))\n",
				"            self.biases['encoder_b'] = nn.Parameter(torch.FloatTensor(emb[2]).to(self.device))\n",
				"            self.biases['decoder_b'] = nn.Parameter(torch.FloatTensor(emb[3]).to(self.device))\n",
				"        self.d_params = [self.weights['encoder_h'], self.weights['encoder_h'], self.biases['encoder_b'], self.biases['decoder_b']]\n",
				"\n",
				"\n",
				"    # Building the encoder\n",
				"    def encoder(self, x):\n",
				"        # Encoder Hidden layer with sigmoid activation #1\n",
				"        layer = torch.add(torch.matmul(x, self.weights['encoder_h']), self.biases['encoder_b'])\n",
				"        layer = torch.sigmoid(layer)\n",
				"        layer = torch.nn.functional.dropout(layer, p=1 - self.keep_prob)\n",
				"\n",
				"        return layer\n",
				"\n",
				"    # Building the decoder\n",
				"    def decoder(self, x):\n",
				"        # Decoder Hidden layer with sigmoid activation #1\n",
				"        layer = torch.sigmoid(torch.add(torch.matmul(x, self.weights['encoder_h'].t()), self.biases['decoder_b']))\n",
				"        return layer\n",
				"\n",
				"    def l2_loss(self):\n",
				"        # encoder_h_l2 = (torch.sum(self.weights['encoder_h']) ** 2)/2\n",
				"        # decoder_b_l2 = (torch.sum(self.biases['decoder_b']) ** 2)/2\n",
				"        # encoder_b_l2 = (torch.sum(self.biases['encoder_b']) ** 2)/2\n",
				"\n",
				"        encoder_h_l1 = torch.sum(torch.abs(self.weights['encoder_h']))\n",
				"        decoder_b_l1 = torch.sum(torch.abs(self.biases['decoder_b']))\n",
				"        encoder_b_l1 = torch.sum(torch.abs(self.biases['encoder_b']))\n",
				"\n",
				"        # l2 = encoder_h_l2 + decoder_b_l2 + encoder_b_l2\n",
				"        l1 = encoder_h_l1 + decoder_b_l1 + encoder_b_l1\n",
				"        return l1\n",
				"\n",
				"    def forward(self, x, y):\n",
				"        self.x = x\n",
				"        self.y = y\n",
				"\n",
				"        x_dropout = torch.nn.functional.dropout(self.x, p= 1 - self.input_keep_prob)\n",
				"        reduce_sum = torch.sum(x_dropout, dim=1, keepdim=True)\n",
				"        self.x_dropout = torch.div(x_dropout, reduce_sum + 1e-10)\n",
				"\n",
				"        encoder_op = self.encoder(self.x_dropout)\n",
				"\n",
				"        self.z = encoder_op\n",
				"        self.y_pred = self.decoder(encoder_op)\n",
				"\n",
				"        l2 = self.l2_loss()\n",
				"\n",
				"        ALPHA = 0.5\n",
				"\n",
				"        L = -torch.sum(self.y * torch.log(self.y_pred + 1e-10) +\n",
				"                       ALPHA * (1 - self.y) * torch.log(1 - self.y_pred + 1e-10), dim=1)\n",
				"        \n",
				"        self.cost = torch.mean(L) + self.reg_lambda * l2\n",
				"\n",
				"    def save_model(self):\n",
				"        params = [param.detach().numpy() for param in self.d_params]\n",
				"        with open(self.save_dir, 'wb') as f:\n",
				"            pickle.dump(params, f)\n",
				"\n",
				"\n",
				"class DAE(DAE_tied):\n",
				"    def __init__(self, conf):\n",
				"        super(DAE, self).__init__(conf)\n",
				"\n",
				"    def init_weight(self):\n",
				"        if self.initval_dir == 'NULL':\n",
				"            self.weights['encoder_h'] = nn.Parameter(torch.FloatTensor(self.n_input, self.n_hidden).to(self.device))\n",
				"            nn.init.xavier_uniform_(self.weights['encoder_h'])\n",
				"            self.weights['decoder_h'] = nn.Parameter(torch.FloatTensor(self.n_input, self.n_hidden).to(self.device))\n",
				"            nn.init.xavier_uniform_(self.weights['decoder_h'])\n",
				"            self.biases['encoder_b'] = nn.Parameter(torch.FloatTensor(self.n_hidden).to(self.device))\n",
				"            nn.init.zeros_(self.biases['encoder_b'])\n",
				"            self.biases['decoder_b'] = nn.Parameter(torch.FloatTensor(self.n_input).to(self.device))\n",
				"            nn.init.zeros_(self.biases['decoder_b'])\n",
				"        else:\n",
				"            with open(self.initval_dir, 'rb') as f:\n",
				"                emb = pickle.load(f)\n",
				"            self.weights['encoder_h'] = nn.Parameter(torch.FloatTensor(emb[0]).to(self.device))\n",
				"            self.weights['decoder_h'] = nn.Parameter(torch.FloatTensor(emb[1]).to(self.device))\n",
				"            self.biases['encoder_b'] = nn.Parameter(torch.FloatTensor(emb[2]).to(self.device))\n",
				"            self.biases['decoder_b'] = nn.Parameter(torch.FloatTensor(emb[3]).to(self.device))\n",
				"\n",
				"        self.d_params = [self.weights['encoder_h'], self.weights['decoder_h'],\n",
				"                         self.biases['encoder_b'], self.biases['decoder_b']]\n",
				"\n",
				"    def decoder(self, x):\n",
				"        # Decoder Hidden layer with sigmoid activation #1\n",
				"        layer = torch.sigmoid(torch.add(torch.matmul(x, self.weights['decoder_h'].t()), self.biases['decoder_b']))\n",
				"        return layer\n",
				"\n",
				"    def l2_loss(self):\n",
				"    #   encoder_h_l2 = (torch.sum(self.weights['encoder_h']) ** 2)/2\n",
				"    #   decoder_b_l2 = (torch.sum(self.biases['decoder_b']) ** 2)/2\n",
				"    #   encoder_b_l2 = (torch.sum(self.biases['encoder_b']) ** 2)/2\n",
				"    #   decoder_h_l2 = (torch.sum(self.weights['decoder_h']) ** 2)/2\n",
				"\n",
				"      encoder_h_l1 = torch.sum(torch.abs(self.weights['encoder_h']))\n",
				"      decoder_b_l1 = torch.sum(torch.abs(self.biases['decoder_b']))\n",
				"      encoder_b_l1 = torch.sum(torch.abs(self.biases['encoder_b']))\n",
				"      decoder_h_l1 = torch.sum(torch.abs(self.weights['decoder_h']))\n",
				"\n",
				"\n",
				"      l1 = encoder_h_l1 + decoder_b_l1 + encoder_b_l1 + decoder_h_l1\n",
				"\n",
				"    #   l2 = encoder_h_l2 + decoder_b_l2 + encoder_b_l2 + decoder_h_l2\n",
				"\n",
				"      return l1"
			]
		},
		{
			"cell_type": "code",
			"execution_count": 18,
			"metadata": {
				"colab": {
					"base_uri": "https://localhost:8080/"
				},
				"id": "UNcWBM0U4hrB",
				"outputId": "c75bec34-536e-467d-e4a4-eb554b10103b"
			},
			"outputs": [
				{
					"name": "stdout",
					"output_type": "stream",
					"text": [
						"Max number of songs: 250\n",
						"Max number of songs: 250\n",
						"Max number of songs: 250\n"
					]
				},
				{
					"name": "stderr",
					"output_type": "stream",
					"text": [
						"Converting floating-point columns to float32\n"
					]
				},
				{
					"name": "stdout",
					"output_type": "stream",
					"text": [
						"Max number of songs: 250\n"
					]
				},
				{
					"name": "stderr",
					"output_type": "stream",
					"text": [
						"                                                                                \r"
					]
				}
			],
			"source": [
				"pytorch_songs_eval_train_df = convert_sparse_to_indices(songs_embeddings_eval_train.withColumnRenamed(\"tracks\", \"train_tracks\").select(\"train_tracks\", \"pid\"), column_name=\"train_tracks\")\n",
				"pytorch_artists_eval_train_df = convert_sparse_to_indices(artists_embeddings_eval_train.withColumnRenamed(\"tracks\", \"train_artists\").select(\"pid\", \"train_artists\"), column_name=\"train_artists\")\n",
				"songs_artists_eval_train_df = pytorch_songs_eval_train_df.join(pytorch_artists_eval_train_df, on=\"pid\")\n",
				"\n",
				"pytorch_songs_eval_test_df = convert_sparse_to_indices(songs_embeddings_eval_test.withColumnRenamed(\"tracks\", \"test_tracks\").select(\"test_tracks\", \"pid\"), column_name=\"test_tracks\")\n",
				"pytorch_artists_eval_test_df = convert_sparse_to_indices(artists_embeddings_eval_test.withColumnRenamed(\"tracks\", \"test_artists\").select(\"pid\", \"test_artists\"), column_name=\"test_artists\")\n",
				"songs_artists_eval_test_df = pytorch_songs_eval_test_df.join(pytorch_artists_eval_test_df, on=\"pid\")\n",
				"\n",
				"eval_merged_df = songs_artists_eval_train_df.join(songs_artists_eval_test_df, on=\"pid\")\n",
				"\n",
				"# counter = F.udf(lambda x: len([item for item in x if item != -1]), returnType=IntegerType())\n",
				"# eval_merged_df = eval_merged_df\\\n",
				"#     .withColumn(\"train_tracks_count\", counter(F.col(\"train_tracks_indices\")))\\\n",
				"#     .withColumn(\"test_tracks_count\", counter(F.col(\"test_tracks_indices\")))\n",
				"# eval_merged_df = eval_merged_df.filter(\"train_tracks_count > 100\")\n",
				"eval_merged_dataloader = make_spark_converter(eval_merged_df)\n",
				"\n",
				"eval_merged_num = eval_merged_df.count()"
			]
		},
		{
			"cell_type": "code",
			"execution_count": null,
			"metadata": {},
			"outputs": [],
			"source": [
				"if LOCAL:\n",
				"    device = torch.device(\"mps\")\n",
				"else:\n",
				"    device = torch.device(\"cuda\" if torch.cuda.is_available() else \"cpu\")"
			]
		},
		{
			"cell_type": "code",
			"execution_count": 20,
			"metadata": {
				"id": "kQPVslug4hrB"
			},
			"outputs": [],
			"source": [
				"from typing import List\n",
				"def k_prec(input: torch.Tensor, eval_preds: torch.Tensor, ground_truth: torch.Tensor) -> List[float]:\n",
				"    batch_size = 10\n",
				"    precs = []\n",
				"\n",
				"    for i in range(batch_size):\n",
				"\n",
				"        if ground_truth.shape[0] != batch_size:\n",
				"          continue\n",
				"        input_idx = torch.nonzero(input[i] == 1).squeeze().flatten()\n",
				"        num_input_songs = input_idx.shape[0]\n",
				"\n",
				"        ground_truth_idx = torch.nonzero(ground_truth[i] == 1).squeeze().flatten()\n",
				"        num_ground_truth_songs = ground_truth_idx.shape[0]\n",
				"\n",
				"        if num_ground_truth_songs == 0:\n",
				"          continue\n",
				"\n",
				"        k = num_input_songs + num_ground_truth_songs\n",
				"        top_k_preds = eval_preds[i].topk(k, dim=0)\n",
				"        top_k_preds_idx = top_k_preds.indices.flatten().cpu()\n",
				"\n",
				"        confidences = top_k_preds.values.flatten()\n",
				"\n",
				"        # already_in_playlist = np.intersect1d(top_k_preds_idx.detach().numpy(), input_idx.cpu().detach().numpy())\n",
				"\n",
				"\n",
				"        # top_k_preds_idx = np.array(sorted([item for item in top_k_preds_idx if item not in already_in_playlist]))[:num_ground_truth_songs]\n",
				"\n",
				"        common_elements = np.intersect1d(top_k_preds_idx, ground_truth_idx.cpu().detach().numpy())\n",
				"        num_common_elements = len(common_elements)\n",
				"        precs.append(num_common_elements/num_ground_truth_songs)\n",
				"    # print(\"precs: \", precs)\n",
				"\n",
				"    return precs\n",
				"\n",
				"def ndcg(eval_preds: torch.Tensor, ground_truth: torch.Tensor) -> float:\n",
				"    return 0\n",
				"\n",
				"def evaluate(input: torch.Tensor, eval_preds: torch.Tensor, ground_truth: torch.Tensor) -> List[float]:\n",
				"    return k_prec(input, eval_preds, ground_truth)"
			]
		},
		{
			"cell_type": "code",
			"execution_count": 21,
			"metadata": {
				"id": "SK52nYJ-Edb9"
			},
			"outputs": [],
			"source": [
				"def test_k_prec(eval_preds: torch.Tensor, ground_truth: torch.Tensor) -> List[float]:\n",
				"    batch_size = 10\n",
				"    precs = []\n",
				"\n",
				"    for i in range(batch_size):\n",
				"        ground_truth_idx = torch.nonzero(ground_truth[i] == 1).squeeze().flatten()\n",
				"        num_ground_truth_songs = ground_truth_idx.shape[0]\n",
				"\n",
				"        k = num_ground_truth_songs\n",
				"        top_k_preds = eval_preds[i].topk(k, dim=0)\n",
				"        top_k_preds_idx = top_k_preds.indices.flatten().cpu()\n",
				"\n",
				"        confidences = top_k_preds.values.flatten()\n",
				"\n",
				"        common_elements = np.intersect1d(top_k_preds_idx, ground_truth_idx.cpu().detach().numpy())\n",
				"        num_common_elements = len(common_elements)\n",
				"        precs.append(num_common_elements/num_ground_truth_songs)\n",
				"\n",
				"    return precs"
			]
		},
		{
			"attachments": {},
			"cell_type": "markdown",
			"metadata": {
				"id": "OYT35yY74hrB"
			},
			"source": [
				"Creating the petastorm converters for validation set"
			]
		},
		{
			"cell_type": "code",
			"execution_count": 22,
			"metadata": {
				"id": "yP8xk2L34hrB"
			},
			"outputs": [],
			"source": [
				"def validate(model: DAE_tied) -> Tuple[torch.Tensor, float, float]:\n",
				"    \"\"\"\n",
				"    Given the model, performs an evaluation on the validation set.\n",
				"    \"\"\"\n",
				"    ARTIST_SHAPE = (ARTIST_VECTOR_LENGTH, )\n",
				"    SONG_SHAPE = (SONGS_VECTOR_LENGTH, )\n",
				"    precs = []\n",
				"    tot_k = 0\n",
				"    model.eval()\n",
				"    with eval_merged_dataloader.make_torch_dataloader(batch_size=10, num_epochs = 1) as eval_dataloader:\n",
				"        for batch_idx, row in enumerate(eval_dataloader):\n",
				"            with torch.no_grad():\n",
				"                # if batch_idx == 1:\n",
				"                    # break #TODO: faster but less generalized, remove for the final training\n",
				"                padded_eval_song_tensor = row[\"train_tracks_indices\"]\n",
				"                padded_eval_artist_tensor = row[\"train_artists_indices\"]\n",
				"\n",
				"                song_dense = padded_tensors_to_dense_matrix(padded_eval_song_tensor, SONG_SHAPE)\n",
				"                artist_dense = padded_tensors_to_dense_matrix(padded_eval_artist_tensor, ARTIST_SHAPE)\n",
				"\n",
				"                song_dense = song_dense.to(device)\n",
				"                artist_dense = artist_dense.to(device)\n",
				"\n",
				"                del padded_eval_song_tensor\n",
				"                del padded_eval_artist_tensor\n",
				"\n",
				"                x = torch.concat((song_dense, artist_dense), dim=1)\n",
				"                y = torch.concat((song_dense, artist_dense), dim=1)\n",
				"\n",
				"                model(x, y)\n",
				"\n",
				"                eval_preds = model.y_pred[:, :SONGS_VECTOR_LENGTH]\n",
				"\n",
				"                padded_eval_song_tensor_test = row[\"test_tracks_indices\"]\n",
				"\n",
				"                ground_truth = padded_tensors_to_dense_matrix(padded_eval_song_tensor_test, SONG_SHAPE)\n",
				"\n",
				"                ground_truth = ground_truth.to(device)\n",
				"\n",
				"                prec_list = evaluate(song_dense, eval_preds, ground_truth)\n",
				"                precs.extend(prec_list)\n",
				"\n",
				"        mean_prec: float = sum(precs) / len(precs)\n",
				"        model.train()\n",
				"        return model.cost, mean_prec\n"
			]
		},
		{
			"attachments": {},
			"cell_type": "markdown",
			"metadata": {
				"id": "aHXRUYad4hrB"
			},
			"source": [
				"Define the validation function that is invoked during the training in order to save the model parameters that optimize the performance evaluation on the validation set."
			]
		},
		{
			"cell_type": "code",
			"execution_count": 23,
			"metadata": {
				"id": "I75MLKjC4hrC"
			},
			"outputs": [],
			"source": [
				"def perform_validation_step(model: DAE_tied, max_prec: float, save_path:str, save: bool):\n",
				"    eval_loss, prec = validate(model)\n",
				"\n",
				"    if prec > max_prec:\n",
				"        max_prec = prec\n",
				"        best_params = [param.cpu().detach().numpy() for param in model.d_params]\n",
				"        if save:\n",
				"          with open(save_path, \"wb\") as f:\n",
				"              pickle.dump(best_params, f)\n",
				"          print(f\"Best prec achieved: {prec}, parameters saved!\")\n",
				"        else:\n",
				"          print(f\"Best prec achieved: {prec}!\")\n",
				"    return max_prec"
			]
		},
		{
			"cell_type": "code",
			"execution_count": 25,
			"metadata": {
				"colab": {
					"base_uri": "https://localhost:8080/"
				},
				"id": "DVGpMdqs7dQQ",
				"outputId": "510fde49-4d56-4158-dcb3-3065d58b4451"
			},
			"outputs": [
				{
					"data": {
						"text/plain": [
							"DAE()"
						]
					},
					"execution_count": 25,
					"metadata": {},
					"output_type": "execute_result"
				}
			],
			"source": [
				"BEST_PARAMS_PATH = os.path.join(SAVED_MODELS, \"best_params.pickle\")\n",
				"BEST_PARAMS_PATH_2 = os.path.join(SAVED_MODELS, \"best_params_reg.pickle\")\n",
				"\n",
				"#Hyperparameters used in the paper\n",
				"conf = {\n",
				"    'batch': 100,\n",
				"    'n_input': SONGS_VECTOR_LENGTH + ARTIST_VECTOR_LENGTH,\n",
				"    'hidden': 100,\n",
				"    'lr': 0.001,\n",
				"    'reg_lambda': 0.00,\n",
				"    'initval': \"NULL\",\n",
				"    \"keep_prob\": 0.8,\n",
				"    \"input_keep_prob\": 0.8, # This isn't used for now because of the .uniform()\n",
				"    'save': os.path.join(SAVED_MODELS, \"dae_model.pickle\")\n",
				"}\n",
				"pretrain_model = DAE(conf)\n",
				"pretrain_model.init_weight()\n",
				"pretrain_model.train()"
			]
		},
		{
			"cell_type": "code",
			"execution_count": 26,
			"metadata": {
				"id": "mNPmA2YijSO1"
			},
			"outputs": [],
			"source": [
				"pretrain_optimizer = optim.Adam(pretrain_model.d_params, lr=conf[\"lr\"])"
			]
		},
		{
			"cell_type": "code",
			"execution_count": 27,
			"metadata": {
				"colab": {
					"base_uri": "https://localhost:8080/"
				},
				"id": "5jAqv6QBEiK9",
				"outputId": "00b90915-a3b5-4f7f-ae71-b879a4719a08"
			},
			"outputs": [
				{
					"data": {
						"text/plain": [
							"device(type='cuda', index=0)"
						]
					},
					"execution_count": 27,
					"metadata": {},
					"output_type": "execute_result"
				}
			],
			"source": [
				"pretrain_model.weights['encoder_h'].device"
			]
		},
		{
			"cell_type": "code",
			"execution_count": 28,
			"metadata": {
				"id": "MeuVole7-WWC"
			},
			"outputs": [],
			"source": [
				"torch.cuda.empty_cache()"
			]
		},
		{
			"attachments": {},
			"cell_type": "markdown",
			"metadata": {
				"id": "GuqQMu_E0yaN"
			},
			"source": [
				"## Train the model"
			]
		},
		{
			"cell_type": "code",
			"execution_count": 30,
			"metadata": {
				"id": "jIg2DIDNjEKm"
			},
			"outputs": [],
			"source": [
				"min_loss = 2000\n",
				"max_prec = 0\n",
				"max_test_prec = 0\n",
				"best_params = []\n",
				"losses = []"
			]
		},
		{
			"attachments": {},
			"cell_type": "markdown",
			"metadata": {
				"id": "SFvPuc5hqirK"
			},
			"source": [
				"Pretrain with `DAE_tied`"
			]
		},
		{
			"cell_type": "code",
			"execution_count": null,
			"metadata": {
				"colab": {
					"base_uri": "https://localhost:8080/",
					"height": 49,
					"referenced_widgets": [
						"64e4b977839f493aac47007846f6bda1",
						"f5401001169545759ded275437809039",
						"ca46f9a6ebe246208cfe3786c540d14e",
						"885884b4036b4cd1bfa5f916d7fb4ee6",
						"7dd9342a0d8946bfabb66edf165f0ee9",
						"25da00f4aeec4a839060d2be54d38be3",
						"1075d147a51b40979d226a4633d5f509",
						"fc30e2e8f4574255b7fdcf2abbb71df4",
						"a38db2b6acbc49e69991c5e8afcf33a2",
						"5005e41e35e84150b470548af42bfd6a",
						"3391407c9e594ef48682310ceb6b868c"
					]
				},
				"id": "Z_BjjpshDD2H",
				"outputId": "1dddf8f6-6244-4a6c-eab7-cd803e45383e"
			},
			"outputs": [
				{
					"data": {
						"application/vnd.jupyter.widget-view+json": {
							"model_id": "64e4b977839f493aac47007846f6bda1",
							"version_major": 2,
							"version_minor": 0
						},
						"text/plain": [
							"Training model:   0%|          | 0/13333.333333333332 [00:00<?, ?it/s]"
						]
					},
					"metadata": {},
					"output_type": "display_data"
				}
			],
			"source": [
				"from tqdm.notebook import tqdm\n",
				"import random\n",
				"# os.environ[\"PYTORCH_MPS_HIGH_WATERMARK_RATIO\"] = \"0.0\"\n",
				"NUM_EPOCHS = 20\n",
				"with pytorch_merged_dataloader.make_torch_dataloader(batch_size=conf[\"batch\"], num_epochs = NUM_EPOCHS) as train_dataloader:\n",
				"    ARTIST_SHAPE = (ARTIST_VECTOR_LENGTH, )\n",
				"    SONG_SHAPE = (SONGS_VECTOR_LENGTH, )\n",
				"    for batch_idx, row in tqdm(enumerate(train_dataloader), desc=f\"Training model\", total= (NUM_PLAYLISTS / conf[\"batch\"]) * NUM_EPOCHS):\n",
				"      # Pick random input_keep_prob between 0.5 and 0.8\n",
				"      pretrain_model.input_keep_prob = random.uniform(0.5, 0.8) #TODO: make this dynamic inside the conf\n",
				"\n",
				"      padded_song_tensor = row[\"tracks_indices\"]\n",
				"      padded_artist_tensor = row[\"artists_indices\"]\n",
				"\n",
				"      song_dense = padded_tensors_to_dense_matrix(padded_song_tensor, SONG_SHAPE)\n",
				"      artist_dense = padded_tensors_to_dense_matrix(padded_artist_tensor, ARTIST_SHAPE)\n",
				"\n",
				"      song_dense = song_dense.to(device)\n",
				"      artist_dense = artist_dense.to(device)\n",
				"\n",
				"      rand_int = np.random.randint(2)\n",
				"      if rand_int == 0:\n",
				"        #Zero-out the artists\n",
				"        pretrain_optimizer.zero_grad()\n",
				"        x = torch.concat((song_dense, torch.zeros_like(artist_dense)), dim=1)\n",
				"        # x = torch.concat((song_dense, artist_dense), dim=1)\n",
				"        y = torch.concat((song_dense, artist_dense), dim=1)\n",
				"        pretrain_model(x, y)\n",
				"        loss = pretrain_model.cost\n",
				"        pretrain_model.cost.backward()\n",
				"        pretrain_optimizer.step()\n",
				"      if rand_int == 1:\n",
				"        #Zero-out the tracks\n",
				"        pretrain_optimizer.zero_grad()\n",
				"        x = torch.concat((torch.zeros_like(song_dense), artist_dense), dim=1)\n",
				"        # x = torch.concat((song_dense, artist_dense), dim=1)\n",
				"        y = torch.concat((song_dense, artist_dense), dim=1)\n",
				"        pretrain_model(x, y)\n",
				"        loss = pretrain_model.cost\n",
				"        pretrain_model.cost.backward()\n",
				"        pretrain_optimizer.step()\n",
				"\n",
				"      losses.append(loss)\n",
				"\n",
				"      if batch_idx % 50 == 0:\n",
				"        max_prec = perform_validation_step(pretrain_model, max_prec, BEST_PARAMS_PATH, save=False)\n",
				"        print(f\"Loss: {loss}\")\n",
				"        print(f\"Current max precision: {max_prec}\")"
			]
		},
		{
			"cell_type": "code",
			"execution_count": null,
			"metadata": {
				"id": "F85w_ZpmPD9t"
			},
			"outputs": [],
			"source": [
				"params = [param.cpu().detach().numpy() for param in pretrain_model.d_params]\n",
				"with open(BEST_PARAMS_PATH_2, 'wb') as f:\n",
				"  pickle.dump(params, f)"
			]
		},
		{
			"attachments": {},
			"cell_type": "markdown",
			"metadata": {
				"id": "sFOoS7eGqlrH"
			},
			"source": [
				"Train with `DAE` loading the pretrained `DAE_tied` model"
			]
		},
		{
			"cell_type": "code",
			"execution_count": null,
			"metadata": {
				"id": "IFAj48uuqlbd"
			},
			"outputs": [],
			"source": [
				"conf_train = conf.copy()\n",
				"conf_train[\"initval\"] = BEST_PARAMS_PATH\n",
				"\n",
				"dae_model = DAE(conf_train)\n",
				"dae_model.init_weight()\n",
				"optimizer = optim.Adam(dae_model.d_params, lr=conf_train['lr'])\n",
				"\n",
				"min_loss = 600\n",
				"losses = []\n",
				"best_params = []\n",
				"max_prec = 0\n",
				"FINE_TUNED_BEST_PARAMS_PATH = os.path.join(SAVED_MODELS, \"final_best_params.pickle\")"
			]
		},
		{
			"cell_type": "code",
			"execution_count": null,
			"metadata": {
				"id": "osIKMm2WCdLM"
			},
			"outputs": [],
			"source": [
				"torch.cuda.empty_cache()"
			]
		},
		{
			"cell_type": "code",
			"execution_count": null,
			"metadata": {
				"id": "gyw3SnVYyRP1"
			},
			"outputs": [],
			"source": [
				"from tqdm.notebook import tqdm\n",
				"import random\n",
				"NUM_EPOCHS = 20\n",
				"with pytorch_merged_dataloader.make_torch_dataloader(batch_size=conf[\"batch\"], num_epochs = NUM_EPOCHS) as train_dataloader:\n",
				"    ARTIST_SHAPE = (ARTIST_VECTOR_LENGTH, )\n",
				"    SONG_SHAPE = (SONGS_VECTOR_LENGTH, )\n",
				"    for batch_idx, row in tqdm(enumerate(train_dataloader), desc=f\"Training model\", total= (NUM_PLAYLISTS / conf[\"batch\"]) * NUM_EPOCHS):\n",
				"      # Pick random input_keep_prob between 0.5 and 0.8\n",
				"    #   dae_model.input_keep_prob = random.uniform(0.5, 0.8) #TODO: make this dynamic inside the conf\n",
				"\n",
				"      padded_song_tensor = row[\"tracks_indices\"]\n",
				"      padded_artist_tensor = row[\"artists_indices\"]\n",
				"\n",
				"      song_dense = padded_tensors_to_dense_matrix(padded_song_tensor, SONG_SHAPE)\n",
				"      artist_dense = padded_tensors_to_dense_matrix(padded_artist_tensor, ARTIST_SHAPE)\n",
				"\n",
				"      song_dense = song_dense.to(device)\n",
				"      artist_dense = artist_dense.to(device)\n",
				"\n",
				"      rand_int = np.random.randint(2)\n",
				"      if rand_int == 0:\n",
				"        #Zero-out the artists\n",
				"        optimizer.zero_grad()\n",
				"        x = torch.concat((song_dense, torch.zeros_like(artist_dense)), dim=1)\n",
				"        y = torch.concat((song_dense, artist_dense), dim=1)\n",
				"        dae_model(x, y)\n",
				"        loss = dae_model.cost\n",
				"        dae_model.cost.backward()\n",
				"        optimizer.step()\n",
				"      if rand_int == 1:\n",
				"        #Zero-out the tracks\n",
				"        optimizer.zero_grad()\n",
				"        x = torch.concat((torch.zeros_like(song_dense), artist_dense), dim=1)\n",
				"        y = torch.concat((song_dense, artist_dense), dim=1)\n",
				"        dae_model(x, y)\n",
				"        loss = dae_model.cost\n",
				"        dae_model.cost.backward()\n",
				"        optimizer.step()\n",
				"\n",
				"      losses.append(loss)\n",
				"\n",
				"      max_prec = perform_validation_step(dae_model, max_prec, FINE_TUNED_BEST_PARAMS_PATH, save=False)\n",
				"\n",
				"      if batch_idx % 50 == 0:\n",
				"        print(f\"Loss: {loss}\")\n",
				"        print(f\"Current max precision: {max_prec}\")"
			]
		},
		{
			"attachments": {},
			"cell_type": "markdown",
			"metadata": {
				"id": "JQL3P9JByR7Q"
			},
			"source": [
				"Let's see how the loss decreases"
			]
		},
		{
			"cell_type": "code",
			"execution_count": null,
			"metadata": {
				"id": "qF9gP0FMLdw2"
			},
			"outputs": [],
			"source": [
				"SAVE_MODEL_PATH = os.path.join(SAVED_DFS_PATH, f\"model_new.pickle\")\n",
				"params = [param.cpu().detach().numpy() for param in dae_model.d_params]\n",
				"with open(SAVE_MODEL_PATH, 'wb') as f:\n",
				"  pickle.dump(params, f)"
			]
		},
		{
			"cell_type": "code",
			"execution_count": null,
			"metadata": {
				"id": "V4JxgOCvx2TE"
			},
			"outputs": [],
			"source": [
				"import matplotlib.pyplot as plt\n",
				"x = np.arange(len(losses))\n",
				"plt.plot(x, [loss.item() for loss in losses])\n",
				"plt.xlabel('Iteration')\n",
				"plt.ylabel('Loss')\n",
				"plt.title('Loss Progression')\n",
				"plt.show()"
			]
		},
		{
			"attachments": {},
			"cell_type": "markdown",
			"metadata": {
				"id": "Zqyho9fPl0ow"
			},
			"source": [
				"# Inference"
			]
		},
		{
			"cell_type": "code",
			"execution_count": null,
			"metadata": {
				"id": "S9RFO76gK8Qb"
			},
			"outputs": [],
			"source": [
				"song_schema = StructType([\n",
				"    StructField(\"pos\", IntegerType(), True),\n",
				"    StructField(\"artist_name\", StringType(), True),\n",
				"    StructField(\"track_uri\", StringType(), True),\n",
				"    StructField(\"artist_uri\", StringType(), True),\n",
				"    StructField(\"track_name\", StringType(), True),\n",
				"    StructField(\"album_uri\", StringType(), True),\n",
				"    StructField(\"duration_ms\", LongType(), True),\n",
				"    StructField(\"album_name\", StringType(), True)\n",
				"])\n",
				"\n",
				"playlist_schema = StructType([\n",
				"    StructField(\"name\", StringType(), True),\n",
				"    StructField(\"collaborative\", StringType(), True),\n",
				"    StructField(\"pid\", IntegerType(), True),\n",
				"    StructField(\"modified_at\", IntegerType(), True),\n",
				"    StructField(\"num_tracks\", IntegerType(), True),\n",
				"    StructField(\"num_albums\", IntegerType(), True),\n",
				"    StructField(\"num_followers\", IntegerType(), True),\n",
				"    StructField(\"tracks\", ArrayType(song_schema), True),\n",
				"    StructField(\"num_edits\", IntegerType(), True),\n",
				"    StructField(\"duration_ms\", IntegerType(), True),\n",
				"    StructField(\"num_artists\", IntegerType(), True),\n",
				"])"
			]
		},
		{
			"cell_type": "code",
			"execution_count": null,
			"metadata": {
				"id": "5lgIPJo2tbUL"
			},
			"outputs": [],
			"source": [
				"SONGS_EMBEDDINGS_PATH_TEST_TRAIN = os.path.join(SAVED_DFS_PATH, f\"nn_songs_embeddings-test-train-{NUM_PLAYLISTS}.json\")\n",
				"SONGS_EMBEDDINGS_PATH_TEST_TEST = os.path.join(SAVED_DFS_PATH, f\"nn_songs_embeddings-test-test-{NUM_PLAYLISTS}.json\")\n",
				"\n",
				"ARTISTS_EMBEDDINGS_PATH_TEST_TRAIN = os.path.join(SAVED_DFS_PATH, f\"nn_artists_embeddings-test-train-{NUM_PLAYLISTS}.json\")\n",
				"ARTISTS_EMBEDDINGS_PATH_TEST_TEST = os.path.join(SAVED_DFS_PATH, f\"nn_artists_embeddings-test-test-{NUM_PLAYLISTS}.json\")\n",
				"\n",
				"songs_embeddings_test_train = spark.read.schema(playlist_schema_mapped).json(SONGS_EMBEDDINGS_PATH_TEST_TRAIN)\n",
				"songs_embeddings_test_test = spark.read.schema(playlist_schema_mapped).json(SONGS_EMBEDDINGS_PATH_TEST_TEST)\n",
				"\n",
				"artists_embeddings_test_train = spark.read.schema(playlist_schema_mapped).json(ARTISTS_EMBEDDINGS_PATH_TEST_TRAIN)\n",
				"artists_embeddings_test_test = spark.read.schema(playlist_schema_mapped).json(ARTISTS_EMBEDDINGS_PATH_TEST_TEST)\n",
				"\n",
				"TEST_TRAIN_DF_PATH = os.path.join(SAVED_DFS_PATH, f\"nn_test_df-train-{NUM_PLAYLISTS}.json\")\n",
				"TEST_TEST_DF_PATH = os.path.join(SAVED_DFS_PATH, f\"nn_test_df-test-{NUM_PLAYLISTS}.json\")\n",
				"\n",
				"test_train_df = spark.read.schema(playlist_schema).json(TEST_TRAIN_DF_PATH)\n",
				"test_test_df = spark.read.schema(playlist_schema).json(TEST_TEST_DF_PATH)"
			]
		},
		{
			"cell_type": "code",
			"execution_count": null,
			"metadata": {
				"id": "wKbyd0kRl3SH"
			},
			"outputs": [],
			"source": [
				"# def construct_prediction_df(prediction: torch.Tensor, mapping: DataFrame, top_n: int = 50) -> DataFrame:\n",
				"#   pred_np = prediction.detach().numpy()\n",
				"#   indexes = np.arange(pred_np.shape[0]) # To compensate the index start at 1\n",
				"#   schema = StructType([\n",
				"#       StructField(\"pos\", IntegerType()),\n",
				"#       StructField(\"confidence\", FloatType())\n",
				"#   ])\n",
				"#   prediction_df = spark.createDataFrame([(pos, conf) for pos, conf in zip(indexes.tolist(), pred_np.tolist())],schema)\n",
				"#   prediction_info = prediction_df.join(mapping, \"pos\")\n",
				"#   return prediction_info\n",
				"\n",
				"# # prediction_df = construct_prediction_df(prediction, songs_df_test)\n",
				"# # prediction_df.show()"
			]
		},
		{
			"cell_type": "code",
			"execution_count": null,
			"metadata": {
				"id": "bQ9LquCdSbJJ"
			},
			"outputs": [],
			"source": [
				"# def remove_existing_tracks(playlist_tracks: DataFrame, recommendations_df: DataFrame) -> DataFrame:\n",
				"#   playlist_tracks = playlist_tracks.select(\"track_uri\").cache()\n",
				"#   playlist_tracks_compatible = playlist_tracks.join(F.broadcast(recommendations_df), on=\"track_uri\")\n",
				"#   playlist_tracks.unpersist()\n",
				"#   return recommendations_df.exceptAll(F.broadcast(playlist_tracks_compatible))"
			]
		},
		{
			"attachments": {},
			"cell_type": "markdown",
			"metadata": {
				"id": "Wx-tghy0bAkU"
			},
			"source": [
				"# Evaluation"
			]
		},
		{
			"cell_type": "code",
			"execution_count": null,
			"metadata": {
				"id": "Hb793kgebBwJ"
			},
			"outputs": [],
			"source": [
				"# def precision_at_k(recommendations, ground_truth, num_of_recommendations) -> float:\n",
				"#     \"\"\"\n",
				"#     Calculates precision at k for the recommendations.\n",
				"#     \"\"\"\n",
				"#     recommended_relevant_tracks = recommendations.join(ground_truth, \"track_uri\").cache()\n",
				"#     reccomended_relevant_tracks_count = recommended_relevant_tracks.count() #this can be top_n_results.join in order to be more performant\n",
				"#     recommended_relevant_tracks.unpersist()\n",
				"#     precision = reccomended_relevant_tracks_count / float(num_of_recommendations)\n",
				"\n",
				"#     return precision\n",
				"\n",
				"\n",
				"# import math\n",
				"# def normalized_discounted_cumulative_gain(recommendations: DataFrame, ground_truth: DataFrame, num_of_recommendations: int) -> float:\n",
				"#   recommendations_list = recommendations.collect()\n",
				"#   cumulative_gain = 0\n",
				"\n",
				"#   intersection = recommendations.join(ground_truth, \"track_uri\").count()\n",
				"#   if intersection == 0: return 0\n",
				"\n",
				"#   ideal_cumulative_gain = 1 + np.array([(1 / math.log(i, 2)) for i in range(2, 2+intersection)]).sum() #TODO: replace this with sum([])\n",
				"#   for index, row in enumerate(recommendations_list):\n",
				"#     i = index + 1\n",
				"#     is_rel = ground_truth.filter(F.col(\"track_uri\").isin(row.track_uri)).count() > 0\n",
				"#     rel = 1 if is_rel else 0\n",
				"#     if i == 1:\n",
				"#       cumulative_gain += rel\n",
				"#     else:\n",
				"#       cumulative_gain += (rel / math.log(i, 2))\n",
				"#   return cumulative_gain / ideal_cumulative_gain"
			]
		},
		{
			"attachments": {},
			"cell_type": "markdown",
			"metadata": {},
			"source": [
				"Create Test Dataloader"
			]
		},
		{
			"cell_type": "code",
			"execution_count": null,
			"metadata": {},
			"outputs": [],
			"source": [
				"pytorch_songs_test_train_df = convert_sparse_to_indices(songs_embeddings_test_train.withColumnRenamed(\"tracks\", \"train_tracks\").select(\"train_tracks\", \"pid\"), column_name=\"train_tracks\")\n",
				"pytorch_artists_test_train_df = convert_sparse_to_indices(artists_embeddings_test_train.withColumnRenamed(\"tracks\", \"train_artists\").select(\"pid\", \"train_artists\"), column_name=\"train_artists\")\n",
				"songs_artists_test_train_df = pytorch_songs_test_train_df.join(pytorch_artists_test_train_df, on=\"pid\")\n",
				"\n",
				"pytorch_songs_test_test_df = convert_sparse_to_indices(songs_embeddings_test_test.withColumnRenamed(\"tracks\", \"test_tracks\").select(\"test_tracks\", \"pid\"), column_name=\"test_tracks\")\n",
				"pytorch_artists_test_test_df = convert_sparse_to_indices(artists_embeddings_test_test.withColumnRenamed(\"tracks\", \"test_artists\").select(\"pid\", \"test_artists\"), column_name=\"test_artists\")\n",
				"songs_artists_test_test_df = pytorch_songs_test_test_df.join(pytorch_artists_test_test_df, on=\"pid\")\n",
				"\n",
				"test_merged_df = songs_artists_test_train_df.join(songs_artists_test_test_df, on=\"pid\")\n",
				"\n",
				"# counter = F.udf(lambda x: len([item for item in x if item != -1]), returnType=IntegerType())\n",
				"# eval_merged_df = eval_merged_df\\\n",
				"#     .withColumn(\"train_tracks_count\", counter(F.col(\"train_tracks_indices\")))\\\n",
				"#     .withColumn(\"test_tracks_count\", counter(F.col(\"test_tracks_indices\")))\n",
				"# eval_merged_df = eval_merged_df.filter(\"train_tracks_count > 100\")\n",
				"test_merged_dataloader = make_spark_converter(test_merged_df)\n",
				"\n",
				"# eval_merged_num = eval_merged_df.count()"
			]
		},
		{
			"attachments": {},
			"cell_type": "markdown",
			"metadata": {},
			"source": [
				"Define function to perform the full evaluation"
			]
		},
		{
			"cell_type": "code",
			"execution_count": null,
			"metadata": {},
			"outputs": [],
			"source": [
				"def perform_evaluation(model: DAE_tied) -> Tuple[torch.Tensor, float, float]:\n",
				"    \"\"\"\n",
				"    Given the model, performs an evaluation on the validation set.\n",
				"    \"\"\"\n",
				"    ARTIST_SHAPE = (ARTIST_VECTOR_LENGTH, )\n",
				"    SONG_SHAPE = (SONGS_VECTOR_LENGTH, )\n",
				"    precs = []\n",
				"    tot_k = 0\n",
				"    model.eval()\n",
				"    with test_merged_dataloader.make_torch_dataloader(batch_size=10, num_epochs = 1) as test_dataloader:\n",
				"        for batch_idx, row in enumerate(test_dataloader):\n",
				"            with torch.no_grad():\n",
				"                padded_eval_song_tensor = row[\"train_tracks_indices\"]\n",
				"                padded_eval_artist_tensor = row[\"train_artists_indices\"]\n",
				"\n",
				"                song_dense = padded_tensors_to_dense_matrix(padded_eval_song_tensor, SONG_SHAPE)\n",
				"                artist_dense = padded_tensors_to_dense_matrix(padded_eval_artist_tensor, ARTIST_SHAPE)\n",
				"\n",
				"                song_dense = song_dense.to(device)\n",
				"                artist_dense = artist_dense.to(device)\n",
				"\n",
				"                del padded_eval_song_tensor\n",
				"                del padded_eval_artist_tensor\n",
				"\n",
				"                x = torch.concat((song_dense, artist_dense), dim=1)\n",
				"                y = torch.concat((song_dense, artist_dense), dim=1)\n",
				"\n",
				"                model(x, y)\n",
				"\n",
				"                eval_preds = model.y_pred[:, :SONGS_VECTOR_LENGTH]\n",
				"\n",
				"                padded_eval_song_tensor_test = row[\"test_tracks_indices\"]\n",
				"\n",
				"                ground_truth = padded_tensors_to_dense_matrix(padded_eval_song_tensor_test, SONG_SHAPE)\n",
				"\n",
				"                ground_truth = ground_truth.to(device)\n",
				"\n",
				"                prec_list = evaluate(song_dense, eval_preds, ground_truth)\n",
				"                precs.extend(prec_list)\n",
				"\n",
				"        mean_prec: float = sum(precs) / len(precs)\n",
				"        return model.cost, mean_prec"
			]
		},
		{
			"attachments": {},
			"cell_type": "markdown",
			"metadata": {
				"id": "VUYEe5iHbTHs"
			},
			"source": [
				"Creating the dataloaders for the test set"
			]
		},
		{
			"cell_type": "code",
			"execution_count": null,
			"metadata": {
				"id": "9h7NRo3Ggt3h"
			},
			"outputs": [],
			"source": [
				"conf_test = conf_train.copy()\n",
				"conf_test[\"batch\"] = 10\n",
				"conf_test[\"initval\"] = FINE_TUNED_BEST_PARAMS_PATH\n",
				"\n",
				"dae_model_test = DAE(conf_test)\n",
				"dae_model_test.init_weight()\n",
				"dae_model_test.eval()"
			]
		},
		{
			"cell_type": "code",
			"execution_count": null,
			"metadata": {
				"id": "hRZ9w5nr5TaK"
			},
			"outputs": [],
			"source": [
				"_, mean_prec = perform_evaluation(dae_model_test)"
			]
		},
		{
			"cell_type": "code",
			"execution_count": null,
			"metadata": {
				"id": "yg8V8VSSu3XI"
			},
			"outputs": [],
			"source": [
				"# torch.concat((song_dense[:, 1:], artist_dense[:, 1:]), dim=1).t().shape\n",
				"# (song_dense[:, 0] == 0.).all(), (artist_dense[:, 0] == 0.).all()"
			]
		},
		{
			"cell_type": "code",
			"execution_count": null,
			"metadata": {
				"id": "kLpygSgaMVr6"
			},
			"outputs": [],
			"source": [
				"# result = result.to(\"cpu\")\n",
				"# prediction_df = construct_prediction_df(result[10][:SONGS_VECTOR_LENGTH_TEST], songs_df_test, 20)"
			]
		},
		{
			"cell_type": "code",
			"execution_count": null,
			"metadata": {
				"id": "-uYwzqLFMjWE"
			},
			"outputs": [],
			"source": [
				"# prediction_df.orderBy(\"pos\").show(truncate=False)\n",
				"# songs_df_test.show()"
			]
		},
		{
			"cell_type": "code",
			"execution_count": null,
			"metadata": {
				"id": "-0wojIXkuFnN"
			},
			"outputs": [],
			"source": [
				"# def evaluate_batch(batch_result: torch.Tensor, batch_n: int) -> Tuple[float, float]:\n",
				"#   \"\"\"\n",
				"#   Returns the precision and NDCG for a given batch.\n",
				"#   \"\"\"\n",
				"\n",
				"#   return 0,0\n",
				"\n",
				"# def perform_evaluation(songs_dataloader, artists_dataloader, test_set):\n",
				"#   \"\"\"\n",
				"#   Returns the precision and NDCG, averaged from all the samples in the test set\n",
				"#   \"\"\"\n",
				"#   with songs_converter_test.make_torch_dataloader(num_epochs =1) as songs_dataloader:\n",
				"#     with artist_converter_test.make_torch_dataloader(num_epochs=1) as artists_dataloader:\n",
				"#       zipped_dataloaders = zip(songs_dataloader, artists_dataloader)\n",
				"#       for batch_idx, (song, artist) in tqdm(enumerate(zipped_dataloaders), desc=f\"Evaluation...\", total= (NUM_PLAYLISTS / 32) * NUM_EPOCHS):\n",
				"#         padded_song_tensor = song[\"embedding_indices\"]\n",
				"#         padded_artist_tensor = artist[\"embedding_indices\"]\n",
				"\n",
				"#         song_dense = padded_tensors_to_dense_matrix(padded_song_tensor, SONG_SHAPE)\n",
				"#         artist_dense = padded_tensors_to_dense_matrix(padded_artist_tensor, ARTIST_SHAPE)\n",
				"\n",
				"#         x = torch.concat((song_dense, artist_dense), dim=1).t()\n",
				"#         y = torch.concat((song_dense, artist_dense), dim=1).t()\n",
				"#         dae_model(x,y)\n",
				"#         batch_result = dae_model.y_pred\n",
				"#         break\n"
			]
		},
		{
			"cell_type": "code",
			"execution_count": null,
			"metadata": {
				"id": "W4LWsnwWeVAV"
			},
			"outputs": [],
			"source": [
				"# #Testing the first batch\n",
				"\n",
				"# results = []\n",
				"# # for i in tqdm(range(32)):\n",
				"# PID = 71860\n",
				"# ground_truth = test_test_df.filter(F.col(\"pid\") == PID).select(F.explode(\"tracks\")).select(\"col.*\")\n",
				"# playlist_train_songs = test_train_df.filter(F.col(\"pid\") == PID).select(F.explode(\"tracks\")).select(\"col.*\")\n",
				"\n",
				"# #Removing rare songs (that the model didn't consider)\n",
				"# #This may be not the best approach since the train songs or ground truth may become 0\n",
				"# clean_ground_truth = ground_truth.join(song_mapping, on=\"track_uri\").cache()\n",
				"# clean_playlist_train_songs = playlist_train_songs.join(song_mapping, on=\"track_uri\").cache()\n",
				"\n",
				"# # n_recommendations = ground_truth.count() or 1\n",
				"# n_recommendations = 500\n",
				"# result = result.cpu()\n",
				"\n",
				"# #The result[i] has to be aligned with the PID. i != PID.\n",
				"# prediction_df = construct_prediction_df(result[1][:SONGS_VECTOR_LENGTH], song_mapping, n_recommendations).cache()\n",
				"# clean_prediction_df = remove_existing_tracks(clean_playlist_train_songs, prediction_df)\n",
				"\n",
				"# clean_prediction_df = prediction_df.orderBy(F.col(\"confidence\").desc()).limit(n_recommendations).cache()\n",
				"\n",
				"# prec = precision_at_k(clean_prediction_df, clean_ground_truth, n_recommendations)\n",
				"# gain = normalized_discounted_cumulative_gain(clean_prediction_df, clean_ground_truth, n_recommendations)\n",
				"# print(PID, prec, gain)\n",
				"# results.append((prec, gain))\n",
				"\n",
				"# ground_truth.unpersist()\n",
				"# clean_ground_truth.unpersist()\n",
				"# playlist_train_songs.unpersist()\n",
				"# clean_playlist_train_songs.unpersist()\n",
				"# prediction_df.unpersist()\n",
				"# clean_prediction_df.unpersist()"
			]
		},
		{
			"cell_type": "code",
			"execution_count": null,
			"metadata": {
				"id": "8XUxFpPGVLf-"
			},
			"outputs": [],
			"source": [
				"# print(\"Playlist train songs\")\n",
				"# playlist_train_songs.show(truncate=False)\n",
				"# print(\"Clean playlist train songs\")\n",
				"# clean_playlist_train_songs.show(truncate=False)\n",
				"# print(\"Ground truth songs\")\n",
				"# ground_truth.show(truncate=False)\n",
				"# print(\"Clean ground truth songs\")\n",
				"# clean_ground_truth.show(truncate=False)\n",
				"# print(f\"Prediction df songs (num recommendations: {n_recommendations})\")\n",
				"# prediction_df.show(truncate=False)\n",
				"# print(f\"Clean Prediction df songs (num recommendations: {n_recommendations})\")\n",
				"# clean_prediction_df.show(truncate=False)\n",
				"# prec, gain"
			]
		},
		{
			"cell_type": "code",
			"execution_count": null,
			"metadata": {
				"id": "iN8Fk_7Jel4-"
			},
			"outputs": [],
			"source": [
				"# def average_results(results):\n",
				"#   prec_avg = sum(prec for prec, _ in results) / len(results)\n",
				"#   gain_avg = sum(gain for _, gain in results) / len(results)\n",
				"#   return prec_avg, gain_avg\n",
				"\n",
				"# average_results(results)"
			]
		}
	],
	"metadata": {
		"accelerator": "GPU",
		"colab": {
			"collapsed_sections": [
				"XvQ6e0PgCOZg"
			],
			"gpuType": "T4",
			"machine_shape": "hm",
			"provenance": [],
			"toc_visible": true
		},
		"kernelspec": {
			"display_name": "Python 3",
			"name": "python3"
		},
		"language_info": {
			"codemirror_mode": {
				"name": "ipython",
				"version": 3
			},
			"file_extension": ".py",
			"mimetype": "text/x-python",
			"name": "python",
			"nbconvert_exporter": "python",
			"pygments_lexer": "ipython3",
			"version": "3.10.9"
		},
		"widgets": {
			"application/vnd.jupyter.widget-state+json": {
				"1075d147a51b40979d226a4633d5f509": {
					"model_module": "@jupyter-widgets/controls",
					"model_module_version": "1.5.0",
					"model_name": "DescriptionStyleModel",
					"state": {
						"_model_module": "@jupyter-widgets/controls",
						"_model_module_version": "1.5.0",
						"_model_name": "DescriptionStyleModel",
						"_view_count": null,
						"_view_module": "@jupyter-widgets/base",
						"_view_module_version": "1.2.0",
						"_view_name": "StyleView",
						"description_width": ""
					}
				},
				"25da00f4aeec4a839060d2be54d38be3": {
					"model_module": "@jupyter-widgets/base",
					"model_module_version": "1.2.0",
					"model_name": "LayoutModel",
					"state": {
						"_model_module": "@jupyter-widgets/base",
						"_model_module_version": "1.2.0",
						"_model_name": "LayoutModel",
						"_view_count": null,
						"_view_module": "@jupyter-widgets/base",
						"_view_module_version": "1.2.0",
						"_view_name": "LayoutView",
						"align_content": null,
						"align_items": null,
						"align_self": null,
						"border": null,
						"bottom": null,
						"display": null,
						"flex": null,
						"flex_flow": null,
						"grid_area": null,
						"grid_auto_columns": null,
						"grid_auto_flow": null,
						"grid_auto_rows": null,
						"grid_column": null,
						"grid_gap": null,
						"grid_row": null,
						"grid_template_areas": null,
						"grid_template_columns": null,
						"grid_template_rows": null,
						"height": null,
						"justify_content": null,
						"justify_items": null,
						"left": null,
						"margin": null,
						"max_height": null,
						"max_width": null,
						"min_height": null,
						"min_width": null,
						"object_fit": null,
						"object_position": null,
						"order": null,
						"overflow": null,
						"overflow_x": null,
						"overflow_y": null,
						"padding": null,
						"right": null,
						"top": null,
						"visibility": null,
						"width": null
					}
				},
				"3391407c9e594ef48682310ceb6b868c": {
					"model_module": "@jupyter-widgets/controls",
					"model_module_version": "1.5.0",
					"model_name": "DescriptionStyleModel",
					"state": {
						"_model_module": "@jupyter-widgets/controls",
						"_model_module_version": "1.5.0",
						"_model_name": "DescriptionStyleModel",
						"_view_count": null,
						"_view_module": "@jupyter-widgets/base",
						"_view_module_version": "1.2.0",
						"_view_name": "StyleView",
						"description_width": ""
					}
				},
				"5005e41e35e84150b470548af42bfd6a": {
					"model_module": "@jupyter-widgets/base",
					"model_module_version": "1.2.0",
					"model_name": "LayoutModel",
					"state": {
						"_model_module": "@jupyter-widgets/base",
						"_model_module_version": "1.2.0",
						"_model_name": "LayoutModel",
						"_view_count": null,
						"_view_module": "@jupyter-widgets/base",
						"_view_module_version": "1.2.0",
						"_view_name": "LayoutView",
						"align_content": null,
						"align_items": null,
						"align_self": null,
						"border": null,
						"bottom": null,
						"display": null,
						"flex": null,
						"flex_flow": null,
						"grid_area": null,
						"grid_auto_columns": null,
						"grid_auto_flow": null,
						"grid_auto_rows": null,
						"grid_column": null,
						"grid_gap": null,
						"grid_row": null,
						"grid_template_areas": null,
						"grid_template_columns": null,
						"grid_template_rows": null,
						"height": null,
						"justify_content": null,
						"justify_items": null,
						"left": null,
						"margin": null,
						"max_height": null,
						"max_width": null,
						"min_height": null,
						"min_width": null,
						"object_fit": null,
						"object_position": null,
						"order": null,
						"overflow": null,
						"overflow_x": null,
						"overflow_y": null,
						"padding": null,
						"right": null,
						"top": null,
						"visibility": null,
						"width": null
					}
				},
				"64e4b977839f493aac47007846f6bda1": {
					"model_module": "@jupyter-widgets/controls",
					"model_module_version": "1.5.0",
					"model_name": "HBoxModel",
					"state": {
						"_dom_classes": [],
						"_model_module": "@jupyter-widgets/controls",
						"_model_module_version": "1.5.0",
						"_model_name": "HBoxModel",
						"_view_count": null,
						"_view_module": "@jupyter-widgets/controls",
						"_view_module_version": "1.5.0",
						"_view_name": "HBoxView",
						"box_style": "",
						"children": [
							"IPY_MODEL_f5401001169545759ded275437809039",
							"IPY_MODEL_ca46f9a6ebe246208cfe3786c540d14e",
							"IPY_MODEL_885884b4036b4cd1bfa5f916d7fb4ee6"
						],
						"layout": "IPY_MODEL_7dd9342a0d8946bfabb66edf165f0ee9"
					}
				},
				"7dd9342a0d8946bfabb66edf165f0ee9": {
					"model_module": "@jupyter-widgets/base",
					"model_module_version": "1.2.0",
					"model_name": "LayoutModel",
					"state": {
						"_model_module": "@jupyter-widgets/base",
						"_model_module_version": "1.2.0",
						"_model_name": "LayoutModel",
						"_view_count": null,
						"_view_module": "@jupyter-widgets/base",
						"_view_module_version": "1.2.0",
						"_view_name": "LayoutView",
						"align_content": null,
						"align_items": null,
						"align_self": null,
						"border": null,
						"bottom": null,
						"display": null,
						"flex": null,
						"flex_flow": null,
						"grid_area": null,
						"grid_auto_columns": null,
						"grid_auto_flow": null,
						"grid_auto_rows": null,
						"grid_column": null,
						"grid_gap": null,
						"grid_row": null,
						"grid_template_areas": null,
						"grid_template_columns": null,
						"grid_template_rows": null,
						"height": null,
						"justify_content": null,
						"justify_items": null,
						"left": null,
						"margin": null,
						"max_height": null,
						"max_width": null,
						"min_height": null,
						"min_width": null,
						"object_fit": null,
						"object_position": null,
						"order": null,
						"overflow": null,
						"overflow_x": null,
						"overflow_y": null,
						"padding": null,
						"right": null,
						"top": null,
						"visibility": null,
						"width": null
					}
				},
				"885884b4036b4cd1bfa5f916d7fb4ee6": {
					"model_module": "@jupyter-widgets/controls",
					"model_module_version": "1.5.0",
					"model_name": "HTMLModel",
					"state": {
						"_dom_classes": [],
						"_model_module": "@jupyter-widgets/controls",
						"_model_module_version": "1.5.0",
						"_model_name": "HTMLModel",
						"_view_count": null,
						"_view_module": "@jupyter-widgets/controls",
						"_view_module_version": "1.5.0",
						"_view_name": "HTMLView",
						"description": "",
						"description_tooltip": null,
						"layout": "IPY_MODEL_5005e41e35e84150b470548af42bfd6a",
						"placeholder": "​",
						"style": "IPY_MODEL_3391407c9e594ef48682310ceb6b868c",
						"value": " 0/13333.333333333332 [00:00&lt;?, ?it/s]"
					}
				},
				"a38db2b6acbc49e69991c5e8afcf33a2": {
					"model_module": "@jupyter-widgets/controls",
					"model_module_version": "1.5.0",
					"model_name": "ProgressStyleModel",
					"state": {
						"_model_module": "@jupyter-widgets/controls",
						"_model_module_version": "1.5.0",
						"_model_name": "ProgressStyleModel",
						"_view_count": null,
						"_view_module": "@jupyter-widgets/base",
						"_view_module_version": "1.2.0",
						"_view_name": "StyleView",
						"bar_color": null,
						"description_width": ""
					}
				},
				"ca46f9a6ebe246208cfe3786c540d14e": {
					"model_module": "@jupyter-widgets/controls",
					"model_module_version": "1.5.0",
					"model_name": "FloatProgressModel",
					"state": {
						"_dom_classes": [],
						"_model_module": "@jupyter-widgets/controls",
						"_model_module_version": "1.5.0",
						"_model_name": "FloatProgressModel",
						"_view_count": null,
						"_view_module": "@jupyter-widgets/controls",
						"_view_module_version": "1.5.0",
						"_view_name": "ProgressView",
						"bar_style": "",
						"description": "",
						"description_tooltip": null,
						"layout": "IPY_MODEL_fc30e2e8f4574255b7fdcf2abbb71df4",
						"max": 13333.333333333332,
						"min": 0,
						"orientation": "horizontal",
						"style": "IPY_MODEL_a38db2b6acbc49e69991c5e8afcf33a2",
						"value": 0
					}
				},
				"f5401001169545759ded275437809039": {
					"model_module": "@jupyter-widgets/controls",
					"model_module_version": "1.5.0",
					"model_name": "HTMLModel",
					"state": {
						"_dom_classes": [],
						"_model_module": "@jupyter-widgets/controls",
						"_model_module_version": "1.5.0",
						"_model_name": "HTMLModel",
						"_view_count": null,
						"_view_module": "@jupyter-widgets/controls",
						"_view_module_version": "1.5.0",
						"_view_name": "HTMLView",
						"description": "",
						"description_tooltip": null,
						"layout": "IPY_MODEL_25da00f4aeec4a839060d2be54d38be3",
						"placeholder": "​",
						"style": "IPY_MODEL_1075d147a51b40979d226a4633d5f509",
						"value": "Training model:   0%"
					}
				},
				"fc30e2e8f4574255b7fdcf2abbb71df4": {
					"model_module": "@jupyter-widgets/base",
					"model_module_version": "1.2.0",
					"model_name": "LayoutModel",
					"state": {
						"_model_module": "@jupyter-widgets/base",
						"_model_module_version": "1.2.0",
						"_model_name": "LayoutModel",
						"_view_count": null,
						"_view_module": "@jupyter-widgets/base",
						"_view_module_version": "1.2.0",
						"_view_name": "LayoutView",
						"align_content": null,
						"align_items": null,
						"align_self": null,
						"border": null,
						"bottom": null,
						"display": null,
						"flex": null,
						"flex_flow": null,
						"grid_area": null,
						"grid_auto_columns": null,
						"grid_auto_flow": null,
						"grid_auto_rows": null,
						"grid_column": null,
						"grid_gap": null,
						"grid_row": null,
						"grid_template_areas": null,
						"grid_template_columns": null,
						"grid_template_rows": null,
						"height": null,
						"justify_content": null,
						"justify_items": null,
						"left": null,
						"margin": null,
						"max_height": null,
						"max_width": null,
						"min_height": null,
						"min_width": null,
						"object_fit": null,
						"object_position": null,
						"order": null,
						"overflow": null,
						"overflow_x": null,
						"overflow_y": null,
						"padding": null,
						"right": null,
						"top": null,
						"visibility": null,
						"width": null
					}
				}
			}
		}
	},
	"nbformat": 4,
	"nbformat_minor": 0
}
