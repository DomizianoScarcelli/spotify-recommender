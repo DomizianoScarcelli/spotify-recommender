{
  "cells": [
    {
      "attachments": {},
      "cell_type": "markdown",
      "metadata": {
        "colab_type": "text",
        "id": "view-in-github"
      },
      "source": [
        "<a href=\"https://colab.research.google.com/github/DomizianoScarcelli/big-data-project/blob/dev/NN_recommender.ipynb\" target=\"_parent\"><img src=\"https://colab.research.google.com/assets/colab-badge.svg\" alt=\"Open In Colab\"/></a>"
      ]
    },
    {
      "attachments": {},
      "cell_type": "markdown",
      "metadata": {
        "id": "XvQ6e0PgCOZg"
      },
      "source": [
        "### Install dependencies"
      ]
    },
    {
      "cell_type": "code",
      "execution_count": 1,
      "metadata": {},
      "outputs": [],
      "source": [
        "import os\n",
        "def is_running_on_colab():\n",
        "    return \"COLAB_GPU\" in os.environ\n",
        "\n",
        "LOCAL = not is_running_on_colab()"
      ]
    },
    {
      "cell_type": "code",
      "execution_count": 2,
      "metadata": {
        "colab": {
          "background_save": true
        },
        "id": "bjPz4xH4WFYB",
        "outputId": "42c169d8-dd98-4d5b-ce88-cd35f1b7ca4c"
      },
      "outputs": [],
      "source": [
        "if not LOCAL:\n",
        "    !pip install petastorm -qq\n",
        "    !pip install pyspark -qq\n",
        "    !pip install -U -q PyDrive -qq\n",
        "    !apt install openjdk-8-jdk-headless -qq"
      ]
    },
    {
      "cell_type": "code",
      "execution_count": 3,
      "metadata": {
        "cellView": "form",
        "colab": {
          "background_save": true
        },
        "id": "oozTtW3om3Ab"
      },
      "outputs": [],
      "source": [
        "#@title Imports\n",
        "import requests\n",
        "import pandas as pd\n",
        "import numpy as np\n",
        "import matplotlib.pyplot as plt\n",
        "%matplotlib inline\n",
        "import plotly\n",
        "\n",
        "import pyspark\n",
        "import pyspark.sql.functions as F\n",
        "from pyspark.sql import SparkSession, DataFrame, Row\n",
        "from pyspark.sql.types import StructType, StructField, StringType, IntegerType, ArrayType, FloatType, LongType\n",
        "from pyspark import SparkContext, SparkConf\n",
        "from pyspark.ml.linalg import SparseVector, DenseVector, VectorUDT\n",
        "\n",
        "from tqdm.notebook import tqdm\n",
        "import time\n",
        "import gc\n",
        "\n",
        "if not LOCAL:\n",
        "    from google.colab import drive\n",
        "\n",
        "from typing import Tuple\n",
        "from functools import reduce\n",
        "import pickle\n",
        "import torch\n",
        "from petastorm import make_batch_reader\n",
        "from petastorm.pytorch import DataLoader"
      ]
    },
    {
      "cell_type": "code",
      "execution_count": 4,
      "metadata": {},
      "outputs": [],
      "source": [
        "if not LOCAL:\n",
        "    drive.mount(GDRIVE_DIR, force_remount=True)"
      ]
    },
    {
      "cell_type": "code",
      "execution_count": 5,
      "metadata": {
        "colab": {
          "background_save": true
        },
        "id": "XG5sA53iP9z0"
      },
      "outputs": [],
      "source": [
        "#@title Set up variables\n",
        "if not LOCAL:\n",
        "    JAVA_HOME = \"/usr/lib/jvm/java-8-openjdk-amd64\"\n",
        "    GDRIVE_DIR = \"/content/drive\"\n",
        "    GDRIVE_HOME_DIR = GDRIVE_DIR + \"/MyDrive\"\n",
        "    GDRIVE_DATA_DIR = GDRIVE_HOME_DIR + \"/Big Data/datasets\"\n",
        "    DATASET_FILE = os.path.join(GDRIVE_DATA_DIR, \"pyspark_friendly_spotify_playlist_dataset\")\n",
        "    AUDIO_FEATURES_FILE = os.path.join(GDRIVE_DATA_DIR, \"pyspark_track_features\")\n",
        "    LITTLE_SLICE_FILE = os.path.join(GDRIVE_DATA_DIR, \"little_slice\")\n",
        "    SMALL_SLICE_FLIE = os.path.join(GDRIVE_DATA_DIR, \"small_slice\")\n",
        "    LITTLE_SLICE_AUDIO_FEATURES = os.path.join(GDRIVE_DATA_DIR, \"little_slice_audio_features\")\n",
        "    MICRO_SLICE_AUDIO_FEATURES = os.path.join(GDRIVE_DATA_DIR, \"micro_slice_audio_features\")\n",
        "    SPLITTED_SLICE_AUDIO_FEATURES = os.path.join(GDRIVE_DATA_DIR, \"splitted_pyspark_track_features\")\n",
        "    SAVED_DFS_PATH = os.path.join(GDRIVE_DATA_DIR, \"saved_dfs\")\n",
        "    SAVED_MODELS = os.path.join(GDRIVE_DATA_DIR, \"saved_models\")\n",
        "else:\n",
        "    GDRIVE_DATA_DIR = os.path.abspath(\"./data\")\n",
        "    SAVED_DFS_PATH = os.path.join(GDRIVE_DATA_DIR, \"saved_dfs\")\n",
        "    SAVED_MODELS = os.path.join(GDRIVE_DATA_DIR, \"saved_models\")\n",
        "    JAVA_HOME = \"/opt/homebrew/opt/openjdk\"\n",
        "RANDOM_SEED = 42 # for reproducibility\n",
        "os.environ[\"JAVA_HOME\"] = JAVA_HOME\n",
        "os.environ[\"PYSPARK_PYTHON\"]=\"python\""
      ]
    },
    {
      "cell_type": "code",
      "execution_count": 6,
      "metadata": {
        "cellView": "form",
        "id": "4m7VztzdZgm6"
      },
      "outputs": [
        {
          "name": "stderr",
          "output_type": "stream",
          "text": [
            "23/06/15 14:30:19 WARN Utils: Your hostname, MacBook-Air-di-Domiziano.local resolves to a loopback address: 127.0.0.1; using 192.168.1.175 instead (on interface en0)\n",
            "23/06/15 14:30:20 WARN Utils: Set SPARK_LOCAL_IP if you need to bind to another address\n",
            "Setting default log level to \"WARN\".\n",
            "To adjust logging level use sc.setLogLevel(newLevel). For SparkR, use setLogLevel(newLevel).\n",
            "23/06/15 14:30:20 WARN NativeCodeLoader: Unable to load native-hadoop library for your platform... using builtin-java classes where applicable\n"
          ]
        }
      ],
      "source": [
        "#@title Create the session\n",
        "config = SparkConf().\\\n",
        "                set('spark.ui.port', \"4050\").\\\n",
        "                set('spark.executor.memory', '12G').\\\n",
        "                set('spark.driver.memory', '12G').\\\n",
        "                set('spark.driver.maxResultSize', '100G').\\\n",
        "                set(\"spark.executor.extraJavaOptions\", \"-XX:+UseG1GC\").\\\n",
        "                setAppName(\"PySparkTutorial\").\\\n",
        "                setMaster(\"local[*]\")\n",
        "\n",
        "# Create the context\n",
        "sc = pyspark.SparkContext(conf=config)"
      ]
    },
    {
      "cell_type": "code",
      "execution_count": 7,
      "metadata": {},
      "outputs": [],
      "source": [
        "spark = SparkSession.builder.getOrCreate()"
      ]
    },
    {
      "attachments": {},
      "cell_type": "markdown",
      "metadata": {
        "id": "VJeY9PpvaHUJ"
      },
      "source": [
        "# Data acquisition"
      ]
    },
    {
      "cell_type": "code",
      "execution_count": 8,
      "metadata": {
        "id": "icd2lj-RRvhU"
      },
      "outputs": [],
      "source": [
        "playlist_schema_mapped = StructType([\n",
        "    StructField(\"name\", StringType(), True),\n",
        "    StructField(\"collaborative\", StringType(), True),\n",
        "    StructField(\"pid\", IntegerType(), True),\n",
        "    StructField(\"modified_at\", IntegerType(), True),\n",
        "    StructField(\"num_tracks\", IntegerType(), True),\n",
        "    StructField(\"num_albums\", IntegerType(), True),\n",
        "    StructField(\"num_followers\", IntegerType(), True),\n",
        "    StructField(\"tracks\", VectorUDT(), True),\n",
        "    StructField(\"num_edits\", IntegerType(), True),\n",
        "    StructField(\"duration_ms\", IntegerType(), True),\n",
        "    StructField(\"num_artists\", IntegerType(), True),\n",
        "])\n"
      ]
    },
    {
      "cell_type": "code",
      "execution_count": 9,
      "metadata": {
        "id": "JAu9mQsxTxHj"
      },
      "outputs": [],
      "source": [
        "import warnings\n",
        "warnings.filterwarnings('ignore')"
      ]
    },
    {
      "cell_type": "code",
      "execution_count": 10,
      "metadata": {
        "id": "fGgc9DHjT09S"
      },
      "outputs": [],
      "source": [
        "NUM_PLAYLISTS = 100_000\n",
        "SONGS_EMBEDDINGS_PATH = os.path.join(SAVED_DFS_PATH, f\"nn_songs_embeddings-train-{NUM_PLAYLISTS}.json\")\n",
        "SONGS_INFO_DF_PATH = os.path.join(SAVED_DFS_PATH, f\"nn_songs_info_df-{NUM_PLAYLISTS}.json\")\n",
        "SONGS_VECTOR_LENGTH_PATH = os.path.join(SAVED_DFS_PATH, f\"nn_songs_vector_length-{NUM_PLAYLISTS}.txt\")\n",
        "\n",
        "ARTIST_VECTOR_LENGTH_PATH = os.path.join(SAVED_DFS_PATH, f\"nn_artist_vector_length-{NUM_PLAYLISTS}.txt\")\n",
        "ARTISTS_EMBEDDINGS_PATH = os.path.join(SAVED_DFS_PATH, f\"nn_artists_embeddings-train-{NUM_PLAYLISTS}.json\")"
      ]
    },
    {
      "cell_type": "code",
      "execution_count": 11,
      "metadata": {},
      "outputs": [],
      "source": [
        "# The DF used for train (80% of the original) (playlist are different)\n",
        "TRAIN_DF_PATH = os.path.join(SAVED_DFS_PATH, f\"train_df-{NUM_PLAYLISTS}.json\")\n",
        "# The DF used for testing (20% of the original) (playlist are different)\n",
        "TEST_DF_PATH = os.path.join(SAVED_DFS_PATH, f\"test_df-{NUM_PLAYLISTS}.json\")\n",
        "\n",
        "# The DF used for train in the NN model (can be filtered or not)\n",
        "NN_TRAIN_DF_PATH = os.path.join(SAVED_DFS_PATH, f\"nn_train_df-{NUM_PLAYLISTS}.json\")\n",
        "# The DF used for testing in the NN model (can be filtered or not)\n",
        "NN_TEST_DF_PATH = os.path.join(SAVED_DFS_PATH, f\"nn_test_df-{NUM_PLAYLISTS}.json\")\n",
        "# The partition in train test of the NN test set. (Same playlists, different songs)\n",
        "NN_TEST_DF_TRAIN_PATH = os.path.join(SAVED_DFS_PATH, f\"nn_test_df-train-{NUM_PLAYLISTS}.json\")\n",
        "NN_TEST_DF_TEST_PATH = os.path.join(SAVED_DFS_PATH, f\"nn_test_df-test-{NUM_PLAYLISTS}.json\")\n",
        "\n",
        "NN_EVAL_PATH = os.path.join(SAVED_DFS_PATH, f\"nn_eval_df-{NUM_PLAYLISTS}.json\")\n",
        "NN_EVAL_TRAIN_PATH = os.path.join(SAVED_DFS_PATH, f\"nn_eval_df-train-{NUM_PLAYLISTS}.json\")\n",
        "NN_EVAL_TEST_PATH = os.path.join(SAVED_DFS_PATH, f\"nn_eval_df-test-{NUM_PLAYLISTS}.json\")\n",
        "# New one:\n",
        "ARTISTS_EMBEDDINGS_TRAIN = os.path.join(SAVED_DFS_PATH, f\"nn_artists_embeddings-train-{NUM_PLAYLISTS}.json\")\n",
        "ARTISTS_EMBEDDINGS_TEST_TRAIN = os.path.join(SAVED_DFS_PATH, f\"nn_artists_embeddings-test-train-{NUM_PLAYLISTS}.json\")\n",
        "ARTISTS_EMBEDDINGS_TEST_TEST = os.path.join(SAVED_DFS_PATH, f\"nn_artists_embeddings-test-test{NUM_PLAYLISTS}.json\")\n",
        "\n",
        "ARTISTS_EMBEDDINGS_EVAL = os.path.join(SAVED_DFS_PATH, f\"nn_artists_embeddings-eval-{NUM_PLAYLISTS}.json\")\n",
        "ARTISTS_EMBEDDINGS_EVAL_TRAIN = os.path.join(SAVED_DFS_PATH, f\"nn_artists_embeddings-eval-train-{NUM_PLAYLISTS}.json\")\n",
        "ARTISTS_EMBEDDINGS_EVAL_TEST = os.path.join(SAVED_DFS_PATH, f\"nn_artists_embeddings-eval-test{NUM_PLAYLISTS}.json\")\n",
        "\n",
        "# The length of the artist vector length (Artist vectors are only used in the NN model)\n",
        "ARTIST_VECTOR_LENGTH_PATH = os.path.join(SAVED_DFS_PATH, f\"nn_artist_vector_length-{NUM_PLAYLISTS}.txt\")\n",
        "\n",
        "SONGS_VECTOR_LENGTH_PATH = os.path.join(SAVED_DFS_PATH, f\"songs_vector_length-{NUM_PLAYLISTS}.txt\")\n",
        "# This may be filtered or not\n",
        "FILTERED_SONGS_VECTOR_LENGTH_PATH = os.path.join(SAVED_DFS_PATH, f\"nn_songs_vector_length-{NUM_PLAYLISTS}.txt\")\n",
        "\n",
        "SONGS_EMBEDDINGS_TRAIN = os.path.join(SAVED_DFS_PATH, f\"songs_embeddings-train-{NUM_PLAYLISTS}.json\")\n",
        "SONGS_EMBEDDINGS_TEST = os.path.join(SAVED_DFS_PATH, f\"songs_embeddings-test-{NUM_PLAYLISTS}.json\")\n",
        "\n",
        "NN_SONGS_EMBEDDINGS_TRAIN = os.path.join(SAVED_DFS_PATH, f\"nn_songs_embeddings-train-{NUM_PLAYLISTS}.json\")\n",
        "NN_SONGS_EMBEDDINGS_TEST_TRAIN = os.path.join(SAVED_DFS_PATH, f\"nn_songs_embeddings-test-train-{NUM_PLAYLISTS}.json\")\n",
        "NN_SONGS_EMBEDDINGS_TEST_TEST = os.path.join(SAVED_DFS_PATH, f\"nn_songs_embeddings-test-test-{NUM_PLAYLISTS}.json\")\n",
        "\n",
        "NN_SONGS_EMBEDDINGS_EVAL = os.path.join(SAVED_DFS_PATH, f\"nn_songs_embeddings-eval-{NUM_PLAYLISTS}.json\") #TODO: The logic to produce this still has to be coded.\n",
        "NN_SONGS_EMBEDDINGS_EVAL_TRAIN = os.path.join(SAVED_DFS_PATH, f\"nn_songs_embeddings-eval-train-{NUM_PLAYLISTS}.json\")\n",
        "NN_SONGS_EMBEDDINGS_EVAL_TEST = os.path.join(SAVED_DFS_PATH, f\"nn_songs_embeddings-eval-test-{NUM_PLAYLISTS}.json\")\n",
        "\n",
        "SONGS_INFO_DF = os.path.join(SAVED_DFS_PATH, f\"songs_info_df-{NUM_PLAYLISTS}.json\")\n",
        "FILTERED_SONGS_INFO_DF = os.path.join(SAVED_DFS_PATH, f\"nn_songs_info_df-{NUM_PLAYLISTS}.json\")"
      ]
    },
    {
      "cell_type": "code",
      "execution_count": 12,
      "metadata": {
        "id": "lo8gbiN1U1XJ"
      },
      "outputs": [
        {
          "name": "stderr",
          "output_type": "stream",
          "text": [
            "                                                                                \r"
          ]
        }
      ],
      "source": [
        "songs_embeddings = spark.read.schema(playlist_schema_mapped).json(SONGS_EMBEDDINGS_PATH)\n",
        "artists_embeddings = spark.read.schema(playlist_schema_mapped).json(ARTISTS_EMBEDDINGS_PATH)\n",
        "song_mapping = spark.read.json(SONGS_INFO_DF_PATH)\n",
        "\n",
        "songs_embeddings_eval_train = spark.read.schema(playlist_schema_mapped).json(NN_SONGS_EMBEDDINGS_EVAL_TRAIN)\n",
        "songs_embeddings_eval_test = spark.read.schema(playlist_schema_mapped).json(NN_SONGS_EMBEDDINGS_EVAL_TEST)\n",
        "\n",
        "artists_embeddings_eval_train = spark.read.schema(playlist_schema_mapped).json(ARTISTS_EMBEDDINGS_EVAL_TRAIN)\n",
        "artists_embeddings_eval_test = spark.read.schema(playlist_schema_mapped).json(ARTISTS_EMBEDDINGS_EVAL_TEST)\n",
        "\n",
        "with open(ARTIST_VECTOR_LENGTH_PATH, \"r\") as f:\n",
        "  content = f.read()\n",
        "  ARTIST_VECTOR_LENGTH = int(content) + 1\n",
        "with open(SONGS_VECTOR_LENGTH_PATH, \"r\") as f:\n",
        "  content = f.read()\n",
        "  SONGS_VECTOR_LENGTH = int(content) + 1"
      ]
    },
    {
      "cell_type": "code",
      "execution_count": 13,
      "metadata": {
        "colab": {
          "base_uri": "https://localhost:8080/"
        },
        "id": "BY_szFyLTps4",
        "outputId": "764c5d24-4a9f-44d6-e349-6a2bca3bb948"
      },
      "outputs": [
        {
          "name": "stdout",
          "output_type": "stream",
          "text": [
            "+-------------------+-------------+-----+-----------+----------+----------+-------------+--------------------+---------+-----------+-----------+\n",
            "|               name|collaborative|  pid|modified_at|num_tracks|num_albums|num_followers|              tracks|num_edits|duration_ms|num_artists|\n",
            "+-------------------+-------------+-----+-----------+----------+----------+-------------+--------------------+---------+-----------+-----------+\n",
            "|              Alone|        false|20080| 1496880000|        50|        48|            1|(681806,[4875,543...|       19|   11128916|         42|\n",
            "|       Country Hits|        false|14258| 1504828800|       130|        77|            1|(681806,[4,1667,1...|       61|   28245005|         44|\n",
            "|              Peter|        false|14812| 1446595200|        65|        56|            1|(681806,[214,541,...|       15|   14212644|         47|\n",
            "|          Rock.....|        false| 1938| 1500163200|        57|        39|            1|(681806,[2909,350...|        5|   16766883|         19|\n",
            "|               punk|        false| 1180| 1504483200|        67|        45|            1|(681806,[62,3299,...|       21|   15393647|         26|\n",
            "|#CODGhosts Playlist|        false|14362| 1382918400|        50|        50|            1|(681806,[1566,301...|        2|   13601217|         50|\n",
            "|             #Dance|        false|14103| 1463961600|        33|        28|            1|(681806,[390,7337...|       12|    6901015|         24|\n",
            "|      #boostyourrun|        false|14325| 1425686400|        21|        21|            1|(681806,[498,1342...|        2|    5002212|         20|\n",
            "|      #boostyourrun|        false|20976| 1399075200|        21|        21|            1|(681806,[4482,918...|        2|    5400100|         19|\n",
            "|      #boostyourrun|        false|78200| 1402704000|        22|        22|            1|(681806,[108940,1...|        2|    5825915|         21|\n",
            "|           #college|        false|78334| 1490400000|        21|        19|            2|(681806,[23984,82...|        4|    5068086|         18|\n",
            "|               #tbt|        false| 1168| 1436832000|        29|        22|            1|(681806,[3586,463...|        2|    6829177|         15|\n",
            "|             $andy$|        false|78110| 1457395200|       117|        63|            1|(681806,[1679,326...|       14|   28982414|         40|\n",
            "|                '17|        false|20507| 1505433600|        38|        31|            2|(681806,[1123,489...|       31|    8051141|         30|\n",
            "|                '17|        false|78571| 1509235200|        34|        29|            1|(681806,[83360,87...|       16|    7500239|         26|\n",
            "|            'Merica|        false|78912| 1499126400|       241|       237|            1|(681806,[14,609,7...|        6|   57441819|        217|\n",
            "|           'merica |        false|78916| 1499990400|        67|        45|            1|(681806,[1667,206...|       21|   14868475|         35|\n",
            "|   **That New New**|        false|14379| 1432771200|        63|        52|            1|(681806,[271,2072...|       21|   14353567|         47|\n",
            "|           *HANNAH*|        false|20194| 1506211200|        84|        22|            1|(681806,[27516,58...|        5|   11964693|          6|\n",
            "|             *sigh*|        false|14217| 1509321600|       154|       101|            4|(681806,[115,633,...|       25|   38055908|         64|\n",
            "+-------------------+-------------+-----+-----------+----------+----------+-------------+--------------------+---------+-----------+-----------+\n",
            "only showing top 20 rows\n",
            "\n",
            "+-------------------+-------------+-----+-----------+----------+----------+-------------+--------------------+---------+-----------+-----------+\n",
            "|               name|collaborative|  pid|modified_at|num_tracks|num_albums|num_followers|              tracks|num_edits|duration_ms|num_artists|\n",
            "+-------------------+-------------+-----+-----------+----------+----------+-------------+--------------------+---------+-----------+-----------+\n",
            "|              Alone|        false|20080| 1496880000|        50|        48|            1|(110064,[393,589,...|       19|   11128916|         42|\n",
            "|       Country Hits|        false|14258| 1504828800|       130|        77|            1|(110064,[2,850,10...|       61|   28245005|         44|\n",
            "|              Peter|        false|14812| 1446595200|        65|        56|            1|(110064,[4,194,19...|       15|   14212644|         47|\n",
            "|          Rock.....|        false| 1938| 1500163200|        57|        39|            1|(110064,[1263,137...|        5|   16766883|         19|\n",
            "|               punk|        false| 1180| 1504483200|        67|        45|            1|(110064,[199,313,...|       21|   15393647|         26|\n",
            "|#CODGhosts Playlist|        false|14362| 1382918400|        50|        50|            1|(110064,[1071,140...|        2|   13601217|         50|\n",
            "|             #Dance|        false|14103| 1463961600|        33|        28|            1|(110064,[106,108,...|       12|    6901015|         24|\n",
            "|      #boostyourrun|        false|14325| 1425686400|        21|        21|            1|(110064,[10644,13...|        2|    5002212|         20|\n",
            "|      #boostyourrun|        false|20976| 1399075200|        21|        21|            1|(110064,[1041,197...|        2|    5400100|         19|\n",
            "|      #boostyourrun|        false|78200| 1402704000|        22|        22|            1|(110064,[8081,147...|        2|    5825915|         21|\n",
            "|           #college|        false|78334| 1490400000|        21|        19|            2|(110064,[193,1470...|        4|    5068086|         18|\n",
            "|               #tbt|        false| 1168| 1436832000|        29|        22|            1|(110064,[1968,213...|        2|    6829177|         15|\n",
            "|             $andy$|        false|78110| 1457395200|       117|        63|            1|(110064,[101,971,...|       14|   28982414|         40|\n",
            "|                '17|        false|20507| 1505433600|        38|        31|            2|(110064,[485,858,...|       31|    8051141|         30|\n",
            "|                '17|        false|78571| 1509235200|        34|        29|            1|(110064,[102,2234...|       16|    7500239|         26|\n",
            "|            'Merica|        false|78912| 1499126400|       241|       237|            1|(110064,[11,194,4...|        6|   57441819|        217|\n",
            "|           'merica |        false|78916| 1499990400|        67|        45|            1|(110064,[46,850,8...|       21|   14868475|         35|\n",
            "|   **That New New**|        false|14379| 1432771200|        63|        52|            1|(110064,[15,101,1...|       21|   14353567|         47|\n",
            "|           *HANNAH*|        false|20194| 1506211200|        84|        22|            1|(110064,[8852,105...|        5|   11964693|          6|\n",
            "|             *sigh*|        false|14217| 1509321600|       154|       101|            4|(110064,[794,1071...|       25|   38055908|         64|\n",
            "+-------------------+-------------+-----+-----------+----------+----------+-------------+--------------------+---------+-----------+-----------+\n",
            "only showing top 20 rows\n",
            "\n"
          ]
        },
        {
          "data": {
            "text/plain": [
              "(None, None, 110064, 681806)"
            ]
          },
          "execution_count": 13,
          "metadata": {},
          "output_type": "execute_result"
        }
      ],
      "source": [
        "songs_embeddings.show(), artists_embeddings.show(), ARTIST_VECTOR_LENGTH, SONGS_VECTOR_LENGTH"
      ]
    },
    {
      "attachments": {},
      "cell_type": "markdown",
      "metadata": {
        "id": "lPOD60GQQGse"
      },
      "source": [
        "# Convert PySpark DataFrame into PyTorch DataLoader"
      ]
    },
    {
      "cell_type": "code",
      "execution_count": 14,
      "metadata": {
        "id": "QCKbUCcaEpQS"
      },
      "outputs": [],
      "source": [
        "def convert_sparse_to_indices(df: DataFrame, column_name: str) -> DataFrame:\n",
        "  \"\"\"\n",
        "  Given a dataframe fo columns \"pos\":int and \"tracks\":SparseVector, it returns a new dataframe where\n",
        "  the SparseVector are replaced with a list of the indices where the values are.\n",
        "  (The value information is lost, but we don't care since they are binary values so they will be all ones)\n",
        "  \"\"\"\n",
        "\n",
        "  @F.udf(returnType=ArrayType(IntegerType()))\n",
        "  def transform_array(item: SparseVector):\n",
        "    \"\"\"\n",
        "    Given a SparseVector (binary) it returns the tuple that represent it, of the type (size, indices)\n",
        "    \"\"\"\n",
        "    indices_list = item.indices.tolist()\n",
        "    padding_width = max_songs - len(indices_list)\n",
        "    return indices_list + [-1] * padding_width\n",
        "  \n",
        "  max_songs = songs_embeddings.select(F.max(\"num_tracks\")).first()[0]\n",
        "  print(f\"Max number of songs: {max_songs}\")\n",
        "  df = df.withColumn(f\"{column_name}_indices\", transform_array(F.col(column_name))).drop(column_name)\n",
        "  return df\n"
      ]
    },
    {
      "cell_type": "code",
      "execution_count": 15,
      "metadata": {
        "id": "eIIqDVeN7cU0"
      },
      "outputs": [],
      "source": [
        "def padded_tensors_to_sparse_matrix(padded_tensor: torch.Tensor, shape: tuple) -> torch.Tensor:\n",
        "  batch_size, max_songs = padded_tensor.size(0), padded_tensor.size(1)\n",
        "  rows = []\n",
        "  for row_idx in range(batch_size):\n",
        "    row = padded_tensor[row_idx]\n",
        "    indices = row[row != -1]\n",
        "    sparse_tensor = torch.sparse_coo_tensor(indices.unsqueeze(0), torch.ones(indices.shape), shape)\n",
        "    rows.append(sparse_tensor)\n",
        "  return torch.stack(rows)\n",
        "\n",
        "def padded_tensors_to_dense_matrix(padded_tensor: torch.Tensor, shape: tuple) -> torch.Tensor:\n",
        "  batch_size, max_songs = padded_tensor.size(0), padded_tensor.size(1)\n",
        "  rows = []\n",
        "  for row_idx in range(batch_size):\n",
        "    row = padded_tensor[row_idx]\n",
        "    indices = row[row != -1]\n",
        "    sparse_tensor = torch.sparse_coo_tensor(indices.unsqueeze(0) + 1, torch.ones(indices.shape), shape)\n",
        "    dense = sparse_tensor.to_dense()\n",
        "    rows.append(dense)\n",
        "  unpadded = torch.stack(rows)\n",
        "  return unpadded"
      ]
    },
    {
      "attachments": {},
      "cell_type": "markdown",
      "metadata": {
        "id": "UNak5bEo4cmV"
      },
      "source": [
        "In the paper they have two matrices,l et $n$ be the number of unique songs, $m$ the number of playlists and $k$ the number of unique artists:\n",
        "\n",
        "- $P \\in \\mathbb{R}^{m \\times n}$ where $p_i = 1$ if song $i$ is in the playlist, $p_i=0$ otherwise\n",
        "- $A \\in \\mathbb{R}^{m \\times k}$ where $a_i=1$ if the artist is present in the playlist, $a_i = 0$ otherwise"
      ]
    },
    {
      "cell_type": "code",
      "execution_count": 16,
      "metadata": {
        "colab": {
          "base_uri": "https://localhost:8080/"
        },
        "id": "y_pKgJx26s73",
        "outputId": "fe16bfd0-5d64-4cf5-d160-1e7dbea99d2e"
      },
      "outputs": [
        {
          "name": "stdout",
          "output_type": "stream",
          "text": [
            "Max number of songs: 250\n"
          ]
        },
        {
          "name": "stderr",
          "output_type": "stream",
          "text": [
            "Converting floating-point columns to float32\n"
          ]
        },
        {
          "name": "stdout",
          "output_type": "stream",
          "text": [
            "Max number of songs: 250\n"
          ]
        },
        {
          "name": "stderr",
          "output_type": "stream",
          "text": [
            "23/06/15 14:30:32 WARN GarbageCollectionMetrics: To enable non-built-in garbage collector(s) List(G1 Concurrent GC), users should configure it(them) to spark.eventLog.gcMetrics.youngGenerationGarbageCollectors or spark.eventLog.gcMetrics.oldGenerationGarbageCollectors\n",
            "The median size 3980660 B (< 50 MB) of the parquet files is too small. Total size: 32581874 B. Increase the median file size by calling df.repartition(n) or df.coalesce(n), which might help improve the performance. Parquet files: file:///Users/dov/Desktop/big-data-project/data/cache/20230615143026-appid-local-1686832221633-4bf3a79c-3852-4c24-b15c-c5d4a9253d51/part-00001-77d369de-9af7-46f7-a4ee-ab72673c930d-c000.parquet, ...\n"
          ]
        },
        {
          "name": "stdout",
          "output_type": "stream",
          "text": [
            "98465 98465 98465\n"
          ]
        }
      ],
      "source": [
        "from petastorm.spark import SparkDatasetConverter, make_spark_converter\n",
        "\n",
        "CACHE = os.path.join(GDRIVE_DATA_DIR, \"cache\")\n",
        "spark.conf.set(SparkDatasetConverter.PARENT_CACHE_DIR_URL_CONF, f'file://{CACHE}')\n",
        "\n",
        "pytorch_songs_df = convert_sparse_to_indices(songs_embeddings.select(\"tracks\", \"pid\"), column_name=\"tracks\")\n",
        "# songs_converter = make_spark_converter(pytorch_songs_df)\n",
        "pytorch_artists_df = convert_sparse_to_indices(artists_embeddings.withColumnRenamed(\"tracks\", \"artists\").select(\"pid\", \"artists\"), column_name=\"artists\")\n",
        "# artist_converter = make_spark_converter(pytorch_artists_df)\n",
        "songs_artists_df = pytorch_songs_df.join(pytorch_artists_df, on=\"pid\")\n",
        "pytorch_merged_dataloader = make_spark_converter(songs_artists_df)\n",
        "\n",
        "\n",
        "print(pytorch_songs_df.count(), pytorch_artists_df.count(), songs_artists_df.count()) #Everything good here, this is nice!"
      ]
    },
    {
      "cell_type": "code",
      "execution_count": 17,
      "metadata": {},
      "outputs": [],
      "source": [
        "# songs_embeddings.show(), artists_embeddings.show()\n",
        "# artists_embeddings = artists_embeddings.withColumnRenamed(\"tracks\", \"artists\").select(\"pid\", \"artists\")\n",
        "# df = songs_embeddings.join(artists_embeddings, on=\"pid\").show()"
      ]
    },
    {
      "attachments": {},
      "cell_type": "markdown",
      "metadata": {},
      "source": [
        "Creating the dataloader for the evaluation set"
      ]
    },
    {
      "cell_type": "code",
      "execution_count": 18,
      "metadata": {},
      "outputs": [],
      "source": [
        "# pytorch_songs_eval_train_df = convert_sparse_to_indices(songs_embeddings_eval_train.select(\"tracks\", \"pid\"), column_name=\"tracks\")\n",
        "# pytorch_artists_eval_train_df = convert_sparse_to_indices(artists_embeddings_eval_train.withColumnRenamed(\"tracks\", \"artists\").select(\"pid\", \"artists\"), column_name=\"artists\")\n",
        "# songs_artists_eval_train_df = pytorch_songs_eval_train_df.join(pytorch_artists_eval_train_df, on=\"pid\")\n",
        "\n",
        "# pytorch_songs_eval_train_df.orderBy(\"pid\").show(), pytorch_artists_eval_train_df.orderBy(\"pid\").show() #TODO: pid do not match, go to data preparation to fix this\n",
        "\n",
        "\n",
        "# # songs_artists_eval_train_df.withColumnRenamed(\"artists_indices\", \"artists_train_indices\").show()\n",
        "\n",
        "# # songs_artist_eval_train_converter = make_spark_converter(songs_artists_eval_train_df)\n",
        "\n",
        "# # pytorch_songs_eval_test_df = convert_sparse_to_indices(songs_embeddings_eval_test.select(\"tracks\", \"pid\"), column_name=\"tracks\")\n",
        "# # pytorch_artists_eval_test_df = convert_sparse_to_indices(artists_embeddings_eval_test.withColumnRenamed(\"tracks\", \"artists\").select(\"pid\", \"artists\"), column_name=\"artists\")\n",
        "# # songs_artists_eval_test_df = pytorch_songs_eval_test_df.join(pytorch_artists_eval_test_df, on=\"pid\")\n",
        "\n",
        "# # songs_artist_eval_test_converter = make_spark_converter(songs_artists_eval_test_df)"
      ]
    },
    {
      "attachments": {},
      "cell_type": "markdown",
      "metadata": {
        "id": "m0Av0W0P66lC"
      },
      "source": [
        "# PyTorch Model"
      ]
    },
    {
      "cell_type": "code",
      "execution_count": 19,
      "metadata": {
        "id": "6-YbESXD66Oh"
      },
      "outputs": [],
      "source": [
        "import torch\n",
        "import torch.nn as nn\n",
        "import torch.optim as optim\n",
        "import numpy as np\n",
        "import pickle\n",
        "\n",
        "class DAE_tied(nn.Module):\n",
        "    def __init__(self, conf):\n",
        "        super(DAE_tied, self).__init__()\n",
        "        self.save_dir = conf[\"save\"]\n",
        "        # self.device = torch.device(\"cuda\" if torch.cuda.is_available() else \"cpu\")\n",
        "        self.device = torch.device(\"mps\")\n",
        "        self.initval_dir = conf[\"initval\"]\n",
        "\n",
        "        self.n_batch = conf[\"batch\"]\n",
        "        self.n_input = conf[\"n_input\"]\n",
        "        self.n_hidden = conf[\"hidden\"]\n",
        "        self.reg_lambda = conf[\"reg_lambda\"]\n",
        "\n",
        "        self.keep_prob = torch.tensor(conf[\"keep_prob\"], dtype=torch.float32)\n",
        "        self.input_keep_prob = torch.tensor(conf[\"input_keep_prob\"], dtype=torch.float32)\n",
        "\n",
        "        self.weights = {}\n",
        "        self.biases = {}\n",
        "        self.d_params = []\n",
        "\n",
        "        self.z = None\n",
        "\n",
        "    def init_weight(self):\n",
        "        if self.initval_dir == 'NULL':\n",
        "            self.weights['encoder_h'] = nn.Parameter(torch.FloatTensor(self.n_input, self.n_hidden).to(self.device))\n",
        "            nn.init.xavier_uniform_(self.weights['encoder_h'])\n",
        "            self.biases['encoder_b'] = nn.Parameter(torch.FloatTensor(self.n_hidden).to(self.device))\n",
        "            nn.init.zeros_(self.biases['encoder_b'])\n",
        "            self.biases['decoder_b'] = nn.Parameter(torch.FloatTensor(self.n_input).to(self.device))\n",
        "            nn.init.zeros_(self.biases['decoder_b'])\n",
        "        else:\n",
        "            with open(self.initval_dir, 'rb') as f:\n",
        "                emb = pickle.load(f)\n",
        "            self.weights['encoder_h'] = nn.Parameter(torch.FloatTensor(emb[0]).to(self.device))\n",
        "            self.weights['decoder_h'] = nn.Parameter(torch.FloatTensor(emb[1]).to(self.device))\n",
        "            self.biases['encoder_b'] = nn.Parameter(torch.FloatTensor(emb[2]).to(self.device))\n",
        "            self.biases['decoder_b'] = nn.Parameter(torch.FloatTensor(emb[3]).to(self.device))\n",
        "        self.d_params = [self.weights['encoder_h'], self.weights['encoder_h'], self.biases['encoder_b'], self.biases['decoder_b']]\n",
        "\n",
        "\n",
        "    # Building the encoder\n",
        "    def encoder(self, x):\n",
        "        # Encoder Hidden layer with sigmoid activation #1\n",
        "        layer = torch.add(torch.matmul(x, self.weights['encoder_h']), self.biases['encoder_b'])\n",
        "        layer = torch.sigmoid(layer)\n",
        "        layer = torch.nn.functional.dropout(layer, p=1 - self.keep_prob)\n",
        "\n",
        "        return layer\n",
        "\n",
        "    # Building the decoder\n",
        "    def decoder(self, x):\n",
        "        # Decoder Hidden layer with sigmoid activation #1\n",
        "        layer = torch.sigmoid(torch.add(torch.matmul(x, self.weights['encoder_h'].t()), self.biases['decoder_b']))\n",
        "        return layer\n",
        "\n",
        "    def l2_loss(self):\n",
        "      encoder_h_l2 = (torch.sum(self.weights['encoder_h']) ** 2)/2\n",
        "      decoder_b_l2 = (torch.sum(self.biases['decoder_b']) ** 2)/2\n",
        "      encoder_b_l2 = (torch.sum(self.biases['encoder_b']) ** 2)/2\n",
        "\n",
        "      l2 = encoder_h_l2 + decoder_b_l2 + encoder_b_l2\n",
        "      return l2\n",
        "\n",
        "    def forward(self, x, y):\n",
        "\n",
        "        # TODO: Take sparse matrix representation instead of dense\n",
        "        # self.x = x_positxions\n",
        "        # self.x_ones = x_ones\n",
        "        # self.y_positions = y_positions\n",
        "        # self.y_ones = y_ones\n",
        "\n",
        "        self.x = x.t()\n",
        "        self.y = y.t()\n",
        "\n",
        "        # x_sparse = torch.sparse.FloatTensor(self.x_positions.t(), self.x_ones, torch.Size([self.n_batch, self.n_input]))\n",
        "        # self.x = x_sparse.to_dense()\n",
        "        # y_sparse = torch.sparse.FloatTensor(self.y_positions.t(), self.y_ones, torch.Size([self.n_batch, self.n_input]))\n",
        "        # self.y = y_sparse.to_dense()\n",
        "\n",
        "        x_dropout = torch.nn.functional.dropout(self.x, p= 1 - self.input_keep_prob)\n",
        "        reduce_sum = torch.sum(x_dropout, dim=1, keepdim=True)\n",
        "        self.x_dropout = torch.div(x_dropout, reduce_sum + 1e-10)\n",
        "\n",
        "        encoder_op = self.encoder(self.x_dropout)\n",
        "\n",
        "        self.z = encoder_op\n",
        "        self.y_pred = self.decoder(encoder_op)\n",
        "\n",
        "        l2 = self.l2_loss()\n",
        "\n",
        "        L = -torch.sum(self.y * torch.log(self.y_pred + 1e-10) +\n",
        "                       0.55 * (1 - self.y) * torch.log(1 - self.y_pred + 1e-10), dim=1)\n",
        "        self.cost = torch.mean(L) + self.reg_lambda * l2\n",
        "\n",
        "    def save_model(self):\n",
        "        params = [param.detach().numpy() for param in self.d_params]\n",
        "        with open(self.save_dir, 'wb') as f:\n",
        "            pickle.dump(params, f)\n",
        "\n",
        "            \n",
        "class DAE(DAE_tied):\n",
        "    def __init__(self, conf):\n",
        "        super(DAE, self).__init__(conf)\n",
        "\n",
        "    def init_weight(self):\n",
        "        if self.initval_dir == 'NULL':\n",
        "            self.weights['encoder_h'] = nn.Parameter(torch.FloatTensor(self.n_input, self.n_hidden).to(self.device))\n",
        "            nn.init.xavier_uniform_(self.weights['encoder_h'])\n",
        "            self.weights['decoder_h'] = nn.Parameter(torch.FloatTensor(self.n_input, self.n_hidden).to(self.device))\n",
        "            nn.init.xavier_uniform_(self.weights['decoder_h'])\n",
        "            self.biases['encoder_b'] = nn.Parameter(torch.FloatTensor(self.n_hidden).to(self.device))\n",
        "            nn.init.zeros_(self.biases['encoder_b'])\n",
        "            self.biases['decoder_b'] = nn.Parameter(torch.FloatTensor(self.n_input).to(self.device))\n",
        "            nn.init.zeros_(self.biases['decoder_b'])\n",
        "        else:\n",
        "            with open(self.initval_dir, 'rb') as f:\n",
        "                emb = pickle.load(f)\n",
        "            self.weights['encoder_h'] = nn.Parameter(torch.FloatTensor(emb[0]).to(self.device))\n",
        "            self.weights['decoder_h'] = nn.Parameter(torch.FloatTensor(emb[1]).to(self.device))\n",
        "            self.biases['encoder_b'] = nn.Parameter(torch.FloatTensor(emb[2]).to(self.device))\n",
        "            self.biases['decoder_b'] = nn.Parameter(torch.FloatTensor(emb[3]).to(self.device))\n",
        "\n",
        "        self.d_params = [self.weights['encoder_h'], self.weights['decoder_h'],\n",
        "                         self.biases['encoder_b'], self.biases['decoder_b']]\n",
        "\n",
        "    def decoder(self, x):\n",
        "        # Decoder Hidden layer with sigmoid activation #1\n",
        "        layer = torch.sigmoid(torch.add(torch.matmul(x, self.weights['decoder_h'].t()), self.biases['decoder_b']))\n",
        "        return layer\n",
        "\n",
        "    def l2_loss(self):\n",
        "      encoder_h_l2 = (torch.sum(self.weights['encoder_h']) ** 2)/2\n",
        "      decoder_b_l2 = (torch.sum(self.biases['decoder_b']) ** 2)/2\n",
        "      encoder_b_l2 = (torch.sum(self.biases['encoder_b']) ** 2)/2\n",
        "      decoder_h_l2 = (torch.sum(self.weights['decoder_h']) ** 2)/2\n",
        "\n",
        "      l2 = encoder_h_l2 + decoder_b_l2 + encoder_b_l2 + decoder_h_l2\n",
        "      return l2"
      ]
    },
    {
      "cell_type": "code",
      "execution_count": 20,
      "metadata": {
        "id": "aykoeJfhOUBV"
      },
      "outputs": [],
      "source": [
        "# device = torch.device(\"cuda\" if torch.cuda.is_available() else \"cpu\")\n",
        "device = torch.device(\"mps\")"
      ]
    },
    {
      "cell_type": "code",
      "execution_count": 21,
      "metadata": {
        "colab": {
          "base_uri": "https://localhost:8080/"
        },
        "id": "DVGpMdqs7dQQ",
        "outputId": "2001aebc-9e53-4b86-fb7d-2a2ba9463fed"
      },
      "outputs": [
        {
          "data": {
            "text/plain": [
              "DAE_tied()"
            ]
          },
          "execution_count": 21,
          "metadata": {},
          "output_type": "execute_result"
        }
      ],
      "source": [
        "BEST_PARAMS_PATH = os.path.join(SAVED_MODELS, \"best_params.pickle\")\n",
        "BEST_PARAMS_PATH_2 = os.path.join(SAVED_MODELS, \"best_params_reg.pickle\")\n",
        "\n",
        "#Hyperparameters used in the paper\n",
        "conf = {\n",
        "    'batch': 32,\n",
        "    'n_input': SONGS_VECTOR_LENGTH + ARTIST_VECTOR_LENGTH - 2, #-2 to compense the first row of zeros since the pos in the df start at 1\n",
        "    'hidden': 100,\n",
        "    'lr': 0.0001,\n",
        "    'reg_lambda': 0.0,\n",
        "    'initval': BEST_PARAMS_PATH_2,\n",
        "    \"keep_prob\": 0.8, \n",
        "    \"input_keep_prob\": 0.8, # This isn't used for now because of the .uniform()\n",
        "    'save': os.path.join(SAVED_MODELS, \"dae_model.pickle\")\n",
        "}\n",
        "pretrain_model = DAE_tied(conf)\n",
        "pretrain_model.init_weight()\n",
        "pretrain_model.train()\n",
        "# optimizer = optim.SGD(dae_model.d_params, lr=conf['lr'], momentum=0.9)"
      ]
    },
    {
      "cell_type": "code",
      "execution_count": 22,
      "metadata": {
        "id": "mNPmA2YijSO1"
      },
      "outputs": [],
      "source": [
        "pretrain_optimizer = optim.Adam(pretrain_model.d_params, lr=conf['lr'])"
      ]
    },
    {
      "cell_type": "code",
      "execution_count": 23,
      "metadata": {
        "colab": {
          "base_uri": "https://localhost:8080/"
        },
        "id": "5jAqv6QBEiK9",
        "outputId": "c0716d37-5a7f-4966-c860-65e8041a4f74"
      },
      "outputs": [
        {
          "data": {
            "text/plain": [
              "device(type='mps', index=0)"
            ]
          },
          "execution_count": 23,
          "metadata": {},
          "output_type": "execute_result"
        }
      ],
      "source": [
        "pretrain_model.weights['encoder_h'].device"
      ]
    },
    {
      "attachments": {},
      "cell_type": "markdown",
      "metadata": {},
      "source": [
        "Define the validation function that is invoked during the training in order to save the model parameters that optimize the performance evaluation on the validation set."
      ]
    },
    {
      "cell_type": "code",
      "execution_count": 24,
      "metadata": {},
      "outputs": [],
      "source": [
        "from typing import List\n",
        "def k_prec(eval_preds: torch.Tensor, ground_truth: torch.Tensor, k: torch.Tensor) -> List[float]:\n",
        "    batch_size = 32\n",
        "    counts = []\n",
        "\n",
        "    for i in range(batch_size):\n",
        "        top_k_preds_idx = eval_preds[i].topk(k[i], dim=0).indices.flatten()\n",
        "        ground_truth_idx = torch.nonzero(ground_truth[i] == 1).squeeze().flatten()\n",
        "\n",
        "        common_elements = np.intersect1d(top_k_preds_idx.cpu().detach().numpy(), ground_truth_idx.cpu().detach().numpy())\n",
        "        num_common_elements = len(common_elements)\n",
        "        counts.append(num_common_elements)\n",
        "\n",
        "    return counts\n",
        "\n",
        "def ndcg(eval_preds: torch.Tensor, ground_truth: torch.Tensor) -> float:\n",
        "    pass\n",
        "\n",
        "def evaluate(eval_preds: torch.Tensor, ground_truth: torch.Tensor, k: torch.Tensor) -> List[float]:\n",
        "    return k_prec(eval_preds, ground_truth, k)"
      ]
    },
    {
      "cell_type": "code",
      "execution_count": 25,
      "metadata": {},
      "outputs": [],
      "source": [
        "# def validate(y_preds: torch.Tensor) -> Tuple[float, float]:\n",
        "#     \"\"\"\n",
        "#     Given the model predictions, performs an evaluation on the validation set.\n",
        "#     \"\"\"\n",
        "#     ARTIST_SHAPE = (ARTIST_VECTOR_LENGTH, )\n",
        "#     SONG_SHAPE = (SONGS_VECTOR_LENGTH, )\n",
        "#     precs = []\n",
        "#     tot_k = 0\n",
        "#     with songs_eval_train_converter.make_torch_dataloader(batch_size=conf[\"batch\"], num_epochs = 1) as songs_eval_train_dataloader:\n",
        "#         with artists_eval_train_converter.make_torch_dataloader(batch_size=conf[\"batch\"], num_epochs = 1) as artist_eval_train_dataloader:\n",
        "#             with songs_eval_test_converter.make_torch_dataloader(batch_size=conf[\"batch\"], num_epochs = 1) as songs_eval_test_dataloader:\n",
        "#                 with artists_eval_test_converter.make_torch_dataloader(batch_size=conf[\"batch\"], num_epochs = 1) as artist_eval_test_dataloader:\n",
        "#                     zipped_train_dataloaders = zip(songs_eval_train_dataloader, artist_eval_train_dataloader)\n",
        "#                     zipped_test_dataloaders = zip(songs_eval_test_dataloader, artist_eval_test_dataloader)\n",
        "\n",
        "#                     zipped_eval_dataloaders = zip(zipped_train_dataloaders, zipped_test_dataloaders)\n",
        "#                     pretrain_model.eval()\n",
        "#                     for batch_idx, ((song_eval_train, artist_eval_train), (song_eval_test, artist_eval_test)) in enumerate(zipped_eval_dataloaders):\n",
        "#                         with torch.no_grad():\n",
        "#                             if batch_idx == 1:\n",
        "#                                 break #TODO: faster but less generalized\n",
        "#                             padded_eval_song_tensor = song_eval_train[\"embedding_indices\"]\n",
        "#                             padded_eval_artist_tensor = artist_eval_train[\"embedding_indices\"]\n",
        "                            \n",
        "#                             song_dense = padded_tensors_to_dense_matrix(padded_eval_song_tensor, SONG_SHAPE)[:, 1:]\n",
        "#                             artist_dense = padded_tensors_to_dense_matrix(padded_eval_artist_tensor, ARTIST_SHAPE)[:, 1:]\n",
        "#                             if (song_dense.shape[0] != 32) or (artist_dense.shape[0] != 32): break #exlude last batch\n",
        "#                             song_dense = song_dense.to(device)\n",
        "#                             artist_dense = artist_dense.to(device)\n",
        "\n",
        "#                             del padded_eval_song_tensor\n",
        "#                             del padded_eval_artist_tensor\n",
        "                            \n",
        "#                             x = torch.concat((song_dense, artist_dense), dim=1).t()\n",
        "#                             y = torch.concat((song_dense, artist_dense), dim=1).t()\n",
        "                            \n",
        "#                             pretrain_model(x, y)\n",
        "\n",
        "#                             pretrain_model.train()\n",
        "#                             eval_preds = pretrain_model.y_pred[: SONGS_VECTOR_LENGTH]\n",
        "\n",
        "#                             padded_eval_song_tensor_test = song_eval_test[\"embedding_indices\"]\n",
        "                            \n",
        "#                             ground_truth = padded_tensors_to_dense_matrix(padded_eval_song_tensor_test, SONG_SHAPE)[:, 1:]\n",
        "\n",
        "\n",
        "#                             ground_truth = ground_truth.to(device)\n",
        "\n",
        "#                             k = torch.sum(ground_truth == 1, dim=1)\n",
        "#                             tot_k += torch.sum(k)\n",
        "#                             prec_list = evaluate(eval_preds, ground_truth, k=k)\n",
        "#                             precs.extend(prec_list)\n",
        "\n",
        "#                     pretrain_model.train()\n",
        "#                     mean_prec = sum(precs) / tot_k\n",
        "#                     print(f\"Precision on validation set is: {mean_prec} on the list {precs}\")\n",
        "#                     return pretrain_model.cost, mean_prec\n"
      ]
    },
    {
      "attachments": {},
      "cell_type": "markdown",
      "metadata": {},
      "source": [
        "Testing if the ordering is correct"
      ]
    },
    {
      "cell_type": "code",
      "execution_count": 26,
      "metadata": {},
      "outputs": [],
      "source": [
        "# from tqdm.notebook import tqdm\n",
        "# import random\n",
        "# # os.environ[\"PYTORCH_MPS_HIGH_WATERMARK_RATIO\"] = \"0.0\"\n",
        "# NUM_EPOCHS = 5\n",
        "# with pytorch_merged_dataloader.make_torch_dataloader(batch_size=conf[\"batch\"], num_epochs = NUM_EPOCHS) as train_dataloader:\n",
        "#     ARTIST_SHAPE = (ARTIST_VECTOR_LENGTH, )\n",
        "#     SONG_SHAPE = (SONGS_VECTOR_LENGTH, )\n",
        "#     for batch_idx, row in tqdm(enumerate(train_dataloader), desc=f\"Training model\", total= (NUM_PLAYLISTS / conf[\"batch\"]) * NUM_EPOCHS):\n",
        "#       # Pick random input_keep_prob between 0.5 and 0.8\n",
        "#     #   pretrain_model.input_keep_prob = random.uniform(0.5, 0.8) #TODO: make this dynamic inside the conf\n",
        "#       pretrain_model.input_keep_prob = random.uniform(0.5, 0.8) #TODO: make this dynamic inside the conf\n",
        "\n",
        "#       padded_song_tensor = row[\"tracks_indices\"]\n",
        "#       padded_artist_tensor = row[\"artists_indices\"]\n",
        "      \n",
        "#       song_dense = padded_tensors_to_dense_matrix(padded_song_tensor, SONG_SHAPE)[:, 1:]\n",
        "#       artist_dense = padded_tensors_to_dense_matrix(padded_artist_tensor, ARTIST_SHAPE)[:, 1:]\n",
        "\n",
        "#       song_indices = sorted(list(set(torch.nonzero(song_dense[0] == 1).squeeze().flatten().cpu().detach().tolist())))\n",
        "#       print(torch.nonzero(song_dense[0] == 1))\n",
        "#       songs_artists_df.show()\n",
        "#       artist_indices = torch.nonzero(artist_dense == 1).squeeze().flatten()\n",
        "\n",
        "#     #   print(song_indices)\n",
        "#     #   print(artist_indices)\n",
        "#       break\n"
      ]
    },
    {
      "attachments": {},
      "cell_type": "markdown",
      "metadata": {
        "id": "GuqQMu_E0yaN"
      },
      "source": [
        "## Train the model"
      ]
    },
    {
      "cell_type": "code",
      "execution_count": 27,
      "metadata": {
        "id": "jIg2DIDNjEKm"
      },
      "outputs": [],
      "source": [
        "min_loss = 2000\n",
        "max_prec = 0\n",
        "best_params = []\n",
        "losses = []"
      ]
    },
    {
      "attachments": {},
      "cell_type": "markdown",
      "metadata": {
        "id": "SFvPuc5hqirK"
      },
      "source": [
        "Pretrain with `DAE_tied`"
      ]
    },
    {
      "cell_type": "code",
      "execution_count": 28,
      "metadata": {
        "colab": {
          "base_uri": "https://localhost:8080/",
          "height": 49,
          "referenced_widgets": [
            "800d36c1bd2f4519ad7215f62fe694b2",
            "025feace7e5548cebe8d42356ed1963e",
            "2e5ed18f6ed644898269df6699939a96",
            "210989b9506346409dcb494dc08a7c28",
            "bada53838d434c47bfd5185687d2e133",
            "4cc43c4c34974993ad879ab6789719dc",
            "3a7a8265d2f84b18b0556518474586cc",
            "56ff9818b0e24a4ca8fbe94afc45b797",
            "3af36fc968654a27826c33cbfa6a7b62",
            "1ecbd9fd2159484e9fd5f1ad4028717e",
            "c54d6d9cf7614f20b5f000c29c5a5b18"
          ]
        },
        "id": "Z_BjjpshDD2H",
        "outputId": "e1ab4815-5fa7-433f-b258-bb6317b2d657"
      },
      "outputs": [
        {
          "data": {
            "application/vnd.jupyter.widget-view+json": {
              "model_id": "ccd16740e5d845ab9e30ac8e623ee766",
              "version_major": 2,
              "version_minor": 0
            },
            "text/plain": [
              "Training model:   0%|          | 0/15625.0 [00:00<?, ?it/s]"
            ]
          },
          "metadata": {},
          "output_type": "display_data"
        },
        {
          "name": "stdout",
          "output_type": "stream",
          "text": [
            "Loss: 1338.8427734375\n",
            "z:  tensor([[0.6532, 0.6530, 0.6527,  ..., 0.6533, 0.6540, 0.6535],\n",
            "        [0.6364, 0.6360, 0.6342,  ..., 0.0000, 0.6369, 0.6347],\n",
            "        [0.6477, 0.6486, 0.6476,  ..., 0.0000, 0.0000, 0.6485],\n",
            "        ...,\n",
            "        [0.6462, 0.0000, 0.6457,  ..., 0.6434, 0.0000, 0.6469],\n",
            "        [0.6558, 0.6563, 0.6557,  ..., 0.6566, 0.6571, 0.6564],\n",
            "        [0.6511, 0.6520, 0.6512,  ..., 0.0000, 0.6517, 0.6512]],\n",
            "       device='mps:0', grad_fn=<MulBackward0>)\n",
            "Loss: 952.0733642578125\n",
            "z:  tensor([[0.6450, 0.6444, 0.6451,  ..., 0.6455, 0.6451, 0.6471],\n",
            "        [0.6339, 0.6337, 0.6328,  ..., 0.6333, 0.6340, 0.6338],\n",
            "        [0.0000, 0.0000, 0.0000,  ..., 0.6426, 0.6380, 0.6434],\n",
            "        ...,\n",
            "        [0.6436, 0.6430, 0.6437,  ..., 0.6429, 0.6430, 0.6430],\n",
            "        [0.6437, 0.6432, 0.6410,  ..., 0.6418, 0.6417, 0.6433],\n",
            "        [0.6420, 0.6419, 0.6406,  ..., 0.6396, 0.6423, 0.6406]],\n",
            "       device='mps:0', grad_fn=<MulBackward0>)\n",
            "Loss: 844.9136962890625\n",
            "z:  tensor([[0.6497, 0.6506, 0.6499,  ..., 0.0000, 0.6501, 0.0000],\n",
            "        [0.6501, 0.6503, 0.6496,  ..., 0.6499, 0.6501, 0.6501],\n",
            "        [0.6565, 0.6569, 0.6550,  ..., 0.6570, 0.0000, 0.6571],\n",
            "        ...,\n",
            "        [0.6537, 0.6538, 0.6535,  ..., 0.6530, 0.6549, 0.6560],\n",
            "        [0.6510, 0.6516, 0.6514,  ..., 0.6509, 0.0000, 0.6512],\n",
            "        [0.0000, 0.6431, 0.6419,  ..., 0.6439, 0.6414, 0.0000]],\n",
            "       device='mps:0', grad_fn=<MulBackward0>)\n",
            "Loss: 899.1652221679688\n",
            "z:  tensor([[0.6417, 0.0000, 0.0000,  ..., 0.6424, 0.6421, 0.6412],\n",
            "        [0.6347, 0.6347, 0.6344,  ..., 0.6334, 0.6342, 0.6336],\n",
            "        [0.6546, 0.6550, 0.6542,  ..., 0.6548, 0.0000, 0.6547],\n",
            "        ...,\n",
            "        [0.6482, 0.6460, 0.6478,  ..., 0.6456, 0.6482, 0.6488],\n",
            "        [0.6520, 0.6528, 0.0000,  ..., 0.6528, 0.6523, 0.6507],\n",
            "        [0.6532, 0.6543, 0.0000,  ..., 0.6531, 0.0000, 0.6532]],\n",
            "       device='mps:0', grad_fn=<MulBackward0>)\n",
            "Loss: 774.4599609375\n",
            "z:  tensor([[0.0000, 0.0000, 0.6567,  ..., 0.6569, 0.6569, 0.6573],\n",
            "        [0.0000, 0.6473, 0.6468,  ..., 0.0000, 0.6467, 0.6479],\n",
            "        [0.0000, 0.6495, 0.6493,  ..., 0.6499, 0.6495, 0.6492],\n",
            "        ...,\n",
            "        [0.6479, 0.6486, 0.6475,  ..., 0.0000, 0.0000, 0.6469],\n",
            "        [0.6350, 0.0000, 0.6335,  ..., 0.6336, 0.6341, 0.6339],\n",
            "        [0.6500, 0.6488, 0.6504,  ..., 0.6484, 0.0000, 0.6503]],\n",
            "       device='mps:0', grad_fn=<MulBackward0>)\n",
            "Loss: 673.0777587890625\n",
            "z:  tensor([[0.0000, 0.6476, 0.6465,  ..., 0.0000, 0.0000, 0.6482],\n",
            "        [0.0000, 0.6553, 0.6543,  ..., 0.0000, 0.6543, 0.6546],\n",
            "        [0.6521, 0.0000, 0.6518,  ..., 0.6524, 0.0000, 0.0000],\n",
            "        ...,\n",
            "        [0.6528, 0.6526, 0.6487,  ..., 0.6489, 0.0000, 0.6465],\n",
            "        [0.6579, 0.6594, 0.6578,  ..., 0.6580, 0.6585, 0.6585],\n",
            "        [0.6485, 0.6484, 0.6469,  ..., 0.0000, 0.6470, 0.0000]],\n",
            "       device='mps:0', grad_fn=<MulBackward0>)\n",
            "Loss: 580.9112548828125\n",
            "z:  tensor([[0.6357, 0.6377, 0.6369,  ..., 0.6376, 0.6373, 0.6367],\n",
            "        [0.6267, 0.6272, 0.6249,  ..., 0.0000, 0.0000, 0.6266],\n",
            "        [0.6461, 0.6468, 0.6467,  ..., 0.6462, 0.6464, 0.6465],\n",
            "        ...,\n",
            "        [0.6319, 0.6313, 0.0000,  ..., 0.0000, 0.6305, 0.6323],\n",
            "        [0.6514, 0.6519, 0.6504,  ..., 0.6513, 0.6526, 0.6517],\n",
            "        [0.6424, 0.0000, 0.6392,  ..., 0.6408, 0.6418, 0.0000]],\n",
            "       device='mps:0', grad_fn=<MulBackward0>)\n",
            "Loss: 698.6451416015625\n",
            "z:  tensor([[0.6373, 0.6378, 0.0000,  ..., 0.0000, 0.0000, 0.6362],\n",
            "        [0.6429, 0.0000, 0.6429,  ..., 0.6418, 0.6428, 0.6426],\n",
            "        [0.6327, 0.6321, 0.6324,  ..., 0.6310, 0.0000, 0.6312],\n",
            "        ...,\n",
            "        [0.0000, 0.6536, 0.6527,  ..., 0.6526, 0.6531, 0.0000],\n",
            "        [0.0000, 0.6222, 0.6223,  ..., 0.6215, 0.6219, 0.0000],\n",
            "        [0.6359, 0.6351, 0.0000,  ..., 0.6357, 0.6352, 0.0000]],\n",
            "       device='mps:0', grad_fn=<MulBackward0>)\n",
            "Loss: 701.608154296875\n",
            "z:  tensor([[0.0000, 0.6575, 0.6571,  ..., 0.6576, 0.6576, 0.6573],\n",
            "        [0.6461, 0.6494, 0.6454,  ..., 0.6468, 0.6485, 0.6489],\n",
            "        [0.0000, 0.6506, 0.6506,  ..., 0.6517, 0.6511, 0.6522],\n",
            "        ...,\n",
            "        [0.6630, 0.6635, 0.6621,  ..., 0.6637, 0.6616, 0.6633],\n",
            "        [0.0000, 0.0000, 0.6589,  ..., 0.6594, 0.6598, 0.6592],\n",
            "        [0.0000, 0.6423, 0.6383,  ..., 0.6392, 0.6419, 0.6414]],\n",
            "       device='mps:0', grad_fn=<MulBackward0>)\n",
            "Loss: 632.5133666992188\n",
            "z:  tensor([[0.6287, 0.6296, 0.6290,  ..., 0.0000, 0.6251, 0.6248],\n",
            "        [0.0000, 0.6410, 0.6340,  ..., 0.6415, 0.6393, 0.0000],\n",
            "        [0.6391, 0.6390, 0.6391,  ..., 0.6387, 0.6390, 0.0000],\n",
            "        ...,\n",
            "        [0.6268, 0.6266, 0.6261,  ..., 0.6256, 0.0000, 0.0000],\n",
            "        [0.6490, 0.6489, 0.6487,  ..., 0.6490, 0.0000, 0.6488],\n",
            "        [0.6292, 0.0000, 0.6282,  ..., 0.6280, 0.0000, 0.0000]],\n",
            "       device='mps:0', grad_fn=<MulBackward0>)\n",
            "Loss: 901.2487182617188\n",
            "z:  tensor([[0.6440, 0.6439, 0.6439,  ..., 0.6440, 0.0000, 0.6434],\n",
            "        [0.0000, 0.6487, 0.6482,  ..., 0.0000, 0.0000, 0.6490],\n",
            "        [0.6441, 0.0000, 0.0000,  ..., 0.0000, 0.6437, 0.6438],\n",
            "        ...,\n",
            "        [0.6507, 0.6515, 0.6510,  ..., 0.6509, 0.0000, 0.0000],\n",
            "        [0.0000, 0.6457, 0.0000,  ..., 0.0000, 0.6466, 0.6458],\n",
            "        [0.6463, 0.6467, 0.0000,  ..., 0.6461, 0.6455, 0.0000]],\n",
            "       device='mps:0', grad_fn=<MulBackward0>)\n",
            "Loss: 679.0511474609375\n",
            "z:  tensor([[0.6542, 0.0000, 0.6539,  ..., 0.6540, 0.6542, 0.6534],\n",
            "        [0.0000, 0.6560, 0.6540,  ..., 0.6541, 0.6550, 0.0000],\n",
            "        [0.6541, 0.6544, 0.6534,  ..., 0.6563, 0.6566, 0.6547],\n",
            "        ...,\n",
            "        [0.0000, 0.0000, 0.6614,  ..., 0.0000, 0.6618, 0.6624],\n",
            "        [0.6548, 0.6573, 0.6545,  ..., 0.0000, 0.6562, 0.0000],\n",
            "        [0.0000, 0.6638, 0.0000,  ..., 0.6633, 0.0000, 0.6632]],\n",
            "       device='mps:0', grad_fn=<MulBackward0>)\n",
            "Loss: 623.9012451171875\n",
            "z:  tensor([[0.6365, 0.6367, 0.6374,  ..., 0.6365, 0.0000, 0.6374],\n",
            "        [0.6412, 0.6380, 0.6369,  ..., 0.6412, 0.6411, 0.6359],\n",
            "        [0.0000, 0.6419, 0.6433,  ..., 0.6424, 0.6440, 0.6439],\n",
            "        ...,\n",
            "        [0.6474, 0.6481, 0.6480,  ..., 0.0000, 0.6472, 0.6483],\n",
            "        [0.6490, 0.0000, 0.6491,  ..., 0.6488, 0.0000, 0.6501],\n",
            "        [0.6419, 0.6417, 0.6425,  ..., 0.6407, 0.6409, 0.0000]],\n",
            "       device='mps:0', grad_fn=<MulBackward0>)\n"
          ]
        },
        {
          "ename": "KeyboardInterrupt",
          "evalue": "",
          "output_type": "error",
          "traceback": [
            "\u001b[0;31m---------------------------------------------------------------------------\u001b[0m",
            "\u001b[0;31mKeyboardInterrupt\u001b[0m                         Traceback (most recent call last)",
            "Cell \u001b[0;32mIn[28], line 19\u001b[0m\n\u001b[1;32m     16\u001b[0m song_dense \u001b[39m=\u001b[39m padded_tensors_to_dense_matrix(padded_song_tensor, SONG_SHAPE)[:, \u001b[39m1\u001b[39m:]\n\u001b[1;32m     17\u001b[0m artist_dense \u001b[39m=\u001b[39m padded_tensors_to_dense_matrix(padded_artist_tensor, ARTIST_SHAPE)[:, \u001b[39m1\u001b[39m:]\n\u001b[0;32m---> 19\u001b[0m song_dense \u001b[39m=\u001b[39m song_dense\u001b[39m.\u001b[39;49mto(device)\n\u001b[1;32m     20\u001b[0m artist_dense \u001b[39m=\u001b[39m artist_dense\u001b[39m.\u001b[39mto(device)\n\u001b[1;32m     22\u001b[0m rand_int \u001b[39m=\u001b[39m np\u001b[39m.\u001b[39mrandom\u001b[39m.\u001b[39mrandint(\u001b[39m2\u001b[39m)\n",
            "\u001b[0;31mKeyboardInterrupt\u001b[0m: "
          ]
        }
      ],
      "source": [
        "from tqdm.notebook import tqdm\n",
        "import random\n",
        "# os.environ[\"PYTORCH_MPS_HIGH_WATERMARK_RATIO\"] = \"0.0\"\n",
        "NUM_EPOCHS = 5\n",
        "with pytorch_merged_dataloader.make_torch_dataloader(batch_size=conf[\"batch\"], num_epochs = NUM_EPOCHS) as train_dataloader:\n",
        "    ARTIST_SHAPE = (ARTIST_VECTOR_LENGTH, )\n",
        "    SONG_SHAPE = (SONGS_VECTOR_LENGTH, )\n",
        "    for batch_idx, row in tqdm(enumerate(train_dataloader), desc=f\"Training model\", total= (NUM_PLAYLISTS / conf[\"batch\"]) * NUM_EPOCHS):\n",
        "      # Pick random input_keep_prob between 0.5 and 0.8\n",
        "    #   pretrain_model.input_keep_prob = random.uniform(0.5, 0.8) #TODO: make this dynamic inside the conf\n",
        "      pretrain_model.input_keep_prob = random.uniform(0.5, 0.8) #TODO: make this dynamic inside the conf\n",
        "\n",
        "      padded_song_tensor = row[\"tracks_indices\"]\n",
        "      padded_artist_tensor = row[\"artists_indices\"]\n",
        "      \n",
        "      song_dense = padded_tensors_to_dense_matrix(padded_song_tensor, SONG_SHAPE)[:, 1:]\n",
        "      artist_dense = padded_tensors_to_dense_matrix(padded_artist_tensor, ARTIST_SHAPE)[:, 1:]\n",
        "\n",
        "      song_dense = song_dense.to(device)\n",
        "      artist_dense = artist_dense.to(device)\n",
        "\n",
        "      rand_int = np.random.randint(2)\n",
        "      if rand_int == 0:\n",
        "        #Zero-out the artists\n",
        "        pretrain_optimizer.zero_grad()\n",
        "        x = torch.concat((song_dense, torch.zeros_like(artist_dense)), dim=1).t()\n",
        "        y = torch.concat((song_dense, artist_dense), dim=1).t()\n",
        "        pretrain_model(x, y)\n",
        "        loss = pretrain_model.cost\n",
        "        pretrain_model.cost.backward()\n",
        "        pretrain_optimizer.step()\n",
        "      if rand_int == 1:\n",
        "        #Zero-out the tracks\n",
        "        pretrain_optimizer.zero_grad()\n",
        "        x = torch.concat((torch.zeros_like(song_dense), artist_dense), dim=1).t()\n",
        "        y = torch.concat((song_dense, artist_dense), dim=1).t()\n",
        "        pretrain_model(x, y)\n",
        "        loss = pretrain_model.cost\n",
        "        pretrain_model.cost.backward()\n",
        "        pretrain_optimizer.step()\n",
        "\n",
        "      losses.append(loss)\n",
        "     \n",
        "    #   if loss < min_loss:\n",
        "    #     min_loss = loss\n",
        "    #     del best_params\n",
        "    #     best_params = [param.cpu().detach().numpy() for param in pretrain_model.d_params]\n",
        "    #     with open(BEST_PARAMS_PATH, \"wb\") as f:\n",
        "    #       pickle.dump(best_params, f)\n",
        "    #     print(f\"Best loss achieved: {min_loss}, parameters saved!\")\n",
        "\n",
        "      if batch_idx % 100 == 0:\n",
        "        print(f\"Loss: {loss}\")\n",
        "        print(f\"z: \", pretrain_model.z)\n",
        "        # if batch_idx != 0:\n",
        "            # eval_loss, prec = validate(pretrain_model.y_pred)\n",
        "            # print(\"Validation loss: \", eval_loss)\n",
        "            \n",
        "            # # if prec > max_prec:\n",
        "            #     # max_prec = prec\n",
        "            #     # best_params = [param.cpu().detach().numpy() for param in pretrain_model.d_params]\n",
        "            #     # with open(BEST_PARAMS_PATH, \"wb\") as f:\n",
        "            #         # pickle.dump(best_params, f)\n",
        "            #     # print(f\"Best prec achieved: {prec}, parameters saved!\")\n",
        "            # if eval_loss < min_loss:\n",
        "            #     min_loss = eval_loss\n",
        "            #     del best_params\n",
        "            #     best_params = [param.cpu().detach().numpy() for param in pretrain_model.d_params]\n",
        "            #     with open(BEST_PARAMS_PATH, \"wb\") as f:\n",
        "            #         pickle.dump(best_params, f)\n",
        "            #     print(f\"Best loss achieved: {eval_loss}, parameters saved!\")"
      ]
    },
    {
      "cell_type": "code",
      "execution_count": 29,
      "metadata": {
        "id": "F85w_ZpmPD9t"
      },
      "outputs": [],
      "source": [
        "params = [param.cpu().detach().numpy() for param in pretrain_model.d_params]\n",
        "with open(BEST_PARAMS_PATH_2, 'wb') as f:\n",
        "  pickle.dump(params, f)"
      ]
    },
    {
      "attachments": {},
      "cell_type": "markdown",
      "metadata": {
        "id": "sFOoS7eGqlrH"
      },
      "source": [
        "Train with `DAE` loading the pretrained `DAE_tied` model"
      ]
    },
    {
      "cell_type": "code",
      "execution_count": null,
      "metadata": {
        "id": "IFAj48uuqlbd"
      },
      "outputs": [],
      "source": [
        "conf = {\n",
        "    'batch': 250,\n",
        "    'n_input': SONGS_VECTOR_LENGTH + ARTIST_VECTOR_LENGTH - 2, #-2 to compense the first row of zeros since the pos in the df start at 1\n",
        "    'hidden': 256,\n",
        "    'lr': 0.00005,\n",
        "    'reg_lambda': 0.0,\n",
        "    'initval': BEST_PARAMS_PATH,\n",
        "    \"keep_prob\": 0.8, \n",
        "    \"input_keep_prob\": 0.8, # This isn't used for now because of the .uniform()\n",
        "    'save': os.path.join(SAVED_MODELS, \"dae_model.pickle\")\n",
        "}\n",
        "dae_model = DAE(conf)\n",
        "dae_model.init_weight()\n",
        "optimizer = optim.Adam(dae_model.d_params, lr=conf['lr'])\n",
        "\n",
        "min_loss = 600\n",
        "losses = []\n",
        "best_params = []\n",
        "FINE_TUNED_BEST_PARAMS_PATH = os.path.join(SAVED_MODELS, \"final_best_params.pickle\")"
      ]
    },
    {
      "cell_type": "code",
      "execution_count": null,
      "metadata": {
        "id": "gyw3SnVYyRP1"
      },
      "outputs": [],
      "source": [
        "from tqdm.notebook import tqdm\n",
        "import random\n",
        "NUM_EPOCHS = 20\n",
        "with songs_converter.make_torch_dataloader(batch_size=conf[\"batch\"], num_epochs = NUM_EPOCHS) as songs_dataloader:\n",
        "  with artist_converter.make_torch_dataloader(batch_size=conf[\"batch\"], num_epochs = NUM_EPOCHS) as artists_dataloader:\n",
        "    ARTIST_SHAPE = (ARTIST_VECTOR_LENGTH, )\n",
        "    SONG_SHAPE = (SONGS_VECTOR_LENGTH, )\n",
        "    # for epoch in tqdm(range(num_epochs), desc=\"Training...\"):\n",
        "    zipped_dataloaders = zip(songs_dataloader, artists_dataloader)\n",
        "    for batch_idx, (song, artist) in tqdm(enumerate(zipped_dataloaders), desc=f\"Training model\", total= (NUM_PLAYLISTS / conf[\"batch\"]) * NUM_EPOCHS):\n",
        "      # Pick random input_keep_prob between 0.5 and 0.8\n",
        "      dae_model.input_keep_prob = random.uniform(0.5, 0.8) #TODO: make this dynamic inside the conf\n",
        "\n",
        "      padded_song_tensor = song[\"embedding_indices\"]\n",
        "      padded_artist_tensor = artist[\"embedding_indices\"]\n",
        "      \n",
        "      song_dense = padded_tensors_to_dense_matrix(padded_song_tensor, SONG_SHAPE)[:, 1:]\n",
        "      artist_dense = padded_tensors_to_dense_matrix(padded_artist_tensor, ARTIST_SHAPE)[:, 1:]\n",
        "\n",
        "      song_dense = song_dense.to(device)\n",
        "      artist_dense = artist_dense.to(device)\n",
        "\n",
        "      rand_int = np.random.randint(2)\n",
        "      if rand_int == 0:\n",
        "        #Zero-out the artists\n",
        "        optimizer.zero_grad()\n",
        "        x = torch.concat((song_dense, torch.zeros_like(artist_dense)), dim=1).t()\n",
        "        y = torch.concat((song_dense, artist_dense), dim=1).t()\n",
        "        dae_model(x, y)\n",
        "        loss = dae_model.cost\n",
        "        dae_model.cost.backward()\n",
        "        optimizer.step()\n",
        "      if rand_int == 1:\n",
        "        #Zero-out the tracks\n",
        "        optimizer.zero_grad()\n",
        "        x = torch.concat((torch.zeros_like(song_dense), artist_dense), dim=1).t()\n",
        "        y = torch.concat((song_dense, artist_dense), dim=1).t()\n",
        "        dae_model(x, y)\n",
        "        loss = dae_model.cost\n",
        "        dae_model.cost.backward()\n",
        "        optimizer.step()\n",
        "\n",
        "      losses.append(loss)\n",
        "\n",
        "     \n",
        "      if loss < min_loss:\n",
        "        min_loss = loss\n",
        "        del best_params\n",
        "        best_params = [param.cpu().detach().numpy() for param in dae_model.d_params]\n",
        "        with open(FINE_TUNED_BEST_PARAMS_PATH, \"wb\") as f:\n",
        "          pickle.dump(best_params, f)\n",
        "        print(f\"Best loss achieved: {min_loss}, parameters saved!\")\n",
        "\n",
        "      if batch_idx % 10 == 0:\n",
        "        print(f\"Loss: {loss}\")\n"
      ]
    },
    {
      "attachments": {},
      "cell_type": "markdown",
      "metadata": {
        "id": "JQL3P9JByR7Q"
      },
      "source": [
        "Let's see how the loss decreases"
      ]
    },
    {
      "cell_type": "code",
      "execution_count": null,
      "metadata": {
        "id": "qF9gP0FMLdw2"
      },
      "outputs": [],
      "source": [
        "SAVE_MODEL_PATH = os.path.join(SAVED_DFS_PATH, f\"model_new.pickle\")\n",
        "params = [param.cpu().detach().numpy() for param in dae_model.d_params]\n",
        "with open(SAVE_MODEL_PATH, 'wb') as f:\n",
        "  pickle.dump(params, f)"
      ]
    },
    {
      "cell_type": "code",
      "execution_count": 27,
      "metadata": {
        "id": "V4JxgOCvx2TE"
      },
      "outputs": [
        {
          "data": {
            "image/png": "[encoded data removed]",
            "text/plain": [
              "<Figure size 640x480 with 1 Axes>"
            ]
          },
          "metadata": {},
          "output_type": "display_data"
        }
      ],
      "source": [
        "import matplotlib.pyplot as plt\n",
        "x = np.arange(len(losses))\n",
        "plt.plot(x, [loss.item() for loss in losses])\n",
        "plt.xlabel('Iteration')\n",
        "plt.ylabel('Loss')\n",
        "plt.title('Loss Progression')\n",
        "plt.show()"
      ]
    },
    {
      "attachments": {},
      "cell_type": "markdown",
      "metadata": {
        "id": "Zqyho9fPl0ow"
      },
      "source": [
        "# Inference"
      ]
    },
    {
      "cell_type": "code",
      "execution_count": 31,
      "metadata": {
        "id": "S9RFO76gK8Qb"
      },
      "outputs": [],
      "source": [
        "from pyspark.ml.linalg import VectorUDT\n",
        "song_schema = StructType([\n",
        "    StructField(\"pos\", IntegerType(), True),\n",
        "    StructField(\"artist_name\", StringType(), True),\n",
        "    StructField(\"track_uri\", StringType(), True),\n",
        "    StructField(\"artist_uri\", StringType(), True),\n",
        "    StructField(\"track_name\", StringType(), True),\n",
        "    StructField(\"album_uri\", StringType(), True),\n",
        "    StructField(\"duration_ms\", LongType(), True),\n",
        "    StructField(\"album_name\", StringType(), True)\n",
        "])\n",
        "\n",
        "playlist_schema = StructType([\n",
        "    StructField(\"name\", StringType(), True),\n",
        "    StructField(\"collaborative\", StringType(), True),\n",
        "    StructField(\"pid\", IntegerType(), True),\n",
        "    StructField(\"modified_at\", IntegerType(), True),\n",
        "    StructField(\"num_tracks\", IntegerType(), True),\n",
        "    StructField(\"num_albums\", IntegerType(), True),\n",
        "    StructField(\"num_followers\", IntegerType(), True),\n",
        "    StructField(\"tracks\", ArrayType(song_schema), True),\n",
        "    StructField(\"num_edits\", IntegerType(), True),\n",
        "    StructField(\"duration_ms\", IntegerType(), True),\n",
        "    StructField(\"num_artists\", IntegerType(), True),\n",
        "])"
      ]
    },
    {
      "cell_type": "code",
      "execution_count": 32,
      "metadata": {
        "id": "5lgIPJo2tbUL"
      },
      "outputs": [],
      "source": [
        "SONGS_EMBEDDINGS_PATH_TEST_TRAIN = os.path.join(SAVED_DFS_PATH, f\"nn_songs_embeddings-test-train-{NUM_PLAYLISTS}.json\")\n",
        "SONGS_EMBEDDINGS_PATH_TEST_TEST = os.path.join(SAVED_DFS_PATH, f\"nn_songs_embeddings-test-test-{NUM_PLAYLISTS}.json\")\n",
        "\n",
        "ARTISTS_EMBEDDINGS_PATH_TEST_TRAIN = os.path.join(SAVED_DFS_PATH, f\"nn_artists_embeddings-test-train-{NUM_PLAYLISTS}.json\")\n",
        "ARTISTS_EMBEDDINGS_PATH_TEST_TEST = os.path.join(SAVED_DFS_PATH, f\"nn_artists_embeddings-test-test-{NUM_PLAYLISTS}.json\")\n",
        "\n",
        "songs_embeddings_test_train = spark.read.schema(playlist_schema_mapped).json(SONGS_EMBEDDINGS_PATH_TEST_TRAIN)\n",
        "songs_embeddings_test_test = spark.read.schema(playlist_schema_mapped).json(SONGS_EMBEDDINGS_PATH_TEST_TEST)\n",
        "\n",
        "artists_embeddings_test_train = spark.read.schema(playlist_schema_mapped).json(ARTISTS_EMBEDDINGS_PATH_TEST_TRAIN)\n",
        "artists_embeddings_test_test = spark.read.schema(playlist_schema_mapped).json(ARTISTS_EMBEDDINGS_PATH_TEST_TEST)\n",
        "\n",
        "TEST_TRAIN_DF_PATH = os.path.join(SAVED_DFS_PATH, f\"nn_test_df-train-{NUM_PLAYLISTS}.json\")\n",
        "TEST_TEST_DF_PATH = os.path.join(SAVED_DFS_PATH, f\"nn_test_df-test-{NUM_PLAYLISTS}.json\")\n",
        "\n",
        "test_train_df = spark.read.schema(playlist_schema).json(TEST_TRAIN_DF_PATH)\n",
        "test_test_df = spark.read.schema(playlist_schema).json(TEST_TEST_DF_PATH)"
      ]
    },
    {
      "cell_type": "code",
      "execution_count": 35,
      "metadata": {
        "id": "wKbyd0kRl3SH"
      },
      "outputs": [],
      "source": [
        "def construct_prediction_df(prediction: torch.Tensor, mapping: DataFrame, top_n: int = 50) -> DataFrame:\n",
        "  pred_np = prediction.detach().numpy()\n",
        "  indexes = np.arange(pred_np.shape[0]) # To compensate the index start at 1\n",
        "  schema = StructType([\n",
        "      StructField(\"pos\", IntegerType()),\n",
        "      StructField(\"confidence\", FloatType())\n",
        "  ])\n",
        "  prediction_df = spark.createDataFrame([(pos, conf) for pos, conf in zip(indexes.tolist(), pred_np.tolist())],schema)\n",
        "  prediction_info = prediction_df.join(mapping, \"pos\")\n",
        "  return prediction_info\n",
        "\n",
        "# prediction_df = construct_prediction_df(prediction, songs_df_test)\n",
        "# prediction_df.show()"
      ]
    },
    {
      "cell_type": "code",
      "execution_count": 36,
      "metadata": {
        "id": "bQ9LquCdSbJJ"
      },
      "outputs": [],
      "source": [
        "def remove_existing_tracks(playlist_tracks: DataFrame, recommendations_df: DataFrame) -> DataFrame:\n",
        "  playlist_tracks = playlist_tracks.select(\"track_uri\").cache()\n",
        "  playlist_tracks_compatible = playlist_tracks.join(F.broadcast(recommendations_df), on=\"track_uri\")\n",
        "  playlist_tracks.unpersist()\n",
        "  return recommendations_df.exceptAll(F.broadcast(playlist_tracks_compatible))"
      ]
    },
    {
      "attachments": {},
      "cell_type": "markdown",
      "metadata": {
        "id": "Wx-tghy0bAkU"
      },
      "source": [
        "# Evaluation"
      ]
    },
    {
      "cell_type": "code",
      "execution_count": 37,
      "metadata": {
        "id": "Hb793kgebBwJ"
      },
      "outputs": [],
      "source": [
        "def precision_at_k(recommendations, ground_truth, num_of_recommendations) -> float:\n",
        "    \"\"\"\n",
        "    Calculates precision at k for the recommendations.\n",
        "    \"\"\"\n",
        "    recommended_relevant_tracks = recommendations.join(ground_truth, \"track_uri\").cache()\n",
        "    reccomended_relevant_tracks_count = recommended_relevant_tracks.count() #this can be top_n_results.join in order to be more performant\n",
        "    recommended_relevant_tracks.unpersist()\n",
        "    precision = reccomended_relevant_tracks_count / float(num_of_recommendations)\n",
        "\n",
        "    return precision\n",
        "\n",
        "\n",
        "import math\n",
        "def normalized_discounted_cumulative_gain(recommendations: DataFrame, ground_truth: DataFrame, num_of_recommendations: int) -> float:\n",
        "  recommendations_list = recommendations.collect()\n",
        "  cumulative_gain = 0\n",
        "\n",
        "  intersection = recommendations.join(ground_truth, \"track_uri\").count()\n",
        "  if intersection == 0: return 0\n",
        "\n",
        "  ideal_cumulative_gain = 1 + np.array([(1 / math.log(i, 2)) for i in range(2, 2+intersection)]).sum() #TODO: replace this with sum([])\n",
        "  for index, row in enumerate(recommendations_list):\n",
        "    i = index + 1\n",
        "    is_rel = ground_truth.filter(F.col(\"track_uri\").isin(row.track_uri)).count() > 0\n",
        "    rel = 1 if is_rel else 0\n",
        "    if i == 1:\n",
        "      cumulative_gain += rel\n",
        "    else:\n",
        "      cumulative_gain += (rel / math.log(i, 2))\n",
        "  return cumulative_gain / ideal_cumulative_gain"
      ]
    },
    {
      "attachments": {},
      "cell_type": "markdown",
      "metadata": {
        "id": "VUYEe5iHbTHs"
      },
      "source": [
        "Creating the dataloaders for the test set"
      ]
    },
    {
      "cell_type": "code",
      "execution_count": 38,
      "metadata": {
        "id": "LYXLsGIrbH2e"
      },
      "outputs": [
        {
          "name": "stderr",
          "output_type": "stream",
          "text": [
            "Converting floating-point columns to float32                                    \n"
          ]
        },
        {
          "name": "stdout",
          "output_type": "stream",
          "text": [
            "Max number of songs: 250\n"
          ]
        },
        {
          "name": "stderr",
          "output_type": "stream",
          "text": [
            "The median size 137021 B (< 50 MB) of the parquet files is too small. Total size: 233150 B. Increase the median file size by calling df.repartition(n) or df.coalesce(n), which might help improve the performance. Parquet files: file:///Users/dov/Desktop/big-data-project/data/cache/20230613203504-appid-local-1686674016052-044c5a3b-7e2e-4703-bde1-c5581a209825/part-00001-2209ea1f-fd7e-4e79-b87b-e7b847d72234-c000.parquet, ...\n",
            "Converting floating-point columns to float32\n"
          ]
        },
        {
          "name": "stdout",
          "output_type": "stream",
          "text": [
            "Max number of songs: 250\n"
          ]
        },
        {
          "name": "stderr",
          "output_type": "stream",
          "text": [
            "The median size 19056 B (< 50 MB) of the parquet files is too small. Total size: 134516 B. Increase the median file size by calling df.repartition(n) or df.coalesce(n), which might help improve the performance. Parquet files: file:///Users/dov/Desktop/big-data-project/data/cache/20230613203506-appid-local-1686674016052-989e6c66-19d3-4e2c-9408-5bb7a5ea72a5/part-00000-c95c506b-0a0b-41e6-8a3b-3a5d31d76cac-c000.parquet, ...\n"
          ]
        }
      ],
      "source": [
        "spark.conf.set(SparkDatasetConverter.PARENT_CACHE_DIR_URL_CONF, f'file://{CACHE}')\n",
        "\n",
        "pytorch_songs_df_test = convert_sparse_to_indices(songs_embeddings_test_train.select(\"tracks\"))\n",
        "songs_converter_test = make_spark_converter(pytorch_songs_df_test)\n",
        "\n",
        "pytorch_artists_df_test = convert_sparse_to_indices(artists_embeddings_test_train.select(\"tracks\"))\n",
        "artist_converter_test = make_spark_converter(pytorch_artists_df_test)"
      ]
    },
    {
      "cell_type": "code",
      "execution_count": 40,
      "metadata": {
        "id": "9h7NRo3Ggt3h"
      },
      "outputs": [
        {
          "data": {
            "text/plain": [
              "DAE()"
            ]
          },
          "execution_count": 40,
          "metadata": {},
          "output_type": "execute_result"
        }
      ],
      "source": [
        "#Hyperparameters used in the paper\n",
        "conf = {\n",
        "    'batch': 32,\n",
        "    'n_input': SONGS_VECTOR_LENGTH + ARTIST_VECTOR_LENGTH - 2, #-2 to compense the first row of zeros since the pos in the df starts at 1,\n",
        "    'hidden': 50,\n",
        "    'lr': 0.001, #original 0.001\n",
        "    'reg_lambda': 0.0,\n",
        "    'initval': BEST_PARAMS_PATH, #TODO: change it in fine_tuned path\n",
        "    \"keep_prob\": 1,\n",
        "    \"input_keep_prob\": 1,\n",
        "    'save': os.path.join(SAVED_MODELS, \"dae_model.pickle\")\n",
        "}\n",
        "dae_model_test = DAE(conf)\n",
        "dae_model_test.init_weight()\n",
        "dae_model_test.eval()"
      ]
    },
    {
      "cell_type": "code",
      "execution_count": 41,
      "metadata": {
        "id": "dn2zrRCSdKQO"
      },
      "outputs": [
        {
          "data": {
            "application/vnd.jupyter.widget-view+json": {
              "model_id": "dc248691ce9346268ecdfbdc206f3b47",
              "version_major": 2,
              "version_minor": 0
            },
            "text/plain": [
              "Evaluation...:   0%|          | 0/3125.0 [00:00<?, ?it/s]"
            ]
          },
          "metadata": {},
          "output_type": "display_data"
        }
      ],
      "source": [
        "ARTIST_SHAPE = (ARTIST_VECTOR_LENGTH, )\n",
        "SONG_SHAPE = (SONGS_VECTOR_LENGTH, )\n",
        "with songs_converter_test.make_torch_dataloader(batch_size=conf[\"batch\"], num_epochs =1) as songs_dataloader:\n",
        "  with artist_converter_test.make_torch_dataloader(batch_size=conf[\"batch\"], num_epochs=1) as artists_dataloader:\n",
        "    zipped_dataloaders = zip(songs_dataloader, artists_dataloader)\n",
        "    for batch_idx, (song, artist) in tqdm(enumerate(zipped_dataloaders), desc=f\"Evaluation...\", total= (NUM_PLAYLISTS / conf[\"batch\"])):\n",
        "      padded_song_tensor = song[\"embedding_indices\"]\n",
        "      padded_artist_tensor = artist[\"embedding_indices\"]\n",
        "      \n",
        "      song_dense = padded_tensors_to_dense_matrix(padded_song_tensor, SONG_SHAPE)[:, 1:]\n",
        "      artist_dense = padded_tensors_to_dense_matrix(padded_artist_tensor, ARTIST_SHAPE)[:, 1:]\n",
        "\n",
        "      song_dense = song_dense.to(device)\n",
        "      artist_dense = artist_dense.to(device)\n",
        "\n",
        "      x = torch.concat((song_dense, artist_dense), dim=1).t()\n",
        "      y = torch.concat((song_dense, artist_dense), dim=1).t()\n",
        "      \n",
        "      dae_model_test(x,y)\n",
        "      \n",
        "      result = dae_model_test.y_pred\n",
        "      break"
      ]
    },
    {
      "cell_type": "code",
      "execution_count": 42,
      "metadata": {
        "id": "hRZ9w5nr5TaK"
      },
      "outputs": [
        {
          "data": {
            "text/plain": [
              "tensor([[0.0261, 0.0018, 0.0084,  ..., 0.0003, 0.0004, 0.0004],\n",
              "        [0.0270, 0.0019, 0.0088,  ..., 0.0003, 0.0004, 0.0004],\n",
              "        [0.0272, 0.0019, 0.0089,  ..., 0.0003, 0.0004, 0.0004],\n",
              "        ...,\n",
              "        [0.0292, 0.0022, 0.0098,  ..., 0.0004, 0.0005, 0.0005],\n",
              "        [0.0262, 0.0018, 0.0084,  ..., 0.0003, 0.0004, 0.0004],\n",
              "        [0.0264, 0.0018, 0.0086,  ..., 0.0003, 0.0004, 0.0004]],\n",
              "       device='mps:0', grad_fn=<SigmoidBackward0>)"
            ]
          },
          "execution_count": 42,
          "metadata": {},
          "output_type": "execute_result"
        }
      ],
      "source": [
        "result"
      ]
    },
    {
      "cell_type": "code",
      "execution_count": null,
      "metadata": {
        "id": "yg8V8VSSu3XI"
      },
      "outputs": [],
      "source": [
        "# torch.concat((song_dense[:, 1:], artist_dense[:, 1:]), dim=1).t().shape\n",
        "# (song_dense[:, 0] == 0.).all(), (artist_dense[:, 0] == 0.).all()"
      ]
    },
    {
      "cell_type": "code",
      "execution_count": null,
      "metadata": {
        "id": "kLpygSgaMVr6"
      },
      "outputs": [],
      "source": [
        "# result = result.to(\"cpu\")\n",
        "# prediction_df = construct_prediction_df(result[10][:SONGS_VECTOR_LENGTH_TEST], songs_df_test, 20)"
      ]
    },
    {
      "cell_type": "code",
      "execution_count": null,
      "metadata": {
        "id": "-uYwzqLFMjWE"
      },
      "outputs": [],
      "source": [
        "# prediction_df.orderBy(\"pos\").show(truncate=False)\n",
        "# songs_df_test.show()"
      ]
    },
    {
      "cell_type": "code",
      "execution_count": null,
      "metadata": {
        "id": "-0wojIXkuFnN"
      },
      "outputs": [],
      "source": [
        "# def evaluate_batch(batch_result: torch.Tensor, batch_n: int) -> Tuple[float, float]:\n",
        "#   \"\"\"\n",
        "#   Returns the precision and NDCG for a given batch.\n",
        "#   \"\"\"\n",
        "  \n",
        "#   return 0,0\n",
        "\n",
        "# def perform_evaluation(songs_dataloader, artists_dataloader, test_set):\n",
        "#   \"\"\"\n",
        "#   Returns the precision and NDCG, averaged from all the samples in the test set\n",
        "#   \"\"\"\n",
        "#   with songs_converter_test.make_torch_dataloader(num_epochs =1) as songs_dataloader:\n",
        "#     with artist_converter_test.make_torch_dataloader(num_epochs=1) as artists_dataloader:\n",
        "#       zipped_dataloaders = zip(songs_dataloader, artists_dataloader)\n",
        "#       for batch_idx, (song, artist) in tqdm(enumerate(zipped_dataloaders), desc=f\"Evaluation...\", total= (NUM_PLAYLISTS / 32) * NUM_EPOCHS):\n",
        "#         padded_song_tensor = song[\"embedding_indices\"]\n",
        "#         padded_artist_tensor = artist[\"embedding_indices\"]\n",
        "        \n",
        "#         song_dense = padded_tensors_to_dense_matrix(padded_song_tensor, SONG_SHAPE)\n",
        "#         artist_dense = padded_tensors_to_dense_matrix(padded_artist_tensor, ARTIST_SHAPE)\n",
        "\n",
        "#         x = torch.concat((song_dense, artist_dense), dim=1).t()\n",
        "#         y = torch.concat((song_dense, artist_dense), dim=1).t()\n",
        "#         dae_model(x,y)\n",
        "#         batch_result = dae_model.y_pred\n",
        "#         break\n"
      ]
    },
    {
      "cell_type": "code",
      "execution_count": 43,
      "metadata": {
        "id": "W4LWsnwWeVAV"
      },
      "outputs": [
        {
          "name": "stderr",
          "output_type": "stream",
          "text": [
            "23/06/13 20:36:00 WARN TaskSetManager: Stage 35 contains a task of very large size (1209 KiB). The maximum recommended task size is 1000 KiB.\n",
            "                                                                                \r"
          ]
        },
        {
          "name": "stdout",
          "output_type": "stream",
          "text": [
            "71860 0.0 0\n"
          ]
        },
        {
          "data": {
            "text/plain": [
              "DataFrame[pos: int, confidence: float, track_uri: string]"
            ]
          },
          "execution_count": 43,
          "metadata": {},
          "output_type": "execute_result"
        }
      ],
      "source": [
        "#Testing the first batch\n",
        "\n",
        "results = []\n",
        "# for i in tqdm(range(32)):\n",
        "PID = 71860\n",
        "ground_truth = test_test_df.filter(F.col(\"pid\") == PID).select(F.explode(\"tracks\")).select(\"col.*\")\n",
        "playlist_train_songs = test_train_df.filter(F.col(\"pid\") == PID).select(F.explode(\"tracks\")).select(\"col.*\")\n",
        "\n",
        "#Removing rare songs (that the model didn't consider)\n",
        "#This may be not the best approach since the train songs or ground truth may become 0\n",
        "clean_ground_truth = ground_truth.join(song_mapping, on=\"track_uri\").cache()\n",
        "clean_playlist_train_songs = playlist_train_songs.join(song_mapping, on=\"track_uri\").cache()\n",
        "\n",
        "# n_recommendations = ground_truth.count() or 1\n",
        "n_recommendations = 500\n",
        "result = result.cpu()\n",
        "\n",
        "#The result[i] has to be aligned with the PID. i != PID. \n",
        "prediction_df = construct_prediction_df(result[1][:SONGS_VECTOR_LENGTH], song_mapping, n_recommendations).cache()\n",
        "clean_prediction_df = remove_existing_tracks(clean_playlist_train_songs, prediction_df)\n",
        "\n",
        "clean_prediction_df = prediction_df.orderBy(F.col(\"confidence\").desc()).limit(n_recommendations).cache()\n",
        "\n",
        "prec = precision_at_k(clean_prediction_df, clean_ground_truth, n_recommendations)\n",
        "gain = normalized_discounted_cumulative_gain(clean_prediction_df, clean_ground_truth, n_recommendations)\n",
        "print(PID, prec, gain)\n",
        "results.append((prec, gain))\n",
        "\n",
        "ground_truth.unpersist()\n",
        "clean_ground_truth.unpersist()\n",
        "playlist_train_songs.unpersist()\n",
        "clean_playlist_train_songs.unpersist()\n",
        "prediction_df.unpersist()\n",
        "clean_prediction_df.unpersist()"
      ]
    },
    {
      "cell_type": "code",
      "execution_count": 45,
      "metadata": {
        "id": "8XUxFpPGVLf-"
      },
      "outputs": [
        {
          "name": "stdout",
          "output_type": "stream",
          "text": [
            "Playlist train songs\n",
            "+---+-------------+------------------------------------+-------------------------------------+---------------------------------------------------------------+------------------------------------+-----------+-----------------+\n",
            "|pos|artist_name  |track_uri                           |artist_uri                           |track_name                                                     |album_uri                           |duration_ms|album_name       |\n",
            "+---+-------------+------------------------------------+-------------------------------------+---------------------------------------------------------------+------------------------------------+-----------+-----------------+\n",
            "|17 |MIKA         |spotify:track:6AviHKu3ydzAePBmzEi62v|spotify:artist:5MmVJVhhYKQ86izuGHzJYA|Popular Song                                                   |spotify:album:6czdbbMtGbAkZ6ud2OMTcg|200213     |Yours Truly      |\n",
            "|8  |Ariana Grande|spotify:track:6EIsMa5lbvljYxqCkjZVDi|spotify:artist:66CXWjxzNUsdJxJ2JdwvnR|Baby I                                                         |spotify:album:5xSvNPstcxHtR4ap2vvN8A|197600     |Yours Truly      |\n",
            "|16 |Ariana Grande|spotify:track:442j8VxaB60dWf9cBFuX5w|spotify:artist:66CXWjxzNUsdJxJ2JdwvnR|Almost Is Never Enough                                         |spotify:album:6czdbbMtGbAkZ6ud2OMTcg|327773     |Yours Truly      |\n",
            "|12 |Ariana Grande|spotify:track:1xCqIXCApBgcjwRLostpKl|spotify:artist:66CXWjxzNUsdJxJ2JdwvnR|Piano                                                          |spotify:album:5xSvNPstcxHtR4ap2vvN8A|234426     |Yours Truly      |\n",
            "|19 |Ariana Grande|spotify:track:7fYbFYt7X4FZvuJJC90EX0|spotify:artist:66CXWjxzNUsdJxJ2JdwvnR|Problem                                                        |spotify:album:2ZnzBwKw4e2SHpGvOTWnj4|193893     |My Everything    |\n",
            "|9  |Ariana Grande|spotify:track:3yiopxxeHuwcpAg4e57Zjt|spotify:artist:66CXWjxzNUsdJxJ2JdwvnR|Right There                                                    |spotify:album:5xSvNPstcxHtR4ap2vvN8A|247080     |Yours Truly      |\n",
            "|32 |Ariana Grande|spotify:track:3YQfqb3oFhDZa3iNcFu57G|spotify:artist:66CXWjxzNUsdJxJ2JdwvnR|You Don't Know Me                                              |spotify:album:5AMOKSM1ftb3opIbGT2d4q|233720     |My Everything    |\n",
            "|0  |Ariana Grande|spotify:track:1magKwGDsyU3RGjpo0BfPe|spotify:artist:66CXWjxzNUsdJxJ2JdwvnR|Brand New You (feat. Brynn Williams & Caitlin Gann)            |spotify:album:48uMMsVHGfKipIsOuYcvjs|188093     |Brand New You    |\n",
            "|25 |Ariana Grande|spotify:track:26gXVZqHG3AThfmkXLlp3P|spotify:artist:66CXWjxzNUsdJxJ2JdwvnR|Break Your Heart Right Back                                    |spotify:album:2ZnzBwKw4e2SHpGvOTWnj4|253386     |My Everything    |\n",
            "|5  |Ariana Grande|spotify:track:4r4V1wYecTxSAAXV11cFPD|spotify:artist:66CXWjxzNUsdJxJ2JdwvnR|Focus                                                          |spotify:album:1TVt7uWfV3vLiU8bEmBEWL|211360     |Dangerous Woman  |\n",
            "|11 |Ariana Grande|spotify:track:7EpKfPAURnG9OCVer0S30N|spotify:artist:66CXWjxzNUsdJxJ2JdwvnR|Lovin' It                                                      |spotify:album:5xSvNPstcxHtR4ap2vvN8A|180693     |Yours Truly      |\n",
            "|1  |Ariana Grande|spotify:track:5RNKIGhRllNHGjroVDPXat|spotify:artist:66CXWjxzNUsdJxJ2JdwvnR|A Little More Homework (feat. Graham Phillips) - Single Version|spotify:album:48uMMsVHGfKipIsOuYcvjs|302733     |Brand New You    |\n",
            "|37 |Ariana Grande|spotify:track:73pH60xHd2S87oNIlgztNY|spotify:artist:66CXWjxzNUsdJxJ2JdwvnR|True Love                                                      |spotify:album:2A1KyqHu1DmLtjXpIMNoQq|166466     |Christmas & Chill|\n",
            "|21 |Ariana Grande|spotify:track:6LZkF2fayIxtA1SIMmAGoX|spotify:artist:66CXWjxzNUsdJxJ2JdwvnR|Why Try                                                        |spotify:album:2ZnzBwKw4e2SHpGvOTWnj4|211880     |My Everything    |\n",
            "|2  |Ariana Grande|spotify:track:1ADjWm8QNhgNV8yCNNgQ1T|spotify:artist:66CXWjxzNUsdJxJ2JdwvnR|Santa Tell Me                                                  |spotify:album:2Y42QS2bGi5NokHzjticau|204093     |Santa Tell Me    |\n",
            "|29 |Ariana Grande|spotify:track:0b0hbaQZnkFDOGjOUkIbUK|spotify:artist:66CXWjxzNUsdJxJ2JdwvnR|My Everything                                                  |spotify:album:2ZnzBwKw4e2SHpGvOTWnj4|168546     |My Everything    |\n",
            "|35 |Ariana Grande|spotify:track:1gCC4V2iW0juUv4jaDABsp|spotify:artist:66CXWjxzNUsdJxJ2JdwvnR|December                                                       |spotify:album:2A1KyqHu1DmLtjXpIMNoQq|116800     |Christmas & Chill|\n",
            "|3  |Ariana Grande|spotify:track:2h1IPjP471JJRSShTHRUhi|spotify:artist:66CXWjxzNUsdJxJ2JdwvnR|Dangerous Woman                                                |spotify:album:4lVR2fg3DAUQpGVJ6DciHW|235946     |Dangerous Woman  |\n",
            "|34 |Ariana Grande|spotify:track:2E5R3USq1SSOFDnl4SHe1Z|spotify:artist:66CXWjxzNUsdJxJ2JdwvnR|Wit It This Christmas                                          |spotify:album:2A1KyqHu1DmLtjXpIMNoQq|161680     |Christmas & Chill|\n",
            "|23 |Ariana Grande|spotify:track:1BP617VnYByf7FzCnLEjbg|spotify:artist:66CXWjxzNUsdJxJ2JdwvnR|Best Mistake                                                   |spotify:album:2ZnzBwKw4e2SHpGvOTWnj4|233733     |My Everything    |\n",
            "+---+-------------+------------------------------------+-------------------------------------+---------------------------------------------------------------+------------------------------------+-----------+-----------------+\n",
            "only showing top 20 rows\n",
            "\n",
            "Clean playlist train songs\n",
            "+------------------------------------+---+-------------+-------------------------------------+---------------------------------------------------------------+------------------------------------+-----------+-----------------+------+\n",
            "|track_uri                           |pos|artist_name  |artist_uri                           |track_name                                                     |album_uri                           |duration_ms|album_name       |pos   |\n",
            "+------------------------------------+---+-------------+-------------------------------------+---------------------------------------------------------------+------------------------------------+-----------+-----------------+------+\n",
            "|spotify:track:6EIsMa5lbvljYxqCkjZVDi|8  |Ariana Grande|spotify:artist:66CXWjxzNUsdJxJ2JdwvnR|Baby I                                                         |spotify:album:5xSvNPstcxHtR4ap2vvN8A|197600     |Yours Truly      |440   |\n",
            "|spotify:track:1xCqIXCApBgcjwRLostpKl|12 |Ariana Grande|spotify:artist:66CXWjxzNUsdJxJ2JdwvnR|Piano                                                          |spotify:album:5xSvNPstcxHtR4ap2vvN8A|234426     |Yours Truly      |645   |\n",
            "|spotify:track:1gCC4V2iW0juUv4jaDABsp|35 |Ariana Grande|spotify:artist:66CXWjxzNUsdJxJ2JdwvnR|December                                                       |spotify:album:2A1KyqHu1DmLtjXpIMNoQq|116800     |Christmas & Chill|5231  |\n",
            "|spotify:track:1BP617VnYByf7FzCnLEjbg|23 |Ariana Grande|spotify:artist:66CXWjxzNUsdJxJ2JdwvnR|Best Mistake                                                   |spotify:album:2ZnzBwKw4e2SHpGvOTWnj4|233733     |My Everything    |6146  |\n",
            "|spotify:track:7fYbFYt7X4FZvuJJC90EX0|19 |Ariana Grande|spotify:artist:66CXWjxzNUsdJxJ2JdwvnR|Problem                                                        |spotify:album:2ZnzBwKw4e2SHpGvOTWnj4|193893     |My Everything    |15043 |\n",
            "|spotify:track:0b0hbaQZnkFDOGjOUkIbUK|29 |Ariana Grande|spotify:artist:66CXWjxzNUsdJxJ2JdwvnR|My Everything                                                  |spotify:album:2ZnzBwKw4e2SHpGvOTWnj4|168546     |My Everything    |19506 |\n",
            "|spotify:track:2ofOe2OaXFpZF5ETbsc7Qu|7  |Ariana Grande|spotify:artist:66CXWjxzNUsdJxJ2JdwvnR|Honeymoon Avenue                                               |spotify:album:5xSvNPstcxHtR4ap2vvN8A|339733     |Yours Truly      |23797 |\n",
            "|spotify:track:1X2Zd5wKGbY1oKzb8dzJRy|22 |Ariana Grande|spotify:artist:66CXWjxzNUsdJxJ2JdwvnR|Break Free                                                     |spotify:album:2ZnzBwKw4e2SHpGvOTWnj4|214840     |My Everything    |28070 |\n",
            "|spotify:track:3yiopxxeHuwcpAg4e57Zjt|9  |Ariana Grande|spotify:artist:66CXWjxzNUsdJxJ2JdwvnR|Right There                                                    |spotify:album:5xSvNPstcxHtR4ap2vvN8A|247080     |Yours Truly      |31049 |\n",
            "|spotify:track:2E5R3USq1SSOFDnl4SHe1Z|34 |Ariana Grande|spotify:artist:66CXWjxzNUsdJxJ2JdwvnR|Wit It This Christmas                                          |spotify:album:2A1KyqHu1DmLtjXpIMNoQq|161680     |Christmas & Chill|32035 |\n",
            "|spotify:track:73pH60xHd2S87oNIlgztNY|37 |Ariana Grande|spotify:artist:66CXWjxzNUsdJxJ2JdwvnR|True Love                                                      |spotify:album:2A1KyqHu1DmLtjXpIMNoQq|166466     |Christmas & Chill|32849 |\n",
            "|spotify:track:4r4V1wYecTxSAAXV11cFPD|5  |Ariana Grande|spotify:artist:66CXWjxzNUsdJxJ2JdwvnR|Focus                                                          |spotify:album:1TVt7uWfV3vLiU8bEmBEWL|211360     |Dangerous Woman  |36153 |\n",
            "|spotify:track:1ADjWm8QNhgNV8yCNNgQ1T|2  |Ariana Grande|spotify:artist:66CXWjxzNUsdJxJ2JdwvnR|Santa Tell Me                                                  |spotify:album:2Y42QS2bGi5NokHzjticau|204093     |Santa Tell Me    |38574 |\n",
            "|spotify:track:6AviHKu3ydzAePBmzEi62v|17 |MIKA         |spotify:artist:5MmVJVhhYKQ86izuGHzJYA|Popular Song                                                   |spotify:album:6czdbbMtGbAkZ6ud2OMTcg|200213     |Yours Truly      |39098 |\n",
            "|spotify:track:5Pnny78GESkBSLnxFmhRYZ|18 |Ariana Grande|spotify:artist:66CXWjxzNUsdJxJ2JdwvnR|Better Left Unsaid                                             |spotify:album:5xSvNPstcxHtR4ap2vvN8A|211226     |Yours Truly      |46939 |\n",
            "|spotify:track:6LZkF2fayIxtA1SIMmAGoX|21 |Ariana Grande|spotify:artist:66CXWjxzNUsdJxJ2JdwvnR|Why Try                                                        |spotify:album:2ZnzBwKw4e2SHpGvOTWnj4|211880     |My Everything    |49053 |\n",
            "|spotify:track:5RNKIGhRllNHGjroVDPXat|1  |Ariana Grande|spotify:artist:66CXWjxzNUsdJxJ2JdwvnR|A Little More Homework (feat. Graham Phillips) - Single Version|spotify:album:48uMMsVHGfKipIsOuYcvjs|302733     |Brand New You    |54328 |\n",
            "|spotify:track:26gXVZqHG3AThfmkXLlp3P|25 |Ariana Grande|spotify:artist:66CXWjxzNUsdJxJ2JdwvnR|Break Your Heart Right Back                                    |spotify:album:2ZnzBwKw4e2SHpGvOTWnj4|253386     |My Everything    |344842|\n",
            "|spotify:track:7bJwvubZZaoGE1AGEfu8Fi|20 |Ariana Grande|spotify:artist:66CXWjxzNUsdJxJ2JdwvnR|One Last Time                                                  |spotify:album:2ZnzBwKw4e2SHpGvOTWnj4|197253     |My Everything    |346905|\n",
            "|spotify:track:0zrQwV4XbcwZ2bS9r7F944|38 |Ariana Grande|spotify:artist:66CXWjxzNUsdJxJ2JdwvnR|Winter Things                                                  |spotify:album:2A1KyqHu1DmLtjXpIMNoQq|158720     |Christmas & Chill|348561|\n",
            "+------------------------------------+---+-------------+-------------------------------------+---------------------------------------------------------------+------------------------------------+-----------+-----------------+------+\n",
            "only showing top 20 rows\n",
            "\n",
            "Ground truth songs\n",
            "+---+-------------+------------------------------------+-------------------------------------+-------------------------------+------------------------------------+-----------+-----------------+\n",
            "|pos|artist_name  |track_uri                           |artist_uri                           |track_name                     |album_uri                           |duration_ms|album_name       |\n",
            "+---+-------------+------------------------------------+-------------------------------------+-------------------------------+------------------------------------+-----------+-----------------+\n",
            "|33 |Ariana Grande|spotify:track:4QgH3GXHnHuxMJu3RG69Hg|spotify:artist:66CXWjxzNUsdJxJ2JdwvnR|Intro                          |spotify:album:2A1KyqHu1DmLtjXpIMNoQq|65960      |Christmas & Chill|\n",
            "|36 |Ariana Grande|spotify:track:09VVVW2VxsmXE5Pyo3T0ah|spotify:artist:66CXWjxzNUsdJxJ2JdwvnR|Not Just On Christmas          |spotify:album:2A1KyqHu1DmLtjXpIMNoQq|123573     |Christmas & Chill|\n",
            "|4  |Ariana Grande|spotify:track:3tRFqxTYOjeTmCiVaGDCsq|spotify:artist:66CXWjxzNUsdJxJ2JdwvnR|Be Alright                     |spotify:album:4lVR2fg3DAUQpGVJ6DciHW|179293     |Dangerous Woman  |\n",
            "|13 |Ariana Grande|spotify:track:7c86ULTZD9eNdAbJDQLRaC|spotify:artist:66CXWjxzNUsdJxJ2JdwvnR|Daydreamin'                    |spotify:album:5xSvNPstcxHtR4ap2vvN8A|211293     |Yours Truly      |\n",
            "|30 |Jessie J     |spotify:track:3oEekS4xhmFQ88ieCVTZ7H|spotify:artist:2gsggkzM5R49q6jpPvazou|Bang Bang                      |spotify:album:5AMOKSM1ftb3opIbGT2d4q|199320     |My Everything    |\n",
            "|26 |Ariana Grande|spotify:track:45wBTYlOx3FsuFluuuRRQh|spotify:artist:66CXWjxzNUsdJxJ2JdwvnR|Love Me Harder                 |spotify:album:2ZnzBwKw4e2SHpGvOTWnj4|236133     |My Everything    |\n",
            "|6  |Ariana Grande|spotify:track:5AKlnLpP3WLwZseNbjquND|spotify:artist:66CXWjxzNUsdJxJ2JdwvnR|Let Me Love You                |spotify:album:3OZgEywV4krCZ814pTJWr7|223853     |Dangerous Woman  |\n",
            "|27 |Ariana Grande|spotify:track:5DsnMBbnSmEmqOQMFTwXRq|spotify:artist:66CXWjxzNUsdJxJ2JdwvnR|Just A Little Bit Of Your Heart|spotify:album:2ZnzBwKw4e2SHpGvOTWnj4|232586     |My Everything    |\n",
            "|24 |Ariana Grande|spotify:track:6djcQtHtVZHfAKlRNydlIi|spotify:artist:66CXWjxzNUsdJxJ2JdwvnR|Be My Baby                     |spotify:album:2ZnzBwKw4e2SHpGvOTWnj4|217053     |My Everything    |\n",
            "|15 |Ariana Grande|spotify:track:4PqIj0WOfPAq4QAvisjgpd|spotify:artist:66CXWjxzNUsdJxJ2JdwvnR|You’ll Never Know              |spotify:album:5xSvNPstcxHtR4ap2vvN8A|214280     |Yours Truly      |\n",
            "+---+-------------+------------------------------------+-------------------------------------+-------------------------------+------------------------------------+-----------+-----------------+\n",
            "\n",
            "Clean ground truth songs\n",
            "+------------------------------------+---+-------------+-------------------------------------+-------------------------------+------------------------------------+-----------+-----------------+------+\n",
            "|track_uri                           |pos|artist_name  |artist_uri                           |track_name                     |album_uri                           |duration_ms|album_name       |pos   |\n",
            "+------------------------------------+---+-------------+-------------------------------------+-------------------------------+------------------------------------+-----------+-----------------+------+\n",
            "|spotify:track:5AKlnLpP3WLwZseNbjquND|6  |Ariana Grande|spotify:artist:66CXWjxzNUsdJxJ2JdwvnR|Let Me Love You                |spotify:album:3OZgEywV4krCZ814pTJWr7|223853     |Dangerous Woman  |8333  |\n",
            "|spotify:track:6djcQtHtVZHfAKlRNydlIi|24 |Ariana Grande|spotify:artist:66CXWjxzNUsdJxJ2JdwvnR|Be My Baby                     |spotify:album:2ZnzBwKw4e2SHpGvOTWnj4|217053     |My Everything    |27633 |\n",
            "|spotify:track:3oEekS4xhmFQ88ieCVTZ7H|30 |Jessie J     |spotify:artist:2gsggkzM5R49q6jpPvazou|Bang Bang                      |spotify:album:5AMOKSM1ftb3opIbGT2d4q|199320     |My Everything    |28065 |\n",
            "|spotify:track:4PqIj0WOfPAq4QAvisjgpd|15 |Ariana Grande|spotify:artist:66CXWjxzNUsdJxJ2JdwvnR|You’ll Never Know              |spotify:album:5xSvNPstcxHtR4ap2vvN8A|214280     |Yours Truly      |30628 |\n",
            "|spotify:track:5DsnMBbnSmEmqOQMFTwXRq|27 |Ariana Grande|spotify:artist:66CXWjxzNUsdJxJ2JdwvnR|Just A Little Bit Of Your Heart|spotify:album:2ZnzBwKw4e2SHpGvOTWnj4|232586     |My Everything    |36513 |\n",
            "|spotify:track:7c86ULTZD9eNdAbJDQLRaC|13 |Ariana Grande|spotify:artist:66CXWjxzNUsdJxJ2JdwvnR|Daydreamin'                    |spotify:album:5xSvNPstcxHtR4ap2vvN8A|211293     |Yours Truly      |55101 |\n",
            "|spotify:track:3tRFqxTYOjeTmCiVaGDCsq|4  |Ariana Grande|spotify:artist:66CXWjxzNUsdJxJ2JdwvnR|Be Alright                     |spotify:album:4lVR2fg3DAUQpGVJ6DciHW|179293     |Dangerous Woman  |340926|\n",
            "|spotify:track:45wBTYlOx3FsuFluuuRRQh|26 |Ariana Grande|spotify:artist:66CXWjxzNUsdJxJ2JdwvnR|Love Me Harder                 |spotify:album:2ZnzBwKw4e2SHpGvOTWnj4|236133     |My Everything    |348129|\n",
            "|spotify:track:09VVVW2VxsmXE5Pyo3T0ah|36 |Ariana Grande|spotify:artist:66CXWjxzNUsdJxJ2JdwvnR|Not Just On Christmas          |spotify:album:2A1KyqHu1DmLtjXpIMNoQq|123573     |Christmas & Chill|353659|\n",
            "|spotify:track:4QgH3GXHnHuxMJu3RG69Hg|33 |Ariana Grande|spotify:artist:66CXWjxzNUsdJxJ2JdwvnR|Intro                          |spotify:album:2A1KyqHu1DmLtjXpIMNoQq|65960      |Christmas & Chill|373013|\n",
            "+------------------------------------+---+-------------+-------------------------------------+-------------------------------+------------------------------------+-----------+-----------------+------+\n",
            "\n",
            "Prediction df songs (num recommendations: 500)\n"
          ]
        },
        {
          "name": "stderr",
          "output_type": "stream",
          "text": [
            "23/06/13 20:36:18 WARN TaskSetManager: Stage 66 contains a task of very large size (1209 KiB). The maximum recommended task size is 1000 KiB.\n",
            "23/06/13 20:36:19 WARN TaskSetManager: Stage 71 contains a task of very large size (1209 KiB). The maximum recommended task size is 1000 KiB.\n"
          ]
        },
        {
          "name": "stdout",
          "output_type": "stream",
          "text": [
            "+---+------------+------------------------------------+\n",
            "|pos|confidence  |track_uri                           |\n",
            "+---+------------+------------------------------------+\n",
            "|7  |0.0051272963|spotify:track:48ZUwXrEOhaXLCxvmRYhZv|\n",
            "|19 |0.0037515892|spotify:track:4eQec76xYzMWafPfJEDELl|\n",
            "|22 |4.4842117E-4|spotify:track:0srm8RgwUfBvwdXKvkyDlT|\n",
            "|26 |0.015324642 |spotify:track:6G6u99wgTtoATpqtNmA02F|\n",
            "|29 |0.00205158  |spotify:track:3cwDSDzTiWr5H5xMQhQ6Mx|\n",
            "|34 |0.006128149 |spotify:track:2X9G82BPPSqhE78e5YjekE|\n",
            "|50 |4.309273E-4 |spotify:track:35k31HZI4z9PbBOioaI4dZ|\n",
            "|54 |8.9117774E-4|spotify:track:6iX1f3r7oUJnMbGgQ2gx1j|\n",
            "|57 |0.0011192594|spotify:track:0C1OcBOsuFmFFGkh3FWIGG|\n",
            "|65 |0.0026256384|spotify:track:4bEcoz1OcfMgUbp2ft8ieQ|\n",
            "|77 |2.4645153E-4|spotify:track:4Fvnz1ZJ86IdqDAepWYPAh|\n",
            "|94 |2.4668826E-4|spotify:track:6HEAUuBSW9lCL4clfEOTJ8|\n",
            "|110|2.5660856E-4|spotify:track:65lHwG8JFJs67PnOUhCYPq|\n",
            "|112|5.3823285E-4|spotify:track:1UlyHfT68gEVYwIMIVEX1u|\n",
            "|113|0.0024502387|spotify:track:7EgG37pjxw0Y4GHwjK3CBS|\n",
            "|126|4.112541E-4 |spotify:track:19e8D0Qvau0q8X7JCnYhtF|\n",
            "|130|2.4615446E-4|spotify:track:65wNNrAj5mMOLvLQ2JQhlv|\n",
            "|136|0.001412612 |spotify:track:6lAdV7Btii1FmVOjtvSUxt|\n",
            "|144|5.9100153E-4|spotify:track:54SFFQhDGvPCWhYLtu2bJn|\n",
            "|149|0.0012145697|spotify:track:6xHQ7ogo1QqWT89UGYv1Mf|\n",
            "+---+------------+------------------------------------+\n",
            "only showing top 20 rows\n",
            "\n",
            "Clean Prediction df songs (num recommendations: 500)\n"
          ]
        },
        {
          "name": "stderr",
          "output_type": "stream",
          "text": [
            "[Stage 72:>                                                         (0 + 8) / 8]\r"
          ]
        },
        {
          "name": "stdout",
          "output_type": "stream",
          "text": [
            "+------+-----------+------------------------------------+\n",
            "|pos   |confidence |track_uri                           |\n",
            "+------+-----------+------------------------------------+\n",
            "|681805|0.1904341  |spotify:track:7AbAfIqrkrWHwSF32eemMV|\n",
            "|23173 |0.1091218  |spotify:track:6DjEa4vziZjdYG0bq2Jxcl|\n",
            "|348871|0.099217884|spotify:track:539wfGOsGcRmT1IBVUfiJV|\n",
            "|338336|0.09756852 |spotify:track:0zMzyHAeMvwq5CRstru1Fp|\n",
            "|30442 |0.0918417  |spotify:track:4z0PnuB07fxtVZZRWsCfxb|\n",
            "|28061 |0.09160706 |spotify:track:2gdEfFFTRU8ylaqteESdk2|\n",
            "|36914 |0.082439065|spotify:track:5JDcQAztvZTIkrWoZihgvC|\n",
            "|367112|0.08186953 |spotify:track:5SECgk6Gf1TVMy2FApJmSO|\n",
            "|376243|0.08050343 |spotify:track:3cqZH3cqvfbV8wVbvHyPbG|\n",
            "|29257 |0.079650715|spotify:track:0SGkqnVQo9KPytSri1H6cF|\n",
            "|355820|0.07798547 |spotify:track:1SN1gifVAKecU85lZggS8k|\n",
            "|366732|0.075138435|spotify:track:66hayvUbTotekKU3H4ta1f|\n",
            "|348084|0.07473964 |spotify:track:6SwRhMLwNqEi6alNPVG00n|\n",
            "|38126 |0.07468223 |spotify:track:4TshxhRTfQqDhQbXmTvY50|\n",
            "|21166 |0.0745314  |spotify:track:2AOQVSqYB0KXryNscZCCOE|\n",
            "|15024 |0.0727116  |spotify:track:4immekPm8Har57BB9DcDSj|\n",
            "|21610 |0.07174019 |spotify:track:1FYf85iyKfzECNWS70QP8i|\n",
            "|29256 |0.07165393 |spotify:track:7dIDDbPxb3t9EmkyGLb1kb|\n",
            "|11706 |0.0711102  |spotify:track:6XLWV4y0TWPzZGY72m6mbA|\n",
            "|366742|0.07104324 |spotify:track:7A0FGrZsLgOUmeNtMTnt4z|\n",
            "+------+-----------+------------------------------------+\n",
            "only showing top 20 rows\n",
            "\n"
          ]
        },
        {
          "name": "stderr",
          "output_type": "stream",
          "text": [
            "                                                                                \r"
          ]
        },
        {
          "data": {
            "text/plain": [
              "(0.0, 0)"
            ]
          },
          "execution_count": 45,
          "metadata": {},
          "output_type": "execute_result"
        }
      ],
      "source": [
        "print(\"Playlist train songs\")\n",
        "playlist_train_songs.show(truncate=False)\n",
        "print(\"Clean playlist train songs\")\n",
        "clean_playlist_train_songs.show(truncate=False)\n",
        "print(\"Ground truth songs\")\n",
        "ground_truth.show(truncate=False)\n",
        "print(\"Clean ground truth songs\")\n",
        "clean_ground_truth.show(truncate=False)\n",
        "print(f\"Prediction df songs (num recommendations: {n_recommendations})\")\n",
        "prediction_df.show(truncate=False)\n",
        "print(f\"Clean Prediction df songs (num recommendations: {n_recommendations})\")\n",
        "clean_prediction_df.show(truncate=False)\n",
        "prec, gain"
      ]
    },
    {
      "cell_type": "code",
      "execution_count": null,
      "metadata": {
        "id": "iN8Fk_7Jel4-"
      },
      "outputs": [],
      "source": [
        "def average_results(results):\n",
        "  prec_avg = sum(prec for prec, _ in results) / len(results)\n",
        "  gain_avg = sum(gain for _, gain in results) / len(results)\n",
        "  return prec_avg, gain_avg\n",
        "\n",
        "average_results(results)"
      ]
    }
  ],
  "metadata": {
    "accelerator": "GPU",
    "colab": {
      "authorship_tag": "ABX9TyMMG33ctvkyDDZwCI68FV48",
      "collapsed_sections": [
        "XvQ6e0PgCOZg"
      ],
      "include_colab_link": true,
      "provenance": [],
      "toc_visible": true
    },
    "kernelspec": {
      "display_name": "Python 3",
      "name": "python3"
    },
    "language_info": {
      "codemirror_mode": {
        "name": "ipython",
        "version": 3
      },
      "file_extension": ".py",
      "mimetype": "text/x-python",
      "name": "python",
      "nbconvert_exporter": "python",
      "pygments_lexer": "ipython3",
      "version": "3.10.9"
    },
    "widgets": {
      "application/vnd.jupyter.widget-state+json": {
        "025feace7e5548cebe8d42356ed1963e": {
          "model_module": "@jupyter-widgets/controls",
          "model_module_version": "1.5.0",
          "model_name": "HTMLModel",
          "state": {
            "_dom_classes": [],
            "_model_module": "@jupyter-widgets/controls",
            "_model_module_version": "1.5.0",
            "_model_name": "HTMLModel",
            "_view_count": null,
            "_view_module": "@jupyter-widgets/controls",
            "_view_module_version": "1.5.0",
            "_view_name": "HTMLView",
            "description": "",
            "description_tooltip": null,
            "layout": "IPY_MODEL_4cc43c4c34974993ad879ab6789719dc",
            "placeholder": "​",
            "style": "IPY_MODEL_3a7a8265d2f84b18b0556518474586cc",
            "value": "Training model:   0%"
          }
        },
        "1ecbd9fd2159484e9fd5f1ad4028717e": {
          "model_module": "@jupyter-widgets/base",
          "model_module_version": "1.2.0",
          "model_name": "LayoutModel",
          "state": {
            "_model_module": "@jupyter-widgets/base",
            "_model_module_version": "1.2.0",
            "_model_name": "LayoutModel",
            "_view_count": null,
            "_view_module": "@jupyter-widgets/base",
            "_view_module_version": "1.2.0",
            "_view_name": "LayoutView",
            "align_content": null,
            "align_items": null,
            "align_self": null,
            "border": null,
            "bottom": null,
            "display": null,
            "flex": null,
            "flex_flow": null,
            "grid_area": null,
            "grid_auto_columns": null,
            "grid_auto_flow": null,
            "grid_auto_rows": null,
            "grid_column": null,
            "grid_gap": null,
            "grid_row": null,
            "grid_template_areas": null,
            "grid_template_columns": null,
            "grid_template_rows": null,
            "height": null,
            "justify_content": null,
            "justify_items": null,
            "left": null,
            "margin": null,
            "max_height": null,
            "max_width": null,
            "min_height": null,
            "min_width": null,
            "object_fit": null,
            "object_position": null,
            "order": null,
            "overflow": null,
            "overflow_x": null,
            "overflow_y": null,
            "padding": null,
            "right": null,
            "top": null,
            "visibility": null,
            "width": null
          }
        },
        "210989b9506346409dcb494dc08a7c28": {
          "model_module": "@jupyter-widgets/controls",
          "model_module_version": "1.5.0",
          "model_name": "HTMLModel",
          "state": {
            "_dom_classes": [],
            "_model_module": "@jupyter-widgets/controls",
            "_model_module_version": "1.5.0",
            "_model_name": "HTMLModel",
            "_view_count": null,
            "_view_module": "@jupyter-widgets/controls",
            "_view_module_version": "1.5.0",
            "_view_name": "HTMLView",
            "description": "",
            "description_tooltip": null,
            "layout": "IPY_MODEL_1ecbd9fd2159484e9fd5f1ad4028717e",
            "placeholder": "​",
            "style": "IPY_MODEL_c54d6d9cf7614f20b5f000c29c5a5b18",
            "value": " 0/8000.0 [00:00&lt;?, ?it/s]"
          }
        },
        "2e5ed18f6ed644898269df6699939a96": {
          "model_module": "@jupyter-widgets/controls",
          "model_module_version": "1.5.0",
          "model_name": "FloatProgressModel",
          "state": {
            "_dom_classes": [],
            "_model_module": "@jupyter-widgets/controls",
            "_model_module_version": "1.5.0",
            "_model_name": "FloatProgressModel",
            "_view_count": null,
            "_view_module": "@jupyter-widgets/controls",
            "_view_module_version": "1.5.0",
            "_view_name": "ProgressView",
            "bar_style": "",
            "description": "",
            "description_tooltip": null,
            "layout": "IPY_MODEL_56ff9818b0e24a4ca8fbe94afc45b797",
            "max": 8000,
            "min": 0,
            "orientation": "horizontal",
            "style": "IPY_MODEL_3af36fc968654a27826c33cbfa6a7b62",
            "value": 0
          }
        },
        "3a7a8265d2f84b18b0556518474586cc": {
          "model_module": "@jupyter-widgets/controls",
          "model_module_version": "1.5.0",
          "model_name": "DescriptionStyleModel",
          "state": {
            "_model_module": "@jupyter-widgets/controls",
            "_model_module_version": "1.5.0",
            "_model_name": "DescriptionStyleModel",
            "_view_count": null,
            "_view_module": "@jupyter-widgets/base",
            "_view_module_version": "1.2.0",
            "_view_name": "StyleView",
            "description_width": ""
          }
        },
        "3af36fc968654a27826c33cbfa6a7b62": {
          "model_module": "@jupyter-widgets/controls",
          "model_module_version": "1.5.0",
          "model_name": "ProgressStyleModel",
          "state": {
            "_model_module": "@jupyter-widgets/controls",
            "_model_module_version": "1.5.0",
            "_model_name": "ProgressStyleModel",
            "_view_count": null,
            "_view_module": "@jupyter-widgets/base",
            "_view_module_version": "1.2.0",
            "_view_name": "StyleView",
            "bar_color": null,
            "description_width": ""
          }
        },
        "4cc43c4c34974993ad879ab6789719dc": {
          "model_module": "@jupyter-widgets/base",
          "model_module_version": "1.2.0",
          "model_name": "LayoutModel",
          "state": {
            "_model_module": "@jupyter-widgets/base",
            "_model_module_version": "1.2.0",
            "_model_name": "LayoutModel",
            "_view_count": null,
            "_view_module": "@jupyter-widgets/base",
            "_view_module_version": "1.2.0",
            "_view_name": "LayoutView",
            "align_content": null,
            "align_items": null,
            "align_self": null,
            "border": null,
            "bottom": null,
            "display": null,
            "flex": null,
            "flex_flow": null,
            "grid_area": null,
            "grid_auto_columns": null,
            "grid_auto_flow": null,
            "grid_auto_rows": null,
            "grid_column": null,
            "grid_gap": null,
            "grid_row": null,
            "grid_template_areas": null,
            "grid_template_columns": null,
            "grid_template_rows": null,
            "height": null,
            "justify_content": null,
            "justify_items": null,
            "left": null,
            "margin": null,
            "max_height": null,
            "max_width": null,
            "min_height": null,
            "min_width": null,
            "object_fit": null,
            "object_position": null,
            "order": null,
            "overflow": null,
            "overflow_x": null,
            "overflow_y": null,
            "padding": null,
            "right": null,
            "top": null,
            "visibility": null,
            "width": null
          }
        },
        "56ff9818b0e24a4ca8fbe94afc45b797": {
          "model_module": "@jupyter-widgets/base",
          "model_module_version": "1.2.0",
          "model_name": "LayoutModel",
          "state": {
            "_model_module": "@jupyter-widgets/base",
            "_model_module_version": "1.2.0",
            "_model_name": "LayoutModel",
            "_view_count": null,
            "_view_module": "@jupyter-widgets/base",
            "_view_module_version": "1.2.0",
            "_view_name": "LayoutView",
            "align_content": null,
            "align_items": null,
            "align_self": null,
            "border": null,
            "bottom": null,
            "display": null,
            "flex": null,
            "flex_flow": null,
            "grid_area": null,
            "grid_auto_columns": null,
            "grid_auto_flow": null,
            "grid_auto_rows": null,
            "grid_column": null,
            "grid_gap": null,
            "grid_row": null,
            "grid_template_areas": null,
            "grid_template_columns": null,
            "grid_template_rows": null,
            "height": null,
            "justify_content": null,
            "justify_items": null,
            "left": null,
            "margin": null,
            "max_height": null,
            "max_width": null,
            "min_height": null,
            "min_width": null,
            "object_fit": null,
            "object_position": null,
            "order": null,
            "overflow": null,
            "overflow_x": null,
            "overflow_y": null,
            "padding": null,
            "right": null,
            "top": null,
            "visibility": null,
            "width": null
          }
        },
        "800d36c1bd2f4519ad7215f62fe694b2": {
          "model_module": "@jupyter-widgets/controls",
          "model_module_version": "1.5.0",
          "model_name": "HBoxModel",
          "state": {
            "_dom_classes": [],
            "_model_module": "@jupyter-widgets/controls",
            "_model_module_version": "1.5.0",
            "_model_name": "HBoxModel",
            "_view_count": null,
            "_view_module": "@jupyter-widgets/controls",
            "_view_module_version": "1.5.0",
            "_view_name": "HBoxView",
            "box_style": "",
            "children": [
              "IPY_MODEL_025feace7e5548cebe8d42356ed1963e",
              "IPY_MODEL_2e5ed18f6ed644898269df6699939a96",
              "IPY_MODEL_210989b9506346409dcb494dc08a7c28"
            ],
            "layout": "IPY_MODEL_bada53838d434c47bfd5185687d2e133"
          }
        },
        "bada53838d434c47bfd5185687d2e133": {
          "model_module": "@jupyter-widgets/base",
          "model_module_version": "1.2.0",
          "model_name": "LayoutModel",
          "state": {
            "_model_module": "@jupyter-widgets/base",
            "_model_module_version": "1.2.0",
            "_model_name": "LayoutModel",
            "_view_count": null,
            "_view_module": "@jupyter-widgets/base",
            "_view_module_version": "1.2.0",
            "_view_name": "LayoutView",
            "align_content": null,
            "align_items": null,
            "align_self": null,
            "border": null,
            "bottom": null,
            "display": null,
            "flex": null,
            "flex_flow": null,
            "grid_area": null,
            "grid_auto_columns": null,
            "grid_auto_flow": null,
            "grid_auto_rows": null,
            "grid_column": null,
            "grid_gap": null,
            "grid_row": null,
            "grid_template_areas": null,
            "grid_template_columns": null,
            "grid_template_rows": null,
            "height": null,
            "justify_content": null,
            "justify_items": null,
            "left": null,
            "margin": null,
            "max_height": null,
            "max_width": null,
            "min_height": null,
            "min_width": null,
            "object_fit": null,
            "object_position": null,
            "order": null,
            "overflow": null,
            "overflow_x": null,
            "overflow_y": null,
            "padding": null,
            "right": null,
            "top": null,
            "visibility": null,
            "width": null
          }
        },
        "c54d6d9cf7614f20b5f000c29c5a5b18": {
          "model_module": "@jupyter-widgets/controls",
          "model_module_version": "1.5.0",
          "model_name": "DescriptionStyleModel",
          "state": {
            "_model_module": "@jupyter-widgets/controls",
            "_model_module_version": "1.5.0",
            "_model_name": "DescriptionStyleModel",
            "_view_count": null,
            "_view_module": "@jupyter-widgets/base",
            "_view_module_version": "1.2.0",
            "_view_name": "StyleView",
            "description_width": ""
          }
        }
      }
    }
  },
  "nbformat": 4,
  "nbformat_minor": 0
}
