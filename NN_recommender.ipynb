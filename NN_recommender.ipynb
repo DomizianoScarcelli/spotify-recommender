{
  "cells": [
    {
      "cell_type": "markdown",
      "metadata": {
        "id": "view-in-github",
        "colab_type": "text"
      },
      "source": [
        "<a href=\"https://colab.research.google.com/github/DomizianoScarcelli/big-data-project/blob/dev/NN_recommender.ipynb\" target=\"_parent\"><img src=\"https://colab.research.google.com/assets/colab-badge.svg\" alt=\"Open In Colab\"/></a>"
      ]
    },
    {
      "cell_type": "markdown",
      "metadata": {
        "id": "XvQ6e0PgCOZg"
      },
      "source": [
        "### Install dependencies"
      ]
    },
    {
      "cell_type": "code",
      "execution_count": 1,
      "metadata": {
        "colab": {
          "base_uri": "https://localhost:8080/"
        },
        "id": "bjPz4xH4WFYB",
        "outputId": "c4be498c-3e3e-45c1-cdc7-065a9b918305"
      },
      "outputs": [
        {
          "output_type": "stream",
          "name": "stdout",
          "text": [
            "openjdk-8-jdk-headless is already the newest version (8u372-ga~us1-0ubuntu1~20.04).\n",
            "0 upgraded, 0 newly installed, 0 to remove and 38 not upgraded.\n"
          ]
        }
      ],
      "source": [
        "!pip install petastorm -qq\n",
        "!pip install pyspark -qq\n",
        "!pip install -U -q PyDrive -qq\n",
        "!apt install openjdk-8-jdk-headless -qq"
      ]
    },
    {
      "cell_type": "code",
      "execution_count": 2,
      "metadata": {
        "cellView": "form",
        "id": "oozTtW3om3Ab"
      },
      "outputs": [],
      "source": [
        "#@title Imports\n",
        "import os\n",
        "import requests\n",
        "import pandas as pd\n",
        "import numpy as np\n",
        "import matplotlib.pyplot as plt\n",
        "import seaborn as sns\n",
        "%matplotlib inline\n",
        "import plotly\n",
        "\n",
        "import pyspark\n",
        "from pyspark.sql.types import StructType, StructField, StringType, IntegerType, ArrayType, FloatType, LongType\n",
        "import pyspark.sql.functions as F\n",
        "from pyspark import SparkContext, SparkConf\n",
        "from pyspark.sql import SparkSession, DataFrame\n",
        "from pyspark.ml.linalg import SparseVector, DenseVector, VectorUDT\n",
        "\n",
        "from tqdm.notebook import tqdm\n",
        "import time\n",
        "import gc\n",
        "import torch\n",
        "from typing import Tuple, List\n",
        "\n",
        "\n",
        "from google.colab import drive\n",
        "from petastorm import make_batch_reader\n",
        "from petastorm.pytorch import DataLoader"
      ]
    },
    {
      "cell_type": "code",
      "execution_count": 3,
      "metadata": {
        "id": "XG5sA53iP9z0"
      },
      "outputs": [],
      "source": [
        "#@title Set up variables\n",
        "JAVA_HOME = \"/usr/lib/jvm/java-8-openjdk-amd64\"\n",
        "GDRIVE_DIR = \"/content/drive\"\n",
        "GDRIVE_HOME_DIR = GDRIVE_DIR + \"/MyDrive\"\n",
        "GDRIVE_DATA_DIR = GDRIVE_HOME_DIR + \"/Big Data/datasets\"\n",
        "DATASET_FILE = os.path.join(GDRIVE_DATA_DIR, \"pyspark_friendly_spotify_playlist_dataset\")\n",
        "AUDIO_FEATURES_FILE = os.path.join(GDRIVE_DATA_DIR, \"pyspark_track_features\")\n",
        "LITTLE_SLICE_FILE = os.path.join(GDRIVE_DATA_DIR, \"little_slice\")\n",
        "SMALL_SLICE_FLIE = os.path.join(GDRIVE_DATA_DIR, \"small_slice\")\n",
        "LITTLE_SLICE_AUDIO_FEATURES = os.path.join(GDRIVE_DATA_DIR, \"little_slice_audio_features\")\n",
        "MICRO_SLICE_AUDIO_FEATURES = os.path.join(GDRIVE_DATA_DIR, \"micro_slice_audio_features\")\n",
        "SPLITTED_SLICE_AUDIO_FEATURES = os.path.join(GDRIVE_DATA_DIR, \"splitted_pyspark_track_features\")\n",
        "SAVED_DFS_PATH = os.path.join(GDRIVE_DATA_DIR, \"saved_dfs\")\n",
        "RANDOM_SEED = 42 # for reproducibility\n",
        "SAVED_MODELS = os.path.join(GDRIVE_DATA_DIR, \"saved_models\")\n",
        "os.environ[\"JAVA_HOME\"] = JAVA_HOME\n",
        "os.environ[\"PYSPARK_PYTHON\"]=\"python\""
      ]
    },
    {
      "cell_type": "code",
      "execution_count": 4,
      "metadata": {
        "colab": {
          "base_uri": "https://localhost:8080/"
        },
        "id": "MocM1cmqQpn5",
        "outputId": "b619b44d-b08d-41de-e48a-f20a579da274"
      },
      "outputs": [
        {
          "output_type": "stream",
          "name": "stdout",
          "text": [
            "Mounted at /content/drive\n"
          ]
        }
      ],
      "source": [
        "drive.mount(GDRIVE_DIR, force_remount=True)"
      ]
    },
    {
      "cell_type": "code",
      "execution_count": 5,
      "metadata": {
        "cellView": "form",
        "id": "4m7VztzdZgm6"
      },
      "outputs": [],
      "source": [
        "#@title Create the session\n",
        "conf = SparkConf().\\\n",
        "                set('spark.ui.port', \"4050\").\\\n",
        "                set('spark.executor.memory', '12G').\\\n",
        "                set('spark.driver.memory', '12G').\\\n",
        "                set('spark.driver.maxResultSize', '100G').\\\n",
        "                set(\"spark.executor.extraJavaOptions\", \"-XX:+UseG1GC\").\\\n",
        "                setAppName(\"PySparkTutorial\").\\\n",
        "                setMaster(\"local[*]\")\n",
        "\n",
        "# Create the context\n",
        "sc = pyspark.SparkContext(conf=conf)\n",
        "spark = SparkSession.builder.getOrCreate()"
      ]
    },
    {
      "cell_type": "markdown",
      "metadata": {
        "id": "VJeY9PpvaHUJ"
      },
      "source": [
        "# Data acquisition"
      ]
    },
    {
      "cell_type": "code",
      "execution_count": 6,
      "metadata": {
        "id": "icd2lj-RRvhU"
      },
      "outputs": [],
      "source": [
        "playlist_schema_mapped = StructType([\n",
        "    StructField(\"name\", StringType(), True),\n",
        "    StructField(\"collaborative\", StringType(), True),\n",
        "    StructField(\"pid\", IntegerType(), True),\n",
        "    StructField(\"modified_at\", IntegerType(), True),\n",
        "    StructField(\"num_tracks\", IntegerType(), True),\n",
        "    StructField(\"num_albums\", IntegerType(), True),\n",
        "    StructField(\"num_followers\", IntegerType(), True),\n",
        "    StructField(\"tracks\", VectorUDT(), True),\n",
        "    StructField(\"num_edits\", IntegerType(), True),\n",
        "    StructField(\"duration_ms\", IntegerType(), True),\n",
        "    StructField(\"num_artists\", IntegerType(), True),\n",
        "])\n"
      ]
    },
    {
      "cell_type": "code",
      "execution_count": 7,
      "metadata": {
        "id": "JAu9mQsxTxHj"
      },
      "outputs": [],
      "source": [
        "import warnings\n",
        "warnings.filterwarnings('ignore')"
      ]
    },
    {
      "cell_type": "code",
      "execution_count": 8,
      "metadata": {
        "id": "fGgc9DHjT09S"
      },
      "outputs": [],
      "source": [
        "NUM_PLAYLISTS = 100_000\n",
        "SONGS_EMBEDDINGS_PATH = os.path.join(SAVED_DFS_PATH, f\"nn_songs_embeddings-train-{NUM_PLAYLISTS}.json\")\n",
        "SONGS_INFO_DF_PATH = os.path.join(SAVED_DFS_PATH, f\"nn_songs_info_df-{NUM_PLAYLISTS}.json\")\n",
        "SONGS_VECTOR_LENGTH_PATH = os.path.join(SAVED_DFS_PATH, f\"nn_songs_vector_length-{NUM_PLAYLISTS}.txt\")\n",
        "\n",
        "ARTIST_VECTOR_LENGTH_PATH = os.path.join(SAVED_DFS_PATH, f\"nn_artist_vector_length-{NUM_PLAYLISTS}.txt\")\n",
        "ARTISTS_EMBEDDINGS_PATH = os.path.join(SAVED_DFS_PATH, f\"nn_artists_embeddings-train-{NUM_PLAYLISTS}.json\")"
      ]
    },
    {
      "cell_type": "code",
      "execution_count": 9,
      "metadata": {
        "id": "lo8gbiN1U1XJ"
      },
      "outputs": [],
      "source": [
        "songs_embeddings = spark.read.schema(playlist_schema_mapped).json(SONGS_EMBEDDINGS_PATH)\n",
        "artists_embeddings = spark.read.schema(playlist_schema_mapped).json(ARTISTS_EMBEDDINGS_PATH)\n",
        "song_mapping = spark.read.json(SONGS_INFO_DF_PATH)\n",
        "\n",
        "with open(ARTIST_VECTOR_LENGTH_PATH, \"r\") as f:\n",
        "  content = f.read()\n",
        "  ARTIST_VECTOR_LENGTH = int(content) + 1\n",
        "with open(SONGS_VECTOR_LENGTH_PATH, \"r\") as f:\n",
        "  content = f.read()\n",
        "  SONGS_VECTOR_LENGTH = int(content) + 1"
      ]
    },
    {
      "cell_type": "code",
      "execution_count": 10,
      "metadata": {
        "colab": {
          "base_uri": "https://localhost:8080/"
        },
        "id": "BY_szFyLTps4",
        "outputId": "0bb20931-39cf-4cad-abf2-6e036e5a82d2"
      },
      "outputs": [
        {
          "output_type": "stream",
          "name": "stdout",
          "text": [
            "+------------------+-------------+-----+-----------+----------+----------+-------------+--------------------+---------+-----------+-----------+\n",
            "|              name|collaborative|  pid|modified_at|num_tracks|num_albums|num_followers|              tracks|num_edits|duration_ms|num_artists|\n",
            "+------------------+-------------+-----+-----------+----------+----------+-------------+--------------------+---------+-----------+-----------+\n",
            "|               Mix|        false|24770| 1376352000|        67|        43|            1|(133478,[85,3092,...|       32|   16179675|         34|\n",
            "|         C H I L L|        false|84782| 1508889600|       105|        79|            2|(133478,[257,1952...|       74|   23647221|         59|\n",
            "|    COACHELLA 2013|        false| 3188| 1366675200|       207|        87|            1|(133478,[143,147,...|       16|   49566298|         41|\n",
            "|              Heat|        false| 3879| 1492992000|        27|        20|            2|(133478,[1172,373...|       11|    5580836|         18|\n",
            "|               Mix|        false|24303| 1446595200|        41|        32|            1|(133478,[566,1403...|       17|    9859435|         30|\n",
            "|       Wild Things|        false|24622| 1508803200|       108|        94|            1|(133478,[3,1754,2...|       55|   23296152|         88|\n",
            "|          español |        false|35696| 1500422400|        30|        26|            1|(133478,[4660,609...|       18|    6338592|         19|\n",
            "|              hype|        false|24515| 1461369600|        34|        31|            2|(133478,[4139,524...|       18|    7390554|         28|\n",
            "|              jamz|        false| 3451| 1490832000|       143|       119|            1|(133478,[277,1440...|        9|   35734173|         87|\n",
            "| party party party|        false|24706| 1509062400|       111|        96|            4|(133478,[259,300,...|       14|   24131476|         70|\n",
            "|     #boostyourrun|        false|24105| 1411603200|        21|        20|            1|(133478,[7355,108...|        2|    4762022|         20|\n",
            "|     #boostyourrun|        false|84725| 1401235200|        21|        20|            1|(133478,[285,4424...|        2|    5053337|         19|\n",
            "|             #mood|        false|84298| 1508198400|        36|        33|            1|(133478,[628,1764...|       25|    8333889|         30|\n",
            "|               '16|        false| 3337| 1478217600|        25|        25|            1|(133478,[1678,220...|       14|    5357192|         24|\n",
            "|               '17|        false|24690| 1508716800|       206|       157|            1|(133478,[927,1228...|       27|   47330512|        120|\n",
            "|           'Merica|        false| 3639| 1435968000|        26|        21|            1|(133478,[2731,299...|        3|    6908434|         17|\n",
            "|               ---|        false|24893| 1484179200|        57|        41|            5|(133478,[4639,500...|       17|   13571222|         33|\n",
            "|          // march|        false|35465| 1490659200|        45|        44|            1|(133478,[2198,483...|       13|   10398911|         41|\n",
            "|        //MEXICO//|        false|35234| 1475798400|        93|        87|            1|(133478,[230,1946...|       17|   20085270|         65|\n",
            "|               0.0|        false|24981| 1369526400|       168|       142|            1|(133478,[174,273,...|        2|   40913340|        107|\n",
            "+------------------+-------------+-----+-----------+----------+----------+-------------+--------------------+---------+-----------+-----------+\n",
            "only showing top 20 rows\n",
            "\n",
            "+--------------------+-------------+-----+-----------+----------+----------+-------------+--------------------+---------+-----------+-----------+\n",
            "|                name|collaborative|  pid|modified_at|num_tracks|num_albums|num_followers|              tracks|num_edits|duration_ms|num_artists|\n",
            "+--------------------+-------------+-----+-----------+----------+----------+-------------+--------------------+---------+-----------+-----------+\n",
            "|        Country Hits|        false|14258| 1504828800|       130|        77|            1|(52470,[2,764,967...|       61|   28245005|         44|\n",
            "|           Rock.....|        false| 1938| 1500163200|        57|        39|            1|(52470,[1124,1221...|        5|   16766883|         19|\n",
            "|              #Dance|        false|14103| 1463961600|        33|        28|            1|(52470,[99,101,53...|       12|    6901015|         24|\n",
            "|       #boostyourrun|        false|14325| 1425686400|        21|        21|            1|(52470,[2147,6771...|        2|    5002212|         20|\n",
            "|       #boostyourrun|        false|20976| 1399075200|        21|        21|            1|(52470,[934,1753,...|        2|    5400100|         19|\n",
            "|       #boostyourrun|        false|78200| 1402704000|        22|        22|            1|(52470,[2964,6363...|        2|    5825915|         21|\n",
            "|            #college|        false|78334| 1490400000|        21|        19|            2|(52470,[175,1309,...|        4|    5068086|         18|\n",
            "|              $andy$|        false|78110| 1457395200|       117|        63|            1|(52470,[94,868,95...|       14|   28982414|         40|\n",
            "|                 '17|        false|20507| 1505433600|        38|        31|            2|(52470,[434,772,1...|       31|    8051141|         30|\n",
            "|            'merica |        false|78916| 1499990400|        67|        45|            1|(52470,[45,764,76...|       21|   14868475|         35|\n",
            "|    **That New New**|        false|14379| 1432771200|        63|        52|            1|(52470,[15,94,954...|       21|   14353567|         47|\n",
            "|            *HANNAH*|        false|20194| 1506211200|        84|        22|            1|(52470,[22481,244...|        5|   11964693|          6|\n",
            "|              *sigh*|        false|14217| 1509321600|       154|       101|            4|(52470,[716,956,1...|       25|   38055908|         64|\n",
            "|              *trap*|        false|14097| 1507334400|        17|        14|            1|(52470,[94,687,26...|        4|    3360307|         12|\n",
            "|                 ---|        false|20146| 1440720000|       107|        94|            1|(52470,[1,4,94,99...|       17|   25079715|         82|\n",
            "|     ...chill_out...|        false| 1952| 1473724800|        35|        29|            1|(52470,[181,197,5...|       14|    9058086|         27|\n",
            "|             ...mind|        false| 1812| 1509062400|       104|        89|            3|(52470,[434,650,6...|       56|   25186165|         75|\n",
            "|                 .15|        false| 1927| 1430524800|        20|        15|            1|(52470,[3113,3779...|        2|    4731874|         14|\n",
            "|//Pretty Little L...|        false| 1633| 1458259200|        63|        55|            3|(52470,[541,1179,...|       23|   14801506|         50|\n",
            "|               //aBc|        false|78236| 1463875200|        28|        25|            1|(52470,[94,956,12...|       21|    6279845|         21|\n",
            "+--------------------+-------------+-----+-----------+----------+----------+-------------+--------------------+---------+-----------+-----------+\n",
            "only showing top 20 rows\n",
            "\n"
          ]
        },
        {
          "output_type": "execute_result",
          "data": {
            "text/plain": [
              "(None, None, 52470, 133478)"
            ]
          },
          "metadata": {},
          "execution_count": 10
        }
      ],
      "source": [
        "songs_embeddings.show(), artists_embeddings.show(), ARTIST_VECTOR_LENGTH, SONGS_VECTOR_LENGTH"
      ]
    },
    {
      "cell_type": "markdown",
      "metadata": {
        "id": "lPOD60GQQGse"
      },
      "source": [
        "# Convert PySpark DataFrame into PyTorch DataLoader"
      ]
    },
    {
      "cell_type": "code",
      "execution_count": 11,
      "metadata": {
        "id": "QCKbUCcaEpQS"
      },
      "outputs": [],
      "source": [
        "def convert_sparse_to_indices(df: DataFrame) -> DataFrame:\n",
        "  \"\"\"\n",
        "  Given a dataframe fo columns \"pos\":int and \"tracks\":SparseVector, it returns a new dataframe where\n",
        "  the SparseVector are replaced with a list of the indices where the values are.\n",
        "  (The value information is lost, but we don't care since they are binary values so they will be all ones)\n",
        "  \"\"\"\n",
        "\n",
        "  @F.udf(returnType=ArrayType(IntegerType()))\n",
        "  def transform_array(item: SparseVector):\n",
        "    \"\"\"\n",
        "    Given a SparseVector (binary) it returns the tuple that represent it, of the type (size, indices)\n",
        "    \"\"\"\n",
        "    indices_list = item.indices.tolist()\n",
        "    padding_width = max_songs - len(indices_list)\n",
        "    return indices_list + [-1] * padding_width\n",
        "  \n",
        "  max_songs = songs_embeddings.select(F.max(\"num_tracks\")).first()[0]\n",
        "  print(f\"Max number of songs: {max_songs}\")\n",
        "  df = df.withColumn(\"embedding_indices\", transform_array(F.col(\"tracks\"))).drop(\"tracks\")\n",
        "  return df\n"
      ]
    },
    {
      "cell_type": "code",
      "execution_count": 12,
      "metadata": {
        "id": "eIIqDVeN7cU0"
      },
      "outputs": [],
      "source": [
        "def padded_tensors_to_sparse_matrix(padded_tensor: torch.Tensor, shape: tuple) -> torch.Tensor:\n",
        "  batch_size, max_songs = padded_tensor.size(0), padded_tensor.size(1)\n",
        "  rows = []\n",
        "  for row_idx in range(batch_size):\n",
        "    row = padded_tensor[row_idx]\n",
        "    indices = row[row != -1]\n",
        "    sparse_tensor = torch.sparse_coo_tensor(indices.unsqueeze(0), torch.ones(indices.shape), shape)\n",
        "    rows.append(sparse_tensor)\n",
        "  return torch.stack(rows)\n",
        "\n",
        "def padded_tensors_to_dense_matrix(padded_tensor: torch.Tensor, shape: tuple) -> torch.Tensor:\n",
        "  batch_size, max_songs = padded_tensor.size(0), padded_tensor.size(1)\n",
        "  rows = []\n",
        "  for row_idx in range(batch_size):\n",
        "    row = padded_tensor[row_idx]\n",
        "    indices = row[row != -1]\n",
        "    sparse_tensor = torch.sparse_coo_tensor(indices.unsqueeze(0), torch.ones(indices.shape), shape)\n",
        "    dense = sparse_tensor.to_dense()\n",
        "    rows.append(dense)\n",
        "  unpadded = torch.stack(rows)\n",
        "  return unpadded"
      ]
    },
    {
      "cell_type": "markdown",
      "metadata": {
        "id": "UNak5bEo4cmV"
      },
      "source": [
        "In the paper they have two matrices,l et $n$ be the number of unique songs, $m$ the number of playlists and $k$ the number of unique artists:\n",
        "\n",
        "- $P \\in \\mathbb{R}^{m \\times n}$ where $p_i = 1$ if song $i$ is in the playlist, $p_i=0$ otherwise\n",
        "- $A \\in \\mathbb{R}^{m \\times k}$ where $a_i=1$ if the artist is present in the playlist, $a_i = 0$ otherwise"
      ]
    },
    {
      "cell_type": "code",
      "execution_count": 13,
      "metadata": {
        "colab": {
          "base_uri": "https://localhost:8080/"
        },
        "id": "y_pKgJx26s73",
        "outputId": "41cc3c6f-3eff-4cf4-b5dc-8905f521e11b"
      },
      "outputs": [
        {
          "output_type": "stream",
          "name": "stderr",
          "text": [
            "WARNING:petastorm.spark.spark_dataset_converter:Converting floating-point columns to float32\n"
          ]
        },
        {
          "output_type": "stream",
          "name": "stdout",
          "text": [
            "Max number of songs: 250\n"
          ]
        },
        {
          "output_type": "stream",
          "name": "stderr",
          "text": [
            "WARNING:petastorm.spark.spark_dataset_converter:The median size 6803648 B (< 50 MB) of the parquet files is too small. Total size: 12283706 B. Increase the median file size by calling df.repartition(n) or df.coalesce(n), which might help improve the performance. Parquet files: file:///big_data/cache_5/20230608153215-appid-local-1686238312666-7576f2ae-9b7e-42ec-80e8-2bf55f68ad2a/part-00001-01f48e11-8833-4412-94f8-41a1a49c1cf4-c000.parquet, ...\n",
            "WARNING:petastorm.spark.spark_dataset_converter:Converting floating-point columns to float32\n"
          ]
        },
        {
          "output_type": "stream",
          "name": "stdout",
          "text": [
            "Max number of songs: 250\n"
          ]
        },
        {
          "output_type": "stream",
          "name": "stderr",
          "text": [
            "WARNING:petastorm.spark.spark_dataset_converter:The median size 4219266 B (< 50 MB) of the parquet files is too small. Total size: 7570222 B. Increase the median file size by calling df.repartition(n) or df.coalesce(n), which might help improve the performance. Parquet files: file:///big_data/cache_5/20230608153239-appid-local-1686238312666-99cbd911-7008-420c-b15e-2d22c558f850/part-00000-569bcd4b-889e-4fc9-8579-cd42ed848a2f-c000.parquet, ...\n"
          ]
        }
      ],
      "source": [
        "from petastorm.spark import SparkDatasetConverter, make_spark_converter\n",
        "from petastorm.unischema import dict_to_spark_row, Unischema, UnischemaField\n",
        "from petastorm.codecs import ScalarCodec, CompressedImageCodec, NdarrayCodec\n",
        "from torchvision import transforms\n",
        "from petastorm import TransformSpec\n",
        "\n",
        "CACHE = os.path.join(GDRIVE_DIR, \"/big_data/cache_5\")\n",
        "spark.conf.set(SparkDatasetConverter.PARENT_CACHE_DIR_URL_CONF, f'file://{CACHE}')\n",
        "\n",
        "pytorch_songs_df = convert_sparse_to_indices(songs_embeddings.select(\"tracks\"))\n",
        "songs_converter = make_spark_converter(pytorch_songs_df)\n",
        "\n",
        "pytorch_artists_df = convert_sparse_to_indices(artists_embeddings.select(\"tracks\"))\n",
        "artist_converter = make_spark_converter(pytorch_artists_df)"
      ]
    },
    {
      "cell_type": "markdown",
      "metadata": {
        "id": "m0Av0W0P66lC"
      },
      "source": [
        "# PyTorch Model"
      ]
    },
    {
      "cell_type": "code",
      "execution_count": 32,
      "metadata": {
        "id": "6-YbESXD66Oh"
      },
      "outputs": [],
      "source": [
        "import torch\n",
        "import torch.nn as nn\n",
        "import torch.optim as optim\n",
        "import numpy as np\n",
        "import pickle\n",
        "\n",
        "class DAE_tied(nn.Module):\n",
        "    def __init__(self, conf):\n",
        "        super(DAE_tied, self).__init__()\n",
        "        self.save_dir = conf[\"save\"]\n",
        "        self.device = torch.device(\"cuda\" if torch.cuda.is_available() else \"cpu\")\n",
        "\n",
        "        self.n_batch = conf[\"batch\"]\n",
        "        self.n_input = conf[\"n_input\"]\n",
        "        self.n_hidden = conf[\"hidden\"]\n",
        "        self.reg_lambda = conf[\"reg_lambda\"]\n",
        "\n",
        "        self.keep_prob = torch.tensor(conf[\"keep_prob\"], dtype=torch.float32)\n",
        "        self.input_keep_prob = torch.tensor(conf[\"input_keep_prob\"], dtype=torch.float32)\n",
        "\n",
        "        self.weights = {}\n",
        "        self.biases = {}\n",
        "        self.d_params = []\n",
        "\n",
        "    def init_weight(self):\n",
        "        self.weights['encoder_h'] = nn.Parameter(torch.FloatTensor(self.n_input, self.n_hidden).to(self.device))\n",
        "        nn.init.xavier_uniform_(self.weights['encoder_h'])\n",
        "        self.biases['encoder_b'] = nn.Parameter(torch.FloatTensor(self.n_hidden).to(self.device))\n",
        "        nn.init.zeros_(self.biases['encoder_b'])\n",
        "        self.biases['decoder_b'] = nn.Parameter(torch.FloatTensor(self.n_input).to(self.device))\n",
        "        nn.init.zeros_(self.biases['decoder_b'])\n",
        "        self.d_params = [self.weights['encoder_h'], self.weights['encoder_h'], self.biases['encoder_b'], self.biases['decoder_b']]\n",
        "\n",
        "    # Building the encoder\n",
        "    def encoder(self, x):\n",
        "        # Encoder Hidden layer with sigmoid activation #1\n",
        "        layer = torch.add(torch.matmul(x, self.weights['encoder_h']), self.biases['encoder_b'])\n",
        "        layer = torch.sigmoid(layer)\n",
        "        layer = torch.nn.functional.dropout(layer, p=1 - self.keep_prob)\n",
        "\n",
        "        return layer\n",
        "\n",
        "    # Building the decoder\n",
        "    def decoder(self, x):\n",
        "        # Decoder Hidden layer with sigmoid activation #1\n",
        "        layer = torch.sigmoid(torch.add(torch.matmul(x, self.weights['encoder_h'].t()), self.biases['decoder_b']))\n",
        "        return layer\n",
        "\n",
        "    def l2_loss(self):\n",
        "      encoder_h_l2 = (torch.sum(self.weights['encoder_h']) ** 2)/2\n",
        "      decoder_b_l2 = (torch.sum(self.biases['decoder_b']) ** 2)/2\n",
        "      encoder_b_l2 = (torch.sum(self.biases['encoder_b']) ** 2)/2\n",
        "\n",
        "      l2 = encoder_h_l2 + decoder_b_l2 + encoder_b_l2\n",
        "      return l2\n",
        "\n",
        "    def forward(self, x, y):\n",
        "\n",
        "        # TODO: Take sparse matrix representation instead of dense\n",
        "        # self.x = x_positxions\n",
        "        # self.x_ones = x_ones\n",
        "        # self.y_positions = y_positions\n",
        "        # self.y_ones = y_ones\n",
        "\n",
        "        self.x = x.t()\n",
        "        self.y = y.t()\n",
        "\n",
        "        # x_sparse = torch.sparse.FloatTensor(self.x_positions.t(), self.x_ones, torch.Size([self.n_batch, self.n_input]))\n",
        "        # self.x = x_sparse.to_dense()\n",
        "        # y_sparse = torch.sparse.FloatTensor(self.y_positions.t(), self.y_ones, torch.Size([self.n_batch, self.n_input]))\n",
        "        # self.y = y_sparse.to_dense()\n",
        "\n",
        "        x_dropout = torch.nn.functional.dropout(self.x, p= 1 - self.input_keep_prob)\n",
        "        reduce_sum = torch.sum(x_dropout, dim=1, keepdim=True)\n",
        "        self.x_dropout = torch.div(x_dropout, reduce_sum + 1e-10)\n",
        "\n",
        "        encoder_op = self.encoder(self.x_dropout)\n",
        "        self.y_pred = self.decoder(encoder_op)\n",
        "\n",
        "        l2 = self.l2_loss()\n",
        "\n",
        "        L = -torch.sum(self.y * torch.log(self.y_pred + 1e-10) +\n",
        "                       0.55 * (1 - self.y) * torch.log(1 - self.y_pred + 1e-10), dim=1)\n",
        "        self.cost = torch.mean(L) + self.reg_lambda * l2\n",
        "\n",
        "    def save_model(self):\n",
        "        params = [param.detach().numpy() for param in self.d_params]\n",
        "        with open(self.save_dir, 'wb') as f:\n",
        "            pickle.dump(params, f)\n",
        "\n",
        "            \n",
        "class DAE(DAE_tied):\n",
        "    def __init__(self, conf):\n",
        "        super(DAE, self).__init__(conf)\n",
        "        self.initval_dir = conf[\"initval\"]\n",
        "\n",
        "    def init_weight(self):\n",
        "        if self.initval_dir == 'NULL':\n",
        "            self.weights['encoder_h'] = nn.Parameter(torch.FloatTensor(self.n_input, self.n_hidden).to(self.device))\n",
        "            nn.init.xavier_uniform_(self.weights['encoder_h'])\n",
        "            self.weights['decoder_h'] = nn.Parameter(torch.FloatTensor(self.n_input, self.n_hidden).to(self.device))\n",
        "            nn.init.xavier_uniform_(self.weights['decoder_h'])\n",
        "            self.biases['encoder_b'] = nn.Parameter(torch.FloatTensor(self.n_hidden).to(self.device))\n",
        "            nn.init.zeros_(self.biases['encoder_b'])\n",
        "            self.biases['decoder_b'] = nn.Parameter(torch.FloatTensor(self.n_input).to(self.device))\n",
        "            nn.init.zeros_(self.biases['decoder_b'])\n",
        "        else:\n",
        "            with open(self.initval_dir, 'rb') as f:\n",
        "                emb = pickle.load(f)\n",
        "            self.weights['encoder_h'] = nn.Parameter(torch.FloatTensor(emb[0]).to(self.device))\n",
        "            self.weights['decoder_h'] = nn.Parameter(torch.FloatTensor(emb[1]).to(self.device))\n",
        "            self.biases['encoder_b'] = nn.Parameter(torch.FloatTensor(emb[2]).to(self.device))\n",
        "            self.biases['decoder_b'] = nn.Parameter(torch.FloatTensor(emb[3]).to(self.device))\n",
        "\n",
        "        self.d_params = [self.weights['encoder_h'], self.weights['decoder_h'],\n",
        "                         self.biases['encoder_b'], self.biases['decoder_b']]\n",
        "\n",
        "    def decoder(self, x):\n",
        "        # Decoder Hidden layer with sigmoid activation #1\n",
        "        layer = torch.sigmoid(torch.add(torch.matmul(x, self.weights['decoder_h'].t()), self.biases['decoder_b']))\n",
        "        return layer\n",
        "\n",
        "    def l2_loss(self):\n",
        "      encoder_h_l2 = (torch.sum(self.weights['encoder_h']) ** 2)/2\n",
        "      decoder_b_l2 = (torch.sum(self.biases['decoder_b']) ** 2)/2\n",
        "      encoder_b_l2 = (torch.sum(self.biases['encoder_b']) ** 2)/2\n",
        "      decoder_h_l2 = (torch.sum(self.weights['decoder_h']) ** 2)/2\n",
        "\n",
        "      l2 = encoder_h_l2 + decoder_b_l2 + encoder_b_l2 + decoder_h_l2\n",
        "      return l2"
      ]
    },
    {
      "cell_type": "code",
      "execution_count": 15,
      "metadata": {
        "id": "aykoeJfhOUBV"
      },
      "outputs": [],
      "source": [
        "device = torch.device(\"cuda\" if torch.cuda.is_available() else \"cpu\")"
      ]
    },
    {
      "cell_type": "code",
      "execution_count": 38,
      "metadata": {
        "id": "DVGpMdqs7dQQ",
        "colab": {
          "base_uri": "https://localhost:8080/"
        },
        "outputId": "f7214a0e-2858-4cbd-d405-9968ae229f9f"
      },
      "outputs": [
        {
          "output_type": "execute_result",
          "data": {
            "text/plain": [
              "DAE_tied()"
            ]
          },
          "metadata": {},
          "execution_count": 38
        }
      ],
      "source": [
        "#Hyperparameters used in the paper\n",
        "conf = {\n",
        "    'batch': 250,\n",
        "    'n_input': SONGS_VECTOR_LENGTH + ARTIST_VECTOR_LENGTH - 2, #-2 to compense the first row of zeros since the pos in the df start at 1\n",
        "    'hidden': 256,\n",
        "    'lr': 0.0001,\n",
        "    'reg_lambda': 0.0,\n",
        "    'initval': \"NULL\",\n",
        "    \"keep_prob\": 0.8, \n",
        "    \"input_keep_prob\": 0.8, # This isn't used for now because of the .uniform()\n",
        "    'save': os.path.join(SAVED_MODELS, \"dae_model.pickle\")\n",
        "}\n",
        "pretrain_model = DAE_tied(conf)\n",
        "pretrain_model.init_weight()\n",
        "pretrain_model.train()\n",
        "# optimizer = optim.SGD(dae_model.d_params, lr=conf['lr'], momentum=0.9)"
      ]
    },
    {
      "cell_type": "code",
      "execution_count": 39,
      "metadata": {
        "id": "mNPmA2YijSO1"
      },
      "outputs": [],
      "source": [
        "pretrain_optimizer = optim.Adam(pretrain_model.d_params, lr=conf['lr'])"
      ]
    },
    {
      "cell_type": "code",
      "execution_count": 40,
      "metadata": {
        "colab": {
          "base_uri": "https://localhost:8080/"
        },
        "id": "5jAqv6QBEiK9",
        "outputId": "e1486421-8e0d-414e-f245-e465e69f1048"
      },
      "outputs": [
        {
          "output_type": "execute_result",
          "data": {
            "text/plain": [
              "device(type='cuda', index=0)"
            ]
          },
          "metadata": {},
          "execution_count": 40
        }
      ],
      "source": [
        "pretrain_model.weights['encoder_h'].device"
      ]
    },
    {
      "cell_type": "markdown",
      "metadata": {
        "id": "GuqQMu_E0yaN"
      },
      "source": [
        "## Train the model"
      ]
    },
    {
      "cell_type": "code",
      "execution_count": 41,
      "metadata": {
        "id": "jIg2DIDNjEKm"
      },
      "outputs": [],
      "source": [
        "min_loss = 600\n",
        "best_params = []\n",
        "losses = []\n",
        "BEST_PARAMS_PATH = os.path.join(SAVED_MODELS, \"best_params.pickle\")"
      ]
    },
    {
      "cell_type": "markdown",
      "source": [
        "Pretrain with `DAE_tied`"
      ],
      "metadata": {
        "id": "SFvPuc5hqirK"
      }
    },
    {
      "cell_type": "code",
      "execution_count": 42,
      "metadata": {
        "id": "Z_BjjpshDD2H",
        "colab": {
          "base_uri": "https://localhost:8080/",
          "height": 1000,
          "referenced_widgets": [
            "617d90282fc34c27a1a13a5724d84521",
            "a6fe1c0a2030494bacc61ae1e717e35e",
            "e6e140a423524e9bb542622b301e7610",
            "feb5772304864d589fcdde8e0d1e3705",
            "2a00ab0c05334877af8d88a69409cca0",
            "6ca340f43cb84f19ae3a8c01eff4be25",
            "9b2631db50664099947b38d351eaca2b",
            "0e5f11830c4c4f189d51b3bae4e4f597",
            "3ee1fd018b4f4fd28c64b24c0e2ec521",
            "6041e64ed6d24094a4993a22932eaca9",
            "e23cadde752f4110ae2dd838436f3958"
          ]
        },
        "outputId": "44a1660d-29dc-4b8b-d704-7d3a693bb793"
      },
      "outputs": [
        {
          "output_type": "display_data",
          "data": {
            "text/plain": [
              "Training model:   0%|          | 0/4000.0 [00:00<?, ?it/s]"
            ],
            "application/vnd.jupyter.widget-view+json": {
              "version_major": 2,
              "version_minor": 0,
              "model_id": "617d90282fc34c27a1a13a5724d84521"
            }
          },
          "metadata": {}
        },
        {
          "output_type": "stream",
          "name": "stdout",
          "text": [
            "Loss: 70926.5625\n",
            "Loss: 58117.76171875\n",
            "Loss: 47750.6640625\n",
            "Loss: 39354.03515625\n",
            "Loss: 32790.59765625\n",
            "Loss: 27722.44140625\n",
            "Loss: 23660.08203125\n",
            "Loss: 20278.75\n",
            "Loss: 17666.892578125\n",
            "Loss: 15633.5498046875\n",
            "Loss: 13794.3291015625\n",
            "Loss: 12377.146484375\n",
            "Loss: 11154.37109375\n",
            "Loss: 10227.138671875\n",
            "Loss: 9302.0390625\n",
            "Loss: 8394.75\n",
            "Loss: 7803.23046875\n",
            "Loss: 7168.8330078125\n",
            "Loss: 6660.982421875\n",
            "Loss: 6158.46142578125\n",
            "Loss: 5785.83154296875\n",
            "Loss: 5475.69482421875\n",
            "Loss: 5053.5244140625\n",
            "Loss: 4799.4169921875\n",
            "Loss: 4516.29345703125\n",
            "Loss: 4282.68603515625\n",
            "Loss: 4086.874755859375\n",
            "Loss: 3881.482666015625\n",
            "Loss: 3651.048583984375\n",
            "Loss: 3522.002197265625\n",
            "Loss: 3374.5263671875\n",
            "Loss: 3150.6171875\n",
            "Loss: 3064.9560546875\n",
            "Loss: 2925.216552734375\n",
            "Loss: 2837.006591796875\n",
            "Loss: 2731.4912109375\n",
            "Loss: 2654.067626953125\n",
            "Loss: 2582.378662109375\n",
            "Loss: 2421.62890625\n",
            "Loss: 2332.24560546875\n",
            "Loss: 2311.985595703125\n",
            "Loss: 2227.777099609375\n",
            "Loss: 2129.173095703125\n",
            "Loss: 2092.51904296875\n",
            "Loss: 2085.897216796875\n",
            "Loss: 1975.4476318359375\n",
            "Loss: 1987.348876953125\n",
            "Loss: 1947.65087890625\n",
            "Loss: 1864.927734375\n",
            "Loss: 1842.7083740234375\n",
            "Loss: 1793.0518798828125\n",
            "Loss: 1733.600341796875\n",
            "Loss: 1662.6702880859375\n",
            "Loss: 1638.5941162109375\n",
            "Loss: 1593.9755859375\n",
            "Loss: 1549.7177734375\n",
            "Loss: 1515.6075439453125\n",
            "Loss: 1496.525390625\n",
            "Loss: 1502.877197265625\n",
            "Loss: 1478.914306640625\n",
            "Loss: 1406.052978515625\n",
            "Loss: 1397.0250244140625\n",
            "Loss: 1388.79931640625\n",
            "Loss: 1356.4200439453125\n",
            "Loss: 1347.23486328125\n",
            "Loss: 1314.64892578125\n",
            "Loss: 1318.5711669921875\n",
            "Loss: 1313.8453369140625\n",
            "Loss: 1246.561279296875\n",
            "Loss: 1203.1951904296875\n",
            "Loss: 1209.30908203125\n",
            "Loss: 1183.8267822265625\n",
            "Loss: 1171.1265869140625\n",
            "Loss: 1160.9248046875\n",
            "Loss: 1146.4404296875\n",
            "Loss: 1135.468017578125\n",
            "Loss: 1106.661376953125\n",
            "Loss: 1098.5274658203125\n",
            "Loss: 1080.040771484375\n",
            "Loss: 1062.8677978515625\n",
            "Loss: 1079.42333984375\n",
            "Loss: 1063.3060302734375\n",
            "Loss: 1042.9178466796875\n",
            "Loss: 968.7864379882812\n",
            "Loss: 983.8688354492188\n",
            "Loss: 1048.2734375\n",
            "Loss: 1001.2279663085938\n",
            "Loss: 1000.8182983398438\n",
            "Loss: 966.0056762695312\n",
            "Loss: 981.9451904296875\n",
            "Loss: 962.4111938476562\n",
            "Loss: 967.6315307617188\n",
            "Loss: 895.0527954101562\n",
            "Loss: 917.7479248046875\n",
            "Loss: 970.893310546875\n",
            "Loss: 935.6305541992188\n",
            "Loss: 917.3462524414062\n",
            "Loss: 939.6099853515625\n",
            "Loss: 915.5118408203125\n",
            "Loss: 944.5060424804688\n",
            "Loss: 898.337890625\n",
            "Loss: 855.2955322265625\n",
            "Loss: 860.8536987304688\n",
            "Loss: 853.8519287109375\n",
            "Loss: 854.1942749023438\n",
            "Loss: 857.5176391601562\n",
            "Loss: 839.750732421875\n",
            "Loss: 866.1298828125\n",
            "Loss: 817.6008911132812\n",
            "Loss: 827.025634765625\n",
            "Loss: 824.266845703125\n",
            "Loss: 812.4244995117188\n",
            "Loss: 825.8966064453125\n",
            "Loss: 816.8675537109375\n",
            "Loss: 807.988037109375\n",
            "Loss: 751.8243408203125\n",
            "Loss: 769.4627685546875\n",
            "Loss: 836.7998046875\n",
            "Loss: 793.4158935546875\n",
            "Loss: 796.8609008789062\n",
            "Loss: 760.992919921875\n",
            "Loss: 793.0838623046875\n",
            "Loss: 786.720458984375\n",
            "Loss: 794.8680419921875\n",
            "Loss: 720.5831298828125\n",
            "Loss: 744.9044189453125\n",
            "Loss: 797.39013671875\n",
            "Loss: 772.2691650390625\n",
            "Loss: 754.0009155273438\n",
            "Loss: 723.7039184570312\n",
            "Loss: 731.4395141601562\n",
            "Loss: 767.7847900390625\n",
            "Loss: 800.7803955078125\n",
            "Loss: 758.9855346679688\n",
            "Loss: 746.0367431640625\n",
            "Loss: 711.0787353515625\n",
            "Loss: 706.6376342773438\n",
            "Loss: 712.608154296875\n",
            "Loss: 688.4683227539062\n",
            "Loss: 721.3936767578125\n",
            "Loss: 739.9536743164062\n",
            "Loss: 691.259521484375\n",
            "Loss: 742.4063110351562\n",
            "Loss: 735.2211303710938\n",
            "Loss: 733.5558471679688\n",
            "Loss: 775.2084350585938\n",
            "Loss: 753.5834350585938\n",
            "Loss: 730.4389038085938\n",
            "Loss: 705.3504028320312\n",
            "Loss: 708.6521606445312\n",
            "Loss: 721.5014038085938\n",
            "Loss: 710.37060546875\n",
            "Loss: 683.324462890625\n",
            "Loss: 677.4317626953125\n",
            "Loss: 711.4376831054688\n",
            "Loss: 716.3273315429688\n",
            "Loss: 652.2046508789062\n",
            "Loss: 689.0999145507812\n",
            "Loss: 712.7416381835938\n",
            "Loss: 705.7850341796875\n",
            "Loss: 695.2962646484375\n",
            "Loss: 708.2719116210938\n",
            "Loss: 738.7866821289062\n",
            "Loss: 727.2567138671875\n",
            "Loss: 675.3932495117188\n",
            "Loss: 647.6754150390625\n",
            "Loss: 647.2926635742188\n",
            "Loss: 661.5585327148438\n",
            "Loss: 681.6192626953125\n",
            "Loss: 658.6731567382812\n",
            "Loss: 624.8768920898438\n",
            "Loss: 656.66552734375\n",
            "Loss: 651.1725463867188\n",
            "Loss: 667.3619995117188\n",
            "Best loss achieved: 592.4734497070312, parameters saved!\n",
            "Loss: 674.0135498046875\n",
            "Loss: 693.05419921875\n",
            "Loss: 690.445556640625\n",
            "Loss: 656.6312866210938\n",
            "Loss: 652.282958984375\n",
            "Loss: 619.9013061523438\n",
            "Loss: 632.5399169921875\n",
            "Loss: 698.6303100585938\n",
            "Loss: 636.6221313476562\n",
            "Loss: 646.8336181640625\n",
            "Loss: 634.8098754882812\n",
            "Best loss achieved: 591.73974609375, parameters saved!\n",
            "Loss: 667.874267578125\n",
            "Loss: 666.7554321289062\n",
            "Best loss achieved: 575.3018188476562, parameters saved!\n",
            "Loss: 651.1402587890625\n",
            "Loss: 615.3698120117188\n",
            "Loss: 633.5299072265625\n",
            "Loss: 662.2047729492188\n",
            "Loss: 641.0892944335938\n",
            "Loss: 667.3311767578125\n",
            "Loss: 675.135009765625\n",
            "Loss: 705.9818115234375\n",
            "Loss: 690.6799926757812\n",
            "Loss: 641.1956787109375\n",
            "Loss: 617.9238891601562\n",
            "Loss: 610.8323974609375\n",
            "Loss: 628.5940551757812\n",
            "Loss: 643.04736328125\n",
            "Loss: 622.0225219726562\n",
            "Loss: 586.585693359375\n",
            "Loss: 625.4822998046875\n",
            "Loss: 620.3971557617188\n",
            "Loss: 639.1686401367188\n",
            "Best loss achieved: 561.8648071289062, parameters saved!\n",
            "Loss: 640.7510375976562\n",
            "Loss: 663.1201782226562\n",
            "Loss: 672.2770385742188\n",
            "Loss: 627.9904174804688\n",
            "Loss: 619.2930297851562\n",
            "Loss: 588.8860473632812\n",
            "Loss: 603.0924072265625\n",
            "Loss: 667.5996704101562\n",
            "Loss: 610.5491943359375\n",
            "Loss: 620.3580322265625\n",
            "Loss: 614.8189086914062\n",
            "Loss: 645.091796875\n",
            "Loss: 644.9807739257812\n",
            "Best loss achieved: 552.2447509765625, parameters saved!\n",
            "Loss: 630.150634765625\n",
            "Loss: 590.0674438476562\n",
            "Loss: 610.669677734375\n",
            "Loss: 639.5856323242188\n",
            "Loss: 621.7012939453125\n",
            "Loss: 636.5514526367188\n",
            "Loss: 669.0721435546875\n",
            "Loss: 654.4058837890625\n",
            "Loss: 684.6581420898438\n",
            "Loss: 636.759765625\n",
            "Loss: 602.0477294921875\n",
            "Loss: 620.1104125976562\n",
            "Loss: 619.3712768554688\n"
          ]
        },
        {
          "output_type": "error",
          "ename": "KeyboardInterrupt",
          "evalue": "ignored",
          "traceback": [
            "\u001b[0;31m---------------------------------------------------------------------------\u001b[0m",
            "\u001b[0;31mKeyboardInterrupt\u001b[0m                         Traceback (most recent call last)",
            "\u001b[0;32m<ipython-input-42-a9523ca11cd8>\u001b[0m in \u001b[0;36m<cell line: 4>\u001b[0;34m()\u001b[0m\n\u001b[1;32m     18\u001b[0m       \u001b[0martist_dense\u001b[0m \u001b[0;34m=\u001b[0m \u001b[0mpadded_tensors_to_dense_matrix\u001b[0m\u001b[0;34m(\u001b[0m\u001b[0mpadded_artist_tensor\u001b[0m\u001b[0;34m,\u001b[0m \u001b[0mARTIST_SHAPE\u001b[0m\u001b[0;34m)\u001b[0m\u001b[0;34m[\u001b[0m\u001b[0;34m:\u001b[0m\u001b[0;34m,\u001b[0m \u001b[0;36m1\u001b[0m\u001b[0;34m:\u001b[0m\u001b[0;34m]\u001b[0m\u001b[0;34m\u001b[0m\u001b[0;34m\u001b[0m\u001b[0m\n\u001b[1;32m     19\u001b[0m \u001b[0;34m\u001b[0m\u001b[0m\n\u001b[0;32m---> 20\u001b[0;31m       \u001b[0msong_dense\u001b[0m \u001b[0;34m=\u001b[0m \u001b[0msong_dense\u001b[0m\u001b[0;34m.\u001b[0m\u001b[0mto\u001b[0m\u001b[0;34m(\u001b[0m\u001b[0mdevice\u001b[0m\u001b[0;34m)\u001b[0m\u001b[0;34m\u001b[0m\u001b[0;34m\u001b[0m\u001b[0m\n\u001b[0m\u001b[1;32m     21\u001b[0m       \u001b[0martist_dense\u001b[0m \u001b[0;34m=\u001b[0m \u001b[0martist_dense\u001b[0m\u001b[0;34m.\u001b[0m\u001b[0mto\u001b[0m\u001b[0;34m(\u001b[0m\u001b[0mdevice\u001b[0m\u001b[0;34m)\u001b[0m\u001b[0;34m\u001b[0m\u001b[0;34m\u001b[0m\u001b[0m\n\u001b[1;32m     22\u001b[0m \u001b[0;34m\u001b[0m\u001b[0m\n",
            "\u001b[0;31mKeyboardInterrupt\u001b[0m: "
          ]
        }
      ],
      "source": [
        "from tqdm.notebook import tqdm\n",
        "import random\n",
        "NUM_EPOCHS = 10\n",
        "with songs_converter.make_torch_dataloader(batch_size=conf[\"batch\"], num_epochs = NUM_EPOCHS) as songs_dataloader:\n",
        "  with artist_converter.make_torch_dataloader(batch_size=conf[\"batch\"], num_epochs = NUM_EPOCHS) as artists_dataloader:\n",
        "    ARTIST_SHAPE = (ARTIST_VECTOR_LENGTH, )\n",
        "    SONG_SHAPE = (SONGS_VECTOR_LENGTH, )\n",
        "    # for epoch in tqdm(range(num_epochs), desc=\"Training...\"):\n",
        "    zipped_dataloaders = zip(songs_dataloader, artists_dataloader)\n",
        "    for batch_idx, (song, artist) in tqdm(enumerate(zipped_dataloaders), desc=f\"Training model\", total= (NUM_PLAYLISTS / conf[\"batch\"]) * NUM_EPOCHS):\n",
        "      # Pick random input_keep_prob between 0.5 and 0.8\n",
        "      pretrain_model.input_keep_prob = random.uniform(0.5, 0.8) #TODO: make this dynamic inside the conf\n",
        "\n",
        "      padded_song_tensor = song[\"embedding_indices\"]\n",
        "      padded_artist_tensor = artist[\"embedding_indices\"]\n",
        "      \n",
        "      song_dense = padded_tensors_to_dense_matrix(padded_song_tensor, SONG_SHAPE)[:, 1:]\n",
        "      artist_dense = padded_tensors_to_dense_matrix(padded_artist_tensor, ARTIST_SHAPE)[:, 1:]\n",
        "\n",
        "      song_dense = song_dense.to(device)\n",
        "      artist_dense = artist_dense.to(device)\n",
        "\n",
        "      rand_int = np.random.randint(2)\n",
        "      if rand_int == 0:\n",
        "        #Zero-out the artists\n",
        "        pretrain_optimizer.zero_grad()\n",
        "        x = torch.concat((song_dense, torch.zeros_like(artist_dense)), dim=1).t()\n",
        "        y = torch.concat((song_dense, artist_dense), dim=1).t()\n",
        "        pretrain_model(x, y)\n",
        "        loss = pretrain_model.cost\n",
        "        pretrain_model.cost.backward()\n",
        "        pretrain_optimizer.step()\n",
        "      if rand_int == 1:\n",
        "        #Zero-out the tracks\n",
        "        pretrain_optimizer.zero_grad()\n",
        "        x = torch.concat((torch.zeros_like(song_dense), artist_dense), dim=1).t()\n",
        "        y = torch.concat((song_dense, artist_dense), dim=1).t()\n",
        "        pretrain_model(x, y)\n",
        "        loss = pretrain_model.cost\n",
        "        pretrain_model.cost.backward()\n",
        "        pretrain_optimizer.step()\n",
        "\n",
        "      losses.append(loss)\n",
        "\n",
        "     \n",
        "      if loss < min_loss:\n",
        "        min_loss = loss\n",
        "        del best_params\n",
        "        best_params = [param.cpu().detach().numpy() for param in pretrain_model.d_params]\n",
        "        with open(BEST_PARAMS_PATH, \"wb\") as f:\n",
        "          pickle.dump(best_params, f)\n",
        "        print(f\"Best loss achieved: {min_loss}, parameters saved!\")\n",
        "\n",
        "      if batch_idx % 10 == 0:\n",
        "        print(f\"Loss: {loss}\")\n"
      ]
    },
    {
      "cell_type": "markdown",
      "source": [
        "Train with `DAE` loading the pretrained `DAE_tied` model"
      ],
      "metadata": {
        "id": "sFOoS7eGqlrH"
      }
    },
    {
      "cell_type": "code",
      "source": [
        "conf = {\n",
        "    'batch': 250,\n",
        "    'n_input': SONGS_VECTOR_LENGTH + ARTIST_VECTOR_LENGTH - 2, #-2 to compense the first row of zeros since the pos in the df start at 1\n",
        "    'hidden': 256,\n",
        "    'lr': 0.000005, #remove one zero\n",
        "    'reg_lambda': 0.0,\n",
        "    'initval': BEST_PARAMS_PATH,\n",
        "    \"keep_prob\": 0.8, \n",
        "    \"input_keep_prob\": 0.8, # This isn't used for now because of the .uniform()\n",
        "    'save': os.path.join(SAVED_MODELS, \"dae_model.pickle\")\n",
        "}\n",
        "dae_model = DAE(conf)\n",
        "dae_model.init_weight()\n",
        "optimizer = optim.Adam(dae_model.d_params, lr=conf['lr'])\n",
        "\n",
        "min_loss = 600\n",
        "losses = []\n",
        "best_params = []\n",
        "FINE_TUNED_BEST_PARAMS_PATH = os.path.join(SAVED_MODELS, \"final_best_params.pickle\")"
      ],
      "metadata": {
        "id": "IFAj48uuqlbd"
      },
      "execution_count": 45,
      "outputs": []
    },
    {
      "cell_type": "code",
      "source": [
        "from tqdm.notebook import tqdm\n",
        "import random\n",
        "NUM_EPOCHS = 10\n",
        "with songs_converter.make_torch_dataloader(batch_size=conf[\"batch\"], num_epochs = NUM_EPOCHS) as songs_dataloader:\n",
        "  with artist_converter.make_torch_dataloader(batch_size=conf[\"batch\"], num_epochs = NUM_EPOCHS) as artists_dataloader:\n",
        "    ARTIST_SHAPE = (ARTIST_VECTOR_LENGTH, )\n",
        "    SONG_SHAPE = (SONGS_VECTOR_LENGTH, )\n",
        "    # for epoch in tqdm(range(num_epochs), desc=\"Training...\"):\n",
        "    zipped_dataloaders = zip(songs_dataloader, artists_dataloader)\n",
        "    for batch_idx, (song, artist) in tqdm(enumerate(zipped_dataloaders), desc=f\"Training model\", total= (NUM_PLAYLISTS / conf[\"batch\"]) * NUM_EPOCHS):\n",
        "      # Pick random input_keep_prob between 0.5 and 0.8\n",
        "      dae_model.input_keep_prob = random.uniform(0.5, 0.8) #TODO: make this dynamic inside the conf\n",
        "\n",
        "      padded_song_tensor = song[\"embedding_indices\"]\n",
        "      padded_artist_tensor = artist[\"embedding_indices\"]\n",
        "      \n",
        "      song_dense = padded_tensors_to_dense_matrix(padded_song_tensor, SONG_SHAPE)[:, 1:]\n",
        "      artist_dense = padded_tensors_to_dense_matrix(padded_artist_tensor, ARTIST_SHAPE)[:, 1:]\n",
        "\n",
        "      song_dense = song_dense.to(device)\n",
        "      artist_dense = artist_dense.to(device)\n",
        "\n",
        "      rand_int = np.random.randint(2)\n",
        "      if rand_int == 0:\n",
        "        #Zero-out the artists\n",
        "        optimizer.zero_grad()\n",
        "        x = torch.concat((song_dense, torch.zeros_like(artist_dense)), dim=1).t()\n",
        "        y = torch.concat((song_dense, artist_dense), dim=1).t()\n",
        "        dae_model(x, y)\n",
        "        loss = dae_model.cost\n",
        "        dae_model.cost.backward()\n",
        "        optimizer.step()\n",
        "      if rand_int == 1:\n",
        "        #Zero-out the tracks\n",
        "        optimizer.zero_grad()\n",
        "        x = torch.concat((torch.zeros_like(song_dense), artist_dense), dim=1).t()\n",
        "        y = torch.concat((song_dense, artist_dense), dim=1).t()\n",
        "        dae_model(x, y)\n",
        "        loss = dae_model.cost\n",
        "        dae_model.cost.backward()\n",
        "        optimizer.step()\n",
        "\n",
        "      losses.append(loss)\n",
        "\n",
        "     \n",
        "      if loss < min_loss:\n",
        "        min_loss = loss\n",
        "        del best_params\n",
        "        best_params = [param.cpu().detach().numpy() for param in pretrain_model.d_params]\n",
        "        with open(BEST_PARAMS_PATH, \"wb\") as f:\n",
        "          pickle.dump(best_params, f)\n",
        "        print(f\"Best loss achieved: {min_loss}, parameters saved!\")\n",
        "\n",
        "      if batch_idx % 10 == 0:\n",
        "        print(f\"Loss: {loss}\")\n"
      ],
      "metadata": {
        "colab": {
          "base_uri": "https://localhost:8080/",
          "height": 493,
          "referenced_widgets": [
            "9f1fea2afbf3454c9d3d2cd0e4edb7ad",
            "09c45767a4cb4ca1b228c11376d40e64",
            "8f15ac7d422a4c8b9f36a2c78991500d",
            "34e8c785806f419eb196daa8c59782ac",
            "86a7a3413a34442c8d6cb09497760a60",
            "d9b8cf743b144264ac7abf8fc5305580",
            "e7fd349a04eb478ba32c323c7303befd",
            "3228c718779d485bb25d4e48a9c66107",
            "0cbc2268e2bc4a438422758798b29a21",
            "4b7029ce13f944a48ea0e3317140c883",
            "4488d3a254ad45d7a32d9c0d11a4b974"
          ]
        },
        "id": "gyw3SnVYyRP1",
        "outputId": "1b28e086-fc57-423f-b9ad-3f3164a34810"
      },
      "execution_count": 46,
      "outputs": [
        {
          "output_type": "display_data",
          "data": {
            "text/plain": [
              "Training model:   0%|          | 0/4000.0 [00:00<?, ?it/s]"
            ],
            "application/vnd.jupyter.widget-view+json": {
              "version_major": 2,
              "version_minor": 0,
              "model_id": "9f1fea2afbf3454c9d3d2cd0e4edb7ad"
            }
          },
          "metadata": {}
        },
        {
          "output_type": "stream",
          "name": "stdout",
          "text": [
            "Loss: 640.221923828125\n",
            "Best loss achieved: 586.825927734375, parameters saved!\n",
            "Loss: 638.6425170898438\n",
            "Loss: 685.1658935546875\n",
            "Best loss achieved: 570.0928955078125, parameters saved!\n",
            "Loss: 670.8534545898438\n",
            "Loss: 616.9705200195312\n"
          ]
        },
        {
          "output_type": "error",
          "ename": "KeyboardInterrupt",
          "evalue": "ignored",
          "traceback": [
            "\u001b[0;31m---------------------------------------------------------------------------\u001b[0m",
            "\u001b[0;31mKeyboardInterrupt\u001b[0m                         Traceback (most recent call last)",
            "\u001b[0;32m<ipython-input-46-d4c94ff6df25>\u001b[0m in \u001b[0;36m<cell line: 4>\u001b[0;34m()\u001b[0m\n\u001b[1;32m     15\u001b[0m       \u001b[0mpadded_artist_tensor\u001b[0m \u001b[0;34m=\u001b[0m \u001b[0martist\u001b[0m\u001b[0;34m[\u001b[0m\u001b[0;34m\"embedding_indices\"\u001b[0m\u001b[0;34m]\u001b[0m\u001b[0;34m\u001b[0m\u001b[0;34m\u001b[0m\u001b[0m\n\u001b[1;32m     16\u001b[0m \u001b[0;34m\u001b[0m\u001b[0m\n\u001b[0;32m---> 17\u001b[0;31m       \u001b[0msong_dense\u001b[0m \u001b[0;34m=\u001b[0m \u001b[0mpadded_tensors_to_dense_matrix\u001b[0m\u001b[0;34m(\u001b[0m\u001b[0mpadded_song_tensor\u001b[0m\u001b[0;34m,\u001b[0m \u001b[0mSONG_SHAPE\u001b[0m\u001b[0;34m)\u001b[0m\u001b[0;34m[\u001b[0m\u001b[0;34m:\u001b[0m\u001b[0;34m,\u001b[0m \u001b[0;36m1\u001b[0m\u001b[0;34m:\u001b[0m\u001b[0;34m]\u001b[0m\u001b[0;34m\u001b[0m\u001b[0;34m\u001b[0m\u001b[0m\n\u001b[0m\u001b[1;32m     18\u001b[0m       \u001b[0martist_dense\u001b[0m \u001b[0;34m=\u001b[0m \u001b[0mpadded_tensors_to_dense_matrix\u001b[0m\u001b[0;34m(\u001b[0m\u001b[0mpadded_artist_tensor\u001b[0m\u001b[0;34m,\u001b[0m \u001b[0mARTIST_SHAPE\u001b[0m\u001b[0;34m)\u001b[0m\u001b[0;34m[\u001b[0m\u001b[0;34m:\u001b[0m\u001b[0;34m,\u001b[0m \u001b[0;36m1\u001b[0m\u001b[0;34m:\u001b[0m\u001b[0;34m]\u001b[0m\u001b[0;34m\u001b[0m\u001b[0;34m\u001b[0m\u001b[0m\n\u001b[1;32m     19\u001b[0m \u001b[0;34m\u001b[0m\u001b[0m\n",
            "\u001b[0;32m<ipython-input-12-1d9472e836c0>\u001b[0m in \u001b[0;36mpadded_tensors_to_dense_matrix\u001b[0;34m(padded_tensor, shape)\u001b[0m\n\u001b[1;32m     18\u001b[0m     \u001b[0mdense\u001b[0m \u001b[0;34m=\u001b[0m \u001b[0msparse_tensor\u001b[0m\u001b[0;34m.\u001b[0m\u001b[0mto_dense\u001b[0m\u001b[0;34m(\u001b[0m\u001b[0;34m)\u001b[0m\u001b[0;34m\u001b[0m\u001b[0;34m\u001b[0m\u001b[0m\n\u001b[1;32m     19\u001b[0m     \u001b[0mrows\u001b[0m\u001b[0;34m.\u001b[0m\u001b[0mappend\u001b[0m\u001b[0;34m(\u001b[0m\u001b[0mdense\u001b[0m\u001b[0;34m)\u001b[0m\u001b[0;34m\u001b[0m\u001b[0;34m\u001b[0m\u001b[0m\n\u001b[0;32m---> 20\u001b[0;31m   \u001b[0munpadded\u001b[0m \u001b[0;34m=\u001b[0m \u001b[0mtorch\u001b[0m\u001b[0;34m.\u001b[0m\u001b[0mstack\u001b[0m\u001b[0;34m(\u001b[0m\u001b[0mrows\u001b[0m\u001b[0;34m)\u001b[0m\u001b[0;34m\u001b[0m\u001b[0;34m\u001b[0m\u001b[0m\n\u001b[0m\u001b[1;32m     21\u001b[0m   \u001b[0;32mreturn\u001b[0m \u001b[0munpadded\u001b[0m\u001b[0;34m\u001b[0m\u001b[0;34m\u001b[0m\u001b[0m\n",
            "\u001b[0;31mKeyboardInterrupt\u001b[0m: "
          ]
        }
      ]
    },
    {
      "cell_type": "markdown",
      "source": [
        "Let's see how the loss decreases"
      ],
      "metadata": {
        "id": "JQL3P9JByR7Q"
      }
    },
    {
      "cell_type": "code",
      "execution_count": null,
      "metadata": {
        "id": "qF9gP0FMLdw2"
      },
      "outputs": [],
      "source": [
        "SAVE_MODEL_PATH = os.path.join(SAVED_DFS_PATH, f\"model_new.pickle\")\n",
        "params = [param.cpu().detach().numpy() for param in dae_model.d_params]\n",
        "with open(SAVE_MODEL_PATH, 'wb') as f:\n",
        "  pickle.dump(params, f)"
      ]
    },
    {
      "cell_type": "code",
      "execution_count": 47,
      "metadata": {
        "colab": {
          "base_uri": "https://localhost:8080/",
          "height": 472
        },
        "id": "V4JxgOCvx2TE",
        "outputId": "9b83863e-a1d2-4762-e195-d8e047b718f6"
      },
      "outputs": [
        {
          "output_type": "display_data",
          "data": {
            "text/plain": [
              "<Figure size 640x480 with 1 Axes>"
            ],
            "image/png": "[encoded data removed]"
          },
          "metadata": {}
        }
      ],
      "source": [
        "import matplotlib.pyplot as plt\n",
        "x = np.arange(len(losses))\n",
        "plt.plot(x, [loss.item() for loss in losses])\n",
        "plt.xlabel('Iteration')\n",
        "plt.ylabel('Loss')\n",
        "plt.title('Loss Progression')\n",
        "plt.show()"
      ]
    },
    {
      "cell_type": "markdown",
      "metadata": {
        "id": "Zqyho9fPl0ow"
      },
      "source": [
        "# Inference"
      ]
    },
    {
      "cell_type": "code",
      "source": [
        "from pyspark.ml.linalg import VectorUDT\n",
        "song_schema = StructType([\n",
        "    StructField(\"pos\", IntegerType(), True),\n",
        "    StructField(\"artist_name\", StringType(), True),\n",
        "    StructField(\"track_uri\", StringType(), True),\n",
        "    StructField(\"artist_uri\", StringType(), True),\n",
        "    StructField(\"track_name\", StringType(), True),\n",
        "    StructField(\"album_uri\", StringType(), True),\n",
        "    StructField(\"duration_ms\", LongType(), True),\n",
        "    StructField(\"album_name\", StringType(), True)\n",
        "])\n",
        "\n",
        "playlist_schema = StructType([\n",
        "    StructField(\"name\", StringType(), True),\n",
        "    StructField(\"collaborative\", StringType(), True),\n",
        "    StructField(\"pid\", IntegerType(), True),\n",
        "    StructField(\"modified_at\", IntegerType(), True),\n",
        "    StructField(\"num_tracks\", IntegerType(), True),\n",
        "    StructField(\"num_albums\", IntegerType(), True),\n",
        "    StructField(\"num_followers\", IntegerType(), True),\n",
        "    StructField(\"tracks\", ArrayType(song_schema), True),\n",
        "    StructField(\"num_edits\", IntegerType(), True),\n",
        "    StructField(\"duration_ms\", IntegerType(), True),\n",
        "    StructField(\"num_artists\", IntegerType(), True),\n",
        "])"
      ],
      "metadata": {
        "id": "S9RFO76gK8Qb"
      },
      "execution_count": 48,
      "outputs": []
    },
    {
      "cell_type": "code",
      "execution_count": 49,
      "metadata": {
        "id": "5lgIPJo2tbUL"
      },
      "outputs": [],
      "source": [
        "SONGS_EMBEDDINGS_PATH_TEST_TRAIN = os.path.join(SAVED_DFS_PATH, f\"nn_songs_embeddings-test-train-{NUM_PLAYLISTS}.json\")\n",
        "SONGS_EMBEDDINGS_PATH_TEST_TEST = os.path.join(SAVED_DFS_PATH, f\"nn_songs_embeddings-test-test-{NUM_PLAYLISTS}.json\")\n",
        "\n",
        "ARTISTS_EMBEDDINGS_PATH_TEST_TRAIN = os.path.join(SAVED_DFS_PATH, f\"nn_artists_embeddings-test-train-{NUM_PLAYLISTS}.json\")\n",
        "ARTISTS_EMBEDDINGS_PATH_TEST_TEST = os.path.join(SAVED_DFS_PATH, f\"nn_artists_embeddings-test-test-{NUM_PLAYLISTS}.json\")\n",
        "\n",
        "songs_embeddings_test_train = spark.read.schema(playlist_schema_mapped).json(SONGS_EMBEDDINGS_PATH_TEST_TRAIN)\n",
        "songs_embeddings_test_test = spark.read.schema(playlist_schema_mapped).json(SONGS_EMBEDDINGS_PATH_TEST_TEST)\n",
        "\n",
        "artists_embeddings_test_train = spark.read.schema(playlist_schema_mapped).json(ARTISTS_EMBEDDINGS_PATH_TEST_TRAIN)\n",
        "artists_embeddings_test_test = spark.read.schema(playlist_schema_mapped).json(ARTISTS_EMBEDDINGS_PATH_TEST_TEST)\n",
        "\n",
        "TEST_TRAIN_DF_PATH = os.path.join(SAVED_DFS_PATH, f\"nn_test_df-train-{NUM_PLAYLISTS}.json\")\n",
        "TEST_TEST_DF_PATH = os.path.join(SAVED_DFS_PATH, f\"nn_test_df-test-{NUM_PLAYLISTS}.json\")\n",
        "\n",
        "test_train_df = spark.read.schema(playlist_schema).json(TEST_TRAIN_DF_PATH)\n",
        "test_test_df = spark.read.schema(playlist_schema).json(TEST_TEST_DF_PATH)"
      ]
    },
    {
      "cell_type": "code",
      "execution_count": 50,
      "metadata": {
        "id": "wKbyd0kRl3SH"
      },
      "outputs": [],
      "source": [
        "def construct_prediction_df(prediction: torch.Tensor, mapping: DataFrame, top_n: int = 50) -> DataFrame:\n",
        "  pred_np = prediction.detach().numpy()\n",
        "  indexes = np.arange(pred_np.shape[0]) + 1 # To compensate the index start at 1\n",
        "  schema = StructType([\n",
        "      StructField(\"pos\", IntegerType()),\n",
        "      StructField(\"confidence\", FloatType())\n",
        "  ])\n",
        "  prediction_df = spark.createDataFrame([(pos, conf) for pos, conf in zip(indexes.tolist(), pred_np.tolist())],schema)\n",
        "  prediction_info = prediction_df.join(mapping, \"pos\")\n",
        "  return prediction_info\n",
        "\n",
        "# prediction_df = construct_prediction_df(prediction, songs_df_test)\n",
        "# prediction_df.show()"
      ]
    },
    {
      "cell_type": "code",
      "source": [
        "def remove_existing_tracks(playlist_tracks: DataFrame, recommendations_df: DataFrame) -> DataFrame:\n",
        "  playlist_tracks = playlist_tracks.select(\"track_uri\").cache()\n",
        "  playlist_tracks_compatible = playlist_tracks.join(F.broadcast(recommendations_df), on=\"track_uri\")\n",
        "  playlist_tracks.unpersist()\n",
        "  return recommendations_df.exceptAll(F.broadcast(playlist_tracks_compatible))"
      ],
      "metadata": {
        "id": "bQ9LquCdSbJJ"
      },
      "execution_count": 51,
      "outputs": []
    },
    {
      "cell_type": "markdown",
      "metadata": {
        "id": "Wx-tghy0bAkU"
      },
      "source": [
        "# Evaluation"
      ]
    },
    {
      "cell_type": "code",
      "execution_count": 52,
      "metadata": {
        "id": "Hb793kgebBwJ"
      },
      "outputs": [],
      "source": [
        "def precision_at_k(recommendations, ground_truth, num_of_recommendations) -> float:\n",
        "    \"\"\"\n",
        "    Calculates precision at k for the recommendations.\n",
        "    \"\"\"\n",
        "    recommended_relevant_tracks = recommendations.join(ground_truth, \"track_uri\").cache()\n",
        "    reccomended_relevant_tracks_count = recommended_relevant_tracks.count() #this can be top_n_results.join in order to be more performant\n",
        "    recommended_relevant_tracks.unpersist()\n",
        "    precision = reccomended_relevant_tracks_count / float(num_of_recommendations)\n",
        "\n",
        "    return precision\n",
        "\n",
        "\n",
        "import math\n",
        "def normalized_discounted_cumulative_gain(recommendations: DataFrame, ground_truth: DataFrame, num_of_recommendations: int) -> float:\n",
        "  recommendations_list = recommendations.collect()\n",
        "  cumulative_gain = 0\n",
        "\n",
        "  intersection = recommendations.join(ground_truth, \"track_uri\").count()\n",
        "  if intersection == 0: return 0\n",
        "\n",
        "  ideal_cumulative_gain = 1 + np.array([(1 / math.log(i, 2)) for i in range(2, 2+intersection)]).sum() #TODO: replace this with sum([])\n",
        "  for index, row in enumerate(recommendations_list):\n",
        "    i = index + 1\n",
        "    is_rel = ground_truth.filter(F.col(\"track_uri\").isin(row.track_uri)).count() > 0\n",
        "    rel = 1 if is_rel else 0\n",
        "    if i == 1:\n",
        "      cumulative_gain += rel\n",
        "    else:\n",
        "      cumulative_gain += (rel / math.log(i, 2))\n",
        "  return cumulative_gain / ideal_cumulative_gain"
      ]
    },
    {
      "cell_type": "markdown",
      "metadata": {
        "id": "VUYEe5iHbTHs"
      },
      "source": [
        "Creating the dataloaders for the test set"
      ]
    },
    {
      "cell_type": "code",
      "execution_count": 53,
      "metadata": {
        "colab": {
          "base_uri": "https://localhost:8080/"
        },
        "id": "LYXLsGIrbH2e",
        "outputId": "58ae5f2d-36da-464f-ee25-8f00c1b0639e"
      },
      "outputs": [
        {
          "output_type": "stream",
          "name": "stderr",
          "text": [
            "WARNING:petastorm.spark.spark_dataset_converter:Converting floating-point columns to float32\n"
          ]
        },
        {
          "output_type": "stream",
          "name": "stdout",
          "text": [
            "Max number of songs: 250\n"
          ]
        },
        {
          "output_type": "stream",
          "name": "stderr",
          "text": [
            "WARNING:petastorm.spark.spark_dataset_converter:The median size 1934029 B (< 50 MB) of the parquet files is too small. Total size: 3466640 B. Increase the median file size by calling df.repartition(n) or df.coalesce(n), which might help improve the performance. Parquet files: file:///big_data/cache_5/20230608164319-appid-local-1686238312666-37e37cf1-f6a9-4f15-aaf3-252b9470ff35/part-00000-ef8de120-db85-45cc-8122-b7b740db117b-c000.parquet, ...\n",
            "WARNING:petastorm.spark.spark_dataset_converter:Converting floating-point columns to float32\n"
          ]
        },
        {
          "output_type": "stream",
          "name": "stdout",
          "text": [
            "Max number of songs: 250\n"
          ]
        },
        {
          "output_type": "stream",
          "name": "stderr",
          "text": [
            "WARNING:petastorm.spark.spark_dataset_converter:The median size 1513216 B (< 50 MB) of the parquet files is too small. Total size: 3824051 B. Increase the median file size by calling df.repartition(n) or df.coalesce(n), which might help improve the performance. Parquet files: file:///big_data/cache_5/20230608164328-appid-local-1686238312666-85839b45-1319-46e9-97ba-b32a7dbde1a6/part-00000-b496a5f2-9892-4dcf-8136-e0d0ebd95679-c000.parquet, ...\n"
          ]
        }
      ],
      "source": [
        "CACHE = os.path.join(GDRIVE_DIR, \"/big_data/cache_5\")\n",
        "spark.conf.set(SparkDatasetConverter.PARENT_CACHE_DIR_URL_CONF, f'file://{CACHE}')\n",
        "\n",
        "pytorch_songs_df_test = convert_sparse_to_indices(songs_embeddings_test_train.select(\"tracks\"))\n",
        "songs_converter_test = make_spark_converter(pytorch_songs_df_test)\n",
        "\n",
        "pytorch_artists_df_test = convert_sparse_to_indices(artists_embeddings_test_train.select(\"tracks\"))\n",
        "artist_converter_test = make_spark_converter(pytorch_artists_df_test)"
      ]
    },
    {
      "cell_type": "code",
      "execution_count": 58,
      "metadata": {
        "id": "9h7NRo3Ggt3h",
        "colab": {
          "base_uri": "https://localhost:8080/"
        },
        "outputId": "03a2fbc9-cc99-4292-d125-9ecdfb33e134"
      },
      "outputs": [
        {
          "output_type": "execute_result",
          "data": {
            "text/plain": [
              "DAE()"
            ]
          },
          "metadata": {},
          "execution_count": 58
        }
      ],
      "source": [
        "#Hyperparameters used in the paper\n",
        "conf = {\n",
        "    'batch': 150,\n",
        "    'n_input': SONGS_VECTOR_LENGTH + ARTIST_VECTOR_LENGTH - 2, #-2 to compense the first row of zeros since the pos in the df starts at 1,\n",
        "    'hidden': 256,\n",
        "    'lr': 0.001, #original 0.001\n",
        "    'reg_lambda': 0.0,\n",
        "    'initval': BEST_PARAMS_PATH,\n",
        "    \"keep_prob\": 1,\n",
        "    \"input_keep_prob\": 1,\n",
        "    'save': os.path.join(SAVED_MODELS, \"dae_model.pickle\")\n",
        "}\n",
        "dae_model_test = DAE(conf)\n",
        "dae_model_test.init_weight()\n",
        "dae_model_test.eval()"
      ]
    },
    {
      "cell_type": "code",
      "execution_count": 59,
      "metadata": {
        "colab": {
          "base_uri": "https://localhost:8080/",
          "height": 49,
          "referenced_widgets": [
            "d83800b4251540fab831717af7d81c91",
            "2f95351207264b67835b4f32876187e8",
            "7ed3c221c99546938775354823d664d7",
            "ca93e88e82104205a2222985bdcd8517",
            "ddca1ea510504780becbe7bbcb39ac3c",
            "d1bec056e9804574bb1e425cf5d123ea",
            "1dcc9cd5622940d282cb14b02a0d3c15",
            "befaa939547e40a881d30aa7a31b5d2b",
            "4c6e4d3a6fbc40ca88df13ec6254832d",
            "5189b31a6d5549cdbc9c36102c6b03a0",
            "b55db6902cce468fb8ea91af5ff6a7ce"
          ]
        },
        "id": "dn2zrRCSdKQO",
        "outputId": "3ce36069-5104-449c-9191-1b8481dd91e7"
      },
      "outputs": [
        {
          "output_type": "display_data",
          "data": {
            "text/plain": [
              "Evaluation...:   0%|          | 0/666.6666666666666 [00:00<?, ?it/s]"
            ],
            "application/vnd.jupyter.widget-view+json": {
              "version_major": 2,
              "version_minor": 0,
              "model_id": "d83800b4251540fab831717af7d81c91"
            }
          },
          "metadata": {}
        }
      ],
      "source": [
        "ARTIST_SHAPE = (ARTIST_VECTOR_LENGTH, )\n",
        "SONG_SHAPE = (SONGS_VECTOR_LENGTH, )\n",
        "with songs_converter_test.make_torch_dataloader(batch_size=conf[\"batch\"], num_epochs =1) as songs_dataloader:\n",
        "  with artist_converter_test.make_torch_dataloader(batch_size=conf[\"batch\"], num_epochs=1) as artists_dataloader:\n",
        "    zipped_dataloaders = zip(songs_dataloader, artists_dataloader)\n",
        "    for batch_idx, (song, artist) in tqdm(enumerate(zipped_dataloaders), desc=f\"Evaluation...\", total= (NUM_PLAYLISTS / conf[\"batch\"])):\n",
        "      padded_song_tensor = song[\"embedding_indices\"]\n",
        "      padded_artist_tensor = artist[\"embedding_indices\"]\n",
        "      \n",
        "      song_dense = padded_tensors_to_dense_matrix(padded_song_tensor, SONG_SHAPE)[:, 1:]\n",
        "      artist_dense = padded_tensors_to_dense_matrix(padded_artist_tensor, ARTIST_SHAPE)[:, 1:]\n",
        "\n",
        "      song_dense = song_dense.to(device)\n",
        "      artist_dense = artist_dense.to(device)\n",
        "\n",
        "      x = torch.concat((song_dense, artist_dense), dim=1).t()\n",
        "      y = torch.concat((song_dense, artist_dense), dim=1).t()\n",
        "      \n",
        "      dae_model_test(x,y)\n",
        "      \n",
        "      result = dae_model_test.y_pred\n",
        "      break"
      ]
    },
    {
      "cell_type": "code",
      "source": [
        "result"
      ],
      "metadata": {
        "colab": {
          "base_uri": "https://localhost:8080/"
        },
        "id": "hRZ9w5nr5TaK",
        "outputId": "378dd110-2dfa-4035-adf9-0f0cb1ba42fc"
      },
      "execution_count": 60,
      "outputs": [
        {
          "output_type": "execute_result",
          "data": {
            "text/plain": [
              "tensor([[0.0204, 0.0013, 0.0060,  ..., 0.0006, 0.0006, 0.0006],\n",
              "        [0.0209, 0.0014, 0.0062,  ..., 0.0006, 0.0006, 0.0006],\n",
              "        [0.0204, 0.0013, 0.0060,  ..., 0.0006, 0.0006, 0.0006],\n",
              "        ...,\n",
              "        [0.0205, 0.0013, 0.0060,  ..., 0.0006, 0.0006, 0.0006],\n",
              "        [0.0203, 0.0013, 0.0059,  ..., 0.0006, 0.0006, 0.0006],\n",
              "        [0.0202, 0.0013, 0.0059,  ..., 0.0006, 0.0006, 0.0006]],\n",
              "       device='cuda:0', grad_fn=<SigmoidBackward0>)"
            ]
          },
          "metadata": {},
          "execution_count": 60
        }
      ]
    },
    {
      "cell_type": "code",
      "source": [
        "# torch.concat((song_dense[:, 1:], artist_dense[:, 1:]), dim=1).t().shape\n",
        "# (song_dense[:, 0] == 0.).all(), (artist_dense[:, 0] == 0.).all()"
      ],
      "metadata": {
        "id": "yg8V8VSSu3XI"
      },
      "execution_count": null,
      "outputs": []
    },
    {
      "cell_type": "code",
      "execution_count": null,
      "metadata": {
        "id": "kLpygSgaMVr6"
      },
      "outputs": [],
      "source": [
        "# result = result.to(\"cpu\")\n",
        "# prediction_df = construct_prediction_df(result[10][:SONGS_VECTOR_LENGTH_TEST], songs_df_test, 20)"
      ]
    },
    {
      "cell_type": "code",
      "execution_count": null,
      "metadata": {
        "id": "-uYwzqLFMjWE"
      },
      "outputs": [],
      "source": [
        "# prediction_df.orderBy(\"pos\").show(truncate=False)\n",
        "# songs_df_test.show()"
      ]
    },
    {
      "cell_type": "code",
      "execution_count": 30,
      "metadata": {
        "id": "-0wojIXkuFnN"
      },
      "outputs": [],
      "source": [
        "# def evaluate_batch(batch_result: torch.Tensor, batch_n: int) -> Tuple[float, float]:\n",
        "#   \"\"\"\n",
        "#   Returns the precision and NDCG for a given batch.\n",
        "#   \"\"\"\n",
        "  \n",
        "#   return 0,0\n",
        "\n",
        "# def perform_evaluation(songs_dataloader, artists_dataloader, test_set):\n",
        "#   \"\"\"\n",
        "#   Returns the precision and NDCG, averaged from all the samples in the test set\n",
        "#   \"\"\"\n",
        "#   with songs_converter_test.make_torch_dataloader(num_epochs =1) as songs_dataloader:\n",
        "#     with artist_converter_test.make_torch_dataloader(num_epochs=1) as artists_dataloader:\n",
        "#       zipped_dataloaders = zip(songs_dataloader, artists_dataloader)\n",
        "#       for batch_idx, (song, artist) in tqdm(enumerate(zipped_dataloaders), desc=f\"Evaluation...\", total= (NUM_PLAYLISTS / 32) * NUM_EPOCHS):\n",
        "#         padded_song_tensor = song[\"embedding_indices\"]\n",
        "#         padded_artist_tensor = artist[\"embedding_indices\"]\n",
        "        \n",
        "#         song_dense = padded_tensors_to_dense_matrix(padded_song_tensor, SONG_SHAPE)\n",
        "#         artist_dense = padded_tensors_to_dense_matrix(padded_artist_tensor, ARTIST_SHAPE)\n",
        "\n",
        "#         x = torch.concat((song_dense, artist_dense), dim=1).t()\n",
        "#         y = torch.concat((song_dense, artist_dense), dim=1).t()\n",
        "#         dae_model(x,y)\n",
        "#         batch_result = dae_model.y_pred\n",
        "#         break\n"
      ]
    },
    {
      "cell_type": "code",
      "execution_count": 61,
      "metadata": {
        "id": "W4LWsnwWeVAV",
        "colab": {
          "base_uri": "https://localhost:8080/",
          "height": 587,
          "referenced_widgets": [
            "13390977adca4c2c9c74a4bc47570414",
            "64c74281fc8d4543961b90ceb3a97b7c",
            "b4a132d03d874ed4bc783d815bf632b8",
            "cbfb3279b0ba48a5a790731d5aea0ab5",
            "8bd7d126623247b2b36fd8e09e17cb15",
            "50a7b7cce7094024b9b2e2dc574d8662",
            "0c5795f9ccbd49d6b8ba8499efc428c8",
            "1cc602f4336a405dbc7fa8d0ce15c46f",
            "f09ffc43f78a4517b9f8b6a7cdb3b593",
            "cbc8c95b48d042c49a4a209dac601d7d",
            "3422ce36cc2d4a9d9b6a4e0dc34ea658"
          ]
        },
        "outputId": "163f8455-b40c-4b70-99d7-49ad17ec792c"
      },
      "outputs": [
        {
          "output_type": "display_data",
          "data": {
            "text/plain": [
              "  0%|          | 0/32 [00:00<?, ?it/s]"
            ],
            "application/vnd.jupyter.widget-view+json": {
              "version_major": 2,
              "version_minor": 0,
              "model_id": "13390977adca4c2c9c74a4bc47570414"
            }
          },
          "metadata": {}
        },
        {
          "output_type": "stream",
          "name": "stdout",
          "text": [
            "0 0.0 0\n"
          ]
        },
        {
          "output_type": "stream",
          "name": "stderr",
          "text": [
            "ERROR:root:KeyboardInterrupt while sending command.\n",
            "Traceback (most recent call last):\n",
            "  File \"/usr/local/lib/python3.10/dist-packages/py4j/java_gateway.py\", line 1038, in send_command\n",
            "    response = connection.send_command(command)\n",
            "  File \"/usr/local/lib/python3.10/dist-packages/py4j/clientserver.py\", line 511, in send_command\n",
            "    answer = smart_decode(self.stream.readline()[:-1])\n",
            "  File \"/usr/lib/python3.10/socket.py\", line 705, in readinto\n",
            "    return self._sock.recv_into(b)\n",
            "KeyboardInterrupt\n"
          ]
        },
        {
          "output_type": "error",
          "ename": "KeyboardInterrupt",
          "evalue": "ignored",
          "traceback": [
            "\u001b[0;31m---------------------------------------------------------------------------\u001b[0m",
            "\u001b[0;31mKeyboardInterrupt\u001b[0m                         Traceback (most recent call last)",
            "\u001b[0;32m<ipython-input-61-c10850b25eef>\u001b[0m in \u001b[0;36m<cell line: 4>\u001b[0;34m()\u001b[0m\n\u001b[1;32m     13\u001b[0m   \u001b[0mclean_prediction_df\u001b[0m \u001b[0;34m=\u001b[0m \u001b[0mprediction_df\u001b[0m\u001b[0;34m.\u001b[0m\u001b[0morderBy\u001b[0m\u001b[0;34m(\u001b[0m\u001b[0mF\u001b[0m\u001b[0;34m.\u001b[0m\u001b[0mcol\u001b[0m\u001b[0;34m(\u001b[0m\u001b[0;34m\"confidence\"\u001b[0m\u001b[0;34m)\u001b[0m\u001b[0;34m.\u001b[0m\u001b[0mdesc\u001b[0m\u001b[0;34m(\u001b[0m\u001b[0;34m)\u001b[0m\u001b[0;34m)\u001b[0m\u001b[0;34m.\u001b[0m\u001b[0mlimit\u001b[0m\u001b[0;34m(\u001b[0m\u001b[0mn_recommendations\u001b[0m\u001b[0;34m)\u001b[0m\u001b[0;34m.\u001b[0m\u001b[0mcache\u001b[0m\u001b[0;34m(\u001b[0m\u001b[0;34m)\u001b[0m\u001b[0;34m\u001b[0m\u001b[0;34m\u001b[0m\u001b[0m\n\u001b[1;32m     14\u001b[0m \u001b[0;34m\u001b[0m\u001b[0m\n\u001b[0;32m---> 15\u001b[0;31m   \u001b[0mprec\u001b[0m \u001b[0;34m=\u001b[0m \u001b[0mprecision_at_k\u001b[0m\u001b[0;34m(\u001b[0m\u001b[0mclean_prediction_df\u001b[0m\u001b[0;34m,\u001b[0m \u001b[0mground_truth\u001b[0m\u001b[0;34m,\u001b[0m \u001b[0mn_recommendations\u001b[0m\u001b[0;34m)\u001b[0m\u001b[0;34m\u001b[0m\u001b[0;34m\u001b[0m\u001b[0m\n\u001b[0m\u001b[1;32m     16\u001b[0m   \u001b[0mgain\u001b[0m \u001b[0;34m=\u001b[0m \u001b[0mnormalized_discounted_cumulative_gain\u001b[0m\u001b[0;34m(\u001b[0m\u001b[0mclean_prediction_df\u001b[0m\u001b[0;34m,\u001b[0m \u001b[0mground_truth\u001b[0m\u001b[0;34m,\u001b[0m \u001b[0mn_recommendations\u001b[0m\u001b[0;34m)\u001b[0m\u001b[0;34m\u001b[0m\u001b[0;34m\u001b[0m\u001b[0m\n\u001b[1;32m     17\u001b[0m   \u001b[0mprint\u001b[0m\u001b[0;34m(\u001b[0m\u001b[0mi\u001b[0m\u001b[0;34m,\u001b[0m \u001b[0mprec\u001b[0m\u001b[0;34m,\u001b[0m \u001b[0mgain\u001b[0m\u001b[0;34m)\u001b[0m\u001b[0;34m\u001b[0m\u001b[0;34m\u001b[0m\u001b[0m\n",
            "\u001b[0;32m<ipython-input-52-6ce574314307>\u001b[0m in \u001b[0;36mprecision_at_k\u001b[0;34m(recommendations, ground_truth, num_of_recommendations)\u001b[0m\n\u001b[1;32m      4\u001b[0m     \"\"\"\n\u001b[1;32m      5\u001b[0m     \u001b[0mrecommended_relevant_tracks\u001b[0m \u001b[0;34m=\u001b[0m \u001b[0mrecommendations\u001b[0m\u001b[0;34m.\u001b[0m\u001b[0mjoin\u001b[0m\u001b[0;34m(\u001b[0m\u001b[0mground_truth\u001b[0m\u001b[0;34m,\u001b[0m \u001b[0;34m\"track_uri\"\u001b[0m\u001b[0;34m)\u001b[0m\u001b[0;34m.\u001b[0m\u001b[0mcache\u001b[0m\u001b[0;34m(\u001b[0m\u001b[0;34m)\u001b[0m\u001b[0;34m\u001b[0m\u001b[0;34m\u001b[0m\u001b[0m\n\u001b[0;32m----> 6\u001b[0;31m     \u001b[0mreccomended_relevant_tracks_count\u001b[0m \u001b[0;34m=\u001b[0m \u001b[0mrecommended_relevant_tracks\u001b[0m\u001b[0;34m.\u001b[0m\u001b[0mcount\u001b[0m\u001b[0;34m(\u001b[0m\u001b[0;34m)\u001b[0m \u001b[0;31m#this can be top_n_results.join in order to be more performant\u001b[0m\u001b[0;34m\u001b[0m\u001b[0;34m\u001b[0m\u001b[0m\n\u001b[0m\u001b[1;32m      7\u001b[0m     \u001b[0mrecommended_relevant_tracks\u001b[0m\u001b[0;34m.\u001b[0m\u001b[0munpersist\u001b[0m\u001b[0;34m(\u001b[0m\u001b[0;34m)\u001b[0m\u001b[0;34m\u001b[0m\u001b[0;34m\u001b[0m\u001b[0m\n\u001b[1;32m      8\u001b[0m     \u001b[0mprecision\u001b[0m \u001b[0;34m=\u001b[0m \u001b[0mreccomended_relevant_tracks_count\u001b[0m \u001b[0;34m/\u001b[0m \u001b[0mfloat\u001b[0m\u001b[0;34m(\u001b[0m\u001b[0mnum_of_recommendations\u001b[0m\u001b[0;34m)\u001b[0m\u001b[0;34m\u001b[0m\u001b[0;34m\u001b[0m\u001b[0m\n",
            "\u001b[0;32m/usr/local/lib/python3.10/dist-packages/pyspark/sql/dataframe.py\u001b[0m in \u001b[0;36mcount\u001b[0;34m(self)\u001b[0m\n\u001b[1;32m   1191\u001b[0m         \u001b[0;36m3\u001b[0m\u001b[0;34m\u001b[0m\u001b[0;34m\u001b[0m\u001b[0m\n\u001b[1;32m   1192\u001b[0m         \"\"\"\n\u001b[0;32m-> 1193\u001b[0;31m         \u001b[0;32mreturn\u001b[0m \u001b[0mint\u001b[0m\u001b[0;34m(\u001b[0m\u001b[0mself\u001b[0m\u001b[0;34m.\u001b[0m\u001b[0m_jdf\u001b[0m\u001b[0;34m.\u001b[0m\u001b[0mcount\u001b[0m\u001b[0;34m(\u001b[0m\u001b[0;34m)\u001b[0m\u001b[0;34m)\u001b[0m\u001b[0;34m\u001b[0m\u001b[0;34m\u001b[0m\u001b[0m\n\u001b[0m\u001b[1;32m   1194\u001b[0m \u001b[0;34m\u001b[0m\u001b[0m\n\u001b[1;32m   1195\u001b[0m     \u001b[0;32mdef\u001b[0m \u001b[0mcollect\u001b[0m\u001b[0;34m(\u001b[0m\u001b[0mself\u001b[0m\u001b[0;34m)\u001b[0m \u001b[0;34m->\u001b[0m \u001b[0mList\u001b[0m\u001b[0;34m[\u001b[0m\u001b[0mRow\u001b[0m\u001b[0;34m]\u001b[0m\u001b[0;34m:\u001b[0m\u001b[0;34m\u001b[0m\u001b[0;34m\u001b[0m\u001b[0m\n",
            "\u001b[0;32m/usr/local/lib/python3.10/dist-packages/py4j/java_gateway.py\u001b[0m in \u001b[0;36m__call__\u001b[0;34m(self, *args)\u001b[0m\n\u001b[1;32m   1319\u001b[0m             \u001b[0mproto\u001b[0m\u001b[0;34m.\u001b[0m\u001b[0mEND_COMMAND_PART\u001b[0m\u001b[0;34m\u001b[0m\u001b[0;34m\u001b[0m\u001b[0m\n\u001b[1;32m   1320\u001b[0m \u001b[0;34m\u001b[0m\u001b[0m\n\u001b[0;32m-> 1321\u001b[0;31m         \u001b[0manswer\u001b[0m \u001b[0;34m=\u001b[0m \u001b[0mself\u001b[0m\u001b[0;34m.\u001b[0m\u001b[0mgateway_client\u001b[0m\u001b[0;34m.\u001b[0m\u001b[0msend_command\u001b[0m\u001b[0;34m(\u001b[0m\u001b[0mcommand\u001b[0m\u001b[0;34m)\u001b[0m\u001b[0;34m\u001b[0m\u001b[0;34m\u001b[0m\u001b[0m\n\u001b[0m\u001b[1;32m   1322\u001b[0m         return_value = get_return_value(\n\u001b[1;32m   1323\u001b[0m             answer, self.gateway_client, self.target_id, self.name)\n",
            "\u001b[0;32m/usr/local/lib/python3.10/dist-packages/py4j/java_gateway.py\u001b[0m in \u001b[0;36msend_command\u001b[0;34m(self, command, retry, binary)\u001b[0m\n\u001b[1;32m   1036\u001b[0m         \u001b[0mconnection\u001b[0m \u001b[0;34m=\u001b[0m \u001b[0mself\u001b[0m\u001b[0;34m.\u001b[0m\u001b[0m_get_connection\u001b[0m\u001b[0;34m(\u001b[0m\u001b[0;34m)\u001b[0m\u001b[0;34m\u001b[0m\u001b[0;34m\u001b[0m\u001b[0m\n\u001b[1;32m   1037\u001b[0m         \u001b[0;32mtry\u001b[0m\u001b[0;34m:\u001b[0m\u001b[0;34m\u001b[0m\u001b[0;34m\u001b[0m\u001b[0m\n\u001b[0;32m-> 1038\u001b[0;31m             \u001b[0mresponse\u001b[0m \u001b[0;34m=\u001b[0m \u001b[0mconnection\u001b[0m\u001b[0;34m.\u001b[0m\u001b[0msend_command\u001b[0m\u001b[0;34m(\u001b[0m\u001b[0mcommand\u001b[0m\u001b[0;34m)\u001b[0m\u001b[0;34m\u001b[0m\u001b[0;34m\u001b[0m\u001b[0m\n\u001b[0m\u001b[1;32m   1039\u001b[0m             \u001b[0;32mif\u001b[0m \u001b[0mbinary\u001b[0m\u001b[0;34m:\u001b[0m\u001b[0;34m\u001b[0m\u001b[0;34m\u001b[0m\u001b[0m\n\u001b[1;32m   1040\u001b[0m                 \u001b[0;32mreturn\u001b[0m \u001b[0mresponse\u001b[0m\u001b[0;34m,\u001b[0m \u001b[0mself\u001b[0m\u001b[0;34m.\u001b[0m\u001b[0m_create_connection_guard\u001b[0m\u001b[0;34m(\u001b[0m\u001b[0mconnection\u001b[0m\u001b[0;34m)\u001b[0m\u001b[0;34m\u001b[0m\u001b[0;34m\u001b[0m\u001b[0m\n",
            "\u001b[0;32m/usr/local/lib/python3.10/dist-packages/py4j/clientserver.py\u001b[0m in \u001b[0;36msend_command\u001b[0;34m(self, command)\u001b[0m\n\u001b[1;32m    509\u001b[0m         \u001b[0;32mtry\u001b[0m\u001b[0;34m:\u001b[0m\u001b[0;34m\u001b[0m\u001b[0;34m\u001b[0m\u001b[0m\n\u001b[1;32m    510\u001b[0m             \u001b[0;32mwhile\u001b[0m \u001b[0;32mTrue\u001b[0m\u001b[0;34m:\u001b[0m\u001b[0;34m\u001b[0m\u001b[0;34m\u001b[0m\u001b[0m\n\u001b[0;32m--> 511\u001b[0;31m                 \u001b[0manswer\u001b[0m \u001b[0;34m=\u001b[0m \u001b[0msmart_decode\u001b[0m\u001b[0;34m(\u001b[0m\u001b[0mself\u001b[0m\u001b[0;34m.\u001b[0m\u001b[0mstream\u001b[0m\u001b[0;34m.\u001b[0m\u001b[0mreadline\u001b[0m\u001b[0;34m(\u001b[0m\u001b[0;34m)\u001b[0m\u001b[0;34m[\u001b[0m\u001b[0;34m:\u001b[0m\u001b[0;34m-\u001b[0m\u001b[0;36m1\u001b[0m\u001b[0;34m]\u001b[0m\u001b[0;34m)\u001b[0m\u001b[0;34m\u001b[0m\u001b[0;34m\u001b[0m\u001b[0m\n\u001b[0m\u001b[1;32m    512\u001b[0m                 \u001b[0mlogger\u001b[0m\u001b[0;34m.\u001b[0m\u001b[0mdebug\u001b[0m\u001b[0;34m(\u001b[0m\u001b[0;34m\"Answer received: {0}\"\u001b[0m\u001b[0;34m.\u001b[0m\u001b[0mformat\u001b[0m\u001b[0;34m(\u001b[0m\u001b[0manswer\u001b[0m\u001b[0;34m)\u001b[0m\u001b[0;34m)\u001b[0m\u001b[0;34m\u001b[0m\u001b[0;34m\u001b[0m\u001b[0m\n\u001b[1;32m    513\u001b[0m                 \u001b[0;31m# Happens when a the other end is dead. There might be an empty\u001b[0m\u001b[0;34m\u001b[0m\u001b[0;34m\u001b[0m\u001b[0m\n",
            "\u001b[0;32m/usr/lib/python3.10/socket.py\u001b[0m in \u001b[0;36mreadinto\u001b[0;34m(self, b)\u001b[0m\n\u001b[1;32m    703\u001b[0m         \u001b[0;32mwhile\u001b[0m \u001b[0;32mTrue\u001b[0m\u001b[0;34m:\u001b[0m\u001b[0;34m\u001b[0m\u001b[0;34m\u001b[0m\u001b[0m\n\u001b[1;32m    704\u001b[0m             \u001b[0;32mtry\u001b[0m\u001b[0;34m:\u001b[0m\u001b[0;34m\u001b[0m\u001b[0;34m\u001b[0m\u001b[0m\n\u001b[0;32m--> 705\u001b[0;31m                 \u001b[0;32mreturn\u001b[0m \u001b[0mself\u001b[0m\u001b[0;34m.\u001b[0m\u001b[0m_sock\u001b[0m\u001b[0;34m.\u001b[0m\u001b[0mrecv_into\u001b[0m\u001b[0;34m(\u001b[0m\u001b[0mb\u001b[0m\u001b[0;34m)\u001b[0m\u001b[0;34m\u001b[0m\u001b[0;34m\u001b[0m\u001b[0m\n\u001b[0m\u001b[1;32m    706\u001b[0m             \u001b[0;32mexcept\u001b[0m \u001b[0mtimeout\u001b[0m\u001b[0;34m:\u001b[0m\u001b[0;34m\u001b[0m\u001b[0;34m\u001b[0m\u001b[0m\n\u001b[1;32m    707\u001b[0m                 \u001b[0mself\u001b[0m\u001b[0;34m.\u001b[0m\u001b[0m_timeout_occurred\u001b[0m \u001b[0;34m=\u001b[0m \u001b[0;32mTrue\u001b[0m\u001b[0;34m\u001b[0m\u001b[0;34m\u001b[0m\u001b[0m\n",
            "\u001b[0;31mKeyboardInterrupt\u001b[0m: "
          ]
        }
      ],
      "source": [
        "#Testing the first playlist\n",
        "#TODO: maybe this is not the right way of making a prediction\n",
        "results = []\n",
        "for i in tqdm(range(32)):\n",
        "  ground_truth = test_test_df.filter(F.col(\"pid\") == 1000 + i).select(F.explode(\"tracks\")).select(\"col.*\").cache()\n",
        "  playlist_train_songs = test_train_df.filter(F.col(\"pid\") == 1000 + i).select(F.explode(\"tracks\")).select(\"col.*\").cache()\n",
        "  n_recommendations = ground_truth.count()\n",
        "  result = result.cpu()\n",
        "\n",
        "  prediction_df = construct_prediction_df(result[i][:SONGS_VECTOR_LENGTH], song_mapping, n_recommendations).cache()\n",
        "  clean_prediction_df = remove_existing_tracks(playlist_train_songs, prediction_df)\n",
        "\n",
        "  clean_prediction_df = prediction_df.orderBy(F.col(\"confidence\").desc()).limit(n_recommendations).cache()\n",
        "\n",
        "  prec = precision_at_k(clean_prediction_df, ground_truth, n_recommendations)\n",
        "  gain = normalized_discounted_cumulative_gain(clean_prediction_df, ground_truth, n_recommendations)\n",
        "  print(i, prec, gain)\n",
        "  results.append((prec, gain))\n",
        "  \n",
        "  ground_truth.unpersist()\n",
        "  playlist_train_songs.unpersist()\n",
        "  prediction_df.unpersist()\n",
        "  clean_prediction_df.unpersist()\n"
      ]
    },
    {
      "cell_type": "code",
      "source": [
        "playlist_train_songs.show(truncate=False)\n",
        "ground_truth.show(truncate=False)\n",
        "prediction_df.show(truncate=False)\n",
        "clean_prediction_df.show(truncate=False)\n",
        "prec, gain"
      ],
      "metadata": {
        "colab": {
          "base_uri": "https://localhost:8080/"
        },
        "id": "8XUxFpPGVLf-",
        "outputId": "ed2e95ea-de60-4a19-f569-930beaeef094"
      },
      "execution_count": 62,
      "outputs": [
        {
          "output_type": "stream",
          "name": "stdout",
          "text": [
            "+---+------------------------+------------------------------------+-------------------------------------+--------------------------------------------------------------+------------------------------------+-----------+-----------------------------------------+\n",
            "|pos|artist_name             |track_uri                           |artist_uri                           |track_name                                                    |album_uri                           |duration_ms|album_name                               |\n",
            "+---+------------------------+------------------------------------+-------------------------------------+--------------------------------------------------------------+------------------------------------+-----------+-----------------------------------------+\n",
            "|15 |The Octopus Project     |spotify:track:3RjTS80WoMLmy7QDQlVjo0|spotify:artist:7EFRvnUHNLWOYVPg8AuI7o|It Hurts to Shoot Lazers from Your Fingers, But It's Necessary|spotify:album:459fUY8KMLna0jiAXAYBNh|6000       |The House of Apples & Eyeballs           |\n",
            "|105|Boards of Canada        |spotify:track:3JZjPBwqL5F4PE55nm8iNV|spotify:artist:2VAvhf61GgLYmC6C8anyX1|1969                                                          |spotify:album:7Lou3RDk6NswmbzBMhro24|260466     |Geogaddi                                 |\n",
            "|145|Felix Laband            |spotify:track:07waa43vJVgJOjSnSmuOyE|spotify:artist:3E6Tbv49KoKnCoGqHJHQGx|Radio Right Now                                               |spotify:album:0xidl5zSn40qpO8RDej05m|474960     |Dark Days Exit                           |\n",
            "|30 |The Octopus Project     |spotify:track:5HSs48PwXeVLptLEJAxCDp|spotify:artist:7EFRvnUHNLWOYVPg8AuI7o|Royal Firecracker Teeth                                       |spotify:album:459fUY8KMLna0jiAXAYBNh|99826      |The House of Apples & Eyeballs           |\n",
            "|84 |Boards of Canada        |spotify:track:2HHAxkrJbuWZ7JWdxYbsWO|spotify:artist:2VAvhf61GgLYmC6C8anyX1|Peacock Tail                                                  |spotify:album:0wBiN0fKhy0ywx732SpgUs|324906     |The Campfire Headphase                   |\n",
            "|132|Boards of Canada        |spotify:track:5SGNNAQg2hEfOZItKVFklK|spotify:artist:2VAvhf61GgLYmC6C8anyX1|Pete Standing Alone                                           |spotify:album:1vWnB0hYmluskQuzxwo25a|367720     |Music Has The Right To Children          |\n",
            "|45 |Black Moth Super Rainbow|spotify:track:56e8Ac9LVRJf3SvVa9vVg0|spotify:artist:4UHzJP2iKVf0RhKIv7ZE2l|Forever Heavy                                                 |spotify:album:1L3Rtt9U5MMHQ9ZKaqXjzn|256013     |Dandelion Gum                            |\n",
            "|94 |Boards of Canada        |spotify:track:0nRe4ZWzbiFjJIJFEk1u3F|spotify:artist:2VAvhf61GgLYmC6C8anyX1|Tears From The Compound Eye                                   |spotify:album:0wBiN0fKhy0ywx732SpgUs|243546     |The Campfire Headphase                   |\n",
            "|135|Boards of Canada        |spotify:track:0zW6xwG3WfPv2WFAj6NUC9|spotify:artist:2VAvhf61GgLYmC6C8anyX1|One Very Important Thought                                    |spotify:album:1vWnB0hYmluskQuzxwo25a|85053      |Music Has The Right To Children          |\n",
            "|31 |Black Moth Super Rainbow|spotify:track:0qN8cB9d6esHuqjErKDrfv|spotify:artist:4UHzJP2iKVf0RhKIv7ZE2l|We Are the Pagans                                             |spotify:album:7KTQJ3OmSZ59RKLCeCHUln|132127     |Extra Flavor (Dandelion Gum-Era Sessions)|\n",
            "|29 |Black Moth Super Rainbow|spotify:track:6BskIiOgoHR7zvZ0pvYnY8|spotify:artist:4UHzJP2iKVf0RhKIv7ZE2l|The Dark Forest Joggers                                       |spotify:album:7KTQJ3OmSZ59RKLCeCHUln|92501      |Extra Flavor (Dandelion Gum-Era Sessions)|\n",
            "|85 |Boards of Canada        |spotify:track:4Y2W4zKa3q72ztbkA0r8Va|spotify:artist:2VAvhf61GgLYmC6C8anyX1|Dayvan Cowboy                                                 |spotify:album:0wBiN0fKhy0ywx732SpgUs|300186     |The Campfire Headphase                   |\n",
            "|26 |The Octopus Project     |spotify:track:5HSs48PwXeVLptLEJAxCDp|spotify:artist:7EFRvnUHNLWOYVPg8AuI7o|Royal Firecracker Teeth                                       |spotify:album:459fUY8KMLna0jiAXAYBNh|99826      |The House of Apples & Eyeballs           |\n",
            "|115|Boards of Canada        |spotify:track:5Gys2CeJwuTGlR8OsLYi29|spotify:artist:2VAvhf61GgLYmC6C8anyX1|Diving Station                                                |spotify:album:7Lou3RDk6NswmbzBMhro24|86706      |Geogaddi                                 |\n",
            "|78 |Tobacco                 |spotify:track:2ImubT5sEfocjblQ2ssF0D|spotify:artist:3ikKyCOrsMeANi0d5u8BCR|Braided Cellophane                                            |spotify:album:1oDx1Rs7Z39bu8GgknlM7V|139600     |The Allegheny White Fish Tapes           |\n",
            "|18 |The Octopus Project     |spotify:track:37i0ZCqSTN8wReTmhomxnB|spotify:artist:7EFRvnUHNLWOYVPg8AuI7o|All the Friends You Can Eat                                   |spotify:album:459fUY8KMLna0jiAXAYBNh|127120     |The House of Apples & Eyeballs           |\n",
            "|131|Boards of Canada        |spotify:track:0aPrTlWUf2nmDkC9gcP5kZ|spotify:artist:2VAvhf61GgLYmC6C8anyX1|Olson                                                         |spotify:album:1vWnB0hYmluskQuzxwo25a|91706      |Music Has The Right To Children          |\n",
            "|60 |Black Moth Super Rainbow|spotify:track:4N5TTz87DyDV75aq2seaiE|spotify:artist:4UHzJP2iKVf0RhKIv7ZE2l|Untitled Roadside Demo                                        |spotify:album:1L3Rtt9U5MMHQ9ZKaqXjzn|215040     |Dandelion Gum                            |\n",
            "|141|Felix Laband            |spotify:track:3XyXYT4BeZupA17SyXzDXr|spotify:artist:3E6Tbv49KoKnCoGqHJHQGx|Sleeping Household                                            |spotify:album:0xidl5zSn40qpO8RDej05m|371013     |Dark Days Exit                           |\n",
            "|55 |Black Moth Super Rainbow|spotify:track:0Bo0caGIgLyxVMLLF4LCI7|spotify:artist:4UHzJP2iKVf0RhKIv7ZE2l|Spinning Cotton Candy in a Shack Made of Shingles             |spotify:album:1L3Rtt9U5MMHQ9ZKaqXjzn|190920     |Dandelion Gum                            |\n",
            "+---+------------------------+------------------------------------+-------------------------------------+--------------------------------------------------------------+------------------------------------+-----------+-----------------------------------------+\n",
            "only showing top 20 rows\n",
            "\n",
            "+---+------------------------+------------------------------------+-------------------------------------+----------------------------+------------------------------------+-----------+------------------------------+\n",
            "|pos|artist_name             |track_uri                           |artist_uri                           |track_name                  |album_uri                           |duration_ms|album_name                    |\n",
            "+---+------------------------+------------------------------------+-------------------------------------+----------------------------+------------------------------------+-----------+------------------------------+\n",
            "|156|Tabla Beat Science      |spotify:track:7J12AocQ8ak7PQG6ZVgsU1|spotify:artist:4jd6GufdXsJXzwXXb0zX2T|Audiomaze                   |spotify:album:7K5JvSfWk1vQNdS9V5DNxu|469000     |Tala Matrix                   |\n",
            "|66 |Tobacco                 |spotify:track:2f6lhIMyPRh1oiMoxtq1ls|spotify:artist:3ikKyCOrsMeANi0d5u8BCR|Lipstick Destroyer          |spotify:album:2G172t9joEhgY1QNYP4nAU|108794     |Ultima II Massage             |\n",
            "|101|Boards of Canada        |spotify:track:0KrPPiJdAWrFIdn4pq3BZ2|spotify:artist:2VAvhf61GgLYmC6C8anyX1|Sunshine Recorder           |spotify:album:7Lou3RDk6NswmbzBMhro24|372706     |Geogaddi                      |\n",
            "|98 |Boards of Canada        |spotify:track:3KflFtXKKX61Ljf3TQqXln|spotify:artist:2VAvhf61GgLYmC6C8anyX1|Beware The Friendly Stranger|spotify:album:7Lou3RDk6NswmbzBMhro24|37626      |Geogaddi                      |\n",
            "|95 |Boards of Canada        |spotify:track:6IBbvwR5G7bhGfhtBqPUDZ|spotify:artist:2VAvhf61GgLYmC6C8anyX1|Farewell Fire               |spotify:album:0wBiN0fKhy0ywx732SpgUs|506266     |The Campfire Headphase        |\n",
            "|154|Tabla Beat Science      |spotify:track:7APHIpKi9GO7Xe4RotrDgY|spotify:artist:4jd6GufdXsJXzwXXb0zX2T|Secret Channel              |spotify:album:7K5JvSfWk1vQNdS9V5DNxu|454000     |Tala Matrix                   |\n",
            "|16 |The Octopus Project     |spotify:track:16J9mdZAQOjcBPSTjkfV1F|spotify:artist:7EFRvnUHNLWOYVPg8AuI7o|Lollipopsichord             |spotify:album:459fUY8KMLna0jiAXAYBNh|146813     |The House of Apples & Eyeballs|\n",
            "|161|Tabla Beat Science      |spotify:track:2x0rG0T9NMYE4di9sK3HIp|spotify:artist:4jd6GufdXsJXzwXXb0zX2T|Triangular Objects          |spotify:album:7K5JvSfWk1vQNdS9V5DNxu|478640     |Tala Matrix                   |\n",
            "|139|Felix Laband            |spotify:track:3JNgPVFDCAbYsz6lO1mxnL|spotify:artist:3E6Tbv49KoKnCoGqHJHQGx|Dirty Nightgown             |spotify:album:0xidl5zSn40qpO8RDej05m|342213     |Dark Days Exit                |\n",
            "|158|Tabla Beat Science      |spotify:track:2xGQZzzc66Lx5budDmYqB6|spotify:artist:4jd6GufdXsJXzwXXb0zX2T|Palmistry                   |spotify:album:7K5JvSfWk1vQNdS9V5DNxu|279800     |Tala Matrix                   |\n",
            "|56 |Black Moth Super Rainbow|spotify:track:0lcAGrKT4UBAikPUxq1Goa|spotify:artist:4UHzJP2iKVf0RhKIv7ZE2l|Drippy Eye                  |spotify:album:1L3Rtt9U5MMHQ9ZKaqXjzn|193106     |Dandelion Gum                 |\n",
            "+---+------------------------+------------------------------------+-------------------------------------+----------------------------+------------------------------------+-----------+------------------------------+\n",
            "\n",
            "+---+------------+-----+------------------------------------+\n",
            "|pos|confidence  |count|track_uri                           |\n",
            "+---+------------+-----+------------------------------------+\n",
            "|1  |0.020921687 |1258 |spotify:track:1mr3616BzLdhXfJmLmRsO8|\n",
            "|2  |0.0013738255|52   |spotify:track:1UvCutaaMRZd9sZJEviLwL|\n",
            "|3  |0.0061855256|329  |spotify:track:4WRRCuJYRq7gUKiupxVH9W|\n",
            "|4  |0.013797233 |783  |spotify:track:7B6m8tHAYZsOKOKMU5SR2n|\n",
            "|5  |0.00969044  |519  |spotify:track:2Gy3XMLbBxACZ4tXdFRGr7|\n",
            "|6  |7.5790944E-4|12   |spotify:track:7AOD2eMocAILOXf9u1Nph7|\n",
            "|7  |0.0018611213|82   |spotify:track:48ZUwXrEOhaXLCxvmRYhZv|\n",
            "|8  |0.003335832 |186  |spotify:track:1UmqCjLXjTwPmuTeaopDQh|\n",
            "|9  |0.001387931 |59   |spotify:track:7MO1aSfRiohpXtMVxOs7kl|\n",
            "|10 |0.0223832   |1299 |spotify:track:27PmvZoffODNFW2p7ehZTQ|\n",
            "|11 |0.022212014 |1173 |spotify:track:6ltPEsP4edATzvinHOzvk2|\n",
            "|12 |0.0012197085|49   |spotify:track:1yzyhrCfdwPgfWixsCELlH|\n",
            "|13 |0.004283729 |220  |spotify:track:5MzXUNfn8AAcz4Z6j2KgTK|\n",
            "|14 |0.007898704 |439  |spotify:track:3BUQFs6aFWh7EFNmI8bfL7|\n",
            "|15 |0.001222312 |57   |spotify:track:4CluZnxfygZoo4OwFm0xUd|\n",
            "|16 |0.006216713 |342  |spotify:track:2dN72Xy0X05DiUXwtGAgCM|\n",
            "|17 |7.3057786E-4|11   |spotify:track:341RzZ5GEEmi4k4mg5M9Av|\n",
            "|18 |9.174166E-4 |30   |spotify:track:7jaYiqwCFQDdtxfQaSzZuM|\n",
            "|19 |0.0013189047|56   |spotify:track:4eQec76xYzMWafPfJEDELl|\n",
            "|20 |0.0026218486|149  |spotify:track:6fybp4N6eW3bsFAvARxyVe|\n",
            "+---+------------+-----+------------------------------------+\n",
            "only showing top 20 rows\n",
            "\n",
            "+-----+-----------+-----+------------------------------------+\n",
            "|pos  |confidence |count|track_uri                           |\n",
            "+-----+-----------+-----+------------------------------------+\n",
            "|15634|0.07878734 |4441 |spotify:track:7KXjTSCq5nL1LoYtL7XAwS|\n",
            "|73836|0.07496634 |4073 |spotify:track:7yyRTcZmCiyzzJlNzGC9Ol|\n",
            "|20487|0.07436084 |4240 |spotify:track:1xznGGDReH1oQq0xzbwXa3|\n",
            "|18936|0.073305376|3936 |spotify:track:3a1lNhkSLSkpJE4MSHpDu9|\n",
            "|66763|0.07266769 |4145 |spotify:track:7BKLCZ1jbUBVqRi2FVlTVw|\n",
            "|86081|0.06741652 |3476 |spotify:track:2EEeOnHehOozLq4aS0n6SL|\n",
            "|73318|0.06674956 |3385 |spotify:track:4Km5HrUvYTaSUfiSGPJeQR|\n",
            "|92245|0.06522326 |3523 |spotify:track:5hTpBe8h35rJ67eAWHQsJx|\n",
            "|19724|0.06395263 |3190 |spotify:track:0SGkqnVQo9KPytSri1H6cF|\n",
            "|19725|0.06314013 |3456 |spotify:track:7GX5flRQZVHRAGd6B4TmDO|\n",
            "|24909|0.06288118 |3439 |spotify:track:152lZdxL1OR0ZMW6KquMif|\n",
            "+-----+-----------+-----+------------------------------------+\n",
            "\n"
          ]
        },
        {
          "output_type": "execute_result",
          "data": {
            "text/plain": [
              "(0.0, 0)"
            ]
          },
          "metadata": {},
          "execution_count": 62
        }
      ]
    },
    {
      "cell_type": "code",
      "source": [],
      "metadata": {
        "id": "zQiXmG7R5plf"
      },
      "execution_count": null,
      "outputs": []
    },
    {
      "cell_type": "code",
      "execution_count": null,
      "metadata": {
        "id": "iN8Fk_7Jel4-"
      },
      "outputs": [],
      "source": [
        "def average_results(results):\n",
        "  prec_avg = sum(prec for prec, _ in results) / len(results)\n",
        "  gain_avg = sum(gain for _, gain in results) / len(results)\n",
        "  return prec_avg, gain_avg\n",
        "\n",
        "average_results(results)"
      ]
    }
  ],
  "metadata": {
    "colab": {
      "collapsed_sections": [
        "XvQ6e0PgCOZg"
      ],
      "provenance": [],
      "toc_visible": true,
      "gpuType": "T4",
      "authorship_tag": "ABX9TyMXPgTnhRibdPV7s6Bv5IyA",
      "include_colab_link": true
    },
    "kernelspec": {
      "display_name": "Python 3",
      "name": "python3"
    },
    "language_info": {
      "name": "python"
    },
    "widgets": {
      "application/vnd.jupyter.widget-state+json": {
        "617d90282fc34c27a1a13a5724d84521": {
          "model_module": "@jupyter-widgets/controls",
          "model_name": "HBoxModel",
          "model_module_version": "1.5.0",
          "state": {
            "_dom_classes": [],
            "_model_module": "@jupyter-widgets/controls",
            "_model_module_version": "1.5.0",
            "_model_name": "HBoxModel",
            "_view_count": null,
            "_view_module": "@jupyter-widgets/controls",
            "_view_module_version": "1.5.0",
            "_view_name": "HBoxView",
            "box_style": "",
            "children": [
              "IPY_MODEL_a6fe1c0a2030494bacc61ae1e717e35e",
              "IPY_MODEL_e6e140a423524e9bb542622b301e7610",
              "IPY_MODEL_feb5772304864d589fcdde8e0d1e3705"
            ],
            "layout": "IPY_MODEL_2a00ab0c05334877af8d88a69409cca0"
          }
        },
        "a6fe1c0a2030494bacc61ae1e717e35e": {
          "model_module": "@jupyter-widgets/controls",
          "model_name": "HTMLModel",
          "model_module_version": "1.5.0",
          "state": {
            "_dom_classes": [],
            "_model_module": "@jupyter-widgets/controls",
            "_model_module_version": "1.5.0",
            "_model_name": "HTMLModel",
            "_view_count": null,
            "_view_module": "@jupyter-widgets/controls",
            "_view_module_version": "1.5.0",
            "_view_name": "HTMLView",
            "description": "",
            "description_tooltip": null,
            "layout": "IPY_MODEL_6ca340f43cb84f19ae3a8c01eff4be25",
            "placeholder": "​",
            "style": "IPY_MODEL_9b2631db50664099947b38d351eaca2b",
            "value": "Training model:  58%"
          }
        },
        "e6e140a423524e9bb542622b301e7610": {
          "model_module": "@jupyter-widgets/controls",
          "model_name": "FloatProgressModel",
          "model_module_version": "1.5.0",
          "state": {
            "_dom_classes": [],
            "_model_module": "@jupyter-widgets/controls",
            "_model_module_version": "1.5.0",
            "_model_name": "FloatProgressModel",
            "_view_count": null,
            "_view_module": "@jupyter-widgets/controls",
            "_view_module_version": "1.5.0",
            "_view_name": "ProgressView",
            "bar_style": "danger",
            "description": "",
            "description_tooltip": null,
            "layout": "IPY_MODEL_0e5f11830c4c4f189d51b3bae4e4f597",
            "max": 4000,
            "min": 0,
            "orientation": "horizontal",
            "style": "IPY_MODEL_3ee1fd018b4f4fd28c64b24c0e2ec521",
            "value": 2319
          }
        },
        "feb5772304864d589fcdde8e0d1e3705": {
          "model_module": "@jupyter-widgets/controls",
          "model_name": "HTMLModel",
          "model_module_version": "1.5.0",
          "state": {
            "_dom_classes": [],
            "_model_module": "@jupyter-widgets/controls",
            "_model_module_version": "1.5.0",
            "_model_name": "HTMLModel",
            "_view_count": null,
            "_view_module": "@jupyter-widgets/controls",
            "_view_module_version": "1.5.0",
            "_view_name": "HTMLView",
            "description": "",
            "description_tooltip": null,
            "layout": "IPY_MODEL_6041e64ed6d24094a4993a22932eaca9",
            "placeholder": "​",
            "style": "IPY_MODEL_e23cadde752f4110ae2dd838436f3958",
            "value": " 2319/4000.0 [17:47&lt;14:10,  1.98it/s]"
          }
        },
        "2a00ab0c05334877af8d88a69409cca0": {
          "model_module": "@jupyter-widgets/base",
          "model_name": "LayoutModel",
          "model_module_version": "1.2.0",
          "state": {
            "_model_module": "@jupyter-widgets/base",
            "_model_module_version": "1.2.0",
            "_model_name": "LayoutModel",
            "_view_count": null,
            "_view_module": "@jupyter-widgets/base",
            "_view_module_version": "1.2.0",
            "_view_name": "LayoutView",
            "align_content": null,
            "align_items": null,
            "align_self": null,
            "border": null,
            "bottom": null,
            "display": null,
            "flex": null,
            "flex_flow": null,
            "grid_area": null,
            "grid_auto_columns": null,
            "grid_auto_flow": null,
            "grid_auto_rows": null,
            "grid_column": null,
            "grid_gap": null,
            "grid_row": null,
            "grid_template_areas": null,
            "grid_template_columns": null,
            "grid_template_rows": null,
            "height": null,
            "justify_content": null,
            "justify_items": null,
            "left": null,
            "margin": null,
            "max_height": null,
            "max_width": null,
            "min_height": null,
            "min_width": null,
            "object_fit": null,
            "object_position": null,
            "order": null,
            "overflow": null,
            "overflow_x": null,
            "overflow_y": null,
            "padding": null,
            "right": null,
            "top": null,
            "visibility": null,
            "width": null
          }
        },
        "6ca340f43cb84f19ae3a8c01eff4be25": {
          "model_module": "@jupyter-widgets/base",
          "model_name": "LayoutModel",
          "model_module_version": "1.2.0",
          "state": {
            "_model_module": "@jupyter-widgets/base",
            "_model_module_version": "1.2.0",
            "_model_name": "LayoutModel",
            "_view_count": null,
            "_view_module": "@jupyter-widgets/base",
            "_view_module_version": "1.2.0",
            "_view_name": "LayoutView",
            "align_content": null,
            "align_items": null,
            "align_self": null,
            "border": null,
            "bottom": null,
            "display": null,
            "flex": null,
            "flex_flow": null,
            "grid_area": null,
            "grid_auto_columns": null,
            "grid_auto_flow": null,
            "grid_auto_rows": null,
            "grid_column": null,
            "grid_gap": null,
            "grid_row": null,
            "grid_template_areas": null,
            "grid_template_columns": null,
            "grid_template_rows": null,
            "height": null,
            "justify_content": null,
            "justify_items": null,
            "left": null,
            "margin": null,
            "max_height": null,
            "max_width": null,
            "min_height": null,
            "min_width": null,
            "object_fit": null,
            "object_position": null,
            "order": null,
            "overflow": null,
            "overflow_x": null,
            "overflow_y": null,
            "padding": null,
            "right": null,
            "top": null,
            "visibility": null,
            "width": null
          }
        },
        "9b2631db50664099947b38d351eaca2b": {
          "model_module": "@jupyter-widgets/controls",
          "model_name": "DescriptionStyleModel",
          "model_module_version": "1.5.0",
          "state": {
            "_model_module": "@jupyter-widgets/controls",
            "_model_module_version": "1.5.0",
            "_model_name": "DescriptionStyleModel",
            "_view_count": null,
            "_view_module": "@jupyter-widgets/base",
            "_view_module_version": "1.2.0",
            "_view_name": "StyleView",
            "description_width": ""
          }
        },
        "0e5f11830c4c4f189d51b3bae4e4f597": {
          "model_module": "@jupyter-widgets/base",
          "model_name": "LayoutModel",
          "model_module_version": "1.2.0",
          "state": {
            "_model_module": "@jupyter-widgets/base",
            "_model_module_version": "1.2.0",
            "_model_name": "LayoutModel",
            "_view_count": null,
            "_view_module": "@jupyter-widgets/base",
            "_view_module_version": "1.2.0",
            "_view_name": "LayoutView",
            "align_content": null,
            "align_items": null,
            "align_self": null,
            "border": null,
            "bottom": null,
            "display": null,
            "flex": null,
            "flex_flow": null,
            "grid_area": null,
            "grid_auto_columns": null,
            "grid_auto_flow": null,
            "grid_auto_rows": null,
            "grid_column": null,
            "grid_gap": null,
            "grid_row": null,
            "grid_template_areas": null,
            "grid_template_columns": null,
            "grid_template_rows": null,
            "height": null,
            "justify_content": null,
            "justify_items": null,
            "left": null,
            "margin": null,
            "max_height": null,
            "max_width": null,
            "min_height": null,
            "min_width": null,
            "object_fit": null,
            "object_position": null,
            "order": null,
            "overflow": null,
            "overflow_x": null,
            "overflow_y": null,
            "padding": null,
            "right": null,
            "top": null,
            "visibility": null,
            "width": null
          }
        },
        "3ee1fd018b4f4fd28c64b24c0e2ec521": {
          "model_module": "@jupyter-widgets/controls",
          "model_name": "ProgressStyleModel",
          "model_module_version": "1.5.0",
          "state": {
            "_model_module": "@jupyter-widgets/controls",
            "_model_module_version": "1.5.0",
            "_model_name": "ProgressStyleModel",
            "_view_count": null,
            "_view_module": "@jupyter-widgets/base",
            "_view_module_version": "1.2.0",
            "_view_name": "StyleView",
            "bar_color": null,
            "description_width": ""
          }
        },
        "6041e64ed6d24094a4993a22932eaca9": {
          "model_module": "@jupyter-widgets/base",
          "model_name": "LayoutModel",
          "model_module_version": "1.2.0",
          "state": {
            "_model_module": "@jupyter-widgets/base",
            "_model_module_version": "1.2.0",
            "_model_name": "LayoutModel",
            "_view_count": null,
            "_view_module": "@jupyter-widgets/base",
            "_view_module_version": "1.2.0",
            "_view_name": "LayoutView",
            "align_content": null,
            "align_items": null,
            "align_self": null,
            "border": null,
            "bottom": null,
            "display": null,
            "flex": null,
            "flex_flow": null,
            "grid_area": null,
            "grid_auto_columns": null,
            "grid_auto_flow": null,
            "grid_auto_rows": null,
            "grid_column": null,
            "grid_gap": null,
            "grid_row": null,
            "grid_template_areas": null,
            "grid_template_columns": null,
            "grid_template_rows": null,
            "height": null,
            "justify_content": null,
            "justify_items": null,
            "left": null,
            "margin": null,
            "max_height": null,
            "max_width": null,
            "min_height": null,
            "min_width": null,
            "object_fit": null,
            "object_position": null,
            "order": null,
            "overflow": null,
            "overflow_x": null,
            "overflow_y": null,
            "padding": null,
            "right": null,
            "top": null,
            "visibility": null,
            "width": null
          }
        },
        "e23cadde752f4110ae2dd838436f3958": {
          "model_module": "@jupyter-widgets/controls",
          "model_name": "DescriptionStyleModel",
          "model_module_version": "1.5.0",
          "state": {
            "_model_module": "@jupyter-widgets/controls",
            "_model_module_version": "1.5.0",
            "_model_name": "DescriptionStyleModel",
            "_view_count": null,
            "_view_module": "@jupyter-widgets/base",
            "_view_module_version": "1.2.0",
            "_view_name": "StyleView",
            "description_width": ""
          }
        },
        "9f1fea2afbf3454c9d3d2cd0e4edb7ad": {
          "model_module": "@jupyter-widgets/controls",
          "model_name": "HBoxModel",
          "model_module_version": "1.5.0",
          "state": {
            "_dom_classes": [],
            "_model_module": "@jupyter-widgets/controls",
            "_model_module_version": "1.5.0",
            "_model_name": "HBoxModel",
            "_view_count": null,
            "_view_module": "@jupyter-widgets/controls",
            "_view_module_version": "1.5.0",
            "_view_name": "HBoxView",
            "box_style": "",
            "children": [
              "IPY_MODEL_09c45767a4cb4ca1b228c11376d40e64",
              "IPY_MODEL_8f15ac7d422a4c8b9f36a2c78991500d",
              "IPY_MODEL_34e8c785806f419eb196daa8c59782ac"
            ],
            "layout": "IPY_MODEL_86a7a3413a34442c8d6cb09497760a60"
          }
        },
        "09c45767a4cb4ca1b228c11376d40e64": {
          "model_module": "@jupyter-widgets/controls",
          "model_name": "HTMLModel",
          "model_module_version": "1.5.0",
          "state": {
            "_dom_classes": [],
            "_model_module": "@jupyter-widgets/controls",
            "_model_module_version": "1.5.0",
            "_model_name": "HTMLModel",
            "_view_count": null,
            "_view_module": "@jupyter-widgets/controls",
            "_view_module_version": "1.5.0",
            "_view_name": "HTMLView",
            "description": "",
            "description_tooltip": null,
            "layout": "IPY_MODEL_d9b8cf743b144264ac7abf8fc5305580",
            "placeholder": "​",
            "style": "IPY_MODEL_e7fd349a04eb478ba32c323c7303befd",
            "value": "Training model:   1%"
          }
        },
        "8f15ac7d422a4c8b9f36a2c78991500d": {
          "model_module": "@jupyter-widgets/controls",
          "model_name": "FloatProgressModel",
          "model_module_version": "1.5.0",
          "state": {
            "_dom_classes": [],
            "_model_module": "@jupyter-widgets/controls",
            "_model_module_version": "1.5.0",
            "_model_name": "FloatProgressModel",
            "_view_count": null,
            "_view_module": "@jupyter-widgets/controls",
            "_view_module_version": "1.5.0",
            "_view_name": "ProgressView",
            "bar_style": "danger",
            "description": "",
            "description_tooltip": null,
            "layout": "IPY_MODEL_3228c718779d485bb25d4e48a9c66107",
            "max": 4000,
            "min": 0,
            "orientation": "horizontal",
            "style": "IPY_MODEL_0cbc2268e2bc4a438422758798b29a21",
            "value": 44
          }
        },
        "34e8c785806f419eb196daa8c59782ac": {
          "model_module": "@jupyter-widgets/controls",
          "model_name": "HTMLModel",
          "model_module_version": "1.5.0",
          "state": {
            "_dom_classes": [],
            "_model_module": "@jupyter-widgets/controls",
            "_model_module_version": "1.5.0",
            "_model_name": "HTMLModel",
            "_view_count": null,
            "_view_module": "@jupyter-widgets/controls",
            "_view_module_version": "1.5.0",
            "_view_name": "HTMLView",
            "description": "",
            "description_tooltip": null,
            "layout": "IPY_MODEL_4b7029ce13f944a48ea0e3317140c883",
            "placeholder": "​",
            "style": "IPY_MODEL_4488d3a254ad45d7a32d9c0d11a4b974",
            "value": " 44/4000.0 [00:40&lt;40:40,  1.62it/s]"
          }
        },
        "86a7a3413a34442c8d6cb09497760a60": {
          "model_module": "@jupyter-widgets/base",
          "model_name": "LayoutModel",
          "model_module_version": "1.2.0",
          "state": {
            "_model_module": "@jupyter-widgets/base",
            "_model_module_version": "1.2.0",
            "_model_name": "LayoutModel",
            "_view_count": null,
            "_view_module": "@jupyter-widgets/base",
            "_view_module_version": "1.2.0",
            "_view_name": "LayoutView",
            "align_content": null,
            "align_items": null,
            "align_self": null,
            "border": null,
            "bottom": null,
            "display": null,
            "flex": null,
            "flex_flow": null,
            "grid_area": null,
            "grid_auto_columns": null,
            "grid_auto_flow": null,
            "grid_auto_rows": null,
            "grid_column": null,
            "grid_gap": null,
            "grid_row": null,
            "grid_template_areas": null,
            "grid_template_columns": null,
            "grid_template_rows": null,
            "height": null,
            "justify_content": null,
            "justify_items": null,
            "left": null,
            "margin": null,
            "max_height": null,
            "max_width": null,
            "min_height": null,
            "min_width": null,
            "object_fit": null,
            "object_position": null,
            "order": null,
            "overflow": null,
            "overflow_x": null,
            "overflow_y": null,
            "padding": null,
            "right": null,
            "top": null,
            "visibility": null,
            "width": null
          }
        },
        "d9b8cf743b144264ac7abf8fc5305580": {
          "model_module": "@jupyter-widgets/base",
          "model_name": "LayoutModel",
          "model_module_version": "1.2.0",
          "state": {
            "_model_module": "@jupyter-widgets/base",
            "_model_module_version": "1.2.0",
            "_model_name": "LayoutModel",
            "_view_count": null,
            "_view_module": "@jupyter-widgets/base",
            "_view_module_version": "1.2.0",
            "_view_name": "LayoutView",
            "align_content": null,
            "align_items": null,
            "align_self": null,
            "border": null,
            "bottom": null,
            "display": null,
            "flex": null,
            "flex_flow": null,
            "grid_area": null,
            "grid_auto_columns": null,
            "grid_auto_flow": null,
            "grid_auto_rows": null,
            "grid_column": null,
            "grid_gap": null,
            "grid_row": null,
            "grid_template_areas": null,
            "grid_template_columns": null,
            "grid_template_rows": null,
            "height": null,
            "justify_content": null,
            "justify_items": null,
            "left": null,
            "margin": null,
            "max_height": null,
            "max_width": null,
            "min_height": null,
            "min_width": null,
            "object_fit": null,
            "object_position": null,
            "order": null,
            "overflow": null,
            "overflow_x": null,
            "overflow_y": null,
            "padding": null,
            "right": null,
            "top": null,
            "visibility": null,
            "width": null
          }
        },
        "e7fd349a04eb478ba32c323c7303befd": {
          "model_module": "@jupyter-widgets/controls",
          "model_name": "DescriptionStyleModel",
          "model_module_version": "1.5.0",
          "state": {
            "_model_module": "@jupyter-widgets/controls",
            "_model_module_version": "1.5.0",
            "_model_name": "DescriptionStyleModel",
            "_view_count": null,
            "_view_module": "@jupyter-widgets/base",
            "_view_module_version": "1.2.0",
            "_view_name": "StyleView",
            "description_width": ""
          }
        },
        "3228c718779d485bb25d4e48a9c66107": {
          "model_module": "@jupyter-widgets/base",
          "model_name": "LayoutModel",
          "model_module_version": "1.2.0",
          "state": {
            "_model_module": "@jupyter-widgets/base",
            "_model_module_version": "1.2.0",
            "_model_name": "LayoutModel",
            "_view_count": null,
            "_view_module": "@jupyter-widgets/base",
            "_view_module_version": "1.2.0",
            "_view_name": "LayoutView",
            "align_content": null,
            "align_items": null,
            "align_self": null,
            "border": null,
            "bottom": null,
            "display": null,
            "flex": null,
            "flex_flow": null,
            "grid_area": null,
            "grid_auto_columns": null,
            "grid_auto_flow": null,
            "grid_auto_rows": null,
            "grid_column": null,
            "grid_gap": null,
            "grid_row": null,
            "grid_template_areas": null,
            "grid_template_columns": null,
            "grid_template_rows": null,
            "height": null,
            "justify_content": null,
            "justify_items": null,
            "left": null,
            "margin": null,
            "max_height": null,
            "max_width": null,
            "min_height": null,
            "min_width": null,
            "object_fit": null,
            "object_position": null,
            "order": null,
            "overflow": null,
            "overflow_x": null,
            "overflow_y": null,
            "padding": null,
            "right": null,
            "top": null,
            "visibility": null,
            "width": null
          }
        },
        "0cbc2268e2bc4a438422758798b29a21": {
          "model_module": "@jupyter-widgets/controls",
          "model_name": "ProgressStyleModel",
          "model_module_version": "1.5.0",
          "state": {
            "_model_module": "@jupyter-widgets/controls",
            "_model_module_version": "1.5.0",
            "_model_name": "ProgressStyleModel",
            "_view_count": null,
            "_view_module": "@jupyter-widgets/base",
            "_view_module_version": "1.2.0",
            "_view_name": "StyleView",
            "bar_color": null,
            "description_width": ""
          }
        },
        "4b7029ce13f944a48ea0e3317140c883": {
          "model_module": "@jupyter-widgets/base",
          "model_name": "LayoutModel",
          "model_module_version": "1.2.0",
          "state": {
            "_model_module": "@jupyter-widgets/base",
            "_model_module_version": "1.2.0",
            "_model_name": "LayoutModel",
            "_view_count": null,
            "_view_module": "@jupyter-widgets/base",
            "_view_module_version": "1.2.0",
            "_view_name": "LayoutView",
            "align_content": null,
            "align_items": null,
            "align_self": null,
            "border": null,
            "bottom": null,
            "display": null,
            "flex": null,
            "flex_flow": null,
            "grid_area": null,
            "grid_auto_columns": null,
            "grid_auto_flow": null,
            "grid_auto_rows": null,
            "grid_column": null,
            "grid_gap": null,
            "grid_row": null,
            "grid_template_areas": null,
            "grid_template_columns": null,
            "grid_template_rows": null,
            "height": null,
            "justify_content": null,
            "justify_items": null,
            "left": null,
            "margin": null,
            "max_height": null,
            "max_width": null,
            "min_height": null,
            "min_width": null,
            "object_fit": null,
            "object_position": null,
            "order": null,
            "overflow": null,
            "overflow_x": null,
            "overflow_y": null,
            "padding": null,
            "right": null,
            "top": null,
            "visibility": null,
            "width": null
          }
        },
        "4488d3a254ad45d7a32d9c0d11a4b974": {
          "model_module": "@jupyter-widgets/controls",
          "model_name": "DescriptionStyleModel",
          "model_module_version": "1.5.0",
          "state": {
            "_model_module": "@jupyter-widgets/controls",
            "_model_module_version": "1.5.0",
            "_model_name": "DescriptionStyleModel",
            "_view_count": null,
            "_view_module": "@jupyter-widgets/base",
            "_view_module_version": "1.2.0",
            "_view_name": "StyleView",
            "description_width": ""
          }
        },
        "d83800b4251540fab831717af7d81c91": {
          "model_module": "@jupyter-widgets/controls",
          "model_name": "HBoxModel",
          "model_module_version": "1.5.0",
          "state": {
            "_dom_classes": [],
            "_model_module": "@jupyter-widgets/controls",
            "_model_module_version": "1.5.0",
            "_model_name": "HBoxModel",
            "_view_count": null,
            "_view_module": "@jupyter-widgets/controls",
            "_view_module_version": "1.5.0",
            "_view_name": "HBoxView",
            "box_style": "",
            "children": [
              "IPY_MODEL_2f95351207264b67835b4f32876187e8",
              "IPY_MODEL_7ed3c221c99546938775354823d664d7",
              "IPY_MODEL_ca93e88e82104205a2222985bdcd8517"
            ],
            "layout": "IPY_MODEL_ddca1ea510504780becbe7bbcb39ac3c"
          }
        },
        "2f95351207264b67835b4f32876187e8": {
          "model_module": "@jupyter-widgets/controls",
          "model_name": "HTMLModel",
          "model_module_version": "1.5.0",
          "state": {
            "_dom_classes": [],
            "_model_module": "@jupyter-widgets/controls",
            "_model_module_version": "1.5.0",
            "_model_name": "HTMLModel",
            "_view_count": null,
            "_view_module": "@jupyter-widgets/controls",
            "_view_module_version": "1.5.0",
            "_view_name": "HTMLView",
            "description": "",
            "description_tooltip": null,
            "layout": "IPY_MODEL_d1bec056e9804574bb1e425cf5d123ea",
            "placeholder": "​",
            "style": "IPY_MODEL_1dcc9cd5622940d282cb14b02a0d3c15",
            "value": "Evaluation...:   0%"
          }
        },
        "7ed3c221c99546938775354823d664d7": {
          "model_module": "@jupyter-widgets/controls",
          "model_name": "FloatProgressModel",
          "model_module_version": "1.5.0",
          "state": {
            "_dom_classes": [],
            "_model_module": "@jupyter-widgets/controls",
            "_model_module_version": "1.5.0",
            "_model_name": "FloatProgressModel",
            "_view_count": null,
            "_view_module": "@jupyter-widgets/controls",
            "_view_module_version": "1.5.0",
            "_view_name": "ProgressView",
            "bar_style": "danger",
            "description": "",
            "description_tooltip": null,
            "layout": "IPY_MODEL_befaa939547e40a881d30aa7a31b5d2b",
            "max": 666.6666666666666,
            "min": 0,
            "orientation": "horizontal",
            "style": "IPY_MODEL_4c6e4d3a6fbc40ca88df13ec6254832d",
            "value": 0
          }
        },
        "ca93e88e82104205a2222985bdcd8517": {
          "model_module": "@jupyter-widgets/controls",
          "model_name": "HTMLModel",
          "model_module_version": "1.5.0",
          "state": {
            "_dom_classes": [],
            "_model_module": "@jupyter-widgets/controls",
            "_model_module_version": "1.5.0",
            "_model_name": "HTMLModel",
            "_view_count": null,
            "_view_module": "@jupyter-widgets/controls",
            "_view_module_version": "1.5.0",
            "_view_name": "HTMLView",
            "description": "",
            "description_tooltip": null,
            "layout": "IPY_MODEL_5189b31a6d5549cdbc9c36102c6b03a0",
            "placeholder": "​",
            "style": "IPY_MODEL_b55db6902cce468fb8ea91af5ff6a7ce",
            "value": " 0/666.6666666666666 [00:00&lt;?, ?it/s]"
          }
        },
        "ddca1ea510504780becbe7bbcb39ac3c": {
          "model_module": "@jupyter-widgets/base",
          "model_name": "LayoutModel",
          "model_module_version": "1.2.0",
          "state": {
            "_model_module": "@jupyter-widgets/base",
            "_model_module_version": "1.2.0",
            "_model_name": "LayoutModel",
            "_view_count": null,
            "_view_module": "@jupyter-widgets/base",
            "_view_module_version": "1.2.0",
            "_view_name": "LayoutView",
            "align_content": null,
            "align_items": null,
            "align_self": null,
            "border": null,
            "bottom": null,
            "display": null,
            "flex": null,
            "flex_flow": null,
            "grid_area": null,
            "grid_auto_columns": null,
            "grid_auto_flow": null,
            "grid_auto_rows": null,
            "grid_column": null,
            "grid_gap": null,
            "grid_row": null,
            "grid_template_areas": null,
            "grid_template_columns": null,
            "grid_template_rows": null,
            "height": null,
            "justify_content": null,
            "justify_items": null,
            "left": null,
            "margin": null,
            "max_height": null,
            "max_width": null,
            "min_height": null,
            "min_width": null,
            "object_fit": null,
            "object_position": null,
            "order": null,
            "overflow": null,
            "overflow_x": null,
            "overflow_y": null,
            "padding": null,
            "right": null,
            "top": null,
            "visibility": null,
            "width": null
          }
        },
        "d1bec056e9804574bb1e425cf5d123ea": {
          "model_module": "@jupyter-widgets/base",
          "model_name": "LayoutModel",
          "model_module_version": "1.2.0",
          "state": {
            "_model_module": "@jupyter-widgets/base",
            "_model_module_version": "1.2.0",
            "_model_name": "LayoutModel",
            "_view_count": null,
            "_view_module": "@jupyter-widgets/base",
            "_view_module_version": "1.2.0",
            "_view_name": "LayoutView",
            "align_content": null,
            "align_items": null,
            "align_self": null,
            "border": null,
            "bottom": null,
            "display": null,
            "flex": null,
            "flex_flow": null,
            "grid_area": null,
            "grid_auto_columns": null,
            "grid_auto_flow": null,
            "grid_auto_rows": null,
            "grid_column": null,
            "grid_gap": null,
            "grid_row": null,
            "grid_template_areas": null,
            "grid_template_columns": null,
            "grid_template_rows": null,
            "height": null,
            "justify_content": null,
            "justify_items": null,
            "left": null,
            "margin": null,
            "max_height": null,
            "max_width": null,
            "min_height": null,
            "min_width": null,
            "object_fit": null,
            "object_position": null,
            "order": null,
            "overflow": null,
            "overflow_x": null,
            "overflow_y": null,
            "padding": null,
            "right": null,
            "top": null,
            "visibility": null,
            "width": null
          }
        },
        "1dcc9cd5622940d282cb14b02a0d3c15": {
          "model_module": "@jupyter-widgets/controls",
          "model_name": "DescriptionStyleModel",
          "model_module_version": "1.5.0",
          "state": {
            "_model_module": "@jupyter-widgets/controls",
            "_model_module_version": "1.5.0",
            "_model_name": "DescriptionStyleModel",
            "_view_count": null,
            "_view_module": "@jupyter-widgets/base",
            "_view_module_version": "1.2.0",
            "_view_name": "StyleView",
            "description_width": ""
          }
        },
        "befaa939547e40a881d30aa7a31b5d2b": {
          "model_module": "@jupyter-widgets/base",
          "model_name": "LayoutModel",
          "model_module_version": "1.2.0",
          "state": {
            "_model_module": "@jupyter-widgets/base",
            "_model_module_version": "1.2.0",
            "_model_name": "LayoutModel",
            "_view_count": null,
            "_view_module": "@jupyter-widgets/base",
            "_view_module_version": "1.2.0",
            "_view_name": "LayoutView",
            "align_content": null,
            "align_items": null,
            "align_self": null,
            "border": null,
            "bottom": null,
            "display": null,
            "flex": null,
            "flex_flow": null,
            "grid_area": null,
            "grid_auto_columns": null,
            "grid_auto_flow": null,
            "grid_auto_rows": null,
            "grid_column": null,
            "grid_gap": null,
            "grid_row": null,
            "grid_template_areas": null,
            "grid_template_columns": null,
            "grid_template_rows": null,
            "height": null,
            "justify_content": null,
            "justify_items": null,
            "left": null,
            "margin": null,
            "max_height": null,
            "max_width": null,
            "min_height": null,
            "min_width": null,
            "object_fit": null,
            "object_position": null,
            "order": null,
            "overflow": null,
            "overflow_x": null,
            "overflow_y": null,
            "padding": null,
            "right": null,
            "top": null,
            "visibility": null,
            "width": null
          }
        },
        "4c6e4d3a6fbc40ca88df13ec6254832d": {
          "model_module": "@jupyter-widgets/controls",
          "model_name": "ProgressStyleModel",
          "model_module_version": "1.5.0",
          "state": {
            "_model_module": "@jupyter-widgets/controls",
            "_model_module_version": "1.5.0",
            "_model_name": "ProgressStyleModel",
            "_view_count": null,
            "_view_module": "@jupyter-widgets/base",
            "_view_module_version": "1.2.0",
            "_view_name": "StyleView",
            "bar_color": null,
            "description_width": ""
          }
        },
        "5189b31a6d5549cdbc9c36102c6b03a0": {
          "model_module": "@jupyter-widgets/base",
          "model_name": "LayoutModel",
          "model_module_version": "1.2.0",
          "state": {
            "_model_module": "@jupyter-widgets/base",
            "_model_module_version": "1.2.0",
            "_model_name": "LayoutModel",
            "_view_count": null,
            "_view_module": "@jupyter-widgets/base",
            "_view_module_version": "1.2.0",
            "_view_name": "LayoutView",
            "align_content": null,
            "align_items": null,
            "align_self": null,
            "border": null,
            "bottom": null,
            "display": null,
            "flex": null,
            "flex_flow": null,
            "grid_area": null,
            "grid_auto_columns": null,
            "grid_auto_flow": null,
            "grid_auto_rows": null,
            "grid_column": null,
            "grid_gap": null,
            "grid_row": null,
            "grid_template_areas": null,
            "grid_template_columns": null,
            "grid_template_rows": null,
            "height": null,
            "justify_content": null,
            "justify_items": null,
            "left": null,
            "margin": null,
            "max_height": null,
            "max_width": null,
            "min_height": null,
            "min_width": null,
            "object_fit": null,
            "object_position": null,
            "order": null,
            "overflow": null,
            "overflow_x": null,
            "overflow_y": null,
            "padding": null,
            "right": null,
            "top": null,
            "visibility": null,
            "width": null
          }
        },
        "b55db6902cce468fb8ea91af5ff6a7ce": {
          "model_module": "@jupyter-widgets/controls",
          "model_name": "DescriptionStyleModel",
          "model_module_version": "1.5.0",
          "state": {
            "_model_module": "@jupyter-widgets/controls",
            "_model_module_version": "1.5.0",
            "_model_name": "DescriptionStyleModel",
            "_view_count": null,
            "_view_module": "@jupyter-widgets/base",
            "_view_module_version": "1.2.0",
            "_view_name": "StyleView",
            "description_width": ""
          }
        },
        "13390977adca4c2c9c74a4bc47570414": {
          "model_module": "@jupyter-widgets/controls",
          "model_name": "HBoxModel",
          "model_module_version": "1.5.0",
          "state": {
            "_dom_classes": [],
            "_model_module": "@jupyter-widgets/controls",
            "_model_module_version": "1.5.0",
            "_model_name": "HBoxModel",
            "_view_count": null,
            "_view_module": "@jupyter-widgets/controls",
            "_view_module_version": "1.5.0",
            "_view_name": "HBoxView",
            "box_style": "",
            "children": [
              "IPY_MODEL_64c74281fc8d4543961b90ceb3a97b7c",
              "IPY_MODEL_b4a132d03d874ed4bc783d815bf632b8",
              "IPY_MODEL_cbfb3279b0ba48a5a790731d5aea0ab5"
            ],
            "layout": "IPY_MODEL_8bd7d126623247b2b36fd8e09e17cb15"
          }
        },
        "64c74281fc8d4543961b90ceb3a97b7c": {
          "model_module": "@jupyter-widgets/controls",
          "model_name": "HTMLModel",
          "model_module_version": "1.5.0",
          "state": {
            "_dom_classes": [],
            "_model_module": "@jupyter-widgets/controls",
            "_model_module_version": "1.5.0",
            "_model_name": "HTMLModel",
            "_view_count": null,
            "_view_module": "@jupyter-widgets/controls",
            "_view_module_version": "1.5.0",
            "_view_name": "HTMLView",
            "description": "",
            "description_tooltip": null,
            "layout": "IPY_MODEL_50a7b7cce7094024b9b2e2dc574d8662",
            "placeholder": "​",
            "style": "IPY_MODEL_0c5795f9ccbd49d6b8ba8499efc428c8",
            "value": "  3%"
          }
        },
        "b4a132d03d874ed4bc783d815bf632b8": {
          "model_module": "@jupyter-widgets/controls",
          "model_name": "FloatProgressModel",
          "model_module_version": "1.5.0",
          "state": {
            "_dom_classes": [],
            "_model_module": "@jupyter-widgets/controls",
            "_model_module_version": "1.5.0",
            "_model_name": "FloatProgressModel",
            "_view_count": null,
            "_view_module": "@jupyter-widgets/controls",
            "_view_module_version": "1.5.0",
            "_view_name": "ProgressView",
            "bar_style": "danger",
            "description": "",
            "description_tooltip": null,
            "layout": "IPY_MODEL_1cc602f4336a405dbc7fa8d0ce15c46f",
            "max": 32,
            "min": 0,
            "orientation": "horizontal",
            "style": "IPY_MODEL_f09ffc43f78a4517b9f8b6a7cdb3b593",
            "value": 1
          }
        },
        "cbfb3279b0ba48a5a790731d5aea0ab5": {
          "model_module": "@jupyter-widgets/controls",
          "model_name": "HTMLModel",
          "model_module_version": "1.5.0",
          "state": {
            "_dom_classes": [],
            "_model_module": "@jupyter-widgets/controls",
            "_model_module_version": "1.5.0",
            "_model_name": "HTMLModel",
            "_view_count": null,
            "_view_module": "@jupyter-widgets/controls",
            "_view_module_version": "1.5.0",
            "_view_name": "HTMLView",
            "description": "",
            "description_tooltip": null,
            "layout": "IPY_MODEL_cbc8c95b48d042c49a4a209dac601d7d",
            "placeholder": "​",
            "style": "IPY_MODEL_3422ce36cc2d4a9d9b6a4e0dc34ea658",
            "value": " 1/32 [00:10&lt;04:21,  8.43s/it]"
          }
        },
        "8bd7d126623247b2b36fd8e09e17cb15": {
          "model_module": "@jupyter-widgets/base",
          "model_name": "LayoutModel",
          "model_module_version": "1.2.0",
          "state": {
            "_model_module": "@jupyter-widgets/base",
            "_model_module_version": "1.2.0",
            "_model_name": "LayoutModel",
            "_view_count": null,
            "_view_module": "@jupyter-widgets/base",
            "_view_module_version": "1.2.0",
            "_view_name": "LayoutView",
            "align_content": null,
            "align_items": null,
            "align_self": null,
            "border": null,
            "bottom": null,
            "display": null,
            "flex": null,
            "flex_flow": null,
            "grid_area": null,
            "grid_auto_columns": null,
            "grid_auto_flow": null,
            "grid_auto_rows": null,
            "grid_column": null,
            "grid_gap": null,
            "grid_row": null,
            "grid_template_areas": null,
            "grid_template_columns": null,
            "grid_template_rows": null,
            "height": null,
            "justify_content": null,
            "justify_items": null,
            "left": null,
            "margin": null,
            "max_height": null,
            "max_width": null,
            "min_height": null,
            "min_width": null,
            "object_fit": null,
            "object_position": null,
            "order": null,
            "overflow": null,
            "overflow_x": null,
            "overflow_y": null,
            "padding": null,
            "right": null,
            "top": null,
            "visibility": null,
            "width": null
          }
        },
        "50a7b7cce7094024b9b2e2dc574d8662": {
          "model_module": "@jupyter-widgets/base",
          "model_name": "LayoutModel",
          "model_module_version": "1.2.0",
          "state": {
            "_model_module": "@jupyter-widgets/base",
            "_model_module_version": "1.2.0",
            "_model_name": "LayoutModel",
            "_view_count": null,
            "_view_module": "@jupyter-widgets/base",
            "_view_module_version": "1.2.0",
            "_view_name": "LayoutView",
            "align_content": null,
            "align_items": null,
            "align_self": null,
            "border": null,
            "bottom": null,
            "display": null,
            "flex": null,
            "flex_flow": null,
            "grid_area": null,
            "grid_auto_columns": null,
            "grid_auto_flow": null,
            "grid_auto_rows": null,
            "grid_column": null,
            "grid_gap": null,
            "grid_row": null,
            "grid_template_areas": null,
            "grid_template_columns": null,
            "grid_template_rows": null,
            "height": null,
            "justify_content": null,
            "justify_items": null,
            "left": null,
            "margin": null,
            "max_height": null,
            "max_width": null,
            "min_height": null,
            "min_width": null,
            "object_fit": null,
            "object_position": null,
            "order": null,
            "overflow": null,
            "overflow_x": null,
            "overflow_y": null,
            "padding": null,
            "right": null,
            "top": null,
            "visibility": null,
            "width": null
          }
        },
        "0c5795f9ccbd49d6b8ba8499efc428c8": {
          "model_module": "@jupyter-widgets/controls",
          "model_name": "DescriptionStyleModel",
          "model_module_version": "1.5.0",
          "state": {
            "_model_module": "@jupyter-widgets/controls",
            "_model_module_version": "1.5.0",
            "_model_name": "DescriptionStyleModel",
            "_view_count": null,
            "_view_module": "@jupyter-widgets/base",
            "_view_module_version": "1.2.0",
            "_view_name": "StyleView",
            "description_width": ""
          }
        },
        "1cc602f4336a405dbc7fa8d0ce15c46f": {
          "model_module": "@jupyter-widgets/base",
          "model_name": "LayoutModel",
          "model_module_version": "1.2.0",
          "state": {
            "_model_module": "@jupyter-widgets/base",
            "_model_module_version": "1.2.0",
            "_model_name": "LayoutModel",
            "_view_count": null,
            "_view_module": "@jupyter-widgets/base",
            "_view_module_version": "1.2.0",
            "_view_name": "LayoutView",
            "align_content": null,
            "align_items": null,
            "align_self": null,
            "border": null,
            "bottom": null,
            "display": null,
            "flex": null,
            "flex_flow": null,
            "grid_area": null,
            "grid_auto_columns": null,
            "grid_auto_flow": null,
            "grid_auto_rows": null,
            "grid_column": null,
            "grid_gap": null,
            "grid_row": null,
            "grid_template_areas": null,
            "grid_template_columns": null,
            "grid_template_rows": null,
            "height": null,
            "justify_content": null,
            "justify_items": null,
            "left": null,
            "margin": null,
            "max_height": null,
            "max_width": null,
            "min_height": null,
            "min_width": null,
            "object_fit": null,
            "object_position": null,
            "order": null,
            "overflow": null,
            "overflow_x": null,
            "overflow_y": null,
            "padding": null,
            "right": null,
            "top": null,
            "visibility": null,
            "width": null
          }
        },
        "f09ffc43f78a4517b9f8b6a7cdb3b593": {
          "model_module": "@jupyter-widgets/controls",
          "model_name": "ProgressStyleModel",
          "model_module_version": "1.5.0",
          "state": {
            "_model_module": "@jupyter-widgets/controls",
            "_model_module_version": "1.5.0",
            "_model_name": "ProgressStyleModel",
            "_view_count": null,
            "_view_module": "@jupyter-widgets/base",
            "_view_module_version": "1.2.0",
            "_view_name": "StyleView",
            "bar_color": null,
            "description_width": ""
          }
        },
        "cbc8c95b48d042c49a4a209dac601d7d": {
          "model_module": "@jupyter-widgets/base",
          "model_name": "LayoutModel",
          "model_module_version": "1.2.0",
          "state": {
            "_model_module": "@jupyter-widgets/base",
            "_model_module_version": "1.2.0",
            "_model_name": "LayoutModel",
            "_view_count": null,
            "_view_module": "@jupyter-widgets/base",
            "_view_module_version": "1.2.0",
            "_view_name": "LayoutView",
            "align_content": null,
            "align_items": null,
            "align_self": null,
            "border": null,
            "bottom": null,
            "display": null,
            "flex": null,
            "flex_flow": null,
            "grid_area": null,
            "grid_auto_columns": null,
            "grid_auto_flow": null,
            "grid_auto_rows": null,
            "grid_column": null,
            "grid_gap": null,
            "grid_row": null,
            "grid_template_areas": null,
            "grid_template_columns": null,
            "grid_template_rows": null,
            "height": null,
            "justify_content": null,
            "justify_items": null,
            "left": null,
            "margin": null,
            "max_height": null,
            "max_width": null,
            "min_height": null,
            "min_width": null,
            "object_fit": null,
            "object_position": null,
            "order": null,
            "overflow": null,
            "overflow_x": null,
            "overflow_y": null,
            "padding": null,
            "right": null,
            "top": null,
            "visibility": null,
            "width": null
          }
        },
        "3422ce36cc2d4a9d9b6a4e0dc34ea658": {
          "model_module": "@jupyter-widgets/controls",
          "model_name": "DescriptionStyleModel",
          "model_module_version": "1.5.0",
          "state": {
            "_model_module": "@jupyter-widgets/controls",
            "_model_module_version": "1.5.0",
            "_model_name": "DescriptionStyleModel",
            "_view_count": null,
            "_view_module": "@jupyter-widgets/base",
            "_view_module_version": "1.2.0",
            "_view_name": "StyleView",
            "description_width": ""
          }
        }
      }
    },
    "accelerator": "GPU"
  },
  "nbformat": 4,
  "nbformat_minor": 0
}