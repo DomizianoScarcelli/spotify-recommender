{
  "cells": [
    {
      "cell_type": "markdown",
      "metadata": {
        "id": "XvQ6e0PgCOZg"
      },
      "source": [
        "### Install dependencies"
      ]
    },
    {
      "cell_type": "code",
      "execution_count": 1,
      "metadata": {
        "id": "XVvKeJoU4hq4"
      },
      "outputs": [],
      "source": [
        "import os\n",
        "def is_running_on_colab():\n",
        "    return \"COLAB_GPU\" in os.environ\n",
        "\n",
        "LOCAL = not is_running_on_colab()"
      ]
    },
    {
      "cell_type": "code",
      "execution_count": 2,
      "metadata": {
        "colab": {
          "base_uri": "https://localhost:8080/"
        },
        "id": "bjPz4xH4WFYB",
        "outputId": "5f9d7ce6-a57f-4d0b-a76b-b49bdab152c1"
      },
      "outputs": [
        {
          "output_type": "stream",
          "name": "stdout",
          "text": [
            "\u001b[?25l     \u001b[90m━━━━━━━━━━━━━━━━━━━━━━━━━━━━━━━━━━━━━━━━\u001b[0m \u001b[32m0.0/284.0 kB\u001b[0m \u001b[31m?\u001b[0m eta \u001b[36m-:--:--\u001b[0m\r\u001b[2K     \u001b[91m━━━━━━━━━━━━━━━━━━━━━━━\u001b[0m\u001b[91m╸\u001b[0m\u001b[90m━━━━━━━━━━━━━━━\u001b[0m \u001b[32m174.1/284.0 kB\u001b[0m \u001b[31m4.9 MB/s\u001b[0m eta \u001b[36m0:00:01\u001b[0m\r\u001b[2K     \u001b[90m━━━━━━━━━━━━━━━━━━━━━━━━━━━━━━━━━━━━━━━\u001b[0m \u001b[32m284.0/284.0 kB\u001b[0m \u001b[31m5.3 MB/s\u001b[0m eta \u001b[36m0:00:00\u001b[0m\n",
            "\u001b[2K     \u001b[90m━━━━━━━━━━━━━━━━━━━━━━━━━━━━━━━━━━━━━━\u001b[0m \u001b[32m110.5/110.5 kB\u001b[0m \u001b[31m10.9 MB/s\u001b[0m eta \u001b[36m0:00:00\u001b[0m\n",
            "\u001b[2K     \u001b[90m━━━━━━━━━━━━━━━━━━━━━━━━━━━━━━━━━━━━━━━━\u001b[0m \u001b[32m45.6/45.6 kB\u001b[0m \u001b[31m4.3 MB/s\u001b[0m eta \u001b[36m0:00:00\u001b[0m\n",
            "\u001b[2K     \u001b[90m━━━━━━━━━━━━━━━━━━━━━━━━━━━━━━━━━━━━━━━\u001b[0m \u001b[32m310.8/310.8 MB\u001b[0m \u001b[31m2.0 MB/s\u001b[0m eta \u001b[36m0:00:00\u001b[0m\n",
            "\u001b[?25h  Preparing metadata (setup.py) ... \u001b[?25l\u001b[?25hdone\n",
            "  Building wheel for pyspark (setup.py) ... \u001b[?25l\u001b[?25hdone\n",
            "The following additional packages will be installed:\n",
            "  libxtst6 openjdk-8-jre-headless\n",
            "Suggested packages:\n",
            "  openjdk-8-demo openjdk-8-source libnss-mdns fonts-dejavu-extra\n",
            "  fonts-ipafont-gothic fonts-ipafont-mincho fonts-wqy-microhei\n",
            "  fonts-wqy-zenhei fonts-indic\n",
            "The following NEW packages will be installed:\n",
            "  libxtst6 openjdk-8-jdk-headless openjdk-8-jre-headless\n",
            "0 upgraded, 3 newly installed, 0 to remove and 14 not upgraded.\n",
            "Need to get 36.5 MB of archives.\n",
            "After this operation, 144 MB of additional disk space will be used.\n",
            "Selecting previously unselected package libxtst6:amd64.\n",
            "(Reading database ... 123069 files and directories currently installed.)\n",
            "Preparing to unpack .../libxtst6_2%3a1.2.3-1_amd64.deb ...\n",
            "Unpacking libxtst6:amd64 (2:1.2.3-1) ...\n",
            "Selecting previously unselected package openjdk-8-jre-headless:amd64.\n",
            "Preparing to unpack .../openjdk-8-jre-headless_8u372-ga~us1-0ubuntu1~20.04_amd64.deb ...\n",
            "Unpacking openjdk-8-jre-headless:amd64 (8u372-ga~us1-0ubuntu1~20.04) ...\n",
            "Selecting previously unselected package openjdk-8-jdk-headless:amd64.\n",
            "Preparing to unpack .../openjdk-8-jdk-headless_8u372-ga~us1-0ubuntu1~20.04_amd64.deb ...\n",
            "Unpacking openjdk-8-jdk-headless:amd64 (8u372-ga~us1-0ubuntu1~20.04) ...\n",
            "Setting up libxtst6:amd64 (2:1.2.3-1) ...\n",
            "Setting up openjdk-8-jre-headless:amd64 (8u372-ga~us1-0ubuntu1~20.04) ...\n",
            "update-alternatives: using /usr/lib/jvm/java-8-openjdk-amd64/jre/bin/orbd to provide /usr/bin/orbd (orbd) in auto mode\n",
            "update-alternatives: using /usr/lib/jvm/java-8-openjdk-amd64/jre/bin/servertool to provide /usr/bin/servertool (servertool) in auto mode\n",
            "update-alternatives: using /usr/lib/jvm/java-8-openjdk-amd64/jre/bin/tnameserv to provide /usr/bin/tnameserv (tnameserv) in auto mode\n",
            "Setting up openjdk-8-jdk-headless:amd64 (8u372-ga~us1-0ubuntu1~20.04) ...\n",
            "update-alternatives: using /usr/lib/jvm/java-8-openjdk-amd64/bin/idlj to provide /usr/bin/idlj (idlj) in auto mode\n",
            "update-alternatives: using /usr/lib/jvm/java-8-openjdk-amd64/bin/wsimport to provide /usr/bin/wsimport (wsimport) in auto mode\n",
            "update-alternatives: using /usr/lib/jvm/java-8-openjdk-amd64/bin/jsadebugd to provide /usr/bin/jsadebugd (jsadebugd) in auto mode\n",
            "update-alternatives: using /usr/lib/jvm/java-8-openjdk-amd64/bin/native2ascii to provide /usr/bin/native2ascii (native2ascii) in auto mode\n",
            "update-alternatives: using /usr/lib/jvm/java-8-openjdk-amd64/bin/javah to provide /usr/bin/javah (javah) in auto mode\n",
            "update-alternatives: using /usr/lib/jvm/java-8-openjdk-amd64/bin/clhsdb to provide /usr/bin/clhsdb (clhsdb) in auto mode\n",
            "update-alternatives: using /usr/lib/jvm/java-8-openjdk-amd64/bin/jhat to provide /usr/bin/jhat (jhat) in auto mode\n",
            "update-alternatives: using /usr/lib/jvm/java-8-openjdk-amd64/bin/extcheck to provide /usr/bin/extcheck (extcheck) in auto mode\n",
            "update-alternatives: using /usr/lib/jvm/java-8-openjdk-amd64/bin/hsdb to provide /usr/bin/hsdb (hsdb) in auto mode\n",
            "update-alternatives: using /usr/lib/jvm/java-8-openjdk-amd64/bin/schemagen to provide /usr/bin/schemagen (schemagen) in auto mode\n",
            "update-alternatives: using /usr/lib/jvm/java-8-openjdk-amd64/bin/xjc to provide /usr/bin/xjc (xjc) in auto mode\n",
            "update-alternatives: using /usr/lib/jvm/java-8-openjdk-amd64/bin/wsgen to provide /usr/bin/wsgen (wsgen) in auto mode\n",
            "Processing triggers for libc-bin (2.31-0ubuntu9.9) ...\n"
          ]
        }
      ],
      "source": [
        "if not LOCAL:\n",
        "    !pip install petastorm -qq\n",
        "    !pip install pyspark -qq\n",
        "    !pip install -U -q PyDrive -qq\n",
        "    !apt install openjdk-8-jdk-headless -qq"
      ]
    },
    {
      "cell_type": "code",
      "execution_count": 3,
      "metadata": {
        "cellView": "form",
        "id": "oozTtW3om3Ab"
      },
      "outputs": [],
      "source": [
        "#@title Imports\n",
        "import requests\n",
        "import pandas as pd\n",
        "import numpy as np\n",
        "import matplotlib.pyplot as plt\n",
        "%matplotlib inline\n",
        "import plotly\n",
        "\n",
        "import pyspark\n",
        "import pyspark.sql.functions as F\n",
        "from pyspark.sql import SparkSession, DataFrame, Row\n",
        "from pyspark.sql.types import StructType, StructField, StringType, IntegerType, ArrayType, FloatType, LongType\n",
        "from pyspark import SparkContext, SparkConf\n",
        "from pyspark.ml.linalg import SparseVector, DenseVector, VectorUDT\n",
        "\n",
        "from tqdm.notebook import tqdm\n",
        "import time\n",
        "import gc\n",
        "\n",
        "if not LOCAL:\n",
        "    from google.colab import drive\n",
        "\n",
        "from typing import Tuple\n",
        "from functools import reduce\n",
        "import pickle\n",
        "import torch\n",
        "from petastorm import make_batch_reader\n",
        "from petastorm.pytorch import DataLoader"
      ]
    },
    {
      "cell_type": "code",
      "execution_count": 4,
      "metadata": {
        "id": "XG5sA53iP9z0"
      },
      "outputs": [],
      "source": [
        "#@title Set up variables\n",
        "if not LOCAL:\n",
        "    JAVA_HOME = \"/usr/lib/jvm/java-8-openjdk-amd64\"\n",
        "    GDRIVE_DIR = \"/content/drive\"\n",
        "    GDRIVE_HOME_DIR = GDRIVE_DIR + \"/MyDrive\"\n",
        "    GDRIVE_DATA_DIR = GDRIVE_HOME_DIR + \"/Big Data/datasets\"\n",
        "    DATASET_FILE = os.path.join(GDRIVE_DATA_DIR, \"pyspark_friendly_spotify_playlist_dataset\")\n",
        "    AUDIO_FEATURES_FILE = os.path.join(GDRIVE_DATA_DIR, \"pyspark_track_features\")\n",
        "    LITTLE_SLICE_FILE = os.path.join(GDRIVE_DATA_DIR, \"little_slice\")\n",
        "    SMALL_SLICE_FLIE = os.path.join(GDRIVE_DATA_DIR, \"small_slice\")\n",
        "    LITTLE_SLICE_AUDIO_FEATURES = os.path.join(GDRIVE_DATA_DIR, \"little_slice_audio_features\")\n",
        "    MICRO_SLICE_AUDIO_FEATURES = os.path.join(GDRIVE_DATA_DIR, \"micro_slice_audio_features\")\n",
        "    SPLITTED_SLICE_AUDIO_FEATURES = os.path.join(GDRIVE_DATA_DIR, \"splitted_pyspark_track_features\")\n",
        "    SAVED_DFS_PATH = os.path.join(GDRIVE_DATA_DIR, \"saved_dfs\")\n",
        "    SAVED_MODELS = os.path.join(GDRIVE_DATA_DIR, \"saved_models\")\n",
        "else:\n",
        "    GDRIVE_DATA_DIR = os.path.abspath(\"./data\")\n",
        "    GDRIVE_HOME_DIR = GDRIVE_DATA_DIR\n",
        "    SAVED_DFS_PATH = os.path.join(GDRIVE_DATA_DIR, \"saved_dfs\")\n",
        "    SAVED_MODELS = os.path.join(GDRIVE_DATA_DIR, \"saved_models\")\n",
        "    JAVA_HOME = \"/opt/homebrew/opt/openjdk\"\n",
        "RANDOM_SEED = 42 # for reproducibility\n",
        "os.environ[\"JAVA_HOME\"] = JAVA_HOME\n",
        "os.environ[\"PYSPARK_PYTHON\"]=\"python\""
      ]
    },
    {
      "cell_type": "code",
      "execution_count": 5,
      "metadata": {
        "colab": {
          "base_uri": "https://localhost:8080/"
        },
        "id": "G20Yir8g4hq6",
        "outputId": "9222a563-ef80-4691-f776-d34a6928c2b6"
      },
      "outputs": [
        {
          "output_type": "stream",
          "name": "stdout",
          "text": [
            "Mounted at /content/drive\n"
          ]
        }
      ],
      "source": [
        "if not LOCAL:\n",
        "    drive.mount(GDRIVE_DIR, force_remount=True)"
      ]
    },
    {
      "cell_type": "code",
      "execution_count": 6,
      "metadata": {
        "cellView": "form",
        "id": "4m7VztzdZgm6"
      },
      "outputs": [],
      "source": [
        "#@title Create the session\n",
        "config = SparkConf().\\\n",
        "                set('spark.ui.port', \"4050\").\\\n",
        "                set('spark.executor.memory', '12G').\\\n",
        "                set('spark.driver.memory', '12G').\\\n",
        "                set('spark.driver.maxResultSize', '100G').\\\n",
        "                set(\"spark.executor.extraJavaOptions\", \"-XX:+UseG1GC\").\\\n",
        "                setAppName(\"PySparkTutorial\").\\\n",
        "                setMaster(\"local[*]\")\n",
        "\n",
        "# Create the context\n",
        "sc = pyspark.SparkContext(conf=config)"
      ]
    },
    {
      "cell_type": "code",
      "execution_count": 7,
      "metadata": {
        "id": "SyrTHVZR4hq8"
      },
      "outputs": [],
      "source": [
        "spark = SparkSession.builder.getOrCreate()"
      ]
    },
    {
      "cell_type": "markdown",
      "metadata": {
        "id": "VJeY9PpvaHUJ"
      },
      "source": [
        "# Data acquisition"
      ]
    },
    {
      "cell_type": "code",
      "execution_count": 8,
      "metadata": {
        "id": "icd2lj-RRvhU"
      },
      "outputs": [],
      "source": [
        "playlist_schema_mapped = StructType([\n",
        "    StructField(\"name\", StringType(), True),\n",
        "    StructField(\"collaborative\", StringType(), True),\n",
        "    StructField(\"pid\", IntegerType(), True),\n",
        "    StructField(\"modified_at\", IntegerType(), True),\n",
        "    StructField(\"num_tracks\", IntegerType(), True),\n",
        "    StructField(\"num_albums\", IntegerType(), True),\n",
        "    StructField(\"num_followers\", IntegerType(), True),\n",
        "    StructField(\"tracks\", VectorUDT(), True),\n",
        "    StructField(\"num_edits\", IntegerType(), True),\n",
        "    StructField(\"duration_ms\", IntegerType(), True),\n",
        "    StructField(\"num_artists\", IntegerType(), True),\n",
        "])\n"
      ]
    },
    {
      "cell_type": "code",
      "execution_count": 9,
      "metadata": {
        "id": "JAu9mQsxTxHj"
      },
      "outputs": [],
      "source": [
        "import warnings\n",
        "warnings.filterwarnings('ignore')"
      ]
    },
    {
      "cell_type": "code",
      "execution_count": 10,
      "metadata": {
        "id": "fGgc9DHjT09S"
      },
      "outputs": [],
      "source": [
        "NUM_PLAYLISTS = 100_000"
      ]
    },
    {
      "cell_type": "code",
      "execution_count": 11,
      "metadata": {
        "id": "BIalKyiH4hq9"
      },
      "outputs": [],
      "source": [
        "# The DF used for train (80% of the original) (playlist are different)\n",
        "TRAIN_DF_PATH = os.path.join(SAVED_DFS_PATH, f\"train_df-{NUM_PLAYLISTS}.json\")\n",
        "# The DF used for testing (20% of the original) (playlist are different)\n",
        "TEST_DF_PATH = os.path.join(SAVED_DFS_PATH, f\"test_df-{NUM_PLAYLISTS}.json\")\n",
        "\n",
        "# The DF used for train in the NN model (can be filtered or not)\n",
        "NN_TRAIN_DF_PATH = os.path.join(SAVED_DFS_PATH, f\"nn_train_df-{NUM_PLAYLISTS}.json\")\n",
        "# The DF used for testing in the NN model (can be filtered or not)\n",
        "NN_TEST_DF_PATH = os.path.join(SAVED_DFS_PATH, f\"nn_test_df-{NUM_PLAYLISTS}.json\")\n",
        "# The partition in train test of the NN test set. (Same playlists, different songs)\n",
        "NN_TEST_DF_TRAIN_PATH = os.path.join(SAVED_DFS_PATH, f\"nn_test_df-train-{NUM_PLAYLISTS}.json\")\n",
        "NN_TEST_DF_TEST_PATH = os.path.join(SAVED_DFS_PATH, f\"nn_test_df-test-{NUM_PLAYLISTS}.json\")\n",
        "\n",
        "NN_EVAL_PATH = os.path.join(SAVED_DFS_PATH, f\"nn_eval_df-{NUM_PLAYLISTS}.json\")\n",
        "NN_EVAL_TRAIN_PATH = os.path.join(SAVED_DFS_PATH, f\"nn_eval_df-train-{NUM_PLAYLISTS}.json\")\n",
        "NN_EVAL_TEST_PATH = os.path.join(SAVED_DFS_PATH, f\"nn_eval_df-test-{NUM_PLAYLISTS}.json\")\n",
        "# New one:\n",
        "ARTISTS_EMBEDDINGS_TRAIN = os.path.join(SAVED_DFS_PATH, f\"nn_artists_embeddings-train-{NUM_PLAYLISTS}.json\")\n",
        "ARTISTS_EMBEDDINGS_TEST_TRAIN = os.path.join(SAVED_DFS_PATH, f\"nn_artists_embeddings-test-train-{NUM_PLAYLISTS}.json\")\n",
        "ARTISTS_EMBEDDINGS_TEST_TEST = os.path.join(SAVED_DFS_PATH, f\"nn_artists_embeddings-test-test{NUM_PLAYLISTS}.json\")\n",
        "\n",
        "ARTISTS_EMBEDDINGS_EVAL = os.path.join(SAVED_DFS_PATH, f\"nn_artists_embeddings-eval-{NUM_PLAYLISTS}.json\")\n",
        "ARTISTS_EMBEDDINGS_EVAL_TRAIN = os.path.join(SAVED_DFS_PATH, f\"nn_artists_embeddings-eval-train-{NUM_PLAYLISTS}.json\")\n",
        "ARTISTS_EMBEDDINGS_EVAL_TEST = os.path.join(SAVED_DFS_PATH, f\"nn_artists_embeddings-eval-test{NUM_PLAYLISTS}.json\")\n",
        "\n",
        "# The length of the artist vector length (Artist vectors are only used in the NN model)\n",
        "ARTIST_VECTOR_LENGTH_PATH = os.path.join(SAVED_DFS_PATH, f\"nn_artist_vector_length-{NUM_PLAYLISTS}.txt\")\n",
        "\n",
        "SONGS_VECTOR_LENGTH_PATH = os.path.join(SAVED_DFS_PATH, f\"songs_vector_length-{NUM_PLAYLISTS}.txt\")\n",
        "# This may be filtered or not\n",
        "FILTERED_SONGS_VECTOR_LENGTH_PATH = os.path.join(SAVED_DFS_PATH, f\"nn_songs_vector_length-{NUM_PLAYLISTS}.txt\")\n",
        "\n",
        "SONGS_EMBEDDINGS_TRAIN = os.path.join(SAVED_DFS_PATH, f\"songs_embeddings-train-{NUM_PLAYLISTS}.json\")\n",
        "SONGS_EMBEDDINGS_TEST = os.path.join(SAVED_DFS_PATH, f\"songs_embeddings-test-{NUM_PLAYLISTS}.json\")\n",
        "\n",
        "NN_SONGS_EMBEDDINGS_TRAIN = os.path.join(SAVED_DFS_PATH, f\"nn_songs_embeddings-train-{NUM_PLAYLISTS}.json\")\n",
        "NN_SONGS_EMBEDDINGS_TEST_TRAIN = os.path.join(SAVED_DFS_PATH, f\"nn_songs_embeddings-test-train-{NUM_PLAYLISTS}.json\")\n",
        "NN_SONGS_EMBEDDINGS_TEST_TEST = os.path.join(SAVED_DFS_PATH, f\"nn_songs_embeddings-test-test-{NUM_PLAYLISTS}.json\")\n",
        "\n",
        "NN_SONGS_EMBEDDINGS_EVAL = os.path.join(SAVED_DFS_PATH, f\"nn_songs_embeddings-eval-{NUM_PLAYLISTS}.json\") #TODO: The logic to produce this still has to be coded.\n",
        "NN_SONGS_EMBEDDINGS_EVAL_TRAIN = os.path.join(SAVED_DFS_PATH, f\"nn_songs_embeddings-eval-train-{NUM_PLAYLISTS}.json\")\n",
        "NN_SONGS_EMBEDDINGS_EVAL_TEST = os.path.join(SAVED_DFS_PATH, f\"nn_songs_embeddings-eval-test-{NUM_PLAYLISTS}.json\")\n",
        "\n",
        "SONGS_INFO_DF = os.path.join(SAVED_DFS_PATH, f\"songs_info_df-{NUM_PLAYLISTS}.json\")\n",
        "FILTERED_SONGS_INFO_DF = os.path.join(SAVED_DFS_PATH, f\"nn_songs_info_df-{NUM_PLAYLISTS}.json\")"
      ]
    },
    {
      "cell_type": "code",
      "execution_count": 12,
      "metadata": {
        "id": "lo8gbiN1U1XJ"
      },
      "outputs": [],
      "source": [
        "songs_embeddings = spark.read.schema(playlist_schema_mapped).json(NN_SONGS_EMBEDDINGS_TRAIN)\n",
        "artists_embeddings = spark.read.schema(playlist_schema_mapped).json(ARTISTS_EMBEDDINGS_TRAIN)\n",
        "song_mapping = spark.read.json(FILTERED_SONGS_INFO_DF)\n",
        "\n",
        "songs_embeddings_eval_train = spark.read.schema(playlist_schema_mapped).json(NN_SONGS_EMBEDDINGS_EVAL_TRAIN)\n",
        "songs_embeddings_eval_test = spark.read.schema(playlist_schema_mapped).json(NN_SONGS_EMBEDDINGS_EVAL_TEST)\n",
        "\n",
        "artists_embeddings_eval_train = spark.read.schema(playlist_schema_mapped).json(ARTISTS_EMBEDDINGS_EVAL_TRAIN)\n",
        "artists_embeddings_eval_test = spark.read.schema(playlist_schema_mapped).json(ARTISTS_EMBEDDINGS_EVAL_TEST)\n",
        "\n",
        "with open(ARTIST_VECTOR_LENGTH_PATH, \"r\") as f:\n",
        "  content = f.read()\n",
        "  ARTIST_VECTOR_LENGTH = int(content)\n",
        "with open(SONGS_VECTOR_LENGTH_PATH, \"r\") as f:\n",
        "  content = f.read()\n",
        "  SONGS_VECTOR_LENGTH = int(content)"
      ]
    },
    {
      "cell_type": "code",
      "execution_count": 13,
      "metadata": {
        "colab": {
          "base_uri": "https://localhost:8080/"
        },
        "id": "BY_szFyLTps4",
        "outputId": "53bb6f6a-bea4-4f1f-d043-ba77346cfd87"
      },
      "outputs": [
        {
          "output_type": "stream",
          "name": "stdout",
          "text": [
            "+-------------------+-------------+-----+-----------+----------+----------+-------------+--------------------+---------+-----------+-----------+\n",
            "|               name|collaborative|  pid|modified_at|num_tracks|num_albums|num_followers|              tracks|num_edits|duration_ms|num_artists|\n",
            "+-------------------+-------------+-----+-----------+----------+----------+-------------+--------------------+---------+-----------+-----------+\n",
            "|              Alone|        false|20080| 1496880000|        50|        48|            1|(681805,[4874,542...|       19|   11128916|         42|\n",
            "|       Country Hits|        false|14258| 1504828800|       130|        77|            1|(681805,[3,1666,1...|       61|   28245005|         44|\n",
            "|              Peter|        false|14812| 1446595200|        65|        56|            1|(681805,[213,540,...|       15|   14212644|         47|\n",
            "|          Rock.....|        false| 1938| 1500163200|        57|        39|            1|(681805,[2908,350...|        5|   16766883|         19|\n",
            "|               punk|        false| 1180| 1504483200|        67|        45|            1|(681805,[61,3298,...|       21|   15393647|         26|\n",
            "|#CODGhosts Playlist|        false|14362| 1382918400|        50|        50|            1|(681805,[1565,301...|        2|   13601217|         50|\n",
            "|             #Dance|        false|14103| 1463961600|        33|        28|            1|(681805,[389,7336...|       12|    6901015|         24|\n",
            "|      #boostyourrun|        false|14325| 1425686400|        21|        21|            1|(681805,[497,1341...|        2|    5002212|         20|\n",
            "|      #boostyourrun|        false|20976| 1399075200|        21|        21|            1|(681805,[4481,918...|        2|    5400100|         19|\n",
            "|      #boostyourrun|        false|78200| 1402704000|        22|        22|            1|(681805,[39754,10...|        2|    5825915|         21|\n",
            "|           #college|        false|78334| 1490400000|        21|        19|            2|(681805,[10948,16...|        4|    5068086|         18|\n",
            "|               #tbt|        false| 1168| 1436832000|        29|        22|            1|(681805,[3585,463...|        2|    6829177|         15|\n",
            "|             $andy$|        false|78110| 1457395200|       117|        63|            1|(681805,[1678,325...|       14|   28982414|         40|\n",
            "|                '17|        false|20507| 1505433600|        38|        31|            2|(681805,[1122,489...|       31|    8051141|         30|\n",
            "|                '17|        false|78571| 1509235200|        34|        29|            1|(681805,[11315,15...|       16|    7500239|         26|\n",
            "|            'Merica|        false|78912| 1499126400|       241|       237|            1|(681805,[13,608,7...|        6|   57441819|        217|\n",
            "|           'merica |        false|78916| 1499990400|        67|        45|            1|(681805,[1666,206...|       21|   14868475|         35|\n",
            "|   **That New New**|        false|14379| 1432771200|        63|        52|            1|(681805,[270,2071...|       21|   14353567|         47|\n",
            "|           *HANNAH*|        false|20194| 1506211200|        84|        22|            1|(681805,[24791,69...|        5|   11964693|          6|\n",
            "|             *sigh*|        false|14217| 1509321600|       154|       101|            4|(681805,[114,632,...|       25|   38055908|         64|\n",
            "+-------------------+-------------+-----+-----------+----------+----------+-------------+--------------------+---------+-----------+-----------+\n",
            "only showing top 20 rows\n",
            "\n",
            "+-------------------+-------------+-----+-----------+----------+----------+-------------+--------------------+---------+-----------+-----------+\n",
            "|               name|collaborative|  pid|modified_at|num_tracks|num_albums|num_followers|              tracks|num_edits|duration_ms|num_artists|\n",
            "+-------------------+-------------+-----+-----------+----------+----------+-------------+--------------------+---------+-----------+-----------+\n",
            "|              Alone|        false|20080| 1496880000|        50|        48|            1|(110063,[392,588,...|       19|   11128916|         42|\n",
            "|       Country Hits|        false|14258| 1504828800|       130|        77|            1|(110063,[1,849,10...|       61|   28245005|         44|\n",
            "|              Peter|        false|14812| 1446595200|        65|        56|            1|(110063,[3,193,19...|       15|   14212644|         47|\n",
            "|          Rock.....|        false| 1938| 1500163200|        57|        39|            1|(110063,[1262,136...|        5|   16766883|         19|\n",
            "|               punk|        false| 1180| 1504483200|        67|        45|            1|(110063,[198,312,...|       21|   15393647|         26|\n",
            "|#CODGhosts Playlist|        false|14362| 1382918400|        50|        50|            1|(110063,[1070,140...|        2|   13601217|         50|\n",
            "|             #Dance|        false|14103| 1463961600|        33|        28|            1|(110063,[105,107,...|       12|    6901015|         24|\n",
            "|      #boostyourrun|        false|14325| 1425686400|        21|        21|            1|(110063,[2425,768...|        2|    5002212|         20|\n",
            "|      #boostyourrun|        false|20976| 1399075200|        21|        21|            1|(110063,[1040,197...|        2|    5400100|         19|\n",
            "|      #boostyourrun|        false|78200| 1402704000|        22|        22|            1|(110063,[3356,721...|        2|    5825915|         21|\n",
            "|           #college|        false|78334| 1490400000|        21|        19|            2|(110063,[192,1469...|        4|    5068086|         18|\n",
            "|               #tbt|        false| 1168| 1436832000|        29|        22|            1|(110063,[1967,213...|        2|    6829177|         15|\n",
            "|             $andy$|        false|78110| 1457395200|       117|        63|            1|(110063,[100,970,...|       14|   28982414|         40|\n",
            "|                '17|        false|20507| 1505433600|        38|        31|            2|(110063,[484,857,...|       31|    8051141|         30|\n",
            "|                '17|        false|78571| 1509235200|        34|        29|            1|(110063,[101,2233...|       16|    7500239|         26|\n",
            "|            'Merica|        false|78912| 1499126400|       241|       237|            1|(110063,[10,193,4...|        6|   57441819|        217|\n",
            "|           'merica |        false|78916| 1499990400|        67|        45|            1|(110063,[45,849,8...|       21|   14868475|         35|\n",
            "|   **That New New**|        false|14379| 1432771200|        63|        52|            1|(110063,[14,100,1...|       21|   14353567|         47|\n",
            "|           *HANNAH*|        false|20194| 1506211200|        84|        22|            1|(110063,[34404,41...|        5|   11964693|          6|\n",
            "|             *sigh*|        false|14217| 1509321600|       154|       101|            4|(110063,[793,1070...|       25|   38055908|         64|\n",
            "+-------------------+-------------+-----+-----------+----------+----------+-------------+--------------------+---------+-----------+-----------+\n",
            "only showing top 20 rows\n",
            "\n"
          ]
        },
        {
          "output_type": "execute_result",
          "data": {
            "text/plain": [
              "(None, None, 110063, 681805)"
            ]
          },
          "metadata": {},
          "execution_count": 13
        }
      ],
      "source": [
        "songs_embeddings.show(), artists_embeddings.show(), ARTIST_VECTOR_LENGTH, SONGS_VECTOR_LENGTH"
      ]
    },
    {
      "cell_type": "markdown",
      "metadata": {
        "id": "lPOD60GQQGse"
      },
      "source": [
        "# Convert PySpark DataFrame into PyTorch DataLoader"
      ]
    },
    {
      "cell_type": "code",
      "execution_count": 14,
      "metadata": {
        "id": "QCKbUCcaEpQS"
      },
      "outputs": [],
      "source": [
        "def convert_sparse_to_indices(df: DataFrame, column_name: str) -> DataFrame:\n",
        "  \"\"\"\n",
        "  Given a dataframe fo columns \"pos\":int and \"tracks\":SparseVector, it returns a new dataframe where\n",
        "  the SparseVector are replaced with a list of the indices where the values are.\n",
        "  (The value information is lost, but we don't care since they are binary values so they will be all ones)\n",
        "  \"\"\"\n",
        "\n",
        "  @F.udf(returnType=ArrayType(IntegerType()))\n",
        "  def transform_array(item: SparseVector):\n",
        "    \"\"\"\n",
        "    Given a SparseVector (binary) it returns the tuple that represent it, of the type (size, indices)\n",
        "    \"\"\"\n",
        "    indices_list = item.indices.tolist()\n",
        "    padding_width = max_songs - len(indices_list)\n",
        "    return indices_list + [-1] * padding_width\n",
        "\n",
        "  max_songs = songs_embeddings.select(F.max(\"num_tracks\")).first()[0]\n",
        "  print(f\"Max number of songs: {max_songs}\")\n",
        "  df = df.withColumn(f\"{column_name}_indices\", transform_array(F.col(column_name))).drop(column_name)\n",
        "  return df"
      ]
    },
    {
      "cell_type": "code",
      "execution_count": 15,
      "metadata": {
        "id": "eIIqDVeN7cU0"
      },
      "outputs": [],
      "source": [
        "def padded_tensors_to_sparse_matrix(padded_tensor: torch.Tensor, shape: tuple) -> torch.Tensor:\n",
        "  batch_size, max_songs = padded_tensor.size(0), padded_tensor.size(1)\n",
        "  rows = []\n",
        "  for row_idx in range(batch_size):\n",
        "    row = padded_tensor[row_idx]\n",
        "    indices = row[row != -1]\n",
        "    sparse_tensor = torch.sparse_coo_tensor(indices.unsqueeze(0), torch.ones(indices.shape), shape)\n",
        "    rows.append(sparse_tensor)\n",
        "  return torch.stack(rows)\n",
        "\n",
        "def padded_tensors_to_dense_matrix(padded_tensor: torch.Tensor, shape: tuple) -> torch.Tensor:\n",
        "  batch_size, max_songs = padded_tensor.size(0), padded_tensor.size(1)\n",
        "  rows = []\n",
        "  for row_idx in range(batch_size):\n",
        "    row = padded_tensor[row_idx]\n",
        "    indices = row[row != -1]\n",
        "    sparse_tensor = torch.sparse_coo_tensor(indices.unsqueeze(0), torch.ones(indices.shape), shape)\n",
        "    dense = sparse_tensor.to_dense()\n",
        "    rows.append(dense)\n",
        "  unpadded = torch.stack(rows)\n",
        "  return unpadded\n",
        "\n",
        "def padded_tensors_to_dense_matrix_fast(padded_tensor: torch.Tensor, shape: tuple) -> torch.Tensor:\n",
        "    batch_size, max_songs = padded_tensor.size(0), padded_tensor.size(1)\n",
        "\n",
        "    row_indices = torch.arange(batch_size).unsqueeze(1).repeat(1, max_songs)\n",
        "    valid_mask = padded_tensor != -1\n",
        "\n",
        "    indices = torch.stack([row_indices[valid_mask], padded_tensor[valid_mask]], dim=0)\n",
        "    values = torch.ones(indices.shape[1])\n",
        "\n",
        "    size = (batch_size, shape[0])\n",
        "\n",
        "    sparse_tensor = torch.sparse_coo_tensor(indices, values, size)\n",
        "    dense = sparse_tensor.to_dense()\n",
        "\n",
        "    return dense"
      ]
    },
    {
      "cell_type": "markdown",
      "metadata": {
        "id": "UNak5bEo4cmV"
      },
      "source": [
        "In the paper they have two matrices,l et $n$ be the number of unique songs, $m$ the number of playlists and $k$ the number of unique artists:\n",
        "\n",
        "- $P \\in \\mathbb{R}^{m \\times n}$ where $p_i = 1$ if song $i$ is in the playlist, $p_i=0$ otherwise\n",
        "- $A \\in \\mathbb{R}^{m \\times k}$ where $a_i=1$ if the artist is present in the playlist, $a_i = 0$ otherwise"
      ]
    },
    {
      "cell_type": "code",
      "execution_count": 16,
      "metadata": {
        "colab": {
          "base_uri": "https://localhost:8080/"
        },
        "id": "y_pKgJx26s73",
        "outputId": "4e41cc69-c37d-4131-d0d0-ec0001f8d868"
      },
      "outputs": [
        {
          "output_type": "stream",
          "name": "stdout",
          "text": [
            "Max number of songs: 250\n"
          ]
        },
        {
          "output_type": "stream",
          "name": "stderr",
          "text": [
            "WARNING:petastorm.spark.spark_dataset_converter:Converting floating-point columns to float32\n"
          ]
        },
        {
          "output_type": "stream",
          "name": "stdout",
          "text": [
            "Max number of songs: 250\n"
          ]
        },
        {
          "output_type": "stream",
          "name": "stderr",
          "text": [
            "WARNING:petastorm.spark.spark_dataset_converter:The median size 12113751 B (< 50 MB) of the parquet files is too small. Total size: 50282358 B. Increase the median file size by calling df.repartition(n) or df.coalesce(n), which might help improve the performance. Parquet files: file:///content/drive/MyDrive/cache/20230630075131-appid-local-1688111453598-d9077280-d2b3-4f53-89cf-8d299397a9bd/part-00000-375a2551-c5ab-44f4-adbb-fd5d718028cf-c000.parquet, ...\n"
          ]
        },
        {
          "output_type": "stream",
          "name": "stdout",
          "text": [
            "98465 98465 98465\n"
          ]
        }
      ],
      "source": [
        "from petastorm.spark import SparkDatasetConverter, make_spark_converter\n",
        "\n",
        "CACHE = os.path.join(GDRIVE_HOME_DIR, \"cache\")\n",
        "spark.conf.set(SparkDatasetConverter.PARENT_CACHE_DIR_URL_CONF, f'file://{CACHE}')\n",
        "\n",
        "pytorch_songs_df = convert_sparse_to_indices(songs_embeddings.select(\"tracks\", \"pid\"), column_name=\"tracks\")\n",
        "pytorch_artists_df = convert_sparse_to_indices(artists_embeddings.withColumnRenamed(\"tracks\", \"artists\").select(\"pid\", \"artists\"), column_name=\"artists\")\n",
        "\n",
        "songs_artists_df = pytorch_songs_df.join(pytorch_artists_df, on=\"pid\")\n",
        "pytorch_merged_dataloader = make_spark_converter(songs_artists_df)\n",
        "\n",
        "\n",
        "print(pytorch_songs_df.count(), pytorch_artists_df.count(), songs_artists_df.count()) #Everything good here, this is nice!"
      ]
    },
    {
      "cell_type": "markdown",
      "metadata": {
        "id": "RueabAy34hq_"
      },
      "source": [
        "Creating the dataloader for the evaluation set"
      ]
    },
    {
      "cell_type": "markdown",
      "metadata": {
        "id": "m0Av0W0P66lC"
      },
      "source": [
        "# PyTorch Model"
      ]
    },
    {
      "cell_type": "code",
      "source": [
        "TRAIN = False"
      ],
      "metadata": {
        "id": "q8oo_44ARWgb"
      },
      "execution_count": 17,
      "outputs": []
    },
    {
      "cell_type": "code",
      "execution_count": 18,
      "metadata": {
        "id": "6-YbESXD66Oh"
      },
      "outputs": [],
      "source": [
        "import torch\n",
        "import torch.nn as nn\n",
        "import torch.optim as optim\n",
        "import numpy as np\n",
        "import pickle\n",
        "\n",
        "class DAE_tied(nn.Module):\n",
        "    def __init__(self, conf):\n",
        "        super(DAE_tied, self).__init__()\n",
        "        self.save_dir = conf[\"save\"]\n",
        "        if LOCAL:\n",
        "            self.device = torch.device(\"mps\")\n",
        "        else:\n",
        "            self.device = torch.device(\"cuda\" if torch.cuda.is_available() else \"cpu\")\n",
        "        self.initval_dir = conf[\"initval\"]\n",
        "\n",
        "        self.n_batch = conf[\"batch\"]\n",
        "        self.n_input = conf[\"n_input\"]\n",
        "        self.n_hidden = conf[\"hidden\"]\n",
        "        self.reg_lambda = conf[\"reg_lambda\"]\n",
        "\n",
        "        self.keep_prob = torch.tensor(conf[\"keep_prob\"], dtype=torch.float32)\n",
        "        self.input_keep_prob = torch.tensor(conf[\"input_keep_prob\"], dtype=torch.float32)\n",
        "\n",
        "        self.weights = {}\n",
        "        self.biases = {}\n",
        "        self.d_params = []\n",
        "\n",
        "        self.z = None\n",
        "\n",
        "    def init_weight(self):\n",
        "        if self.initval_dir == 'NULL':\n",
        "            self.weights['encoder_h'] = nn.Parameter(torch.FloatTensor(self.n_input, self.n_hidden).to(self.device))\n",
        "            nn.init.xavier_uniform_(self.weights['encoder_h'])\n",
        "            self.biases['encoder_b'] = nn.Parameter(torch.FloatTensor(self.n_hidden).to(self.device))\n",
        "            nn.init.zeros_(self.biases['encoder_b'])\n",
        "            self.biases['decoder_b'] = nn.Parameter(torch.FloatTensor(self.n_input).to(self.device))\n",
        "            nn.init.zeros_(self.biases['decoder_b'])\n",
        "        else:\n",
        "            with open(self.initval_dir, 'rb') as f:\n",
        "                emb = pickle.load(f)\n",
        "            self.weights['encoder_h'] = nn.Parameter(torch.FloatTensor(emb[0]).to(self.device))\n",
        "            self.biases['encoder_b'] = nn.Parameter(torch.FloatTensor(emb[2]).to(self.device))\n",
        "            self.biases['decoder_b'] = nn.Parameter(torch.FloatTensor(emb[3]).to(self.device))\n",
        "        self.d_params = [self.weights['encoder_h'], self.weights['encoder_h'], self.biases['encoder_b'], self.biases['decoder_b']]\n",
        "\n",
        "\n",
        "    # Building the encoder\n",
        "    def encoder(self, x):\n",
        "        # Encoder Hidden layer with sigmoid activation #1\n",
        "        layer = torch.add(torch.matmul(x, self.weights['encoder_h']), self.biases['encoder_b'])\n",
        "        layer = torch.sigmoid(layer)\n",
        "        layer = torch.nn.functional.dropout(layer, p=1 - self.keep_prob)\n",
        "\n",
        "        return layer\n",
        "\n",
        "    # Building the decoder\n",
        "    def decoder(self, x):\n",
        "        # Decoder Hidden layer with sigmoid activation #1\n",
        "        layer = torch.sigmoid(torch.add(torch.matmul(x, self.weights['encoder_h'].t()), self.biases['decoder_b']))\n",
        "        return layer\n",
        "\n",
        "    def l2_loss(self):\n",
        "        # encoder_h_l2 = (torch.sum(self.weights['encoder_h']) ** 2)/2\n",
        "        # decoder_b_l2 = (torch.sum(self.biases['decoder_b']) ** 2)/2\n",
        "        # encoder_b_l2 = (torch.sum(self.biases['encoder_b']) ** 2)/2\n",
        "\n",
        "        encoder_h_l1 = torch.sum(torch.abs(self.weights['encoder_h']))\n",
        "        decoder_b_l1 = torch.sum(torch.abs(self.biases['decoder_b']))\n",
        "        encoder_b_l1 = torch.sum(torch.abs(self.biases['encoder_b']))\n",
        "\n",
        "        # l2 = encoder_h_l2 + decoder_b_l2 + encoder_b_l2\n",
        "        l1 = encoder_h_l1 + decoder_b_l1 + encoder_b_l1\n",
        "        return l1\n",
        "\n",
        "    def forward(self, x, y):\n",
        "        self.x = x\n",
        "        self.y = y\n",
        "\n",
        "        x_dropout = torch.nn.functional.dropout(self.x, p= 1 - self.input_keep_prob)\n",
        "        reduce_sum = torch.sum(x_dropout, dim=1, keepdim=True)\n",
        "        self.x_dropout = torch.div(x_dropout, reduce_sum + 1e-10)\n",
        "\n",
        "        encoder_op = self.encoder(self.x_dropout)\n",
        "\n",
        "        self.z = encoder_op\n",
        "        self.y_pred = self.decoder(encoder_op)\n",
        "\n",
        "        l2 = self.l2_loss()\n",
        "\n",
        "        ALPHA = 0.5\n",
        "\n",
        "        L = -torch.sum(self.y * torch.log(self.y_pred + 1e-10) +\n",
        "                       ALPHA * (1 - self.y) * torch.log(1 - self.y_pred + 1e-10), dim=1)\n",
        "\n",
        "        self.cost = torch.mean(L) + self.reg_lambda * l2\n",
        "\n",
        "    def save_model(self):\n",
        "        params = [param.detach().numpy() for param in self.d_params]\n",
        "        with open(self.save_dir, 'wb') as f:\n",
        "            pickle.dump(params, f)\n",
        "\n",
        "\n",
        "class DAE(DAE_tied):\n",
        "    def __init__(self, conf):\n",
        "        super(DAE, self).__init__(conf)\n",
        "\n",
        "    def init_weight(self):\n",
        "        if self.initval_dir == 'NULL':\n",
        "            self.weights['encoder_h'] = nn.Parameter(torch.FloatTensor(self.n_input, self.n_hidden).to(self.device))\n",
        "            nn.init.xavier_uniform_(self.weights['encoder_h'])\n",
        "            self.weights['decoder_h'] = nn.Parameter(torch.FloatTensor(self.n_input, self.n_hidden).to(self.device))\n",
        "            nn.init.xavier_uniform_(self.weights['decoder_h'])\n",
        "            self.biases['encoder_b'] = nn.Parameter(torch.FloatTensor(self.n_hidden).to(self.device))\n",
        "            nn.init.zeros_(self.biases['encoder_b'])\n",
        "            self.biases['decoder_b'] = nn.Parameter(torch.FloatTensor(self.n_input).to(self.device))\n",
        "            nn.init.zeros_(self.biases['decoder_b'])\n",
        "        else:\n",
        "            with open(self.initval_dir, 'rb') as f:\n",
        "                emb = pickle.load(f)\n",
        "            self.weights['encoder_h'] = nn.Parameter(torch.FloatTensor(emb[0]).to(self.device))\n",
        "            self.weights['decoder_h'] = nn.Parameter(torch.FloatTensor(emb[1]).to(self.device))\n",
        "            self.biases['encoder_b'] = nn.Parameter(torch.FloatTensor(emb[2]).to(self.device))\n",
        "            self.biases['decoder_b'] = nn.Parameter(torch.FloatTensor(emb[3]).to(self.device))\n",
        "\n",
        "        self.d_params = [self.weights['encoder_h'], self.weights['decoder_h'],\n",
        "                         self.biases['encoder_b'], self.biases['decoder_b']]\n",
        "\n",
        "    def decoder(self, x):\n",
        "        # Decoder Hidden layer with sigmoid activation #1\n",
        "        layer = torch.sigmoid(torch.add(torch.matmul(x, self.weights['decoder_h'].t()), self.biases['decoder_b']))\n",
        "        return layer\n",
        "\n",
        "    def l2_loss(self):\n",
        "    #   encoder_h_l2 = (torch.sum(self.weights['encoder_h']) ** 2)/2\n",
        "    #   decoder_b_l2 = (torch.sum(self.biases['decoder_b']) ** 2)/2\n",
        "    #   encoder_b_l2 = (torch.sum(self.biases['encoder_b']) ** 2)/2\n",
        "    #   decoder_h_l2 = (torch.sum(self.weights['decoder_h']) ** 2)/2\n",
        "\n",
        "      encoder_h_l1 = torch.sum(torch.abs(self.weights['encoder_h']))\n",
        "      decoder_b_l1 = torch.sum(torch.abs(self.biases['decoder_b']))\n",
        "      encoder_b_l1 = torch.sum(torch.abs(self.biases['encoder_b']))\n",
        "      decoder_h_l1 = torch.sum(torch.abs(self.weights['decoder_h']))\n",
        "\n",
        "\n",
        "      l1 = encoder_h_l1 + decoder_b_l1 + encoder_b_l1 + decoder_h_l1\n",
        "\n",
        "    #   l2 = encoder_h_l2 + decoder_b_l2 + encoder_b_l2 + decoder_h_l2\n",
        "\n",
        "      return l1"
      ]
    },
    {
      "cell_type": "code",
      "execution_count": 19,
      "metadata": {
        "colab": {
          "base_uri": "https://localhost:8080/"
        },
        "id": "UNcWBM0U4hrB",
        "outputId": "b76cf860-0040-4988-b52f-5ce4d7e556bf"
      },
      "outputs": [
        {
          "output_type": "stream",
          "name": "stdout",
          "text": [
            "Max number of songs: 250\n",
            "Max number of songs: 250\n",
            "Max number of songs: 250\n"
          ]
        },
        {
          "output_type": "stream",
          "name": "stderr",
          "text": [
            "WARNING:petastorm.spark.spark_dataset_converter:Converting floating-point columns to float32\n"
          ]
        },
        {
          "output_type": "stream",
          "name": "stdout",
          "text": [
            "Max number of songs: 250\n"
          ]
        }
      ],
      "source": [
        "pytorch_songs_eval_train_df = convert_sparse_to_indices(songs_embeddings_eval_train.withColumnRenamed(\"tracks\", \"train_tracks\").select(\"train_tracks\", \"pid\"), column_name=\"train_tracks\")\n",
        "pytorch_artists_eval_train_df = convert_sparse_to_indices(artists_embeddings_eval_train.withColumnRenamed(\"tracks\", \"train_artists\").select(\"pid\", \"train_artists\"), column_name=\"train_artists\")\n",
        "songs_artists_eval_train_df = pytorch_songs_eval_train_df.join(pytorch_artists_eval_train_df, on=\"pid\")\n",
        "\n",
        "pytorch_songs_eval_test_df = convert_sparse_to_indices(songs_embeddings_eval_test.withColumnRenamed(\"tracks\", \"test_tracks\").select(\"test_tracks\", \"pid\"), column_name=\"test_tracks\")\n",
        "pytorch_artists_eval_test_df = convert_sparse_to_indices(artists_embeddings_eval_test.withColumnRenamed(\"tracks\", \"test_artists\").select(\"pid\", \"test_artists\"), column_name=\"test_artists\")\n",
        "songs_artists_eval_test_df = pytorch_songs_eval_test_df.join(pytorch_artists_eval_test_df, on=\"pid\")\n",
        "\n",
        "eval_merged_df = songs_artists_eval_train_df.join(songs_artists_eval_test_df, on=\"pid\")\n",
        "\n",
        "# counter = F.udf(lambda x: len([item for item in x if item != -1]), returnType=IntegerType())\n",
        "# eval_merged_df = eval_merged_df\\\n",
        "#     .withColumn(\"train_tracks_count\", counter(F.col(\"train_tracks_indices\")))\\\n",
        "#     .withColumn(\"test_tracks_count\", counter(F.col(\"test_tracks_indices\")))\n",
        "# eval_merged_df = eval_merged_df.filter(\"train_tracks_count > 100\")\n",
        "eval_merged_dataloader = make_spark_converter(eval_merged_df)\n",
        "\n",
        "eval_merged_num = eval_merged_df.count()"
      ]
    },
    {
      "cell_type": "code",
      "execution_count": 20,
      "metadata": {
        "id": "Vgt0T-v0K-JX"
      },
      "outputs": [],
      "source": [
        "if LOCAL:\n",
        "    device = torch.device(\"mps\")\n",
        "else:\n",
        "    device = torch.device(\"cuda\" if torch.cuda.is_available() else \"cpu\")"
      ]
    },
    {
      "cell_type": "code",
      "execution_count": 89,
      "metadata": {
        "id": "kQPVslug4hrB"
      },
      "outputs": [],
      "source": [
        "from typing import List\n",
        "def k_prec(input: torch.Tensor, eval_preds: torch.Tensor, ground_truth: torch.Tensor) -> List[float]:\n",
        "    batch_size = 10\n",
        "    precs = []\n",
        "\n",
        "    for i in range(batch_size):\n",
        "\n",
        "        if ground_truth.shape[0] != batch_size:\n",
        "          continue\n",
        "        input_idx = torch.nonzero(input[i] == 1).squeeze().flatten()\n",
        "        num_input_songs = input_idx.shape[0]\n",
        "\n",
        "        ground_truth_idx = torch.nonzero(ground_truth[i] == 1).squeeze().flatten()\n",
        "        num_ground_truth_songs = ground_truth_idx.shape[0]\n",
        "\n",
        "        if num_ground_truth_songs == 0:\n",
        "          continue\n",
        "\n",
        "        k = num_input_songs + num_ground_truth_songs\n",
        "        top_k_preds = eval_preds[i].topk(k, dim=0)\n",
        "        top_k_preds_idx = top_k_preds.indices.flatten().cpu()\n",
        "\n",
        "        confidences = top_k_preds.values.flatten()\n",
        "\n",
        "        already_in_playlist = np.intersect1d(top_k_preds_idx.detach().numpy(), input_idx.cpu().detach().numpy())\n",
        "\n",
        "        top_k_preds_idx = np.array([item for item in top_k_preds_idx.detach().numpy() if item not in already_in_playlist])[:num_ground_truth_songs]\n",
        "\n",
        "        common_elements = np.intersect1d(top_k_preds_idx, ground_truth_idx.cpu().detach().numpy())\n",
        "        num_common_elements = len(common_elements)\n",
        "        precs.append(num_common_elements/num_ground_truth_songs)\n",
        "\n",
        "    return precs\n",
        "\n",
        "def ndcg(eval_preds: torch.Tensor, ground_truth: torch.Tensor) -> List[float]:\n",
        "    \"\"\"\n",
        "    Computes the Normalized Discounted Cumulative Gain, given the model output and the ground truth.\n",
        "    \"\"\"\n",
        "    batch_size = 10\n",
        "    scores = []\n",
        "    for i in range(batch_size):\n",
        "        score = 0\n",
        "        k = 500\n",
        "        try:\n",
        "          top_k_preds = eval_preds[i].topk(k, dim=0)\n",
        "        except: return scores\n",
        "        top_k_preds_idx = top_k_preds.indices.flatten().cpu().numpy()\n",
        "\n",
        "        ground_truth_idx = torch.nonzero(ground_truth[i] == 1).squeeze().flatten()\n",
        "\n",
        "        common_elements = np.intersect1d(top_k_preds_idx, ground_truth_idx.cpu().detach().numpy())\n",
        "        num_common_elements = len(common_elements)\n",
        "\n",
        "        for j, elem in enumerate(top_k_preds_idx):\n",
        "            if elem not in common_elements: continue\n",
        "            if j == 1:\n",
        "              score += 1\n",
        "            else:\n",
        "               score += (1 / np.log2(j))\n",
        "\n",
        "        ideal_score = 1 + sum([(1 / np.log2(i)) for i in range(2, num_common_elements + 1)])\n",
        "        normalized_score = score / ideal_score\n",
        "\n",
        "        scores.append(normalized_score)\n",
        "    return scores\n",
        "\n",
        "def ndcg_fast(eval_preds: torch.Tensor, ground_truth: torch.Tensor) -> List[float]:\n",
        "    \"\"\"\n",
        "    Computes the Normalized Discounted Cumulative Gain, given the model output and the ground truth.\n",
        "    \"\"\"\n",
        "    batch_size = 10\n",
        "    scores = []\n",
        "\n",
        "    for i in range(batch_size):\n",
        "        score = 0\n",
        "        k = eval_preds.shape[1]\n",
        "\n",
        "\n",
        "        try:\n",
        "          top_k_preds = eval_preds[i].topk(k, dim=0)\n",
        "        except: return scores\n",
        "\n",
        "        top_k_preds_idx = top_k_preds.indices.flatten().cpu()\n",
        "\n",
        "        ground_truth_idx = torch.nonzero(ground_truth[i] == 1).squeeze().flatten()\n",
        "\n",
        "        common_elements = torch.tensor(np.intersect1d(top_k_preds_idx, ground_truth_idx.cpu().detach().numpy()))\n",
        "        num_common_elements = len(common_elements)\n",
        "\n",
        "        j = torch.arange(k, dtype=torch.float32) + 1\n",
        "        j_common = torch.masked_select(j, torch.isin(top_k_preds_idx, common_elements))\n",
        "\n",
        "        score_common = torch.where(j_common == 1, torch.ones_like(j_common), j_common / torch.log2(j_common))\n",
        "        score = torch.sum(score_common)\n",
        "\n",
        "        ideal_score = torch.sum(1 / torch.log2(torch.arange(1, num_common_elements+1, dtype=torch.float32)))\n",
        "        normalized_score = score / ideal_score\n",
        "\n",
        "        scores.append(normalized_score.item())\n",
        "\n",
        "    return scores\n",
        "\n",
        "def evaluate(input: torch.Tensor, eval_preds: torch.Tensor, ground_truth: torch.Tensor) -> List[float]:\n",
        "    return k_prec(input, eval_preds, ground_truth)"
      ]
    },
    {
      "cell_type": "code",
      "execution_count": 22,
      "metadata": {
        "id": "SK52nYJ-Edb9"
      },
      "outputs": [],
      "source": [
        "def test_k_prec(eval_preds: torch.Tensor, ground_truth: torch.Tensor) -> List[float]:\n",
        "    batch_size = 10\n",
        "    precs = []\n",
        "\n",
        "    for i in range(batch_size):\n",
        "        ground_truth_idx = torch.nonzero(ground_truth[i] == 1).squeeze().flatten()\n",
        "        num_ground_truth_songs = ground_truth_idx.shape[0]\n",
        "\n",
        "        k = num_ground_truth_songs\n",
        "        top_k_preds = eval_preds[i].topk(k, dim=0)\n",
        "        top_k_preds_idx = top_k_preds.indices.flatten().cpu()\n",
        "\n",
        "        confidences = top_k_preds.values.flatten()\n",
        "\n",
        "        common_elements = np.intersect1d(top_k_preds_idx, ground_truth_idx.cpu().detach().numpy())\n",
        "        num_common_elements = len(common_elements)\n",
        "        precs.append(num_common_elements/num_ground_truth_songs)\n",
        "\n",
        "    return precs"
      ]
    },
    {
      "cell_type": "markdown",
      "metadata": {
        "id": "OYT35yY74hrB"
      },
      "source": [
        "Creating the petastorm converters for validation set"
      ]
    },
    {
      "cell_type": "code",
      "execution_count": 23,
      "metadata": {
        "id": "yP8xk2L34hrB"
      },
      "outputs": [],
      "source": [
        "def validate(model: DAE_tied) -> Tuple[torch.Tensor, float, float]:\n",
        "    \"\"\"\n",
        "    Given the model, performs an evaluation on the validation set.\n",
        "    \"\"\"\n",
        "    ARTIST_SHAPE = (ARTIST_VECTOR_LENGTH, )\n",
        "    SONG_SHAPE = (SONGS_VECTOR_LENGTH, )\n",
        "    precs = []\n",
        "    tot_k = 0\n",
        "    model.eval()\n",
        "    with eval_merged_dataloader.make_torch_dataloader(batch_size=10, num_epochs = 1) as eval_dataloader:\n",
        "        for batch_idx, row in enumerate(eval_dataloader):\n",
        "            with torch.no_grad():\n",
        "                padded_eval_song_tensor = row[\"train_tracks_indices\"]\n",
        "                padded_eval_artist_tensor = row[\"train_artists_indices\"]\n",
        "\n",
        "                song_dense = padded_tensors_to_dense_matrix(padded_eval_song_tensor, SONG_SHAPE)\n",
        "                artist_dense = padded_tensors_to_dense_matrix(padded_eval_artist_tensor, ARTIST_SHAPE)\n",
        "\n",
        "                song_dense = song_dense.to(device)\n",
        "                artist_dense = artist_dense.to(device)\n",
        "\n",
        "                del padded_eval_song_tensor\n",
        "                del padded_eval_artist_tensor\n",
        "\n",
        "                x = torch.concat((song_dense, artist_dense), dim=1)\n",
        "                y = torch.concat((song_dense, artist_dense), dim=1)\n",
        "\n",
        "                model(x, y)\n",
        "\n",
        "                eval_preds = model.y_pred[:, :SONGS_VECTOR_LENGTH]\n",
        "\n",
        "                padded_eval_song_tensor_test = row[\"test_tracks_indices\"]\n",
        "\n",
        "                ground_truth = padded_tensors_to_dense_matrix(padded_eval_song_tensor_test, SONG_SHAPE)\n",
        "\n",
        "                ground_truth = ground_truth.to(device)\n",
        "\n",
        "                prec_list = evaluate(song_dense, eval_preds, ground_truth)\n",
        "                precs.extend(prec_list)\n",
        "\n",
        "        mean_prec: float = sum(precs) / len(precs)\n",
        "        model.train()\n",
        "        return model.cost, mean_prec\n"
      ]
    },
    {
      "cell_type": "markdown",
      "metadata": {
        "id": "aHXRUYad4hrB"
      },
      "source": [
        "Define the validation function that is invoked during the training in order to save the model parameters that optimize the performance evaluation on the validation set."
      ]
    },
    {
      "cell_type": "code",
      "execution_count": 24,
      "metadata": {
        "id": "I75MLKjC4hrC"
      },
      "outputs": [],
      "source": [
        "def perform_validation_step(model: DAE_tied, max_prec: float, save_path:str, save: bool):\n",
        "    eval_loss, prec = validate(model)\n",
        "\n",
        "    if prec > max_prec:\n",
        "        max_prec = prec\n",
        "        best_params = [param.cpu().detach().numpy() for param in model.d_params]\n",
        "        if save:\n",
        "          with open(save_path, \"wb\") as f:\n",
        "              pickle.dump(best_params, f)\n",
        "          print(f\"Best prec achieved: {prec}, parameters saved!\")\n",
        "        else:\n",
        "          print(f\"Best prec achieved: {prec}!\")\n",
        "    return max_prec"
      ]
    },
    {
      "cell_type": "code",
      "execution_count": 25,
      "metadata": {
        "id": "DVGpMdqs7dQQ"
      },
      "outputs": [],
      "source": [
        "BEST_PARAMS_PATH = os.path.join(SAVED_MODELS, \"best_params.pickle\")\n",
        "BEST_PARAMS_PATH_2 = os.path.join(SAVED_MODELS, \"best_params_reg.pickle\")\n",
        "\n",
        "#Hyperparameters used in the paper\n",
        "conf = {\n",
        "    'batch': 100,\n",
        "    'n_input': SONGS_VECTOR_LENGTH + ARTIST_VECTOR_LENGTH,\n",
        "    'hidden': 256,\n",
        "    'lr': 0.0005,\n",
        "    'reg_lambda': 0.0,\n",
        "    'initval': \"NULL\",\n",
        "    \"keep_prob\": 0.8,\n",
        "    \"input_keep_prob\": 0.8, # This isn't used for now because of the .uniform()\n",
        "    'save': os.path.join(SAVED_MODELS, \"dae_model.pickle\")\n",
        "}"
      ]
    },
    {
      "cell_type": "code",
      "execution_count": 26,
      "metadata": {
        "id": "MByLaK1Amzgv",
        "outputId": "74578034-ea4b-4561-85e5-ccbbb0e38fd5",
        "colab": {
          "base_uri": "https://localhost:8080/"
        }
      },
      "outputs": [
        {
          "output_type": "execute_result",
          "data": {
            "text/plain": [
              "DAE_tied()"
            ]
          },
          "metadata": {},
          "execution_count": 26
        }
      ],
      "source": [
        "pretrain_model = DAE_tied(conf)\n",
        "pretrain_model.init_weight()\n",
        "pretrain_model.train()"
      ]
    },
    {
      "cell_type": "code",
      "execution_count": 27,
      "metadata": {
        "id": "mNPmA2YijSO1"
      },
      "outputs": [],
      "source": [
        "pretrain_optimizer = optim.Adam(pretrain_model.d_params, lr=conf[\"lr\"])"
      ]
    },
    {
      "cell_type": "code",
      "execution_count": 28,
      "metadata": {
        "colab": {
          "base_uri": "https://localhost:8080/"
        },
        "id": "5jAqv6QBEiK9",
        "outputId": "37e2a271-f9d9-41fe-915b-0732900afaf4"
      },
      "outputs": [
        {
          "output_type": "execute_result",
          "data": {
            "text/plain": [
              "device(type='cpu')"
            ]
          },
          "metadata": {},
          "execution_count": 28
        }
      ],
      "source": [
        "pretrain_model.weights['encoder_h'].device"
      ]
    },
    {
      "cell_type": "code",
      "execution_count": 29,
      "metadata": {
        "id": "MeuVole7-WWC"
      },
      "outputs": [],
      "source": [
        "torch.cuda.empty_cache()"
      ]
    },
    {
      "cell_type": "markdown",
      "metadata": {
        "id": "GuqQMu_E0yaN"
      },
      "source": [
        "## Train the model"
      ]
    },
    {
      "cell_type": "code",
      "execution_count": 30,
      "metadata": {
        "id": "jIg2DIDNjEKm"
      },
      "outputs": [],
      "source": [
        "min_loss = 2000\n",
        "max_prec = 0.01\n",
        "max_test_prec = 0\n",
        "best_params = []\n",
        "losses = []"
      ]
    },
    {
      "cell_type": "markdown",
      "metadata": {
        "id": "SFvPuc5hqirK"
      },
      "source": [
        "Pretrain with `DAE_tied`"
      ]
    },
    {
      "cell_type": "code",
      "execution_count": 31,
      "metadata": {
        "id": "Z_BjjpshDD2H"
      },
      "outputs": [],
      "source": [
        "if TRAIN:\n",
        "  from tqdm.notebook import tqdm\n",
        "  import random\n",
        "  NUM_EPOCHS = 50\n",
        "  with pytorch_merged_dataloader.make_torch_dataloader(batch_size=conf[\"batch\"], num_epochs = NUM_EPOCHS) as train_dataloader:\n",
        "      SONG_SHAPE = (SONGS_VECTOR_LENGTH, )\n",
        "      ARTIST_SHAPE = (ARTIST_VECTOR_LENGTH, )\n",
        "      for batch_idx, row in tqdm(enumerate(train_dataloader), desc=f\"Training model\", total= (NUM_PLAYLISTS / conf[\"batch\"]) * NUM_EPOCHS):\n",
        "        # Pick random input_keep_prob between 0.5 and 0.8\n",
        "        pretrain_model.input_keep_prob = random.uniform(0.5, 0.8) #TODO: make this dynamic inside the conf\n",
        "\n",
        "        padded_song_tensor = row[\"tracks_indices\"]\n",
        "        padded_artist_tensor = row[\"artists_indices\"]\n",
        "\n",
        "        song_dense = padded_tensors_to_dense_matrix(padded_song_tensor, SONG_SHAPE)\n",
        "        artist_dense = padded_tensors_to_dense_matrix(padded_artist_tensor, ARTIST_SHAPE)\n",
        "\n",
        "        song_dense = song_dense.to(device)\n",
        "        artist_dense = artist_dense.to(device)\n",
        "\n",
        "        rand_int = np.random.randint(2)\n",
        "        if rand_int == 0:\n",
        "          #Zero-out the artists\n",
        "          pretrain_optimizer.zero_grad()\n",
        "          x = torch.concat((song_dense, torch.zeros_like(artist_dense)), dim=1)\n",
        "          # x = torch.concat((song_dense, artist_dense), dim=1)\n",
        "          y = torch.concat((song_dense, artist_dense), dim=1)\n",
        "          pretrain_model(x, y)\n",
        "          loss = pretrain_model.cost\n",
        "          pretrain_model.cost.backward()\n",
        "          pretrain_optimizer.step()\n",
        "        if rand_int == 1:\n",
        "          #Zero-out the tracks\n",
        "          pretrain_optimizer.zero_grad()\n",
        "          x = torch.concat((torch.zeros_like(song_dense), artist_dense), dim=1)\n",
        "          # x = torch.concat((song_dense, artist_dense), dim=1)\n",
        "          y = torch.concat((song_dense, artist_dense), dim=1)\n",
        "          pretrain_model(x, y)\n",
        "          loss = pretrain_model.cost\n",
        "          pretrain_model.cost.backward()\n",
        "          pretrain_optimizer.step()\n",
        "\n",
        "        losses.append(loss)\n",
        "\n",
        "        if batch_idx % 1000 == 0:\n",
        "          max_prec = perform_validation_step(pretrain_model, max_prec, BEST_PARAMS_PATH, save=True)\n",
        "          print(f\"Loss: {loss}\")\n",
        "          print(f\"Current max precision: {max_prec}\")"
      ]
    },
    {
      "cell_type": "code",
      "execution_count": 32,
      "metadata": {
        "id": "o-FMr7tYmQ4A"
      },
      "outputs": [],
      "source": [
        "if TRAIN:\n",
        "  pretrain_model.y_pred[0].cpu().detach().numpy().tolist()"
      ]
    },
    {
      "cell_type": "markdown",
      "metadata": {
        "id": "sFOoS7eGqlrH"
      },
      "source": [
        "Train with `DAE` loading the pretrained `DAE_tied` model"
      ]
    },
    {
      "cell_type": "code",
      "execution_count": 33,
      "metadata": {
        "id": "IFAj48uuqlbd"
      },
      "outputs": [],
      "source": [
        "FINE_TUNED_BEST_PARAMS_PATH = os.path.join(SAVED_MODELS, \"final_best_params.pickle\")\n",
        "\n",
        "conf_train = conf.copy()\n",
        "conf_train[\"initval\"] = BEST_PARAMS_PATH\n",
        "conf_train[\"lr\"] = conf[\"lr\"] / 2\n",
        "\n",
        "dae_model = DAE(conf_train)\n",
        "dae_model.init_weight()\n",
        "optimizer = optim.Adam(dae_model.d_params, lr=conf_train['lr'])\n",
        "\n",
        "min_loss = 600\n",
        "losses = []\n",
        "best_params = []\n",
        "max_prec = 0.01"
      ]
    },
    {
      "cell_type": "code",
      "execution_count": 34,
      "metadata": {
        "id": "osIKMm2WCdLM"
      },
      "outputs": [],
      "source": [
        "torch.cuda.empty_cache()"
      ]
    },
    {
      "cell_type": "code",
      "execution_count": 35,
      "metadata": {
        "id": "gyw3SnVYyRP1"
      },
      "outputs": [],
      "source": [
        "if TRAIN:\n",
        "  NUM_EPOCHS = 100\n",
        "  with pytorch_merged_dataloader.make_torch_dataloader(batch_size=conf[\"batch\"], num_epochs = NUM_EPOCHS) as train_dataloader:\n",
        "      ARTIST_SHAPE = (ARTIST_VECTOR_LENGTH, )\n",
        "      SONG_SHAPE = (SONGS_VECTOR_LENGTH, )\n",
        "      for batch_idx, row in tqdm(enumerate(train_dataloader), desc=f\"Training model\", total= (NUM_PLAYLISTS / conf[\"batch\"]) * NUM_EPOCHS):\n",
        "        # Pick random input_keep_prob between 0.5 and 0.8\n",
        "        dae_model.input_keep_prob = random.uniform(0.5, 0.8) #TODO: make this dynamic inside the conf\n",
        "\n",
        "        padded_song_tensor = row[\"tracks_indices\"]\n",
        "        padded_artist_tensor = row[\"artists_indices\"]\n",
        "\n",
        "        song_dense = padded_tensors_to_dense_matrix(padded_song_tensor, SONG_SHAPE)\n",
        "        artist_dense = padded_tensors_to_dense_matrix(padded_artist_tensor, ARTIST_SHAPE)\n",
        "\n",
        "        song_dense = song_dense.to(device)\n",
        "        artist_dense = artist_dense.to(device)\n",
        "\n",
        "        rand_int = np.random.randint(2)\n",
        "        if rand_int == 0:\n",
        "          #Zero-out the artists\n",
        "          optimizer.zero_grad()\n",
        "          x = torch.concat((song_dense, torch.zeros_like(artist_dense)), dim=1)\n",
        "          y = torch.concat((song_dense, artist_dense), dim=1)\n",
        "          dae_model(x, y)\n",
        "          loss = dae_model.cost\n",
        "          dae_model.cost.backward()\n",
        "          optimizer.step()\n",
        "        if rand_int == 1:\n",
        "          #Zero-out the tracks\n",
        "          optimizer.zero_grad()\n",
        "          x = torch.concat((torch.zeros_like(song_dense), artist_dense), dim=1)\n",
        "          y = torch.concat((song_dense, artist_dense), dim=1)\n",
        "          dae_model(x, y)\n",
        "          loss = dae_model.cost\n",
        "          dae_model.cost.backward()\n",
        "          optimizer.step()\n",
        "\n",
        "        losses.append(loss)\n",
        "\n",
        "\n",
        "        if batch_idx % 1000 == 0:\n",
        "          max_prec = perform_validation_step(dae_model, max_prec, FINE_TUNED_BEST_PARAMS_PATH, save=True)\n",
        "          print(f\"Loss: {loss}\")\n",
        "          print(f\"Current max precision: {max_prec}\")"
      ]
    },
    {
      "cell_type": "code",
      "execution_count": 36,
      "metadata": {
        "id": "qswK6RoeuW8l"
      },
      "outputs": [],
      "source": [
        "if TRAIN:\n",
        "  dae_model.y_pred[0].cpu().detach().numpy().tolist()"
      ]
    },
    {
      "cell_type": "markdown",
      "metadata": {
        "id": "Zqyho9fPl0ow"
      },
      "source": [
        "# Inference"
      ]
    },
    {
      "cell_type": "code",
      "execution_count": 38,
      "metadata": {
        "id": "S9RFO76gK8Qb"
      },
      "outputs": [],
      "source": [
        "song_schema = StructType([\n",
        "    StructField(\"pos\", IntegerType(), True),\n",
        "    StructField(\"artist_name\", StringType(), True),\n",
        "    StructField(\"track_uri\", StringType(), True),\n",
        "    StructField(\"artist_uri\", StringType(), True),\n",
        "    StructField(\"track_name\", StringType(), True),\n",
        "    StructField(\"album_uri\", StringType(), True),\n",
        "    StructField(\"duration_ms\", LongType(), True),\n",
        "    StructField(\"album_name\", StringType(), True)\n",
        "])\n",
        "\n",
        "playlist_schema = StructType([\n",
        "    StructField(\"name\", StringType(), True),\n",
        "    StructField(\"collaborative\", StringType(), True),\n",
        "    StructField(\"pid\", IntegerType(), True),\n",
        "    StructField(\"modified_at\", IntegerType(), True),\n",
        "    StructField(\"num_tracks\", IntegerType(), True),\n",
        "    StructField(\"num_albums\", IntegerType(), True),\n",
        "    StructField(\"num_followers\", IntegerType(), True),\n",
        "    StructField(\"tracks\", ArrayType(song_schema), True),\n",
        "    StructField(\"num_edits\", IntegerType(), True),\n",
        "    StructField(\"duration_ms\", IntegerType(), True),\n",
        "    StructField(\"num_artists\", IntegerType(), True),\n",
        "])"
      ]
    },
    {
      "cell_type": "code",
      "execution_count": 39,
      "metadata": {
        "id": "5lgIPJo2tbUL"
      },
      "outputs": [],
      "source": [
        "SONGS_EMBEDDINGS_PATH_TEST_TRAIN = os.path.join(SAVED_DFS_PATH, f\"nn_songs_embeddings-test-train-{NUM_PLAYLISTS}.json\")\n",
        "SONGS_EMBEDDINGS_PATH_TEST_TEST = os.path.join(SAVED_DFS_PATH, f\"nn_songs_embeddings-test-test-{NUM_PLAYLISTS}.json\")\n",
        "\n",
        "ARTISTS_EMBEDDINGS_PATH_TEST_TRAIN = os.path.join(SAVED_DFS_PATH, f\"nn_artists_embeddings-test-train-{NUM_PLAYLISTS}.json\")\n",
        "ARTISTS_EMBEDDINGS_PATH_TEST_TEST = os.path.join(SAVED_DFS_PATH, f\"nn_artists_embeddings-test-test{NUM_PLAYLISTS}.json\")\n",
        "\n",
        "songs_embeddings_test_train = spark.read.schema(playlist_schema_mapped).json(SONGS_EMBEDDINGS_PATH_TEST_TRAIN)\n",
        "songs_embeddings_test_test = spark.read.schema(playlist_schema_mapped).json(SONGS_EMBEDDINGS_PATH_TEST_TEST)\n",
        "\n",
        "artists_embeddings_test_train = spark.read.schema(playlist_schema_mapped).json(ARTISTS_EMBEDDINGS_PATH_TEST_TRAIN)\n",
        "artists_embeddings_test_test = spark.read.schema(playlist_schema_mapped).json(ARTISTS_EMBEDDINGS_PATH_TEST_TEST)\n",
        "\n",
        "TEST_TRAIN_DF_PATH = os.path.join(SAVED_DFS_PATH, f\"nn_test_df-train-{NUM_PLAYLISTS}.json\")\n",
        "TEST_TEST_DF_PATH = os.path.join(SAVED_DFS_PATH, f\"nn_test_df-test-{NUM_PLAYLISTS}.json\")\n",
        "\n",
        "test_train_df = spark.read.schema(playlist_schema).json(TEST_TRAIN_DF_PATH)\n",
        "test_test_df = spark.read.schema(playlist_schema).json(TEST_TEST_DF_PATH)"
      ]
    },
    {
      "cell_type": "markdown",
      "metadata": {
        "id": "Wx-tghy0bAkU"
      },
      "source": [
        "# Evaluation"
      ]
    },
    {
      "cell_type": "markdown",
      "metadata": {
        "id": "ZFaj_pRpK-Jd"
      },
      "source": [
        "Create Test Dataloader"
      ]
    },
    {
      "cell_type": "code",
      "execution_count": 40,
      "metadata": {
        "colab": {
          "base_uri": "https://localhost:8080/"
        },
        "id": "Zgx4mZqKK-Jd",
        "outputId": "db80de5d-5c77-4f87-f79d-2a6860bbd234"
      },
      "outputs": [
        {
          "output_type": "stream",
          "name": "stdout",
          "text": [
            "Max number of songs: 250\n",
            "Max number of songs: 250\n",
            "Max number of songs: 250\n"
          ]
        },
        {
          "output_type": "stream",
          "name": "stderr",
          "text": [
            "WARNING:petastorm.spark.spark_dataset_converter:Converting floating-point columns to float32\n"
          ]
        },
        {
          "output_type": "stream",
          "name": "stdout",
          "text": [
            "Max number of songs: 250\n"
          ]
        }
      ],
      "source": [
        "pytorch_songs_test_train_df = convert_sparse_to_indices(songs_embeddings_test_train.withColumnRenamed(\"tracks\", \"train_tracks\").select(\"train_tracks\", \"pid\"), column_name=\"train_tracks\")\n",
        "pytorch_artists_test_train_df = convert_sparse_to_indices(artists_embeddings_test_train.withColumnRenamed(\"tracks\", \"train_artists\").select(\"pid\", \"train_artists\"), column_name=\"train_artists\")\n",
        "songs_artists_test_train_df = pytorch_songs_test_train_df.join(pytorch_artists_test_train_df, on=\"pid\")\n",
        "\n",
        "pytorch_songs_test_test_df = convert_sparse_to_indices(songs_embeddings_test_test.withColumnRenamed(\"tracks\", \"test_tracks\").select(\"test_tracks\", \"pid\"), column_name=\"test_tracks\")\n",
        "pytorch_artists_test_test_df = convert_sparse_to_indices(artists_embeddings_test_test.withColumnRenamed(\"tracks\", \"test_artists\").select(\"pid\", \"test_artists\"), column_name=\"test_artists\")\n",
        "songs_artists_test_test_df = pytorch_songs_test_test_df.join(pytorch_artists_test_test_df, on=\"pid\")\n",
        "\n",
        "test_merged_df = songs_artists_test_train_df.join(songs_artists_test_test_df, on=\"pid\")\n",
        "\n",
        "# MIN_TRACK_COUNT = 50\n",
        "# MAX_TRACK_COUNT = 100\n",
        "# counter = F.udf(lambda x: len([item for item in x if item != -1]), returnType=IntegerType())\n",
        "# test_merged_df = test_merged_df\\\n",
        "#     .withColumn(\"train_tracks_count\", counter(F.col(\"train_tracks_indices\")))\\\n",
        "#     .withColumn(\"test_tracks_count\", counter(F.col(\"test_tracks_indices\")))\n",
        "# test_merged_df = test_merged_df.filter(f\"train_tracks_count >= {MIN_TRACK_COUNT}\").filter((f\"train_tracks_count <= {MAX_TRACK_COUNT}\"))\n",
        "test_merged_dataloader = make_spark_converter(test_merged_df)"
      ]
    },
    {
      "cell_type": "code",
      "execution_count": 41,
      "metadata": {
        "id": "hCCXY08Sfmad",
        "outputId": "a2f86de2-f2b7-49d0-ea85-c4e55833c63e",
        "colab": {
          "base_uri": "https://localhost:8080/"
        }
      },
      "outputs": [
        {
          "output_type": "execute_result",
          "data": {
            "text/plain": [
              "1008"
            ]
          },
          "metadata": {},
          "execution_count": 41
        }
      ],
      "source": [
        "test_merged_df.count()"
      ]
    },
    {
      "cell_type": "markdown",
      "metadata": {
        "id": "6C9o6mymK-Jd"
      },
      "source": [
        "Define function to perform the full evaluation"
      ]
    },
    {
      "cell_type": "code",
      "execution_count": 46,
      "metadata": {
        "id": "mmBmMnhVK-Jd"
      },
      "outputs": [],
      "source": [
        "def perform_evaluation(model: DAE_tied) -> Tuple[torch.Tensor, float, float]:\n",
        "    \"\"\"\n",
        "    Given the model, performs an evaluation on the validation set.\n",
        "    \"\"\"\n",
        "    ARTIST_SHAPE = (ARTIST_VECTOR_LENGTH, )\n",
        "    SONG_SHAPE = (SONGS_VECTOR_LENGTH, )\n",
        "    precs = []\n",
        "    ndcgs = []\n",
        "    tot_k = 0\n",
        "    model.eval()\n",
        "    with test_merged_dataloader.make_torch_dataloader(batch_size=10, num_epochs = 1) as test_dataloader:\n",
        "        for batch_idx, row in enumerate(tqdm(test_dataloader, \"Testing...\", total=100)):\n",
        "            with torch.no_grad():\n",
        "                padded_eval_song_tensor = row[\"train_tracks_indices\"]\n",
        "                padded_eval_artist_tensor = row[\"train_artists_indices\"]\n",
        "\n",
        "                song_dense = padded_tensors_to_dense_matrix(padded_eval_song_tensor, SONG_SHAPE)\n",
        "                artist_dense = padded_tensors_to_dense_matrix(padded_eval_artist_tensor, ARTIST_SHAPE)\n",
        "\n",
        "                song_dense = song_dense.to(device)\n",
        "                artist_dense = artist_dense.to(device)\n",
        "\n",
        "                del padded_eval_song_tensor\n",
        "                del padded_eval_artist_tensor\n",
        "\n",
        "                x = torch.concat((song_dense, artist_dense), dim=1)\n",
        "                y = torch.concat((song_dense, artist_dense), dim=1)\n",
        "\n",
        "                model(x, y)\n",
        "\n",
        "                eval_preds = model.y_pred[:, :SONGS_VECTOR_LENGTH]\n",
        "\n",
        "                padded_eval_song_tensor_test = row[\"test_tracks_indices\"]\n",
        "\n",
        "                ground_truth = padded_tensors_to_dense_matrix(padded_eval_song_tensor_test, SONG_SHAPE)\n",
        "\n",
        "                ground_truth = ground_truth.to(device)\n",
        "\n",
        "                prec_list = k_prec(song_dense, eval_preds, ground_truth)\n",
        "                ndcg_list = ndcg(eval_preds, ground_truth)\n",
        "\n",
        "                print(prec_list, ndcg_list)\n",
        "\n",
        "                ndcgs.extend(ndcg_list)\n",
        "                precs.extend(prec_list)\n",
        "\n",
        "        mean_prec: float = sum(precs) / len(precs)\n",
        "        mean_ndcgs: float = sum(ndcgs) / len(ndcgs)\n",
        "\n",
        "\n",
        "        return mean_prec, mean_ndcgs"
      ]
    },
    {
      "cell_type": "markdown",
      "metadata": {
        "id": "VUYEe5iHbTHs"
      },
      "source": [
        "Creating the dataloaders for the test set"
      ]
    },
    {
      "cell_type": "code",
      "execution_count": 43,
      "metadata": {
        "colab": {
          "base_uri": "https://localhost:8080/"
        },
        "id": "9h7NRo3Ggt3h",
        "outputId": "1851f8d2-be5d-463c-e157-f6927c25999e"
      },
      "outputs": [
        {
          "output_type": "execute_result",
          "data": {
            "text/plain": [
              "DAE()"
            ]
          },
          "metadata": {},
          "execution_count": 43
        }
      ],
      "source": [
        "conf_test = conf_train.copy()\n",
        "conf_test[\"batch\"] = 10\n",
        "conf_test[\"initval\"] = FINE_TUNED_BEST_PARAMS_PATH\n",
        "\n",
        "dae_model_test = DAE(conf_test)\n",
        "dae_model_test.init_weight()\n",
        "dae_model_test.eval()"
      ]
    },
    {
      "cell_type": "code",
      "execution_count": 44,
      "metadata": {
        "id": "O6ZXFlX1fDP4"
      },
      "outputs": [],
      "source": [
        "torch.cuda.empty_cache()"
      ]
    },
    {
      "cell_type": "code",
      "execution_count": 90,
      "metadata": {
        "colab": {
          "base_uri": "https://localhost:8080/",
          "height": 1000,
          "referenced_widgets": [
            "24181ccbc508497c8d91bc62977c7a57",
            "6bd1013ec55d4fed9d444fc863743609",
            "b98501d8e518406ebdb731e7d362f82d",
            "ada3f3131dda4b2181bbfabccea3d351",
            "d7ce340cf9154816a1503105908334ec",
            "cadcde31d164405a87e92ab2bb611b42",
            "81729cc12a754bd582c4b06cdd9d4356",
            "de3aa2009fcb452f93c5ff5dc4eca20a",
            "d0a730242456422bb38ffc4e9a0c40f6",
            "998ffffa3742403d9adef377f9c354fb",
            "e5507d89c0cf482c8fc7881fd1ca9672"
          ]
        },
        "id": "hRZ9w5nr5TaK",
        "outputId": "64fc642c-dffe-4f4b-e113-7fa17e48cf51"
      },
      "outputs": [
        {
          "output_type": "display_data",
          "data": {
            "text/plain": [
              "Testing...:   0%|          | 0/100 [00:00<?, ?it/s]"
            ],
            "application/vnd.jupyter.widget-view+json": {
              "version_major": 2,
              "version_minor": 0,
              "model_id": "24181ccbc508497c8d91bc62977c7a57"
            }
          },
          "metadata": {}
        },
        {
          "output_type": "stream",
          "name": "stdout",
          "text": [
            "[0.05555555555555555, 0.125, 0.041666666666666664, 0.0, 0.125, 0.0, 0.0, 0.0, 0.0, 0.07142857142857142] [0.24669590058350502, 0.48844869021887866, 0.2481701025688705, 0.25494009704213544, 0.3441765032547527, 0.24222218419765512, 0.29858136254584705, 0.2006198654308168, 0.34273277704678073, 0.3054803831567883]\n",
            "[0.0, 0.0, 0.3076923076923077, 0.16666666666666666, 0.0, 0.1875, 0.0, 0.3333333333333333, 0.0, 0.2727272727272727] [0.34490751770904554, 0.17376534287144002, 0.4871422470933762, 0.38088965559024307, 0.29354589725917557, 0.517971765734616, 0.25622443346738993, 0.42816837974670086, 0.0, 0.5898112858511119]\n",
            "[0.1111111111111111, 0.3333333333333333, 0.07142857142857142, 0.0, 0.0, 0.29411764705882354, 0.034482758620689655, 0.2222222222222222, 0.04, 0.13333333333333333] [0.35319319654154907, 0.5589357446138739, 0.2442151344468769, 0.15957141566993818, 0.14053978940237738, 0.4229385028201407, 0.24909733566383546, 0.3806250963701585, 0.30479204413986005, 0.5229191558747345]\n",
            "[0.13043478260869565, 0.2857142857142857, 0.23636363636363636, 0.3076923076923077, 0.29411764705882354, 0.0, 0.06666666666666667, 0.0425531914893617, 0.14285714285714285, 0.2727272727272727] [0.5595703763718731, 0.5193147337367077, 0.5915389774328976, 0.4491077848791165, 0.4204508165906017, 0.31801422845023813, 0.2999851828360872, 0.2772890728104902, 0.33280421370561153, 0.5108005229262983]\n",
            "[0.0, 0.037037037037037035, 0.0, 0.14285714285714285, 0.0, 0.0, 0.3695652173913043, 0.0, 0.23809523809523808, 0.5] [0.17342225579341447, 0.2764760148545604, 0.0, 0.5090157876341501, 0.20444512717747873, 0.2759516509608542, 0.5889983740545288, 0.12269942519013446, 0.4757246454970777, 0.6043690406893177]\n",
            "[0.0, 0.12195121951219512, 0.3404255319148936, 0.16666666666666666, 0.16666666666666666, 0.3181818181818182, 0.3333333333333333, 0.0, 0.3333333333333333, 0.0] [0.25986628758188224, 0.5123889447815845, 0.6582328215053023, 0.36609545565931556, 1.0, 0.5493714198407832, 0.36323288826795425, 0.11329456824939788, 0.5324748994425359, 0.29073204534450003]\n",
            "[0.12, 0.13636363636363635, 0.3018867924528302, 0.08108108108108109, 0.10344827586206896, 0.11764705882352941, 0.09523809523809523, 0.0, 0.35294117647058826, 0.0] [0.4897571074811102, 0.4038817568694272, 0.575300419057366, 0.3570166585768381, 0.3980478576252801, 0.3072483217596044, 0.3290631651688854, 0.17647036825095602, 0.4504082618639913, 0.0]\n",
            "[0.16216216216216217, 0.1111111111111111, 0.1875, 0.10526315789473684, 0.3333333333333333, 0.0, 0.21739130434782608, 0.05263157894736842, 0.12195121951219512, 0.0] [0.5454473304236321, 0.2728235141553462, 0.5290754093305536, 0.3907308828008769, 0.4055841300037684, 0.1950442247618532, 0.4601762507352904, 0.2346506155791028, 0.43251770087042224, 0.19397130555531944]\n",
            "[0.5121951219512195, 0.5, 0.21428571428571427, 0.14285714285714285, 0.5, 0.04, 0.3, 0.19047619047619047, 0.3076923076923077, 0.14285714285714285] [0.5901273562338583, 0.5714044426992019, 0.3385060319756045, 0.31023111095294276, 0.21685462438595834, 0.3206716994862817, 0.3836372292711889, 0.5374021017441334, 0.6297671584728411, 0.3115980809805175]\n",
            "[0.043478260869565216, 0.32653061224489793, 0.0, 0.0, 0.125, 0.0, 0.0392156862745098, 0.09375, 0.1111111111111111, 0.0] [0.19505145572629345, 0.5397344662628629, 0.0, 0.18384100911470272, 0.2710860383472014, 0.26620410441187015, 0.3656105313949759, 0.3079829869208902, 0.3210486670667778, 0.26182456143584465]\n",
            "[0.0, 0.3333333333333333, 0.06451612903225806, 0.0, 0.0, 0.0, 0.10714285714285714, 0.0, 0.16666666666666666, 0.0] [0.1873950142422871, 0.27743162204010263, 0.34421118558261904, 0.13423947581860385, 0.2519362538182907, 0.22986448001217144, 0.39890417789964516, 0.17468962696482804, 0.4719338412262473, 0.16604764621593782]\n",
            "[0.2222222222222222, 0.14516129032258066, 0.2, 0.0, 0.0, 0.15384615384615385, 0.1111111111111111, 0.6388888888888888, 0.29411764705882354, 0.5] [0.35885476888627077, 0.47486530018592427, 0.5377124735397333, 0.0, 0.20364880211024403, 0.464764198436768, 0.30582855152148214, 0.6178958265845733, 0.47263835402321147, 0.33723882202662697]\n",
            "[0.3, 0.2222222222222222, 0.25, 0.09090909090909091, 0.25, 0.1, 0.15384615384615385, 0.21052631578947367, 0.1935483870967742, 0.36363636363636365] [0.3742200561945085, 0.5230383706353884, 0.5182938132856197, 0.2826051419818782, 0.4217607753219312, 0.36695920898045525, 0.3480964083554835, 0.4108981156855554, 0.5366884702982351, 0.5721210617471614]\n",
            "[0.0, 0.3333333333333333, 0.4444444444444444, 0.0, 0.2727272727272727, 0.3157894736842105, 0.15384615384615385, 0.0, 0.3333333333333333, 0.13333333333333333] [0.0, 0.31934557787495127, 0.5959181762040845, 0.24009970508268383, 0.43270163008347445, 0.527515495511778, 0.4733888290820152, 0.25, 0.31383339981741304, 0.40364879279987853]\n",
            "[0.06060606060606061, 0.20833333333333334, 0.17391304347826086, 0.2, 0.0, 0.0, 0.0, 0.0, 0.25, 0.0] [0.28953121697369316, 0.5469048613131213, 0.382811599597412, 0.4638300293180815, 0.24120684155171368, 0.2190658251155585, 0.18480391420640208, 0.1387352928072646, 0.5050026891736441, 0.14833566670536175]\n",
            "[0.0, 0.0, 0.18181818181818182, 0.0, 0.0, 0.6956521739130435, 0.058823529411764705, 0.0, 0.0, 0.0] [0.29428539353806243, 0.24093119732303847, 0.3753096639991711, 0.12300210482275553, 0.3136190951531078, 0.6477061856195137, 0.15162428769848382, 0.2194159384310718, 0.2916012778313495, 0.12829697788094419]\n",
            "[0.0, 0.0, 0.14285714285714285, 0.0, 0.125, 0.030303030303030304, 0.0, 0.0, 0.125, 0.8] [0.27137723568042654, 0.0, 0.3695652247199667, 0.17682175663794297, 0.3442293685813929, 0.3033221753493862, 0.14505115788955059, 0.2286383518295579, 0.2254363033522464, 0.5445257766635933]\n",
            "[0.2, 0.058823529411764705, 0.0, 0.0, 0.20833333333333334, 0.05263157894736842, 0.21739130434782608, 0.10526315789473684, 0.09090909090909091, 0.2608695652173913] [0.4173624003309819, 0.27272989318391017, 0.0, 0.16668652053731453, 0.5703365100840858, 0.2700686630397779, 0.4421141830266141, 0.36528187255541844, 0.27635192759541677, 0.4206413834210771]\n",
            "[0.09090909090909091, 0.11538461538461539, 0.0, 0.13636363636363635, 0.13333333333333333, 0.13333333333333333, 0.18181818181818182, 0.15151515151515152, 0.2727272727272727, 0.14285714285714285] [0.26507457036648957, 0.3699112645176462, 0.1538665727205646, 0.4804341900590322, 0.3544792241765293, 0.3312958438532802, 0.3635526738747209, 0.43309606322927224, 0.36661139676304677, 0.23094970426296715]\n",
            "[0.0, 0.25925925925925924, 0.09523809523809523, 0.37037037037037035, 0.21739130434782608, 0.0, 0.125, 0.375, 0.09090909090909091, 0.3076923076923077] [0.23540891336663824, 0.5595596573455571, 0.5608433427533797, 0.7179194283243471, 0.5611481648426919, 0.0, 0.5564264864236577, 0.5440536588773263, 0.271242880853657, 0.47619754620443266]\n",
            "[0.14285714285714285, 0.0, 0.16666666666666666, 0.0, 0.125, 0.2, 0.13513513513513514, 0.3, 0.14285714285714285, 0.0] [0.27975145766193843, 0.0, 0.41888651119893666, 0.1563035292903312, 0.33066883978662054, 0.4007745069733736, 0.38574123958428574, 0.5183607535684389, 0.28455238441741854, 0.0]\n",
            "[0.2222222222222222, 0.08333333333333333, 0.0, 0.06666666666666667, 0.3, 0.0, 0.022222222222222223, 0.8214285714285714, 0.0, 0.38461538461538464] [0.3883278463185506, 0.3913105361528729, 0.22245789018331855, 0.2662092496528265, 0.4307854534726193, 0.12456548450209481, 0.3051675584829219, 0.5681854536540853, 0.0, 0.5936050276397645]\n",
            "[0.14285714285714285, 0.0, 0.0, 0.25, 0.7272727272727273, 0.18518518518518517, 0.25, 0.14285714285714285, 0.15, 0.19444444444444445] [0.4887886206770919, 0.0, 0.2467388138823154, 0.0, 0.42019685280325453, 0.3922038179770687, 0.40606803229819405, 0.34686082846943594, 0.4080999138048244, 0.4139729798650073]\n",
            "[0.0, 0.1875, 0.5, 0.16666666666666666, 0.16666666666666666, 0.0, 0.05714285714285714, 0.2, 0.37254901960784315, 0.25] [0.22618647067332762, 0.39177857947100886, 1.0, 0.2845249518402624, 0.2464300629727871, 0.2509271089912277, 0.23301222909720223, 0.5308031558224253, 0.5680926493576628, 0.4546746261154548]\n",
            "[0.2, 0.0, 0.14285714285714285, 0.14285714285714285, 0.2, 0.4, 0.3333333333333333, 0.06666666666666667, 0.1111111111111111, 0.14285714285714285] [0.3787975609578456, 0.46747391988591014, 0.3613571548715925, 0.4828827993905235, 0.38155320263935033, 0.28376558278548325, 0.40056504847173885, 0.37000465706220903, 0.3349624123088398, 0.2804416411922891]\n",
            "[0.14754098360655737, 0.0625, 0.13636363636363635, 0.08333333333333333, 0.058823529411764705, 0.045454545454545456, 0.09090909090909091, 0.1875, 0.0, 0.06451612903225806] [0.4739878790203885, 0.316995354899543, 0.49900187965108717, 0.22449587082439224, 0.28748093045886347, 0.2717493828095369, 0.3544009437801171, 0.46726657540927086, 0.0, 0.22918245991956102]\n",
            "[0.0, 0.24242424242424243, 0.05263157894736842, 0.045454545454545456, 0.0, 0.0, 0.0, 0.23076923076923078, 0.125, 0.125] [0.1468999356504447, 0.47160502623322714, 0.29121742385254273, 0.3265168604641511, 0.0, 0.18564412999340413, 0.0, 0.37908571568485805, 0.4624432580256963, 0.2876669835918902]\n",
            "[0.14285714285714285, 0.0, 0.11363636363636363, 0.0, 0.16666666666666666, 0.0, 0.3783783783783784, 0.0, 0.0, 0.0] [0.2822456769453696, 0.0, 0.3313511523583297, 0.0, 0.4599522302602532, 0.1623508141565482, 0.614802444915147, 0.17107567735056672, 0.13797047475229052, 0.2014836674128172]\n",
            "[0.3333333333333333, 0.08333333333333333, 0.0, 0.3333333333333333, 0.1, 0.05263157894736842, 0.0, 0.25, 0.11764705882352941, 0.0] [0.5002189673001005, 0.35904202072839114, 0.14972662839958942, 0.35744845236558515, 0.4292585335446147, 0.23299153361337202, 0.15771823713643285, 0.4619279316073964, 0.3864844577336993, 0.27074787702185843]\n",
            "[0.2, 0.26666666666666666, 0.0, 0.13333333333333333, 0.08333333333333333, 0.0, 0.2, 0.1111111111111111, 0.0, 0.25] [0.5486749891243827, 0.4493667574809785, 0.0, 0.40582073133095975, 0.3244068680622949, 0.14482871285607837, 0.3224606040814026, 0.3403220019312244, 0.3173575897775913, 0.38102955817976286]\n",
            "[0.13636363636363635, 0.1, 0.0, 0.09090909090909091, 0.0, 0.0, 0.0, 0.0, 0.0, 0.16666666666666666] [0.4213212370001723, 0.3855339488455664, 0.1392734449846552, 0.2404988553166138, 0.16169828832250707, 0.26907129872201385, 0.22986998073510317, 0.13146844743258668, 0.11366656890143952, 0.3766990044620389]\n",
            "[0.1111111111111111, 0.18604651162790697, 0.125, 0.0, 0.25, 0.17391304347826086, 0.16279069767441862, 0.0, 0.0, 0.26666666666666666] [0.38894406770873724, 0.47551860512482635, 0.29788108211046227, 0.3633183380104945, 0.2898978665829849, 0.46604565984945345, 0.4438799033296394, 0.1781035935540111, 0.15169030046788168, 0.48871816699908]\n",
            "[0.1111111111111111, 0.1951219512195122, 0.08, 0.4, 0.21428571428571427, 0.5, 0.2222222222222222, 0.0, 0.14285714285714285, 0.0] [0.40752399400959466, 0.4338796751264875, 0.36226464678438897, 0.4399132738850907, 0.5254322235638098, 0.45174662224185524, 0.326073012524847, 0.0, 0.1269510098165134, 0.11544973661438214]\n",
            "[0.0, 0.058823529411764705, 0.0, 0.0, 0.09090909090909091, 0.3333333333333333, 0.1111111111111111, 0.2222222222222222, 0.07407407407407407, 0.14285714285714285] [0.1798577758377493, 0.3136948016547393, 0.32924521136376267, 0.0, 0.33949407906534945, 0.33559769751071566, 0.5119338106297511, 0.38163888207377483, 0.4792026430780368, 0.329985580686202]\n",
            "[0.10256410256410256, 0.07692307692307693, 0.25806451612903225, 0.0, 0.0, 0.0, 0.05, 0.06451612903225806, 0.0, 0.09375] [0.5066168871838125, 0.3001381354568106, 0.6146090427060945, 0.3315756098417554, 0.14628841843161847, 0.16746712231536193, 0.2386985402130052, 0.43351766414340137, 0.0, 0.4042281678237075]\n",
            "[0.0, 0.0, 0.058823529411764705, 0.16129032258064516, 0.125, 0.13043478260869565, 0.0, 0.125, 0.3888888888888889, 0.4406779661016949] [0.0, 0.13021714843227464, 0.28246664776711383, 0.5281444468326216, 0.31880448358190266, 0.38356414289693413, 0.3274192344930677, 0.4796963891712374, 0.6061821179488697, 0.7012369669721186]\n",
            "[0.08333333333333333, 0.11764705882352941, 0.058823529411764705, 0.09090909090909091, 0.04, 0.08695652173913043, 0.2857142857142857, 0.07692307692307693, 0.2857142857142857, 0.0] [0.2941289481635553, 0.4941976394629263, 0.32761529529674344, 0.3182228314113966, 0.29244917802094933, 0.46397192511293245, 0.39144126147215536, 0.2409411984823359, 0.5105231367007493, 0.12171741185797023]\n",
            "[0.0, 0.0, 0.2727272727272727, 0.0, 0.0, 0.0, 0.2, 0.0, 0.18181818181818182, 0.0] [0.2, 0.18554761295034017, 0.5544924016299942, 0.2582369697357122, 0.2537735040708514, 0.12845311499069892, 0.33710944588035086, 0.1296031853071527, 0.4417360742816708, 0.1549633027912878]\n",
            "[0.046511627906976744, 0.38461538461538464, 0.2857142857142857, 0.0625, 0.14285714285714285, 0.45454545454545453, 0.13333333333333333, 0.0, 0.0, 0.125] [0.4755302406733146, 0.4361970477235498, 0.37627765155843457, 0.2645794508443821, 0.3026133222269375, 0.7391321564243873, 0.29970382224982, 0.16616998586923626, 0.0, 0.31415211185871256]\n",
            "[0.3333333333333333, 0.14285714285714285, 0.16666666666666666, 0.1111111111111111, 0.10526315789473684, 0.0, 0.5, 0.0, 0.0, 0.15384615384615385] [0.3833272273608648, 0.3898402167888633, 0.4903569745800179, 0.4858858337028728, 0.3601439538330875, 0.14078938236969993, 0.4705235403295719, 0.0, 0.0, 0.5012842883169744]\n",
            "[0.2222222222222222, 0.35294117647058826, 0.047619047619047616, 0.14285714285714285, 0.0, 0.15, 0.0, 0.0, 0.0, 0.0] [0.34655364596678584, 0.5421094393791323, 0.2601996721606008, 0.2947885569285564, 0.20005078041809204, 0.46985479126356383, 0.0, 0.12766679963482608, 0.1530770636955688, 0.2635961592856057]\n",
            "[0.0, 0.05263157894736842, 0.25, 0.0, 0.28, 0.25, 0.1111111111111111, 0.3103448275862069, 0.23076923076923078, 0.24242424242424243] [0.19451874397112265, 0.32496169841346795, 0.45566719807576445, 0.22786398378308592, 0.5858361072103442, 0.39548816217608423, 0.3651306465567511, 0.5457479270815848, 0.5122890090677663, 0.5839197431885456]\n",
            "[0.16666666666666666, 0.0, 0.3333333333333333, 0.13333333333333333, 0.3, 0.2, 0.3333333333333333, 0.16666666666666666, 0.25925925925925924, 0.3225806451612903] [0.39178275671911794, 0.2844651769373387, 0.3051943704831694, 0.5287394012367896, 0.368976792346516, 0.48150523043121574, 0.4326071520096217, 0.3517733978245169, 0.5350422506062952, 0.45098384912730416]\n",
            "[0.0, 0.2727272727272727, 0.0, 0.10344827586206896, 0.16666666666666666, 0.25, 0.0, 0.07692307692307693, 0.0, 0.0625] [0.0, 0.3546575956126906, 0.12482481998286134, 0.3119391016362297, 0.5134584817092191, 0.38316465760297763, 0.26270459900969023, 0.42595594271520276, 0.0, 0.46706004513657046]\n",
            "[0.0, 0.3333333333333333, 0.18181818181818182, 0.1111111111111111, 0.1111111111111111, 0.0, 0.125, 0.08571428571428572, 0.0, 0.0] [0.198268538452858, 0.29573516867840366, 0.38808096732878616, 0.3364114247587112, 0.4529496252332764, 0.25956670256411285, 0.320897275097181, 0.38237820080106205, 0.2456355456323873, 0.32279571998010725]\n",
            "[0.03125, 0.0, 0.0, 0.5, 0.1388888888888889, 0.1, 0.125, 0.02, 0.4, 0.0] [0.27279624954012754, 0.2548672181498011, 0.2009669725773188, 0.5485870824097795, 0.3788183488454818, 0.35991457244023967, 0.6053802111614024, 0.2679861789820985, 0.4416452726816479, 0.0]\n",
            "[0.19444444444444445, 0.25, 0.23333333333333334, 0.0, 0.0, 0.2727272727272727, 0.25, 0.0, 0.06666666666666667, 0.14285714285714285] [0.43329425888159845, 0.43185719337975903, 0.5975578825854473, 0.2264049988036368, 0.1933048546847643, 0.5378438674596975, 0.5049200766689231, 0.22211153824306223, 0.3777313755485995, 0.504584491938221]\n",
            "[0.30434782608695654, 0.0, 0.2857142857142857, 0.0, 0.17647058823529413, 0.24444444444444444, 0.0, 0.0, 0.22727272727272727, 0.14285714285714285] [0.5444027819226568, 0.2905944569437707, 0.47431934258479064, 0.16376299024963042, 0.39738527533677215, 0.556226649266812, 0.16155546744299637, 0.12873021007115668, 0.41111342528085715, 0.47572371943336245]\n",
            "[0.0, 0.0, 0.0, 0.043478260869565216, 0.05714285714285714, 0.0, 0.1, 0.15789473684210525, 0.26, 0.3333333333333333] [0.20072050064689015, 0.17491047698998782, 0.0, 0.274459619403918, 0.45124392142640907, 0.0, 0.43067655807339306, 0.4712281927024794, 0.5092843814117397, 0.5264334776026057]\n",
            "[0.25, 0.25, 0.10204081632653061, 0.2727272727272727, 0.3333333333333333, 0.28125, 0.0, 0.13636363636363635, 0.18518518518518517, 0.6428571428571429] [0.6123570625467295, 0.45913107250913865, 0.431703370181654, 0.46215434775651326, 0.09968322620655935, 0.5109498871115352, 0.19531168708405844, 0.3815149897141738, 0.3933837084274936, 0.4839528720430586]\n",
            "[0.08, 0.2, 0.03225806451612903, 0.08333333333333333, 0.36363636363636365, 0.05, 0.2857142857142857, 0.14285714285714285, 0.13043478260869565, 0.0] [0.3418728861331275, 0.5215431966882147, 0.27023815442731974, 0.2778444849292263, 0.35817620172217834, 0.26624444085603727, 0.4276466193886771, 0.3701261795882096, 0.36600574987542606, 0.2745739684729509]\n",
            "[0.5, 0.24, 0.0625, 0.045454545454545456, 0.2, 0.24, 0.3076923076923077, 0.047619047619047616, 0.0, 0.0] [0.46548807355403443, 0.5098784109957913, 0.45519134784737814, 0.2977441977698584, 0.3375159488485152, 0.6151149246637513, 0.5237105470340176, 0.3178105108714101, 0.20624974543841146, 0.0]\n",
            "[0.15789473684210525, 0.0, 0.2413793103448276, 0.0, 0.35714285714285715, 0.016129032258064516, 0.0, 0.09090909090909091, 0.28, 0.2] [0.43035248400425236, 0.43067655807339306, 0.4054650944553023, 0.12521414204176604, 0.3916834855686692, 0.45363991572644274, 0.17873708062830296, 0.35678374789455114, 0.5188895479586446, 0.4098063619987698]\n",
            "[0.2777777777777778, 0.3076923076923077, 0.16666666666666666, 0.0625, 0.0, 0.0, 0.0, 0.0, 0.07017543859649122, 0.0] [0.5520000089160564, 0.46182188237373795, 0.3632492210446013, 0.2728847354507535, 0.15599686305068294, 0.156861774859441, 0.0, 0.23280093404218388, 0.34199552527697624, 0.0]\n",
            "[0.0, 0.21428571428571427, 0.0, 0.0, 0.14285714285714285, 0.2857142857142857, 0.3333333333333333, 0.18421052631578946, 0.2857142857142857, 0.0] [0.19851275970344204, 0.2707051626148586, 0.0, 0.4115577949793832, 0.4077781463151341, 0.33085545578680636, 0.5503863806666556, 0.4070715424497042, 0.272963991484987, 0.12405876719265406]\n",
            "[0.13333333333333333, 0.10810810810810811, 0.0, 0.0, 0.0, 0.1875, 0.09090909090909091, 0.05263157894736842, 0.0, 0.125] [0.39638838688646066, 0.3967741353652597, 0.19938178546825341, 0.0, 0.14897231568500593, 0.44859835149739113, 0.31044538235735086, 0.2512621797640636, 0.4793081870171374, 0.36198287736095835]\n",
            "[0.1875, 0.21052631578947367, 0.4, 0.175, 0.15, 0.0, 0.0, 0.08333333333333333, 0.1875, 0.0] [0.5266997749027346, 0.3130844204415021, 0.4171992325073515, 0.5290226151640832, 0.4298584250111332, 0.26993146873215207, 0.14026655943145866, 0.3137563835869274, 0.3764230808506308, 0.1763500287274406]\n",
            "[0.0, 0.2, 0.26666666666666666, 0.2857142857142857, 0.25, 0.14285714285714285, 0.23076923076923078, 0.0, 0.125, 0.125] [0.15393750244314763, 0.4952683538888135, 0.5993792206511517, 0.2656275958373869, 0.42208799111544526, 0.2692592030707748, 0.6184186718059063, 0.13815042675719272, 0.31992816636988436, 0.3976390844109955]\n",
            "[0.2, 0.25, 0.4444444444444444, 0.0, 0.25, 0.2571428571428571, 0.0, 0.0, 0.0, 0.05555555555555555] [0.3335164757073896, 0.6851625427768954, 0.5842746096069806, 0.2279891907011886, 0.5150656858817557, 0.467281977265427, 0.14195685009331532, 0.13575295390501496, 0.20540833472651196, 0.3275776431000946]\n",
            "[0.02857142857142857, 0.0, 0.0, 0.0, 0.0, 0.0, 0.08333333333333333, 0.17307692307692307, 0.0, 0.25] [0.2732428608028292, 0.27033150854915916, 0.23503772197183725, 0.0, 0.17376534287144002, 0.0, 0.4822312435711333, 0.4971432310300844, 0.2693142171466813, 0.21533827903669653]\n",
            "[0.0, 0.3125, 0.0, 0.5, 0.0, 0.0, 0.125, 0.0, 0.0, 0.0] [0.15618097190331884, 0.6033646516672896, 0.0, 0.5784077732455097, 0.13801360381384556, 0.2937214726551359, 0.30342466636172755, 0.0, 0.2816509346456773, 0.2563247675185968]\n",
            "[0.21212121212121213, 0.05, 0.07692307692307693, 0.0, 0.14285714285714285, 0.21428571428571427, 0.25, 0.0625, 0.0, 0.23076923076923078] [0.566351487836912, 0.30098365423839607, 0.47036689646164914, 0.0, 0.36331448248794035, 0.3629060188188002, 0.4996897025317531, 0.26251410347810167, 0.14321982579830428, 0.567146195461331]\n",
            "[0.3333333333333333, 0.0, 0.25, 0.0, 0.25, 0.0, 0.0, 0.0, 0.07142857142857142, 0.15384615384615385] [0.3730354346233284, 0.18794118223535897, 0.6371144171287473, 0.22870651799614003, 0.29234153065697016, 0.283834452378373, 0.18435784229839927, 0.11531291307380923, 0.26633043709544846, 0.3635588658284171]\n",
            "[0.0, 0.1111111111111111, 0.0, 0.0, 0.16666666666666666, 0.1, 0.15384615384615385, 0.0, 0.21428571428571427, 0.0] [0.0, 0.6312745923903212, 0.14231644751489916, 0.17685037062119052, 0.2722027500936965, 0.38364134254082516, 0.4561945441294983, 0.27561816109025605, 0.5617469781887249, 0.0]\n",
            "[0.25, 0.058823529411764705, 0.0, 0.2, 0.0, 0.05555555555555555, 0.16666666666666666, 0.12121212121212122, 0.0, 0.0] [0.4809418333052115, 0.1883467425375229, 0.20139732280149533, 0.32975902251250316, 0.28825682820175236, 0.4135202352877173, 0.3333333333333333, 0.4678751122879597, 0.0, 0.2248728255599274]\n",
            "[0.08333333333333333, 0.2, 0.14285714285714285, 0.625, 0.23529411764705882, 0.225, 0.42105263157894735, 0.0, 0.0, 0.14285714285714285] [0.2934339803331365, 0.32715545609513275, 0.32404793491331024, 0.33865413940335015, 0.6452097698528709, 0.5399839036548231, 0.518781608155663, 0.2154014147476737, 0.1267533081178473, 0.6870257511844412]\n",
            "[0.34782608695652173, 0.4444444444444444, 0.10256410256410256, 0.25, 0.3076923076923077, 0.125, 0.1724137931034483, 0.0, 0.0, 0.0] [0.6054442454297674, 0.6093313312319049, 0.43088630365127784, 0.3964496728674096, 0.37785326895760873, 0.1738278813761168, 0.5448366348018087, 0.0, 0.19912268710321795, 0.12951227071063923]\n",
            "[0.3333333333333333, 0.04, 0.0, 0.0, 0.04, 0.0, 0.0, 0.1836734693877551, 0.0, 0.0] [0.4625774671531733, 0.33717769492965716, 0.15796307918372676, 0.23438402532151167, 0.48956111468545777, 0.15035274735300988, 0.2481733706195917, 0.4788316942367736, 0.23204885084898583, 0.1331025207536793]\n",
            "[0.25, 0.0, 0.0, 0.0, 0.15384615384615385, 0.0, 0.0, 0.13636363636363635, 0.18181818181818182, 0.4] [0.4032270685023237, 0.0, 0.16245196498849085, 0.21730739414383365, 0.5064986050739422, 0.0, 0.27796276483191124, 0.5235789666913365, 0.44813290234642233, 0.41502855341059963]\n",
            "[0.0, 0.15384615384615385, 0.0, 0.2, 0.2, 0.0, 0.0, 0.0, 0.0, 0.0] [0.14833566670536175, 0.44794735686476916, 0.2559580248098155, 0.42202221629591813, 0.3305362016294706, 0.24332945532208905, 0.12282374052232026, 0.2191784593228487, 0.2796664761610332, 0.19650994744897562]\n",
            "[0.07142857142857142, 0.14285714285714285, 0.15384615384615385, 0.0, 0.0, 0.0, 0.0, 0.1, 0.1, 0.10810810810810811] [0.2795302127375974, 0.31841168556231453, 0.5329445073803628, 0.14141563789575182, 0.17478848684722403, 0.17783479879939923, 0.0, 0.2982616526966167, 0.3428484320248806, 0.405127242705968]\n",
            "[0.0, 0.16216216216216217, 0.14285714285714285, 0.0, 0.3333333333333333, 0.125, 0.10714285714285714, 0.09090909090909091, 0.15, 0.16666666666666666] [0.0, 0.39551875970759715, 0.3791770080334535, 0.2290625734970418, 0.45305939390190836, 0.291308620790643, 0.30757644511281884, 0.4751213376011184, 0.5094872412960556, 0.46391817240244604]\n",
            "[0.08333333333333333, 0.0, 0.0, 0.10714285714285714, 0.0, 0.17391304347826086, 0.0, 0.07692307692307693, 0.2, 0.2222222222222222] [0.3131838880010022, 0.21083625884859925, 0.0, 0.487922126618508, 0.26653464442398295, 0.4653373889966944, 0.0, 0.4001928919593411, 0.46381667310542585, 0.5180019201851265]\n",
            "[0.18, 0.0, 0.2647058823529412, 0.09090909090909091, 0.0, 0.28125, 0.06060606060606061, 0.18181818181818182, 0.42592592592592593, 0.045454545454545456] [0.4292715914732309, 0.12880663697777472, 0.6014968574392778, 0.2990290740400278, 0.24525290525172694, 0.4727431798775359, 0.3461324021795156, 0.5009235323098397, 0.5759019683718108, 0.44179567085929256]\n",
            "[0.16666666666666666, 0.07142857142857142, 0.0, 0.03333333333333333, 0.0, 0.16666666666666666, 0.17647058823529413, 0.06451612903225806, 0.0, 0.18181818181818182] [0.2220592185844843, 0.3427168874516226, 0.15316333669609977, 0.26105296398117045, 0.21556181769950022, 0.4275739623532933, 0.45384117042201483, 0.3258848734660827, 0.18100790694885432, 0.3206902692966967]\n",
            "[0.06666666666666667, 0.0, 0.16666666666666666, 0.5, 0.27586206896551724, 0.1111111111111111, 0.125, 0.05, 0.06666666666666667, 0.0] [0.29529867244534347, 0.2253755574479258, 0.5208521443758802, 0.5805223858782222, 0.5002225174025646, 0.28936883242636213, 0.3398335493935401, 0.3812701562236021, 0.3313203225713037, 0.2249647086210449]\n",
            "[0.625, 0.05405405405405406, 0.07692307692307693, 0.05263157894736842, 0.023809523809523808, 0.2, 0.2564102564102564, 0.0625, 0.3333333333333333, 0.09090909090909091] [0.5382874045800876, 0.1836497490390984, 0.3506795420077472, 0.2171848640189296, 0.43767636916227287, 0.49310784520499323, 0.5048288019408173, 0.4632797714109287, 0.39123328189772366, 0.5207545654915197]\n",
            "[0.09523809523809523, 0.0, 0.16666666666666666, 0.3333333333333333, 0.0, 0.3333333333333333, 0.29411764705882354, 0.06666666666666667, 0.16666666666666666, 0.0] [0.4913338868007024, 0.1620085487110132, 0.3823393707839309, 0.08213602498102512, 0.26662510335493966, 0.3873249610900858, 0.5273429631379117, 0.33810986805912097, 0.355056371877016, 0.14187344580525918]\n",
            "[0.3333333333333333, 0.0, 0.35714285714285715, 0.5789473684210527, 0.0, 0.11764705882352941, 0.2222222222222222, 0.0, 0.1111111111111111, 0.13953488372093023] [0.46056551884945657, 0.19621149695525975, 0.4708420579697046, 0.5615912090259809, 0.18648005947736473, 0.483761989426657, 0.649957773623073, 0.19226104870428048, 0.4850556656641102, 0.5698797369880091]\n",
            "[0.0, 0.0, 0.23076923076923078, 0.11475409836065574, 0.3333333333333333, 0.0, 0.0, 0.0, 0.0, 0.038461538461538464] [0.1672412146909971, 0.15453328755117357, 0.5089334168154495, 0.6383273668396493, 0.4530560796571971, 0.216995329086676, 0.28860654173278666, 0.17870063696280925, 0.26134878819693275, 0.325635658618039]\n",
            "[0.13333333333333333, 0.0, 0.07142857142857142, 0.3333333333333333, 0.125, 0.0, 0.0, 0.2857142857142857, 0.0, 0.25] [0.47226867599708466, 0.1940020794815415, 0.26785956822657964, 0.75, 0.4628743988657099, 0.16794877895704194, 0.18316925091363362, 0.3851631842947079, 0.3082322761748686, 0.2741645439526487]\n",
            "[0.0, 0.4166666666666667, 0.29411764705882354, 0.034482758620689655, 0.2857142857142857, 0.0, 0.0, 0.0, 0.18181818181818182, 0.0625] [0.23609907317274478, 0.6393581350510881, 0.3842480590231952, 0.3270272486264286, 0.5912218915160087, 0.14116641358562976, 0.22061179330470304, 0.0, 0.44838265191655496, 0.4147179184357979]\n",
            "[0.0, 0.0, 0.2727272727272727, 0.0, 0.3333333333333333, 0.45454545454545453, 0.23076923076923078, 0.0, 0.23809523809523808, 0.0] [0.2559580248098155, 0.16603637093533996, 0.5388817464742022, 0.0, 0.42886805998645317, 0.5989031333809025, 0.553183825140367, 0.23686200480843048, 0.582892948155661, 0.12364817244036919]\n",
            "[0.3333333333333333, 0.0, 0.0, 0.3333333333333333, 0.25, 0.125, 0.043478260869565216, 0.0, 0.05172413793103448, 0.25] [0.4227003573490284, 0.26597984084213294, 0.16237582743420823, 0.3889831240733785, 0.30904857011142883, 0.2936853180557704, 0.4586893870353327, 0.308990485272791, 0.2330451656797552, 0.6051549589285763]\n",
            "[0.4375, 0.125, 0.4, 0.2857142857142857, 0.25, 0.0, 0.35, 0.14285714285714285, 0.08333333333333333, 0.0] [0.6131709702787601, 0.21141913948564037, 0.4700228437397104, 0.5832297448735172, 0.3410249503009971, 0.11986137210314829, 0.4588746295151173, 0.34508500818338395, 0.232970546650761, 0.11215943571127349]\n",
            "[0.11764705882352941, 0.25, 0.0, 0.0, 0.16666666666666666, 0.0, 0.0, 0.0, 0.23076923076923078, 0.25] [0.33023622181610623, 0.396830334153107, 0.17299897098041184, 0.12303586338896805, 0.45802610794714554, 0.11301161015749278, 0.19957449143783104, 0.21026683302802057, 0.5448990356338677, 0.37880853445273793]\n",
            "[0.35714285714285715, 0.0, 0.0, 0.25, 0.0, 0.0, 0.16666666666666666, 0.16, 0.0, 0.15384615384615385] [0.5650579741010592, 0.18642099465749207, 0.12110665775010143, 0.3103184230231513, 0.17413937846797126, 0.22286769511685842, 0.499926706723946, 0.34886269278433196, 0.26675078527897955, 0.5135712542410212]\n",
            "[0.14285714285714285, 0.0, 0.07692307692307693, 0.0, 0.3181818181818182, 0.2222222222222222, 0.047619047619047616, 0.3888888888888889, 0.5, 0.1111111111111111] [1.0, 0.18807357920588455, 0.24730682901213666, 0.20673305681484871, 0.5085825481225575, 0.4043852182647927, 0.35771799680372146, 0.4754730898763638, 0.5690054861134795, 0.44199215532627684]\n",
            "[0.0, 0.16666666666666666, 0.0, 0.08333333333333333, 0.1111111111111111, 0.3, 0.20833333333333334, 0.05263157894736842, 0.0, 0.17647058823529413] [0.24987373575309246, 0.5131830426923114, 0.14177988502937042, 0.2331930308894999, 0.324710063035452, 0.37222808612179187, 0.5077651866232862, 0.5921444165743531, 0.20432241128218043, 0.3417930980020566]\n",
            "[0.2777777777777778, 0.0, 0.2222222222222222, 0.0, 0.0, 0.0, 0.5, 0.14285714285714285, 1.0, 0.0] [0.46158255924526437, 0.13749214407974142, 0.5134770025183294, 0.224862255955705, 0.1161800423067963, 0.0, 1.0, 0.32543213499600926, 0.3260281962221817, 0.16022716384503652]\n",
            "[0.0, 0.25, 0.4166666666666667, 0.0, 0.5, 0.0, 0.0, 0.058823529411764705, 0.375, 0.23255813953488372] [0.2361158473379476, 0.42685103497805127, 0.6126738095251199, 0.17726562562437514, 0.4644107751545646, 0.2521347283631315, 0.250537360197403, 0.2743015323238878, 0.39630712520210326, 0.4721558932114272]\n",
            "[0.25, 0.0, 0.0, 0.0, 0.0, 0.0, 0.0, 0.16326530612244897, 0.3333333333333333, 0.0] [0.2986011950271514, 0.2988475433670875, 0.14909714972440408, 0.19712134817361815, 0.19443150656847374, 0.16981985532862306, 0.0, 0.49384493607885066, 0.41248573366517877, 0.0]\n",
            "[0.0, 0.3076923076923077, 0.125, 0.14285714285714285, 0.0, 0.05555555555555555, 0.8723404255319149, 0.06779661016949153, 0.22580645161290322, 0.0625] [0.22411993158528026, 0.6438956136462942, 0.4767598544828566, 0.2386418240539306, 0.29966180566536754, 0.3040836515197611, 0.6139801176326498, 0.42410061736463306, 0.44019412114485246, 0.2846056588032948]\n",
            "[0.16666666666666666, 0.0, 0.14285714285714285, 0.058823529411764705, 0.2857142857142857, 0.13333333333333333, 0.26666666666666666, 0.20833333333333334, 0.07142857142857142, 0.07142857142857142] [0.31248472052201004, 0.2040882871571549, 0.35198179229050486, 0.18540748853530198, 0.23538757050327133, 0.3278355782098568, 0.6402836789634622, 0.38143814580588553, 0.31546487678572877, 0.28875329951683143]\n",
            "[0.1, 0.3684210526315789, 0.04878048780487805, 0.2, 0.0, 0.0, 0.0, 0.5625, 0.19047619047619047, 0.1] [0.5209295952341987, 0.4132060718130468, 0.41693201681482295, 0.3704824817943362, 0.0, 0.25300210157396547, 0.24498476740732286, 0.5941457019226054, 0.5647169834089099, 0.2508861084499393]\n",
            "[0.15384615384615385, 0.0, 0.1111111111111111, 0.3333333333333333, 0.2972972972972973, 0.21739130434782608, 0.3, 0.0, 0.17647058823529413, 0.2857142857142857] [0.2972039112184293, 0.1322359088617821, 0.2561519383256688, 0.27781468112858115, 0.5089224593722936, 0.42905566757031127, 0.6360483509184667, 0.14262838210336, 0.5238262834025668, 0.5646095222268975]\n",
            "[0.0, 0.0, 0.0, 0.0, 0.04, 0.0, 0.2916666666666667, 0.18421052631578946, 0.0, 0.16] [0.16233253431834493, 0.18192406017266377, 0.18475477734825152, 0.15868714314769677, 0.37505153398952723, 0.1952837240369555, 0.4329696288269779, 0.6620218169940544, 0.2338818700195402, 0.4205189796387216]\n",
            "[0.16666666666666666, 0.10526315789473684, 0.36666666666666664, 0.16071428571428573, 0.4, 0.9285714285714286, 0.0, 0.0, 0.0, 0.0] [0.33295878564305476, 0.43463213919419624, 0.5736345375588587, 0.5092023514343653, 0.31142068624932934, 0.4992874309742525, 0.0, 0.2097042632244109, 0.1726045867084776, 0.0]\n",
            "[0.3333333333333333, 0.375, 0.16666666666666666, 0.0, 0.0, 0.0, 0.09375, 0.0, 0.0, 0.0] [0.4743617113528857, 0.376247261769955, 0.2868755955981019, 0.2226019555610214, 0.1904632524374463, 0.21161543744894476, 0.3886341239591092, 0.21314241314645643, 0.24651419778878222, 0.2162901198373307]\n",
            "[0.0, 0.0, 0.14893617021276595, 0.08333333333333333, 0.19298245614035087, 0.13636363636363635, 0.1, 0.08333333333333333, 0.3333333333333333, 0.05405405405405406] [0.24726065313178539, 0.0, 0.3864483439734729, 0.3765906332896057, 0.43888992063702587, 0.354757390479842, 0.5267925517511662, 0.2365941593265173, 0.39955648816205797, 0.4229825209749351]\n",
            "[] [0.3233767905862479, 0.4582285610758032, 0.17251265039937544, 0.48659294573179473, 0.3118091918495076, 0.47371129146202434, 0.4241340093853611, 0.3531164724478927]\n"
          ]
        }
      ],
      "source": [
        "mean_prec, mean_ndcg = perform_evaluation(dae_model_test)"
      ]
    },
    {
      "cell_type": "code",
      "execution_count": 91,
      "metadata": {
        "colab": {
          "base_uri": "https://localhost:8080/"
        },
        "id": "qPfJQI-pfONo",
        "outputId": "b6ce2d78-d100-49a3-ff84-3289097b679c"
      },
      "outputs": [
        {
          "output_type": "execute_result",
          "data": {
            "text/plain": [
              "(0.13272003915706643, 0.33434479988039556)"
            ]
          },
          "metadata": {},
          "execution_count": 91
        }
      ],
      "source": [
        "mean_prec, mean_ndcg"
      ]
    }
  ],
  "metadata": {
    "colab": {
      "collapsed_sections": [
        "XvQ6e0PgCOZg"
      ],
      "gpuType": "T4",
      "machine_shape": "hm",
      "provenance": [],
      "toc_visible": true
    },
    "kernelspec": {
      "display_name": "Python 3",
      "name": "python3"
    },
    "language_info": {
      "codemirror_mode": {
        "name": "ipython",
        "version": 3
      },
      "file_extension": ".py",
      "mimetype": "text/x-python",
      "name": "python",
      "nbconvert_exporter": "python",
      "pygments_lexer": "ipython3",
      "version": "3.10.9"
    },
    "widgets": {
      "application/vnd.jupyter.widget-state+json": {
        "24181ccbc508497c8d91bc62977c7a57": {
          "model_module": "@jupyter-widgets/controls",
          "model_name": "HBoxModel",
          "model_module_version": "1.5.0",
          "state": {
            "_dom_classes": [],
            "_model_module": "@jupyter-widgets/controls",
            "_model_module_version": "1.5.0",
            "_model_name": "HBoxModel",
            "_view_count": null,
            "_view_module": "@jupyter-widgets/controls",
            "_view_module_version": "1.5.0",
            "_view_name": "HBoxView",
            "box_style": "",
            "children": [
              "IPY_MODEL_6bd1013ec55d4fed9d444fc863743609",
              "IPY_MODEL_b98501d8e518406ebdb731e7d362f82d",
              "IPY_MODEL_ada3f3131dda4b2181bbfabccea3d351"
            ],
            "layout": "IPY_MODEL_d7ce340cf9154816a1503105908334ec"
          }
        },
        "6bd1013ec55d4fed9d444fc863743609": {
          "model_module": "@jupyter-widgets/controls",
          "model_name": "HTMLModel",
          "model_module_version": "1.5.0",
          "state": {
            "_dom_classes": [],
            "_model_module": "@jupyter-widgets/controls",
            "_model_module_version": "1.5.0",
            "_model_name": "HTMLModel",
            "_view_count": null,
            "_view_module": "@jupyter-widgets/controls",
            "_view_module_version": "1.5.0",
            "_view_name": "HTMLView",
            "description": "",
            "description_tooltip": null,
            "layout": "IPY_MODEL_cadcde31d164405a87e92ab2bb611b42",
            "placeholder": "​",
            "style": "IPY_MODEL_81729cc12a754bd582c4b06cdd9d4356",
            "value": "Testing...: "
          }
        },
        "b98501d8e518406ebdb731e7d362f82d": {
          "model_module": "@jupyter-widgets/controls",
          "model_name": "FloatProgressModel",
          "model_module_version": "1.5.0",
          "state": {
            "_dom_classes": [],
            "_model_module": "@jupyter-widgets/controls",
            "_model_module_version": "1.5.0",
            "_model_name": "FloatProgressModel",
            "_view_count": null,
            "_view_module": "@jupyter-widgets/controls",
            "_view_module_version": "1.5.0",
            "_view_name": "ProgressView",
            "bar_style": "success",
            "description": "",
            "description_tooltip": null,
            "layout": "IPY_MODEL_de3aa2009fcb452f93c5ff5dc4eca20a",
            "max": 100,
            "min": 0,
            "orientation": "horizontal",
            "style": "IPY_MODEL_d0a730242456422bb38ffc4e9a0c40f6",
            "value": 100
          }
        },
        "ada3f3131dda4b2181bbfabccea3d351": {
          "model_module": "@jupyter-widgets/controls",
          "model_name": "HTMLModel",
          "model_module_version": "1.5.0",
          "state": {
            "_dom_classes": [],
            "_model_module": "@jupyter-widgets/controls",
            "_model_module_version": "1.5.0",
            "_model_name": "HTMLModel",
            "_view_count": null,
            "_view_module": "@jupyter-widgets/controls",
            "_view_module_version": "1.5.0",
            "_view_name": "HTMLView",
            "description": "",
            "description_tooltip": null,
            "layout": "IPY_MODEL_998ffffa3742403d9adef377f9c354fb",
            "placeholder": "​",
            "style": "IPY_MODEL_e5507d89c0cf482c8fc7881fd1ca9672",
            "value": " 101/? [02:03&lt;00:00,  1.25s/it]"
          }
        },
        "d7ce340cf9154816a1503105908334ec": {
          "model_module": "@jupyter-widgets/base",
          "model_name": "LayoutModel",
          "model_module_version": "1.2.0",
          "state": {
            "_model_module": "@jupyter-widgets/base",
            "_model_module_version": "1.2.0",
            "_model_name": "LayoutModel",
            "_view_count": null,
            "_view_module": "@jupyter-widgets/base",
            "_view_module_version": "1.2.0",
            "_view_name": "LayoutView",
            "align_content": null,
            "align_items": null,
            "align_self": null,
            "border": null,
            "bottom": null,
            "display": null,
            "flex": null,
            "flex_flow": null,
            "grid_area": null,
            "grid_auto_columns": null,
            "grid_auto_flow": null,
            "grid_auto_rows": null,
            "grid_column": null,
            "grid_gap": null,
            "grid_row": null,
            "grid_template_areas": null,
            "grid_template_columns": null,
            "grid_template_rows": null,
            "height": null,
            "justify_content": null,
            "justify_items": null,
            "left": null,
            "margin": null,
            "max_height": null,
            "max_width": null,
            "min_height": null,
            "min_width": null,
            "object_fit": null,
            "object_position": null,
            "order": null,
            "overflow": null,
            "overflow_x": null,
            "overflow_y": null,
            "padding": null,
            "right": null,
            "top": null,
            "visibility": null,
            "width": null
          }
        },
        "cadcde31d164405a87e92ab2bb611b42": {
          "model_module": "@jupyter-widgets/base",
          "model_name": "LayoutModel",
          "model_module_version": "1.2.0",
          "state": {
            "_model_module": "@jupyter-widgets/base",
            "_model_module_version": "1.2.0",
            "_model_name": "LayoutModel",
            "_view_count": null,
            "_view_module": "@jupyter-widgets/base",
            "_view_module_version": "1.2.0",
            "_view_name": "LayoutView",
            "align_content": null,
            "align_items": null,
            "align_self": null,
            "border": null,
            "bottom": null,
            "display": null,
            "flex": null,
            "flex_flow": null,
            "grid_area": null,
            "grid_auto_columns": null,
            "grid_auto_flow": null,
            "grid_auto_rows": null,
            "grid_column": null,
            "grid_gap": null,
            "grid_row": null,
            "grid_template_areas": null,
            "grid_template_columns": null,
            "grid_template_rows": null,
            "height": null,
            "justify_content": null,
            "justify_items": null,
            "left": null,
            "margin": null,
            "max_height": null,
            "max_width": null,
            "min_height": null,
            "min_width": null,
            "object_fit": null,
            "object_position": null,
            "order": null,
            "overflow": null,
            "overflow_x": null,
            "overflow_y": null,
            "padding": null,
            "right": null,
            "top": null,
            "visibility": null,
            "width": null
          }
        },
        "81729cc12a754bd582c4b06cdd9d4356": {
          "model_module": "@jupyter-widgets/controls",
          "model_name": "DescriptionStyleModel",
          "model_module_version": "1.5.0",
          "state": {
            "_model_module": "@jupyter-widgets/controls",
            "_model_module_version": "1.5.0",
            "_model_name": "DescriptionStyleModel",
            "_view_count": null,
            "_view_module": "@jupyter-widgets/base",
            "_view_module_version": "1.2.0",
            "_view_name": "StyleView",
            "description_width": ""
          }
        },
        "de3aa2009fcb452f93c5ff5dc4eca20a": {
          "model_module": "@jupyter-widgets/base",
          "model_name": "LayoutModel",
          "model_module_version": "1.2.0",
          "state": {
            "_model_module": "@jupyter-widgets/base",
            "_model_module_version": "1.2.0",
            "_model_name": "LayoutModel",
            "_view_count": null,
            "_view_module": "@jupyter-widgets/base",
            "_view_module_version": "1.2.0",
            "_view_name": "LayoutView",
            "align_content": null,
            "align_items": null,
            "align_self": null,
            "border": null,
            "bottom": null,
            "display": null,
            "flex": null,
            "flex_flow": null,
            "grid_area": null,
            "grid_auto_columns": null,
            "grid_auto_flow": null,
            "grid_auto_rows": null,
            "grid_column": null,
            "grid_gap": null,
            "grid_row": null,
            "grid_template_areas": null,
            "grid_template_columns": null,
            "grid_template_rows": null,
            "height": null,
            "justify_content": null,
            "justify_items": null,
            "left": null,
            "margin": null,
            "max_height": null,
            "max_width": null,
            "min_height": null,
            "min_width": null,
            "object_fit": null,
            "object_position": null,
            "order": null,
            "overflow": null,
            "overflow_x": null,
            "overflow_y": null,
            "padding": null,
            "right": null,
            "top": null,
            "visibility": null,
            "width": null
          }
        },
        "d0a730242456422bb38ffc4e9a0c40f6": {
          "model_module": "@jupyter-widgets/controls",
          "model_name": "ProgressStyleModel",
          "model_module_version": "1.5.0",
          "state": {
            "_model_module": "@jupyter-widgets/controls",
            "_model_module_version": "1.5.0",
            "_model_name": "ProgressStyleModel",
            "_view_count": null,
            "_view_module": "@jupyter-widgets/base",
            "_view_module_version": "1.2.0",
            "_view_name": "StyleView",
            "bar_color": null,
            "description_width": ""
          }
        },
        "998ffffa3742403d9adef377f9c354fb": {
          "model_module": "@jupyter-widgets/base",
          "model_name": "LayoutModel",
          "model_module_version": "1.2.0",
          "state": {
            "_model_module": "@jupyter-widgets/base",
            "_model_module_version": "1.2.0",
            "_model_name": "LayoutModel",
            "_view_count": null,
            "_view_module": "@jupyter-widgets/base",
            "_view_module_version": "1.2.0",
            "_view_name": "LayoutView",
            "align_content": null,
            "align_items": null,
            "align_self": null,
            "border": null,
            "bottom": null,
            "display": null,
            "flex": null,
            "flex_flow": null,
            "grid_area": null,
            "grid_auto_columns": null,
            "grid_auto_flow": null,
            "grid_auto_rows": null,
            "grid_column": null,
            "grid_gap": null,
            "grid_row": null,
            "grid_template_areas": null,
            "grid_template_columns": null,
            "grid_template_rows": null,
            "height": null,
            "justify_content": null,
            "justify_items": null,
            "left": null,
            "margin": null,
            "max_height": null,
            "max_width": null,
            "min_height": null,
            "min_width": null,
            "object_fit": null,
            "object_position": null,
            "order": null,
            "overflow": null,
            "overflow_x": null,
            "overflow_y": null,
            "padding": null,
            "right": null,
            "top": null,
            "visibility": null,
            "width": null
          }
        },
        "e5507d89c0cf482c8fc7881fd1ca9672": {
          "model_module": "@jupyter-widgets/controls",
          "model_name": "DescriptionStyleModel",
          "model_module_version": "1.5.0",
          "state": {
            "_model_module": "@jupyter-widgets/controls",
            "_model_module_version": "1.5.0",
            "_model_name": "DescriptionStyleModel",
            "_view_count": null,
            "_view_module": "@jupyter-widgets/base",
            "_view_module_version": "1.2.0",
            "_view_name": "StyleView",
            "description_width": ""
          }
        }
      }
    }
  },
  "nbformat": 4,
  "nbformat_minor": 0
}